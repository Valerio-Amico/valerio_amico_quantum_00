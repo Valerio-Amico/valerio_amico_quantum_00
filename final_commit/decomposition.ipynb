{
 "cells": [
  {
   "cell_type": "markdown",
   "metadata": {},
   "source": [
    "# Decomposition\n",
    "## In this notebook we are going to explain step-by-step our optimal decomposition"
   ]
  },
  {
   "cell_type": "markdown",
   "metadata": {},
   "source": [
    "# 1) Trotterization\n",
    "\n",
    "Using the Trotter's formula:\n",
    "\\begin{equation}\n",
    "    e^{(A+B)t} = (e^{A\\frac{t}{N}} e^{B\\frac{t}{N}})^N + o(t^2)\n",
    "    \\tag{1}\n",
    "\\end{equation}\n",
    "\n",
    "we split the hamiltonian into two pieces (instead of 6):\n",
    "$\n",
    "    H=H_1+H_2\n",
    "$\n",
    "$\n",
    "    H_2=\\sigma_x^{(0)}\\otimes \\sigma_x^{(1)} \\otimes I^{(2)}  +  \\sigma_y^{(0)} \\otimes \\sigma_y^{(1)} \\otimes I^{(2)} + \\sigma_z^{(0)} \\otimes \\sigma_z^{(1)} \\otimes I^{(2)}\n",
    "$\n",
    "\n",
    "$\n",
    "    H_1=I^{(0)} \\otimes \\sigma_x^{(1)} \\otimes \\sigma_x^{(2)}  + I^{(0)}  \\otimes  \\sigma_y^{(1)} \\otimes \\sigma_y^{(2)} + I^{(0)}  \\otimes \\sigma_z^{(0)} \\otimes \\sigma_z^{(1)}\n",
    "$\n",
    "\n",
    "so, using eq. 1.\n",
    "$\n",
    "    e^{-iHt}=e^{-i(H_1 + H_2)t} \\simeq [e^{-iH_1\\frac{t}{N}}e^{-iH_2\\frac{t}{N}}]^N\n",
    "$\n",
    "\n",
    "Now, let us study the two exponentials here.\n",
    "We can easily write the matrix representation for $H_1$."
   ]
  },
  {
   "cell_type": "code",
   "execution_count": 97,
   "metadata": {},
   "outputs": [
    {
     "data": {
      "text/latex": [
       "$\\displaystyle \\left[\\begin{matrix}1 & 0 & 0 & 0 & 0 & 0 & 0 & 0\\\\0 & 1 & 0 & 0 & 0 & 0 & 0 & 0\\\\0 & 0 & -1 & 0 & 2 & 0 & 0 & 0\\\\0 & 0 & 0 & -1 & 0 & 2 & 0 & 0\\\\0 & 0 & 2 & 0 & -1 & 0 & 0 & 0\\\\0 & 0 & 0 & 2 & 0 & -1 & 0 & 0\\\\0 & 0 & 0 & 0 & 0 & 0 & 1 & 0\\\\0 & 0 & 0 & 0 & 0 & 0 & 0 & 1\\end{matrix}\\right]$"
      ],
      "text/plain": [
       "Matrix([\n",
       "[1, 0,  0,  0,  0,  0, 0, 0],\n",
       "[0, 1,  0,  0,  0,  0, 0, 0],\n",
       "[0, 0, -1,  0,  2,  0, 0, 0],\n",
       "[0, 0,  0, -1,  0,  2, 0, 0],\n",
       "[0, 0,  2,  0, -1,  0, 0, 0],\n",
       "[0, 0,  0,  2,  0, -1, 0, 0],\n",
       "[0, 0,  0,  0,  0,  0, 1, 0],\n",
       "[0, 0,  0,  0,  0,  0, 0, 1]])"
      ]
     },
     "execution_count": 97,
     "metadata": {},
     "output_type": "execute_result"
    }
   ],
   "source": [
    "import numpy as np\n",
    "from sympy import *\n",
    "from sympy.physics.quantum import TensorProduct as Tp\n",
    "import warnings\n",
    "warnings.filterwarnings('ignore')\n",
    "\n",
    "X = Matrix([[0,1],[1,0]])  #defining the pauli matrices\n",
    "Y = Matrix([[0,-I],[I,0]])\n",
    "Z = Matrix([[1,0],[0,-1]])\n",
    "Id = eye(2)\n",
    "\n",
    "H1 = Tp(X,X,Id) + Tp(Y,Y,Id) + Tp(Z,Z,Id) \n",
    "H1"
   ]
  },
  {
   "cell_type": "markdown",
   "metadata": {},
   "source": [
    "and we can see that it can be write as a new matrix $H_1^{'}$ minus the identity ($H_1 = H_1^{'} - I$): "
   ]
  },
  {
   "cell_type": "code",
   "execution_count": 59,
   "metadata": {},
   "outputs": [
    {
     "data": {
      "text/latex": [
       "$\\displaystyle \\left[\\begin{matrix}2 & 0 & 0 & 0 & 0 & 0 & 0 & 0\\\\0 & 2 & 0 & 0 & 0 & 0 & 0 & 0\\\\0 & 0 & 0 & 0 & 2 & 0 & 0 & 0\\\\0 & 0 & 0 & 0 & 0 & 2 & 0 & 0\\\\0 & 0 & 2 & 0 & 0 & 0 & 0 & 0\\\\0 & 0 & 0 & 2 & 0 & 0 & 0 & 0\\\\0 & 0 & 0 & 0 & 0 & 0 & 2 & 0\\\\0 & 0 & 0 & 0 & 0 & 0 & 0 & 2\\end{matrix}\\right]$"
      ],
      "text/plain": [
       "Matrix([\n",
       "[2, 0, 0, 0, 0, 0, 0, 0],\n",
       "[0, 2, 0, 0, 0, 0, 0, 0],\n",
       "[0, 0, 0, 0, 2, 0, 0, 0],\n",
       "[0, 0, 0, 0, 0, 2, 0, 0],\n",
       "[0, 0, 2, 0, 0, 0, 0, 0],\n",
       "[0, 0, 0, 2, 0, 0, 0, 0],\n",
       "[0, 0, 0, 0, 0, 0, 2, 0],\n",
       "[0, 0, 0, 0, 0, 0, 0, 2]])"
      ]
     },
     "execution_count": 59,
     "metadata": {},
     "output_type": "execute_result"
    }
   ],
   "source": [
    "H1p = (H1 + eye(8))\n",
    "H1p"
   ]
  },
  {
   "cell_type": "markdown",
   "metadata": {},
   "source": [
    "Now we can compute the exponential of it.\n",
    "$\n",
    "    e^{-iH_1\\frac{t}{N}}=e^{-i(H_1^{'}-I)\\frac{t}{N}}=e^{-iH_1^{'}\\frac{t}{N}}e^{iI\\frac{t}{N}}\n",
    "$\n",
    "The Identity brings a global phase to every q-bit, and using the definition of the exponential and the property: $H_1^{'} \\cdot H_1^{'} = Id$, we can get the final matrix for $ e^{-iH_1^{'}\\frac{t}{N}} $. And just visualizing it one can see that it is the tensor product of a 4x4 matrix (m) and a 2x2 identity. It means that it is an operator on the first two qubit as we expected."
   ]
  },
  {
   "cell_type": "code",
   "execution_count": 60,
   "metadata": {},
   "outputs": [
    {
     "data": {
      "text/latex": [
       "$\\displaystyle \\left[\\begin{matrix}e^{- i a} & 0 & 0 & 0\\\\0 & \\cos{\\left(a \\right)} & - i \\sin{\\left(a \\right)} & 0\\\\0 & - i \\sin{\\left(a \\right)} & \\cos{\\left(a \\right)} & 0\\\\0 & 0 & 0 & e^{- i a}\\end{matrix}\\right]$"
      ],
      "text/plain": [
       "Matrix([\n",
       "[exp(-I*a),         0,         0,         0],\n",
       "[        0,    cos(a), -I*sin(a),         0],\n",
       "[        0, -I*sin(a),    cos(a),         0],\n",
       "[        0,         0,         0, exp(-I*a)]])"
      ]
     },
     "execution_count": 60,
     "metadata": {},
     "output_type": "execute_result"
    }
   ],
   "source": [
    "a = symbols(\"a\")\n",
    "\n",
    "m = Matrix([\n",
    "    [exp(-I*a),0,0,0],\n",
    "    [0,cos(a),-I*sin(a),0],\n",
    "    [0,-I*sin(a),cos(a),0],\n",
    "    [0,0,0,exp(-I*a)]\n",
    "])\n",
    "m"
   ]
  },
  {
   "cell_type": "code",
   "execution_count": 61,
   "metadata": {},
   "outputs": [
    {
     "data": {
      "text/latex": [
       "$\\displaystyle \\left[\\begin{matrix}e^{- i a} & 0 & 0 & 0 & 0 & 0 & 0 & 0\\\\0 & e^{- i a} & 0 & 0 & 0 & 0 & 0 & 0\\\\0 & 0 & \\cos{\\left(a \\right)} & 0 & - i \\sin{\\left(a \\right)} & 0 & 0 & 0\\\\0 & 0 & 0 & \\cos{\\left(a \\right)} & 0 & - i \\sin{\\left(a \\right)} & 0 & 0\\\\0 & 0 & - i \\sin{\\left(a \\right)} & 0 & \\cos{\\left(a \\right)} & 0 & 0 & 0\\\\0 & 0 & 0 & - i \\sin{\\left(a \\right)} & 0 & \\cos{\\left(a \\right)} & 0 & 0\\\\0 & 0 & 0 & 0 & 0 & 0 & e^{- i a} & 0\\\\0 & 0 & 0 & 0 & 0 & 0 & 0 & e^{- i a}\\end{matrix}\\right]$"
      ],
      "text/plain": [
       "Matrix([\n",
       "[exp(-I*a),         0,         0,         0,         0,         0,         0,         0],\n",
       "[        0, exp(-I*a),         0,         0,         0,         0,         0,         0],\n",
       "[        0,         0,    cos(a),         0, -I*sin(a),         0,         0,         0],\n",
       "[        0,         0,         0,    cos(a),         0, -I*sin(a),         0,         0],\n",
       "[        0,         0, -I*sin(a),         0,    cos(a),         0,         0,         0],\n",
       "[        0,         0,         0, -I*sin(a),         0,    cos(a),         0,         0],\n",
       "[        0,         0,         0,         0,         0,         0, exp(-I*a),         0],\n",
       "[        0,         0,         0,         0,         0,         0,         0, exp(-I*a)]])"
      ]
     },
     "execution_count": 61,
     "metadata": {},
     "output_type": "execute_result"
    }
   ],
   "source": [
    "exp_H1p = Tp(m, Id)\n",
    "exp_H1p"
   ]
  },
  {
   "cell_type": "markdown",
   "metadata": {},
   "source": [
    "where $a=2t/N$\n",
    "\n",
    "following the same reasoning for $H_2$ one can easily find it. Than again we define $H_2 = H_2^{'} - I$, and we exponentiate it."
   ]
  },
  {
   "cell_type": "code",
   "execution_count": 62,
   "metadata": {},
   "outputs": [
    {
     "data": {
      "text/latex": [
       "$\\displaystyle \\left[\\begin{matrix}e^{- i a} & 0 & 0 & 0 & 0 & 0 & 0 & 0\\\\0 & \\cos{\\left(a \\right)} & - i \\sin{\\left(a \\right)} & 0 & 0 & 0 & 0 & 0\\\\0 & - i \\sin{\\left(a \\right)} & \\cos{\\left(a \\right)} & 0 & 0 & 0 & 0 & 0\\\\0 & 0 & 0 & e^{- i a} & 0 & 0 & 0 & 0\\\\0 & 0 & 0 & 0 & e^{- i a} & 0 & 0 & 0\\\\0 & 0 & 0 & 0 & 0 & \\cos{\\left(a \\right)} & - i \\sin{\\left(a \\right)} & 0\\\\0 & 0 & 0 & 0 & 0 & - i \\sin{\\left(a \\right)} & \\cos{\\left(a \\right)} & 0\\\\0 & 0 & 0 & 0 & 0 & 0 & 0 & e^{- i a}\\end{matrix}\\right]$"
      ],
      "text/plain": [
       "Matrix([\n",
       "[exp(-I*a),         0,         0,         0,         0,         0,         0,         0],\n",
       "[        0,    cos(a), -I*sin(a),         0,         0,         0,         0,         0],\n",
       "[        0, -I*sin(a),    cos(a),         0,         0,         0,         0,         0],\n",
       "[        0,         0,         0, exp(-I*a),         0,         0,         0,         0],\n",
       "[        0,         0,         0,         0, exp(-I*a),         0,         0,         0],\n",
       "[        0,         0,         0,         0,         0,    cos(a), -I*sin(a),         0],\n",
       "[        0,         0,         0,         0,         0, -I*sin(a),    cos(a),         0],\n",
       "[        0,         0,         0,         0,         0,         0,         0, exp(-I*a)]])"
      ]
     },
     "execution_count": 62,
     "metadata": {},
     "output_type": "execute_result"
    }
   ],
   "source": [
    "exp_H2p = Tp(Id,m)\n",
    "exp_H2p"
   ]
  },
  {
   "cell_type": "markdown",
   "metadata": {},
   "source": [
    "## So, the final form of a trotter step is the following:\n",
    "\n",
    "$\n",
    "    e^{-iHt}=e^{-i(H_1 + H_2)t} \\simeq [e^{-iH_1\\frac{t}{N}}e^{-iH_2\\frac{t}{N}}]^N\n",
    "$\n",
    "\n",
    "$\n",
    "    T_{step}=e^{-iH_1\\frac{t}{N}}e^{-iH_2\\frac{t}{N}}=\n",
    "    e^{-i(H_1^{'}-I)\\frac{t}{N}}e^{-i(H_2^{'}-I)\\frac{t}{N}}=\n",
    "    e^{-iH_1^{'}\\frac{t}{N}}e^{iI\\frac{t}{N}}e^{-iH_2^{'}\\frac{t}{N}} e^{iI\\frac{t}{N}}=\n",
    "$\n",
    "$\n",
    "   =(e^{i\\frac{2t}{N}}\\cdot I)e^{-iH_1^{'}\\frac{t}{N}}e^{-iH_2^{'}\\frac{t}{N}}\n",
    "$"
   ]
  },
  {
   "cell_type": "code",
   "execution_count": 63,
   "metadata": {},
   "outputs": [
    {
     "data": {
      "text/latex": [
       "$\\displaystyle \\left[\\begin{matrix}e^{- i a} & 0 & 0 & 0 & 0 & 0 & 0 & 0\\\\0 & \\cos{\\left(a \\right)} & - i \\sin{\\left(a \\right)} & 0 & 0 & 0 & 0 & 0\\\\0 & - i e^{i a} \\sin{\\left(a \\right)} \\cos{\\left(a \\right)} & e^{i a} \\cos^{2}{\\left(a \\right)} & 0 & - i \\sin{\\left(a \\right)} & 0 & 0 & 0\\\\0 & 0 & 0 & \\cos{\\left(a \\right)} & 0 & - i e^{i a} \\sin{\\left(a \\right)} \\cos{\\left(a \\right)} & - e^{i a} \\sin^{2}{\\left(a \\right)} & 0\\\\0 & - e^{i a} \\sin^{2}{\\left(a \\right)} & - i e^{i a} \\sin{\\left(a \\right)} \\cos{\\left(a \\right)} & 0 & \\cos{\\left(a \\right)} & 0 & 0 & 0\\\\0 & 0 & 0 & - i \\sin{\\left(a \\right)} & 0 & e^{i a} \\cos^{2}{\\left(a \\right)} & - i e^{i a} \\sin{\\left(a \\right)} \\cos{\\left(a \\right)} & 0\\\\0 & 0 & 0 & 0 & 0 & - i \\sin{\\left(a \\right)} & \\cos{\\left(a \\right)} & 0\\\\0 & 0 & 0 & 0 & 0 & 0 & 0 & e^{- i a}\\end{matrix}\\right]$"
      ],
      "text/plain": [
       "Matrix([\n",
       "[exp(-I*a),                         0,                         0,         0,         0,                         0,                         0,         0],\n",
       "[        0,                    cos(a),                 -I*sin(a),         0,         0,                         0,                         0,         0],\n",
       "[        0, -I*exp(I*a)*sin(a)*cos(a),        exp(I*a)*cos(a)**2,         0, -I*sin(a),                         0,                         0,         0],\n",
       "[        0,                         0,                         0,    cos(a),         0, -I*exp(I*a)*sin(a)*cos(a),       -exp(I*a)*sin(a)**2,         0],\n",
       "[        0,       -exp(I*a)*sin(a)**2, -I*exp(I*a)*sin(a)*cos(a),         0,    cos(a),                         0,                         0,         0],\n",
       "[        0,                         0,                         0, -I*sin(a),         0,        exp(I*a)*cos(a)**2, -I*exp(I*a)*sin(a)*cos(a),         0],\n",
       "[        0,                         0,                         0,         0,         0,                 -I*sin(a),                    cos(a),         0],\n",
       "[        0,                         0,                         0,         0,         0,                         0,                         0, exp(-I*a)]])"
      ]
     },
     "execution_count": 63,
     "metadata": {},
     "output_type": "execute_result"
    }
   ],
   "source": [
    "Trotter_Step =  exp_H1p * exp_H2p * exp(I*a)\n",
    "Trotter_Step"
   ]
  },
  {
   "cell_type": "markdown",
   "metadata": {},
   "source": [
    "# 2) Single Column Decomposition\n",
    "\n",
    "If the initial state is not a superposition of states is possible to consider only the column of the matrix associated with this state. Our initial state is $|110>$ so we are in this situation. Actually we can generalize this solution to every initial state that is not a superposition of state with different magnetization.\n",
    "\n",
    "Cause of the magnetization has to preserve during the evolution we can define the general 2-qubit operator that does that:"
   ]
  },
  {
   "cell_type": "code",
   "execution_count": 64,
   "metadata": {},
   "outputs": [
    {
     "data": {
      "text/latex": [
       "$\\displaystyle \\left[\\begin{matrix}e^{1.0 i \\left(- f_{1} - r_{1}\\right)} & 0 & 0 & 0\\\\0 & e^{- 1.0 i \\left(f_{1} + r_{1}\\right)} \\cos{\\left(a_{1} \\right)} & - e^{- 1.0 i \\left(f_{1} - r_{1}\\right)} \\sin{\\left(a_{1} \\right)} & 0\\\\0 & e^{1.0 i \\left(f_{1} - r_{1}\\right)} \\sin{\\left(a_{1} \\right)} & e^{1.0 i \\left(f_{1} + r_{1}\\right)} \\cos{\\left(a_{1} \\right)} & 0\\\\0 & 0 & 0 & e^{1.0 i \\left(f_{1} + r_{1}\\right)}\\end{matrix}\\right]$"
      ],
      "text/plain": [
       "Matrix([\n",
       "[exp(1.0*I*(-f1 - r1)),                             0,                              0,                    0],\n",
       "[                    0, exp(-1.0*I*(f1 + r1))*cos(a1), -exp(-1.0*I*(f1 - r1))*sin(a1),                    0],\n",
       "[                    0,  exp(1.0*I*(f1 - r1))*sin(a1),   exp(1.0*I*(f1 + r1))*cos(a1),                    0],\n",
       "[                    0,                             0,                              0, exp(1.0*I*(f1 + r1))]])"
      ]
     },
     "execution_count": 64,
     "metadata": {},
     "output_type": "execute_result"
    }
   ],
   "source": [
    "a1, r1, f1 = symbols(\"a1 r1 f1\")\n",
    "\n",
    "H = Matrix([ \n",
    "    [1/sqrt(2),1/sqrt(2)],\n",
    "    [1/sqrt(2),-1/sqrt(2)]\n",
    "])\n",
    "\n",
    "cx_01= Matrix([\n",
    "    [1,0,0,0],\n",
    "    [0,0,0,1],\n",
    "    [0,0,1,0],\n",
    "    [0,1,0,0]\n",
    "])\n",
    "\n",
    "def ry(alpha):   # generic ry gate\n",
    "    return Matrix([ \n",
    "        [cos(alpha/2),-sin(alpha/2)],\n",
    "        [sin(alpha/2),cos(alpha/2)]\n",
    "    ])\n",
    "\n",
    "def rz(alpha):   # generic rz gate\n",
    "    return Matrix([ \n",
    "        [exp(-1j*(alpha/2)),0],\n",
    "        [0,exp(1j*(alpha/2))]\n",
    "    ])\n",
    "\n",
    "M1 = Matrix(simplify(Tp(rz(2*f1),Id)*Tp(Id,H)*cx_01*Tp(ry(a1),ry(a1))*cx_01*Tp(Id,H)*Tp(rz(2*r1),Id)))\n",
    "M1"
   ]
  },
  {
   "cell_type": "markdown",
   "metadata": {},
   "source": [
    "Now we have to simulate interction between 3 qubit, so we have to apply this basic operation two times at least.\n",
    "Here we compute the operator obtained applying the M1 operator on the qubits 0 and 1 and than M2 on qubits 1 and 2.\n",
    "\n",
    "M1 and M2 operators have the same form but they are defined with different parameters."
   ]
  },
  {
   "cell_type": "code",
   "execution_count": 136,
   "metadata": {},
   "outputs": [
    {
     "data": {
      "text/latex": [
       "$\\displaystyle \\left[\\begin{matrix}e^{1.0 i \\left(- f_{1} - r_{1}\\right)} e^{1.0 i \\left(- f_{2} - r_{2}\\right)} & 0 & 0 & 0 & 0 & 0 & 0 & 0\\\\0 & e^{- 1.0 i \\left(f_{1} + r_{1}\\right)} e^{1.0 i \\left(- f_{2} - r_{2}\\right)} \\cos{\\left(a_{1} \\right)} & - e^{- 1.0 i \\left(f_{1} - r_{1}\\right)} e^{1.0 i \\left(- f_{2} - r_{2}\\right)} \\sin{\\left(a_{1} \\right)} & 0 & 0 & 0 & 0 & 0\\\\0 & e^{1.0 i \\left(f_{1} - r_{1}\\right)} e^{- 1.0 i \\left(f_{2} + r_{2}\\right)} \\sin{\\left(a_{1} \\right)} \\cos{\\left(a_{2} \\right)} & e^{1.0 i \\left(f_{1} + r_{1}\\right)} e^{- 1.0 i \\left(f_{2} + r_{2}\\right)} \\cos{\\left(a_{1} \\right)} \\cos{\\left(a_{2} \\right)} & 0 & - e^{1.0 i \\left(- f_{1} - r_{1}\\right)} e^{- 1.0 i \\left(f_{2} - r_{2}\\right)} \\sin{\\left(a_{2} \\right)} & 0 & 0 & 0\\\\0 & 0 & 0 & e^{1.0 i \\left(f_{1} + r_{1}\\right)} e^{- 1.0 i \\left(f_{2} + r_{2}\\right)} \\cos{\\left(a_{2} \\right)} & 0 & - e^{- 1.0 i \\left(f_{1} + r_{1}\\right)} e^{- 1.0 i \\left(f_{2} - r_{2}\\right)} \\sin{\\left(a_{2} \\right)} \\cos{\\left(a_{1} \\right)} & e^{- 1.0 i \\left(f_{1} - r_{1}\\right)} e^{- 1.0 i \\left(f_{2} - r_{2}\\right)} \\sin{\\left(a_{1} \\right)} \\sin{\\left(a_{2} \\right)} & 0\\\\0 & e^{1.0 i \\left(f_{1} - r_{1}\\right)} e^{1.0 i \\left(f_{2} - r_{2}\\right)} \\sin{\\left(a_{1} \\right)} \\sin{\\left(a_{2} \\right)} & e^{1.0 i \\left(f_{1} + r_{1}\\right)} e^{1.0 i \\left(f_{2} - r_{2}\\right)} \\sin{\\left(a_{2} \\right)} \\cos{\\left(a_{1} \\right)} & 0 & e^{1.0 i \\left(- f_{1} - r_{1}\\right)} e^{1.0 i \\left(f_{2} + r_{2}\\right)} \\cos{\\left(a_{2} \\right)} & 0 & 0 & 0\\\\0 & 0 & 0 & e^{1.0 i \\left(f_{1} + r_{1}\\right)} e^{1.0 i \\left(f_{2} - r_{2}\\right)} \\sin{\\left(a_{2} \\right)} & 0 & e^{- 1.0 i \\left(f_{1} + r_{1}\\right)} e^{1.0 i \\left(f_{2} + r_{2}\\right)} \\cos{\\left(a_{1} \\right)} \\cos{\\left(a_{2} \\right)} & - e^{- 1.0 i \\left(f_{1} - r_{1}\\right)} e^{1.0 i \\left(f_{2} + r_{2}\\right)} \\sin{\\left(a_{1} \\right)} \\cos{\\left(a_{2} \\right)} & 0\\\\0 & 0 & 0 & 0 & 0 & e^{1.0 i \\left(f_{1} - r_{1}\\right)} e^{1.0 i \\left(f_{2} + r_{2}\\right)} \\sin{\\left(a_{1} \\right)} & e^{1.0 i \\left(f_{1} + r_{1}\\right)} e^{1.0 i \\left(f_{2} + r_{2}\\right)} \\cos{\\left(a_{1} \\right)} & 0\\\\0 & 0 & 0 & 0 & 0 & 0 & 0 & e^{1.0 i \\left(f_{1} + r_{1}\\right)} e^{1.0 i \\left(f_{2} + r_{2}\\right)}\\end{matrix}\\right]$"
      ],
      "text/plain": [
       "Matrix([\n",
       "[exp(1.0*I*(-f1 - r1))*exp(1.0*I*(-f2 - r2)),                                                          0,                                                          0,                                                  0,                                                    0,                                                            0,                                                           0,                                         0],\n",
       "[                                          0,        exp(-1.0*I*(f1 + r1))*exp(1.0*I*(-f2 - r2))*cos(a1),       -exp(-1.0*I*(f1 - r1))*exp(1.0*I*(-f2 - r2))*sin(a1),                                                  0,                                                    0,                                                            0,                                                           0,                                         0],\n",
       "[                                          0, exp(1.0*I*(f1 - r1))*exp(-1.0*I*(f2 + r2))*sin(a1)*cos(a2), exp(1.0*I*(f1 + r1))*exp(-1.0*I*(f2 + r2))*cos(a1)*cos(a2),                                                  0, -exp(1.0*I*(-f1 - r1))*exp(-1.0*I*(f2 - r2))*sin(a2),                                                            0,                                                           0,                                         0],\n",
       "[                                          0,                                                          0,                                                          0, exp(1.0*I*(f1 + r1))*exp(-1.0*I*(f2 + r2))*cos(a2),                                                    0, -exp(-1.0*I*(f1 + r1))*exp(-1.0*I*(f2 - r2))*sin(a2)*cos(a1), exp(-1.0*I*(f1 - r1))*exp(-1.0*I*(f2 - r2))*sin(a1)*sin(a2),                                         0],\n",
       "[                                          0,  exp(1.0*I*(f1 - r1))*exp(1.0*I*(f2 - r2))*sin(a1)*sin(a2),  exp(1.0*I*(f1 + r1))*exp(1.0*I*(f2 - r2))*sin(a2)*cos(a1),                                                  0,   exp(1.0*I*(-f1 - r1))*exp(1.0*I*(f2 + r2))*cos(a2),                                                            0,                                                           0,                                         0],\n",
       "[                                          0,                                                          0,                                                          0,  exp(1.0*I*(f1 + r1))*exp(1.0*I*(f2 - r2))*sin(a2),                                                    0,   exp(-1.0*I*(f1 + r1))*exp(1.0*I*(f2 + r2))*cos(a1)*cos(a2), -exp(-1.0*I*(f1 - r1))*exp(1.0*I*(f2 + r2))*sin(a1)*cos(a2),                                         0],\n",
       "[                                          0,                                                          0,                                                          0,                                                  0,                                                    0,            exp(1.0*I*(f1 - r1))*exp(1.0*I*(f2 + r2))*sin(a1),           exp(1.0*I*(f1 + r1))*exp(1.0*I*(f2 + r2))*cos(a1),                                         0],\n",
       "[                                          0,                                                          0,                                                          0,                                                  0,                                                    0,                                                            0,                                                           0, exp(1.0*I*(f1 + r1))*exp(1.0*I*(f2 + r2))]])"
      ]
     },
     "execution_count": 136,
     "metadata": {},
     "output_type": "execute_result"
    }
   ],
   "source": [
    "a2, r2, f2 = symbols(\"a2 r2 f2\")\n",
    "M2 = Matrix(simplify(Tp(rz(2*f2),Id)*Tp(Id,H)*cx_01*Tp(ry(a2),ry(a2))*cx_01*Tp(Id,H)*Tp(rz(2*r2),Id)))\n",
    "\n",
    "Ubest = Tp(M2, Id) * Tp(Id, M1)\n",
    "Ubest"
   ]
  },
  {
   "cell_type": "markdown",
   "metadata": {},
   "source": [
    "Perfect, now we have a matrix with 6 parameters and we can write 6 equations to impose the equality between the elements of the $7^{th}$ column (which is the column applied to the initial state $|110>$) of the latter matrix, $U_{best}$,and the numerical evaluation of the $7^{th}$ row of $(T_{step})^n$ matrix, $U$."
   ]
  },
  {
   "cell_type": "markdown",
   "metadata": {},
   "source": [
    "So, the $(T_{step})^n$ matrix is easly computing here:"
   ]
  },
  {
   "cell_type": "code",
   "execution_count": 163,
   "metadata": {},
   "outputs": [
    {
     "data": {
      "text/latex": [
       "$\\displaystyle \\left[\\begin{matrix}-0.5 - 0.866 i & 0 & 0 & 0 & 0 & 0 & 0 & 0\\\\0 & 0.2497 - 0.4328 i & 0.01075 - 0.01895 i & 0 & -0.7604 - 0.4143 i & 0 & 0 & 0\\\\0 & -0.01084 + 0.01846 i & -0.4999 - 0.8655 i & 0 & 0.01075 - 0.01895 i & 0 & 0 & 0\\\\0 & 0 & 0 & 0.2497 - 0.4328 i & 0 & -0.01084 + 0.01846 i & -0.7388 - 0.4517 i & 0\\\\0 & -0.7388 - 0.4517 i & -0.01084 + 0.01846 i & 0 & 0.2497 - 0.4328 i & 0 & 0 & 0\\\\0 & 0 & 0 & 0.01075 - 0.01895 i & 0 & -0.4999 - 0.8655 i & -0.01084 + 0.01846 i & 0\\\\0 & 0 & 0 & -0.7604 - 0.4143 i & 0 & 0.01075 - 0.01895 i & 0.2497 - 0.4328 i & 0\\\\0 & 0 & 0 & 0 & 0 & 0 & 0 & -0.5 - 0.866 i\\end{matrix}\\right]$"
      ],
      "text/plain": [
       "Matrix([\n",
       "[-0.5 - 0.866*I,                    0,                    0,                   0,                   0,                    0,                    0,              0],\n",
       "[             0,    0.2497 - 0.4328*I,  0.01075 - 0.01895*I,                   0,  -0.7604 - 0.4143*I,                    0,                    0,              0],\n",
       "[             0, -0.01084 + 0.01846*I,   -0.4999 - 0.8655*I,                   0, 0.01075 - 0.01895*I,                    0,                    0,              0],\n",
       "[             0,                    0,                    0,   0.2497 - 0.4328*I,                   0, -0.01084 + 0.01846*I,   -0.7388 - 0.4517*I,              0],\n",
       "[             0,   -0.7388 - 0.4517*I, -0.01084 + 0.01846*I,                   0,   0.2497 - 0.4328*I,                    0,                    0,              0],\n",
       "[             0,                    0,                    0, 0.01075 - 0.01895*I,                   0,   -0.4999 - 0.8655*I, -0.01084 + 0.01846*I,              0],\n",
       "[             0,                    0,                    0,  -0.7604 - 0.4143*I,                   0,  0.01075 - 0.01895*I,    0.2497 - 0.4328*I,              0],\n",
       "[             0,                    0,                    0,                   0,                   0,                    0,                    0, -0.5 - 0.866*I]])"
      ]
     },
     "execution_count": 163,
     "metadata": {},
     "output_type": "execute_result"
    }
   ],
   "source": [
    "steps = 42\n",
    "time = np.pi/3\n",
    "U = eye(8)\n",
    "\n",
    "for _ in range(steps):\n",
    "    U=U*Trotter_Step\n",
    "    U=U.subs(a,2*time/steps)\n",
    "    U=U.evalf(40)\n",
    "\n",
    "U.evalf(4)"
   ]
  },
  {
   "cell_type": "markdown",
   "metadata": {},
   "source": [
    "We impose the following equation in order to have the same values on the $7^{th}$ column of both the matrices:\n",
    "$$\n",
    "\\begin{cases}\n",
    "b_0=im(U_{4,7}) \\\\\n",
    "b_1=im(U_{6,7}) \\\\\n",
    "b_2 = im(U_{7,7}) \\\\\n",
    "\\alpha_0=re(U_{4,7}) \\\\\n",
    "\\alpha_1=re(U_{6,7}) \\\\\n",
    "\\alpha_2=re(U_{7,7}) \\\\\n",
    "\\end{cases}\n",
    "$$\n",
    "$$\n",
    "\\begin{cases}\n",
    "-f_1+r_1-f_2+r_2 = atan(\\frac{b_0}{\\alpha_0}) =x_0 \\\\\n",
    "-\\pi-f_1+r_1+f_2+r_2=atan(\\frac{b_1}{\\alpha_1}) = x_1 \\\\\n",
    "f_1+r_1+f_2+r_2=atan(\\frac{b_2}{\\alpha_2}) = x_2 \\\\\n",
    "sin(a_1)sin(a_2)=|U_{4, 7}|=\\sqrt{\\alpha_0^2+b_0^2} \\\\\n",
    "sin(a_1)cos(a_2)=|U_{6, 7}|=\\sqrt{\\alpha_1^2+b_1^2} \\\\\n",
    "cos(a_1)=|U_{7, 7}|=\\sqrt{\\alpha_2^2+b_2^2} \\\\\n",
    "\\end{cases}\n",
    "$$\n",
    "solving them one can find:\n",
    "$$\n",
    "\\begin{cases}\n",
    "r_1 = \\frac{x_0+x_2}{2} \\\\\n",
    "r_2 = 0 \\\\\n",
    "f_2 = \\frac{x_2-x_1-\\pi}{2} \\\\\n",
    "f_1 = -\\frac{x_2-x_0}{2} + f_2 \\\\\n",
    "a_1=acos(\\sqrt{\\alpha_2^2+b_2^2}) \\\\\n",
    "a_2=acos(\\frac{\\sqrt{\\alpha_1^2+b_1^2}}{sin(a_1)}) \\\\\n",
    "\\end{cases}\n",
    "$$\n"
   ]
  },
  {
   "cell_type": "markdown",
   "metadata": {},
   "source": [
    "## 3) Decomposition of $M_1$ and $M_2$ operators"
   ]
  },
  {
   "cell_type": "markdown",
   "metadata": {},
   "source": [
    "One can easly see that the M matrix has a kind of $ry$ sigle qubit rotation in the 2x2 block in the middle. \n",
    "Using the property of c-not to be a row or column moves if composed to another operator is possible to find the matrix (without the phases) we are looking for wit only 2 c-not. Using also 2 $rz$ rotations to fix the phasis is possible to get the final decomposition of $M_1$ and $M_2$."
   ]
  },
  {
   "cell_type": "code",
   "execution_count": 164,
   "metadata": {},
   "outputs": [],
   "source": [
    "def angolo(x):\n",
    "    alpha=re(x)\n",
    "    beta=im(x)\n",
    "    if alpha>0:\n",
    "        return atan(beta/alpha)  \n",
    "    if alpha<0:\n",
    "        if beta>=0:\n",
    "            return atan(beta/alpha)+np.pi\n",
    "        else:\n",
    "            return atan(beta/alpha)-np.pi\n",
    "    if alpha==0:\n",
    "        if beta>0:\n",
    "            return np.pi/2\n",
    "        else:\n",
    "            return -np.pi/2\n",
    "    return 0"
   ]
  },
  {
   "cell_type": "code",
   "execution_count": 165,
   "metadata": {},
   "outputs": [
    {
     "data": {
      "image/png": "[encoded data removed]",
      "text/plain": [
       "<Figure size 426.975x144.48 with 1 Axes>"
      ]
     },
     "execution_count": 165,
     "metadata": {},
     "output_type": "execute_result"
    }
   ],
   "source": [
    "from qiskit import Aer, assemble, QuantumCircuit, QuantumRegister, ClassicalRegister, IBMQ, transpile, execute\n",
    "\n",
    "r1=float(angolo(U[3*8+6])+angolo(U[6*8+6]))/2\n",
    "r2=0\n",
    "f1=float(angolo(U[6*8+6])-angolo(U[5*8+6])-np.pi)/2\n",
    "f2=float((angolo(U[6*8+6])-angolo(U[3*8+6]))/2-f1)\n",
    "a1=float(acos(abs(U[6*8+6])))\n",
    "a2=float(acos(abs(U[5*8+6])/sin(a1)))\n",
    "\n",
    "qr1=QuantumRegister(2)\n",
    "M1_qc=QuantumCircuit(qr1, name=\"M1\")\n",
    "\n",
    "M1_qc.rz(2*r1,qr1[1])\n",
    "M1_qc.h(qr1[0])\n",
    "M1_qc.cx(qr1[0],qr1[1])\n",
    "M1_qc.ry(a1,qr1)\n",
    "M1_qc.cx(qr1[0],qr1[1])\n",
    "M1_qc.h(qr1[0])\n",
    "M1_qc.rz(2*f1,qr1[1])\n",
    "\n",
    "M1_qc.draw(output=\"mpl\")"
   ]
  },
  {
   "cell_type": "code",
   "execution_count": 166,
   "metadata": {},
   "outputs": [
    {
     "data": {
      "image/png": "[encoded data removed]",
      "text/plain": [
       "<Figure size 427.121x144.48 with 1 Axes>"
      ]
     },
     "execution_count": 166,
     "metadata": {},
     "output_type": "execute_result"
    }
   ],
   "source": [
    "qr2=QuantumRegister(2)\n",
    "M2_qc=QuantumCircuit(qr2, name=\"M2\")\n",
    "\n",
    "#M2_qc.rz(2*r2,qr2[1])\n",
    "M2_qc.h(qr2[0])\n",
    "M2_qc.cx(qr2[0],qr2[1])\n",
    "M2_qc.ry(a2,qr2)\n",
    "M2_qc.cx(qr2[0],qr2[1])\n",
    "M2_qc.h(qr2[0])\n",
    "M2_qc.rz(2*f2,qr2[1])\n",
    "\n",
    "M2_qc.draw(output=\"mpl\")"
   ]
  },
  {
   "cell_type": "markdown",
   "metadata": {},
   "source": [
    "## Buiding the final evolution cirquit"
   ]
  },
  {
   "cell_type": "code",
   "execution_count": 167,
   "metadata": {},
   "outputs": [
    {
     "data": {
      "image/png": "[encoded data removed]",
      "text/plain": [
       "<Figure size 206.997x204.68 with 1 Axes>"
      ]
     },
     "execution_count": 167,
     "metadata": {},
     "output_type": "execute_result"
    }
   ],
   "source": [
    "qr = QuantumRegister(3 ,name=\"q\")\n",
    "qc = QuantumCircuit(qr, name=\"U\")\n",
    "\n",
    "qc.append(M1_qc, [qr[0],qr[1]])\n",
    "qc.append(M2_qc, [qr[1],qr[2]])\n",
    "\n",
    "qc.draw(output=\"mpl\")"
   ]
  },
  {
   "cell_type": "code",
   "execution_count": 168,
   "metadata": {},
   "outputs": [],
   "source": [
    "def matrix_from_cirquit(qc, phase=0):\n",
    "    backend = Aer.get_backend('unitary_simulator')\n",
    "    job = execute(qc, backend, shots=32000)\n",
    "    result = job.result()\n",
    "    A=result.get_unitary(qc, decimals=10)*np.exp(1j*phase)\n",
    "    return Matrix(A)"
   ]
  },
  {
   "cell_type": "markdown",
   "metadata": {},
   "source": [
    "You can see that the $7^{th}$ columns are equivalent"
   ]
  },
  {
   "cell_type": "code",
   "execution_count": 169,
   "metadata": {},
   "outputs": [
    {
     "data": {
      "text/latex": [
       "$\\displaystyle \\left[\\begin{matrix}0.4997210707 + 0.8661863838 i & 0 & 0 & 0 & 0 & 0 & 0 & 0\\\\0 & 0.2496726584 + 0.4327675374 i & 0.7390537474 + 0.4518576996 i & 0 & 0 & 0 & 0 & 0\\\\0 & 0.0108447094 + 0.01846178 i & -0.0105863643 - 0.006359069 i & 0 & -0.4995683941 - 0.8659217434 i & 0 & 0 & 0\\\\0 & 0 & 0 & -0.021188661 - 0.0127277082 i & 0 & -0.2495963775 - 0.4326353167 i & -0.738827949 - 0.4517196464 i & 0\\\\0 & -0.738827949 + 0.4517196464 i & 0.2495963775 - 0.4326353167 i & 0 & -0.021188661 + 0.0127277082 i & 0 & 0 & 0\\\\0 & 0 & 0 & 0.4995683941 - 0.8659217434 i & 0 & -0.0105863643 + 0.006359069 i & -0.0108447094 + 0.01846178 i & 0\\\\0 & 0 & 0 & 0 & 0 & -0.7390537474 + 0.4518576996 i & 0.2496726584 - 0.4327675374 i & 0\\\\0 & 0 & 0 & 0 & 0 & 0 & 0 & 0.4997210707 - 0.8661863838 i\\end{matrix}\\right]$"
      ],
      "text/plain": [
       "Matrix([\n",
       "[0.4997210707 + 0.8661863838*I,                             0,                             0,                             0,                              0,                              0,                             0,                             0],\n",
       "[                            0, 0.2496726584 + 0.4327675374*I, 0.7390537474 + 0.4518576996*I,                             0,                              0,                              0,                             0,                             0],\n",
       "[                            0,   0.0108447094 + 0.01846178*I, -0.0105863643 - 0.006359069*I,                             0, -0.4995683941 - 0.8659217434*I,                              0,                             0,                             0],\n",
       "[                            0,                             0,                             0, -0.021188661 - 0.0127277082*I,                              0, -0.2495963775 - 0.4326353167*I, -0.738827949 - 0.4517196464*I,                             0],\n",
       "[                            0, -0.738827949 + 0.4517196464*I, 0.2495963775 - 0.4326353167*I,                             0,  -0.021188661 + 0.0127277082*I,                              0,                             0,                             0],\n",
       "[                            0,                             0,                             0, 0.4995683941 - 0.8659217434*I,                              0,  -0.0105863643 + 0.006359069*I,  -0.0108447094 + 0.01846178*I,                             0],\n",
       "[                            0,                             0,                             0,                             0,                              0, -0.7390537474 + 0.4518576996*I, 0.2496726584 - 0.4327675374*I,                             0],\n",
       "[                            0,                             0,                             0,                             0,                              0,                              0,                             0, 0.4997210707 - 0.8661863838*I]])"
      ]
     },
     "execution_count": 169,
     "metadata": {},
     "output_type": "execute_result"
    }
   ],
   "source": [
    "matrix_from_cirquit(qc)"
   ]
  },
  {
   "cell_type": "code",
   "execution_count": 170,
   "metadata": {},
   "outputs": [
    {
     "data": {
      "text/latex": [
       "$\\displaystyle \\left[\\begin{matrix}-0.5 - 0.8660254038 i & 0 & 0 & 0 & 0 & 0 & 0 & 0\\\\0 & 0.2496726584 - 0.4327675374 i & 0.01075401052 - 0.01894830032 i & 0 & -0.7604266689 - 0.4143095661 i & 0 & 0 & 0\\\\0 & -0.01084470943 + 0.01846178001 i & -0.4999093011 - 0.8655388835 i & 0 & 0.01075401052 - 0.01894830032 i & 0 & 0 & 0\\\\0 & 0 & 0 & 0.2496726584 - 0.4327675374 i & 0 & -0.01084470943 + 0.01846178001 i & -0.738827949 - 0.4517196464 i & 0\\\\0 & -0.738827949 - 0.4517196464 i & -0.01084470943 + 0.01846178001 i & 0 & 0.2496726584 - 0.4327675374 i & 0 & 0 & 0\\\\0 & 0 & 0 & 0.01075401052 - 0.01894830032 i & 0 & -0.4999093011 - 0.8655388835 i & -0.01084470943 + 0.01846178001 i & 0\\\\0 & 0 & 0 & -0.7604266689 - 0.4143095661 i & 0 & 0.01075401052 - 0.01894830032 i & 0.2496726584 - 0.4327675374 i & 0\\\\0 & 0 & 0 & 0 & 0 & 0 & 0 & -0.5 - 0.8660254038 i\\end{matrix}\\right]$"
      ],
      "text/plain": [
       "Matrix([\n",
       "[-0.5 - 0.8660254038*I,                                0,                                0,                               0,                               0,                                0,                                0,                     0],\n",
       "[                    0,    0.2496726584 - 0.4327675374*I,  0.01075401052 - 0.01894830032*I,                               0,  -0.7604266689 - 0.4143095661*I,                                0,                                0,                     0],\n",
       "[                    0, -0.01084470943 + 0.01846178001*I,   -0.4999093011 - 0.8655388835*I,                               0, 0.01075401052 - 0.01894830032*I,                                0,                                0,                     0],\n",
       "[                    0,                                0,                                0,   0.2496726584 - 0.4327675374*I,                               0, -0.01084470943 + 0.01846178001*I,    -0.738827949 - 0.4517196464*I,                     0],\n",
       "[                    0,    -0.738827949 - 0.4517196464*I, -0.01084470943 + 0.01846178001*I,                               0,   0.2496726584 - 0.4327675374*I,                                0,                                0,                     0],\n",
       "[                    0,                                0,                                0, 0.01075401052 - 0.01894830032*I,                               0,   -0.4999093011 - 0.8655388835*I, -0.01084470943 + 0.01846178001*I,                     0],\n",
       "[                    0,                                0,                                0,  -0.7604266689 - 0.4143095661*I,                               0,  0.01075401052 - 0.01894830032*I,    0.2496726584 - 0.4327675374*I,                     0],\n",
       "[                    0,                                0,                                0,                               0,                               0,                                0,                                0, -0.5 - 0.8660254038*I]])"
      ]
     },
     "execution_count": 170,
     "metadata": {},
     "output_type": "execute_result"
    }
   ],
   "source": [
    "U.evalf(10)"
   ]
  }
 ],
 "metadata": {
  "interpreter": {
   "hash": "aee8b7b246df8f9039afb4144a1f6fd8d2ca17a180786b69acc140d282b71a49"
  },
  "kernelspec": {
   "display_name": "Python 3.10.2 64-bit",
   "language": "python",
   "name": "python3"
  },
  "language_info": {
   "codemirror_mode": {
    "name": "ipython",
    "version": 3
   },
   "file_extension": ".py",
   "mimetype": "text/x-python",
   "name": "python",
   "nbconvert_exporter": "python",
   "pygments_lexer": "ipython3",
   "version": "3.10.2"
  },
  "orig_nbformat": 4
 },
 "nbformat": 4,
 "nbformat_minor": 2
}
