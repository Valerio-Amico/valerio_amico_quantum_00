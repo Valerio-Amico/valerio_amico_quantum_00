{
 "cells": [
  {
   "cell_type": "markdown",
   "metadata": {},
   "source": [
    "# Decomposition\n",
    "## In this notebook we are going to explain step-by-step our optimal decomposition"
   ]
  },
  {
   "cell_type": "markdown",
   "metadata": {},
   "source": [
    "# 1) Trotterization\n",
    "\n",
    "We decide to split the XXX Hamiltonian into two pieces $H=H_1+H_2$ (instead of 6):\n",
    "$\n",
    "    H_1=I^{(0)} \\otimes \\sigma_x^{(1)} \\otimes \\sigma_x^{(2)}  + I^{(0)}  \\otimes  \\sigma_y^{(1)} \\otimes \\sigma_y^{(2)} + I^{(0)}  \\otimes \\sigma_z^{(0)} \\otimes \\sigma_z^{(1)}\n",
    "$\n",
    "$\n",
    "    H_2=\\sigma_x^{(0)}\\otimes \\sigma_x^{(1)} \\otimes I^{(2)}  +  \\sigma_y^{(0)} \\otimes \\sigma_y^{(1)} \\otimes I^{(2)} + \\sigma_z^{(0)} \\otimes \\sigma_z^{(1)} \\otimes I^{(2)}\n",
    "$\n",
    "\n",
    "\n",
    "\n",
    "so using Trotter's formula:\n",
    "$\n",
    "    e^{-iHt}=e^{-i(H_1 + H_2)t} \\simeq [e^{-iH_1\\frac{t}{N}}e^{-iH_2\\frac{t}{N}}]^N\n",
    "$\n"
   ]
  },
  {
   "cell_type": "markdown",
   "metadata": {},
   "source": [
    "Now we need to compute a sigle Trotter Step in function of $\\frac{t}{N}$"
   ]
  },
  {
   "cell_type": "code",
   "execution_count": 2,
   "metadata": {},
   "outputs": [
    {
     "data": {
      "text/latex": [
       "$\\displaystyle \\left[\\begin{matrix}1 & 0 & 0 & 0 & 0 & 0 & 0 & 0\\\\0 & 1 & 0 & 0 & 0 & 0 & 0 & 0\\\\0 & 0 & -1 & 0 & 2 & 0 & 0 & 0\\\\0 & 0 & 0 & -1 & 0 & 2 & 0 & 0\\\\0 & 0 & 2 & 0 & -1 & 0 & 0 & 0\\\\0 & 0 & 0 & 2 & 0 & -1 & 0 & 0\\\\0 & 0 & 0 & 0 & 0 & 0 & 1 & 0\\\\0 & 0 & 0 & 0 & 0 & 0 & 0 & 1\\end{matrix}\\right]$"
      ],
      "text/plain": [
       "Matrix([\n",
       "[1, 0,  0,  0,  0,  0, 0, 0],\n",
       "[0, 1,  0,  0,  0,  0, 0, 0],\n",
       "[0, 0, -1,  0,  2,  0, 0, 0],\n",
       "[0, 0,  0, -1,  0,  2, 0, 0],\n",
       "[0, 0,  2,  0, -1,  0, 0, 0],\n",
       "[0, 0,  0,  2,  0, -1, 0, 0],\n",
       "[0, 0,  0,  0,  0,  0, 1, 0],\n",
       "[0, 0,  0,  0,  0,  0, 0, 1]])"
      ]
     },
     "execution_count": 2,
     "metadata": {},
     "output_type": "execute_result"
    }
   ],
   "source": [
    "import numpy as np\n",
    "from sympy import *\n",
    "from sympy.physics.quantum import TensorProduct as Tp\n",
    "import warnings\n",
    "warnings.filterwarnings('ignore')\n",
    "\n",
    "X = Matrix([[0,1],[1,0]])  #defining the pauli matrices\n",
    "Y = Matrix([[0,-I],[I,0]])\n",
    "Z = Matrix([[1,0],[0,-1]])\n",
    "Id = eye(2)\n",
    "\n",
    "H1 = Tp(X,X,Id) + Tp(Y,Y,Id) + Tp(Z,Z,Id) \n",
    "H1"
   ]
  },
  {
   "cell_type": "code",
   "execution_count": 3,
   "metadata": {},
   "outputs": [
    {
     "data": {
      "text/latex": [
       "$\\displaystyle \\left[\\begin{matrix}e^{- i a} & 0 & 0 & 0\\\\0 & e^{i a} \\cos{\\left(a \\right)} & - i e^{i a} \\sin{\\left(a \\right)} & 0\\\\0 & - i e^{i a} \\sin{\\left(a \\right)} & e^{i a} \\cos{\\left(a \\right)} & 0\\\\0 & 0 & 0 & e^{- i a}\\end{matrix}\\right]$"
      ],
      "text/plain": [
       "Matrix([\n",
       "[exp(-I*a),                  0,                  0,         0],\n",
       "[        0,    exp(I*a)*cos(a), -I*exp(I*a)*sin(a),         0],\n",
       "[        0, -I*exp(I*a)*sin(a),    exp(I*a)*cos(a),         0],\n",
       "[        0,                  0,                  0, exp(-I*a)]])"
      ]
     },
     "execution_count": 3,
     "metadata": {},
     "output_type": "execute_result"
    }
   ],
   "source": [
    "a = symbols(\"a\")\n",
    "\n",
    "m = Matrix([\n",
    "    [exp(-I*a),0,0,0],\n",
    "    [0,cos(a)*exp(I*a),-I*sin(a)*exp(I*a),0],\n",
    "    [0,-I*sin(a)*exp(I*a),cos(a)*exp(I*a),0],\n",
    "    [0,0,0,exp(-I*a)]\n",
    "])\n",
    "m"
   ]
  },
  {
   "cell_type": "code",
   "execution_count": 4,
   "metadata": {},
   "outputs": [
    {
     "data": {
      "text/latex": [
       "$\\displaystyle \\left[\\begin{matrix}e^{- i a} & 0 & 0 & 0 & 0 & 0 & 0 & 0\\\\0 & e^{- i a} & 0 & 0 & 0 & 0 & 0 & 0\\\\0 & 0 & e^{i a} \\cos{\\left(a \\right)} & 0 & - i e^{i a} \\sin{\\left(a \\right)} & 0 & 0 & 0\\\\0 & 0 & 0 & e^{i a} \\cos{\\left(a \\right)} & 0 & - i e^{i a} \\sin{\\left(a \\right)} & 0 & 0\\\\0 & 0 & - i e^{i a} \\sin{\\left(a \\right)} & 0 & e^{i a} \\cos{\\left(a \\right)} & 0 & 0 & 0\\\\0 & 0 & 0 & - i e^{i a} \\sin{\\left(a \\right)} & 0 & e^{i a} \\cos{\\left(a \\right)} & 0 & 0\\\\0 & 0 & 0 & 0 & 0 & 0 & e^{- i a} & 0\\\\0 & 0 & 0 & 0 & 0 & 0 & 0 & e^{- i a}\\end{matrix}\\right]$"
      ],
      "text/plain": [
       "Matrix([\n",
       "[exp(-I*a),         0,                  0,                  0,                  0,                  0,         0,         0],\n",
       "[        0, exp(-I*a),                  0,                  0,                  0,                  0,         0,         0],\n",
       "[        0,         0,    exp(I*a)*cos(a),                  0, -I*exp(I*a)*sin(a),                  0,         0,         0],\n",
       "[        0,         0,                  0,    exp(I*a)*cos(a),                  0, -I*exp(I*a)*sin(a),         0,         0],\n",
       "[        0,         0, -I*exp(I*a)*sin(a),                  0,    exp(I*a)*cos(a),                  0,         0,         0],\n",
       "[        0,         0,                  0, -I*exp(I*a)*sin(a),                  0,    exp(I*a)*cos(a),         0,         0],\n",
       "[        0,         0,                  0,                  0,                  0,                  0, exp(-I*a),         0],\n",
       "[        0,         0,                  0,                  0,                  0,                  0,         0, exp(-I*a)]])"
      ]
     },
     "execution_count": 4,
     "metadata": {},
     "output_type": "execute_result"
    }
   ],
   "source": [
    "exp_H1p = Tp(m, Id)\n",
    "exp_H1p"
   ]
  },
  {
   "cell_type": "markdown",
   "metadata": {},
   "source": [
    "where $a=\\frac{2t}{N}$\n",
    "\n",
    "We can also compute $H_2$"
   ]
  },
  {
   "cell_type": "code",
   "execution_count": 5,
   "metadata": {},
   "outputs": [
    {
     "data": {
      "text/latex": [
       "$\\displaystyle \\left[\\begin{matrix}e^{- i a} & 0 & 0 & 0 & 0 & 0 & 0 & 0\\\\0 & e^{i a} \\cos{\\left(a \\right)} & - i e^{i a} \\sin{\\left(a \\right)} & 0 & 0 & 0 & 0 & 0\\\\0 & - i e^{i a} \\sin{\\left(a \\right)} & e^{i a} \\cos{\\left(a \\right)} & 0 & 0 & 0 & 0 & 0\\\\0 & 0 & 0 & e^{- i a} & 0 & 0 & 0 & 0\\\\0 & 0 & 0 & 0 & e^{- i a} & 0 & 0 & 0\\\\0 & 0 & 0 & 0 & 0 & e^{i a} \\cos{\\left(a \\right)} & - i e^{i a} \\sin{\\left(a \\right)} & 0\\\\0 & 0 & 0 & 0 & 0 & - i e^{i a} \\sin{\\left(a \\right)} & e^{i a} \\cos{\\left(a \\right)} & 0\\\\0 & 0 & 0 & 0 & 0 & 0 & 0 & e^{- i a}\\end{matrix}\\right]$"
      ],
      "text/plain": [
       "Matrix([\n",
       "[exp(-I*a),                  0,                  0,         0,         0,                  0,                  0,         0],\n",
       "[        0,    exp(I*a)*cos(a), -I*exp(I*a)*sin(a),         0,         0,                  0,                  0,         0],\n",
       "[        0, -I*exp(I*a)*sin(a),    exp(I*a)*cos(a),         0,         0,                  0,                  0,         0],\n",
       "[        0,                  0,                  0, exp(-I*a),         0,                  0,                  0,         0],\n",
       "[        0,                  0,                  0,         0, exp(-I*a),                  0,                  0,         0],\n",
       "[        0,                  0,                  0,         0,         0,    exp(I*a)*cos(a), -I*exp(I*a)*sin(a),         0],\n",
       "[        0,                  0,                  0,         0,         0, -I*exp(I*a)*sin(a),    exp(I*a)*cos(a),         0],\n",
       "[        0,                  0,                  0,         0,         0,                  0,                  0, exp(-I*a)]])"
      ]
     },
     "execution_count": 5,
     "metadata": {},
     "output_type": "execute_result"
    }
   ],
   "source": [
    "exp_H2p = Tp(Id,m)\n",
    "exp_H2p"
   ]
  },
  {
   "cell_type": "markdown",
   "metadata": {},
   "source": [
    "So, the final form of a Trotter step is :\n",
    "\n",
    "$\n",
    "    e^{-iHt}=e^{-i(H_1 + H_2)t} \\simeq [e^{-iH_1\\frac{t}{N}}e^{-iH_2\\frac{t}{N}}]^N\n",
    "$\n",
    "\n",
    "$\n",
    "    T_{step}=e^{-iH_1\\frac{t}{N}}e^{-iH_2\\frac{t}{N}}=\n",
    "$"
   ]
  },
  {
   "cell_type": "code",
   "execution_count": 6,
   "metadata": {},
   "outputs": [
    {
     "data": {
      "text/latex": [
       "$\\displaystyle \\left[\\begin{matrix}e^{- 2 i a} & 0 & 0 & 0 & 0 & 0 & 0 & 0\\\\0 & \\cos{\\left(a \\right)} & - i \\sin{\\left(a \\right)} & 0 & 0 & 0 & 0 & 0\\\\0 & - i e^{2 i a} \\sin{\\left(a \\right)} \\cos{\\left(a \\right)} & e^{2 i a} \\cos^{2}{\\left(a \\right)} & 0 & - i \\sin{\\left(a \\right)} & 0 & 0 & 0\\\\0 & 0 & 0 & \\cos{\\left(a \\right)} & 0 & - i e^{2 i a} \\sin{\\left(a \\right)} \\cos{\\left(a \\right)} & - e^{2 i a} \\sin^{2}{\\left(a \\right)} & 0\\\\0 & - e^{2 i a} \\sin^{2}{\\left(a \\right)} & - i e^{2 i a} \\sin{\\left(a \\right)} \\cos{\\left(a \\right)} & 0 & \\cos{\\left(a \\right)} & 0 & 0 & 0\\\\0 & 0 & 0 & - i \\sin{\\left(a \\right)} & 0 & e^{2 i a} \\cos^{2}{\\left(a \\right)} & - i e^{2 i a} \\sin{\\left(a \\right)} \\cos{\\left(a \\right)} & 0\\\\0 & 0 & 0 & 0 & 0 & - i \\sin{\\left(a \\right)} & \\cos{\\left(a \\right)} & 0\\\\0 & 0 & 0 & 0 & 0 & 0 & 0 & e^{- 2 i a}\\end{matrix}\\right]$"
      ],
      "text/plain": [
       "Matrix([\n",
       "[exp(-2*I*a),                           0,                           0,         0,         0,                           0,                           0,           0],\n",
       "[          0,                      cos(a),                   -I*sin(a),         0,         0,                           0,                           0,           0],\n",
       "[          0, -I*exp(2*I*a)*sin(a)*cos(a),        exp(2*I*a)*cos(a)**2,         0, -I*sin(a),                           0,                           0,           0],\n",
       "[          0,                           0,                           0,    cos(a),         0, -I*exp(2*I*a)*sin(a)*cos(a),       -exp(2*I*a)*sin(a)**2,           0],\n",
       "[          0,       -exp(2*I*a)*sin(a)**2, -I*exp(2*I*a)*sin(a)*cos(a),         0,    cos(a),                           0,                           0,           0],\n",
       "[          0,                           0,                           0, -I*sin(a),         0,        exp(2*I*a)*cos(a)**2, -I*exp(2*I*a)*sin(a)*cos(a),           0],\n",
       "[          0,                           0,                           0,         0,         0,                   -I*sin(a),                      cos(a),           0],\n",
       "[          0,                           0,                           0,         0,         0,                           0,                           0, exp(-2*I*a)]])"
      ]
     },
     "execution_count": 6,
     "metadata": {},
     "output_type": "execute_result"
    }
   ],
   "source": [
    "Trotter_Step =  exp_H1p * exp_H2p \n",
    "Trotter_Step"
   ]
  },
  {
   "cell_type": "markdown",
   "metadata": {},
   "source": [
    "# 2) Single Column Decomposition\n",
    "\n",
    "This Decomposition works only in a symmetry preserving subspace of the Hamiltonian. In this case we are in the magnetization m=2 subspace.\n",
    "\n",
    "We need to find a $U_{best}$ gate for which $T_{step}^{n}|110>=U_{best}|110>$ and reduces the depth of the circuit.\n",
    "If the initial state is a vector of the computational basis this decomposition coincides with the preparation of a specific column of the matrix, in this case the 7th column. \n",
    "\n",
    "The idea is to find a generic circuit that preserves the symmetry and dependes on 2d real parameters,where d is the dimension of the subspace.  \n",
    "Instead of repeating the Trotter Step we numerically calculate $T_{step}^{n}$ and find the parameters of the optimizated circuit. In this case we need at least a six parameters circuit.\n"
   ]
  },
  {
   "cell_type": "markdown",
   "metadata": {},
   "source": [
    "## 2.1) Parametric Circuit  \n",
    "To find the most generic magnetization preserving circuit we start by defining a general 2-qubit operator that do this and depends on 3 parameters:"
   ]
  },
  {
   "cell_type": "code",
   "execution_count": 7,
   "metadata": {},
   "outputs": [
    {
     "data": {
      "text/latex": [
       "$\\displaystyle \\left[\\begin{matrix}e^{1.0 i \\left(- f_{1} - r_{1}\\right)} & 0 & 0 & 0\\\\0 & e^{- 1.0 i \\left(f_{1} + r_{1}\\right)} \\cos{\\left(a_{1} \\right)} & - e^{- 1.0 i \\left(f_{1} - r_{1}\\right)} \\sin{\\left(a_{1} \\right)} & 0\\\\0 & e^{1.0 i \\left(f_{1} - r_{1}\\right)} \\sin{\\left(a_{1} \\right)} & e^{1.0 i \\left(f_{1} + r_{1}\\right)} \\cos{\\left(a_{1} \\right)} & 0\\\\0 & 0 & 0 & e^{1.0 i \\left(f_{1} + r_{1}\\right)}\\end{matrix}\\right]$"
      ],
      "text/plain": [
       "Matrix([\n",
       "[exp(1.0*I*(-f1 - r1)),                             0,                              0,                    0],\n",
       "[                    0, exp(-1.0*I*(f1 + r1))*cos(a1), -exp(-1.0*I*(f1 - r1))*sin(a1),                    0],\n",
       "[                    0,  exp(1.0*I*(f1 - r1))*sin(a1),   exp(1.0*I*(f1 + r1))*cos(a1),                    0],\n",
       "[                    0,                             0,                              0, exp(1.0*I*(f1 + r1))]])"
      ]
     },
     "execution_count": 7,
     "metadata": {},
     "output_type": "execute_result"
    }
   ],
   "source": [
    "a1, r1, f1 = symbols(\"a1 r1 f1\")\n",
    "\n",
    "H = Matrix([ \n",
    "    [1/sqrt(2),1/sqrt(2)],\n",
    "    [1/sqrt(2),-1/sqrt(2)]\n",
    "])\n",
    "\n",
    "cx_01= Matrix([\n",
    "    [1,0,0,0],\n",
    "    [0,0,0,1],\n",
    "    [0,0,1,0],\n",
    "    [0,1,0,0]\n",
    "])\n",
    "\n",
    "def ry(alpha):   # generic ry gate\n",
    "    return Matrix([ \n",
    "        [cos(alpha/2),-sin(alpha/2)],\n",
    "        [sin(alpha/2),cos(alpha/2)]\n",
    "    ])\n",
    "\n",
    "def rz(alpha):   # generic rz gate\n",
    "    return Matrix([ \n",
    "        [exp(-1j*(alpha/2)),0],\n",
    "        [0,exp(1j*(alpha/2))]\n",
    "    ])\n",
    "\n",
    "M1 = Matrix(simplify(Tp(rz(2*f1),Id)*Tp(Id,H)*cx_01*Tp(ry(a1),ry(a1))*cx_01*Tp(Id,H)*Tp(rz(2*r1),Id)))\n",
    "M1"
   ]
  },
  {
   "cell_type": "markdown",
   "metadata": {},
   "source": [
    "We need at least six parameters so we decide to apply $M_{1}$ to qubits $[0,1]$ and $M_{2}$ to $[1,2]$.\n",
    "$\n",
    "U_{best}=(I \\otimes M_{2}(f_2,r_2,a_2))(M_{1}(f_1,r_1,a_1) \\otimes I)\n",
    "$"
   ]
  },
  {
   "cell_type": "code",
   "execution_count": 8,
   "metadata": {},
   "outputs": [
    {
     "data": {
      "text/latex": [
       "$\\displaystyle \\left[\\begin{matrix}e^{1.0 i \\left(- f_{1} - r_{1}\\right)} e^{1.0 i \\left(- f_{2} - r_{2}\\right)} & 0 & 0 & 0 & 0 & 0 & 0 & 0\\\\0 & e^{- 1.0 i \\left(f_{1} + r_{1}\\right)} e^{1.0 i \\left(- f_{2} - r_{2}\\right)} \\cos{\\left(a_{1} \\right)} & - e^{- 1.0 i \\left(f_{1} - r_{1}\\right)} e^{1.0 i \\left(- f_{2} - r_{2}\\right)} \\sin{\\left(a_{1} \\right)} & 0 & 0 & 0 & 0 & 0\\\\0 & e^{1.0 i \\left(f_{1} - r_{1}\\right)} e^{- 1.0 i \\left(f_{2} + r_{2}\\right)} \\sin{\\left(a_{1} \\right)} \\cos{\\left(a_{2} \\right)} & e^{1.0 i \\left(f_{1} + r_{1}\\right)} e^{- 1.0 i \\left(f_{2} + r_{2}\\right)} \\cos{\\left(a_{1} \\right)} \\cos{\\left(a_{2} \\right)} & 0 & - e^{1.0 i \\left(- f_{1} - r_{1}\\right)} e^{- 1.0 i \\left(f_{2} - r_{2}\\right)} \\sin{\\left(a_{2} \\right)} & 0 & 0 & 0\\\\0 & 0 & 0 & e^{1.0 i \\left(f_{1} + r_{1}\\right)} e^{- 1.0 i \\left(f_{2} + r_{2}\\right)} \\cos{\\left(a_{2} \\right)} & 0 & - e^{- 1.0 i \\left(f_{1} + r_{1}\\right)} e^{- 1.0 i \\left(f_{2} - r_{2}\\right)} \\sin{\\left(a_{2} \\right)} \\cos{\\left(a_{1} \\right)} & e^{- 1.0 i \\left(f_{1} - r_{1}\\right)} e^{- 1.0 i \\left(f_{2} - r_{2}\\right)} \\sin{\\left(a_{1} \\right)} \\sin{\\left(a_{2} \\right)} & 0\\\\0 & e^{1.0 i \\left(f_{1} - r_{1}\\right)} e^{1.0 i \\left(f_{2} - r_{2}\\right)} \\sin{\\left(a_{1} \\right)} \\sin{\\left(a_{2} \\right)} & e^{1.0 i \\left(f_{1} + r_{1}\\right)} e^{1.0 i \\left(f_{2} - r_{2}\\right)} \\sin{\\left(a_{2} \\right)} \\cos{\\left(a_{1} \\right)} & 0 & e^{1.0 i \\left(- f_{1} - r_{1}\\right)} e^{1.0 i \\left(f_{2} + r_{2}\\right)} \\cos{\\left(a_{2} \\right)} & 0 & 0 & 0\\\\0 & 0 & 0 & e^{1.0 i \\left(f_{1} + r_{1}\\right)} e^{1.0 i \\left(f_{2} - r_{2}\\right)} \\sin{\\left(a_{2} \\right)} & 0 & e^{- 1.0 i \\left(f_{1} + r_{1}\\right)} e^{1.0 i \\left(f_{2} + r_{2}\\right)} \\cos{\\left(a_{1} \\right)} \\cos{\\left(a_{2} \\right)} & - e^{- 1.0 i \\left(f_{1} - r_{1}\\right)} e^{1.0 i \\left(f_{2} + r_{2}\\right)} \\sin{\\left(a_{1} \\right)} \\cos{\\left(a_{2} \\right)} & 0\\\\0 & 0 & 0 & 0 & 0 & e^{1.0 i \\left(f_{1} - r_{1}\\right)} e^{1.0 i \\left(f_{2} + r_{2}\\right)} \\sin{\\left(a_{1} \\right)} & e^{1.0 i \\left(f_{1} + r_{1}\\right)} e^{1.0 i \\left(f_{2} + r_{2}\\right)} \\cos{\\left(a_{1} \\right)} & 0\\\\0 & 0 & 0 & 0 & 0 & 0 & 0 & e^{1.0 i \\left(f_{1} + r_{1}\\right)} e^{1.0 i \\left(f_{2} + r_{2}\\right)}\\end{matrix}\\right]$"
      ],
      "text/plain": [
       "Matrix([\n",
       "[exp(1.0*I*(-f1 - r1))*exp(1.0*I*(-f2 - r2)),                                                          0,                                                          0,                                                  0,                                                    0,                                                            0,                                                           0,                                         0],\n",
       "[                                          0,        exp(-1.0*I*(f1 + r1))*exp(1.0*I*(-f2 - r2))*cos(a1),       -exp(-1.0*I*(f1 - r1))*exp(1.0*I*(-f2 - r2))*sin(a1),                                                  0,                                                    0,                                                            0,                                                           0,                                         0],\n",
       "[                                          0, exp(1.0*I*(f1 - r1))*exp(-1.0*I*(f2 + r2))*sin(a1)*cos(a2), exp(1.0*I*(f1 + r1))*exp(-1.0*I*(f2 + r2))*cos(a1)*cos(a2),                                                  0, -exp(1.0*I*(-f1 - r1))*exp(-1.0*I*(f2 - r2))*sin(a2),                                                            0,                                                           0,                                         0],\n",
       "[                                          0,                                                          0,                                                          0, exp(1.0*I*(f1 + r1))*exp(-1.0*I*(f2 + r2))*cos(a2),                                                    0, -exp(-1.0*I*(f1 + r1))*exp(-1.0*I*(f2 - r2))*sin(a2)*cos(a1), exp(-1.0*I*(f1 - r1))*exp(-1.0*I*(f2 - r2))*sin(a1)*sin(a2),                                         0],\n",
       "[                                          0,  exp(1.0*I*(f1 - r1))*exp(1.0*I*(f2 - r2))*sin(a1)*sin(a2),  exp(1.0*I*(f1 + r1))*exp(1.0*I*(f2 - r2))*sin(a2)*cos(a1),                                                  0,   exp(1.0*I*(-f1 - r1))*exp(1.0*I*(f2 + r2))*cos(a2),                                                            0,                                                           0,                                         0],\n",
       "[                                          0,                                                          0,                                                          0,  exp(1.0*I*(f1 + r1))*exp(1.0*I*(f2 - r2))*sin(a2),                                                    0,   exp(-1.0*I*(f1 + r1))*exp(1.0*I*(f2 + r2))*cos(a1)*cos(a2), -exp(-1.0*I*(f1 - r1))*exp(1.0*I*(f2 + r2))*sin(a1)*cos(a2),                                         0],\n",
       "[                                          0,                                                          0,                                                          0,                                                  0,                                                    0,            exp(1.0*I*(f1 - r1))*exp(1.0*I*(f2 + r2))*sin(a1),           exp(1.0*I*(f1 + r1))*exp(1.0*I*(f2 + r2))*cos(a1),                                         0],\n",
       "[                                          0,                                                          0,                                                          0,                                                  0,                                                    0,                                                            0,                                                           0, exp(1.0*I*(f1 + r1))*exp(1.0*I*(f2 + r2))]])"
      ]
     },
     "execution_count": 8,
     "metadata": {},
     "output_type": "execute_result"
    }
   ],
   "source": [
    "a2, r2, f2 = symbols(\"a2 r2 f2\")\n",
    "M2 = Matrix(simplify(Tp(rz(2*f2),Id)*Tp(Id,H)*cx_01*Tp(ry(a2),ry(a2))*cx_01*Tp(Id,H)*Tp(rz(2*r2),Id)))\n",
    "\n",
    "Ubest = Tp(M2, Id) * Tp(Id, M1)\n",
    "Ubest"
   ]
  },
  {
   "cell_type": "markdown",
   "metadata": {},
   "source": [
    "Perfect, now imposing the equality between the elements of the $7^{th}$ column (relative to $|110>$) of the parametric matrix $U_{best}$ and of the numerical evaluation $(T_{step})^n$ matrix we can define our Gate."
   ]
  },
  {
   "cell_type": "markdown",
   "metadata": {},
   "source": [
    "So, the $(T_{step})^n$ matrix is easly computed here:"
   ]
  },
  {
   "cell_type": "code",
   "execution_count": 9,
   "metadata": {},
   "outputs": [
    {
     "data": {
      "text/latex": [
       "$\\displaystyle \\left[\\begin{matrix}1.0 - 2.873 \\cdot 10^{-16} i & 0 & 0 & 0 & 0 & 0 & 0 & 0\\\\0 & 0.4367 + 0.3027 i & 0.07228 + 0.526 i & 0 & -0.5554 + 0.3569 i & 0 & 0 & 0\\\\0 & -0.05856 + 0.6128 i & -0.1395 - 0.5654 i & 0 & 0.07228 + 0.526 i & 0 & 0 & 0\\\\0 & 0 & 0 & 0.4367 + 0.3027 i & 0 & -0.05856 + 0.6128 i & -0.5507 + 0.1882 i & 0\\\\0 & -0.5507 + 0.1882 i & -0.05856 + 0.6128 i & 0 & 0.4367 + 0.3027 i & 0 & 0 & 0\\\\0 & 0 & 0 & 0.07228 + 0.526 i & 0 & -0.1395 - 0.5654 i & -0.05856 + 0.6128 i & 0\\\\0 & 0 & 0 & -0.5554 + 0.3569 i & 0 & 0.07228 + 0.526 i & 0.4367 + 0.3027 i & 0\\\\0 & 0 & 0 & 0 & 0 & 0 & 0 & 1.0 - 2.873 \\cdot 10^{-16} i\\end{matrix}\\right]$"
      ],
      "text/plain": [
       "Matrix([\n",
       "[1.0 - 2.873e-16*I,                   0,                   0,                  0,                  0,                   0,                   0,                 0],\n",
       "[                0,   0.4367 + 0.3027*I,   0.07228 + 0.526*I,                  0, -0.5554 + 0.3569*I,                   0,                   0,                 0],\n",
       "[                0, -0.05856 + 0.6128*I,  -0.1395 - 0.5654*I,                  0,  0.07228 + 0.526*I,                   0,                   0,                 0],\n",
       "[                0,                   0,                   0,  0.4367 + 0.3027*I,                  0, -0.05856 + 0.6128*I,  -0.5507 + 0.1882*I,                 0],\n",
       "[                0,  -0.5507 + 0.1882*I, -0.05856 + 0.6128*I,                  0,  0.4367 + 0.3027*I,                   0,                   0,                 0],\n",
       "[                0,                   0,                   0,  0.07228 + 0.526*I,                  0,  -0.1395 - 0.5654*I, -0.05856 + 0.6128*I,                 0],\n",
       "[                0,                   0,                   0, -0.5554 + 0.3569*I,                  0,   0.07228 + 0.526*I,   0.4367 + 0.3027*I,                 0],\n",
       "[                0,                   0,                   0,                  0,                  0,                   0,                   0, 1.0 - 2.873e-16*I]])"
      ]
     },
     "execution_count": 9,
     "metadata": {},
     "output_type": "execute_result"
    }
   ],
   "source": [
    "steps = 42\n",
    "time = np.pi\n",
    "U = eye(8)\n",
    "\n",
    "for _ in range(steps):\n",
    "    U=U*Trotter_Step\n",
    "    U=U.subs(a,2*time/steps)\n",
    "    U=U.evalf(40)\n",
    "\n",
    "U.evalf(4)"
   ]
  },
  {
   "cell_type": "markdown",
   "metadata": {},
   "source": [
    "We impose the following equation in order to have the same values on the $7^{th}$ column of both the matrices:\n",
    "$$\n",
    "\\begin{cases}\n",
    "b_0=im(U_{4,7}) \\\\\n",
    "b_1=im(U_{6,7}) \\\\\n",
    "b_2 = im(U_{7,7}) \\\\\n",
    "\\alpha_0=re(U_{4,7}) \\\\\n",
    "\\alpha_1=re(U_{6,7}) \\\\\n",
    "\\alpha_2=re(U_{7,7}) \\\\\n",
    "\\end{cases}\n",
    "$$\n",
    "$$\n",
    "\\begin{cases}\n",
    "-f_1+r_1-f_2+r_2 = atan(\\frac{b_0}{\\alpha_0}) =x_0 \\\\\n",
    "-\\pi-f_1+r_1+f_2+r_2=atan(\\frac{b_1}{\\alpha_1}) = x_1 \\\\\n",
    "f_1+r_1+f_2+r_2=atan(\\frac{b_2}{\\alpha_2}) = x_2 \\\\\n",
    "sin(a_1)sin(a_2)=|U_{4, 7}|=\\sqrt{\\alpha_0^2+b_0^2} \\\\\n",
    "sin(a_1)cos(a_2)=|U_{6, 7}|=\\sqrt{\\alpha_1^2+b_1^2} \\\\\n",
    "cos(a_1)=|U_{7, 7}|=\\sqrt{\\alpha_2^2+b_2^2} \\\\\n",
    "\\end{cases}\n",
    "$$\n",
    "solving them one can find:\n",
    "$$\n",
    "\\begin{cases}\n",
    "r_1 = \\frac{x_0+x_2}{2} \\\\\n",
    "r_2 = 0 \\\\\n",
    "f_2 = \\frac{x_2-x_1-\\pi}{2} \\\\\n",
    "f_1 = -\\frac{x_2-x_0}{2} + f_2 \\\\\n",
    "a_1=acos(\\sqrt{\\alpha_2^2+b_2^2}) \\\\\n",
    "a_2=acos(\\frac{\\sqrt{\\alpha_1^2+b_1^2}}{sin(a_1)}) \\\\\n",
    "\\end{cases}\n",
    "$$\n"
   ]
  },
  {
   "cell_type": "markdown",
   "metadata": {},
   "source": [
    "## 3) Decomposition of $M_1$ and $M_2$ operators"
   ]
  },
  {
   "cell_type": "markdown",
   "metadata": {},
   "source": [
    "We need to find the minimal decomposition of the M gate.\n",
    "The M gate acts as generic 1 qubit gate on the subspace $|10>,|01>$ and as a phase for $|00>$ and $|11>$\n",
    "So we used the Givens Rotation gate as defined in: \"https://arxiv.org/pdf/2104.05695.pdf\" that perform a RY in the subspace $|10>,|01>$ with just 2 cnots.\n",
    "We can think to do a ZYZ decomposition to finally obtain :\n",
    "$\n",
    "M=(I \\otimes RZ(f))G(r)(I \\otimes RZ(a))\n",
    "$"
   ]
  },
  {
   "cell_type": "code",
   "execution_count": 23,
   "metadata": {},
   "outputs": [
    {
     "data": {
      "image/png": "[encoded data removed]",
      "text/plain": [
       "<Figure size 413.849x144.48 with 1 Axes>"
      ]
     },
     "execution_count": 23,
     "metadata": {},
     "output_type": "execute_result"
    }
   ],
   "source": [
    "from qiskit import Aer, QuantumCircuit, QuantumRegister, execute\n",
    "\n",
    "r1=float(atan2(im(U[3*8+6]),re(U[3*8+6]))+atan2(im(U[6*8+6]),re(U[6*8+6])))/2\n",
    "r2=0\n",
    "f1=float(atan2(im(U[6*8+6]),re(U[6*8+6]))-atan2(im(U[5*8+6]),re(U[5*8+6]))-np.pi)/2\n",
    "f2=float((atan2(im(U[6*8+6]),re(U[6*8+6]))-atan2(im(U[3*8+6]),re(U[3*8+6])))/2-f1)\n",
    "a1=float(acos(abs(U[6*8+6])))\n",
    "a2=float(acos(abs(U[5*8+6])/sin(a1)))\n",
    "\n",
    "qr1=QuantumRegister(2)\n",
    "M1_qc=QuantumCircuit(qr1, name=\"M1\")\n",
    "\n",
    "M1_qc.rz(2*r1,qr1[1])\n",
    "M1_qc.h(qr1[0])\n",
    "M1_qc.cx(qr1[0],qr1[1])\n",
    "M1_qc.ry(a1,qr1)\n",
    "M1_qc.cx(qr1[0],qr1[1])\n",
    "M1_qc.h(qr1[0])\n",
    "M1_qc.rz(2*f1,qr1[1])\n",
    "\n",
    "M1_qc.draw(output=\"mpl\")"
   ]
  },
  {
   "cell_type": "code",
   "execution_count": 24,
   "metadata": {},
   "outputs": [
    {
     "data": {
      "image/png": "[encoded data removed]",
      "text/plain": [
       "<Figure size 413.995x144.48 with 1 Axes>"
      ]
     },
     "execution_count": 24,
     "metadata": {},
     "output_type": "execute_result"
    }
   ],
   "source": [
    "qr2=QuantumRegister(2)\n",
    "M2_qc=QuantumCircuit(qr2, name=\"M2\")\n",
    "\n",
    "#M2_qc.rz(2*r2,qr2[1])\n",
    "M2_qc.h(qr2[0])\n",
    "M2_qc.cx(qr2[0],qr2[1])\n",
    "M2_qc.ry(a2,qr2)\n",
    "M2_qc.cx(qr2[0],qr2[1])\n",
    "M2_qc.h(qr2[0])\n",
    "M2_qc.rz(2*f2,qr2[1])\n",
    "\n",
    "M2_qc.draw(output=\"mpl\")"
   ]
  },
  {
   "cell_type": "markdown",
   "metadata": {},
   "source": [
    "## Buiding the final evolution cirquit"
   ]
  },
  {
   "cell_type": "code",
   "execution_count": 25,
   "metadata": {},
   "outputs": [
    {
     "data": {
      "image/png": "[encoded data removed]",
      "text/plain": [
       "<Figure size 206.997x204.68 with 1 Axes>"
      ]
     },
     "execution_count": 25,
     "metadata": {},
     "output_type": "execute_result"
    }
   ],
   "source": [
    "qr = QuantumRegister(3 ,name=\"q\")\n",
    "qc = QuantumCircuit(qr, name=\"U\")\n",
    "\n",
    "qc.append(M1_qc, [qr[0],qr[1]])\n",
    "qc.append(M2_qc, [qr[1],qr[2]])\n",
    "\n",
    "qc.draw(output=\"mpl\")"
   ]
  },
  {
   "cell_type": "code",
   "execution_count": 26,
   "metadata": {},
   "outputs": [],
   "source": [
    "def matrix_from_cirquit(qc, phase=0):\n",
    "    backend = Aer.get_backend('unitary_simulator')\n",
    "    job = execute(qc, backend, shots=32000)\n",
    "    result = job.result()\n",
    "    A=result.get_unitary(qc, decimals=10)*np.exp(1j*phase)\n",
    "    return Matrix(A)"
   ]
  },
  {
   "cell_type": "markdown",
   "metadata": {},
   "source": [
    "You can see that the $7^{th}$ columns are equivalent."
   ]
  },
  {
   "cell_type": "code",
   "execution_count": 31,
   "metadata": {},
   "outputs": [
    {
     "data": {
      "text/latex": [
       "$\\displaystyle \\left[\\begin{matrix}0\\\\0\\\\0\\\\-0.5506938802 + 0.1881775479 i\\\\0\\\\-0.0585630369 + 0.6128121094 i\\\\0.4367423281 + 0.3026768721 i\\\\0\\end{matrix}\\right]$"
      ],
      "text/plain": [
       "Matrix([\n",
       "[                             0],\n",
       "[                             0],\n",
       "[                             0],\n",
       "[-0.5506938802 + 0.1881775479*I],\n",
       "[                             0],\n",
       "[-0.0585630369 + 0.6128121094*I],\n",
       "[ 0.4367423281 + 0.3026768721*I],\n",
       "[                             0]])"
      ]
     },
     "execution_count": 31,
     "metadata": {},
     "output_type": "execute_result"
    }
   ],
   "source": [
    "## 7^th column of the matrix rapresentation of the quantumcircuit.\n",
    "Matrix([matrix_from_cirquit(qc)[j*8+6] for j in range(8)])"
   ]
  },
  {
   "cell_type": "code",
   "execution_count": 32,
   "metadata": {},
   "outputs": [
    {
     "data": {
      "text/latex": [
       "$\\displaystyle \\left[\\begin{matrix}0\\\\0\\\\0\\\\-0.5506938803 + 0.1881775479 i\\\\0\\\\-0.0585630369 + 0.6128121094 i\\\\0.4367423281 + 0.3026768721 i\\\\0\\end{matrix}\\right]$"
      ],
      "text/plain": [
       "Matrix([\n",
       "[                             0],\n",
       "[                             0],\n",
       "[                             0],\n",
       "[-0.5506938803 + 0.1881775479*I],\n",
       "[                             0],\n",
       "[-0.0585630369 + 0.6128121094*I],\n",
       "[ 0.4367423281 + 0.3026768721*I],\n",
       "[                             0]])"
      ]
     },
     "execution_count": 32,
     "metadata": {},
     "output_type": "execute_result"
    }
   ],
   "source": [
    "## 7^th column of the matrix obtained multipling n times trotter_steps_matrix with itself.\n",
    "Matrix([U.evalf(10)[j*8+6] for j in range(8)])"
   ]
  },
  {
   "cell_type": "markdown",
   "metadata": {},
   "source": [
    "In conclusion we have a circuit with a fixed depth (4 cnots and 11 sigle qubit gates) for every choices of time and number of Trotter Steps"
   ]
  }
 ],
 "metadata": {
  "interpreter": {
   "hash": "aee8b7b246df8f9039afb4144a1f6fd8d2ca17a180786b69acc140d282b71a49"
  },
  "kernelspec": {
   "display_name": "Python 3.10.2 64-bit",
   "language": "python",
   "name": "python3"
  },
  "language_info": {
   "codemirror_mode": {
    "name": "ipython",
    "version": 3
   },
   "file_extension": ".py",
   "mimetype": "text/x-python",
   "name": "python",
   "nbconvert_exporter": "python",
   "pygments_lexer": "ipython3",
   "version": "3.10.2"
  },
  "orig_nbformat": 4
 },
 "nbformat": 4,
 "nbformat_minor": 2
}
