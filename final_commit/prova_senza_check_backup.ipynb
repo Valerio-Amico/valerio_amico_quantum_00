{
 "cells": [
  {
   "cell_type": "code",
   "execution_count": 35,
   "metadata": {},
   "outputs": [
    {
     "name": "stdout",
     "output_type": "stream",
     "text": [
      "The autoreload extension is already loaded. To reload it, use:\n",
      "  %reload_ext autoreload\n"
     ]
    },
    {
     "name": "stderr",
     "output_type": "stream",
     "text": [
      "ibmqfactory.load_account:WARNING:2022-04-09 15:44:24,905: Credentials are already in use. The existing account in the session will be replaced.\n"
     ]
    }
   ],
   "source": [
    "from lib.functions0 import *\n",
    "from lib.utility import *\n",
    "import numpy as np\n",
    "from scipy.linalg import expm\n",
    "from qiskit.utils.mitigation.fitters import CompleteMeasFitter\n",
    "from qiskit.ignis.mitigation.measurement import  complete_meas_cal\n",
    "from qiskit import Aer, assemble, QuantumCircuit, QuantumRegister, ClassicalRegister, IBMQ, transpile, execute\n",
    "from qiskit.providers.aer import AerSimulator, QasmSimulator\n",
    "from qiskit.opflow import Zero, One, I, X, Y, Z\n",
    "from qiskit.ignis.verification.tomography import state_tomography_circuits, StateTomographyFitter\n",
    "from qiskit.quantum_info import state_fidelity\n",
    "import matplotlib.pyplot as plt\n",
    "%load_ext autoreload\n",
    "%autoreload 2\n",
    "import warnings\n",
    "warnings.filterwarnings('ignore')\n",
    "IBMQ.load_account()\n",
    "provider = IBMQ.get_provider(hub='ibm-q-community',\n",
    "                            group='ibmquantumawards', \n",
    "                            project='open-science-22')\n",
    "\n",
    "backend_sim_jakarta = QasmSimulator.from_backend(provider.get_backend('ibmq_jakarta'))\n",
    "backend_real_jakarta = provider.get_backend('ibmq_jakarta')\n",
    "backend_sim = Aer.get_backend('qasm_simulator')"
   ]
  },
  {
   "cell_type": "code",
   "execution_count": 36,
   "metadata": {},
   "outputs": [
    {
     "data": {
      "text/plain": [
       "'/Library/Frameworks/Python.framework/Versions/3.10/lib/python3.10/site-packages/qiskit/utils/mitigation/fitters.py'"
      ]
     },
     "execution_count": 36,
     "metadata": {},
     "output_type": "execute_result"
    }
   ],
   "source": [
    "import qiskit\n",
    "qiskit.utils.mitigation.fitters.__file__"
   ]
  },
  {
   "cell_type": "code",
   "execution_count": 3,
   "metadata": {},
   "outputs": [
    {
     "data": {
      "text/latex": [
       "$\\displaystyle \\left[\\begin{matrix}1.0 & 0 & 0 & 0 & 0 & 0 & 0 & 0\\\\0 & 1.0 + 0.00395 i & 0.000758 + 0.00395 i & 0 & -0.000711 - 0.00791 i & 0 & 0 & 0\\\\0 & -0.000711 + 0.00395 i & 1.0 - 0.00791 i & 0 & 0.000758 + 0.00395 i & 0 & 0 & 0\\\\0 & 0 & 0 & 1.0 + 0.00395 i & 0 & -0.000711 + 0.00395 i & 0.000758 - 0.00791 i & 0\\\\0 & 0.000758 - 0.00791 i & -0.000711 + 0.00395 i & 0 & 1.0 + 0.00395 i & 0 & 0 & 0\\\\0 & 0 & 0 & 0.000758 + 0.00395 i & 0 & 1.0 - 0.00791 i & -0.000711 + 0.00395 i & 0\\\\0 & 0 & 0 & -0.000711 - 0.00791 i & 0 & 0.000758 + 0.00395 i & 1.0 + 0.00395 i & 0\\\\0 & 0 & 0 & 0 & 0 & 0 & 0 & 1.0\\end{matrix}\\right]$"
      ],
      "text/plain": [
       "Matrix([\n",
       "[1.0,                     0,                     0,                     0,                     0,                     0,                     0,   0],\n",
       "[  0,       1.0 + 0.00395*I,  0.000758 + 0.00395*I,                     0, -0.000711 - 0.00791*I,                     0,                     0,   0],\n",
       "[  0, -0.000711 + 0.00395*I,       1.0 - 0.00791*I,                     0,  0.000758 + 0.00395*I,                     0,                     0,   0],\n",
       "[  0,                     0,                     0,       1.0 + 0.00395*I,                     0, -0.000711 + 0.00395*I,  0.000758 - 0.00791*I,   0],\n",
       "[  0,  0.000758 - 0.00791*I, -0.000711 + 0.00395*I,                     0,       1.0 + 0.00395*I,                     0,                     0,   0],\n",
       "[  0,                     0,                     0,  0.000758 + 0.00395*I,                     0,       1.0 - 0.00791*I, -0.000711 + 0.00395*I,   0],\n",
       "[  0,                     0,                     0, -0.000711 - 0.00791*I,                     0,  0.000758 + 0.00395*I,       1.0 + 0.00395*I,   0],\n",
       "[  0,                     0,                     0,                     0,                     0,                     0,                     0, 1.0]])"
      ]
     },
     "execution_count": 3,
     "metadata": {},
     "output_type": "execute_result"
    }
   ],
   "source": [
    "n_steps=51\n",
    "time=np.pi\n",
    "#initial_state={\"110\": 1}\n",
    "shots = 32000\n",
    "backend = backend_sim_jakarta\n",
    "\n",
    "X = np.array([[0,1],[1,0]])  #defining the pauli matrices\n",
    "Y = np.array([[0,-1j],[1j,0]])\n",
    "Z = np.array([[1,0],[0,-1]])\n",
    "Id = np.eye(2)\n",
    "\n",
    "# defining the hamiltonian divided in: \n",
    "#       - H1: first two qubits interactions.\n",
    "#       - H2: second two qubits interactions.\n",
    "\n",
    "H1 = np.kron(X, np.kron(X,Id)) + np.kron(Y, np.kron(Y,Id)) + np.kron(Z, np.kron(Z,Id)) \n",
    "H2 = np.kron(Id, np.kron(X,X)) + np.kron(Id, np.kron(Y,Y)) + np.kron(Id, np.kron(Z,Z)) \n",
    "\n",
    "# building numerically the trotter step matrix, and the whole operator (trotter step)^n_steps.\n",
    "\n",
    "trotter_step_matrix_= expm(-time/n_steps*H1*1j).dot(expm(-time/n_steps*H2*1j))\n",
    "trotterized = np.linalg.matrix_power(trotter_step_matrix_, n_steps)\n",
    "Matrix(trotterized).n(3, chop=True)"
   ]
  },
  {
   "cell_type": "code",
   "execution_count": 4,
   "metadata": {},
   "outputs": [
    {
     "data": {
      "image/png": "[encoded data removed]",
      "text/plain": [
       "<Figure size 1350.8x204.68 with 1 Axes>"
      ]
     },
     "execution_count": 4,
     "metadata": {},
     "output_type": "execute_result"
    }
   ],
   "source": [
    "# phase_1_1, phase_2_1, phase_1_2, phase_2_2, a1, a2 = get_gates_parameters(trotterized, initial_state={\"110\": 1.0})\n",
    "\n",
    "A0 = trotterized[3, 6]\n",
    "A1 = trotterized[5, 6]\n",
    "A2 = trotterized[6, 6]\n",
    "\n",
    "r1=float(atan2(im(A0),re(A0))+atan2(im(A2),re(A2)))/2\n",
    "r2=0\n",
    "f1=float(atan2(im(A2),re(A2))-atan2(im(A1),re(A1))-np.pi)/2\n",
    "f2=float((atan2(im(A2),re(A2))-atan2(im(A0),re(A0)))/2-f1)\n",
    "a1=float(acos(abs(A2)))\n",
    "a2=float(acos(abs(A1)/sin(a1)))\n",
    "\n",
    "M1_qc = fixed_magnetization_two_qubit_gate(r1,f1,a1)\n",
    "M2_qc = fixed_magnetization_two_qubit_gate(r2,f2,a2)\n",
    "\n",
    "qr_U = QuantumRegister(3 ,name=\"q\")\n",
    "qc_U = QuantumCircuit(qr_U, name=\"U\")\n",
    "\n",
    "qc_U.append(M1_qc, [qr_U[0],qr_U[1]])\n",
    "qc_U.append(M2_qc, [qr_U[1],qr_U[2]])\n",
    "\n",
    "qc_U=transpile(qc_U, basis_gates=[\"cx\",\"rz\",\"x\",\"sx\"])\n",
    "qc_U.draw(output=\"mpl\")"
   ]
  },
  {
   "cell_type": "code",
   "execution_count": 5,
   "metadata": {},
   "outputs": [
    {
     "data": {
      "text/latex": [
       "$\\displaystyle \\left[\\begin{matrix}0.9999921798 - 0.0039547854 i & 0 & 0 & 0 & 0 & 0 & 0 & 0\\\\0 & 0.9999525415 - 0.0039546286 i & -0.0008497033 + 0.0088630496 i & 0 & 0 & 0 & 0 & 0\\\\0 & 0.0007108045 + 0.0039546286 i & 0.4498730503 - 0.0353008317 i & 0 & -0.8923785578 + 0.0035291933 i & 0 & 0 & 0\\\\0 & 0 & 0 & 0.4498908833 - 0.0353022311 i & 0 & -0.8923431851 + 0.0035290534 i & 0.000758263 - 0.0079092573 i & 0\\\\0 & 0.000758263 + 0.0079092573 i & 0.8923431851 + 0.0035290534 i & 0 & 0.4498908833 + 0.0353022311 i & 0 & 0 & 0\\\\0 & 0 & 0 & 0.8923785578 + 0.0035291933 i & 0 & 0.4498730503 + 0.0353008317 i & -0.0007108045 + 0.0039546286 i & 0\\\\0 & 0 & 0 & 0 & 0 & 0.0008497033 + 0.0088630496 i & 0.9999525415 + 0.0039546286 i & 0\\\\0 & 0 & 0 & 0 & 0 & 0 & 0 & 0.9999921798 + 0.0039547854 i\\end{matrix}\\right]$"
      ],
      "text/plain": [
       "Matrix([\n",
       "[0.9999921798 - 0.0039547854*I,                             0,                              0,                             0,                              0,                              0,                              0,                             0],\n",
       "[                            0, 0.9999525415 - 0.0039546286*I, -0.0008497033 + 0.0088630496*I,                             0,                              0,                              0,                              0,                             0],\n",
       "[                            0, 0.0007108045 + 0.0039546286*I,  0.4498730503 - 0.0353008317*I,                             0, -0.8923785578 + 0.0035291933*I,                              0,                              0,                             0],\n",
       "[                            0,                             0,                              0, 0.4498908833 - 0.0353022311*I,                              0, -0.8923431851 + 0.0035290534*I,   0.000758263 - 0.0079092573*I,                             0],\n",
       "[                            0,  0.000758263 + 0.0079092573*I,  0.8923431851 + 0.0035290534*I,                             0,  0.4498908833 + 0.0353022311*I,                              0,                              0,                             0],\n",
       "[                            0,                             0,                              0, 0.8923785578 + 0.0035291933*I,                              0,  0.4498730503 + 0.0353008317*I, -0.0007108045 + 0.0039546286*I,                             0],\n",
       "[                            0,                             0,                              0,                             0,                              0,  0.0008497033 + 0.0088630496*I,  0.9999525415 + 0.0039546286*I,                             0],\n",
       "[                            0,                             0,                              0,                             0,                              0,                              0,                              0, 0.9999921798 + 0.0039547854*I]])"
      ]
     },
     "execution_count": 5,
     "metadata": {},
     "output_type": "execute_result"
    }
   ],
   "source": [
    "U_ideal=matrix_from_circuit(qc_U, type=\"numpy\")\n",
    "Matrix(U_ideal)"
   ]
  },
  {
   "cell_type": "code",
   "execution_count": 6,
   "metadata": {},
   "outputs": [
    {
     "data": {
      "image/png": "[encoded data removed]",
      "text/plain": [
       "<Figure size 507.997x264.88 with 1 Axes>"
      ]
     },
     "execution_count": 6,
     "metadata": {},
     "output_type": "execute_result"
    }
   ],
   "source": [
    "qr_evo = QuantumRegister(3, name=\"q\")\n",
    "qc_evo = QuantumCircuit(qr_evo, name=\"U\")\n",
    "\n",
    "qc_evo.x([qr_evo[1],qr_evo[2]])\n",
    "qc_evo.append(qc_U, qr_evo)\n",
    "\n",
    "qcs_tomo = state_tomography_circuits(qc_evo, qr_evo)\n",
    "qcs_tomo[3].draw(output=\"mpl\")"
   ]
  },
  {
   "cell_type": "code",
   "execution_count": 7,
   "metadata": {},
   "outputs": [],
   "source": [
    "qr_cal = QuantumRegister(3)\n",
    "cal_circ, state_labels = complete_meas_cal(qubit_list=[0,1,2], qr=qr_cal, circlabel='mcal')"
   ]
  },
  {
   "cell_type": "code",
   "execution_count": 8,
   "metadata": {},
   "outputs": [
    {
     "data": {
      "text/html": [
       "<pre style=\"word-wrap: normal;white-space: pre;background: #fff0;line-height: 1.1;font-family: &quot;Courier New&quot;,Courier,monospace\">        ░ ┌─┐      \n",
       "q34_0: ─░─┤M├──────\n",
       "        ░ └╥┘┌─┐   \n",
       "q34_1: ─░──╫─┤M├───\n",
       "        ░  ║ └╥┘┌─┐\n",
       "q34_2: ─░──╫──╫─┤M├\n",
       "        ░  ║  ║ └╥┘\n",
       " c1: 3/════╩══╩══╩═\n",
       "           0  1  2 </pre>"
      ],
      "text/plain": [
       "        ░ ┌─┐      \n",
       "q34_0: ─░─┤M├──────\n",
       "        ░ └╥┘┌─┐   \n",
       "q34_1: ─░──╫─┤M├───\n",
       "        ░  ║ └╥┘┌─┐\n",
       "q34_2: ─░──╫──╫─┤M├\n",
       "        ░  ║  ║ └╥┘\n",
       " c1: 3/════╩══╩══╩═\n",
       "           0  1  2 "
      ]
     },
     "execution_count": 8,
     "metadata": {},
     "output_type": "execute_result"
    }
   ],
   "source": [
    "cal_circ[0].draw()"
   ]
  },
  {
   "cell_type": "code",
   "execution_count": 9,
   "metadata": {},
   "outputs": [
    {
     "data": {
      "text/plain": [
       "['000', '001', '010', '011', '100', '101', '110', '111']"
      ]
     },
     "execution_count": 9,
     "metadata": {},
     "output_type": "execute_result"
    }
   ],
   "source": [
    "state_labels"
   ]
  },
  {
   "cell_type": "code",
   "execution_count": 10,
   "metadata": {},
   "outputs": [],
   "source": [
    "calib_circuits_identity = []\n",
    "calib_circuits_itself = []\n",
    "\n",
    "for i in state_labels:\n",
    "\n",
    "    cr_cal_itself = ClassicalRegister(3)\n",
    "    qr_cal_itself = QuantumRegister(3)\n",
    "    qc_cal_itself = QuantumCircuit(qr_cal_itself, cr_cal_itself, name=f\"mcalcal_{i}\")\n",
    "\n",
    "    cr_cal_id = ClassicalRegister(3)\n",
    "    qr_cal_id = QuantumRegister(3)\n",
    "    qc_cal_id = QuantumCircuit(qr_cal_id, cr_cal_id, name=f\"mcalcal_{i}\")\n",
    "\n",
    "    qc_cal_id.append(qc_U, qr_cal_id)\n",
    "\n",
    "    for k in range(3):\n",
    "        if i[::-1][k] == \"1\":\n",
    "            qc_cal_itself.x(qr_cal_itself[k])\n",
    "            qc_cal_id.x(qr_cal_id[k])\n",
    "        \n",
    "    qc_cal_itself.append(qc_U, qr_cal_itself)\n",
    "    \n",
    "    qc_cal_id.measure(qr_cal_id, cr_cal_id)\n",
    "    qc_cal_itself.measure(qr_cal_itself, cr_cal_itself)\n",
    "\n",
    "    calib_circuits_identity.append(qc_cal_id)\n",
    "    calib_circuits_itself.append(qc_cal_itself)"
   ]
  },
  {
   "cell_type": "code",
   "execution_count": 11,
   "metadata": {},
   "outputs": [
    {
     "data": {
      "text/html": [
       "<pre style=\"word-wrap: normal;white-space: pre;background: #fff0;line-height: 1.1;font-family: &quot;Courier New&quot;,Courier,monospace\">       ┌────┐┌───┐   ┌─┐\n",
       "q38_0: ┤0   ├┤ X ├───┤M├\n",
       "       │    │└┬─┬┘   └╥┘\n",
       "q38_1: ┤1 U ├─┤M├─────╫─\n",
       "       │    │ └╥┘ ┌─┐ ║ \n",
       "q38_2: ┤2   ├──╫──┤M├─╫─\n",
       "       └────┘  ║  └╥┘ ║ \n",
       " c5: 3/════════╩═══╩══╩═\n",
       "               1   2  0 </pre>"
      ],
      "text/plain": [
       "       ┌────┐┌───┐   ┌─┐\n",
       "q38_0: ┤0   ├┤ X ├───┤M├\n",
       "       │    │└┬─┬┘   └╥┘\n",
       "q38_1: ┤1 U ├─┤M├─────╫─\n",
       "       │    │ └╥┘ ┌─┐ ║ \n",
       "q38_2: ┤2   ├──╫──┤M├─╫─\n",
       "       └────┘  ║  └╥┘ ║ \n",
       " c5: 3/════════╩═══╩══╩═\n",
       "               1   2  0 "
      ]
     },
     "execution_count": 11,
     "metadata": {},
     "output_type": "execute_result"
    }
   ],
   "source": [
    "calib_circuits_identity[1].draw()"
   ]
  },
  {
   "cell_type": "code",
   "execution_count": 12,
   "metadata": {},
   "outputs": [
    {
     "data": {
      "text/html": [
       "<pre style=\"word-wrap: normal;white-space: pre;background: #fff0;line-height: 1.1;font-family: &quot;Courier New&quot;,Courier,monospace\">       ┌───┐┌────┐┌─┐      \n",
       "q37_0: ┤ X ├┤0   ├┤M├──────\n",
       "       └───┘│    │└╥┘┌─┐   \n",
       "q37_1: ─────┤1 U ├─╫─┤M├───\n",
       "            │    │ ║ └╥┘┌─┐\n",
       "q37_2: ─────┤2   ├─╫──╫─┤M├\n",
       "            └────┘ ║  ║ └╥┘\n",
       " c4: 3/════════════╩══╩══╩═\n",
       "                   0  1  2 </pre>"
      ],
      "text/plain": [
       "       ┌───┐┌────┐┌─┐      \n",
       "q37_0: ┤ X ├┤0   ├┤M├──────\n",
       "       └───┘│    │└╥┘┌─┐   \n",
       "q37_1: ─────┤1 U ├─╫─┤M├───\n",
       "            │    │ ║ └╥┘┌─┐\n",
       "q37_2: ─────┤2   ├─╫──╫─┤M├\n",
       "            └────┘ ║  ║ └╥┘\n",
       " c4: 3/════════════╩══╩══╩═\n",
       "                   0  1  2 "
      ]
     },
     "execution_count": 12,
     "metadata": {},
     "output_type": "execute_result"
    }
   ],
   "source": [
    "calib_circuits_itself[1].draw()"
   ]
  },
  {
   "cell_type": "code",
   "execution_count": 13,
   "metadata": {},
   "outputs": [],
   "source": [
    "job_tomo=execute(qcs_tomo, backend, shots=shots, initial_layout=[1,3,5])\n",
    "\n",
    "job_cal_our_identity=execute(calib_circuits_identity, backend = backend, shots=shots, initial_layout=[1,3,5])\n",
    "\n",
    "job_cal_our_itself=execute(calib_circuits_itself, backend = backend, shots=shots, initial_layout=[1,3,5])\n",
    "\n",
    "job_cal_qiskit=execute(cal_circ, backend, shots=shots, initial_layout=[1,3,5])"
   ]
  },
  {
   "cell_type": "code",
   "execution_count": 14,
   "metadata": {},
   "outputs": [],
   "source": [
    "qiskit_raw_cal = deepcopy(job_cal_qiskit.result().get_counts())"
   ]
  },
  {
   "cell_type": "markdown",
   "metadata": {},
   "source": [
    "# Mitigation:\n",
    "\n",
    "    - building the calibration matrices"
   ]
  },
  {
   "cell_type": "code",
   "execution_count": 15,
   "metadata": {},
   "outputs": [],
   "source": [
    "meas_fitter_our_identity = CompleteMeasFitter(job_cal_our_identity.result(), state_labels=state_labels)\n",
    "meas_fitter_our_itself = CompleteMeasFitter(job_cal_our_itself.result(), state_labels=state_labels)\n",
    "meas_fitter_qiskit = CompleteMeasFitter(job_cal_qiskit.result(), state_labels=state_labels)"
   ]
  },
  {
   "cell_type": "code",
   "execution_count": 16,
   "metadata": {},
   "outputs": [],
   "source": [
    "new_counts_qiskit = []\n",
    "for counts in job_cal_qiskit.result().get_counts():\n",
    "    new_counts_qiskit.append(meas_fitter_qiskit.filter.apply(counts, method=\"least_squares\"))"
   ]
  },
  {
   "cell_type": "code",
   "execution_count": 17,
   "metadata": {},
   "outputs": [
    {
     "data": {
      "text/latex": [
       "$\\displaystyle \\left[\\begin{matrix}1.0 & 1.8029459029596 \\cdot 10^{-24} & 1.54746155895877 \\cdot 10^{-9} & 0 & 3.46581055107702 \\cdot 10^{-10} & 0 & 3.8142247715217 \\cdot 10^{-9} & 0\\\\4.52713699319006 \\cdot 10^{-17} & 1.0 & 4.47140506668314 \\cdot 10^{-9} & 4.2351647362715 \\cdot 10^{-25} & 2.19899312195286 \\cdot 10^{-9} & 1.6940658945086 \\cdot 10^{-24} & 3.95584006155324 \\cdot 10^{-9} & 0\\\\0 & 0 & 0.999999979390102 & 1.3930805177582 \\cdot 10^{-16} & 2.25406125576449 \\cdot 10^{-9} & 0 & 5.69417103318641 \\cdot 10^{-10} & 0\\\\0 & 0 & 2.37572169154657 \\cdot 10^{-10} & 1.0 & 2.34368536449143 \\cdot 10^{-9} & 0 & 3.73514703549179 \\cdot 10^{-9} & 5.29395592033938 \\cdot 10^{-25}\\\\6.7762635780344 \\cdot 10^{-24} & 0 & 4.50859684683787 \\cdot 10^{-9} & 4.2351647362715 \\cdot 10^{-25} & 0.999999989371812 & 0 & 1.35898942736038 \\cdot 10^{-9} & 0\\\\3.3881317890172 \\cdot 10^{-24} & 1.05879118406788 \\cdot 10^{-24} & 4.69288284044977 \\cdot 10^{-9} & 4.2351647362715 \\cdot 10^{-25} & 3.03821520988498 \\cdot 10^{-10} & 1.0 & 3.80617586317328 \\cdot 10^{-9} & 0\\\\0 & 0 & 7.17237974747452 \\cdot 10^{-10} & 4.2351647362715 \\cdot 10^{-25} & 9.35532780987382 \\cdot 10^{-10} & 1.6940658945086 \\cdot 10^{-24} & 0.999999982514566 & 5.28804449857631 \\cdot 10^{-17}\\\\3.3881317890172 \\cdot 10^{-24} & 1.6940658945086 \\cdot 10^{-24} & 4.43474180461534 \\cdot 10^{-9} & 0 & 2.24551314215692 \\cdot 10^{-9} & 0 & 2.45639505156575 \\cdot 10^{-10} & 1.0\\end{matrix}\\right]$"
      ],
      "text/plain": [
       "Matrix([\n",
       "[                 1.0,  1.8029459029596e-24,  1.54746155895877e-9,                   0, 3.46581055107702e-10,                   0,   3.8142247715217e-9,                    0],\n",
       "[4.52713699319006e-17,                  1.0,  4.47140506668314e-9, 4.2351647362715e-25,  2.19899312195286e-9, 1.6940658945086e-24,  3.95584006155324e-9,                    0],\n",
       "[                   0,                    0,    0.999999979390102, 1.3930805177582e-16,  2.25406125576449e-9,                   0, 5.69417103318641e-10,                    0],\n",
       "[                   0,                    0, 2.37572169154657e-10,                 1.0,  2.34368536449143e-9,                   0,  3.73514703549179e-9, 5.29395592033938e-25],\n",
       "[ 6.7762635780344e-24,                    0,  4.50859684683787e-9, 4.2351647362715e-25,    0.999999989371812,                   0,  1.35898942736038e-9,                    0],\n",
       "[ 3.3881317890172e-24, 1.05879118406788e-24,  4.69288284044977e-9, 4.2351647362715e-25, 3.03821520988498e-10,                 1.0,  3.80617586317328e-9,                    0],\n",
       "[                   0,                    0, 7.17237974747452e-10, 4.2351647362715e-25, 9.35532780987382e-10, 1.6940658945086e-24,    0.999999982514566, 5.28804449857631e-17],\n",
       "[ 3.3881317890172e-24,  1.6940658945086e-24,  4.43474180461534e-9,                   0,  2.24551314215692e-9,                   0, 2.45639505156575e-10,                  1.0]])"
      ]
     },
     "execution_count": 17,
     "metadata": {},
     "output_type": "execute_result"
    }
   ],
   "source": [
    "migigated_qiskit = occurrences_to_matrix(new_counts_qiskit)\n",
    "Matrix(migigated_qiskit)"
   ]
  },
  {
   "cell_type": "code",
   "execution_count": 18,
   "metadata": {},
   "outputs": [
    {
     "data": {
      "text/latex": [
       "$\\displaystyle \\left[\\begin{matrix}0.94 & 0.051 & 0.034 & 0.0023 & 0.034 & 0.0014 & 0.00094 & 0\\\\0.018 & 0.91 & 0.00075 & 0.031 & 0.00081 & 0.031 & 0 & 0.00094\\\\0.011 & 0.00072 & 0.92 & 0.048 & 0 & 0 & 0.031 & 0.0015\\\\0 & 0.01 & 0.018 & 0.89 & 0 & 0 & 0.00075 & 0.03\\\\0.029 & 0.0014 & 0.00094 & 0 & 0.94 & 0.047 & 0.034 & 0.0016\\\\0.00075 & 0.026 & 0 & 0.00088 & 0.017 & 0.91 & 0 & 0.032\\\\0 & 0 & 0.028 & 0.0014 & 0.011 & 0.00056 & 0.92 & 0.047\\\\0 & 0 & 0.00059 & 0.027 & 0 & 0.01 & 0.018 & 0.89\\end{matrix}\\right]$"
      ],
      "text/plain": [
       "Matrix([\n",
       "[   0.94,   0.051,   0.034,  0.0023,   0.034,  0.0014, 0.00094,       0],\n",
       "[  0.018,    0.91, 0.00075,   0.031, 0.00081,   0.031,       0, 0.00094],\n",
       "[  0.011, 0.00072,    0.92,   0.048,       0,       0,   0.031,  0.0015],\n",
       "[      0,    0.01,   0.018,    0.89,       0,       0, 0.00075,    0.03],\n",
       "[  0.029,  0.0014, 0.00094,       0,    0.94,   0.047,   0.034,  0.0016],\n",
       "[0.00075,   0.026,       0, 0.00088,   0.017,    0.91,       0,   0.032],\n",
       "[      0,       0,   0.028,  0.0014,   0.011, 0.00056,    0.92,   0.047],\n",
       "[      0,       0, 0.00059,   0.027,       0,    0.01,   0.018,    0.89]])"
      ]
     },
     "execution_count": 18,
     "metadata": {},
     "output_type": "execute_result"
    }
   ],
   "source": [
    "not_migigated_qiskit = occurrences_to_matrix(qiskit_raw_cal)\n",
    "Matrix(not_migigated_qiskit).n(2, chop=True)"
   ]
  },
  {
   "cell_type": "code",
   "execution_count": 19,
   "metadata": {},
   "outputs": [
    {
     "data": {
      "text/latex": [
       "$\\displaystyle \\left[\\begin{matrix}1.1 & -0.059 & -0.04 & 0.0016 & -0.038 & 0.0023 & 0.0017 & 0\\\\-0.021 & 1.1 & 0.00065 & -0.039 & 0 & -0.037 & 0 & 0.0015\\\\-0.013 & 0.00055 & 1.1 & -0.059 & 0.00053 & 0 & -0.037 & 0.0021\\\\0 & -0.013 & -0.023 & 1.1 & 0 & 0 & 0.00059 & -0.038\\\\-0.033 & 0.0018 & 0.0013 & 0 & 1.1 & -0.055 & -0.039 & 0.0021\\\\0 & -0.032 & 0 & 0.0012 & -0.02 & 1.1 & 0.001 & -0.04\\\\0 & 0 & -0.033 & 0.0018 & -0.012 & 0.00062 & 1.1 & -0.058\\\\0 & 0 & 0.00063 & -0.034 & 0 & -0.013 & -0.022 & 1.1\\end{matrix}\\right]$"
      ],
      "text/plain": [
       "Matrix([\n",
       "[   1.1,  -0.059,   -0.04, 0.0016,  -0.038,  0.0023,  0.0017,      0],\n",
       "[-0.021,     1.1, 0.00065, -0.039,       0,  -0.037,       0, 0.0015],\n",
       "[-0.013, 0.00055,     1.1, -0.059, 0.00053,       0,  -0.037, 0.0021],\n",
       "[     0,  -0.013,  -0.023,    1.1,       0,       0, 0.00059, -0.038],\n",
       "[-0.033,  0.0018,  0.0013,      0,     1.1,  -0.055,  -0.039, 0.0021],\n",
       "[     0,  -0.032,       0, 0.0012,   -0.02,     1.1,   0.001,  -0.04],\n",
       "[     0,       0,  -0.033, 0.0018,  -0.012, 0.00062,     1.1, -0.058],\n",
       "[     0,       0, 0.00063, -0.034,       0,  -0.013,  -0.022,    1.1]])"
      ]
     },
     "execution_count": 19,
     "metadata": {},
     "output_type": "execute_result"
    }
   ],
   "source": [
    "calib = np.linalg.multi_dot([migigated_qiskit, np.linalg.inv(not_migigated_qiskit)])\n",
    "Matrix(calib).n(2, chop=True)"
   ]
  },
  {
   "cell_type": "code",
   "execution_count": 20,
   "metadata": {},
   "outputs": [],
   "source": [
    "U_tilde_identity=meas_fitter_our_identity.cal_matrix\n",
    "U_tilde_itself=meas_fitter_our_itself.cal_matrix\n",
    "U_tilde_qiskit=meas_fitter_qiskit.cal_matrix"
   ]
  },
  {
   "cell_type": "code",
   "execution_count": 21,
   "metadata": {},
   "outputs": [
    {
     "data": {
      "text/plain": [
       "224"
      ]
     },
     "execution_count": 21,
     "metadata": {},
     "output_type": "execute_result"
    }
   ],
   "source": [
    "27*8+8"
   ]
  },
  {
   "cell_type": "code",
   "execution_count": 22,
   "metadata": {},
   "outputs": [],
   "source": [
    "#Matrix(np.linalg.inv()).n(2, chop=True)"
   ]
  },
  {
   "cell_type": "code",
   "execution_count": 23,
   "metadata": {},
   "outputs": [],
   "source": [
    "def matrix_from_cirquit(qc, phase=0, type=\"sympy\"):\n",
    "\n",
    "    backend = Aer.get_backend('unitary_simulator')\n",
    "    job = execute(qc, backend, shots=32000)\n",
    "    result = job.result()\n",
    "    A=result.get_unitary(qc, decimals=10)*np.exp(1j*phase)\n",
    "    if type==\"sympy\":\n",
    "        return Matrix(A)\n",
    "    else:\n",
    "        return A"
   ]
  },
  {
   "cell_type": "code",
   "execution_count": 24,
   "metadata": {},
   "outputs": [
    {
     "data": {
      "text/html": [
       "<pre style=\"word-wrap: normal;white-space: pre;background: #fff0;line-height: 1.1;font-family: &quot;Courier New&quot;,Courier,monospace\">          ░ ┌─────┐ ┌───┐      ┌─┐   \n",
       "q1172_0: ─░─┤ Sdg ├─┤ H ├──────┤M├───\n",
       "          ░ └─┬─┬─┘ └───┘      └╥┘   \n",
       "q1172_1: ─░───┤M├───────────────╫────\n",
       "          ░   └╥┘  ┌─────┐┌───┐ ║ ┌─┐\n",
       "q1172_2: ─░────╫───┤ Sdg ├┤ H ├─╫─┤M├\n",
       "          ░    ║   └─────┘└───┘ ║ └╥┘\n",
       "  c18: 3/══════╩════════════════╩══╩═\n",
       "               1                0  2 </pre>"
      ],
      "text/plain": [
       "          ░ ┌─────┐ ┌───┐      ┌─┐   \n",
       "q1172_0: ─░─┤ Sdg ├─┤ H ├──────┤M├───\n",
       "          ░ └─┬─┬─┘ └───┘      └╥┘   \n",
       "q1172_1: ─░───┤M├───────────────╫────\n",
       "          ░   └╥┘  ┌─────┐┌───┐ ║ ┌─┐\n",
       "q1172_2: ─░────╫───┤ Sdg ├┤ H ├─╫─┤M├\n",
       "          ░    ║   └─────┘└───┘ ║ └╥┘\n",
       "  c18: 3/══════╩════════════════╩══╩═\n",
       "               1                0  2 "
      ]
     },
     "execution_count": 24,
     "metadata": {},
     "output_type": "execute_result"
    }
   ],
   "source": [
    "qr_basi = QuantumRegister(3)\n",
    "qc_basi = QuantumCircuit(qr_basi)\n",
    "\n",
    "qcs_basis = state_tomography_circuits(qc_basi, qr_basi)\n",
    "\n",
    "qcs_basis[0].remove_final_measurements()\n",
    "\n",
    "qcs_basis[16].draw()"
   ]
  },
  {
   "cell_type": "code",
   "execution_count": 25,
   "metadata": {},
   "outputs": [],
   "source": [
    "C_matrices_itself = []\n",
    "C_matrices_identity = []\n",
    "\n",
    "C_itself = np.matmul(U_tilde_itself, np.linalg.inv(U_ideal))\n",
    "C_identity = U_tilde_identity\n",
    "\n",
    "for base in qcs_basis:\n",
    "    \n",
    "    base.remove_final_measurements()\n",
    "\n",
    "    base_matrix = np.matrix(matrix_from_cirquit(base, type=\"numpy\"))\n",
    "    base_matrix_H = base_matrix.getH()\n",
    "\n",
    "    C_aus_itself = np.linalg.multi_dot([U_tilde_qiskit, base_matrix, np.linalg.inv(U_tilde_qiskit), U_tilde_itself, np.linalg.inv(U_ideal),  base_matrix_H])\n",
    "    #C_aus_itself = np.linalg.multi_dot([base_matrix, U_tilde_qiskit, np.linalg.inv(U_tilde_qiskit), C_itself])\n",
    "    C_aus_identity = np.matmul(base_matrix, np.matmul(C_identity, base_matrix_H))\n",
    "\n",
    "    C_matrices_identity.append(np.asarray(C_aus_identity))\n",
    "    C_matrices_itself.append(np.asarray(C_aus_itself))"
   ]
  },
  {
   "cell_type": "code",
   "execution_count": 26,
   "metadata": {},
   "outputs": [],
   "source": [
    "from copy import deepcopy\n",
    "\n",
    "meas_fitters_identity = []\n",
    "meas_fitters_itself = []\n",
    "\n",
    "for C_new in C_matrices_identity:\n",
    "    meas_fitter_our_aus = deepcopy(meas_fitter_our_identity)\n",
    "    meas_fitter_our_aus._tens_fitt.cal_matrices[0]=C_new\n",
    "\n",
    "    meas_fitters_identity.append(meas_fitter_our_aus)\n",
    "\n",
    "for C_new in C_matrices_itself:\n",
    "    meas_fitter_our_aus = deepcopy(meas_fitter_our_itself)\n",
    "    meas_fitter_our_aus._tens_fitt.cal_matrices[0]=C_new\n",
    "\n",
    "    meas_fitters_itself.append(meas_fitter_our_aus)"
   ]
  },
  {
   "cell_type": "code",
   "execution_count": 27,
   "metadata": {},
   "outputs": [],
   "source": [
    "target_state = (One^One^Zero).to_matrix()\n",
    "#target_state = (Zero^One^One).to_matrix()\n",
    "\n",
    "\n",
    "fids=np.zeros(4)\n",
    "\n",
    "raw_res=deepcopy(job_tomo.result())\n",
    "qiskit_res=deepcopy(raw_res)\n",
    "identity_res=deepcopy(raw_res)\n",
    "itself_res=deepcopy(raw_res)"
   ]
  },
  {
   "cell_type": "code",
   "execution_count": 28,
   "metadata": {},
   "outputs": [
    {
     "data": {
      "text/plain": [
       "{'101': 54,\n",
       " '110': 28100,\n",
       " '100': 1269,\n",
       " '001': 9,\n",
       " '011': 118,\n",
       " '111': 1061,\n",
       " '000': 114,\n",
       " '010': 1275}"
      ]
     },
     "execution_count": 28,
     "metadata": {},
     "output_type": "execute_result"
    }
   ],
   "source": [
    "raw_res.get_counts(-1)"
   ]
  },
  {
   "cell_type": "code",
   "execution_count": 29,
   "metadata": {},
   "outputs": [],
   "source": [
    "for i in range(27):\n",
    "\n",
    "    old_counts=raw_res.get_counts(i)\n",
    "    new_counts_qiskit = meas_fitter_qiskit.filter.apply(old_counts, method=\"least_squares\")\n",
    "    qiskit_res.results[i].data.counts = new_counts_qiskit\n"
   ]
  },
  {
   "cell_type": "code",
   "execution_count": 30,
   "metadata": {},
   "outputs": [
    {
     "data": {
      "text/plain": [
       "27"
      ]
     },
     "execution_count": 30,
     "metadata": {},
     "output_type": "execute_result"
    }
   ],
   "source": [
    "len(qiskit_res.get_counts())"
   ]
  },
  {
   "cell_type": "code",
   "execution_count": 31,
   "metadata": {},
   "outputs": [],
   "source": [
    "for i in range(27):\n",
    "\n",
    "    new_counts_id = meas_fitters_identity[i].filter.apply(old_counts, method=\"least_squares\")\n",
    "    identity_res.results[i].data.counts = new_counts_id\n",
    "\n",
    "    new_counts_it = meas_fitters_itself[i].filter.apply(old_counts, method=\"least_squares\")\n",
    "    itself_res.results[i].data.counts = new_counts_it"
   ]
  },
  {
   "cell_type": "code",
   "execution_count": 32,
   "metadata": {},
   "outputs": [
    {
     "data": {
      "text/plain": [
       "{'001': 2.188870455527247e-12,\n",
       " '011': 2.4081803480235617,\n",
       " '100': 1.1571743969119713e-12,\n",
       " '110': 31985.32798492838,\n",
       " '111': 12.263834723605553}"
      ]
     },
     "execution_count": 32,
     "metadata": {},
     "output_type": "execute_result"
    }
   ],
   "source": [
    "itself_res.get_counts(-1)"
   ]
  },
  {
   "cell_type": "code",
   "execution_count": 33,
   "metadata": {},
   "outputs": [
    {
     "data": {
      "text/plain": [
       "{'000': 1.6690957113248373e-11,\n",
       " '010': 140.90358041561197,\n",
       " '100': 2.019466805621939e-11,\n",
       " '101': 1.6483158919662713e-12,\n",
       " '110': 31859.096419584348,\n",
       " '111': 9.486005934107732e-12}"
      ]
     },
     "execution_count": 33,
     "metadata": {},
     "output_type": "execute_result"
    }
   ],
   "source": [
    "identity_res.get_counts(-1)"
   ]
  },
  {
   "cell_type": "code",
   "execution_count": 34,
   "metadata": {},
   "outputs": [
    {
     "data": {
      "text/plain": [
       "array([0.87956445, 0.96003605, 0.49202643, 0.49434619])"
      ]
     },
     "execution_count": 34,
     "metadata": {},
     "output_type": "execute_result"
    }
   ],
   "source": [
    "fids[0] = fidelity_count(raw_res, qcs_tomo, target_state)\n",
    "fids[1] = fidelity_count(qiskit_res, qcs_tomo, target_state)\n",
    "fids[2] = fidelity_count(identity_res, qcs_tomo, target_state)\n",
    "fids[3] = fidelity_count(itself_res, qcs_tomo, target_state)\n",
    "\n",
    "fids"
   ]
  },
  {
   "cell_type": "code",
   "execution_count": null,
   "metadata": {},
   "outputs": [],
   "source": []
  },
  {
   "cell_type": "code",
   "execution_count": null,
   "metadata": {},
   "outputs": [],
   "source": []
  },
  {
   "cell_type": "code",
   "execution_count": null,
   "metadata": {},
   "outputs": [],
   "source": []
  }
 ],
 "metadata": {
  "interpreter": {
   "hash": "aee8b7b246df8f9039afb4144a1f6fd8d2ca17a180786b69acc140d282b71a49"
  },
  "kernelspec": {
   "display_name": "Python 3.10.2 64-bit",
   "language": "python",
   "name": "python3"
  },
  "language_info": {
   "codemirror_mode": {
    "name": "ipython",
    "version": 3
   },
   "file_extension": ".py",
   "mimetype": "text/x-python",
   "name": "python",
   "nbconvert_exporter": "python",
   "pygments_lexer": "ipython3",
   "version": "3.8.0"
  },
  "orig_nbformat": 4
 },
 "nbformat": 4,
 "nbformat_minor": 2
}
