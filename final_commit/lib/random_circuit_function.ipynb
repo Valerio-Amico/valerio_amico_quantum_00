{
 "cells": [
  {
   "cell_type": "code",
   "execution_count": 92,
   "metadata": {},
   "outputs": [],
   "source": [
    "#from lib.functions0 import *\n",
    "#from lib.utility import *\n",
    "import numpy as np\n",
    "from scipy.linalg import expm\n",
    "#from qiskit.utils.mitigation.fitters import CompleteMeasFitter\n",
    "from qiskit.ignis.mitigation.measurement import  complete_meas_cal\n",
    "from qiskit import Aer, assemble, QuantumCircuit, QuantumRegister, ClassicalRegister, IBMQ, transpile, execute\n",
    "from qiskit.providers.aer import AerSimulator, QasmSimulator\n",
    "from qiskit.opflow import Zero, One, I, X, Y, Z\n",
    "from qiskit.ignis.verification.tomography import state_tomography_circuits, StateTomographyFitter\n",
    "from qiskit.quantum_info import state_fidelity\n",
    "import matplotlib.pyplot as plt\n",
    "%load_ext autoreload\n",
    "%autoreload 2\n",
    "import warnings\n",
    "warnings.filterwarnings('ignore')\n",
    "IBMQ.load_account()\n",
    "provider = IBMQ.get_provider(hub='ibm-q-community',\n",
    "                            group='ibmquantumawards', \n",
    "                            project='open-science-22')\n",
    "\n",
    "backend_sim_jakarta = QasmSimulator.from_backend(provider.get_backend('ibmq_jakarta'))\n",
    "backend_real_jakarta = provider.get_backend('ibmq_jakarta')\n",
    "backend_sim = Aer.get_backend('qasm_simulator')"
   ]
  },
  {
   "cell_type": "code",
   "execution_count": 132,
   "metadata": {},
   "outputs": [],
   "source": [
    "def random_circuit(depth,N_qubit):\n",
    "    qr=QuantumRegister(N_qubit)\n",
    "    qc=QuantumCircuit(qr)\n",
    "    i_CNOT=0\n",
    "    list=[\n",
    "        'rx',\n",
    "        'ry',\n",
    "        'rz',\n",
    "        'cx',\n",
    "    ]\n",
    "    while i_CNOT < depth:\n",
    "        a=np.random.randint(low=4)\n",
    "        if a==3:\n",
    "            target=0\n",
    "            control=0\n",
    "            while target==control:\n",
    "                target_control=np.random.randint(low=N_qubit,size=2)\n",
    "                target=target_control[0]\n",
    "                control=target_control[1]\n",
    "            qc.cx(qr[target],qr[control])\n",
    "            i_CNOT=i_CNOT+1\n",
    "        else:\n",
    "            theta0=np.random.uniform(0,2*np.pi)\n",
    "            qubits=np.random.randint(low=N_qubit)\n",
    "            if a==0:\n",
    "                qc.rx(qubit=qubits,theta=theta0)\n",
    "            if a==1:\n",
    "                qc.ry(qubit=qubits,theta=theta0)\n",
    "            if a==2:\n",
    "                qc.rz(qubit=qubits,phi=theta0)       \n",
    "\n",
    "\n",
    "\n",
    "    return qc"
   ]
  },
  {
   "cell_type": "code",
   "execution_count": null,
   "metadata": {},
   "outputs": [],
   "source": []
  },
  {
   "cell_type": "code",
   "execution_count": null,
   "metadata": {},
   "outputs": [],
   "source": []
  },
  {
   "cell_type": "code",
   "execution_count": null,
   "metadata": {},
   "outputs": [],
   "source": []
  },
  {
   "cell_type": "code",
   "execution_count": null,
   "metadata": {},
   "outputs": [],
   "source": []
  },
  {
   "cell_type": "code",
   "execution_count": null,
   "metadata": {},
   "outputs": [],
   "source": []
  },
  {
   "cell_type": "code",
   "execution_count": null,
   "metadata": {},
   "outputs": [],
   "source": []
  },
  {
   "cell_type": "code",
   "execution_count": null,
   "metadata": {},
   "outputs": [],
   "source": []
  }
 ],
 "metadata": {
  "interpreter": {
   "hash": "43c63ec9e768b255885d3517e99c619b577f32936289dd6d35e465265e1fb14c"
  },
  "kernelspec": {
   "display_name": "Python 3.8.3 ('base')",
   "language": "python",
   "name": "python3"
  },
  "language_info": {
   "codemirror_mode": {
    "name": "ipython",
    "version": 3
   },
   "file_extension": ".py",
   "mimetype": "text/x-python",
   "name": "python",
   "nbconvert_exporter": "python",
   "pygments_lexer": "ipython3",
   "version": "3.8.3"
  },
  "orig_nbformat": 4
 },
 "nbformat": 4,
 "nbformat_minor": 2
}
