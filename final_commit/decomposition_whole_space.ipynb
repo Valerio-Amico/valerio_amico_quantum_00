{
 "cells": [
  {
   "cell_type": "markdown",
   "metadata": {},
   "source": [
    "# Whole space decomposition\n",
    "\n",
    "If the initial state is a superposition of states that belong to different magnetization eigenspace is not possible to use the single column decomposition, with4 c-not (see decomposition.ipynb). \n",
    "\n",
    "Here we describe the best decomposition for any initial state, that has 11 c-not (14 with the jakarta geometry). "
   ]
  },
  {
   "cell_type": "markdown",
   "metadata": {},
   "source": [
    "# 1) Idea explanation\n",
    "\n",
    "If we see the single trotter step matrix we understand that it acts indipendently on each parity subspace."
   ]
  },
  {
   "cell_type": "code",
   "execution_count": 1,
   "metadata": {},
   "outputs": [
    {
     "data": {
      "text/latex": [
       "$\\displaystyle \\left[\\begin{matrix}e^{- i \\alpha} & 0 & 0 & 0 & 0 & 0 & 0 & 0\\\\0 & \\cos{\\left(\\alpha \\right)} & - i \\sin{\\left(\\alpha \\right)} & 0 & 0 & 0 & 0 & 0\\\\0 & - i e^{i \\alpha} \\sin{\\left(\\alpha \\right)} \\cos{\\left(\\alpha \\right)} & e^{i \\alpha} \\cos^{2}{\\left(\\alpha \\right)} & 0 & - i \\sin{\\left(\\alpha \\right)} & 0 & 0 & 0\\\\0 & 0 & 0 & \\cos{\\left(\\alpha \\right)} & 0 & - i e^{i \\alpha} \\sin{\\left(\\alpha \\right)} \\cos{\\left(\\alpha \\right)} & - e^{i \\alpha} \\sin^{2}{\\left(\\alpha \\right)} & 0\\\\0 & - e^{i \\alpha} \\sin^{2}{\\left(\\alpha \\right)} & - i e^{i \\alpha} \\sin{\\left(\\alpha \\right)} \\cos{\\left(\\alpha \\right)} & 0 & \\cos{\\left(\\alpha \\right)} & 0 & 0 & 0\\\\0 & 0 & 0 & - i \\sin{\\left(\\alpha \\right)} & 0 & e^{i \\alpha} \\cos^{2}{\\left(\\alpha \\right)} & - i e^{i \\alpha} \\sin{\\left(\\alpha \\right)} \\cos{\\left(\\alpha \\right)} & 0\\\\0 & 0 & 0 & 0 & 0 & - i \\sin{\\left(\\alpha \\right)} & \\cos{\\left(\\alpha \\right)} & 0\\\\0 & 0 & 0 & 0 & 0 & 0 & 0 & e^{- i \\alpha}\\end{matrix}\\right]$"
      ],
      "text/plain": [
       "Matrix([\n",
       "[exp(-I*alpha),                                     0,                                     0,             0,             0,                                     0,                                     0,             0],\n",
       "[            0,                            cos(alpha),                         -I*sin(alpha),             0,             0,                                     0,                                     0,             0],\n",
       "[            0, -I*exp(I*alpha)*sin(alpha)*cos(alpha),            exp(I*alpha)*cos(alpha)**2,             0, -I*sin(alpha),                                     0,                                     0,             0],\n",
       "[            0,                                     0,                                     0,    cos(alpha),             0, -I*exp(I*alpha)*sin(alpha)*cos(alpha),           -exp(I*alpha)*sin(alpha)**2,             0],\n",
       "[            0,           -exp(I*alpha)*sin(alpha)**2, -I*exp(I*alpha)*sin(alpha)*cos(alpha),             0,    cos(alpha),                                     0,                                     0,             0],\n",
       "[            0,                                     0,                                     0, -I*sin(alpha),             0,            exp(I*alpha)*cos(alpha)**2, -I*exp(I*alpha)*sin(alpha)*cos(alpha),             0],\n",
       "[            0,                                     0,                                     0,             0,             0,                         -I*sin(alpha),                            cos(alpha),             0],\n",
       "[            0,                                     0,                                     0,             0,             0,                                     0,                                     0, exp(-I*alpha)]])"
      ]
     },
     "execution_count": 1,
     "metadata": {},
     "output_type": "execute_result"
    }
   ],
   "source": [
    "from functions0 import *\n",
    "from sympy import *\n",
    "\n",
    "parameter = Symbol(\"alpha\", real=True)\n",
    "\n",
    "Trotter_Step_Matrix = trotter_step_matrix(parameter)\n",
    "Trotter_Step_Matrix"
   ]
  },
  {
   "cell_type": "markdown",
   "metadata": {},
   "source": [
    "So what we've done is to find a base where the Trotter_Step_Matrix is in the form:\n",
    "\n",
    "$\n",
    "T_{step} = M \\otimes Id_{2x2}\n",
    "$\n",
    "\n",
    "Where M is the matrix of a fixed parity."
   ]
  },
  {
   "cell_type": "code",
   "execution_count": 2,
   "metadata": {},
   "outputs": [
    {
     "data": {
      "text/latex": [
       "$\\displaystyle \\left[\\begin{matrix}0 & 0 & 0 & 0 & 1 & 0 & 0 & 0\\\\0 & 0 & 1 & 0 & 0 & 0 & 0 & 0\\\\0 & 1 & 0 & 0 & 0 & 0 & 0 & 0\\\\1 & 0 & 0 & 0 & 0 & 0 & 0 & 0\\\\0 & 0 & 0 & 1 & 0 & 0 & 0 & 0\\\\0 & 0 & 0 & 0 & 0 & 1 & 0 & 0\\\\0 & 0 & 0 & 0 & 0 & 0 & 1 & 0\\\\0 & 0 & 0 & 0 & 0 & 0 & 0 & 1\\end{matrix}\\right]$"
      ],
      "text/plain": [
       "Matrix([\n",
       "[0, 0, 0, 0, 1, 0, 0, 0],\n",
       "[0, 0, 1, 0, 0, 0, 0, 0],\n",
       "[0, 1, 0, 0, 0, 0, 0, 0],\n",
       "[1, 0, 0, 0, 0, 0, 0, 0],\n",
       "[0, 0, 0, 1, 0, 0, 0, 0],\n",
       "[0, 0, 0, 0, 0, 1, 0, 0],\n",
       "[0, 0, 0, 0, 0, 0, 1, 0],\n",
       "[0, 0, 0, 0, 0, 0, 0, 1]])"
      ]
     },
     "execution_count": 2,
     "metadata": {},
     "output_type": "execute_result"
    }
   ],
   "source": [
    "from sympy.physics.quantum import TensorProduct as Tp\n",
    "\n",
    "B = Matrix([\n",
    "    [0,0,0,0,1,0,0,0],\n",
    "    [0,0,1,0,0,0,0,0],\n",
    "    [0,1,0,0,0,0,0,0],\n",
    "    [1,0,0,0,0,0,0,0],\n",
    "    [0,0,0,1,0,0,0,0],\n",
    "    [0,0,0,0,0,1,0,0],\n",
    "    [0,0,0,0,0,0,1,0],\n",
    "    [0,0,0,0,0,0,0,1]\n",
    "])\n",
    "B"
   ]
  },
  {
   "cell_type": "code",
   "execution_count": 3,
   "metadata": {},
   "outputs": [
    {
     "data": {
      "text/latex": [
       "$\\displaystyle \\left[\\begin{matrix}\\cos{\\left(\\alpha \\right)} & - i e^{i \\alpha} \\sin{\\left(\\alpha \\right)} \\cos{\\left(\\alpha \\right)} & - e^{i \\alpha} \\sin^{2}{\\left(\\alpha \\right)} & 0 & 0 & 0 & 0 & 0\\\\- i \\sin{\\left(\\alpha \\right)} & e^{i \\alpha} \\cos^{2}{\\left(\\alpha \\right)} & - i e^{i \\alpha} \\sin{\\left(\\alpha \\right)} \\cos{\\left(\\alpha \\right)} & 0 & 0 & 0 & 0 & 0\\\\0 & - i \\sin{\\left(\\alpha \\right)} & \\cos{\\left(\\alpha \\right)} & 0 & 0 & 0 & 0 & 0\\\\0 & 0 & 0 & e^{- i \\alpha} & 0 & 0 & 0 & 0\\\\0 & 0 & 0 & 0 & \\cos{\\left(\\alpha \\right)} & - i e^{i \\alpha} \\sin{\\left(\\alpha \\right)} \\cos{\\left(\\alpha \\right)} & - e^{i \\alpha} \\sin^{2}{\\left(\\alpha \\right)} & 0\\\\0 & 0 & 0 & 0 & - i \\sin{\\left(\\alpha \\right)} & e^{i \\alpha} \\cos^{2}{\\left(\\alpha \\right)} & - i e^{i \\alpha} \\sin{\\left(\\alpha \\right)} \\cos{\\left(\\alpha \\right)} & 0\\\\0 & 0 & 0 & 0 & 0 & - i \\sin{\\left(\\alpha \\right)} & \\cos{\\left(\\alpha \\right)} & 0\\\\0 & 0 & 0 & 0 & 0 & 0 & 0 & e^{- i \\alpha}\\end{matrix}\\right]$"
      ],
      "text/plain": [
       "Matrix([\n",
       "[   cos(alpha), -I*exp(I*alpha)*sin(alpha)*cos(alpha),           -exp(I*alpha)*sin(alpha)**2,             0,             0,                                     0,                                     0,             0],\n",
       "[-I*sin(alpha),            exp(I*alpha)*cos(alpha)**2, -I*exp(I*alpha)*sin(alpha)*cos(alpha),             0,             0,                                     0,                                     0,             0],\n",
       "[            0,                         -I*sin(alpha),                            cos(alpha),             0,             0,                                     0,                                     0,             0],\n",
       "[            0,                                     0,                                     0, exp(-I*alpha),             0,                                     0,                                     0,             0],\n",
       "[            0,                                     0,                                     0,             0,    cos(alpha), -I*exp(I*alpha)*sin(alpha)*cos(alpha),           -exp(I*alpha)*sin(alpha)**2,             0],\n",
       "[            0,                                     0,                                     0,             0, -I*sin(alpha),            exp(I*alpha)*cos(alpha)**2, -I*exp(I*alpha)*sin(alpha)*cos(alpha),             0],\n",
       "[            0,                                     0,                                     0,             0,             0,                         -I*sin(alpha),                            cos(alpha),             0],\n",
       "[            0,                                     0,                                     0,             0,             0,                                     0,                                     0, exp(-I*alpha)]])"
      ]
     },
     "execution_count": 3,
     "metadata": {},
     "output_type": "execute_result"
    }
   ],
   "source": [
    "B*Trotter_Step_Matrix*B.H"
   ]
  },
  {
   "cell_type": "markdown",
   "metadata": {},
   "source": [
    "This matrix conrresponds to a cirquit that acts only on the first two qubits because it's the tensor product of a 4x4 matrix with the identity 2x2.\n",
    "\n",
    "Since the B operator is just a permutation of qubits, so a base changing, we can change tha base before the evolution and apply N trotter steps in the new base:\n",
    "\n",
    "$\n",
    "B \\cdot T_{step}^N \\cdot B^{+} =( B \\cdot T_{step} \\cdot B^{+})\\cdot (  B \\cdot T_{step} \\cdot B^{+}) \\cdot ... \\cdot (B \\cdot T_{step} \\cdot B^{+}) = (M \\otimes Id_{2x2})^N\n",
    "$\n",
    "\n",
    "But in our circuit, to optimize the number of c-not, insted of changing the base and than apply the evolution in the new base, we prepare the initial state already in the new base:\n",
    "\n",
    "$\n",
    "|\\psi>_{prepared} = B^{+} \\cdot |\\psi>_{init} \n",
    "$\n",
    "\n",
    "So finally we have:\n",
    "\n",
    "$\n",
    "T_{step}^N |\\psi>_{init} =  B \\cdot B^{+} \\cdot T_{step}^N \\cdot B \\cdot B^{+} |\\psi>_{init} = B \\cdot( B^{+} \\cdot T_{step}^N \\cdot B) |\\psi>_{prepared} = \n",
    "$\n",
    "\n",
    "$\n",
    "=  B \\cdot (M \\otimes Id_{2x2})^N |\\psi>_{prepared} = B \\cdot (M^N \\otimes Id_{2x2}) |\\psi>_{prepared}\n",
    "$\n",
    "\n",
    "Now, we have just to decompose these matrix in circuits.\n"
   ]
  },
  {
   "cell_type": "markdown",
   "metadata": {},
   "source": [
    "# 2) Matrices to cirquits\n",
    "\n",
    "## 2.1) B matrix\n",
    "\n",
    "B is a permutation cirquit so is possible to make it just using x, c-x and toffoli gates.\n",
    "\n",
    "Qua ruben spiega un po tu che cazzo te sei n'ventato"
   ]
  },
  {
   "cell_type": "code",
   "execution_count": 6,
   "metadata": {},
   "outputs": [
    {
     "data": {
      "image/png": "[encoded data removed]",
      "text/plain": [
       "<Figure size 507.997x204.68 with 1 Axes>"
      ]
     },
     "execution_count": 6,
     "metadata": {},
     "output_type": "execute_result"
    }
   ],
   "source": [
    "qr=QuantumRegister(3, name=\"q\")\n",
    "B_qc=QuantumCircuit(qr, name=\"B\")\n",
    "B_qc.x(qr[2])\n",
    "B_qc.cx(qr[1],qr[0])\n",
    "B_qc.cx(qr[2],qr[1])\n",
    "B_qc.cx(qr[1],qr[0])\n",
    "B_qc.x([qr[0],qr[1],qr[2]])\n",
    "B_qc.append(Toffoli_gate(),[qr[0],qr[1],qr[2]])\n",
    "B_qc.x([qr[0],qr[1]])\n",
    "\n",
    "B_qc.draw(output=\"mpl\")"
   ]
  },
  {
   "cell_type": "code",
   "execution_count": 10,
   "metadata": {},
   "outputs": [
    {
     "data": {
      "image/png": "[encoded data removed]",
      "text/plain": [
       "<Figure size 1110x204.68 with 1 Axes>"
      ]
     },
     "execution_count": 10,
     "metadata": {},
     "output_type": "execute_result"
    }
   ],
   "source": [
    "transpile(B_qc, basis_gates=[\"cx\", \"x\", \"rz\", \"sx\"]).draw(output=\"mpl\")"
   ]
  },
  {
   "cell_type": "markdown",
   "metadata": {},
   "source": [
    "Where the best decomposition for the toffoli gate in jakarta geometry is (8 c-not):"
   ]
  },
  {
   "cell_type": "code",
   "execution_count": 5,
   "metadata": {},
   "outputs": [
    {
     "data": {
      "image/png": "[encoded data removed]",
      "text/plain": [
       "<Figure size 748.797x204.68 with 1 Axes>"
      ]
     },
     "execution_count": 5,
     "metadata": {},
     "output_type": "execute_result"
    }
   ],
   "source": [
    "Toffoli_gate().draw(output=\"mpl\")"
   ]
  },
  {
   "cell_type": "markdown",
   "metadata": {},
   "source": [
    "## 2.1) $M^N$ matrix\n",
    "\n",
    "The M matrix is the following:"
   ]
  },
  {
   "cell_type": "code",
   "execution_count": 12,
   "metadata": {},
   "outputs": [
    {
     "data": {
      "text/latex": [
       "$\\displaystyle \\left[\\begin{matrix}\\cos{\\left(\\alpha \\right)} & - i e^{i \\alpha} \\sin{\\left(\\alpha \\right)} \\cos{\\left(\\alpha \\right)} & - e^{i \\alpha} \\sin^{2}{\\left(\\alpha \\right)} & 0\\\\- i \\sin{\\left(\\alpha \\right)} & e^{i \\alpha} \\cos^{2}{\\left(\\alpha \\right)} & - i e^{i \\alpha} \\sin{\\left(\\alpha \\right)} \\cos{\\left(\\alpha \\right)} & 0\\\\0 & - i \\sin{\\left(\\alpha \\right)} & \\cos{\\left(\\alpha \\right)} & 0\\\\0 & 0 & 0 & e^{- i \\alpha}\\end{matrix}\\right]$"
      ],
      "text/plain": [
       "Matrix([\n",
       "[   cos(alpha), -I*exp(I*alpha)*sin(alpha)*cos(alpha),           -exp(I*alpha)*sin(alpha)**2,             0],\n",
       "[-I*sin(alpha),            exp(I*alpha)*cos(alpha)**2, -I*exp(I*alpha)*sin(alpha)*cos(alpha),             0],\n",
       "[            0,                         -I*sin(alpha),                            cos(alpha),             0],\n",
       "[            0,                                     0,                                     0, exp(-I*alpha)]])"
      ]
     },
     "execution_count": 12,
     "metadata": {},
     "output_type": "execute_result"
    }
   ],
   "source": [
    "M = B*Trotter_Step_Matrix*B.H\n",
    "M = Matrix([M[0:4],M[8:12],M[16:20],M[24:28]])\n",
    "M"
   ]
  },
  {
   "cell_type": "markdown",
   "metadata": {},
   "source": [
    "We compute numerically the product of M with itself N times."
   ]
  },
  {
   "cell_type": "code",
   "execution_count": 17,
   "metadata": {},
   "outputs": [
    {
     "data": {
      "text/latex": [
       "$\\displaystyle \\left[\\begin{matrix}0.9999 + 0.0058176 i & -0.0012637 + 0.0058176 i & 0.0013669 - 0.011635 i & 0\\\\0.0013669 + 0.0058176 i & 0.9999 - 0.011635 i & -0.0012637 + 0.0058176 i & 0\\\\-0.0012637 - 0.011635 i & 0.0013669 + 0.0058176 i & 0.9999 + 0.0058176 i & 0\\\\0 & 0 & 0 & 1.0 - 1.4365 \\cdot 10^{-16} i\\end{matrix}\\right]$"
      ],
      "text/plain": [
       "Matrix([\n",
       "[   0.9999 + 0.0058176*I, -0.0012637 + 0.0058176*I,   0.0013669 - 0.011635*I,                  0],\n",
       "[0.0013669 + 0.0058176*I,      0.9999 - 0.011635*I, -0.0012637 + 0.0058176*I,                  0],\n",
       "[-0.0012637 - 0.011635*I,  0.0013669 + 0.0058176*I,     0.9999 + 0.0058176*I,                  0],\n",
       "[                      0,                        0,                        0, 1.0 - 1.4365e-16*I]])"
      ]
     },
     "execution_count": 17,
     "metadata": {},
     "output_type": "execute_result"
    }
   ],
   "source": [
    "n_steps = 42\n",
    "time = np.pi\n",
    "precision = 40\n",
    "\n",
    "numeric_evolution_matrix=eye(8)\n",
    "\n",
    "for _ in range(n_steps): # here is computed the evolution operator numerically, with n_steps trotter steps.\n",
    "    numeric_evolution_matrix=(numeric_evolution_matrix*trotter_step_matrix(2*time/n_steps)).evalf(precision)\n",
    "\n",
    "M_N = B*numeric_evolution_matrix*B.H\n",
    "M_N = Matrix([M_N[0:4],M_N[8:12],M_N[16:20],M_N[24:28]])\n",
    "M_N.evalf(5)"
   ]
  },
  {
   "cell_type": "markdown",
   "metadata": {},
   "source": [
    "then using transpile we get the best decomposition"
   ]
  },
  {
   "cell_type": "code",
   "execution_count": 39,
   "metadata": {},
   "outputs": [
    {
     "data": {
      "image/png": "[encoded data removed]",
      "text/plain": [
       "<Figure size 1109.85x144.48 with 1 Axes>"
      ]
     },
     "execution_count": 39,
     "metadata": {},
     "output_type": "execute_result"
    }
   ],
   "source": [
    "qc=QuantumCircuit(2, name=\"$M^N$\")\n",
    "qc.unitary(M_N,[0,1])    \n",
    "M_N_qc=transpile(qc,basis_gates=['cx','x','sx','rz']) \n",
    "\n",
    "M_N_qc.draw(output=\"mpl\")"
   ]
  },
  {
   "cell_type": "markdown",
   "metadata": {},
   "source": [
    "So now we can built the final cirquit"
   ]
  },
  {
   "cell_type": "code",
   "execution_count": 40,
   "metadata": {},
   "outputs": [
    {
     "data": {
      "image/png": "[encoded data removed]",
      "text/plain": [
       "<Figure size 206.997x204.68 with 1 Axes>"
      ]
     },
     "execution_count": 40,
     "metadata": {},
     "output_type": "execute_result"
    }
   ],
   "source": [
    "initial_state=\"000\"\n",
    "\n",
    "qr = QuantumRegister(3, name=\"q\")\n",
    "qc = QuantumCircuit(qr, name=\"evo\")\n",
    "\n",
    "### preparing the initial state\n",
    "\n",
    "l=0\n",
    "for k in [2,1,0]:\n",
    "    if initial_state[l]=='1':\n",
    "        qc.x(qr[k])\n",
    "    l+=1\n",
    "\n",
    "### appending the evolution\n",
    "\n",
    "qc.append(M_N_qc,[qr[0],qr[1]])\n",
    "qc.append(B_qc,[qr[0],qr[1],qr[2]])\n",
    "\n",
    "qc.draw(output=\"mpl\")"
   ]
  },
  {
   "cell_type": "markdown",
   "metadata": {},
   "source": [
    "ora faccio una verifica ma possiamo anche non metterla"
   ]
  },
  {
   "cell_type": "code",
   "execution_count": 34,
   "metadata": {},
   "outputs": [],
   "source": [
    "def matrix_from_cirquit(qc, phase=0):\n",
    "\n",
    "    backend = Aer.get_backend('unitary_simulator')\n",
    "    job = execute(qc, backend, shots=32000)\n",
    "    result = job.result()\n",
    "    A=result.get_unitary(qc, decimals=10)*np.exp(1j*phase)\n",
    "    return Matrix(A)\n"
   ]
  },
  {
   "cell_type": "code",
   "execution_count": 35,
   "metadata": {},
   "outputs": [
    {
     "data": {
      "text/latex": [
       "$\\displaystyle \\left[\\begin{matrix}0 & 0 & 0 & 0 & 0.9998967287 + 0.0058175983 i & -0.0012636571 + 0.0058175983 i & 0.0013669285 - 0.0116351967 i & 0\\\\-0.0012636571 - 0.0116351967 i & 0.0013669285 + 0.0058175983 i & 0.9998967287 + 0.0058175983 i & 0 & 0 & 0 & 0 & 0\\\\0.0013669285 + 0.0058175983 i & 0.9998967287 - 0.0116351967 i & -0.0012636571 + 0.0058175983 i & 0 & 0 & 0 & 0 & 0\\\\0.9998967287 + 0.0058175983 i & -0.0012636571 + 0.0058175983 i & 0.0013669285 - 0.0116351967 i & 0 & 0 & 0 & 0 & 0\\\\0 & 0 & 0 & 1.0 & 0 & 0 & 0 & 0\\\\0 & 0 & 0 & 0 & 0.0013669285 + 0.0058175983 i & 0.9998967287 - 0.0116351967 i & -0.0012636571 + 0.0058175983 i & 0\\\\0 & 0 & 0 & 0 & -0.0012636571 - 0.0116351967 i & 0.0013669285 + 0.0058175983 i & 0.9998967287 + 0.0058175983 i & 0\\\\0 & 0 & 0 & 0 & 0 & 0 & 0 & 1.0\\end{matrix}\\right]$"
      ],
      "text/plain": [
       "Matrix([\n",
       "[                             0,                              0,                              0,   0,  0.9998967287 + 0.0058175983*I, -0.0012636571 + 0.0058175983*I,  0.0013669285 - 0.0116351967*I,   0],\n",
       "[-0.0012636571 - 0.0116351967*I,  0.0013669285 + 0.0058175983*I,  0.9998967287 + 0.0058175983*I,   0,                              0,                              0,                              0,   0],\n",
       "[ 0.0013669285 + 0.0058175983*I,  0.9998967287 - 0.0116351967*I, -0.0012636571 + 0.0058175983*I,   0,                              0,                              0,                              0,   0],\n",
       "[ 0.9998967287 + 0.0058175983*I, -0.0012636571 + 0.0058175983*I,  0.0013669285 - 0.0116351967*I,   0,                              0,                              0,                              0,   0],\n",
       "[                             0,                              0,                              0, 1.0,                              0,                              0,                              0,   0],\n",
       "[                             0,                              0,                              0,   0,  0.0013669285 + 0.0058175983*I,  0.9998967287 - 0.0116351967*I, -0.0012636571 + 0.0058175983*I,   0],\n",
       "[                             0,                              0,                              0,   0, -0.0012636571 - 0.0116351967*I,  0.0013669285 + 0.0058175983*I,  0.9998967287 + 0.0058175983*I,   0],\n",
       "[                             0,                              0,                              0,   0,                              0,                              0,                              0, 1.0]])"
      ]
     },
     "execution_count": 35,
     "metadata": {},
     "output_type": "execute_result"
    }
   ],
   "source": [
    "DDDD = matrix_from_cirquit(qc)\n",
    "DDDD"
   ]
  },
  {
   "cell_type": "code",
   "execution_count": 36,
   "metadata": {},
   "outputs": [
    {
     "data": {
      "text/latex": [
       "$\\displaystyle \\left[\\begin{matrix}0.9998967287 + 0.0058175983 i & 0 & 0 & 0 & 0 & -0.0012636571 + 0.0058175983 i & 0.0013669285 - 0.0116351967 i & 0\\\\0 & 0.9998967287 + 0.0058175983 i & 0.0013669285 + 0.0058175983 i & -0.0012636571 - 0.0116351967 i & 0 & 0 & 0 & 0\\\\0 & -0.0012636571 + 0.0058175983 i & 0.9998967287 - 0.0116351967 i & 0.0013669285 + 0.0058175983 i & 0 & 0 & 0 & 0\\\\0 & 0.0013669285 - 0.0116351967 i & -0.0012636571 + 0.0058175983 i & 0.9998967287 + 0.0058175983 i & 0 & 0 & 0 & 0\\\\0 & 0 & 0 & 0 & 1.0 & 0 & 0 & 0\\\\0.0013669285 + 0.0058175983 i & 0 & 0 & 0 & 0 & 0.9998967287 - 0.0116351967 i & -0.0012636571 + 0.0058175983 i & 0\\\\-0.0012636571 - 0.0116351967 i & 0 & 0 & 0 & 0 & 0.0013669285 + 0.0058175983 i & 0.9998967287 + 0.0058175983 i & 0\\\\0 & 0 & 0 & 0 & 0 & 0 & 0 & 1.0\\end{matrix}\\right]$"
      ],
      "text/plain": [
       "Matrix([\n",
       "[ 0.9998967287 + 0.0058175983*I,                              0,                              0,                              0,   0, -0.0012636571 + 0.0058175983*I,  0.0013669285 - 0.0116351967*I,   0],\n",
       "[                             0,  0.9998967287 + 0.0058175983*I,  0.0013669285 + 0.0058175983*I, -0.0012636571 - 0.0116351967*I,   0,                              0,                              0,   0],\n",
       "[                             0, -0.0012636571 + 0.0058175983*I,  0.9998967287 - 0.0116351967*I,  0.0013669285 + 0.0058175983*I,   0,                              0,                              0,   0],\n",
       "[                             0,  0.0013669285 - 0.0116351967*I, -0.0012636571 + 0.0058175983*I,  0.9998967287 + 0.0058175983*I,   0,                              0,                              0,   0],\n",
       "[                             0,                              0,                              0,                              0, 1.0,                              0,                              0,   0],\n",
       "[ 0.0013669285 + 0.0058175983*I,                              0,                              0,                              0,   0,  0.9998967287 - 0.0116351967*I, -0.0012636571 + 0.0058175983*I,   0],\n",
       "[-0.0012636571 - 0.0116351967*I,                              0,                              0,                              0,   0,  0.0013669285 + 0.0058175983*I,  0.9998967287 + 0.0058175983*I,   0],\n",
       "[                             0,                              0,                              0,                              0,   0,                              0,                              0, 1.0]])"
      ]
     },
     "execution_count": 36,
     "metadata": {},
     "output_type": "execute_result"
    }
   ],
   "source": [
    "DDDD*B.H"
   ]
  },
  {
   "cell_type": "code",
   "execution_count": null,
   "metadata": {},
   "outputs": [],
   "source": []
  }
 ],
 "metadata": {
  "interpreter": {
   "hash": "aee8b7b246df8f9039afb4144a1f6fd8d2ca17a180786b69acc140d282b71a49"
  },
  "kernelspec": {
   "display_name": "Python 3.10.2 64-bit",
   "language": "python",
   "name": "python3"
  },
  "language_info": {
   "codemirror_mode": {
    "name": "ipython",
    "version": 3
   },
   "file_extension": ".py",
   "mimetype": "text/x-python",
   "name": "python",
   "nbconvert_exporter": "python",
   "pygments_lexer": "ipython3",
   "version": "3.10.2"
  },
  "orig_nbformat": 4
 },
 "nbformat": 4,
 "nbformat_minor": 2
}
