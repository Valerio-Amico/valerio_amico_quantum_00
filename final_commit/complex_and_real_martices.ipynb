{
 "cells": [
  {
   "cell_type": "code",
   "execution_count": 1,
   "metadata": {},
   "outputs": [],
   "source": [
    "import numpy as np\n",
    "import sympy as sy\n",
    "from qiskit.circuit.library.standard_gates.rx import RXGate\n",
    "from qiskit.circuit.library.standard_gates.ry import RYGate"
   ]
  },
  {
   "cell_type": "code",
   "execution_count": 2,
   "metadata": {},
   "outputs": [
    {
     "data": {
      "text/latex": [
       "$\\displaystyle \\left[\\begin{matrix}-0.780518794713483 & - 0.625132314873429 i\\\\- 0.625132314873429 i & -0.780518794713483\\end{matrix}\\right]$"
      ],
      "text/plain": [
       "Matrix([\n",
       "[  -0.780518794713483, -0.625132314873429*I],\n",
       "[-0.625132314873429*I,   -0.780518794713483]])"
      ]
     },
     "execution_count": 2,
     "metadata": {},
     "output_type": "execute_result"
    }
   ],
   "source": [
    "A = np.array([[0,1j],[-1j,0]])\n",
    "B = np.array([[1,1],[1,-1]])/np.sqrt(2)\n",
    "\n",
    "# generate a random unitary matrix\n",
    "RX_random_1 = RXGate(np.random.random()*np.pi*2).to_matrix()\n",
    "RY_random_2 = RYGate(np.random.random()*np.pi*2).to_matrix()\n",
    "\n",
    "sy.Matrix(RX_random_1)"
   ]
  },
  {
   "cell_type": "code",
   "execution_count": 3,
   "metadata": {},
   "outputs": [
    {
     "data": {
      "text/latex": [
       "$\\displaystyle \\left[\\begin{matrix}-0.620086961241872 & -0.784533084387026\\\\0.784533084387026 & -0.620086961241872\\end{matrix}\\right]$"
      ],
      "text/plain": [
       "Matrix([\n",
       "[-0.620086961241872, -0.784533084387026],\n",
       "[ 0.784533084387026, -0.620086961241872]])"
      ]
     },
     "execution_count": 3,
     "metadata": {},
     "output_type": "execute_result"
    }
   ],
   "source": [
    "sy.Matrix(RY_random_2)"
   ]
  },
  {
   "cell_type": "code",
   "execution_count": 6,
   "metadata": {},
   "outputs": [
    {
     "data": {
      "text/latex": [
       "$\\displaystyle \\left[\\begin{matrix}0.474774297261492 & 0.525225702738508\\\\0.525225702738508 & 0.474774297261492\\end{matrix}\\right]$"
      ],
      "text/plain": [
       "Matrix([\n",
       "[0.474774297261492, 0.525225702738508],\n",
       "[0.525225702738508, 0.474774297261492]])"
      ]
     },
     "execution_count": 6,
     "metadata": {},
     "output_type": "execute_result"
    }
   ],
   "source": [
    "A_abs = np.abs(A)**2\n",
    "B_abs = np.abs(B)**2\n",
    "\n",
    "RX_random_1_abs = np.abs(RX_random_1)**2\n",
    "RY_random_2_abs = np.abs(RY_random_2)**2\n",
    "\n",
    "abs_dot = np.dot(RX_random_1_abs, RY_random_2_abs)\n",
    "dot_abs = np.abs(np.dot(RX_random_1,RY_random_2))**2\n",
    "\n",
    "sy.Matrix(abs_dot)"
   ]
  },
  {
   "cell_type": "code",
   "execution_count": 7,
   "metadata": {},
   "outputs": [
    {
     "data": {
      "text/latex": [
       "$\\displaystyle \\left[\\begin{matrix}0.474774297261492 & 0.525225702738508\\\\0.525225702738508 & 0.474774297261492\\end{matrix}\\right]$"
      ],
      "text/plain": [
       "Matrix([\n",
       "[0.474774297261492, 0.525225702738508],\n",
       "[0.525225702738508, 0.474774297261492]])"
      ]
     },
     "execution_count": 7,
     "metadata": {},
     "output_type": "execute_result"
    }
   ],
   "source": [
    "sy.Matrix(dot_abs)"
   ]
  },
  {
   "cell_type": "code",
   "execution_count": null,
   "metadata": {},
   "outputs": [],
   "source": []
  },
  {
   "cell_type": "code",
   "execution_count": null,
   "metadata": {},
   "outputs": [],
   "source": []
  }
 ],
 "metadata": {
  "interpreter": {
   "hash": "aee8b7b246df8f9039afb4144a1f6fd8d2ca17a180786b69acc140d282b71a49"
  },
  "kernelspec": {
   "display_name": "Python 3.10.2 64-bit",
   "language": "python",
   "name": "python3"
  },
  "language_info": {
   "codemirror_mode": {
    "name": "ipython",
    "version": 3
   },
   "file_extension": ".py",
   "mimetype": "text/x-python",
   "name": "python",
   "nbconvert_exporter": "python",
   "pygments_lexer": "ipython3",
   "version": "3.10.2"
  },
  "orig_nbformat": 4
 },
 "nbformat": 4,
 "nbformat_minor": 2
}
