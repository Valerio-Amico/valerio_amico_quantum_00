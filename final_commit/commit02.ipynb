{
 "cells": [
  {
   "cell_type": "code",
   "execution_count": 1,
   "metadata": {},
   "outputs": [],
   "source": [
    "from functions0 import *\n",
    "import numpy as np\n",
    "import datetime\n",
    "from qiskit.ignis.mitigation.measurement import CompleteMeasFitter\n",
    "from qiskit import Aer, assemble, QuantumCircuit, QuantumRegister, ClassicalRegister, IBMQ, transpile, execute\n",
    "from qiskit.providers.aer import AerSimulator, QasmSimulator\n",
    "from qiskit.opflow import Zero, One, I, X, Y, Z\n",
    "from qiskit.ignis.verification.tomography import state_tomography_circuits, StateTomographyFitter\n",
    "from qiskit.quantum_info import state_fidelity\n",
    "import matplotlib.pyplot as plt\n",
    "import qiskit.ignis.mitigation.measurement as mc\n",
    "%load_ext autoreload\n",
    "%autoreload 2\n",
    "import warnings\n",
    "warnings.filterwarnings('ignore')\n",
    "\n",
    "IBMQ.load_account()\n",
    "provider = IBMQ.get_provider(hub='ibm-q-community', group='ibmquantumawards', project='open-science-22')\n",
    "\n",
    "backend_sim_jakarta = QasmSimulator.from_backend(provider.get_backend('ibmq_jakarta'))\n",
    "backend_real_jakarta = provider.get_backend('ibmq_jakarta')\n",
    "backend_sim = Aer.get_backend('qasm_simulator')"
   ]
  },
  {
   "cell_type": "code",
   "execution_count": 2,
   "metadata": {},
   "outputs": [],
   "source": [
    "n_steps=99\n",
    "time=np.pi\n",
    "initial_state=\"110\" #{\"110\": 1}\n",
    "reps = 1\n",
    "shots = 32000\n",
    "backend = backend_real_jakarta\n",
    "precision=50"
   ]
  },
  {
   "cell_type": "code",
   "execution_count": 3,
   "metadata": {},
   "outputs": [
    {
     "name": "stdout",
     "output_type": "stream",
     "text": [
      "metti apposto lo stato iniziale!\n",
      "6\n",
      "2\n"
     ]
    }
   ],
   "source": [
    "numeric_evolution_matrix = eye(8)\n",
    "\n",
    "for _ in range(n_steps): # here is computed the evolution operator numerically, with n_steps trotter steps.\n",
    "    numeric_evolution_matrix=(numeric_evolution_matrix*trotter_step_matrix(time/n_steps)).evalf(precision)\n",
    "\n",
    "# here are computed the parameters of the gates as described in \"decomposition.ipynb\" file.\n",
    "phase_1_1, phase_2_1, phase_1_2, phase_2_2, a1, a2 = get_gates_parameters(initial_state=initial_state, U=numeric_evolution_matrix)\n",
    "\n",
    "M1_qc = fixed_magnetization_two_qubit_gate(phase_1_1,phase_1_2,a1)\n",
    "M2_qc = fixed_magnetization_two_qubit_gate(phase_2_1,phase_2_2,a2)"
   ]
  },
  {
   "cell_type": "code",
   "execution_count": 4,
   "metadata": {},
   "outputs": [
    {
     "data": {
      "text/latex": [
       "$\\displaystyle \\left[\\begin{matrix}1.0 + 5.47686 \\cdot 10^{-15} i & 0 & 0 & 0 & 0 & 0 & 0 & 0\\\\0 & 0.999997 + 0.0010532 i & 0.000102068 + 0.0010532 i & 0 & -9.87301 \\cdot 10^{-5} - 0.00210639 i & 0 & 0 & 0\\\\0 & -9.87301 \\cdot 10^{-5} + 0.0010532 i & 0.999997 - 0.00210639 i & 0 & 0.000102068 + 0.0010532 i & 0 & 0 & 0\\\\0 & 0 & 0 & 0.999997 + 0.0010532 i & 0 & -9.87301 \\cdot 10^{-5} + 0.0010532 i & 0.000102068 - 0.00210639 i & 0\\\\0 & 0.000102068 - 0.00210639 i & -9.87301 \\cdot 10^{-5} + 0.0010532 i & 0 & 0.999997 + 0.0010532 i & 0 & 0 & 0\\\\0 & 0 & 0 & 0.000102068 + 0.0010532 i & 0 & 0.999997 - 0.00210639 i & -9.87301 \\cdot 10^{-5} + 0.0010532 i & 0\\\\0 & 0 & 0 & -9.87301 \\cdot 10^{-5} - 0.00210639 i & 0 & 0.000102068 + 0.0010532 i & 0.999997 + 0.0010532 i & 0\\\\0 & 0 & 0 & 0 & 0 & 0 & 0 & 1.0 + 5.47686 \\cdot 10^{-15} i\\end{matrix}\\right]$"
      ],
      "text/plain": [
       "Matrix([\n",
       "[1.0 + 5.47686e-15*I,                          0,                         0,                          0,                          0,                         0,                          0,                   0],\n",
       "[                  0,     0.999997 + 0.0010532*I, 0.000102068 + 0.0010532*I,                          0, -9.87301e-5 - 0.00210639*I,                         0,                          0,                   0],\n",
       "[                  0,  -9.87301e-5 + 0.0010532*I,   0.999997 - 0.00210639*I,                          0,  0.000102068 + 0.0010532*I,                         0,                          0,                   0],\n",
       "[                  0,                          0,                         0,     0.999997 + 0.0010532*I,                          0, -9.87301e-5 + 0.0010532*I, 0.000102068 - 0.00210639*I,                   0],\n",
       "[                  0, 0.000102068 - 0.00210639*I, -9.87301e-5 + 0.0010532*I,                          0,     0.999997 + 0.0010532*I,                         0,                          0,                   0],\n",
       "[                  0,                          0,                         0,  0.000102068 + 0.0010532*I,                          0,   0.999997 - 0.00210639*I,  -9.87301e-5 + 0.0010532*I,                   0],\n",
       "[                  0,                          0,                         0, -9.87301e-5 - 0.00210639*I,                          0, 0.000102068 + 0.0010532*I,     0.999997 + 0.0010532*I,                   0],\n",
       "[                  0,                          0,                         0,                          0,                          0,                         0,                          0, 1.0 + 5.47686e-15*I]])"
      ]
     },
     "execution_count": 4,
     "metadata": {},
     "output_type": "execute_result"
    }
   ],
   "source": [
    "numeric_evolution_matrix.evalf(6)"
   ]
  },
  {
   "cell_type": "code",
   "execution_count": 5,
   "metadata": {},
   "outputs": [
    {
     "data": {
      "image/png": "[encoded data removed]",
      "text/plain": [
       "<Figure size 1350.8x204.68 with 1 Axes>"
      ]
     },
     "execution_count": 5,
     "metadata": {},
     "output_type": "execute_result"
    }
   ],
   "source": [
    "qr3 = QuantumRegister(3 ,name=\"q\")\n",
    "qc3 = QuantumCircuit(qr3, name=\"U\")\n",
    "\n",
    "qc3.append(M1_qc, [qr3[0],qr3[1]])\n",
    "qc3.append(M2_qc, [qr3[1],qr3[2]])\n",
    "\n",
    "qc3=transpile(qc3, basis_gates=[\"cx\",\"rz\",\"x\",\"sx\"])\n",
    "qc3.draw(output=\"mpl\")"
   ]
  },
  {
   "cell_type": "code",
   "execution_count": 6,
   "metadata": {},
   "outputs": [
    {
     "data": {
      "text/latex": [
       "$\\displaystyle \\left[\\begin{matrix}0.9999994454 - 0.0010532002 i & 0 & 0 & 0 & 0 & 0 & 0 & 0\\\\0 & 0.9999966622 - 0.0010531973 i & -0.0001141886 + 0.0023565333 i & 0 & 0 & 0 & 0 & 0\\\\0 & 9.87301 \\cdot 10^{-5} + 0.0010531973 i & 0.4479247771 - 0.0197207618 i & 0 & -0.8938526055 + 0.0009414063 i & 0 & 0 & 0\\\\0 & 0 & 0 & 0.4479260237 - 0.0197208167 i & 0 & -0.8938501178 + 0.0009414037 i & 0.0001020679 - 0.0021063946 i & 0\\\\0 & 0.0001020679 + 0.0021063946 i & 0.8938501178 + 0.0009414037 i & 0 & 0.4479260237 + 0.0197208167 i & 0 & 0 & 0\\\\0 & 0 & 0 & 0.8938526055 + 0.0009414063 i & 0 & 0.4479247771 + 0.0197207618 i & -9.87301 \\cdot 10^{-5} + 0.0010531973 i & 0\\\\0 & 0 & 0 & 0 & 0 & 0.0001141886 + 0.0023565333 i & 0.9999966622 + 0.0010531973 i & 0\\\\0 & 0 & 0 & 0 & 0 & 0 & 0 & 0.9999994454 + 0.0010532002 i\\end{matrix}\\right]$"
      ],
      "text/plain": [
       "Matrix([\n",
       "[0.9999994454 - 0.0010532002*I,                             0,                              0,                             0,                              0,                              0,                             0,                             0],\n",
       "[                            0, 0.9999966622 - 0.0010531973*I, -0.0001141886 + 0.0023565333*I,                             0,                              0,                              0,                             0,                             0],\n",
       "[                            0,   9.87301e-5 + 0.0010531973*I,  0.4479247771 - 0.0197207618*I,                             0, -0.8938526055 + 0.0009414063*I,                              0,                             0,                             0],\n",
       "[                            0,                             0,                              0, 0.4479260237 - 0.0197208167*I,                              0, -0.8938501178 + 0.0009414037*I, 0.0001020679 - 0.0021063946*I,                             0],\n",
       "[                            0, 0.0001020679 + 0.0021063946*I,  0.8938501178 + 0.0009414037*I,                             0,  0.4479260237 + 0.0197208167*I,                              0,                             0,                             0],\n",
       "[                            0,                             0,                              0, 0.8938526055 + 0.0009414063*I,                              0,  0.4479247771 + 0.0197207618*I,  -9.87301e-5 + 0.0010531973*I,                             0],\n",
       "[                            0,                             0,                              0,                             0,                              0,  0.0001141886 + 0.0023565333*I, 0.9999966622 + 0.0010531973*I,                             0],\n",
       "[                            0,                             0,                              0,                             0,                              0,                              0,                             0, 0.9999994454 + 0.0010532002*I]])"
      ]
     },
     "execution_count": 6,
     "metadata": {},
     "output_type": "execute_result"
    }
   ],
   "source": [
    "backend_ = Aer.get_backend('unitary_simulator')\n",
    "job = execute(qc3, backend_, shots=32000)\n",
    "result = job.result()\n",
    "A=result.get_unitary(qc3, decimals=10)\n",
    "Matrix(A)"
   ]
  },
  {
   "cell_type": "code",
   "execution_count": 7,
   "metadata": {},
   "outputs": [
    {
     "data": {
      "image/png": "[encoded data removed]",
      "text/plain": [
       "<Figure size 206.997x445.48 with 1 Axes>"
      ]
     },
     "execution_count": 7,
     "metadata": {},
     "output_type": "execute_result"
    }
   ],
   "source": [
    "qr = QuantumRegister(7 ,name=\"q\")\n",
    "qc = QuantumCircuit(qr, name=\"U\")\n",
    "\n",
    "\n",
    "l=0\n",
    "for k in [5,3,1]:\n",
    "    if initial_state[l]=='1':\n",
    "        qc.x(qr[k])\n",
    "    l+=1\n",
    "\n",
    "qc.append(qc3, [qr[1],qr[3],qr[5]])\n",
    "\n",
    "qc.draw(output=\"mpl\")"
   ]
  },
  {
   "cell_type": "code",
   "execution_count": 8,
   "metadata": {},
   "outputs": [
    {
     "data": {
      "image/png": "[encoded data removed]",
      "text/plain": [
       "<Figure size 507.997x445.48 with 1 Axes>"
      ]
     },
     "execution_count": 8,
     "metadata": {},
     "output_type": "execute_result"
    }
   ],
   "source": [
    "qc_check=symmetry_check(type=\"4copy_check\")\n",
    "qc_check.draw(output=\"mpl\")"
   ]
  },
  {
   "cell_type": "code",
   "execution_count": 9,
   "metadata": {},
   "outputs": [
    {
     "data": {
      "image/png": "[encoded data removed]",
      "text/plain": [
       "<Figure size 387.597x445.48 with 1 Axes>"
      ]
     },
     "execution_count": 9,
     "metadata": {},
     "output_type": "execute_result"
    }
   ],
   "source": [
    "qc=add_symmetry_check(qc, [qr[1],qr[3],qr[5]], [qr[0],qr[2],qr[4],qr[6]], type=\"4copy_check\")\n",
    "qc.draw(output=\"mpl\")"
   ]
  },
  {
   "cell_type": "code",
   "execution_count": 10,
   "metadata": {},
   "outputs": [],
   "source": [
    "qcs_tomo = state_tomography_circuits(qc, [qr[1],qr[3],qr[5]])\n",
    "qcs_na = state_tomography_circuits(qc, [qr[1],qr[3],qr[5]]) #cirquits without ancillas measurament for the fidelity computation\n",
    "\n",
    "for qc_iter in qcs_tomo:\n",
    "    qc_iter.barrier()\n",
    "    cr_anc=ClassicalRegister(4)\n",
    "    qc_iter.add_register(cr_anc)\n",
    "    qc_iter.measure([qr[0],qr[2],qr[4],qr[6]], cr_anc)"
   ]
  },
  {
   "cell_type": "code",
   "execution_count": 11,
   "metadata": {},
   "outputs": [
    {
     "data": {
      "image/png": "[encoded data removed]",
      "text/plain": [
       "<Figure size 989.597x565.88 with 1 Axes>"
      ]
     },
     "execution_count": 11,
     "metadata": {},
     "output_type": "execute_result"
    }
   ],
   "source": [
    "qcs_tomo[0].draw(output=\"mpl\")"
   ]
  },
  {
   "cell_type": "code",
   "execution_count": 12,
   "metadata": {},
   "outputs": [],
   "source": [
    "qr_cal = QuantumRegister(7)\n",
    "cal_circ, state_labels = mc.complete_meas_cal(qubit_list=[1,3,5,0,2,4,6], qr=qr_cal, circlabel='mcal') #[1,3,5,0,2,4]\n"
   ]
  },
  {
   "cell_type": "code",
   "execution_count": 13,
   "metadata": {},
   "outputs": [
    {
     "data": {
      "text/html": [
       "<pre style=\"word-wrap: normal;white-space: pre;background: #fff0;line-height: 1.1;font-family: &quot;Courier New&quot;,Courier,monospace\">             ░          ┌─┐         \n",
       "q35_0: ──────░──────────┤M├─────────\n",
       "       ┌───┐ ░ ┌─┐      └╥┘         \n",
       "q35_1: ┤ X ├─░─┤M├───────╫──────────\n",
       "       └───┘ ░ └╥┘       ║ ┌─┐      \n",
       "q35_2: ──────░──╫────────╫─┤M├──────\n",
       "             ░  ║ ┌─┐    ║ └╥┘      \n",
       "q35_3: ──────░──╫─┤M├────╫──╫───────\n",
       "             ░  ║ └╥┘    ║  ║ ┌─┐   \n",
       "q35_4: ──────░──╫──╫─────╫──╫─┤M├───\n",
       "             ░  ║  ║ ┌─┐ ║  ║ └╥┘   \n",
       "q35_5: ──────░──╫──╫─┤M├─╫──╫──╫────\n",
       "             ░  ║  ║ └╥┘ ║  ║  ║ ┌─┐\n",
       "q35_6: ──────░──╫──╫──╫──╫──╫──╫─┤M├\n",
       "             ░  ║  ║  ║  ║  ║  ║ └╥┘\n",
       "c29: 7/═════════╩══╩══╩══╩══╩══╩══╩═\n",
       "                0  1  2  3  4  5  6 </pre>"
      ],
      "text/plain": [
       "             ░          ┌─┐         \n",
       "q35_0: ──────░──────────┤M├─────────\n",
       "       ┌───┐ ░ ┌─┐      └╥┘         \n",
       "q35_1: ┤ X ├─░─┤M├───────╫──────────\n",
       "       └───┘ ░ └╥┘       ║ ┌─┐      \n",
       "q35_2: ──────░──╫────────╫─┤M├──────\n",
       "             ░  ║ ┌─┐    ║ └╥┘      \n",
       "q35_3: ──────░──╫─┤M├────╫──╫───────\n",
       "             ░  ║ └╥┘    ║  ║ ┌─┐   \n",
       "q35_4: ──────░──╫──╫─────╫──╫─┤M├───\n",
       "             ░  ║  ║ ┌─┐ ║  ║ └╥┘   \n",
       "q35_5: ──────░──╫──╫─┤M├─╫──╫──╫────\n",
       "             ░  ║  ║ └╥┘ ║  ║  ║ ┌─┐\n",
       "q35_6: ──────░──╫──╫──╫──╫──╫──╫─┤M├\n",
       "             ░  ║  ║  ║  ║  ║  ║ └╥┘\n",
       "c29: 7/═════════╩══╩══╩══╩══╩══╩══╩═\n",
       "                0  1  2  3  4  5  6 "
      ]
     },
     "execution_count": 13,
     "metadata": {},
     "output_type": "execute_result"
    }
   ],
   "source": [
    "cal_circ[1].draw()"
   ]
  },
  {
   "cell_type": "code",
   "execution_count": 14,
   "metadata": {},
   "outputs": [
    {
     "name": "stdout",
     "output_type": "stream",
     "text": [
      "cambiare initial_state e time\n",
      "metti apposto lo stato iniziale!\n",
      "6\n",
      "2\n",
      "aggiustare questa cosa delle x nel check\n",
      "aggiustare questa cosa delle x nel check\n",
      "aggiustare questa cosa delle x nel check\n",
      "aggiustare questa cosa delle x nel check\n",
      "aggiustare questa cosa delle x nel check\n",
      "aggiustare questa cosa delle x nel check\n",
      "aggiustare questa cosa delle x nel check\n",
      "aggiustare questa cosa delle x nel check\n",
      "aggiustare questa cosa delle x nel check\n",
      "aggiustare questa cosa delle x nel check\n",
      "aggiustare questa cosa delle x nel check\n",
      "aggiustare questa cosa delle x nel check\n",
      "aggiustare questa cosa delle x nel check\n",
      "aggiustare questa cosa delle x nel check\n",
      "aggiustare questa cosa delle x nel check\n",
      "aggiustare questa cosa delle x nel check\n",
      "aggiustare questa cosa delle x nel check\n",
      "aggiustare questa cosa delle x nel check\n",
      "aggiustare questa cosa delle x nel check\n",
      "aggiustare questa cosa delle x nel check\n",
      "aggiustare questa cosa delle x nel check\n",
      "aggiustare questa cosa delle x nel check\n",
      "aggiustare questa cosa delle x nel check\n",
      "aggiustare questa cosa delle x nel check\n",
      "aggiustare questa cosa delle x nel check\n",
      "aggiustare questa cosa delle x nel check\n",
      "aggiustare questa cosa delle x nel check\n",
      "aggiustare questa cosa delle x nel check\n",
      "aggiustare questa cosa delle x nel check\n",
      "aggiustare questa cosa delle x nel check\n",
      "aggiustare questa cosa delle x nel check\n",
      "aggiustare questa cosa delle x nel check\n",
      "aggiustare questa cosa delle x nel check\n",
      "aggiustare questa cosa delle x nel check\n",
      "aggiustare questa cosa delle x nel check\n",
      "aggiustare questa cosa delle x nel check\n",
      "aggiustare questa cosa delle x nel check\n",
      "aggiustare questa cosa delle x nel check\n",
      "aggiustare questa cosa delle x nel check\n",
      "aggiustare questa cosa delle x nel check\n",
      "aggiustare questa cosa delle x nel check\n",
      "aggiustare questa cosa delle x nel check\n",
      "aggiustare questa cosa delle x nel check\n",
      "aggiustare questa cosa delle x nel check\n",
      "aggiustare questa cosa delle x nel check\n",
      "aggiustare questa cosa delle x nel check\n",
      "aggiustare questa cosa delle x nel check\n",
      "aggiustare questa cosa delle x nel check\n",
      "aggiustare questa cosa delle x nel check\n",
      "aggiustare questa cosa delle x nel check\n",
      "aggiustare questa cosa delle x nel check\n",
      "aggiustare questa cosa delle x nel check\n",
      "aggiustare questa cosa delle x nel check\n",
      "aggiustare questa cosa delle x nel check\n",
      "aggiustare questa cosa delle x nel check\n",
      "aggiustare questa cosa delle x nel check\n",
      "aggiustare questa cosa delle x nel check\n",
      "aggiustare questa cosa delle x nel check\n",
      "aggiustare questa cosa delle x nel check\n",
      "aggiustare questa cosa delle x nel check\n",
      "aggiustare questa cosa delle x nel check\n",
      "aggiustare questa cosa delle x nel check\n",
      "aggiustare questa cosa delle x nel check\n",
      "aggiustare questa cosa delle x nel check\n",
      "aggiustare questa cosa delle x nel check\n",
      "aggiustare questa cosa delle x nel check\n",
      "aggiustare questa cosa delle x nel check\n",
      "aggiustare questa cosa delle x nel check\n",
      "aggiustare questa cosa delle x nel check\n",
      "aggiustare questa cosa delle x nel check\n",
      "aggiustare questa cosa delle x nel check\n",
      "aggiustare questa cosa delle x nel check\n",
      "aggiustare questa cosa delle x nel check\n",
      "aggiustare questa cosa delle x nel check\n",
      "aggiustare questa cosa delle x nel check\n",
      "aggiustare questa cosa delle x nel check\n",
      "aggiustare questa cosa delle x nel check\n",
      "aggiustare questa cosa delle x nel check\n",
      "aggiustare questa cosa delle x nel check\n",
      "aggiustare questa cosa delle x nel check\n",
      "aggiustare questa cosa delle x nel check\n",
      "aggiustare questa cosa delle x nel check\n",
      "aggiustare questa cosa delle x nel check\n",
      "aggiustare questa cosa delle x nel check\n",
      "aggiustare questa cosa delle x nel check\n",
      "aggiustare questa cosa delle x nel check\n",
      "aggiustare questa cosa delle x nel check\n",
      "aggiustare questa cosa delle x nel check\n",
      "aggiustare questa cosa delle x nel check\n",
      "aggiustare questa cosa delle x nel check\n",
      "aggiustare questa cosa delle x nel check\n",
      "aggiustare questa cosa delle x nel check\n",
      "aggiustare questa cosa delle x nel check\n",
      "aggiustare questa cosa delle x nel check\n",
      "aggiustare questa cosa delle x nel check\n",
      "aggiustare questa cosa delle x nel check\n",
      "aggiustare questa cosa delle x nel check\n",
      "aggiustare questa cosa delle x nel check\n",
      "aggiustare questa cosa delle x nel check\n",
      "aggiustare questa cosa delle x nel check\n",
      "aggiustare questa cosa delle x nel check\n",
      "aggiustare questa cosa delle x nel check\n",
      "aggiustare questa cosa delle x nel check\n",
      "aggiustare questa cosa delle x nel check\n",
      "aggiustare questa cosa delle x nel check\n",
      "aggiustare questa cosa delle x nel check\n",
      "aggiustare questa cosa delle x nel check\n",
      "aggiustare questa cosa delle x nel check\n",
      "aggiustare questa cosa delle x nel check\n",
      "aggiustare questa cosa delle x nel check\n",
      "aggiustare questa cosa delle x nel check\n",
      "aggiustare questa cosa delle x nel check\n",
      "aggiustare questa cosa delle x nel check\n",
      "aggiustare questa cosa delle x nel check\n",
      "aggiustare questa cosa delle x nel check\n",
      "aggiustare questa cosa delle x nel check\n",
      "aggiustare questa cosa delle x nel check\n",
      "aggiustare questa cosa delle x nel check\n",
      "aggiustare questa cosa delle x nel check\n",
      "aggiustare questa cosa delle x nel check\n",
      "aggiustare questa cosa delle x nel check\n",
      "aggiustare questa cosa delle x nel check\n",
      "aggiustare questa cosa delle x nel check\n",
      "aggiustare questa cosa delle x nel check\n",
      "aggiustare questa cosa delle x nel check\n",
      "aggiustare questa cosa delle x nel check\n",
      "aggiustare questa cosa delle x nel check\n",
      "aggiustare questa cosa delle x nel check\n"
     ]
    }
   ],
   "source": [
    "qcs_calib_itself, meas_calibs = calibration_cirquits(\"itself\", q_anc=[0,2,4,6], N=n_steps, time=time, check=\"yes\", check_type=\"4copy_check\")\n"
   ]
  },
  {
   "cell_type": "code",
   "execution_count": 15,
   "metadata": {},
   "outputs": [
    {
     "data": {
      "image/png": "[encoded data removed]",
      "text/plain": [
       "<Figure size 895.74x505.68 with 1 Axes>"
      ]
     },
     "execution_count": 15,
     "metadata": {},
     "output_type": "execute_result"
    }
   ],
   "source": [
    "qcs_calib_itself[2].draw(output=\"mpl\")"
   ]
  },
  {
   "cell_type": "code",
   "execution_count": 16,
   "metadata": {},
   "outputs": [
    {
     "name": "stdout",
     "output_type": "stream",
     "text": [
      "cambiare initial_state e time\n",
      "metti apposto lo stato iniziale!\n",
      "6\n",
      "2\n",
      "aggiustare questa cosa delle x nel check\n",
      "aggiustare questa cosa delle x nel check\n",
      "aggiustare questa cosa delle x nel check\n",
      "aggiustare questa cosa delle x nel check\n",
      "aggiustare questa cosa delle x nel check\n",
      "aggiustare questa cosa delle x nel check\n",
      "aggiustare questa cosa delle x nel check\n",
      "aggiustare questa cosa delle x nel check\n",
      "aggiustare questa cosa delle x nel check\n",
      "aggiustare questa cosa delle x nel check\n",
      "aggiustare questa cosa delle x nel check\n",
      "aggiustare questa cosa delle x nel check\n",
      "aggiustare questa cosa delle x nel check\n",
      "aggiustare questa cosa delle x nel check\n",
      "aggiustare questa cosa delle x nel check\n",
      "aggiustare questa cosa delle x nel check\n",
      "aggiustare questa cosa delle x nel check\n",
      "aggiustare questa cosa delle x nel check\n",
      "aggiustare questa cosa delle x nel check\n",
      "aggiustare questa cosa delle x nel check\n",
      "aggiustare questa cosa delle x nel check\n",
      "aggiustare questa cosa delle x nel check\n",
      "aggiustare questa cosa delle x nel check\n",
      "aggiustare questa cosa delle x nel check\n",
      "aggiustare questa cosa delle x nel check\n",
      "aggiustare questa cosa delle x nel check\n",
      "aggiustare questa cosa delle x nel check\n",
      "aggiustare questa cosa delle x nel check\n",
      "aggiustare questa cosa delle x nel check\n",
      "aggiustare questa cosa delle x nel check\n",
      "aggiustare questa cosa delle x nel check\n",
      "aggiustare questa cosa delle x nel check\n",
      "aggiustare questa cosa delle x nel check\n",
      "aggiustare questa cosa delle x nel check\n",
      "aggiustare questa cosa delle x nel check\n",
      "aggiustare questa cosa delle x nel check\n",
      "aggiustare questa cosa delle x nel check\n",
      "aggiustare questa cosa delle x nel check\n",
      "aggiustare questa cosa delle x nel check\n",
      "aggiustare questa cosa delle x nel check\n",
      "aggiustare questa cosa delle x nel check\n",
      "aggiustare questa cosa delle x nel check\n",
      "aggiustare questa cosa delle x nel check\n",
      "aggiustare questa cosa delle x nel check\n",
      "aggiustare questa cosa delle x nel check\n",
      "aggiustare questa cosa delle x nel check\n",
      "aggiustare questa cosa delle x nel check\n",
      "aggiustare questa cosa delle x nel check\n",
      "aggiustare questa cosa delle x nel check\n",
      "aggiustare questa cosa delle x nel check\n",
      "aggiustare questa cosa delle x nel check\n",
      "aggiustare questa cosa delle x nel check\n",
      "aggiustare questa cosa delle x nel check\n",
      "aggiustare questa cosa delle x nel check\n",
      "aggiustare questa cosa delle x nel check\n",
      "aggiustare questa cosa delle x nel check\n",
      "aggiustare questa cosa delle x nel check\n",
      "aggiustare questa cosa delle x nel check\n",
      "aggiustare questa cosa delle x nel check\n",
      "aggiustare questa cosa delle x nel check\n",
      "aggiustare questa cosa delle x nel check\n",
      "aggiustare questa cosa delle x nel check\n",
      "aggiustare questa cosa delle x nel check\n",
      "aggiustare questa cosa delle x nel check\n",
      "aggiustare questa cosa delle x nel check\n",
      "aggiustare questa cosa delle x nel check\n",
      "aggiustare questa cosa delle x nel check\n",
      "aggiustare questa cosa delle x nel check\n",
      "aggiustare questa cosa delle x nel check\n",
      "aggiustare questa cosa delle x nel check\n",
      "aggiustare questa cosa delle x nel check\n",
      "aggiustare questa cosa delle x nel check\n",
      "aggiustare questa cosa delle x nel check\n",
      "aggiustare questa cosa delle x nel check\n",
      "aggiustare questa cosa delle x nel check\n",
      "aggiustare questa cosa delle x nel check\n",
      "aggiustare questa cosa delle x nel check\n",
      "aggiustare questa cosa delle x nel check\n",
      "aggiustare questa cosa delle x nel check\n",
      "aggiustare questa cosa delle x nel check\n",
      "aggiustare questa cosa delle x nel check\n",
      "aggiustare questa cosa delle x nel check\n",
      "aggiustare questa cosa delle x nel check\n",
      "aggiustare questa cosa delle x nel check\n",
      "aggiustare questa cosa delle x nel check\n",
      "aggiustare questa cosa delle x nel check\n",
      "aggiustare questa cosa delle x nel check\n",
      "aggiustare questa cosa delle x nel check\n",
      "aggiustare questa cosa delle x nel check\n",
      "aggiustare questa cosa delle x nel check\n",
      "aggiustare questa cosa delle x nel check\n",
      "aggiustare questa cosa delle x nel check\n",
      "aggiustare questa cosa delle x nel check\n",
      "aggiustare questa cosa delle x nel check\n",
      "aggiustare questa cosa delle x nel check\n",
      "aggiustare questa cosa delle x nel check\n",
      "aggiustare questa cosa delle x nel check\n",
      "aggiustare questa cosa delle x nel check\n",
      "aggiustare questa cosa delle x nel check\n",
      "aggiustare questa cosa delle x nel check\n",
      "aggiustare questa cosa delle x nel check\n",
      "aggiustare questa cosa delle x nel check\n",
      "aggiustare questa cosa delle x nel check\n",
      "aggiustare questa cosa delle x nel check\n",
      "aggiustare questa cosa delle x nel check\n",
      "aggiustare questa cosa delle x nel check\n",
      "aggiustare questa cosa delle x nel check\n",
      "aggiustare questa cosa delle x nel check\n",
      "aggiustare questa cosa delle x nel check\n",
      "aggiustare questa cosa delle x nel check\n",
      "aggiustare questa cosa delle x nel check\n",
      "aggiustare questa cosa delle x nel check\n",
      "aggiustare questa cosa delle x nel check\n",
      "aggiustare questa cosa delle x nel check\n",
      "aggiustare questa cosa delle x nel check\n",
      "aggiustare questa cosa delle x nel check\n",
      "aggiustare questa cosa delle x nel check\n",
      "aggiustare questa cosa delle x nel check\n",
      "aggiustare questa cosa delle x nel check\n",
      "aggiustare questa cosa delle x nel check\n",
      "aggiustare questa cosa delle x nel check\n",
      "aggiustare questa cosa delle x nel check\n",
      "aggiustare questa cosa delle x nel check\n",
      "aggiustare questa cosa delle x nel check\n",
      "aggiustare questa cosa delle x nel check\n",
      "aggiustare questa cosa delle x nel check\n",
      "aggiustare questa cosa delle x nel check\n",
      "aggiustare questa cosa delle x nel check\n"
     ]
    }
   ],
   "source": [
    "qcs_calibs_identity, meas_calibs = calibration_cirquits(\"column_evolution_remake2\", q_anc=[0,2,4,6], N=n_steps, time=time, check=\"yes\", check_type=\"4copy_check\")\n",
    "state_lables = bin_list(7)"
   ]
  },
  {
   "cell_type": "code",
   "execution_count": 17,
   "metadata": {},
   "outputs": [
    {
     "data": {
      "text/html": [
       "<pre style=\"word-wrap: normal;white-space: pre;background: #fff0;line-height: 1.1;font-family: &quot;Courier New&quot;,Courier,monospace\">              ░          ┌─┐         \n",
       "q458_0: ──────░──────────┤M├─────────\n",
       "        ┌───┐ ░ ┌─┐      └╥┘         \n",
       "q458_1: ┤ X ├─░─┤M├───────╫──────────\n",
       "        └───┘ ░ └╥┘       ║ ┌─┐      \n",
       "q458_2: ──────░──╫────────╫─┤M├──────\n",
       "              ░  ║ ┌─┐    ║ └╥┘      \n",
       "q458_3: ──────░──╫─┤M├────╫──╫───────\n",
       "              ░  ║ └╥┘    ║  ║ ┌─┐   \n",
       "q458_4: ──────░──╫──╫─────╫──╫─┤M├───\n",
       "              ░  ║  ║ ┌─┐ ║  ║ └╥┘   \n",
       "q458_5: ──────░──╫──╫─┤M├─╫──╫──╫────\n",
       "              ░  ║  ║ └╥┘ ║  ║  ║ ┌─┐\n",
       "q458_6: ──────░──╫──╫──╫──╫──╫──╫─┤M├\n",
       "              ░  ║  ║  ║  ║  ║  ║ └╥┘\n",
       "c289: 7/═════════╩══╩══╩══╩══╩══╩══╩═\n",
       "                 0  1  2  3  4  5  6 </pre>"
      ],
      "text/plain": [
       "              ░          ┌─┐         \n",
       "q458_0: ──────░──────────┤M├─────────\n",
       "        ┌───┐ ░ ┌─┐      └╥┘         \n",
       "q458_1: ┤ X ├─░─┤M├───────╫──────────\n",
       "        └───┘ ░ └╥┘       ║ ┌─┐      \n",
       "q458_2: ──────░──╫────────╫─┤M├──────\n",
       "              ░  ║ ┌─┐    ║ └╥┘      \n",
       "q458_3: ──────░──╫─┤M├────╫──╫───────\n",
       "              ░  ║ └╥┘    ║  ║ ┌─┐   \n",
       "q458_4: ──────░──╫──╫─────╫──╫─┤M├───\n",
       "              ░  ║  ║ ┌─┐ ║  ║ └╥┘   \n",
       "q458_5: ──────░──╫──╫─┤M├─╫──╫──╫────\n",
       "              ░  ║  ║ └╥┘ ║  ║  ║ ┌─┐\n",
       "q458_6: ──────░──╫──╫──╫──╫──╫──╫─┤M├\n",
       "              ░  ║  ║  ║  ║  ║  ║ └╥┘\n",
       "c289: 7/═════════╩══╩══╩══╩══╩══╩══╩═\n",
       "                 0  1  2  3  4  5  6 "
      ]
     },
     "execution_count": 17,
     "metadata": {},
     "output_type": "execute_result"
    }
   ],
   "source": [
    "meas_calibs[1].draw()"
   ]
  },
  {
   "cell_type": "code",
   "execution_count": 18,
   "metadata": {},
   "outputs": [
    {
     "data": {
      "image/png": "[encoded data removed]",
      "text/plain": [
       "<Figure size 908.575x505.68 with 1 Axes>"
      ]
     },
     "execution_count": 18,
     "metadata": {},
     "output_type": "execute_result"
    }
   ],
   "source": [
    "qcs_calibs_identity[2].draw(output=\"mpl\")"
   ]
  },
  {
   "cell_type": "code",
   "execution_count": 19,
   "metadata": {},
   "outputs": [],
   "source": [
    "jobs_evo=execute(qcs_tomo, backend=backend, shots=shots)\n",
    "job_cal_our_identity=execute(qcs_calibs_identity, backend=backend, shots=shots)\n",
    "job_cal_our_itself_new=execute(qcs_calib_itself, backend = backend, shots=shots)\n",
    "job_cal=execute(meas_calibs, backend=backend, shots=shots)"
   ]
  },
  {
   "cell_type": "code",
   "execution_count": null,
   "metadata": {},
   "outputs": [],
   "source": []
  },
  {
   "cell_type": "code",
   "execution_count": null,
   "metadata": {},
   "outputs": [],
   "source": []
  },
  {
   "cell_type": "code",
   "execution_count": 18,
   "metadata": {},
   "outputs": [],
   "source": [
    "meas_fitter_our = CompleteMeasFitter(job_cal_our.result(), state_labels=state_lables)\n",
    "meas_fitter = CompleteMeasFitter(job_cal.result(), state_labels=state_lables)\n",
    "\n",
    "U_tilde=meas_fitter_our.cal_matrix"
   ]
  },
  {
   "cell_type": "markdown",
   "metadata": {},
   "source": [
    "# da qui in poi non ti fidare (quasi) di niente"
   ]
  },
  {
   "cell_type": "code",
   "execution_count": 19,
   "metadata": {},
   "outputs": [],
   "source": [
    "qr_basi = QuantumRegister(7)\n",
    "qc_basi = QuantumCircuit(qr_basi)\n",
    "\n",
    "#qc_basi.swap(5,4)\n",
    "#qc_basi.swap(5,2)\n",
    "#qc_basi.swap(1,3)\n",
    "#qc_basi.swap(0,1)\n",
    "\n",
    "qcs_basi = state_tomography_circuits(qc_basi,[qr_basi[0],qr_basi[1],qr_basi[2]])\n",
    "\n",
    "'''\n",
    "qr_aus = QuantumRegister(7 ,name=\"q\")\n",
    "qc_aus = QuantumCircuit(qr_aus, name=\"U\")\n",
    "\n",
    "qc_aus.append(qc3, [qr_aus[0],qr_aus[1],qr_aus[2]])\n",
    "qc_aus=add_symmetry_check(qc_aus, [qr_aus[0],qr_aus[1],qr_aus[2]], [qr_aus[3],qr_aus[4],qr_aus[5],qr_aus[6]], type=\"4copy_check\")\n",
    "\n",
    "U = matrix_from_cirquit(qc_aus, type=\"numpy\")\n",
    "\n",
    "C_matrices = []\n",
    "C= np.matmul(U_tilde, np.asarray(np.matrix(U).getH()))\n",
    "'''\n",
    "C_matrices = []\n",
    "C=U_tilde\n",
    "\n",
    "for qca in qcs_basi:\n",
    "    \n",
    "    qca.remove_final_measurements()\n",
    "\n",
    "    #qca.swap(0,1)\n",
    "    #qca.swap(1,3)\n",
    "    #qca.swap(5,2)\n",
    "    #qca.swap(5,4)\n",
    "\n",
    "    qca_matrix = np.matrix(matrix_from_cirquit(qca, type=\"numpy\"))\n",
    "    qca_matrixH = qca_matrix.getH()\n",
    "\n",
    "    C_aus = np.matmul(qca_matrix, np.matmul(C, qca_matrixH))\n",
    "\n",
    "    C_matrices.append(np.asarray(C_aus))"
   ]
  },
  {
   "cell_type": "code",
   "execution_count": 20,
   "metadata": {},
   "outputs": [],
   "source": [
    "from copy import deepcopy\n",
    "meas_fitter_ours = []\n",
    "\n",
    "for C_new in C_matrices:\n",
    "    meas_fitter_our_aus = deepcopy(meas_fitter_our)\n",
    "    meas_fitter_our_aus._tens_fitt.cal_matrices[0]=C_new\n",
    "\n",
    "    meas_fitter_ours.append(meas_fitter_our_aus)\n",
    "\n"
   ]
  },
  {
   "cell_type": "code",
   "execution_count": 21,
   "metadata": {},
   "outputs": [
    {
     "name": "stdout",
     "output_type": "stream",
     "text": [
      "0\n",
      "0\n",
      "tens_fitt\n",
      "1\n",
      "tens_fitt\n",
      "2\n",
      "tens_fitt\n",
      "3\n",
      "tens_fitt\n",
      "4\n",
      "tens_fitt\n",
      "5\n",
      "tens_fitt\n",
      "6\n",
      "tens_fitt\n",
      "7\n",
      "tens_fitt\n",
      "8\n",
      "tens_fitt\n",
      "9\n",
      "tens_fitt\n",
      "10\n",
      "tens_fitt\n",
      "11\n",
      "tens_fitt\n",
      "12\n",
      "tens_fitt\n",
      "13\n",
      "tens_fitt\n",
      "14\n",
      "tens_fitt\n",
      "15\n",
      "tens_fitt\n",
      "16\n",
      "tens_fitt\n",
      "17\n",
      "tens_fitt\n",
      "18\n",
      "tens_fitt\n",
      "19\n",
      "tens_fitt\n",
      "20\n",
      "tens_fitt\n",
      "21\n",
      "tens_fitt\n",
      "22\n",
      "tens_fitt\n",
      "23\n",
      "tens_fitt\n",
      "24\n",
      "tens_fitt\n",
      "25\n",
      "tens_fitt\n",
      "26\n",
      "tens_fitt\n",
      "0\n",
      "0 (128, 128)\n",
      "deepcopy\n",
      "1\n",
      "1 (128, 128)\n",
      "deepcopy\n",
      "2\n",
      "2 (128, 128)\n",
      "deepcopy\n",
      "3\n",
      "3 (128, 128)\n",
      "deepcopy\n",
      "4\n",
      "4 (128, 128)\n",
      "deepcopy\n",
      "5\n",
      "5 (128, 128)\n",
      "deepcopy\n",
      "6\n",
      "6 (128, 128)\n",
      "deepcopy\n",
      "7\n",
      "7 (128, 128)\n",
      "deepcopy\n",
      "8\n",
      "8 (128, 128)\n",
      "deepcopy\n",
      "9\n",
      "9 (128, 128)\n",
      "deepcopy\n",
      "10\n",
      "10 (128, 128)\n",
      "deepcopy\n",
      "11\n",
      "11 (128, 128)\n",
      "deepcopy\n",
      "12\n",
      "12 (128, 128)\n",
      "deepcopy\n",
      "13\n",
      "13 (128, 128)\n",
      "deepcopy\n",
      "14\n",
      "14 (128, 128)\n",
      "deepcopy\n",
      "15\n",
      "15 (128, 128)\n",
      "deepcopy\n",
      "16\n",
      "16 (128, 128)\n",
      "deepcopy\n",
      "17\n",
      "17 (128, 128)\n",
      "deepcopy\n",
      "18\n",
      "18 (128, 128)\n",
      "deepcopy\n",
      "19\n",
      "19 (128, 128)\n",
      "deepcopy\n",
      "20\n",
      "20 (128, 128)\n",
      "deepcopy\n",
      "21\n",
      "21 (128, 128)\n",
      "deepcopy\n",
      "22\n",
      "22 (128, 128)\n",
      "deepcopy\n",
      "23\n",
      "23 (128, 128)\n",
      "deepcopy\n",
      "24\n",
      "24 (128, 128)\n",
      "deepcopy\n",
      "25\n",
      "25 (128, 128)\n",
      "deepcopy\n",
      "26\n",
      "26 (128, 128)\n",
      "deepcopy\n",
      "attenzione ho invertito gli arg di state_fidelity\n",
      "attenzione ho invertito gli arg di state_fidelity\n",
      "attenzione ho invertito gli arg di state_fidelity\n",
      "attenzione ho invertito gli arg di state_fidelity\n"
     ]
    }
   ],
   "source": [
    "reps=1\n",
    "\n",
    "target_state = (One^One^Zero).to_matrix()\n",
    "\n",
    "fids=np.zeros([reps,4])\n",
    "fids_mean=np.zeros(4)\n",
    "fids_dev=np.zeros(4)\n",
    "\n",
    "for j in range(reps):\n",
    "    \n",
    "    #res = jobs_evo_result[j]\n",
    "    res=jobs_evo.result()\n",
    "\n",
    "    print(j)\n",
    "    \n",
    "    new_res, new_res_nm = mitigate2(res, ancillas_conditions=['0011','1110','1101'], meas_fitter=meas_fitter)\n",
    "    new_res_our, new_res_nm = mitigate2(res, ancillas_conditions=['0011','1110','1101'], meas_fitter=meas_fitter_ours)\n",
    "    new_res_not_mitigated = mitigate2(res, ancillas_conditions=bin_list(4))\n",
    "\n",
    "    fids[j,0] = fidelity_count(new_res_not_mitigated, qcs_na, target_state)\n",
    "    fids[j,1] = fidelity_count(new_res_nm, qcs_na, target_state)\n",
    "    fids[j,2] = fidelity_count(new_res, qcs_na, target_state)\n",
    "    fids[j,3] = fidelity_count(new_res_our, qcs_na, target_state)\n",
    "\n",
    "for i in range(4):\n",
    "    fids_mean[i]=np.mean(fids[:,i])\n",
    "    fids_dev[i]=np.std(fids[:,i])"
   ]
  },
  {
   "cell_type": "markdown",
   "metadata": {},
   "source": []
  },
  {
   "cell_type": "code",
   "execution_count": 22,
   "metadata": {},
   "outputs": [
    {
     "data": {
      "text/plain": [
       "array([0.81559046, 0.87221243, 0.95925199, 0.99680501])"
      ]
     },
     "execution_count": 22,
     "metadata": {},
     "output_type": "execute_result"
    }
   ],
   "source": [
    "fids_mean"
   ]
  },
  {
   "cell_type": "code",
   "execution_count": null,
   "metadata": {},
   "outputs": [],
   "source": []
  }
 ],
 "metadata": {
  "interpreter": {
   "hash": "aee8b7b246df8f9039afb4144a1f6fd8d2ca17a180786b69acc140d282b71a49"
  },
  "kernelspec": {
   "display_name": "Python 3.10.2 64-bit",
   "language": "python",
   "name": "python3"
  },
  "language_info": {
   "codemirror_mode": {
    "name": "ipython",
    "version": 3
   },
   "file_extension": ".py",
   "mimetype": "text/x-python",
   "name": "python",
   "nbconvert_exporter": "python",
   "pygments_lexer": "ipython3",
   "version": "3.10.2"
  },
  "orig_nbformat": 4
 },
 "nbformat": 4,
 "nbformat_minor": 2
}
