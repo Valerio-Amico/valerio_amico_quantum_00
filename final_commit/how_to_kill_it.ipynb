{
 "cells": [
  {
   "cell_type": "code",
   "execution_count": 22,
   "metadata": {},
   "outputs": [
    {
     "name": "stdout",
     "output_type": "stream",
     "text": [
      "The autoreload extension is already loaded. To reload it, use:\n",
      "  %reload_ext autoreload\n"
     ]
    },
    {
     "name": "stderr",
     "output_type": "stream",
     "text": [
      "ibmqfactory.load_account:WARNING:2022-04-09 22:51:32,964: Credentials are already in use. The existing account in the session will be replaced.\n"
     ]
    }
   ],
   "source": [
    "from lib.functions0 import *\n",
    "from lib.utility import *\n",
    "import numpy as np\n",
    "from scipy.linalg import expm\n",
    "from qiskit.utils.mitigation.fitters import CompleteMeasFitter\n",
    "from qiskit.ignis.mitigation.measurement import  complete_meas_cal\n",
    "from qiskit import Aer, assemble, QuantumCircuit, QuantumRegister, ClassicalRegister, IBMQ, transpile, execute\n",
    "from qiskit.providers.aer import AerSimulator, QasmSimulator\n",
    "from qiskit.opflow import Zero, One, I, X, Y, Z\n",
    "from qiskit.ignis.verification.tomography import state_tomography_circuits, StateTomographyFitter\n",
    "from qiskit.quantum_info import state_fidelity\n",
    "import matplotlib.pyplot as plt\n",
    "%load_ext autoreload\n",
    "%autoreload 2\n",
    "import warnings\n",
    "warnings.filterwarnings('ignore')\n",
    "IBMQ.load_account()\n",
    "provider = IBMQ.get_provider(hub='ibm-q-community',\n",
    "                            group='ibmquantumawards', \n",
    "                            project='open-science-22')\n",
    "\n",
    "backend_sim_jakarta = QasmSimulator.from_backend(provider.get_backend('ibmq_jakarta'))\n",
    "backend_real_jakarta = provider.get_backend('ibmq_jakarta')\n",
    "backend_sim = Aer.get_backend('qasm_simulator')"
   ]
  },
  {
   "cell_type": "code",
   "execution_count": 23,
   "metadata": {},
   "outputs": [
    {
     "data": {
      "text/latex": [
       "$\\displaystyle \\left[\\begin{matrix}0.309 - 0.951 i & 0 & 0 & 0 & 0 & 0 & 0 & 0\\\\0 & 0.468 - 0.219 i & 0.371 - 0.519 i & 0 & -0.53 - 0.213 i & 0 & 0 & 0\\\\0 & 0.375 - 0.507 i & -0.436 + 0.0748 i & 0 & 0.371 - 0.519 i & 0 & 0 & 0\\\\0 & 0 & 0 & 0.468 - 0.219 i & 0 & 0.375 - 0.507 i & -0.534 - 0.225 i & 0\\\\0 & -0.534 - 0.225 i & 0.375 - 0.507 i & 0 & 0.468 - 0.219 i & 0 & 0 & 0\\\\0 & 0 & 0 & 0.371 - 0.519 i & 0 & -0.436 + 0.0748 i & 0.375 - 0.507 i & 0\\\\0 & 0 & 0 & -0.53 - 0.213 i & 0 & 0.371 - 0.519 i & 0.468 - 0.219 i & 0\\\\0 & 0 & 0 & 0 & 0 & 0 & 0 & 0.309 - 0.951 i\\end{matrix}\\right]$"
      ],
      "text/plain": [
       "Matrix([\n",
       "[0.309 - 0.951*I,                0,                 0,               0,               0,                 0,                0,               0],\n",
       "[              0,  0.468 - 0.219*I,   0.371 - 0.519*I,               0, -0.53 - 0.213*I,                 0,                0,               0],\n",
       "[              0,  0.375 - 0.507*I, -0.436 + 0.0748*I,               0, 0.371 - 0.519*I,                 0,                0,               0],\n",
       "[              0,                0,                 0, 0.468 - 0.219*I,               0,   0.375 - 0.507*I, -0.534 - 0.225*I,               0],\n",
       "[              0, -0.534 - 0.225*I,   0.375 - 0.507*I,               0, 0.468 - 0.219*I,                 0,                0,               0],\n",
       "[              0,                0,                 0, 0.371 - 0.519*I,               0, -0.436 + 0.0748*I,  0.375 - 0.507*I,               0],\n",
       "[              0,                0,                 0, -0.53 - 0.213*I,               0,   0.371 - 0.519*I,  0.468 - 0.219*I,               0],\n",
       "[              0,                0,                 0,               0,               0,                 0,                0, 0.309 - 0.951*I]])"
      ]
     },
     "execution_count": 23,
     "metadata": {},
     "output_type": "execute_result"
    }
   ],
   "source": [
    "n_steps=100\n",
    "time=np.pi/5\n",
    "#initial_state={\"110\": 1}\n",
    "shots = 32000\n",
    "backend = backend_sim_jakarta\n",
    "\n",
    "X = np.array([[0,1],[1,0]])  #defining the pauli matrices\n",
    "Y = np.array([[0,-1j],[1j,0]])\n",
    "Z = np.array([[1,0],[0,-1]])\n",
    "Id = np.eye(2)\n",
    "\n",
    "# defining the hamiltonian divided in: \n",
    "#       - H1: first two qubits interactions.\n",
    "#       - H2: second two qubits interactions.\n",
    "\n",
    "H1 = np.kron(X, np.kron(X,Id)) + np.kron(Y, np.kron(Y,Id)) + np.kron(Z, np.kron(Z,Id)) \n",
    "H2 = np.kron(Id, np.kron(X,X)) + np.kron(Id, np.kron(Y,Y)) + np.kron(Id, np.kron(Z,Z)) \n",
    "\n",
    "# building numerically the trotter step matrix, and the whole operator (trotter step)^n_steps.\n",
    "\n",
    "trotter_step_matrix_= expm(-time/n_steps*H1*1j).dot(expm(-time/n_steps*H2*1j))\n",
    "trotterized = np.linalg.matrix_power(trotter_step_matrix_, n_steps)\n",
    "Matrix(trotterized).n(3, chop=True)"
   ]
  },
  {
   "cell_type": "code",
   "execution_count": 24,
   "metadata": {},
   "outputs": [],
   "source": [
    "A0 = trotterized[3, 6]\n",
    "A1 = trotterized[5, 6]\n",
    "A2 = trotterized[6, 6]\n",
    "\n",
    "r1=float(atan2(im(A0),re(A0))+atan2(im(A2),re(A2)))/2\n",
    "r2=0\n",
    "f1=float(atan2(im(A2),re(A2))-atan2(im(A1),re(A1))-np.pi)/2\n",
    "f2=float((atan2(im(A2),re(A2))-atan2(im(A0),re(A0)))/2-f1)\n",
    "a1=float(acos(abs(A2)))\n",
    "a2=float(acos(abs(A1)/sin(a1)))\n",
    "\n",
    "M1_qc = fixed_magnetization_two_qubit_gate(r1,f1,a1)\n",
    "M2_qc = fixed_magnetization_two_qubit_gate(r2,f2,a2)"
   ]
  },
  {
   "cell_type": "markdown",
   "metadata": {},
   "source": [
    "## building the operator U gate"
   ]
  },
  {
   "cell_type": "code",
   "execution_count": 25,
   "metadata": {},
   "outputs": [
    {
     "data": {
      "image/png": "[encoded data removed]",
      "text/plain": [
       "<Figure size 1350.8x204.68 with 1 Axes>"
      ]
     },
     "execution_count": 25,
     "metadata": {},
     "output_type": "execute_result"
    }
   ],
   "source": [
    "\n",
    "qr_U = QuantumRegister(3 ,name=\"q\")\n",
    "qc_U = QuantumCircuit(qr_U, name=\"U\")\n",
    "\n",
    "qc_U.append(M1_qc, [qr_U[0],qr_U[1]])\n",
    "qc_U.append(M2_qc, [qr_U[1],qr_U[2]])\n",
    "\n",
    "qc_U=transpile(qc_U, basis_gates=[\"cx\",\"rz\",\"x\",\"sx\"])\n",
    "qc_U.draw(output=\"mpl\")"
   ]
  },
  {
   "cell_type": "code",
   "execution_count": 26,
   "metadata": {},
   "outputs": [
    {
     "data": {
      "text/latex": [
       "$\\displaystyle \\left[\\begin{matrix}0.9057666294 + 0.4237768435 i & 0 & 0 & 0 & 0 & 0 & 0 & 0\\\\0 & 0.4681540745 + 0.2190330815 i & 0.7889484898 + 0.3322898616 i & 0 & 0 & 0 & 0 & 0\\\\0 & -0.3745018365 - 0.5072650329 i & 0.2378719778 + 0.2972213653 i & 0 & -0.6126538413 - 0.286639519 i & 0 & 0 & 0\\\\0 & 0 & 0 & 0.4602256207 + 0.5750525497 i & 0 & -0.3166559495 - 0.1481523545 i & -0.5336389166 - 0.2247584019 i & 0\\\\0 & -0.5336389166 + 0.2247584019 i & 0.3166559495 - 0.1481523545 i & 0 & 0.4602256207 - 0.5750525497 i & 0 & 0 & 0\\\\0 & 0 & 0 & 0.6126538413 - 0.286639519 i & 0 & 0.2378719778 - 0.2972213653 i & 0.3745018365 - 0.5072650329 i & 0\\\\0 & 0 & 0 & 0 & 0 & -0.7889484898 + 0.3322898616 i & 0.4681540745 - 0.2190330815 i & 0\\\\0 & 0 & 0 & 0 & 0 & 0 & 0 & 0.9057666294 - 0.4237768435 i\\end{matrix}\\right]$"
      ],
      "text/plain": [
       "Matrix([\n",
       "[0.9057666294 + 0.4237768435*I,                              0,                             0,                             0,                             0,                              0,                              0,                             0],\n",
       "[                            0,  0.4681540745 + 0.2190330815*I, 0.7889484898 + 0.3322898616*I,                             0,                             0,                              0,                              0,                             0],\n",
       "[                            0, -0.3745018365 - 0.5072650329*I, 0.2378719778 + 0.2972213653*I,                             0, -0.6126538413 - 0.286639519*I,                              0,                              0,                             0],\n",
       "[                            0,                              0,                             0, 0.4602256207 + 0.5750525497*I,                             0, -0.3166559495 - 0.1481523545*I, -0.5336389166 - 0.2247584019*I,                             0],\n",
       "[                            0, -0.5336389166 + 0.2247584019*I, 0.3166559495 - 0.1481523545*I,                             0, 0.4602256207 - 0.5750525497*I,                              0,                              0,                             0],\n",
       "[                            0,                              0,                             0,  0.6126538413 - 0.286639519*I,                             0,  0.2378719778 - 0.2972213653*I,  0.3745018365 - 0.5072650329*I,                             0],\n",
       "[                            0,                              0,                             0,                             0,                             0, -0.7889484898 + 0.3322898616*I,  0.4681540745 - 0.2190330815*I,                             0],\n",
       "[                            0,                              0,                             0,                             0,                             0,                              0,                              0, 0.9057666294 - 0.4237768435*I]])"
      ]
     },
     "execution_count": 26,
     "metadata": {},
     "output_type": "execute_result"
    }
   ],
   "source": [
    "U_ideal=matrix_from_circuit(qc_U, type=\"numpy\")\n",
    "Matrix(U_ideal)"
   ]
  },
  {
   "cell_type": "markdown",
   "metadata": {},
   "source": [
    "## building the evolution circuit"
   ]
  },
  {
   "cell_type": "code",
   "execution_count": 27,
   "metadata": {},
   "outputs": [
    {
     "data": {
      "image/png": "[encoded data removed]",
      "text/plain": [
       "<Figure size 532.664x264.88 with 1 Axes>"
      ]
     },
     "execution_count": 27,
     "metadata": {},
     "output_type": "execute_result"
    }
   ],
   "source": [
    "qr_evo = QuantumRegister(3, name=\"q\")\n",
    "qc_evo = QuantumCircuit(qr_evo, name=\"U\")\n",
    "\n",
    "qc_evo.x([qr_evo[1],qr_evo[2]])\n",
    "qc_evo.append(qc_U, qr_evo)\n",
    "\n",
    "qcs_tomo = state_tomography_circuits(qc_evo, qr_evo)\n",
    "qcs_tomo[3].draw(output=\"mpl\")"
   ]
  },
  {
   "cell_type": "markdown",
   "metadata": {},
   "source": [
    "## building the calibration matrices"
   ]
  },
  {
   "cell_type": "code",
   "execution_count": 28,
   "metadata": {},
   "outputs": [],
   "source": [
    "qr_cal = QuantumRegister(3)\n",
    "cal_circ, state_labels = complete_meas_cal(qubit_list=[0,1,2], qr=qr_cal, circlabel='mcal')"
   ]
  },
  {
   "cell_type": "markdown",
   "metadata": {},
   "source": [
    "## building the itself calibration circuit: *Circuit-Itself-Calibration (CIC)*"
   ]
  },
  {
   "cell_type": "code",
   "execution_count": 29,
   "metadata": {},
   "outputs": [],
   "source": [
    "Number_of_tomography_basis = 3**3\n",
    "\n",
    "circuits_calibration_itself = list(range(Number_of_tomography_basis))\n",
    "\n",
    "for tomography_base in range(Number_of_tomography_basis):\n",
    "\n",
    "    circuits_calibration_itself[tomography_base] = []\n",
    "\n",
    "    for i in state_labels:\n",
    "\n",
    "        cr_cal_itself = ClassicalRegister(3)\n",
    "        qr_cal_itself = QuantumRegister(3)\n",
    "        qc_cal_itself = QuantumCircuit(qr_cal_itself, cr_cal_itself, name=f\"mcalcal_{i}\") # changing the name to not have API contrast\n",
    "\n",
    "        for k in range(3):\n",
    "            if i[::-1][k] == \"1\":\n",
    "                qc_cal_itself.x(qr_cal_itself[k])\n",
    "\n",
    "        qc_cal_itself.append(qc_U, qr_cal_itself)\n",
    "        qc_cal_itself.measure(qr_cal_itself, cr_cal_itself)\n",
    "\n",
    "        circuits_calibration_itself[tomography_base].append(qc_cal_itself)\n",
    "\n",
    "    \n"
   ]
  },
  {
   "cell_type": "markdown",
   "metadata": {},
   "source": [
    "## building the identity calibration circit: *Noisy-Identity-Calibration (NIC)*"
   ]
  },
  {
   "cell_type": "code",
   "execution_count": 30,
   "metadata": {},
   "outputs": [],
   "source": [
    "calib_circuits_identity = []\n",
    "\n",
    "for i in state_labels:\n",
    "\n",
    "    cr_cal_id = ClassicalRegister(3)\n",
    "    qr_cal_id = QuantumRegister(3)\n",
    "    qc_cal_id = QuantumCircuit(qr_cal_id, cr_cal_id, name=f\"mcalcal_{i}\")\n",
    "\n",
    "    qc_cal_id.append(qc_U, qr_cal_id)\n",
    "\n",
    "    for k in range(3):\n",
    "        if i[::-1][k] == \"1\":\n",
    "            qc_cal_id.x(qr_cal_id[k])\n",
    "        \n",
    "    qc_cal_id.measure(qr_cal_id, cr_cal_id)\n",
    "\n",
    "    calib_circuits_identity.append(qc_cal_id)"
   ]
  },
  {
   "cell_type": "markdown",
   "metadata": {},
   "source": [
    "## execution of the circuits"
   ]
  },
  {
   "cell_type": "code",
   "execution_count": 31,
   "metadata": {},
   "outputs": [],
   "source": [
    "job_tomo=execute(qcs_tomo, backend, shots=shots, initial_layout=[1,3,5])\n",
    "\n",
    "job_cal_our_identity=execute(calib_circuits_identity, backend = backend, shots=shots, initial_layout=[1,3,5])\n",
    "\n",
    "jobs_cal_our_itself = []\n",
    "for circuit_calibration_itself in circuits_calibration_itself:\n",
    "    job_cal_our_itself=execute(circuit_calibration_itself, backend = backend, shots=shots, initial_layout=[1,3,5])\n",
    "    jobs_cal_our_itself.append(job_cal_our_itself)\n",
    "\n",
    "job_cal_qiskit=execute(cal_circ, backend, shots=shots, initial_layout=[1,3,5])"
   ]
  },
  {
   "cell_type": "markdown",
   "metadata": {},
   "source": [
    "## building the matrices of the probabilies for the qiskit, identity and circuit-itself calibrations"
   ]
  },
  {
   "cell_type": "code",
   "execution_count": 32,
   "metadata": {},
   "outputs": [],
   "source": [
    "meas_fitter_identity = CompleteMeasFitter(job_cal_our_identity.result(), state_labels=state_labels)\n",
    "\n",
    "meas_fitter_itself_list = []\n",
    "for job_cal_our_itself in jobs_cal_our_itself:\n",
    "    meas_fitter_itself_list.append(CompleteMeasFitter(job_cal_our_itself.result(), state_labels=state_labels))\n",
    "\n",
    "meas_fitter_qiskit = CompleteMeasFitter(job_cal_qiskit.result(), state_labels=state_labels)"
   ]
  },
  {
   "cell_type": "markdown",
   "metadata": {},
   "source": [
    "## building the calibration matrix for each circuit of the tomography"
   ]
  },
  {
   "cell_type": "code",
   "execution_count": 33,
   "metadata": {},
   "outputs": [],
   "source": [
    "U_tilde_identity=meas_fitter_identity.cal_matrix\n",
    "\n",
    "U_tilde_itself_list = []\n",
    "for meas_fitter_itself in meas_fitter_itself_list:\n",
    "    U_tilde_itself_list.append(meas_fitter_itself.cal_matrix)\n",
    "\n",
    "U_tilde_qiskit=meas_fitter_qiskit.cal_matrix"
   ]
  },
  {
   "cell_type": "code",
   "execution_count": 34,
   "metadata": {},
   "outputs": [],
   "source": [
    "def matrix_from_cirquit(qc, phase=0, type=\"sympy\"):\n",
    "\n",
    "    backend = Aer.get_backend('unitary_simulator')\n",
    "    job = execute(qc, backend, shots=32000)\n",
    "    result = job.result()\n",
    "    A=result.get_unitary(qc, decimals=10)*np.exp(1j*phase)\n",
    "    if type==\"sympy\":\n",
    "        return Matrix(A)\n",
    "    else:\n",
    "        return A"
   ]
  },
  {
   "cell_type": "markdown",
   "metadata": {},
   "source": [
    "## building the matrix of the tomography basis \n"
   ]
  },
  {
   "cell_type": "code",
   "execution_count": 36,
   "metadata": {},
   "outputs": [],
   "source": [
    "qr_basi = QuantumRegister(3)\n",
    "qc_basi = QuantumCircuit(qr_basi)\n",
    "\n",
    "qcs_basis = state_tomography_circuits(qc_basi, qr_basi)"
   ]
  },
  {
   "cell_type": "code",
   "execution_count": null,
   "metadata": {},
   "outputs": [],
   "source": [
    "C_matrices_itself = []\n",
    "C_matrices_identity = []\n",
    "\n",
    "U_ideal_inv = np.linalg.inv(U_ideal)\n",
    "U_ideal_inv_abs = np.abs(U_ideal_inv)**2\n",
    "\n",
    "U_ideal_abs = np.abs(U_ideal)**2\n",
    "U_ideal_abs_inv = np.linalg.inv(U_ideal_abs)\n",
    "\n",
    "C_itself = np.dot(U_tilde_itself, U_ideal_abs_inv)\n",
    "C_identity = U_tilde_identity\n"
   ]
  }
 ],
 "metadata": {
  "interpreter": {
   "hash": "aee8b7b246df8f9039afb4144a1f6fd8d2ca17a180786b69acc140d282b71a49"
  },
  "kernelspec": {
   "display_name": "Python 3.10.2 64-bit",
   "language": "python",
   "name": "python3"
  },
  "language_info": {
   "codemirror_mode": {
    "name": "ipython",
    "version": 3
   },
   "file_extension": ".py",
   "mimetype": "text/x-python",
   "name": "python",
   "nbconvert_exporter": "python",
   "pygments_lexer": "ipython3",
   "version": "3.10.2"
  },
  "orig_nbformat": 4
 },
 "nbformat": 4,
 "nbformat_minor": 2
}
