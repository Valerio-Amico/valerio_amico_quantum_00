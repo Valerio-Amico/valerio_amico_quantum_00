{
 "cells": [
  {
   "cell_type": "code",
   "execution_count": 2,
   "metadata": {},
   "outputs": [
    {
     "name": "stderr",
     "output_type": "stream",
     "text": [
      "ibmqfactory.load_account:WARNING:2022-03-17 22:48:29,594: Credentials are already in use. The existing account in the session will be replaced.\n"
     ]
    }
   ],
   "source": [
    "import functions0 as f0\n",
    "import numpy as np\n",
    "import datetime\n",
    "import qiskit.ignis.mitigation.measurement as mc\n",
    "from qiskit import Aer, assemble, QuantumCircuit, QuantumRegister, ClassicalRegister, IBMQ, transpile, execute\n",
    "from qiskit.providers.aer import AerSimulator, QasmSimulator\n",
    "from qiskit.opflow import Zero, One, I, X, Y, Z\n",
    "from qiskit.ignis.verification.tomography import state_tomography_circuits, StateTomographyFitter\n",
    "from qiskit.quantum_info import state_fidelity\n",
    "import matplotlib.pyplot as plt\n",
    "\n",
    "IBMQ.load_account()\n",
    "provider = IBMQ.get_provider(hub='ibm-q-community', group='ibmquantumawards', project='open-science-22')\n",
    "\n",
    "sim_noisy_jakarta = QasmSimulator.from_backend(provider.get_backend('ibmq_jakarta'))\n",
    "backend_sim_jakarta = sim_noisy_jakarta \n",
    "backend = provider.get_backend('ibmq_jakarta')\n",
    "backend_sim = Aer.get_backend('qasm_simulator')"
   ]
  },
  {
   "cell_type": "markdown",
   "metadata": {},
   "source": [
    "## IBM open-science-prize-2021/22 solution. By Quantum Polo Gang: Ruben, Fabio & Valerio"
   ]
  },
  {
   "cell_type": "markdown",
   "metadata": {},
   "source": [
    "## Decomposition:\n",
    "- We computed numerically the operator of N trotter steps, for a certain evolution time: $U^n$\n",
    "- Observing that this operator preserves the magnetization of the system, if the initial state has a fixed magnetization (so, it isn't a superposition of state with different magnetization) is possible to decompose the operator with 4 c-not. If the initial state is a superposition of states with different magnetization the best decomposition we found has 11 c-not (14 for the Jakarta geometry).\n",
    "- Our initial state is $|110>$ (qubits 5,3 and 1 respectively) so we can use the best decomposition (4 c-not).\n",
    "\n",
    "To see the decomposition procedure go in decomposition.ipynb file."
   ]
  },
  {
   "cell_type": "markdown",
   "metadata": {},
   "source": [
    "Let's start from the defining of the evolution cirquit:"
   ]
  },
  {
   "cell_type": "code",
   "execution_count": 3,
   "metadata": {},
   "outputs": [
    {
     "data": {
      "text/html": [
       "<pre style=\"word-wrap: normal;white-space: pre;background: #fff0;line-height: 1.1;font-family: &quot;Courier New&quot;,Courier,monospace\">                        \n",
       "q_0: ───────────────────\n",
       "          ┌─────┐       \n",
       "q_1: ─────┤0    ├───────\n",
       "          │     │       \n",
       "q_2: ─────┤  M1 ├───────\n",
       "     ┌───┐│     │┌─────┐\n",
       "q_3: ┤ X ├┤1    ├┤0    ├\n",
       "     └───┘└─────┘│     │\n",
       "q_4: ────────────┤  M2 ├\n",
       "     ┌───┐       │     │\n",
       "q_5: ┤ X ├───────┤1    ├\n",
       "     └───┘       └─────┘\n",
       "q_6: ───────────────────\n",
       "                        </pre>"
      ],
      "text/plain": [
       "                        \n",
       "q_0: ───────────────────\n",
       "          ┌─────┐       \n",
       "q_1: ─────┤0    ├───────\n",
       "          │     │       \n",
       "q_2: ─────┤  M1 ├───────\n",
       "     ┌───┐│     │┌─────┐\n",
       "q_3: ┤ X ├┤1    ├┤0    ├\n",
       "     └───┘└─────┘│     │\n",
       "q_4: ────────────┤  M2 ├\n",
       "     ┌───┐       │     │\n",
       "q_5: ┤ X ├───────┤1    ├\n",
       "     └───┘       └─────┘\n",
       "q_6: ───────────────────\n",
       "                        "
      ]
     },
     "execution_count": 3,
     "metadata": {},
     "output_type": "execute_result"
    }
   ],
   "source": [
    "steps=42\n",
    "time=np.pi\n",
    "initial_state=\"110\"\n",
    "\n",
    "qr, qc = f0.evolution_cirquit(steps=steps, time=time, initial_state=\"110\") #DEVO IMPLEMENTARLA PER QUALSIASI STATO INIZIALE!\n",
    "qc.draw()"
   ]
  },
  {
   "cell_type": "markdown",
   "metadata": {},
   "source": [
    "Then we add the copy check for the mitigation"
   ]
  },
  {
   "cell_type": "code",
   "execution_count": 4,
   "metadata": {},
   "outputs": [
    {
     "data": {
      "text/html": [
       "<pre style=\"word-wrap: normal;white-space: pre;background: #fff0;line-height: 1.1;font-family: &quot;Courier New&quot;,Courier,monospace\">                        ┌──────────────┐\n",
       "q_0: ───────────────────┤0             ├\n",
       "          ┌─────┐       │              │\n",
       "q_1: ─────┤0    ├───────┤4             ├\n",
       "          │     │       │              │\n",
       "q_2: ─────┤  M1 ├───────┤1             ├\n",
       "     ┌───┐│     │┌─────┐│              │\n",
       "q_3: ┤ X ├┤1    ├┤0    ├┤5 4copy_check ├\n",
       "     └───┘└─────┘│     ││              │\n",
       "q_4: ────────────┤  M2 ├┤2             ├\n",
       "     ┌───┐       │     ││              │\n",
       "q_5: ┤ X ├───────┤1    ├┤6             ├\n",
       "     └───┘       └─────┘│              │\n",
       "q_6: ───────────────────┤3             ├\n",
       "                        └──────────────┘</pre>"
      ],
      "text/plain": [
       "                        ┌──────────────┐\n",
       "q_0: ───────────────────┤0             ├\n",
       "          ┌─────┐       │              │\n",
       "q_1: ─────┤0    ├───────┤4             ├\n",
       "          │     │       │              │\n",
       "q_2: ─────┤  M1 ├───────┤1             ├\n",
       "     ┌───┐│     │┌─────┐│              │\n",
       "q_3: ┤ X ├┤1    ├┤0    ├┤5 4copy_check ├\n",
       "     └───┘└─────┘│     ││              │\n",
       "q_4: ────────────┤  M2 ├┤2             ├\n",
       "     ┌───┐       │     ││              │\n",
       "q_5: ┤ X ├───────┤1    ├┤6             ├\n",
       "     └───┘       └─────┘│              │\n",
       "q_6: ───────────────────┤3             ├\n",
       "                        └──────────────┘"
      ]
     },
     "execution_count": 4,
     "metadata": {},
     "output_type": "execute_result"
    }
   ],
   "source": [
    "qc = f0.add_check(qc, [qr[1],qr[3],qr[5]], [qr[0],qr[2],qr[4],qr[6]], type=\"4copy_check\")\n",
    "qc.draw()"
   ]
  },
  {
   "cell_type": "markdown",
   "metadata": {},
   "source": [
    "Then, we build the tomografy cirquits"
   ]
  },
  {
   "cell_type": "code",
   "execution_count": 5,
   "metadata": {},
   "outputs": [
    {
     "data": {
      "text/html": [
       "<pre style=\"word-wrap: normal;white-space: pre;background: #fff0;line-height: 1.1;font-family: &quot;Courier New&quot;,Courier,monospace\">                          ┌──────────────┐ ░                         ░ ┌─┐   »\n",
       "  q_0: ───────────────────┤0             ├─░─────────────────────────░─┤M├───»\n",
       "            ┌─────┐       │              │ ░ ┌─────┐┌───┐     ┌─┐    ░ └╥┘   »\n",
       "  q_1: ─────┤0    ├───────┤4             ├─░─┤ Sdg ├┤ H ├─────┤M├────░──╫────»\n",
       "            │     │       │              │ ░ └─────┘└───┘     └╥┘    ░  ║ ┌─┐»\n",
       "  q_2: ─────┤  M1 ├───────┤1             ├─░───────────────────╫─────░──╫─┤M├»\n",
       "       ┌───┐│     │┌─────┐│              │ ░  ┌───┐  ┌─┐       ║     ░  ║ └╥┘»\n",
       "  q_3: ┤ X ├┤1    ├┤0    ├┤5 4copy_check ├─░──┤ H ├──┤M├───────╫─────░──╫──╫─»\n",
       "       └───┘└─────┘│     ││              │ ░  └───┘  └╥┘       ║     ░  ║  ║ »\n",
       "  q_4: ────────────┤  M2 ├┤2             ├─░──────────╫────────╫─────░──╫──╫─»\n",
       "       ┌───┐       │     ││              │ ░ ┌─────┐  ║  ┌───┐ ║ ┌─┐ ░  ║  ║ »\n",
       "  q_5: ┤ X ├───────┤1    ├┤6             ├─░─┤ Sdg ├──╫──┤ H ├─╫─┤M├─░──╫──╫─»\n",
       "       └───┘       └─────┘│              │ ░ └─────┘  ║  └───┘ ║ └╥┘ ░  ║  ║ »\n",
       "  q_6: ───────────────────┤3             ├─░──────────╫────────╫──╫──░──╫──╫─»\n",
       "                          └──────────────┘ ░          ║        ║  ║  ░  ║  ║ »\n",
       " c0: 3/═══════════════════════════════════════════════╩════════╩══╩═════╬══╬═»\n",
       "                                                      1        0  2     ║  ║ »\n",
       "c12: 4/═════════════════════════════════════════════════════════════════╩══╩═»\n",
       "                                                                        0  1 »\n",
       "«             \n",
       "«  q_0: ──────\n",
       "«             \n",
       "«  q_1: ──────\n",
       "«             \n",
       "«  q_2: ──────\n",
       "«             \n",
       "«  q_3: ──────\n",
       "«       ┌─┐   \n",
       "«  q_4: ┤M├───\n",
       "«       └╥┘   \n",
       "«  q_5: ─╫────\n",
       "«        ║ ┌─┐\n",
       "«  q_6: ─╫─┤M├\n",
       "«        ║ └╥┘\n",
       "« c0: 3/═╬══╬═\n",
       "«        ║  ║ \n",
       "«c12: 4/═╩══╩═\n",
       "«        2  3 </pre>"
      ],
      "text/plain": [
       "                          ┌──────────────┐ ░                         ░ ┌─┐   »\n",
       "  q_0: ───────────────────┤0             ├─░─────────────────────────░─┤M├───»\n",
       "            ┌─────┐       │              │ ░ ┌─────┐┌───┐     ┌─┐    ░ └╥┘   »\n",
       "  q_1: ─────┤0    ├───────┤4             ├─░─┤ Sdg ├┤ H ├─────┤M├────░──╫────»\n",
       "            │     │       │              │ ░ └─────┘└───┘     └╥┘    ░  ║ ┌─┐»\n",
       "  q_2: ─────┤  M1 ├───────┤1             ├─░───────────────────╫─────░──╫─┤M├»\n",
       "       ┌───┐│     │┌─────┐│              │ ░  ┌───┐  ┌─┐       ║     ░  ║ └╥┘»\n",
       "  q_3: ┤ X ├┤1    ├┤0    ├┤5 4copy_check ├─░──┤ H ├──┤M├───────╫─────░──╫──╫─»\n",
       "       └───┘└─────┘│     ││              │ ░  └───┘  └╥┘       ║     ░  ║  ║ »\n",
       "  q_4: ────────────┤  M2 ├┤2             ├─░──────────╫────────╫─────░──╫──╫─»\n",
       "       ┌───┐       │     ││              │ ░ ┌─────┐  ║  ┌───┐ ║ ┌─┐ ░  ║  ║ »\n",
       "  q_5: ┤ X ├───────┤1    ├┤6             ├─░─┤ Sdg ├──╫──┤ H ├─╫─┤M├─░──╫──╫─»\n",
       "       └───┘       └─────┘│              │ ░ └─────┘  ║  └───┘ ║ └╥┘ ░  ║  ║ »\n",
       "  q_6: ───────────────────┤3             ├─░──────────╫────────╫──╫──░──╫──╫─»\n",
       "                          └──────────────┘ ░          ║        ║  ║  ░  ║  ║ »\n",
       " c0: 3/═══════════════════════════════════════════════╩════════╩══╩═════╬══╬═»\n",
       "                                                      1        0  2     ║  ║ »\n",
       "c12: 4/═════════════════════════════════════════════════════════════════╩══╩═»\n",
       "                                                                        0  1 »\n",
       "«             \n",
       "«  q_0: ──────\n",
       "«             \n",
       "«  q_1: ──────\n",
       "«             \n",
       "«  q_2: ──────\n",
       "«             \n",
       "«  q_3: ──────\n",
       "«       ┌─┐   \n",
       "«  q_4: ┤M├───\n",
       "«       └╥┘   \n",
       "«  q_5: ─╫────\n",
       "«        ║ ┌─┐\n",
       "«  q_6: ─╫─┤M├\n",
       "«        ║ └╥┘\n",
       "« c0: 3/═╬══╬═\n",
       "«        ║  ║ \n",
       "«c12: 4/═╩══╩═\n",
       "«        2  3 "
      ]
     },
     "execution_count": 5,
     "metadata": {},
     "output_type": "execute_result"
    }
   ],
   "source": [
    "from qiskit.ignis.verification.tomography import state_tomography_circuits, StateTomographyFitter\n",
    "\n",
    "qcs = state_tomography_circuits(qc, [qr[1],qr[3],qr[5]])\n",
    "qcs_na = state_tomography_circuits(qc, [qr[1],qr[3],qr[5]])\n",
    "\n",
    "for qc in qcs:\n",
    "    cr_anc = ClassicalRegister(4)\n",
    "    qc.add_register(cr_anc)\n",
    "    qc.barrier()\n",
    "    qc.measure([0,2,4,6],cr_anc)\n",
    "\n",
    "qcs[10].draw()"
   ]
  },
  {
   "cell_type": "markdown",
   "metadata": {},
   "source": [
    "Building the calibration cirquits"
   ]
  },
  {
   "cell_type": "code",
   "execution_count": 6,
   "metadata": {},
   "outputs": [],
   "source": [
    "qcs_calibs, meas_calibs = f0.calibration_cirquits(\"column_evolution_remake\", q_anc=[0,2,4,6], check=\"yes\", check_type=\"4copy_check\")\n",
    "state_lables = f0.bin_list(7)"
   ]
  },
  {
   "cell_type": "markdown",
   "metadata": {},
   "source": [
    "Than we run all the cirquits"
   ]
  },
  {
   "cell_type": "code",
   "execution_count": 11,
   "metadata": {},
   "outputs": [],
   "source": [
    "backend_aus = backend\n",
    "shots = 32000\n",
    "\n",
    "job_evo=execute(qcs, backend=backend_aus, shots=shots)\n",
    "#job_cal=execute(meas_calibs, backend=backend_aus, shots=shots)\n",
    "job_cal_our=execute(qcs_calibs, backend=backend_aus, shots=shots)"
   ]
  },
  {
   "cell_type": "markdown",
   "metadata": {},
   "source": [
    "or we can retrieve the jobs"
   ]
  },
  {
   "cell_type": "code",
   "execution_count": 13,
   "metadata": {},
   "outputs": [],
   "source": [
    "evo_ID = \"6233ae39d97bff04d66929e9\"\n",
    "cal_ID = \"6233ae3ba2f72dff43da994f\"\n",
    "\n",
    "evo_job=backend.retrieve_job(evo_ID)\n",
    "job_cal_our=backend.retrieve_job(cal_ID)"
   ]
  },
  {
   "cell_type": "code",
   "execution_count": 14,
   "metadata": {},
   "outputs": [
    {
     "name": "stdout",
     "output_type": "stream",
     "text": [
      "0.8097005029135075\n",
      "0.8628857599813681\n",
      "0.0\n",
      "0.9922172624447446\n"
     ]
    }
   ],
   "source": [
    "#meas_fitter = mc.CompleteMeasFitter(job_cal.result(), state_labels=state_lables)\n",
    "meas_fitter_our = mc.CompleteMeasFitter(job_cal_our.result(), state_labels=state_lables)\n",
    "\n",
    "target_state = (One^One^Zero).to_matrix()\n",
    "\n",
    "fids=np.zeros([1,4])\n",
    "#fids_mean=np.zeros(4)\n",
    "#fids_dev=np.zeros(4)\n",
    "\n",
    "for j in range(1):\n",
    "    \n",
    "    res = job_evo.result()\n",
    "\n",
    "    #new_res, new_res_nm = f0.mitigate(res, Measure_Mitig=\"yes\", ancillas_conditions=['0011','1110','1101'], meas_fitter=meas_fitter)\n",
    "    new_res_our, new_res_nm = f0.mitigate(res, Measure_Mitig=\"yes\", ancillas_conditions=['0011','1110','1101'], meas_fitter=meas_fitter_our)\n",
    "    new_res_not_mitigated = f0.mitigate(res, Measure_Mitig=\"no\", ancillas_conditions=f0.bin_list(4))\n",
    "\n",
    "    fids[j,0] = f0.fidelity_count(new_res_not_mitigated, qcs_na, target_state)\n",
    "    fids[j,1] = f0.fidelity_count(new_res_nm, qcs_na, target_state)\n",
    "    #fids[j,2] = f0.fidelity_count(new_res, qcs_na, target_state)\n",
    "    fids[j,3] = f0.fidelity_count(new_res_our, qcs_na, target_state)\n",
    "\n",
    "for i in range(4):\n",
    "    #fids_mean[i]=np.mean(fids[:,i])\n",
    "    #fids_dev[i]=np.std(fids[:,i])\n",
    "\n",
    "    #fids_meanY[i]=np.mean(fidsY[:,i])\n",
    "    #fids_devY[i]=np.std(fidsY[:,i])\n",
    "    print(fids[0,i])"
   ]
  },
  {
   "cell_type": "code",
   "execution_count": null,
   "metadata": {},
   "outputs": [],
   "source": []
  }
 ],
 "metadata": {
  "interpreter": {
   "hash": "aee8b7b246df8f9039afb4144a1f6fd8d2ca17a180786b69acc140d282b71a49"
  },
  "kernelspec": {
   "display_name": "Python 3.10.2 64-bit",
   "language": "python",
   "name": "python3"
  },
  "language_info": {
   "codemirror_mode": {
    "name": "ipython",
    "version": 3
   },
   "file_extension": ".py",
   "mimetype": "text/x-python",
   "name": "python",
   "nbconvert_exporter": "python",
   "pygments_lexer": "ipython3",
   "version": "3.10.2"
  },
  "orig_nbformat": 4
 },
 "nbformat": 4,
 "nbformat_minor": 2
}
