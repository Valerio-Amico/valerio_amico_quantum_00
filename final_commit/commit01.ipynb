{
 "cells": [
  {
   "cell_type": "code",
   "execution_count": 41,
   "metadata": {},
   "outputs": [
    {
     "name": "stdout",
     "output_type": "stream",
     "text": [
      "The autoreload extension is already loaded. To reload it, use:\n",
      "  %reload_ext autoreload\n"
     ]
    },
    {
     "name": "stderr",
     "output_type": "stream",
     "text": [
      "ibmqfactory.load_account:WARNING:2022-04-08 16:02:33,764: Credentials are already in use. The existing account in the session will be replaced.\n"
     ]
    }
   ],
   "source": [
    "import lib.functions0 as f0\n",
    "import numpy as np\n",
    "from scipy.linalg import expm\n",
    "from qiskit.ignis.mitigation.measurement import CompleteMeasFitter\n",
    "from qiskit import Aer, assemble, QuantumCircuit, QuantumRegister, ClassicalRegister, IBMQ, transpile, execute\n",
    "from qiskit.providers.aer import AerSimulator, QasmSimulator\n",
    "from qiskit.opflow import Zero, One, I, X, Y, Z\n",
    "from qiskit.ignis.verification.tomography import state_tomography_circuits, StateTomographyFitter\n",
    "from qiskit.quantum_info import state_fidelity\n",
    "import matplotlib.pyplot as plt\n",
    "%load_ext autoreload\n",
    "%autoreload 2\n",
    "import warnings\n",
    "warnings.filterwarnings('ignore')\n",
    "IBMQ.load_account()\n",
    "provider = IBMQ.get_provider(hub='ibm-q-community',\n",
    "                            group='ibmquantumawards', \n",
    "                            project='open-science-22')\n",
    "\n",
    "backend_sim_jakarta = QasmSimulator.from_backend(provider.get_backend('ibmq_jakarta'))\n",
    "backend_real_jakarta = provider.get_backend('ibmq_jakarta')\n",
    "backend_sim = Aer.get_backend('qasm_simulator')"
   ]
  },
  {
   "cell_type": "markdown",
   "metadata": {},
   "source": [
    "## IBM open-science-prize-2021/22 solution. By Quantum Polo Gang: Ruben, Fabio & Valerio"
   ]
  },
  {
   "cell_type": "markdown",
   "metadata": {},
   "source": [
    "## Decomposition:\n",
    "- We computed numerically the operator of N trotter steps, for a certain evolution time: $U^n$\n",
    "- Observing that this operator preserves the magnetization of the system, if the initial state belongs to an eigenspace of the magnetization is possible to decompose the operator with 4 c-not. If the initial state is a superposition of states with different magnetization the best decomposition we found has 11 c-not (14 for the Jakarta geometry).\n",
    "- Our initial state is $|110>$ (qubits 5,3 and 1 respectively) so we can use the best decomposition (4 c-not).\n",
    "\n",
    "To see the decomposition procedure open  *decomposition.ipynb* file."
   ]
  },
  {
   "cell_type": "markdown",
   "metadata": {},
   "source": [
    "Let's start from the defining of the evolution circuit parameters:\n",
    "\n",
    "- *steps*: number of trotter steps (integer).\n",
    "- *time*: time of evolution (float).\n",
    "- *initial_state*: the 3-qubit initial state (string): from right to left, associated with qubits 1, 3 and 5 respectively\n",
    "- *shots*: number of shots for every run.\n",
    "- *backend*: here you can choose on which backend run the simulation: *backend_sim_jakarta* (noisy simulator), *backend_real_jakarta* (real device), *backend_sim* (simulator)"
   ]
  },
  {
   "cell_type": "code",
   "execution_count": 42,
   "metadata": {},
   "outputs": [
    {
     "data": {
      "text/latex": [
       "$\\displaystyle \\left[\\begin{matrix}1.0 & 0 & 0 & 0 & 0 & 0 & 0 & 0\\\\0 & 1.0 + 0.00105 i & 0.000102 + 0.00105 i & 0 & -9.87 \\cdot 10^{-5} - 0.00211 i & 0 & 0 & 0\\\\0 & -9.87 \\cdot 10^{-5} + 0.00105 i & 1.0 - 0.00211 i & 0 & 0.000102 + 0.00105 i & 0 & 0 & 0\\\\0 & 0 & 0 & 1.0 + 0.00105 i & 0 & -9.87 \\cdot 10^{-5} + 0.00105 i & 0.000102 - 0.00211 i & 0\\\\0 & 0.000102 - 0.00211 i & -9.87 \\cdot 10^{-5} + 0.00105 i & 0 & 1.0 + 0.00105 i & 0 & 0 & 0\\\\0 & 0 & 0 & 0.000102 + 0.00105 i & 0 & 1.0 - 0.00211 i & -9.87 \\cdot 10^{-5} + 0.00105 i & 0\\\\0 & 0 & 0 & -9.87 \\cdot 10^{-5} - 0.00211 i & 0 & 0.000102 + 0.00105 i & 1.0 + 0.00105 i & 0\\\\0 & 0 & 0 & 0 & 0 & 0 & 0 & 1.0\\end{matrix}\\right]$"
      ],
      "text/plain": [
       "Matrix([\n",
       "[1.0,                    0,                    0,                    0,                    0,                    0,                    0,   0],\n",
       "[  0,      1.0 + 0.00105*I, 0.000102 + 0.00105*I,                    0, -9.87e-5 - 0.00211*I,                    0,                    0,   0],\n",
       "[  0, -9.87e-5 + 0.00105*I,      1.0 - 0.00211*I,                    0, 0.000102 + 0.00105*I,                    0,                    0,   0],\n",
       "[  0,                    0,                    0,      1.0 + 0.00105*I,                    0, -9.87e-5 + 0.00105*I, 0.000102 - 0.00211*I,   0],\n",
       "[  0, 0.000102 - 0.00211*I, -9.87e-5 + 0.00105*I,                    0,      1.0 + 0.00105*I,                    0,                    0,   0],\n",
       "[  0,                    0,                    0, 0.000102 + 0.00105*I,                    0,      1.0 - 0.00211*I, -9.87e-5 + 0.00105*I,   0],\n",
       "[  0,                    0,                    0, -9.87e-5 - 0.00211*I,                    0, 0.000102 + 0.00105*I,      1.0 + 0.00105*I,   0],\n",
       "[  0,                    0,                    0,                    0,                    0,                    0,                    0, 1.0]])"
      ]
     },
     "execution_count": 42,
     "metadata": {},
     "output_type": "execute_result"
    }
   ],
   "source": [
    "n_steps=99\n",
    "time=np.pi\n",
    "initial_state={\"110\": 1}\n",
    "shots = 80\n",
    "backend = backend_sim_jakarta\n",
    "\n",
    "X = np.array([[0,1],[1,0]])  #defining the pauli matrices\n",
    "Y = np.array([[0,-1j],[1j,0]])\n",
    "Z = np.array([[1,0],[0,-1]])\n",
    "Id = np.eye(2)\n",
    "\n",
    "H1 = np.kron(X, np.kron(X,Id)) + np.kron(Y, np.kron(Y,Id)) + np.kron(Z, np.kron(Z,Id)) \n",
    "H2 = np.kron(Id, np.kron(X,X)) + np.kron(Id, np.kron(Y,Y)) + np.kron(Id, np.kron(Z,Z)) \n",
    "\n",
    "trotter_step_matrix_= expm(-time/n_steps*H1*1j).dot(expm(-time/n_steps*H2*1j))\n",
    "trotterized = np.linalg.matrix_power(trotter_step_matrix_, n_steps)\n",
    "Matrix(trotterized).n(3, chop=True)"
   ]
  },
  {
   "cell_type": "code",
   "execution_count": 43,
   "metadata": {},
   "outputs": [
    {
     "data": {
      "image/png": "[encoded data removed]",
      "text/plain": [
       "<Figure size 1350.8x204.68 with 1 Axes>"
      ]
     },
     "execution_count": 43,
     "metadata": {},
     "output_type": "execute_result"
    }
   ],
   "source": [
    "phase_1_1, phase_2_1, phase_1_2, phase_2_2, a1, a2 = get_gates_parameters(trotterized, initial_state={\"110\": 1.0})\n",
    "\n",
    "M1_qc = f0.fixed_magnetization_two_qubit_gate(phase_1_1,phase_1_2,a1)\n",
    "M2_qc = f0.fixed_magnetization_two_qubit_gate(phase_2_1,phase_2_2,a2)\n",
    "\n",
    "evol_qr = QuantumRegister(3 ,name=\"q\")\n",
    "evol_qc = QuantumCircuit(evol_qr, name=\"U\")\n",
    "\n",
    "evol_qc.append(M1_qc, [evol_qr[0],evol_qr[1]])\n",
    "evol_qc.append(M2_qc, [evol_qr[1],evol_qr[2]])\n",
    "\n",
    "evol_qc = transpile(evol_qc, basis_gates=[\"cx\",\"rz\",\"x\",\"sx\"])\n",
    "evol_qc.draw(output=\"mpl\")"
   ]
  },
  {
   "cell_type": "code",
   "execution_count": 44,
   "metadata": {},
   "outputs": [
    {
     "data": {
      "text/latex": [
       "$\\displaystyle \\left[\\begin{matrix}1.0 - 0.0011 i & 0 & 0 & 0 & 0 & 0 & 0 & 0\\\\0 & 1.0 - 0.0011 i & 0.0024 i & 0 & 0 & 0 & 0 & 0\\\\0 & - 0.0011 i & -0.44 - 0.064 i & 0 & -0.89 + 0.00094 i & 0 & 0 & 0\\\\0 & 0 & 0 & -0.44 - 0.064 i & 0 & -0.89 + 0.00094 i & - 0.0021 i & 0\\\\0 & 0.0021 i & 0.89 + 0.00094 i & 0 & -0.44 + 0.064 i & 0 & 0 & 0\\\\0 & 0 & 0 & 0.89 + 0.00094 i & 0 & -0.44 + 0.064 i & - 0.0011 i & 0\\\\0 & 0 & 0 & 0 & 0 & 0.0024 i & 1.0 + 0.0011 i & 0\\\\0 & 0 & 0 & 0 & 0 & 0 & 0 & 1.0 + 0.0011 i\\end{matrix}\\right]$"
      ],
      "text/plain": [
       "Matrix([\n",
       "[1.0 - 0.0011*I,              0,                0,                0,                 0,                 0,              0,              0],\n",
       "[             0, 1.0 - 0.0011*I,         0.0024*I,                0,                 0,                 0,              0,              0],\n",
       "[             0,      -0.0011*I,  -0.44 - 0.064*I,                0, -0.89 + 0.00094*I,                 0,              0,              0],\n",
       "[             0,              0,                0,  -0.44 - 0.064*I,                 0, -0.89 + 0.00094*I,      -0.0021*I,              0],\n",
       "[             0,       0.0021*I, 0.89 + 0.00094*I,                0,   -0.44 + 0.064*I,                 0,              0,              0],\n",
       "[             0,              0,                0, 0.89 + 0.00094*I,                 0,   -0.44 + 0.064*I,      -0.0011*I,              0],\n",
       "[             0,              0,                0,                0,                 0,          0.0024*I, 1.0 + 0.0011*I,              0],\n",
       "[             0,              0,                0,                0,                 0,                 0,              0, 1.0 + 0.0011*I]])"
      ]
     },
     "execution_count": 44,
     "metadata": {},
     "output_type": "execute_result"
    }
   ],
   "source": [
    "from qiskit import quantum_info\n",
    "Matrix(quantum_info.Operator(evol_qc)).n(2, chop=True)"
   ]
  },
  {
   "cell_type": "markdown",
   "metadata": {},
   "source": [
    "Then we add the copy check for the mitigation (see *Ancillas_Error_mitigation_Git_Hub.pynb*)"
   ]
  },
  {
   "cell_type": "code",
   "execution_count": 45,
   "metadata": {},
   "outputs": [
    {
     "data": {
      "image/png": "[encoded data removed]",
      "text/plain": [
       "<Figure size 327.397x445.48 with 1 Axes>"
      ]
     },
     "execution_count": 45,
     "metadata": {},
     "output_type": "execute_result"
    }
   ],
   "source": [
    "complete_qr = QuantumRegister(7, name=\"q\")\n",
    "complete_qc = QuantumCircuit(complete_qr)\n",
    "complete_qc.append(evol_qc, [complete_qr[1], complete_qr[3], complete_qr[5]] )\n",
    "\n",
    "complete_qc = f0.add_symmetry_check(complete_qc, \n",
    "                            [complete_qr[1],complete_qr[3],complete_qr[5]], \n",
    "                            [complete_qr[0],complete_qr[2],complete_qr[4],complete_qr[6]], \n",
    "                            type=\"4copy_check\")\n",
    "complete_qc.draw(output=\"mpl\")"
   ]
  },
  {
   "cell_type": "markdown",
   "metadata": {},
   "source": [
    "Then, we build the tomography circuits"
   ]
  },
  {
   "cell_type": "code",
   "execution_count": 46,
   "metadata": {},
   "outputs": [
    {
     "data": {
      "image/png": "[encoded data removed]",
      "text/plain": [
       "<Figure size 833.664x565.88 with 1 Axes>"
      ]
     },
     "execution_count": 46,
     "metadata": {},
     "output_type": "execute_result"
    }
   ],
   "source": [
    "from qiskit.ignis.verification.tomography import state_tomography_circuits, StateTomographyFitter\n",
    "\n",
    "qcs = state_tomography_circuits(complete_qc, \n",
    "                                [complete_qr[1],complete_qr[3],complete_qr[5]])\n",
    "\n",
    "for qc in qcs:\n",
    "    cr_anc = ClassicalRegister(4)\n",
    "    qc.add_register(cr_anc)\n",
    "    #qc.barrier()\n",
    "    qc.measure([0,2,4,6],cr_anc)\n",
    "\n",
    "qcs[0].draw(output=\"mpl\")"
   ]
  },
  {
   "cell_type": "markdown",
   "metadata": {},
   "source": [
    "To see the improvements we measure the raw simulation without ancillas"
   ]
  },
  {
   "cell_type": "code",
   "execution_count": 47,
   "metadata": {},
   "outputs": [
    {
     "data": {
      "text/html": [
       "<pre style=\"word-wrap: normal;white-space: pre;background: #fff0;line-height: 1.1;font-family: &quot;Courier New&quot;,Courier,monospace\">               ░               \n",
       "   q_0: ───────░───────────────\n",
       "        ┌────┐ ░ ┌───┐┌─┐      \n",
       "   q_1: ┤0   ├─░─┤ H ├┤M├──────\n",
       "        │    │ ░ └───┘└╥┘      \n",
       "   q_2: ┤    ├─░───────╫───────\n",
       "        │    │ ░ ┌───┐ ║ ┌─┐   \n",
       "   q_3: ┤1 U ├─░─┤ H ├─╫─┤M├───\n",
       "        │    │ ░ └───┘ ║ └╥┘   \n",
       "   q_4: ┤    ├─░───────╫──╫────\n",
       "        │    │ ░ ┌───┐ ║  ║ ┌─┐\n",
       "   q_5: ┤2   ├─░─┤ H ├─╫──╫─┤M├\n",
       "        └────┘ ░ └───┘ ║  ║ └╥┘\n",
       "   q_6: ───────░───────╫──╫──╫─\n",
       "               ░       ║  ║  ║ \n",
       "c165: 3/═══════════════╩══╩══╩═\n",
       "                       0  1  2 </pre>"
      ],
      "text/plain": [
       "               ░               \n",
       "   q_0: ───────░───────────────\n",
       "        ┌────┐ ░ ┌───┐┌─┐      \n",
       "   q_1: ┤0   ├─░─┤ H ├┤M├──────\n",
       "        │    │ ░ └───┘└╥┘      \n",
       "   q_2: ┤    ├─░───────╫───────\n",
       "        │    │ ░ ┌───┐ ║ ┌─┐   \n",
       "   q_3: ┤1 U ├─░─┤ H ├─╫─┤M├───\n",
       "        │    │ ░ └───┘ ║ └╥┘   \n",
       "   q_4: ┤    ├─░───────╫──╫────\n",
       "        │    │ ░ ┌───┐ ║  ║ ┌─┐\n",
       "   q_5: ┤2   ├─░─┤ H ├─╫──╫─┤M├\n",
       "        └────┘ ░ └───┘ ║  ║ └╥┘\n",
       "   q_6: ───────░───────╫──╫──╫─\n",
       "               ░       ║  ║  ║ \n",
       "c165: 3/═══════════════╩══╩══╩═\n",
       "                       0  1  2 "
      ]
     },
     "execution_count": 47,
     "metadata": {},
     "output_type": "execute_result"
    }
   ],
   "source": [
    "extended_evol_qr = QuantumRegister(7, name=\"q\")\n",
    "extended_evol_qc = QuantumCircuit(extended_evol_qr)\n",
    "# Places the 3-qubit evolution circuit on a Jakarta register \n",
    "extended_evol_qc.append(evol_qc, \n",
    "                        [extended_evol_qr[1], extended_evol_qr[3], extended_evol_qr[5]])\n",
    "qcs_na = state_tomography_circuits( extended_evol_qc, \n",
    "                                    [extended_evol_qr[1], extended_evol_qr[3], extended_evol_qr[5]])\n",
    "qcs_na[0].draw()"
   ]
  },
  {
   "cell_type": "markdown",
   "metadata": {},
   "source": [
    "Building the calibration circuits"
   ]
  },
  {
   "cell_type": "code",
   "execution_count": 49,
   "metadata": {},
   "outputs": [
    {
     "name": "stdout",
     "output_type": "stream",
     "text": [
      "Unexpected exception formatting exception. Falling back to standard exception\n"
     ]
    },
    {
     "name": "stderr",
     "output_type": "stream",
     "text": [
      "Traceback (most recent call last):\n",
      "  File \"/home/djanloo/.virtualenvs/valerio_amico_quantum_00-26iBho32/lib/python3.9/site-packages/IPython/core/interactiveshell.py\", line 3369, in run_code\n",
      "    exec(code_obj, self.user_global_ns, self.user_ns)\n",
      "  File \"/tmp/ipykernel_70939/2530284452.py\", line 1, in <cell line: 1>\n",
      "    qcs_calibs, meas_calibs = f0.calibration_circuits(\"column_evolution_remake\",\n",
      "  File \"/home/djanloo/Desktop/IBM/valerio_amico_quantum_00/final_commit/lib/functions0.py\", line 462, in calibration_circuits\n",
      "    c_qc = calibration_circuit(type=type, n_steps=N, time=time)\n",
      "NameError: name 'calibration_circuit' is not defined\n",
      "\n",
      "During handling of the above exception, another exception occurred:\n",
      "\n",
      "Traceback (most recent call last):\n",
      "  File \"/home/djanloo/.virtualenvs/valerio_amico_quantum_00-26iBho32/lib/python3.9/site-packages/IPython/core/interactiveshell.py\", line 1982, in showtraceback\n",
      "    stb = self.InteractiveTB.structured_traceback(\n",
      "  File \"/home/djanloo/.virtualenvs/valerio_amico_quantum_00-26iBho32/lib/python3.9/site-packages/IPython/core/ultratb.py\", line 1118, in structured_traceback\n",
      "    return FormattedTB.structured_traceback(\n",
      "  File \"/home/djanloo/.virtualenvs/valerio_amico_quantum_00-26iBho32/lib/python3.9/site-packages/IPython/core/ultratb.py\", line 1012, in structured_traceback\n",
      "    return VerboseTB.structured_traceback(\n",
      "  File \"/home/djanloo/.virtualenvs/valerio_amico_quantum_00-26iBho32/lib/python3.9/site-packages/IPython/core/ultratb.py\", line 865, in structured_traceback\n",
      "    formatted_exception = self.format_exception_as_a_whole(etype, evalue, etb, number_of_lines_of_context,\n",
      "  File \"/home/djanloo/.virtualenvs/valerio_amico_quantum_00-26iBho32/lib/python3.9/site-packages/IPython/core/ultratb.py\", line 818, in format_exception_as_a_whole\n",
      "    frames.append(self.format_record(r))\n",
      "  File \"/home/djanloo/.virtualenvs/valerio_amico_quantum_00-26iBho32/lib/python3.9/site-packages/IPython/core/ultratb.py\", line 736, in format_record\n",
      "    result += ''.join(_format_traceback_lines(frame_info.lines, Colors, self.has_colors, lvals))\n",
      "  File \"/home/djanloo/.virtualenvs/valerio_amico_quantum_00-26iBho32/lib/python3.9/site-packages/stack_data/utils.py\", line 145, in cached_property_wrapper\n",
      "    value = obj.__dict__[self.func.__name__] = self.func(obj)\n",
      "  File \"/home/djanloo/.virtualenvs/valerio_amico_quantum_00-26iBho32/lib/python3.9/site-packages/stack_data/core.py\", line 698, in lines\n",
      "    pieces = self.included_pieces\n",
      "  File \"/home/djanloo/.virtualenvs/valerio_amico_quantum_00-26iBho32/lib/python3.9/site-packages/stack_data/utils.py\", line 145, in cached_property_wrapper\n",
      "    value = obj.__dict__[self.func.__name__] = self.func(obj)\n",
      "  File \"/home/djanloo/.virtualenvs/valerio_amico_quantum_00-26iBho32/lib/python3.9/site-packages/stack_data/core.py\", line 649, in included_pieces\n",
      "    pos = scope_pieces.index(self.executing_piece)\n",
      "  File \"/home/djanloo/.virtualenvs/valerio_amico_quantum_00-26iBho32/lib/python3.9/site-packages/stack_data/utils.py\", line 145, in cached_property_wrapper\n",
      "    value = obj.__dict__[self.func.__name__] = self.func(obj)\n",
      "  File \"/home/djanloo/.virtualenvs/valerio_amico_quantum_00-26iBho32/lib/python3.9/site-packages/stack_data/core.py\", line 628, in executing_piece\n",
      "    return only(\n",
      "  File \"/home/djanloo/.virtualenvs/valerio_amico_quantum_00-26iBho32/lib/python3.9/site-packages/executing/executing.py\", line 164, in only\n",
      "    raise NotOneValueFound('Expected one value, found 0')\n",
      "executing.executing.NotOneValueFound: Expected one value, found 0\n"
     ]
    }
   ],
   "source": [
    "qcs_calibs, meas_calibs = f0.build_calibration_circuits_for_all_base_elements(\"column_evolution_remake\", \n",
    "                                                q_anc=[0,2,4,6], \n",
    "                                                check=\"yes\", \n",
    "                                                check_type=\"4copy_check\")\n",
    "state_lables = bin_list(7)"
   ]
  },
  {
   "cell_type": "code",
   "execution_count": null,
   "metadata": {},
   "outputs": [],
   "source": [
    "state_lables[0]"
   ]
  },
  {
   "cell_type": "code",
   "execution_count": null,
   "metadata": {},
   "outputs": [],
   "source": [
    "meas_calibs[2].draw(output=\"mpl\")"
   ]
  },
  {
   "cell_type": "code",
   "execution_count": null,
   "metadata": {},
   "outputs": [],
   "source": [
    "qcs_calibs[2].draw(output=\"mpl\")"
   ]
  },
  {
   "cell_type": "markdown",
   "metadata": {},
   "source": [
    "Than we run all the circuits"
   ]
  },
  {
   "cell_type": "code",
   "execution_count": null,
   "metadata": {},
   "outputs": [],
   "source": [
    "jobs_evo=execute(qcs_tot, backend=backend, shots=shots)\n",
    "job_cal_our=execute(qcs_calibs, backend=backend, shots=shots)\n",
    "job_cal=execute(meas_calibs, backend=backend, shots=shots)"
   ]
  },
  {
   "cell_type": "code",
   "execution_count": null,
   "metadata": {},
   "outputs": [],
   "source": [
    "jobs_evo_result = jobs_result(job_evolution = jobs_evo, reps = reps, ancillas=[0,2,4,6])"
   ]
  },
  {
   "cell_type": "markdown",
   "metadata": {},
   "source": [
    "or we can retrieve the jobs"
   ]
  },
  {
   "cell_type": "code",
   "execution_count": null,
   "metadata": {},
   "outputs": [],
   "source": [
    "#evo_ID = \"6233ae39d97bff04d66929e9\"\n",
    "#cal_ID = \"6233ae3ba2f72dff43da994f\"\n",
    "\n",
    "#evo_job=backend.retrieve_job(evo_ID)\n",
    "#job_cal_our=backend.retrieve_job(cal_ID)\n",
    "'''\n",
    "reps=8\n",
    "steps=42\n",
    "backend=backend_real_jakarta\n",
    "\n",
    "job_cal_our =backend.retrieve_job(\"6237aee18293e9eb4e1e4c4a\")\n",
    "job_cal =backend.retrieve_job(\"6237aedf0af65dc88cd92302\")\n",
    "\n",
    "job=backend.jobs(limit=30, start_datetime= \"2022-03-19\", end_datetime=\"2022-03-26\")[2]\n",
    "\n",
    "jobs_evo_result = jobs_result(job_evolution = job, reps = reps, ancillas=[0,2,4,6])\n",
    "'''"
   ]
  },
  {
   "cell_type": "code",
   "execution_count": null,
   "metadata": {},
   "outputs": [],
   "source": [
    "#### DA CANCELLAREEEEEEEEEEEEEEEEEEE\n",
    "#state_lables = bin_list(7)\n",
    "#qcs_na = circuits_without_ancillas_measuraments(job)\n"
   ]
  },
  {
   "cell_type": "markdown",
   "metadata": {},
   "source": [
    "Next we apply the mitigation in the following way:\n",
    "\n",
    "- measure mitigation: we apply the inverse of the calibration matrix to each circuit (see *measure_mitigation.ipynb*)\n",
    "- ancillas mitigation: we throw away all the measures which contain a value for the ancillas physically forbidden.\n",
    "\n",
    "this is done by the *mitigate* function.\n",
    "\n",
    "Then we compute the fidelity for both the mitigated results and not-mitigated ones, in order check the gain given by the mitigation."
   ]
  },
  {
   "cell_type": "code",
   "execution_count": null,
   "metadata": {},
   "outputs": [],
   "source": [
    "meas_fitter_our = CompleteMeasFitter(job_cal_our.result(), state_labels=state_lables)\n",
    "meas_fitter = CompleteMeasFitter(job_cal.result(), state_labels=state_lables)\n",
    "\n",
    "\n",
    "target_state = (One^One^Zero).to_matrix()\n",
    "\n",
    "fids=np.zeros([reps,4])\n",
    "fids_mean=np.zeros(4)\n",
    "fids_dev=np.zeros(4)\n",
    "\n",
    "for j in range(reps):\n",
    "    \n",
    "    res = jobs_evo_result[j]\n",
    "    print(j)\n",
    "    new_res, new_res_nm = mitigate(res, Measure_Mitig=\"yes\", ancillas_conditions=['0011','1110','1101'], meas_fitter=meas_fitter)\n",
    "    new_res_our, new_res_nm = mitigate(res, Measure_Mitig=\"yes\", ancillas_conditions=['0011','1110','1101'], meas_fitter=meas_fitter_our)\n",
    "    new_res_not_mitigated = mitigate(res, Measure_Mitig=\"no\", ancillas_conditions=bin_list(4))\n",
    "\n",
    "    fids[j,0] = fidelity_count(new_res_not_mitigated, qcs_na, target_state)\n",
    "    fids[j,1] = fidelity_count(new_res_nm, qcs_na, target_state)\n",
    "    fids[j,2] = fidelity_count(new_res, qcs_na, target_state)\n",
    "    fids[j,3] = fidelity_count(new_res_our, qcs_na, target_state)\n",
    "\n",
    "for i in range(4):\n",
    "    fids_mean[i]=np.mean(fids[:,i])\n",
    "    fids_dev[i]=np.std(fids[:,i])\n"
   ]
  },
  {
   "cell_type": "code",
   "execution_count": null,
   "metadata": {},
   "outputs": [],
   "source": [
    "new_res_our.get_counts(-1)"
   ]
  },
  {
   "cell_type": "markdown",
   "metadata": {},
   "source": [
    "Printing the fidelity"
   ]
  },
  {
   "cell_type": "code",
   "execution_count": null,
   "metadata": {},
   "outputs": [],
   "source": [
    "labels = [\"raw:                                       \",\n",
    "          \"ancillas mitigation:                       \",\n",
    "          \"ancillas and qiskit measurement mitigation:\",\n",
    "          \"ancillas and our measurement mitigation:   \"\n",
    "]\n",
    "\n",
    "for i in range(4):\n",
    "    print(labels[i], fids_mean[i], \" +- \", fids_dev[i])"
   ]
  },
  {
   "cell_type": "code",
   "execution_count": null,
   "metadata": {},
   "outputs": [],
   "source": []
  }
 ],
 "metadata": {
  "interpreter": {
   "hash": "aee8b7b246df8f9039afb4144a1f6fd8d2ca17a180786b69acc140d282b71a49"
  },
  "kernelspec": {
   "display_name": "Python 3.10.2 64-bit",
   "language": "python",
   "name": "python3"
  },
  "language_info": {
   "codemirror_mode": {
    "name": "ipython",
    "version": 3
   },
   "file_extension": ".py",
   "mimetype": "text/x-python",
   "name": "python",
   "nbconvert_exporter": "python",
   "pygments_lexer": "ipython3",
   "version": "3.9.7"
  },
  "orig_nbformat": 4
 },
 "nbformat": 4,
 "nbformat_minor": 2
}
