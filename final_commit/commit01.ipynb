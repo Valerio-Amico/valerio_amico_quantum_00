{
 "cells": [
  {
   "cell_type": "code",
   "execution_count": 7,
   "metadata": {},
   "outputs": [
    {
     "name": "stdout",
     "output_type": "stream",
     "text": [
      "The autoreload extension is already loaded. To reload it, use:\n",
      "  %reload_ext autoreload\n"
     ]
    },
    {
     "name": "stderr",
     "output_type": "stream",
     "text": [
      "ibmqfactory.load_account:WARNING:2022-04-08 16:24:19,687: Credentials are already in use. The existing account in the session will be replaced.\n"
     ]
    }
   ],
   "source": [
    "from lib.functions0 import *\n",
    "import numpy as np\n",
    "from scipy.linalg import expm\n",
    "from qiskit.ignis.mitigation.measurement import CompleteMeasFitter\n",
    "from qiskit import Aer, assemble, QuantumCircuit, QuantumRegister, ClassicalRegister, IBMQ, transpile, execute\n",
    "from qiskit.providers.aer import AerSimulator, QasmSimulator\n",
    "from qiskit.opflow import Zero, One, I, X, Y, Z\n",
    "from qiskit.ignis.verification.tomography import state_tomography_circuits, StateTomographyFitter\n",
    "from qiskit.quantum_info import state_fidelity\n",
    "import matplotlib.pyplot as plt\n",
    "%load_ext autoreload\n",
    "%autoreload 2\n",
    "import warnings\n",
    "warnings.filterwarnings('ignore')\n",
    "IBMQ.load_account()\n",
    "provider = IBMQ.get_provider(hub='ibm-q-community',\n",
    "                            group='ibmquantumawards', \n",
    "                            project='open-science-22')\n",
    "\n",
    "backend_sim_jakarta = QasmSimulator.from_backend(provider.get_backend('ibmq_jakarta'))\n",
    "backend_real_jakarta = provider.get_backend('ibmq_jakarta')\n",
    "backend_sim = Aer.get_backend('qasm_simulator')"
   ]
  },
  {
   "cell_type": "markdown",
   "metadata": {},
   "source": [
    "## IBM open-science-prize-2021/22 solution. By Quantum Polo Gang: Ruben, Fabio & Valerio"
   ]
  },
  {
   "cell_type": "markdown",
   "metadata": {},
   "source": [
    "## Decomposition:\n",
    "- We computed numerically the operator of N trotter steps, for a certain evolution time: $U^n$\n",
    "- Observing that this operator preserves the magnetization of the system, if the initial state belongs to an eigenspace of the magnetization is possible to decompose the operator with 4 c-not. If the initial state is a superposition of states with different magnetization the best decomposition we found has 11 c-not (14 for the Jakarta geometry).\n",
    "- Our initial state is $|110>$ (qubits 5,3 and 1 respectively) so we can use the best decomposition (4 c-not).\n",
    "\n",
    "To see the decomposition procedure open  *decomposition.ipynb* file."
   ]
  },
  {
   "cell_type": "markdown",
   "metadata": {},
   "source": [
    "Let's start from defining the evolution circuit parameters, and computing the evolution matrix (which will be decomposed into a circuit):\n",
    "\n",
    "- *steps*: number of trotter steps (integer).\n",
    "- *time*: time of evolution (float).\n",
    "- *initial_state*: the 3-qubit initial state (string): from right to left, associated with qubits 1, 3 and 5 respectively\n",
    "- *shots*: number of shots for every run.\n",
    "- *backend*: here you can choose on which backend run the simulation: *backend_sim_jakarta* (noisy simulator), *backend_real_jakarta* (real device), *backend_sim* (simulator)"
   ]
  },
  {
   "cell_type": "code",
   "execution_count": 8,
   "metadata": {},
   "outputs": [
    {
     "data": {
      "text/latex": [
       "$\\displaystyle \\left[\\begin{matrix}1.0 & 0 & 0 & 0 & 0 & 0 & 0 & 0\\\\0 & 1.0 + 0.00395 i & 0.000758 + 0.00395 i & 0 & -0.000711 - 0.00791 i & 0 & 0 & 0\\\\0 & -0.000711 + 0.00395 i & 1.0 - 0.00791 i & 0 & 0.000758 + 0.00395 i & 0 & 0 & 0\\\\0 & 0 & 0 & 1.0 + 0.00395 i & 0 & -0.000711 + 0.00395 i & 0.000758 - 0.00791 i & 0\\\\0 & 0.000758 - 0.00791 i & -0.000711 + 0.00395 i & 0 & 1.0 + 0.00395 i & 0 & 0 & 0\\\\0 & 0 & 0 & 0.000758 + 0.00395 i & 0 & 1.0 - 0.00791 i & -0.000711 + 0.00395 i & 0\\\\0 & 0 & 0 & -0.000711 - 0.00791 i & 0 & 0.000758 + 0.00395 i & 1.0 + 0.00395 i & 0\\\\0 & 0 & 0 & 0 & 0 & 0 & 0 & 1.0\\end{matrix}\\right]$"
      ],
      "text/plain": [
       "Matrix([\n",
       "[1.0,                     0,                     0,                     0,                     0,                     0,                     0,   0],\n",
       "[  0,       1.0 + 0.00395*I,  0.000758 + 0.00395*I,                     0, -0.000711 - 0.00791*I,                     0,                     0,   0],\n",
       "[  0, -0.000711 + 0.00395*I,       1.0 - 0.00791*I,                     0,  0.000758 + 0.00395*I,                     0,                     0,   0],\n",
       "[  0,                     0,                     0,       1.0 + 0.00395*I,                     0, -0.000711 + 0.00395*I,  0.000758 - 0.00791*I,   0],\n",
       "[  0,  0.000758 - 0.00791*I, -0.000711 + 0.00395*I,                     0,       1.0 + 0.00395*I,                     0,                     0,   0],\n",
       "[  0,                     0,                     0,  0.000758 + 0.00395*I,                     0,       1.0 - 0.00791*I, -0.000711 + 0.00395*I,   0],\n",
       "[  0,                     0,                     0, -0.000711 - 0.00791*I,                     0,  0.000758 + 0.00395*I,       1.0 + 0.00395*I,   0],\n",
       "[  0,                     0,                     0,                     0,                     0,                     0,                     0, 1.0]])"
      ]
     },
     "execution_count": 8,
     "metadata": {},
     "output_type": "execute_result"
    }
   ],
   "source": [
    "n_steps=51\n",
    "time=np.pi\n",
    "initial_state={\"110\": 1}\n",
    "shots = 80\n",
    "backend = backend_sim_jakarta\n",
    "\n",
    "X = np.array([[0,1],[1,0]])  #defining the pauli matrices\n",
    "Y = np.array([[0,-1j],[1j,0]])\n",
    "Z = np.array([[1,0],[0,-1]])\n",
    "Id = np.eye(2)\n",
    "\n",
    "# defining the hamiltonian divided in: \n",
    "#       - H1: first two qubits interactions.\n",
    "#       - H2: second two qubits interactions.\n",
    "\n",
    "H1 = np.kron(X, np.kron(X,Id)) + np.kron(Y, np.kron(Y,Id)) + np.kron(Z, np.kron(Z,Id)) \n",
    "H2 = np.kron(Id, np.kron(X,X)) + np.kron(Id, np.kron(Y,Y)) + np.kron(Id, np.kron(Z,Z)) \n",
    "\n",
    "# building numerically the trotter step matrix, and the whole operator (trotter step)^n_steps.\n",
    "\n",
    "trotter_step_matrix_= expm(-time/n_steps*H1*1j).dot(expm(-time/n_steps*H2*1j))\n",
    "trotterized = np.linalg.matrix_power(trotter_step_matrix_, n_steps)\n",
    "Matrix(trotterized).n(3, chop=True)"
   ]
  },
  {
   "cell_type": "markdown",
   "metadata": {},
   "source": [
    "# Single State Decomposition\n",
    "\n",
    "This Decomposition works only in a symmetry preserving subspace of the Hamiltonian. In this case we are in the magnetization m=2 subspace.\n",
    "\n",
    "We need to find a $U_{best}$ gate for which $T_{step}^{n}|110>=U_{best}|110>$, and reduces the depth of the circuit.\n",
    "If the initial state is a vector of the computational basis this decomposition coincides with the preparation of a specific column of the matrix, in this case the 7th column. \n",
    "\n",
    "The idea is to find a generic circuit that preserves the symmetry and dependes on 2d real parameters, where d is the dimension of the subspace.  \n",
    "Instead of repeating the Trotter Step we numerically calculate $T_{step}^{n}$ and find the parameters of the optimizated circuit. In this case we need at least a six parameters circuit.\n",
    "\n",
    "Cause of our trotterized operator preserves the magnetizaione, we supposed that $U_{best}$ should be in the following form:\n",
    "\n",
    "$$U_{best}=(I \\otimes M_{2}(f_2,r_2,a_2))(M_{1}(f_1,r_1,a_1) \\otimes I)$$\n",
    "\n",
    "where $M_{1}$ and $M_{2}$ are two-qubits gates that preserve the magnetization of the inizial state.\n"
   ]
  },
  {
   "cell_type": "code",
   "execution_count": 9,
   "metadata": {},
   "outputs": [
    {
     "data": {
      "image/png": "[encoded data removed]",
      "text/plain": [
       "<Figure size 1350.8x204.68 with 1 Axes>"
      ]
     },
     "execution_count": 9,
     "metadata": {},
     "output_type": "execute_result"
    }
   ],
   "source": [
    "phase_1_1, phase_2_1, phase_1_2, phase_2_2, a1, a2 = get_gates_parameters(trotterized, initial_state={\"110\": 1.0})\n",
    "\n",
    "M1_qc = fixed_magnetization_two_qubit_gate(phase_1_1,phase_1_2,a1)\n",
    "M2_qc = fixed_magnetization_two_qubit_gate(phase_2_1,phase_2_2,a2)\n",
    "\n",
    "qr_U = QuantumRegister(3 ,name=\"q\")\n",
    "qc_U = QuantumCircuit(qr_U, name=\"U\")\n",
    "\n",
    "qc_U.append(M1_qc, [qr_U[0],qr_U[1]])\n",
    "qc_U.append(M2_qc, [qr_U[1],qr_U[2]])\n",
    "\n",
    "qc_U=transpile(qc_U, basis_gates=[\"cx\",\"rz\",\"x\",\"sx\"])\n",
    "qc_U.draw(output=\"mpl\")"
   ]
  },
  {
   "cell_type": "markdown",
   "metadata": {},
   "source": [
    "# Ancillas Mitigation\n",
    "\n",
    "Our first approach to mitigation consists in using the ancillas to check if the state is in the right magnetization, just before changing the tomography base and measuring. We measure the ancillas and if them belong to the wrong magnetization subspace we delete that measure, because we are sure there was an error.\n",
    "\n",
    "To see more details open *Ancillas_Error_mitigation_Git_Hub.pynb*.\n",
    "\n",
    "Here we draw the circuit for the used mitigation:\n",
    "\n",
    "    - qubits 4, 5 and 6 are the \"evolution qubits\".\n",
    "    - qubits 0, 1, 2 and 3 are the ancillas.\n",
    "\n",
    "You can see that the evolution qubits act as control qubits on the ancillas, so they don't change during the execution."
   ]
  },
  {
   "cell_type": "code",
   "execution_count": 12,
   "metadata": {},
   "outputs": [
    {
     "data": {
      "image/png": "[encoded data removed]",
      "text/plain": [
       "<Figure size 507.997x445.48 with 1 Axes>"
      ]
     },
     "execution_count": 12,
     "metadata": {},
     "output_type": "execute_result"
    }
   ],
   "source": [
    "qc_check=symmetry_check(type=\"4copy_check\")\n",
    "qc_check.draw(output=\"mpl\")"
   ]
  },
  {
   "cell_type": "markdown",
   "metadata": {},
   "source": [
    "So we add it to the circuit"
   ]
  },
  {
   "cell_type": "code",
   "execution_count": 11,
   "metadata": {},
   "outputs": [
    {
     "data": {
      "image/png": "[encoded data removed]",
      "text/plain": [
       "<Figure size 447.797x445.48 with 1 Axes>"
      ]
     },
     "execution_count": 11,
     "metadata": {},
     "output_type": "execute_result"
    }
   ],
   "source": [
    "qc = add_symmetry_check(qc, [qr[1],qr[3],qr[5]], [qr[0],qr[2],qr[4],qr[6]], type=\"4copy_check\")\n",
    "qc.draw(output=\"mpl\")"
   ]
  },
  {
   "cell_type": "markdown",
   "metadata": {},
   "source": [
    "Then, we build the tomography circuits"
   ]
  },
  {
   "cell_type": "code",
   "execution_count": null,
   "metadata": {},
   "outputs": [],
   "source": [
    "from qiskit.ignis.verification.tomography import state_tomography_circuits, StateTomographyFitter\n",
    "\n",
    "qcs = state_tomography_circuits(qc, [qr[1],qr[3],qr[5]])\n",
    "qcs_na = state_tomography_circuits(qc, [qr[1],qr[3],qr[5]])\n",
    "\n",
    "## add the measure on the ancillas\n",
    "\n",
    "for qc in qcs:\n",
    "    cr_anc = ClassicalRegister(4)\n",
    "    qc.add_register(cr_anc)\n",
    "    #qc.barrier()\n",
    "    qc.measure([0,2,4,6],cr_anc)\n",
    "\n",
    "## qcs_tot is a list holding the tomography cirquits reps times.\n",
    "\n",
    "qcs_tot = []\n",
    "for _ in range(reps):\n",
    "    qcs_tot=qcs_tot + qcs\n",
    "\n",
    "qcs[10].draw(output=\"mpl\")"
   ]
  },
  {
   "cell_type": "markdown",
   "metadata": {},
   "source": [
    "nice, now we have the evolution cirquits, so, let us expolain how we build the calibration circuits."
   ]
  },
  {
   "cell_type": "markdown",
   "metadata": {},
   "source": [
    "# Measure and noise mitigation."
   ]
  },
  {
   "cell_type": "code",
   "execution_count": null,
   "metadata": {},
   "outputs": [],
   "source": [
    "qcs_calibs, meas_calibs = calibration_cirquits(\"column_evolution_remake\", q_anc=[0,2,4,6], check=\"yes\", check_type=\"4copy_check\")\n",
    "state_lables = bin_list(7)"
   ]
  },
  {
   "cell_type": "code",
   "execution_count": null,
   "metadata": {},
   "outputs": [],
   "source": [
    "state_lables[0]"
   ]
  },
  {
   "cell_type": "code",
   "execution_count": null,
   "metadata": {},
   "outputs": [],
   "source": [
    "meas_calibs[2].draw(output=\"mpl\")"
   ]
  },
  {
   "cell_type": "code",
   "execution_count": null,
   "metadata": {},
   "outputs": [],
   "source": [
    "qcs_calibs[2].draw(output=\"mpl\")"
   ]
  },
  {
   "cell_type": "markdown",
   "metadata": {},
   "source": [
    "Than we run all the circuits"
   ]
  },
  {
   "cell_type": "code",
   "execution_count": null,
   "metadata": {},
   "outputs": [],
   "source": [
    "jobs_evo=execute(qcs_tot, backend=backend, shots=shots)\n",
    "job_cal_our=execute(qcs_calibs, backend=backend, shots=shots)\n",
    "job_cal=execute(meas_calibs, backend=backend, shots=shots)"
   ]
  },
  {
   "cell_type": "code",
   "execution_count": null,
   "metadata": {},
   "outputs": [],
   "source": [
    "jobs_evo_result = jobs_result(job_evolution = jobs_evo, reps = reps, ancillas=[0,2,4,6])"
   ]
  },
  {
   "cell_type": "markdown",
   "metadata": {},
   "source": [
    "or we can retrieve the jobs"
   ]
  },
  {
   "cell_type": "code",
   "execution_count": null,
   "metadata": {},
   "outputs": [],
   "source": [
    "#evo_ID = \"6233ae39d97bff04d66929e9\"\n",
    "#cal_ID = \"6233ae3ba2f72dff43da994f\"\n",
    "\n",
    "#evo_job=backend.retrieve_job(evo_ID)\n",
    "#job_cal_our=backend.retrieve_job(cal_ID)\n",
    "'''\n",
    "reps=8\n",
    "steps=42\n",
    "backend=backend_real_jakarta\n",
    "\n",
    "job_cal_our =backend.retrieve_job(\"6237aee18293e9eb4e1e4c4a\")\n",
    "job_cal =backend.retrieve_job(\"6237aedf0af65dc88cd92302\")\n",
    "\n",
    "job=backend.jobs(limit=30, start_datetime= \"2022-03-19\", end_datetime=\"2022-03-26\")[2]\n",
    "\n",
    "jobs_evo_result = jobs_result(job_evolution = job, reps = reps, ancillas=[0,2,4,6])\n",
    "'''"
   ]
  },
  {
   "cell_type": "code",
   "execution_count": null,
   "metadata": {},
   "outputs": [],
   "source": [
    "#### DA CANCELLAREEEEEEEEEEEEEEEEEEE\n",
    "#state_lables = bin_list(7)\n",
    "#qcs_na = circuits_without_ancillas_measuraments(job)\n"
   ]
  },
  {
   "cell_type": "markdown",
   "metadata": {},
   "source": [
    "Next we apply the mitigation in the following way:\n",
    "\n",
    "- measure mitigation: we apply the inverse of the calibration matrix to each circuit (see *measure_mitigation.ipynb*)\n",
    "- ancillas mitigation: we throw away all the measures which contain a value for the ancillas physically forbidden.\n",
    "\n",
    "this is done by the *mitigate* function.\n",
    "\n",
    "Then we compute the fidelity for both the mitigated results and not-mitigated ones, in order check the gain given by the mitigation."
   ]
  },
  {
   "cell_type": "code",
   "execution_count": null,
   "metadata": {},
   "outputs": [],
   "source": [
    "meas_fitter_our = CompleteMeasFitter(job_cal_our.result(), state_labels=state_lables)\n",
    "meas_fitter = CompleteMeasFitter(job_cal.result(), state_labels=state_lables)\n",
    "\n",
    "\n",
    "target_state = (One^One^Zero).to_matrix()\n",
    "\n",
    "fids=np.zeros([reps,4])\n",
    "fids_mean=np.zeros(4)\n",
    "fids_dev=np.zeros(4)\n",
    "\n",
    "for j in range(reps):\n",
    "    \n",
    "    res = jobs_evo_result[j]\n",
    "    print(j)\n",
    "    new_res, new_res_nm = mitigate(res, Measure_Mitig=\"yes\", ancillas_conditions=['0011','1110','1101'], meas_fitter=meas_fitter)\n",
    "    new_res_our, new_res_nm = mitigate(res, Measure_Mitig=\"yes\", ancillas_conditions=['0011','1110','1101'], meas_fitter=meas_fitter_our)\n",
    "    new_res_not_mitigated = mitigate(res, Measure_Mitig=\"no\", ancillas_conditions=bin_list(4))\n",
    "\n",
    "    fids[j,0] = fidelity_count(new_res_not_mitigated, qcs_na, target_state)\n",
    "    fids[j,1] = fidelity_count(new_res_nm, qcs_na, target_state)\n",
    "    fids[j,2] = fidelity_count(new_res, qcs_na, target_state)\n",
    "    fids[j,3] = fidelity_count(new_res_our, qcs_na, target_state)\n",
    "\n",
    "for i in range(4):\n",
    "    fids_mean[i]=np.mean(fids[:,i])\n",
    "    fids_dev[i]=np.std(fids[:,i])\n"
   ]
  },
  {
   "cell_type": "code",
   "execution_count": null,
   "metadata": {},
   "outputs": [],
   "source": [
    "new_res_our.get_counts(-1)"
   ]
  },
  {
   "cell_type": "markdown",
   "metadata": {},
   "source": [
    "Printing the fidelity"
   ]
  },
  {
   "cell_type": "code",
   "execution_count": null,
   "metadata": {},
   "outputs": [],
   "source": [
    "labels = [\"raw:                                       \",\n",
    "          \"ancillas mitigation:                       \",\n",
    "          \"ancillas and qiskit measurement mitigation:\",\n",
    "          \"ancillas and our measurement mitigation:   \"\n",
    "]\n",
    "\n",
    "for i in range(4):\n",
    "    print(labels[i], fids_mean[i], \" +- \", fids_dev[i])"
   ]
  },
  {
   "cell_type": "code",
   "execution_count": null,
   "metadata": {},
   "outputs": [],
   "source": []
  }
 ],
 "metadata": {
  "interpreter": {
   "hash": "aee8b7b246df8f9039afb4144a1f6fd8d2ca17a180786b69acc140d282b71a49"
  },
  "kernelspec": {
   "display_name": "Python 3.10.2 64-bit",
   "language": "python",
   "name": "python3"
  },
  "language_info": {
   "codemirror_mode": {
    "name": "ipython",
    "version": 3
   },
   "file_extension": ".py",
   "mimetype": "text/x-python",
   "name": "python",
   "nbconvert_exporter": "python",
   "pygments_lexer": "ipython3",
   "version": "3.10.2"
  },
  "orig_nbformat": 4
 },
 "nbformat": 4,
 "nbformat_minor": 2
}
