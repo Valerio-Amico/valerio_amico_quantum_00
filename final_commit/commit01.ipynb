{
 "cells": [
  {
   "cell_type": "code",
   "execution_count": 24,
   "metadata": {},
   "outputs": [
    {
     "name": "stderr",
     "output_type": "stream",
     "text": [
      "ibmqfactory.load_account:WARNING:2022-03-21 08:39:31,662: Credentials are already in use. The existing account in the session will be replaced.\n"
     ]
    }
   ],
   "source": [
    "import functions0 as f0\n",
    "import numpy as np\n",
    "import datetime\n",
    "import qiskit.ignis.mitigation.measurement as mc\n",
    "from qiskit import Aer, assemble, QuantumCircuit, QuantumRegister, ClassicalRegister, IBMQ, transpile, execute\n",
    "from qiskit.providers.aer import AerSimulator, QasmSimulator\n",
    "from qiskit.opflow import Zero, One, I, X, Y, Z\n",
    "from qiskit.ignis.verification.tomography import state_tomography_circuits, StateTomographyFitter\n",
    "from qiskit.quantum_info import state_fidelity\n",
    "import matplotlib.pyplot as plt\n",
    "import warnings\n",
    "warnings.filterwarnings('ignore')\n",
    "\n",
    "IBMQ.load_account()\n",
    "provider = IBMQ.get_provider(hub='ibm-q-community', group='ibmquantumawards', project='open-science-22')\n",
    "\n",
    "sim_noisy_jakarta = QasmSimulator.from_backend(provider.get_backend('ibmq_jakarta'))\n",
    "backend_sim_jakarta = sim_noisy_jakarta \n",
    "backend = provider.get_backend('ibmq_jakarta')\n",
    "backend_sim = Aer.get_backend('qasm_simulator')"
   ]
  },
  {
   "cell_type": "markdown",
   "metadata": {},
   "source": [
    "## IBM open-science-prize-2021/22 solution. By Quantum Polo Gang: Ruben, Fabio & Valerio"
   ]
  },
  {
   "cell_type": "markdown",
   "metadata": {},
   "source": [
    "## Decomposition:\n",
    "- We computed numerically the operator of N trotter steps, for a certain evolution time: $U^n$\n",
    "- Observing that this operator preserves the magnetization of the system, if the initial state has a fixed magnetization (so, it isn't a superposition of state with different magnetization) is possible to decompose the operator with 4 c-not. If the initial state is a superposition of states with different magnetization the best decomposition we found has 11 c-not (14 for the Jakarta geometry).\n",
    "- Our initial state is $|110>$ (qubits 5,3 and 1 respectively) so we can use the best decomposition (4 c-not).\n",
    "\n",
    "To see the decomposition procedure go in decomposition.ipynb file."
   ]
  },
  {
   "cell_type": "markdown",
   "metadata": {},
   "source": [
    "Let's start from the defining of the evolution cirquit:"
   ]
  },
  {
   "cell_type": "code",
   "execution_count": 25,
   "metadata": {},
   "outputs": [
    {
     "data": {
      "text/html": [
       "<pre style=\"word-wrap: normal;white-space: pre;background: #fff0;line-height: 1.1;font-family: &quot;Courier New&quot;,Courier,monospace\">                        \n",
       "q_0: ───────────────────\n",
       "          ┌─────┐       \n",
       "q_1: ─────┤0    ├───────\n",
       "          │     │       \n",
       "q_2: ─────┤  M1 ├───────\n",
       "     ┌───┐│     │┌─────┐\n",
       "q_3: ┤ X ├┤1    ├┤0    ├\n",
       "     └───┘└─────┘│     │\n",
       "q_4: ────────────┤  M2 ├\n",
       "     ┌───┐       │     │\n",
       "q_5: ┤ X ├───────┤1    ├\n",
       "     └───┘       └─────┘\n",
       "q_6: ───────────────────\n",
       "                        </pre>"
      ],
      "text/plain": [
       "                        \n",
       "q_0: ───────────────────\n",
       "          ┌─────┐       \n",
       "q_1: ─────┤0    ├───────\n",
       "          │     │       \n",
       "q_2: ─────┤  M1 ├───────\n",
       "     ┌───┐│     │┌─────┐\n",
       "q_3: ┤ X ├┤1    ├┤0    ├\n",
       "     └───┘└─────┘│     │\n",
       "q_4: ────────────┤  M2 ├\n",
       "     ┌───┐       │     │\n",
       "q_5: ┤ X ├───────┤1    ├\n",
       "     └───┘       └─────┘\n",
       "q_6: ───────────────────\n",
       "                        "
      ]
     },
     "execution_count": 25,
     "metadata": {},
     "output_type": "execute_result"
    }
   ],
   "source": [
    "steps=42\n",
    "time=np.pi\n",
    "initial_state=\"110\"\n",
    "\n",
    "reps = 8\n",
    "shots = 32000\n",
    "backend_aus = backend_sim_jakarta\n",
    "\n",
    "qr, qc = f0.evolution_cirquit(steps=steps, time=time, initial_state=\"110\") #DEVO IMPLEMENTARLA PER QUALSIASI STATO INIZIALE!\n",
    "qc.draw()"
   ]
  },
  {
   "cell_type": "markdown",
   "metadata": {},
   "source": [
    "Then we add the copy check for the mitigation"
   ]
  },
  {
   "cell_type": "code",
   "execution_count": 26,
   "metadata": {},
   "outputs": [
    {
     "data": {
      "text/html": [
       "<pre style=\"word-wrap: normal;white-space: pre;background: #fff0;line-height: 1.1;font-family: &quot;Courier New&quot;,Courier,monospace\">                        ┌────────────────┐\n",
       "q_0: ───────────────────┤0               ├\n",
       "          ┌─────┐       │                │\n",
       "q_1: ─────┤0    ├───────┤4               ├\n",
       "          │     │       │                │\n",
       "q_2: ─────┤  M1 ├───────┤1               ├\n",
       "     ┌───┐│     │┌─────┐│                │\n",
       "q_3: ┤ X ├┤1    ├┤0    ├┤5 4copy_checkDD ├\n",
       "     └───┘└─────┘│     ││                │\n",
       "q_4: ────────────┤  M2 ├┤2               ├\n",
       "     ┌───┐       │     ││                │\n",
       "q_5: ┤ X ├───────┤1    ├┤6               ├\n",
       "     └───┘       └─────┘│                │\n",
       "q_6: ───────────────────┤3               ├\n",
       "                        └────────────────┘</pre>"
      ],
      "text/plain": [
       "                        ┌────────────────┐\n",
       "q_0: ───────────────────┤0               ├\n",
       "          ┌─────┐       │                │\n",
       "q_1: ─────┤0    ├───────┤4               ├\n",
       "          │     │       │                │\n",
       "q_2: ─────┤  M1 ├───────┤1               ├\n",
       "     ┌───┐│     │┌─────┐│                │\n",
       "q_3: ┤ X ├┤1    ├┤0    ├┤5 4copy_checkDD ├\n",
       "     └───┘└─────┘│     ││                │\n",
       "q_4: ────────────┤  M2 ├┤2               ├\n",
       "     ┌───┐       │     ││                │\n",
       "q_5: ┤ X ├───────┤1    ├┤6               ├\n",
       "     └───┘       └─────┘│                │\n",
       "q_6: ───────────────────┤3               ├\n",
       "                        └────────────────┘"
      ]
     },
     "execution_count": 26,
     "metadata": {},
     "output_type": "execute_result"
    }
   ],
   "source": [
    "qc = f0.add_check(qc, [qr[1],qr[3],qr[5]], [qr[0],qr[2],qr[4],qr[6]], type=\"4copy_checkDD\")\n",
    "qc.draw()"
   ]
  },
  {
   "cell_type": "markdown",
   "metadata": {},
   "source": [
    "Then, we build the tomografy cirquits"
   ]
  },
  {
   "cell_type": "code",
   "execution_count": 27,
   "metadata": {},
   "outputs": [
    {
     "data": {
      "text/html": [
       "<pre style=\"word-wrap: normal;white-space: pre;background: #fff0;line-height: 1.1;font-family: &quot;Courier New&quot;,Courier,monospace\">                           ┌────────────────┐ ░                         ░ ┌─┐»\n",
       "   q_0: ───────────────────┤0               ├─░─────────────────────────░─┤M├»\n",
       "             ┌─────┐       │                │ ░ ┌─────┐┌───┐     ┌─┐    ░ └╥┘»\n",
       "   q_1: ─────┤0    ├───────┤4               ├─░─┤ Sdg ├┤ H ├─────┤M├────░──╫─»\n",
       "             │     │       │                │ ░ └─────┘└───┘     └╥┘    ░  ║ »\n",
       "   q_2: ─────┤  M1 ├───────┤1               ├─░───────────────────╫─────░──╫─»\n",
       "        ┌───┐│     │┌─────┐│                │ ░  ┌───┐  ┌─┐       ║     ░  ║ »\n",
       "   q_3: ┤ X ├┤1    ├┤0    ├┤5 4copy_checkDD ├─░──┤ H ├──┤M├───────╫─────░──╫─»\n",
       "        └───┘└─────┘│     ││                │ ░  └───┘  └╥┘       ║     ░  ║ »\n",
       "   q_4: ────────────┤  M2 ├┤2               ├─░──────────╫────────╫─────░──╫─»\n",
       "        ┌───┐       │     ││                │ ░ ┌─────┐  ║  ┌───┐ ║ ┌─┐ ░  ║ »\n",
       "   q_5: ┤ X ├───────┤1    ├┤6               ├─░─┤ Sdg ├──╫──┤ H ├─╫─┤M├─░──╫─»\n",
       "        └───┘       └─────┘│                │ ░ └─────┘  ║  └───┘ ║ └╥┘ ░  ║ »\n",
       "   q_6: ───────────────────┤3               ├─░──────────╫────────╫──╫──░──╫─»\n",
       "                           └────────────────┘ ░          ║        ║  ║  ░  ║ »\n",
       "c626: 3/═════════════════════════════════════════════════╩════════╩══╩═════╬═»\n",
       "                                                         1        0  2     ║ »\n",
       "c638: 4/═══════════════════════════════════════════════════════════════════╩═»\n",
       "                                                                           0 »\n",
       "«                 \n",
       "«   q_0: ─────────\n",
       "«                 \n",
       "«   q_1: ─────────\n",
       "«        ┌─┐      \n",
       "«   q_2: ┤M├──────\n",
       "«        └╥┘      \n",
       "«   q_3: ─╫───────\n",
       "«         ║ ┌─┐   \n",
       "«   q_4: ─╫─┤M├───\n",
       "«         ║ └╥┘   \n",
       "«   q_5: ─╫──╫────\n",
       "«         ║  ║ ┌─┐\n",
       "«   q_6: ─╫──╫─┤M├\n",
       "«         ║  ║ └╥┘\n",
       "«c626: 3/═╬══╬══╬═\n",
       "«         ║  ║  ║ \n",
       "«c638: 4/═╩══╩══╩═\n",
       "«         1  2  3 </pre>"
      ],
      "text/plain": [
       "                           ┌────────────────┐ ░                         ░ ┌─┐»\n",
       "   q_0: ───────────────────┤0               ├─░─────────────────────────░─┤M├»\n",
       "             ┌─────┐       │                │ ░ ┌─────┐┌───┐     ┌─┐    ░ └╥┘»\n",
       "   q_1: ─────┤0    ├───────┤4               ├─░─┤ Sdg ├┤ H ├─────┤M├────░──╫─»\n",
       "             │     │       │                │ ░ └─────┘└───┘     └╥┘    ░  ║ »\n",
       "   q_2: ─────┤  M1 ├───────┤1               ├─░───────────────────╫─────░──╫─»\n",
       "        ┌───┐│     │┌─────┐│                │ ░  ┌───┐  ┌─┐       ║     ░  ║ »\n",
       "   q_3: ┤ X ├┤1    ├┤0    ├┤5 4copy_checkDD ├─░──┤ H ├──┤M├───────╫─────░──╫─»\n",
       "        └───┘└─────┘│     ││                │ ░  └───┘  └╥┘       ║     ░  ║ »\n",
       "   q_4: ────────────┤  M2 ├┤2               ├─░──────────╫────────╫─────░──╫─»\n",
       "        ┌───┐       │     ││                │ ░ ┌─────┐  ║  ┌───┐ ║ ┌─┐ ░  ║ »\n",
       "   q_5: ┤ X ├───────┤1    ├┤6               ├─░─┤ Sdg ├──╫──┤ H ├─╫─┤M├─░──╫─»\n",
       "        └───┘       └─────┘│                │ ░ └─────┘  ║  └───┘ ║ └╥┘ ░  ║ »\n",
       "   q_6: ───────────────────┤3               ├─░──────────╫────────╫──╫──░──╫─»\n",
       "                           └────────────────┘ ░          ║        ║  ║  ░  ║ »\n",
       "c626: 3/═════════════════════════════════════════════════╩════════╩══╩═════╬═»\n",
       "                                                         1        0  2     ║ »\n",
       "c638: 4/═══════════════════════════════════════════════════════════════════╩═»\n",
       "                                                                           0 »\n",
       "«                 \n",
       "«   q_0: ─────────\n",
       "«                 \n",
       "«   q_1: ─────────\n",
       "«        ┌─┐      \n",
       "«   q_2: ┤M├──────\n",
       "«        └╥┘      \n",
       "«   q_3: ─╫───────\n",
       "«         ║ ┌─┐   \n",
       "«   q_4: ─╫─┤M├───\n",
       "«         ║ └╥┘   \n",
       "«   q_5: ─╫──╫────\n",
       "«         ║  ║ ┌─┐\n",
       "«   q_6: ─╫──╫─┤M├\n",
       "«         ║  ║ └╥┘\n",
       "«c626: 3/═╬══╬══╬═\n",
       "«         ║  ║  ║ \n",
       "«c638: 4/═╩══╩══╩═\n",
       "«         1  2  3 "
      ]
     },
     "execution_count": 27,
     "metadata": {},
     "output_type": "execute_result"
    }
   ],
   "source": [
    "from qiskit.ignis.verification.tomography import state_tomography_circuits, StateTomographyFitter\n",
    "\n",
    "qcs = state_tomography_circuits(qc, [qr[1],qr[3],qr[5]])\n",
    "qcs_na = state_tomography_circuits(qc, [qr[1],qr[3],qr[5]])\n",
    "\n",
    "for qc in qcs:\n",
    "    cr_anc = ClassicalRegister(4)\n",
    "    qc.add_register(cr_anc)\n",
    "    qc.barrier()\n",
    "    qc.measure([0,2,4,6],cr_anc)\n",
    "\n",
    "qcs_tot = []\n",
    "for _ in range(reps):\n",
    "    qcs_tot=qcs_tot + qcs\n",
    "\n",
    "qcs[10].draw()"
   ]
  },
  {
   "cell_type": "markdown",
   "metadata": {},
   "source": [
    "Building the calibration cirquits"
   ]
  },
  {
   "cell_type": "code",
   "execution_count": 28,
   "metadata": {},
   "outputs": [],
   "source": [
    "qcs_calibs, meas_calibs = f0.calibration_cirquits(\"column_evolution_remake\", q_anc=[0,2,4,6], check=\"yes\", check_type=\"4copy_check\")\n",
    "state_lables = f0.bin_list(7)"
   ]
  },
  {
   "cell_type": "markdown",
   "metadata": {},
   "source": [
    "Than we run all the cirquits"
   ]
  },
  {
   "cell_type": "code",
   "execution_count": 29,
   "metadata": {},
   "outputs": [],
   "source": [
    "jobs_evo=execute(qcs_tot, backend=backend_aus, shots=shots)\n",
    "job_cal_our=execute(qcs_calibs, backend=backend_aus, shots=shots)"
   ]
  },
  {
   "cell_type": "code",
   "execution_count": 30,
   "metadata": {},
   "outputs": [],
   "source": [
    "jobs_evo_result = f0.jobs_result(job_evolution = jobs_evo, reps = reps)"
   ]
  },
  {
   "cell_type": "markdown",
   "metadata": {},
   "source": [
    "or we can retrieve the jobs"
   ]
  },
  {
   "cell_type": "code",
   "execution_count": 31,
   "metadata": {},
   "outputs": [],
   "source": [
    "#evo_ID = \"6233ae39d97bff04d66929e9\"\n",
    "#cal_ID = \"6233ae3ba2f72dff43da994f\"\n",
    "\n",
    "#evo_job=backend.retrieve_job(evo_ID)\n",
    "#job_cal_our=backend.retrieve_job(cal_ID)"
   ]
  },
  {
   "cell_type": "code",
   "execution_count": 32,
   "metadata": {},
   "outputs": [],
   "source": [
    "meas_fitter_our = mc.CompleteMeasFitter(job_cal_our.result(), state_labels=state_lables)\n",
    "\n",
    "target_state = (One^One^Zero).to_matrix()\n",
    "\n",
    "fids=np.zeros([reps,3])\n",
    "fids_mean=np.zeros(3)\n",
    "fids_dev=np.zeros(3)\n",
    "\n",
    "for j in range(reps):\n",
    "    \n",
    "    res = jobs_evo_result[j]\n",
    "\n",
    "    new_res_our, new_res_nm = f0.mitigate(res, Measure_Mitig=\"yes\", ancillas_conditions=['0011','1110','1101'], meas_fitter=meas_fitter_our)\n",
    "    new_res_not_mitigated = f0.mitigate(res, Measure_Mitig=\"no\", ancillas_conditions=f0.bin_list(4))\n",
    "\n",
    "    fids[j,0] = f0.fidelity_count(new_res_not_mitigated, qcs_na, target_state)\n",
    "    fids[j,1] = f0.fidelity_count(new_res_nm, qcs_na, target_state)\n",
    "    fids[j,2] = f0.fidelity_count(new_res_our, qcs_na, target_state)\n",
    "\n",
    "for i in range(3):\n",
    "    fids_mean[i]=np.mean(fids[:,i])\n",
    "    fids_dev[i]=np.std(fids[:,i])\n"
   ]
  },
  {
   "cell_type": "code",
   "execution_count": 33,
   "metadata": {},
   "outputs": [
    {
     "name": "stdout",
     "output_type": "stream",
     "text": [
      "0.8328643966946312  +-  0.0006684590535472095\n",
      "0.8683669617743933  +-  0.0005468526680471866\n",
      "0.9962712365447324  +-  0.0006522756395423653\n"
     ]
    }
   ],
   "source": [
    "lables = [\"raw\", \"ancillas mitigation\", \"ancilla and measurment mitigation\"]\n",
    "for i in range(3):\n",
    "    print(fids_mean[i], \" +- \", fids_dev[i])"
   ]
  },
  {
   "cell_type": "code",
   "execution_count": 34,
   "metadata": {},
   "outputs": [
    {
     "data": {
      "text/plain": [
       "array([[0.83252132, 0.86835499, 0.99579368],\n",
       "       [0.83168333, 0.8673316 , 0.99663453],\n",
       "       [0.83411686, 0.86915225, 0.99699855],\n",
       "       [0.83307859, 0.86838685, 0.99658847],\n",
       "       [0.83309354, 0.86853373, 0.99607845],\n",
       "       [0.83231429, 0.86842141, 0.99656734],\n",
       "       [0.83315558, 0.86779769, 0.99481768],\n",
       "       [0.83295167, 0.86895717, 0.99669119]])"
      ]
     },
     "execution_count": 34,
     "metadata": {},
     "output_type": "execute_result"
    }
   ],
   "source": [
    "fids"
   ]
  },
  {
   "cell_type": "code",
   "execution_count": null,
   "metadata": {},
   "outputs": [],
   "source": []
  }
 ],
 "metadata": {
  "interpreter": {
   "hash": "aee8b7b246df8f9039afb4144a1f6fd8d2ca17a180786b69acc140d282b71a49"
  },
  "kernelspec": {
   "display_name": "Python 3.10.2 64-bit",
   "language": "python",
   "name": "python3"
  },
  "language_info": {
   "codemirror_mode": {
    "name": "ipython",
    "version": 3
   },
   "file_extension": ".py",
   "mimetype": "text/x-python",
   "name": "python",
   "nbconvert_exporter": "python",
   "pygments_lexer": "ipython3",
   "version": "3.10.2"
  },
  "orig_nbformat": 4
 },
 "nbformat": 4,
 "nbformat_minor": 2
}
