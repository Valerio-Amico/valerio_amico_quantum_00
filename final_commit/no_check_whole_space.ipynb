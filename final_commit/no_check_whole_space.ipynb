{
 "cells": [
  {
   "cell_type": "code",
   "execution_count": 382,
   "metadata": {},
   "outputs": [
    {
     "name": "stdout",
     "output_type": "stream",
     "text": [
      "The autoreload extension is already loaded. To reload it, use:\n",
      "  %reload_ext autoreload\n"
     ]
    },
    {
     "name": "stderr",
     "output_type": "stream",
     "text": [
      "ibmqfactory.load_account:WARNING:2022-04-09 16:29:40,172: Credentials are already in use. The existing account in the session will be replaced.\n"
     ]
    }
   ],
   "source": [
    "from lib.functions0 import *\n",
    "from lib.utility import *\n",
    "import numpy as np\n",
    "from scipy.linalg import expm\n",
    "from qiskit.utils.mitigation.fitters import CompleteMeasFitter\n",
    "from qiskit.ignis.mitigation.measurement import  complete_meas_cal\n",
    "from qiskit import Aer, assemble, QuantumCircuit, QuantumRegister, ClassicalRegister, IBMQ, transpile, execute\n",
    "from qiskit.providers.aer import AerSimulator, QasmSimulator\n",
    "from qiskit.opflow import Zero, One, I, X, Y, Z\n",
    "from qiskit.ignis.verification.tomography import state_tomography_circuits, StateTomographyFitter\n",
    "from qiskit.quantum_info import state_fidelity\n",
    "import matplotlib.pyplot as plt\n",
    "#%load_ext autoreload\n",
    "#%autoreload 2\n",
    "import warnings\n",
    "warnings.filterwarnings('ignore')\n",
    "IBMQ.load_account()\n",
    "provider = IBMQ.get_provider(hub='ibm-q-community',\n",
    "                            group='ibmquantumawards', \n",
    "                            project='open-science-22')\n",
    "\n",
    "backend_sim_jakarta = QasmSimulator.from_backend(provider.get_backend('ibmq_jakarta'))\n",
    "backend_real_jakarta = provider.get_backend('ibmq_jakarta')\n",
    "backend_sim = Aer.get_backend('qasm_simulator')"
   ]
  },
  {
   "cell_type": "code",
   "execution_count": 383,
   "metadata": {},
   "outputs": [
    {
     "data": {
      "text/plain": [
       "'C:\\\\Users\\\\asus\\\\AppData\\\\Roaming\\\\Python\\\\Python38\\\\site-packages\\\\qiskit\\\\utils\\\\mitigation\\\\fitters.py'"
      ]
     },
     "execution_count": 383,
     "metadata": {},
     "output_type": "execute_result"
    }
   ],
   "source": [
    "import qiskit\n",
    "qiskit.utils.mitigation.fitters.__file__"
   ]
  },
  {
   "cell_type": "code",
   "execution_count": 384,
   "metadata": {},
   "outputs": [
    {
     "data": {
      "text/latex": [
       "$\\displaystyle \\left[\\begin{matrix}-0.5 - 0.866 i & 0 & 0 & 0 & 0 & 0 & 0 & 0\\\\0 & 0.25 - 0.433 i & 0.00453 - 0.0079 i & 0 & -0.755 - 0.425 i & 0 & 0 & 0\\\\0 & -0.00454 + 0.00781 i & -0.5 - 0.866 i & 0 & 0.00453 - 0.0079 i & 0 & 0 & 0\\\\0 & 0 & 0 & 0.25 - 0.433 i & 0 & -0.00454 + 0.00781 i & -0.745 - 0.441 i & 0\\\\0 & -0.745 - 0.441 i & -0.00454 + 0.00781 i & 0 & 0.25 - 0.433 i & 0 & 0 & 0\\\\0 & 0 & 0 & 0.00453 - 0.0079 i & 0 & -0.5 - 0.866 i & -0.00454 + 0.00781 i & 0\\\\0 & 0 & 0 & -0.755 - 0.425 i & 0 & 0.00453 - 0.0079 i & 0.25 - 0.433 i & 0\\\\0 & 0 & 0 & 0 & 0 & 0 & 0 & -0.5 - 0.866 i\\end{matrix}\\right]$"
      ],
      "text/plain": [
       "Matrix([\n",
       "[-0.5 - 0.866*I,                    0,                    0,                  0,                  0,                    0,                    0,              0],\n",
       "[             0,       0.25 - 0.433*I,   0.00453 - 0.0079*I,                  0,   -0.755 - 0.425*I,                    0,                    0,              0],\n",
       "[             0, -0.00454 + 0.00781*I,       -0.5 - 0.866*I,                  0, 0.00453 - 0.0079*I,                    0,                    0,              0],\n",
       "[             0,                    0,                    0,     0.25 - 0.433*I,                  0, -0.00454 + 0.00781*I,     -0.745 - 0.441*I,              0],\n",
       "[             0,     -0.745 - 0.441*I, -0.00454 + 0.00781*I,                  0,     0.25 - 0.433*I,                    0,                    0,              0],\n",
       "[             0,                    0,                    0, 0.00453 - 0.0079*I,                  0,       -0.5 - 0.866*I, -0.00454 + 0.00781*I,              0],\n",
       "[             0,                    0,                    0,   -0.755 - 0.425*I,                  0,   0.00453 - 0.0079*I,       0.25 - 0.433*I,              0],\n",
       "[             0,                    0,                    0,                  0,                  0,                    0,                    0, -0.5 - 0.866*I]])"
      ]
     },
     "execution_count": 384,
     "metadata": {},
     "output_type": "execute_result"
    }
   ],
   "source": [
    "n_steps=100\n",
    "time=np.pi/3\n",
    "#initial_state={\"110\": 1}\n",
    "shots = 32000\n",
    "backend = backend_sim_jakarta\n",
    "\n",
    "X = np.array([[0,1],[1,0]])  #defining the pauli matrices\n",
    "Y = np.array([[0,-1j],[1j,0]])\n",
    "Z = np.array([[1,0],[0,-1]])\n",
    "H = np.array([[1/np.sqrt(2),1/np.sqrt(2)],[1/np.sqrt(2),-1/np.sqrt(2)]])\n",
    "Id = np.eye(2)\n",
    "\n",
    "# defining the hamiltonian divided in: \n",
    "#       - H1: first two qubits interactions.\n",
    "#       - H2: second two qubits interactions.\n",
    "\n",
    "H1 = np.kron(X, np.kron(X,Id)) + np.kron(Y, np.kron(Y,Id)) + np.kron(Z, np.kron(Z,Id)) \n",
    "H2 = np.kron(Id, np.kron(X,X)) + np.kron(Id, np.kron(Y,Y)) + np.kron(Id, np.kron(Z,Z)) \n",
    "\n",
    "Had3=np.kron(H, np.kron(H,H))\n",
    "\n",
    "# building numerically the trotter step matrix, and the whole operator (trotter step)^n_steps.\n",
    "\n",
    "trotter_step_matrix_= expm(-time/n_steps*H1*1j).dot(expm(-time/n_steps*H2*1j))\n",
    "trotterized = np.linalg.matrix_power(trotter_step_matrix_, n_steps)\n",
    "Matrix(trotterized).n(3, chop=True)\n",
    "#Matrix(Had3)"
   ]
  },
  {
   "cell_type": "code",
   "execution_count": 385,
   "metadata": {},
   "outputs": [
    {
     "data": {
      "image/png": "[encoded data removed]",
      "text/plain": [
       "<Figure size 568.197x204.68 with 1 Axes>"
      ]
     },
     "execution_count": 385,
     "metadata": {},
     "output_type": "execute_result"
    }
   ],
   "source": [
    "qr=QuantumRegister(3, name=\"q\")\n",
    "B_qc=QuantumCircuit(qr, name=\"B\")\n",
    "B_qc.x(qr[2])\n",
    "B_qc.cx(qr[1],qr[0])\n",
    "B_qc.cx(qr[2],qr[1])\n",
    "B_qc.cx(qr[1],qr[0])\n",
    "B_qc.x([qr[0],qr[1],qr[2]])\n",
    "B_qc.append(Toffoli_gate,[qr[0],qr[1],qr[2]])\n",
    "B_qc.x([qr[0],qr[1]])\n",
    "\n",
    "B_qc.draw(output=\"mpl\")"
   ]
  },
  {
   "cell_type": "code",
   "execution_count": 386,
   "metadata": {},
   "outputs": [
    {
     "data": {
      "text/latex": [
       "$\\displaystyle \\left[\\begin{matrix}0 & 0 & 0 & 0 & 1.0 & 0 & 0 & 0\\\\0 & 0 & 1.0 & 0 & 0 & 0 & 0 & 0\\\\0 & 1.0 & 0 & 0 & 0 & 0 & 0 & 0\\\\1.0 & 0 & 0 & 0 & 0 & 0 & 0 & 0\\\\0 & 0 & 0 & 1.0 & 0 & 0 & 0 & 0\\\\0 & 0 & 0 & 0 & 0 & 1.0 & 0 & 0\\\\0 & 0 & 0 & 0 & 0 & 0 & 1.0 & 0\\\\0 & 0 & 0 & 0 & 0 & 0 & 0 & 1.0\\end{matrix}\\right]$"
      ],
      "text/plain": [
       "Matrix([\n",
       "[  0,   0,   0,   0, 1.0,   0,   0,   0],\n",
       "[  0,   0, 1.0,   0,   0,   0,   0,   0],\n",
       "[  0, 1.0,   0,   0,   0,   0,   0,   0],\n",
       "[1.0,   0,   0,   0,   0,   0,   0,   0],\n",
       "[  0,   0,   0, 1.0,   0,   0,   0,   0],\n",
       "[  0,   0,   0,   0,   0, 1.0,   0,   0],\n",
       "[  0,   0,   0,   0,   0,   0, 1.0,   0],\n",
       "[  0,   0,   0,   0,   0,   0,   0, 1.0]])"
      ]
     },
     "execution_count": 386,
     "metadata": {},
     "output_type": "execute_result"
    }
   ],
   "source": [
    "B=matrix_from_circuit(B_qc)\n",
    "B"
   ]
  },
  {
   "cell_type": "code",
   "execution_count": 387,
   "metadata": {},
   "outputs": [
    {
     "data": {
      "image/png": "[encoded data removed]",
      "text/plain": [
       "<Figure size 1110x204.68 with 1 Axes>"
      ]
     },
     "execution_count": 387,
     "metadata": {},
     "output_type": "execute_result"
    }
   ],
   "source": [
    "transpile(B_qc, basis_gates=[\"cx\", \"x\", \"rz\", \"sx\"]).draw(output=\"mpl\")"
   ]
  },
  {
   "cell_type": "code",
   "execution_count": 388,
   "metadata": {},
   "outputs": [
    {
     "data": {
      "text/latex": [
       "$\\displaystyle \\left[\\begin{matrix}0.24994 - 0.43297 i & -0.0045427 + 0.0078115 i & -0.7454 - 0.44087 i & 0\\\\0.0045267 - 0.0078972 i & -0.49998 - 0.86594 i & -0.0045427 + 0.0078115 i & 0\\\\-0.75447 - 0.42516 i & 0.0045267 - 0.0078972 i & 0.24994 - 0.43297 i & 0\\\\0 & 0 & 0 & -0.5 - 0.86602 i\\end{matrix}\\right]$"
      ],
      "text/plain": [
       "Matrix([\n",
       "[    0.24994 - 0.43297*I, -0.0045427 + 0.0078115*I,      -0.7454 - 0.44087*I,                0],\n",
       "[0.0045267 - 0.0078972*I,     -0.49998 - 0.86594*I, -0.0045427 + 0.0078115*I,                0],\n",
       "[   -0.75447 - 0.42516*I,  0.0045267 - 0.0078972*I,      0.24994 - 0.43297*I,                0],\n",
       "[                      0,                        0,                        0, -0.5 - 0.86602*I]])"
      ]
     },
     "execution_count": 388,
     "metadata": {},
     "output_type": "execute_result"
    }
   ],
   "source": [
    "#for _ in range(n_steps): # here is computed the evolution operator numerically, with n_steps trotter steps.\n",
    "#\n",
    "#    numeric_evolution_matrix=(numeric_evolution_matrix*trotter_step_matrix_(2*time/n_steps)).evalf(precision)\n",
    "\n",
    "\n",
    "M_N = B*trotterized*B.H\n",
    "M_N = Matrix([M_N[0:4],M_N[8:12],M_N[16:20],M_N[24:28]])\n",
    "M_N.evalf(5)"
   ]
  },
  {
   "cell_type": "code",
   "execution_count": 389,
   "metadata": {},
   "outputs": [
    {
     "data": {
      "image/png": "[encoded data removed]",
      "text/plain": [
       "<Figure size 1109.85x144.48 with 1 Axes>"
      ]
     },
     "execution_count": 389,
     "metadata": {},
     "output_type": "execute_result"
    }
   ],
   "source": [
    "qc=QuantumCircuit(2, name=\"$M^N$\")\n",
    "qc.unitary(M_N,[0,1])    \n",
    "M_N_qc=transpile(qc,basis_gates=['cx','x','sx','rz']) \n",
    "\n",
    "M_N_qc.draw(output=\"mpl\")"
   ]
  },
  {
   "cell_type": "code",
   "execution_count": 390,
   "metadata": {},
   "outputs": [
    {
     "data": {
      "image/png": "[encoded data removed]",
      "text/plain": [
       "<Figure size 267.197x204.68 with 1 Axes>"
      ]
     },
     "execution_count": 390,
     "metadata": {},
     "output_type": "execute_result"
    }
   ],
   "source": [
    "initial_state=\"000\"\n",
    "\n",
    "qr_U = QuantumRegister(3, name=\"q\")\n",
    "qc_U = QuantumCircuit(qr_U, name=\"evo\")\n",
    "\n",
    "### preparing the initial state\n",
    "\n",
    "l=0\n",
    "for k in [2,1,0]:\n",
    "    if initial_state[l]=='1':\n",
    "        qc_U.x(qr_U[k])\n",
    "    l+=1\n",
    "\n",
    "### appending the evolution\n",
    "\n",
    "qc_U.append(M_N_qc,[qr_U[0],qr_U[1]])\n",
    "qc_U.append(B_qc.inverse(),[qr_U[0],qr_U[1],qr_U[2]])\n",
    "\n",
    "qc_U.draw(output=\"mpl\")"
   ]
  },
  {
   "cell_type": "code",
   "execution_count": 391,
   "metadata": {},
   "outputs": [
    {
     "data": {
      "text/latex": [
       "$\\displaystyle \\left[\\begin{matrix}0 & 0 & 0 & 0 & -0.2499422916 + 0.4329694557 i & 0.0045592696 - 0.0078210434 i & 0.7453995018 + 0.4408672454 i & -1.66738 \\cdot 10^{-5} + 9.396 \\cdot 10^{-6} i\\\\0.7544691345 + 0.4251588751 i & -0.004510263 + 0.0078875014 i & -0.2499422949 + 0.4329694559 i & -1.6577 \\cdot 10^{-5} + 9.5707 \\cdot 10^{-6} i & 0 & 0 & 0 & 0\\\\-0.0045101626 + 0.0078876741 i & 0.4999840448 + 0.8659396308 i & 0.0045593697 - 0.0078208688 i & 9.82 \\cdot 10^{-8} + 1.743 \\cdot 10^{-7} i & 0 & 0 & 0 & 0\\\\-0.2499422916 + 0.4329694557 i & 0.0045592696 - 0.0078210434 i & 0.7453995018 + 0.4408672454 i & -1.66738 \\cdot 10^{-5} + 9.396 \\cdot 10^{-6} i & 0 & 0 & 0 & 0\\\\-1.64733 \\cdot 10^{-5} + 9.7432 \\cdot 10^{-6} i & -1.022 \\cdot 10^{-7} - 1.729 \\cdot 10^{-7} i & -1.6577 \\cdot 10^{-5} + 9.5707 \\cdot 10^{-6} i & 0.5000000011 + 0.8660254027 i & 0 & 0 & 0 & 0\\\\0 & 0 & 0 & 0 & -0.0045101626 + 0.0078876741 i & 0.4999840448 + 0.8659396308 i & 0.0045593697 - 0.0078208688 i & 9.82 \\cdot 10^{-8} + 1.743 \\cdot 10^{-7} i\\\\0 & 0 & 0 & 0 & 0.7544691345 + 0.4251588751 i & -0.004510263 + 0.0078875014 i & -0.2499422949 + 0.4329694559 i & -1.6577 \\cdot 10^{-5} + 9.5707 \\cdot 10^{-6} i\\\\0 & 0 & 0 & 0 & -1.64733 \\cdot 10^{-5} + 9.7432 \\cdot 10^{-6} i & -1.022 \\cdot 10^{-7} - 1.729 \\cdot 10^{-7} i & -1.6577 \\cdot 10^{-5} + 9.5707 \\cdot 10^{-6} i & 0.5000000011 + 0.8660254027 i\\end{matrix}\\right]$"
      ],
      "text/plain": [
       "Matrix([\n",
       "[                             0,                             0,                              0,                             0, -0.2499422916 + 0.4329694557*I, 0.0045592696 - 0.0078210434*I,  0.7453995018 + 0.4408672454*I,      -1.66738e-5 + 9.396e-6*I],\n",
       "[ 0.7544691345 + 0.4251588751*I, -0.004510263 + 0.0078875014*I, -0.2499422949 + 0.4329694559*I,      -1.6577e-5 + 9.5707e-6*I,                              0,                             0,                              0,                             0],\n",
       "[-0.0045101626 + 0.0078876741*I, 0.4999840448 + 0.8659396308*I,  0.0045593697 - 0.0078208688*I,          9.82e-8 + 1.743e-7*I,                              0,                             0,                              0,                             0],\n",
       "[-0.2499422916 + 0.4329694557*I, 0.0045592696 - 0.0078210434*I,  0.7453995018 + 0.4408672454*I,      -1.66738e-5 + 9.396e-6*I,                              0,                             0,                              0,                             0],\n",
       "[     -1.64733e-5 + 9.7432e-6*I,        -1.022e-7 - 1.729e-7*I,       -1.6577e-5 + 9.5707e-6*I, 0.5000000011 + 0.8660254027*I,                              0,                             0,                              0,                             0],\n",
       "[                             0,                             0,                              0,                             0, -0.0045101626 + 0.0078876741*I, 0.4999840448 + 0.8659396308*I,  0.0045593697 - 0.0078208688*I,          9.82e-8 + 1.743e-7*I],\n",
       "[                             0,                             0,                              0,                             0,  0.7544691345 + 0.4251588751*I, -0.004510263 + 0.0078875014*I, -0.2499422949 + 0.4329694559*I,      -1.6577e-5 + 9.5707e-6*I],\n",
       "[                             0,                             0,                              0,                             0,      -1.64733e-5 + 9.7432e-6*I,        -1.022e-7 - 1.729e-7*I,       -1.6577e-5 + 9.5707e-6*I, 0.5000000011 + 0.8660254027*I]])"
      ]
     },
     "execution_count": 391,
     "metadata": {},
     "output_type": "execute_result"
    }
   ],
   "source": [
    "U_ideal=matrix_from_circuit(qc_U, type=\"numpy\")\n",
    "Matrix(U_ideal)"
   ]
  },
  {
   "cell_type": "code",
   "execution_count": 392,
   "metadata": {},
   "outputs": [
    {
     "data": {
      "image/png": "[encoded data removed]",
      "text/plain": [
       "<Figure size 532.373x264.88 with 1 Axes>"
      ]
     },
     "execution_count": 392,
     "metadata": {},
     "output_type": "execute_result"
    }
   ],
   "source": [
    "qr_evo = QuantumRegister(3, name=\"q\")\n",
    "qc_evo = QuantumCircuit(qr_evo, name=\"U\")\n",
    "\n",
    "qc_evo.x([qr_evo[1],qr_evo[2]])\n",
    "qc_evo.append(qc_U, qr_evo)\n",
    "\n",
    "qcs_tomo = state_tomography_circuits(qc_evo, qr_evo)\n",
    "qcs_tomo[3].draw(output=\"mpl\")"
   ]
  },
  {
   "cell_type": "code",
   "execution_count": 393,
   "metadata": {},
   "outputs": [],
   "source": [
    "qr_cal = QuantumRegister(3)\n",
    "cal_circ, state_labels = complete_meas_cal(qubit_list=[0,1,2], qr=qr_cal, circlabel='mcal')"
   ]
  },
  {
   "cell_type": "code",
   "execution_count": 394,
   "metadata": {},
   "outputs": [
    {
     "data": {
      "text/html": [
       "<pre style=\"word-wrap: normal;white-space: pre;background: #fff0;line-height: 1.1;font-family: &quot;Courier New&quot;,Courier,monospace\">           ░ ┌─┐      \n",
       "q17146_0: ─░─┤M├──────\n",
       "           ░ └╥┘┌─┐   \n",
       "q17146_1: ─░──╫─┤M├───\n",
       "           ░  ║ └╥┘┌─┐\n",
       "q17146_2: ─░──╫──╫─┤M├\n",
       "           ░  ║  ║ └╥┘\n",
       "  c191: 3/════╩══╩══╩═\n",
       "              0  1  2 </pre>"
      ],
      "text/plain": [
       "           ░ ┌─┐      \n",
       "q17146_0: ─░─┤M├──────\n",
       "           ░ └╥┘┌─┐   \n",
       "q17146_1: ─░──╫─┤M├───\n",
       "           ░  ║ └╥┘┌─┐\n",
       "q17146_2: ─░──╫──╫─┤M├\n",
       "           ░  ║  ║ └╥┘\n",
       "  c191: 3/════╩══╩══╩═\n",
       "              0  1  2 "
      ]
     },
     "execution_count": 394,
     "metadata": {},
     "output_type": "execute_result"
    }
   ],
   "source": [
    "cal_circ[0].draw()"
   ]
  },
  {
   "cell_type": "code",
   "execution_count": 395,
   "metadata": {},
   "outputs": [
    {
     "data": {
      "text/plain": [
       "['000', '001', '010', '011', '100', '101', '110', '111']"
      ]
     },
     "execution_count": 395,
     "metadata": {},
     "output_type": "execute_result"
    }
   ],
   "source": [
    "state_labels"
   ]
  },
  {
   "cell_type": "code",
   "execution_count": 396,
   "metadata": {},
   "outputs": [],
   "source": [
    "calib_circuits_identity = []\n",
    "calib_circuits_itself = []\n",
    "\n",
    "for i in state_labels:\n",
    "\n",
    "    cr_cal_itself = ClassicalRegister(3)\n",
    "    qr_cal_itself = QuantumRegister(3)\n",
    "    qc_cal_itself = QuantumCircuit(qr_cal_itself, cr_cal_itself, name=f\"mcalcal_{i}\")\n",
    "\n",
    "    cr_cal_id = ClassicalRegister(3)\n",
    "    qr_cal_id = QuantumRegister(3)\n",
    "    qc_cal_id = QuantumCircuit(qr_cal_id, cr_cal_id, name=f\"mcalcal_{i}\")\n",
    "\n",
    "    qc_cal_id.x(qr_cal_id)\n",
    "    qc_cal_id.append(qc_U, qr_cal_id)\n",
    "\n",
    "    for k in range(3):\n",
    "        if i[::-1][k] == \"1\":\n",
    "            qc_cal_itself.x(qr_cal_itself[k])\n",
    "        else:\n",
    "            qc_cal_id.x(qr_cal_id[k])\n",
    "        \n",
    "    qc_cal_itself.append(qc_U, qr_cal_itself)\n",
    "    \n",
    "    qc_cal_id.measure(qr_cal_id, cr_cal_id)\n",
    "    qc_cal_itself.measure(qr_cal_itself, cr_cal_itself)\n",
    "\n",
    "    calib_circuits_identity.append(qc_cal_id)\n",
    "    calib_circuits_itself.append(qc_cal_itself)"
   ]
  },
  {
   "cell_type": "code",
   "execution_count": 397,
   "metadata": {},
   "outputs": [
    {
     "data": {
      "text/html": [
       "<pre style=\"word-wrap: normal;white-space: pre;background: #fff0;line-height: 1.1;font-family: &quot;Courier New&quot;,Courier,monospace\">          ┌───┐┌──────┐     ┌─┐      \n",
       "q17150_0: ┤ X ├┤0     ├─────┤M├──────\n",
       "          ├───┤│      │┌───┐└╥┘┌─┐   \n",
       "q17150_1: ┤ X ├┤1 evo ├┤ X ├─╫─┤M├───\n",
       "          ├───┤│      │├───┤ ║ └╥┘┌─┐\n",
       "q17150_2: ┤ X ├┤2     ├┤ X ├─╫──╫─┤M├\n",
       "          └───┘└──────┘└───┘ ║  ║ └╥┘\n",
       "  c195: 3/═══════════════════╩══╩══╩═\n",
       "                             0  1  2 </pre>"
      ],
      "text/plain": [
       "          ┌───┐┌──────┐     ┌─┐      \n",
       "q17150_0: ┤ X ├┤0     ├─────┤M├──────\n",
       "          ├───┤│      │┌───┐└╥┘┌─┐   \n",
       "q17150_1: ┤ X ├┤1 evo ├┤ X ├─╫─┤M├───\n",
       "          ├───┤│      │├───┤ ║ └╥┘┌─┐\n",
       "q17150_2: ┤ X ├┤2     ├┤ X ├─╫──╫─┤M├\n",
       "          └───┘└──────┘└───┘ ║  ║ └╥┘\n",
       "  c195: 3/═══════════════════╩══╩══╩═\n",
       "                             0  1  2 "
      ]
     },
     "execution_count": 397,
     "metadata": {},
     "output_type": "execute_result"
    }
   ],
   "source": [
    "calib_circuits_identity[1].draw()"
   ]
  },
  {
   "cell_type": "code",
   "execution_count": 398,
   "metadata": {},
   "outputs": [
    {
     "data": {
      "text/html": [
       "<pre style=\"word-wrap: normal;white-space: pre;background: #fff0;line-height: 1.1;font-family: &quot;Courier New&quot;,Courier,monospace\">          ┌───┐┌──────┐┌─┐      \n",
       "q17149_0: ┤ X ├┤0     ├┤M├──────\n",
       "          └───┘│      │└╥┘┌─┐   \n",
       "q17149_1: ─────┤1 evo ├─╫─┤M├───\n",
       "               │      │ ║ └╥┘┌─┐\n",
       "q17149_2: ─────┤2     ├─╫──╫─┤M├\n",
       "               └──────┘ ║  ║ └╥┘\n",
       "  c194: 3/══════════════╩══╩══╩═\n",
       "                        0  1  2 </pre>"
      ],
      "text/plain": [
       "          ┌───┐┌──────┐┌─┐      \n",
       "q17149_0: ┤ X ├┤0     ├┤M├──────\n",
       "          └───┘│      │└╥┘┌─┐   \n",
       "q17149_1: ─────┤1 evo ├─╫─┤M├───\n",
       "               │      │ ║ └╥┘┌─┐\n",
       "q17149_2: ─────┤2     ├─╫──╫─┤M├\n",
       "               └──────┘ ║  ║ └╥┘\n",
       "  c194: 3/══════════════╩══╩══╩═\n",
       "                        0  1  2 "
      ]
     },
     "execution_count": 398,
     "metadata": {},
     "output_type": "execute_result"
    }
   ],
   "source": [
    "calib_circuits_itself[1].draw()"
   ]
  },
  {
   "cell_type": "code",
   "execution_count": 399,
   "metadata": {},
   "outputs": [],
   "source": [
    "job_tomo=execute(qcs_tomo, backend, shots=shots, initial_layout=[1,3,5])\n",
    "\n",
    "job_cal_our_identity=execute(calib_circuits_identity, backend = backend, shots=shots, initial_layout=[1,3,5])\n",
    "\n",
    "job_cal_our_itself=execute(calib_circuits_itself, backend = backend, shots=shots, initial_layout=[1,3,5])\n",
    "\n",
    "job_cal_qiskit=execute(cal_circ, backend, shots=shots, initial_layout=[1,3,5])"
   ]
  },
  {
   "cell_type": "code",
   "execution_count": 400,
   "metadata": {},
   "outputs": [],
   "source": [
    "meas_fitter_our_identity = CompleteMeasFitter(job_cal_our_identity.result(), state_labels=state_labels)\n",
    "meas_fitter_our_itself = CompleteMeasFitter(job_cal_our_itself.result(), state_labels=state_labels)\n",
    "meas_fitter_qiskit = CompleteMeasFitter(job_cal_qiskit.result(), state_labels=state_labels)"
   ]
  },
  {
   "cell_type": "code",
   "execution_count": 401,
   "metadata": {},
   "outputs": [
    {
     "data": {
      "text/latex": [
       "$\\displaystyle \\left[\\begin{matrix}0.94278125 & 0.04878125 & 0.03434375 & 0.00140625 & 0.03078125 & 0.00159375 & 0.00128125 & 0.00015625\\\\0.01834375 & 0.9125625 & 0.00059375 & 0.03203125 & 0.0006875 & 0.0298125 & 0 & 0.001375\\\\0.01040625 & 0.00059375 & 0.9174375 & 0.04909375 & 0.0001875 & 3.125 \\cdot 10^{-5} & 0.03159375 & 0.001375\\\\0.00040625 & 0.00996875 & 0.017625 & 0.889 & 0 & 0.0003125 & 0.00059375 & 0.03003125\\\\0.0273125 & 0.0011875 & 0.0013125 & 0.000125 & 0.9378125 & 0.0505 & 0.0345625 & 0.001625\\\\0.00040625 & 0.02671875 & 0 & 0.0008125 & 0.01865625 & 0.90703125 & 0.0005 & 0.03303125\\\\0.00034375 & 3.125 \\cdot 10^{-5} & 0.02809375 & 0.001375 & 0.0115 & 0.00071875 & 0.913625 & 0.04853125\\\\0 & 0.00015625 & 0.00059375 & 0.02615625 & 0.000375 & 0.01 & 0.01784375 & 0.883875\\end{matrix}\\right]$"
      ],
      "text/plain": [
       "Matrix([\n",
       "[0.94278125, 0.04878125, 0.03434375, 0.00140625, 0.03078125, 0.00159375, 0.00128125, 0.00015625],\n",
       "[0.01834375,  0.9125625, 0.00059375, 0.03203125,  0.0006875,  0.0298125,          0,   0.001375],\n",
       "[0.01040625, 0.00059375,  0.9174375, 0.04909375,  0.0001875,   3.125e-5, 0.03159375,   0.001375],\n",
       "[0.00040625, 0.00996875,   0.017625,      0.889,          0,  0.0003125, 0.00059375, 0.03003125],\n",
       "[ 0.0273125,  0.0011875,  0.0013125,   0.000125,  0.9378125,     0.0505,  0.0345625,   0.001625],\n",
       "[0.00040625, 0.02671875,          0,  0.0008125, 0.01865625, 0.90703125,     0.0005, 0.03303125],\n",
       "[0.00034375,   3.125e-5, 0.02809375,   0.001375,     0.0115, 0.00071875,   0.913625, 0.04853125],\n",
       "[         0, 0.00015625, 0.00059375, 0.02615625,   0.000375,       0.01, 0.01784375,   0.883875]])"
      ]
     },
     "execution_count": 401,
     "metadata": {},
     "output_type": "execute_result"
    }
   ],
   "source": [
    "Matrix(meas_fitter_qiskit.cal_matrix)"
   ]
  },
  {
   "cell_type": "code",
   "execution_count": 402,
   "metadata": {},
   "outputs": [
    {
     "data": {
      "text/latex": [
       "$\\displaystyle \\left[\\begin{matrix}0.891125 & 0.061625 & 0.04278125 & 0.0039375 & 0.0401875 & 0.00309375 & 0.00325 & 0.0130625\\\\0.0315625 & 0.8649375 & 0.002625 & 0.04109375 & 0.00228125 & 0.0401875 & 0.0124375 & 0.00296875\\\\0.02303125 & 0.0019375 & 0.8713125 & 0.062875 & 0.00240625 & 0.012625 & 0.03834375 & 0.002625\\\\0.0013125 & 0.02065625 & 0.0306875 & 0.83940625 & 0.014375 & 0.0019375 & 0.00175 & 0.03721875\\\\0.03646875 & 0.003 & 0.00234375 & 0.01315625 & 0.88596875 & 0.0613125 & 0.04375 & 0.00403125\\\\0.001625 & 0.034125 & 0.01275 & 0.002875 & 0.032125 & 0.8575625 & 0.00184375 & 0.0415\\\\0.0024375 & 0.012125 & 0.0358125 & 0.00278125 & 0.0211875 & 0.0018125 & 0.867 & 0.06140625\\\\0.0124375 & 0.00159375 & 0.0016875 & 0.033875 & 0.00146875 & 0.02146875 & 0.031625 & 0.8371875\\end{matrix}\\right]$"
      ],
      "text/plain": [
       "Matrix([\n",
       "[  0.891125,   0.061625, 0.04278125,  0.0039375,  0.0401875, 0.00309375,    0.00325,  0.0130625],\n",
       "[ 0.0315625,  0.8649375,   0.002625, 0.04109375, 0.00228125,  0.0401875,  0.0124375, 0.00296875],\n",
       "[0.02303125,  0.0019375,  0.8713125,   0.062875, 0.00240625,   0.012625, 0.03834375,   0.002625],\n",
       "[ 0.0013125, 0.02065625,  0.0306875, 0.83940625,   0.014375,  0.0019375,    0.00175, 0.03721875],\n",
       "[0.03646875,      0.003, 0.00234375, 0.01315625, 0.88596875,  0.0613125,    0.04375, 0.00403125],\n",
       "[  0.001625,   0.034125,    0.01275,   0.002875,   0.032125,  0.8575625, 0.00184375,     0.0415],\n",
       "[ 0.0024375,   0.012125,  0.0358125, 0.00278125,  0.0211875,  0.0018125,      0.867, 0.06140625],\n",
       "[ 0.0124375, 0.00159375,  0.0016875,   0.033875, 0.00146875, 0.02146875,   0.031625,  0.8371875]])"
      ]
     },
     "execution_count": 402,
     "metadata": {},
     "output_type": "execute_result"
    }
   ],
   "source": [
    "Matrix(meas_fitter_our_identity.cal_matrix)"
   ]
  },
  {
   "cell_type": "code",
   "execution_count": 403,
   "metadata": {},
   "outputs": [],
   "source": [
    "U_tilde_identity=meas_fitter_our_identity.cal_matrix\n",
    "U_tilde_itself=meas_fitter_our_itself.cal_matrix\n",
    "U_tilde_qiskit=meas_fitter_qiskit.cal_matrix"
   ]
  },
  {
   "cell_type": "code",
   "execution_count": 404,
   "metadata": {},
   "outputs": [],
   "source": [
    "def matrix_from_cirquit(qc, phase=0, type=\"sympy\"):\n",
    "\n",
    "    backend = Aer.get_backend('unitary_simulator')\n",
    "    job = execute(qc, backend, shots=32000)\n",
    "    result = job.result()\n",
    "    A=result.get_unitary(qc, decimals=10)*np.exp(1j*phase)\n",
    "    if type==\"sympy\":\n",
    "        return Matrix(A)\n",
    "    else:\n",
    "        return A"
   ]
  },
  {
   "cell_type": "code",
   "execution_count": 405,
   "metadata": {},
   "outputs": [
    {
     "data": {
      "text/html": [
       "<pre style=\"word-wrap: normal;white-space: pre;background: #fff0;line-height: 1.1;font-family: &quot;Courier New&quot;,Courier,monospace\">           ░ ┌─────┐ ┌───┐      ┌─┐   \n",
       "q18450_0: ─░─┤ Sdg ├─┤ H ├──────┤M├───\n",
       "           ░ └─┬─┬─┘ └───┘      └╥┘   \n",
       "q18450_1: ─░───┤M├───────────────╫────\n",
       "           ░   └╥┘  ┌─────┐┌───┐ ║ ┌─┐\n",
       "q18450_2: ─░────╫───┤ Sdg ├┤ H ├─╫─┤M├\n",
       "           ░    ║   └─────┘└───┘ ║ └╥┘\n",
       "  c208: 3/══════╩════════════════╩══╩═\n",
       "                1                0  2 </pre>"
      ],
      "text/plain": [
       "           ░ ┌─────┐ ┌───┐      ┌─┐   \n",
       "q18450_0: ─░─┤ Sdg ├─┤ H ├──────┤M├───\n",
       "           ░ └─┬─┬─┘ └───┘      └╥┘   \n",
       "q18450_1: ─░───┤M├───────────────╫────\n",
       "           ░   └╥┘  ┌─────┐┌───┐ ║ ┌─┐\n",
       "q18450_2: ─░────╫───┤ Sdg ├┤ H ├─╫─┤M├\n",
       "           ░    ║   └─────┘└───┘ ║ └╥┘\n",
       "  c208: 3/══════╩════════════════╩══╩═\n",
       "                1                0  2 "
      ]
     },
     "execution_count": 405,
     "metadata": {},
     "output_type": "execute_result"
    }
   ],
   "source": [
    "qr_basi = QuantumRegister(3)\n",
    "qc_basi = QuantumCircuit(qr_basi)\n",
    "\n",
    "qcs_basis = state_tomography_circuits(qc_basi, qr_basi)\n",
    "\n",
    "qcs_basis[0].remove_final_measurements()\n",
    "\n",
    "qcs_basis[16].draw()"
   ]
  },
  {
   "cell_type": "code",
   "execution_count": 406,
   "metadata": {},
   "outputs": [
    {
     "data": {
      "text/plain": [
       "array([[9.4278125e-01, 4.8781250e-02, 3.4343750e-02, 1.4062500e-03,\n",
       "        3.0781250e-02, 1.5937500e-03, 1.2812500e-03, 1.5625000e-04],\n",
       "       [1.8343750e-02, 9.1256250e-01, 5.9375000e-04, 3.2031250e-02,\n",
       "        6.8750000e-04, 2.9812500e-02, 0.0000000e+00, 1.3750000e-03],\n",
       "       [1.0406250e-02, 5.9375000e-04, 9.1743750e-01, 4.9093750e-02,\n",
       "        1.8750000e-04, 3.1250000e-05, 3.1593750e-02, 1.3750000e-03],\n",
       "       [4.0625000e-04, 9.9687500e-03, 1.7625000e-02, 8.8900000e-01,\n",
       "        0.0000000e+00, 3.1250000e-04, 5.9375000e-04, 3.0031250e-02],\n",
       "       [2.7312500e-02, 1.1875000e-03, 1.3125000e-03, 1.2500000e-04,\n",
       "        9.3781250e-01, 5.0500000e-02, 3.4562500e-02, 1.6250000e-03],\n",
       "       [4.0625000e-04, 2.6718750e-02, 0.0000000e+00, 8.1250000e-04,\n",
       "        1.8656250e-02, 9.0703125e-01, 5.0000000e-04, 3.3031250e-02],\n",
       "       [3.4375000e-04, 3.1250000e-05, 2.8093750e-02, 1.3750000e-03,\n",
       "        1.1500000e-02, 7.1875000e-04, 9.1362500e-01, 4.8531250e-02],\n",
       "       [0.0000000e+00, 1.5625000e-04, 5.9375000e-04, 2.6156250e-02,\n",
       "        3.7500000e-04, 1.0000000e-02, 1.7843750e-02, 8.8387500e-01]])"
      ]
     },
     "execution_count": 406,
     "metadata": {},
     "output_type": "execute_result"
    }
   ],
   "source": [
    "meas_fitter_qiskit.cal_matrix"
   ]
  },
  {
   "cell_type": "code",
   "execution_count": 407,
   "metadata": {},
   "outputs": [],
   "source": [
    "C_matrices_itself = []\n",
    "C_matrices_identity = []\n",
    "\n",
    "C_itself = np.matmul(U_tilde_itself, np.linalg.inv(U_ideal))\n",
    "C_identity = U_tilde_identity\n",
    "\n",
    "for base in qcs_basis:\n",
    "    \n",
    "    base.remove_final_measurements()\n",
    "\n",
    "    base_matrix = np.matrix(matrix_from_cirquit(base, type=\"numpy\"))\n",
    "    base_matrix_H = base_matrix.getH()\n",
    "\n",
    "    C_aus_itself = np.linalg.multi_dot([U_tilde_qiskit, base_matrix, np.linalg.inv(U_tilde_qiskit), U_tilde_itself, np.linalg.inv(U_ideal),  base_matrix_H])\n",
    "    #C_aus_itself = np.linalg.multi_dot([base_matrix, U_tilde_qiskit, np.linalg.inv(U_tilde_qiskit), C_itself])\n",
    "    C_aus_identity = np.matmul(base_matrix, np.matmul(C_identity, base_matrix_H))\n",
    "\n",
    "    C_matrices_identity.append(np.asarray(C_aus_identity))\n",
    "    C_matrices_itself.append(np.asarray(C_aus_itself))"
   ]
  },
  {
   "cell_type": "code",
   "execution_count": 408,
   "metadata": {},
   "outputs": [],
   "source": [
    "from copy import deepcopy\n",
    "\n",
    "meas_fitters_identity = []\n",
    "meas_fitters_itself = []\n",
    "\n",
    "for C_new in C_matrices_identity:\n",
    "    meas_fitter_our_aus = deepcopy(meas_fitter_our_identity)\n",
    "    meas_fitter_our_aus._tens_fitt.cal_matrices[0]=C_new\n",
    "\n",
    "    meas_fitters_identity.append(meas_fitter_our_aus)\n",
    "\n",
    "for C_new in C_matrices_itself:\n",
    "    meas_fitter_our_aus = deepcopy(meas_fitter_our_itself)\n",
    "    meas_fitter_our_aus._tens_fitt.cal_matrices[0]=C_new\n",
    "\n",
    "    meas_fitters_itself.append(meas_fitter_our_aus)"
   ]
  },
  {
   "cell_type": "code",
   "execution_count": 409,
   "metadata": {},
   "outputs": [],
   "source": [
    "target_state = (One^One^Zero).to_matrix()\n",
    "#target_state = (Zero^One^One).to_matrix()\n",
    "\n",
    "\n",
    "fids=np.zeros(4)\n",
    "\n",
    "raw_res=deepcopy(job_tomo.result())\n",
    "qiskit_res=deepcopy(raw_res)\n",
    "identity_res=deepcopy(raw_res)\n",
    "itself_res=deepcopy(raw_res)"
   ]
  },
  {
   "cell_type": "code",
   "execution_count": 410,
   "metadata": {},
   "outputs": [
    {
     "data": {
      "text/plain": [
       "{'101': 446,\n",
       " '011': 87,\n",
       " '111': 487,\n",
       " '110': 7135,\n",
       " '100': 1113,\n",
       " '001': 545,\n",
       " '010': 740,\n",
       " '000': 21447}"
      ]
     },
     "execution_count": 410,
     "metadata": {},
     "output_type": "execute_result"
    }
   ],
   "source": [
    "raw_res.get_counts(-1)"
   ]
  },
  {
   "cell_type": "code",
   "execution_count": 411,
   "metadata": {},
   "outputs": [],
   "source": [
    "for i in range(27):\n",
    "\n",
    "    old_counts=raw_res.get_counts(i)\n",
    "    new_counts_qiskit = meas_fitter_qiskit.filter.apply(old_counts, method=\"least_squares\")\n",
    "    qiskit_res.results[i].data.counts = new_counts_qiskit\n",
    "\n",
    "    new_counts_id = meas_fitters_identity[i].filter.apply(old_counts, method=\"least_squares\")\n",
    "    identity_res.results[i].data.counts = new_counts_id\n",
    "\n",
    "    new_counts_it = meas_fitters_itself[i].filter.apply(old_counts, method=\"least_squares\")\n",
    "    itself_res.results[i].data.counts = new_counts_it"
   ]
  },
  {
   "cell_type": "code",
   "execution_count": 412,
   "metadata": {},
   "outputs": [
    {
     "data": {
      "text/plain": [
       "{'000': 22713.751085613632,\n",
       " '001': 122.6669292084361,\n",
       " '010': 277.37892737866343,\n",
       " '011': 62.19135622263497,\n",
       " '100': 213.25439620664054,\n",
       " '101': 455.1146263845855,\n",
       " '110': 7768.784724854141,\n",
       " '111': 386.8579541312636}"
      ]
     },
     "execution_count": 412,
     "metadata": {},
     "output_type": "execute_result"
    }
   ],
   "source": [
    "qiskit_res.get_counts(-1)"
   ]
  },
  {
   "cell_type": "code",
   "execution_count": 413,
   "metadata": {},
   "outputs": [
    {
     "data": {
      "text/latex": [
       "$\\displaystyle \\left[\\begin{matrix}0.353553390593274\\\\0.353553390593274\\\\0.353553390593274\\\\0.353553390593274\\\\0.353553390593274\\\\0.353553390593274\\\\0.353553390593274\\\\0.353553390593274\\end{matrix}\\right]$"
      ],
      "text/plain": [
       "Matrix([\n",
       "[0.353553390593274],\n",
       "[0.353553390593274],\n",
       "[0.353553390593274],\n",
       "[0.353553390593274],\n",
       "[0.353553390593274],\n",
       "[0.353553390593274],\n",
       "[0.353553390593274],\n",
       "[0.353553390593274]])"
      ]
     },
     "execution_count": 413,
     "metadata": {},
     "output_type": "execute_result"
    }
   ],
   "source": [
    "It_comp=occurrences_to_vector(itself_res.get_counts(-1))/(shots)\n",
    "It_H=np.dot(Had3,It_comp)\n",
    "Matrix(It_H)"
   ]
  },
  {
   "cell_type": "code",
   "execution_count": null,
   "metadata": {},
   "outputs": [],
   "source": []
  },
  {
   "cell_type": "code",
   "execution_count": 414,
   "metadata": {},
   "outputs": [
    {
     "data": {
      "text/plain": [
       "{'000': 32000.0, '110': 0.22309926336023794}"
      ]
     },
     "execution_count": 414,
     "metadata": {},
     "output_type": "execute_result"
    }
   ],
   "source": [
    "itself_res.get_counts(0)"
   ]
  },
  {
   "cell_type": "code",
   "execution_count": 415,
   "metadata": {},
   "outputs": [
    {
     "data": {
      "text/plain": [
       "{'000': 5.78598877542285e-09,\n",
       " '001': 1.2575419323893588e-08,\n",
       " '010': 3.7851656153998905e-08,\n",
       " '011': 23580.23765051628,\n",
       " '100': 7.928278037087977e-09,\n",
       " '101': 361.37887418200364,\n",
       " '110': 7975.044178225243,\n",
       " '111': 83.33929701233265}"
      ]
     },
     "execution_count": 415,
     "metadata": {},
     "output_type": "execute_result"
    }
   ],
   "source": [
    "itself_res.get_counts(-1)"
   ]
  },
  {
   "cell_type": "code",
   "execution_count": 416,
   "metadata": {},
   "outputs": [
    {
     "data": {
      "text/plain": [
       "{'000': 23829.040022209247,\n",
       " '001': 7.228068217795152e-08,\n",
       " '010': 2.4400952394119447e-08,\n",
       " '011': 6.366360637851005e-11,\n",
       " '100': 2.5698301118358706e-08,\n",
       " '101': 226.06529604758725,\n",
       " '110': 7944.894681619895,\n",
       " '111': 8.079580261745787e-09}"
      ]
     },
     "execution_count": 416,
     "metadata": {},
     "output_type": "execute_result"
    }
   ],
   "source": [
    "identity_res.get_counts(-1)"
   ]
  },
  {
   "cell_type": "code",
   "execution_count": 34,
   "metadata": {},
   "outputs": [
    {
     "data": {
      "text/plain": [
       "array([0.22265018, 0.24232849, 0.24212155, 0.20610262])"
      ]
     },
     "execution_count": 34,
     "metadata": {},
     "output_type": "execute_result"
    }
   ],
   "source": [
    "fids[0] = fidelity_count(raw_res, qcs_tomo, target_state)\n",
    "fids[1] = fidelity_count(qiskit_res, qcs_tomo, target_state)\n",
    "fids[2] = fidelity_count(identity_res, qcs_tomo, target_state)\n",
    "fids[3] = fidelity_count(itself_res, qcs_tomo, target_state)\n",
    "\n",
    "fids"
   ]
  },
  {
   "cell_type": "code",
   "execution_count": 35,
   "metadata": {},
   "outputs": [
    {
     "data": {
      "text/plain": [
       "array([2.38290400e+04, 7.22806822e-08, 2.44009524e-08, 6.36636064e-11,\n",
       "       2.56983011e-08, 2.26065296e+02, 7.94489468e+03, 8.07958026e-09])"
      ]
     },
     "execution_count": 35,
     "metadata": {},
     "output_type": "execute_result"
    }
   ],
   "source": [
    "occurrences_to_vector(identity_res.get_counts(-1))"
   ]
  },
  {
   "cell_type": "code",
   "execution_count": null,
   "metadata": {},
   "outputs": [],
   "source": []
  },
  {
   "cell_type": "code",
   "execution_count": null,
   "metadata": {},
   "outputs": [],
   "source": []
  }
 ],
 "metadata": {
  "interpreter": {
   "hash": "aee8b7b246df8f9039afb4144a1f6fd8d2ca17a180786b69acc140d282b71a49"
  },
  "kernelspec": {
   "display_name": "Python 3.10.2 64-bit",
   "language": "python",
   "name": "python3"
  },
  "language_info": {
   "codemirror_mode": {
    "name": "ipython",
    "version": 3
   },
   "file_extension": ".py",
   "mimetype": "text/x-python",
   "name": "python",
   "nbconvert_exporter": "python",
   "pygments_lexer": "ipython3",
   "version": "3.8.0"
  },
  "orig_nbformat": 4
 },
 "nbformat": 4,
 "nbformat_minor": 2
}
