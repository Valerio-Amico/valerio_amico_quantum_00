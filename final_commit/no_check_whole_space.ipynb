{
 "cells": [
  {
   "cell_type": "code",
   "execution_count": 1,
   "metadata": {},
   "outputs": [],
   "source": [
    "from lib.functions0 import *\n",
    "from lib.utility import *\n",
    "import numpy as np\n",
    "from scipy.linalg import expm\n",
    "from qiskit.utils.mitigation.fitters import CompleteMeasFitter\n",
    "from qiskit.ignis.mitigation.measurement import  complete_meas_cal\n",
    "from qiskit import Aer, assemble, QuantumCircuit, QuantumRegister, ClassicalRegister, IBMQ, transpile, execute\n",
    "from qiskit.providers.aer import AerSimulator, QasmSimulator\n",
    "from qiskit.opflow import Zero, One, I, X, Y, Z\n",
    "from qiskit.ignis.verification.tomography import state_tomography_circuits, StateTomographyFitter\n",
    "from qiskit.quantum_info import state_fidelity\n",
    "import matplotlib.pyplot as plt\n",
    "#%load_ext autoreload\n",
    "#%autoreload 2\n",
    "import warnings\n",
    "warnings.filterwarnings('ignore')\n",
    "IBMQ.load_account()\n",
    "provider = IBMQ.get_provider(hub='ibm-q-community',\n",
    "                            group='ibmquantumawards', \n",
    "                            project='open-science-22')\n",
    "\n",
    "backend_sim_jakarta = QasmSimulator.from_backend(provider.get_backend('ibmq_jakarta'))\n",
    "backend_real_jakarta = provider.get_backend('ibmq_jakarta')\n",
    "backend_sim = Aer.get_backend('qasm_simulator')"
   ]
  },
  {
   "cell_type": "code",
   "execution_count": 2,
   "metadata": {},
   "outputs": [
    {
     "data": {
      "text/plain": [
       "'/Library/Frameworks/Python.framework/Versions/3.10/lib/python3.10/site-packages/qiskit/utils/mitigation/fitters.py'"
      ]
     },
     "execution_count": 2,
     "metadata": {},
     "output_type": "execute_result"
    }
   ],
   "source": [
    "import qiskit\n",
    "qiskit.utils.mitigation.fitters.__file__"
   ]
  },
  {
   "cell_type": "code",
   "execution_count": 3,
   "metadata": {},
   "outputs": [
    {
     "data": {
      "text/latex": [
       "$\\displaystyle \\left[\\begin{matrix}-1.0 & 0 & 0 & 0 & 0 & 0 & 0 & 0\\\\0 & 0.333 + 0.000129 i & -0.667 + 0.000129 i & 0 & -0.667 - 0.000258 i & 0 & 0 & 0\\\\0 & -0.667 + 0.000129 i & 0.333 - 0.000258 i & 0 & -0.667 + 0.000129 i & 0 & 0 & 0\\\\0 & 0 & 0 & 0.333 + 0.000129 i & 0 & -0.667 + 0.000129 i & -0.667 - 0.000258 i & 0\\\\0 & -0.667 - 0.000258 i & -0.667 + 0.000129 i & 0 & 0.333 + 0.000129 i & 0 & 0 & 0\\\\0 & 0 & 0 & -0.667 + 0.000129 i & 0 & 0.333 - 0.000258 i & -0.667 + 0.000129 i & 0\\\\0 & 0 & 0 & -0.667 - 0.000258 i & 0 & -0.667 + 0.000129 i & 0.333 + 0.000129 i & 0\\\\0 & 0 & 0 & 0 & 0 & 0 & 0 & -1.0\\end{matrix}\\right]$"
      ],
      "text/plain": [
       "Matrix([\n",
       "[-1.0,                   0,                   0,                   0,                   0,                   0,                   0,    0],\n",
       "[   0,  0.333 + 0.000129*I, -0.667 + 0.000129*I,                   0, -0.667 - 0.000258*I,                   0,                   0,    0],\n",
       "[   0, -0.667 + 0.000129*I,  0.333 - 0.000258*I,                   0, -0.667 + 0.000129*I,                   0,                   0,    0],\n",
       "[   0,                   0,                   0,  0.333 + 0.000129*I,                   0, -0.667 + 0.000129*I, -0.667 - 0.000258*I,    0],\n",
       "[   0, -0.667 - 0.000258*I, -0.667 + 0.000129*I,                   0,  0.333 + 0.000129*I,                   0,                   0,    0],\n",
       "[   0,                   0,                   0, -0.667 + 0.000129*I,                   0,  0.333 - 0.000258*I, -0.667 + 0.000129*I,    0],\n",
       "[   0,                   0,                   0, -0.667 - 0.000258*I,                   0, -0.667 + 0.000129*I,  0.333 + 0.000129*I,    0],\n",
       "[   0,                   0,                   0,                   0,                   0,                   0,                   0, -1.0]])"
      ]
     },
     "execution_count": 3,
     "metadata": {},
     "output_type": "execute_result"
    }
   ],
   "source": [
    "n_steps=100\n",
    "time=np.pi/2\n",
    "#initial_state={\"110\": 1}\n",
    "shots = 32000\n",
    "backend = backend_sim_jakarta\n",
    "\n",
    "X = np.array([[0,1],[1,0]])  #defining the pauli matrices\n",
    "Y = np.array([[0,-1j],[1j,0]])\n",
    "Z = np.array([[1,0],[0,-1]])\n",
    "H = np.array([[1/np.sqrt(2),1/np.sqrt(2)],[1/np.sqrt(2),-1/np.sqrt(2)]])\n",
    "Id = np.eye(2)\n",
    "\n",
    "# defining the hamiltonian divided in: \n",
    "#       - H1: first two qubits interactions.\n",
    "#       - H2: second two qubits interactions.\n",
    "\n",
    "H1 = np.kron(X, np.kron(X,Id)) + np.kron(Y, np.kron(Y,Id)) + np.kron(Z, np.kron(Z,Id)) \n",
    "H2 = np.kron(Id, np.kron(X,X)) + np.kron(Id, np.kron(Y,Y)) + np.kron(Id, np.kron(Z,Z)) \n",
    "\n",
    "Had3=np.kron(H, np.kron(H,H))\n",
    "\n",
    "# building numerically the trotter step matrix, and the whole operator (trotter step)^n_steps.\n",
    "\n",
    "trotter_step_matrix_= expm(-time/n_steps*H1*1j).dot(expm(-time/n_steps*H2*1j))\n",
    "trotterized = np.linalg.matrix_power(trotter_step_matrix_, n_steps)\n",
    "Matrix(trotterized).n(3, chop=True)\n",
    "#Matrix(Had3)"
   ]
  },
  {
   "cell_type": "code",
   "execution_count": 4,
   "metadata": {},
   "outputs": [
    {
     "data": {
      "image/png": "[encoded data removed]",
      "text/plain": [
       "<Figure size 507.997x204.68 with 1 Axes>"
      ]
     },
     "execution_count": 4,
     "metadata": {},
     "output_type": "execute_result"
    }
   ],
   "source": [
    "qr=QuantumRegister(3, name=\"q\")\n",
    "B_qc=QuantumCircuit(qr, name=\"B\")\n",
    "B_qc.x(qr[2])\n",
    "B_qc.cx(qr[1],qr[0])\n",
    "B_qc.cx(qr[2],qr[1])\n",
    "B_qc.cx(qr[1],qr[0])\n",
    "B_qc.x([qr[0],qr[1],qr[2]])\n",
    "B_qc.append(Toffoli_gate,[qr[0],qr[1],qr[2]])\n",
    "B_qc.x([qr[0],qr[1]])\n",
    "\n",
    "B_qc.draw(output=\"mpl\")"
   ]
  },
  {
   "cell_type": "code",
   "execution_count": 5,
   "metadata": {},
   "outputs": [
    {
     "data": {
      "text/latex": [
       "$\\displaystyle \\left[\\begin{matrix}0 & 0 & 0 & 0 & 1.0 & 0 & 0 & 0\\\\0 & 0 & 1.0 & 0 & 0 & 0 & 0 & 0\\\\0 & 1.0 & 0 & 0 & 0 & 0 & 0 & 0\\\\1.0 & 0 & 0 & 0 & 0 & 0 & 0 & 0\\\\0 & 0 & 0 & 1.0 & 0 & 0 & 0 & 0\\\\0 & 0 & 0 & 0 & 0 & 1.0 & 0 & 0\\\\0 & 0 & 0 & 0 & 0 & 0 & 1.0 & 0\\\\0 & 0 & 0 & 0 & 0 & 0 & 0 & 1.0\\end{matrix}\\right]$"
      ],
      "text/plain": [
       "Matrix([\n",
       "[  0,   0,   0,   0, 1.0,   0,   0,   0],\n",
       "[  0,   0, 1.0,   0,   0,   0,   0,   0],\n",
       "[  0, 1.0,   0,   0,   0,   0,   0,   0],\n",
       "[1.0,   0,   0,   0,   0,   0,   0,   0],\n",
       "[  0,   0,   0, 1.0,   0,   0,   0,   0],\n",
       "[  0,   0,   0,   0,   0, 1.0,   0,   0],\n",
       "[  0,   0,   0,   0,   0,   0, 1.0,   0],\n",
       "[  0,   0,   0,   0,   0,   0,   0, 1.0]])"
      ]
     },
     "execution_count": 5,
     "metadata": {},
     "output_type": "execute_result"
    }
   ],
   "source": [
    "B=matrix_from_circuit(B_qc)\n",
    "B"
   ]
  },
  {
   "cell_type": "code",
   "execution_count": 6,
   "metadata": {},
   "outputs": [
    {
     "data": {
      "image/png": "[encoded data removed]",
      "text/plain": [
       "<Figure size 1110x204.68 with 1 Axes>"
      ]
     },
     "execution_count": 6,
     "metadata": {},
     "output_type": "execute_result"
    }
   ],
   "source": [
    "transpile(B_qc, basis_gates=[\"cx\", \"x\", \"rz\", \"sx\"]).draw(output=\"mpl\")"
   ]
  },
  {
   "cell_type": "code",
   "execution_count": 7,
   "metadata": {},
   "outputs": [
    {
     "data": {
      "text/latex": [
       "$\\displaystyle \\left[\\begin{matrix}0.33333 + 0.00012915 i & -0.66667 + 0.00012915 i & -0.66666 - 0.00025831 i & 0\\\\-0.66666 + 0.00012915 i & 0.33333 - 0.00025831 i & -0.66667 + 0.00012915 i & 0\\\\-0.66667 - 0.00025831 i & -0.66666 + 0.00012915 i & 0.33333 + 0.00012915 i & 0\\\\0 & 0 & 0 & -1.0 + 1.8771 \\cdot 10^{-16} i\\end{matrix}\\right]$"
      ],
      "text/plain": [
       "Matrix([\n",
       "[ 0.33333 + 0.00012915*I, -0.66667 + 0.00012915*I, -0.66666 - 0.00025831*I,                   0],\n",
       "[-0.66666 + 0.00012915*I,  0.33333 - 0.00025831*I, -0.66667 + 0.00012915*I,                   0],\n",
       "[-0.66667 - 0.00025831*I, -0.66666 + 0.00012915*I,  0.33333 + 0.00012915*I,                   0],\n",
       "[                      0,                       0,                       0, -1.0 + 1.8771e-16*I]])"
      ]
     },
     "execution_count": 7,
     "metadata": {},
     "output_type": "execute_result"
    }
   ],
   "source": [
    "#for _ in range(n_steps): # here is computed the evolution operator numerically, with n_steps trotter steps.\n",
    "#\n",
    "#    numeric_evolution_matrix=(numeric_evolution_matrix*trotter_step_matrix_(2*time/n_steps)).evalf(precision)\n",
    "\n",
    "\n",
    "M_N = B*trotterized*B.H\n",
    "M_N = Matrix([M_N[0:4],M_N[8:12],M_N[16:20],M_N[24:28]])\n",
    "M_N.evalf(5)"
   ]
  },
  {
   "cell_type": "code",
   "execution_count": 8,
   "metadata": {},
   "outputs": [
    {
     "data": {
      "image/png": "[encoded data removed]",
      "text/plain": [
       "<Figure size 1049.65x144.48 with 1 Axes>"
      ]
     },
     "execution_count": 8,
     "metadata": {},
     "output_type": "execute_result"
    }
   ],
   "source": [
    "qc=QuantumCircuit(2, name=\"$M^N$\")\n",
    "qc.unitary(M_N,[0,1])    \n",
    "M_N_qc=transpile(qc,basis_gates=['cx','x','sx','rz']) \n",
    "\n",
    "M_N_qc.draw(output=\"mpl\")"
   ]
  },
  {
   "cell_type": "code",
   "execution_count": 9,
   "metadata": {},
   "outputs": [
    {
     "data": {
      "image/png": "[encoded data removed]",
      "text/plain": [
       "<Figure size 267.197x204.68 with 1 Axes>"
      ]
     },
     "execution_count": 9,
     "metadata": {},
     "output_type": "execute_result"
    }
   ],
   "source": [
    "initial_state=\"000\"\n",
    "\n",
    "qr_U = QuantumRegister(3, name=\"q\")\n",
    "qc_U = QuantumCircuit(qr_U, name=\"evo\")\n",
    "\n",
    "### preparing the initial state\n",
    "\n",
    "l=0\n",
    "for k in [2,1,0]:\n",
    "    if initial_state[l]=='1':\n",
    "        qc_U.x(qr_U[k])\n",
    "    l+=1\n",
    "\n",
    "### appending the evolution\n",
    "\n",
    "qc_U.append(M_N_qc,[qr_U[0],qr_U[1]])\n",
    "qc_U.append(B_qc.inverse(),[qr_U[0],qr_U[1],qr_U[2]])\n",
    "\n",
    "qc_U.draw(output=\"mpl\")"
   ]
  },
  {
   "cell_type": "code",
   "execution_count": 10,
   "metadata": {},
   "outputs": [
    {
     "data": {
      "text/latex": [
       "$\\displaystyle \\left[\\begin{matrix}0 & 0 & 0 & -1.0 & 0 & 0 & 0 & 0\\\\-0.6666727298 - 0.0002583059 i & -0.6666605534 + 0.000129153 i & 0.3333332833 + 0.000129153 i & 0 & 0 & 0 & 0 & 0\\\\-0.6666605534 + 0.000129153 i & 0.3333332833 - 0.0002583059 i & -0.6666727298 + 0.000129153 i & 0 & 0 & 0 & 0 & 0\\\\0 & 0 & 0 & 0 & 0.3333332833 + 0.000129153 i & -0.6666727298 + 0.000129153 i & -0.6666605534 - 0.0002583059 i & 0\\\\0.3333332833 + 0.000129153 i & -0.6666727298 + 0.000129153 i & -0.6666605534 - 0.0002583059 i & 0 & 0 & 0 & 0 & 0\\\\0 & 0 & 0 & 0 & -0.6666605534 + 0.000129153 i & 0.3333332833 - 0.0002583059 i & -0.6666727298 + 0.000129153 i & 0\\\\0 & 0 & 0 & 0 & -0.6666727298 - 0.0002583059 i & -0.6666605534 + 0.000129153 i & 0.3333332833 + 0.000129153 i & 0\\\\0 & 0 & 0 & 0 & 0 & 0 & 0 & -1.0\\end{matrix}\\right]$"
      ],
      "text/plain": [
       "Matrix([\n",
       "[                             0,                             0,                              0, -1.0,                              0,                             0,                              0,    0],\n",
       "[-0.6666727298 - 0.0002583059*I, -0.6666605534 + 0.000129153*I,   0.3333332833 + 0.000129153*I,    0,                              0,                             0,                              0,    0],\n",
       "[ -0.6666605534 + 0.000129153*I, 0.3333332833 - 0.0002583059*I,  -0.6666727298 + 0.000129153*I,    0,                              0,                             0,                              0,    0],\n",
       "[                             0,                             0,                              0,    0,   0.3333332833 + 0.000129153*I, -0.6666727298 + 0.000129153*I, -0.6666605534 - 0.0002583059*I,    0],\n",
       "[  0.3333332833 + 0.000129153*I, -0.6666727298 + 0.000129153*I, -0.6666605534 - 0.0002583059*I,    0,                              0,                             0,                              0,    0],\n",
       "[                             0,                             0,                              0,    0,  -0.6666605534 + 0.000129153*I, 0.3333332833 - 0.0002583059*I,  -0.6666727298 + 0.000129153*I,    0],\n",
       "[                             0,                             0,                              0,    0, -0.6666727298 - 0.0002583059*I, -0.6666605534 + 0.000129153*I,   0.3333332833 + 0.000129153*I,    0],\n",
       "[                             0,                             0,                              0,    0,                              0,                             0,                              0, -1.0]])"
      ]
     },
     "execution_count": 10,
     "metadata": {},
     "output_type": "execute_result"
    }
   ],
   "source": [
    "U_ideal=matrix_from_circuit(qc_U, type=\"numpy\")\n",
    "Matrix(U_ideal)"
   ]
  },
  {
   "cell_type": "code",
   "execution_count": 11,
   "metadata": {},
   "outputs": [
    {
     "data": {
      "image/png": "[encoded data removed]",
      "text/plain": [
       "<Figure size 507.997x264.88 with 1 Axes>"
      ]
     },
     "execution_count": 11,
     "metadata": {},
     "output_type": "execute_result"
    }
   ],
   "source": [
    "qr_evo = QuantumRegister(3, name=\"q\")\n",
    "qc_evo = QuantumCircuit(qr_evo, name=\"U\")\n",
    "\n",
    "qc_evo.x([qr_evo[1],qr_evo[2]])\n",
    "qc_evo.append(qc_U, qr_evo)\n",
    "\n",
    "qcs_tomo = state_tomography_circuits(qc_evo, qr_evo)\n",
    "qcs_tomo[3].draw(output=\"mpl\")"
   ]
  },
  {
   "cell_type": "code",
   "execution_count": 12,
   "metadata": {},
   "outputs": [],
   "source": [
    "qr_cal = QuantumRegister(3)\n",
    "cal_circ, state_labels = complete_meas_cal(qubit_list=[0,1,2], qr=qr_cal, circlabel='mcal')"
   ]
  },
  {
   "cell_type": "code",
   "execution_count": 13,
   "metadata": {},
   "outputs": [
    {
     "data": {
      "text/html": [
       "<pre style=\"word-wrap: normal;white-space: pre;background: #fff0;line-height: 1.1;font-family: &quot;Courier New&quot;,Courier,monospace\">        ░ ┌─┐      \n",
       "q94_0: ─░─┤M├──────\n",
       "        ░ └╥┘┌─┐   \n",
       "q94_1: ─░──╫─┤M├───\n",
       "        ░  ║ └╥┘┌─┐\n",
       "q94_2: ─░──╫──╫─┤M├\n",
       "        ░  ║  ║ └╥┘\n",
       " c1: 3/════╩══╩══╩═\n",
       "           0  1  2 </pre>"
      ],
      "text/plain": [
       "        ░ ┌─┐      \n",
       "q94_0: ─░─┤M├──────\n",
       "        ░ └╥┘┌─┐   \n",
       "q94_1: ─░──╫─┤M├───\n",
       "        ░  ║ └╥┘┌─┐\n",
       "q94_2: ─░──╫──╫─┤M├\n",
       "        ░  ║  ║ └╥┘\n",
       " c1: 3/════╩══╩══╩═\n",
       "           0  1  2 "
      ]
     },
     "execution_count": 13,
     "metadata": {},
     "output_type": "execute_result"
    }
   ],
   "source": [
    "cal_circ[0].draw()"
   ]
  },
  {
   "cell_type": "code",
   "execution_count": 14,
   "metadata": {},
   "outputs": [
    {
     "data": {
      "text/plain": [
       "['000', '001', '010', '011', '100', '101', '110', '111']"
      ]
     },
     "execution_count": 14,
     "metadata": {},
     "output_type": "execute_result"
    }
   ],
   "source": [
    "state_labels"
   ]
  },
  {
   "cell_type": "code",
   "execution_count": 15,
   "metadata": {},
   "outputs": [],
   "source": [
    "calib_circuits_identity = []\n",
    "calib_circuits_itself = []\n",
    "\n",
    "for i in state_labels:\n",
    "\n",
    "    cr_cal_itself = ClassicalRegister(3)\n",
    "    qr_cal_itself = QuantumRegister(3)\n",
    "    qc_cal_itself = QuantumCircuit(qr_cal_itself, cr_cal_itself, name=f\"mcalcal_{i}\")\n",
    "\n",
    "    cr_cal_id = ClassicalRegister(3)\n",
    "    qr_cal_id = QuantumRegister(3)\n",
    "    qc_cal_id = QuantumCircuit(qr_cal_id, cr_cal_id, name=f\"mcalcal_{i}\")\n",
    "\n",
    "    qc_cal_id.x(qr_cal_id)\n",
    "    qc_cal_id.append(qc_U, qr_cal_id)\n",
    "\n",
    "    for k in range(3):\n",
    "        if i[::-1][k] == \"1\":\n",
    "            qc_cal_itself.x(qr_cal_itself[k])\n",
    "        else:\n",
    "            qc_cal_id.x(qr_cal_id[k])\n",
    "        \n",
    "    qc_cal_itself.append(qc_U, qr_cal_itself)\n",
    "    \n",
    "    qc_cal_id.measure(qr_cal_id, cr_cal_id)\n",
    "    qc_cal_itself.measure(qr_cal_itself, cr_cal_itself)\n",
    "\n",
    "    calib_circuits_identity.append(qc_cal_id)\n",
    "    calib_circuits_itself.append(qc_cal_itself)"
   ]
  },
  {
   "cell_type": "code",
   "execution_count": 16,
   "metadata": {},
   "outputs": [
    {
     "data": {
      "text/html": [
       "<pre style=\"word-wrap: normal;white-space: pre;background: #fff0;line-height: 1.1;font-family: &quot;Courier New&quot;,Courier,monospace\">       ┌───┐┌──────┐     ┌─┐      \n",
       "q98_0: ┤ X ├┤0     ├─────┤M├──────\n",
       "       ├───┤│      │┌───┐└╥┘┌─┐   \n",
       "q98_1: ┤ X ├┤1 evo ├┤ X ├─╫─┤M├───\n",
       "       ├───┤│      │├───┤ ║ └╥┘┌─┐\n",
       "q98_2: ┤ X ├┤2     ├┤ X ├─╫──╫─┤M├\n",
       "       └───┘└──────┘└───┘ ║  ║ └╥┘\n",
       " c5: 3/═══════════════════╩══╩══╩═\n",
       "                          0  1  2 </pre>"
      ],
      "text/plain": [
       "       ┌───┐┌──────┐     ┌─┐      \n",
       "q98_0: ┤ X ├┤0     ├─────┤M├──────\n",
       "       ├───┤│      │┌───┐└╥┘┌─┐   \n",
       "q98_1: ┤ X ├┤1 evo ├┤ X ├─╫─┤M├───\n",
       "       ├───┤│      │├───┤ ║ └╥┘┌─┐\n",
       "q98_2: ┤ X ├┤2     ├┤ X ├─╫──╫─┤M├\n",
       "       └───┘└──────┘└───┘ ║  ║ └╥┘\n",
       " c5: 3/═══════════════════╩══╩══╩═\n",
       "                          0  1  2 "
      ]
     },
     "execution_count": 16,
     "metadata": {},
     "output_type": "execute_result"
    }
   ],
   "source": [
    "calib_circuits_identity[1].draw()"
   ]
  },
  {
   "cell_type": "code",
   "execution_count": 17,
   "metadata": {},
   "outputs": [
    {
     "data": {
      "text/html": [
       "<pre style=\"word-wrap: normal;white-space: pre;background: #fff0;line-height: 1.1;font-family: &quot;Courier New&quot;,Courier,monospace\">       ┌───┐┌──────┐┌─┐      \n",
       "q97_0: ┤ X ├┤0     ├┤M├──────\n",
       "       └───┘│      │└╥┘┌─┐   \n",
       "q97_1: ─────┤1 evo ├─╫─┤M├───\n",
       "            │      │ ║ └╥┘┌─┐\n",
       "q97_2: ─────┤2     ├─╫──╫─┤M├\n",
       "            └──────┘ ║  ║ └╥┘\n",
       " c4: 3/══════════════╩══╩══╩═\n",
       "                     0  1  2 </pre>"
      ],
      "text/plain": [
       "       ┌───┐┌──────┐┌─┐      \n",
       "q97_0: ┤ X ├┤0     ├┤M├──────\n",
       "       └───┘│      │└╥┘┌─┐   \n",
       "q97_1: ─────┤1 evo ├─╫─┤M├───\n",
       "            │      │ ║ └╥┘┌─┐\n",
       "q97_2: ─────┤2     ├─╫──╫─┤M├\n",
       "            └──────┘ ║  ║ └╥┘\n",
       " c4: 3/══════════════╩══╩══╩═\n",
       "                     0  1  2 "
      ]
     },
     "execution_count": 17,
     "metadata": {},
     "output_type": "execute_result"
    }
   ],
   "source": [
    "calib_circuits_itself[1].draw()"
   ]
  },
  {
   "cell_type": "code",
   "execution_count": 18,
   "metadata": {},
   "outputs": [],
   "source": [
    "job_tomo=execute(qcs_tomo, backend, shots=shots, initial_layout=[1,3,5])\n",
    "\n",
    "job_cal_our_identity=execute(calib_circuits_identity, backend = backend, shots=shots, initial_layout=[1,3,5])\n",
    "\n",
    "job_cal_our_itself=execute(calib_circuits_itself, backend = backend, shots=shots, initial_layout=[1,3,5])\n",
    "\n",
    "job_cal_qiskit=execute(cal_circ, backend, shots=shots, initial_layout=[1,3,5])"
   ]
  },
  {
   "cell_type": "code",
   "execution_count": 19,
   "metadata": {},
   "outputs": [],
   "source": [
    "meas_fitter_our_identity = CompleteMeasFitter(job_cal_our_identity.result(), state_labels=state_labels)\n",
    "meas_fitter_our_itself = CompleteMeasFitter(job_cal_our_itself.result(), state_labels=state_labels)\n",
    "meas_fitter_qiskit = CompleteMeasFitter(job_cal_qiskit.result(), state_labels=state_labels)"
   ]
  },
  {
   "cell_type": "code",
   "execution_count": 20,
   "metadata": {},
   "outputs": [
    {
     "data": {
      "text/latex": [
       "$\\displaystyle \\left[\\begin{matrix}0.94165625 & 0.05 & 0.03396875 & 0.00190625 & 0.03103125 & 0.0015625 & 0.00109375 & 0\\\\0.019125 & 0.91171875 & 0.0004375 & 0.0335625 & 0.00075 & 0.02978125 & 3.125 \\cdot 10^{-5} & 0.0013125\\\\0.01084375 & 0.000625 & 0.9185 & 0.04853125 & 0.00040625 & 3.125 \\cdot 10^{-5} & 0.03234375 & 0.00178125\\\\0.00025 & 0.01015625 & 0.0186875 & 0.887375 & 0 & 0.000375 & 0.0005625 & 0.02996875\\\\0.02734375 & 0.0014375 & 0.0010625 & 0.0001875 & 0.938625 & 0.04996875 & 0.0340625 & 0.00146875\\\\0.0004375 & 0.0256875 & 3.125 \\cdot 10^{-5} & 0.000875 & 0.01809375 & 0.907875 & 0.00053125 & 0.030875\\\\0.00034375 & 0 & 0.02678125 & 0.00134375 & 0.01096875 & 0.000375 & 0.913125 & 0.04959375\\\\0 & 0.000375 & 0.00053125 & 0.02621875 & 0.000125 & 0.01003125 & 0.01825 & 0.885\\end{matrix}\\right]$"
      ],
      "text/plain": [
       "Matrix([\n",
       "[0.94165625,       0.05, 0.03396875, 0.00190625, 0.03103125,  0.0015625, 0.00109375,          0],\n",
       "[  0.019125, 0.91171875,  0.0004375,  0.0335625,    0.00075, 0.02978125,   3.125e-5,  0.0013125],\n",
       "[0.01084375,   0.000625,     0.9185, 0.04853125, 0.00040625,   3.125e-5, 0.03234375, 0.00178125],\n",
       "[   0.00025, 0.01015625,  0.0186875,   0.887375,          0,   0.000375,  0.0005625, 0.02996875],\n",
       "[0.02734375,  0.0014375,  0.0010625,  0.0001875,   0.938625, 0.04996875,  0.0340625, 0.00146875],\n",
       "[ 0.0004375,  0.0256875,   3.125e-5,   0.000875, 0.01809375,   0.907875, 0.00053125,   0.030875],\n",
       "[0.00034375,          0, 0.02678125, 0.00134375, 0.01096875,   0.000375,   0.913125, 0.04959375],\n",
       "[         0,   0.000375, 0.00053125, 0.02621875,   0.000125, 0.01003125,    0.01825,      0.885]])"
      ]
     },
     "execution_count": 20,
     "metadata": {},
     "output_type": "execute_result"
    }
   ],
   "source": [
    "Matrix(meas_fitter_qiskit.cal_matrix)"
   ]
  },
  {
   "cell_type": "code",
   "execution_count": 21,
   "metadata": {},
   "outputs": [
    {
     "data": {
      "text/latex": [
       "$\\displaystyle \\left[\\begin{matrix}0.88684375 & 0.06015625 & 0.04678125 & 0.00953125 & 0.0395 & 0.00375 & 0.00321875 & 0.01\\\\0.02928125 & 0.85940625 & 0.0069375 & 0.04353125 & 0.00228125 & 0.039875 & 0.00975 & 0.002125\\\\0.02553125 & 0.008 & 0.86590625 & 0.05878125 & 0.00128125 & 0.00934375 & 0.04009375 & 0.003625\\\\0.00640625 & 0.02290625 & 0.0288125 & 0.83746875 & 0.00896875 & 0.00125 & 0.00221875 & 0.0393125\\\\0.03875 & 0.00303125 & 0.00228125 & 0.00890625 & 0.8850625 & 0.05903125 & 0.04775 & 0.00909375\\\\0.00221875 & 0.0359375 & 0.0095 & 0.00234375 & 0.02996875 & 0.85490625 & 0.00740625 & 0.0468125\\\\0.0016875 & 0.00928125 & 0.03778125 & 0.0035625 & 0.026 & 0.0076875 & 0.85984375 & 0.0560625\\\\0.00928125 & 0.00128125 & 0.002 & 0.035875 & 0.0069375 & 0.02415625 & 0.02971875 & 0.83296875\\end{matrix}\\right]$"
      ],
      "text/plain": [
       "Matrix([\n",
       "[0.88684375, 0.06015625, 0.04678125, 0.00953125,     0.0395,    0.00375, 0.00321875,       0.01],\n",
       "[0.02928125, 0.85940625,  0.0069375, 0.04353125, 0.00228125,   0.039875,    0.00975,   0.002125],\n",
       "[0.02553125,      0.008, 0.86590625, 0.05878125, 0.00128125, 0.00934375, 0.04009375,   0.003625],\n",
       "[0.00640625, 0.02290625,  0.0288125, 0.83746875, 0.00896875,    0.00125, 0.00221875,  0.0393125],\n",
       "[   0.03875, 0.00303125, 0.00228125, 0.00890625,  0.8850625, 0.05903125,    0.04775, 0.00909375],\n",
       "[0.00221875,  0.0359375,     0.0095, 0.00234375, 0.02996875, 0.85490625, 0.00740625,  0.0468125],\n",
       "[ 0.0016875, 0.00928125, 0.03778125,  0.0035625,      0.026,  0.0076875, 0.85984375,  0.0560625],\n",
       "[0.00928125, 0.00128125,      0.002,   0.035875,  0.0069375, 0.02415625, 0.02971875, 0.83296875]])"
      ]
     },
     "execution_count": 21,
     "metadata": {},
     "output_type": "execute_result"
    }
   ],
   "source": [
    "Matrix(meas_fitter_our_identity.cal_matrix)"
   ]
  },
  {
   "cell_type": "code",
   "execution_count": 22,
   "metadata": {},
   "outputs": [],
   "source": [
    "U_tilde_identity=meas_fitter_our_identity.cal_matrix\n",
    "U_tilde_itself=meas_fitter_our_itself.cal_matrix\n",
    "U_tilde_qiskit=meas_fitter_qiskit.cal_matrix"
   ]
  },
  {
   "cell_type": "code",
   "execution_count": 23,
   "metadata": {},
   "outputs": [],
   "source": [
    "def matrix_from_cirquit(qc, phase=0, type=\"sympy\"):\n",
    "\n",
    "    backend = Aer.get_backend('unitary_simulator')\n",
    "    job = execute(qc, backend, shots=32000)\n",
    "    result = job.result()\n",
    "    A=result.get_unitary(qc, decimals=10)*np.exp(1j*phase)\n",
    "    if type==\"sympy\":\n",
    "        return Matrix(A)\n",
    "    else:\n",
    "        return A"
   ]
  },
  {
   "cell_type": "code",
   "execution_count": 24,
   "metadata": {},
   "outputs": [
    {
     "data": {
      "text/html": [
       "<pre style=\"word-wrap: normal;white-space: pre;background: #fff0;line-height: 1.1;font-family: &quot;Courier New&quot;,Courier,monospace\">          ░ ┌─────┐ ┌───┐      ┌─┐   \n",
       "q1398_0: ─░─┤ Sdg ├─┤ H ├──────┤M├───\n",
       "          ░ └─┬─┬─┘ └───┘      └╥┘   \n",
       "q1398_1: ─░───┤M├───────────────╫────\n",
       "          ░   └╥┘  ┌─────┐┌───┐ ║ ┌─┐\n",
       "q1398_2: ─░────╫───┤ Sdg ├┤ H ├─╫─┤M├\n",
       "          ░    ║   └─────┘└───┘ ║ └╥┘\n",
       "  c18: 3/══════╩════════════════╩══╩═\n",
       "               1                0  2 </pre>"
      ],
      "text/plain": [
       "          ░ ┌─────┐ ┌───┐      ┌─┐   \n",
       "q1398_0: ─░─┤ Sdg ├─┤ H ├──────┤M├───\n",
       "          ░ └─┬─┬─┘ └───┘      └╥┘   \n",
       "q1398_1: ─░───┤M├───────────────╫────\n",
       "          ░   └╥┘  ┌─────┐┌───┐ ║ ┌─┐\n",
       "q1398_2: ─░────╫───┤ Sdg ├┤ H ├─╫─┤M├\n",
       "          ░    ║   └─────┘└───┘ ║ └╥┘\n",
       "  c18: 3/══════╩════════════════╩══╩═\n",
       "               1                0  2 "
      ]
     },
     "execution_count": 24,
     "metadata": {},
     "output_type": "execute_result"
    }
   ],
   "source": [
    "qr_basi = QuantumRegister(3)\n",
    "qc_basi = QuantumCircuit(qr_basi)\n",
    "\n",
    "qcs_basis = state_tomography_circuits(qc_basi, qr_basi)\n",
    "\n",
    "qcs_basis[0].remove_final_measurements()\n",
    "\n",
    "qcs_basis[16].draw()"
   ]
  },
  {
   "cell_type": "code",
   "execution_count": 25,
   "metadata": {},
   "outputs": [
    {
     "data": {
      "text/plain": [
       "array([[9.4165625e-01, 5.0000000e-02, 3.3968750e-02, 1.9062500e-03,\n",
       "        3.1031250e-02, 1.5625000e-03, 1.0937500e-03, 0.0000000e+00],\n",
       "       [1.9125000e-02, 9.1171875e-01, 4.3750000e-04, 3.3562500e-02,\n",
       "        7.5000000e-04, 2.9781250e-02, 3.1250000e-05, 1.3125000e-03],\n",
       "       [1.0843750e-02, 6.2500000e-04, 9.1850000e-01, 4.8531250e-02,\n",
       "        4.0625000e-04, 3.1250000e-05, 3.2343750e-02, 1.7812500e-03],\n",
       "       [2.5000000e-04, 1.0156250e-02, 1.8687500e-02, 8.8737500e-01,\n",
       "        0.0000000e+00, 3.7500000e-04, 5.6250000e-04, 2.9968750e-02],\n",
       "       [2.7343750e-02, 1.4375000e-03, 1.0625000e-03, 1.8750000e-04,\n",
       "        9.3862500e-01, 4.9968750e-02, 3.4062500e-02, 1.4687500e-03],\n",
       "       [4.3750000e-04, 2.5687500e-02, 3.1250000e-05, 8.7500000e-04,\n",
       "        1.8093750e-02, 9.0787500e-01, 5.3125000e-04, 3.0875000e-02],\n",
       "       [3.4375000e-04, 0.0000000e+00, 2.6781250e-02, 1.3437500e-03,\n",
       "        1.0968750e-02, 3.7500000e-04, 9.1312500e-01, 4.9593750e-02],\n",
       "       [0.0000000e+00, 3.7500000e-04, 5.3125000e-04, 2.6218750e-02,\n",
       "        1.2500000e-04, 1.0031250e-02, 1.8250000e-02, 8.8500000e-01]])"
      ]
     },
     "execution_count": 25,
     "metadata": {},
     "output_type": "execute_result"
    }
   ],
   "source": [
    "meas_fitter_qiskit.cal_matrix"
   ]
  },
  {
   "cell_type": "code",
   "execution_count": 26,
   "metadata": {},
   "outputs": [],
   "source": [
    "C_matrices_itself = []\n",
    "C_matrices_identity = []\n",
    "\n",
    "C_itself = np.matmul(U_tilde_itself, np.linalg.inv(U_ideal))\n",
    "C_identity = U_tilde_identity\n",
    "\n",
    "for base in qcs_basis:\n",
    "    \n",
    "    base.remove_final_measurements()\n",
    "\n",
    "    base_matrix = np.matrix(matrix_from_cirquit(base, type=\"numpy\"))\n",
    "    base_matrix_H = base_matrix.getH()\n",
    "\n",
    "    C_aus_itself = np.linalg.multi_dot([U_tilde_qiskit, base_matrix, np.linalg.inv(U_tilde_qiskit), U_tilde_itself, np.linalg.inv(U_ideal),  base_matrix_H])\n",
    "    #C_aus_itself = np.linalg.multi_dot([base_matrix, U_tilde_qiskit, np.linalg.inv(U_tilde_qiskit), C_itself])\n",
    "    C_aus_identity = np.matmul(base_matrix, np.matmul(C_identity, base_matrix_H))\n",
    "\n",
    "    C_matrices_identity.append(np.asarray(C_aus_identity))\n",
    "    C_matrices_itself.append(np.asarray(C_aus_itself))"
   ]
  },
  {
   "cell_type": "code",
   "execution_count": 27,
   "metadata": {},
   "outputs": [],
   "source": [
    "from copy import deepcopy\n",
    "\n",
    "meas_fitters_identity = []\n",
    "meas_fitters_itself = []\n",
    "\n",
    "for C_new in C_matrices_identity:\n",
    "    meas_fitter_our_aus = deepcopy(meas_fitter_our_identity)\n",
    "    meas_fitter_our_aus._tens_fitt.cal_matrices[0]=C_new\n",
    "\n",
    "    meas_fitters_identity.append(meas_fitter_our_aus)\n",
    "\n",
    "for C_new in C_matrices_itself:\n",
    "    meas_fitter_our_aus = deepcopy(meas_fitter_our_itself)\n",
    "    meas_fitter_our_aus._tens_fitt.cal_matrices[0]=C_new\n",
    "\n",
    "    meas_fitters_itself.append(meas_fitter_our_aus)"
   ]
  },
  {
   "cell_type": "code",
   "execution_count": 28,
   "metadata": {},
   "outputs": [],
   "source": [
    "target_state = (One^One^Zero).to_matrix()\n",
    "#target_state = (Zero^One^One).to_matrix()\n",
    "\n",
    "\n",
    "fids=np.zeros(4)\n",
    "\n",
    "raw_res=deepcopy(job_tomo.result())\n",
    "qiskit_res=deepcopy(raw_res)\n",
    "identity_res=deepcopy(raw_res)\n",
    "itself_res=deepcopy(raw_res)"
   ]
  },
  {
   "cell_type": "code",
   "execution_count": 29,
   "metadata": {},
   "outputs": [
    {
     "data": {
      "text/plain": [
       "{'000': 253,\n",
       " '010': 937,\n",
       " '011': 11891,\n",
       " '111': 1074,\n",
       " '100': 982,\n",
       " '001': 965,\n",
       " '110': 3517,\n",
       " '101': 12381}"
      ]
     },
     "execution_count": 29,
     "metadata": {},
     "output_type": "execute_result"
    }
   ],
   "source": [
    "raw_res.get_counts(-1)"
   ]
  },
  {
   "cell_type": "code",
   "execution_count": 30,
   "metadata": {},
   "outputs": [],
   "source": [
    "for i in range(27):\n",
    "\n",
    "    old_counts=raw_res.get_counts(i)\n",
    "    new_counts_qiskit = meas_fitter_qiskit.filter.apply(old_counts, method=\"least_squares\")\n",
    "    qiskit_res.results[i].data.counts = new_counts_qiskit\n",
    "\n",
    "    new_counts_id = meas_fitters_identity[i].filter.apply(old_counts, method=\"least_squares\")\n",
    "    identity_res.results[i].data.counts = new_counts_id\n",
    "\n",
    "    new_counts_it = meas_fitters_itself[i].filter.apply(old_counts, method=\"least_squares\")\n",
    "    itself_res.results[i].data.counts = new_counts_it"
   ]
  },
  {
   "cell_type": "code",
   "execution_count": 31,
   "metadata": {},
   "outputs": [
    {
     "data": {
      "text/plain": [
       "{'000': 196.30602146838459,\n",
       " '001': 116.95010484420374,\n",
       " '010': 176.41931275341003,\n",
       " '011': 13367.179573416997,\n",
       " '100': 175.3222889106382,\n",
       " '101': 13595.43655812489,\n",
       " '110': 3787.2182149222967,\n",
       " '111': 585.1679255591806}"
      ]
     },
     "execution_count": 31,
     "metadata": {},
     "output_type": "execute_result"
    }
   ],
   "source": [
    "qiskit_res.get_counts(-1)"
   ]
  },
  {
   "cell_type": "code",
   "execution_count": 32,
   "metadata": {},
   "outputs": [
    {
     "data": {
      "text/latex": [
       "$\\displaystyle \\left[\\begin{matrix}0.35355339059357\\\\0.0626718980509558\\\\0.0547233326807091\\\\0.0522717525016709\\\\0.0870929135521274\\\\0.0846413333989048\\\\0.076692767805786\\\\-0.214188724311973\\end{matrix}\\right]$"
      ],
      "text/plain": [
       "Matrix([\n",
       "[  0.35355339059357],\n",
       "[0.0626718980509558],\n",
       "[0.0547233326807091],\n",
       "[0.0522717525016709],\n",
       "[0.0870929135521274],\n",
       "[0.0846413333989048],\n",
       "[ 0.076692767805786],\n",
       "[-0.214188724311973]])"
      ]
     },
     "execution_count": 32,
     "metadata": {},
     "output_type": "execute_result"
    }
   ],
   "source": [
    "It_comp=occurrences_to_vector(itself_res.get_counts(-1))/(shots)\n",
    "It_H=np.dot(Had3,It_comp)\n",
    "Matrix(It_H)"
   ]
  },
  {
   "cell_type": "code",
   "execution_count": null,
   "metadata": {},
   "outputs": [],
   "source": []
  },
  {
   "cell_type": "code",
   "execution_count": 33,
   "metadata": {},
   "outputs": [
    {
     "data": {
      "text/plain": [
       "{'000': 2109.4421294975136,\n",
       " '001': 7.644034860109746e-05,\n",
       " '010': 7237.699117323255,\n",
       " '011': 7437.047859691685,\n",
       " '100': 4420.376614093974,\n",
       " '101': 6308.316966068003,\n",
       " '110': 0.00010134044795438949,\n",
       " '111': 4487.117135544771}"
      ]
     },
     "execution_count": 33,
     "metadata": {},
     "output_type": "execute_result"
    }
   ],
   "source": [
    "itself_res.get_counts(0)"
   ]
  },
  {
   "cell_type": "code",
   "execution_count": 34,
   "metadata": {},
   "outputs": [
    {
     "data": {
      "text/plain": [
       "{'000': 6306.924827804005,\n",
       " '001': 6637.369750669782,\n",
       " '010': 6997.080762049186,\n",
       " '011': 4.514619629755976e-06,\n",
       " '100': 5532.2007526108855,\n",
       " '101': 5.0987613635213385e-06,\n",
       " '110': 5.5738618866889396e-08,\n",
       " '111': 6526.423897223813}"
      ]
     },
     "execution_count": 34,
     "metadata": {},
     "output_type": "execute_result"
    }
   ],
   "source": [
    "itself_res.get_counts(-1)"
   ]
  },
  {
   "cell_type": "code",
   "execution_count": 35,
   "metadata": {},
   "outputs": [
    {
     "data": {
      "text/plain": [
       "{'000': 3.78171390895346e-10,\n",
       " '001': 2.1303609360968157e-08,\n",
       " '010': 1.3749984967931967e-08,\n",
       " '011': 13993.752021277689,\n",
       " '100': 1.3624118430465745e-08,\n",
       " '101': 14244.535595107702,\n",
       " '110': 3746.2713171413784,\n",
       " '111': 15.441066432789288}"
      ]
     },
     "execution_count": 35,
     "metadata": {},
     "output_type": "execute_result"
    }
   ],
   "source": [
    "identity_res.get_counts(-1)"
   ]
  },
  {
   "cell_type": "code",
   "execution_count": 36,
   "metadata": {},
   "outputs": [
    {
     "data": {
      "text/plain": [
       "array([0.10871419, 0.11652535, 0.10122871, 0.14707971])"
      ]
     },
     "execution_count": 36,
     "metadata": {},
     "output_type": "execute_result"
    }
   ],
   "source": [
    "fids[0] = fidelity_count(raw_res, qcs_tomo, target_state)\n",
    "fids[1] = fidelity_count(qiskit_res, qcs_tomo, target_state)\n",
    "fids[2] = fidelity_count(identity_res, qcs_tomo, target_state)\n",
    "fids[3] = fidelity_count(itself_res, qcs_tomo, target_state)\n",
    "\n",
    "fids"
   ]
  },
  {
   "cell_type": "code",
   "execution_count": 37,
   "metadata": {},
   "outputs": [
    {
     "data": {
      "text/plain": [
       "array([3.78171391e-10, 2.13036094e-08, 1.37499850e-08, 1.39937520e+04,\n",
       "       1.36241184e-08, 1.42445356e+04, 3.74627132e+03, 1.54410664e+01])"
      ]
     },
     "execution_count": 37,
     "metadata": {},
     "output_type": "execute_result"
    }
   ],
   "source": [
    "occurrences_to_vector(identity_res.get_counts(-1))"
   ]
  },
  {
   "cell_type": "code",
   "execution_count": null,
   "metadata": {},
   "outputs": [],
   "source": []
  },
  {
   "cell_type": "code",
   "execution_count": null,
   "metadata": {},
   "outputs": [],
   "source": []
  }
 ],
 "metadata": {
  "interpreter": {
   "hash": "aee8b7b246df8f9039afb4144a1f6fd8d2ca17a180786b69acc140d282b71a49"
  },
  "kernelspec": {
   "display_name": "Python 3.10.2 64-bit",
   "language": "python",
   "name": "python3"
  },
  "language_info": {
   "codemirror_mode": {
    "name": "ipython",
    "version": 3
   },
   "file_extension": ".py",
   "mimetype": "text/x-python",
   "name": "python",
   "nbconvert_exporter": "python",
   "pygments_lexer": "ipython3",
   "version": "3.8.0"
  },
  "orig_nbformat": 4
 },
 "nbformat": 4,
 "nbformat_minor": 2
}
