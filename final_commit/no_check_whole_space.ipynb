{
 "cells": [
  {
   "cell_type": "code",
   "execution_count": 1,
   "metadata": {},
   "outputs": [],
   "source": [
    "from lib.functions0 import *\n",
    "from lib.utility import *\n",
    "import numpy as np\n",
    "from scipy.linalg import expm\n",
    "from qiskit.utils.mitigation.fitters import CompleteMeasFitter\n",
    "from qiskit.ignis.mitigation.measurement import  complete_meas_cal\n",
    "from qiskit import Aer, assemble, QuantumCircuit, QuantumRegister, ClassicalRegister, IBMQ, transpile, execute\n",
    "from qiskit.providers.aer import AerSimulator, QasmSimulator\n",
    "from qiskit.opflow import Zero, One, I, X, Y, Z\n",
    "from qiskit.ignis.verification.tomography import state_tomography_circuits, StateTomographyFitter\n",
    "from qiskit.quantum_info import state_fidelity\n",
    "import matplotlib.pyplot as plt\n",
    "#%load_ext autoreload\n",
    "#%autoreload 2\n",
    "import warnings\n",
    "warnings.filterwarnings('ignore')\n",
    "IBMQ.load_account()\n",
    "provider = IBMQ.get_provider(hub='ibm-q-community',\n",
    "                            group='ibmquantumawards', \n",
    "                            project='open-science-22')\n",
    "\n",
    "backend_sim_jakarta = QasmSimulator.from_backend(provider.get_backend('ibmq_jakarta'))\n",
    "backend_real_jakarta = provider.get_backend('ibmq_jakarta')\n",
    "backend_sim = Aer.get_backend('qasm_simulator')"
   ]
  },
  {
   "cell_type": "code",
   "execution_count": 2,
   "metadata": {},
   "outputs": [
    {
     "data": {
      "text/plain": [
       "'/Library/Frameworks/Python.framework/Versions/3.10/lib/python3.10/site-packages/qiskit/utils/mitigation/fitters.py'"
      ]
     },
     "execution_count": 2,
     "metadata": {},
     "output_type": "execute_result"
    }
   ],
   "source": [
    "import qiskit\n",
    "qiskit.utils.mitigation.fitters.__file__"
   ]
  },
  {
   "cell_type": "code",
   "execution_count": 40,
   "metadata": {},
   "outputs": [
    {
     "data": {
      "text/latex": [
       "$\\displaystyle \\left[\\begin{matrix}1.0 i & 0 & 0 & 0 & 0 & 0 & 0 & 0\\\\0 & 0.333 + 0.334 i & 0.333 + 0.309 i & 0 & -0.666 + 0.356 i & 0 & 0 & 0\\\\0 & 0.333 + 0.356 i & -0.666 + 0.334 i & 0 & 0.333 + 0.309 i & 0 & 0 & 0\\\\0 & 0 & 0 & 0.333 + 0.334 i & 0 & 0.333 + 0.356 i & -0.666 + 0.309 i & 0\\\\0 & -0.666 + 0.309 i & 0.333 + 0.356 i & 0 & 0.333 + 0.334 i & 0 & 0 & 0\\\\0 & 0 & 0 & 0.333 + 0.309 i & 0 & -0.666 + 0.334 i & 0.333 + 0.356 i & 0\\\\0 & 0 & 0 & -0.666 + 0.356 i & 0 & 0.333 + 0.309 i & 0.333 + 0.334 i & 0\\\\0 & 0 & 0 & 0 & 0 & 0 & 0 & 1.0 i\\end{matrix}\\right]$"
      ],
      "text/plain": [
       "Matrix([\n",
       "[1.0*I,                0,                0,                0,                0,                0,                0,     0],\n",
       "[    0,  0.333 + 0.334*I,  0.333 + 0.309*I,                0, -0.666 + 0.356*I,                0,                0,     0],\n",
       "[    0,  0.333 + 0.356*I, -0.666 + 0.334*I,                0,  0.333 + 0.309*I,                0,                0,     0],\n",
       "[    0,                0,                0,  0.333 + 0.334*I,                0,  0.333 + 0.356*I, -0.666 + 0.309*I,     0],\n",
       "[    0, -0.666 + 0.309*I,  0.333 + 0.356*I,                0,  0.333 + 0.334*I,                0,                0,     0],\n",
       "[    0,                0,                0,  0.333 + 0.309*I,                0, -0.666 + 0.334*I,  0.333 + 0.356*I,     0],\n",
       "[    0,                0,                0, -0.666 + 0.356*I,                0,  0.333 + 0.309*I,  0.333 + 0.334*I,     0],\n",
       "[    0,                0,                0,                0,                0,                0,                0, 1.0*I]])"
      ]
     },
     "execution_count": 40,
     "metadata": {},
     "output_type": "execute_result"
    }
   ],
   "source": [
    "n_steps=100\n",
    "time=np.pi*3/4\n",
    "#initial_state={\"110\": 1}\n",
    "shots = 32000\n",
    "backend = backend_sim_jakarta\n",
    "\n",
    "X = np.array([[0,1],[1,0]])  #defining the pauli matrices\n",
    "Y = np.array([[0,-1j],[1j,0]])\n",
    "Z = np.array([[1,0],[0,-1]])\n",
    "H = np.array([[1/np.sqrt(2),1/np.sqrt(2)],[1/np.sqrt(2),-1/np.sqrt(2)]])\n",
    "Id = np.eye(2)\n",
    "\n",
    "# defining the hamiltonian divided in: \n",
    "#       - H1: first two qubits interactions.\n",
    "#       - H2: second two qubits interactions.\n",
    "\n",
    "H1 = np.kron(X, np.kron(X,Id)) + np.kron(Y, np.kron(Y,Id)) + np.kron(Z, np.kron(Z,Id)) \n",
    "H2 = np.kron(Id, np.kron(X,X)) + np.kron(Id, np.kron(Y,Y)) + np.kron(Id, np.kron(Z,Z)) \n",
    "\n",
    "Had3=np.kron(H, np.kron(H,H))\n",
    "\n",
    "# building numerically the trotter step matrix, and the whole operator (trotter step)^n_steps.\n",
    "\n",
    "trotter_step_matrix_= expm(-time/n_steps*H1*1j).dot(expm(-time/n_steps*H2*1j))\n",
    "trotterized = np.linalg.matrix_power(trotter_step_matrix_, n_steps)\n",
    "Matrix(trotterized).n(3, chop=True)\n",
    "#Matrix(Had3)"
   ]
  },
  {
   "cell_type": "code",
   "execution_count": 41,
   "metadata": {},
   "outputs": [
    {
     "data": {
      "image/png": "[encoded data removed]",
      "text/plain": [
       "<Figure size 507.997x204.68 with 1 Axes>"
      ]
     },
     "execution_count": 41,
     "metadata": {},
     "output_type": "execute_result"
    }
   ],
   "source": [
    "qr=QuantumRegister(3, name=\"q\")\n",
    "B_qc=QuantumCircuit(qr, name=\"B\")\n",
    "B_qc.x(qr[2])\n",
    "B_qc.cx(qr[1],qr[0])\n",
    "B_qc.cx(qr[2],qr[1])\n",
    "B_qc.cx(qr[1],qr[0])\n",
    "B_qc.x([qr[0],qr[1],qr[2]])\n",
    "B_qc.append(Toffoli_gate,[qr[0],qr[1],qr[2]])\n",
    "B_qc.x([qr[0],qr[1]])\n",
    "\n",
    "B_qc.draw(output=\"mpl\")"
   ]
  },
  {
   "cell_type": "code",
   "execution_count": 42,
   "metadata": {},
   "outputs": [
    {
     "data": {
      "text/latex": [
       "$\\displaystyle \\left[\\begin{matrix}0 & 0 & 0 & 0 & 1.0 & 0 & 0 & 0\\\\0 & 0 & 1.0 & 0 & 0 & 0 & 0 & 0\\\\0 & 1.0 & 0 & 0 & 0 & 0 & 0 & 0\\\\1.0 & 0 & 0 & 0 & 0 & 0 & 0 & 0\\\\0 & 0 & 0 & 1.0 & 0 & 0 & 0 & 0\\\\0 & 0 & 0 & 0 & 0 & 1.0 & 0 & 0\\\\0 & 0 & 0 & 0 & 0 & 0 & 1.0 & 0\\\\0 & 0 & 0 & 0 & 0 & 0 & 0 & 1.0\\end{matrix}\\right]$"
      ],
      "text/plain": [
       "Matrix([\n",
       "[  0,   0,   0,   0, 1.0,   0,   0,   0],\n",
       "[  0,   0, 1.0,   0,   0,   0,   0,   0],\n",
       "[  0, 1.0,   0,   0,   0,   0,   0,   0],\n",
       "[1.0,   0,   0,   0,   0,   0,   0,   0],\n",
       "[  0,   0,   0, 1.0,   0,   0,   0,   0],\n",
       "[  0,   0,   0,   0,   0, 1.0,   0,   0],\n",
       "[  0,   0,   0,   0,   0,   0, 1.0,   0],\n",
       "[  0,   0,   0,   0,   0,   0,   0, 1.0]])"
      ]
     },
     "execution_count": 42,
     "metadata": {},
     "output_type": "execute_result"
    }
   ],
   "source": [
    "B=matrix_from_circuit(B_qc)\n",
    "B"
   ]
  },
  {
   "cell_type": "code",
   "execution_count": 43,
   "metadata": {},
   "outputs": [
    {
     "data": {
      "image/png": "[encoded data removed]",
      "text/plain": [
       "<Figure size 1110x204.68 with 1 Axes>"
      ]
     },
     "execution_count": 43,
     "metadata": {},
     "output_type": "execute_result"
    }
   ],
   "source": [
    "transpile(B_qc, basis_gates=[\"cx\", \"x\", \"rz\", \"sx\"]).draw(output=\"mpl\")"
   ]
  },
  {
   "cell_type": "code",
   "execution_count": 44,
   "metadata": {},
   "outputs": [
    {
     "data": {
      "text/latex": [
       "$\\displaystyle \\left[\\begin{matrix}0.33306 + 0.33421 i & 0.33306 + 0.35646 i & -0.66611 + 0.30934 i & 0\\\\0.33306 + 0.30934 i & -0.66611 + 0.33421 i & 0.33306 + 0.35646 i & 0\\\\-0.66611 + 0.35646 i & 0.33306 + 0.30934 i & 0.33306 + 0.33421 i & 0\\\\0 & 0 & 0 & 1.0603 \\cdot 10^{-15} + 1.0 i\\end{matrix}\\right]$"
      ],
      "text/plain": [
       "Matrix([\n",
       "[ 0.33306 + 0.33421*I,  0.33306 + 0.35646*I, -0.66611 + 0.30934*I,                  0],\n",
       "[ 0.33306 + 0.30934*I, -0.66611 + 0.33421*I,  0.33306 + 0.35646*I,                  0],\n",
       "[-0.66611 + 0.35646*I,  0.33306 + 0.30934*I,  0.33306 + 0.33421*I,                  0],\n",
       "[                   0,                    0,                    0, 1.0603e-15 + 1.0*I]])"
      ]
     },
     "execution_count": 44,
     "metadata": {},
     "output_type": "execute_result"
    }
   ],
   "source": [
    "#for _ in range(n_steps): # here is computed the evolution operator numerically, with n_steps trotter steps.\n",
    "#\n",
    "#    numeric_evolution_matrix=(numeric_evolution_matrix*trotter_step_matrix_(2*time/n_steps)).evalf(precision)\n",
    "\n",
    "\n",
    "M_N = B*trotterized*B.H\n",
    "M_N = Matrix([M_N[0:4],M_N[8:12],M_N[16:20],M_N[24:28]])\n",
    "M_N.evalf(5)"
   ]
  },
  {
   "cell_type": "code",
   "execution_count": 45,
   "metadata": {},
   "outputs": [
    {
     "data": {
      "image/png": "[encoded data removed]",
      "text/plain": [
       "<Figure size 1049.65x144.48 with 1 Axes>"
      ]
     },
     "execution_count": 45,
     "metadata": {},
     "output_type": "execute_result"
    }
   ],
   "source": [
    "qc=QuantumCircuit(2, name=\"$M^N$\")\n",
    "qc.unitary(M_N,[0,1])    \n",
    "M_N_qc=transpile(qc,basis_gates=['cx','x','sx','rz']) \n",
    "\n",
    "M_N_qc.draw(output=\"mpl\")"
   ]
  },
  {
   "cell_type": "code",
   "execution_count": 46,
   "metadata": {},
   "outputs": [
    {
     "data": {
      "image/png": "[encoded data removed]",
      "text/plain": [
       "<Figure size 267.197x204.68 with 1 Axes>"
      ]
     },
     "execution_count": 46,
     "metadata": {},
     "output_type": "execute_result"
    }
   ],
   "source": [
    "initial_state=\"000\"\n",
    "\n",
    "qr_U = QuantumRegister(3, name=\"q\")\n",
    "qc_U = QuantumCircuit(qr_U, name=\"evo\")\n",
    "\n",
    "### preparing the initial state\n",
    "\n",
    "l=0\n",
    "for k in [2,1,0]:\n",
    "    if initial_state[l]=='1':\n",
    "        qc_U.x(qr_U[k])\n",
    "    l+=1\n",
    "\n",
    "### appending the evolution\n",
    "\n",
    "qc_U.append(M_N_qc,[qr_U[0],qr_U[1]])\n",
    "qc_U.append(B_qc.inverse(),[qr_U[0],qr_U[1],qr_U[2]])\n",
    "\n",
    "qc_U.draw(output=\"mpl\")"
   ]
  },
  {
   "cell_type": "code",
   "execution_count": 47,
   "metadata": {},
   "outputs": [
    {
     "data": {
      "text/latex": [
       "$\\displaystyle \\left[\\begin{matrix}0 & 0 & 0 & 1.0 i & 0 & 0 & 0 & 0\\\\-0.666110803 + 0.3564569882 i & 0.3330554015 + 0.3093375062 i & 0.3330554015 + 0.3342055056 i & 0 & 0 & 0 & 0 & 0\\\\0.3330554015 + 0.3093375062 i & -0.666110803 + 0.3342055056 i & 0.3330554015 + 0.3564569882 i & 0 & 0 & 0 & 0 & 0\\\\0 & 0 & 0 & 0 & 0.3330554015 + 0.3342055056 i & 0.3330554015 + 0.3564569882 i & -0.666110803 + 0.3093375062 i & 0\\\\0.3330554015 + 0.3342055056 i & 0.3330554015 + 0.3564569882 i & -0.666110803 + 0.3093375062 i & 0 & 0 & 0 & 0 & 0\\\\0 & 0 & 0 & 0 & 0.3330554015 + 0.3093375062 i & -0.666110803 + 0.3342055056 i & 0.3330554015 + 0.3564569882 i & 0\\\\0 & 0 & 0 & 0 & -0.666110803 + 0.3564569882 i & 0.3330554015 + 0.3093375062 i & 0.3330554015 + 0.3342055056 i & 0\\\\0 & 0 & 0 & 0 & 0 & 0 & 0 & 1.0 i\\end{matrix}\\right]$"
      ],
      "text/plain": [
       "Matrix([\n",
       "[                            0,                             0,                             0, 1.0*I,                             0,                             0,                             0,     0],\n",
       "[-0.666110803 + 0.3564569882*I, 0.3330554015 + 0.3093375062*I, 0.3330554015 + 0.3342055056*I,     0,                             0,                             0,                             0,     0],\n",
       "[0.3330554015 + 0.3093375062*I, -0.666110803 + 0.3342055056*I, 0.3330554015 + 0.3564569882*I,     0,                             0,                             0,                             0,     0],\n",
       "[                            0,                             0,                             0,     0, 0.3330554015 + 0.3342055056*I, 0.3330554015 + 0.3564569882*I, -0.666110803 + 0.3093375062*I,     0],\n",
       "[0.3330554015 + 0.3342055056*I, 0.3330554015 + 0.3564569882*I, -0.666110803 + 0.3093375062*I,     0,                             0,                             0,                             0,     0],\n",
       "[                            0,                             0,                             0,     0, 0.3330554015 + 0.3093375062*I, -0.666110803 + 0.3342055056*I, 0.3330554015 + 0.3564569882*I,     0],\n",
       "[                            0,                             0,                             0,     0, -0.666110803 + 0.3564569882*I, 0.3330554015 + 0.3093375062*I, 0.3330554015 + 0.3342055056*I,     0],\n",
       "[                            0,                             0,                             0,     0,                             0,                             0,                             0, 1.0*I]])"
      ]
     },
     "execution_count": 47,
     "metadata": {},
     "output_type": "execute_result"
    }
   ],
   "source": [
    "U_ideal=matrix_from_circuit(qc_U, type=\"numpy\")\n",
    "Matrix(U_ideal)"
   ]
  },
  {
   "cell_type": "code",
   "execution_count": 48,
   "metadata": {},
   "outputs": [
    {
     "data": {
      "image/png": "[encoded data removed]",
      "text/plain": [
       "<Figure size 519.393x264.88 with 1 Axes>"
      ]
     },
     "execution_count": 48,
     "metadata": {},
     "output_type": "execute_result"
    }
   ],
   "source": [
    "qr_evo = QuantumRegister(3, name=\"q\")\n",
    "qc_evo = QuantumCircuit(qr_evo, name=\"U\")\n",
    "\n",
    "qc_evo.x([qr_evo[1],qr_evo[2]])\n",
    "qc_evo.append(qc_U, qr_evo)\n",
    "\n",
    "qcs_tomo = state_tomography_circuits(qc_evo, qr_evo)\n",
    "qcs_tomo[3].draw(output=\"mpl\")"
   ]
  },
  {
   "cell_type": "code",
   "execution_count": 49,
   "metadata": {},
   "outputs": [],
   "source": [
    "qr_cal = QuantumRegister(3)\n",
    "cal_circ, state_labels = complete_meas_cal(qubit_list=[0,1,2], qr=qr_cal, circlabel='mcal')"
   ]
  },
  {
   "cell_type": "code",
   "execution_count": 50,
   "metadata": {},
   "outputs": [
    {
     "data": {
      "text/html": [
       "<pre style=\"word-wrap: normal;white-space: pre;background: #fff0;line-height: 1.1;font-family: &quot;Courier New&quot;,Courier,monospace\">          ░ ┌─┐      \n",
       "q1796_0: ─░─┤M├──────\n",
       "          ░ └╥┘┌─┐   \n",
       "q1796_1: ─░──╫─┤M├───\n",
       "          ░  ║ └╥┘┌─┐\n",
       "q1796_2: ─░──╫──╫─┤M├\n",
       "          ░  ║  ║ └╥┘\n",
       "  c20: 3/════╩══╩══╩═\n",
       "             0  1  2 </pre>"
      ],
      "text/plain": [
       "          ░ ┌─┐      \n",
       "q1796_0: ─░─┤M├──────\n",
       "          ░ └╥┘┌─┐   \n",
       "q1796_1: ─░──╫─┤M├───\n",
       "          ░  ║ └╥┘┌─┐\n",
       "q1796_2: ─░──╫──╫─┤M├\n",
       "          ░  ║  ║ └╥┘\n",
       "  c20: 3/════╩══╩══╩═\n",
       "             0  1  2 "
      ]
     },
     "execution_count": 50,
     "metadata": {},
     "output_type": "execute_result"
    }
   ],
   "source": [
    "cal_circ[0].draw()"
   ]
  },
  {
   "cell_type": "code",
   "execution_count": 51,
   "metadata": {},
   "outputs": [
    {
     "data": {
      "text/plain": [
       "['000', '001', '010', '011', '100', '101', '110', '111']"
      ]
     },
     "execution_count": 51,
     "metadata": {},
     "output_type": "execute_result"
    }
   ],
   "source": [
    "state_labels"
   ]
  },
  {
   "cell_type": "code",
   "execution_count": 52,
   "metadata": {},
   "outputs": [],
   "source": [
    "calib_circuits_identity = []\n",
    "calib_circuits_itself = []\n",
    "\n",
    "for i in state_labels:\n",
    "\n",
    "    cr_cal_itself = ClassicalRegister(3)\n",
    "    qr_cal_itself = QuantumRegister(3)\n",
    "    qc_cal_itself = QuantumCircuit(qr_cal_itself, cr_cal_itself, name=f\"mcalcal_{i}\")\n",
    "\n",
    "    cr_cal_id = ClassicalRegister(3)\n",
    "    qr_cal_id = QuantumRegister(3)\n",
    "    qc_cal_id = QuantumCircuit(qr_cal_id, cr_cal_id, name=f\"mcalcal_{i}\")\n",
    "\n",
    "    qc_cal_id.x(qr_cal_id)\n",
    "    qc_cal_id.append(qc_U, qr_cal_id)\n",
    "\n",
    "    for k in range(3):\n",
    "        if i[::-1][k] == \"1\":\n",
    "            qc_cal_itself.x(qr_cal_itself[k])\n",
    "        else:\n",
    "            qc_cal_id.x(qr_cal_id[k])\n",
    "        \n",
    "    qc_cal_itself.append(qc_U, qr_cal_itself)\n",
    "    \n",
    "    qc_cal_id.measure(qr_cal_id, cr_cal_id)\n",
    "    qc_cal_itself.measure(qr_cal_itself, cr_cal_itself)\n",
    "\n",
    "    calib_circuits_identity.append(qc_cal_id)\n",
    "    calib_circuits_itself.append(qc_cal_itself)"
   ]
  },
  {
   "cell_type": "code",
   "execution_count": 53,
   "metadata": {},
   "outputs": [
    {
     "data": {
      "text/html": [
       "<pre style=\"word-wrap: normal;white-space: pre;background: #fff0;line-height: 1.1;font-family: &quot;Courier New&quot;,Courier,monospace\">         ┌───┐┌──────┐     ┌─┐      \n",
       "q1800_0: ┤ X ├┤0     ├─────┤M├──────\n",
       "         ├───┤│      │┌───┐└╥┘┌─┐   \n",
       "q1800_1: ┤ X ├┤1 evo ├┤ X ├─╫─┤M├───\n",
       "         ├───┤│      │├───┤ ║ └╥┘┌─┐\n",
       "q1800_2: ┤ X ├┤2     ├┤ X ├─╫──╫─┤M├\n",
       "         └───┘└──────┘└───┘ ║  ║ └╥┘\n",
       "  c24: 3/═══════════════════╩══╩══╩═\n",
       "                            0  1  2 </pre>"
      ],
      "text/plain": [
       "         ┌───┐┌──────┐     ┌─┐      \n",
       "q1800_0: ┤ X ├┤0     ├─────┤M├──────\n",
       "         ├───┤│      │┌───┐└╥┘┌─┐   \n",
       "q1800_1: ┤ X ├┤1 evo ├┤ X ├─╫─┤M├───\n",
       "         ├───┤│      │├───┤ ║ └╥┘┌─┐\n",
       "q1800_2: ┤ X ├┤2     ├┤ X ├─╫──╫─┤M├\n",
       "         └───┘└──────┘└───┘ ║  ║ └╥┘\n",
       "  c24: 3/═══════════════════╩══╩══╩═\n",
       "                            0  1  2 "
      ]
     },
     "execution_count": 53,
     "metadata": {},
     "output_type": "execute_result"
    }
   ],
   "source": [
    "calib_circuits_identity[1].draw()"
   ]
  },
  {
   "cell_type": "code",
   "execution_count": 54,
   "metadata": {},
   "outputs": [
    {
     "data": {
      "text/html": [
       "<pre style=\"word-wrap: normal;white-space: pre;background: #fff0;line-height: 1.1;font-family: &quot;Courier New&quot;,Courier,monospace\">         ┌───┐┌──────┐┌─┐      \n",
       "q1799_0: ┤ X ├┤0     ├┤M├──────\n",
       "         └───┘│      │└╥┘┌─┐   \n",
       "q1799_1: ─────┤1 evo ├─╫─┤M├───\n",
       "              │      │ ║ └╥┘┌─┐\n",
       "q1799_2: ─────┤2     ├─╫──╫─┤M├\n",
       "              └──────┘ ║  ║ └╥┘\n",
       "  c23: 3/══════════════╩══╩══╩═\n",
       "                       0  1  2 </pre>"
      ],
      "text/plain": [
       "         ┌───┐┌──────┐┌─┐      \n",
       "q1799_0: ┤ X ├┤0     ├┤M├──────\n",
       "         └───┘│      │└╥┘┌─┐   \n",
       "q1799_1: ─────┤1 evo ├─╫─┤M├───\n",
       "              │      │ ║ └╥┘┌─┐\n",
       "q1799_2: ─────┤2     ├─╫──╫─┤M├\n",
       "              └──────┘ ║  ║ └╥┘\n",
       "  c23: 3/══════════════╩══╩══╩═\n",
       "                       0  1  2 "
      ]
     },
     "execution_count": 54,
     "metadata": {},
     "output_type": "execute_result"
    }
   ],
   "source": [
    "calib_circuits_itself[1].draw()"
   ]
  },
  {
   "cell_type": "code",
   "execution_count": 55,
   "metadata": {},
   "outputs": [],
   "source": [
    "job_tomo=execute(qcs_tomo, backend, shots=shots, initial_layout=[1,3,5])\n",
    "\n",
    "job_cal_our_identity=execute(calib_circuits_identity, backend = backend, shots=shots, initial_layout=[1,3,5])\n",
    "\n",
    "job_cal_our_itself=execute(calib_circuits_itself, backend = backend, shots=shots, initial_layout=[1,3,5])\n",
    "\n",
    "job_cal_qiskit=execute(cal_circ, backend, shots=shots, initial_layout=[1,3,5])"
   ]
  },
  {
   "cell_type": "code",
   "execution_count": 56,
   "metadata": {},
   "outputs": [],
   "source": [
    "meas_fitter_our_identity = CompleteMeasFitter(job_cal_our_identity.result(), state_labels=state_labels)\n",
    "meas_fitter_our_itself = CompleteMeasFitter(job_cal_our_itself.result(), state_labels=state_labels)\n",
    "meas_fitter_qiskit = CompleteMeasFitter(job_cal_qiskit.result(), state_labels=state_labels)"
   ]
  },
  {
   "cell_type": "code",
   "execution_count": 57,
   "metadata": {},
   "outputs": [
    {
     "data": {
      "text/latex": [
       "$\\displaystyle \\left[\\begin{matrix}0.94259375 & 0.048 & 0.034625 & 0.0016875 & 0.030625 & 0.00175 & 0.0010625 & 3.125 \\cdot 10^{-5}\\\\0.01684375 & 0.9129375 & 0.0005625 & 0.03278125 & 0.0005 & 0.0316875 & 0 & 0.00096875\\\\0.01134375 & 0.00084375 & 0.9170625 & 0.0494375 & 0.00046875 & 9.375 \\cdot 10^{-5} & 0.03015625 & 0.00153125\\\\0.00028125 & 0.00990625 & 0.018125 & 0.8878125 & 0 & 0.0003125 & 0.0005 & 0.02971875\\\\0.028 & 0.0013125 & 0.00103125 & 0.000125 & 0.939375 & 0.04946875 & 0.0348125 & 0.0015\\\\0.0005 & 0.0266875 & 0 & 0.00084375 & 0.01809375 & 0.90590625 & 0.0004375 & 0.03228125\\\\0.0004375 & 0 & 0.02803125 & 0.0015 & 0.01084375 & 0.0005 & 0.9145 & 0.048625\\\\0 & 0.0003125 & 0.0005625 & 0.0258125 & 9.375 \\cdot 10^{-5} & 0.01028125 & 0.01853125 & 0.88534375\\end{matrix}\\right]$"
      ],
      "text/plain": [
       "Matrix([\n",
       "[0.94259375,      0.048,   0.034625,  0.0016875,   0.030625,    0.00175,  0.0010625,   3.125e-5],\n",
       "[0.01684375,  0.9129375,  0.0005625, 0.03278125,     0.0005,  0.0316875,          0, 0.00096875],\n",
       "[0.01134375, 0.00084375,  0.9170625,  0.0494375, 0.00046875,   9.375e-5, 0.03015625, 0.00153125],\n",
       "[0.00028125, 0.00990625,   0.018125,  0.8878125,          0,  0.0003125,     0.0005, 0.02971875],\n",
       "[     0.028,  0.0013125, 0.00103125,   0.000125,   0.939375, 0.04946875,  0.0348125,     0.0015],\n",
       "[    0.0005,  0.0266875,          0, 0.00084375, 0.01809375, 0.90590625,  0.0004375, 0.03228125],\n",
       "[ 0.0004375,          0, 0.02803125,     0.0015, 0.01084375,     0.0005,     0.9145,   0.048625],\n",
       "[         0,  0.0003125,  0.0005625,  0.0258125,   9.375e-5, 0.01028125, 0.01853125, 0.88534375]])"
      ]
     },
     "execution_count": 57,
     "metadata": {},
     "output_type": "execute_result"
    }
   ],
   "source": [
    "Matrix(meas_fitter_qiskit.cal_matrix)"
   ]
  },
  {
   "cell_type": "code",
   "execution_count": 58,
   "metadata": {},
   "outputs": [
    {
     "data": {
      "text/latex": [
       "$\\displaystyle \\left[\\begin{matrix}0.8873125 & 0.06125 & 0.04625 & 0.00896875 & 0.03753125 & 0.00371875 & 0.0023125 & 0.01003125\\\\0.03275 & 0.85940625 & 0.00784375 & 0.04484375 & 0.00225 & 0.03765625 & 0.00984375 & 0.00196875\\\\0.0256875 & 0.00784375 & 0.870875 & 0.06071875 & 0.001625 & 0.01128125 & 0.03590625 & 0.002875\\\\0.00696875 & 0.02409375 & 0.0301875 & 0.8385 & 0.01 & 0.00140625 & 0.00190625 & 0.0358125\\\\0.03515625 & 0.00328125 & 0.002125 & 0.00878125 & 0.886125 & 0.06059375 & 0.0461875 & 0.0096875\\\\0.0021875 & 0.0330625 & 0.0095625 & 0.00209375 & 0.03240625 & 0.852375 & 0.00784375 & 0.045625\\\\0.00128125 & 0.00971875 & 0.03115625 & 0.0031875 & 0.0239375 & 0.00865625 & 0.864625 & 0.06096875\\\\0.00865625 & 0.00134375 & 0.002 & 0.03290625 & 0.006125 & 0.0243125 & 0.031375 & 0.83303125\\end{matrix}\\right]$"
      ],
      "text/plain": [
       "Matrix([\n",
       "[ 0.8873125,    0.06125,    0.04625, 0.00896875, 0.03753125, 0.00371875,  0.0023125, 0.01003125],\n",
       "[   0.03275, 0.85940625, 0.00784375, 0.04484375,    0.00225, 0.03765625, 0.00984375, 0.00196875],\n",
       "[ 0.0256875, 0.00784375,   0.870875, 0.06071875,   0.001625, 0.01128125, 0.03590625,   0.002875],\n",
       "[0.00696875, 0.02409375,  0.0301875,     0.8385,       0.01, 0.00140625, 0.00190625,  0.0358125],\n",
       "[0.03515625, 0.00328125,   0.002125, 0.00878125,   0.886125, 0.06059375,  0.0461875,  0.0096875],\n",
       "[ 0.0021875,  0.0330625,  0.0095625, 0.00209375, 0.03240625,   0.852375, 0.00784375,   0.045625],\n",
       "[0.00128125, 0.00971875, 0.03115625,  0.0031875,  0.0239375, 0.00865625,   0.864625, 0.06096875],\n",
       "[0.00865625, 0.00134375,      0.002, 0.03290625,   0.006125,  0.0243125,   0.031375, 0.83303125]])"
      ]
     },
     "execution_count": 58,
     "metadata": {},
     "output_type": "execute_result"
    }
   ],
   "source": [
    "Matrix(meas_fitter_our_identity.cal_matrix)"
   ]
  },
  {
   "cell_type": "code",
   "execution_count": 59,
   "metadata": {},
   "outputs": [],
   "source": [
    "U_tilde_identity=meas_fitter_our_identity.cal_matrix\n",
    "U_tilde_itself=meas_fitter_our_itself.cal_matrix\n",
    "U_tilde_qiskit=meas_fitter_qiskit.cal_matrix"
   ]
  },
  {
   "cell_type": "code",
   "execution_count": 60,
   "metadata": {},
   "outputs": [],
   "source": [
    "def matrix_from_cirquit(qc, phase=0, type=\"sympy\"):\n",
    "\n",
    "    backend = Aer.get_backend('unitary_simulator')\n",
    "    job = execute(qc, backend, shots=32000)\n",
    "    result = job.result()\n",
    "    A=result.get_unitary(qc, decimals=10)*np.exp(1j*phase)\n",
    "    if type==\"sympy\":\n",
    "        return Matrix(A)\n",
    "    else:\n",
    "        return A"
   ]
  },
  {
   "cell_type": "code",
   "execution_count": 61,
   "metadata": {},
   "outputs": [
    {
     "data": {
      "text/html": [
       "<pre style=\"word-wrap: normal;white-space: pre;background: #fff0;line-height: 1.1;font-family: &quot;Courier New&quot;,Courier,monospace\">          ░ ┌─────┐ ┌───┐      ┌─┐   \n",
       "q3100_0: ─░─┤ Sdg ├─┤ H ├──────┤M├───\n",
       "          ░ └─┬─┬─┘ └───┘      └╥┘   \n",
       "q3100_1: ─░───┤M├───────────────╫────\n",
       "          ░   └╥┘  ┌─────┐┌───┐ ║ ┌─┐\n",
       "q3100_2: ─░────╫───┤ Sdg ├┤ H ├─╫─┤M├\n",
       "          ░    ║   └─────┘└───┘ ║ └╥┘\n",
       "  c37: 3/══════╩════════════════╩══╩═\n",
       "               1                0  2 </pre>"
      ],
      "text/plain": [
       "          ░ ┌─────┐ ┌───┐      ┌─┐   \n",
       "q3100_0: ─░─┤ Sdg ├─┤ H ├──────┤M├───\n",
       "          ░ └─┬─┬─┘ └───┘      └╥┘   \n",
       "q3100_1: ─░───┤M├───────────────╫────\n",
       "          ░   └╥┘  ┌─────┐┌───┐ ║ ┌─┐\n",
       "q3100_2: ─░────╫───┤ Sdg ├┤ H ├─╫─┤M├\n",
       "          ░    ║   └─────┘└───┘ ║ └╥┘\n",
       "  c37: 3/══════╩════════════════╩══╩═\n",
       "               1                0  2 "
      ]
     },
     "execution_count": 61,
     "metadata": {},
     "output_type": "execute_result"
    }
   ],
   "source": [
    "qr_basi = QuantumRegister(3)\n",
    "qc_basi = QuantumCircuit(qr_basi)\n",
    "\n",
    "qcs_basis = state_tomography_circuits(qc_basi, qr_basi)\n",
    "\n",
    "qcs_basis[0].remove_final_measurements()\n",
    "\n",
    "qcs_basis[16].draw()"
   ]
  },
  {
   "cell_type": "code",
   "execution_count": 62,
   "metadata": {},
   "outputs": [
    {
     "data": {
      "text/plain": [
       "array([[9.4259375e-01, 4.8000000e-02, 3.4625000e-02, 1.6875000e-03,\n",
       "        3.0625000e-02, 1.7500000e-03, 1.0625000e-03, 3.1250000e-05],\n",
       "       [1.6843750e-02, 9.1293750e-01, 5.6250000e-04, 3.2781250e-02,\n",
       "        5.0000000e-04, 3.1687500e-02, 0.0000000e+00, 9.6875000e-04],\n",
       "       [1.1343750e-02, 8.4375000e-04, 9.1706250e-01, 4.9437500e-02,\n",
       "        4.6875000e-04, 9.3750000e-05, 3.0156250e-02, 1.5312500e-03],\n",
       "       [2.8125000e-04, 9.9062500e-03, 1.8125000e-02, 8.8781250e-01,\n",
       "        0.0000000e+00, 3.1250000e-04, 5.0000000e-04, 2.9718750e-02],\n",
       "       [2.8000000e-02, 1.3125000e-03, 1.0312500e-03, 1.2500000e-04,\n",
       "        9.3937500e-01, 4.9468750e-02, 3.4812500e-02, 1.5000000e-03],\n",
       "       [5.0000000e-04, 2.6687500e-02, 0.0000000e+00, 8.4375000e-04,\n",
       "        1.8093750e-02, 9.0590625e-01, 4.3750000e-04, 3.2281250e-02],\n",
       "       [4.3750000e-04, 0.0000000e+00, 2.8031250e-02, 1.5000000e-03,\n",
       "        1.0843750e-02, 5.0000000e-04, 9.1450000e-01, 4.8625000e-02],\n",
       "       [0.0000000e+00, 3.1250000e-04, 5.6250000e-04, 2.5812500e-02,\n",
       "        9.3750000e-05, 1.0281250e-02, 1.8531250e-02, 8.8534375e-01]])"
      ]
     },
     "execution_count": 62,
     "metadata": {},
     "output_type": "execute_result"
    }
   ],
   "source": [
    "meas_fitter_qiskit.cal_matrix"
   ]
  },
  {
   "cell_type": "code",
   "execution_count": 63,
   "metadata": {},
   "outputs": [],
   "source": [
    "C_matrices_itself = []\n",
    "C_matrices_identity = []\n",
    "\n",
    "U_ideal_inv = np.linalg.inv(U_ideal)\n",
    "U_ideal_inv_abs = np.abs(U_ideal_inv)**2\n",
    "\n",
    "#C_itself = np.matmul(U_tilde_itself, )\n",
    "C_identity = U_tilde_identity\n",
    "\n",
    "for base in qcs_basis:\n",
    "    \n",
    "    base.remove_final_measurements()\n",
    "\n",
    "    base_matrix = matrix_from_cirquit(base, type=\"numpy\")\n",
    "    base_matrix_H = np.linalg.inv(base_matrix)\n",
    "\n",
    "    C_aus_itself = np.linalg.multi_dot([base_matrix, U_tilde_itself, U_ideal_inv,  base_matrix_H])\n",
    "    #C_aus_itself = np.linalg.multi_dot([U_tilde_qiskit, base_matrix, np.linalg.inv(U_tilde_qiskit), U_tilde_itself, U_ideal_inv,  base_matrix_H])\n",
    "    #C_aus_itself = np.linalg.multi_dot([base_matrix, U_tilde_qiskit, np.linalg.inv(U_tilde_qiskit), C_itself])\n",
    "    C_aus_identity = np.matmul(base_matrix, np.matmul(C_identity, base_matrix_H))\n",
    "\n",
    "    C_matrices_identity.append(np.asarray(C_aus_identity))\n",
    "    C_matrices_itself.append(np.asarray(C_aus_itself))"
   ]
  },
  {
   "cell_type": "code",
   "execution_count": 64,
   "metadata": {},
   "outputs": [],
   "source": [
    "from copy import deepcopy\n",
    "\n",
    "meas_fitters_identity = []\n",
    "meas_fitters_itself = []\n",
    "\n",
    "for C_new in C_matrices_identity:\n",
    "    meas_fitter_our_aus = deepcopy(meas_fitter_our_identity)\n",
    "    meas_fitter_our_aus._tens_fitt.cal_matrices[0]=C_new\n",
    "\n",
    "    meas_fitters_identity.append(meas_fitter_our_aus)\n",
    "\n",
    "for C_new in C_matrices_itself:\n",
    "    meas_fitter_our_aus = deepcopy(meas_fitter_our_itself)\n",
    "    meas_fitter_our_aus._tens_fitt.cal_matrices[0]=C_new\n",
    "\n",
    "    meas_fitters_itself.append(meas_fitter_our_aus)"
   ]
  },
  {
   "cell_type": "code",
   "execution_count": 65,
   "metadata": {},
   "outputs": [],
   "source": [
    "target_state = (One^One^Zero).to_matrix()\n",
    "#target_state = (Zero^One^One).to_matrix()\n",
    "\n",
    "\n",
    "fids=np.zeros(4)\n",
    "\n",
    "raw_res=deepcopy(job_tomo.result())\n",
    "qiskit_res=deepcopy(raw_res)\n",
    "identity_res=deepcopy(raw_res)\n",
    "itself_res=deepcopy(raw_res)"
   ]
  },
  {
   "cell_type": "code",
   "execution_count": 66,
   "metadata": {},
   "outputs": [
    {
     "data": {
      "text/plain": [
       "{'010': 1132,\n",
       " '000': 194,\n",
       " '110': 6642,\n",
       " '001': 971,\n",
       " '100': 851,\n",
       " '011': 14489,\n",
       " '111': 1119,\n",
       " '101': 6602}"
      ]
     },
     "execution_count": 66,
     "metadata": {},
     "output_type": "execute_result"
    }
   ],
   "source": [
    "raw_res.get_counts(-1)"
   ]
  },
  {
   "cell_type": "code",
   "execution_count": 67,
   "metadata": {},
   "outputs": [],
   "source": [
    "for i in range(27):\n",
    "\n",
    "    old_counts=raw_res.get_counts(i)\n",
    "    new_counts_qiskit = meas_fitter_qiskit.filter.apply(old_counts, method=\"least_squares\")\n",
    "    qiskit_res.results[i].data.counts = new_counts_qiskit\n",
    "\n",
    "    new_counts_id = meas_fitters_identity[i].filter.apply(old_counts, method=\"least_squares\")\n",
    "    identity_res.results[i].data.counts = new_counts_id\n",
    "\n",
    "    new_counts_it = meas_fitters_itself[i].filter.apply(old_counts, method=\"least_squares\")\n",
    "    itself_res.results[i].data.counts = new_counts_it"
   ]
  },
  {
   "cell_type": "code",
   "execution_count": 68,
   "metadata": {},
   "outputs": [
    {
     "data": {
      "text/plain": [
       "{'000': 131.26124577677524,\n",
       " '001': 224.24060276085203,\n",
       " '010': 115.9538608494871,\n",
       " '011': 16289.827216402035,\n",
       " '100': 250.68394564706009,\n",
       " '101': 7237.651137675255,\n",
       " '110': 7196.255724424848,\n",
       " '111': 554.1262664636848}"
      ]
     },
     "execution_count": 68,
     "metadata": {},
     "output_type": "execute_result"
    }
   ],
   "source": [
    "qiskit_res.get_counts(-1)"
   ]
  },
  {
   "cell_type": "code",
   "execution_count": 69,
   "metadata": {},
   "outputs": [
    {
     "data": {
      "text/latex": [
       "$\\displaystyle \\left[\\begin{matrix}0.353553390593274\\\\0.353553390593274\\\\0.353553390593274\\\\0.353553390593274\\\\0.353553390593274\\\\0.353553390593274\\\\0.353553390593274\\\\0.353553390593274\\end{matrix}\\right]$"
      ],
      "text/plain": [
       "Matrix([\n",
       "[0.353553390593274],\n",
       "[0.353553390593274],\n",
       "[0.353553390593274],\n",
       "[0.353553390593274],\n",
       "[0.353553390593274],\n",
       "[0.353553390593274],\n",
       "[0.353553390593274],\n",
       "[0.353553390593274]])"
      ]
     },
     "execution_count": 69,
     "metadata": {},
     "output_type": "execute_result"
    }
   ],
   "source": [
    "It_comp=occurrences_to_vector(itself_res.get_counts(-1))/(shots)\n",
    "It_H=np.dot(Had3,It_comp)\n",
    "Matrix(It_H)"
   ]
  },
  {
   "cell_type": "code",
   "execution_count": null,
   "metadata": {},
   "outputs": [],
   "source": []
  },
  {
   "cell_type": "code",
   "execution_count": 70,
   "metadata": {},
   "outputs": [
    {
     "data": {
      "text/plain": [
       "{'000': 32000.0}"
      ]
     },
     "execution_count": 70,
     "metadata": {},
     "output_type": "execute_result"
    }
   ],
   "source": [
    "itself_res.get_counts(0)"
   ]
  },
  {
   "cell_type": "code",
   "execution_count": 71,
   "metadata": {},
   "outputs": [
    {
     "data": {
      "text/plain": [
       "{'000': 32000.0}"
      ]
     },
     "execution_count": 71,
     "metadata": {},
     "output_type": "execute_result"
    }
   ],
   "source": [
    "itself_res.get_counts(-1)"
   ]
  },
  {
   "cell_type": "code",
   "execution_count": 72,
   "metadata": {},
   "outputs": [
    {
     "data": {
      "text/plain": [
       "{'000': 1.491171141490782e-10,\n",
       " '001': 8.522884481741281e-09,\n",
       " '010': 1.518497600326362e-08,\n",
       " '011': 17077.68189146302,\n",
       " '100': 4.881820260796403e-09,\n",
       " '101': 7479.580425036929,\n",
       " '110': 7391.589379871423,\n",
       " '111': 51.14830360014417}"
      ]
     },
     "execution_count": 72,
     "metadata": {},
     "output_type": "execute_result"
    }
   ],
   "source": [
    "identity_res.get_counts(-1)"
   ]
  },
  {
   "cell_type": "code",
   "execution_count": 73,
   "metadata": {},
   "outputs": [
    {
     "data": {
      "text/plain": [
       "array([0.20434632, 0.22126378, 0.21903341, 0.03035908])"
      ]
     },
     "execution_count": 73,
     "metadata": {},
     "output_type": "execute_result"
    }
   ],
   "source": [
    "fids[0] = fidelity_count(raw_res, qcs_tomo, target_state)\n",
    "fids[1] = fidelity_count(qiskit_res, qcs_tomo, target_state)\n",
    "fids[2] = fidelity_count(identity_res, qcs_tomo, target_state)\n",
    "fids[3] = fidelity_count(itself_res, qcs_tomo, target_state)\n",
    "\n",
    "fids"
   ]
  },
  {
   "cell_type": "code",
   "execution_count": 74,
   "metadata": {},
   "outputs": [
    {
     "data": {
      "text/plain": [
       "array([1.49117114e-10, 8.52288448e-09, 1.51849760e-08, 1.70776819e+04,\n",
       "       4.88182026e-09, 7.47958043e+03, 7.39158938e+03, 5.11483036e+01])"
      ]
     },
     "execution_count": 74,
     "metadata": {},
     "output_type": "execute_result"
    }
   ],
   "source": [
    "occurrences_to_vector(identity_res.get_counts(-1))"
   ]
  },
  {
   "cell_type": "markdown",
   "metadata": {},
   "source": [
    "# Confronto caso ideale"
   ]
  },
  {
   "cell_type": "code",
   "execution_count": 38,
   "metadata": {},
   "outputs": [],
   "source": [
    "import numpy as np\n",
    "import matplotlib.pyplot as plt\n",
    "plt.rcParams.update({'font.size': 16})  # enlarge matplotlib fonts\n",
    "\n",
    "# Import qubit states Zero (|0>) and One (|1>), and Pauli operators (X, Y, Z)\n",
    "from qiskit.opflow import Zero, One, I, X, Y, Z\n",
    "\n",
    "# Suppress warnings\n",
    "import warnings\n",
    "warnings.filterwarnings('ignore')\n",
    "\n",
    "# Returns the matrix representation of the XXX Heisenberg model for 3 spin-1/2 particles in a line\n",
    "def H_heis3():\n",
    "    # Interactions (I is the identity matrix; X, Y, and Z are Pauli matricies; ^ is a tensor product)\n",
    "    XXs = (I^X^X) + (X^X^I)\n",
    "    YYs = (I^Y^Y) + (Y^Y^I)\n",
    "    ZZs = (I^Z^Z) + (Z^Z^I)\n",
    "    \n",
    "    # Sum interactions\n",
    "    H = XXs + YYs + ZZs\n",
    "    \n",
    "    # Return Hamiltonian\n",
    "    return H\n",
    "\n",
    "# Returns the matrix representation of U_heis3(t) for a given time t assuming an XXX Heisenberg Hamiltonian for 3 spins-1/2 particles in a line\n",
    "def U_heis3(t):\n",
    "    # Compute XXX Hamiltonian for 3 spins in a line\n",
    "    H = H_heis3()\n",
    "    \n",
    "    # Return the exponential of -i multipled by time t multipled by the 3 spin XXX Heisenberg Hamilonian \n",
    "    return (t * H).exp_i()"
   ]
  },
  {
   "cell_type": "code",
   "execution_count": 39,
   "metadata": {},
   "outputs": [
    {
     "data": {
      "text/plain": [
       "0.11111111111111122"
      ]
     },
     "execution_count": 39,
     "metadata": {},
     "output_type": "execute_result"
    }
   ],
   "source": [
    "initial_state = One^One^Zero\n",
    "\n",
    "#((initial_state @ U_heis3(float(time)) @ initial_state).eval())**2\n",
    "np.abs((~initial_state @ U_heis3(float(time)) @ initial_state).eval())**2"
   ]
  },
  {
   "cell_type": "code",
   "execution_count": null,
   "metadata": {},
   "outputs": [],
   "source": []
  }
 ],
 "metadata": {
  "interpreter": {
   "hash": "aee8b7b246df8f9039afb4144a1f6fd8d2ca17a180786b69acc140d282b71a49"
  },
  "kernelspec": {
   "display_name": "Python 3.10.2 64-bit",
   "language": "python",
   "name": "python3"
  },
  "language_info": {
   "codemirror_mode": {
    "name": "ipython",
    "version": 3
   },
   "file_extension": ".py",
   "mimetype": "text/x-python",
   "name": "python",
   "nbconvert_exporter": "python",
   "pygments_lexer": "ipython3",
   "version": "3.8.0"
  },
  "orig_nbformat": 4
 },
 "nbformat": 4,
 "nbformat_minor": 2
}
