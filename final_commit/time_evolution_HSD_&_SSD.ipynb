{
 "cells": [
  {
   "cell_type": "code",
   "execution_count": 1,
   "metadata": {},
   "outputs": [],
   "source": [
    "from lib import utilities\n",
    "import numpy as np\n",
    "import copy\n",
    "from scipy.linalg import expm\n",
    "from qiskit.utils.mitigation.fitters import CompleteMeasFitter\n",
    "from qiskit.ignis.mitigation.measurement import  complete_meas_cal\n",
    "from qiskit import Aer, assemble, QuantumCircuit, QuantumRegister, ClassicalRegister, IBMQ, transpile, execute\n",
    "from qiskit.providers.aer import AerSimulator, QasmSimulator\n",
    "from qiskit.opflow import Zero, One, I, X, Y, Z\n",
    "from qiskit.ignis.verification.tomography import state_tomography_circuits, StateTomographyFitter\n",
    "from qiskit.quantum_info import state_fidelity\n",
    "import matplotlib.pyplot as plt\n",
    "%load_ext autoreload\n",
    "%autoreload 2\n",
    "import warnings\n",
    "warnings.filterwarnings('ignore')\n",
    "IBMQ.load_account()\n",
    "\n",
    "provider = IBMQ.get_provider(hub='ibm-q-community',\n",
    "                            group='ibmquantumawards', \n",
    "                            project='open-science-22')\n",
    "backend_sim_jakarta = QasmSimulator.from_backend(provider.get_backend('ibmq_jakarta'))\n",
    "backend_real_jakarta = provider.get_backend('ibmq_jakarta')\n",
    "backend_sim = Aer.get_backend('qasm_simulator')"
   ]
  },
  {
   "cell_type": "code",
   "execution_count": 2,
   "metadata": {},
   "outputs": [
    {
     "name": "stdout",
     "output_type": "stream",
     "text": [
      "building circuits\n",
      "attenzione al caso != HSD o SSD.  -get_evolution_circuit\n",
      "attenzione al caso != HSD o SSD.  -get_evolution_circuit\n",
      "attenzione al caso != HSD o SSD.  -get_evolution_circuit\n",
      "attenzione al caso != HSD o SSD.  -get_evolution_circuit\n",
      "attenzione al caso != HSD o SSD.  -get_evolution_circuit\n",
      "attenzione al caso != HSD o SSD.  -get_evolution_circuit\n",
      "attenzione al caso != HSD o SSD.  -get_evolution_circuit\n",
      "attenzione al caso != HSD o SSD.  -get_evolution_circuit\n",
      "attenzione al caso != HSD o SSD.  -get_evolution_circuit\n",
      "attenzione al caso != HSD o SSD.  -get_evolution_circuit\n",
      "attenzione al caso != HSD o SSD.  -get_evolution_circuit\n",
      "execute all circuits\n",
      "mitigation\n"
     ]
    },
    {
     "data": {
      "text/plain": [
       "{'011': 19,\n",
       " '001': 240,\n",
       " '110': 39,\n",
       " '100': 232,\n",
       " '101': 27,\n",
       " '010': 545,\n",
       " '000': 6898}"
      ]
     },
     "execution_count": 2,
     "metadata": {},
     "output_type": "execute_result"
    }
   ],
   "source": [
    "N_STEPS = 99\n",
    "N_POINTS = 10\n",
    "TIME_RANGE = np.linspace(0.001, np.pi, N_POINTS)\n",
    "TIME_CALIBRATION = np.pi\n",
    "DECOMPOSITION = \"SSD\" # or \"HSD\"\n",
    "NIC_eigenvector = \"000\" # becarefull: when HSD is used we suggest to use \"111\" eigenvector. \"000\" or \"111\" for SSD.\n",
    "\n",
    "############### circuits building\n",
    "print(\"building circuits\")\n",
    "# qiskit measure calibration circuits.\n",
    "qr_cal = QuantumRegister(3)\n",
    "calib_circuits_qiskit, state_labels = complete_meas_cal(qubit_list=[0,1,2], qr=qr_cal, circlabel='mcal')\n",
    "# NIC and CIC calibration circuits.\n",
    "evo_qc_calibration, evo_qr_calibration = utilities.get_evolution_circuit(TIME_CALIBRATION, N_STEPS, method=DECOMPOSITION)\n",
    "\n",
    "calib_circuits_NIC = utilities.get_calibration_circuits(evo_qc_calibration, method=\"NIC\", eigenvector=NIC_eigenvector)\n",
    "calib_circuits_CIC = utilities.get_calibration_circuits(evo_qc_calibration, method=\"CIC\")\n",
    "# evolution tomograhy circuits.\n",
    "qcs_tomography_list = []\n",
    "for i, time in enumerate(TIME_RANGE):\n",
    "    evo_qc, evo_qr = utilities.get_evolution_circuit(time, N_STEPS, method=DECOMPOSITION)\n",
    "    qcs_tomography = state_tomography_circuits(evo_qc, evo_qr)\n",
    "    qcs_tomography_list.append(qcs_tomography)\n",
    "\n",
    "############### execute all\n",
    "print(\"execute all circuits\")\n",
    "shots = 8000\n",
    "# calibration circuits. For each techniqe are runned 8 (2^n) calibration circuits.\n",
    "job_NIC=execute(calib_circuits_NIC, backend = backend_sim_jakarta, shots=shots, initial_layout=[1,3,5])\n",
    "job_CIC=execute(calib_circuits_CIC, backend = backend_sim_jakarta, shots=shots, initial_layout=[1,3,5])\n",
    "job_qiskit=execute(calib_circuits_qiskit, backend = backend_sim_jakarta, shots=shots, initial_layout=[1,3,5])\n",
    "\n",
    "# evolution cicuits. Are runned 27 circuits for each point.\n",
    "jobs_evo = []\n",
    "for i in range(N_POINTS):\n",
    "    job=execute(qcs_tomography_list[i], backend = backend_sim_jakarta, shots=shots, initial_layout=[1,3,5])\n",
    "    jobs_evo.append(job)\n",
    "\n",
    "############### mitigation\n",
    "print(\"mitigation\")\n",
    "# compute the U_ideal unitary matrix of the circuit. Is used only for the CIC mitigation.\n",
    "U_ideal = utilities.matrix_from_circuit(evo_qc_calibration)\n",
    "# fast_tomography_calibration_MeasFitters returns a list of 27 CompleteMeasFitter objects, one for each tomo basis.\n",
    "meas_fitters_NIC = utilities.fast_tomography_calibration_MeasFitters(job_NIC.result(), method=\"NIC\")\n",
    "meas_fitters_CIC = utilities.fast_tomography_calibration_MeasFitters(job_CIC.result(), method=\"CIC\", U_ideal=U_ideal)\n",
    "meas_fitters_qiskit = CompleteMeasFitter(job_qiskit.result(), state_labels=state_labels)\n",
    "# in meas_fitters_NIC and meas_fitters_CIC there are all the calibration matrices.\n",
    "\n",
    "raw_result_list = []\n",
    "qiskit_result_list = []\n",
    "NIC_result_list = []\n",
    "CIC_result_list = []\n",
    "\n",
    "fids_dict = {\n",
    "    \"110\": np.zeros([4, N_POINTS]),\n",
    "    \"101\": np.zeros([4, N_POINTS]),\n",
    "    \"011\": np.zeros([4, N_POINTS])\n",
    "}\n",
    "jobs_evo[-1].result().get_counts(-1)"
   ]
  },
  {
   "cell_type": "code",
   "execution_count": 3,
   "metadata": {},
   "outputs": [
    {
     "data": {
      "text/html": [
       "<pre style=\"word-wrap: normal;white-space: pre;background: #fff0;line-height: 1.1;font-family: &quot;Courier New&quot;,Courier,monospace\">global phase: π\n",
       "        ┌─────────┐  ┌────┐┌─────────┐     ┌────────┐┌────┐┌────────────┐┌────┐»\n",
       "q__0: ──┤ Rz(π/2) ├──┤ √X ├┤ Rz(π/2) ├──■──┤ Rz(-π) ├┤ √X ├┤ Rz(3.1396) ├┤ √X ├»\n",
       "      ┌─┴─────────┴─┐└────┘└─────────┘┌─┴─┐├────────┤├────┤├────────────┤├────┤»\n",
       "q__1: ┤ Rz(-3.1409) ├─────────────────┤ X ├┤ Rz(-π) ├┤ √X ├┤ Rz(3.1396) ├┤ √X ├»\n",
       "      └─────────────┘                 └───┘└────────┘└────┘└────────────┘└────┘»\n",
       "q__2: ─────────────────────────────────────────────────────────────────────────»\n",
       "                                                                               »\n",
       "c1: 3/═════════════════════════════════════════════════════════════════════════»\n",
       "                                                                               »\n",
       "«              ┌─────────┐    ┌────┐┌─────────┐                     »\n",
       "«q__0: ──■─────┤ Rz(π/2) ├────┤ √X ├┤ Rz(π/2) ├─────────────────────»\n",
       "«      ┌─┴─┐┌──┴─────────┴───┐├────┤├─────────┤     ┌────────┐┌────┐»\n",
       "«q__1: ┤ X ├┤ Rz(-0.0010101) ├┤ √X ├┤ Rz(π/2) ├──■──┤ Rz(-π) ├┤ √X ├»\n",
       "«      └───┘└────────────────┘└────┘└─────────┘┌─┴─┐├────────┤├────┤»\n",
       "«q__2: ────────────────────────────────────────┤ X ├┤ Rz(-π) ├┤ √X ├»\n",
       "«                                              └───┘└────────┘└────┘»\n",
       "«c1: 3/═════════════════════════════════════════════════════════════»\n",
       "«                                                                   »\n",
       "«                                                               ░ ┌─┐      \n",
       "«q__0: ─────────────────────────────────────────────────────────░─┤M├──────\n",
       "«      ┌────────────┐┌────┐      ┌─────────┐  ┌────┐┌─────────┐ ░ └╥┘┌─┐   \n",
       "«q__1: ┤ Rz(3.1406) ├┤ √X ├──■───┤ Rz(π/2) ├──┤ √X ├┤ Rz(π/2) ├─░──╫─┤M├───\n",
       "«      ├────────────┤├────┤┌─┴─┐┌┴─────────┴─┐└────┘└─────────┘ ░  ║ └╥┘┌─┐\n",
       "«q__2: ┤ Rz(3.1406) ├┤ √X ├┤ X ├┤ Rz(4.7127) ├──────────────────░──╫──╫─┤M├\n",
       "«      └────────────┘└────┘└───┘└────────────┘                  ░  ║  ║ └╥┘\n",
       "«c1: 3/════════════════════════════════════════════════════════════╩══╩══╩═\n",
       "«                                                                  0  1  2 </pre>"
      ],
      "text/plain": [
       "global phase: π\n",
       "        ┌─────────┐  ┌────┐┌─────────┐     ┌────────┐┌────┐┌────────────┐┌────┐»\n",
       "q__0: ──┤ Rz(π/2) ├──┤ √X ├┤ Rz(π/2) ├──■──┤ Rz(-π) ├┤ √X ├┤ Rz(3.1396) ├┤ √X ├»\n",
       "      ┌─┴─────────┴─┐└────┘└─────────┘┌─┴─┐├────────┤├────┤├────────────┤├────┤»\n",
       "q__1: ┤ Rz(-3.1409) ├─────────────────┤ X ├┤ Rz(-π) ├┤ √X ├┤ Rz(3.1396) ├┤ √X ├»\n",
       "      └─────────────┘                 └───┘└────────┘└────┘└────────────┘└────┘»\n",
       "q__2: ─────────────────────────────────────────────────────────────────────────»\n",
       "                                                                               »\n",
       "c1: 3/═════════════════════════════════════════════════════════════════════════»\n",
       "                                                                               »\n",
       "«              ┌─────────┐    ┌────┐┌─────────┐                     »\n",
       "«q__0: ──■─────┤ Rz(π/2) ├────┤ √X ├┤ Rz(π/2) ├─────────────────────»\n",
       "«      ┌─┴─┐┌──┴─────────┴───┐├────┤├─────────┤     ┌────────┐┌────┐»\n",
       "«q__1: ┤ X ├┤ Rz(-0.0010101) ├┤ √X ├┤ Rz(π/2) ├──■──┤ Rz(-π) ├┤ √X ├»\n",
       "«      └───┘└────────────────┘└────┘└─────────┘┌─┴─┐├────────┤├────┤»\n",
       "«q__2: ────────────────────────────────────────┤ X ├┤ Rz(-π) ├┤ √X ├»\n",
       "«                                              └───┘└────────┘└────┘»\n",
       "«c1: 3/═════════════════════════════════════════════════════════════»\n",
       "«                                                                   »\n",
       "«                                                               ░ ┌─┐      \n",
       "«q__0: ─────────────────────────────────────────────────────────░─┤M├──────\n",
       "«      ┌────────────┐┌────┐      ┌─────────┐  ┌────┐┌─────────┐ ░ └╥┘┌─┐   \n",
       "«q__1: ┤ Rz(3.1406) ├┤ √X ├──■───┤ Rz(π/2) ├──┤ √X ├┤ Rz(π/2) ├─░──╫─┤M├───\n",
       "«      ├────────────┤├────┤┌─┴─┐┌┴─────────┴─┐└────┘└─────────┘ ░  ║ └╥┘┌─┐\n",
       "«q__2: ┤ Rz(3.1406) ├┤ √X ├┤ X ├┤ Rz(4.7127) ├──────────────────░──╫──╫─┤M├\n",
       "«      └────────────┘└────┘└───┘└────────────┘                  ░  ║  ║ └╥┘\n",
       "«c1: 3/════════════════════════════════════════════════════════════╩══╩══╩═\n",
       "«                                                                  0  1  2 "
      ]
     },
     "execution_count": 3,
     "metadata": {},
     "output_type": "execute_result"
    }
   ],
   "source": [
    "qcs_tomography_list[0][26].draw()"
   ]
  },
  {
   "cell_type": "code",
   "execution_count": 4,
   "metadata": {},
   "outputs": [
    {
     "name": "stdout",
     "output_type": "stream",
     "text": [
      "0\n",
      "1\n",
      "2\n",
      "3\n",
      "4\n",
      "5\n",
      "6\n",
      "7\n",
      "8\n",
      "9\n"
     ]
    }
   ],
   "source": [
    "\n",
    "for i, time in enumerate(TIME_RANGE):\n",
    "\n",
    "    raw_result = jobs_evo[i].result()\n",
    "    qiskit_result = copy.deepcopy(raw_result)\n",
    "    NIC_result = copy.deepcopy(raw_result)\n",
    "    CIC_result = copy.deepcopy(raw_result)\n",
    "\n",
    "    for j in range(27):\n",
    "        old_counts=raw_result.get_counts(j)\n",
    "        new_counts_NIC = meas_fitters_NIC[j].filter.apply(old_counts, method=\"least_squares\")\n",
    "        NIC_result.results[j].data.counts = new_counts_NIC\n",
    "        \n",
    "        new_counts_CIC = meas_fitters_CIC[j].filter.apply(old_counts, method=\"least_squares\")\n",
    "        CIC_result.results[j].data.counts = new_counts_CIC\n",
    "\n",
    "        new_counts_qiskit = meas_fitters_CIC[j].filter.apply(old_counts, method=\"least_squares\")\n",
    "        qiskit_result.results[j].data.counts = new_counts_qiskit\n",
    "\n",
    "\n",
    "    for target_state, string_state in ([One^One^Zero, \"110\"], [One^Zero^One, \"101\"], [Zero^One^One, \"011\"]):\n",
    "        for j, result in enumerate([raw_result, qiskit_result, NIC_result, CIC_result]):\n",
    "            fids_dict[string_state][j][i] = utilities.fidelity_count(result, qcs_tomography_list[i], target_state.to_matrix())\n",
    "        \n",
    "    print(i)\n",
    "############### results\n"
   ]
  },
  {
   "cell_type": "code",
   "execution_count": 6,
   "metadata": {},
   "outputs": [
    {
     "ename": "ValueError",
     "evalue": "x and y must have same first dimension, but have shapes (10,) and (4, 10)",
     "output_type": "error",
     "traceback": [
      "\u001b[0;31m---------------------------------------------------------------------------\u001b[0m",
      "\u001b[0;31mValueError\u001b[0m                                Traceback (most recent call last)",
      "\u001b[1;32m/Users/valerio/Documents/project_IBM_01/IBM_git/final_commit/time_evolution_HSD_&_SSD.ipynb Cell 5'\u001b[0m in \u001b[0;36m<cell line: 35>\u001b[0;34m()\u001b[0m\n\u001b[1;32m     <a href='vscode-notebook-cell:/Users/valerio/Documents/project_IBM_01/IBM_git/final_commit/time_evolution_HSD_%26_SSD.ipynb#ch0000006?line=33'>34</a>\u001b[0m plt\u001b[39m.\u001b[39mfigure(figsize\u001b[39m=\u001b[39m(\u001b[39m13\u001b[39m,\u001b[39m10\u001b[39m), dpi\u001b[39m=\u001b[39m\u001b[39m100\u001b[39m)\n\u001b[1;32m     <a href='vscode-notebook-cell:/Users/valerio/Documents/project_IBM_01/IBM_git/final_commit/time_evolution_HSD_%26_SSD.ipynb#ch0000006?line=34'>35</a>\u001b[0m \u001b[39mfor\u001b[39;00m i, fids \u001b[39min\u001b[39;00m \u001b[39menumerate\u001b[39m(fids_dict):\n\u001b[0;32m---> <a href='vscode-notebook-cell:/Users/valerio/Documents/project_IBM_01/IBM_git/final_commit/time_evolution_HSD_%26_SSD.ipynb#ch0000006?line=35'>36</a>\u001b[0m     plt\u001b[39m.\u001b[39;49mplot(TIME_RANGE, fids_dict[fids], linestyle\u001b[39m=\u001b[39;49m\u001b[39m'\u001b[39;49m\u001b[39m'\u001b[39;49m, marker\u001b[39m=\u001b[39;49m\u001b[39m'\u001b[39;49m\u001b[39m*\u001b[39;49m\u001b[39m'\u001b[39;49m, label\u001b[39m=\u001b[39;49mlabels[i])\n\u001b[1;32m     <a href='vscode-notebook-cell:/Users/valerio/Documents/project_IBM_01/IBM_git/final_commit/time_evolution_HSD_%26_SSD.ipynb#ch0000006?line=37'>38</a>\u001b[0m \u001b[39mfor\u001b[39;00m state \u001b[39min\u001b[39;00m [\u001b[39m\"\u001b[39m\u001b[39m110\u001b[39m\u001b[39m\"\u001b[39m, \u001b[39m\"\u001b[39m\u001b[39m101\u001b[39m\u001b[39m\"\u001b[39m, \u001b[39m\"\u001b[39m\u001b[39m011\u001b[39m\u001b[39m\"\u001b[39m]:\n\u001b[1;32m     <a href='vscode-notebook-cell:/Users/valerio/Documents/project_IBM_01/IBM_git/final_commit/time_evolution_HSD_%26_SSD.ipynb#ch0000006?line=38'>39</a>\u001b[0m     plt\u001b[39m.\u001b[39mplot(t_ideal, ideal_probs[state])\n",
      "File \u001b[0;32m/Library/Frameworks/Python.framework/Versions/3.10/lib/python3.10/site-packages/matplotlib/pyplot.py:2757\u001b[0m, in \u001b[0;36mplot\u001b[0;34m(scalex, scaley, data, *args, **kwargs)\u001b[0m\n\u001b[1;32m   <a href='file:///Library/Frameworks/Python.framework/Versions/3.10/lib/python3.10/site-packages/matplotlib/pyplot.py?line=2754'>2755</a>\u001b[0m \u001b[39m@_copy_docstring_and_deprecators\u001b[39m(Axes\u001b[39m.\u001b[39mplot)\n\u001b[1;32m   <a href='file:///Library/Frameworks/Python.framework/Versions/3.10/lib/python3.10/site-packages/matplotlib/pyplot.py?line=2755'>2756</a>\u001b[0m \u001b[39mdef\u001b[39;00m \u001b[39mplot\u001b[39m(\u001b[39m*\u001b[39margs, scalex\u001b[39m=\u001b[39m\u001b[39mTrue\u001b[39;00m, scaley\u001b[39m=\u001b[39m\u001b[39mTrue\u001b[39;00m, data\u001b[39m=\u001b[39m\u001b[39mNone\u001b[39;00m, \u001b[39m*\u001b[39m\u001b[39m*\u001b[39mkwargs):\n\u001b[0;32m-> <a href='file:///Library/Frameworks/Python.framework/Versions/3.10/lib/python3.10/site-packages/matplotlib/pyplot.py?line=2756'>2757</a>\u001b[0m     \u001b[39mreturn\u001b[39;00m gca()\u001b[39m.\u001b[39;49mplot(\n\u001b[1;32m   <a href='file:///Library/Frameworks/Python.framework/Versions/3.10/lib/python3.10/site-packages/matplotlib/pyplot.py?line=2757'>2758</a>\u001b[0m         \u001b[39m*\u001b[39;49margs, scalex\u001b[39m=\u001b[39;49mscalex, scaley\u001b[39m=\u001b[39;49mscaley,\n\u001b[1;32m   <a href='file:///Library/Frameworks/Python.framework/Versions/3.10/lib/python3.10/site-packages/matplotlib/pyplot.py?line=2758'>2759</a>\u001b[0m         \u001b[39m*\u001b[39;49m\u001b[39m*\u001b[39;49m({\u001b[39m\"\u001b[39;49m\u001b[39mdata\u001b[39;49m\u001b[39m\"\u001b[39;49m: data} \u001b[39mif\u001b[39;49;00m data \u001b[39mis\u001b[39;49;00m \u001b[39mnot\u001b[39;49;00m \u001b[39mNone\u001b[39;49;00m \u001b[39melse\u001b[39;49;00m {}), \u001b[39m*\u001b[39;49m\u001b[39m*\u001b[39;49mkwargs)\n",
      "File \u001b[0;32m/Library/Frameworks/Python.framework/Versions/3.10/lib/python3.10/site-packages/matplotlib/axes/_axes.py:1632\u001b[0m, in \u001b[0;36mAxes.plot\u001b[0;34m(self, scalex, scaley, data, *args, **kwargs)\u001b[0m\n\u001b[1;32m   <a href='file:///Library/Frameworks/Python.framework/Versions/3.10/lib/python3.10/site-packages/matplotlib/axes/_axes.py?line=1389'>1390</a>\u001b[0m \u001b[39m\"\"\"\u001b[39;00m\n\u001b[1;32m   <a href='file:///Library/Frameworks/Python.framework/Versions/3.10/lib/python3.10/site-packages/matplotlib/axes/_axes.py?line=1390'>1391</a>\u001b[0m \u001b[39mPlot y versus x as lines and/or markers.\u001b[39;00m\n\u001b[1;32m   <a href='file:///Library/Frameworks/Python.framework/Versions/3.10/lib/python3.10/site-packages/matplotlib/axes/_axes.py?line=1391'>1392</a>\u001b[0m \n\u001b[0;32m   (...)\u001b[0m\n\u001b[1;32m   <a href='file:///Library/Frameworks/Python.framework/Versions/3.10/lib/python3.10/site-packages/matplotlib/axes/_axes.py?line=1628'>1629</a>\u001b[0m \u001b[39m(``'green'``) or hex strings (``'#008000'``).\u001b[39;00m\n\u001b[1;32m   <a href='file:///Library/Frameworks/Python.framework/Versions/3.10/lib/python3.10/site-packages/matplotlib/axes/_axes.py?line=1629'>1630</a>\u001b[0m \u001b[39m\"\"\"\u001b[39;00m\n\u001b[1;32m   <a href='file:///Library/Frameworks/Python.framework/Versions/3.10/lib/python3.10/site-packages/matplotlib/axes/_axes.py?line=1630'>1631</a>\u001b[0m kwargs \u001b[39m=\u001b[39m cbook\u001b[39m.\u001b[39mnormalize_kwargs(kwargs, mlines\u001b[39m.\u001b[39mLine2D)\n\u001b[0;32m-> <a href='file:///Library/Frameworks/Python.framework/Versions/3.10/lib/python3.10/site-packages/matplotlib/axes/_axes.py?line=1631'>1632</a>\u001b[0m lines \u001b[39m=\u001b[39m [\u001b[39m*\u001b[39m\u001b[39mself\u001b[39m\u001b[39m.\u001b[39m_get_lines(\u001b[39m*\u001b[39margs, data\u001b[39m=\u001b[39mdata, \u001b[39m*\u001b[39m\u001b[39m*\u001b[39mkwargs)]\n\u001b[1;32m   <a href='file:///Library/Frameworks/Python.framework/Versions/3.10/lib/python3.10/site-packages/matplotlib/axes/_axes.py?line=1632'>1633</a>\u001b[0m \u001b[39mfor\u001b[39;00m line \u001b[39min\u001b[39;00m lines:\n\u001b[1;32m   <a href='file:///Library/Frameworks/Python.framework/Versions/3.10/lib/python3.10/site-packages/matplotlib/axes/_axes.py?line=1633'>1634</a>\u001b[0m     \u001b[39mself\u001b[39m\u001b[39m.\u001b[39madd_line(line)\n",
      "File \u001b[0;32m/Library/Frameworks/Python.framework/Versions/3.10/lib/python3.10/site-packages/matplotlib/axes/_base.py:312\u001b[0m, in \u001b[0;36m_process_plot_var_args.__call__\u001b[0;34m(self, data, *args, **kwargs)\u001b[0m\n\u001b[1;32m    <a href='file:///Library/Frameworks/Python.framework/Versions/3.10/lib/python3.10/site-packages/matplotlib/axes/_base.py?line=309'>310</a>\u001b[0m     this \u001b[39m+\u001b[39m\u001b[39m=\u001b[39m args[\u001b[39m0\u001b[39m],\n\u001b[1;32m    <a href='file:///Library/Frameworks/Python.framework/Versions/3.10/lib/python3.10/site-packages/matplotlib/axes/_base.py?line=310'>311</a>\u001b[0m     args \u001b[39m=\u001b[39m args[\u001b[39m1\u001b[39m:]\n\u001b[0;32m--> <a href='file:///Library/Frameworks/Python.framework/Versions/3.10/lib/python3.10/site-packages/matplotlib/axes/_base.py?line=311'>312</a>\u001b[0m \u001b[39myield from\u001b[39;00m \u001b[39mself\u001b[39;49m\u001b[39m.\u001b[39;49m_plot_args(this, kwargs)\n",
      "File \u001b[0;32m/Library/Frameworks/Python.framework/Versions/3.10/lib/python3.10/site-packages/matplotlib/axes/_base.py:498\u001b[0m, in \u001b[0;36m_process_plot_var_args._plot_args\u001b[0;34m(self, tup, kwargs, return_kwargs)\u001b[0m\n\u001b[1;32m    <a href='file:///Library/Frameworks/Python.framework/Versions/3.10/lib/python3.10/site-packages/matplotlib/axes/_base.py?line=494'>495</a>\u001b[0m     \u001b[39mself\u001b[39m\u001b[39m.\u001b[39maxes\u001b[39m.\u001b[39myaxis\u001b[39m.\u001b[39mupdate_units(y)\n\u001b[1;32m    <a href='file:///Library/Frameworks/Python.framework/Versions/3.10/lib/python3.10/site-packages/matplotlib/axes/_base.py?line=496'>497</a>\u001b[0m \u001b[39mif\u001b[39;00m x\u001b[39m.\u001b[39mshape[\u001b[39m0\u001b[39m] \u001b[39m!=\u001b[39m y\u001b[39m.\u001b[39mshape[\u001b[39m0\u001b[39m]:\n\u001b[0;32m--> <a href='file:///Library/Frameworks/Python.framework/Versions/3.10/lib/python3.10/site-packages/matplotlib/axes/_base.py?line=497'>498</a>\u001b[0m     \u001b[39mraise\u001b[39;00m \u001b[39mValueError\u001b[39;00m(\u001b[39mf\u001b[39m\u001b[39m\"\u001b[39m\u001b[39mx and y must have same first dimension, but \u001b[39m\u001b[39m\"\u001b[39m\n\u001b[1;32m    <a href='file:///Library/Frameworks/Python.framework/Versions/3.10/lib/python3.10/site-packages/matplotlib/axes/_base.py?line=498'>499</a>\u001b[0m                      \u001b[39mf\u001b[39m\u001b[39m\"\u001b[39m\u001b[39mhave shapes \u001b[39m\u001b[39m{\u001b[39;00mx\u001b[39m.\u001b[39mshape\u001b[39m}\u001b[39;00m\u001b[39m and \u001b[39m\u001b[39m{\u001b[39;00my\u001b[39m.\u001b[39mshape\u001b[39m}\u001b[39;00m\u001b[39m\"\u001b[39m)\n\u001b[1;32m    <a href='file:///Library/Frameworks/Python.framework/Versions/3.10/lib/python3.10/site-packages/matplotlib/axes/_base.py?line=499'>500</a>\u001b[0m \u001b[39mif\u001b[39;00m x\u001b[39m.\u001b[39mndim \u001b[39m>\u001b[39m \u001b[39m2\u001b[39m \u001b[39mor\u001b[39;00m y\u001b[39m.\u001b[39mndim \u001b[39m>\u001b[39m \u001b[39m2\u001b[39m:\n\u001b[1;32m    <a href='file:///Library/Frameworks/Python.framework/Versions/3.10/lib/python3.10/site-packages/matplotlib/axes/_base.py?line=500'>501</a>\u001b[0m     \u001b[39mraise\u001b[39;00m \u001b[39mValueError\u001b[39;00m(\u001b[39mf\u001b[39m\u001b[39m\"\u001b[39m\u001b[39mx and y can be no greater than 2D, but have \u001b[39m\u001b[39m\"\u001b[39m\n\u001b[1;32m    <a href='file:///Library/Frameworks/Python.framework/Versions/3.10/lib/python3.10/site-packages/matplotlib/axes/_base.py?line=501'>502</a>\u001b[0m                      \u001b[39mf\u001b[39m\u001b[39m\"\u001b[39m\u001b[39mshapes \u001b[39m\u001b[39m{\u001b[39;00mx\u001b[39m.\u001b[39mshape\u001b[39m}\u001b[39;00m\u001b[39m and \u001b[39m\u001b[39m{\u001b[39;00my\u001b[39m.\u001b[39mshape\u001b[39m}\u001b[39;00m\u001b[39m\"\u001b[39m)\n",
      "\u001b[0;31mValueError\u001b[0m: x and y must have same first dimension, but have shapes (10,) and (4, 10)"
     ]
    },
    {
     "data": {
      "image/png": "[encoded data removed]",
      "text/plain": [
       "<Figure size 1300x1000 with 1 Axes>"
      ]
     },
     "metadata": {
      "needs_background": "light"
     },
     "output_type": "display_data"
    }
   ],
   "source": [
    "from qiskit.opflow import Zero, One, I, X, Y, Z\n",
    "\n",
    "def H_heis3():\n",
    "    # Interactions (I is the identity matrix; X, Y, and Z are Pauli matricies; ^ is a tensor product)\n",
    "    XXs = (I^X^X) + (X^X^I)\n",
    "    YYs = (I^Y^Y) + (Y^Y^I)\n",
    "    ZZs = (I^Z^Z) + (Z^Z^I)\n",
    "    # Sum interactions\n",
    "    H = XXs + YYs + ZZs\n",
    "    # Return Hamiltonian\n",
    "    return H\n",
    "\n",
    "def U_heis3(t):\n",
    "    # Compute XXX Hamiltonian for 3 spins in a line\n",
    "    H = H_heis3()\n",
    "    # Return the exponential of -i multipled by time t multipled by the 3 spin XXX Heisenberg Hamilonian \n",
    "    return (t * H).exp_i()\n",
    "\n",
    "# Define initial state |110>\n",
    "initial_state = One^One^Zero\n",
    "\n",
    "def prob_state(initial_state, time_range):\n",
    "    return [np.abs((~initial_state @ U_heis3(float(t)) @ initial_state).eval())**2 for t in time_range]\n",
    "\n",
    "t_ideal = np.linspace(0,np.pi, 1000)\n",
    "ideal_probs = {\n",
    "    \"110\": prob_state(One^One^Zero, t_ideal),\n",
    "    \"101\": prob_state(One^Zero^One, t_ideal),\n",
    "    \"011\": prob_state(Zero^One^One, t_ideal)\n",
    "}\n",
    "\n",
    "labels = [\"raw\", \"Qiskit\", \"NIC\", \"CIC\"]\n",
    "\n",
    "plt.figure(figsize=(13,10), dpi=100)\n",
    "for i, fids in enumerate(fids_dict):\n",
    "    plt.plot(TIME_RANGE, fids_dict[fids], linestyle='', marker='*', label=labels[i])\n",
    "\n",
    "for state in [\"110\", \"101\", \"011\"]:\n",
    "    plt.plot(t_ideal, ideal_probs[state])\n",
    "\n",
    "plt.legend()\n",
    "plt.grid()\n",
    "plt.xlabel(\"time\")\n",
    "plt.ylabel(\"fidelity\")\n",
    "plt.title(f\"time evolution with {N_STEPS} trotter steps and with {DECOMPOSITION} decomposition.\")\n",
    "plt.show()"
   ]
  },
  {
   "cell_type": "code",
   "execution_count": null,
   "metadata": {},
   "outputs": [],
   "source": []
  }
 ],
 "metadata": {
  "interpreter": {
   "hash": "aee8b7b246df8f9039afb4144a1f6fd8d2ca17a180786b69acc140d282b71a49"
  },
  "kernelspec": {
   "display_name": "Python 3.10.2 64-bit",
   "language": "python",
   "name": "python3"
  },
  "language_info": {
   "codemirror_mode": {
    "name": "ipython",
    "version": 3
   },
   "file_extension": ".py",
   "mimetype": "text/x-python",
   "name": "python",
   "nbconvert_exporter": "python",
   "pygments_lexer": "ipython3",
   "version": "3.10.2"
  },
  "orig_nbformat": 4
 },
 "nbformat": 4,
 "nbformat_minor": 2
}
