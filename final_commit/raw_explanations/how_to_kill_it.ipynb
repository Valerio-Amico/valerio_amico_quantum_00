{
 "cells": [
  {
   "cell_type": "code",
   "execution_count": 1,
   "metadata": {},
   "outputs": [],
   "source": [
    "from lib.functions0 import *\n",
    "from lib.utility import *\n",
    "import numpy as np\n",
    "from scipy.linalg import expm\n",
    "from qiskit.utils.mitigation.fitters import CompleteMeasFitter\n",
    "from qiskit.ignis.mitigation.measurement import  complete_meas_cal\n",
    "from qiskit import Aer, assemble, QuantumCircuit, QuantumRegister, ClassicalRegister, IBMQ, transpile, execute\n",
    "from qiskit.providers.aer import AerSimulator, QasmSimulator\n",
    "from qiskit.opflow import Zero, One, I, X, Y, Z\n",
    "from qiskit.ignis.verification.tomography import state_tomography_circuits, StateTomographyFitter\n",
    "from qiskit.quantum_info import state_fidelity\n",
    "import matplotlib.pyplot as plt\n",
    "import array_to_latex\n",
    "%load_ext autoreload\n",
    "%autoreload 2\n",
    "import warnings\n",
    "warnings.filterwarnings('ignore')\n",
    "IBMQ.load_account()\n",
    "provider = IBMQ.get_provider(hub='ibm-q-community',\n",
    "                            group='ibmquantumawards', \n",
    "                            project='open-science-22')\n",
    "\n",
    "backend_sim_jakarta = QasmSimulator.from_backend(provider.get_backend('ibmq_jakarta'))\n",
    "backend_real_jakarta = provider.get_backend('ibmq_jakarta')\n",
    "backend_sim = Aer.get_backend('qasm_simulator')"
   ]
  },
  {
   "cell_type": "code",
   "execution_count": 2,
   "metadata": {},
   "outputs": [
    {
     "data": {
      "text/latex": [
       "$\\displaystyle \\left[\\begin{matrix}1.0 & 0 & 0 & 0 & 0 & 0 & 0 & 0\\\\0 & 1.0 + 0.00103 i & 9.9 \\cdot 10^{-5} + 0.00103 i & 0 & -9.58 \\cdot 10^{-5} - 0.00206 i & 0 & 0 & 0\\\\0 & -9.58 \\cdot 10^{-5} + 0.00103 i & 1.0 - 0.00206 i & 0 & 9.9 \\cdot 10^{-5} + 0.00103 i & 0 & 0 & 0\\\\0 & 0 & 0 & 1.0 + 0.00103 i & 0 & -9.58 \\cdot 10^{-5} + 0.00103 i & 9.9 \\cdot 10^{-5} - 0.00206 i & 0\\\\0 & 9.9 \\cdot 10^{-5} - 0.00206 i & -9.58 \\cdot 10^{-5} + 0.00103 i & 0 & 1.0 + 0.00103 i & 0 & 0 & 0\\\\0 & 0 & 0 & 9.9 \\cdot 10^{-5} + 0.00103 i & 0 & 1.0 - 0.00206 i & -9.58 \\cdot 10^{-5} + 0.00103 i & 0\\\\0 & 0 & 0 & -9.58 \\cdot 10^{-5} - 0.00206 i & 0 & 9.9 \\cdot 10^{-5} + 0.00103 i & 1.0 + 0.00103 i & 0\\\\0 & 0 & 0 & 0 & 0 & 0 & 0 & 1.0\\end{matrix}\\right]$"
      ],
      "text/plain": [
       "Matrix([\n",
       "[1.0,                    0,                    0,                    0,                    0,                    0,                    0,   0],\n",
       "[  0,      1.0 + 0.00103*I,   9.9e-5 + 0.00103*I,                    0, -9.58e-5 - 0.00206*I,                    0,                    0,   0],\n",
       "[  0, -9.58e-5 + 0.00103*I,      1.0 - 0.00206*I,                    0,   9.9e-5 + 0.00103*I,                    0,                    0,   0],\n",
       "[  0,                    0,                    0,      1.0 + 0.00103*I,                    0, -9.58e-5 + 0.00103*I,   9.9e-5 - 0.00206*I,   0],\n",
       "[  0,   9.9e-5 - 0.00206*I, -9.58e-5 + 0.00103*I,                    0,      1.0 + 0.00103*I,                    0,                    0,   0],\n",
       "[  0,                    0,                    0,   9.9e-5 + 0.00103*I,                    0,      1.0 - 0.00206*I, -9.58e-5 + 0.00103*I,   0],\n",
       "[  0,                    0,                    0, -9.58e-5 - 0.00206*I,                    0,   9.9e-5 + 0.00103*I,      1.0 + 0.00103*I,   0],\n",
       "[  0,                    0,                    0,                    0,                    0,                    0,                    0, 1.0]])"
      ]
     },
     "execution_count": 2,
     "metadata": {},
     "output_type": "execute_result"
    }
   ],
   "source": [
    "n_steps=100\n",
    "time=np.pi\n",
    "#initial_state={\"110\": 1}\n",
    "shots = 32000\n",
    "backend = backend_sim_jakarta\n",
    "\n",
    "X = np.array([[0,1],[1,0]])  #defining the pauli matrices\n",
    "Y = np.array([[0,-1j],[1j,0]])\n",
    "Z = np.array([[1,0],[0,-1]])\n",
    "Id = np.eye(2)\n",
    "\n",
    "# defining the hamiltonian divided in: \n",
    "#       - H1: first two qubits interactions.\n",
    "#       - H2: second two qubits interactions.\n",
    "\n",
    "H1 = np.kron(X, np.kron(X,Id)) + np.kron(Y, np.kron(Y,Id)) + np.kron(Z, np.kron(Z,Id)) \n",
    "H2 = np.kron(Id, np.kron(X,X)) + np.kron(Id, np.kron(Y,Y)) + np.kron(Id, np.kron(Z,Z)) \n",
    "\n",
    "# building numerically the trotter step matrix, and the whole operator (trotter step)^n_steps.\n",
    "\n",
    "trotter_step_matrix_= expm(-time/n_steps*H1*1j).dot(expm(-time/n_steps*H2*1j))\n",
    "trotterized = np.linalg.matrix_power(trotter_step_matrix_, n_steps)\n",
    "Matrix(trotterized).n(3, chop=True)"
   ]
  },
  {
   "cell_type": "code",
   "execution_count": 3,
   "metadata": {},
   "outputs": [],
   "source": [
    "A0 = trotterized[3, 6]\n",
    "A1 = trotterized[5, 6]\n",
    "A2 = trotterized[6, 6]\n",
    "\n",
    "r1=float(atan2(im(A0),re(A0))+atan2(im(A2),re(A2)))/2\n",
    "r2=0\n",
    "f1=float(atan2(im(A2),re(A2))-atan2(im(A1),re(A1))-np.pi)/2\n",
    "f2=float((atan2(im(A2),re(A2))-atan2(im(A0),re(A0)))/2-f1)\n",
    "a1=float(acos(abs(A2)))\n",
    "a2=float(acos(abs(A1)/sin(a1)))\n",
    "\n",
    "M1_qc = fixed_magnetization_two_qubit_gate(r1,f1,a1)\n",
    "M2_qc = fixed_magnetization_two_qubit_gate(r2,f2,a2)"
   ]
  },
  {
   "cell_type": "markdown",
   "metadata": {},
   "source": [
    "## building the operator U gate"
   ]
  },
  {
   "cell_type": "code",
   "execution_count": 4,
   "metadata": {},
   "outputs": [
    {
     "data": {
      "image/png": "[encoded data removed]",
      "text/plain": [
       "<Figure size 1350.8x204.68 with 1 Axes>"
      ]
     },
     "execution_count": 4,
     "metadata": {},
     "output_type": "execute_result"
    }
   ],
   "source": [
    "\n",
    "qr_U = QuantumRegister(3 ,name=\"q\")\n",
    "qc_U = QuantumCircuit(qr_U, name=\"U\")\n",
    "\n",
    "qc_U.append(M1_qc, [qr_U[0],qr_U[1]])\n",
    "qc_U.append(M2_qc, [qr_U[1],qr_U[2]])\n",
    "\n",
    "qc_U=transpile(qc_U, basis_gates=[\"cx\",\"rz\",\"x\",\"sx\"])\n",
    "qc_U.draw(output=\"mpl\")"
   ]
  },
  {
   "cell_type": "code",
   "execution_count": 5,
   "metadata": {},
   "outputs": [
    {
     "data": {
      "text/latex": [
       "$\\displaystyle \\left[\\begin{matrix}0.999999467211835 - 0.0010322674298842 i & 7.34153473888526 \\cdot 10^{-18} - 1.08166144138023 \\cdot 10^{-16} i & -1.79725667951042 \\cdot 10^{-16} - 4.72816739693836 \\cdot 10^{-16} i & 7.16209974402798 \\cdot 10^{-21} + 5.96265451892723 \\cdot 10^{-20} i & -7.40675229641317 \\cdot 10^{-17} + 5.60328659302666 \\cdot 10^{-17} i & -5.33126057911139 \\cdot 10^{-22} - 7.26270750317739 \\cdot 10^{-20} i & 2.7044117201282 \\cdot 10^{-17} - 1.56108913490346 \\cdot 10^{-18} i & 6.3080416 \\cdot 10^{-33} - 6.0591776 \\cdot 10^{-33} i\\\\1.5600580172332 \\cdot 10^{-17} - 5.34076783561783 \\cdot 10^{-17} i & 0.999996793791179 - 0.00103226467019748 i & -0.000110777440203341 + 0.00230966780561924 i & -7.79384455946312 \\cdot 10^{-18} - 4.68544148153184 \\cdot 10^{-16} i & 3.5661627 \\cdot 10^{-33} + 4.7201013 \\cdot 10^{-33} i & 1.25629619599248 \\cdot 10^{-17} + 5.41646975035266 \\cdot 10^{-17} i & -1.15414284741767 \\cdot 10^{-19} - 1.86864873783156 \\cdot 10^{-19} i & -2.9201216515468 \\cdot 10^{-18} - 6.90110258878467 \\cdot 10^{-19} i\\\\8.93725720290126 \\cdot 10^{-17} - 2.66340636146498 \\cdot 10^{-16} i & 9.58137779616048 \\cdot 10^{-5} + 0.00103226467019815 i & 0.447910641997747 - 0.0195393926101164 i & -4.21131365927571 \\cdot 10^{-17} - 4.49783877464153 \\cdot 10^{-17} i & -0.89386371600091 + 0.000922706892390311 i & -5.5915758479075 \\cdot 10^{-18} + 9.67779981776553 \\cdot 10^{-17} i & 1.41742972508057 \\cdot 10^{-16} + 4.57058899254831 \\cdot 10^{-19} i & -6.40194450248858 \\cdot 10^{-21} - 5.32980336517045 \\cdot 10^{-20} i\\\\3.18366838349248 \\cdot 10^{-21} + 2.83987846713338 \\cdot 10^{-20} i & -1.08115741135695 \\cdot 10^{-16} - 2.58378969672409 \\cdot 10^{-16} i & 2.42544259937312 \\cdot 10^{-17} - 2.30656617192194 \\cdot 10^{-17} i & 0.447911839455149 - 0.0195394448472997 i & -1.39447999942352 \\cdot 10^{-17} + 4.77392112733217 \\cdot 10^{-17} i & -0.893861326325914 + 0.000922704425605173 i & 9.90199871059045 \\cdot 10^{-5} - 0.00206452934741528 i & 9.8517907690942 \\cdot 10^{-17} - 7.72047616076353 \\cdot 10^{-18} i\\\\2.33776393558034 \\cdot 10^{-16} - 3.96570477559126 \\cdot 10^{-16} i & 9.90199871059061 \\cdot 10^{-5} + 0.00206452934741528 i & 0.893861326325914 + 0.000922704425604489 i & -7.98779105950687 \\cdot 10^{-17} - 9.33312612847572 \\cdot 10^{-17} i & 0.447911839455149 + 0.0195394448472993 i & 5.10076500970803 \\cdot 10^{-18} - 4.79090383054242 \\cdot 10^{-17} i & -2.49784713583409 \\cdot 10^{-17} - 6.59281912894925 \\cdot 10^{-17} i & 2.01520491619887 \\cdot 10^{-21} + 2.68494735244791 \\cdot 10^{-20} i\\\\3.81507441075114 \\cdot 10^{-21} + 5.68462875551523 \\cdot 10^{-20} i & 8.43198631043683 \\cdot 10^{-17} - 3.9384091093181 \\cdot 10^{-16} i & 5.00499055451888 \\cdot 10^{-17} - 4.34431764405535 \\cdot 10^{-17} i & 0.893863716000909 + 0.000922706892389593 i & 8.05561583631963 \\cdot 10^{-18} - 2.36088018063163 \\cdot 10^{-17} i & 0.447910641997747 + 0.0195393926101161 i & -9.5813777961604 \\cdot 10^{-5} + 0.00103226467019815 i & 6.15032387473095 \\cdot 10^{-17} - 5.98996112582733 \\cdot 10^{-17} i\\\\4.21560137269495 \\cdot 10^{-17} + 4.83557159608235 \\cdot 10^{-19} i & 1.10000089858247 \\cdot 10^{-19} - 2.50427337920923 \\cdot 10^{-19} i & -5.96145033047492 \\cdot 10^{-17} - 5.57554483726362 \\cdot 10^{-17} i & 3.297989 \\cdot 10^{-34} + 1.99457435 \\cdot 10^{-32} i & 1.98138052396386 \\cdot 10^{-16} - 2.99110556740973 \\cdot 10^{-17} i & 0.000110777440203343 + 0.00230966780561924 i & 0.999996793791178 + 0.00103226467019671 i & -8.93624683575163 \\cdot 10^{-17} - 1.04413245429095 \\cdot 10^{-16} i\\\\7.179415 \\cdot 10^{-34} + 6.267776 \\cdot 10^{-34} i & -1.9247188589461 \\cdot 10^{-17} - 1.10404824504801 \\cdot 10^{-19} i & 9.67479284846042 \\cdot 10^{-21} - 2.36519758615874 \\cdot 10^{-20} i & -8.39749858563387 \\cdot 10^{-17} - 5.65387338930867 \\cdot 10^{-17} i & 4.26806940459758 \\cdot 10^{-21} + 6.35961123049669 \\cdot 10^{-20} i & 8.17097228726831 \\cdot 10^{-17} - 2.46719168502468 \\cdot 10^{-17} i & 5.5039851049277 \\cdot 10^{-17} - 4.8759903279302 \\cdot 10^{-17} i & 0.999999467211835 + 0.0010322674298834 i\\end{matrix}\\right]$"
      ],
      "text/plain": [
       "Matrix([\n",
       "[     0.999999467211835 - 0.0010322674298842*I,  7.34153473888526e-18 - 1.08166144138023e-16*I, -1.79725667951042e-16 - 4.72816739693836e-16*I,  7.16209974402798e-21 + 5.96265451892723e-20*I, -7.40675229641317e-17 + 5.60328659302666e-17*I, -5.33126057911139e-22 - 7.26270750317739e-20*I,   2.7044117201282e-17 - 1.56108913490346e-18*I,                6.3080416e-33 - 6.0591776e-33*I],\n",
       "[ 1.5600580172332e-17 - 5.34076783561783e-17*I,      0.999996793791179 - 0.00103226467019748*I,  -0.000110777440203341 + 0.00230966780561924*I, -7.79384455946312e-18 - 4.68544148153184e-16*I,                3.5661627e-33 + 4.7201013e-33*I,  1.25629619599248e-17 + 5.41646975035266e-17*I, -1.15414284741767e-19 - 1.86864873783156e-19*I,  -2.9201216515468e-18 - 6.90110258878467e-19*I],\n",
       "[8.93725720290126e-17 - 2.66340636146498e-16*I,    9.58137779616048e-5 + 0.00103226467019815*I,       0.447910641997747 - 0.0195393926101164*I, -4.21131365927571e-17 - 4.49783877464153e-17*I,     -0.89386371600091 + 0.000922706892390311*I,  -5.5915758479075e-18 + 9.67779981776553e-17*I,  1.41742972508057e-16 + 4.57058899254831e-19*I, -6.40194450248858e-21 - 5.32980336517045e-20*I],\n",
       "[3.18366838349248e-21 + 2.83987846713338e-20*I, -1.08115741135695e-16 - 2.58378969672409e-16*I,  2.42544259937312e-17 - 2.30656617192194e-17*I,       0.447911839455149 - 0.0195394448472997*I, -1.39447999942352e-17 + 4.77392112733217e-17*I,    -0.893861326325914 + 0.000922704425605173*I,    9.90199871059045e-5 - 0.00206452934741528*I,   9.8517907690942e-17 - 7.72047616076353e-18*I],\n",
       "[2.33776393558034e-16 - 3.96570477559126e-16*I,    9.90199871059061e-5 + 0.00206452934741528*I,     0.893861326325914 + 0.000922704425604489*I, -7.98779105950687e-17 - 9.33312612847572e-17*I,       0.447911839455149 + 0.0195394448472993*I,  5.10076500970803e-18 - 4.79090383054242e-17*I, -2.49784713583409e-17 - 6.59281912894925e-17*I,  2.01520491619887e-21 + 2.68494735244791e-20*I],\n",
       "[3.81507441075114e-21 + 5.68462875551523e-20*I,   8.43198631043683e-17 - 3.9384091093181e-16*I,  5.00499055451888e-17 - 4.34431764405535e-17*I,     0.893863716000909 + 0.000922706892389593*I,  8.05561583631963e-18 - 2.36088018063163e-17*I,       0.447910641997747 + 0.0195393926101161*I,    -9.5813777961604e-5 + 0.00103226467019815*I,  6.15032387473095e-17 - 5.98996112582733e-17*I],\n",
       "[4.21560137269495e-17 + 4.83557159608235e-19*I,  1.10000089858247e-19 - 2.50427337920923e-19*I, -5.96145033047492e-17 - 5.57554483726362e-17*I,                3.297989e-34 + 1.99457435e-32*I,  1.98138052396386e-16 - 2.99110556740973e-17*I,   0.000110777440203343 + 0.00230966780561924*I,      0.999996793791178 + 0.00103226467019671*I, -8.93624683575163e-17 - 1.04413245429095e-16*I],\n",
       "[                7.179415e-34 + 6.267776e-34*I,  -1.9247188589461e-17 - 1.10404824504801e-19*I,  9.67479284846042e-21 - 2.36519758615874e-20*I, -8.39749858563387e-17 - 5.65387338930867e-17*I,  4.26806940459758e-21 + 6.35961123049669e-20*I,  8.17097228726831e-17 - 2.46719168502468e-17*I,    5.5039851049277e-17 - 4.8759903279302e-17*I,       0.999999467211835 + 0.0010322674298834*I]])"
      ]
     },
     "execution_count": 5,
     "metadata": {},
     "output_type": "execute_result"
    }
   ],
   "source": [
    "U_ideal=matrix_from_circuit(qc_U, type=\"numpy\")\n",
    "Matrix(U_ideal)"
   ]
  },
  {
   "cell_type": "markdown",
   "metadata": {},
   "source": [
    "## building the evolution circuit"
   ]
  },
  {
   "cell_type": "code",
   "execution_count": 6,
   "metadata": {},
   "outputs": [
    {
     "data": {
      "image/png": "[encoded data removed]",
      "text/plain": [
       "<Figure size 507.997x264.88 with 1 Axes>"
      ]
     },
     "execution_count": 6,
     "metadata": {},
     "output_type": "execute_result"
    }
   ],
   "source": [
    "qr_evo = QuantumRegister(3, name=\"q\")\n",
    "qc_evo = QuantumCircuit(qr_evo, name=\"U\")\n",
    "\n",
    "qc_evo.x([qr_evo[1],qr_evo[2]])\n",
    "qc_evo.append(qc_U, qr_evo)\n",
    "\n",
    "qcs_tomo = state_tomography_circuits(qc_evo, qr_evo)\n",
    "qcs_tomo[3].draw(output=\"mpl\")"
   ]
  },
  {
   "cell_type": "markdown",
   "metadata": {},
   "source": [
    "## building the calibration matrices"
   ]
  },
  {
   "cell_type": "code",
   "execution_count": 7,
   "metadata": {},
   "outputs": [],
   "source": [
    "qr_cal = QuantumRegister(3)\n",
    "cal_circ, state_labels = complete_meas_cal(qubit_list=[0,1,2], qr=qr_cal, circlabel='mcal')"
   ]
  },
  {
   "cell_type": "markdown",
   "metadata": {},
   "source": [
    "## building the itself calibration circuit: *Circuit-Itself-Calibration (CIC)*"
   ]
  },
  {
   "cell_type": "code",
   "execution_count": 8,
   "metadata": {},
   "outputs": [],
   "source": [
    "Number_of_tomography_basis = 3**3\n",
    "\n",
    "circuits_calibration_itself = list(range(Number_of_tomography_basis))\n",
    "\n",
    "for tomography_base in range(Number_of_tomography_basis):\n",
    "\n",
    "    circuits_calibration_itself[tomography_base] = []\n",
    "\n",
    "    for i in state_labels:\n",
    "\n",
    "        cr_cal_itself = ClassicalRegister(3)\n",
    "        qr_cal_itself = QuantumRegister(3)\n",
    "        qc_cal_itself = QuantumCircuit(qr_cal_itself, cr_cal_itself, name=f\"mcalcal_{i}\") # changing the name to not have API contrast\n",
    "\n",
    "        for k in range(3):\n",
    "            if i[::-1][k] == \"1\":\n",
    "                qc_cal_itself.x(qr_cal_itself[k])\n",
    "\n",
    "        qc_cal_itself.append(qc_U, qr_cal_itself)\n",
    "        qc_cal_itself.measure(qr_cal_itself, cr_cal_itself)\n",
    "\n",
    "        circuits_calibration_itself[tomography_base].append(qc_cal_itself)\n",
    "\n",
    "    \n"
   ]
  },
  {
   "cell_type": "markdown",
   "metadata": {},
   "source": [
    "## building the identity calibration circit: *Noisy-Identity-Calibration (NIC)*"
   ]
  },
  {
   "cell_type": "code",
   "execution_count": 9,
   "metadata": {},
   "outputs": [],
   "source": [
    "calib_circuits_identity = []\n",
    "\n",
    "for i in state_labels:\n",
    "\n",
    "    cr_cal_id = ClassicalRegister(3)\n",
    "    qr_cal_id = QuantumRegister(3)\n",
    "    qc_cal_id = QuantumCircuit(qr_cal_id, cr_cal_id, name=f\"mcalcal_{i}\")\n",
    "\n",
    "    qc_cal_id.append(qc_U, qr_cal_id)\n",
    "\n",
    "    for k in range(3):\n",
    "        if i[::-1][k] == \"1\":\n",
    "            qc_cal_id.x(qr_cal_id[k])\n",
    "        \n",
    "    qc_cal_id.measure(qr_cal_id, cr_cal_id)\n",
    "\n",
    "    calib_circuits_identity.append(qc_cal_id)"
   ]
  },
  {
   "cell_type": "markdown",
   "metadata": {},
   "source": [
    "## execution of the circuits"
   ]
  },
  {
   "cell_type": "code",
   "execution_count": 10,
   "metadata": {},
   "outputs": [],
   "source": [
    "job_tomo=execute(qcs_tomo, backend, shots=shots, initial_layout=[1,3,5])\n",
    "\n",
    "job_cal_our_identity=execute(calib_circuits_identity, backend = backend, shots=shots, initial_layout=[1,3,5])\n",
    "\n",
    "jobs_cal_our_itself = []\n",
    "for tomography_base_calibration_circuits in circuits_calibration_itself:\n",
    "    job_tomography_itself=execute(tomography_base_calibration_circuits, backend = backend, shots=shots, initial_layout=[1,3,5])\n",
    "    jobs_cal_our_itself.append(job_tomography_itself)\n",
    "\n",
    "job_cal_qiskit=execute(cal_circ, backend, shots=shots, initial_layout=[1,3,5])"
   ]
  },
  {
   "cell_type": "markdown",
   "metadata": {},
   "source": [
    "## building the matrices of the probabilies for the qiskit, identity and circuit-itself calibrations"
   ]
  },
  {
   "cell_type": "code",
   "execution_count": 11,
   "metadata": {},
   "outputs": [],
   "source": [
    "meas_fitter_identity = CompleteMeasFitter(job_cal_our_identity.result(), state_labels=state_labels)\n",
    "\n",
    "meas_fitter_itself_list = []\n",
    "for job_cal_our_itself in jobs_cal_our_itself:\n",
    "    meas_fitter_itself_list.append(CompleteMeasFitter(job_cal_our_itself.result(), state_labels=state_labels))\n",
    "\n",
    "meas_fitter_qiskit = CompleteMeasFitter(job_cal_qiskit.result(), state_labels=state_labels)"
   ]
  },
  {
   "cell_type": "markdown",
   "metadata": {},
   "source": [
    "## building the calibration matrix for each circuit of the tomography"
   ]
  },
  {
   "cell_type": "code",
   "execution_count": 12,
   "metadata": {},
   "outputs": [],
   "source": [
    "U_tilde_identity=meas_fitter_identity.cal_matrix\n",
    "\n",
    "U_tilde_itself_list = []\n",
    "for meas_fitter_itself in meas_fitter_itself_list:\n",
    "    U_tilde_itself_list.append(meas_fitter_itself.cal_matrix)\n",
    "\n",
    "U_tilde_qiskit=meas_fitter_qiskit.cal_matrix"
   ]
  },
  {
   "cell_type": "code",
   "execution_count": 13,
   "metadata": {},
   "outputs": [],
   "source": [
    "def matrix_from_cirquit(qc, phase=0, type=\"sympy\"):\n",
    "\n",
    "    backend = Aer.get_backend('unitary_simulator')\n",
    "    job = execute(qc, backend, shots=32000)\n",
    "    result = job.result()\n",
    "    A=result.get_unitary(qc, decimals=10)*np.exp(1j*phase)\n",
    "    if type==\"sympy\":\n",
    "        return Matrix(A)\n",
    "    else:\n",
    "        return A"
   ]
  },
  {
   "cell_type": "markdown",
   "metadata": {},
   "source": [
    "## building the matrix of the tomography basis \n"
   ]
  },
  {
   "cell_type": "code",
   "execution_count": 14,
   "metadata": {},
   "outputs": [],
   "source": [
    "qr_basi = QuantumRegister(3)\n",
    "qc_basi = QuantumCircuit(qr_basi)\n",
    "\n",
    "qcs_basis = state_tomography_circuits(qc_basi, qr_basi)"
   ]
  },
  {
   "cell_type": "code",
   "execution_count": 15,
   "metadata": {},
   "outputs": [
    {
     "name": "stdout",
     "output_type": "stream",
     "text": [
      "0\n",
      "1\n",
      "2\n",
      "3\n",
      "4\n",
      "5\n",
      "6\n",
      "7\n",
      "8\n",
      "9\n",
      "10\n",
      "11\n",
      "12\n",
      "13\n",
      "14\n",
      "15\n",
      "16\n",
      "17\n",
      "18\n",
      "19\n",
      "20\n",
      "21\n",
      "22\n",
      "23\n",
      "24\n",
      "25\n",
      "26\n"
     ]
    }
   ],
   "source": [
    "C_matrices_itself = []\n",
    "C_matrices_identity = []\n",
    "\n",
    "C_identity = U_tilde_identity\n",
    "\n",
    "for tomography_base in range(Number_of_tomography_basis):\n",
    "\n",
    "    print(tomography_base)\n",
    "    qcs_basis[tomography_base].remove_final_measurements()\n",
    "    #base_matrix = matrix_from_circuit(qcs_basis[tomography_base], type=\"numpy\")\n",
    "    #base_matrix_inverse = np.linalg.inv(base_matrix)\n",
    "\n",
    "    base_matrix_amplitudes = matrix_from_circuit(qcs_basis[tomography_base], type=\"numpy\")\n",
    "    base_matrix_amplitudes_inverse = np.linalg.inv(base_matrix_amplitudes)\n",
    "    \n",
    "    base_matrix = np.abs(base_matrix_amplitudes)**2\n",
    "    base_matrix_inverse = np.abs(base_matrix_amplitudes_inverse)**2\n",
    "\n",
    "    # inverting the ideal matrix of the circuit\n",
    "\n",
    "    U_ideal_inverse = np.linalg.inv(U_ideal)\n",
    "    U_ideal_inverse_abs = np.abs(U_ideal_inverse)**2\n",
    "\n",
    "    U_ideal_abs = np.abs(U_ideal)**2\n",
    "    U_ideal_abs_inverse = np.linalg.inv(U_ideal_abs)\n",
    "\n",
    "    base_matrix_inverse_abs = np.abs(base_matrix_inverse)\n",
    "\n",
    "    U_ideal_H_abs_inverse = np.dot(U_ideal_inverse_abs, base_matrix_inverse_abs)\n",
    "\n",
    "    #U_ideal_H_abs = np.abs(U_ideal_H)**2\n",
    "    #U_ideal_H_inv = np.linalg.inv(U_ideal_H_abs)\n",
    "\n",
    "    \n",
    "\n",
    "    C_itself = np.dot(U_tilde_itself_list[tomography_base], U_ideal_H_abs_inverse)\n",
    "\n",
    "    #C_aus_itself = np.linalg.multi_dot([base_matrix, C_itself,  base_matrix_H])\n",
    "    #C_aus_itself = np.linalg.multi_dot([U_tilde_qiskit, base_matrix, np.linalg.inv(U_tilde_qiskit), C_itself,  base_matrix_inverse])\n",
    "    #C_aus_itself = np.linalg.multi_dot([base_matrix, U_tilde_qiskit, np.linalg.inv(U_tilde_qiskit), C_itself])\n",
    "    C_aus_identity = np.matmul(base_matrix, np.matmul(C_identity, base_matrix_inverse))\n",
    "\n",
    "    C_matrices_identity.append(np.asarray(C_aus_identity))\n",
    "    C_matrices_itself.append(np.asarray(C_itself))\n",
    "\n"
   ]
  },
  {
   "cell_type": "code",
   "execution_count": 16,
   "metadata": {},
   "outputs": [],
   "source": [
    "from copy import deepcopy\n",
    "\n",
    "meas_fitters_identity = []\n",
    "meas_fitters_itself = []\n",
    "\n",
    "for C_new in C_matrices_identity:\n",
    "    meas_fitter_our_aus = deepcopy(meas_fitter_identity)\n",
    "    meas_fitter_our_aus._tens_fitt.cal_matrices[0]=C_new\n",
    "\n",
    "    meas_fitters_identity.append(meas_fitter_our_aus)\n",
    "\n",
    "for i, C_new in enumerate(C_matrices_itself):\n",
    "    meas_fitter_our_aus = deepcopy(meas_fitter_itself_list[0])\n",
    "    meas_fitter_our_aus._tens_fitt.cal_matrices[0]=C_new\n",
    "\n",
    "    meas_fitters_itself.append(meas_fitter_our_aus)"
   ]
  },
  {
   "cell_type": "code",
   "execution_count": 17,
   "metadata": {},
   "outputs": [],
   "source": [
    "target_state = (One^One^Zero).to_matrix()\n",
    "#target_state = (Zero^One^One).to_matrix()\n",
    "\n",
    "\n",
    "fids=np.zeros(4)\n",
    "\n",
    "raw_res=deepcopy(job_tomo.result())\n",
    "qiskit_res=deepcopy(raw_res)\n",
    "identity_res=deepcopy(raw_res)\n",
    "itself_res=deepcopy(raw_res)"
   ]
  },
  {
   "cell_type": "code",
   "execution_count": 18,
   "metadata": {},
   "outputs": [],
   "source": [
    "for i in range(27):\n",
    "\n",
    "    old_counts=raw_res.get_counts(i)\n",
    "    new_counts_qiskit = meas_fitter_qiskit.filter.apply(old_counts, method=\"least_squares\")\n",
    "    qiskit_res.results[i].data.counts = new_counts_qiskit\n",
    "\n",
    "for i in range(27):\n",
    "\n",
    "    old_counts=raw_res.get_counts(i)\n",
    "    \n",
    "    new_counts_id = meas_fitters_identity[i].filter.apply(old_counts, method=\"least_squares\")\n",
    "    identity_res.results[i].data.counts = new_counts_id\n",
    "\n",
    "    new_counts_it = meas_fitters_itself[i].filter.apply(old_counts, method=\"least_squares\")\n",
    "    itself_res.results[i].data.counts = new_counts_it"
   ]
  },
  {
   "cell_type": "code",
   "execution_count": 19,
   "metadata": {},
   "outputs": [
    {
     "data": {
      "text/plain": [
       "{'000': 4000.0507416764067,\n",
       " '001': 4000.0470127342455,\n",
       " '010': 4000.1284830634704,\n",
       " '011': 4000.0154719803827,\n",
       " '100': 3999.9551240955857,\n",
       " '101': 3999.966371707234,\n",
       " '110': 3999.888522514035,\n",
       " '111': 3999.9482722286366}"
      ]
     },
     "execution_count": 19,
     "metadata": {},
     "output_type": "execute_result"
    }
   ],
   "source": [
    "identity_res.get_counts(0)"
   ]
  },
  {
   "cell_type": "code",
   "execution_count": 20,
   "metadata": {},
   "outputs": [
    {
     "data": {
      "text/plain": [
       "{'000': 6.96499948644666e-12,\n",
       " '001': 1.4583712926521941e-12,\n",
       " '110': 32000.0,\n",
       " '111': 8.42138065486049e-12}"
      ]
     },
     "execution_count": 20,
     "metadata": {},
     "output_type": "execute_result"
    }
   ],
   "source": [
    "itself_res.get_counts(-1)"
   ]
  },
  {
   "cell_type": "code",
   "execution_count": 21,
   "metadata": {},
   "outputs": [
    {
     "data": {
      "text/plain": [
       "array([0.85958472, 0.95980448, 0.99679371, 0.99998863])"
      ]
     },
     "execution_count": 21,
     "metadata": {},
     "output_type": "execute_result"
    }
   ],
   "source": [
    "fids[0] = fidelity_count(raw_res, qcs_tomo, target_state)\n",
    "fids[1] = fidelity_count(qiskit_res, qcs_tomo, target_state)\n",
    "fids[2] = fidelity_count(identity_res, qcs_tomo, target_state)\n",
    "fids[3] = fidelity_count(itself_res, qcs_tomo, target_state)\n",
    "\n",
    "fids"
   ]
  },
  {
   "cell_type": "code",
   "execution_count": null,
   "metadata": {},
   "outputs": [],
   "source": []
  },
  {
   "cell_type": "code",
   "execution_count": null,
   "metadata": {},
   "outputs": [],
   "source": []
  }
 ],
 "metadata": {
  "interpreter": {
   "hash": "aee8b7b246df8f9039afb4144a1f6fd8d2ca17a180786b69acc140d282b71a49"
  },
  "kernelspec": {
   "display_name": "Python 3.10.2 64-bit",
   "language": "python",
   "name": "python3"
  },
  "language_info": {
   "codemirror_mode": {
    "name": "ipython",
    "version": 3
   },
   "file_extension": ".py",
   "mimetype": "text/x-python",
   "name": "python",
   "nbconvert_exporter": "python",
   "pygments_lexer": "ipython3",
   "version": "3.10.2"
  },
  "orig_nbformat": 4
 },
 "nbformat": 4,
 "nbformat_minor": 2
}
