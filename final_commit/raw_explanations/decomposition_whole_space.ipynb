{
 "cells": [
  {
   "cell_type": "markdown",
   "metadata": {},
   "source": [
    "# Whole space decomposition\n",
    "\n",
    "The single column decomposition works only for an initial state in a particular eigenspace of the Hamiltonian, (see decomposition.ipynb). If the initial state is a generic sovrapposition we need to find a new decomposition.\n",
    "\n",
    "Here we describe our best decomposition for any initial state, that has 11 c-not (14 with the jakarta geometry). "
   ]
  },
  {
   "cell_type": "markdown",
   "metadata": {},
   "source": [
    "# 1) Idea explanation\n",
    "\n",
    "Like in the Single Column Decomposition we want to numerically calculate a single Trotter Step Operator and find an optimal circuit for $T_{step}^{n}$. "
   ]
  },
  {
   "cell_type": "code",
   "execution_count": null,
   "metadata": {},
   "outputs": [],
   "source": [
    "from lib.functions0 import *\n",
    "from sympy import *\n",
    "\n",
    "parameter = Symbol(\"alpha\", real=True)\n",
    "\n",
    "Trotter_Step_Matrix = trotter_step_matrix(parameter)\n",
    "Trotter_Step_Matrix"
   ]
  },
  {
   "cell_type": "markdown",
   "metadata": {},
   "source": [
    "The idea is to find a basis change where the Trotter_Step_Matrix is in the form:\n",
    "\n",
    "$\n",
    "T_{step} = M \\otimes Id_{2x2}\n",
    "$\n",
    "\n",
    "Where M is a 2 Qubit Gate."
   ]
  },
  {
   "cell_type": "code",
   "execution_count": null,
   "metadata": {},
   "outputs": [],
   "source": [
    "from sympy.physics.quantum import TensorProduct as Tp\n",
    "\n",
    "B = Matrix([\n",
    "    [0,0,0,0,1,0,0,0],\n",
    "    [0,0,1,0,0,0,0,0],\n",
    "    [0,1,0,0,0,0,0,0],\n",
    "    [1,0,0,0,0,0,0,0],\n",
    "    [0,0,0,1,0,0,0,0],\n",
    "    [0,0,0,0,0,1,0,0],\n",
    "    [0,0,0,0,0,0,1,0],\n",
    "    [0,0,0,0,0,0,0,1]\n",
    "])\n",
    "B"
   ]
  },
  {
   "cell_type": "code",
   "execution_count": null,
   "metadata": {},
   "outputs": [],
   "source": [
    "B*Trotter_Step_Matrix*B.H"
   ]
  },
  {
   "cell_type": "markdown",
   "metadata": {},
   "source": [
    "As we can see in the B basis the Trotter steps can be reduced to a 2 Qubit gate.\n",
    "\n",
    "Now we can change tha base before the evolution and apply N trotter steps in the new base:\n",
    "\n",
    "$\n",
    "B \\cdot T_{step}^N \\cdot B^{+} =( B \\cdot T_{step} \\cdot B^{+})\\cdot (  B \\cdot T_{step} \\cdot B^{+}) \\cdot ... \\cdot (B \\cdot T_{step} \\cdot B^{+}) = (M \\otimes Id_{2x2})^N\n",
    "$\n",
    "\n",
    "To optimize the circuit instead of changing the base with the B gate we prepare the initial state already in the new base (this is easy because B is just a permutation matrix):\n",
    "\n",
    "$\n",
    "|\\psi>_{prepared} = B^{+} \\cdot |\\psi>_{init} \n",
    "$\n",
    "\n",
    "So finally we have:\n",
    "\n",
    "$\n",
    "T_{step}^N |\\psi>_{init} =  B \\cdot B^{+} \\cdot T_{step}^N \\cdot B \\cdot B^{+} |\\psi>_{init} = B \\cdot( B^{+} \\cdot T_{step}^N \\cdot B) |\\psi>_{prepared} = \n",
    "$\n",
    "\n",
    "$\n",
    "=  B \\cdot (M \\otimes Id_{2x2})^N |\\psi>_{prepared} = B \\cdot (M^N \\otimes Id_{2x2}) |\\psi>_{prepared}\n",
    "$\n",
    "\n",
    "Now we need to find a minimal decomposition for B and $M^{n}$.\n"
   ]
  },
  {
   "cell_type": "markdown",
   "metadata": {},
   "source": [
    "# 2) Matrices Decomposition\n",
    "\n",
    "## 2.1) B matrix\n",
    "\n",
    "B is a permutation matrix so is possible to implement it just using x, c-x and toffoli gates (because they correspond to make columns and rows moves).\n"
   ]
  },
  {
   "cell_type": "code",
   "execution_count": null,
   "metadata": {},
   "outputs": [],
   "source": [
    "qr=QuantumRegister(3, name=\"q\")\n",
    "B_qc=QuantumCircuit(qr, name=\"B\")\n",
    "B_qc.x(qr[2])\n",
    "B_qc.cx(qr[1],qr[0])\n",
    "B_qc.cx(qr[2],qr[1])\n",
    "B_qc.cx(qr[1],qr[0])\n",
    "B_qc.x([qr[0],qr[1],qr[2]])\n",
    "B_qc.append(Toffoli_gate(),[qr[0],qr[1],qr[2]])\n",
    "B_qc.x([qr[0],qr[1]])\n",
    "\n",
    "B_qc.draw(output=\"mpl\")"
   ]
  },
  {
   "cell_type": "code",
   "execution_count": null,
   "metadata": {},
   "outputs": [],
   "source": [
    "transpile(B_qc, basis_gates=[\"cx\", \"x\", \"rz\", \"sx\"]).draw(output=\"mpl\")"
   ]
  },
  {
   "cell_type": "markdown",
   "metadata": {},
   "source": [
    "Where the best decomposition for the toffoli gate in jakarta geometry is (8 c-not):"
   ]
  },
  {
   "cell_type": "code",
   "execution_count": null,
   "metadata": {},
   "outputs": [],
   "source": [
    "Toffoli_gate().draw(output=\"mpl\")"
   ]
  },
  {
   "cell_type": "markdown",
   "metadata": {},
   "source": [
    "## 2.1) $M^N$ matrix\n",
    "\n",
    "The M matrix is the following:"
   ]
  },
  {
   "cell_type": "code",
   "execution_count": null,
   "metadata": {},
   "outputs": [],
   "source": [
    "M = B*Trotter_Step_Matrix*B.H\n",
    "M = Matrix([M[0:4],M[8:12],M[16:20],M[24:28]])\n",
    "M"
   ]
  },
  {
   "cell_type": "markdown",
   "metadata": {},
   "source": [
    "We compute numerically $M^{n}$."
   ]
  },
  {
   "cell_type": "code",
   "execution_count": null,
   "metadata": {},
   "outputs": [],
   "source": [
    "n_steps = 42\n",
    "time = np.pi\n",
    "precision = 40\n",
    "\n",
    "numeric_evolution_matrix=eye(8)\n",
    "\n",
    "for _ in range(n_steps): # here is computed the evolution operator numerically, with n_steps trotter steps.\n",
    "    numeric_evolution_matrix=(numeric_evolution_matrix*trotter_step_matrix(2*time/n_steps)).evalf(precision)\n",
    "\n",
    "M_N = B*numeric_evolution_matrix*B.H\n",
    "M_N = Matrix([M_N[0:4],M_N[8:12],M_N[16:20],M_N[24:28]])\n",
    "M_N.evalf(5)"
   ]
  },
  {
   "cell_type": "markdown",
   "metadata": {},
   "source": [
    "then using transpile we get the best decomposition"
   ]
  },
  {
   "cell_type": "code",
   "execution_count": null,
   "metadata": {},
   "outputs": [],
   "source": [
    "qc=QuantumCircuit(2, name=\"$M^N$\")\n",
    "qc.unitary(M_N,[0,1])    \n",
    "M_N_qc=transpile(qc,basis_gates=['cx','x','sx','rz']) \n",
    "\n",
    "M_N_qc.draw(output=\"mpl\")"
   ]
  },
  {
   "cell_type": "markdown",
   "metadata": {},
   "source": [
    "So now we can built the final circuit in term of 14 cnots"
   ]
  },
  {
   "cell_type": "code",
   "execution_count": null,
   "metadata": {},
   "outputs": [],
   "source": [
    "initial_state=\"000\"\n",
    "\n",
    "qr = QuantumRegister(3, name=\"q\")\n",
    "qc = QuantumCircuit(qr, name=\"evo\")\n",
    "\n",
    "### preparing the initial state\n",
    "\n",
    "l=0\n",
    "for k in [2,1,0]:\n",
    "    if initial_state[l]=='1':\n",
    "        qc.x(qr[k])\n",
    "    l+=1\n",
    "\n",
    "### appending the evolution\n",
    "\n",
    "qc.append(M_N_qc,[qr[0],qr[1]])\n",
    "qc.append(B_qc,[qr[0],qr[1],qr[2]])\n",
    "\n",
    "qc.draw(output=\"mpl\")"
   ]
  },
  {
   "cell_type": "markdown",
   "metadata": {},
   "source": [
    "ora faccio una verifica ma possiamo anche non metterla"
   ]
  },
  {
   "cell_type": "code",
   "execution_count": null,
   "metadata": {},
   "outputs": [],
   "source": [
    "def matrix_from_cirquit(qc, phase=0):\n",
    "\n",
    "    backend = Aer.get_backend('unitary_simulator')\n",
    "    job = execute(qc, backend, shots=32000)\n",
    "    result = job.result()\n",
    "    A=result.get_unitary(qc, decimals=10)*np.exp(1j*phase)\n",
    "    return Matrix(A)\n"
   ]
  },
  {
   "cell_type": "code",
   "execution_count": null,
   "metadata": {},
   "outputs": [],
   "source": [
    "DDDD = matrix_from_cirquit(qc)\n",
    "DDDD"
   ]
  },
  {
   "cell_type": "code",
   "execution_count": null,
   "metadata": {},
   "outputs": [],
   "source": [
    "DDDD*B.H"
   ]
  },
  {
   "cell_type": "code",
   "execution_count": null,
   "metadata": {},
   "outputs": [],
   "source": []
  }
 ],
 "metadata": {
  "interpreter": {
   "hash": "aee8b7b246df8f9039afb4144a1f6fd8d2ca17a180786b69acc140d282b71a49"
  },
  "kernelspec": {
   "display_name": "Python 3.10.2 64-bit",
   "language": "python",
   "name": "python3"
  },
  "language_info": {
   "codemirror_mode": {
    "name": "ipython",
    "version": 3
   },
   "file_extension": ".py",
   "mimetype": "text/x-python",
   "name": "python",
   "nbconvert_exporter": "python",
   "pygments_lexer": "ipython3",
   "version": "3.10.2"
  },
  "orig_nbformat": 4
 },
 "nbformat": 4,
 "nbformat_minor": 2
}
