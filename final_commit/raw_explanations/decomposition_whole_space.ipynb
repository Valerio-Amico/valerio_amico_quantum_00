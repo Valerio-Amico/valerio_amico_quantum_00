{
 "cells": [
  {
   "cell_type": "markdown",
   "metadata": {},
   "source": [
    "# Whole space decomposition\n",
    "\n",
    "The single column decomposition works only for an initial state in a particular eigenspace of the Hamiltonian, (see decomposition.ipynb). If the initial state is a generic sovrapposition we need to find a new decomposition.\n",
    "\n",
    "Here we describe our best decomposition for any initial state, that has 11 c-not (14 with the jakarta geometry). "
   ]
  },
  {
   "cell_type": "markdown",
   "metadata": {},
   "source": [
    "# 1) Idea explanation\n",
    "\n",
    "Like in the Single Column Decomposition we want to numerically calculate a single Trotter Step Operator and find an optimal circuit for $T_{step}^{n}$. "
   ]
  },
  {
   "cell_type": "code",
   "execution_count": 26,
   "metadata": {},
   "outputs": [
    {
     "data": {
      "text/plain": [
       "array([[ 9.98026728e-01-6.27905195e-02j,  0.00000000e+00+0.00000000e+00j,\n",
       "         0.00000000e+00+0.00000000e+00j,  0.00000000e+00+0.00000000e+00j,\n",
       "         0.00000000e+00+0.00000000e+00j,  0.00000000e+00+0.00000000e+00j,\n",
       "         0.00000000e+00+0.00000000e+00j,  0.00000000e+00+0.00000000e+00j],\n",
       "       [ 0.00000000e+00+0.00000000e+00j,  9.98026728e-01-1.14187328e-18j,\n",
       "         5.44840444e-19-6.27905195e-02j,  0.00000000e+00+0.00000000e+00j,\n",
       "         0.00000000e+00+0.00000000e+00j,  0.00000000e+00+0.00000000e+00j,\n",
       "         0.00000000e+00+0.00000000e+00j,  0.00000000e+00+0.00000000e+00j],\n",
       "       [ 0.00000000e+00+0.00000000e+00j,  3.93486942e-03-6.25429585e-02j,\n",
       "         9.94091859e-01+6.25429585e-02j,  0.00000000e+00+0.00000000e+00j,\n",
       "         5.44840444e-19-6.27905195e-02j,  0.00000000e+00+0.00000000e+00j,\n",
       "         0.00000000e+00+0.00000000e+00j,  0.00000000e+00+0.00000000e+00j],\n",
       "       [ 0.00000000e+00+0.00000000e+00j,  0.00000000e+00+0.00000000e+00j,\n",
       "         0.00000000e+00+0.00000000e+00j,  9.98026728e-01+1.27319036e-18j,\n",
       "         0.00000000e+00+0.00000000e+00j,  3.93486942e-03-6.25429585e-02j,\n",
       "        -3.93486942e-03-2.47561001e-04j,  0.00000000e+00+0.00000000e+00j],\n",
       "       [ 0.00000000e+00+0.00000000e+00j, -3.93486942e-03-2.47561001e-04j,\n",
       "         3.93486942e-03-6.25429585e-02j,  0.00000000e+00+0.00000000e+00j,\n",
       "         9.98026728e-01+4.72478947e-18j,  0.00000000e+00+0.00000000e+00j,\n",
       "         0.00000000e+00+0.00000000e+00j,  0.00000000e+00+0.00000000e+00j],\n",
       "       [ 0.00000000e+00+0.00000000e+00j,  0.00000000e+00+0.00000000e+00j,\n",
       "         0.00000000e+00+0.00000000e+00j,  1.11159575e-19-6.27905195e-02j,\n",
       "         0.00000000e+00+0.00000000e+00j,  9.94091859e-01+6.25429585e-02j,\n",
       "         3.93486942e-03-6.25429585e-02j,  0.00000000e+00+0.00000000e+00j],\n",
       "       [ 0.00000000e+00+0.00000000e+00j,  0.00000000e+00+0.00000000e+00j,\n",
       "         0.00000000e+00+0.00000000e+00j,  0.00000000e+00+0.00000000e+00j,\n",
       "         0.00000000e+00+0.00000000e+00j,  1.11159575e-19-6.27905195e-02j,\n",
       "         9.98026728e-01+5.79359670e-18j,  0.00000000e+00+0.00000000e+00j],\n",
       "       [ 0.00000000e+00+0.00000000e+00j,  0.00000000e+00+0.00000000e+00j,\n",
       "         0.00000000e+00+0.00000000e+00j,  0.00000000e+00+0.00000000e+00j,\n",
       "         0.00000000e+00+0.00000000e+00j,  0.00000000e+00+0.00000000e+00j,\n",
       "         0.00000000e+00+0.00000000e+00j,  9.98026728e-01-6.27905195e-02j]])"
      ]
     },
     "execution_count": 26,
     "metadata": {},
     "output_type": "execute_result"
    }
   ],
   "source": [
    "from lib.functions0 import *\n",
    "from sympy import *\n",
    "\n",
    "parameter = Symbol(\"alpha\", real=True)\n",
    "time = np.pi\n",
    "n_steps = 100\n",
    "\n",
    "Trotter_Step_Matrix = trotter_step_matrix(time, n_steps)\n",
    "Trotter_Step_Matrix"
   ]
  },
  {
   "cell_type": "markdown",
   "metadata": {},
   "source": [
    "The idea is to find a basis change where the Trotter_Step_Matrix is in the form:\n",
    "\n",
    "$\n",
    "T_{step} = M \\otimes Id_{2x2}\n",
    "$\n",
    "\n",
    "Where M is a 2 Qubit Gate."
   ]
  },
  {
   "cell_type": "code",
   "execution_count": 39,
   "metadata": {},
   "outputs": [
    {
     "data": {
      "text/plain": [
       "'\\\\left[\\\\begin{matrix}0 & 0 & 0 & 0 & 1 & 0 & 0 & 0\\\\\\\\0 & 0 & 1 & 0 & 0 & 0 & 0 & 0\\\\\\\\0 & 1 & 0 & 0 & 0 & 0 & 0 & 0\\\\\\\\1 & 0 & 0 & 0 & 0 & 0 & 0 & 0\\\\\\\\0 & 0 & 0 & 1 & 0 & 0 & 0 & 0\\\\\\\\0 & 0 & 0 & 0 & 0 & 1 & 0 & 0\\\\\\\\0 & 0 & 0 & 0 & 0 & 0 & 1 & 0\\\\\\\\0 & 0 & 0 & 0 & 0 & 0 & 0 & 1\\\\end{matrix}\\\\right]'"
      ]
     },
     "execution_count": 39,
     "metadata": {},
     "output_type": "execute_result"
    }
   ],
   "source": [
    "from sympy.physics.quantum import TensorProduct as Tp\n",
    "\n",
    "B = Matrix([\n",
    "    [0,0,0,0,1,0,0,0],\n",
    "    [0,0,1,0,0,0,0,0],\n",
    "    [0,1,0,0,0,0,0,0],\n",
    "    [1,0,0,0,0,0,0,0],\n",
    "    [0,0,0,1,0,0,0,0],\n",
    "    [0,0,0,0,0,1,0,0],\n",
    "    [0,0,0,0,0,0,1,0],\n",
    "    [0,0,0,0,0,0,0,1]\n",
    "])\n",
    "latex(B)"
   ]
  },
  {
   "cell_type": "code",
   "execution_count": 28,
   "metadata": {},
   "outputs": [
    {
     "data": {
      "text/latex": [
       "$\\displaystyle \\left[\\begin{matrix}0.998026728428271 + 4.72478947392371 \\cdot 10^{-18} i & 0.00393486942489572 - 0.0625429585287595 i & -0.00393486942489572 - 0.000247561000553874 i & 0 & 0 & 0 & 0 & 0\\\\5.44840444062603 \\cdot 10^{-19} - 0.0627905195293134 i & 0.994091859003376 + 0.0625429585287595 i & 0.00393486942489572 - 0.0625429585287595 i & 0 & 0 & 0 & 0 & 0\\\\0 & 5.44840444062603 \\cdot 10^{-19} - 0.0627905195293134 i & 0.998026728428271 - 1.14187328118397 \\cdot 10^{-18} i & 0 & 0 & 0 & 0 & 0\\\\0 & 0 & 0 & 0.998026728428271 - 0.0627905195293134 i & 0 & 0 & 0 & 0\\\\0 & 0 & 0 & 0 & 0.998026728428271 + 1.27319036496565 \\cdot 10^{-18} i & 0.00393486942489572 - 0.0625429585287595 i & -0.00393486942489572 - 0.000247561000553874 i & 0\\\\0 & 0 & 0 & 0 & 1.11159575068402 \\cdot 10^{-19} - 0.0627905195293134 i & 0.994091859003376 + 0.0625429585287595 i & 0.00393486942489572 - 0.0625429585287595 i & 0\\\\0 & 0 & 0 & 0 & 0 & 1.11159575068402 \\cdot 10^{-19} - 0.0627905195293134 i & 0.998026728428271 + 5.79359669745308 \\cdot 10^{-18} i & 0\\\\0 & 0 & 0 & 0 & 0 & 0 & 0 & 0.998026728428271 - 0.0627905195293134 i\\end{matrix}\\right]$"
      ],
      "text/plain": [
       "Matrix([\n",
       "[ 0.998026728428271 + 4.72478947392371e-18*I,  0.00393486942489572 - 0.0625429585287595*I, -0.00393486942489572 - 0.000247561000553874*I,                                        0,                                           0,                                           0,                                             0,                                        0],\n",
       "[5.44840444062603e-19 - 0.0627905195293134*I,    0.994091859003376 + 0.0625429585287595*I,    0.00393486942489572 - 0.0625429585287595*I,                                        0,                                           0,                                           0,                                             0,                                        0],\n",
       "[                                          0, 5.44840444062603e-19 - 0.0627905195293134*I,    0.998026728428271 - 1.14187328118397e-18*I,                                        0,                                           0,                                           0,                                             0,                                        0],\n",
       "[                                          0,                                           0,                                             0, 0.998026728428271 - 0.0627905195293134*I,                                           0,                                           0,                                             0,                                        0],\n",
       "[                                          0,                                           0,                                             0,                                        0,  0.998026728428271 + 1.27319036496565e-18*I,  0.00393486942489572 - 0.0625429585287595*I, -0.00393486942489572 - 0.000247561000553874*I,                                        0],\n",
       "[                                          0,                                           0,                                             0,                                        0, 1.11159575068402e-19 - 0.0627905195293134*I,    0.994091859003376 + 0.0625429585287595*I,    0.00393486942489572 - 0.0625429585287595*I,                                        0],\n",
       "[                                          0,                                           0,                                             0,                                        0,                                           0, 1.11159575068402e-19 - 0.0627905195293134*I,    0.998026728428271 + 5.79359669745308e-18*I,                                        0],\n",
       "[                                          0,                                           0,                                             0,                                        0,                                           0,                                           0,                                             0, 0.998026728428271 - 0.0627905195293134*I]])"
      ]
     },
     "execution_count": 28,
     "metadata": {},
     "output_type": "execute_result"
    }
   ],
   "source": [
    "B*Trotter_Step_Matrix*B.H"
   ]
  },
  {
   "cell_type": "markdown",
   "metadata": {},
   "source": [
    "As we can see in the B basis the Trotter steps can be reduced to a 2 Qubit gate.\n",
    "\n",
    "Now we can change tha base before the evolution and apply N trotter steps in the new base:\n",
    "\n",
    "$\n",
    "B \\cdot T_{step}^N \\cdot B^{+} =( B \\cdot T_{step} \\cdot B^{+})\\cdot (  B \\cdot T_{step} \\cdot B^{+}) \\cdot ... \\cdot (B \\cdot T_{step} \\cdot B^{+}) = (M \\otimes Id_{2x2})^N\n",
    "$\n",
    "\n",
    "To optimize the circuit instead of changing the base with the B gate we prepare the initial state already in the new base (this is easy because B is just a permutation matrix):\n",
    "\n",
    "$\n",
    "|\\psi>_{prepared} = B^{+} \\cdot |\\psi>_{init} \n",
    "$\n",
    "\n",
    "So finally we have:\n",
    "\n",
    "$\n",
    "T_{step}^N |\\psi>_{init} =  B \\cdot B^{+} \\cdot T_{step}^N \\cdot B \\cdot B^{+} |\\psi>_{init} = B \\cdot( B^{+} \\cdot T_{step}^N \\cdot B) |\\psi>_{prepared} = \n",
    "$\n",
    "\n",
    "$\n",
    "=  B \\cdot (M \\otimes Id_{2x2})^N |\\psi>_{prepared} = B \\cdot (M^N \\otimes Id_{2x2}) |\\psi>_{prepared}\n",
    "$\n",
    "\n",
    "Now we need to find a minimal decomposition for B and $M^{n}$.\n"
   ]
  },
  {
   "cell_type": "markdown",
   "metadata": {},
   "source": [
    "# 2) Matrices Decomposition\n",
    "\n",
    "## 2.1) B matrix\n",
    "\n",
    "B is a permutation matrix so is possible to implement it just using x, c-x and toffoli gates (because they correspond to make columns and rows moves).\n"
   ]
  },
  {
   "cell_type": "code",
   "execution_count": 29,
   "metadata": {},
   "outputs": [
    {
     "data": {
      "image/png": "[encoded data removed]",
      "text/plain": [
       "<Figure size 447.797x204.68 with 1 Axes>"
      ]
     },
     "execution_count": 29,
     "metadata": {},
     "output_type": "execute_result"
    }
   ],
   "source": [
    "from qiskit import QuantumCircuit, QuantumRegister, ClassicalRegister, transpile\n",
    "\n",
    "qr=QuantumRegister(3, name=\"q\")\n",
    "B_qc=QuantumCircuit(qr, name=\"B\")\n",
    "B_qc.x(qr[2])\n",
    "B_qc.cx(qr[1],qr[0])\n",
    "B_qc.cx(qr[2],qr[1])\n",
    "B_qc.cx(qr[1],qr[0])\n",
    "B_qc.x([qr[0],qr[1],qr[2]])\n",
    "B_qc.toffoli(qr[0],qr[1],qr[2])#append(Toffoli_gate,[qr[0],qr[1],qr[2]])\n",
    "B_qc.x([qr[0],qr[1]])\n",
    "\n",
    "B_qc.draw(output=\"mpl\")"
   ]
  },
  {
   "cell_type": "code",
   "execution_count": 30,
   "metadata": {},
   "outputs": [
    {
     "data": {
      "image/png": "[encoded data removed]",
      "text/plain": [
       "<Figure size 1049.8x204.68 with 1 Axes>"
      ]
     },
     "execution_count": 30,
     "metadata": {},
     "output_type": "execute_result"
    }
   ],
   "source": [
    "transpile(B_qc, basis_gates=[\"cx\", \"x\", \"rz\", \"sx\"]).draw(output=\"mpl\")"
   ]
  },
  {
   "cell_type": "markdown",
   "metadata": {},
   "source": [
    "Where the best decomposition for the toffoli gate in jakarta geometry is (8 c-not):"
   ]
  },
  {
   "cell_type": "code",
   "execution_count": 31,
   "metadata": {},
   "outputs": [
    {
     "data": {
      "image/png": "[encoded data removed]",
      "text/plain": [
       "<Figure size 748.797x204.68 with 1 Axes>"
      ]
     },
     "execution_count": 31,
     "metadata": {},
     "output_type": "execute_result"
    }
   ],
   "source": [
    "Toffoli_gate.draw(output=\"mpl\")"
   ]
  },
  {
   "cell_type": "markdown",
   "metadata": {},
   "source": [
    "## 2.1) $M^N$ matrix\n",
    "\n",
    "The M matrix is the following:"
   ]
  },
  {
   "cell_type": "code",
   "execution_count": 32,
   "metadata": {},
   "outputs": [
    {
     "data": {
      "text/latex": [
       "$\\displaystyle \\left[\\begin{matrix}0.998026728428271 + 4.72478947392371 \\cdot 10^{-18} i & 0.00393486942489572 - 0.0625429585287595 i & -0.00393486942489572 - 0.000247561000553874 i & 0\\\\5.44840444062603 \\cdot 10^{-19} - 0.0627905195293134 i & 0.994091859003376 + 0.0625429585287595 i & 0.00393486942489572 - 0.0625429585287595 i & 0\\\\0 & 5.44840444062603 \\cdot 10^{-19} - 0.0627905195293134 i & 0.998026728428271 - 1.14187328118397 \\cdot 10^{-18} i & 0\\\\0 & 0 & 0 & 0.998026728428271 - 0.0627905195293134 i\\end{matrix}\\right]$"
      ],
      "text/plain": [
       "Matrix([\n",
       "[ 0.998026728428271 + 4.72478947392371e-18*I,  0.00393486942489572 - 0.0625429585287595*I, -0.00393486942489572 - 0.000247561000553874*I,                                        0],\n",
       "[5.44840444062603e-19 - 0.0627905195293134*I,    0.994091859003376 + 0.0625429585287595*I,    0.00393486942489572 - 0.0625429585287595*I,                                        0],\n",
       "[                                          0, 5.44840444062603e-19 - 0.0627905195293134*I,    0.998026728428271 - 1.14187328118397e-18*I,                                        0],\n",
       "[                                          0,                                           0,                                             0, 0.998026728428271 - 0.0627905195293134*I]])"
      ]
     },
     "execution_count": 32,
     "metadata": {},
     "output_type": "execute_result"
    }
   ],
   "source": [
    "M = B*Trotter_Step_Matrix*B.H\n",
    "M = Matrix([M[0:4],M[8:12],M[16:20],M[24:28]])\n",
    "M"
   ]
  },
  {
   "cell_type": "markdown",
   "metadata": {},
   "source": [
    "We compute numerically $M^{n}$."
   ]
  },
  {
   "cell_type": "code",
   "execution_count": 33,
   "metadata": {},
   "outputs": [
    {
     "data": {
      "text/latex": [
       "$\\displaystyle \\left[\\begin{matrix}0.9999 + 0.0058176 i & -0.0012637 + 0.0058176 i & 0.0013669 - 0.011635 i & 0\\\\0.0013669 + 0.0058176 i & 0.9999 - 0.011635 i & -0.0012637 + 0.0058176 i & 0\\\\-0.0012637 - 0.011635 i & 0.0013669 + 0.0058176 i & 0.9999 + 0.0058176 i & 0\\\\0 & 0 & 0 & 1.0 + 1.1891 \\cdot 10^{-15} i\\end{matrix}\\right]$"
      ],
      "text/plain": [
       "Matrix([\n",
       "[   0.9999 + 0.0058176*I, -0.0012637 + 0.0058176*I,   0.0013669 - 0.011635*I,                  0],\n",
       "[0.0013669 + 0.0058176*I,      0.9999 - 0.011635*I, -0.0012637 + 0.0058176*I,                  0],\n",
       "[-0.0012637 - 0.011635*I,  0.0013669 + 0.0058176*I,     0.9999 + 0.0058176*I,                  0],\n",
       "[                      0,                        0,                        0, 1.0 + 1.1891e-15*I]])"
      ]
     },
     "execution_count": 33,
     "metadata": {},
     "output_type": "execute_result"
    }
   ],
   "source": [
    "n_steps = 42\n",
    "time = np.pi\n",
    "precision = 40\n",
    "\n",
    "numeric_evolution_matrix=eye(8)\n",
    "\n",
    "for _ in range(n_steps): # here is computed the evolution operator numerically, with n_steps trotter steps.\n",
    "    numeric_evolution_matrix=(numeric_evolution_matrix*trotter_step_matrix(time, n_steps)).evalf(precision)\n",
    "\n",
    "M_N = B*numeric_evolution_matrix*B.H\n",
    "M_N = Matrix([M_N[0:4],M_N[8:12],M_N[16:20],M_N[24:28]])\n",
    "M_N.evalf(5)"
   ]
  },
  {
   "cell_type": "markdown",
   "metadata": {},
   "source": [
    "then using transpile we get the best decomposition"
   ]
  },
  {
   "cell_type": "code",
   "execution_count": 34,
   "metadata": {},
   "outputs": [
    {
     "data": {
      "image/png": "[encoded data removed]",
      "text/plain": [
       "<Figure size 1109.85x144.48 with 1 Axes>"
      ]
     },
     "execution_count": 34,
     "metadata": {},
     "output_type": "execute_result"
    }
   ],
   "source": [
    "qc=QuantumCircuit(2, name=\"$M^N$\")\n",
    "qc.unitary(M_N,[0,1])    \n",
    "M_N_qc=transpile(qc,basis_gates=['cx','x','sx','rz']) \n",
    "\n",
    "M_N_qc.draw(output=\"mpl\")"
   ]
  },
  {
   "cell_type": "markdown",
   "metadata": {},
   "source": [
    "So now we can built the final circuit in term of 14 cnots"
   ]
  },
  {
   "cell_type": "code",
   "execution_count": 35,
   "metadata": {},
   "outputs": [
    {
     "data": {
      "image/png": "[encoded data removed]",
      "text/plain": [
       "<Figure size 206.997x204.68 with 1 Axes>"
      ]
     },
     "execution_count": 35,
     "metadata": {},
     "output_type": "execute_result"
    }
   ],
   "source": [
    "initial_state=\"000\"\n",
    "\n",
    "qr = QuantumRegister(3, name=\"q\")\n",
    "qc = QuantumCircuit(qr, name=\"evo\")\n",
    "\n",
    "### preparing the initial state\n",
    "\n",
    "l=0\n",
    "for k in [2,1,0]:\n",
    "    if initial_state[l]=='1':\n",
    "        qc.x(qr[k])\n",
    "    l+=1\n",
    "\n",
    "### appending the evolution\n",
    "\n",
    "qc.append(M_N_qc,[qr[0],qr[1]])\n",
    "qc.append(B_qc,[qr[0],qr[1],qr[2]])\n",
    "\n",
    "qc.draw(output=\"mpl\")"
   ]
  },
  {
   "cell_type": "markdown",
   "metadata": {},
   "source": [
    "ora faccio una verifica ma possiamo anche non metterla"
   ]
  },
  {
   "cell_type": "code",
   "execution_count": 36,
   "metadata": {},
   "outputs": [],
   "source": [
    "def matrix_from_cirquit(qc, phase=0):\n",
    "\n",
    "    backend = Aer.get_backend('unitary_simulator')\n",
    "    job = execute(qc, backend, shots=32000)\n",
    "    result = job.result()\n",
    "    A=result.get_unitary(qc, decimals=10)*np.exp(1j*phase)\n",
    "    return Matrix(A)\n"
   ]
  },
  {
   "cell_type": "code",
   "execution_count": 37,
   "metadata": {},
   "outputs": [
    {
     "name": "stderr",
     "output_type": "stream",
     "text": [
      "/Library/Frameworks/Python.framework/Versions/3.10/lib/python3.10/site-packages/numpy/linalg/linalg.py:2146: RuntimeWarning: divide by zero encountered in det\n",
      "  r = _umath_linalg.det(a, signature=signature)\n",
      "/Library/Frameworks/Python.framework/Versions/3.10/lib/python3.10/site-packages/numpy/linalg/linalg.py:2146: RuntimeWarning: invalid value encountered in det\n",
      "  r = _umath_linalg.det(a, signature=signature)\n"
     ]
    },
    {
     "data": {
      "text/latex": [
       "$\\displaystyle \\left[\\begin{matrix}0 & 0 & 0 & 0 & 0.9998967287 + 0.0058175983 i & -0.0012636571 + 0.0058175983 i & 0.0013669285 - 0.0116351967 i & 0\\\\-0.0012636571 - 0.0116351967 i & 0.0013669285 + 0.0058175983 i & 0.9998967287 + 0.0058175983 i & 0 & 0 & 0 & 0 & 0\\\\0.0013669285 + 0.0058175983 i & 0.9998967287 - 0.0116351967 i & -0.0012636571 + 0.0058175983 i & 0 & 0 & 0 & 0 & 0\\\\0.9998967287 + 0.0058175983 i & -0.0012636571 + 0.0058175983 i & 0.0013669285 - 0.0116351967 i & 0 & 0 & 0 & 0 & 0\\\\0 & 0 & 0 & 1.0 & 0 & 0 & 0 & 0\\\\0 & 0 & 0 & 0 & 0.0013669285 + 0.0058175983 i & 0.9998967287 - 0.0116351967 i & -0.0012636571 + 0.0058175983 i & 0\\\\0 & 0 & 0 & 0 & -0.0012636571 - 0.0116351967 i & 0.0013669285 + 0.0058175983 i & 0.9998967287 + 0.0058175983 i & 0\\\\0 & 0 & 0 & 0 & 0 & 0 & 0 & 1.0\\end{matrix}\\right]$"
      ],
      "text/plain": [
       "Matrix([\n",
       "[                             0,                              0,                              0,   0,  0.9998967287 + 0.0058175983*I, -0.0012636571 + 0.0058175983*I,  0.0013669285 - 0.0116351967*I,   0],\n",
       "[-0.0012636571 - 0.0116351967*I,  0.0013669285 + 0.0058175983*I,  0.9998967287 + 0.0058175983*I,   0,                              0,                              0,                              0,   0],\n",
       "[ 0.0013669285 + 0.0058175983*I,  0.9998967287 - 0.0116351967*I, -0.0012636571 + 0.0058175983*I,   0,                              0,                              0,                              0,   0],\n",
       "[ 0.9998967287 + 0.0058175983*I, -0.0012636571 + 0.0058175983*I,  0.0013669285 - 0.0116351967*I,   0,                              0,                              0,                              0,   0],\n",
       "[                             0,                              0,                              0, 1.0,                              0,                              0,                              0,   0],\n",
       "[                             0,                              0,                              0,   0,  0.0013669285 + 0.0058175983*I,  0.9998967287 - 0.0116351967*I, -0.0012636571 + 0.0058175983*I,   0],\n",
       "[                             0,                              0,                              0,   0, -0.0012636571 - 0.0116351967*I,  0.0013669285 + 0.0058175983*I,  0.9998967287 + 0.0058175983*I,   0],\n",
       "[                             0,                              0,                              0,   0,                              0,                              0,                              0, 1.0]])"
      ]
     },
     "execution_count": 37,
     "metadata": {},
     "output_type": "execute_result"
    }
   ],
   "source": [
    "DDDD = matrix_from_cirquit(qc)\n",
    "DDDD"
   ]
  },
  {
   "cell_type": "code",
   "execution_count": 38,
   "metadata": {},
   "outputs": [
    {
     "data": {
      "text/latex": [
       "$\\displaystyle \\left[\\begin{matrix}0.9998967287 + 0.0058175983 i & 0 & 0 & 0 & 0 & -0.0012636571 + 0.0058175983 i & 0.0013669285 - 0.0116351967 i & 0\\\\0 & 0.9998967287 + 0.0058175983 i & 0.0013669285 + 0.0058175983 i & -0.0012636571 - 0.0116351967 i & 0 & 0 & 0 & 0\\\\0 & -0.0012636571 + 0.0058175983 i & 0.9998967287 - 0.0116351967 i & 0.0013669285 + 0.0058175983 i & 0 & 0 & 0 & 0\\\\0 & 0.0013669285 - 0.0116351967 i & -0.0012636571 + 0.0058175983 i & 0.9998967287 + 0.0058175983 i & 0 & 0 & 0 & 0\\\\0 & 0 & 0 & 0 & 1.0 & 0 & 0 & 0\\\\0.0013669285 + 0.0058175983 i & 0 & 0 & 0 & 0 & 0.9998967287 - 0.0116351967 i & -0.0012636571 + 0.0058175983 i & 0\\\\-0.0012636571 - 0.0116351967 i & 0 & 0 & 0 & 0 & 0.0013669285 + 0.0058175983 i & 0.9998967287 + 0.0058175983 i & 0\\\\0 & 0 & 0 & 0 & 0 & 0 & 0 & 1.0\\end{matrix}\\right]$"
      ],
      "text/plain": [
       "Matrix([\n",
       "[ 0.9998967287 + 0.0058175983*I,                              0,                              0,                              0,   0, -0.0012636571 + 0.0058175983*I,  0.0013669285 - 0.0116351967*I,   0],\n",
       "[                             0,  0.9998967287 + 0.0058175983*I,  0.0013669285 + 0.0058175983*I, -0.0012636571 - 0.0116351967*I,   0,                              0,                              0,   0],\n",
       "[                             0, -0.0012636571 + 0.0058175983*I,  0.9998967287 - 0.0116351967*I,  0.0013669285 + 0.0058175983*I,   0,                              0,                              0,   0],\n",
       "[                             0,  0.0013669285 - 0.0116351967*I, -0.0012636571 + 0.0058175983*I,  0.9998967287 + 0.0058175983*I,   0,                              0,                              0,   0],\n",
       "[                             0,                              0,                              0,                              0, 1.0,                              0,                              0,   0],\n",
       "[ 0.0013669285 + 0.0058175983*I,                              0,                              0,                              0,   0,  0.9998967287 - 0.0116351967*I, -0.0012636571 + 0.0058175983*I,   0],\n",
       "[-0.0012636571 - 0.0116351967*I,                              0,                              0,                              0,   0,  0.0013669285 + 0.0058175983*I,  0.9998967287 + 0.0058175983*I,   0],\n",
       "[                             0,                              0,                              0,                              0,   0,                              0,                              0, 1.0]])"
      ]
     },
     "execution_count": 38,
     "metadata": {},
     "output_type": "execute_result"
    }
   ],
   "source": [
    "DDDD*B.H"
   ]
  },
  {
   "cell_type": "code",
   "execution_count": null,
   "metadata": {},
   "outputs": [],
   "source": []
  }
 ],
 "metadata": {
  "interpreter": {
   "hash": "aee8b7b246df8f9039afb4144a1f6fd8d2ca17a180786b69acc140d282b71a49"
  },
  "kernelspec": {
   "display_name": "Python 3.10.2 64-bit",
   "language": "python",
   "name": "python3"
  },
  "language_info": {
   "codemirror_mode": {
    "name": "ipython",
    "version": 3
   },
   "file_extension": ".py",
   "mimetype": "text/x-python",
   "name": "python",
   "nbconvert_exporter": "python",
   "pygments_lexer": "ipython3",
   "version": "3.10.2"
  },
  "orig_nbformat": 4
 },
 "nbformat": 4,
 "nbformat_minor": 2
}
