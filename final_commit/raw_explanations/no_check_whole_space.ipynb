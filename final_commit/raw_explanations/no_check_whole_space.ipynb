{
 "cells": [
  {
   "cell_type": "code",
   "execution_count": 1,
   "metadata": {},
   "outputs": [],
   "source": [
    "from lib.functions0 import *\n",
    "from lib.utility import *\n",
    "import numpy as np\n",
    "from scipy.linalg import expm\n",
    "from qiskit.utils.mitigation.fitters import CompleteMeasFitter\n",
    "from qiskit.ignis.mitigation.measurement import  complete_meas_cal\n",
    "from qiskit import Aer, assemble, QuantumCircuit, QuantumRegister, ClassicalRegister, IBMQ, transpile, execute\n",
    "from qiskit.providers.aer import AerSimulator, QasmSimulator\n",
    "from qiskit.opflow import Zero, One, I, X, Y, Z\n",
    "from qiskit.ignis.verification.tomography import state_tomography_circuits, StateTomographyFitter\n",
    "from qiskit.quantum_info import state_fidelity\n",
    "import matplotlib.pyplot as plt\n",
    "#%load_ext autoreload\n",
    "#%autoreload 2\n",
    "import warnings\n",
    "warnings.filterwarnings('ignore')\n",
    "IBMQ.load_account()\n",
    "provider = IBMQ.get_provider(hub='ibm-q-community',\n",
    "                            group='ibmquantumawards', \n",
    "                            project='open-science-22')\n",
    "\n",
    "backend_sim_jakarta = QasmSimulator.from_backend(provider.get_backend('ibmq_jakarta'))\n",
    "backend_real_jakarta = provider.get_backend('ibmq_jakarta')\n",
    "backend_sim = Aer.get_backend('qasm_simulator')"
   ]
  },
  {
   "cell_type": "code",
   "execution_count": 2,
   "metadata": {},
   "outputs": [
    {
     "data": {
      "text/plain": [
       "'/Library/Frameworks/Python.framework/Versions/3.10/lib/python3.10/site-packages/qiskit/utils/mitigation/fitters.py'"
      ]
     },
     "execution_count": 2,
     "metadata": {},
     "output_type": "execute_result"
    }
   ],
   "source": [
    "import qiskit\n",
    "qiskit.utils.mitigation.fitters.__file__"
   ]
  },
  {
   "cell_type": "code",
   "execution_count": 3,
   "metadata": {},
   "outputs": [
    {
     "data": {
      "text/latex": [
       "$\\displaystyle \\left[\\begin{matrix}1.0 & 0 & 0 & 0 & 0 & 0 & 0 & 0\\\\0 & 1.0 + 0.00103 i & 9.9 \\cdot 10^{-5} + 0.00103 i & 0 & -9.58 \\cdot 10^{-5} - 0.00206 i & 0 & 0 & 0\\\\0 & -9.58 \\cdot 10^{-5} + 0.00103 i & 1.0 - 0.00206 i & 0 & 9.9 \\cdot 10^{-5} + 0.00103 i & 0 & 0 & 0\\\\0 & 0 & 0 & 1.0 + 0.00103 i & 0 & -9.58 \\cdot 10^{-5} + 0.00103 i & 9.9 \\cdot 10^{-5} - 0.00206 i & 0\\\\0 & 9.9 \\cdot 10^{-5} - 0.00206 i & -9.58 \\cdot 10^{-5} + 0.00103 i & 0 & 1.0 + 0.00103 i & 0 & 0 & 0\\\\0 & 0 & 0 & 9.9 \\cdot 10^{-5} + 0.00103 i & 0 & 1.0 - 0.00206 i & -9.58 \\cdot 10^{-5} + 0.00103 i & 0\\\\0 & 0 & 0 & -9.58 \\cdot 10^{-5} - 0.00206 i & 0 & 9.9 \\cdot 10^{-5} + 0.00103 i & 1.0 + 0.00103 i & 0\\\\0 & 0 & 0 & 0 & 0 & 0 & 0 & 1.0\\end{matrix}\\right]$"
      ],
      "text/plain": [
       "Matrix([\n",
       "[1.0,                    0,                    0,                    0,                    0,                    0,                    0,   0],\n",
       "[  0,      1.0 + 0.00103*I,   9.9e-5 + 0.00103*I,                    0, -9.58e-5 - 0.00206*I,                    0,                    0,   0],\n",
       "[  0, -9.58e-5 + 0.00103*I,      1.0 - 0.00206*I,                    0,   9.9e-5 + 0.00103*I,                    0,                    0,   0],\n",
       "[  0,                    0,                    0,      1.0 + 0.00103*I,                    0, -9.58e-5 + 0.00103*I,   9.9e-5 - 0.00206*I,   0],\n",
       "[  0,   9.9e-5 - 0.00206*I, -9.58e-5 + 0.00103*I,                    0,      1.0 + 0.00103*I,                    0,                    0,   0],\n",
       "[  0,                    0,                    0,   9.9e-5 + 0.00103*I,                    0,      1.0 - 0.00206*I, -9.58e-5 + 0.00103*I,   0],\n",
       "[  0,                    0,                    0, -9.58e-5 - 0.00206*I,                    0,   9.9e-5 + 0.00103*I,      1.0 + 0.00103*I,   0],\n",
       "[  0,                    0,                    0,                    0,                    0,                    0,                    0, 1.0]])"
      ]
     },
     "execution_count": 3,
     "metadata": {},
     "output_type": "execute_result"
    }
   ],
   "source": [
    "n_steps=100\n",
    "time=np.pi\n",
    "#initial_state={\"110\": 1}\n",
    "shots = 32000\n",
    "backend = backend_sim_jakarta\n",
    "\n",
    "X = np.array([[0,1],[1,0]])  #defining the pauli matrices\n",
    "Y = np.array([[0,-1j],[1j,0]])\n",
    "Z = np.array([[1,0],[0,-1]])\n",
    "H = np.array([[1/np.sqrt(2),1/np.sqrt(2)],[1/np.sqrt(2),-1/np.sqrt(2)]])\n",
    "Id = np.eye(2)\n",
    "\n",
    "# defining the hamiltonian divided in: \n",
    "#       - H1: first two qubits interactions.\n",
    "#       - H2: second two qubits interactions.\n",
    "\n",
    "H1 = np.kron(X, np.kron(X,Id)) + np.kron(Y, np.kron(Y,Id)) + np.kron(Z, np.kron(Z,Id)) \n",
    "H2 = np.kron(Id, np.kron(X,X)) + np.kron(Id, np.kron(Y,Y)) + np.kron(Id, np.kron(Z,Z)) \n",
    "\n",
    "Had3=np.kron(H, np.kron(H,H))\n",
    "\n",
    "# building numerically the trotter step matrix, and the whole operator (trotter step)^n_steps.\n",
    "\n",
    "trotter_step_matrix_= expm(-time/n_steps*H1*1j).dot(expm(-time/n_steps*H2*1j))\n",
    "trotterized = np.linalg.matrix_power(trotter_step_matrix_, n_steps)\n",
    "Matrix(trotterized).n(3, chop=True)\n",
    "#Matrix(Had3)"
   ]
  },
  {
   "cell_type": "code",
   "execution_count": 4,
   "metadata": {},
   "outputs": [
    {
     "data": {
      "image/png": "[encoded data removed]",
      "text/plain": [
       "<Figure size 507.997x204.68 with 1 Axes>"
      ]
     },
     "execution_count": 4,
     "metadata": {},
     "output_type": "execute_result"
    }
   ],
   "source": [
    "qr=QuantumRegister(3, name=\"q\")\n",
    "B_qc=QuantumCircuit(qr, name=\"B\")\n",
    "B_qc.x(qr[2])\n",
    "B_qc.cx(qr[1],qr[0])\n",
    "B_qc.cx(qr[2],qr[1])\n",
    "B_qc.cx(qr[1],qr[0])\n",
    "B_qc.x([qr[0],qr[1],qr[2]])\n",
    "B_qc.append(Toffoli_gate,[qr[0],qr[1],qr[2]])\n",
    "B_qc.x([qr[0],qr[1]])\n",
    "\n",
    "B_qc.draw(output=\"mpl\")"
   ]
  },
  {
   "cell_type": "code",
   "execution_count": 5,
   "metadata": {},
   "outputs": [
    {
     "data": {
      "text/latex": [
       "$\\displaystyle \\left[\\begin{matrix}0 & 6.5522583 \\cdot 10^{-33} + 7.7273371 \\cdot 10^{-33} i & 1.9300264 \\cdot 10^{-33} + 5.1745489 \\cdot 10^{-33} i & -1.00875766104946 \\cdot 10^{-16} + 1.00484651424462 \\cdot 10^{-16} i & 1.0 + 1.51722884638629 \\cdot 10^{-15} i & -2.34326020266314 \\cdot 10^{-17} - 5.65713056143851 \\cdot 10^{-17} i & -2.34326020266314 \\cdot 10^{-17} - 5.65713056143851 \\cdot 10^{-17} i & -2.6512258 \\cdot 10^{-33} + 2.6512258 \\cdot 10^{-33} i\\\\-2.34326020266314 \\cdot 10^{-17} - 5.6571305614385 \\cdot 10^{-17} i & -3.7493995 \\cdot 10^{-33} & 1.0 + 1.18416193899875 \\cdot 10^{-15} i & 2.34326020266316 \\cdot 10^{-17} - 5.6571305614385 \\cdot 10^{-17} i & 6.0365731 \\cdot 10^{-33} - 1.11995796 \\cdot 10^{-32} i & 5.61334797634313 \\cdot 10^{-17} - 3.35311227409845 \\cdot 10^{-17} i & 0 & -2.3183583 \\cdot 10^{-33} - 1.22569791 \\cdot 10^{-32} i\\\\-2.34326020266314 \\cdot 10^{-17} - 5.6571305614385 \\cdot 10^{-17} i & 1.0 + 1.20042077876291 \\cdot 10^{-15} i & -3.7493995 \\cdot 10^{-33} & 2.34326020266316 \\cdot 10^{-17} - 5.6571305614385 \\cdot 10^{-17} i & 8.2155141 \\cdot 10^{-33} - 1.99153436 \\cdot 10^{-32} i & 0 & 6.2232853217346 \\cdot 10^{-19} + 5.72118872610988 \\cdot 10^{-18} i & -2.3183583 \\cdot 10^{-33} - 1.22569791 \\cdot 10^{-32} i\\\\1.0 + 8.4680086626581 \\cdot 10^{-16} i & 2.34326020266315 \\cdot 10^{-17} - 5.6571305614385 \\cdot 10^{-17} i & 2.34326020266315 \\cdot 10^{-17} - 5.6571305614385 \\cdot 10^{-17} i & -2.6512258 \\cdot 10^{-33} - 2.6512258 \\cdot 10^{-33} i & 0 & 8.9632085 \\cdot 10^{-33} - 6.8416976 \\cdot 10^{-33} i & 7.4224645 \\cdot 10^{-33} - 1.55574616 \\cdot 10^{-32} i & 2.45660405160136 \\cdot 10^{-16} + 4.16927780604729 \\cdot 10^{-17} i\\\\-2.6512258 \\cdot 10^{-33} + 2.6512258 \\cdot 10^{-33} i & -2.34326020266314 \\cdot 10^{-17} - 5.65713056143851 \\cdot 10^{-17} i & -2.34326020266314 \\cdot 10^{-17} - 5.6571305614385 \\cdot 10^{-17} i & 1.0 + 1.61872694102341 \\cdot 10^{-15} i & -2.23711431707575 \\cdot 10^{-17} - 3.35311227409847 \\cdot 10^{-17} i & 3.131397 \\cdot 10^{-33} + 5.2577759 \\cdot 10^{-33} i & 2.4931999 \\cdot 10^{-33} - 7.0681757 \\cdot 10^{-33} i & 0\\\\1.15828111 \\cdot 10^{-32} + 1.14207517 \\cdot 10^{-32} i & 0 & -1.33393445633273 \\cdot 10^{-16} + 4.49735001932041 \\cdot 10^{-17} i & -4.252263 \\cdot 10^{-34} + 2.04462209 \\cdot 10^{-32} i & 2.34326020266316 \\cdot 10^{-17} - 5.6571305614385 \\cdot 10^{-17} i & 1.0 + 1.10565731606456 \\cdot 10^{-15} i & -3.7493995 \\cdot 10^{-33} & -2.34326020266314 \\cdot 10^{-17} - 5.6571305614385 \\cdot 10^{-17} i\\\\1.22210081 \\cdot 10^{-32} + 1.14207517 \\cdot 10^{-32} i & -2.11898068567462 \\cdot 10^{-16} + 2.87146604290407 \\cdot 10^{-17} i & 0 & -4.252263 \\cdot 10^{-34} + 1.60883389 \\cdot 10^{-32} i & 2.34326020266316 \\cdot 10^{-17} - 5.6571305614385 \\cdot 10^{-17} i & -3.7493995 \\cdot 10^{-33} & 1.0 + 1.14490962753165 \\cdot 10^{-15} i & -2.34326020266314 \\cdot 10^{-17} - 5.6571305614385 \\cdot 10^{-17} i\\\\6.22328532173508 \\cdot 10^{-19} + 8.6666278253677 \\cdot 10^{-17} i & 3.4039559 \\cdot 10^{-33} + 3.7623872 \\cdot 10^{-33} i & 6.4854438 \\cdot 10^{-33} + 3.7623872 \\cdot 10^{-33} i & 0 & -2.6512258 \\cdot 10^{-33} - 2.6512258 \\cdot 10^{-33} i & 2.34326020266315 \\cdot 10^{-17} - 5.6571305614385 \\cdot 10^{-17} i & 2.34326020266315 \\cdot 10^{-17} - 5.6571305614385 \\cdot 10^{-17} i & 1.0 + 7.69309686544279 \\cdot 10^{-16} i\\end{matrix}\\right]$"
      ],
      "text/plain": [
       "Matrix([\n",
       "[                                            0,                6.5522583e-33 + 7.7273371e-33*I,                1.9300264e-33 + 5.1745489e-33*I, -1.00875766104946e-16 + 1.00484651424462e-16*I,                   1.0 + 1.51722884638629e-15*I, -2.34326020266314e-17 - 5.65713056143851e-17*I, -2.34326020266314e-17 - 5.65713056143851e-17*I,              -2.6512258e-33 + 2.6512258e-33*I],\n",
       "[-2.34326020266314e-17 - 5.6571305614385e-17*I,                                 -3.7493995e-33,                   1.0 + 1.18416193899875e-15*I,   2.34326020266316e-17 - 5.6571305614385e-17*I,               6.0365731e-33 - 1.11995796e-32*I,  5.61334797634313e-17 - 3.35311227409845e-17*I,                                              0,             -2.3183583e-33 - 1.22569791e-32*I],\n",
       "[-2.34326020266314e-17 - 5.6571305614385e-17*I,                   1.0 + 1.20042077876291e-15*I,                                 -3.7493995e-33,   2.34326020266316e-17 - 5.6571305614385e-17*I,               8.2155141e-33 - 1.99153436e-32*I,                                              0,   6.2232853217346e-19 + 5.72118872610988e-18*I,             -2.3183583e-33 - 1.22569791e-32*I],\n",
       "[                  1.0 + 8.4680086626581e-16*I,   2.34326020266315e-17 - 5.6571305614385e-17*I,   2.34326020266315e-17 - 5.6571305614385e-17*I,               -2.6512258e-33 - 2.6512258e-33*I,                                              0,                8.9632085e-33 - 6.8416976e-33*I,               7.4224645e-33 - 1.55574616e-32*I, 2.45660405160136e-16 + 4.16927780604729e-17*I],\n",
       "[             -2.6512258e-33 + 2.6512258e-33*I, -2.34326020266314e-17 - 5.65713056143851e-17*I,  -2.34326020266314e-17 - 5.6571305614385e-17*I,                   1.0 + 1.61872694102341e-15*I, -2.23711431707575e-17 - 3.35311227409847e-17*I,                 3.131397e-33 + 5.2577759e-33*I,                2.4931999e-33 - 7.0681757e-33*I,                                             0],\n",
       "[            1.15828111e-32 + 1.14207517e-32*I,                                              0, -1.33393445633273e-16 + 4.49735001932041e-17*I,               -4.252263e-34 + 2.04462209e-32*I,   2.34326020266316e-17 - 5.6571305614385e-17*I,                   1.0 + 1.10565731606456e-15*I,                                 -3.7493995e-33, -2.34326020266314e-17 - 5.6571305614385e-17*I],\n",
       "[            1.22210081e-32 + 1.14207517e-32*I, -2.11898068567462e-16 + 2.87146604290407e-17*I,                                              0,               -4.252263e-34 + 1.60883389e-32*I,   2.34326020266316e-17 - 5.6571305614385e-17*I,                                 -3.7493995e-33,                   1.0 + 1.14490962753165e-15*I, -2.34326020266314e-17 - 5.6571305614385e-17*I],\n",
       "[ 6.22328532173508e-19 + 8.6666278253677e-17*I,                3.4039559e-33 + 3.7623872e-33*I,                6.4854438e-33 + 3.7623872e-33*I,                                              0,               -2.6512258e-33 - 2.6512258e-33*I,   2.34326020266315e-17 - 5.6571305614385e-17*I,   2.34326020266315e-17 - 5.6571305614385e-17*I,                  1.0 + 7.69309686544279e-16*I]])"
      ]
     },
     "execution_count": 5,
     "metadata": {},
     "output_type": "execute_result"
    }
   ],
   "source": [
    "B=matrix_from_circuit(B_qc)\n",
    "B"
   ]
  },
  {
   "cell_type": "code",
   "execution_count": 6,
   "metadata": {},
   "outputs": [
    {
     "data": {
      "image/png": "[encoded data removed]",
      "text/plain": [
       "<Figure size 1110x204.68 with 1 Axes>"
      ]
     },
     "execution_count": 6,
     "metadata": {},
     "output_type": "execute_result"
    }
   ],
   "source": [
    "transpile(B_qc, basis_gates=[\"cx\", \"x\", \"rz\", \"sx\"]).draw(output=\"mpl\")"
   ]
  },
  {
   "cell_type": "code",
   "execution_count": 7,
   "metadata": {},
   "outputs": [
    {
     "data": {
      "text/latex": [
       "$\\displaystyle \\left[\\begin{matrix}1.0 + 0.0010323 i & -9.5814 \\cdot 10^{-5} + 0.0010323 i & 9.902 \\cdot 10^{-5} - 0.0020645 i & 5.8472 \\cdot 10^{-20} - 2.4007 \\cdot 10^{-20} i\\\\9.902 \\cdot 10^{-5} + 0.0010323 i & 1.0 - 0.0020645 i & -9.5814 \\cdot 10^{-5} + 0.0010323 i & 5.6076 \\cdot 10^{-20} - 2.979 \\cdot 10^{-20} i\\\\-9.5814 \\cdot 10^{-5} - 0.0020645 i & 9.902 \\cdot 10^{-5} + 0.0010323 i & 1.0 + 0.0010323 i & -1.1455 \\cdot 10^{-19} + 5.3798 \\cdot 10^{-20} i\\\\-5.8321 \\cdot 10^{-20} - 2.437 \\cdot 10^{-20} i & -5.6151 \\cdot 10^{-20} - 2.9609 \\cdot 10^{-20} i & 1.1447 \\cdot 10^{-19} + 5.3979 \\cdot 10^{-20} i & 1.0 - 7.3781 \\cdot 10^{-16} i\\end{matrix}\\right]$"
      ],
      "text/plain": [
       "Matrix([\n",
       "[        1.0 + 0.0010323*I,   -9.5814e-5 + 0.0010323*I,    9.902e-5 - 0.0020645*I,  5.8472e-20 - 2.4007e-20*I],\n",
       "[   9.902e-5 + 0.0010323*I,          1.0 - 0.0020645*I,  -9.5814e-5 + 0.0010323*I,   5.6076e-20 - 2.979e-20*I],\n",
       "[ -9.5814e-5 - 0.0020645*I,     9.902e-5 + 0.0010323*I,         1.0 + 0.0010323*I, -1.1455e-19 + 5.3798e-20*I],\n",
       "[-5.8321e-20 - 2.437e-20*I, -5.6151e-20 - 2.9609e-20*I, 1.1447e-19 + 5.3979e-20*I,         1.0 - 7.3781e-16*I]])"
      ]
     },
     "execution_count": 7,
     "metadata": {},
     "output_type": "execute_result"
    }
   ],
   "source": [
    "#for _ in range(n_steps): # here is computed the evolution operator numerically, with n_steps trotter steps.\n",
    "#\n",
    "#    numeric_evolution_matrix=(numeric_evolution_matrix*trotter_step_matrix_(2*time/n_steps)).evalf(precision)\n",
    "\n",
    "\n",
    "M_N = B*trotterized*B.H\n",
    "M_N = Matrix([M_N[0:4],M_N[8:12],M_N[16:20],M_N[24:28]])\n",
    "M_N.evalf(5)"
   ]
  },
  {
   "cell_type": "code",
   "execution_count": 8,
   "metadata": {},
   "outputs": [
    {
     "data": {
      "image/png": "[encoded data removed]",
      "text/plain": [
       "<Figure size 1049.65x144.48 with 1 Axes>"
      ]
     },
     "execution_count": 8,
     "metadata": {},
     "output_type": "execute_result"
    }
   ],
   "source": [
    "qc=QuantumCircuit(2, name=\"$M^N$\")\n",
    "qc.unitary(M_N,[0,1])    \n",
    "M_N_qc=transpile(qc,basis_gates=['cx','x','sx','rz']) \n",
    "\n",
    "M_N_qc.draw(output=\"mpl\")"
   ]
  },
  {
   "cell_type": "code",
   "execution_count": 9,
   "metadata": {},
   "outputs": [
    {
     "data": {
      "image/png": "[encoded data removed]",
      "text/plain": [
       "<Figure size 267.197x204.68 with 1 Axes>"
      ]
     },
     "execution_count": 9,
     "metadata": {},
     "output_type": "execute_result"
    }
   ],
   "source": [
    "initial_state=\"000\"\n",
    "\n",
    "qr_U = QuantumRegister(3, name=\"q\")\n",
    "qc_U = QuantumCircuit(qr_U, name=\"evo\")\n",
    "\n",
    "### preparing the initial state\n",
    "\n",
    "l=0\n",
    "for k in [2,1,0]:\n",
    "    if initial_state[l]=='1':\n",
    "        qc_U.x(qr_U[k])\n",
    "    l+=1\n",
    "\n",
    "### appending the evolution\n",
    "\n",
    "qc_U.append(M_N_qc,[qr_U[0],qr_U[1]])\n",
    "qc_U.append(B_qc.inverse(),[qr_U[0],qr_U[1],qr_U[2]])\n",
    "\n",
    "qc_U.draw(output=\"mpl\")"
   ]
  },
  {
   "cell_type": "code",
   "execution_count": 10,
   "metadata": {},
   "outputs": [
    {
     "data": {
      "text/latex": [
       "$\\displaystyle \\left[\\begin{matrix}2.55065461985039 \\cdot 10^{-16} + 7.09187451879363 \\cdot 10^{-17} i & -2.07621763570624 \\cdot 10^{-15} + 1.18701278016896 \\cdot 10^{-15} i & -2.18974349303889 \\cdot 10^{-14} + 1.64391188128022 \\cdot 10^{-13} i & 1.0 + 5.39596145543442 \\cdot 10^{-13} i & -3.69778549 \\cdot 10^{-32} - 3.04217103 \\cdot 10^{-32} i & 1.479114197 \\cdot 10^{-31} + 9.86645918 \\cdot 10^{-32} i & - 7.9099922833 \\cdot 10^{-30} i & -1.11022302462516 \\cdot 10^{-16} - 1.11022302462546 \\cdot 10^{-16} i\\\\-9.5813777963527 \\cdot 10^{-5} - 0.00206452934039347 i & 9.90199867683457 \\cdot 10^{-5} + 0.00103226467019728 i & 0.999996793791193 + 0.0010322646696502 i & 2.16569344509712 \\cdot 10^{-14} + 1.64301087714129 \\cdot 10^{-13} i & -2.3635607360184 \\cdot 10^{-17} + 5.68236967545464 \\cdot 10^{-17} i & 5.42101086242752 \\cdot 10^{-20} - 2.79639348175522 \\cdot 10^{-19} i & -2.22044604925031 \\cdot 10^{-16} - 5.71242198456859 \\cdot 10^{-20} i & 6.3108872418 \\cdot 10^{-30} - 6.08098418252 \\cdot 10^{-29} i\\\\9.90199867463997 \\cdot 10^{-5} + 0.00103226467036381 i & 0.999996793791194 - 0.00206452933985227 i & -9.5813777961118 \\cdot 10^{-5} + 0.00103226467019735 i & 1.84838711289462 \\cdot 10^{-15} + 1.25404477771264 \\cdot 10^{-15} i & -2.34187669256869 \\cdot 10^{-17} + 5.63699241641841 \\cdot 10^{-17} i & -1.38777878078145 \\cdot 10^{-16} - 1.38663095697397 \\cdot 10^{-16} i & 8.13151629364128 \\cdot 10^{-20} - 3.23034010220948 \\cdot 10^{-19} i & -3.944304526 \\cdot 10^{-31} - 2.70827179 \\cdot 10^{-31} i\\\\-5.55111512312578 \\cdot 10^{-17} - 1.11079426682361 \\cdot 10^{-16} i & 2.35542921972476 \\cdot 10^{-17} + 5.64078446650726 \\cdot 10^{-17} i & 2.32019264911898 \\cdot 10^{-17} + 5.65960408734703 \\cdot 10^{-17} i & -8.8192184013 \\cdot 10^{-30} + 5.2081877755 \\cdot 10^{-30} i & 0.999996793791193 + 0.0010322646696492 i & -9.5813777939495 \\cdot 10^{-5} + 0.00103226467036383 i & 9.90199867679842 \\cdot 10^{-5} - 0.00206452934039354 i & 8.8413451600511 \\cdot 10^{-17} + 1.25106634553004 \\cdot 10^{-16} i\\\\0.999996793791193 + 0.00103226466964934 i & -9.5813777939495 \\cdot 10^{-5} + 0.00103226467036383 i & 9.90199867679845 \\cdot 10^{-5} - 0.00206452934039354 i & 8.8413451600511 \\cdot 10^{-17} + 1.25106634553004 \\cdot 10^{-16} i & -5.55111512312578 \\cdot 10^{-17} - 5.55111512312578 \\cdot 10^{-17} i & 2.36085023058719 \\cdot 10^{-17} + 5.64327230778705 \\cdot 10^{-17} i & 2.33103467084383 \\cdot 10^{-17} + 5.65953534037433 \\cdot 10^{-17} i & -8.8068924497 \\cdot 10^{-30} + 5.2077145696 \\cdot 10^{-30} i\\\\-2.33645568170626 \\cdot 10^{-17} + 5.67037736209919 \\cdot 10^{-17} i & 8.32667268468867 \\cdot 10^{-17} - 1.11022302462516 \\cdot 10^{-16} i & 1.0842021724855 \\cdot 10^{-19} + 1.89735380184963 \\cdot 10^{-19} i & 2.958228395 \\cdot 10^{-31} & 9.90199867463998 \\cdot 10^{-5} + 0.00103226467036381 i & 0.999996793791194 - 0.00206452933985243 i & -9.58137779611179 \\cdot 10^{-5} + 0.00103226467019735 i & 1.84838711289462 \\cdot 10^{-15} + 1.25404477771264 \\cdot 10^{-15} i\\\\-2.35271871429354 \\cdot 10^{-17} + 5.62700927519977 \\cdot 10^{-17} i & 5.42101086242752 \\cdot 10^{-20} + 1.62630325872826 \\cdot 10^{-19} i & 5.55111512312578 \\cdot 10^{-17} - 1.66533453693773 \\cdot 10^{-16} i & 1.26217744835 \\cdot 10^{-29} & -9.58137779635272 \\cdot 10^{-5} - 0.00206452934039347 i & 9.90199867683459 \\cdot 10^{-5} + 0.00103226467019728 i & 0.999996793791193 + 0.00103226466965001 i & 2.16569344509712 \\cdot 10^{-14} + 1.64301087714129 \\cdot 10^{-13} i\\\\7.39557099 \\cdot 10^{-32} & -4.437342592 \\cdot 10^{-31} + 3.944304526 \\cdot 10^{-31} i & -6.3108872418 \\cdot 10^{-30} + 5.04870979341 \\cdot 10^{-29} i & 2.22044604925031 \\cdot 10^{-16} & 2.5506546198504 \\cdot 10^{-16} + 7.09187451879363 \\cdot 10^{-17} i & -2.07621763570624 \\cdot 10^{-15} + 1.18701278016896 \\cdot 10^{-15} i & -2.18974349303888 \\cdot 10^{-14} + 1.64391188128022 \\cdot 10^{-13} i & 1.0 + 5.39485123240979 \\cdot 10^{-13} i\\end{matrix}\\right]$"
      ],
      "text/plain": [
       "Matrix([\n",
       "[ 2.55065461985039e-16 + 7.09187451879363e-17*I, -2.07621763570624e-15 + 1.18701278016896e-15*I, -2.18974349303889e-14 + 1.64391188128022e-13*I,                  1.0 + 5.39596145543442e-13*I,             -3.69778549e-32 - 3.04217103e-32*I,             1.479114197e-31 + 9.86645918e-32*I,                            -7.9099922833e-30*I, -1.11022302462516e-16 - 1.11022302462546e-16*I],\n",
       "[   -9.5813777963527e-5 - 0.00206452934039347*I,    9.90199867683457e-5 + 0.00103226467019728*I,       0.999996793791193 + 0.0010322646696502*I, 2.16569344509712e-14 + 1.64301087714129e-13*I,  -2.3635607360184e-17 + 5.68236967545464e-17*I,  5.42101086242752e-20 - 2.79639348175522e-19*I, -2.22044604925031e-16 - 5.71242198456859e-20*I,         6.3108872418e-30 - 6.08098418252e-29*I],\n",
       "[   9.90199867463997e-5 + 0.00103226467036381*I,      0.999996793791194 - 0.00206452933985227*I,    -9.5813777961118e-5 + 0.00103226467019735*I, 1.84838711289462e-15 + 1.25404477771264e-15*I, -2.34187669256869e-17 + 5.63699241641841e-17*I, -1.38777878078145e-16 - 1.38663095697397e-16*I,  8.13151629364128e-20 - 3.23034010220948e-19*I,            -3.944304526e-31 - 2.70827179e-31*I],\n",
       "[-5.55111512312578e-17 - 1.11079426682361e-16*I,  2.35542921972476e-17 + 5.64078446650726e-17*I,  2.32019264911898e-17 + 5.65960408734703e-17*I,        -8.8192184013e-30 + 5.2081877755e-30*I,       0.999996793791193 + 0.0010322646696492*I,    -9.5813777939495e-5 + 0.00103226467036383*I,    9.90199867679842e-5 - 0.00206452934039354*I,   8.8413451600511e-17 + 1.25106634553004e-16*I],\n",
       "[     0.999996793791193 + 0.00103226466964934*I,    -9.5813777939495e-5 + 0.00103226467036383*I,    9.90199867679845e-5 - 0.00206452934039354*I,  8.8413451600511e-17 + 1.25106634553004e-16*I, -5.55111512312578e-17 - 5.55111512312578e-17*I,  2.36085023058719e-17 + 5.64327230778705e-17*I,  2.33103467084383e-17 + 5.65953534037433e-17*I,         -8.8068924497e-30 + 5.2077145696e-30*I],\n",
       "[-2.33645568170626e-17 + 5.67037736209919e-17*I,  8.32667268468867e-17 - 1.11022302462516e-16*I,   1.0842021724855e-19 + 1.89735380184963e-19*I,                               2.958228395e-31,    9.90199867463998e-5 + 0.00103226467036381*I,      0.999996793791194 - 0.00206452933985243*I,   -9.58137779611179e-5 + 0.00103226467019735*I,  1.84838711289462e-15 + 1.25404477771264e-15*I],\n",
       "[-2.35271871429354e-17 + 5.62700927519977e-17*I,  5.42101086242752e-20 + 1.62630325872826e-19*I,  5.55111512312578e-17 - 1.66533453693773e-16*I,                             1.26217744835e-29,   -9.58137779635272e-5 - 0.00206452934039347*I,    9.90199867683459e-5 + 0.00103226467019728*I,      0.999996793791193 + 0.00103226466965001*I,  2.16569344509712e-14 + 1.64301087714129e-13*I],\n",
       "[                                7.39557099e-32,           -4.437342592e-31 + 3.944304526e-31*I,        -6.3108872418e-30 + 5.04870979341e-29*I,                          2.22044604925031e-16,   2.5506546198504e-16 + 7.09187451879363e-17*I, -2.07621763570624e-15 + 1.18701278016896e-15*I, -2.18974349303888e-14 + 1.64391188128022e-13*I,                   1.0 + 5.39485123240979e-13*I]])"
      ]
     },
     "execution_count": 10,
     "metadata": {},
     "output_type": "execute_result"
    }
   ],
   "source": [
    "U_ideal=matrix_from_circuit(qc_U, type=\"numpy\")\n",
    "Matrix(U_ideal)"
   ]
  },
  {
   "cell_type": "code",
   "execution_count": 11,
   "metadata": {},
   "outputs": [
    {
     "data": {
      "image/png": "[encoded data removed]",
      "text/plain": [
       "<Figure size 507.997x264.88 with 1 Axes>"
      ]
     },
     "execution_count": 11,
     "metadata": {},
     "output_type": "execute_result"
    }
   ],
   "source": [
    "qr_evo = QuantumRegister(3, name=\"q\")\n",
    "qc_evo = QuantumCircuit(qr_evo, name=\"U\")\n",
    "\n",
    "qc_evo.x([qr_evo[1],qr_evo[2]])\n",
    "qc_evo.append(qc_U, qr_evo)\n",
    "\n",
    "qcs_tomo = state_tomography_circuits(qc_evo, qr_evo)\n",
    "qcs_tomo[3].draw(output=\"mpl\")"
   ]
  },
  {
   "cell_type": "code",
   "execution_count": 12,
   "metadata": {},
   "outputs": [],
   "source": [
    "qr_cal = QuantumRegister(3)\n",
    "cal_circ, state_labels = complete_meas_cal(qubit_list=[0,1,2], qr=qr_cal, circlabel='mcal')"
   ]
  },
  {
   "cell_type": "code",
   "execution_count": 13,
   "metadata": {},
   "outputs": [
    {
     "data": {
      "text/html": [
       "<pre style=\"word-wrap: normal;white-space: pre;background: #fff0;line-height: 1.1;font-family: &quot;Courier New&quot;,Courier,monospace\">        ░ ┌─┐      \n",
       "q94_0: ─░─┤M├──────\n",
       "        ░ └╥┘┌─┐   \n",
       "q94_1: ─░──╫─┤M├───\n",
       "        ░  ║ └╥┘┌─┐\n",
       "q94_2: ─░──╫──╫─┤M├\n",
       "        ░  ║  ║ └╥┘\n",
       " c1: 3/════╩══╩══╩═\n",
       "           0  1  2 </pre>"
      ],
      "text/plain": [
       "        ░ ┌─┐      \n",
       "q94_0: ─░─┤M├──────\n",
       "        ░ └╥┘┌─┐   \n",
       "q94_1: ─░──╫─┤M├───\n",
       "        ░  ║ └╥┘┌─┐\n",
       "q94_2: ─░──╫──╫─┤M├\n",
       "        ░  ║  ║ └╥┘\n",
       " c1: 3/════╩══╩══╩═\n",
       "           0  1  2 "
      ]
     },
     "execution_count": 13,
     "metadata": {},
     "output_type": "execute_result"
    }
   ],
   "source": [
    "cal_circ[0].draw()"
   ]
  },
  {
   "cell_type": "code",
   "execution_count": 14,
   "metadata": {},
   "outputs": [
    {
     "data": {
      "text/plain": [
       "['000', '001', '010', '011', '100', '101', '110', '111']"
      ]
     },
     "execution_count": 14,
     "metadata": {},
     "output_type": "execute_result"
    }
   ],
   "source": [
    "state_labels"
   ]
  },
  {
   "cell_type": "code",
   "execution_count": 15,
   "metadata": {},
   "outputs": [],
   "source": [
    "calib_circuits_identity = []\n",
    "calib_circuits_itself = []\n",
    "\n",
    "for i in state_labels:\n",
    "\n",
    "    cr_cal_itself = ClassicalRegister(3)\n",
    "    qr_cal_itself = QuantumRegister(3)\n",
    "    qc_cal_itself = QuantumCircuit(qr_cal_itself, cr_cal_itself, name=f\"mcalcal_{i}\")\n",
    "\n",
    "    cr_cal_id = ClassicalRegister(3)\n",
    "    qr_cal_id = QuantumRegister(3)\n",
    "    qc_cal_id = QuantumCircuit(qr_cal_id, cr_cal_id, name=f\"mcalcal_{i}\")\n",
    "\n",
    "    qc_cal_id.x(qr_cal_id)\n",
    "    qc_cal_id.append(qc_U, qr_cal_id)\n",
    "\n",
    "    for k in range(3):\n",
    "        if i[::-1][k] == \"1\":\n",
    "            qc_cal_itself.x(qr_cal_itself[k])\n",
    "        else:\n",
    "            qc_cal_id.x(qr_cal_id[k])\n",
    "        \n",
    "    qc_cal_itself.append(qc_U, qr_cal_itself)\n",
    "    \n",
    "    qc_cal_id.measure(qr_cal_id, cr_cal_id)\n",
    "    qc_cal_itself.measure(qr_cal_itself, cr_cal_itself)\n",
    "\n",
    "    calib_circuits_identity.append(qc_cal_id)\n",
    "    calib_circuits_itself.append(qc_cal_itself)"
   ]
  },
  {
   "cell_type": "code",
   "execution_count": 16,
   "metadata": {},
   "outputs": [
    {
     "data": {
      "text/html": [
       "<pre style=\"word-wrap: normal;white-space: pre;background: #fff0;line-height: 1.1;font-family: &quot;Courier New&quot;,Courier,monospace\">       ┌───┐┌──────┐     ┌─┐      \n",
       "q98_0: ┤ X ├┤0     ├─────┤M├──────\n",
       "       ├───┤│      │┌───┐└╥┘┌─┐   \n",
       "q98_1: ┤ X ├┤1 evo ├┤ X ├─╫─┤M├───\n",
       "       ├───┤│      │├───┤ ║ └╥┘┌─┐\n",
       "q98_2: ┤ X ├┤2     ├┤ X ├─╫──╫─┤M├\n",
       "       └───┘└──────┘└───┘ ║  ║ └╥┘\n",
       " c5: 3/═══════════════════╩══╩══╩═\n",
       "                          0  1  2 </pre>"
      ],
      "text/plain": [
       "       ┌───┐┌──────┐     ┌─┐      \n",
       "q98_0: ┤ X ├┤0     ├─────┤M├──────\n",
       "       ├───┤│      │┌───┐└╥┘┌─┐   \n",
       "q98_1: ┤ X ├┤1 evo ├┤ X ├─╫─┤M├───\n",
       "       ├───┤│      │├───┤ ║ └╥┘┌─┐\n",
       "q98_2: ┤ X ├┤2     ├┤ X ├─╫──╫─┤M├\n",
       "       └───┘└──────┘└───┘ ║  ║ └╥┘\n",
       " c5: 3/═══════════════════╩══╩══╩═\n",
       "                          0  1  2 "
      ]
     },
     "execution_count": 16,
     "metadata": {},
     "output_type": "execute_result"
    }
   ],
   "source": [
    "calib_circuits_identity[1].draw()"
   ]
  },
  {
   "cell_type": "code",
   "execution_count": 17,
   "metadata": {},
   "outputs": [
    {
     "data": {
      "text/html": [
       "<pre style=\"word-wrap: normal;white-space: pre;background: #fff0;line-height: 1.1;font-family: &quot;Courier New&quot;,Courier,monospace\">       ┌───┐┌──────┐┌─┐      \n",
       "q97_0: ┤ X ├┤0     ├┤M├──────\n",
       "       └───┘│      │└╥┘┌─┐   \n",
       "q97_1: ─────┤1 evo ├─╫─┤M├───\n",
       "            │      │ ║ └╥┘┌─┐\n",
       "q97_2: ─────┤2     ├─╫──╫─┤M├\n",
       "            └──────┘ ║  ║ └╥┘\n",
       " c4: 3/══════════════╩══╩══╩═\n",
       "                     0  1  2 </pre>"
      ],
      "text/plain": [
       "       ┌───┐┌──────┐┌─┐      \n",
       "q97_0: ┤ X ├┤0     ├┤M├──────\n",
       "       └───┘│      │└╥┘┌─┐   \n",
       "q97_1: ─────┤1 evo ├─╫─┤M├───\n",
       "            │      │ ║ └╥┘┌─┐\n",
       "q97_2: ─────┤2     ├─╫──╫─┤M├\n",
       "            └──────┘ ║  ║ └╥┘\n",
       " c4: 3/══════════════╩══╩══╩═\n",
       "                     0  1  2 "
      ]
     },
     "execution_count": 17,
     "metadata": {},
     "output_type": "execute_result"
    }
   ],
   "source": [
    "calib_circuits_itself[1].draw()"
   ]
  },
  {
   "cell_type": "code",
   "execution_count": 18,
   "metadata": {},
   "outputs": [],
   "source": [
    "job_tomo=execute(qcs_tomo, backend, shots=shots, initial_layout=[1,3,5])\n",
    "\n",
    "job_cal_our_identity=execute(calib_circuits_identity, backend = backend, shots=shots, initial_layout=[1,3,5])\n",
    "\n",
    "job_cal_our_itself=execute(calib_circuits_itself, backend = backend, shots=shots, initial_layout=[1,3,5])\n",
    "\n",
    "job_cal_qiskit=execute(cal_circ, backend, shots=shots, initial_layout=[1,3,5])"
   ]
  },
  {
   "cell_type": "code",
   "execution_count": 19,
   "metadata": {},
   "outputs": [],
   "source": [
    "meas_fitter_our_identity = CompleteMeasFitter(job_cal_our_identity.result(), state_labels=state_labels)\n",
    "meas_fitter_our_itself = CompleteMeasFitter(job_cal_our_itself.result(), state_labels=state_labels)\n",
    "meas_fitter_qiskit = CompleteMeasFitter(job_cal_qiskit.result(), state_labels=state_labels)"
   ]
  },
  {
   "cell_type": "code",
   "execution_count": 20,
   "metadata": {},
   "outputs": [
    {
     "data": {
      "text/latex": [
       "$\\displaystyle \\left[\\begin{matrix}0.93453125 & 0.061125 & 0.02559375 & 0.00159375 & 0.0391875 & 0.00253125 & 0.001125 & 9.375 \\cdot 10^{-5}\\\\0.0316875 & 0.90234375 & 0.00103125 & 0.02421875 & 0.0013125 & 0.03859375 & 9.375 \\cdot 10^{-5} & 0.001125\\\\0.01121875 & 0.00075 & 0.915375 & 0.056125 & 0.00053125 & 6.25 \\cdot 10^{-5} & 0.0380625 & 0.002125\\\\0.000375 & 0.01096875 & 0.03221875 & 0.89240625 & 0 & 0.00046875 & 0.0015 & 0.03853125\\\\0.02115625 & 0.00165625 & 0.000625 & 0 & 0.91584375 & 0.0569375 & 0.0245625 & 0.00159375\\\\0.0006875 & 0.0229375 & 0 & 0.00078125 & 0.032625 & 0.88996875 & 0.00065625 & 0.02384375\\\\0.00034375 & 0 & 0.024 & 0.00134375 & 0.01028125 & 0.000625 & 0.90215625 & 0.05665625\\\\0 & 0.00021875 & 0.00115625 & 0.02353125 & 0.00021875 & 0.0108125 & 0.03184375 & 0.87603125\\end{matrix}\\right]$"
      ],
      "text/plain": [
       "Matrix([\n",
       "[0.93453125,   0.061125, 0.02559375, 0.00159375,  0.0391875, 0.00253125,   0.001125,   9.375e-5],\n",
       "[ 0.0316875, 0.90234375, 0.00103125, 0.02421875,  0.0013125, 0.03859375,   9.375e-5,   0.001125],\n",
       "[0.01121875,    0.00075,   0.915375,   0.056125, 0.00053125,    6.25e-5,  0.0380625,   0.002125],\n",
       "[  0.000375, 0.01096875, 0.03221875, 0.89240625,          0, 0.00046875,     0.0015, 0.03853125],\n",
       "[0.02115625, 0.00165625,   0.000625,          0, 0.91584375,  0.0569375,  0.0245625, 0.00159375],\n",
       "[ 0.0006875,  0.0229375,          0, 0.00078125,   0.032625, 0.88996875, 0.00065625, 0.02384375],\n",
       "[0.00034375,          0,      0.024, 0.00134375, 0.01028125,   0.000625, 0.90215625, 0.05665625],\n",
       "[         0, 0.00021875, 0.00115625, 0.02353125, 0.00021875,  0.0108125, 0.03184375, 0.87603125]])"
      ]
     },
     "execution_count": 20,
     "metadata": {},
     "output_type": "execute_result"
    }
   ],
   "source": [
    "Matrix(meas_fitter_qiskit.cal_matrix)"
   ]
  },
  {
   "cell_type": "code",
   "execution_count": 21,
   "metadata": {},
   "outputs": [
    {
     "data": {
      "text/latex": [
       "$\\displaystyle \\left[\\begin{matrix}0.88184375 & 0.07 & 0.03840625 & 0.00921875 & 0.0435625 & 0.003875 & 0.0025 & 0.0105\\\\0.0461875 & 0.8558125 & 0.00665625 & 0.038375 & 0.0034375 & 0.0411875 & 0.0096875 & 0.0021875\\\\0.0248125 & 0.00675 & 0.868875 & 0.068375 & 0.00203125 & 0.0089375 & 0.04378125 & 0.00571875\\\\0.00596875 & 0.02503125 & 0.045375 & 0.841875 & 0.00921875 & 0.0013125 & 0.00340625 & 0.04284375\\\\0.02775 & 0.003625 & 0.00190625 & 0.011125 & 0.86478125 & 0.06846875 & 0.03634375 & 0.00825\\\\0.00240625 & 0.028125 & 0.0091875 & 0.00128125 & 0.04484375 & 0.8465 & 0.00684375 & 0.03671875\\\\0.00140625 & 0.00978125 & 0.02690625 & 0.003125 & 0.02528125 & 0.00628125 & 0.8536875 & 0.0653125\\\\0.009625 & 0.000875 & 0.0026875 & 0.026625 & 0.00684375 & 0.0234375 & 0.04375 & 0.82846875\\end{matrix}\\right]$"
      ],
      "text/plain": [
       "Matrix([\n",
       "[0.88184375,       0.07, 0.03840625, 0.00921875,  0.0435625,   0.003875,     0.0025,     0.0105],\n",
       "[ 0.0461875,  0.8558125, 0.00665625,   0.038375,  0.0034375,  0.0411875,  0.0096875,  0.0021875],\n",
       "[ 0.0248125,    0.00675,   0.868875,   0.068375, 0.00203125,  0.0089375, 0.04378125, 0.00571875],\n",
       "[0.00596875, 0.02503125,   0.045375,   0.841875, 0.00921875,  0.0013125, 0.00340625, 0.04284375],\n",
       "[   0.02775,   0.003625, 0.00190625,   0.011125, 0.86478125, 0.06846875, 0.03634375,    0.00825],\n",
       "[0.00240625,   0.028125,  0.0091875, 0.00128125, 0.04484375,     0.8465, 0.00684375, 0.03671875],\n",
       "[0.00140625, 0.00978125, 0.02690625,   0.003125, 0.02528125, 0.00628125,  0.8536875,  0.0653125],\n",
       "[  0.009625,   0.000875,  0.0026875,   0.026625, 0.00684375,  0.0234375,    0.04375, 0.82846875]])"
      ]
     },
     "execution_count": 21,
     "metadata": {},
     "output_type": "execute_result"
    }
   ],
   "source": [
    "Matrix(meas_fitter_our_identity.cal_matrix)"
   ]
  },
  {
   "cell_type": "code",
   "execution_count": 22,
   "metadata": {},
   "outputs": [],
   "source": [
    "U_tilde_identity=meas_fitter_our_identity.cal_matrix\n",
    "U_tilde_itself=meas_fitter_our_itself.cal_matrix\n",
    "U_tilde_qiskit=meas_fitter_qiskit.cal_matrix"
   ]
  },
  {
   "cell_type": "code",
   "execution_count": 23,
   "metadata": {},
   "outputs": [],
   "source": [
    "def matrix_from_cirquit(qc, phase=0, type=\"sympy\"):\n",
    "\n",
    "    backend = Aer.get_backend('unitary_simulator')\n",
    "    job = execute(qc, backend, shots=32000)\n",
    "    result = job.result()\n",
    "    A=result.get_unitary(qc, decimals=10)*np.exp(1j*phase)\n",
    "    if type==\"sympy\":\n",
    "        return Matrix(A)\n",
    "    else:\n",
    "        return A"
   ]
  },
  {
   "cell_type": "code",
   "execution_count": 24,
   "metadata": {},
   "outputs": [
    {
     "data": {
      "text/html": [
       "<pre style=\"word-wrap: normal;white-space: pre;background: #fff0;line-height: 1.1;font-family: &quot;Courier New&quot;,Courier,monospace\">          ░ ┌─────┐ ┌───┐      ┌─┐   \n",
       "q1398_0: ─░─┤ Sdg ├─┤ H ├──────┤M├───\n",
       "          ░ └─┬─┬─┘ └───┘      └╥┘   \n",
       "q1398_1: ─░───┤M├───────────────╫────\n",
       "          ░   └╥┘  ┌─────┐┌───┐ ║ ┌─┐\n",
       "q1398_2: ─░────╫───┤ Sdg ├┤ H ├─╫─┤M├\n",
       "          ░    ║   └─────┘└───┘ ║ └╥┘\n",
       "  c18: 3/══════╩════════════════╩══╩═\n",
       "               1                0  2 </pre>"
      ],
      "text/plain": [
       "          ░ ┌─────┐ ┌───┐      ┌─┐   \n",
       "q1398_0: ─░─┤ Sdg ├─┤ H ├──────┤M├───\n",
       "          ░ └─┬─┬─┘ └───┘      └╥┘   \n",
       "q1398_1: ─░───┤M├───────────────╫────\n",
       "          ░   └╥┘  ┌─────┐┌───┐ ║ ┌─┐\n",
       "q1398_2: ─░────╫───┤ Sdg ├┤ H ├─╫─┤M├\n",
       "          ░    ║   └─────┘└───┘ ║ └╥┘\n",
       "  c18: 3/══════╩════════════════╩══╩═\n",
       "               1                0  2 "
      ]
     },
     "execution_count": 24,
     "metadata": {},
     "output_type": "execute_result"
    }
   ],
   "source": [
    "qr_basi = QuantumRegister(3)\n",
    "qc_basi = QuantumCircuit(qr_basi)\n",
    "\n",
    "qcs_basis = state_tomography_circuits(qc_basi, qr_basi)\n",
    "\n",
    "qcs_basis[0].remove_final_measurements()\n",
    "\n",
    "qcs_basis[16].draw()"
   ]
  },
  {
   "cell_type": "code",
   "execution_count": 25,
   "metadata": {},
   "outputs": [
    {
     "data": {
      "text/plain": [
       "array([[9.3453125e-01, 6.1125000e-02, 2.5593750e-02, 1.5937500e-03,\n",
       "        3.9187500e-02, 2.5312500e-03, 1.1250000e-03, 9.3750000e-05],\n",
       "       [3.1687500e-02, 9.0234375e-01, 1.0312500e-03, 2.4218750e-02,\n",
       "        1.3125000e-03, 3.8593750e-02, 9.3750000e-05, 1.1250000e-03],\n",
       "       [1.1218750e-02, 7.5000000e-04, 9.1537500e-01, 5.6125000e-02,\n",
       "        5.3125000e-04, 6.2500000e-05, 3.8062500e-02, 2.1250000e-03],\n",
       "       [3.7500000e-04, 1.0968750e-02, 3.2218750e-02, 8.9240625e-01,\n",
       "        0.0000000e+00, 4.6875000e-04, 1.5000000e-03, 3.8531250e-02],\n",
       "       [2.1156250e-02, 1.6562500e-03, 6.2500000e-04, 0.0000000e+00,\n",
       "        9.1584375e-01, 5.6937500e-02, 2.4562500e-02, 1.5937500e-03],\n",
       "       [6.8750000e-04, 2.2937500e-02, 0.0000000e+00, 7.8125000e-04,\n",
       "        3.2625000e-02, 8.8996875e-01, 6.5625000e-04, 2.3843750e-02],\n",
       "       [3.4375000e-04, 0.0000000e+00, 2.4000000e-02, 1.3437500e-03,\n",
       "        1.0281250e-02, 6.2500000e-04, 9.0215625e-01, 5.6656250e-02],\n",
       "       [0.0000000e+00, 2.1875000e-04, 1.1562500e-03, 2.3531250e-02,\n",
       "        2.1875000e-04, 1.0812500e-02, 3.1843750e-02, 8.7603125e-01]])"
      ]
     },
     "execution_count": 25,
     "metadata": {},
     "output_type": "execute_result"
    }
   ],
   "source": [
    "meas_fitter_qiskit.cal_matrix"
   ]
  },
  {
   "cell_type": "code",
   "execution_count": 26,
   "metadata": {},
   "outputs": [
    {
     "ename": "NameError",
     "evalue": "name 'C_matrices_identity' is not defined",
     "output_type": "error",
     "traceback": [
      "\u001b[0;31m---------------------------------------------------------------------------\u001b[0m",
      "\u001b[0;31mNameError\u001b[0m                                 Traceback (most recent call last)",
      "\u001b[1;32m/Users/valerio/Documents/project_IBM_01/IBM_git/final_commit/raw_explanations/no_check_whole_space.ipynb Cell 26'\u001b[0m in \u001b[0;36m<cell line: 23>\u001b[0;34m()\u001b[0m\n\u001b[1;32m     <a href='vscode-notebook-cell:/Users/valerio/Documents/project_IBM_01/IBM_git/final_commit/raw_explanations/no_check_whole_space.ipynb#ch0000025?line=49'>50</a>\u001b[0m C_aus_identity \u001b[39m=\u001b[39m np\u001b[39m.\u001b[39mlinalg\u001b[39m.\u001b[39mmulti_dot([U_tilde_qiskit, base_matrix, np\u001b[39m.\u001b[39mlinalg\u001b[39m.\u001b[39minv(U_tilde_qiskit), C_identity,  base_matrix_inverse])\n\u001b[1;32m     <a href='vscode-notebook-cell:/Users/valerio/Documents/project_IBM_01/IBM_git/final_commit/raw_explanations/no_check_whole_space.ipynb#ch0000025?line=50'>51</a>\u001b[0m \u001b[39m#C_aus_identity = np.linalg.multi_dot([base_matrix, C_identity, base_matrix_inverse])\u001b[39;00m\n\u001b[0;32m---> <a href='vscode-notebook-cell:/Users/valerio/Documents/project_IBM_01/IBM_git/final_commit/raw_explanations/no_check_whole_space.ipynb#ch0000025?line=53'>54</a>\u001b[0m C_matrices_identity\u001b[39m.\u001b[39mappend(np\u001b[39m.\u001b[39masarray(C_aus_identity))\n\u001b[1;32m     <a href='vscode-notebook-cell:/Users/valerio/Documents/project_IBM_01/IBM_git/final_commit/raw_explanations/no_check_whole_space.ipynb#ch0000025?line=54'>55</a>\u001b[0m C_matrices_itself\u001b[39m.\u001b[39mappend(np\u001b[39m.\u001b[39masarray(C_aus_itself))\n",
      "\u001b[0;31mNameError\u001b[0m: name 'C_matrices_identity' is not defined"
     ]
    }
   ],
   "source": [
    "'''\n",
    "C_matrices_itself = []\n",
    "C_matrices_identity = []\n",
    "\n",
    "U_ideal_inv = np.linalg.inv(U_ideal)\n",
    "U_ideal_inv_abs = np.abs(U_ideal_inv)**2\n",
    "\n",
    "C_itself = np.matmul(U_tilde_itself, )\n",
    "'''\n",
    "\n",
    "U_ideal_inv = np.linalg.inv(U_ideal)\n",
    "U_ideal_inv_abs = np.abs(U_ideal_inv)**2\n",
    "\n",
    "U_ideal_abs = np.abs(U_ideal)**2\n",
    "#print(type(U_ideal_abs))\n",
    "#U_ideal_abs = np.asarray(Matrix(U_ideal_abs).n(10, chop=True), dtype='float64')\n",
    "#print(type(U_ideal_abs))\n",
    "U_ideal_abs_inv = np.linalg.inv(U_ideal_abs)\n",
    "\n",
    "C_itself = np.dot(U_tilde_itself, U_ideal_abs_inv)\n",
    "C_identity = U_tilde_identity\n",
    "\n",
    "for base in qcs_basis:\n",
    "    \n",
    "    '''\n",
    "    base.remove_final_measurements()\n",
    "\n",
    "    base_matrix = matrix_from_cirquit(base, type=\"numpy\")\n",
    "    base_matrix_H = np.linalg.inv(base_matrix)\n",
    "\n",
    "    #C_aus_itself = np.linalg.multi_dot([base_matrix, U_tilde_itself, U_ideal_inv,  base_matrix_H])\n",
    "    C_aus_itself = np.linalg.multi_dot([U_tilde_qiskit, base_matrix, np.linalg.inv(U_tilde_qiskit), U_tilde_itself, U_ideal_inv,  base_matrix_H])\n",
    "    #C_aus_itself = np.linalg.multi_dot([base_matrix, U_tilde_qiskit, np.linalg.inv(U_tilde_qiskit), C_itself])\n",
    "    C_aus_identity = np.matmul(base_matrix, np.matmul(C_identity, base_matrix_H))\n",
    "    '''\n",
    "\n",
    "    base.remove_final_measurements()\n",
    "\n",
    "    base_matrix_amplitudes = matrix_from_cirquit(base, type=\"numpy\")\n",
    "    base_matrix_amplitudes_inverse = np.linalg.inv(base_matrix_amplitudes)\n",
    "    \n",
    "    base_matrix = np.abs(base_matrix_amplitudes)**2\n",
    "    base_matrix_inverse = np.abs(base_matrix_amplitudes_inverse)**2\n",
    "\n",
    "    #C_aus_itself = np.linalg.multi_dot([base_matrix, C_itself,  base_matrix_inverse])\n",
    "    C_aus_itself = np.linalg.multi_dot([U_tilde_qiskit, base_matrix, np.linalg.inv(U_tilde_qiskit), C_itself,  base_matrix_inverse])\n",
    "    C_aus_itself = np.linalg.multi_dot([U_tilde_qiskit, base_matrix, np.linalg.inv(U_tilde_qiskit), C_itself,  np.transpose(base_matrix)])\n",
    "    \n",
    "\n",
    "    C_aus_identity = np.linalg.multi_dot([U_tilde_qiskit, base_matrix, np.linalg.inv(U_tilde_qiskit), C_identity,  base_matrix_inverse])\n",
    "    #C_aus_identity = np.linalg.multi_dot([base_matrix, C_identity, base_matrix_inverse])\n",
    "\n",
    "\n",
    "    C_matrices_identity.append(np.asarray(C_aus_identity))\n",
    "    C_matrices_itself.append(np.asarray(C_aus_itself))"
   ]
  },
  {
   "cell_type": "code",
   "execution_count": null,
   "metadata": {},
   "outputs": [],
   "source": [
    "from copy import deepcopy\n",
    "\n",
    "meas_fitters_identity = []\n",
    "meas_fitters_itself = []\n",
    "\n",
    "for C_new in C_matrices_identity:\n",
    "    meas_fitter_our_aus = deepcopy(meas_fitter_our_identity)\n",
    "    meas_fitter_our_aus._tens_fitt.cal_matrices[0]=C_new\n",
    "\n",
    "    meas_fitters_identity.append(meas_fitter_our_aus)\n",
    "\n",
    "for C_new in C_matrices_itself:\n",
    "    meas_fitter_our_aus = deepcopy(meas_fitter_our_itself)\n",
    "    meas_fitter_our_aus._tens_fitt.cal_matrices[0]=C_new\n",
    "\n",
    "    meas_fitters_itself.append(meas_fitter_our_aus)"
   ]
  },
  {
   "cell_type": "code",
   "execution_count": null,
   "metadata": {},
   "outputs": [],
   "source": [
    "target_state = (One^One^Zero).to_matrix()\n",
    "#target_state = (Zero^One^One).to_matrix()\n",
    "\n",
    "\n",
    "fids=np.zeros(4)\n",
    "\n",
    "raw_res=deepcopy(job_tomo.result())\n",
    "qiskit_res=deepcopy(raw_res)\n",
    "identity_res=deepcopy(raw_res)\n",
    "itself_res=deepcopy(raw_res)"
   ]
  },
  {
   "cell_type": "code",
   "execution_count": null,
   "metadata": {},
   "outputs": [
    {
     "data": {
      "text/plain": [
       "{'010': 1193,\n",
       " '000': 125,\n",
       " '110': 26572,\n",
       " '100': 1039,\n",
       " '001': 345,\n",
       " '011': 556,\n",
       " '111': 1605,\n",
       " '101': 565}"
      ]
     },
     "execution_count": 30,
     "metadata": {},
     "output_type": "execute_result"
    }
   ],
   "source": [
    "raw_res.get_counts(-1)"
   ]
  },
  {
   "cell_type": "code",
   "execution_count": null,
   "metadata": {},
   "outputs": [],
   "source": [
    "for i in range(27):\n",
    "\n",
    "    old_counts=raw_res.get_counts(i)\n",
    "    new_counts_qiskit = meas_fitter_qiskit.filter.apply(old_counts, method=\"least_squares\")\n",
    "    qiskit_res.results[i].data.counts = new_counts_qiskit\n",
    "\n",
    "    new_counts_id = meas_fitters_identity[i].filter.apply(old_counts, method=\"least_squares\")\n",
    "    identity_res.results[i].data.counts = new_counts_id\n",
    "\n",
    "    new_counts_it = meas_fitters_itself[i].filter.apply(old_counts, method=\"least_squares\")\n",
    "    itself_res.results[i].data.counts = new_counts_it"
   ]
  },
  {
   "cell_type": "code",
   "execution_count": null,
   "metadata": {},
   "outputs": [
    {
     "data": {
      "text/plain": [
       "{'000': 60.90730482135207,\n",
       " '001': 332.5450476679499,\n",
       " '010': 8.565005328132197e-13,\n",
       " '011': 540.8811122528482,\n",
       " '100': 313.0089347047067,\n",
       " '101': 571.5264146887895,\n",
       " '110': 29494.647720584468,\n",
       " '111': 686.4834652798897}"
      ]
     },
     "execution_count": 32,
     "metadata": {},
     "output_type": "execute_result"
    }
   ],
   "source": [
    "qiskit_res.get_counts(-1)"
   ]
  },
  {
   "cell_type": "code",
   "execution_count": null,
   "metadata": {},
   "outputs": [
    {
     "data": {
      "text/latex": [
       "$\\displaystyle \\left[\\begin{matrix}0.353553390593274\\\\0.352329879794656\\\\-0.353144289742896\\\\-0.352738980645033\\\\-0.353144289742896\\\\-0.352738980645033\\\\0.353553390593274\\\\0.352329879794656\\end{matrix}\\right]$"
      ],
      "text/plain": [
       "Matrix([\n",
       "[ 0.353553390593274],\n",
       "[ 0.352329879794656],\n",
       "[-0.353144289742896],\n",
       "[-0.352738980645033],\n",
       "[-0.353144289742896],\n",
       "[-0.352738980645033],\n",
       "[ 0.353553390593274],\n",
       "[ 0.352329879794656]])"
      ]
     },
     "execution_count": 33,
     "metadata": {},
     "output_type": "execute_result"
    }
   ],
   "source": [
    "It_comp=occurrences_to_vector(itself_res.get_counts(-1))/(shots)\n",
    "It_H=np.dot(Had3,It_comp)\n",
    "Matrix(It_H)"
   ]
  },
  {
   "cell_type": "code",
   "execution_count": null,
   "metadata": {},
   "outputs": [],
   "source": []
  },
  {
   "cell_type": "code",
   "execution_count": null,
   "metadata": {},
   "outputs": [
    {
     "data": {
      "text/plain": [
       "{'000': 3999.8772901565903,\n",
       " '001': 4000.100349000079,\n",
       " '010': 3999.8833282512574,\n",
       " '011': 3999.916739713325,\n",
       " '100': 3999.9259609089286,\n",
       " '101': 4000.001449130673,\n",
       " '110': 4000.142930433648,\n",
       " '111': 4000.151952405501}"
      ]
     },
     "execution_count": 34,
     "metadata": {},
     "output_type": "execute_result"
    }
   ],
   "source": [
    "itself_res.get_counts(0)"
   ]
  },
  {
   "cell_type": "code",
   "execution_count": null,
   "metadata": {},
   "outputs": [
    {
     "data": {
      "text/plain": [
       "{'000': 4.0181820050323084e-12,\n",
       " '001': 18.513791071429225,\n",
       " '010': 1.1059110303614231e-13,\n",
       " '011': 1.0140718554241627e-12,\n",
       " '100': 1.3808759967447985e-12,\n",
       " '101': 2.4819907083727218e-12,\n",
       " '110': 31944.630221916304,\n",
       " '111': 36.85598701227716}"
      ]
     },
     "execution_count": 35,
     "metadata": {},
     "output_type": "execute_result"
    }
   ],
   "source": [
    "itself_res.get_counts(-1)"
   ]
  },
  {
   "cell_type": "code",
   "execution_count": null,
   "metadata": {},
   "outputs": [
    {
     "data": {
      "text/plain": [
       "{'000': 1.9012290083090187e-09,\n",
       " '001': 1.4663343852654392e-09,\n",
       " '010': 3.161672181058843e-09,\n",
       " '011': 408.2858463637789,\n",
       " '100': 2.7370201422968377e-09,\n",
       " '101': 297.2064858040453,\n",
       " '110': 31021.13694402774,\n",
       " '111': 273.37072381169514}"
      ]
     },
     "execution_count": 36,
     "metadata": {},
     "output_type": "execute_result"
    }
   ],
   "source": [
    "identity_res.get_counts(-1)"
   ]
  },
  {
   "cell_type": "code",
   "execution_count": null,
   "metadata": {},
   "outputs": [
    {
     "data": {
      "text/plain": [
       "array([0.82975334, 0.92077745, 0.96629744, 0.99313773])"
      ]
     },
     "execution_count": 37,
     "metadata": {},
     "output_type": "execute_result"
    }
   ],
   "source": [
    "fids[0] = fidelity_count(raw_res, qcs_tomo, target_state)\n",
    "fids[1] = fidelity_count(qiskit_res, qcs_tomo, target_state)\n",
    "fids[2] = fidelity_count(identity_res, qcs_tomo, target_state)\n",
    "fids[3] = fidelity_count(itself_res, qcs_tomo, target_state)\n",
    "\n",
    "fids"
   ]
  },
  {
   "cell_type": "code",
   "execution_count": null,
   "metadata": {},
   "outputs": [],
   "source": [
    "occurrences_to_vector(identity_res.get_counts(-1))"
   ]
  },
  {
   "cell_type": "markdown",
   "metadata": {},
   "source": [
    "# Confronto caso ideale"
   ]
  },
  {
   "cell_type": "code",
   "execution_count": null,
   "metadata": {},
   "outputs": [],
   "source": [
    "import numpy as np\n",
    "import matplotlib.pyplot as plt\n",
    "plt.rcParams.update({'font.size': 16})  # enlarge matplotlib fonts\n",
    "\n",
    "# Import qubit states Zero (|0>) and One (|1>), and Pauli operators (X, Y, Z)\n",
    "from qiskit.opflow import Zero, One, I, X, Y, Z\n",
    "\n",
    "# Suppress warnings\n",
    "import warnings\n",
    "warnings.filterwarnings('ignore')\n",
    "\n",
    "# Returns the matrix representation of the XXX Heisenberg model for 3 spin-1/2 particles in a line\n",
    "def H_heis3():\n",
    "    # Interactions (I is the identity matrix; X, Y, and Z are Pauli matricies; ^ is a tensor product)\n",
    "    XXs = (I^X^X) + (X^X^I)\n",
    "    YYs = (I^Y^Y) + (Y^Y^I)\n",
    "    ZZs = (I^Z^Z) + (Z^Z^I)\n",
    "    \n",
    "    # Sum interactions\n",
    "    H = XXs + YYs + ZZs\n",
    "    \n",
    "    # Return Hamiltonian\n",
    "    return H\n",
    "\n",
    "# Returns the matrix representation of U_heis3(t) for a given time t assuming an XXX Heisenberg Hamiltonian for 3 spins-1/2 particles in a line\n",
    "def U_heis3(t):\n",
    "    # Compute XXX Hamiltonian for 3 spins in a line\n",
    "    H = H_heis3()\n",
    "    \n",
    "    # Return the exponential of -i multipled by time t multipled by the 3 spin XXX Heisenberg Hamilonian \n",
    "    return (t * H).exp_i()"
   ]
  },
  {
   "cell_type": "code",
   "execution_count": null,
   "metadata": {},
   "outputs": [],
   "source": [
    "initial_state = One^One^Zero\n",
    "\n",
    "#((initial_state @ U_heis3(float(time)) @ initial_state).eval())**2\n",
    "np.abs((~initial_state @ U_heis3(float(time)) @ initial_state).eval())**2\n"
   ]
  },
  {
   "cell_type": "code",
   "execution_count": null,
   "metadata": {},
   "outputs": [],
   "source": [
    "\n",
    "\n",
    "\n",
    "\n",
    "\n"
   ]
  }
 ],
 "metadata": {
  "interpreter": {
   "hash": "aee8b7b246df8f9039afb4144a1f6fd8d2ca17a180786b69acc140d282b71a49"
  },
  "kernelspec": {
   "display_name": "Python 3.10.2 64-bit",
   "language": "python",
   "name": "python3"
  },
  "language_info": {
   "codemirror_mode": {
    "name": "ipython",
    "version": 3
   },
   "file_extension": ".py",
   "mimetype": "text/x-python",
   "name": "python",
   "nbconvert_exporter": "python",
   "pygments_lexer": "ipython3",
   "version": "3.10.2"
  },
  "orig_nbformat": 4
 },
 "nbformat": 4,
 "nbformat_minor": 2
}
