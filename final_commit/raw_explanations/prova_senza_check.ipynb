{
 "cells": [
  {
   "cell_type": "code",
   "execution_count": 1,
   "metadata": {},
   "outputs": [],
   "source": [
    "from lib.functions0 import *\n",
    "from lib.utility import *\n",
    "import numpy as np\n",
    "from scipy.linalg import expm\n",
    "from qiskit.utils.mitigation.fitters import CompleteMeasFitter\n",
    "from qiskit.ignis.mitigation.measurement import  complete_meas_cal\n",
    "from qiskit import Aer, assemble, QuantumCircuit, QuantumRegister, ClassicalRegister, IBMQ, transpile, execute\n",
    "from qiskit.providers.aer import AerSimulator, QasmSimulator\n",
    "from qiskit.opflow import Zero, One, I, X, Y, Z\n",
    "from qiskit.ignis.verification.tomography import state_tomography_circuits, StateTomographyFitter\n",
    "from qiskit.quantum_info import state_fidelity\n",
    "import matplotlib.pyplot as plt\n",
    "%load_ext autoreload\n",
    "%autoreload 2\n",
    "import warnings\n",
    "warnings.filterwarnings('ignore')\n",
    "IBMQ.load_account()\n",
    "\n",
    "provider = IBMQ.get_provider(hub='ibm-q-community',\n",
    "                            group='ibmquantumawards', \n",
    "                            project='open-science-22')\n",
    "backend_sim_jakarta = QasmSimulator.from_backend(provider.get_backend('ibmq_jakarta'))\n",
    "backend_real_jakarta = provider.get_backend('ibmq_jakarta')\n",
    "backend_sim = Aer.get_backend('qasm_simulator')\n",
    "\n",
    "#provider = IBMQ.get_provider(group='open', project='main')\n",
    "#backend_real_belem = provider.get_backend('ibmq_lima')\n",
    "\n"
   ]
  },
  {
   "cell_type": "code",
   "execution_count": null,
   "metadata": {},
   "outputs": [
    {
     "data": {
      "text/plain": [
       "'/Library/Frameworks/Python.framework/Versions/3.10/lib/python3.10/site-packages/qiskit/utils/mitigation/fitters.py'"
      ]
     },
     "execution_count": 220,
     "metadata": {},
     "output_type": "execute_result"
    }
   ],
   "source": [
    "import qiskit\n",
    "qiskit.utils.mitigation.fitters.__file__"
   ]
  },
  {
   "cell_type": "code",
   "execution_count": 2,
   "metadata": {},
   "outputs": [
    {
     "data": {
      "text/latex": [
       "$\\displaystyle \\left[\\begin{matrix}1.0 & 0 & 0 & 0 & 0 & 0 & 0 & 0\\\\0 & 1.0 + 0.00105 i & 0.000102 + 0.00105 i & 0 & -9.87 \\cdot 10^{-5} - 0.00211 i & 0 & 0 & 0\\\\0 & -9.87 \\cdot 10^{-5} + 0.00105 i & 1.0 - 0.00211 i & 0 & 0.000102 + 0.00105 i & 0 & 0 & 0\\\\0 & 0 & 0 & 1.0 + 0.00105 i & 0 & -9.87 \\cdot 10^{-5} + 0.00105 i & 0.000102 - 0.00211 i & 0\\\\0 & 0.000102 - 0.00211 i & -9.87 \\cdot 10^{-5} + 0.00105 i & 0 & 1.0 + 0.00105 i & 0 & 0 & 0\\\\0 & 0 & 0 & 0.000102 + 0.00105 i & 0 & 1.0 - 0.00211 i & -9.87 \\cdot 10^{-5} + 0.00105 i & 0\\\\0 & 0 & 0 & -9.87 \\cdot 10^{-5} - 0.00211 i & 0 & 0.000102 + 0.00105 i & 1.0 + 0.00105 i & 0\\\\0 & 0 & 0 & 0 & 0 & 0 & 0 & 1.0\\end{matrix}\\right]$"
      ],
      "text/plain": [
       "Matrix([\n",
       "[1.0,                    0,                    0,                    0,                    0,                    0,                    0,   0],\n",
       "[  0,      1.0 + 0.00105*I, 0.000102 + 0.00105*I,                    0, -9.87e-5 - 0.00211*I,                    0,                    0,   0],\n",
       "[  0, -9.87e-5 + 0.00105*I,      1.0 - 0.00211*I,                    0, 0.000102 + 0.00105*I,                    0,                    0,   0],\n",
       "[  0,                    0,                    0,      1.0 + 0.00105*I,                    0, -9.87e-5 + 0.00105*I, 0.000102 - 0.00211*I,   0],\n",
       "[  0, 0.000102 - 0.00211*I, -9.87e-5 + 0.00105*I,                    0,      1.0 + 0.00105*I,                    0,                    0,   0],\n",
       "[  0,                    0,                    0, 0.000102 + 0.00105*I,                    0,      1.0 - 0.00211*I, -9.87e-5 + 0.00105*I,   0],\n",
       "[  0,                    0,                    0, -9.87e-5 - 0.00211*I,                    0, 0.000102 + 0.00105*I,      1.0 + 0.00105*I,   0],\n",
       "[  0,                    0,                    0,                    0,                    0,                    0,                    0, 1.0]])"
      ]
     },
     "execution_count": 2,
     "metadata": {},
     "output_type": "execute_result"
    }
   ],
   "source": [
    "n_steps=99\n",
    "time=np.pi\n",
    "#initial_state={\"110\": 1}\n",
    "#shots = 20000\n",
    "backend = backend_sim_jakarta\n",
    "\n",
    "X = np.array([[0,1],[1,0]])  #defining the pauli matrices\n",
    "Y = np.array([[0,-1j],[1j,0]])\n",
    "Z = np.array([[1,0],[0,-1]])\n",
    "Id = np.eye(2)\n",
    "\n",
    "# defining the hamiltonian divided in: \n",
    "#       - H1: first two qubits interactions.\n",
    "#       - H2: second two qubits interactions.\n",
    "\n",
    "H1 = np.kron(X, np.kron(X,Id)) + np.kron(Y, np.kron(Y,Id)) + np.kron(Z, np.kron(Z,Id)) \n",
    "H2 = np.kron(Id, np.kron(X,X)) + np.kron(Id, np.kron(Y,Y)) + np.kron(Id, np.kron(Z,Z)) \n",
    "\n",
    "# building numerically the trotter step matrix, and the whole operator (trotter step)^n_steps.\n",
    "\n",
    "trotter_step_matrix_= expm(-time/n_steps*H1*1j).dot(expm(-time/n_steps*H2*1j))\n",
    "trotterized = np.linalg.matrix_power(trotter_step_matrix_, n_steps)\n",
    "Matrix(trotterized).n(3, chop=True)"
   ]
  },
  {
   "cell_type": "code",
   "execution_count": 3,
   "metadata": {},
   "outputs": [
    {
     "data": {
      "image/png": "[encoded data removed]",
      "text/plain": [
       "<Figure size 1350.8x204.68 with 1 Axes>"
      ]
     },
     "execution_count": 3,
     "metadata": {},
     "output_type": "execute_result"
    }
   ],
   "source": [
    "# phase_1_1, phase_2_1, phase_1_2, phase_2_2, a1, a2 = get_gates_parameters(trotterized, initial_state={\"110\": 1.0})\n",
    "\n",
    "A0 = trotterized[3, 6]\n",
    "A1 = trotterized[5, 6]\n",
    "A2 = trotterized[6, 6]\n",
    "\n",
    "r1=float(atan2(im(A0),re(A0))+atan2(im(A2),re(A2)))/2\n",
    "r2=0\n",
    "f1=float(atan2(im(A2),re(A2))-atan2(im(A1),re(A1))-np.pi)/2\n",
    "f2=float((atan2(im(A2),re(A2))-atan2(im(A0),re(A0)))/2-f1)\n",
    "a1=float(acos(abs(A2)))\n",
    "a2=float(acos(abs(A1)/sin(a1)))\n",
    "\n",
    "M1_qc = fixed_magnetization_two_qubit_gate(r1,f1,a1)\n",
    "M2_qc = fixed_magnetization_two_qubit_gate(r2,f2,a2)\n",
    "\n",
    "qr_U = QuantumRegister(3 ,name=\"q\")\n",
    "qc_U = QuantumCircuit(qr_U, name=\"U\")\n",
    "\n",
    "qc_U.append(M1_qc, [qr_U[0],qr_U[1]])\n",
    "qc_U.append(M2_qc, [qr_U[1],qr_U[2]])\n",
    "\n",
    "qc_U=transpile(qc_U, basis_gates=[\"cx\",\"rz\",\"x\",\"sx\"])\n",
    "qc_U.draw(output=\"mpl\")"
   ]
  },
  {
   "cell_type": "code",
   "execution_count": 11,
   "metadata": {},
   "outputs": [
    {
     "data": {
      "text/latex": [
       "$\\displaystyle \\left[\\begin{matrix}0.999999445384491 - 0.00105320022321252 i & -8.53648771296206 \\cdot 10^{-17} - 1.05614965034748 \\cdot 10^{-16} i & 1.18946386785768 \\cdot 10^{-16} - 1.74853216298639 \\cdot 10^{-17} i & -9.72675539219847 \\cdot 10^{-21} + 5.51805468522386 \\cdot 10^{-21} i & -1.54707310042821 \\cdot 10^{-16} + 5.78924961077188 \\cdot 10^{-17} i & 1.36534543547473 \\cdot 10^{-21} + 8.6686009414771 \\cdot 10^{-20} i & -7.57910401783459 \\cdot 10^{-19} - 1.36050280738079 \\cdot 10^{-19} i & 7.387 \\cdot 10^{-35} + 1.4694713 \\cdot 10^{-33} i\\\\1.87915155531116 \\cdot 10^{-18} - 4.9989803001114 \\cdot 10^{-17} i & 0.999996662238093 - 0.00105319729200031 i & -0.000114188636672196 + 0.00235653327854652 i & -8.52799071444465 \\cdot 10^{-17} - 2.03121601955678 \\cdot 10^{-17} i & 2.6645948 \\cdot 10^{-33} + 4.4483945 \\cdot 10^{-33} i & -1.35028438662687 \\cdot 10^{-16} + 5.76675080938828 \\cdot 10^{-17} i & -1.14933258718954 \\cdot 10^{-19} - 1.06819677573349 \\cdot 10^{-19} i & -1.69076548795827 \\cdot 10^{-17} - 6.46297676526701 \\cdot 10^{-20} i\\\\-1.32262504784171 \\cdot 10^{-16} - 5.40677214634277 \\cdot 10^{-17} i & 9.87301053275835 \\cdot 10^{-5} + 0.00105319729199968 i & 0.447924778093985 - 0.0197207618220178 i & 6.08663043550539 \\cdot 10^{-18} - 3.27581975506579 \\cdot 10^{-17} i & -0.893852605022019 + 0.000941406285246803 i & 7.63681813219255 \\cdot 10^{-17} + 9.4467767945558 \\cdot 10^{-17} i & -8.52289618937348 \\cdot 10^{-17} - 1.02834998210577 \\cdot 10^{-17} i & 8.69429046771497 \\cdot 10^{-21} - 4.9323302905916 \\cdot 10^{-21} i\\\\5.35533480207799 \\cdot 10^{-21} + 4.42756973025813 \\cdot 10^{-20} i & 2.66358442431257 \\cdot 10^{-17} - 6.21610627633016 \\cdot 10^{-17} i & 2.28539469772875 \\cdot 10^{-17} - 7.91844655226303 \\cdot 10^{-18} i & 0.447926024738379 - 0.0197208167079682 i & -1.67968544452566 \\cdot 10^{-18} + 4.46835404192678 \\cdot 10^{-17} i & -0.893850117297982 + 0.00094140366517368 i & 0.000102067866961777 - 0.00210639457808898 i & 8.28012353073007 \\cdot 10^{-17} - 6.57207909996439 \\cdot 10^{-18} i\\\\-7.03822472905219 \\cdot 10^{-17} + 6.89437128628156 \\cdot 10^{-18} i & 0.000102067866961781 + 0.00210639457808898 i & 0.893850117297981 + 0.000941403665172285 i & 1.5063227234436 \\cdot 10^{-17} - 6.46941893986582 \\cdot 10^{-17} i & 0.447926024738379 + 0.0197208167079675 i & -3.59774567620186 \\cdot 10^{-17} - 4.88789960266715 \\cdot 10^{-17} i & 1.83578716296023 \\cdot 10^{-16} - 5.06769975241536 \\cdot 10^{-17} i & -4.46808609456395 \\cdot 10^{-21} + 2.2751562117521 \\cdot 10^{-21} i\\\\6.69030000818327 \\cdot 10^{-21} + 8.86595663252545 \\cdot 10^{-20} i & 7.19680759420631 \\cdot 10^{-17} + 3.71664459483669 \\cdot 10^{-18} i & 4.58927339671086 \\cdot 10^{-17} - 1.31374257462898 \\cdot 10^{-17} i & 0.893852605022019 + 0.000941406285245374 i & 1.85110356376025 \\cdot 10^{-18} - 2.23527381468436 \\cdot 10^{-17} i & 0.447924778093985 + 0.0197207618220171 i & -9.87301053275819 \\cdot 10^{-5} + 0.00105319729199968 i & 1.66923844926059 \\cdot 10^{-18} - 5.82362235939892 \\cdot 10^{-17} i\\\\2.47332314498513 \\cdot 10^{-17} + 5.44842641952227 \\cdot 10^{-20} i & 1.16841747027805 \\cdot 10^{-19} - 1.80194111173382 \\cdot 10^{-19} i & -4.60039685012783 \\cdot 10^{-17} - 5.51625083319348 \\cdot 10^{-17} i & -5.0007204 \\cdot 10^{-33} + 7.5078419 \\cdot 10^{-33} i & -1.18366126685333 \\cdot 10^{-16} - 2.11304499682623 \\cdot 10^{-17} i & 0.0001141886366722 + 0.00235653327854652 i & 0.999996662238093 + 0.00105319729199874 i & 1.68520165355065 \\cdot 10^{-17} - 7.23767578175417 \\cdot 10^{-17} i\\\\-7.54941 \\cdot 10^{-35} - 4.501361 \\cdot 10^{-34} i & 7.70457577070275 \\cdot 10^{-19} - 6.92967902620222 \\cdot 10^{-19} i & -1.26275422993685 \\cdot 10^{-21} + 2.89717597883252 \\cdot 10^{-20} i & -1.6034221960093 \\cdot 10^{-16} - 5.63961079371035 \\cdot 10^{-17} i & 7.48478693248635 \\cdot 10^{-21} + 9.9188072681291 \\cdot 10^{-20} i & 7.4403552002224 \\cdot 10^{-17} - 2.58633676079733 \\cdot 10^{-17} i & 5.14181452435035 \\cdot 10^{-17} - 1.47770532345712 \\cdot 10^{-17} i & 0.999999445384491 + 0.00105320022321092 i\\end{matrix}\\right]$"
      ],
      "text/plain": [
       "Matrix([\n",
       "[     0.999999445384491 - 0.00105320022321252*I, -8.53648771296206e-17 - 1.05614965034748e-16*I,  1.18946386785768e-16 - 1.74853216298639e-17*I, -9.72675539219847e-21 + 5.51805468522386e-21*I, -1.54707310042821e-16 + 5.78924961077188e-17*I,   1.36534543547473e-21 + 8.6686009414771e-20*I, -7.57910401783459e-19 - 1.36050280738079e-19*I,                    7.387e-35 + 1.4694713e-33*I],\n",
       "[  1.87915155531116e-18 - 4.9989803001114e-17*I,      0.999996662238093 - 0.00105319729200031*I,  -0.000114188636672196 + 0.00235653327854652*I, -8.52799071444465e-17 - 2.03121601955678e-17*I,                2.6645948e-33 + 4.4483945e-33*I, -1.35028438662687e-16 + 5.76675080938828e-17*I, -1.14933258718954e-19 - 1.06819677573349e-19*I, -1.69076548795827e-17 - 6.46297676526701e-20*I],\n",
       "[-1.32262504784171e-16 - 5.40677214634277e-17*I,    9.87301053275835e-5 + 0.00105319729199968*I,       0.447924778093985 - 0.0197207618220178*I,  6.08663043550539e-18 - 3.27581975506579e-17*I,    -0.893852605022019 + 0.000941406285246803*I,   7.63681813219255e-17 + 9.4467767945558e-17*I, -8.52289618937348e-17 - 1.02834998210577e-17*I,   8.69429046771497e-21 - 4.9323302905916e-21*I],\n",
       "[ 5.35533480207799e-21 + 4.42756973025813e-20*I,  2.66358442431257e-17 - 6.21610627633016e-17*I,  2.28539469772875e-17 - 7.91844655226303e-18*I,       0.447926024738379 - 0.0197208167079682*I, -1.67968544452566e-18 + 4.46835404192678e-17*I,     -0.893850117297982 + 0.00094140366517368*I,   0.000102067866961777 - 0.00210639457808898*I,  8.28012353073007e-17 - 6.57207909996439e-18*I],\n",
       "[-7.03822472905219e-17 + 6.89437128628156e-18*I,   0.000102067866961781 + 0.00210639457808898*I,     0.893850117297981 + 0.000941403665172285*I,   1.5063227234436e-17 - 6.46941893986582e-17*I,       0.447926024738379 + 0.0197208167079675*I, -3.59774567620186e-17 - 4.88789960266715e-17*I,  1.83578716296023e-16 - 5.06769975241536e-17*I,  -4.46808609456395e-21 + 2.2751562117521e-21*I],\n",
       "[ 6.69030000818327e-21 + 8.86595663252545e-20*I,  7.19680759420631e-17 + 3.71664459483669e-18*I,  4.58927339671086e-17 - 1.31374257462898e-17*I,     0.893852605022019 + 0.000941406285245374*I,  1.85110356376025e-18 - 2.23527381468436e-17*I,       0.447924778093985 + 0.0197207618220171*I,   -9.87301053275819e-5 + 0.00105319729199968*I,  1.66923844926059e-18 - 5.82362235939892e-17*I],\n",
       "[ 2.47332314498513e-17 + 5.44842641952227e-20*I,  1.16841747027805e-19 - 1.80194111173382e-19*I, -4.60039685012783e-17 - 5.51625083319348e-17*I,               -5.0007204e-33 + 7.5078419e-33*I, -1.18366126685333e-16 - 2.11304499682623e-17*I,     0.0001141886366722 + 0.00235653327854652*I,      0.999996662238093 + 0.00105319729199874*I,  1.68520165355065e-17 - 7.23767578175417e-17*I],\n",
       "[                 -7.54941e-35 - 4.501361e-34*I,  7.70457577070275e-19 - 6.92967902620222e-19*I, -1.26275422993685e-21 + 2.89717597883252e-20*I,  -1.6034221960093e-16 - 5.63961079371035e-17*I,   7.48478693248635e-21 + 9.9188072681291e-20*I,   7.4403552002224e-17 - 2.58633676079733e-17*I,  5.14181452435035e-17 - 1.47770532345712e-17*I,      0.999999445384491 + 0.00105320022321092*I]])"
      ]
     },
     "execution_count": 11,
     "metadata": {},
     "output_type": "execute_result"
    }
   ],
   "source": [
    "U_ideal=matrix_from_circuit(qc_U, type=\"numpy\")\n",
    "Matrix(U_ideal)"
   ]
  },
  {
   "cell_type": "code",
   "execution_count": 20,
   "metadata": {},
   "outputs": [
    {
     "data": {
      "image/png": "[encoded data removed]",
      "text/plain": [
       "<Figure size 507.997x264.88 with 1 Axes>"
      ]
     },
     "execution_count": 20,
     "metadata": {},
     "output_type": "execute_result"
    }
   ],
   "source": [
    "qr_evo = QuantumRegister(3, name=\"q\")\n",
    "qc_evo = QuantumCircuit(qr_evo, name=\"U\")\n",
    "\n",
    "qc_evo.x([qr_evo[1],qr_evo[2]])\n",
    "qc_evo.append(qc_U, qr_evo)\n",
    "\n",
    "qcs_tomo = state_tomography_circuits(qc_evo, qr_evo)\n",
    "qcs_tomo[3].draw(output=\"mpl\")"
   ]
  },
  {
   "cell_type": "code",
   "execution_count": 4,
   "metadata": {},
   "outputs": [],
   "source": [
    "qr_cal = QuantumRegister(3)\n",
    "cal_circ, state_labels = complete_meas_cal(qubit_list=[0,1,2], qr=qr_cal, circlabel='mcal')"
   ]
  },
  {
   "cell_type": "code",
   "execution_count": null,
   "metadata": {},
   "outputs": [
    {
     "data": {
      "text/html": [
       "<pre style=\"word-wrap: normal;white-space: pre;background: #fff0;line-height: 1.1;font-family: &quot;Courier New&quot;,Courier,monospace\">          ░ ┌─┐      \n",
       "q7718_0: ─░─┤M├──────\n",
       "          ░ └╥┘┌─┐   \n",
       "q7718_1: ─░──╫─┤M├───\n",
       "          ░  ║ └╥┘┌─┐\n",
       "q7718_2: ─░──╫──╫─┤M├\n",
       "          ░  ║  ║ └╥┘\n",
       "  c97: 3/════╩══╩══╩═\n",
       "             0  1  2 </pre>"
      ],
      "text/plain": [
       "          ░ ┌─┐      \n",
       "q7718_0: ─░─┤M├──────\n",
       "          ░ └╥┘┌─┐   \n",
       "q7718_1: ─░──╫─┤M├───\n",
       "          ░  ║ └╥┘┌─┐\n",
       "q7718_2: ─░──╫──╫─┤M├\n",
       "          ░  ║  ║ └╥┘\n",
       "  c97: 3/════╩══╩══╩═\n",
       "             0  1  2 "
      ]
     },
     "execution_count": 226,
     "metadata": {},
     "output_type": "execute_result"
    }
   ],
   "source": [
    "cal_circ[0].draw()"
   ]
  },
  {
   "cell_type": "code",
   "execution_count": null,
   "metadata": {},
   "outputs": [
    {
     "data": {
      "text/plain": [
       "['000', '001', '010', '011', '100', '101', '110', '111']"
      ]
     },
     "execution_count": 227,
     "metadata": {},
     "output_type": "execute_result"
    }
   ],
   "source": [
    "state_labels"
   ]
  },
  {
   "cell_type": "code",
   "execution_count": null,
   "metadata": {},
   "outputs": [],
   "source": [
    "calib_circuits_identity = []\n",
    "calib_circuits_itself = []\n",
    "\n",
    "for i in state_labels:\n",
    "\n",
    "    cr_cal_itself = ClassicalRegister(3)\n",
    "    qr_cal_itself = QuantumRegister(3)\n",
    "    qc_cal_itself = QuantumCircuit(qr_cal_itself, cr_cal_itself, name=f\"mcalcal_{i}\")\n",
    "\n",
    "    cr_cal_id = ClassicalRegister(3)\n",
    "    qr_cal_id = QuantumRegister(3)\n",
    "    qc_cal_id = QuantumCircuit(qr_cal_id, cr_cal_id, name=f\"mcalcal_{i}\")\n",
    "\n",
    "    qc_cal_id.append(qc_U, qr_cal_id)\n",
    "\n",
    "    for k in range(3):\n",
    "        if i[::-1][k] == \"1\":\n",
    "            qc_cal_itself.x(qr_cal_itself[k])\n",
    "            qc_cal_id.x(qr_cal_id[k])\n",
    "        \n",
    "    qc_cal_itself.append(qc_U, qr_cal_itself)\n",
    "    \n",
    "    qc_cal_id.measure(qr_cal_id, cr_cal_id)\n",
    "    qc_cal_itself.measure(qr_cal_itself, cr_cal_itself)\n",
    "\n",
    "    calib_circuits_identity.append(qc_cal_id)\n",
    "    calib_circuits_itself.append(qc_cal_itself)"
   ]
  },
  {
   "cell_type": "code",
   "execution_count": null,
   "metadata": {},
   "outputs": [
    {
     "data": {
      "text/html": [
       "<pre style=\"word-wrap: normal;white-space: pre;background: #fff0;line-height: 1.1;font-family: &quot;Courier New&quot;,Courier,monospace\">         ┌────┐┌───┐┌─┐   \n",
       "q7726_0: ┤0   ├┤ X ├┤M├───\n",
       "         │    │├───┤└╥┘┌─┐\n",
       "q7726_1: ┤1 U ├┤ X ├─╫─┤M├\n",
       "         │    │└┬─┬┘ ║ └╥┘\n",
       "q7726_2: ┤2   ├─┤M├──╫──╫─\n",
       "         └────┘ └╥┘  ║  ║ \n",
       " c105: 3/════════╩═══╩══╩═\n",
       "                 2   0  1 </pre>"
      ],
      "text/plain": [
       "         ┌────┐┌───┐┌─┐   \n",
       "q7726_0: ┤0   ├┤ X ├┤M├───\n",
       "         │    │├───┤└╥┘┌─┐\n",
       "q7726_1: ┤1 U ├┤ X ├─╫─┤M├\n",
       "         │    │└┬─┬┘ ║ └╥┘\n",
       "q7726_2: ┤2   ├─┤M├──╫──╫─\n",
       "         └────┘ └╥┘  ║  ║ \n",
       " c105: 3/════════╩═══╩══╩═\n",
       "                 2   0  1 "
      ]
     },
     "execution_count": 229,
     "metadata": {},
     "output_type": "execute_result"
    }
   ],
   "source": [
    "calib_circuits_identity[3].draw()"
   ]
  },
  {
   "cell_type": "code",
   "execution_count": null,
   "metadata": {},
   "outputs": [
    {
     "data": {
      "text/html": [
       "<pre style=\"word-wrap: normal;white-space: pre;background: #fff0;line-height: 1.1;font-family: &quot;Courier New&quot;,Courier,monospace\">         ┌───┐┌────┐┌─┐      \n",
       "q7721_0: ┤ X ├┤0   ├┤M├──────\n",
       "         └───┘│    │└╥┘┌─┐   \n",
       "q7721_1: ─────┤1 U ├─╫─┤M├───\n",
       "              │    │ ║ └╥┘┌─┐\n",
       "q7721_2: ─────┤2   ├─╫──╫─┤M├\n",
       "              └────┘ ║  ║ └╥┘\n",
       " c100: 3/════════════╩══╩══╩═\n",
       "                     0  1  2 </pre>"
      ],
      "text/plain": [
       "         ┌───┐┌────┐┌─┐      \n",
       "q7721_0: ┤ X ├┤0   ├┤M├──────\n",
       "         └───┘│    │└╥┘┌─┐   \n",
       "q7721_1: ─────┤1 U ├─╫─┤M├───\n",
       "              │    │ ║ └╥┘┌─┐\n",
       "q7721_2: ─────┤2   ├─╫──╫─┤M├\n",
       "              └────┘ ║  ║ └╥┘\n",
       " c100: 3/════════════╩══╩══╩═\n",
       "                     0  1  2 "
      ]
     },
     "execution_count": 230,
     "metadata": {},
     "output_type": "execute_result"
    }
   ],
   "source": [
    "calib_circuits_itself[1].draw()"
   ]
  },
  {
   "cell_type": "code",
   "execution_count": null,
   "metadata": {},
   "outputs": [],
   "source": [
    "job_tomo=execute(qcs_tomo, backend, shots=shots, initial_layout=[0,1,2])\n",
    "\n",
    "job_cal_our_identity=execute(calib_circuits_identity, backend = backend, shots=shots, initial_layout=[0,1,2])\n",
    "\n",
    "job_cal_our_itself=execute(calib_circuits_itself, backend = backend, shots=shots, initial_layout=[0,1,2])\n",
    "\n",
    "job_cal_qiskit=execute(cal_circ, backend, shots=shots, initial_layout=[0,1,2])"
   ]
  },
  {
   "cell_type": "code",
   "execution_count": null,
   "metadata": {},
   "outputs": [],
   "source": [
    "qiskit_raw_cal = deepcopy(job_cal_qiskit.result().get_counts())"
   ]
  },
  {
   "cell_type": "code",
   "execution_count": 5,
   "metadata": {},
   "outputs": [],
   "source": [
    "tomo_id = \"625067675ab79b0c89f95ef3\"\n",
    "identity_id = \"6250676aa5d4ee508477d9fc\"\n",
    "itself_id = \"6250676bfdf3777ad456ff20\"\n",
    "qiskit_id = \"6250676dcaa265abb0f1a6fe\"\n",
    "\n",
    "job_tomo = backend_real_jakarta.retrieve_job(tomo_id)\n",
    "job_cal_our_identity = backend_real_jakarta.retrieve_job(identity_id)\n",
    "job_cal_our_itself = backend_real_jakarta.retrieve_job(itself_id)\n",
    "job_cal_qiskit = backend_real_jakarta.retrieve_job(qiskit_id)\n"
   ]
  },
  {
   "cell_type": "markdown",
   "metadata": {},
   "source": [
    "# Mitigation:\n",
    "\n",
    "    - building the calibration matrices"
   ]
  },
  {
   "cell_type": "code",
   "execution_count": 6,
   "metadata": {},
   "outputs": [],
   "source": [
    "meas_fitter_our_identity = CompleteMeasFitter(job_cal_our_identity.result(), state_labels=state_labels)\n",
    "meas_fitter_our_itself = CompleteMeasFitter(job_cal_our_itself.result(), state_labels=state_labels)\n",
    "meas_fitter_qiskit = CompleteMeasFitter(job_cal_qiskit.result(), state_labels=state_labels)"
   ]
  },
  {
   "cell_type": "code",
   "execution_count": null,
   "metadata": {},
   "outputs": [
    {
     "data": {
      "text/latex": [
       "$\\displaystyle \\left[\\begin{matrix}0.922 & 0.0487 & 0.0508 & 0.00287 & 0.046 & 0.00272 & 0.00231 & 0\\\\0.0222 & 0.901 & 0.000906 & 0.0486 & 0.00125 & 0.0437 & 9.37 \\cdot 10^{-5} & 0.00294\\\\0.00722 & 0.000281 & 0.886 & 0.0499 & 0.000437 & 0 & 0.0427 & 0.00244\\\\0.000125 & 0.00506 & 0.0187 & 0.854 & 0 & 0.000344 & 0.000781 & 0.0423\\\\0.047 & 0.00256 & 0.00231 & 0.000125 & 0.923 & 0.0494 & 0.0505 & 0.00313\\\\0.000844 & 0.0422 & 6.25 \\cdot 10^{-5} & 0.00222 & 0.0229 & 0.898 & 0.00113 & 0.0485\\\\0.000406 & 0 & 0.0405 & 0.00225 & 0.00606 & 0.00025 & 0.882 & 0.0485\\\\0 & 0.000281 & 0.000656 & 0.0397 & 9.37 \\cdot 10^{-5} & 0.00541 & 0.02 & 0.852\\end{matrix}\\right]$"
      ],
      "text/plain": [
       "Matrix([\n",
       "[   0.922,   0.0487,   0.0508,  0.00287,    0.046,  0.00272,  0.00231,       0],\n",
       "[  0.0222,    0.901, 0.000906,   0.0486,  0.00125,   0.0437,  9.37e-5, 0.00294],\n",
       "[ 0.00722, 0.000281,    0.886,   0.0499, 0.000437,        0,   0.0427, 0.00244],\n",
       "[0.000125,  0.00506,   0.0187,    0.854,        0, 0.000344, 0.000781,  0.0423],\n",
       "[   0.047,  0.00256,  0.00231, 0.000125,    0.923,   0.0494,   0.0505, 0.00313],\n",
       "[0.000844,   0.0422,  6.25e-5,  0.00222,   0.0229,    0.898,  0.00113,  0.0485],\n",
       "[0.000406,        0,   0.0405,  0.00225,  0.00606,  0.00025,    0.882,  0.0485],\n",
       "[       0, 0.000281, 0.000656,   0.0397,  9.37e-5,  0.00541,     0.02,   0.852]])"
      ]
     },
     "execution_count": 9,
     "metadata": {},
     "output_type": "execute_result"
    }
   ],
   "source": [
    "Matrix(meas_fitter_qiskit.cal_matrix).n(3, chop=True)"
   ]
  },
  {
   "cell_type": "code",
   "execution_count": null,
   "metadata": {},
   "outputs": [
    {
     "ename": "NameError",
     "evalue": "name 'qiskit_raw_cal' is not defined",
     "output_type": "error",
     "traceback": [
      "\u001b[0;31m---------------------------------------------------------------------------\u001b[0m",
      "\u001b[0;31mNameError\u001b[0m                                 Traceback (most recent call last)",
      "\u001b[1;32m/Users/valerio/Documents/project_IBM_01/IBM_git/final_commit/raw_explanations/prova_senza_check.ipynb Cell 19'\u001b[0m in \u001b[0;36m<cell line: 1>\u001b[0;34m()\u001b[0m\n\u001b[0;32m----> <a href='vscode-notebook-cell:/Users/valerio/Documents/project_IBM_01/IBM_git/final_commit/raw_explanations/prova_senza_check.ipynb#ch0000017?line=0'>1</a>\u001b[0m not_migigated_qiskit \u001b[39m=\u001b[39m occurrences_to_matrix(qiskit_raw_cal)\n\u001b[1;32m      <a href='vscode-notebook-cell:/Users/valerio/Documents/project_IBM_01/IBM_git/final_commit/raw_explanations/prova_senza_check.ipynb#ch0000017?line=1'>2</a>\u001b[0m Matrix(not_migigated_qiskit)\u001b[39m.\u001b[39mn(\u001b[39m3\u001b[39m, chop\u001b[39m=\u001b[39m\u001b[39mTrue\u001b[39;00m)\n",
      "\u001b[0;31mNameError\u001b[0m: name 'qiskit_raw_cal' is not defined"
     ]
    }
   ],
   "source": [
    "not_migigated_qiskit = occurrences_to_matrix(qiskit_raw_cal)\n",
    "Matrix(not_migigated_qiskit).n(3, chop=True)"
   ]
  },
  {
   "cell_type": "code",
   "execution_count": null,
   "metadata": {},
   "outputs": [],
   "source": [
    "#calib = np.linalg.multi_dot([migigated_qiskit, np.linalg.inv(not_migigated_qiskit)])\n",
    "#Matrix(calib).n(2, chop=True)"
   ]
  },
  {
   "cell_type": "code",
   "execution_count": 7,
   "metadata": {},
   "outputs": [],
   "source": [
    "U_tilde_identity=meas_fitter_our_identity.cal_matrix\n",
    "U_tilde_itself=meas_fitter_our_itself.cal_matrix\n",
    "U_tilde_qiskit=meas_fitter_qiskit.cal_matrix"
   ]
  },
  {
   "cell_type": "code",
   "execution_count": 8,
   "metadata": {},
   "outputs": [],
   "source": [
    "def matrix_from_cirquit(qc, phase=0, type=\"sympy\"):\n",
    "\n",
    "    backend = Aer.get_backend('unitary_simulator')\n",
    "    job = execute(qc, backend, shots=32000)\n",
    "    result = job.result()\n",
    "    A=result.get_unitary(qc, decimals=10)*np.exp(1j*phase)\n",
    "    if type==\"sympy\":\n",
    "        return Matrix(A)\n",
    "    else:\n",
    "        return A"
   ]
  },
  {
   "cell_type": "code",
   "execution_count": 9,
   "metadata": {},
   "outputs": [
    {
     "data": {
      "text/html": [
       "<pre style=\"word-wrap: normal;white-space: pre;background: #fff0;line-height: 1.1;font-family: &quot;Courier New&quot;,Courier,monospace\">        ░ ┌─────┐ ┌───┐      ┌─┐   \n",
       "q18_0: ─░─┤ Sdg ├─┤ H ├──────┤M├───\n",
       "        ░ └─┬─┬─┘ └───┘      └╥┘   \n",
       "q18_1: ─░───┤M├───────────────╫────\n",
       "        ░   └╥┘  ┌─────┐┌───┐ ║ ┌─┐\n",
       "q18_2: ─░────╫───┤ Sdg ├┤ H ├─╫─┤M├\n",
       "        ░    ║   └─────┘└───┘ ║ └╥┘\n",
       " c1: 3/══════╩════════════════╩══╩═\n",
       "             1                0  2 </pre>"
      ],
      "text/plain": [
       "        ░ ┌─────┐ ┌───┐      ┌─┐   \n",
       "q18_0: ─░─┤ Sdg ├─┤ H ├──────┤M├───\n",
       "        ░ └─┬─┬─┘ └───┘      └╥┘   \n",
       "q18_1: ─░───┤M├───────────────╫────\n",
       "        ░   └╥┘  ┌─────┐┌───┐ ║ ┌─┐\n",
       "q18_2: ─░────╫───┤ Sdg ├┤ H ├─╫─┤M├\n",
       "        ░    ║   └─────┘└───┘ ║ └╥┘\n",
       " c1: 3/══════╩════════════════╩══╩═\n",
       "             1                0  2 "
      ]
     },
     "execution_count": 9,
     "metadata": {},
     "output_type": "execute_result"
    }
   ],
   "source": [
    "qr_basi = QuantumRegister(3)\n",
    "qc_basi = QuantumCircuit(qr_basi)\n",
    "\n",
    "qcs_basis = state_tomography_circuits(qc_basi, qr_basi)\n",
    "\n",
    "qcs_basis[0].remove_final_measurements()\n",
    "\n",
    "qcs_basis[16].draw()"
   ]
  },
  {
   "cell_type": "code",
   "execution_count": 12,
   "metadata": {},
   "outputs": [],
   "source": [
    "C_matrices_itself = []\n",
    "C_matrices_identity = []\n",
    "\n",
    "U_ideal_inv = np.linalg.inv(U_ideal)\n",
    "U_ideal_inv_abs = np.abs(U_ideal_inv)**2\n",
    "\n",
    "U_ideal_abs = np.abs(U_ideal)**2\n",
    "#print(type(U_ideal_abs))\n",
    "#U_ideal_abs = np.asarray(Matrix(U_ideal_abs).n(10, chop=True), dtype='float64')\n",
    "#print(type(U_ideal_abs))\n",
    "U_ideal_abs_inv = np.linalg.inv(U_ideal_abs)\n",
    "\n",
    "C_itself = np.dot(U_tilde_itself, U_ideal_abs_inv)\n",
    "C_identity = U_tilde_identity"
   ]
  },
  {
   "cell_type": "code",
   "execution_count": null,
   "metadata": {},
   "outputs": [
    {
     "data": {
      "text/plain": [
       "5.353099062321473e-08"
      ]
     },
     "execution_count": 16,
     "metadata": {},
     "output_type": "execute_result"
    }
   ],
   "source": [
    "Matrix(U_ideal_abs).n(3, chop=True)\n",
    "np.linalg.det(U_ideal_abs)"
   ]
  },
  {
   "cell_type": "code",
   "execution_count": 13,
   "metadata": {},
   "outputs": [
    {
     "data": {
      "text/latex": [
       "$\\displaystyle \\left[\\begin{matrix}1.0 & 0 & 0 & 0 & 0 & 0 & 0 & 0\\\\0 & 1.0 & 0 & 0 & 0 & 0 & 0 & 0\\\\0 & 0 & 1.0 & 0 & 0 & 0 & 0 & 0\\\\0 & 0 & 0 & 1.0 & 0 & 0 & 0 & 0\\\\0 & 0 & 0 & 0 & 1.0 & 0 & 0 & 0\\\\0 & 0 & 0 & 0 & 0 & 1.0 & 0 & 0\\\\0 & 0 & 0 & 0 & 0 & 0 & 1.0 & 0\\\\0 & 0 & 0 & 0 & 0 & 0 & 0 & 1.0\\end{matrix}\\right]$"
      ],
      "text/plain": [
       "Matrix([\n",
       "[1.0,   0,   0,   0,   0,   0,   0,   0],\n",
       "[  0, 1.0,   0,   0,   0,   0,   0,   0],\n",
       "[  0,   0, 1.0,   0,   0,   0,   0,   0],\n",
       "[  0,   0,   0, 1.0,   0,   0,   0,   0],\n",
       "[  0,   0,   0,   0, 1.0,   0,   0,   0],\n",
       "[  0,   0,   0,   0,   0, 1.0,   0,   0],\n",
       "[  0,   0,   0,   0,   0,   0, 1.0,   0],\n",
       "[  0,   0,   0,   0,   0,   0,   0, 1.0]])"
      ]
     },
     "execution_count": 13,
     "metadata": {},
     "output_type": "execute_result"
    }
   ],
   "source": [
    "Matrix(np.dot(U_ideal_abs,np.linalg.inv(U_ideal_abs))).n(3, chop=True)"
   ]
  },
  {
   "cell_type": "code",
   "execution_count": 14,
   "metadata": {},
   "outputs": [
    {
     "data": {
      "text/latex": [
       "$\\displaystyle \\left[\\begin{matrix}1.0 & -1.84417052836012 \\cdot 10^{-32} & -3.1599924061671 \\cdot 10^{-32} & -9.99688127625874 \\cdot 10^{-39} & -1.01399260295312 \\cdot 10^{-32} & 2.35875284305604 \\cdot 10^{-39} & -5.92941114681656 \\cdot 10^{-37} & 3.11052121915128 \\cdot 10^{-66}\\\\-2.50252655434834 \\cdot 10^{-33} & 1.00000556635011 & 1.87137844862272 \\cdot 10^{-6} & -2.62225607160835 \\cdot 10^{-32} & -7.43772855408209 \\cdot 10^{-6} & -3.02115869556006 \\cdot 10^{-33} & 3.51352011418237 \\cdot 10^{-37} & -2.85874561802984 \\cdot 10^{-34}\\\\1.81432658334031 \\cdot 10^{-34} & -5.56635010545937 \\cdot 10^{-6} & -0.336196759081848 & 1.90928815930641 \\cdot 10^{-33} & 1.33620232543195 & -7.3922254732254 \\cdot 10^{-33} & -4.59857053044096 \\cdot 10^{-32} & 1.59126903967959 \\cdot 10^{-39}\\\\-9.89429579765339 \\cdot 10^{-39} & -5.40158889408982 \\cdot 10^{-33} & 9.57531533041969 \\cdot 10^{-34} & -0.3361948877034 & -3.80567577337536 \\cdot 10^{-33} & 1.3361948877034 & 2.65037917271096 \\cdot 10^{-22} & -2.21588346944767 \\cdot 10^{-33}\\\\-2.55992994837706 \\cdot 10^{-32} & 5.6590054691877 \\cdot 10^{-22} & 1.3361948877034 & -2.46915020894122 \\cdot 10^{-32} & -0.3361948877034 & 6.21253445030456 \\cdot 10^{-33} & 2.34627959597723 \\cdot 10^{-33} & -1.25058697968779 \\cdot 10^{-40}\\\\3.40513511431649 \\cdot 10^{-39} & -4.3651571521262 \\cdot 10^{-33} & -3.33853375009684 \\cdot 10^{-33} & 1.33620232543195 & 8.20560300436816 \\cdot 10^{-34} & -0.336196759081848 & -5.56635010545937 \\cdot 10^{-6} & -8.07761164135704 \\cdot 10^{-33}\\\\-6.11739111622073 \\cdot 10^{-34} & 6.89388144468688 \\cdot 10^{-39} & -1.75829677056396 \\cdot 10^{-32} & -7.43772855408209 \\cdot 10^{-6} & -2.03345949299966 \\cdot 10^{-33} & 1.87137844862272 \\cdot 10^{-6} & 1.00000556635011 & -5.52237131028812 \\cdot 10^{-33}\\\\1.54579493259221 \\cdot 10^{-66} & -1.07381536464483 \\cdot 10^{-36} & -1.29399898090675 \\cdot 10^{-38} & 1.42187016921007 \\cdot 10^{-33} & 2.21070911589583 \\cdot 10^{-39} & -3.65168394869566 \\cdot 10^{-32} & -2.86216835641194 \\cdot 10^{-33} & 1.0\\end{matrix}\\right]$"
      ],
      "text/plain": [
       "Matrix([\n",
       "[                  1.0, -1.84417052836012e-32,  -3.1599924061671e-32, -9.99688127625874e-39, -1.01399260295312e-32,  2.35875284305604e-39, -5.92941114681656e-37,  3.11052121915128e-66],\n",
       "[-2.50252655434834e-33,      1.00000556635011,   1.87137844862272e-6, -2.62225607160835e-32,  -7.43772855408209e-6, -3.02115869556006e-33,  3.51352011418237e-37, -2.85874561802984e-34],\n",
       "[ 1.81432658334031e-34,  -5.56635010545937e-6,    -0.336196759081848,  1.90928815930641e-33,      1.33620232543195,  -7.3922254732254e-33, -4.59857053044096e-32,  1.59126903967959e-39],\n",
       "[-9.89429579765339e-39, -5.40158889408982e-33,  9.57531533041969e-34,      -0.3361948877034, -3.80567577337536e-33,       1.3361948877034,  2.65037917271096e-22, -2.21588346944767e-33],\n",
       "[-2.55992994837706e-32,   5.6590054691877e-22,       1.3361948877034, -2.46915020894122e-32,      -0.3361948877034,  6.21253445030456e-33,  2.34627959597723e-33, -1.25058697968779e-40],\n",
       "[ 3.40513511431649e-39,  -4.3651571521262e-33, -3.33853375009684e-33,      1.33620232543195,  8.20560300436816e-34,    -0.336196759081848,  -5.56635010545937e-6, -8.07761164135704e-33],\n",
       "[-6.11739111622073e-34,  6.89388144468688e-39, -1.75829677056396e-32,  -7.43772855408209e-6, -2.03345949299966e-33,   1.87137844862272e-6,      1.00000556635011, -5.52237131028812e-33],\n",
       "[ 1.54579493259221e-66, -1.07381536464483e-36, -1.29399898090675e-38,  1.42187016921007e-33,  2.21070911589583e-39, -3.65168394869566e-32, -2.86216835641194e-33,                   1.0]])"
      ]
     },
     "execution_count": 14,
     "metadata": {},
     "output_type": "execute_result"
    }
   ],
   "source": [
    "Matrix(U_ideal_abs_inv)"
   ]
  },
  {
   "cell_type": "code",
   "execution_count": null,
   "metadata": {},
   "outputs": [
    {
     "data": {
      "text/latex": [
       "$\\displaystyle \\left[\\begin{matrix}0.87509375 & 0.0723438333781313 & 0.0482738934952948 & 0.0036688252326225 & 0.0588822731265739 & 0.00858116340522735 & 0.00678126136215016 & 0.0011875\\\\0.04290625 & 0.852379496069654 & -0.000481989238062827 & 0.0447053843948347 & 0.0145087431684095 & 0.0590761145699261 & 0.00103100103523921 & 0.0073125\\\\0.0158125 & 0.00259257852890073 & 0.7606105958606 & 0.0703077651690547 & 0.0861093256104992 & 0.00487977961118415 & 0.0487812052197612 & 0.0086875\\\\0.00278125 & 0.0139375203850341 & 0.0378499000977229 & 0.729066799697176 & 0.00315007951724298 & 0.077186341268981 & 0.0105906090338434 & 0.04496875\\\\0.02834375 & 0.0057465390556441 & 0.0773627625801339 & 0.00719482185597606 & 0.797859448364222 & 0.064679889913009 & 0.072656538231015 & 0.00715625\\\\0.0075625 & 0.0303749931492918 & 0.00622784410305767 & 0.0793095762228021 & 0.0380534127476505 & 0.78344157369363 & 0.00578010008356794 & 0.07090625\\\\0.02425 & 0.00331244602978676 & 0.0562044480883729 & 0.0100105308026199 & 0.00263935588184036 & 0.000297643559979213 & 0.817066825637401 & 0.06696875\\\\0.00325 & 0.0193125934035579 & 0.0139525450128805 & 0.0557362966249142 & -0.00120263841643845 & 0.00185749397806354 & 0.0373124593970222 & 0.7928125\\end{matrix}\\right]$"
      ],
      "text/plain": [
       "Matrix([\n",
       "[0.87509375,  0.0723438333781313,    0.0482738934952948,  0.0036688252326225,   0.0588822731265739,  0.00858116340522735, 0.00678126136215016,  0.0011875],\n",
       "[0.04290625,   0.852379496069654, -0.000481989238062827,  0.0447053843948347,   0.0145087431684095,   0.0590761145699261, 0.00103100103523921,  0.0073125],\n",
       "[ 0.0158125, 0.00259257852890073,       0.7606105958606,  0.0703077651690547,   0.0861093256104992,  0.00487977961118415,  0.0487812052197612,  0.0086875],\n",
       "[0.00278125,  0.0139375203850341,    0.0378499000977229,   0.729066799697176,  0.00315007951724298,    0.077186341268981,  0.0105906090338434, 0.04496875],\n",
       "[0.02834375,  0.0057465390556441,    0.0773627625801339, 0.00719482185597606,    0.797859448364222,    0.064679889913009,   0.072656538231015, 0.00715625],\n",
       "[ 0.0075625,  0.0303749931492918,   0.00622784410305767,  0.0793095762228021,   0.0380534127476505,     0.78344157369363, 0.00578010008356794, 0.07090625],\n",
       "[   0.02425, 0.00331244602978676,    0.0562044480883729,  0.0100105308026199,  0.00263935588184036, 0.000297643559979213,   0.817066825637401, 0.06696875],\n",
       "[   0.00325,  0.0193125934035579,    0.0139525450128805,  0.0557362966249142, -0.00120263841643845,  0.00185749397806354,  0.0373124593970222,  0.7928125]])"
      ]
     },
     "execution_count": 245,
     "metadata": {},
     "output_type": "execute_result"
    }
   ],
   "source": [
    "Matrix(C_itself)"
   ]
  },
  {
   "cell_type": "code",
   "execution_count": null,
   "metadata": {},
   "outputs": [
    {
     "data": {
      "text/plain": [
       "0.9999743126269626"
      ]
     },
     "execution_count": 246,
     "metadata": {},
     "output_type": "execute_result"
    }
   ],
   "source": [
    "np.linalg.det(np.abs(trotterized)**2)"
   ]
  },
  {
   "cell_type": "code",
   "execution_count": 22,
   "metadata": {},
   "outputs": [],
   "source": [
    "\n",
    "for base in qcs_basis:\n",
    "    \n",
    "    '''\n",
    "    base.remove_final_measurements()\n",
    "\n",
    "    base_matrix = np.matrix(matrix_from_cirquit(base, type=\"numpy\"))\n",
    "    base_matrix_H = base_matrix.getH()\n",
    "\n",
    "    C_aus_itself = np.linalg.multi_dot([U_tilde_qiskit, base_matrix, np.linalg.inv(U_tilde_qiskit), C_itself,  base_matrix_H])\n",
    "    #C_aus_itself = np.linalg.multi_dot([base_matrix, U_tilde_qiskit, np.linalg.inv(U_tilde_qiskit), C_itself])\n",
    "    C_aus_identity = np.dot(base_matrix, C_identity).dot(base_matrix_H)\n",
    "\n",
    "    C_matrices_identity.append(np.asarray(C_aus_identity))\n",
    "    C_matrices_itself.append(np.asarray(C_aus_itself))\n",
    "    '''\n",
    "\n",
    "    base.remove_final_measurements()\n",
    "\n",
    "    base_matrix_amplitudes = matrix_from_cirquit(base, type=\"numpy\")\n",
    "    base_matrix_amplitudes_inverse = np.linalg.inv(base_matrix_amplitudes)\n",
    "    \n",
    "    base_matrix = np.abs(base_matrix_amplitudes)**2\n",
    "    base_matrix_inverse = np.abs(base_matrix_amplitudes_inverse)**2\n",
    "\n",
    "    C_aus_itself = np.linalg.multi_dot([base_matrix, C_itself,  base_matrix_inverse])\n",
    "    #C_aus_itself = np.linalg.multi_dot([U_tilde_qiskit, base_matrix, np.linalg.inv(U_tilde_qiskit), C_itself,  base_matrix_inverse])\n",
    "    #C_aus_itself = np.linalg.multi_dot([U_tilde_qiskit, base_matrix, np.linalg.inv(U_tilde_qiskit), C_itself,  np.transpose(base_matrix)])\n",
    "    \n",
    "\n",
    "    #C_aus_identity = np.linalg.multi_dot([U_tilde_qiskit, base_matrix, np.linalg.inv(U_tilde_qiskit), C_identity,  base_matrix_inverse])\n",
    "    C_aus_identity = np.linalg.multi_dot([base_matrix, C_identity, base_matrix_inverse])\n",
    "\n",
    "    C_matrices_identity.append(np.asarray(C_aus_identity))\n",
    "    C_matrices_itself.append(np.asarray(C_aus_itself))"
   ]
  },
  {
   "cell_type": "code",
   "execution_count": 23,
   "metadata": {},
   "outputs": [],
   "source": [
    "from copy import deepcopy\n",
    "\n",
    "meas_fitters_identity = []\n",
    "meas_fitters_itself = []\n",
    "\n",
    "for C_new in C_matrices_identity:\n",
    "    meas_fitter_our_aus = deepcopy(meas_fitter_our_identity)\n",
    "    meas_fitter_our_aus._tens_fitt.cal_matrices[0]=C_new\n",
    "\n",
    "    meas_fitters_identity.append(meas_fitter_our_aus)\n",
    "\n",
    "for C_new in C_matrices_itself:\n",
    "    meas_fitter_our_aus = deepcopy(meas_fitter_our_itself)\n",
    "    meas_fitter_our_aus._tens_fitt.cal_matrices[0]=C_new\n",
    "\n",
    "    meas_fitters_itself.append(meas_fitter_our_aus)"
   ]
  },
  {
   "cell_type": "code",
   "execution_count": 24,
   "metadata": {},
   "outputs": [],
   "source": [
    "target_state = (One^One^Zero).to_matrix()\n",
    "#target_state = (Zero^One^One).to_matrix()\n",
    "\n",
    "\n",
    "fids=np.zeros(4)\n",
    "\n",
    "raw_res=deepcopy(job_tomo.result())\n",
    "qiskit_res=deepcopy(raw_res)\n",
    "identity_res=deepcopy(raw_res)\n",
    "itself_res=deepcopy(raw_res)"
   ]
  },
  {
   "cell_type": "code",
   "execution_count": 25,
   "metadata": {},
   "outputs": [
    {
     "data": {
      "text/plain": [
       "{'000': 208,\n",
       " '001': 27,\n",
       " '010': 1615,\n",
       " '011': 280,\n",
       " '100': 2124,\n",
       " '101': 153,\n",
       " '110': 26387,\n",
       " '111': 1206}"
      ]
     },
     "execution_count": 25,
     "metadata": {},
     "output_type": "execute_result"
    }
   ],
   "source": [
    "raw_res.get_counts(-1)"
   ]
  },
  {
   "cell_type": "code",
   "execution_count": 26,
   "metadata": {},
   "outputs": [],
   "source": [
    "for i in range(27):\n",
    "\n",
    "    old_counts=raw_res.get_counts(i)\n",
    "    new_counts_qiskit = meas_fitter_qiskit.filter.apply(old_counts, method=\"least_squares\")\n",
    "    qiskit_res.results[i].data.counts = new_counts_qiskit\n",
    "\n",
    "    old_counts=raw_res.get_counts(i)\n",
    "    \n",
    "    new_counts_id = meas_fitters_identity[i].filter.apply(old_counts, method=\"least_squares\")\n",
    "    identity_res.results[i].data.counts = new_counts_id\n",
    "\n",
    "    new_counts_it = meas_fitters_itself[i].filter.apply(old_counts, method=\"least_squares\")\n",
    "    itself_res.results[i].data.counts = new_counts_it"
   ]
  },
  {
   "cell_type": "code",
   "execution_count": 27,
   "metadata": {},
   "outputs": [
    {
     "data": {
      "text/plain": [
       "{'000': 208,\n",
       " '001': 27,\n",
       " '010': 1615,\n",
       " '011': 280,\n",
       " '100': 2124,\n",
       " '101': 153,\n",
       " '110': 26387,\n",
       " '111': 1206}"
      ]
     },
     "execution_count": 27,
     "metadata": {},
     "output_type": "execute_result"
    }
   ],
   "source": [
    "raw_res.get_counts(-1)"
   ]
  },
  {
   "cell_type": "code",
   "execution_count": 28,
   "metadata": {},
   "outputs": [
    {
     "data": {
      "text/plain": [
       "{'000': 7.622353804665497e-11,\n",
       " '001': 2.971799661157249e-10,\n",
       " '010': 8.74929947017897e-10,\n",
       " '011': 2.2294894407857205e-16,\n",
       " '100': 9.081381525562787e-16,\n",
       " '101': 2.361954788810764e-16,\n",
       " '110': 32000.0,\n",
       " '111': 3.90416954264054e-10}"
      ]
     },
     "execution_count": 28,
     "metadata": {},
     "output_type": "execute_result"
    }
   ],
   "source": [
    "itself_res.get_counts(-1)"
   ]
  },
  {
   "cell_type": "code",
   "execution_count": 29,
   "metadata": {},
   "outputs": [
    {
     "data": {
      "text/plain": [
       "{'001': 6.005668311133723e-08,\n",
       " '010': 3.146005208366538e-07,\n",
       " '011': 7.464786857797709e-08,\n",
       " '110': 32000.0,\n",
       " '111': 3.370326652891905e-08}"
      ]
     },
     "execution_count": 29,
     "metadata": {},
     "output_type": "execute_result"
    }
   ],
   "source": [
    "identity_res.get_counts(-1)"
   ]
  },
  {
   "cell_type": "code",
   "execution_count": 30,
   "metadata": {},
   "outputs": [
    {
     "data": {
      "text/plain": [
       "array([0.82496156, 0.93370706, 0.9999595 , 0.99999343])"
      ]
     },
     "execution_count": 30,
     "metadata": {},
     "output_type": "execute_result"
    }
   ],
   "source": [
    "fids[0] = fidelity_count(raw_res, qcs_tomo, target_state)\n",
    "fids[1] = fidelity_count(qiskit_res, qcs_tomo, target_state)\n",
    "fids[2] = fidelity_count(identity_res, qcs_tomo, target_state)\n",
    "fids[3] = fidelity_count(itself_res, qcs_tomo, target_state)\n",
    "\n",
    "fids"
   ]
  },
  {
   "cell_type": "code",
   "execution_count": null,
   "metadata": {},
   "outputs": [],
   "source": [
    "import numpy as np\n",
    "import matplotlib.pyplot as plt\n",
    "plt.rcParams.update({'font.size': 16})  # enlarge matplotlib fonts\n",
    "\n",
    "# Import qubit states Zero (|0>) and One (|1>), and Pauli operators (X, Y, Z)\n",
    "from qiskit.opflow import Zero, One, I, X, Y, Z\n",
    "\n",
    "# Suppress warnings\n",
    "import warnings\n",
    "warnings.filterwarnings('ignore')\n",
    "\n",
    "# Returns the matrix representation of the XXX Heisenberg model for 3 spin-1/2 particles in a line\n",
    "def H_heis3():\n",
    "    # Interactions (I is the identity matrix; X, Y, and Z are Pauli matricies; ^ is a tensor product)\n",
    "    XXs = (I^X^X) + (X^X^I)\n",
    "    YYs = (I^Y^Y) + (Y^Y^I)\n",
    "    ZZs = (I^Z^Z) + (Z^Z^I)\n",
    "    \n",
    "    # Sum interactions\n",
    "    H = XXs + YYs + ZZs\n",
    "    \n",
    "    # Return Hamiltonian\n",
    "    return H\n",
    "\n",
    "# Returns the matrix representation of U_heis3(t) for a given time t assuming an XXX Heisenberg Hamiltonian for 3 spins-1/2 particles in a line\n",
    "def U_heis3(t):\n",
    "    # Compute XXX Hamiltonian for 3 spins in a line\n",
    "    H = H_heis3()\n",
    "    \n",
    "    # Return the exponential of -i multipled by time t multipled by the 3 spin XXX Heisenberg Hamilonian \n",
    "    return (t * H).exp_i()"
   ]
  },
  {
   "cell_type": "code",
   "execution_count": null,
   "metadata": {},
   "outputs": [
    {
     "data": {
      "text/plain": [
       "1.0000000000000004"
      ]
     },
     "execution_count": 257,
     "metadata": {},
     "output_type": "execute_result"
    }
   ],
   "source": [
    "initial_state = One^One^Zero\n",
    "\n",
    "#((initial_state @ U_heis3(float(time)) @ initial_state).eval())**2\n",
    "np.abs((~initial_state @ U_heis3(float(time)) @ initial_state).eval())**2"
   ]
  },
  {
   "cell_type": "code",
   "execution_count": null,
   "metadata": {},
   "outputs": [
    {
     "data": {
      "text/plain": [
       "array([[ 0.70710678,  0.70710678],\n",
       "       [ 0.70710678, -0.70710678]])"
      ]
     },
     "execution_count": 258,
     "metadata": {},
     "output_type": "execute_result"
    }
   ],
   "source": [
    "matrix=1/np.sqrt(2)*np.array([[1,1],[1,-1]])\n",
    "np.linalg.inv(matrix)"
   ]
  },
  {
   "cell_type": "code",
   "execution_count": null,
   "metadata": {},
   "outputs": [],
   "source": []
  },
  {
   "cell_type": "code",
   "execution_count": null,
   "metadata": {},
   "outputs": [],
   "source": []
  }
 ],
 "metadata": {
  "interpreter": {
   "hash": "aee8b7b246df8f9039afb4144a1f6fd8d2ca17a180786b69acc140d282b71a49"
  },
  "kernelspec": {
   "display_name": "Python 3.10.2 64-bit",
   "language": "python",
   "name": "python3"
  },
  "language_info": {
   "codemirror_mode": {
    "name": "ipython",
    "version": 3
   },
   "file_extension": ".py",
   "mimetype": "text/x-python",
   "name": "python",
   "nbconvert_exporter": "python",
   "pygments_lexer": "ipython3",
   "version": "3.10.2"
  },
  "orig_nbformat": 4
 },
 "nbformat": 4,
 "nbformat_minor": 2
}
