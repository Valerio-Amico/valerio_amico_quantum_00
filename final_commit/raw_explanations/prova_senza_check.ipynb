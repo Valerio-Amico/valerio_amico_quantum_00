{
 "cells": [
  {
   "cell_type": "code",
   "execution_count": 1,
   "metadata": {},
   "outputs": [],
   "source": [
    "from lib.functions0 import *\n",
    "from lib.utility import *\n",
    "import numpy as np\n",
    "from scipy.linalg import expm\n",
    "from qiskit.utils.mitigation.fitters import CompleteMeasFitter\n",
    "from qiskit.ignis.mitigation.measurement import  complete_meas_cal\n",
    "from qiskit import Aer, assemble, QuantumCircuit, QuantumRegister, ClassicalRegister, IBMQ, transpile, execute\n",
    "from qiskit.providers.aer import AerSimulator, QasmSimulator\n",
    "from qiskit.opflow import Zero, One, I, X, Y, Z\n",
    "from qiskit.ignis.verification.tomography import state_tomography_circuits, StateTomographyFitter\n",
    "from qiskit.quantum_info import state_fidelity\n",
    "import matplotlib.pyplot as plt\n",
    "%load_ext autoreload\n",
    "%autoreload 2\n",
    "import warnings\n",
    "warnings.filterwarnings('ignore')\n",
    "IBMQ.load_account()\n",
    "\n",
    "provider = IBMQ.get_provider(hub='ibm-q-community',\n",
    "                            group='ibmquantumawards', \n",
    "                            project='open-science-22')\n",
    "backend_sim_jakarta = QasmSimulator.from_backend(provider.get_backend('ibmq_jakarta'))\n",
    "backend_real_jakarta = provider.get_backend('ibmq_jakarta')\n",
    "backend_sim = Aer.get_backend('qasm_simulator')\n",
    "\n",
    "#provider = IBMQ.get_provider(group='open', project='main')\n",
    "#backend_real_belem = provider.get_backend('ibmq_lima')\n",
    "\n"
   ]
  },
  {
   "cell_type": "code",
   "execution_count": 2,
   "metadata": {},
   "outputs": [
    {
     "data": {
      "text/plain": [
       "'/Library/Frameworks/Python.framework/Versions/3.10/lib/python3.10/site-packages/qiskit/utils/mitigation/fitters.py'"
      ]
     },
     "execution_count": 2,
     "metadata": {},
     "output_type": "execute_result"
    }
   ],
   "source": [
    "import qiskit\n",
    "qiskit.utils.mitigation.fitters.__file__"
   ]
  },
  {
   "cell_type": "code",
   "execution_count": 3,
   "metadata": {},
   "outputs": [
    {
     "data": {
      "text/latex": [
       "$\\displaystyle \\left[\\begin{matrix}1.0 & 0 & 0 & 0 & 0 & 0 & 0 & 0\\\\0 & 1.0 + 0.00395 i & 0.000758 + 0.00395 i & 0 & -0.000711 - 0.00791 i & 0 & 0 & 0\\\\0 & -0.000711 + 0.00395 i & 1.0 - 0.00791 i & 0 & 0.000758 + 0.00395 i & 0 & 0 & 0\\\\0 & 0 & 0 & 1.0 + 0.00395 i & 0 & -0.000711 + 0.00395 i & 0.000758 - 0.00791 i & 0\\\\0 & 0.000758 - 0.00791 i & -0.000711 + 0.00395 i & 0 & 1.0 + 0.00395 i & 0 & 0 & 0\\\\0 & 0 & 0 & 0.000758 + 0.00395 i & 0 & 1.0 - 0.00791 i & -0.000711 + 0.00395 i & 0\\\\0 & 0 & 0 & -0.000711 - 0.00791 i & 0 & 0.000758 + 0.00395 i & 1.0 + 0.00395 i & 0\\\\0 & 0 & 0 & 0 & 0 & 0 & 0 & 1.0\\end{matrix}\\right]$"
      ],
      "text/plain": [
       "Matrix([\n",
       "[1.0,                     0,                     0,                     0,                     0,                     0,                     0,   0],\n",
       "[  0,       1.0 + 0.00395*I,  0.000758 + 0.00395*I,                     0, -0.000711 - 0.00791*I,                     0,                     0,   0],\n",
       "[  0, -0.000711 + 0.00395*I,       1.0 - 0.00791*I,                     0,  0.000758 + 0.00395*I,                     0,                     0,   0],\n",
       "[  0,                     0,                     0,       1.0 + 0.00395*I,                     0, -0.000711 + 0.00395*I,  0.000758 - 0.00791*I,   0],\n",
       "[  0,  0.000758 - 0.00791*I, -0.000711 + 0.00395*I,                     0,       1.0 + 0.00395*I,                     0,                     0,   0],\n",
       "[  0,                     0,                     0,  0.000758 + 0.00395*I,                     0,       1.0 - 0.00791*I, -0.000711 + 0.00395*I,   0],\n",
       "[  0,                     0,                     0, -0.000711 - 0.00791*I,                     0,  0.000758 + 0.00395*I,       1.0 + 0.00395*I,   0],\n",
       "[  0,                     0,                     0,                     0,                     0,                     0,                     0, 1.0]])"
      ]
     },
     "execution_count": 3,
     "metadata": {},
     "output_type": "execute_result"
    }
   ],
   "source": [
    "n_steps=51\n",
    "time=np.pi\n",
    "#initial_state={\"110\": 1}\n",
    "#shots = 20000\n",
    "backend = backend_sim_jakarta\n",
    "\n",
    "X = np.array([[0,1],[1,0]])  #defining the pauli matrices\n",
    "Y = np.array([[0,-1j],[1j,0]])\n",
    "Z = np.array([[1,0],[0,-1]])\n",
    "Id = np.eye(2)\n",
    "\n",
    "# defining the hamiltonian divided in: \n",
    "#       - H1: first two qubits interactions.\n",
    "#       - H2: second two qubits interactions.\n",
    "\n",
    "H1 = np.kron(X, np.kron(X,Id)) + np.kron(Y, np.kron(Y,Id)) + np.kron(Z, np.kron(Z,Id)) \n",
    "H2 = np.kron(Id, np.kron(X,X)) + np.kron(Id, np.kron(Y,Y)) + np.kron(Id, np.kron(Z,Z)) \n",
    "\n",
    "# building numerically the trotter step matrix, and the whole operator (trotter step)^n_steps.\n",
    "\n",
    "trotter_step_matrix_= expm(-time/n_steps*H1*1j).dot(expm(-time/n_steps*H2*1j))\n",
    "trotterized = np.linalg.matrix_power(trotter_step_matrix_, n_steps)\n",
    "Matrix(trotterized).n(3, chop=True)"
   ]
  },
  {
   "cell_type": "code",
   "execution_count": 4,
   "metadata": {},
   "outputs": [
    {
     "data": {
      "image/png": "[encoded data removed]",
      "text/plain": [
       "<Figure size 1350.8x204.68 with 1 Axes>"
      ]
     },
     "execution_count": 4,
     "metadata": {},
     "output_type": "execute_result"
    }
   ],
   "source": [
    "# phase_1_1, phase_2_1, phase_1_2, phase_2_2, a1, a2 = get_gates_parameters(trotterized, initial_state={\"110\": 1.0})\n",
    "\n",
    "A0 = trotterized[3, 6]\n",
    "A1 = trotterized[5, 6]\n",
    "A2 = trotterized[6, 6]\n",
    "\n",
    "r1=float(atan2(im(A0),re(A0))+atan2(im(A2),re(A2)))/2\n",
    "r2=0\n",
    "f1=float(atan2(im(A2),re(A2))-atan2(im(A1),re(A1))-np.pi)/2\n",
    "f2=float((atan2(im(A2),re(A2))-atan2(im(A0),re(A0)))/2-f1)\n",
    "a1=float(acos(abs(A2)))\n",
    "a2=float(acos(abs(A1)/sin(a1)))\n",
    "\n",
    "M1_qc = fixed_magnetization_two_qubit_gate(r1,f1,a1)\n",
    "M2_qc = fixed_magnetization_two_qubit_gate(r2,f2,a2)\n",
    "\n",
    "qr_U = QuantumRegister(3 ,name=\"q\")\n",
    "qc_U = QuantumCircuit(qr_U, name=\"U\")\n",
    "\n",
    "qc_U.append(M1_qc, [qr_U[0],qr_U[1]])\n",
    "qc_U.append(M2_qc, [qr_U[1],qr_U[2]])\n",
    "\n",
    "qc_U=transpile(qc_U, basis_gates=[\"cx\",\"rz\",\"x\",\"sx\"])\n",
    "qc_U.draw(output=\"mpl\")"
   ]
  },
  {
   "cell_type": "code",
   "execution_count": 5,
   "metadata": {},
   "outputs": [
    {
     "data": {
      "text/latex": [
       "$\\displaystyle \\left[\\begin{matrix}0.999992179805683 - 0.00395478538974172 i & -5.22461232477368 \\cdot 10^{-18} - 7.14007397668687 \\cdot 10^{-17} i & -3.85148865432965 \\cdot 10^{-17} - 2.86543966509416 \\cdot 10^{-17} i & -3.1898594549222 \\cdot 10^{-20} - 4.1610264796053 \\cdot 10^{-19} i & -1.2849060558932 \\cdot 10^{-16} + 5.74560837443469 \\cdot 10^{-17} i & 3.11618388111271 \\cdot 10^{-20} + 3.65078782992289 \\cdot 10^{-19} i & -1.82244576866957 \\cdot 10^{-17} - 1.20629290820641 \\cdot 10^{-18} i & 4.51698 \\cdot 10^{-35} - 6.256567 \\cdot 10^{-34} i\\\\6.46958575865653 \\cdot 10^{-17} - 1.81265269388825 \\cdot 10^{-17} i & 0.999952541508251 - 0.00395462862755608 i & -0.000849703333802708 + 0.00886304957973318 i & -5.24190486308785 \\cdot 10^{-19} - 2.814249171752 \\cdot 10^{-17} i & -6.4951512 \\cdot 10^{-33} + 5.2410596 \\cdot 10^{-33} i & -1.28987326187191 \\cdot 10^{-16} + 5.9024445250194 \\cdot 10^{-17} i & -3.77201276536254 \\cdot 10^{-19} - 5.0403771662823 \\cdot 10^{-19} i & -1.60299155196875 \\cdot 10^{-17} + 4.26134262710906 \\cdot 10^{-19} i\\\\-1.56763563514424 \\cdot 10^{-17} - 6.18916885422184 \\cdot 10^{-17} i & 0.000710804473723417 + 0.00395462862755944 i & 0.449873050253018 - 0.0353008317318588 i & -3.78958226439293 \\cdot 10^{-18} - 4.35244064244975 \\cdot 10^{-17} i & -0.892378557787717 + 0.0035291932814349 i & 4.9282831837822 \\cdot 10^{-18} + 6.40952206803198 \\cdot 10^{-17} i & 8.43472767875918 \\cdot 10^{-17} - 4.09107509296452 \\cdot 10^{-18} i & 2.84658444077221 \\cdot 10^{-20} + 3.71323984704384 \\cdot 10^{-19} i\\\\3.15713581839915 \\cdot 10^{-20} + 1.15921141305497 \\cdot 10^{-19} i & -6.06264246023242 \\cdot 10^{-17} - 6.26292486182533 \\cdot 10^{-17} i & 3.76258781340696 \\cdot 10^{-17} - 3.02379970308786 \\cdot 10^{-17} i & 0.449890883301121 - 0.0353022310631367 i & -5.77336475762813 \\cdot 10^{-17} + 1.6175850465714 \\cdot 10^{-17} i & -0.8923431851444 + 0.00352905338912778 i & 0.000758262965330008 - 0.00790925725349195 i & 7.7909662817336 \\cdot 10^{-17} - 3.34771669010424 \\cdot 10^{-18} i\\\\7.78369728101171 \\cdot 10^{-17} + 5.11398382607338 \\cdot 10^{-18} i & 0.000758262965329977 + 0.00790925725349195 i & 0.8923431851444 + 0.00352905338913123 i & -3.96219861949515 \\cdot 10^{-19} - 8.63934124689295 \\cdot 10^{-17} i & 0.449890883301121 + 0.0353022310631384 i & 8.27181477125615 \\cdot 10^{-19} - 3.2005028172029 \\cdot 10^{-17} i & 7.40604293206157 \\cdot 10^{-17} - 6.3006340592448 \\cdot 10^{-17} i & 1.08325469071467 \\cdot 10^{-21} - 1.88324068081252 \\cdot 10^{-19} i\\\\4.33846587972973 \\cdot 10^{-20} + 2.33586723960389 \\cdot 10^{-19} i & 8.42695015898403 \\cdot 10^{-17} + 5.98090536039388 \\cdot 10^{-18} i & 7.77785848880765 \\cdot 10^{-17} - 5.21948948766268 \\cdot 10^{-17} i & 0.892378557787716 + 0.00352919328143831 i & 2.97689694856641 \\cdot 10^{-17} - 5.75336620921872 \\cdot 10^{-18} i & 0.449873050253018 + 0.0353008317318606 i & -0.000710804473723433 + 0.00395462862755944 i & -1.50417993993137 \\cdot 10^{-17} - 6.55417257783757 \\cdot 10^{-17} i\\\\1.59973051293644 \\cdot 10^{-17} + 1.2185218675894 \\cdot 10^{-18} i & 3.65181930694945 \\cdot 10^{-19} - 1.8919094572544 \\cdot 10^{-19} i & -1.30032941489318 \\cdot 10^{-16} - 5.75304387653147 \\cdot 10^{-17} i & -5.0249962 \\cdot 10^{-33} + 4.2337047 \\cdot 10^{-33} i & 7.60720820865916 \\cdot 10^{-18} - 2.58635442594348 \\cdot 10^{-17} i & 0.000849703333802674 + 0.00886304957973318 i & 0.999952541508251 + 0.00395462862755996 i & -4.44000766239226 \\cdot 10^{-19} - 9.68117578596144 \\cdot 10^{-17} i\\\\1.1718141 \\cdot 10^{-33} - 9.66554 \\cdot 10^{-35} i & 1.81483529511277 \\cdot 10^{-17} + 6.42947427133063 \\cdot 10^{-19} i & -2.53164759591511 \\cdot 10^{-20} + 4.24651186966658 \\cdot 10^{-19} i & -1.30584523619248 \\cdot 10^{-16} - 5.7837142383764 \\cdot 10^{-17} i & 4.86164970485002 \\cdot 10^{-20} + 2.61755389826816 \\cdot 10^{-19} i & 3.6666337520067 \\cdot 10^{-17} - 2.49602768347006 \\cdot 10^{-17} i & 8.74752254586891 \\cdot 10^{-17} - 5.85906234063895 \\cdot 10^{-17} i & 0.999992179805683 + 0.00395478538974555 i\\end{matrix}\\right]$"
      ],
      "text/plain": [
       "Matrix([\n",
       "[     0.999992179805683 - 0.00395478538974172*I, -5.22461232477368e-18 - 7.14007397668687e-17*I, -3.85148865432965e-17 - 2.86543966509416e-17*I,   -3.1898594549222e-20 - 4.1610264796053e-19*I, -1.2849060558932e-16 + 5.74560837443469e-17*I, 3.11618388111271e-20 + 3.65078782992289e-19*I, -1.82244576866957e-17 - 1.20629290820641e-18*I,                   4.51698e-35 - 6.256567e-34*I],\n",
       "[ 6.46958575865653e-17 - 1.81265269388825e-17*I,      0.999952541508251 - 0.00395462862755608*I,  -0.000849703333802708 + 0.00886304957973318*I,   -5.24190486308785e-19 - 2.814249171752e-17*I,              -6.4951512e-33 + 5.2410596e-33*I, -1.28987326187191e-16 + 5.9024445250194e-17*I,  -3.77201276536254e-19 - 5.0403771662823e-19*I, -1.60299155196875e-17 + 4.26134262710906e-19*I],\n",
       "[-1.56763563514424e-17 - 6.18916885422184e-17*I,   0.000710804473723417 + 0.00395462862755944*I,       0.449873050253018 - 0.0353008317318588*I, -3.78958226439293e-18 - 4.35244064244975e-17*I,     -0.892378557787717 + 0.0035291932814349*I,  4.9282831837822e-18 + 6.40952206803198e-17*I,  8.43472767875918e-17 - 4.09107509296452e-18*I,  2.84658444077221e-20 + 3.71323984704384e-19*I],\n",
       "[ 3.15713581839915e-20 + 1.15921141305497e-19*I, -6.06264246023242e-17 - 6.26292486182533e-17*I,  3.76258781340696e-17 - 3.02379970308786e-17*I,       0.449890883301121 - 0.0353022310631367*I, -5.77336475762813e-17 + 1.6175850465714e-17*I,      -0.8923431851444 + 0.00352905338912778*I,   0.000758262965330008 - 0.00790925725349195*I,   7.7909662817336e-17 - 3.34771669010424e-18*I],\n",
       "[ 7.78369728101171e-17 + 5.11398382607338e-18*I,   0.000758262965329977 + 0.00790925725349195*I,        0.8923431851444 + 0.00352905338913123*I, -3.96219861949515e-19 - 8.63934124689295e-17*I,      0.449890883301121 + 0.0353022310631384*I,  8.27181477125615e-19 - 3.2005028172029e-17*I,   7.40604293206157e-17 - 6.3006340592448e-17*I,  1.08325469071467e-21 - 1.88324068081252e-19*I],\n",
       "[ 4.33846587972973e-20 + 2.33586723960389e-19*I,  8.42695015898403e-17 + 5.98090536039388e-18*I,  7.77785848880765e-17 - 5.21948948766268e-17*I,      0.892378557787716 + 0.00352919328143831*I, 2.97689694856641e-17 - 5.75336620921872e-18*I,      0.449873050253018 + 0.0353008317318606*I,  -0.000710804473723433 + 0.00395462862755944*I, -1.50417993993137e-17 - 6.55417257783757e-17*I],\n",
       "[  1.59973051293644e-17 + 1.2185218675894e-18*I,   3.65181930694945e-19 - 1.8919094572544e-19*I, -1.30032941489318e-16 - 5.75304387653147e-17*I,               -5.0249962e-33 + 4.2337047e-33*I, 7.60720820865916e-18 - 2.58635442594348e-17*I,  0.000849703333802674 + 0.00886304957973318*I,      0.999952541508251 + 0.00395462862755996*I, -4.44000766239226e-19 - 9.68117578596144e-17*I],\n",
       "[                 1.1718141e-33 - 9.66554e-35*I,  1.81483529511277e-17 + 6.42947427133063e-19*I, -2.53164759591511e-20 + 4.24651186966658e-19*I,  -1.30584523619248e-16 - 5.7837142383764e-17*I, 4.86164970485002e-20 + 2.61755389826816e-19*I,  3.6666337520067e-17 - 2.49602768347006e-17*I,  8.74752254586891e-17 - 5.85906234063895e-17*I,      0.999992179805683 + 0.00395478538974555*I]])"
      ]
     },
     "execution_count": 5,
     "metadata": {},
     "output_type": "execute_result"
    }
   ],
   "source": [
    "U_ideal=matrix_from_circuit(qc_U, type=\"numpy\")\n",
    "Matrix(U_ideal)"
   ]
  },
  {
   "cell_type": "code",
   "execution_count": 6,
   "metadata": {},
   "outputs": [
    {
     "data": {
      "image/png": "[encoded data removed]",
      "text/plain": [
       "<Figure size 507.997x264.88 with 1 Axes>"
      ]
     },
     "execution_count": 6,
     "metadata": {},
     "output_type": "execute_result"
    }
   ],
   "source": [
    "qr_evo = QuantumRegister(3, name=\"q\")\n",
    "qc_evo = QuantumCircuit(qr_evo, name=\"U\")\n",
    "\n",
    "qc_evo.x([qr_evo[1],qr_evo[2]])\n",
    "qc_evo.append(qc_U, qr_evo)\n",
    "\n",
    "qcs_tomo = state_tomography_circuits(qc_evo, qr_evo)\n",
    "qcs_tomo[3].draw(output=\"mpl\")"
   ]
  },
  {
   "cell_type": "code",
   "execution_count": 7,
   "metadata": {},
   "outputs": [],
   "source": [
    "qr_cal = QuantumRegister(3)\n",
    "cal_circ, state_labels = complete_meas_cal(qubit_list=[0,1,2], qr=qr_cal, circlabel='mcal')"
   ]
  },
  {
   "cell_type": "code",
   "execution_count": 8,
   "metadata": {},
   "outputs": [
    {
     "data": {
      "text/html": [
       "<pre style=\"word-wrap: normal;white-space: pre;background: #fff0;line-height: 1.1;font-family: &quot;Courier New&quot;,Courier,monospace\">        ░ ┌─┐      \n",
       "q34_0: ─░─┤M├──────\n",
       "        ░ └╥┘┌─┐   \n",
       "q34_1: ─░──╫─┤M├───\n",
       "        ░  ║ └╥┘┌─┐\n",
       "q34_2: ─░──╫──╫─┤M├\n",
       "        ░  ║  ║ └╥┘\n",
       " c1: 3/════╩══╩══╩═\n",
       "           0  1  2 </pre>"
      ],
      "text/plain": [
       "        ░ ┌─┐      \n",
       "q34_0: ─░─┤M├──────\n",
       "        ░ └╥┘┌─┐   \n",
       "q34_1: ─░──╫─┤M├───\n",
       "        ░  ║ └╥┘┌─┐\n",
       "q34_2: ─░──╫──╫─┤M├\n",
       "        ░  ║  ║ └╥┘\n",
       " c1: 3/════╩══╩══╩═\n",
       "           0  1  2 "
      ]
     },
     "execution_count": 8,
     "metadata": {},
     "output_type": "execute_result"
    }
   ],
   "source": [
    "cal_circ[0].draw()"
   ]
  },
  {
   "cell_type": "code",
   "execution_count": 9,
   "metadata": {},
   "outputs": [
    {
     "data": {
      "text/plain": [
       "['000', '001', '010', '011', '100', '101', '110', '111']"
      ]
     },
     "execution_count": 9,
     "metadata": {},
     "output_type": "execute_result"
    }
   ],
   "source": [
    "state_labels"
   ]
  },
  {
   "cell_type": "code",
   "execution_count": 10,
   "metadata": {},
   "outputs": [],
   "source": [
    "calib_circuits_identity = []\n",
    "calib_circuits_itself = []\n",
    "\n",
    "for i in state_labels:\n",
    "\n",
    "    cr_cal_itself = ClassicalRegister(3)\n",
    "    qr_cal_itself = QuantumRegister(3)\n",
    "    qc_cal_itself = QuantumCircuit(qr_cal_itself, cr_cal_itself, name=f\"mcalcal_{i}\")\n",
    "\n",
    "    cr_cal_id = ClassicalRegister(3)\n",
    "    qr_cal_id = QuantumRegister(3)\n",
    "    qc_cal_id = QuantumCircuit(qr_cal_id, cr_cal_id, name=f\"mcalcal_{i}\")\n",
    "\n",
    "    qc_cal_id.append(qc_U, qr_cal_id)\n",
    "\n",
    "    for k in range(3):\n",
    "        if i[::-1][k] == \"1\":\n",
    "            qc_cal_itself.x(qr_cal_itself[k])\n",
    "            qc_cal_id.x(qr_cal_id[k])\n",
    "        \n",
    "    qc_cal_itself.append(qc_U, qr_cal_itself)\n",
    "    \n",
    "    qc_cal_id.measure(qr_cal_id, cr_cal_id)\n",
    "    qc_cal_itself.measure(qr_cal_itself, cr_cal_itself)\n",
    "\n",
    "    calib_circuits_identity.append(qc_cal_id)\n",
    "    calib_circuits_itself.append(qc_cal_itself)"
   ]
  },
  {
   "cell_type": "code",
   "execution_count": 11,
   "metadata": {},
   "outputs": [
    {
     "data": {
      "text/html": [
       "<pre style=\"word-wrap: normal;white-space: pre;background: #fff0;line-height: 1.1;font-family: &quot;Courier New&quot;,Courier,monospace\">       ┌────┐┌───┐┌─┐   \n",
       "q42_0: ┤0   ├┤ X ├┤M├───\n",
       "       │    │├───┤└╥┘┌─┐\n",
       "q42_1: ┤1 U ├┤ X ├─╫─┤M├\n",
       "       │    │└┬─┬┘ ║ └╥┘\n",
       "q42_2: ┤2   ├─┤M├──╫──╫─\n",
       "       └────┘ └╥┘  ║  ║ \n",
       " c9: 3/════════╩═══╩══╩═\n",
       "               2   0  1 </pre>"
      ],
      "text/plain": [
       "       ┌────┐┌───┐┌─┐   \n",
       "q42_0: ┤0   ├┤ X ├┤M├───\n",
       "       │    │├───┤└╥┘┌─┐\n",
       "q42_1: ┤1 U ├┤ X ├─╫─┤M├\n",
       "       │    │└┬─┬┘ ║ └╥┘\n",
       "q42_2: ┤2   ├─┤M├──╫──╫─\n",
       "       └────┘ └╥┘  ║  ║ \n",
       " c9: 3/════════╩═══╩══╩═\n",
       "               2   0  1 "
      ]
     },
     "execution_count": 11,
     "metadata": {},
     "output_type": "execute_result"
    }
   ],
   "source": [
    "calib_circuits_identity[3].draw()"
   ]
  },
  {
   "cell_type": "code",
   "execution_count": 12,
   "metadata": {},
   "outputs": [
    {
     "data": {
      "text/html": [
       "<pre style=\"word-wrap: normal;white-space: pre;background: #fff0;line-height: 1.1;font-family: &quot;Courier New&quot;,Courier,monospace\">       ┌───┐┌────┐┌─┐      \n",
       "q37_0: ┤ X ├┤0   ├┤M├──────\n",
       "       └───┘│    │└╥┘┌─┐   \n",
       "q37_1: ─────┤1 U ├─╫─┤M├───\n",
       "            │    │ ║ └╥┘┌─┐\n",
       "q37_2: ─────┤2   ├─╫──╫─┤M├\n",
       "            └────┘ ║  ║ └╥┘\n",
       " c4: 3/════════════╩══╩══╩═\n",
       "                   0  1  2 </pre>"
      ],
      "text/plain": [
       "       ┌───┐┌────┐┌─┐      \n",
       "q37_0: ┤ X ├┤0   ├┤M├──────\n",
       "       └───┘│    │└╥┘┌─┐   \n",
       "q37_1: ─────┤1 U ├─╫─┤M├───\n",
       "            │    │ ║ └╥┘┌─┐\n",
       "q37_2: ─────┤2   ├─╫──╫─┤M├\n",
       "            └────┘ ║  ║ └╥┘\n",
       " c4: 3/════════════╩══╩══╩═\n",
       "                   0  1  2 "
      ]
     },
     "execution_count": 12,
     "metadata": {},
     "output_type": "execute_result"
    }
   ],
   "source": [
    "calib_circuits_itself[1].draw()"
   ]
  },
  {
   "cell_type": "code",
   "execution_count": 13,
   "metadata": {},
   "outputs": [
    {
     "ename": "NameError",
     "evalue": "name 'shots' is not defined",
     "output_type": "error",
     "traceback": [
      "\u001b[0;31m---------------------------------------------------------------------------\u001b[0m",
      "\u001b[0;31mNameError\u001b[0m                                 Traceback (most recent call last)",
      "\u001b[1;32m/Users/valerio/Documents/project_IBM_01/IBM_git/final_commit/raw_explanations/prova_senza_check.ipynb Cell 13'\u001b[0m in \u001b[0;36m<cell line: 1>\u001b[0;34m()\u001b[0m\n\u001b[0;32m----> <a href='vscode-notebook-cell:/Users/valerio/Documents/project_IBM_01/IBM_git/final_commit/raw_explanations/prova_senza_check.ipynb#ch0000012?line=0'>1</a>\u001b[0m job_tomo\u001b[39m=\u001b[39mexecute(qcs_tomo, backend, shots\u001b[39m=\u001b[39mshots, initial_layout\u001b[39m=\u001b[39m[\u001b[39m0\u001b[39m,\u001b[39m1\u001b[39m,\u001b[39m2\u001b[39m])\n\u001b[1;32m      <a href='vscode-notebook-cell:/Users/valerio/Documents/project_IBM_01/IBM_git/final_commit/raw_explanations/prova_senza_check.ipynb#ch0000012?line=2'>3</a>\u001b[0m job_cal_our_identity\u001b[39m=\u001b[39mexecute(calib_circuits_identity, backend \u001b[39m=\u001b[39m backend, shots\u001b[39m=\u001b[39mshots, initial_layout\u001b[39m=\u001b[39m[\u001b[39m0\u001b[39m,\u001b[39m1\u001b[39m,\u001b[39m2\u001b[39m])\n\u001b[1;32m      <a href='vscode-notebook-cell:/Users/valerio/Documents/project_IBM_01/IBM_git/final_commit/raw_explanations/prova_senza_check.ipynb#ch0000012?line=4'>5</a>\u001b[0m job_cal_our_itself\u001b[39m=\u001b[39mexecute(calib_circuits_itself, backend \u001b[39m=\u001b[39m backend, shots\u001b[39m=\u001b[39mshots, initial_layout\u001b[39m=\u001b[39m[\u001b[39m0\u001b[39m,\u001b[39m1\u001b[39m,\u001b[39m2\u001b[39m])\n",
      "\u001b[0;31mNameError\u001b[0m: name 'shots' is not defined"
     ]
    }
   ],
   "source": [
    "job_tomo=execute(qcs_tomo, backend, shots=shots, initial_layout=[0,1,2])\n",
    "\n",
    "job_cal_our_identity=execute(calib_circuits_identity, backend = backend, shots=shots, initial_layout=[0,1,2])\n",
    "\n",
    "job_cal_our_itself=execute(calib_circuits_itself, backend = backend, shots=shots, initial_layout=[0,1,2])\n",
    "\n",
    "job_cal_qiskit=execute(cal_circ, backend, shots=shots, initial_layout=[0,1,2])"
   ]
  },
  {
   "cell_type": "code",
   "execution_count": null,
   "metadata": {},
   "outputs": [],
   "source": [
    "qiskit_raw_cal = deepcopy(job_cal_qiskit.result().get_counts())"
   ]
  },
  {
   "cell_type": "code",
   "execution_count": 14,
   "metadata": {},
   "outputs": [],
   "source": [
    "tomo_id = \"62508685a5d4ee324577dadb\"\n",
    "identity_id = \"62508687cfe45cb34ce5b0bc\"\n",
    "itself_id = \"6250868873968c540007c03c\"\n",
    "qiskit_id = \"62508689fdf3770e2b56ffe5\"\n",
    "\n",
    "job_tomo = backend_real_jakarta.retrieve_job(tomo_id)\n",
    "job_cal_our_identity = backend_real_jakarta.retrieve_job(identity_id)\n",
    "job_cal_our_itself = backend_real_jakarta.retrieve_job(itself_id)\n",
    "job_cal_qiskit = backend_real_jakarta.retrieve_job(qiskit_id)\n"
   ]
  },
  {
   "cell_type": "markdown",
   "metadata": {},
   "source": [
    "# Mitigation:\n",
    "\n",
    "    - building the calibration matrices"
   ]
  },
  {
   "cell_type": "code",
   "execution_count": 15,
   "metadata": {},
   "outputs": [],
   "source": [
    "meas_fitter_our_identity = CompleteMeasFitter(job_cal_our_identity.result(), state_labels=state_labels)\n",
    "meas_fitter_our_itself = CompleteMeasFitter(job_cal_our_itself.result(), state_labels=state_labels)\n",
    "meas_fitter_qiskit = CompleteMeasFitter(job_cal_qiskit.result(), state_labels=state_labels)"
   ]
  },
  {
   "cell_type": "code",
   "execution_count": 16,
   "metadata": {},
   "outputs": [
    {
     "data": {
      "text/latex": [
       "$\\displaystyle \\left[\\begin{matrix}0.939 & 0.0543 & 0.0492 & 0.00297 & 0.0423 & 0.00284 & 0.00231 & 0.000156\\\\0.0232 & 0.908 & 0.00128 & 0.0507 & 0.000875 & 0.0415 & 0 & 0.00241\\\\0.0149 & 0.000906 & 0.907 & 0.0539 & 0.000531 & 9.37 \\cdot 10^{-5} & 0.0418 & 0.00244\\\\0.000375 & 0.0158 & 0.0205 & 0.871 & 0 & 0.000813 & 0.000875 & 0.039\\\\0.0218 & 0.00106 & 0.000969 & 0.000156 & 0.921 & 0.0529 & 0.052 & 0.00269\\\\0.000594 & 0.02 & 6.25 \\cdot 10^{-5} & 0.00122 & 0.02 & 0.888 & 0.000906 & 0.0461\\\\0.000375 & 6.25 \\cdot 10^{-5} & 0.0204 & 0.00109 & 0.0152 & 0.000813 & 0.884 & 0.0518\\\\0 & 0.000313 & 0.000313 & 0.0192 & 0.000563 & 0.0132 & 0.0182 & 0.855\\end{matrix}\\right]$"
      ],
      "text/plain": [
       "Matrix([\n",
       "[   0.939,   0.0543,   0.0492,  0.00297,   0.0423,  0.00284,  0.00231, 0.000156],\n",
       "[  0.0232,    0.908,  0.00128,   0.0507, 0.000875,   0.0415,        0,  0.00241],\n",
       "[  0.0149, 0.000906,    0.907,   0.0539, 0.000531,  9.37e-5,   0.0418,  0.00244],\n",
       "[0.000375,   0.0158,   0.0205,    0.871,        0, 0.000813, 0.000875,    0.039],\n",
       "[  0.0218,  0.00106, 0.000969, 0.000156,    0.921,   0.0529,    0.052,  0.00269],\n",
       "[0.000594,     0.02,  6.25e-5,  0.00122,     0.02,    0.888, 0.000906,   0.0461],\n",
       "[0.000375,  6.25e-5,   0.0204,  0.00109,   0.0152, 0.000813,    0.884,   0.0518],\n",
       "[       0, 0.000313, 0.000313,   0.0192, 0.000563,   0.0132,   0.0182,    0.855]])"
      ]
     },
     "execution_count": 16,
     "metadata": {},
     "output_type": "execute_result"
    }
   ],
   "source": [
    "Matrix(meas_fitter_qiskit.cal_matrix).n(3, chop=True)"
   ]
  },
  {
   "cell_type": "code",
   "execution_count": null,
   "metadata": {},
   "outputs": [],
   "source": [
    "#calib = np.linalg.multi_dot([migigated_qiskit, np.linalg.inv(not_migigated_qiskit)])\n",
    "#Matrix(calib).n(2, chop=True)"
   ]
  },
  {
   "cell_type": "code",
   "execution_count": 18,
   "metadata": {},
   "outputs": [],
   "source": [
    "U_tilde_identity=meas_fitter_our_identity.cal_matrix\n",
    "U_tilde_itself=meas_fitter_our_itself.cal_matrix\n",
    "U_tilde_qiskit=meas_fitter_qiskit.cal_matrix"
   ]
  },
  {
   "cell_type": "code",
   "execution_count": 19,
   "metadata": {},
   "outputs": [],
   "source": [
    "def matrix_from_cirquit(qc, phase=0, type=\"sympy\"):\n",
    "\n",
    "    backend = Aer.get_backend('unitary_simulator')\n",
    "    job = execute(qc, backend, shots=32000)\n",
    "    result = job.result()\n",
    "    A=result.get_unitary(qc, decimals=10)*np.exp(1j*phase)\n",
    "    if type==\"sympy\":\n",
    "        return Matrix(A)\n",
    "    else:\n",
    "        return A"
   ]
  },
  {
   "cell_type": "code",
   "execution_count": 20,
   "metadata": {},
   "outputs": [
    {
     "data": {
      "text/html": [
       "<pre style=\"word-wrap: normal;white-space: pre;background: #fff0;line-height: 1.1;font-family: &quot;Courier New&quot;,Courier,monospace\">        ░ ┌─────┐ ┌───┐      ┌─┐   \n",
       "q51_0: ─░─┤ Sdg ├─┤ H ├──────┤M├───\n",
       "        ░ └─┬─┬─┘ └───┘      └╥┘   \n",
       "q51_1: ─░───┤M├───────────────╫────\n",
       "        ░   └╥┘  ┌─────┐┌───┐ ║ ┌─┐\n",
       "q51_2: ─░────╫───┤ Sdg ├┤ H ├─╫─┤M├\n",
       "        ░    ║   └─────┘└───┘ ║ └╥┘\n",
       "c18: 3/══════╩════════════════╩══╩═\n",
       "             1                0  2 </pre>"
      ],
      "text/plain": [
       "        ░ ┌─────┐ ┌───┐      ┌─┐   \n",
       "q51_0: ─░─┤ Sdg ├─┤ H ├──────┤M├───\n",
       "        ░ └─┬─┬─┘ └───┘      └╥┘   \n",
       "q51_1: ─░───┤M├───────────────╫────\n",
       "        ░   └╥┘  ┌─────┐┌───┐ ║ ┌─┐\n",
       "q51_2: ─░────╫───┤ Sdg ├┤ H ├─╫─┤M├\n",
       "        ░    ║   └─────┘└───┘ ║ └╥┘\n",
       "c18: 3/══════╩════════════════╩══╩═\n",
       "             1                0  2 "
      ]
     },
     "execution_count": 20,
     "metadata": {},
     "output_type": "execute_result"
    }
   ],
   "source": [
    "qr_basi = QuantumRegister(3)\n",
    "qc_basi = QuantumCircuit(qr_basi)\n",
    "\n",
    "qcs_basis = state_tomography_circuits(qc_basi, qr_basi)\n",
    "\n",
    "qcs_basis[0].remove_final_measurements()\n",
    "\n",
    "qcs_basis[16].draw()"
   ]
  },
  {
   "cell_type": "code",
   "execution_count": 21,
   "metadata": {},
   "outputs": [],
   "source": [
    "C_matrices_itself = []\n",
    "C_matrices_identity = []\n",
    "\n",
    "U_ideal_inv = np.linalg.inv(U_ideal)\n",
    "U_ideal_inv_abs = np.abs(U_ideal_inv)**2\n",
    "\n",
    "U_ideal_abs = np.abs(U_ideal)**2\n",
    "#print(type(U_ideal_abs))\n",
    "#U_ideal_abs = np.asarray(Matrix(U_ideal_abs).n(10, chop=True), dtype='float64')\n",
    "#print(type(U_ideal_abs))\n",
    "U_ideal_abs_inv = np.linalg.inv(U_ideal_abs)\n",
    "\n",
    "C_itself = np.dot(U_tilde_itself, U_ideal_abs_inv)\n",
    "C_identity = U_tilde_identity"
   ]
  },
  {
   "cell_type": "code",
   "execution_count": 22,
   "metadata": {},
   "outputs": [
    {
     "data": {
      "text/plain": [
       "0.3511865140160771"
      ]
     },
     "execution_count": 22,
     "metadata": {},
     "output_type": "execute_result"
    }
   ],
   "source": [
    "Matrix(U_ideal_abs).n(3, chop=True)\n",
    "np.linalg.det(U_ideal_abs)"
   ]
  },
  {
   "cell_type": "code",
   "execution_count": 23,
   "metadata": {},
   "outputs": [
    {
     "data": {
      "text/latex": [
       "$\\displaystyle \\left[\\begin{matrix}1.0 & 0 & 0 & 0 & 0 & 0 & 0 & 0\\\\0 & 1.0 & 0 & 0 & 0 & 0 & 0 & 0\\\\0 & 0 & 1.0 & 0 & 0 & 0 & 0 & 0\\\\0 & 0 & 0 & 1.0 & 0 & 0 & 0 & 0\\\\0 & 0 & 0 & 0 & 1.0 & 0 & 0 & 0\\\\0 & 0 & 0 & 0 & 0 & 1.0 & 0 & 0\\\\0 & 0 & 0 & 0 & 0 & 0 & 1.0 & 0\\\\0 & 0 & 0 & 0 & 0 & 0 & 0 & 1.0\\end{matrix}\\right]$"
      ],
      "text/plain": [
       "Matrix([\n",
       "[1.0,   0,   0,   0,   0,   0,   0,   0],\n",
       "[  0, 1.0,   0,   0,   0,   0,   0,   0],\n",
       "[  0,   0, 1.0,   0,   0,   0,   0,   0],\n",
       "[  0,   0,   0, 1.0,   0,   0,   0,   0],\n",
       "[  0,   0,   0,   0, 1.0,   0,   0,   0],\n",
       "[  0,   0,   0,   0,   0, 1.0,   0,   0],\n",
       "[  0,   0,   0,   0,   0,   0, 1.0,   0],\n",
       "[  0,   0,   0,   0,   0,   0,   0, 1.0]])"
      ]
     },
     "execution_count": 23,
     "metadata": {},
     "output_type": "execute_result"
    }
   ],
   "source": [
    "Matrix(np.dot(U_ideal_abs,np.linalg.inv(U_ideal_abs))).n(3, chop=True)"
   ]
  },
  {
   "cell_type": "code",
   "execution_count": 24,
   "metadata": {},
   "outputs": [
    {
     "data": {
      "text/latex": [
       "$\\displaystyle \\left[\\begin{matrix}1.0 & -5.12558587663421 \\cdot 10^{-33} & -2.58262225696268 \\cdot 10^{-32} & -8.50194943460827 \\cdot 10^{-38} & 3.71093801624074 \\cdot 10^{-33} & -1.96954223858463 \\cdot 10^{-37} & -3.33612439348309 \\cdot 10^{-34} & 4.05621716890631 \\cdot 10^{-66}\\\\-4.51394572104693 \\cdot 10^{-33} & 1.00007928821486 & 2.72427614051007 \\cdot 10^{-5} & -2.67675394886299 \\cdot 10^{-32} & -0.000106530976261911 & 5.85113538741965 \\cdot 10^{-33} & 2.01215027465084 \\cdot 10^{-36} & -2.57160170132456 \\cdot 10^{-34}\\\\-6.77500185486476 \\cdot 10^{-33} & -7.92882148568106 \\cdot 10^{-5} & -0.343618802418781 & 3.28123234550616 \\cdot 10^{-33} & 1.34369809063364 & -1.26095133726307 \\cdot 10^{-32} & -1.02547264360376 \\cdot 10^{-32} & 2.03881542817167 \\cdot 10^{-38}\\\\-7.08794478886572 \\cdot 10^{-38} & -6.9784525820494 \\cdot 10^{-33} & 3.77543865869088 \\cdot 10^{-33} & -0.343591559657376 & -1.47635975717203 \\cdot 10^{-32} & 1.34359155965738 & 4.25456584581495 \\cdot 10^{-21} & -3.9862630348798 \\cdot 10^{-33}\\\\-3.3862538176961 \\cdot 10^{-33} & 4.03278417649242 \\cdot 10^{-65} & 1.34359155965738 & -6.98680928488709 \\cdot 10^{-33} & -0.343591559657376 & 1.78671016646991 \\cdot 10^{-33} & -6.33293895819888 \\cdot 10^{-33} & -1.74158933973981 \\cdot 10^{-37}\\\\2.04086728796752 \\cdot 10^{-38} & -7.75755675052784 \\cdot 10^{-33} & -6.0264369041721 \\cdot 10^{-33} & 1.34369809063364 & 1.39819403623017 \\cdot 10^{-33} & -0.343618802418781 & -7.92882148568106 \\cdot 10^{-5} & -6.61661477081471 \\cdot 10^{-33}\\\\-2.57418975616662 \\cdot 10^{-34} & 2.04905755915457 \\cdot 10^{-36} & 5.97183280848017 \\cdot 10^{-33} & -0.000106530976261911 & -2.69198394244096 \\cdot 10^{-32} & 2.72427614051007 \\cdot 10^{-5} & 1.00007928821486 & -9.37293210537972 \\cdot 10^{-33}\\\\2.96240427904151 \\cdot 10^{-66} & -3.29802229241983 \\cdot 10^{-34} & -4.20324978353838 \\cdot 10^{-38} & 4.36593387956351 \\cdot 10^{-33} & -1.83683495380633 \\cdot 10^{-37} & -2.67300995566976 \\cdot 10^{-32} & -1.10854991178498 \\cdot 10^{-32} & 1.0\\end{matrix}\\right]$"
      ],
      "text/plain": [
       "Matrix([\n",
       "[                  1.0, -5.12558587663421e-33, -2.58262225696268e-32, -8.50194943460827e-38,  3.71093801624074e-33, -1.96954223858463e-37, -3.33612439348309e-34,  4.05621716890631e-66],\n",
       "[-4.51394572104693e-33,      1.00007928821486,   2.72427614051007e-5, -2.67675394886299e-32, -0.000106530976261911,  5.85113538741965e-33,  2.01215027465084e-36, -2.57160170132456e-34],\n",
       "[-6.77500185486476e-33,  -7.92882148568106e-5,    -0.343618802418781,  3.28123234550616e-33,      1.34369809063364, -1.26095133726307e-32, -1.02547264360376e-32,  2.03881542817167e-38],\n",
       "[-7.08794478886572e-38,  -6.9784525820494e-33,  3.77543865869088e-33,    -0.343591559657376, -1.47635975717203e-32,      1.34359155965738,  4.25456584581495e-21,  -3.9862630348798e-33],\n",
       "[ -3.3862538176961e-33,  4.03278417649242e-65,      1.34359155965738, -6.98680928488709e-33,    -0.343591559657376,  1.78671016646991e-33, -6.33293895819888e-33, -1.74158933973981e-37],\n",
       "[ 2.04086728796752e-38, -7.75755675052784e-33,  -6.0264369041721e-33,      1.34369809063364,  1.39819403623017e-33,    -0.343618802418781,  -7.92882148568106e-5, -6.61661477081471e-33],\n",
       "[-2.57418975616662e-34,  2.04905755915457e-36,  5.97183280848017e-33, -0.000106530976261911, -2.69198394244096e-32,   2.72427614051007e-5,      1.00007928821486, -9.37293210537972e-33],\n",
       "[ 2.96240427904151e-66, -3.29802229241983e-34, -4.20324978353838e-38,  4.36593387956351e-33, -1.83683495380633e-37, -2.67300995566976e-32, -1.10854991178498e-32,                   1.0]])"
      ]
     },
     "execution_count": 24,
     "metadata": {},
     "output_type": "execute_result"
    }
   ],
   "source": [
    "Matrix(U_ideal_abs_inv)"
   ]
  },
  {
   "cell_type": "code",
   "execution_count": 25,
   "metadata": {},
   "outputs": [
    {
     "data": {
      "text/latex": [
       "$\\displaystyle \\left[\\begin{matrix}0.87196875 & 0.0789706454838864 & 0.0488490403088494 & 0.00312956912563146 & 0.0566490642072641 & 0.0109328788414775 & 0.005375052032891 & 0.001625\\\\0.043 & 0.839159365953307 & 0.000259228539365487 & 0.043346179616725 & 0.0143314055073271 & 0.0591574304748077 & 0.0010276399084673 & 0.00584375\\\\0.01596875 & 0.00370198797582793 & 0.764984086499753 & 0.0971848591624002 & 0.0745326755244193 & 0.000379533843729489 & 0.0535918569938703 & 0.02465625\\\\0.0039375 & 0.0145940820193997 & 0.062806434905701 & 0.737548185210496 & -0.00299426692510076 & 0.0663412670120981 & 0.0243605477774052 & 0.05753125\\\\0.0294375 & 0.00776267231247592 & 0.0794401398578647 & 0.00666070424497192 & 0.778703437829659 & 0.0669299683811889 & 0.0577530773738391 & 0.00621875\\\\0.00840625 & 0.0264994846266034 & 0.00234914046736696 & 0.0773625825482996 & 0.0408388749060296 & 0.756372874965224 & 0.00488954248647564 & 0.05590625\\\\0.01140625 & 0.0207189036209163 & 0.031797346017031 & 0.00351213217337041 & 0.0154525003620527 & 0.0252366572682354 & 0.811594960558394 & 0.07090625\\\\0.015875 & 0.00859285800758286 & 0.00951458340406811 & 0.0312557879181048 & 0.022486308588349 & 0.014649389213238 & 0.0414073228686573 & 0.7773125\\end{matrix}\\right]$"
      ],
      "text/plain": [
       "Matrix([\n",
       "[0.87196875,  0.0789706454838864,   0.0488490403088494, 0.00312956912563146,   0.0566490642072641,   0.0109328788414775,   0.005375052032891,   0.001625],\n",
       "[     0.043,   0.839159365953307, 0.000259228539365487,   0.043346179616725,   0.0143314055073271,   0.0591574304748077,  0.0010276399084673, 0.00584375],\n",
       "[0.01596875, 0.00370198797582793,    0.764984086499753,  0.0971848591624002,   0.0745326755244193, 0.000379533843729489,  0.0535918569938703, 0.02465625],\n",
       "[ 0.0039375,  0.0145940820193997,    0.062806434905701,   0.737548185210496, -0.00299426692510076,   0.0663412670120981,  0.0243605477774052, 0.05753125],\n",
       "[ 0.0294375, 0.00776267231247592,   0.0794401398578647, 0.00666070424497192,    0.778703437829659,   0.0669299683811889,  0.0577530773738391, 0.00621875],\n",
       "[0.00840625,  0.0264994846266034,  0.00234914046736696,  0.0773625825482996,   0.0408388749060296,    0.756372874965224, 0.00488954248647564, 0.05590625],\n",
       "[0.01140625,  0.0207189036209163,    0.031797346017031, 0.00351213217337041,   0.0154525003620527,   0.0252366572682354,   0.811594960558394, 0.07090625],\n",
       "[  0.015875, 0.00859285800758286,  0.00951458340406811,  0.0312557879181048,    0.022486308588349,    0.014649389213238,  0.0414073228686573,  0.7773125]])"
      ]
     },
     "execution_count": 25,
     "metadata": {},
     "output_type": "execute_result"
    }
   ],
   "source": [
    "Matrix(C_itself)"
   ]
  },
  {
   "cell_type": "code",
   "execution_count": 26,
   "metadata": {},
   "outputs": [
    {
     "data": {
      "text/plain": [
       "0.9996182309285547"
      ]
     },
     "execution_count": 26,
     "metadata": {},
     "output_type": "execute_result"
    }
   ],
   "source": [
    "np.linalg.det(np.abs(trotterized)**2)"
   ]
  },
  {
   "cell_type": "code",
   "execution_count": 27,
   "metadata": {},
   "outputs": [],
   "source": [
    "\n",
    "for base in qcs_basis:\n",
    "    \n",
    "    '''\n",
    "    base.remove_final_measurements()\n",
    "\n",
    "    base_matrix = np.matrix(matrix_from_cirquit(base, type=\"numpy\"))\n",
    "    base_matrix_H = base_matrix.getH()\n",
    "\n",
    "    C_aus_itself = np.linalg.multi_dot([U_tilde_qiskit, base_matrix, np.linalg.inv(U_tilde_qiskit), C_itself,  base_matrix_H])\n",
    "    #C_aus_itself = np.linalg.multi_dot([base_matrix, U_tilde_qiskit, np.linalg.inv(U_tilde_qiskit), C_itself])\n",
    "    C_aus_identity = np.dot(base_matrix, C_identity).dot(base_matrix_H)\n",
    "\n",
    "    C_matrices_identity.append(np.asarray(C_aus_identity))\n",
    "    C_matrices_itself.append(np.asarray(C_aus_itself))\n",
    "    '''\n",
    "\n",
    "    base.remove_final_measurements()\n",
    "\n",
    "    base_matrix_amplitudes = matrix_from_cirquit(base, type=\"numpy\")\n",
    "    base_matrix_amplitudes_inverse = np.linalg.inv(base_matrix_amplitudes)\n",
    "    \n",
    "    base_matrix = np.abs(base_matrix_amplitudes)**2\n",
    "    base_matrix_inverse = np.abs(base_matrix_amplitudes_inverse)**2\n",
    "\n",
    "    C_aus_itself = np.linalg.multi_dot([base_matrix, C_itself,  base_matrix_inverse])\n",
    "    #C_aus_itself = np.linalg.multi_dot([U_tilde_qiskit, base_matrix, np.linalg.inv(U_tilde_qiskit), C_itself,  base_matrix_inverse])\n",
    "    #C_aus_itself = np.linalg.multi_dot([U_tilde_qiskit, base_matrix, np.linalg.inv(U_tilde_qiskit), C_itself,  np.transpose(base_matrix)])\n",
    "    \n",
    "\n",
    "    #C_aus_identity = np.linalg.multi_dot([U_tilde_qiskit, base_matrix, np.linalg.inv(U_tilde_qiskit), C_identity,  base_matrix_inverse])\n",
    "    C_aus_identity = np.linalg.multi_dot([base_matrix, C_identity, base_matrix_inverse])\n",
    "\n",
    "    C_matrices_identity.append(np.asarray(C_aus_identity))\n",
    "    C_matrices_itself.append(np.asarray(C_aus_itself))"
   ]
  },
  {
   "cell_type": "code",
   "execution_count": 28,
   "metadata": {},
   "outputs": [],
   "source": [
    "from copy import deepcopy\n",
    "\n",
    "meas_fitters_identity = []\n",
    "meas_fitters_itself = []\n",
    "\n",
    "for C_new in C_matrices_identity:\n",
    "    meas_fitter_our_aus = deepcopy(meas_fitter_our_identity)\n",
    "    meas_fitter_our_aus._tens_fitt.cal_matrices[0]=C_new\n",
    "\n",
    "    meas_fitters_identity.append(meas_fitter_our_aus)\n",
    "\n",
    "for C_new in C_matrices_itself:\n",
    "    meas_fitter_our_aus = deepcopy(meas_fitter_our_itself)\n",
    "    meas_fitter_our_aus._tens_fitt.cal_matrices[0]=C_new\n",
    "\n",
    "    meas_fitters_itself.append(meas_fitter_our_aus)"
   ]
  },
  {
   "cell_type": "code",
   "execution_count": 29,
   "metadata": {},
   "outputs": [],
   "source": [
    "target_state = (One^One^Zero).to_matrix()\n",
    "#target_state = (Zero^One^One).to_matrix()\n",
    "\n",
    "\n",
    "fids=np.zeros(4)\n",
    "\n",
    "raw_res=deepcopy(job_tomo.result())\n",
    "qiskit_res=deepcopy(raw_res)\n",
    "identity_res=deepcopy(raw_res)\n",
    "itself_res=deepcopy(raw_res)"
   ]
  },
  {
   "cell_type": "code",
   "execution_count": 30,
   "metadata": {},
   "outputs": [
    {
     "data": {
      "text/plain": [
       "{'000': 174,\n",
       " '001': 47,\n",
       " '010': 1790,\n",
       " '011': 518,\n",
       " '100': 1802,\n",
       " '101': 130,\n",
       " '110': 26306,\n",
       " '111': 1233}"
      ]
     },
     "execution_count": 30,
     "metadata": {},
     "output_type": "execute_result"
    }
   ],
   "source": [
    "raw_res.get_counts(-1)"
   ]
  },
  {
   "cell_type": "code",
   "execution_count": 31,
   "metadata": {},
   "outputs": [],
   "source": [
    "for i in range(27):\n",
    "\n",
    "    old_counts=raw_res.get_counts(i)\n",
    "    new_counts_qiskit = meas_fitter_qiskit.filter.apply(old_counts, method=\"least_squares\")\n",
    "    qiskit_res.results[i].data.counts = new_counts_qiskit\n",
    "\n",
    "    old_counts=raw_res.get_counts(i)\n",
    "    \n",
    "    new_counts_id = meas_fitters_identity[i].filter.apply(old_counts, method=\"least_squares\")\n",
    "    identity_res.results[i].data.counts = new_counts_id\n",
    "\n",
    "    new_counts_it = meas_fitters_itself[i].filter.apply(old_counts, method=\"least_squares\")\n",
    "    itself_res.results[i].data.counts = new_counts_it"
   ]
  },
  {
   "cell_type": "code",
   "execution_count": 32,
   "metadata": {},
   "outputs": [
    {
     "data": {
      "text/plain": [
       "{'000': 174,\n",
       " '001': 47,\n",
       " '010': 1790,\n",
       " '011': 518,\n",
       " '100': 1802,\n",
       " '101': 130,\n",
       " '110': 26306,\n",
       " '111': 1233}"
      ]
     },
     "execution_count": 32,
     "metadata": {},
     "output_type": "execute_result"
    }
   ],
   "source": [
    "raw_res.get_counts(-1)"
   ]
  },
  {
   "cell_type": "code",
   "execution_count": 33,
   "metadata": {},
   "outputs": [
    {
     "data": {
      "text/plain": [
       "{'000': 2.6949112351503256e-10,\n",
       " '001': 2.19917710471448e-09,\n",
       " '010': 8.72395748812009e-09,\n",
       " '110': 32000.0}"
      ]
     },
     "execution_count": 33,
     "metadata": {},
     "output_type": "execute_result"
    }
   ],
   "source": [
    "itself_res.get_counts(-1)"
   ]
  },
  {
   "cell_type": "code",
   "execution_count": 34,
   "metadata": {},
   "outputs": [
    {
     "data": {
      "text/plain": [
       "{'011': 2.4446533859304384e-08,\n",
       " '100': 1.66473994322772e-08,\n",
       " '101': 5.167290878017733e-09,\n",
       " '110': 31999.99999995646,\n",
       " '111': 9.905301724847331e-10}"
      ]
     },
     "execution_count": 34,
     "metadata": {},
     "output_type": "execute_result"
    }
   ],
   "source": [
    "identity_res.get_counts(-1)"
   ]
  },
  {
   "cell_type": "code",
   "execution_count": 35,
   "metadata": {},
   "outputs": [
    {
     "data": {
      "text/plain": [
       "array([0.81782616, 0.92249187, 0.9999839 , 0.99999826])"
      ]
     },
     "execution_count": 35,
     "metadata": {},
     "output_type": "execute_result"
    }
   ],
   "source": [
    "fids[0] = fidelity_count(raw_res, qcs_tomo, target_state)\n",
    "fids[1] = fidelity_count(qiskit_res, qcs_tomo, target_state)\n",
    "fids[2] = fidelity_count(identity_res, qcs_tomo, target_state)\n",
    "fids[3] = fidelity_count(itself_res, qcs_tomo, target_state)\n",
    "\n",
    "fids"
   ]
  },
  {
   "cell_type": "code",
   "execution_count": 36,
   "metadata": {},
   "outputs": [],
   "source": [
    "import numpy as np\n",
    "import matplotlib.pyplot as plt\n",
    "plt.rcParams.update({'font.size': 16})  # enlarge matplotlib fonts\n",
    "\n",
    "# Import qubit states Zero (|0>) and One (|1>), and Pauli operators (X, Y, Z)\n",
    "from qiskit.opflow import Zero, One, I, X, Y, Z\n",
    "\n",
    "# Suppress warnings\n",
    "import warnings\n",
    "warnings.filterwarnings('ignore')\n",
    "\n",
    "# Returns the matrix representation of the XXX Heisenberg model for 3 spin-1/2 particles in a line\n",
    "def H_heis3():\n",
    "    # Interactions (I is the identity matrix; X, Y, and Z are Pauli matricies; ^ is a tensor product)\n",
    "    XXs = (I^X^X) + (X^X^I)\n",
    "    YYs = (I^Y^Y) + (Y^Y^I)\n",
    "    ZZs = (I^Z^Z) + (Z^Z^I)\n",
    "    \n",
    "    # Sum interactions\n",
    "    H = XXs + YYs + ZZs\n",
    "    \n",
    "    # Return Hamiltonian\n",
    "    return H\n",
    "\n",
    "# Returns the matrix representation of U_heis3(t) for a given time t assuming an XXX Heisenberg Hamiltonian for 3 spins-1/2 particles in a line\n",
    "def U_heis3(t):\n",
    "    # Compute XXX Hamiltonian for 3 spins in a line\n",
    "    H = H_heis3()\n",
    "    \n",
    "    # Return the exponential of -i multipled by time t multipled by the 3 spin XXX Heisenberg Hamilonian \n",
    "    return (t * H).exp_i()"
   ]
  },
  {
   "cell_type": "code",
   "execution_count": 37,
   "metadata": {},
   "outputs": [
    {
     "data": {
      "text/plain": [
       "1.0000000000000004"
      ]
     },
     "execution_count": 37,
     "metadata": {},
     "output_type": "execute_result"
    }
   ],
   "source": [
    "initial_state = One^One^Zero\n",
    "\n",
    "#((initial_state @ U_heis3(float(time)) @ initial_state).eval())**2\n",
    "np.abs((~initial_state @ U_heis3(float(time)) @ initial_state).eval())**2"
   ]
  },
  {
   "cell_type": "code",
   "execution_count": 38,
   "metadata": {},
   "outputs": [
    {
     "data": {
      "text/plain": [
       "array([[ 0.70710678,  0.70710678],\n",
       "       [ 0.70710678, -0.70710678]])"
      ]
     },
     "execution_count": 38,
     "metadata": {},
     "output_type": "execute_result"
    }
   ],
   "source": [
    "matrix=1/np.sqrt(2)*np.array([[1,1],[1,-1]])\n",
    "np.linalg.inv(matrix)"
   ]
  },
  {
   "cell_type": "code",
   "execution_count": null,
   "metadata": {},
   "outputs": [],
   "source": []
  },
  {
   "cell_type": "code",
   "execution_count": null,
   "metadata": {},
   "outputs": [],
   "source": []
  }
 ],
 "metadata": {
  "interpreter": {
   "hash": "aee8b7b246df8f9039afb4144a1f6fd8d2ca17a180786b69acc140d282b71a49"
  },
  "kernelspec": {
   "display_name": "Python 3.10.2 64-bit",
   "language": "python",
   "name": "python3"
  },
  "language_info": {
   "codemirror_mode": {
    "name": "ipython",
    "version": 3
   },
   "file_extension": ".py",
   "mimetype": "text/x-python",
   "name": "python",
   "nbconvert_exporter": "python",
   "pygments_lexer": "ipython3",
   "version": "3.10.2"
  },
  "orig_nbformat": 4
 },
 "nbformat": 4,
 "nbformat_minor": 2
}
