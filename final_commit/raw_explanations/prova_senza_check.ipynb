{
 "cells": [
  {
   "cell_type": "code",
   "execution_count": 40,
   "metadata": {},
   "outputs": [
    {
     "name": "stdout",
     "output_type": "stream",
     "text": [
      "The autoreload extension is already loaded. To reload it, use:\n",
      "  %reload_ext autoreload\n"
     ]
    },
    {
     "name": "stderr",
     "output_type": "stream",
     "text": [
      "ibmqfactory.load_account:WARNING:2022-04-11 23:32:33,625: Credentials are already in use. The existing account in the session will be replaced.\n"
     ]
    }
   ],
   "source": [
    "from lib.functions0 import *\n",
    "from lib.utility import *\n",
    "import numpy as np\n",
    "from scipy.linalg import expm\n",
    "from qiskit.utils.mitigation.fitters import CompleteMeasFitter\n",
    "from qiskit.ignis.mitigation.measurement import  complete_meas_cal\n",
    "from qiskit import Aer, assemble, QuantumCircuit, QuantumRegister, ClassicalRegister, IBMQ, transpile, execute\n",
    "from qiskit.providers.aer import AerSimulator, QasmSimulator\n",
    "from qiskit.opflow import Zero, One, I, X, Y, Z\n",
    "from qiskit.ignis.verification.tomography import state_tomography_circuits, StateTomographyFitter\n",
    "from qiskit.quantum_info import state_fidelity\n",
    "import matplotlib.pyplot as plt\n",
    "%load_ext autoreload\n",
    "%autoreload 2\n",
    "import warnings\n",
    "warnings.filterwarnings('ignore')\n",
    "IBMQ.load_account()\n",
    "\n",
    "provider = IBMQ.get_provider(hub='ibm-q-community',\n",
    "                            group='ibmquantumawards', \n",
    "                            project='open-science-22')\n",
    "backend_sim_jakarta = QasmSimulator.from_backend(provider.get_backend('ibmq_jakarta'))\n",
    "backend_real_jakarta = provider.get_backend('ibmq_jakarta')\n",
    "backend_sim = Aer.get_backend('qasm_simulator')\n",
    "\n",
    "#provider = IBMQ.get_provider(group='open', project='main')\n",
    "#backend_real_belem = provider.get_backend('ibmq_lima')\n",
    "\n"
   ]
  },
  {
   "cell_type": "code",
   "execution_count": 41,
   "metadata": {},
   "outputs": [
    {
     "data": {
      "text/plain": [
       "'/Library/Frameworks/Python.framework/Versions/3.10/lib/python3.10/site-packages/qiskit/utils/mitigation/fitters.py'"
      ]
     },
     "execution_count": 41,
     "metadata": {},
     "output_type": "execute_result"
    }
   ],
   "source": [
    "import qiskit\n",
    "qiskit.utils.mitigation.fitters.__file__"
   ]
  },
  {
   "cell_type": "code",
   "execution_count": 79,
   "metadata": {},
   "outputs": [
    {
     "data": {
      "text/latex": [
       "$\\displaystyle \\left[\\begin{matrix}-1.0 & 0 & 0 & 0 & 0 & 0 & 0 & 0\\\\0 & 0.333 + 0.000129 i & -0.667 + 0.000129 i & 0 & -0.667 - 0.000258 i & 0 & 0 & 0\\\\0 & -0.667 + 0.000129 i & 0.333 - 0.000258 i & 0 & -0.667 + 0.000129 i & 0 & 0 & 0\\\\0 & 0 & 0 & 0.333 + 0.000129 i & 0 & -0.667 + 0.000129 i & -0.667 - 0.000258 i & 0\\\\0 & -0.667 - 0.000258 i & -0.667 + 0.000129 i & 0 & 0.333 + 0.000129 i & 0 & 0 & 0\\\\0 & 0 & 0 & -0.667 + 0.000129 i & 0 & 0.333 - 0.000258 i & -0.667 + 0.000129 i & 0\\\\0 & 0 & 0 & -0.667 - 0.000258 i & 0 & -0.667 + 0.000129 i & 0.333 + 0.000129 i & 0\\\\0 & 0 & 0 & 0 & 0 & 0 & 0 & -1.0\\end{matrix}\\right]$"
      ],
      "text/plain": [
       "Matrix([\n",
       "[-1.0,                   0,                   0,                   0,                   0,                   0,                   0,    0],\n",
       "[   0,  0.333 + 0.000129*I, -0.667 + 0.000129*I,                   0, -0.667 - 0.000258*I,                   0,                   0,    0],\n",
       "[   0, -0.667 + 0.000129*I,  0.333 - 0.000258*I,                   0, -0.667 + 0.000129*I,                   0,                   0,    0],\n",
       "[   0,                   0,                   0,  0.333 + 0.000129*I,                   0, -0.667 + 0.000129*I, -0.667 - 0.000258*I,    0],\n",
       "[   0, -0.667 - 0.000258*I, -0.667 + 0.000129*I,                   0,  0.333 + 0.000129*I,                   0,                   0,    0],\n",
       "[   0,                   0,                   0, -0.667 + 0.000129*I,                   0,  0.333 - 0.000258*I, -0.667 + 0.000129*I,    0],\n",
       "[   0,                   0,                   0, -0.667 - 0.000258*I,                   0, -0.667 + 0.000129*I,  0.333 + 0.000129*I,    0],\n",
       "[   0,                   0,                   0,                   0,                   0,                   0,                   0, -1.0]])"
      ]
     },
     "execution_count": 79,
     "metadata": {},
     "output_type": "execute_result"
    }
   ],
   "source": [
    "n_steps=100\n",
    "time=np.pi/2\n",
    "#initial_state={\"110\": 1}\n",
    "shots = 20000\n",
    "backend = backend_sim_jakarta\n",
    "\n",
    "X = np.array([[0,1],[1,0]])  #defining the pauli matrices\n",
    "Y = np.array([[0,-1j],[1j,0]])\n",
    "Z = np.array([[1,0],[0,-1]])\n",
    "Id = np.eye(2)\n",
    "\n",
    "# defining the hamiltonian divided in: \n",
    "#       - H1: first two qubits interactions.\n",
    "#       - H2: second two qubits interactions.\n",
    "\n",
    "H1 = np.kron(X, np.kron(X,Id)) + np.kron(Y, np.kron(Y,Id)) + np.kron(Z, np.kron(Z,Id)) \n",
    "H2 = np.kron(Id, np.kron(X,X)) + np.kron(Id, np.kron(Y,Y)) + np.kron(Id, np.kron(Z,Z)) \n",
    "\n",
    "# building numerically the trotter step matrix, and the whole operator (trotter step)^n_steps.\n",
    "\n",
    "trotter_step_matrix_= expm(-time/n_steps*H1*1j).dot(expm(-time/n_steps*H2*1j))\n",
    "trotterized = np.linalg.matrix_power(trotter_step_matrix_, n_steps)\n",
    "Matrix(trotterized).n(3, chop=True)"
   ]
  },
  {
   "cell_type": "code",
   "execution_count": 80,
   "metadata": {},
   "outputs": [
    {
     "data": {
      "image/png": "[encoded data removed]",
      "text/plain": [
       "<Figure size 1350.8x204.68 with 1 Axes>"
      ]
     },
     "execution_count": 80,
     "metadata": {},
     "output_type": "execute_result"
    }
   ],
   "source": [
    "# phase_1_1, phase_2_1, phase_1_2, phase_2_2, a1, a2 = get_gates_parameters(trotterized, initial_state={\"110\": 1.0})\n",
    "\n",
    "A0 = trotterized[3, 6]\n",
    "A1 = trotterized[5, 6]\n",
    "A2 = trotterized[6, 6]\n",
    "\n",
    "r1=float(atan2(im(A0),re(A0))+atan2(im(A2),re(A2)))/2\n",
    "r2=0\n",
    "f1=float(atan2(im(A2),re(A2))-atan2(im(A1),re(A1))-np.pi)/2\n",
    "f2=float((atan2(im(A2),re(A2))-atan2(im(A0),re(A0)))/2-f1)\n",
    "a1=float(acos(abs(A2)))\n",
    "a2=float(acos(abs(A1)/sin(a1)))\n",
    "\n",
    "M1_qc = fixed_magnetization_two_qubit_gate(r1,f1,a1)\n",
    "M2_qc = fixed_magnetization_two_qubit_gate(r2,f2,a2)\n",
    "\n",
    "qr_U = QuantumRegister(3 ,name=\"q\")\n",
    "qc_U = QuantumCircuit(qr_U, name=\"U\")\n",
    "\n",
    "qc_U.append(M1_qc, [qr_U[0],qr_U[1]])\n",
    "qc_U.append(M2_qc, [qr_U[1],qr_U[2]])\n",
    "\n",
    "qc_U=transpile(qc_U, basis_gates=[\"cx\",\"rz\",\"x\",\"sx\"])\n",
    "qc_U.draw(output=\"mpl\")"
   ]
  },
  {
   "cell_type": "code",
   "execution_count": 81,
   "metadata": {},
   "outputs": [
    {
     "data": {
      "text/latex": [
       "$\\displaystyle \\left[\\begin{matrix}0.999999924937793 - 0.000387458912036569 i & -1.4465747670839 \\cdot 10^{-16} - 6.12630955248374 \\cdot 10^{-17} i & 8.24814415305182 \\cdot 10^{-17} - 4.32600537053611 \\cdot 10^{-17} i & 4.1634099270332 \\cdot 10^{-17} + 1.75734092321137 \\cdot 10^{-20} i & -4.72859494132749 \\cdot 10^{-17} + 4.33306168435856 \\cdot 10^{-17} i & -1.55737677535034 \\cdot 10^{-17} - 3.78171014497583 \\cdot 10^{-21} i & 4.81608103155982 \\cdot 10^{-18} + 5.52236521085026 \\cdot 10^{-21} i & -2.6324058 \\cdot 10^{-33} + 2.5896848 \\cdot 10^{-33} i\\\\-1.4718793565973 \\cdot 10^{-17} - 6.11468059032322 \\cdot 10^{-17} i & 0.333333283254808 - 0.000129152960969951 i & 0.942808979670725 + 0.000365303063852142 i & -7.60981659821795 \\cdot 10^{-17} + 4.33069368192824 \\cdot 10^{-17} i & 2.982223 \\cdot 10^{-33} + 7.9322661 \\cdot 10^{-33} i & -1.21774153146669 \\cdot 10^{-17} + 1.44384170502726 \\cdot 10^{-17} i & -7.77570174300182 \\cdot 10^{-17} + 4.07922313454456 \\cdot 10^{-17} i & -4.55670750006694 \\cdot 10^{-18} + 2.49443475287084 \\cdot 10^{-22} i\\\\1.74808150379203 \\cdot 10^{-16} - 6.11830973839661 \\cdot 10^{-17} i & 0.666672729820377 + 0.000129152960974718 i & -0.235704277955121 - 0.000228314788169758 i & 1.55609520582507 \\cdot 10^{-17} + 4.3315199578126 \\cdot 10^{-17} i & -0.707100290481156 + 0.000273972329815538 i & 1.05717813741291 \\cdot 10^{-16} + 1.4451450104695 \\cdot 10^{-17} i & -6.81242530541874 \\cdot 10^{-17} + 4.07912473287731 \\cdot 10^{-17} i & -2.94394858977658 \\cdot 10^{-17} - 1.24261637055006 \\cdot 10^{-20} i\\\\2.38022119164616 \\cdot 10^{-17} + 1.95209457699288 \\cdot 10^{-20} i & -6.30699166411729 \\cdot 10^{-17} - 6.12888665695073 \\cdot 10^{-17} i & -9.81055032757314 \\cdot 10^{-18} - 4.33183274220266 \\cdot 10^{-17} i & -0.707112887021425 - 0.000684944415998943 i & 1.04076639872539 \\cdot 10^{-17} + 4.32369274616295 \\cdot 10^{-17} i & -0.235700079108681 + 9.13241030733425 \\cdot 10^{-5} i & -0.666660553434424 - 0.000258305921952518 i & -8.47686600305882 \\cdot 10^{-18} - 3.85583521670499 \\cdot 10^{-20} i\\\\-1.65486107363473 \\cdot 10^{-16} + 7.68842766603984 \\cdot 10^{-20} i & -0.666660553434424 + 0.000258305921949986 i & 0.235700079108681 + 9.13241030742376 \\cdot 10^{-5} i & -1.55858399996863 \\cdot 10^{-17} - 4.33053598685545 \\cdot 10^{-17} i & -0.707112887021425 + 0.000684944415996257 i & 9.28384784248235 \\cdot 10^{-17} + 7.2125416822612 \\cdot 10^{-17} i & -4.84103269561448 \\cdot 10^{-17} + 2.04253183479297 \\cdot 10^{-17} i & -2.94400241950262 \\cdot 10^{-17} + 4.68386027996422 \\cdot 10^{-21} i\\\\-2.38017858483061 \\cdot 10^{-17} - 5.6872299234966 \\cdot 10^{-21} i & 4.12548277616981 \\cdot 10^{-17} + 4.08586457333887 \\cdot 10^{-17} i & -6.64738851772958 \\cdot 10^{-17} - 1.44016232531338 \\cdot 10^{-17} i & 0.707100290481156 + 0.000273972329818223 i & 1.04329810669234 \\cdot 10^{-17} + 4.32316584954672 \\cdot 10^{-17} i & -0.235704277955121 + 0.000228314788168863 i & -0.666672729820377 + 0.000129152960972186 i & 8.67437267387784 \\cdot 10^{-17} - 6.12247580712897 \\cdot 10^{-17} i\\\\4.55669990634263 \\cdot 10^{-18} - 2.58821929668983 \\cdot 10^{-20} i & 3.01137889378857 \\cdot 10^{-17} + 4.08042280250676 \\cdot 10^{-17} i & -1.20828894090495 \\cdot 10^{-17} - 1.44430195872589 \\cdot 10^{-17} i & -1.7724691 \\cdot 10^{-33} - 3.445116 \\cdot 10^{-34} i & -1.87094795232229 \\cdot 10^{-16} + 4.33610280755853 \\cdot 10^{-17} i & -0.942808979670725 + 0.000365303063848561 i & 0.333333283254808 + 0.000129152960971217 i & -2.20419069820678 \\cdot 10^{-17} - 6.12435848223042 \\cdot 10^{-17} i\\\\2.4905411 \\cdot 10^{-33} - 1.4779112 \\cdot 10^{-33} i & 5.97666775764242 \\cdot 10^{-19} - 5.25371154168962 \\cdot 10^{-22} i & 2.36785424359716 \\cdot 10^{-17} - 6.3181159368361 \\cdot 10^{-21} i & -4.07675502842652 \\cdot 10^{-17} - 4.33307528582975 \\cdot 10^{-17} i & -3.36611148122924 \\cdot 10^{-17} - 8.04303091536256 \\cdot 10^{-21} i & 9.52453596855631 \\cdot 10^{-17} + 7.21857010792044 \\cdot 10^{-17} i & -5.47546018431528 \\cdot 10^{-17} + 2.04534508642812 \\cdot 10^{-17} i & 0.999999924937793 + 0.000387458912040367 i\\end{matrix}\\right]$"
      ],
      "text/plain": [
       "Matrix([\n",
       "[    0.999999924937793 - 0.000387458912036569*I,  -1.4465747670839e-16 - 6.12630955248374e-17*I,  8.24814415305182e-17 - 4.32600537053611e-17*I,   4.1634099270332e-17 + 1.75734092321137e-20*I, -4.72859494132749e-17 + 4.33306168435856e-17*I, -1.55737677535034e-17 - 3.78171014497583e-21*I,  4.81608103155982e-18 + 5.52236521085026e-21*I,               -2.6324058e-33 + 2.5896848e-33*I],\n",
       "[ -1.4718793565973e-17 - 6.11468059032322e-17*I,     0.333333283254808 - 0.000129152960969951*I,     0.942808979670725 + 0.000365303063852142*I, -7.60981659821795e-17 + 4.33069368192824e-17*I,                 2.982223e-33 + 7.9322661e-33*I, -1.21774153146669e-17 + 1.44384170502726e-17*I, -7.77570174300182e-17 + 4.07922313454456e-17*I, -4.55670750006694e-18 + 2.49443475287084e-22*I],\n",
       "[ 1.74808150379203e-16 - 6.11830973839661e-17*I,     0.666672729820377 + 0.000129152960974718*I,    -0.235704277955121 - 0.000228314788169758*I,   1.55609520582507e-17 + 4.3315199578126e-17*I,    -0.707100290481156 + 0.000273972329815538*I,   1.05717813741291e-16 + 1.4451450104695e-17*I, -6.81242530541874e-17 + 4.07912473287731e-17*I, -2.94394858977658e-17 - 1.24261637055006e-20*I],\n",
       "[ 2.38022119164616e-17 + 1.95209457699288e-20*I, -6.30699166411729e-17 - 6.12888665695073e-17*I, -9.81055032757314e-18 - 4.33183274220266e-17*I,    -0.707112887021425 - 0.000684944415998943*I,  1.04076639872539e-17 + 4.32369274616295e-17*I,     -0.235700079108681 + 9.13241030733425e-5*I,    -0.666660553434424 - 0.000258305921952518*I, -8.47686600305882e-18 - 3.85583521670499e-20*I],\n",
       "[-1.65486107363473e-16 + 7.68842766603984e-20*I,    -0.666660553434424 + 0.000258305921949986*I,      0.235700079108681 + 9.13241030742376e-5*I, -1.55858399996863e-17 - 4.33053598685545e-17*I,    -0.707112887021425 + 0.000684944415996257*I,   9.28384784248235e-17 + 7.2125416822612e-17*I, -4.84103269561448e-17 + 2.04253183479297e-17*I, -2.94400241950262e-17 + 4.68386027996422e-21*I],\n",
       "[ -2.38017858483061e-17 - 5.6872299234966e-21*I,  4.12548277616981e-17 + 4.08586457333887e-17*I, -6.64738851772958e-17 - 1.44016232531338e-17*I,     0.707100290481156 + 0.000273972329818223*I,  1.04329810669234e-17 + 4.32316584954672e-17*I,    -0.235704277955121 + 0.000228314788168863*I,    -0.666672729820377 + 0.000129152960972186*I,  8.67437267387784e-17 - 6.12247580712897e-17*I],\n",
       "[ 4.55669990634263e-18 - 2.58821929668983e-20*I,  3.01137889378857e-17 + 4.08042280250676e-17*I, -1.20828894090495e-17 - 1.44430195872589e-17*I,                -1.7724691e-33 - 3.445116e-34*I, -1.87094795232229e-16 + 4.33610280755853e-17*I,    -0.942808979670725 + 0.000365303063848561*I,     0.333333283254808 + 0.000129152960971217*I, -2.20419069820678e-17 - 6.12435848223042e-17*I],\n",
       "[               2.4905411e-33 - 1.4779112e-33*I,  5.97666775764242e-19 - 5.25371154168962e-22*I,   2.36785424359716e-17 - 6.3181159368361e-21*I, -4.07675502842652e-17 - 4.33307528582975e-17*I, -3.36611148122924e-17 - 8.04303091536256e-21*I,  9.52453596855631e-17 + 7.21857010792044e-17*I, -5.47546018431528e-17 + 2.04534508642812e-17*I,     0.999999924937793 + 0.000387458912040367*I]])"
      ]
     },
     "execution_count": 81,
     "metadata": {},
     "output_type": "execute_result"
    }
   ],
   "source": [
    "U_ideal=matrix_from_circuit(qc_U, type=\"numpy\")\n",
    "Matrix(U_ideal)"
   ]
  },
  {
   "cell_type": "code",
   "execution_count": 82,
   "metadata": {},
   "outputs": [
    {
     "data": {
      "image/png": "[encoded data removed]",
      "text/plain": [
       "<Figure size 519.393x264.88 with 1 Axes>"
      ]
     },
     "execution_count": 82,
     "metadata": {},
     "output_type": "execute_result"
    }
   ],
   "source": [
    "qr_evo = QuantumRegister(3, name=\"q\")\n",
    "qc_evo = QuantumCircuit(qr_evo, name=\"U\")\n",
    "\n",
    "qc_evo.x([qr_evo[1],qr_evo[2]])\n",
    "qc_evo.append(qc_U, qr_evo)\n",
    "\n",
    "qcs_tomo = state_tomography_circuits(qc_evo, qr_evo)\n",
    "qcs_tomo[3].draw(output=\"mpl\")"
   ]
  },
  {
   "cell_type": "code",
   "execution_count": 83,
   "metadata": {},
   "outputs": [],
   "source": [
    "qr_cal = QuantumRegister(3)\n",
    "cal_circ, state_labels = complete_meas_cal(qubit_list=[0,1,2], qr=qr_cal, circlabel='mcal')"
   ]
  },
  {
   "cell_type": "code",
   "execution_count": 84,
   "metadata": {},
   "outputs": [
    {
     "data": {
      "text/html": [
       "<pre style=\"word-wrap: normal;white-space: pre;background: #fff0;line-height: 1.1;font-family: &quot;Courier New&quot;,Courier,monospace\">          ░ ┌─┐      \n",
       "q2986_0: ─░─┤M├──────\n",
       "          ░ └╥┘┌─┐   \n",
       "q2986_1: ─░──╫─┤M├───\n",
       "          ░  ║ └╥┘┌─┐\n",
       "q2986_2: ─░──╫──╫─┤M├\n",
       "          ░  ║  ║ └╥┘\n",
       "  c39: 3/════╩══╩══╩═\n",
       "             0  1  2 </pre>"
      ],
      "text/plain": [
       "          ░ ┌─┐      \n",
       "q2986_0: ─░─┤M├──────\n",
       "          ░ └╥┘┌─┐   \n",
       "q2986_1: ─░──╫─┤M├───\n",
       "          ░  ║ └╥┘┌─┐\n",
       "q2986_2: ─░──╫──╫─┤M├\n",
       "          ░  ║  ║ └╥┘\n",
       "  c39: 3/════╩══╩══╩═\n",
       "             0  1  2 "
      ]
     },
     "execution_count": 84,
     "metadata": {},
     "output_type": "execute_result"
    }
   ],
   "source": [
    "cal_circ[0].draw()"
   ]
  },
  {
   "cell_type": "code",
   "execution_count": 85,
   "metadata": {},
   "outputs": [
    {
     "data": {
      "text/plain": [
       "['000', '001', '010', '011', '100', '101', '110', '111']"
      ]
     },
     "execution_count": 85,
     "metadata": {},
     "output_type": "execute_result"
    }
   ],
   "source": [
    "state_labels"
   ]
  },
  {
   "cell_type": "code",
   "execution_count": 86,
   "metadata": {},
   "outputs": [],
   "source": [
    "calib_circuits_identity = []\n",
    "calib_circuits_itself = []\n",
    "\n",
    "for i in state_labels:\n",
    "\n",
    "    cr_cal_itself = ClassicalRegister(3)\n",
    "    qr_cal_itself = QuantumRegister(3)\n",
    "    qc_cal_itself = QuantumCircuit(qr_cal_itself, cr_cal_itself, name=f\"mcalcal_{i}\")\n",
    "\n",
    "    cr_cal_id = ClassicalRegister(3)\n",
    "    qr_cal_id = QuantumRegister(3)\n",
    "    qc_cal_id = QuantumCircuit(qr_cal_id, cr_cal_id, name=f\"mcalcal_{i}\")\n",
    "\n",
    "    qc_cal_id.append(qc_U, qr_cal_id)\n",
    "\n",
    "    for k in range(3):\n",
    "        if i[::-1][k] == \"1\":\n",
    "            qc_cal_itself.x(qr_cal_itself[k])\n",
    "            qc_cal_id.x(qr_cal_id[k])\n",
    "        \n",
    "    qc_cal_itself.append(qc_U, qr_cal_itself)\n",
    "    \n",
    "    qc_cal_id.measure(qr_cal_id, cr_cal_id)\n",
    "    qc_cal_itself.measure(qr_cal_itself, cr_cal_itself)\n",
    "\n",
    "    calib_circuits_identity.append(qc_cal_id)\n",
    "    calib_circuits_itself.append(qc_cal_itself)"
   ]
  },
  {
   "cell_type": "code",
   "execution_count": 87,
   "metadata": {},
   "outputs": [
    {
     "data": {
      "text/html": [
       "<pre style=\"word-wrap: normal;white-space: pre;background: #fff0;line-height: 1.1;font-family: &quot;Courier New&quot;,Courier,monospace\">         ┌────┐┌───┐┌─┐   \n",
       "q2994_0: ┤0   ├┤ X ├┤M├───\n",
       "         │    │├───┤└╥┘┌─┐\n",
       "q2994_1: ┤1 U ├┤ X ├─╫─┤M├\n",
       "         │    │└┬─┬┘ ║ └╥┘\n",
       "q2994_2: ┤2   ├─┤M├──╫──╫─\n",
       "         └────┘ └╥┘  ║  ║ \n",
       "  c47: 3/════════╩═══╩══╩═\n",
       "                 2   0  1 </pre>"
      ],
      "text/plain": [
       "         ┌────┐┌───┐┌─┐   \n",
       "q2994_0: ┤0   ├┤ X ├┤M├───\n",
       "         │    │├───┤└╥┘┌─┐\n",
       "q2994_1: ┤1 U ├┤ X ├─╫─┤M├\n",
       "         │    │└┬─┬┘ ║ └╥┘\n",
       "q2994_2: ┤2   ├─┤M├──╫──╫─\n",
       "         └────┘ └╥┘  ║  ║ \n",
       "  c47: 3/════════╩═══╩══╩═\n",
       "                 2   0  1 "
      ]
     },
     "execution_count": 87,
     "metadata": {},
     "output_type": "execute_result"
    }
   ],
   "source": [
    "calib_circuits_identity[3].draw()"
   ]
  },
  {
   "cell_type": "code",
   "execution_count": 88,
   "metadata": {},
   "outputs": [
    {
     "data": {
      "text/html": [
       "<pre style=\"word-wrap: normal;white-space: pre;background: #fff0;line-height: 1.1;font-family: &quot;Courier New&quot;,Courier,monospace\">         ┌───┐┌────┐┌─┐      \n",
       "q2989_0: ┤ X ├┤0   ├┤M├──────\n",
       "         └───┘│    │└╥┘┌─┐   \n",
       "q2989_1: ─────┤1 U ├─╫─┤M├───\n",
       "              │    │ ║ └╥┘┌─┐\n",
       "q2989_2: ─────┤2   ├─╫──╫─┤M├\n",
       "              └────┘ ║  ║ └╥┘\n",
       "  c42: 3/════════════╩══╩══╩═\n",
       "                     0  1  2 </pre>"
      ],
      "text/plain": [
       "         ┌───┐┌────┐┌─┐      \n",
       "q2989_0: ┤ X ├┤0   ├┤M├──────\n",
       "         └───┘│    │└╥┘┌─┐   \n",
       "q2989_1: ─────┤1 U ├─╫─┤M├───\n",
       "              │    │ ║ └╥┘┌─┐\n",
       "q2989_2: ─────┤2   ├─╫──╫─┤M├\n",
       "              └────┘ ║  ║ └╥┘\n",
       "  c42: 3/════════════╩══╩══╩═\n",
       "                     0  1  2 "
      ]
     },
     "execution_count": 88,
     "metadata": {},
     "output_type": "execute_result"
    }
   ],
   "source": [
    "calib_circuits_itself[1].draw()"
   ]
  },
  {
   "cell_type": "code",
   "execution_count": 89,
   "metadata": {},
   "outputs": [],
   "source": [
    "job_tomo=execute(qcs_tomo, backend, shots=shots, initial_layout=[0,1,2])\n",
    "\n",
    "job_cal_our_identity=execute(calib_circuits_identity, backend = backend, shots=shots, initial_layout=[0,1,2])\n",
    "\n",
    "job_cal_our_itself=execute(calib_circuits_itself, backend = backend, shots=shots, initial_layout=[0,1,2])\n",
    "\n",
    "job_cal_qiskit=execute(cal_circ, backend, shots=shots, initial_layout=[0,1,2])"
   ]
  },
  {
   "cell_type": "code",
   "execution_count": 90,
   "metadata": {},
   "outputs": [],
   "source": [
    "qiskit_raw_cal = deepcopy(job_cal_qiskit.result().get_counts())"
   ]
  },
  {
   "cell_type": "markdown",
   "metadata": {},
   "source": [
    "# Mitigation:\n",
    "\n",
    "    - building the calibration matrices"
   ]
  },
  {
   "cell_type": "code",
   "execution_count": 91,
   "metadata": {},
   "outputs": [],
   "source": [
    "meas_fitter_our_identity = CompleteMeasFitter(job_cal_our_identity.result(), state_labels=state_labels)\n",
    "meas_fitter_our_itself = CompleteMeasFitter(job_cal_our_itself.result(), state_labels=state_labels)\n",
    "meas_fitter_qiskit = CompleteMeasFitter(job_cal_qiskit.result(), state_labels=state_labels)"
   ]
  },
  {
   "cell_type": "code",
   "execution_count": 92,
   "metadata": {},
   "outputs": [
    {
     "data": {
      "text/latex": [
       "$\\displaystyle \\left[\\begin{matrix}0.93 & 0.053 & 0.058 & 0.0029 & 0.034 & 0.0016 & 0.002 & 0\\\\0.022 & 0.9 & 0.0011 & 0.055 & 0.00085 & 0.033 & 0 & 0.0019\\\\0.033 & 0.0018 & 0.91 & 0.056 & 0.0014 & 0 & 0.034 & 0.0016\\\\0.00065 & 0.032 & 0.024 & 0.88 & 0 & 0.0011 & 0.0012 & 0.033\\\\0.01 & 0 & 0.0007 & 0 & 0.91 & 0.051 & 0.057 & 0.0031\\\\0 & 0.0096 & 0 & 0 & 0.021 & 0.88 & 0.0013 & 0.057\\\\0 & 0 & 0.0096 & 0.00065 & 0.031 & 0.0014 & 0.88 & 0.052\\\\0 & 0 & 0 & 0.0083 & 0.00095 & 0.032 & 0.021 & 0.85\\end{matrix}\\right]$"
      ],
      "text/plain": [
       "Matrix([\n",
       "[   0.93,  0.053,  0.058,  0.0029,   0.034, 0.0016,  0.002,      0],\n",
       "[  0.022,    0.9, 0.0011,   0.055, 0.00085,  0.033,      0, 0.0019],\n",
       "[  0.033, 0.0018,   0.91,   0.056,  0.0014,      0,  0.034, 0.0016],\n",
       "[0.00065,  0.032,  0.024,    0.88,       0, 0.0011, 0.0012,  0.033],\n",
       "[   0.01,      0, 0.0007,       0,    0.91,  0.051,  0.057, 0.0031],\n",
       "[      0, 0.0096,      0,       0,   0.021,   0.88, 0.0013,  0.057],\n",
       "[      0,      0, 0.0096, 0.00065,   0.031, 0.0014,   0.88,  0.052],\n",
       "[      0,      0,      0,  0.0083, 0.00095,  0.032,  0.021,   0.85]])"
      ]
     },
     "execution_count": 92,
     "metadata": {},
     "output_type": "execute_result"
    }
   ],
   "source": [
    "not_migigated_qiskit = occurrences_to_matrix(qiskit_raw_cal)\n",
    "Matrix(not_migigated_qiskit).n(2, chop=True)"
   ]
  },
  {
   "cell_type": "code",
   "execution_count": 93,
   "metadata": {},
   "outputs": [],
   "source": [
    "#calib = np.linalg.multi_dot([migigated_qiskit, np.linalg.inv(not_migigated_qiskit)])\n",
    "#Matrix(calib).n(2, chop=True)"
   ]
  },
  {
   "cell_type": "code",
   "execution_count": 94,
   "metadata": {},
   "outputs": [],
   "source": [
    "U_tilde_identity=meas_fitter_our_identity.cal_matrix\n",
    "U_tilde_itself=meas_fitter_our_itself.cal_matrix\n",
    "U_tilde_qiskit=meas_fitter_qiskit.cal_matrix"
   ]
  },
  {
   "cell_type": "code",
   "execution_count": 95,
   "metadata": {},
   "outputs": [],
   "source": [
    "def matrix_from_cirquit(qc, phase=0, type=\"sympy\"):\n",
    "\n",
    "    backend = Aer.get_backend('unitary_simulator')\n",
    "    job = execute(qc, backend, shots=32000)\n",
    "    result = job.result()\n",
    "    A=result.get_unitary(qc, decimals=10)*np.exp(1j*phase)\n",
    "    if type==\"sympy\":\n",
    "        return Matrix(A)\n",
    "    else:\n",
    "        return A"
   ]
  },
  {
   "cell_type": "code",
   "execution_count": 96,
   "metadata": {},
   "outputs": [
    {
     "data": {
      "text/html": [
       "<pre style=\"word-wrap: normal;white-space: pre;background: #fff0;line-height: 1.1;font-family: &quot;Courier New&quot;,Courier,monospace\">          ░ ┌─────┐ ┌───┐      ┌─┐   \n",
       "q4124_0: ─░─┤ Sdg ├─┤ H ├──────┤M├───\n",
       "          ░ └─┬─┬─┘ └───┘      └╥┘   \n",
       "q4124_1: ─░───┤M├───────────────╫────\n",
       "          ░   └╥┘  ┌─────┐┌───┐ ║ ┌─┐\n",
       "q4124_2: ─░────╫───┤ Sdg ├┤ H ├─╫─┤M├\n",
       "          ░    ║   └─────┘└───┘ ║ └╥┘\n",
       "  c56: 3/══════╩════════════════╩══╩═\n",
       "               1                0  2 </pre>"
      ],
      "text/plain": [
       "          ░ ┌─────┐ ┌───┐      ┌─┐   \n",
       "q4124_0: ─░─┤ Sdg ├─┤ H ├──────┤M├───\n",
       "          ░ └─┬─┬─┘ └───┘      └╥┘   \n",
       "q4124_1: ─░───┤M├───────────────╫────\n",
       "          ░   └╥┘  ┌─────┐┌───┐ ║ ┌─┐\n",
       "q4124_2: ─░────╫───┤ Sdg ├┤ H ├─╫─┤M├\n",
       "          ░    ║   └─────┘└───┘ ║ └╥┘\n",
       "  c56: 3/══════╩════════════════╩══╩═\n",
       "               1                0  2 "
      ]
     },
     "execution_count": 96,
     "metadata": {},
     "output_type": "execute_result"
    }
   ],
   "source": [
    "qr_basi = QuantumRegister(3)\n",
    "qc_basi = QuantumCircuit(qr_basi)\n",
    "\n",
    "qcs_basis = state_tomography_circuits(qc_basi, qr_basi)\n",
    "\n",
    "qcs_basis[0].remove_final_measurements()\n",
    "\n",
    "qcs_basis[16].draw()"
   ]
  },
  {
   "cell_type": "code",
   "execution_count": 97,
   "metadata": {},
   "outputs": [],
   "source": [
    "C_matrices_itself = []\n",
    "C_matrices_identity = []\n",
    "\n",
    "U_ideal_inv = np.linalg.inv(U_ideal)\n",
    "U_ideal_inv_abs = np.abs(U_ideal_inv)**2\n",
    "\n",
    "U_ideal_abs = np.abs(U_ideal)**2\n",
    "#print(type(U_ideal_abs))\n",
    "#U_ideal_abs = np.asarray(Matrix(U_ideal_abs).n(10, chop=True), dtype='float64')\n",
    "#print(type(U_ideal_abs))\n",
    "U_ideal_abs_inv = np.linalg.inv(U_ideal_abs)\n",
    "\n",
    "C_itself = np.dot(U_tilde_itself, U_ideal_abs_inv)\n",
    "C_identity = U_tilde_identity"
   ]
  },
  {
   "cell_type": "code",
   "execution_count": 98,
   "metadata": {},
   "outputs": [
    {
     "data": {
      "text/plain": [
       "2.0056216300263255e-10"
      ]
     },
     "execution_count": 98,
     "metadata": {},
     "output_type": "execute_result"
    }
   ],
   "source": [
    "Matrix(U_ideal_abs).n(3, chop=True)\n",
    "np.linalg.det(U_ideal_abs)"
   ]
  },
  {
   "cell_type": "code",
   "execution_count": 99,
   "metadata": {},
   "outputs": [
    {
     "data": {
      "text/latex": [
       "$\\displaystyle \\left[\\begin{matrix}1.0 & 0 & 0 & 0 & 0 & 0 & 0 & 0\\\\0 & 1.0 & 0 & 0 & 0 & 0 & 0 & 0\\\\0 & 0 & 1.0 & 0 & 0 & 0 & 0 & 0\\\\0 & 0 & 0 & 1.0 & 0 & 0 & 0 & 0\\\\0 & 0 & 0 & 0 & 1.0 & 0 & 0 & 0\\\\0 & 0 & 0 & 0 & 0 & 1.0 & 0 & 0\\\\0 & 0 & 0 & 0 & 0 & 0 & 1.0 & 0\\\\0 & 0 & 0 & 0 & 0 & 0 & 0 & 1.0\\end{matrix}\\right]$"
      ],
      "text/plain": [
       "Matrix([\n",
       "[1.0,   0,   0,   0,   0,   0,   0,   0],\n",
       "[  0, 1.0,   0,   0,   0,   0,   0,   0],\n",
       "[  0,   0, 1.0,   0,   0,   0,   0,   0],\n",
       "[  0,   0,   0, 1.0,   0,   0,   0,   0],\n",
       "[  0,   0,   0,   0, 1.0,   0,   0,   0],\n",
       "[  0,   0,   0,   0,   0, 1.0,   0,   0],\n",
       "[  0,   0,   0,   0,   0,   0, 1.0,   0],\n",
       "[  0,   0,   0,   0,   0,   0,   0, 1.0]])"
      ]
     },
     "execution_count": 99,
     "metadata": {},
     "output_type": "execute_result"
    }
   ],
   "source": [
    "Matrix(np.dot(U_ideal_abs,np.linalg.inv(U_ideal_abs))).n(3, chop=True)"
   ]
  },
  {
   "cell_type": "code",
   "execution_count": 100,
   "metadata": {},
   "outputs": [
    {
     "data": {
      "text/latex": [
       "$\\displaystyle \\left[\\begin{matrix}1.0 & -6.38828774305325 \\cdot 10^{-33} & -6.27526215798912 \\cdot 10^{-28} & -4.78235868964663 \\cdot 10^{-29} & 6.27495137010403 \\cdot 10^{-28} & 4.78218616386323 \\cdot 10^{-29} & -2.73877620187348 \\cdot 10^{-34} & -5.35661892079167 \\cdot 10^{-61}\\\\-2.1706632573387 \\cdot 10^{-28} & -0.142857115240523 & 31383.465267128 & 3.7903135058346 \\cdot 10^{-24} & -31382.3224100128 & -3.7904515460301 \\cdot 10^{-24} & 1.03241752404799 \\cdot 10^{-28} & 2.96622562553002 \\cdot 10^{-36}\\\\2.71288361058897 \\cdot 10^{-29} & 1.1428571152422 & -3922.93249486577 & -4.73755313974067 \\cdot 10^{-25} & 3922.78963775053 & 4.73772550515136 \\cdot 10^{-25} & -1.29044364232091 \\cdot 10^{-29} & -2.37298089177954 \\cdot 10^{-35}\\\\-1.13307071509665 \\cdot 10^{-33} & 1.0038473021028 \\cdot 10^{-28} & -4.04578068834702 \\cdot 10^{-24} & 27460.5327722646 & 4.04563335760432 \\cdot 10^{-24} & -27459.5327722645 & -1.65059402738116 \\cdot 10^{-12} & 3.07576526827197 \\cdot 10^{-28}\\\\1.89871847134738 \\cdot 10^{-28} & -1.6741818010303 \\cdot 10^{-12} & -27459.5327722622 & -3.31645887164564 \\cdot 10^{-24} & 27460.5327722622 & 3.31657964787658 \\cdot 10^{-24} & -9.03641342071608 \\cdot 10^{-29} & -1.73339853088769 \\cdot 10^{-33}\\\\-2.37304953401705 \\cdot 10^{-35} & 1.43414804440885 \\cdot 10^{-29} & -5.76871110794403 \\cdot 10^{-25} & 3922.78963775086 & 5.76850020337972 \\cdot 10^{-25} & -3922.9324948661 & 1.1428571152422 & 4.39362741707837 \\cdot 10^{-29}\\\\2.96631141576052 \\cdot 10^{-36} & -1.14732203610277 \\cdot 10^{-28} & 4.6233712877386 \\cdot 10^{-24} & -31382.3224100154 & -4.62320292201758 \\cdot 10^{-24} & 31383.4652671306 & -0.14285711524055 & -3.515283824242 \\cdot 10^{-28}\\\\-2.30275157009574 \\cdot 10^{-61} & -6.40718568615677 \\cdot 10^{-34} & 3.33018660232734 \\cdot 10^{-29} & -4.60100346307797 \\cdot 10^{-29} & -3.33029194060376 \\cdot 10^{-29} & 4.60046309650916 \\cdot 10^{-29} & -1.58347456685301 \\cdot 10^{-32} & 1.0\\end{matrix}\\right]$"
      ],
      "text/plain": [
       "Matrix([\n",
       "[                  1.0, -6.38828774305325e-33, -6.27526215798912e-28, -4.78235868964663e-29,  6.27495137010403e-28, 4.78218616386323e-29, -2.73877620187348e-34, -5.35661892079167e-61],\n",
       "[ -2.1706632573387e-28,    -0.142857115240523,       31383.465267128,   3.7903135058346e-24,     -31382.3224100128, -3.7904515460301e-24,  1.03241752404799e-28,  2.96622562553002e-36],\n",
       "[ 2.71288361058897e-29,       1.1428571152422,     -3922.93249486577, -4.73755313974067e-25,      3922.78963775053, 4.73772550515136e-25, -1.29044364232091e-29, -2.37298089177954e-35],\n",
       "[-1.13307071509665e-33,   1.0038473021028e-28, -4.04578068834702e-24,      27460.5327722646,  4.04563335760432e-24,    -27459.5327722645, -1.65059402738116e-12,  3.07576526827197e-28],\n",
       "[ 1.89871847134738e-28,  -1.6741818010303e-12,     -27459.5327722622, -3.31645887164564e-24,      27460.5327722622, 3.31657964787658e-24, -9.03641342071608e-29, -1.73339853088769e-33],\n",
       "[-2.37304953401705e-35,  1.43414804440885e-29, -5.76871110794403e-25,      3922.78963775086,  5.76850020337972e-25,     -3922.9324948661,       1.1428571152422,  4.39362741707837e-29],\n",
       "[ 2.96631141576052e-36, -1.14732203610277e-28,   4.6233712877386e-24,     -31382.3224100154, -4.62320292201758e-24,     31383.4652671306,     -0.14285711524055,   -3.515283824242e-28],\n",
       "[-2.30275157009574e-61, -6.40718568615677e-34,  3.33018660232734e-29, -4.60100346307797e-29, -3.33029194060376e-29, 4.60046309650916e-29, -1.58347456685301e-32,                   1.0]])"
      ]
     },
     "execution_count": 100,
     "metadata": {},
     "output_type": "execute_result"
    }
   ],
   "source": [
    "Matrix(U_ideal_abs_inv)"
   ]
  },
  {
   "cell_type": "code",
   "execution_count": 101,
   "metadata": {},
   "outputs": [
    {
     "data": {
      "text/latex": [
       "$\\displaystyle \\left[\\begin{matrix}0.89765 & 0.0567071430780845 & 393.915142552788 & 113.572729917919 & -393.795499695866 & -113.560965632131 & 0.00728571421114775 & 0.0006\\\\0.0269 & 0.863785695837715 & 93.760061343044 & 511.206316394941 & -93.7537470388815 & -511.091530681668 & 0.000964286726333979 & 0.00785\\\\0.04605 & 0.00485000929787572 & 67.7133499675356 & -44.6925191213872 & -66.8402999768317 & 44.7487476931291 & 0.0435214282580043 & 0.0039\\\\0.00235 & 0.0482642849093133 & -60.7924433194259 & 26.1158708074751 & 60.8162290345166 & -25.2741065306347 & 0.00718572316107938 & 0.0445\\\\0.01975 & 0.00261429509638125 & -15.0558439874287 & -41.9466807065845 & 15.9352796923326 & 42.0026092788677 & 0.0685214277167559 & 0.0063\\\\0.00205 & 0.0190714284416384 & -17.051106087256 & 9.83569354540621 & 17.0777846588144 & -8.99453641153097 & 0.0022928661231591 & 0.0682\\\\0.0048 & -0.000142856564351575 & -369.500078336276 & -216.34103383462 & 369.56712119284 & 216.35161242402 & 0.845971410599791 & 0.0546\\\\0.00045 & 0.00484999990334292 & -91.9890821329776 & -356.750377003136 & 91.9931321330743 & 356.818169859932 & 0.0242571432037289 & 0.81405\\end{matrix}\\right]$"
      ],
      "text/plain": [
       "Matrix([\n",
       "[0.89765,    0.0567071430780845,  393.915142552788,  113.572729917919, -393.795499695866, -113.560965632131,  0.00728571421114775,  0.0006],\n",
       "[ 0.0269,     0.863785695837715,   93.760061343044,  511.206316394941, -93.7537470388815, -511.091530681668, 0.000964286726333979, 0.00785],\n",
       "[0.04605,   0.00485000929787572,  67.7133499675356, -44.6925191213872, -66.8402999768317,  44.7487476931291,   0.0435214282580043,  0.0039],\n",
       "[0.00235,    0.0482642849093133, -60.7924433194259,  26.1158708074751,  60.8162290345166, -25.2741065306347,  0.00718572316107938,  0.0445],\n",
       "[0.01975,   0.00261429509638125, -15.0558439874287, -41.9466807065845,  15.9352796923326,  42.0026092788677,   0.0685214277167559,  0.0063],\n",
       "[0.00205,    0.0190714284416384,  -17.051106087256,  9.83569354540621,  17.0777846588144, -8.99453641153097,   0.0022928661231591,  0.0682],\n",
       "[ 0.0048, -0.000142856564351575, -369.500078336276,  -216.34103383462,   369.56712119284,   216.35161242402,    0.845971410599791,  0.0546],\n",
       "[0.00045,   0.00484999990334292, -91.9890821329776, -356.750377003136,  91.9931321330743,  356.818169859932,   0.0242571432037289, 0.81405]])"
      ]
     },
     "execution_count": 101,
     "metadata": {},
     "output_type": "execute_result"
    }
   ],
   "source": [
    "Matrix(C_itself)"
   ]
  },
  {
   "cell_type": "code",
   "execution_count": 102,
   "metadata": {},
   "outputs": [
    {
     "data": {
      "text/plain": [
       "0.012345679061769449"
      ]
     },
     "execution_count": 102,
     "metadata": {},
     "output_type": "execute_result"
    }
   ],
   "source": [
    "np.linalg.det(np.abs(trotterized)**2)"
   ]
  },
  {
   "cell_type": "code",
   "execution_count": 103,
   "metadata": {},
   "outputs": [],
   "source": [
    "\n",
    "for base in qcs_basis:\n",
    "    \n",
    "    '''\n",
    "    base.remove_final_measurements()\n",
    "\n",
    "    base_matrix = np.matrix(matrix_from_cirquit(base, type=\"numpy\"))\n",
    "    base_matrix_H = base_matrix.getH()\n",
    "\n",
    "    C_aus_itself = np.linalg.multi_dot([U_tilde_qiskit, base_matrix, np.linalg.inv(U_tilde_qiskit), C_itself,  base_matrix_H])\n",
    "    #C_aus_itself = np.linalg.multi_dot([base_matrix, U_tilde_qiskit, np.linalg.inv(U_tilde_qiskit), C_itself])\n",
    "    C_aus_identity = np.dot(base_matrix, C_identity).dot(base_matrix_H)\n",
    "\n",
    "    C_matrices_identity.append(np.asarray(C_aus_identity))\n",
    "    C_matrices_itself.append(np.asarray(C_aus_itself))\n",
    "    '''\n",
    "\n",
    "    base.remove_final_measurements()\n",
    "\n",
    "    base_matrix_amplitudes = matrix_from_cirquit(base, type=\"numpy\")\n",
    "    base_matrix_amplitudes_inverse = np.linalg.inv(base_matrix_amplitudes)\n",
    "    \n",
    "    base_matrix = np.abs(base_matrix_amplitudes)**2\n",
    "    base_matrix_inverse = np.abs(base_matrix_amplitudes_inverse)**2\n",
    "\n",
    "    #C_aus_itself = np.linalg.multi_dot([base_matrix, C_itself,  base_matrix_inverse])\n",
    "    C_aus_itself = np.linalg.multi_dot([U_tilde_qiskit, base_matrix, np.linalg.inv(U_tilde_qiskit), C_itself,  base_matrix_inverse])\n",
    "    C_aus_itself = np.linalg.multi_dot([U_tilde_qiskit, base_matrix, np.linalg.inv(U_tilde_qiskit), C_itself,  np.transpose(base_matrix)])\n",
    "    \n",
    "\n",
    "    C_aus_identity = np.linalg.multi_dot([U_tilde_qiskit, base_matrix, np.linalg.inv(U_tilde_qiskit), C_identity,  base_matrix_inverse])\n",
    "    #C_aus_identity = np.linalg.multi_dot([base_matrix, C_identity, base_matrix_inverse])\n",
    "\n",
    "    C_matrices_identity.append(np.asarray(C_aus_identity))\n",
    "    C_matrices_itself.append(np.asarray(C_aus_itself))"
   ]
  },
  {
   "cell_type": "code",
   "execution_count": 104,
   "metadata": {},
   "outputs": [],
   "source": [
    "from copy import deepcopy\n",
    "\n",
    "meas_fitters_identity = []\n",
    "meas_fitters_itself = []\n",
    "\n",
    "for C_new in C_matrices_identity:\n",
    "    meas_fitter_our_aus = deepcopy(meas_fitter_our_identity)\n",
    "    meas_fitter_our_aus._tens_fitt.cal_matrices[0]=C_new\n",
    "\n",
    "    meas_fitters_identity.append(meas_fitter_our_aus)\n",
    "\n",
    "for C_new in C_matrices_itself:\n",
    "    meas_fitter_our_aus = deepcopy(meas_fitter_our_itself)\n",
    "    meas_fitter_our_aus._tens_fitt.cal_matrices[0]=C_new\n",
    "\n",
    "    meas_fitters_itself.append(meas_fitter_our_aus)"
   ]
  },
  {
   "cell_type": "code",
   "execution_count": 105,
   "metadata": {},
   "outputs": [],
   "source": [
    "target_state = (One^One^Zero).to_matrix()\n",
    "#target_state = (Zero^One^One).to_matrix()\n",
    "\n",
    "\n",
    "fids=np.zeros(4)\n",
    "\n",
    "raw_res=deepcopy(job_tomo.result())\n",
    "qiskit_res=deepcopy(raw_res)\n",
    "identity_res=deepcopy(raw_res)\n",
    "itself_res=deepcopy(raw_res)"
   ]
  },
  {
   "cell_type": "code",
   "execution_count": 106,
   "metadata": {},
   "outputs": [
    {
     "data": {
      "text/plain": [
       "{'000': 73,\n",
       " '010': 587,\n",
       " '011': 7426,\n",
       " '111': 763,\n",
       " '001': 876,\n",
       " '100': 631,\n",
       " '110': 1928,\n",
       " '101': 7716}"
      ]
     },
     "execution_count": 106,
     "metadata": {},
     "output_type": "execute_result"
    }
   ],
   "source": [
    "raw_res.get_counts(-1)"
   ]
  },
  {
   "cell_type": "code",
   "execution_count": 107,
   "metadata": {},
   "outputs": [],
   "source": [
    "for i in range(27):\n",
    "\n",
    "    old_counts=raw_res.get_counts(i)\n",
    "    new_counts_qiskit = meas_fitter_qiskit.filter.apply(old_counts, method=\"least_squares\")\n",
    "    qiskit_res.results[i].data.counts = new_counts_qiskit\n"
   ]
  },
  {
   "cell_type": "code",
   "execution_count": 108,
   "metadata": {},
   "outputs": [],
   "source": [
    "for i in range(27):\n",
    "\n",
    "    old_counts=raw_res.get_counts(i)\n",
    "    \n",
    "    new_counts_id = meas_fitters_identity[i].filter.apply(old_counts, method=\"least_squares\")\n",
    "    identity_res.results[i].data.counts = new_counts_id\n",
    "\n",
    "    new_counts_it = meas_fitters_itself[i].filter.apply(old_counts, method=\"least_squares\")\n",
    "    itself_res.results[i].data.counts = new_counts_it"
   ]
  },
  {
   "cell_type": "code",
   "execution_count": 72,
   "metadata": {},
   "outputs": [
    {
     "data": {
      "text/plain": [
       "{'101': 91,\n",
       " '011': 12561,\n",
       " '111': 563,\n",
       " '010': 1109,\n",
       " '000': 89,\n",
       " '001': 947,\n",
       " '100': 323,\n",
       " '110': 4317}"
      ]
     },
     "execution_count": 72,
     "metadata": {},
     "output_type": "execute_result"
    }
   ],
   "source": [
    "raw_res.get_counts(-1)"
   ]
  },
  {
   "cell_type": "code",
   "execution_count": 73,
   "metadata": {},
   "outputs": [
    {
     "data": {
      "text/plain": [
       "{'010': 58.33711953934393,\n",
       " '011': 14961.098777245074,\n",
       " '100': 3.104670082168207e-11,\n",
       " '101': 1.3708806518412512e-11,\n",
       " '110': 4976.047303886072,\n",
       " '111': 4.516799329705624}"
      ]
     },
     "execution_count": 73,
     "metadata": {},
     "output_type": "execute_result"
    }
   ],
   "source": [
    "itself_res.get_counts(-1)"
   ]
  },
  {
   "cell_type": "code",
   "execution_count": 74,
   "metadata": {},
   "outputs": [
    {
     "data": {
      "text/plain": [
       "{'000': 4.1179701210861504e-13,\n",
       " '001': 53.9317794343561,\n",
       " '010': 64.93636022168268,\n",
       " '011': 14787.348970356508,\n",
       " '100': 1.473765885947835e-13,\n",
       " '101': 8.246370522816925e-14,\n",
       " '110': 5025.856577898735,\n",
       " '111': 67.92631208871596}"
      ]
     },
     "execution_count": 74,
     "metadata": {},
     "output_type": "execute_result"
    }
   ],
   "source": [
    "identity_res.get_counts(-1)"
   ]
  },
  {
   "cell_type": "code",
   "execution_count": 75,
   "metadata": {},
   "outputs": [
    {
     "data": {
      "text/plain": [
       "array([0.2138956 , 0.2392471 , 0.24932743, 0.24852568])"
      ]
     },
     "execution_count": 75,
     "metadata": {},
     "output_type": "execute_result"
    }
   ],
   "source": [
    "fids[0] = fidelity_count(raw_res, qcs_tomo, target_state)\n",
    "fids[1] = fidelity_count(qiskit_res, qcs_tomo, target_state)\n",
    "fids[2] = fidelity_count(identity_res, qcs_tomo, target_state)\n",
    "fids[3] = fidelity_count(itself_res, qcs_tomo, target_state)\n",
    "\n",
    "fids"
   ]
  },
  {
   "cell_type": "code",
   "execution_count": 76,
   "metadata": {},
   "outputs": [],
   "source": [
    "import numpy as np\n",
    "import matplotlib.pyplot as plt\n",
    "plt.rcParams.update({'font.size': 16})  # enlarge matplotlib fonts\n",
    "\n",
    "# Import qubit states Zero (|0>) and One (|1>), and Pauli operators (X, Y, Z)\n",
    "from qiskit.opflow import Zero, One, I, X, Y, Z\n",
    "\n",
    "# Suppress warnings\n",
    "import warnings\n",
    "warnings.filterwarnings('ignore')\n",
    "\n",
    "# Returns the matrix representation of the XXX Heisenberg model for 3 spin-1/2 particles in a line\n",
    "def H_heis3():\n",
    "    # Interactions (I is the identity matrix; X, Y, and Z are Pauli matricies; ^ is a tensor product)\n",
    "    XXs = (I^X^X) + (X^X^I)\n",
    "    YYs = (I^Y^Y) + (Y^Y^I)\n",
    "    ZZs = (I^Z^Z) + (Z^Z^I)\n",
    "    \n",
    "    # Sum interactions\n",
    "    H = XXs + YYs + ZZs\n",
    "    \n",
    "    # Return Hamiltonian\n",
    "    return H\n",
    "\n",
    "# Returns the matrix representation of U_heis3(t) for a given time t assuming an XXX Heisenberg Hamiltonian for 3 spins-1/2 particles in a line\n",
    "def U_heis3(t):\n",
    "    # Compute XXX Hamiltonian for 3 spins in a line\n",
    "    H = H_heis3()\n",
    "    \n",
    "    # Return the exponential of -i multipled by time t multipled by the 3 spin XXX Heisenberg Hamilonian \n",
    "    return (t * H).exp_i()"
   ]
  },
  {
   "cell_type": "code",
   "execution_count": 77,
   "metadata": {},
   "outputs": [
    {
     "data": {
      "text/plain": [
       "0.25"
      ]
     },
     "execution_count": 77,
     "metadata": {},
     "output_type": "execute_result"
    }
   ],
   "source": [
    "initial_state = One^One^Zero\n",
    "\n",
    "#((initial_state @ U_heis3(float(time)) @ initial_state).eval())**2\n",
    "np.abs((~initial_state @ U_heis3(float(time)) @ initial_state).eval())**2"
   ]
  },
  {
   "cell_type": "code",
   "execution_count": 78,
   "metadata": {},
   "outputs": [
    {
     "data": {
      "text/plain": [
       "array([[ 0.70710678,  0.70710678],\n",
       "       [ 0.70710678, -0.70710678]])"
      ]
     },
     "execution_count": 78,
     "metadata": {},
     "output_type": "execute_result"
    }
   ],
   "source": [
    "matrix=1/np.sqrt(2)*np.array([[1,1],[1,-1]])\n",
    "np.linalg.inv(matrix)"
   ]
  },
  {
   "cell_type": "code",
   "execution_count": null,
   "metadata": {},
   "outputs": [],
   "source": []
  },
  {
   "cell_type": "code",
   "execution_count": null,
   "metadata": {},
   "outputs": [],
   "source": []
  }
 ],
 "metadata": {
  "interpreter": {
   "hash": "aee8b7b246df8f9039afb4144a1f6fd8d2ca17a180786b69acc140d282b71a49"
  },
  "kernelspec": {
   "display_name": "Python 3.10.2 64-bit",
   "language": "python",
   "name": "python3"
  },
  "language_info": {
   "codemirror_mode": {
    "name": "ipython",
    "version": 3
   },
   "file_extension": ".py",
   "mimetype": "text/x-python",
   "name": "python",
   "nbconvert_exporter": "python",
   "pygments_lexer": "ipython3",
   "version": "3.10.2"
  },
  "orig_nbformat": 4
 },
 "nbformat": 4,
 "nbformat_minor": 2
}
