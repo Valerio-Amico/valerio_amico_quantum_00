{
 "cells": [
  {
   "cell_type": "markdown",
   "metadata": {},
   "source": [
    "# Error Mitigation through ancillas\n",
    "\n",
    "Since parity and total magnetization are conserved quantities during time evolution we want to use the four free ancillas as a check for a mitigation.\n",
    "Here the list of check-circuit that we test:\n",
    "* Copy check & 4Copy Check\n",
    "* Parity Measurement with one ancilla & two ancillas\n",
    "* Magnetization Measurement\n",
    "\n",
    "### Notation\n",
    "Firstly, we would like to introduce the notation that we will use to describe the different circuits:\n",
    "\n",
    "* We'll call control qubits those that are used to simulate time evolution given by the Hamiltonian\n",
    "* We'll call ancillas those that are used to implement error mitigation\n",
    "\n",
    "In the images of the circuits the qubits order corrispond to the Jakarta so qubits[1,3,5]= control qubits and qubits[0,2,4,6]=ancillas\n",
    "\n"
   ]
  },
  {
   "cell_type": "code",
   "execution_count": null,
   "metadata": {},
   "outputs": [],
   "source": [
    "from qiskit import Aer, assemble, QuantumCircuit, QuantumRegister, ClassicalRegister, IBMQ, transpile, execute\n",
    "from qiskit.providers.aer import AerSimulator, QasmSimulator\n",
    "import numpy as np\n"
   ]
  },
  {
   "cell_type": "markdown",
   "metadata": {},
   "source": [
    "## Copy Check\n",
    "\n",
    "Let see the copy check's circuit:\n",
    "\n"
   ]
  },
  {
   "cell_type": "code",
   "execution_count": null,
   "metadata": {},
   "outputs": [],
   "source": [
    "qr=QuantumRegister(7,name='q')\n",
    "qc=QuantumCircuit(qr)\n",
    "\n",
    "qc.cx(qr[1],qr[0])\n",
    "#qc.cx(qr[5],qr[6])\n",
    "qc.cx(qr[5],qr[4])\n",
    "qc.cx(qr[3],qr[1])\n",
    "qc.cx(qr[1],qr[2])\n",
    "qc.cx(qr[3],qr[1])\n",
    "\n",
    "qc.draw(output='mpl')"
   ]
  },
  {
   "cell_type": "markdown",
   "metadata": {},
   "source": [
    "### Circuit analysis\n",
    "We have as input state a generic overlap of the magnetization=2 Hilbert subspace:\n",
    "$ |\\psi_{in}⟩ = \\alpha |011⟩+\\beta|101⟩+\\gamma|110⟩ $,\n",
    "\n",
    "The initial global state (considering also the ancillas) is:\n",
    "\n",
    "$|\\psi_{tot}⟩=|\\psi_{in}⟩ \\otimes |000⟩ $.\n",
    "\n",
    "Applying the check circuit gives:\n",
    "\n",
    "$|\\psi_{tot}⟩ = \\alpha|011⟩|011⟩+\\beta|101⟩|101⟩+\\gamma|110⟩|110⟩$ \n",
    "\n",
    "\n",
    "If no errors as occurred one should measure the ancillas qubits state with magnetization=2, so we reject all data that does not respect this constraint. \n",
    "\n",
    "\n",
    "Since the final state $|\\psi_{tot}⟩$ cannot be write as a tensor product between control qubits state and ancillas state is important to measure the ancillas qubits after the tomography circuit.\n",
    "### Sum up\n",
    "* allowed ancillas coditions: $[|110⟩, |101⟩, |011⟩]$\n",
    "* 5 Cnots\n",
    "\n",
    "## 4Copy Check\n",
    "Since we have another free ancilla we decide to copy control qubit 5 two times on qubits 4 and 6 as in figure:\n",
    "\n",
    "\n",
    "\n",
    "\n",
    "\n",
    "\n",
    "\n"
   ]
  },
  {
   "cell_type": "code",
   "execution_count": null,
   "metadata": {},
   "outputs": [],
   "source": [
    "qr=QuantumRegister(7,name='q')\n",
    "qc=QuantumCircuit(qr)\n",
    "\n",
    "qc.cx(qr[1],qr[0])\n",
    "qc.cx(qr[5],qr[6])\n",
    "qc.cx(qr[5],qr[4])\n",
    "qc.cx(qr[3],qr[1])\n",
    "qc.cx(qr[1],qr[2])\n",
    "qc.cx(qr[3],qr[1])\n",
    "\n",
    "qc.draw(output='mpl')"
   ]
  },
  {
   "cell_type": "markdown",
   "metadata": {},
   "source": [
    "In addition to the constraint magnetization=2 on qubits [0,2,4] now we have the constraint that ancillas [4,6] must have same measurement result.\n",
    "\n",
    "### Sum up\n",
    "\n",
    "* allowed ancillas conditions: $[|1100⟩, |1011⟩, |0111⟩]$\n",
    "* 6 cnots "
   ]
  },
  {
   "cell_type": "markdown",
   "metadata": {},
   "source": [
    "## Parity Measurement with one ancilla\n",
    "Here the circuit for parity measurement one ancilla:\n",
    " \n",
    "\n",
    "\n",
    "\n",
    "\n",
    "\n"
   ]
  },
  {
   "cell_type": "code",
   "execution_count": null,
   "metadata": {},
   "outputs": [],
   "source": [
    "qr=QuantumRegister(7,name='q')\n",
    "qc=QuantumCircuit(qr)\n",
    "\n",
    "qc.cx(qr[1],qr[0])\n",
    "qc.swap(qr[1],qr[3])\n",
    "qc.cx(qr[1],qr[0])\n",
    "qc.swap(qr[5],qr[3])\n",
    "qc.swap(qr[1],qr[3])\n",
    "qc.cx(qr[1],qr[0])\n",
    "qc.draw(output='mpl')"
   ]
  },
  {
   "cell_type": "markdown",
   "metadata": {},
   "source": [
    "### Circuit Analysis\n",
    "Suppose we have as input state a generic state of the Hilbert's Space: \n",
    "\n",
    "$ |\\psi_{in}⟩ = |\\psi_{even}⟩+|\\psi_{odd}⟩ $ \n",
    "\n",
    "where:\n",
    "\n",
    "* $|\\psi_{even}⟩ = \\alpha_0|000⟩+\\beta_0|110⟩+\\gamma_0|101⟩+\\delta_0|011⟩ $\n",
    "* $|\\psi_{odd}⟩ = \\alpha_1|100⟩+\\beta_1|010⟩+\\gamma_1|001⟩+\\delta_1|111⟩ $\n",
    "\n",
    "Considering also the ancilla we have as total input state:\n",
    "\n",
    "$|\\psi_{tot}⟩=|\\psi_{even}⟩\\otimes|0⟩+|\\psi_{odd}⟩\\otimes|0⟩ $.\n",
    "\n",
    "Applying the circuit gives as total output state:\n",
    "\n",
    "$|\\psi_{tot}⟩=|\\psi_{even}⟩\\otimes|0⟩+|\\psi_{odd}⟩\\otimes|1⟩ $.\n",
    "\n",
    "Since parity is conserved during time evolution and the initial state belong to the even subspace, if we don't measure |0⟩ on the ancilla the data is reject.\n",
    "\n",
    "The output state from the check circuit is in the form $ |\\psi_{even}⟩\\otimes|0⟩ $ so the ancilla can be measure before the control qubits and allow us to do mid-measurements.\n",
    "\n",
    "The SWAP gates, compose by three C-NOT gates, are needed due to the geometry of Jakarta so the total number of C-NOT needed to implement the check is twelve. That increase, not trivially, the lenght of the circuit.\n",
    "\n",
    "After the circuit the control qubits 1 and 5 are swapped.\n",
    "\n",
    "\n",
    "### Sum up\n",
    "\n",
    "* allowed ancilla condition: |0⟩\n",
    "* check circuit swap qubit 1 and 5\n",
    "\n",
    "\n",
    "\n",
    "\n",
    "\n",
    "\n",
    "\n"
   ]
  },
  {
   "cell_type": "markdown",
   "metadata": {},
   "source": [
    "### Parity Measurement two ancillas\n",
    "Here the circuit parity Measurements with two ancillas:"
   ]
  },
  {
   "cell_type": "code",
   "execution_count": null,
   "metadata": {},
   "outputs": [],
   "source": [
    "qr1=QuantumRegister(7,name='q')\n",
    "qc=QuantumCircuit(qr1)\n",
    "qc.cx(qr1[5],qr1[4])\n",
    "qc.cx(qr1[3],qr1[1])\n",
    "qc.cx(qr1[1],qr1[0])\n",
    "qc.cx(qr1[3],qr1[1])\n",
    "qc.draw(output='mpl')"
   ]
  },
  {
   "cell_type": "markdown",
   "metadata": {},
   "source": [
    "### Circuit analysis\n",
    "Let's take as input state a generic overlap of even subspace:\n",
    "\n",
    "$|\\psi_{in}⟩=\\alpha|000⟩+\\beta|110⟩+\\gamma|101⟩+\\delta|011⟩$.\n",
    "\n",
    "The initial global state considering ancillas is:\n",
    "\n",
    "$|\\psi_{tot}⟩=|\\psi_{in}⟩\\otimes|00⟩ $.\n",
    "\n",
    "Applying the check circuit gives as total ouput state:\n",
    "\n",
    "$ |\\psi_{tot}⟩=(\\alpha|000⟩+\\beta|110⟩)\\otimes|00⟩+(\\gamma|101⟩+\\delta|011⟩)\\otimes|11⟩ $.\n",
    "\n",
    "If in input we have a generic odd state as total output state we have:\n",
    "\n",
    "$ |\\psi_{tot}⟩=(\\alpha|100⟩+\\beta|010⟩)\\otimes|10⟩+(\\gamma|001⟩+\\delta|111⟩)\\otimes|01⟩ $ \n",
    "\n",
    "So if don't measure on the ancillas |00⟩ or |11⟩ we reject the data.\n",
    "\n",
    "Differently from the parity check one ancilla, in this case control qubits must be measure before ancillas.\n",
    "\n",
    "\n",
    "\n",
    "### Sum up \n",
    "\n",
    "* allowed ancillas condition: $ [|00⟩, |11⟩]$\n",
    "* 4 cnots\n",
    "\n"
   ]
  },
  {
   "cell_type": "markdown",
   "metadata": {},
   "source": [
    "# Magnetization Measurement\n",
    "\n",
    "\n"
   ]
  },
  {
   "cell_type": "markdown",
   "metadata": {},
   "source": [
    "Firstly we have to introduce che C-S (control-s) gate:"
   ]
  },
  {
   "cell_type": "code",
   "execution_count": null,
   "metadata": {},
   "outputs": [],
   "source": [
    "pi=np.pi\n",
    "qr=QuantumRegister(2,name='q')\n",
    "CS_qc=QuantumCircuit(qr,name='C-S')\n",
    "\n",
    "CS_qc.cx(qr[1],qr[0])\n",
    "CS_qc.rz(-pi/4,qr[0])\n",
    "CS_qc.cx(qr[1],qr[0])\n",
    "CS_qc.rz(pi/4,qr[0])\n",
    "CS_qc.rz(pi/4,qr[1])\n",
    "\n",
    "\n",
    "CS_qc.draw(output='mpl')"
   ]
  },
  {
   "cell_type": "markdown",
   "metadata": {},
   "source": [
    "### Circuit analysis\n",
    "The C-S gate act, on the 2-qubit computationial base, as an identity except for the state |11⟩ to which add a phase $\\phi = i$.\n",
    "\n",
    "Let's consider a generic 2-qubit state as input:\n",
    "\n",
    "$|\\psi_{in}⟩=\\alpha|00⟩+\\beta|01⟩+\\gamma|10⟩+\\delta|11⟩$ \n",
    "\n",
    "Applying the C-S gives:\n",
    "\n",
    "$|\\psi_{out}⟩=\\alpha|00⟩+\\beta|01⟩+\\gamma|10⟩+i*\\delta|11⟩$ \n",
    "\n",
    "Let's see now the magnetization check circuit:\n",
    "\n",
    "\n",
    "\n"
   ]
  },
  {
   "cell_type": "code",
   "execution_count": null,
   "metadata": {},
   "outputs": [],
   "source": [
    "qr=QuantumRegister(7,name='q')\n",
    "qc=QuantumCircuit(qr)\n",
    "\n",
    "qc.h(qr[2])\n",
    "qc.cx(qr[1],qr[0])\n",
    "qc.append(CS_qc,[qr[2],qr[1]])\n",
    "qc.swap(qr[1],qr[3])\n",
    "qc.cx(qr[1],qr[0])\n",
    "qc.append(CS_qc,[qr[2],qr[1]])\n",
    "qc.swap(qr[5],qr[3])\n",
    "qc.swap(qr[1],qr[3])\n",
    "qc.cx(qr[1],qr[0])\n",
    "qc.append(CS_qc,[qr[2],qr[1]])\n",
    "qc.h(qr[2])\n",
    "qc.draw(output='mpl')"
   ]
  },
  {
   "cell_type": "markdown",
   "metadata": {},
   "source": [
    "### Circuit Analysis\n",
    "On ancilla 0 we measure parity of the control qubits state  while on ancilla 2, initialized as $|+⟩$ C-S gate is applied for each control qubits. If control qubits have total magnetization=2 a phase $\\phi=i^2=-1$ is added to the $|1⟩$ part of the $|+⟩$  given $|-⟩$ Hadamad state. After that, applying H gate, gives $|1⟩$ as ancilla 2 output state.\n",
    "\n",
    "Let's see how this circuit acts on different magnetization states:\n",
    "\n",
    "* State with magnetization=0 $|\\psi_{in}⟩=|000⟩\\otimes|0+⟩$\n",
    "\n",
    "Output state after magnetization check $|\\psi_{out}⟩=|000⟩\\otimes|00⟩ $\n",
    "\n",
    "\n",
    "* State with magnetization=1 $|\\psi_{in}⟩=(\\alpha|100⟩+\\beta|010⟩+\\gamma|001⟩)\\otimes|0+⟩$\n",
    "\n",
    "Output state after magnetization check $|\\psi_{out}⟩=(\\alpha|100⟩+\\beta|010⟩+\\gamma|001⟩)\\otimes\\frac{1}{2}((1+i)|10⟩+(1-i)|11⟩)$\n",
    "\n",
    "\n",
    "* State with magnetization=2 $|\\psi_{in}⟩=(\\alpha|110⟩+\\beta|101⟩+\\gamma|011⟩)\\otimes|0+⟩$\n",
    "\n",
    "Output state after magnetization check $|\\psi_{out}⟩=(\\alpha|110⟩+\\beta|101⟩+\\gamma|011⟩)\\otimes|01⟩$ \n",
    "\n",
    "\n",
    "* State with magnetization=3 $|\\psi_{in}⟩=|111⟩\\otimes|0+⟩$\n",
    "\n",
    "Output state after magnetization check $|\\psi_{out}⟩=|111⟩\\otimes\\frac{1}{2}((1-i)|10⟩+(1+i)|11⟩) $\n",
    "\n",
    "As we can see if we don't measure on the ancillas $|01⟩$ we can reject the data because magnetization was not conserved during time evolution. \n",
    "\n",
    "Total output state is in the form $|control qubit⟩ \\otimes |ancillas⟩$ so this circuit can be used to perform mid-measurements.\n",
    "\n",
    "SWAP gates are added due to the geometry of Jakarta.\n",
    "\n",
    "The streght of this check circuit is that, instead of three ancillas needed for the copy check circuit, here we only need two ancillas to check the magnetization\n",
    "\n",
    "After the check circuit the control qubit 1 and 5 are swaped.\n",
    "\n",
    "### Sum up\n",
    "\n",
    "* allowed ancillas conditions: $|01⟩$\n",
    "\n",
    "* circuit swap qubit 1 and 5 \n",
    "\n",
    "* 18 cnots \n",
    "\n"
   ]
  },
  {
   "cell_type": "markdown",
   "metadata": {},
   "source": [
    "## Conclusion\n",
    "\n",
    "We tested all the check that we presented, for this specific case the 4Copy check outperform the others.\n"
   ]
  },
  {
   "cell_type": "code",
   "execution_count": null,
   "metadata": {},
   "outputs": [],
   "source": []
  }
 ],
 "metadata": {
  "kernelspec": {
   "display_name": "Python 3",
   "language": "python",
   "name": "python3"
  },
  "language_info": {
   "codemirror_mode": {
    "name": "ipython",
    "version": 3
   },
   "file_extension": ".py",
   "mimetype": "text/x-python",
   "name": "python",
   "nbconvert_exporter": "python",
   "pygments_lexer": "ipython3",
   "version": "3.10.2"
  }
 },
 "nbformat": 4,
 "nbformat_minor": 4
}
