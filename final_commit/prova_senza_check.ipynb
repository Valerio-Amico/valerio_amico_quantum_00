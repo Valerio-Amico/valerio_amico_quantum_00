{
 "cells": [
  {
   "cell_type": "code",
   "execution_count": 1,
   "metadata": {},
   "outputs": [],
   "source": [
    "from lib.functions0 import *\n",
    "from lib.utility import *\n",
    "import numpy as np\n",
    "from scipy.linalg import expm\n",
    "from qiskit.utils.mitigation.fitters import CompleteMeasFitter\n",
    "from qiskit.ignis.mitigation.measurement import  complete_meas_cal\n",
    "from qiskit import Aer, assemble, QuantumCircuit, QuantumRegister, ClassicalRegister, IBMQ, transpile, execute\n",
    "from qiskit.providers.aer import AerSimulator, QasmSimulator\n",
    "from qiskit.opflow import Zero, One, I, X, Y, Z\n",
    "from qiskit.ignis.verification.tomography import state_tomography_circuits, StateTomographyFitter\n",
    "from qiskit.quantum_info import state_fidelity\n",
    "import matplotlib.pyplot as plt\n",
    "%load_ext autoreload\n",
    "%autoreload 2\n",
    "import warnings\n",
    "warnings.filterwarnings('ignore')\n",
    "IBMQ.load_account()\n",
    "provider = IBMQ.get_provider(hub='ibm-q-community',\n",
    "                            group='ibmquantumawards', \n",
    "                            project='open-science-22')\n",
    "\n",
    "backend_sim_jakarta = QasmSimulator.from_backend(provider.get_backend('ibmq_jakarta'))\n",
    "backend_real_jakarta = provider.get_backend('ibmq_jakarta')\n",
    "backend_sim = Aer.get_backend('qasm_simulator')"
   ]
  },
  {
   "cell_type": "code",
   "execution_count": 2,
   "metadata": {},
   "outputs": [
    {
     "data": {
      "text/plain": [
       "'/Library/Frameworks/Python.framework/Versions/3.10/lib/python3.10/site-packages/qiskit/utils/mitigation/fitters.py'"
      ]
     },
     "execution_count": 2,
     "metadata": {},
     "output_type": "execute_result"
    }
   ],
   "source": [
    "import qiskit\n",
    "qiskit.utils.mitigation.fitters.__file__"
   ]
  },
  {
   "cell_type": "code",
   "execution_count": 51,
   "metadata": {},
   "outputs": [
    {
     "data": {
      "text/latex": [
       "$\\displaystyle \\left[\\begin{matrix}-1.0 & 0 & 0 & 0 & 0 & 0 & 0 & 0\\\\0 & 0.333 + 0.000129 i & -0.667 + 0.000129 i & 0 & -0.667 - 0.000258 i & 0 & 0 & 0\\\\0 & -0.667 + 0.000129 i & 0.333 - 0.000258 i & 0 & -0.667 + 0.000129 i & 0 & 0 & 0\\\\0 & 0 & 0 & 0.333 + 0.000129 i & 0 & -0.667 + 0.000129 i & -0.667 - 0.000258 i & 0\\\\0 & -0.667 - 0.000258 i & -0.667 + 0.000129 i & 0 & 0.333 + 0.000129 i & 0 & 0 & 0\\\\0 & 0 & 0 & -0.667 + 0.000129 i & 0 & 0.333 - 0.000258 i & -0.667 + 0.000129 i & 0\\\\0 & 0 & 0 & -0.667 - 0.000258 i & 0 & -0.667 + 0.000129 i & 0.333 + 0.000129 i & 0\\\\0 & 0 & 0 & 0 & 0 & 0 & 0 & -1.0\\end{matrix}\\right]$"
      ],
      "text/plain": [
       "Matrix([\n",
       "[-1.0,                   0,                   0,                   0,                   0,                   0,                   0,    0],\n",
       "[   0,  0.333 + 0.000129*I, -0.667 + 0.000129*I,                   0, -0.667 - 0.000258*I,                   0,                   0,    0],\n",
       "[   0, -0.667 + 0.000129*I,  0.333 - 0.000258*I,                   0, -0.667 + 0.000129*I,                   0,                   0,    0],\n",
       "[   0,                   0,                   0,  0.333 + 0.000129*I,                   0, -0.667 + 0.000129*I, -0.667 - 0.000258*I,    0],\n",
       "[   0, -0.667 - 0.000258*I, -0.667 + 0.000129*I,                   0,  0.333 + 0.000129*I,                   0,                   0,    0],\n",
       "[   0,                   0,                   0, -0.667 + 0.000129*I,                   0,  0.333 - 0.000258*I, -0.667 + 0.000129*I,    0],\n",
       "[   0,                   0,                   0, -0.667 - 0.000258*I,                   0, -0.667 + 0.000129*I,  0.333 + 0.000129*I,    0],\n",
       "[   0,                   0,                   0,                   0,                   0,                   0,                   0, -1.0]])"
      ]
     },
     "execution_count": 51,
     "metadata": {},
     "output_type": "execute_result"
    }
   ],
   "source": [
    "n_steps=100\n",
    "time=np.pi/2\n",
    "#initial_state={\"110\": 1}\n",
    "shots = 32000\n",
    "backend = backend_sim_jakarta\n",
    "\n",
    "X = np.array([[0,1],[1,0]])  #defining the pauli matrices\n",
    "Y = np.array([[0,-1j],[1j,0]])\n",
    "Z = np.array([[1,0],[0,-1]])\n",
    "Id = np.eye(2)\n",
    "\n",
    "# defining the hamiltonian divided in: \n",
    "#       - H1: first two qubits interactions.\n",
    "#       - H2: second two qubits interactions.\n",
    "\n",
    "H1 = np.kron(X, np.kron(X,Id)) + np.kron(Y, np.kron(Y,Id)) + np.kron(Z, np.kron(Z,Id)) \n",
    "H2 = np.kron(Id, np.kron(X,X)) + np.kron(Id, np.kron(Y,Y)) + np.kron(Id, np.kron(Z,Z)) \n",
    "\n",
    "# building numerically the trotter step matrix, and the whole operator (trotter step)^n_steps.\n",
    "\n",
    "trotter_step_matrix_= expm(-time/n_steps*H1*1j).dot(expm(-time/n_steps*H2*1j))\n",
    "trotterized = np.linalg.matrix_power(trotter_step_matrix_, n_steps)\n",
    "Matrix(trotterized).n(3, chop=True)"
   ]
  },
  {
   "cell_type": "code",
   "execution_count": 52,
   "metadata": {},
   "outputs": [
    {
     "data": {
      "image/png": "[encoded data removed]",
      "text/plain": [
       "<Figure size 1350.8x204.68 with 1 Axes>"
      ]
     },
     "execution_count": 52,
     "metadata": {},
     "output_type": "execute_result"
    }
   ],
   "source": [
    "# phase_1_1, phase_2_1, phase_1_2, phase_2_2, a1, a2 = get_gates_parameters(trotterized, initial_state={\"110\": 1.0})\n",
    "\n",
    "A0 = trotterized[3, 6]\n",
    "A1 = trotterized[5, 6]\n",
    "A2 = trotterized[6, 6]\n",
    "\n",
    "r1=float(atan2(im(A0),re(A0))+atan2(im(A2),re(A2)))/2\n",
    "r2=0\n",
    "f1=float(atan2(im(A2),re(A2))-atan2(im(A1),re(A1))-np.pi)/2\n",
    "f2=float((atan2(im(A2),re(A2))-atan2(im(A0),re(A0)))/2-f1)\n",
    "a1=float(acos(abs(A2)))\n",
    "a2=float(acos(abs(A1)/sin(a1)))\n",
    "\n",
    "M1_qc = fixed_magnetization_two_qubit_gate(r1,f1,a1)\n",
    "M2_qc = fixed_magnetization_two_qubit_gate(r2,f2,a2)\n",
    "\n",
    "qr_U = QuantumRegister(3 ,name=\"q\")\n",
    "qc_U = QuantumCircuit(qr_U, name=\"U\")\n",
    "\n",
    "qc_U.append(M1_qc, [qr_U[0],qr_U[1]])\n",
    "qc_U.append(M2_qc, [qr_U[1],qr_U[2]])\n",
    "\n",
    "qc_U=transpile(qc_U, basis_gates=[\"cx\",\"rz\",\"x\",\"sx\"])\n",
    "qc_U.draw(output=\"mpl\")"
   ]
  },
  {
   "cell_type": "code",
   "execution_count": 53,
   "metadata": {},
   "outputs": [
    {
     "data": {
      "text/latex": [
       "$\\displaystyle \\left[\\begin{matrix}0.9999999249 - 0.0003874589 i & 0 & 0 & 0 & 0 & 0 & 0 & 0\\\\0 & 0.3333332833 - 0.000129153 i & 0.9428089797 + 0.0003653031 i & 0 & 0 & 0 & 0 & 0\\\\0 & 0.6666727298 + 0.000129153 i & -0.235704278 - 0.0002283148 i & 0 & -0.7071002905 + 0.0002739723 i & 0 & 0 & 0\\\\0 & 0 & 0 & -0.707112887 - 0.0006849444 i & 0 & -0.2357000791 + 9.13241 \\cdot 10^{-5} i & -0.6666605534 - 0.0002583059 i & 0\\\\0 & -0.6666605534 + 0.0002583059 i & 0.2357000791 + 9.13241 \\cdot 10^{-5} i & 0 & -0.707112887 + 0.0006849444 i & 0 & 0 & 0\\\\0 & 0 & 0 & 0.7071002905 + 0.0002739723 i & 0 & -0.235704278 + 0.0002283148 i & -0.6666727298 + 0.000129153 i & 0\\\\0 & 0 & 0 & 0 & 0 & -0.9428089797 + 0.0003653031 i & 0.3333332833 + 0.000129153 i & 0\\\\0 & 0 & 0 & 0 & 0 & 0 & 0 & 0.9999999249 + 0.0003874589 i\\end{matrix}\\right]$"
      ],
      "text/plain": [
       "Matrix([\n",
       "[0.9999999249 - 0.0003874589*I,                              0,                             0,                             0,                              0,                              0,                              0,                             0],\n",
       "[                            0,   0.3333332833 - 0.000129153*I, 0.9428089797 + 0.0003653031*I,                             0,                              0,                              0,                              0,                             0],\n",
       "[                            0,   0.6666727298 + 0.000129153*I, -0.235704278 - 0.0002283148*I,                             0, -0.7071002905 + 0.0002739723*I,                              0,                              0,                             0],\n",
       "[                            0,                              0,                             0, -0.707112887 - 0.0006849444*I,                              0,   -0.2357000791 + 9.13241e-5*I, -0.6666605534 - 0.0002583059*I,                             0],\n",
       "[                            0, -0.6666605534 + 0.0002583059*I,   0.2357000791 + 9.13241e-5*I,                             0,  -0.707112887 + 0.0006849444*I,                              0,                              0,                             0],\n",
       "[                            0,                              0,                             0, 0.7071002905 + 0.0002739723*I,                              0,  -0.235704278 + 0.0002283148*I,  -0.6666727298 + 0.000129153*I,                             0],\n",
       "[                            0,                              0,                             0,                             0,                              0, -0.9428089797 + 0.0003653031*I,   0.3333332833 + 0.000129153*I,                             0],\n",
       "[                            0,                              0,                             0,                             0,                              0,                              0,                              0, 0.9999999249 + 0.0003874589*I]])"
      ]
     },
     "execution_count": 53,
     "metadata": {},
     "output_type": "execute_result"
    }
   ],
   "source": [
    "U_ideal=matrix_from_circuit(qc_U, type=\"numpy\")\n",
    "Matrix(U_ideal)"
   ]
  },
  {
   "cell_type": "code",
   "execution_count": 54,
   "metadata": {},
   "outputs": [
    {
     "data": {
      "image/png": "[encoded data removed]",
      "text/plain": [
       "<Figure size 519.393x264.88 with 1 Axes>"
      ]
     },
     "execution_count": 54,
     "metadata": {},
     "output_type": "execute_result"
    }
   ],
   "source": [
    "qr_evo = QuantumRegister(3, name=\"q\")\n",
    "qc_evo = QuantumCircuit(qr_evo, name=\"U\")\n",
    "\n",
    "qc_evo.x([qr_evo[1],qr_evo[2]])\n",
    "qc_evo.append(qc_U, qr_evo)\n",
    "\n",
    "qcs_tomo = state_tomography_circuits(qc_evo, qr_evo)\n",
    "qcs_tomo[3].draw(output=\"mpl\")"
   ]
  },
  {
   "cell_type": "code",
   "execution_count": 55,
   "metadata": {},
   "outputs": [],
   "source": [
    "qr_cal = QuantumRegister(3)\n",
    "cal_circ, state_labels = complete_meas_cal(qubit_list=[0,1,2], qr=qr_cal, circlabel='mcal')"
   ]
  },
  {
   "cell_type": "code",
   "execution_count": 56,
   "metadata": {},
   "outputs": [
    {
     "data": {
      "text/html": [
       "<pre style=\"word-wrap: normal;white-space: pre;background: #fff0;line-height: 1.1;font-family: &quot;Courier New&quot;,Courier,monospace\">          ░ ┌─┐      \n",
       "q1813_0: ─░─┤M├──────\n",
       "          ░ └╥┘┌─┐   \n",
       "q1813_1: ─░──╫─┤M├───\n",
       "          ░  ║ └╥┘┌─┐\n",
       "q1813_2: ─░──╫──╫─┤M├\n",
       "          ░  ║  ║ └╥┘\n",
       "  c20: 3/════╩══╩══╩═\n",
       "             0  1  2 </pre>"
      ],
      "text/plain": [
       "          ░ ┌─┐      \n",
       "q1813_0: ─░─┤M├──────\n",
       "          ░ └╥┘┌─┐   \n",
       "q1813_1: ─░──╫─┤M├───\n",
       "          ░  ║ └╥┘┌─┐\n",
       "q1813_2: ─░──╫──╫─┤M├\n",
       "          ░  ║  ║ └╥┘\n",
       "  c20: 3/════╩══╩══╩═\n",
       "             0  1  2 "
      ]
     },
     "execution_count": 56,
     "metadata": {},
     "output_type": "execute_result"
    }
   ],
   "source": [
    "cal_circ[0].draw()"
   ]
  },
  {
   "cell_type": "code",
   "execution_count": 57,
   "metadata": {},
   "outputs": [
    {
     "data": {
      "text/plain": [
       "['000', '001', '010', '011', '100', '101', '110', '111']"
      ]
     },
     "execution_count": 57,
     "metadata": {},
     "output_type": "execute_result"
    }
   ],
   "source": [
    "state_labels"
   ]
  },
  {
   "cell_type": "code",
   "execution_count": 58,
   "metadata": {},
   "outputs": [],
   "source": [
    "calib_circuits_identity = []\n",
    "calib_circuits_itself = []\n",
    "\n",
    "for i in state_labels:\n",
    "\n",
    "    cr_cal_itself = ClassicalRegister(3)\n",
    "    qr_cal_itself = QuantumRegister(3)\n",
    "    qc_cal_itself = QuantumCircuit(qr_cal_itself, cr_cal_itself, name=f\"mcalcal_{i}\")\n",
    "\n",
    "    cr_cal_id = ClassicalRegister(3)\n",
    "    qr_cal_id = QuantumRegister(3)\n",
    "    qc_cal_id = QuantumCircuit(qr_cal_id, cr_cal_id, name=f\"mcalcal_{i}\")\n",
    "\n",
    "    qc_cal_id.append(qc_U, qr_cal_id)\n",
    "\n",
    "    for k in range(3):\n",
    "        if i[::-1][k] == \"1\":\n",
    "            qc_cal_itself.x(qr_cal_itself[k])\n",
    "            qc_cal_id.x(qr_cal_id[k])\n",
    "        \n",
    "    qc_cal_itself.append(qc_U, qr_cal_itself)\n",
    "    \n",
    "    qc_cal_id.measure(qr_cal_id, cr_cal_id)\n",
    "    qc_cal_itself.measure(qr_cal_itself, cr_cal_itself)\n",
    "\n",
    "    calib_circuits_identity.append(qc_cal_id)\n",
    "    calib_circuits_itself.append(qc_cal_itself)"
   ]
  },
  {
   "cell_type": "code",
   "execution_count": 59,
   "metadata": {},
   "outputs": [
    {
     "data": {
      "text/html": [
       "<pre style=\"word-wrap: normal;white-space: pre;background: #fff0;line-height: 1.1;font-family: &quot;Courier New&quot;,Courier,monospace\">         ┌────┐┌───┐   ┌─┐\n",
       "q1817_0: ┤0   ├┤ X ├───┤M├\n",
       "         │    │└┬─┬┘   └╥┘\n",
       "q1817_1: ┤1 U ├─┤M├─────╫─\n",
       "         │    │ └╥┘ ┌─┐ ║ \n",
       "q1817_2: ┤2   ├──╫──┤M├─╫─\n",
       "         └────┘  ║  └╥┘ ║ \n",
       "  c24: 3/════════╩═══╩══╩═\n",
       "                 1   2  0 </pre>"
      ],
      "text/plain": [
       "         ┌────┐┌───┐   ┌─┐\n",
       "q1817_0: ┤0   ├┤ X ├───┤M├\n",
       "         │    │└┬─┬┘   └╥┘\n",
       "q1817_1: ┤1 U ├─┤M├─────╫─\n",
       "         │    │ └╥┘ ┌─┐ ║ \n",
       "q1817_2: ┤2   ├──╫──┤M├─╫─\n",
       "         └────┘  ║  └╥┘ ║ \n",
       "  c24: 3/════════╩═══╩══╩═\n",
       "                 1   2  0 "
      ]
     },
     "execution_count": 59,
     "metadata": {},
     "output_type": "execute_result"
    }
   ],
   "source": [
    "calib_circuits_identity[1].draw()"
   ]
  },
  {
   "cell_type": "code",
   "execution_count": 60,
   "metadata": {},
   "outputs": [
    {
     "data": {
      "text/html": [
       "<pre style=\"word-wrap: normal;white-space: pre;background: #fff0;line-height: 1.1;font-family: &quot;Courier New&quot;,Courier,monospace\">         ┌───┐┌────┐┌─┐      \n",
       "q1816_0: ┤ X ├┤0   ├┤M├──────\n",
       "         └───┘│    │└╥┘┌─┐   \n",
       "q1816_1: ─────┤1 U ├─╫─┤M├───\n",
       "              │    │ ║ └╥┘┌─┐\n",
       "q1816_2: ─────┤2   ├─╫──╫─┤M├\n",
       "              └────┘ ║  ║ └╥┘\n",
       "  c23: 3/════════════╩══╩══╩═\n",
       "                     0  1  2 </pre>"
      ],
      "text/plain": [
       "         ┌───┐┌────┐┌─┐      \n",
       "q1816_0: ┤ X ├┤0   ├┤M├──────\n",
       "         └───┘│    │└╥┘┌─┐   \n",
       "q1816_1: ─────┤1 U ├─╫─┤M├───\n",
       "              │    │ ║ └╥┘┌─┐\n",
       "q1816_2: ─────┤2   ├─╫──╫─┤M├\n",
       "              └────┘ ║  ║ └╥┘\n",
       "  c23: 3/════════════╩══╩══╩═\n",
       "                     0  1  2 "
      ]
     },
     "execution_count": 60,
     "metadata": {},
     "output_type": "execute_result"
    }
   ],
   "source": [
    "calib_circuits_itself[1].draw()"
   ]
  },
  {
   "cell_type": "code",
   "execution_count": 61,
   "metadata": {},
   "outputs": [],
   "source": [
    "job_tomo=execute(qcs_tomo, backend, shots=shots, initial_layout=[1,3,5])\n",
    "\n",
    "job_cal_our_identity=execute(calib_circuits_identity, backend = backend, shots=shots, initial_layout=[1,3,5])\n",
    "\n",
    "job_cal_our_itself=execute(calib_circuits_itself, backend = backend, shots=shots, initial_layout=[1,3,5])\n",
    "\n",
    "job_cal_qiskit=execute(cal_circ, backend, shots=shots, initial_layout=[1,3,5])"
   ]
  },
  {
   "cell_type": "code",
   "execution_count": 62,
   "metadata": {},
   "outputs": [],
   "source": [
    "qiskit_raw_cal = deepcopy(job_cal_qiskit.result().get_counts())"
   ]
  },
  {
   "cell_type": "markdown",
   "metadata": {},
   "source": [
    "# Mitigation:\n",
    "\n",
    "    - building the calibration matrices"
   ]
  },
  {
   "cell_type": "code",
   "execution_count": 63,
   "metadata": {},
   "outputs": [],
   "source": [
    "meas_fitter_our_identity = CompleteMeasFitter(job_cal_our_identity.result(), state_labels=state_labels)\n",
    "meas_fitter_our_itself = CompleteMeasFitter(job_cal_our_itself.result(), state_labels=state_labels)\n",
    "meas_fitter_qiskit = CompleteMeasFitter(job_cal_qiskit.result(), state_labels=state_labels)"
   ]
  },
  {
   "cell_type": "code",
   "execution_count": 64,
   "metadata": {},
   "outputs": [],
   "source": [
    "new_counts_qiskit = []\n",
    "for counts in job_cal_qiskit.result().get_counts():\n",
    "    new_counts_qiskit.append(meas_fitter_qiskit.filter.apply(counts, method=\"least_squares\"))"
   ]
  },
  {
   "cell_type": "code",
   "execution_count": 65,
   "metadata": {},
   "outputs": [
    {
     "data": {
      "text/latex": [
       "$\\displaystyle \\left[\\begin{matrix}1.0 & 0 & 6.7762635780344 \\cdot 10^{-24} & 0 & 5.9292306307801 \\cdot 10^{-24} & 8.470329472543 \\cdot 10^{-25} & 0 & 0\\\\7.99021730669893 \\cdot 10^{-17} & 1.0 & 1.6940658945086 \\cdot 10^{-24} & 0 & 0 & 0 & 3.3881317890172 \\cdot 10^{-24} & 0\\\\5.0821976835258 \\cdot 10^{-24} & 6.7762635780344 \\cdot 10^{-24} & 1.0 & 1.84292812334028 \\cdot 10^{-18} & 0 & 1.6940658945086 \\cdot 10^{-24} & 0 & 0\\\\3.3881317890172 \\cdot 10^{-24} & 1.6940658945086 \\cdot 10^{-24} & 9.86193485171861 \\cdot 10^{-17} & 1.0 & 0 & 8.470329472543 \\cdot 10^{-25} & 1.6940658945086 \\cdot 10^{-24} & 1.22584234678055 \\cdot 10^{-17}\\\\0 & 0 & 0 & 0 & 1.0 & 8.5740010960343 \\cdot 10^{-17} & 1.27054942088145 \\cdot 10^{-24} & 0\\\\0 & 1.48230765769503 \\cdot 10^{-24} & 5.0821976835258 \\cdot 10^{-24} & 0 & 2.11758236813575 \\cdot 10^{-24} & 1.0 & 0 & 0\\\\0 & 1.6940658945086 \\cdot 10^{-24} & 0 & 0 & 4.2351647362715 \\cdot 10^{-25} & 0 & 1.0 & 0\\\\3.3881317890172 \\cdot 10^{-24} & 0 & 0 & 8.470329472543 \\cdot 10^{-25} & 8.470329472543 \\cdot 10^{-25} & 0 & 6.17622281239732 \\cdot 10^{-17} & 1.0\\end{matrix}\\right]$"
      ],
      "text/plain": [
       "Matrix([\n",
       "[                 1.0,                    0,  6.7762635780344e-24,                    0,  5.9292306307801e-24,  8.470329472543e-25,                    0,                    0],\n",
       "[7.99021730669893e-17,                  1.0,  1.6940658945086e-24,                    0,                    0,                   0,  3.3881317890172e-24,                    0],\n",
       "[ 5.0821976835258e-24,  6.7762635780344e-24,                  1.0, 1.84292812334028e-18,                    0, 1.6940658945086e-24,                    0,                    0],\n",
       "[ 3.3881317890172e-24,  1.6940658945086e-24, 9.86193485171861e-17,                  1.0,                    0,  8.470329472543e-25,  1.6940658945086e-24, 1.22584234678055e-17],\n",
       "[                   0,                    0,                    0,                    0,                  1.0, 8.5740010960343e-17, 1.27054942088145e-24,                    0],\n",
       "[                   0, 1.48230765769503e-24,  5.0821976835258e-24,                    0, 2.11758236813575e-24,                 1.0,                    0,                    0],\n",
       "[                   0,  1.6940658945086e-24,                    0,                    0,  4.2351647362715e-25,                   0,                  1.0,                    0],\n",
       "[ 3.3881317890172e-24,                    0,                    0,   8.470329472543e-25,   8.470329472543e-25,                   0, 6.17622281239732e-17,                  1.0]])"
      ]
     },
     "execution_count": 65,
     "metadata": {},
     "output_type": "execute_result"
    }
   ],
   "source": [
    "migigated_qiskit = occurrences_to_matrix(new_counts_qiskit)\n",
    "Matrix(migigated_qiskit)"
   ]
  },
  {
   "cell_type": "code",
   "execution_count": 66,
   "metadata": {},
   "outputs": [
    {
     "data": {
      "text/latex": [
       "$\\displaystyle \\left[\\begin{matrix}0.94 & 0.049 & 0.033 & 0.0017 & 0.031 & 0.0016 & 0.0011 & 0\\\\0.019 & 0.91 & 0.00062 & 0.034 & 0.00066 & 0.031 & 0 & 0.0012\\\\0.012 & 0 & 0.92 & 0.048 & 0 & 0 & 0.03 & 0.0018\\\\0 & 0.01 & 0.018 & 0.89 & 0 & 0 & 0.00053 & 0.029\\\\0.027 & 0.0012 & 0.0012 & 0 & 0.94 & 0.049 & 0.033 & 0.0018\\\\0.00056 & 0.026 & 0 & 0.00088 & 0.019 & 0.91 & 0.00088 & 0.032\\\\0 & 0 & 0.027 & 0.0013 & 0.0098 & 0 & 0.92 & 0.05\\\\0 & 0 & 0 & 0.024 & 0 & 0.011 & 0.017 & 0.88\\end{matrix}\\right]$"
      ],
      "text/plain": [
       "Matrix([\n",
       "[   0.94,  0.049,   0.033,  0.0017,   0.031, 0.0016,  0.0011,      0],\n",
       "[  0.019,   0.91, 0.00062,   0.034, 0.00066,  0.031,       0, 0.0012],\n",
       "[  0.012,      0,    0.92,   0.048,       0,      0,    0.03, 0.0018],\n",
       "[      0,   0.01,   0.018,    0.89,       0,      0, 0.00053,  0.029],\n",
       "[  0.027, 0.0012,  0.0012,       0,    0.94,  0.049,   0.033, 0.0018],\n",
       "[0.00056,  0.026,       0, 0.00088,   0.019,   0.91, 0.00088,  0.032],\n",
       "[      0,      0,   0.027,  0.0013,  0.0098,      0,    0.92,   0.05],\n",
       "[      0,      0,       0,   0.024,       0,  0.011,   0.017,   0.88]])"
      ]
     },
     "execution_count": 66,
     "metadata": {},
     "output_type": "execute_result"
    }
   ],
   "source": [
    "not_migigated_qiskit = occurrences_to_matrix(qiskit_raw_cal)\n",
    "Matrix(not_migigated_qiskit).n(2, chop=True)"
   ]
  },
  {
   "cell_type": "code",
   "execution_count": 67,
   "metadata": {},
   "outputs": [
    {
     "data": {
      "text/latex": [
       "$\\displaystyle \\left[\\begin{matrix}1.1 & -0.058 & -0.038 & 0.0023 & -0.035 & 0.002 & 0.0012 & 0\\\\-0.022 & 1.1 & 0.00087 & -0.042 & 0.00069 & -0.037 & 0 & 0.0011\\\\-0.013 & 0.00082 & 1.1 & -0.058 & 0.00049 & 0 & -0.036 & 0.0017\\\\0 & -0.013 & -0.022 & 1.1 & 0 & 0.00051 & 0.00078 & -0.037\\\\-0.031 & 0.0019 & 0.00084 & 0 & 1.1 & -0.058 & -0.038 & 0.002\\\\0.00061 & -0.032 & 0 & 0.0012 & -0.022 & 1.1 & 0 & -0.039\\\\0.00051 & 0 & -0.032 & 0.0018 & -0.011 & 0.00083 & 1.1 & -0.062\\\\0 & 0 & 0.00066 & -0.03 & 0 & -0.013 & -0.021 & 1.1\\end{matrix}\\right]$"
      ],
      "text/plain": [
       "Matrix([\n",
       "[    1.1,  -0.058,  -0.038, 0.0023,  -0.035,   0.002,  0.0012,      0],\n",
       "[ -0.022,     1.1, 0.00087, -0.042, 0.00069,  -0.037,       0, 0.0011],\n",
       "[ -0.013, 0.00082,     1.1, -0.058, 0.00049,       0,  -0.036, 0.0017],\n",
       "[      0,  -0.013,  -0.022,    1.1,       0, 0.00051, 0.00078, -0.037],\n",
       "[ -0.031,  0.0019, 0.00084,      0,     1.1,  -0.058,  -0.038,  0.002],\n",
       "[0.00061,  -0.032,       0, 0.0012,  -0.022,     1.1,       0, -0.039],\n",
       "[0.00051,       0,  -0.032, 0.0018,  -0.011, 0.00083,     1.1, -0.062],\n",
       "[      0,       0, 0.00066,  -0.03,       0,  -0.013,  -0.021,    1.1]])"
      ]
     },
     "execution_count": 67,
     "metadata": {},
     "output_type": "execute_result"
    }
   ],
   "source": [
    "calib = np.linalg.multi_dot([migigated_qiskit, np.linalg.inv(not_migigated_qiskit)])\n",
    "Matrix(calib).n(2, chop=True)"
   ]
  },
  {
   "cell_type": "code",
   "execution_count": 68,
   "metadata": {},
   "outputs": [],
   "source": [
    "U_tilde_identity=meas_fitter_our_identity.cal_matrix\n",
    "U_tilde_itself=meas_fitter_our_itself.cal_matrix\n",
    "U_tilde_qiskit=meas_fitter_qiskit.cal_matrix"
   ]
  },
  {
   "cell_type": "code",
   "execution_count": 69,
   "metadata": {},
   "outputs": [],
   "source": [
    "def matrix_from_cirquit(qc, phase=0, type=\"sympy\"):\n",
    "\n",
    "    backend = Aer.get_backend('unitary_simulator')\n",
    "    job = execute(qc, backend, shots=32000)\n",
    "    result = job.result()\n",
    "    A=result.get_unitary(qc, decimals=10)*np.exp(1j*phase)\n",
    "    if type==\"sympy\":\n",
    "        return Matrix(A)\n",
    "    else:\n",
    "        return A"
   ]
  },
  {
   "cell_type": "code",
   "execution_count": 70,
   "metadata": {},
   "outputs": [
    {
     "data": {
      "text/html": [
       "<pre style=\"word-wrap: normal;white-space: pre;background: #fff0;line-height: 1.1;font-family: &quot;Courier New&quot;,Courier,monospace\">          ░ ┌─────┐ ┌───┐      ┌─┐   \n",
       "q2951_0: ─░─┤ Sdg ├─┤ H ├──────┤M├───\n",
       "          ░ └─┬─┬─┘ └───┘      └╥┘   \n",
       "q2951_1: ─░───┤M├───────────────╫────\n",
       "          ░   └╥┘  ┌─────┐┌───┐ ║ ┌─┐\n",
       "q2951_2: ─░────╫───┤ Sdg ├┤ H ├─╫─┤M├\n",
       "          ░    ║   └─────┘└───┘ ║ └╥┘\n",
       "  c37: 3/══════╩════════════════╩══╩═\n",
       "               1                0  2 </pre>"
      ],
      "text/plain": [
       "          ░ ┌─────┐ ┌───┐      ┌─┐   \n",
       "q2951_0: ─░─┤ Sdg ├─┤ H ├──────┤M├───\n",
       "          ░ └─┬─┬─┘ └───┘      └╥┘   \n",
       "q2951_1: ─░───┤M├───────────────╫────\n",
       "          ░   └╥┘  ┌─────┐┌───┐ ║ ┌─┐\n",
       "q2951_2: ─░────╫───┤ Sdg ├┤ H ├─╫─┤M├\n",
       "          ░    ║   └─────┘└───┘ ║ └╥┘\n",
       "  c37: 3/══════╩════════════════╩══╩═\n",
       "               1                0  2 "
      ]
     },
     "execution_count": 70,
     "metadata": {},
     "output_type": "execute_result"
    }
   ],
   "source": [
    "qr_basi = QuantumRegister(3)\n",
    "qc_basi = QuantumCircuit(qr_basi)\n",
    "\n",
    "qcs_basis = state_tomography_circuits(qc_basi, qr_basi)\n",
    "\n",
    "qcs_basis[0].remove_final_measurements()\n",
    "\n",
    "qcs_basis[16].draw()"
   ]
  },
  {
   "cell_type": "code",
   "execution_count": 71,
   "metadata": {},
   "outputs": [],
   "source": [
    "C_matrices_itself = []\n",
    "C_matrices_identity = []\n",
    "\n",
    "C_itself = np.dot(U_tilde_itself, np.linalg.inv(U_ideal))\n",
    "C_identity = U_tilde_identity\n",
    "\n",
    "for base in qcs_basis:\n",
    "    \n",
    "    base.remove_final_measurements()\n",
    "\n",
    "    base_matrix = np.matrix(matrix_from_cirquit(base, type=\"numpy\"))\n",
    "    base_matrix_H = base_matrix.getH()\n",
    "\n",
    "    C_aus_itself = np.linalg.multi_dot([U_tilde_qiskit, base_matrix, np.linalg.inv(U_tilde_qiskit), C_itself,  base_matrix_H])\n",
    "    #C_aus_itself = np.linalg.multi_dot([base_matrix, U_tilde_qiskit, np.linalg.inv(U_tilde_qiskit), C_itself])\n",
    "    C_aus_identity = np.dot(base_matrix, C_identity).dot(base_matrix_H)\n",
    "\n",
    "    C_matrices_identity.append(np.asarray(C_aus_identity))\n",
    "    C_matrices_itself.append(np.asarray(C_aus_itself))"
   ]
  },
  {
   "cell_type": "code",
   "execution_count": 72,
   "metadata": {},
   "outputs": [],
   "source": [
    "from copy import deepcopy\n",
    "\n",
    "meas_fitters_identity = []\n",
    "meas_fitters_itself = []\n",
    "\n",
    "for C_new in C_matrices_identity:\n",
    "    meas_fitter_our_aus = deepcopy(meas_fitter_our_identity)\n",
    "    meas_fitter_our_aus._tens_fitt.cal_matrices[0]=C_new\n",
    "\n",
    "    meas_fitters_identity.append(meas_fitter_our_aus)\n",
    "\n",
    "for C_new in C_matrices_itself:\n",
    "    meas_fitter_our_aus = deepcopy(meas_fitter_our_itself)\n",
    "    meas_fitter_our_aus._tens_fitt.cal_matrices[0]=C_new\n",
    "\n",
    "    meas_fitters_itself.append(meas_fitter_our_aus)"
   ]
  },
  {
   "cell_type": "code",
   "execution_count": 73,
   "metadata": {},
   "outputs": [],
   "source": [
    "target_state = (One^One^Zero).to_matrix()\n",
    "#target_state = (Zero^One^One).to_matrix()\n",
    "\n",
    "\n",
    "fids=np.zeros(4)\n",
    "\n",
    "raw_res=deepcopy(job_tomo.result())\n",
    "qiskit_res=deepcopy(raw_res)\n",
    "identity_res=deepcopy(raw_res)\n",
    "itself_res=deepcopy(raw_res)"
   ]
  },
  {
   "cell_type": "code",
   "execution_count": 74,
   "metadata": {},
   "outputs": [
    {
     "data": {
      "text/plain": [
       "{'000': 73,\n",
       " '010': 939,\n",
       " '011': 12177,\n",
       " '111': 1101,\n",
       " '001': 985,\n",
       " '100': 972,\n",
       " '110': 3236,\n",
       " '101': 12517}"
      ]
     },
     "execution_count": 74,
     "metadata": {},
     "output_type": "execute_result"
    }
   ],
   "source": [
    "raw_res.get_counts(-1)"
   ]
  },
  {
   "cell_type": "code",
   "execution_count": 75,
   "metadata": {},
   "outputs": [],
   "source": [
    "for i in range(27):\n",
    "\n",
    "    old_counts=raw_res.get_counts(i)\n",
    "    new_counts_qiskit = meas_fitter_qiskit.filter.apply(old_counts, method=\"least_squares\")\n",
    "    qiskit_res.results[i].data.counts = new_counts_qiskit\n"
   ]
  },
  {
   "cell_type": "code",
   "execution_count": 76,
   "metadata": {},
   "outputs": [],
   "source": [
    "for i in range(27):\n",
    "\n",
    "    old_counts=raw_res.get_counts(i)\n",
    "    \n",
    "    new_counts_id = meas_fitters_identity[i].filter.apply(old_counts, method=\"least_squares\")\n",
    "    identity_res.results[i].data.counts = new_counts_id\n",
    "\n",
    "    new_counts_it = meas_fitters_itself[i].filter.apply(old_counts, method=\"least_squares\")\n",
    "    itself_res.results[i].data.counts = new_counts_it"
   ]
  },
  {
   "cell_type": "code",
   "execution_count": 80,
   "metadata": {},
   "outputs": [
    {
     "data": {
      "text/plain": [
       "{'000': 73,\n",
       " '010': 939,\n",
       " '011': 12177,\n",
       " '111': 1101,\n",
       " '001': 985,\n",
       " '100': 972,\n",
       " '110': 3236,\n",
       " '101': 12517}"
      ]
     },
     "execution_count": 80,
     "metadata": {},
     "output_type": "execute_result"
    }
   ],
   "source": [
    "raw_res.get_counts(-1)"
   ]
  },
  {
   "cell_type": "code",
   "execution_count": 77,
   "metadata": {},
   "outputs": [
    {
     "data": {
      "text/plain": [
       "{'000': 0.0004937316401218585,\n",
       " '001': 6331.11825109448,\n",
       " '010': 19436.374115224768,\n",
       " '011': 5.532241684493023e-10,\n",
       " '100': 0.00011954462442495207,\n",
       " '101': 2949.065145957777,\n",
       " '110': 0.0003428917338809761,\n",
       " '111': 3283.4453080453304}"
      ]
     },
     "execution_count": 77,
     "metadata": {},
     "output_type": "execute_result"
    }
   ],
   "source": [
    "itself_res.get_counts(-1)"
   ]
  },
  {
   "cell_type": "code",
   "execution_count": 78,
   "metadata": {},
   "outputs": [
    {
     "data": {
      "text/plain": [
       "{'010': 4.2459690138536334e-10,\n",
       " '011': 14111.656621391843,\n",
       " '100': 4.0715634680455166e-10,\n",
       " '101': 14146.840685497298,\n",
       " '110': 3527.93157592887,\n",
       " '111': 213.57111718431096}"
      ]
     },
     "execution_count": 78,
     "metadata": {},
     "output_type": "execute_result"
    }
   ],
   "source": [
    "identity_res.get_counts(-1)"
   ]
  },
  {
   "cell_type": "code",
   "execution_count": 79,
   "metadata": {},
   "outputs": [
    {
     "data": {
      "text/plain": [
       "array([0.10055169, 0.10656496, 0.10038374, 0.15496404])"
      ]
     },
     "execution_count": 79,
     "metadata": {},
     "output_type": "execute_result"
    }
   ],
   "source": [
    "fids[0] = fidelity_count(raw_res, qcs_tomo, target_state)\n",
    "fids[1] = fidelity_count(qiskit_res, qcs_tomo, target_state)\n",
    "fids[2] = fidelity_count(identity_res, qcs_tomo, target_state)\n",
    "fids[3] = fidelity_count(itself_res, qcs_tomo, target_state)\n",
    "\n",
    "fids"
   ]
  },
  {
   "cell_type": "code",
   "execution_count": null,
   "metadata": {},
   "outputs": [],
   "source": []
  },
  {
   "cell_type": "code",
   "execution_count": null,
   "metadata": {},
   "outputs": [],
   "source": []
  },
  {
   "cell_type": "code",
   "execution_count": null,
   "metadata": {},
   "outputs": [],
   "source": []
  },
  {
   "cell_type": "code",
   "execution_count": null,
   "metadata": {},
   "outputs": [],
   "source": []
  }
 ],
 "metadata": {
  "interpreter": {
   "hash": "aee8b7b246df8f9039afb4144a1f6fd8d2ca17a180786b69acc140d282b71a49"
  },
  "kernelspec": {
   "display_name": "Python 3.10.2 64-bit",
   "language": "python",
   "name": "python3"
  },
  "language_info": {
   "codemirror_mode": {
    "name": "ipython",
    "version": 3
   },
   "file_extension": ".py",
   "mimetype": "text/x-python",
   "name": "python",
   "nbconvert_exporter": "python",
   "pygments_lexer": "ipython3",
   "version": "3.10.2"
  },
  "orig_nbformat": 4
 },
 "nbformat": 4,
 "nbformat_minor": 2
}
