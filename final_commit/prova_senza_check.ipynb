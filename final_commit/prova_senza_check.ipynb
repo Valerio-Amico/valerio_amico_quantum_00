{
 "cells": [
  {
   "cell_type": "code",
   "execution_count": 1,
   "metadata": {},
   "outputs": [],
   "source": [
    "from lib.functions0 import *\n",
    "from lib.utility import *\n",
    "import numpy as np\n",
    "from scipy.linalg import expm\n",
    "from qiskit.utils.mitigation.fitters import CompleteMeasFitter\n",
    "from qiskit.ignis.mitigation.measurement import  complete_meas_cal\n",
    "from qiskit import Aer, assemble, QuantumCircuit, QuantumRegister, ClassicalRegister, IBMQ, transpile, execute\n",
    "from qiskit.providers.aer import AerSimulator, QasmSimulator\n",
    "from qiskit.opflow import Zero, One, I, X, Y, Z\n",
    "from qiskit.ignis.verification.tomography import state_tomography_circuits, StateTomographyFitter\n",
    "from qiskit.quantum_info import state_fidelity\n",
    "import matplotlib.pyplot as plt\n",
    "%load_ext autoreload\n",
    "%autoreload 2\n",
    "import warnings\n",
    "warnings.filterwarnings('ignore')\n",
    "IBMQ.load_account()\n",
    "provider = IBMQ.get_provider(hub='ibm-q-community',\n",
    "                            group='ibmquantumawards', \n",
    "                            project='open-science-22')\n",
    "\n",
    "backend_sim_jakarta = QasmSimulator.from_backend(provider.get_backend('ibmq_jakarta'))\n",
    "backend_real_jakarta = provider.get_backend('ibmq_jakarta')\n",
    "backend_sim = Aer.get_backend('qasm_simulator')"
   ]
  },
  {
   "cell_type": "code",
   "execution_count": 2,
   "metadata": {},
   "outputs": [
    {
     "data": {
      "text/plain": [
       "'/Library/Frameworks/Python.framework/Versions/3.10/lib/python3.10/site-packages/qiskit/utils/mitigation/fitters.py'"
      ]
     },
     "execution_count": 2,
     "metadata": {},
     "output_type": "execute_result"
    }
   ],
   "source": [
    "import qiskit\n",
    "qiskit.utils.mitigation.fitters.__file__"
   ]
  },
  {
   "cell_type": "code",
   "execution_count": 133,
   "metadata": {},
   "outputs": [
    {
     "data": {
      "text/latex": [
       "$\\displaystyle \\left[\\begin{matrix}0.309 - 0.951 i & 0 & 0 & 0 & 0 & 0 & 0 & 0\\\\0 & 0.468 - 0.219 i & 0.371 - 0.519 i & 0 & -0.53 - 0.213 i & 0 & 0 & 0\\\\0 & 0.375 - 0.507 i & -0.436 + 0.0748 i & 0 & 0.371 - 0.519 i & 0 & 0 & 0\\\\0 & 0 & 0 & 0.468 - 0.219 i & 0 & 0.375 - 0.507 i & -0.534 - 0.225 i & 0\\\\0 & -0.534 - 0.225 i & 0.375 - 0.507 i & 0 & 0.468 - 0.219 i & 0 & 0 & 0\\\\0 & 0 & 0 & 0.371 - 0.519 i & 0 & -0.436 + 0.0748 i & 0.375 - 0.507 i & 0\\\\0 & 0 & 0 & -0.53 - 0.213 i & 0 & 0.371 - 0.519 i & 0.468 - 0.219 i & 0\\\\0 & 0 & 0 & 0 & 0 & 0 & 0 & 0.309 - 0.951 i\\end{matrix}\\right]$"
      ],
      "text/plain": [
       "Matrix([\n",
       "[0.309 - 0.951*I,                0,                 0,               0,               0,                 0,                0,               0],\n",
       "[              0,  0.468 - 0.219*I,   0.371 - 0.519*I,               0, -0.53 - 0.213*I,                 0,                0,               0],\n",
       "[              0,  0.375 - 0.507*I, -0.436 + 0.0748*I,               0, 0.371 - 0.519*I,                 0,                0,               0],\n",
       "[              0,                0,                 0, 0.468 - 0.219*I,               0,   0.375 - 0.507*I, -0.534 - 0.225*I,               0],\n",
       "[              0, -0.534 - 0.225*I,   0.375 - 0.507*I,               0, 0.468 - 0.219*I,                 0,                0,               0],\n",
       "[              0,                0,                 0, 0.371 - 0.519*I,               0, -0.436 + 0.0748*I,  0.375 - 0.507*I,               0],\n",
       "[              0,                0,                 0, -0.53 - 0.213*I,               0,   0.371 - 0.519*I,  0.468 - 0.219*I,               0],\n",
       "[              0,                0,                 0,               0,               0,                 0,                0, 0.309 - 0.951*I]])"
      ]
     },
     "execution_count": 133,
     "metadata": {},
     "output_type": "execute_result"
    }
   ],
   "source": [
    "n_steps=100\n",
    "time=np.pi/5\n",
    "#initial_state={\"110\": 1}\n",
    "shots = 32000\n",
    "backend = backend_sim_jakarta\n",
    "\n",
    "X = np.array([[0,1],[1,0]])  #defining the pauli matrices\n",
    "Y = np.array([[0,-1j],[1j,0]])\n",
    "Z = np.array([[1,0],[0,-1]])\n",
    "Id = np.eye(2)\n",
    "\n",
    "# defining the hamiltonian divided in: \n",
    "#       - H1: first two qubits interactions.\n",
    "#       - H2: second two qubits interactions.\n",
    "\n",
    "H1 = np.kron(X, np.kron(X,Id)) + np.kron(Y, np.kron(Y,Id)) + np.kron(Z, np.kron(Z,Id)) \n",
    "H2 = np.kron(Id, np.kron(X,X)) + np.kron(Id, np.kron(Y,Y)) + np.kron(Id, np.kron(Z,Z)) \n",
    "\n",
    "# building numerically the trotter step matrix, and the whole operator (trotter step)^n_steps.\n",
    "\n",
    "trotter_step_matrix_= expm(-time/n_steps*H1*1j).dot(expm(-time/n_steps*H2*1j))\n",
    "trotterized = np.linalg.matrix_power(trotter_step_matrix_, n_steps)\n",
    "Matrix(trotterized).n(3, chop=True)"
   ]
  },
  {
   "cell_type": "code",
   "execution_count": 134,
   "metadata": {},
   "outputs": [
    {
     "data": {
      "image/png": "[encoded data removed]",
      "text/plain": [
       "<Figure size 1350.8x204.68 with 1 Axes>"
      ]
     },
     "execution_count": 134,
     "metadata": {},
     "output_type": "execute_result"
    }
   ],
   "source": [
    "# phase_1_1, phase_2_1, phase_1_2, phase_2_2, a1, a2 = get_gates_parameters(trotterized, initial_state={\"110\": 1.0})\n",
    "\n",
    "A0 = trotterized[3, 6]\n",
    "A1 = trotterized[5, 6]\n",
    "A2 = trotterized[6, 6]\n",
    "\n",
    "r1=float(atan2(im(A0),re(A0))+atan2(im(A2),re(A2)))/2\n",
    "r2=0\n",
    "f1=float(atan2(im(A2),re(A2))-atan2(im(A1),re(A1))-np.pi)/2\n",
    "f2=float((atan2(im(A2),re(A2))-atan2(im(A0),re(A0)))/2-f1)\n",
    "a1=float(acos(abs(A2)))\n",
    "a2=float(acos(abs(A1)/sin(a1)))\n",
    "\n",
    "M1_qc = fixed_magnetization_two_qubit_gate(r1,f1,a1)\n",
    "M2_qc = fixed_magnetization_two_qubit_gate(r2,f2,a2)\n",
    "\n",
    "qr_U = QuantumRegister(3 ,name=\"q\")\n",
    "qc_U = QuantumCircuit(qr_U, name=\"U\")\n",
    "\n",
    "qc_U.append(M1_qc, [qr_U[0],qr_U[1]])\n",
    "qc_U.append(M2_qc, [qr_U[1],qr_U[2]])\n",
    "\n",
    "qc_U=transpile(qc_U, basis_gates=[\"cx\",\"rz\",\"x\",\"sx\"])\n",
    "qc_U.draw(output=\"mpl\")"
   ]
  },
  {
   "cell_type": "code",
   "execution_count": 135,
   "metadata": {},
   "outputs": [
    {
     "data": {
      "text/latex": [
       "$\\displaystyle \\left[\\begin{matrix}0.9057666294 + 0.4237768435 i & 0 & 0 & 0 & 0 & 0 & 0 & 0\\\\0 & 0.4681540745 + 0.2190330815 i & 0.7889484898 + 0.3322898616 i & 0 & 0 & 0 & 0 & 0\\\\0 & -0.3745018365 - 0.5072650329 i & 0.2378719778 + 0.2972213653 i & 0 & -0.6126538413 - 0.286639519 i & 0 & 0 & 0\\\\0 & 0 & 0 & 0.4602256207 + 0.5750525497 i & 0 & -0.3166559495 - 0.1481523545 i & -0.5336389166 - 0.2247584019 i & 0\\\\0 & -0.5336389166 + 0.2247584019 i & 0.3166559495 - 0.1481523545 i & 0 & 0.4602256207 - 0.5750525497 i & 0 & 0 & 0\\\\0 & 0 & 0 & 0.6126538413 - 0.286639519 i & 0 & 0.2378719778 - 0.2972213653 i & 0.3745018365 - 0.5072650329 i & 0\\\\0 & 0 & 0 & 0 & 0 & -0.7889484898 + 0.3322898616 i & 0.4681540745 - 0.2190330815 i & 0\\\\0 & 0 & 0 & 0 & 0 & 0 & 0 & 0.9057666294 - 0.4237768435 i\\end{matrix}\\right]$"
      ],
      "text/plain": [
       "Matrix([\n",
       "[0.9057666294 + 0.4237768435*I,                              0,                             0,                             0,                             0,                              0,                              0,                             0],\n",
       "[                            0,  0.4681540745 + 0.2190330815*I, 0.7889484898 + 0.3322898616*I,                             0,                             0,                              0,                              0,                             0],\n",
       "[                            0, -0.3745018365 - 0.5072650329*I, 0.2378719778 + 0.2972213653*I,                             0, -0.6126538413 - 0.286639519*I,                              0,                              0,                             0],\n",
       "[                            0,                              0,                             0, 0.4602256207 + 0.5750525497*I,                             0, -0.3166559495 - 0.1481523545*I, -0.5336389166 - 0.2247584019*I,                             0],\n",
       "[                            0, -0.5336389166 + 0.2247584019*I, 0.3166559495 - 0.1481523545*I,                             0, 0.4602256207 - 0.5750525497*I,                              0,                              0,                             0],\n",
       "[                            0,                              0,                             0,  0.6126538413 - 0.286639519*I,                             0,  0.2378719778 - 0.2972213653*I,  0.3745018365 - 0.5072650329*I,                             0],\n",
       "[                            0,                              0,                             0,                             0,                             0, -0.7889484898 + 0.3322898616*I,  0.4681540745 - 0.2190330815*I,                             0],\n",
       "[                            0,                              0,                             0,                             0,                             0,                              0,                              0, 0.9057666294 - 0.4237768435*I]])"
      ]
     },
     "execution_count": 135,
     "metadata": {},
     "output_type": "execute_result"
    }
   ],
   "source": [
    "U_ideal=matrix_from_circuit(qc_U, type=\"numpy\")\n",
    "Matrix(U_ideal)"
   ]
  },
  {
   "cell_type": "code",
   "execution_count": 136,
   "metadata": {},
   "outputs": [
    {
     "data": {
      "image/png": "[encoded data removed]",
      "text/plain": [
       "<Figure size 519.393x264.88 with 1 Axes>"
      ]
     },
     "execution_count": 136,
     "metadata": {},
     "output_type": "execute_result"
    }
   ],
   "source": [
    "qr_evo = QuantumRegister(3, name=\"q\")\n",
    "qc_evo = QuantumCircuit(qr_evo, name=\"U\")\n",
    "\n",
    "qc_evo.x([qr_evo[1],qr_evo[2]])\n",
    "qc_evo.append(qc_U, qr_evo)\n",
    "\n",
    "qcs_tomo = state_tomography_circuits(qc_evo, qr_evo)\n",
    "qcs_tomo[3].draw(output=\"mpl\")"
   ]
  },
  {
   "cell_type": "code",
   "execution_count": 137,
   "metadata": {},
   "outputs": [],
   "source": [
    "qr_cal = QuantumRegister(3)\n",
    "cal_circ, state_labels = complete_meas_cal(qubit_list=[0,1,2], qr=qr_cal, circlabel='mcal')"
   ]
  },
  {
   "cell_type": "code",
   "execution_count": 138,
   "metadata": {},
   "outputs": [
    {
     "data": {
      "text/html": [
       "<pre style=\"word-wrap: normal;white-space: pre;background: #fff0;line-height: 1.1;font-family: &quot;Courier New&quot;,Courier,monospace\">          ░ ┌─┐      \n",
       "q6241_0: ─░─┤M├──────\n",
       "          ░ └╥┘┌─┐   \n",
       "q6241_1: ─░──╫─┤M├───\n",
       "          ░  ║ └╥┘┌─┐\n",
       "q6241_2: ─░──╫──╫─┤M├\n",
       "          ░  ║  ║ └╥┘\n",
       "  c77: 3/════╩══╩══╩═\n",
       "             0  1  2 </pre>"
      ],
      "text/plain": [
       "          ░ ┌─┐      \n",
       "q6241_0: ─░─┤M├──────\n",
       "          ░ └╥┘┌─┐   \n",
       "q6241_1: ─░──╫─┤M├───\n",
       "          ░  ║ └╥┘┌─┐\n",
       "q6241_2: ─░──╫──╫─┤M├\n",
       "          ░  ║  ║ └╥┘\n",
       "  c77: 3/════╩══╩══╩═\n",
       "             0  1  2 "
      ]
     },
     "execution_count": 138,
     "metadata": {},
     "output_type": "execute_result"
    }
   ],
   "source": [
    "cal_circ[0].draw()"
   ]
  },
  {
   "cell_type": "code",
   "execution_count": 139,
   "metadata": {},
   "outputs": [
    {
     "data": {
      "text/plain": [
       "['000', '001', '010', '011', '100', '101', '110', '111']"
      ]
     },
     "execution_count": 139,
     "metadata": {},
     "output_type": "execute_result"
    }
   ],
   "source": [
    "state_labels"
   ]
  },
  {
   "cell_type": "code",
   "execution_count": 140,
   "metadata": {},
   "outputs": [],
   "source": [
    "calib_circuits_identity = []\n",
    "calib_circuits_itself = []\n",
    "\n",
    "for i in state_labels:\n",
    "\n",
    "    cr_cal_itself = ClassicalRegister(3)\n",
    "    qr_cal_itself = QuantumRegister(3)\n",
    "    qc_cal_itself = QuantumCircuit(qr_cal_itself, cr_cal_itself, name=f\"mcalcal_{i}\")\n",
    "\n",
    "    cr_cal_id = ClassicalRegister(3)\n",
    "    qr_cal_id = QuantumRegister(3)\n",
    "    qc_cal_id = QuantumCircuit(qr_cal_id, cr_cal_id, name=f\"mcalcal_{i}\")\n",
    "\n",
    "    qc_cal_id.append(qc_U, qr_cal_id)\n",
    "\n",
    "    for k in range(3):\n",
    "        if i[::-1][k] == \"1\":\n",
    "            qc_cal_itself.x(qr_cal_itself[k])\n",
    "            qc_cal_id.x(qr_cal_id[k])\n",
    "        \n",
    "    qc_cal_itself.append(qc_U, qr_cal_itself)\n",
    "    \n",
    "    qc_cal_id.measure(qr_cal_id, cr_cal_id)\n",
    "    qc_cal_itself.measure(qr_cal_itself, cr_cal_itself)\n",
    "\n",
    "    calib_circuits_identity.append(qc_cal_id)\n",
    "    calib_circuits_itself.append(qc_cal_itself)"
   ]
  },
  {
   "cell_type": "code",
   "execution_count": 141,
   "metadata": {},
   "outputs": [
    {
     "data": {
      "text/html": [
       "<pre style=\"word-wrap: normal;white-space: pre;background: #fff0;line-height: 1.1;font-family: &quot;Courier New&quot;,Courier,monospace\">         ┌────┐┌───┐   ┌─┐\n",
       "q6245_0: ┤0   ├┤ X ├───┤M├\n",
       "         │    │└┬─┬┘   └╥┘\n",
       "q6245_1: ┤1 U ├─┤M├─────╫─\n",
       "         │    │ └╥┘ ┌─┐ ║ \n",
       "q6245_2: ┤2   ├──╫──┤M├─╫─\n",
       "         └────┘  ║  └╥┘ ║ \n",
       "  c81: 3/════════╩═══╩══╩═\n",
       "                 1   2  0 </pre>"
      ],
      "text/plain": [
       "         ┌────┐┌───┐   ┌─┐\n",
       "q6245_0: ┤0   ├┤ X ├───┤M├\n",
       "         │    │└┬─┬┘   └╥┘\n",
       "q6245_1: ┤1 U ├─┤M├─────╫─\n",
       "         │    │ └╥┘ ┌─┐ ║ \n",
       "q6245_2: ┤2   ├──╫──┤M├─╫─\n",
       "         └────┘  ║  └╥┘ ║ \n",
       "  c81: 3/════════╩═══╩══╩═\n",
       "                 1   2  0 "
      ]
     },
     "execution_count": 141,
     "metadata": {},
     "output_type": "execute_result"
    }
   ],
   "source": [
    "calib_circuits_identity[1].draw()"
   ]
  },
  {
   "cell_type": "code",
   "execution_count": 142,
   "metadata": {},
   "outputs": [
    {
     "data": {
      "text/html": [
       "<pre style=\"word-wrap: normal;white-space: pre;background: #fff0;line-height: 1.1;font-family: &quot;Courier New&quot;,Courier,monospace\">         ┌───┐┌────┐┌─┐      \n",
       "q6244_0: ┤ X ├┤0   ├┤M├──────\n",
       "         └───┘│    │└╥┘┌─┐   \n",
       "q6244_1: ─────┤1 U ├─╫─┤M├───\n",
       "              │    │ ║ └╥┘┌─┐\n",
       "q6244_2: ─────┤2   ├─╫──╫─┤M├\n",
       "              └────┘ ║  ║ └╥┘\n",
       "  c80: 3/════════════╩══╩══╩═\n",
       "                     0  1  2 </pre>"
      ],
      "text/plain": [
       "         ┌───┐┌────┐┌─┐      \n",
       "q6244_0: ┤ X ├┤0   ├┤M├──────\n",
       "         └───┘│    │└╥┘┌─┐   \n",
       "q6244_1: ─────┤1 U ├─╫─┤M├───\n",
       "              │    │ ║ └╥┘┌─┐\n",
       "q6244_2: ─────┤2   ├─╫──╫─┤M├\n",
       "              └────┘ ║  ║ └╥┘\n",
       "  c80: 3/════════════╩══╩══╩═\n",
       "                     0  1  2 "
      ]
     },
     "execution_count": 142,
     "metadata": {},
     "output_type": "execute_result"
    }
   ],
   "source": [
    "calib_circuits_itself[1].draw()"
   ]
  },
  {
   "cell_type": "code",
   "execution_count": 143,
   "metadata": {},
   "outputs": [],
   "source": [
    "job_tomo=execute(qcs_tomo, backend, shots=shots, initial_layout=[1,3,5])\n",
    "\n",
    "job_cal_our_identity=execute(calib_circuits_identity, backend = backend, shots=shots, initial_layout=[1,3,5])\n",
    "\n",
    "job_cal_our_itself=execute(calib_circuits_itself, backend = backend, shots=shots, initial_layout=[1,3,5])\n",
    "\n",
    "job_cal_qiskit=execute(cal_circ, backend, shots=shots, initial_layout=[1,3,5])"
   ]
  },
  {
   "cell_type": "code",
   "execution_count": 144,
   "metadata": {},
   "outputs": [],
   "source": [
    "qiskit_raw_cal = deepcopy(job_cal_qiskit.result().get_counts())"
   ]
  },
  {
   "cell_type": "markdown",
   "metadata": {},
   "source": [
    "# Mitigation:\n",
    "\n",
    "    - building the calibration matrices"
   ]
  },
  {
   "cell_type": "code",
   "execution_count": 145,
   "metadata": {},
   "outputs": [],
   "source": [
    "meas_fitter_our_identity = CompleteMeasFitter(job_cal_our_identity.result(), state_labels=state_labels)\n",
    "meas_fitter_our_itself = CompleteMeasFitter(job_cal_our_itself.result(), state_labels=state_labels)\n",
    "meas_fitter_qiskit = CompleteMeasFitter(job_cal_qiskit.result(), state_labels=state_labels)"
   ]
  },
  {
   "cell_type": "code",
   "execution_count": 148,
   "metadata": {},
   "outputs": [
    {
     "data": {
      "text/latex": [
       "$\\displaystyle \\left[\\begin{matrix}0.94 & 0.049 & 0.033 & 0.0017 & 0.032 & 0.0018 & 0.00075 & 0\\\\0.019 & 0.91 & 0.00069 & 0.031 & 0 & 0.032 & 0 & 0.00091\\\\0.0097 & 0.00056 & 0.92 & 0.047 & 0 & 0 & 0.032 & 0.0013\\\\0 & 0.011 & 0.016 & 0.89 & 0 & 0 & 0.00072 & 0.028\\\\0.029 & 0.0016 & 0.00094 & 0 & 0.94 & 0.049 & 0.034 & 0.0018\\\\0.0005 & 0.027 & 0 & 0.001 & 0.019 & 0.91 & 0.00059 & 0.032\\\\0.0005 & 0 & 0.026 & 0.0017 & 0.011 & 0.00059 & 0.91 & 0.05\\\\0 & 0 & 0.00066 & 0.026 & 0 & 0.01 & 0.019 & 0.89\\end{matrix}\\right]$"
      ],
      "text/plain": [
       "Matrix([\n",
       "[  0.94,   0.049,   0.033, 0.0017, 0.032,  0.0018, 0.00075,       0],\n",
       "[ 0.019,    0.91, 0.00069,  0.031,     0,   0.032,       0, 0.00091],\n",
       "[0.0097, 0.00056,    0.92,  0.047,     0,       0,   0.032,  0.0013],\n",
       "[     0,   0.011,   0.016,   0.89,     0,       0, 0.00072,   0.028],\n",
       "[ 0.029,  0.0016, 0.00094,      0,  0.94,   0.049,   0.034,  0.0018],\n",
       "[0.0005,   0.027,       0,  0.001, 0.019,    0.91, 0.00059,   0.032],\n",
       "[0.0005,       0,   0.026, 0.0017, 0.011, 0.00059,    0.91,    0.05],\n",
       "[     0,       0, 0.00066,  0.026,     0,    0.01,   0.019,    0.89]])"
      ]
     },
     "execution_count": 148,
     "metadata": {},
     "output_type": "execute_result"
    }
   ],
   "source": [
    "not_migigated_qiskit = occurrences_to_matrix(qiskit_raw_cal)\n",
    "Matrix(not_migigated_qiskit).n(2, chop=True)"
   ]
  },
  {
   "cell_type": "code",
   "execution_count": 149,
   "metadata": {},
   "outputs": [
    {
     "data": {
      "text/latex": [
       "$\\displaystyle \\left[\\begin{matrix}1.1 & -0.057 & -0.038 & 0.002 & -0.036 & 0.0019 & 0.0018 & 0\\\\-0.023 & 1.1 & 0.00066 & -0.038 & 0.00099 & -0.039 & 0 & 0.0015\\\\-0.011 & 0.0006 & 1.1 & -0.057 & 0 & 0 & -0.038 & 0.0024\\\\0 & -0.013 & -0.02 & 1.1 & 0 & 0 & 0.00054 & -0.036\\\\-0.033 & 0.0016 & 0.0012 & 0 & 1.1 & -0.058 & -0.04 & 0.0021\\\\0.00079 & -0.033 & 0 & 0.001 & -0.022 & 1.1 & 0.00091 & -0.04\\\\0 & 0 & -0.031 & 0.0014 & -0.013 & 0.00067 & 1.1 & -0.062\\\\0 & 0 & 0 & -0.034 & 0 & -0.013 & -0.023 & 1.1\\end{matrix}\\right]$"
      ],
      "text/plain": [
       "Matrix([\n",
       "[    1.1, -0.057,  -0.038,  0.002,  -0.036,  0.0019,  0.0018,      0],\n",
       "[ -0.023,    1.1, 0.00066, -0.038, 0.00099,  -0.039,       0, 0.0015],\n",
       "[ -0.011, 0.0006,     1.1, -0.057,       0,       0,  -0.038, 0.0024],\n",
       "[      0, -0.013,   -0.02,    1.1,       0,       0, 0.00054, -0.036],\n",
       "[ -0.033, 0.0016,  0.0012,      0,     1.1,  -0.058,   -0.04, 0.0021],\n",
       "[0.00079, -0.033,       0,  0.001,  -0.022,     1.1, 0.00091,  -0.04],\n",
       "[      0,      0,  -0.031, 0.0014,  -0.013, 0.00067,     1.1, -0.062],\n",
       "[      0,      0,       0, -0.034,       0,  -0.013,  -0.023,    1.1]])"
      ]
     },
     "execution_count": 149,
     "metadata": {},
     "output_type": "execute_result"
    }
   ],
   "source": [
    "calib = np.linalg.multi_dot([migigated_qiskit, np.linalg.inv(not_migigated_qiskit)])\n",
    "Matrix(calib).n(2, chop=True)"
   ]
  },
  {
   "cell_type": "code",
   "execution_count": 150,
   "metadata": {},
   "outputs": [],
   "source": [
    "U_tilde_identity=meas_fitter_our_identity.cal_matrix\n",
    "U_tilde_itself=meas_fitter_our_itself.cal_matrix\n",
    "U_tilde_qiskit=meas_fitter_qiskit.cal_matrix"
   ]
  },
  {
   "cell_type": "code",
   "execution_count": 151,
   "metadata": {},
   "outputs": [],
   "source": [
    "def matrix_from_cirquit(qc, phase=0, type=\"sympy\"):\n",
    "\n",
    "    backend = Aer.get_backend('unitary_simulator')\n",
    "    job = execute(qc, backend, shots=32000)\n",
    "    result = job.result()\n",
    "    A=result.get_unitary(qc, decimals=10)*np.exp(1j*phase)\n",
    "    if type==\"sympy\":\n",
    "        return Matrix(A)\n",
    "    else:\n",
    "        return A"
   ]
  },
  {
   "cell_type": "code",
   "execution_count": 152,
   "metadata": {},
   "outputs": [
    {
     "data": {
      "text/html": [
       "<pre style=\"word-wrap: normal;white-space: pre;background: #fff0;line-height: 1.1;font-family: &quot;Courier New&quot;,Courier,monospace\">          ░ ┌─────┐ ┌───┐      ┌─┐   \n",
       "q7379_0: ─░─┤ Sdg ├─┤ H ├──────┤M├───\n",
       "          ░ └─┬─┬─┘ └───┘      └╥┘   \n",
       "q7379_1: ─░───┤M├───────────────╫────\n",
       "          ░   └╥┘  ┌─────┐┌───┐ ║ ┌─┐\n",
       "q7379_2: ─░────╫───┤ Sdg ├┤ H ├─╫─┤M├\n",
       "          ░    ║   └─────┘└───┘ ║ └╥┘\n",
       "  c94: 3/══════╩════════════════╩══╩═\n",
       "               1                0  2 </pre>"
      ],
      "text/plain": [
       "          ░ ┌─────┐ ┌───┐      ┌─┐   \n",
       "q7379_0: ─░─┤ Sdg ├─┤ H ├──────┤M├───\n",
       "          ░ └─┬─┬─┘ └───┘      └╥┘   \n",
       "q7379_1: ─░───┤M├───────────────╫────\n",
       "          ░   └╥┘  ┌─────┐┌───┐ ║ ┌─┐\n",
       "q7379_2: ─░────╫───┤ Sdg ├┤ H ├─╫─┤M├\n",
       "          ░    ║   └─────┘└───┘ ║ └╥┘\n",
       "  c94: 3/══════╩════════════════╩══╩═\n",
       "               1                0  2 "
      ]
     },
     "execution_count": 152,
     "metadata": {},
     "output_type": "execute_result"
    }
   ],
   "source": [
    "qr_basi = QuantumRegister(3)\n",
    "qc_basi = QuantumCircuit(qr_basi)\n",
    "\n",
    "qcs_basis = state_tomography_circuits(qc_basi, qr_basi)\n",
    "\n",
    "qcs_basis[0].remove_final_measurements()\n",
    "\n",
    "qcs_basis[16].draw()"
   ]
  },
  {
   "cell_type": "code",
   "execution_count": 153,
   "metadata": {},
   "outputs": [],
   "source": [
    "C_matrices_itself = []\n",
    "C_matrices_identity = []\n",
    "\n",
    "U_ideal_inv = np.linalg.inv(U_ideal)\n",
    "U_ideal_inv_abs = np.abs(U_ideal_inv)**2\n",
    "\n",
    "U_ideal_abs = np.abs(U_ideal)**2\n",
    "U_ideal_abs_inv = np.linalg.inv(U_ideal_abs)\n",
    "\n",
    "C_itself = np.dot(U_tilde_itself, U_ideal_abs_inv)\n",
    "C_identity = U_tilde_identity\n",
    "\n",
    "for base in qcs_basis:\n",
    "    \n",
    "    '''\n",
    "    base.remove_final_measurements()\n",
    "\n",
    "    base_matrix = np.matrix(matrix_from_cirquit(base, type=\"numpy\"))\n",
    "    base_matrix_H = base_matrix.getH()\n",
    "\n",
    "    C_aus_itself = np.linalg.multi_dot([U_tilde_qiskit, base_matrix, np.linalg.inv(U_tilde_qiskit), C_itself,  base_matrix_H])\n",
    "    #C_aus_itself = np.linalg.multi_dot([base_matrix, U_tilde_qiskit, np.linalg.inv(U_tilde_qiskit), C_itself])\n",
    "    C_aus_identity = np.dot(base_matrix, C_identity).dot(base_matrix_H)\n",
    "\n",
    "    C_matrices_identity.append(np.asarray(C_aus_identity))\n",
    "    C_matrices_itself.append(np.asarray(C_aus_itself))\n",
    "    '''\n",
    "\n",
    "    base.remove_final_measurements()\n",
    "\n",
    "    base_matrix = matrix_from_cirquit(base, type=\"numpy\")\n",
    "    base_matrix_H = np.linalg.inv(base_matrix)\n",
    "\n",
    "    #C_aus_itself = np.linalg.multi_dot([base_matrix, C_itself,  base_matrix_H])\n",
    "    C_aus_itself = np.linalg.multi_dot([U_tilde_qiskit, base_matrix, np.linalg.inv(U_tilde_qiskit), C_itself,  base_matrix_H])\n",
    "    #C_aus_itself = np.linalg.multi_dot([base_matrix, U_tilde_qiskit, np.linalg.inv(U_tilde_qiskit), C_itself])\n",
    "    C_aus_identity = np.matmul(base_matrix, np.matmul(C_identity, base_matrix_H))\n",
    "\n",
    "    C_matrices_identity.append(np.asarray(C_aus_identity))\n",
    "    C_matrices_itself.append(np.asarray(C_aus_itself))"
   ]
  },
  {
   "cell_type": "code",
   "execution_count": 154,
   "metadata": {},
   "outputs": [],
   "source": [
    "from copy import deepcopy\n",
    "\n",
    "meas_fitters_identity = []\n",
    "meas_fitters_itself = []\n",
    "\n",
    "for C_new in C_matrices_identity:\n",
    "    meas_fitter_our_aus = deepcopy(meas_fitter_our_identity)\n",
    "    meas_fitter_our_aus._tens_fitt.cal_matrices[0]=C_new\n",
    "\n",
    "    meas_fitters_identity.append(meas_fitter_our_aus)\n",
    "\n",
    "for C_new in C_matrices_itself:\n",
    "    meas_fitter_our_aus = deepcopy(meas_fitter_our_itself)\n",
    "    meas_fitter_our_aus._tens_fitt.cal_matrices[0]=C_new\n",
    "\n",
    "    meas_fitters_itself.append(meas_fitter_our_aus)"
   ]
  },
  {
   "cell_type": "code",
   "execution_count": 155,
   "metadata": {},
   "outputs": [],
   "source": [
    "target_state = (One^One^Zero).to_matrix()\n",
    "#target_state = (Zero^One^One).to_matrix()\n",
    "\n",
    "\n",
    "fids=np.zeros(4)\n",
    "\n",
    "raw_res=deepcopy(job_tomo.result())\n",
    "qiskit_res=deepcopy(raw_res)\n",
    "identity_res=deepcopy(raw_res)\n",
    "itself_res=deepcopy(raw_res)"
   ]
  },
  {
   "cell_type": "code",
   "execution_count": 156,
   "metadata": {},
   "outputs": [
    {
     "data": {
      "text/plain": [
       "{'100': 1089,\n",
       " '110': 7528,\n",
       " '001': 810,\n",
       " '000': 82,\n",
       " '010': 957,\n",
       " '111': 1079,\n",
       " '011': 9349,\n",
       " '101': 11106}"
      ]
     },
     "execution_count": 156,
     "metadata": {},
     "output_type": "execute_result"
    }
   ],
   "source": [
    "raw_res.get_counts(-1)"
   ]
  },
  {
   "cell_type": "code",
   "execution_count": 157,
   "metadata": {},
   "outputs": [],
   "source": [
    "for i in range(27):\n",
    "\n",
    "    old_counts=raw_res.get_counts(i)\n",
    "    new_counts_qiskit = meas_fitter_qiskit.filter.apply(old_counts, method=\"least_squares\")\n",
    "    qiskit_res.results[i].data.counts = new_counts_qiskit\n"
   ]
  },
  {
   "cell_type": "code",
   "execution_count": 158,
   "metadata": {},
   "outputs": [],
   "source": [
    "for i in range(27):\n",
    "\n",
    "    old_counts=raw_res.get_counts(i)\n",
    "    \n",
    "    new_counts_id = meas_fitters_identity[i].filter.apply(old_counts, method=\"least_squares\")\n",
    "    identity_res.results[i].data.counts = new_counts_id\n",
    "\n",
    "    new_counts_it = meas_fitters_itself[i].filter.apply(old_counts, method=\"least_squares\")\n",
    "    itself_res.results[i].data.counts = new_counts_it"
   ]
  },
  {
   "cell_type": "code",
   "execution_count": 159,
   "metadata": {},
   "outputs": [
    {
     "data": {
      "text/plain": [
       "{'100': 1089,\n",
       " '110': 7528,\n",
       " '001': 810,\n",
       " '000': 82,\n",
       " '010': 957,\n",
       " '111': 1079,\n",
       " '011': 9349,\n",
       " '101': 11106}"
      ]
     },
     "execution_count": 159,
     "metadata": {},
     "output_type": "execute_result"
    }
   ],
   "source": [
    "raw_res.get_counts(-1)"
   ]
  },
  {
   "cell_type": "code",
   "execution_count": 160,
   "metadata": {},
   "outputs": [
    {
     "data": {
      "text/plain": [
       "{'000': 8.343033565383577e-12,\n",
       " '001': 17.521535461858964,\n",
       " '010': 89.87182537261744,\n",
       " '011': 10724.184192108683,\n",
       " '100': 9.059957969997508e-11,\n",
       " '101': 12614.112490758407,\n",
       " '110': 8485.93869403595,\n",
       " '111': 68.37126226238142}"
      ]
     },
     "execution_count": 160,
     "metadata": {},
     "output_type": "execute_result"
    }
   ],
   "source": [
    "itself_res.get_counts(-1)"
   ]
  },
  {
   "cell_type": "code",
   "execution_count": 161,
   "metadata": {},
   "outputs": [
    {
     "data": {
      "text/plain": [
       "{'000': 4.065310213221159e-10,\n",
       " '001': 2.002470838196068e-09,\n",
       " '010': 18.463550516431553,\n",
       " '011': 10784.223954105235,\n",
       " '100': 8.235135269270552e-12,\n",
       " '101': 12596.510879707695,\n",
       " '110': 8361.849230390217,\n",
       " '111': 238.95238527829503}"
      ]
     },
     "execution_count": 161,
     "metadata": {},
     "output_type": "execute_result"
    }
   ],
   "source": [
    "identity_res.get_counts(-1)"
   ]
  },
  {
   "cell_type": "code",
   "execution_count": 162,
   "metadata": {},
   "outputs": [
    {
     "data": {
      "text/plain": [
       "array([0.2361973 , 0.2558709 , 0.25766778, 0.26643912])"
      ]
     },
     "execution_count": 162,
     "metadata": {},
     "output_type": "execute_result"
    }
   ],
   "source": [
    "fids[0] = fidelity_count(raw_res, qcs_tomo, target_state)\n",
    "fids[1] = fidelity_count(qiskit_res, qcs_tomo, target_state)\n",
    "fids[2] = fidelity_count(identity_res, qcs_tomo, target_state)\n",
    "fids[3] = fidelity_count(itself_res, qcs_tomo, target_state)\n",
    "\n",
    "fids"
   ]
  },
  {
   "cell_type": "code",
   "execution_count": null,
   "metadata": {},
   "outputs": [],
   "source": []
  },
  {
   "cell_type": "code",
   "execution_count": null,
   "metadata": {},
   "outputs": [],
   "source": []
  },
  {
   "cell_type": "code",
   "execution_count": null,
   "metadata": {},
   "outputs": [],
   "source": []
  },
  {
   "cell_type": "code",
   "execution_count": null,
   "metadata": {},
   "outputs": [],
   "source": []
  }
 ],
 "metadata": {
  "interpreter": {
   "hash": "aee8b7b246df8f9039afb4144a1f6fd8d2ca17a180786b69acc140d282b71a49"
  },
  "kernelspec": {
   "display_name": "Python 3.10.2 64-bit",
   "language": "python",
   "name": "python3"
  },
  "language_info": {
   "codemirror_mode": {
    "name": "ipython",
    "version": 3
   },
   "file_extension": ".py",
   "mimetype": "text/x-python",
   "name": "python",
   "nbconvert_exporter": "python",
   "pygments_lexer": "ipython3",
   "version": "3.10.2"
  },
  "orig_nbformat": 4
 },
 "nbformat": 4,
 "nbformat_minor": 2
}
