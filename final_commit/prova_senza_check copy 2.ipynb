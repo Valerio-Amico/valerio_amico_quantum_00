{
 "cells": [
  {
   "cell_type": "code",
   "execution_count": 176,
   "metadata": {},
   "outputs": [
    {
     "name": "stdout",
     "output_type": "stream",
     "text": [
      "The autoreload extension is already loaded. To reload it, use:\n",
      "  %reload_ext autoreload\n"
     ]
    },
    {
     "name": "stderr",
     "output_type": "stream",
     "text": [
      "ibmqfactory.load_account:WARNING:2022-04-09 02:52:56,415: Credentials are already in use. The existing account in the session will be replaced.\n"
     ]
    }
   ],
   "source": [
    "from lib.functions0 import *\n",
    "from lib.utility import *\n",
    "import numpy as np\n",
    "from scipy.linalg import expm\n",
    "from qiskit.utils.mitigation.fitters import CompleteMeasFitter\n",
    "from qiskit.ignis.mitigation.measurement import  complete_meas_cal\n",
    "from qiskit import Aer, assemble, QuantumCircuit, QuantumRegister, ClassicalRegister, IBMQ, transpile, execute\n",
    "from qiskit.providers.aer import AerSimulator, QasmSimulator\n",
    "from qiskit.opflow import Zero, One, I, X, Y, Z\n",
    "from qiskit.ignis.verification.tomography import state_tomography_circuits, StateTomographyFitter\n",
    "from qiskit.quantum_info import state_fidelity\n",
    "import matplotlib.pyplot as plt\n",
    "%load_ext autoreload\n",
    "%autoreload 2\n",
    "import warnings\n",
    "warnings.filterwarnings('ignore')\n",
    "IBMQ.load_account()\n",
    "provider = IBMQ.get_provider(hub='ibm-q-community',\n",
    "                            group='ibmquantumawards', \n",
    "                            project='open-science-22')\n",
    "\n",
    "backend_sim_jakarta = QasmSimulator.from_backend(provider.get_backend('ibmq_jakarta'))\n",
    "backend_real_jakarta = provider.get_backend('ibmq_jakarta')\n",
    "backend_sim = Aer.get_backend('qasm_simulator')"
   ]
  },
  {
   "cell_type": "code",
   "execution_count": 177,
   "metadata": {},
   "outputs": [
    {
     "data": {
      "text/plain": [
       "'C:\\\\Users\\\\asus\\\\AppData\\\\Roaming\\\\Python\\\\Python38\\\\site-packages\\\\qiskit\\\\utils\\\\mitigation\\\\fitters.py'"
      ]
     },
     "execution_count": 177,
     "metadata": {},
     "output_type": "execute_result"
    }
   ],
   "source": [
    "import qiskit\n",
    "qiskit.utils.mitigation.fitters.__file__"
   ]
  },
  {
   "cell_type": "code",
   "execution_count": 178,
   "metadata": {},
   "outputs": [
    {
     "data": {
      "text/latex": [
       "$\\displaystyle \\left[\\begin{matrix}1.0 & 0 & 0 & 0 & 0 & 0 & 0 & 0\\\\0 & 1.0 + 0.000459 i & 0.000459 i & 0 & - 0.000918 i & 0 & 0 & 0\\\\0 & 0.000459 i & 1.0 - 0.000918 i & 0 & 0.000459 i & 0 & 0 & 0\\\\0 & 0 & 0 & 1.0 + 0.000459 i & 0 & 0.000459 i & - 0.000918 i & 0\\\\0 & - 0.000918 i & 0.000459 i & 0 & 1.0 + 0.000459 i & 0 & 0 & 0\\\\0 & 0 & 0 & 0.000459 i & 0 & 1.0 - 0.000918 i & 0.000459 i & 0\\\\0 & 0 & 0 & - 0.000918 i & 0 & 0.000459 i & 1.0 + 0.000459 i & 0\\\\0 & 0 & 0 & 0 & 0 & 0 & 0 & 1.0\\end{matrix}\\right]$"
      ],
      "text/plain": [
       "Matrix([\n",
       "[1.0,                0,                0,                0,                0,                0,                0,   0],\n",
       "[  0, 1.0 + 0.000459*I,       0.000459*I,                0,      -0.000918*I,                0,                0,   0],\n",
       "[  0,       0.000459*I, 1.0 - 0.000918*I,                0,       0.000459*I,                0,                0,   0],\n",
       "[  0,                0,                0, 1.0 + 0.000459*I,                0,       0.000459*I,      -0.000918*I,   0],\n",
       "[  0,      -0.000918*I,       0.000459*I,                0, 1.0 + 0.000459*I,                0,                0,   0],\n",
       "[  0,                0,                0,       0.000459*I,                0, 1.0 - 0.000918*I,       0.000459*I,   0],\n",
       "[  0,                0,                0,      -0.000918*I,                0,       0.000459*I, 1.0 + 0.000459*I,   0],\n",
       "[  0,                0,                0,                0,                0,                0,                0, 1.0]])"
      ]
     },
     "execution_count": 178,
     "metadata": {},
     "output_type": "execute_result"
    }
   ],
   "source": [
    "n_steps=100\n",
    "time=np.pi\n",
    "#initial_state={\"110\": 1}\n",
    "shots = 32000\n",
    "backend = backend_sim_jakarta\n",
    "\n",
    "X = np.array([[0,1],[1,0]])  #defining the pauli matrices\n",
    "Y = np.array([[0,-1j],[1j,0]])\n",
    "Z = np.array([[1,0],[0,-1]])\n",
    "Id = np.eye(2)\n",
    "\n",
    "# defining the hamiltonian divided in: \n",
    "#       - H1: first two qubits interactions.\n",
    "#       - H2: second two qubits interactions.\n",
    "\n",
    "H1 = np.kron(X, np.kron(X,Id)) + np.kron(Y, np.kron(Y,Id)) + np.kron(Z, np.kron(Z,Id)) \n",
    "H2 = np.kron(Id, np.kron(X,X)) + np.kron(Id, np.kron(Y,Y)) + np.kron(Id, np.kron(Z,Z)) \n",
    "\n",
    "# building numerically the trotter step matrix, and the whole operator (trotter step)^n_steps.\n",
    "\n",
    "trotter_step_matrix_= expm(-time/n_steps*H1*1j).dot(expm(-time/n_steps*H2*1j))\n",
    "trotterized = np.linalg.matrix_power(trotter_step_matrix_, n_steps)\n",
    "Matrix(trotterized).n(3, chop=True)"
   ]
  },
  {
   "cell_type": "code",
   "execution_count": 179,
   "metadata": {},
   "outputs": [
    {
     "data": {
      "text/latex": [
       "$\\displaystyle \\left[\\begin{matrix}0 & 0 & 0 & 0 & 1 & 0 & 0 & 0\\\\0 & 0 & 1 & 0 & 0 & 0 & 0 & 0\\\\0 & 1 & 0 & 0 & 0 & 0 & 0 & 0\\\\1 & 0 & 0 & 0 & 0 & 0 & 0 & 0\\\\0 & 0 & 0 & 1 & 0 & 0 & 0 & 0\\\\0 & 0 & 0 & 0 & 0 & 1 & 0 & 0\\\\0 & 0 & 0 & 0 & 0 & 0 & 1 & 0\\\\0 & 0 & 0 & 0 & 0 & 0 & 0 & 1\\end{matrix}\\right]$"
      ],
      "text/plain": [
       "Matrix([\n",
       "[0, 0, 0, 0, 1, 0, 0, 0],\n",
       "[0, 0, 1, 0, 0, 0, 0, 0],\n",
       "[0, 1, 0, 0, 0, 0, 0, 0],\n",
       "[1, 0, 0, 0, 0, 0, 0, 0],\n",
       "[0, 0, 0, 1, 0, 0, 0, 0],\n",
       "[0, 0, 0, 0, 0, 1, 0, 0],\n",
       "[0, 0, 0, 0, 0, 0, 1, 0],\n",
       "[0, 0, 0, 0, 0, 0, 0, 1]])"
      ]
     },
     "execution_count": 179,
     "metadata": {},
     "output_type": "execute_result"
    }
   ],
   "source": [
    "B = Matrix([\n",
    "    [0,0,0,0,1,0,0,0],\n",
    "    [0,0,1,0,0,0,0,0],\n",
    "    [0,1,0,0,0,0,0,0],\n",
    "    [1,0,0,0,0,0,0,0],\n",
    "    [0,0,0,1,0,0,0,0],\n",
    "    [0,0,0,0,0,1,0,0],\n",
    "    [0,0,0,0,0,0,1,0],\n",
    "    [0,0,0,0,0,0,0,1]\n",
    "])\n",
    "B"
   ]
  },
  {
   "cell_type": "code",
   "execution_count": 180,
   "metadata": {},
   "outputs": [
    {
     "data": {
      "image/png": "[encoded data removed]",
      "text/plain": [
       "<Figure size 507.997x204.68 with 1 Axes>"
      ]
     },
     "execution_count": 180,
     "metadata": {},
     "output_type": "execute_result"
    }
   ],
   "source": [
    "qr=QuantumRegister(3, name=\"q\")\n",
    "B_qc=QuantumCircuit(qr, name=\"B\")\n",
    "B_qc.x(qr[2])\n",
    "B_qc.cx(qr[1],qr[0])\n",
    "B_qc.cx(qr[2],qr[1])\n",
    "B_qc.cx(qr[1],qr[0])\n",
    "B_qc.x([qr[0],qr[1],qr[2]])\n",
    "B_qc.append(Toffoli_gate,[qr[0],qr[1],qr[2]])\n",
    "B_qc.x([qr[0],qr[1]])\n",
    "\n",
    "B_qc.draw(output=\"mpl\")"
   ]
  },
  {
   "cell_type": "code",
   "execution_count": 181,
   "metadata": {},
   "outputs": [
    {
     "data": {
      "image/png": "[encoded data removed]",
      "text/plain": [
       "<Figure size 1110x204.68 with 1 Axes>"
      ]
     },
     "execution_count": 181,
     "metadata": {},
     "output_type": "execute_result"
    }
   ],
   "source": [
    "transpile(B_qc, basis_gates=[\"cx\", \"x\", \"rz\", \"sx\"]).draw(output=\"mpl\")"
   ]
  },
  {
   "cell_type": "code",
   "execution_count": 182,
   "metadata": {},
   "outputs": [
    {
     "data": {
      "text/latex": [
       "$\\displaystyle \\left[\\begin{matrix}1.0 + 0.0004591 i & -2.8546 \\cdot 10^{-5} + 0.0004591 i & 2.918 \\cdot 10^{-5} - 0.0009182 i & 0\\\\2.918 \\cdot 10^{-5} + 0.0004591 i & 1.0 - 0.0009182 i & -2.8546 \\cdot 10^{-5} + 0.0004591 i & 0\\\\-2.8546 \\cdot 10^{-5} - 0.0009182 i & 2.918 \\cdot 10^{-5} + 0.0004591 i & 1.0 + 0.0004591 i & 0\\\\0 & 0 & 0 & 1.0 + 2.2204 \\cdot 10^{-15} i\\end{matrix}\\right]$"
      ],
      "text/plain": [
       "Matrix([\n",
       "[       1.0 + 0.0004591*I, -2.8546e-5 + 0.0004591*I,   2.918e-5 - 0.0009182*I,                  0],\n",
       "[  2.918e-5 + 0.0004591*I,        1.0 - 0.0009182*I, -2.8546e-5 + 0.0004591*I,                  0],\n",
       "[-2.8546e-5 - 0.0009182*I,   2.918e-5 + 0.0004591*I,        1.0 + 0.0004591*I,                  0],\n",
       "[                       0,                        0,                        0, 1.0 + 2.2204e-15*I]])"
      ]
     },
     "execution_count": 182,
     "metadata": {},
     "output_type": "execute_result"
    }
   ],
   "source": [
    "n_steps = 42\n",
    "time = np.pi\n",
    "precision = 40\n",
    "\n",
    "numeric_evolution_matrix=eye(8)\n",
    "\n",
    "#for _ in range(n_steps): # here is computed the evolution operator numerically, with n_steps trotter steps.\n",
    "#\n",
    "#    numeric_evolution_matrix=(numeric_evolution_matrix*trotter_step_matrix_(2*time/n_steps)).evalf(precision)\n",
    "\n",
    "\n",
    "M_N = B*trotterized*B.H\n",
    "M_N = Matrix([M_N[0:4],M_N[8:12],M_N[16:20],M_N[24:28]])\n",
    "M_N.evalf(5)"
   ]
  },
  {
   "cell_type": "code",
   "execution_count": 183,
   "metadata": {},
   "outputs": [
    {
     "data": {
      "image/png": "[encoded data removed]",
      "text/plain": [
       "<Figure size 1049.65x144.48 with 1 Axes>"
      ]
     },
     "execution_count": 183,
     "metadata": {},
     "output_type": "execute_result"
    }
   ],
   "source": [
    "qc=QuantumCircuit(2, name=\"$M^N$\")\n",
    "qc.unitary(M_N,[0,1])    \n",
    "M_N_qc=transpile(qc,basis_gates=['cx','x','sx','rz']) \n",
    "\n",
    "M_N_qc.draw(output=\"mpl\")"
   ]
  },
  {
   "cell_type": "code",
   "execution_count": 184,
   "metadata": {},
   "outputs": [
    {
     "data": {
      "image/png": "[encoded data removed]",
      "text/plain": [
       "<Figure size 206.997x204.68 with 1 Axes>"
      ]
     },
     "execution_count": 184,
     "metadata": {},
     "output_type": "execute_result"
    }
   ],
   "source": [
    "initial_state=\"000\"\n",
    "\n",
    "qr_U = QuantumRegister(3, name=\"q\")\n",
    "qc_U = QuantumCircuit(qr, name=\"evo\")\n",
    "\n",
    "### preparing the initial state\n",
    "\n",
    "l=0\n",
    "for k in [2,1,0]:\n",
    "    if initial_state[l]=='1':\n",
    "        qc.x(qr[k])\n",
    "    l+=1\n",
    "\n",
    "### appending the evolution\n",
    "\n",
    "qc_U.append(M_N_qc,[qr[0],qr[1]])\n",
    "qc_U.append(B_qc,[qr[0],qr[1],qr[2]])\n",
    "\n",
    "qc_U.draw(output=\"mpl\")"
   ]
  },
  {
   "cell_type": "code",
   "execution_count": 185,
   "metadata": {},
   "outputs": [
    {
     "data": {
      "text/latex": [
       "$\\displaystyle \\left[\\begin{matrix}0 & 0 & 0 & 0 & 0.9999993668 + 0.0004591001 i & -2.85464 \\cdot 10^{-5} + 0.0004591001 i & 2.91796 \\cdot 10^{-5} - 0.0009182003 i & 0\\\\-2.85464 \\cdot 10^{-5} - 0.0009182003 i & 2.91796 \\cdot 10^{-5} + 0.0004591001 i & 0.9999993668 + 0.0004591001 i & 0 & 0 & 0 & 0 & 0\\\\2.91796 \\cdot 10^{-5} + 0.0004591001 i & 0.9999993668 - 0.0009182003 i & -2.85464 \\cdot 10^{-5} + 0.0004591001 i & 0 & 0 & 0 & 0 & 0\\\\0.9999993668 + 0.0004591001 i & -2.85464 \\cdot 10^{-5} + 0.0004591001 i & 2.91796 \\cdot 10^{-5} - 0.0009182003 i & 0 & 0 & 0 & 0 & 0\\\\0 & 0 & 0 & 1.0 & 0 & 0 & 0 & 0\\\\0 & 0 & 0 & 0 & 2.91796 \\cdot 10^{-5} + 0.0004591001 i & 0.9999993668 - 0.0009182003 i & -2.85464 \\cdot 10^{-5} + 0.0004591001 i & 0\\\\0 & 0 & 0 & 0 & -2.85464 \\cdot 10^{-5} - 0.0009182003 i & 2.91796 \\cdot 10^{-5} + 0.0004591001 i & 0.9999993668 + 0.0004591001 i & 0\\\\0 & 0 & 0 & 0 & 0 & 0 & 0 & 1.0\\end{matrix}\\right]$"
      ],
      "text/plain": [
       "Matrix([\n",
       "[                            0,                             0,                             0,   0, 0.9999993668 + 0.0004591001*I,  -2.85464e-5 + 0.0004591001*I,   2.91796e-5 - 0.0009182003*I,   0],\n",
       "[ -2.85464e-5 - 0.0009182003*I,   2.91796e-5 + 0.0004591001*I, 0.9999993668 + 0.0004591001*I,   0,                             0,                             0,                             0,   0],\n",
       "[  2.91796e-5 + 0.0004591001*I, 0.9999993668 - 0.0009182003*I,  -2.85464e-5 + 0.0004591001*I,   0,                             0,                             0,                             0,   0],\n",
       "[0.9999993668 + 0.0004591001*I,  -2.85464e-5 + 0.0004591001*I,   2.91796e-5 - 0.0009182003*I,   0,                             0,                             0,                             0,   0],\n",
       "[                            0,                             0,                             0, 1.0,                             0,                             0,                             0,   0],\n",
       "[                            0,                             0,                             0,   0,   2.91796e-5 + 0.0004591001*I, 0.9999993668 - 0.0009182003*I,  -2.85464e-5 + 0.0004591001*I,   0],\n",
       "[                            0,                             0,                             0,   0,  -2.85464e-5 - 0.0009182003*I,   2.91796e-5 + 0.0004591001*I, 0.9999993668 + 0.0004591001*I,   0],\n",
       "[                            0,                             0,                             0,   0,                             0,                             0,                             0, 1.0]])"
      ]
     },
     "execution_count": 185,
     "metadata": {},
     "output_type": "execute_result"
    }
   ],
   "source": [
    "U_ideal=matrix_from_circuit(qc_U, type=\"numpy\")\n",
    "Matrix(U_ideal)"
   ]
  },
  {
   "cell_type": "code",
   "execution_count": 186,
   "metadata": {},
   "outputs": [
    {
     "data": {
      "image/png": "[encoded data removed]",
      "text/plain": [
       "<Figure size 519.393x264.88 with 1 Axes>"
      ]
     },
     "execution_count": 186,
     "metadata": {},
     "output_type": "execute_result"
    }
   ],
   "source": [
    "qr_evo = QuantumRegister(3, name=\"q\")\n",
    "qc_evo = QuantumCircuit(qr_evo, name=\"U\")\n",
    "\n",
    "qc_evo.x([qr_evo[1],qr_evo[2]])\n",
    "qc_evo.append(qc_U, qr_evo)\n",
    "\n",
    "qcs_tomo = state_tomography_circuits(qc_evo, qr_evo)\n",
    "qcs_tomo[3].draw(output=\"mpl\")"
   ]
  },
  {
   "cell_type": "code",
   "execution_count": 187,
   "metadata": {},
   "outputs": [],
   "source": [
    "qr_cal = QuantumRegister(3)\n",
    "cal_circ, state_labels = complete_meas_cal(qubit_list=[0,1,2], qr=qr_cal, circlabel='mcal')"
   ]
  },
  {
   "cell_type": "code",
   "execution_count": 188,
   "metadata": {},
   "outputs": [
    {
     "data": {
      "text/html": [
       "<pre style=\"word-wrap: normal;white-space: pre;background: #fff0;line-height: 1.1;font-family: &quot;Courier New&quot;,Courier,monospace\">          ░ ┌─┐      \n",
       "q6582_0: ─░─┤M├──────\n",
       "          ░ └╥┘┌─┐   \n",
       "q6582_1: ─░──╫─┤M├───\n",
       "          ░  ║ └╥┘┌─┐\n",
       "q6582_2: ─░──╫──╫─┤M├\n",
       "          ░  ║  ║ └╥┘\n",
       "  c97: 3/════╩══╩══╩═\n",
       "             0  1  2 </pre>"
      ],
      "text/plain": [
       "          ░ ┌─┐      \n",
       "q6582_0: ─░─┤M├──────\n",
       "          ░ └╥┘┌─┐   \n",
       "q6582_1: ─░──╫─┤M├───\n",
       "          ░  ║ └╥┘┌─┐\n",
       "q6582_2: ─░──╫──╫─┤M├\n",
       "          ░  ║  ║ └╥┘\n",
       "  c97: 3/════╩══╩══╩═\n",
       "             0  1  2 "
      ]
     },
     "execution_count": 188,
     "metadata": {},
     "output_type": "execute_result"
    }
   ],
   "source": [
    "cal_circ[0].draw()"
   ]
  },
  {
   "cell_type": "code",
   "execution_count": 189,
   "metadata": {},
   "outputs": [
    {
     "data": {
      "text/plain": [
       "['000', '001', '010', '011', '100', '101', '110', '111']"
      ]
     },
     "execution_count": 189,
     "metadata": {},
     "output_type": "execute_result"
    }
   ],
   "source": [
    "state_labels"
   ]
  },
  {
   "cell_type": "code",
   "execution_count": 190,
   "metadata": {},
   "outputs": [],
   "source": [
    "calib_circuits_identity = []\n",
    "calib_circuits_itself = []\n",
    "\n",
    "for i in state_labels:\n",
    "\n",
    "    cr_cal_itself = ClassicalRegister(3)\n",
    "    qr_cal_itself = QuantumRegister(3)\n",
    "    qc_cal_itself = QuantumCircuit(qr_cal_itself, cr_cal_itself, name=f\"mcalcal_{i}\")\n",
    "\n",
    "    cr_cal_id = ClassicalRegister(3)\n",
    "    qr_cal_id = QuantumRegister(3)\n",
    "    qc_cal_id = QuantumCircuit(qr_cal_id, cr_cal_id, name=f\"mcalcal_{i}\")\n",
    "\n",
    "    qc_cal_id.x(qr_cal_id)\n",
    "    qc_cal_id.append(qc_U, qr_cal_id)\n",
    "\n",
    "    for k in range(3):\n",
    "        if i[::-1][k] == \"1\":\n",
    "            qc_cal_itself.x(qr_cal_itself[k])\n",
    "        else:\n",
    "            qc_cal_id.x(qr_cal_id[k])\n",
    "        \n",
    "    qc_cal_itself.append(qc_U, qr_cal_itself)\n",
    "    \n",
    "    qc_cal_id.measure(qr_cal_id, cr_cal_id)\n",
    "    qc_cal_itself.measure(qr_cal_itself, cr_cal_itself)\n",
    "\n",
    "    calib_circuits_identity.append(qc_cal_id)\n",
    "    calib_circuits_itself.append(qc_cal_itself)"
   ]
  },
  {
   "cell_type": "code",
   "execution_count": 191,
   "metadata": {},
   "outputs": [
    {
     "data": {
      "text/html": [
       "<pre style=\"word-wrap: normal;white-space: pre;background: #fff0;line-height: 1.1;font-family: &quot;Courier New&quot;,Courier,monospace\">         ┌───┐┌──────┐     ┌─┐      \n",
       "q6586_0: ┤ X ├┤0     ├─────┤M├──────\n",
       "         ├───┤│      │┌───┐└╥┘┌─┐   \n",
       "q6586_1: ┤ X ├┤1 evo ├┤ X ├─╫─┤M├───\n",
       "         ├───┤│      │├───┤ ║ └╥┘┌─┐\n",
       "q6586_2: ┤ X ├┤2     ├┤ X ├─╫──╫─┤M├\n",
       "         └───┘└──────┘└───┘ ║  ║ └╥┘\n",
       " c101: 3/═══════════════════╩══╩══╩═\n",
       "                            0  1  2 </pre>"
      ],
      "text/plain": [
       "         ┌───┐┌──────┐     ┌─┐      \n",
       "q6586_0: ┤ X ├┤0     ├─────┤M├──────\n",
       "         ├───┤│      │┌───┐└╥┘┌─┐   \n",
       "q6586_1: ┤ X ├┤1 evo ├┤ X ├─╫─┤M├───\n",
       "         ├───┤│      │├───┤ ║ └╥┘┌─┐\n",
       "q6586_2: ┤ X ├┤2     ├┤ X ├─╫──╫─┤M├\n",
       "         └───┘└──────┘└───┘ ║  ║ └╥┘\n",
       " c101: 3/═══════════════════╩══╩══╩═\n",
       "                            0  1  2 "
      ]
     },
     "execution_count": 191,
     "metadata": {},
     "output_type": "execute_result"
    }
   ],
   "source": [
    "calib_circuits_identity[1].draw()"
   ]
  },
  {
   "cell_type": "code",
   "execution_count": 192,
   "metadata": {},
   "outputs": [
    {
     "data": {
      "text/html": [
       "<pre style=\"word-wrap: normal;white-space: pre;background: #fff0;line-height: 1.1;font-family: &quot;Courier New&quot;,Courier,monospace\">         ┌───┐┌──────┐┌─┐      \n",
       "q6585_0: ┤ X ├┤0     ├┤M├──────\n",
       "         └───┘│      │└╥┘┌─┐   \n",
       "q6585_1: ─────┤1 evo ├─╫─┤M├───\n",
       "              │      │ ║ └╥┘┌─┐\n",
       "q6585_2: ─────┤2     ├─╫──╫─┤M├\n",
       "              └──────┘ ║  ║ └╥┘\n",
       " c100: 3/══════════════╩══╩══╩═\n",
       "                       0  1  2 </pre>"
      ],
      "text/plain": [
       "         ┌───┐┌──────┐┌─┐      \n",
       "q6585_0: ┤ X ├┤0     ├┤M├──────\n",
       "         └───┘│      │└╥┘┌─┐   \n",
       "q6585_1: ─────┤1 evo ├─╫─┤M├───\n",
       "              │      │ ║ └╥┘┌─┐\n",
       "q6585_2: ─────┤2     ├─╫──╫─┤M├\n",
       "              └──────┘ ║  ║ └╥┘\n",
       " c100: 3/══════════════╩══╩══╩═\n",
       "                       0  1  2 "
      ]
     },
     "execution_count": 192,
     "metadata": {},
     "output_type": "execute_result"
    }
   ],
   "source": [
    "calib_circuits_itself[1].draw()"
   ]
  },
  {
   "cell_type": "code",
   "execution_count": 193,
   "metadata": {},
   "outputs": [],
   "source": [
    "job_tomo=execute(qcs_tomo, backend, shots=shots, initial_layout=[1,3,5])\n",
    "\n",
    "job_cal_our_identity=execute(calib_circuits_identity, backend = backend, shots=shots, initial_layout=[1,3,5])\n",
    "\n",
    "job_cal_our_itself=execute(calib_circuits_itself, backend = backend, shots=shots, initial_layout=[1,3,5])\n",
    "\n",
    "job_cal_qiskit=execute(cal_circ, backend, shots=shots, initial_layout=[1,3,5])"
   ]
  },
  {
   "cell_type": "code",
   "execution_count": 194,
   "metadata": {},
   "outputs": [],
   "source": [
    "meas_fitter_our_identity = CompleteMeasFitter(job_cal_our_identity.result(), state_labels=state_labels)\n",
    "meas_fitter_our_itself = CompleteMeasFitter(job_cal_our_itself.result(), state_labels=state_labels)\n",
    "meas_fitter_qiskit = CompleteMeasFitter(job_cal_qiskit.result(), state_labels=state_labels)"
   ]
  },
  {
   "cell_type": "code",
   "execution_count": 195,
   "metadata": {},
   "outputs": [
    {
     "data": {
      "text/latex": [
       "$\\displaystyle \\left[\\begin{matrix}0.951125 & 0.04790625 & 0.03446875 & 0.00175 & 0.042875 & 0.00225 & 0.001375 & 3.125 \\cdot 10^{-5}\\\\0.0164375 & 0.91940625 & 0.0004375 & 0.03371875 & 0.000625 & 0.0384375 & 0.000125 & 0.00115625\\\\0.00821875 & 0.00040625 & 0.9244375 & 0.04975 & 0.00028125 & 0 & 0.03953125 & 0.0016875\\\\0.000125 & 0.006625 & 0.01528125 & 0.88934375 & 0 & 0.0004375 & 0.00071875 & 0.03815625\\\\0.0234375 & 0.0011875 & 0.001 & 6.25 \\cdot 10^{-5} & 0.9314375 & 0.0480625 & 0.035 & 0.00178125\\\\0.0004375 & 0.02415625 & 0 & 0.00109375 & 0.01734375 & 0.90325 & 0.0005 & 0.0340625\\\\0.00021875 & 0 & 0.0239375 & 0.00109375 & 0.0073125 & 0.00028125 & 0.90728125 & 0.04375\\\\0 & 0.0003125 & 0.0004375 & 0.0231875 & 0.000125 & 0.00728125 & 0.01546875 & 0.879375\\end{matrix}\\right]$"
      ],
      "text/plain": [
       "Matrix([\n",
       "[  0.951125, 0.04790625, 0.03446875,    0.00175,   0.042875,    0.00225,   0.001375,   3.125e-5],\n",
       "[ 0.0164375, 0.91940625,  0.0004375, 0.03371875,   0.000625,  0.0384375,   0.000125, 0.00115625],\n",
       "[0.00821875, 0.00040625,  0.9244375,    0.04975, 0.00028125,          0, 0.03953125,  0.0016875],\n",
       "[  0.000125,   0.006625, 0.01528125, 0.88934375,          0,  0.0004375, 0.00071875, 0.03815625],\n",
       "[ 0.0234375,  0.0011875,      0.001,    6.25e-5,  0.9314375,  0.0480625,      0.035, 0.00178125],\n",
       "[ 0.0004375, 0.02415625,          0, 0.00109375, 0.01734375,    0.90325,     0.0005,  0.0340625],\n",
       "[0.00021875,          0,  0.0239375, 0.00109375,  0.0073125, 0.00028125, 0.90728125,    0.04375],\n",
       "[         0,  0.0003125,  0.0004375,  0.0231875,   0.000125, 0.00728125, 0.01546875,   0.879375]])"
      ]
     },
     "execution_count": 195,
     "metadata": {},
     "output_type": "execute_result"
    }
   ],
   "source": [
    "Matrix(meas_fitter_qiskit.cal_matrix)"
   ]
  },
  {
   "cell_type": "code",
   "execution_count": 196,
   "metadata": {},
   "outputs": [
    {
     "data": {
      "text/latex": [
       "$\\displaystyle \\left[\\begin{matrix}0.894375 & 0.06359375 & 0.05259375 & 0.004375 & 0.0503125 & 0.00440625 & 0.005375 & 0.01303125\\\\0.03090625 & 0.86165625 & 0.00246875 & 0.04753125 & 0.00209375 & 0.047125 & 0.013625 & 0.003625\\\\0.0256875 & 0.002 & 0.86665625 & 0.06209375 & 0.00328125 & 0.01353125 & 0.04734375 & 0.003125\\\\0.00146875 & 0.02525 & 0.0290625 & 0.83759375 & 0.01271875 & 0.00315625 & 0.0018125 & 0.04571875\\\\0.03115625 & 0.002625 & 0.00353125 & 0.01203125 & 0.8756875 & 0.0601875 & 0.050375 & 0.00396875\\\\0.00178125 & 0.03053125 & 0.0130625 & 0.00315625 & 0.03040625 & 0.8456875 & 0.00234375 & 0.04896875\\\\0.00275 & 0.01209375 & 0.03134375 & 0.002125 & 0.02453125 & 0.00175 & 0.84990625 & 0.060875\\\\0.011875 & 0.00225 & 0.00128125 & 0.03109375 & 0.00096875 & 0.02415625 & 0.02921875 & 0.8206875\\end{matrix}\\right]$"
      ],
      "text/plain": [
       "Matrix([\n",
       "[  0.894375, 0.06359375, 0.05259375,   0.004375,  0.0503125, 0.00440625,   0.005375, 0.01303125],\n",
       "[0.03090625, 0.86165625, 0.00246875, 0.04753125, 0.00209375,   0.047125,   0.013625,   0.003625],\n",
       "[ 0.0256875,      0.002, 0.86665625, 0.06209375, 0.00328125, 0.01353125, 0.04734375,   0.003125],\n",
       "[0.00146875,    0.02525,  0.0290625, 0.83759375, 0.01271875, 0.00315625,  0.0018125, 0.04571875],\n",
       "[0.03115625,   0.002625, 0.00353125, 0.01203125,  0.8756875,  0.0601875,   0.050375, 0.00396875],\n",
       "[0.00178125, 0.03053125,  0.0130625, 0.00315625, 0.03040625,  0.8456875, 0.00234375, 0.04896875],\n",
       "[   0.00275, 0.01209375, 0.03134375,   0.002125, 0.02453125,    0.00175, 0.84990625,   0.060875],\n",
       "[  0.011875,    0.00225, 0.00128125, 0.03109375, 0.00096875, 0.02415625, 0.02921875,  0.8206875]])"
      ]
     },
     "execution_count": 196,
     "metadata": {},
     "output_type": "execute_result"
    }
   ],
   "source": [
    "Matrix(meas_fitter_our_identity.cal_matrix)"
   ]
  },
  {
   "cell_type": "code",
   "execution_count": 197,
   "metadata": {},
   "outputs": [],
   "source": [
    "U_tilde_identity=meas_fitter_our_identity.cal_matrix\n",
    "U_tilde_itself=meas_fitter_our_itself.cal_matrix\n",
    "U_tilde_qiskit=meas_fitter_qiskit.cal_matrix"
   ]
  },
  {
   "cell_type": "code",
   "execution_count": 198,
   "metadata": {},
   "outputs": [],
   "source": [
    "def matrix_from_cirquit(qc, phase=0, type=\"sympy\"):\n",
    "\n",
    "    backend = Aer.get_backend('unitary_simulator')\n",
    "    job = execute(qc, backend, shots=32000)\n",
    "    result = job.result()\n",
    "    A=result.get_unitary(qc, decimals=10)*np.exp(1j*phase)\n",
    "    if type==\"sympy\":\n",
    "        return Matrix(A)\n",
    "    else:\n",
    "        return A"
   ]
  },
  {
   "cell_type": "code",
   "execution_count": 199,
   "metadata": {},
   "outputs": [
    {
     "data": {
      "text/html": [
       "<pre style=\"word-wrap: normal;white-space: pre;background: #fff0;line-height: 1.1;font-family: &quot;Courier New&quot;,Courier,monospace\">          ░ ┌─────┐ ┌───┐      ┌─┐   \n",
       "q7886_0: ─░─┤ Sdg ├─┤ H ├──────┤M├───\n",
       "          ░ └─┬─┬─┘ └───┘      └╥┘   \n",
       "q7886_1: ─░───┤M├───────────────╫────\n",
       "          ░   └╥┘  ┌─────┐┌───┐ ║ ┌─┐\n",
       "q7886_2: ─░────╫───┤ Sdg ├┤ H ├─╫─┤M├\n",
       "          ░    ║   └─────┘└───┘ ║ └╥┘\n",
       " c114: 3/══════╩════════════════╩══╩═\n",
       "               1                0  2 </pre>"
      ],
      "text/plain": [
       "          ░ ┌─────┐ ┌───┐      ┌─┐   \n",
       "q7886_0: ─░─┤ Sdg ├─┤ H ├──────┤M├───\n",
       "          ░ └─┬─┬─┘ └───┘      └╥┘   \n",
       "q7886_1: ─░───┤M├───────────────╫────\n",
       "          ░   └╥┘  ┌─────┐┌───┐ ║ ┌─┐\n",
       "q7886_2: ─░────╫───┤ Sdg ├┤ H ├─╫─┤M├\n",
       "          ░    ║   └─────┘└───┘ ║ └╥┘\n",
       " c114: 3/══════╩════════════════╩══╩═\n",
       "               1                0  2 "
      ]
     },
     "execution_count": 199,
     "metadata": {},
     "output_type": "execute_result"
    }
   ],
   "source": [
    "qr_basi = QuantumRegister(3)\n",
    "qc_basi = QuantumCircuit(qr_basi)\n",
    "\n",
    "qcs_basis = state_tomography_circuits(qc_basi, qr_basi)\n",
    "\n",
    "qcs_basis[0].remove_final_measurements()\n",
    "\n",
    "qcs_basis[16].draw()"
   ]
  },
  {
   "cell_type": "code",
   "execution_count": 200,
   "metadata": {},
   "outputs": [
    {
     "data": {
      "text/plain": [
       "array([[9.5112500e-01, 4.7906250e-02, 3.4468750e-02, 1.7500000e-03,\n",
       "        4.2875000e-02, 2.2500000e-03, 1.3750000e-03, 3.1250000e-05],\n",
       "       [1.6437500e-02, 9.1940625e-01, 4.3750000e-04, 3.3718750e-02,\n",
       "        6.2500000e-04, 3.8437500e-02, 1.2500000e-04, 1.1562500e-03],\n",
       "       [8.2187500e-03, 4.0625000e-04, 9.2443750e-01, 4.9750000e-02,\n",
       "        2.8125000e-04, 0.0000000e+00, 3.9531250e-02, 1.6875000e-03],\n",
       "       [1.2500000e-04, 6.6250000e-03, 1.5281250e-02, 8.8934375e-01,\n",
       "        0.0000000e+00, 4.3750000e-04, 7.1875000e-04, 3.8156250e-02],\n",
       "       [2.3437500e-02, 1.1875000e-03, 1.0000000e-03, 6.2500000e-05,\n",
       "        9.3143750e-01, 4.8062500e-02, 3.5000000e-02, 1.7812500e-03],\n",
       "       [4.3750000e-04, 2.4156250e-02, 0.0000000e+00, 1.0937500e-03,\n",
       "        1.7343750e-02, 9.0325000e-01, 5.0000000e-04, 3.4062500e-02],\n",
       "       [2.1875000e-04, 0.0000000e+00, 2.3937500e-02, 1.0937500e-03,\n",
       "        7.3125000e-03, 2.8125000e-04, 9.0728125e-01, 4.3750000e-02],\n",
       "       [0.0000000e+00, 3.1250000e-04, 4.3750000e-04, 2.3187500e-02,\n",
       "        1.2500000e-04, 7.2812500e-03, 1.5468750e-02, 8.7937500e-01]])"
      ]
     },
     "execution_count": 200,
     "metadata": {},
     "output_type": "execute_result"
    }
   ],
   "source": [
    "meas_fitter_qiskit.cal_matrix"
   ]
  },
  {
   "cell_type": "code",
   "execution_count": 201,
   "metadata": {},
   "outputs": [],
   "source": [
    "C_matrices_itself = []\n",
    "C_matrices_identity = []\n",
    "\n",
    "C_itself = np.matmul(U_tilde_itself, np.linalg.inv(U_ideal))\n",
    "C_identity = U_tilde_identity\n",
    "\n",
    "for base in qcs_basis:\n",
    "    \n",
    "    base.remove_final_measurements()\n",
    "\n",
    "    base_matrix = np.matrix(matrix_from_cirquit(base, type=\"numpy\"))\n",
    "    base_matrix_H = base_matrix.getH()\n",
    "\n",
    "    C_aus_itself = np.linalg.multi_dot([U_tilde_qiskit, base_matrix, np.linalg.inv(U_tilde_qiskit), U_tilde_itself, np.linalg.inv(U_ideal),  base_matrix_H])\n",
    "    #C_aus_itself = np.linalg.multi_dot([base_matrix, U_tilde_qiskit, np.linalg.inv(U_tilde_qiskit), C_itself])\n",
    "    C_aus_identity = np.matmul(base_matrix, np.matmul(C_identity, base_matrix_H))\n",
    "\n",
    "    C_matrices_identity.append(np.asarray(C_aus_identity))\n",
    "    C_matrices_itself.append(np.asarray(C_aus_itself))"
   ]
  },
  {
   "cell_type": "code",
   "execution_count": 202,
   "metadata": {},
   "outputs": [],
   "source": [
    "from copy import deepcopy\n",
    "\n",
    "meas_fitters_identity = []\n",
    "meas_fitters_itself = []\n",
    "\n",
    "for C_new in C_matrices_identity:\n",
    "    meas_fitter_our_aus = deepcopy(meas_fitter_our_identity)\n",
    "    meas_fitter_our_aus._tens_fitt.cal_matrices[0]=C_new\n",
    "\n",
    "    meas_fitters_identity.append(meas_fitter_our_aus)\n",
    "\n",
    "for C_new in C_matrices_itself:\n",
    "    meas_fitter_our_aus = deepcopy(meas_fitter_our_itself)\n",
    "    meas_fitter_our_aus._tens_fitt.cal_matrices[0]=C_new\n",
    "\n",
    "    meas_fitters_itself.append(meas_fitter_our_aus)"
   ]
  },
  {
   "cell_type": "code",
   "execution_count": 203,
   "metadata": {},
   "outputs": [],
   "source": [
    "target_state = (One^One^Zero).to_matrix()\n",
    "#target_state = (Zero^One^One).to_matrix()\n",
    "\n",
    "\n",
    "fids=np.zeros(4)\n",
    "\n",
    "raw_res=deepcopy(job_tomo.result())\n",
    "qiskit_res=deepcopy(raw_res)\n",
    "identity_res=deepcopy(raw_res)\n",
    "itself_res=deepcopy(raw_res)"
   ]
  },
  {
   "cell_type": "code",
   "execution_count": 204,
   "metadata": {},
   "outputs": [
    {
     "data": {
      "text/plain": [
       "{'110': 26736,\n",
       " '111': 1019,\n",
       " '010': 1491,\n",
       " '000': 779,\n",
       " '100': 1185,\n",
       " '101': 619,\n",
       " '001': 61,\n",
       " '011': 110}"
      ]
     },
     "execution_count": 204,
     "metadata": {},
     "output_type": "execute_result"
    }
   ],
   "source": [
    "raw_res.get_counts(-1)"
   ]
  },
  {
   "cell_type": "code",
   "execution_count": 205,
   "metadata": {},
   "outputs": [],
   "source": [
    "for i in range(27):\n",
    "\n",
    "    old_counts=raw_res.get_counts(i)\n",
    "    new_counts_qiskit = meas_fitter_qiskit.filter.apply(old_counts, method=\"least_squares\")\n",
    "    qiskit_res.results[i].data.counts = new_counts_qiskit\n",
    "\n",
    "    new_counts_id = meas_fitters_identity[i].filter.apply(old_counts, method=\"least_squares\")\n",
    "    identity_res.results[i].data.counts = new_counts_id\n",
    "\n",
    "    new_counts_it = meas_fitters_itself[i].filter.apply(old_counts, method=\"least_squares\")\n",
    "    itself_res.results[i].data.counts = new_counts_it"
   ]
  },
  {
   "cell_type": "code",
   "execution_count": 206,
   "metadata": {},
   "outputs": [
    {
     "data": {
      "text/plain": [
       "{'000': 6.622862643094725e-11,\n",
       " '010': 3.1960742061739353e-12,\n",
       " '100': 1.1676462480013346e-10,\n",
       " '110': 31999.999999999898,\n",
       " '111': 3.659524212423781e-11}"
      ]
     },
     "execution_count": 206,
     "metadata": {},
     "output_type": "execute_result"
    }
   ],
   "source": [
    "itself_res.get_counts(-1)"
   ]
  },
  {
   "cell_type": "code",
   "execution_count": 207,
   "metadata": {},
   "outputs": [
    {
     "data": {
      "text/plain": [
       "{'000': 446.42445525935256,\n",
       " '001': 3.747137670586975e-08,\n",
       " '100': 4.2374975978029374e-08,\n",
       " '101': 357.4283049810683,\n",
       " '110': 31196.147239698406}"
      ]
     },
     "execution_count": 207,
     "metadata": {},
     "output_type": "execute_result"
    }
   ],
   "source": [
    "identity_res.get_counts(-1)"
   ]
  },
  {
   "cell_type": "code",
   "execution_count": 208,
   "metadata": {},
   "outputs": [
    {
     "data": {
      "text/plain": [
       "array([0.83359792, 0.91835448, 0.9948397 , 0.99463925])"
      ]
     },
     "execution_count": 208,
     "metadata": {},
     "output_type": "execute_result"
    }
   ],
   "source": [
    "fids[0] = fidelity_count(raw_res, qcs_tomo, target_state)\n",
    "fids[1] = fidelity_count(qiskit_res, qcs_tomo, target_state)\n",
    "fids[2] = fidelity_count(identity_res, qcs_tomo, target_state)\n",
    "fids[3] = fidelity_count(itself_res, qcs_tomo, target_state)\n",
    "\n",
    "fids"
   ]
  },
  {
   "cell_type": "code",
   "execution_count": null,
   "metadata": {},
   "outputs": [],
   "source": []
  },
  {
   "cell_type": "code",
   "execution_count": null,
   "metadata": {},
   "outputs": [],
   "source": []
  },
  {
   "cell_type": "code",
   "execution_count": null,
   "metadata": {},
   "outputs": [],
   "source": []
  }
 ],
 "metadata": {
  "interpreter": {
   "hash": "aee8b7b246df8f9039afb4144a1f6fd8d2ca17a180786b69acc140d282b71a49"
  },
  "kernelspec": {
   "display_name": "Python 3.10.2 64-bit",
   "language": "python",
   "name": "python3"
  },
  "language_info": {
   "codemirror_mode": {
    "name": "ipython",
    "version": 3
   },
   "file_extension": ".py",
   "mimetype": "text/x-python",
   "name": "python",
   "nbconvert_exporter": "python",
   "pygments_lexer": "ipython3",
   "version": "3.8.0"
  },
  "orig_nbformat": 4
 },
 "nbformat": 4,
 "nbformat_minor": 2
}
