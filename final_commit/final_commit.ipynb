{
 "cells": [
  {
   "cell_type": "markdown",
   "metadata": {},
   "source": [
    "# Open-Science-prize quantum challenge 2021/22 by Quantum Polo Gang (Amico Valerio, Bensch Fabio,Pariente Ruben)"
   ]
  },
  {
   "cell_type": "markdown",
   "metadata": {},
   "source": [
    "# Note\n",
    "\n",
    "\n",
    "Our solution is for the Qiskit default challenge.\n",
    "\n",
    "\n",
    "In chapter 3 we specify which solution we choose for the fidelity score"
   ]
  },
  {
   "cell_type": "markdown",
   "metadata": {},
   "source": [
    "# Abstract\n",
    "\n",
    "We decide to split the XXX Hamiltonian into two pieces $H=H_1+H_2$ (instead of 6):\n",
    "$$    H_1=I^{(0)} \\otimes \\sigma_x^{(1)} \\otimes \\sigma_x^{(2)}  + I^{(0)}  \\otimes  \\sigma_y^{(1)} \\otimes \\sigma_y^{(2)} + I^{(0)}  \\otimes \\sigma_z^{(0)} \\otimes \\sigma_z^{(1)}$$\n",
    "$$ H_2=\\sigma_x^{(0)}\\otimes \\sigma_x^{(1)} \\otimes I^{(2)}  +  \\sigma_y^{(0)} \\otimes \\sigma_y^{(1)} \\otimes I^{(2)} + \\sigma_z^{(0)} \\otimes \\sigma_z^{(1)} \\otimes I^{(2)}$$\n",
    "\n",
    "so using Trotter's formula (for a fixed number of steps $N$):\n",
    "$$ e^{-iHt}=e^{-i(H_1 + H_2)t} \\simeq \\left(e^{-iH_1\\frac{t}{N}}e^{-iH_2\\frac{t}{N}}\\right)^N \\equiv (T_{step})^N \\equiv T(t)$$\n",
    "\n",
    "The main idea is to use Unitary Decomposition in a similar way as proposed in \"https://arxiv.org/abs/2101.02993\", instead of repeat a single $T_{step}$ N times that increase drastically the depth of the circuit. In particular instead of using Quantum Shannon decomposition (QSD) we look for a Unitary Decomposition for which the gate $T_{step}^{n}$ has the same minimal depth for every time simulation and number of Trotter Steps.\n",
    "\n",
    "In conclusion we are looking for a gate $U_{best}$ such that:\n",
    "$$U_{best}(t) \\ket{110} = T(t) \\ket{110}$$\n",
    "\n",
    "This can be intended in two ways:\n",
    "\n",
    "* $U_{best} = T$ (equality between operators)\n",
    "* $U_{best} \\neq T$, but the two different operators applied to the same vector yield the same result\n",
    "\n",
    "We followed both approaches, the former will be called *Hilbert Space Decomposition* (HSD) while for the latter we chose the name of *Single State Decomposition* (SSD).\n",
    "\n",
    "For HSD the best circuit we found is composed of 11 cnots (14 for the Jakarta geometry) while for the SSD approach we reached an even better 4 cnots solution.\n",
    "\n",
    "Furthermore, referring to qiskit's measurement error mitigation strategy (*https://qiskit.org/textbook/ch-quantum-hardware/measurement-error-mitigation.html*), we tried to model also the noise introduced by the circuit instead of narrowing ourselves down to measurement error only."
   ]
  },
  {
   "cell_type": "markdown",
   "metadata": {},
   "source": [
    "# 1) Decompositions\n",
    "\n",
    "We suggest two possible decomposition methods. Both are attempts to reconduce the trotterized evolution to two-qubit gates, since those are decomposed more efficiently. \n",
    "\n",
    "## 1.1) Single State Decomposition\n",
    "\n",
    "We start from observing that the hamiltonian preserves the magnetization:\n",
    "$$m = \\sum_i \\sigma_z^{(i)}\\; ; \\;\\;\\;  [H,m]=0$$\n",
    "We want to implement  a 3-qubit magnetization invariant gate using two 2-qubit gates in succession that preserve the magnetization too.\n",
    "$$U_{best} = \\left( \\mathbb{I}^{(0)} \\otimes M^{(1,2)} \\right) \\cdot \\left( M^{(0,1)} \\otimes \\mathbb{I}^{(2)}  \\right)  $$\n",
    "We search thus the most general form of a 2-qubit magnetization-preserving gate.\n",
    "Following https://arxiv.org/pdf/2106.13839.pdf, we want to generalize the Givens Rotation Gate to a SU(2) operator in the subspace $\\ket{01},\\ket{10}$:\n",
    "\n",
    "$$ M(\\omega,\\theta, \\phi) = \\left[\\begin{matrix}e^{ -i \\left( \\phi + \\theta\\right)} & 0 & 0 & 0\\\\ 0 & e^{-  i \\left(\\phi + \\theta\\right)} \\cos{\\left(\\omega \\right)} & - e^{-  i \\left( \\phi - \\theta\\right)} \\sin{\\left(\\omega \\right)} & 0\\\\ 0 & e^{ i \\left( \\phi - \\theta\\right)} \\sin{\\left(\\omega \\right)} & e^{ i \\left( \\phi + \\theta\\right)} \\cos{\\left(\\omega \\right)} & 0\\\\ 0 & 0 & 0 & e^{ i \\left( \\phi + \\theta\\right)}\\end{matrix}\\right] $$\n",
    "\n",
    "The M gate can be decompose with just 2 c-nots.\n",
    "\n",
    "Fixed the initial state to $\\ket{110}$, we have that $M^{(1,2)}M^{(0,1)}\\ket{110}$ spans the whole magnetization eigenspace. \n",
    "$$U_{best} = \\left(  \\mathbb{I} \\otimes M(\\omega_2,\\theta_2, \\phi_2)\\right)     \\cdot     \\left( M(\\omega_1,\\theta_1, \\phi_1) \\otimes \\mathbb{I} \\right)   $$\n",
    "\n",
    "So taking: $$T\\ket{110} = \\alpha \\ket{011} + \\beta \\ket{101} + \\gamma \\ket{110}$$\n",
    "\n",
    "where the $T(t)$ matrix is computed numerically and: \n",
    "\n",
    "$$\\begin{align*}\n",
    "\n",
    "U_{best}\\ket{110} =\\; &e^{i(\\theta_1 - \\phi_1 + \\theta_2 - \\phi_2)}\\sin(\\omega_1)\\sin(\\omega_2) \\ket{011} +\\\\\n",
    "& e^{i(\\theta_1-\\phi_1-\\theta_2-\\phi_2-\\pi)}\\sin(\\omega_1)\\cos(\\omega_2) \\ket{101} + \\\\\n",
    "&e^{i(\\theta_1+\\phi_1+\\theta_2+\\phi_2)}\\cos(\\omega_2) \\ket{110}\n",
    "\n",
    "\\end{align*}$$\n",
    "\n",
    "Matching the amplitudes and solving the system for $\\{\\omega, \\theta, \\phi \\}_{1,2}$ we get the parameters for the gates $M^{(0,1)}$ and $M^{(1,2)}$."
   ]
  },
  {
   "cell_type": "markdown",
   "metadata": {},
   "source": [
    "\n",
    "## Circuits:"
   ]
  },
  {
   "cell_type": "code",
   "execution_count": 63,
   "metadata": {},
   "outputs": [
    {
     "data": {
      "image/png": "[encoded data removed]",
      "text/plain": [
       "<Figure size 554.142x206.638 with 1 Axes>"
      ]
     },
     "execution_count": 63,
     "metadata": {},
     "output_type": "execute_result"
    }
   ],
   "source": [
    "from qiskit import QuantumCircuit, QuantumRegister, ClassicalRegister\n",
    "from qiskit.circuit import Parameter\n",
    "\n",
    "def get_M(theta, phi, omega, name=\"M\"): # defining the M matrix\n",
    "\n",
    "    qr=QuantumRegister(2, name=\"q_\")\n",
    "    M_qc=QuantumCircuit(qr, name=name)\n",
    "\n",
    "    M_qc.rz(2*theta,qr[1])\n",
    "    M_qc.h(qr[0])\n",
    "    M_qc.cx(qr[0],qr[1])\n",
    "    M_qc.ry(omega,qr)\n",
    "    M_qc.cx(qr[0],qr[1])\n",
    "    M_qc.h(qr[0])\n",
    "    M_qc.rz(2*phi,qr[1])\n",
    "\n",
    "    return M_qc\n",
    "\n",
    "theta_1, phi_1, omega_1  = Parameter(r'$\\theta_1$'), Parameter(r'$\\phi_1$'), Parameter(r'$\\omega_1$')\n",
    "\n",
    "M1_qc = get_M(theta_1, phi_1, omega_1, name=r\"$M_1$\")\n",
    "\n",
    "M1_qc.draw(output=\"mpl\", style={\"figwidth\":6, \"fontsize\":11})"
   ]
  },
  {
   "cell_type": "code",
   "execution_count": 64,
   "metadata": {},
   "outputs": [
    {
     "data": {
      "image/png": "[encoded data removed]",
      "text/plain": [
       "<Figure size 461.785x288.695 with 1 Axes>"
      ]
     },
     "execution_count": 64,
     "metadata": {},
     "output_type": "execute_result"
    }
   ],
   "source": [
    "theta_2, phi_2, omega_2  = Parameter(r'$\\theta_2$'), Parameter(r'$\\phi_2$'), Parameter(r'$\\omega_2$')\n",
    "M2_qc = get_M(theta_2, phi_2, omega_2, name=r\"$M_2$\")\n",
    "\n",
    "#building the circuit for the single state decomposition (SSD)\n",
    "qr_SSD = QuantumRegister(3, name = \"q_\")\n",
    "qc_SSD = QuantumCircuit(qr_SSD, name = r\"$U_{best}$\")\n",
    "\n",
    "qc_SSD.append(M1_qc, [qr_SSD[0], qr_SSD[1]])\n",
    "qc_SSD.append(M2_qc, [qr_SSD[1], qr_SSD[2]])\n",
    "\n",
    "qc_SSD.draw(output = \"mpl\", style={\"figwidth\":5, \"fontsize\":11})"
   ]
  },
  {
   "cell_type": "markdown",
   "metadata": {},
   "source": [
    "## 1.2) Hilbert Space Decomposition\n",
    "This decomposition is based on the observation that the single trotter step can be reduced to  2 qubit gate by a permutation of the basis elements $B T_{step} B^{\\dagger}=\\mathbb{I}^{(2)} \\otimes D^{(1,0)}$\n",
    "\n",
    "so for the iteration:\n",
    "\n",
    "$$B T_{step}^N B^{\\dagger} = \\mathbb{I} \\otimes D^{N} =T_{B}(t)$$\n",
    "\n",
    "where $B$ is the matrix associated with the permutation $\\left(\\begin{matrix}0 & 1 & 2 & 3 & 4\\\\3 & 2 & 1 & 4 & 0 \\end{matrix}\\right)$, that in matrix form is\n",
    "\n",
    "$$B = \\left[\n",
    "\\begin{matrix}\n",
    "0 & 0 & 0 & 0 & 1 & 0 & 0 & 0\\\\\n",
    "0 & 0 & 1 & 0 & 0 & 0 & 0 & 0\\\\\n",
    "0 & 1 & 0 & 0 & 0 & 0 & 0 & 0\\\\\n",
    "1 & 0 & 0 & 0 & 0 & 0 & 0 & 0\\\\\n",
    "0 & 0 & 0 & 1 & 0 & 0 & 0 & 0\\\\\n",
    "0 & 0 & 0 & 0 & 0 & 1 & 0 & 0\\\\\n",
    "0 & 0 & 0 & 0 & 0 & 0 & 1 & 0\\\\\n",
    "0 & 0 & 0 & 0 & 0 & 0 & 0 & 1\\end{matrix}\n",
    "\\right]$$\n",
    "\n",
    "Therefore\n",
    "\n",
    "$$ T_{B}(t) = B T(t) B^{\\dagger}$$\n",
    "\n",
    "is a two qubit gate. Applying the associated change of basis before and after this gate it is possible to reproduce the time evolution. \n",
    "\n",
    "Since the initial state is just a permutation of the prepared state, we can prepare it already in the permutated one.\n",
    "$$ \\ket{\\psi}_{prepared} = B^{\\dagger} \\ket{\\psi}_{init} $$\n",
    "\n",
    "Then we use `qiskit.unitary()` function to decompose $D^{N}$ (up to 3 c-nots), and we find the circuit for B using the permutation gates: x, c-not and toffoli.\n",
    "\n",
    "We also note that $B^{\\dagger}\\ket{110} = \\ket{110}$\n",
    "\n",
    "This decomposition works for a generic overlap of the Hilbert Space\n",
    "\n",
    "\n",
    "## Circuits:"
   ]
  },
  {
   "cell_type": "code",
   "execution_count": 65,
   "metadata": {},
   "outputs": [
    {
     "data": {
      "image/png": "[encoded data removed]",
      "text/plain": [
       "<Figure size 461.785x186.06 with 1 Axes>"
      ]
     },
     "execution_count": 65,
     "metadata": {},
     "output_type": "execute_result"
    }
   ],
   "source": [
    "import numpy as np\n",
    "from lib import utilities\n",
    "# Build the permutation operator\n",
    "B_qr=QuantumRegister(3, name=\"q_\")\n",
    "B_qc=QuantumCircuit(B_qr, name=\"B\")\n",
    "B_qc.x(B_qr[2])\n",
    "B_qc.cx(B_qr[1],B_qr[0])\n",
    "B_qc.cx(B_qr[2],B_qr[1])\n",
    "B_qc.cx(B_qr[1],B_qr[0])\n",
    "B_qc.x([B_qr[0],B_qr[1],B_qr[2]])\n",
    "B_qc.append(utilities.Toffoli_gate, [B_qr[0],B_qr[1],B_qr[2]])\n",
    "B_qc.x([B_qr[0],B_qr[1]])\n",
    "\n",
    "# Matrix associated to this circuit\n",
    "B = np.array(\n",
    "   [[0,0,0,0,1,0,0,0],\n",
    "    [0,0,1,0,0,0,0,0],\n",
    "    [0,1,0,0,0,0,0,0],\n",
    "    [1,0,0,0,0,0,0,0],\n",
    "    [0,0,0,1,0,0,0,0],\n",
    "    [0,0,0,0,0,1,0,0],\n",
    "    [0,0,0,0,0,0,1,0],\n",
    "    [0,0,0,0,0,0,0,1]]\n",
    ")\n",
    "\n",
    "B_qc.draw(output=\"mpl\", style={\"figwidth\":5, \"fontsize\":11})"
   ]
  },
  {
   "cell_type": "code",
   "execution_count": 66,
   "metadata": {},
   "outputs": [
    {
     "data": {
      "image/png": "[encoded data removed]",
      "text/plain": [
       "<Figure size 738.856x201.963 with 1 Axes>"
      ]
     },
     "execution_count": 66,
     "metadata": {},
     "output_type": "execute_result"
    }
   ],
   "source": [
    "# where the toffoli gate is optimized for the Jakarta geometry.\n",
    "utilities.Toffoli_gate.draw(output=\"mpl\", style={\"figwidth\":8, \"fontsize\":11})"
   ]
  },
  {
   "cell_type": "code",
   "execution_count": 67,
   "metadata": {},
   "outputs": [
    {
     "data": {
      "image/png": "[encoded data removed]",
      "text/plain": [
       "<Figure size 1200.64x165.263 with 1 Axes>"
      ]
     },
     "execution_count": 67,
     "metadata": {},
     "output_type": "execute_result"
    }
   ],
   "source": [
    "# The matrix D is a block of B' T B\n",
    "\n",
    "# To avoid code redundancy, we defined the trotter operation \n",
    "# in the external script utilities.py\n",
    "N_STEPS = 99\n",
    "TIME = np.pi\n",
    "\n",
    "T = utilities.trotterized_matrix(TIME, N_STEPS)\n",
    "T_b = np.linalg.multi_dot([ B, T, B.transpose() ])\n",
    "\n",
    "D = T_b[0:4, 0:4]\n",
    "\n",
    "from qiskit import transpile\n",
    "# Transpile the D operator and build the evolution circuit\n",
    "D_qc = QuantumCircuit(2, name=\"D\")\n",
    "D_qc.unitary(D,[0,1])    \n",
    "D_qc = transpile(D_qc, basis_gates=['cx','x','sx','rz']) # Jackarta basis gates\n",
    "\n",
    "D_qc.draw(output=\"mpl\", style={\"figwidth\":13, \"fontsize\":11})"
   ]
  },
  {
   "cell_type": "code",
   "execution_count": 68,
   "metadata": {},
   "outputs": [
    {
     "data": {
      "image/png": "[encoded data removed]",
      "text/plain": [
       "<Figure size 461.785x288.695 with 1 Axes>"
      ]
     },
     "execution_count": 68,
     "metadata": {},
     "output_type": "execute_result"
    }
   ],
   "source": [
    "qr_HSD = QuantumRegister(3, name=\"q_\")\n",
    "qc_HSD = QuantumCircuit(qr_HSD, name=\"D\")\n",
    "\n",
    "# the permutation of 110 is 110 itself, so we prepare it.\n",
    "initial_state = \"110\"\n",
    "\n",
    "for qubit in range(3):\n",
    "    if initial_state[::-1][qubit] == \"1\":\n",
    "        qc_HSD.x(qr_HSD[qubit])\n",
    "\n",
    "qc_HSD.append(D_qc, [qr_HSD[0], qr_HSD[1]])\n",
    "qc_HSD.append(B_qc.inverse(), qr_HSD)\n",
    "# hilbert space decomposition evolution circuit\n",
    "qc_HSD.draw(output=\"mpl\", style={\"figwidth\":5, \"fontsize\":12})"
   ]
  },
  {
   "cell_type": "markdown",
   "metadata": {},
   "source": [
    "# Comparison between SSD and HSD\n",
    "\n",
    "SSD has 4 c-not while HSD 14 c-not (for Jakarta geometry) but, at fixed time of evolution, SSD circuit has to be computed all the time we want to change the initial state.\n",
    "\n",
    "In addition it has no solution if we inizialize the system in a overlap of two state with different magnetization, while once we have the circuit for HSD this can be use for a generic initial state.\n",
    "\n",
    "From the chapter 3 you will see that, due to mitigation methods, there's no remarkable differents in terms of fidelity score between SSD and HSD.\n",
    "\n",
    "Between two different decomposition with same performance, we choose HSD as best solution because is the simplest and most general method.  "
   ]
  },
  {
   "cell_type": "markdown",
   "metadata": {},
   "source": [
    "# 2) Mitigation\n",
    "\n",
    "The following haphazard processes affect the performance of the circuit:\n",
    "* measurement noise\n",
    "* gate noise\n",
    "* state preparation noise \n",
    "\n",
    "we neglect the noise introduced by state mispreparation, so we assume the following model:\n",
    "\n",
    "$$ \\vec{p_{n}} = \\|U_{noisy}\\| \\vec{p_{0}} = C \\|U\\| \\vec{p_{0}}  = C \\vec{p_{i}} $$\n",
    "\n",
    "Where $\\vec{p}_n$ and $\\vec{p}_i$ are the probability vector noisy and ideal, C is a stochastic matrix that represent the noise of circuit and measure.\n",
    "We use $ \\|U\\|$ to intend the probability matrix (or Unistochastic) of U $$\\|U\\|_{ij}=|U_{ij}|^{2}$$\n",
    "\n",
    "\n",
    "So, characterizing the Calibration Matrix C we can mitigate the raw results. In particular because the shape of the circuit is the same for every time simulation (not only for $\\pi$) we can use the Calibration matrix computed for a particular time $t_{0}$ for every time. This is verified in the file \"nome_file\"\n",
    "$$C(t_{0})\\approx C(t)$$\n",
    "For this particular case we computed $C(\\pi)$\n",
    "\n",
    "## 2.1) *Circuit Itself Calibration* (CIC)\n",
    "\n",
    "We can caracterize the matrix $ \\tilde{U} = C\\|U\\| $, just preparing all the $2^n$ computational basis states and evolve them with the circuit $U_{noisy}$ itself.\n",
    "$$ \\tilde{U}_{ij} =   (C\\|U\\|)_{ij} $$\n",
    "\n",
    "So, the *calibration matrix* is:\n",
    "$$ C = \\tilde{U} \\| U \\|^{-1}  = C  \\|U\\| \\|U\\|^{-1}  $$\n",
    "\n",
    "We note that if $||U||$ is not invertible must be excluded from this treatment  ($t=\\pi$ is not the case). \n",
    "## Circuits:"
   ]
  },
  {
   "cell_type": "code",
   "execution_count": 69,
   "metadata": {},
   "outputs": [
    {
     "data": {
      "image/png": "[encoded data removed]",
      "text/plain": [
       "<Figure size 646.499x337.097 with 1 Axes>"
      ]
     },
     "execution_count": 69,
     "metadata": {},
     "output_type": "execute_result"
    }
   ],
   "source": [
    "calib_circuits_CIC = []\n",
    "\n",
    "state_labels = ['000', '001', '010', '011', '100', '101', '110', '111']  \n",
    "\n",
    "for state in state_labels:\n",
    "    cr_cal_itself = ClassicalRegister(3, name = \"c\")\n",
    "    qr_cal_itself = QuantumRegister(3, name = \"q_\")\n",
    "    qc_cal_itself = QuantumCircuit(qr_cal_itself, cr_cal_itself, name=f\"mcalcal_{state}\")\n",
    "    # first we prepare the initial state.\n",
    "    for qubit in [0,1,2]:\n",
    "        if state[::-1][qubit] == \"1\":\n",
    "            qc_cal_itself.x(qr_cal_itself[qubit])\n",
    "    # then we append the circuit.\n",
    "    qc_cal_itself.append(qc_SSD, qr_cal_itself)\n",
    "    qc_cal_itself.measure(qr_cal_itself, cr_cal_itself)\n",
    "\n",
    "    calib_circuits_CIC.append(qc_cal_itself)\n",
    "# example: for i = 1 we should preper the state |001> (gate x on first qubit).\n",
    "calib_circuits_CIC[1].draw(output=\"mpl\", style={\"figwidth\":7, \"fontsize\":12})"
   ]
  },
  {
   "cell_type": "markdown",
   "metadata": {},
   "source": [
    "\n",
    "## 2.2) *Noisy Identity Calibration* (NIC)\n",
    "In order to evaluate $C$ without the use of the ideal matrix (that could be a problem for more qubits), for all computational base states we use the following scheme:\n",
    "* prepare the initial state in an eigenvector of $U$: $U\\ket{\\lambda} = \\lambda \\ket{\\lambda}$.\n",
    "* apply U\n",
    "* apply a state preparation operator $O_{i, \\lambda}$ such that: $O_{i, \\lambda} \\ket{\\lambda} = \\ket{i}$, where $\\ket{i}$ is the i-th state of the computational basis.\n",
    "\n",
    "So, running the circuits:\n",
    "$$ C_{i,j} = \\bra{j} C O_{i, \\lambda}U \\ket{\\lambda} = \\bra{j} C \\ket{i} $$ \n",
    "\n",
    "For this specific case $\\ket{000},\\ket{111}$ are both eigenvector for SSD and only $\\ket{111}$ for HSD.\n",
    "\n",
    "If we assume that the gate noise doesn't depend on time, we can use the same calibration matrix (obtained with 8 circuits), to mitigate all the results of a temporal evolution (see pdf or .py script).\n",
    "\n",
    "Note that NIC doesn't need to calculate numerically $||U||_{-1}$, so it's less computationally expensive compare to CIC method.\n",
    "## Circuits:"
   ]
  },
  {
   "cell_type": "code",
   "execution_count": 70,
   "metadata": {},
   "outputs": [
    {
     "data": {
      "image/png": "[encoded data removed]",
      "text/plain": [
       "<Figure size 646.499x337.097 with 1 Axes>"
      ]
     },
     "execution_count": 70,
     "metadata": {},
     "output_type": "execute_result"
    }
   ],
   "source": [
    "calib_circuits_NIC = []\n",
    "\n",
    "for state in state_labels:\n",
    "    cr_cal_id = ClassicalRegister(3, name = \"c\")\n",
    "    qr_cal_id = QuantumRegister(3, name = \"q_\")\n",
    "    qc_cal_id = QuantumCircuit(qr_cal_id, cr_cal_id, name=f\"mcalcal_{state}\")\n",
    "    # The eigenvector of U_best is |000> so we prepare it.\n",
    "    # first we append the circuit.\n",
    "    qc_cal_id.append(qc_SSD, qr_cal_id)\n",
    "    # than we permute the state.\n",
    "    for qubit in range(3):\n",
    "        if state[::-1][qubit] == \"1\":\n",
    "            qc_cal_id.x(qr_cal_id[qubit])\n",
    "\n",
    "    qc_cal_id.measure(qr_cal_id, cr_cal_id)\n",
    "\n",
    "    calib_circuits_NIC.append(qc_cal_id)\n",
    "# example: for i = 7 we should get the final state |111> (gate x on all qubits).\n",
    "calib_circuits_NIC[7].draw(output=\"mpl\", style={\"figwidth\":7, \"fontsize\":12})"
   ]
  },
  {
   "cell_type": "markdown",
   "metadata": {},
   "source": [
    "\n",
    "### *Fast Tomography Circuits Calibration*\n",
    "\n",
    "Using NIC or CIC for each tomography base we should run $2^n$ circuit to calibrate it, so the total number of run would be $2^n \\cdot 3^n$ calibration circuits, that is computationally high-expensive.\n",
    "\n",
    "The *Fast Tomography Circuits Calibration* needs only $2^n$ calibration circuits.\n",
    "\n",
    "The idea is to compute just once the calibration matrix in the computational basis and for every tomography basis compute $$C_{H}=\\|H\\|C\\|H^{\\dagger}\\|$$ where H is the new basis matrix."
   ]
  },
  {
   "cell_type": "markdown",
   "metadata": {},
   "source": [
    "# Mitigation with Ancillas\n",
    "Since parity and total magnetization are conserved during time evolution, we try to measure with ancillas those quantities and reject all measurements that does not respect those constrains.\n",
    "\n",
    "The circuits that we have to append to use the ancillas are equally or more deep than the time evolution circuit itself so we have no improvement, in fidelity's terms, in using ancillas.  "
   ]
  },
  {
   "cell_type": "markdown",
   "metadata": {},
   "source": [
    "# 3) Results\n",
    "\n",
    "Next we run both the NIC and CIC method, with the single state decomposition. But for the challenge we choose the CIC technique.\n",
    "\n",
    "## 3.1) *Single State Decomposition* results"
   ]
  },
  {
   "cell_type": "code",
   "execution_count": 71,
   "metadata": {},
   "outputs": [
    {
     "data": {
      "image/png": "[encoded data removed]",
      "text/plain": [
       "<Figure size 646.499x329.609 with 1 Axes>"
      ]
     },
     "execution_count": 71,
     "metadata": {},
     "output_type": "execute_result"
    }
   ],
   "source": [
    "import numpy as np\n",
    "from scipy.linalg import expm\n",
    "\n",
    "# defining the evolution paramiters\n",
    "N_Trotter_Steps = 99\n",
    "evolution_time = np.pi\n",
    "\n",
    "X = np.array([[0,1],[1,0]])  #defining the pauli matrices\n",
    "Y = np.array([[0,-1j],[1j,0]])\n",
    "Z = np.array([[1,0],[0,-1]])\n",
    "Id = np.eye(2)\n",
    "\n",
    "# defining the two hamiltonian pizes: \n",
    "H1 = np.kron(X, np.kron(X,Id)) + np.kron(Y, np.kron(Y,Id)) + np.kron(Z, np.kron(Z,Id)) \n",
    "H2 = np.kron(Id, np.kron(X,X)) + np.kron(Id, np.kron(Y,Y)) + np.kron(Id, np.kron(Z,Z)) \n",
    "\n",
    "# building numerically the trotter step matrix, and the whole operator (trotter step)^n_steps.\n",
    "trotter_step_matrix_= expm(-evolution_time/N_Trotter_Steps*H1*1j).dot(expm(-evolution_time/N_Trotter_Steps*H2*1j))\n",
    "trotterized = np.linalg.matrix_power(trotter_step_matrix_, N_Trotter_Steps)\n",
    "\n",
    "# getting the parameters for the gates M1 and M2, solving the equations described in 1.1).\n",
    "theta_1, theta_2, phi_1, phi_2, omega_1, omega_2 = utilities.get_gates_parameters(trotterized, initial_state={\"110\": 1.0})\n",
    "# build M1 and M2\n",
    "M1_qc = get_M(theta_1, phi_1, omega_1)\n",
    "M2_qc = get_M(theta_2, phi_2, omega_2)\n",
    "# define the circuit of U\n",
    "qr_U = QuantumRegister(3 ,name=\"q_\")\n",
    "qc_U = QuantumCircuit(qr_U, name=\"U\")\n",
    "# append the gates\n",
    "qc_U.append(M1_qc, [qr_U[0], qr_U[1]])\n",
    "qc_U.append(M2_qc, [qr_U[1], qr_U[2]])\n",
    "# transpile and draw the circuit\n",
    "from qiskit import transpile\n",
    "qc_U=transpile(qc_U, basis_gates=[\"cx\",\"rz\",\"x\",\"sx\"])\n",
    "# building the tomography circuits\n",
    "qr_SSD = QuantumRegister(3, name=\"q_\")\n",
    "qc_SSD = QuantumCircuit(qr_SSD, name=r\"$U_{best}$\")\n",
    "\n",
    "qc_SSD.x([qr_SSD[1],qr_SSD[2]])\n",
    "qc_SSD.append(qc_U, qr_SSD)\n",
    "\n",
    "from qiskit.ignis.verification.tomography import state_tomography_circuits\n",
    "# make the tomography circuits\n",
    "qcs_tomo = state_tomography_circuits(qc_SSD, qr_SSD)\n",
    "qcs_tomo[3].draw(output=\"mpl\", style={\"figwidth\":7, \"fontsize\":12})"
   ]
  },
  {
   "cell_type": "code",
   "execution_count": 72,
   "metadata": {},
   "outputs": [
    {
     "name": "stderr",
     "output_type": "stream",
     "text": [
      "ibmqfactory.load_account:WARNING:2022-04-13 12:14:46,945: Credentials are already in use. The existing account in the session will be replaced.\n"
     ]
    }
   ],
   "source": [
    "# building the calibration circuits\n",
    "calib_circuits_NIC = utilities.get_calibration_circuits(qc_U, method=\"NIC\", eigenvector=\"000\") ### ATTENZIONE NON FUNZIONA PER HSD |111>\n",
    "calib_circuits_CIC = utilities.get_calibration_circuits(qc_U, method=\"CIC\")\n",
    "\n",
    "from qiskit import IBMQ, execute\n",
    "from qiskit.providers.aer import QasmSimulator\n",
    "\n",
    "IBMQ.load_account()\n",
    "provider = IBMQ.get_provider(hub='ibm-q-community',\n",
    "                            group='ibmquantumawards', \n",
    "                            project='open-science-22')\n",
    "backend_sim_noisy_jakarta = QasmSimulator.from_backend(provider.get_backend('ibmq_jakarta'))\n",
    "backend_real_jakarta = provider.get_backend('ibmq_jakarta')\n",
    "\n",
    "shots = 20000\n",
    "# execute the jobs.\n",
    "job_tomography=execute(qcs_tomo, backend_sim_noisy_jakarta, shots=shots, initial_layout=[1,3,5])\n",
    "job_NIC=execute(calib_circuits_NIC, backend = backend_sim_noisy_jakarta, shots=shots, initial_layout=[1,3,5])\n",
    "job_CIC=execute(calib_circuits_CIC, backend = backend_sim_noisy_jakarta, shots=shots, initial_layout=[1,3,5])"
   ]
  },
  {
   "cell_type": "code",
   "execution_count": 73,
   "metadata": {},
   "outputs": [],
   "source": [
    "# Mititgation of the results:\n",
    "from qiskit.utils.mitigation.fitters import CompleteMeasFitter\n",
    "import copy\n",
    "# building the matrices\n",
    "meas_fitter_NIC = CompleteMeasFitter(job_NIC.result(), state_labels=state_labels)\n",
    "meas_fitter_CIC = CompleteMeasFitter(job_CIC.result(), state_labels=state_labels)\n",
    "# copy the probability matrices.\n",
    "U_tilde_NIC = meas_fitter_NIC.cal_matrix\n",
    "U_tilde_CIC = meas_fitter_CIC.cal_matrix\n",
    "# U_ideal is the unitary matrix of the circuit qc_U, we will use it for the CIC method.\n",
    "U_ideal = utilities.matrix_from_circuit(qc_U)\n",
    "# defining the tomography basis circuits.\n",
    "qr_basi = QuantumRegister(3)\n",
    "qc_basi = QuantumCircuit(qr_basi)\n",
    "tomography_basis = state_tomography_circuits(qc_basi, qr_basi)\n",
    "\n",
    "# compute the probability matrix of U_ideal and the inverse of it.\n",
    "U_ideal_abs = np.abs(U_ideal)**2\n",
    "U_ideal_abs_inv = np.linalg.inv(U_ideal_abs)\n",
    "# built the calibration matrix in the computational basis for both CIC and NIC methods.\n",
    "C_CIC = np.dot(U_tilde_CIC, U_ideal_abs_inv)\n",
    "C_NIC = U_tilde_NIC\n",
    "# building the fast tomography circuits calibration.\n",
    "raw_result = job_tomography.result()\n",
    "NIC_result = copy.deepcopy(raw_result)\n",
    "CIC_result = copy.deepcopy(raw_result)\n",
    "\n",
    "for i, basis in enumerate(tomography_basis):\n",
    "    basis.remove_final_measurements()\n",
    "    # building the unitary matrix of the basis and the inverse.\n",
    "    base_matrix_amplitudes = utilities.matrix_from_circuit(basis)\n",
    "    base_matrix_amplitudes_inverse = np.linalg.inv(base_matrix_amplitudes)\n",
    "    # building the probability matrices.\n",
    "    base_matrix = np.abs(base_matrix_amplitudes)**2\n",
    "    base_matrix_inverse = np.abs(base_matrix_amplitudes_inverse)**2\n",
    "    # change the basis of the calibration matrices for NIC and CIC.\n",
    "    C_basis_CIC = np.linalg.multi_dot([base_matrix, C_CIC,  base_matrix_inverse])\n",
    "    C_basis_NIC = np.linalg.multi_dot([base_matrix, C_NIC,  base_matrix_inverse])\n",
    "\n",
    "    meas_fitter_NIC_aus = copy.deepcopy(meas_fitter_NIC)\n",
    "    meas_fitter_NIC_aus._tens_fitt.cal_matrices[0]=C_basis_NIC\n",
    "\n",
    "    meas_fitter_CIC_aus = copy.deepcopy(meas_fitter_CIC)\n",
    "    meas_fitter_CIC_aus._tens_fitt.cal_matrices[0]=C_basis_CIC\n",
    "\n",
    "    old_counts=raw_result.get_counts(basis)\n",
    "    new_counts_NIC = meas_fitter_NIC_aus.filter.apply(old_counts, method=\"least_squares\")\n",
    "    NIC_result.results[i].data.counts = new_counts_NIC\n",
    "    \n",
    "    new_counts_CIC = meas_fitter_CIC_aus.filter.apply(old_counts, method=\"least_squares\")\n",
    "    CIC_result.results[i].data.counts = new_counts_CIC"
   ]
  },
  {
   "cell_type": "code",
   "execution_count": 74,
   "metadata": {},
   "outputs": [],
   "source": [
    "from qiskit.ignis.verification.tomography import StateTomographyFitter\n",
    "from qiskit.quantum_info import state_fidelity\n",
    "from qiskit.opflow import One, Zero\n",
    "\n",
    "target_state = (One^One^Zero).to_matrix()  # (|q_5,q_3,q_1> = |110>)\n",
    "\n",
    "def fidelity_count(result, qcs, target_state):\n",
    "    '''\n",
    "    returns the fidelity, given the job result, the tomography cicuits, and the targhet state.\n",
    "    '''\n",
    "    tomo_ising = StateTomographyFitter(result, qcs)\n",
    "    rho_fit_ising = tomo_ising.fit(method=\"lstsq\")\n",
    "    fid=state_fidelity(rho_fit_ising, target_state)\n",
    "    return fid\n"
   ]
  },
  {
   "cell_type": "code",
   "execution_count": 75,
   "metadata": {},
   "outputs": [
    {
     "name": "stdout",
     "output_type": "stream",
     "text": [
      "decomposition method: Single State Decomposition\n",
      "evolution time = 1.000 pi\n",
      "Number of trotter steps = 99\n",
      "\n",
      "fidelity of raw results: 0.8691454200163177 \n",
      "fidelity with NIC method: 0.9971919673558043\n",
      "fidelity with CIC method: 0.9998718527857781   this is the fidelity score for the challenge.\n"
     ]
    }
   ],
   "source": [
    "fid_raw = fidelity_count(raw_result, qcs_tomo, target_state)\n",
    "fid_NIC = fidelity_count(NIC_result, qcs_tomo, target_state)\n",
    "fid_CIC = fidelity_count(CIC_result, qcs_tomo, target_state)\n",
    "\n",
    "print(\"decomposition method: Single State Decomposition\\nevolution time = %.3f pi\\nNumber of trotter steps = %d\\n\"%(TIME/np.pi, N_STEPS))\n",
    "print(f\"fidelity of raw results: {fid_raw} \\nfidelity with NIC method: {fid_NIC}\\nfidelity with CIC method: {fid_CIC}   this is the fidelity score for the challenge.\")"
   ]
  },
  {
   "cell_type": "markdown",
   "metadata": {},
   "source": [
    "## 3.2) *Hilbert Space Decomposition* results"
   ]
  },
  {
   "cell_type": "code",
   "execution_count": 76,
   "metadata": {},
   "outputs": [
    {
     "name": "stdout",
     "output_type": "stream",
     "text": [
      "attenzione al caso != HSD o SSD.  -get_evolution_circuit\n",
      "attenzione! funziona solo per lo stato 110\n"
     ]
    }
   ],
   "source": [
    "N_STEPS = 99\n",
    "TIME = np.pi\n",
    "BACKEND = backend_sim_noisy_jakarta\n",
    "\n",
    "# here we use the same code described above (in Hilbert Space Decomposition chapter).\n",
    "qc_HSD, qr_HSD = utilities.get_evolution_circuit(TIME, N_STEPS, method=\"HSD\")\n",
    "# build the calibration circuits for the Hilbert Space Decomposition\n",
    "calib_circuits_NIC_HSD = utilities.get_calibration_circuits(qc_HSD, method=\"NIC\", eigenvector=\"111\")\n",
    "calib_circuits_CIC_HSD = utilities.get_calibration_circuits(qc_HSD, method=\"CIC\")\n",
    "# build the tomography circuits for the hilbert space decomposition.\n",
    "qr_evolution_HSD = QuantumRegister(3, name=\"q_\")\n",
    "qc_evolution_HSD = QuantumCircuit(qr_evolution_HSD, name=\"HSD\")\n",
    "# preparing the initial state.\n",
    "initial_state = \"110\"\n",
    "for qubit in range(3):\n",
    "    if initial_state[::-1][qubit] == \"1\":\n",
    "        qc_evolution_HSD.x(qr_evolution_HSD[qubit])\n",
    "# built the tomograpfhy circuits.\n",
    "qcs_tomography_HSD = state_tomography_circuits(qc_evolution_HSD, qr_evolution_HSD)\n",
    "# execute all.\n",
    "shots = 32000\n",
    "job_tomography_HSD=execute(qcs_tomography_HSD, BACKEND, shots=shots, initial_layout=[1,3,5])\n",
    "job_NIC_HSD=execute(calib_circuits_NIC_HSD, backend = BACKEND, shots=shots, initial_layout=[1,3,5])\n",
    "job_CIC_HSD=execute(calib_circuits_CIC_HSD, backend = BACKEND, shots=shots, initial_layout=[1,3,5])\n",
    "# compute the U_ideal unitary matrix of the circuit.\n",
    "U_ideal = utilities.matrix_from_circuit(qc_HSD)\n",
    "# fast_tomography_calibration_MeasFitters returns a list of 27 CompleteMeasFitter objects, one for each tomo basis.\n",
    "meas_fitters_NIC_HSD = utilities.fast_tomography_calibration_MeasFitters(job_NIC_HSD.result(), method=\"NIC\")\n",
    "meas_fitters_CIC_HSD = utilities.fast_tomography_calibration_MeasFitters(job_CIC_HSD.result(), method=\"CIC\", U_ideal=U_ideal)\n",
    "# defining the target_state = |110> ; qubits: |5,3,1>\n",
    "target_state = (One^One^Zero).to_matrix()\n",
    "# compute the mitigated results.\n",
    "raw_result_HSD = job_tomography_HSD.result()\n",
    "NIC_result_HSD = copy.deepcopy(raw_result_HSD)\n",
    "CIC_result_HSD = copy.deepcopy(raw_result_HSD)\n",
    "for i in range(27):\n",
    "    new_counts_NIC_HSD = meas_fitters_NIC_HSD[i].filter.apply(raw_result.get_counts(i), method=\"least_squares\")\n",
    "    NIC_result_HSD.results[i].data.counts = new_counts_NIC_HSD\n",
    "    \n",
    "    new_counts_CIC_HSD = meas_fitters_CIC_HSD[i].filter.apply(raw_result.get_counts(i), method=\"least_squares\")\n",
    "    CIC_result_HSD.results[i].data.counts = new_counts_CIC_HSD"
   ]
  },
  {
   "cell_type": "code",
   "execution_count": 77,
   "metadata": {},
   "outputs": [
    {
     "name": "stdout",
     "output_type": "stream",
     "text": [
      "decomposition method: Hilbert Space Decomposition\n",
      "evolution time = 1.000 pi\n",
      "number of trotter steps = 99\n",
      "\n",
      "fidelity of raw results: 0.9043461892313462 \n",
      "fidelity with NIC method: 0.999996747913216\n",
      "fidelity with CIC method: 0.9999964678216153\n"
     ]
    }
   ],
   "source": [
    "fid_raw_HSD = utilities.fidelity_count(raw_result_HSD, qcs_tomo, target_state)\n",
    "fid_NIC_HSD = utilities.fidelity_count(NIC_result_HSD, qcs_tomo, target_state)\n",
    "fid_CIC_HSD = utilities.fidelity_count(CIC_result_HSD, qcs_tomo, target_state)\n",
    "\n",
    "print(\"decomposition method: Hilbert Space Decomposition\\nevolution time = %.3f pi\\nnumber of trotter steps = %d\\n\"%(TIME/np.pi, N_STEPS))\n",
    "print(f\"fidelity of raw results: {fid_raw_HSD} \\nfidelity with NIC method: {fid_NIC_HSD}\\nfidelity with CIC method: {fid_CIC_HSD}\")"
   ]
  },
  {
   "cell_type": "code",
   "execution_count": null,
   "metadata": {},
   "outputs": [],
   "source": []
  }
 ],
 "metadata": {
  "interpreter": {
   "hash": "aee8b7b246df8f9039afb4144a1f6fd8d2ca17a180786b69acc140d282b71a49"
  },
  "kernelspec": {
   "display_name": "Python 3.10.2 64-bit",
   "language": "python",
   "name": "python3"
  },
  "language_info": {
   "codemirror_mode": {
    "name": "ipython",
    "version": 3
   },
   "file_extension": ".py",
   "mimetype": "text/x-python",
   "name": "python",
   "nbconvert_exporter": "python",
   "pygments_lexer": "ipython3",
   "version": "3.9.4"
  },
  "orig_nbformat": 4
 },
 "nbformat": 4,
 "nbformat_minor": 2
}
