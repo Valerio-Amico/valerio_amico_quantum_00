{
 "cells": [
  {
   "cell_type": "markdown",
   "metadata": {},
   "source": [
    "# Open-Science-prize quantum challenge 2021/22 by Quantum Polo Gang"
   ]
  },
  {
   "cell_type": "markdown",
   "metadata": {},
   "source": [
    "# Abstract\n",
    "\n",
    "We decide to split the XXX Hamiltonian into two pieces $H=H_1+H_2$ (instead of 6):\n",
    "$$    H_1=I^{(0)} \\otimes \\sigma_x^{(1)} \\otimes \\sigma_x^{(2)}  + I^{(0)}  \\otimes  \\sigma_y^{(1)} \\otimes \\sigma_y^{(2)} + I^{(0)}  \\otimes \\sigma_z^{(0)} \\otimes \\sigma_z^{(1)}$$\n",
    "$$ H_2=\\sigma_x^{(0)}\\otimes \\sigma_x^{(1)} \\otimes I^{(2)}  +  \\sigma_y^{(0)} \\otimes \\sigma_y^{(1)} \\otimes I^{(2)} + \\sigma_z^{(0)} \\otimes \\sigma_z^{(1)} \\otimes I^{(2)}$$\n",
    "\n",
    "so using Trotter's formula (for a fixed number of steps $N$):\n",
    "$$ e^{-iHt}=e^{-i(H_1 + H_2)t} \\simeq \\left(e^{-iH_1\\frac{t}{N}}e^{-iH_2\\frac{t}{N}}\\right)^N \\equiv (T_{step})^N \\equiv T(t)$$\n",
    "\n",
    "Our main goal is to find the operator $U_{best}$ for which the number of gates is minimum and for which holds (at all times):\n",
    "\n",
    "$$U_{best}(t) \\ket{110} = T(t) \\ket{110}$$\n",
    "\n",
    "This can be intended in two ways:\n",
    "\n",
    "* $U_{best} = T$ (equality between operators)\n",
    "* $U_{best} \\neq T$, but the two different operators applied to the same vector yield the same result\n",
    "\n",
    "We followed both approaches, the former will be called *Hilbert Space Decomposition* (HSD) while for the latter we chose the name of *Single State Decomposition* (SSD).\n",
    "\n",
    "For HSD the best circuit we found is composed of 11 cnots (14 for the Jakarta geometry) while for the SSD approach we reached an even better 4 cnots solution.\n",
    "\n",
    "Furthermore, referring to qiskit's measurement error mitigation strategy (*https://qiskit.org/textbook/ch-quantum-hardware/measurement-error-mitigation.html*), we tried to model also the noise introduced by the circuit instead of narrowing down to measurement error only."
   ]
  },
  {
   "cell_type": "markdown",
   "metadata": {},
   "source": [
    "# Tomography evaluation\n",
    "\n",
    "model chosen and results"
   ]
  },
  {
   "cell_type": "markdown",
   "metadata": {},
   "source": [
    "# 1) Decompositions\n",
    "\n",
    "We suggest two possible decomposition methods. Both are attempts to reconduce the trotterized evolution to two-qubit gates, since those are decomposed more efficiently. \n",
    "\n",
    "## 1.1) Single State Decomposition\n",
    "\n",
    "We start from observing that the hamiltonian preserves the magnetization:\n",
    "$$m = \\sum_i \\sigma_z^{(i)}$$\n",
    "We want to mimic the 3-qubit gate using two 2-qubit gates in succession, thus the subgates must preserve the magnetization too.\n",
    "$$U_{best} = \\left( \\mathbb{I}^{(0)} \\otimes M^{(1,2)} \\right) \\cdot \\left( M^{(0,1)} \\otimes \\mathbb{I}^{(2)}  \\right)  $$\n",
    "We search thus the most general form of a 2-qubit magnetization-preserving gate.\n",
    "Following *reference*, we know that such an operator has the parametric form:\n",
    "\n",
    "$$ M(\\omega,\\theta, \\phi) = \\left[\\begin{matrix}e^{ -i \\left( \\phi + \\theta\\right)} & 0 & 0 & 0\\\\ 0 & e^{-  i \\left(\\phi + \\theta\\right)} \\cos{\\left(\\omega \\right)} & - e^{-  i \\left( \\phi - \\theta\\right)} \\sin{\\left(\\omega \\right)} & 0\\\\ 0 & e^{ i \\left( \\phi - \\theta\\right)} \\sin{\\left(\\omega \\right)} & e^{ i \\left( \\phi + \\theta\\right)} \\cos{\\left(\\omega \\right)} & 0\\\\ 0 & 0 & 0 & e^{ i \\left( \\phi + \\theta\\right)}\\end{matrix}\\right] $$\n",
    "\n",
    "and can be decomposed with 2 c-nots.\n",
    "\n",
    "Fixed the initial state to $\\ket{110}$, we have that $M^{(1,2)}M^{(0,1)}\\ket{110}$ spans the whole magnetization eigenspace. \n",
    "$$U_{best} = \\left(  \\mathbb{I} \\otimes M(\\omega_2,\\theta_2, \\phi_2)\\right)     \\cdot     \\left( M(\\omega_1,\\theta_1, \\phi_1) \\otimes \\mathbb{I} \\right)   $$\n",
    "\n",
    "So taking: $$T\\ket{110} = \\alpha \\ket{011} + \\beta \\ket{101} + \\gamma \\ket{110}$$\n",
    "\n",
    "where $T$ is computed numerically and: \n",
    "\n",
    "$$\\begin{align*}\n",
    "\n",
    "U_{best}\\ket{110} =\\; &e^{i(\\theta_1 - \\phi_1 + \\theta_2 - \\phi_2)}\\sin(\\omega_1)\\sin(\\omega_2) \\ket{011} +\\\\\n",
    "& e^{i(\\theta_1-\\phi_1-\\theta_2-\\phi_2-\\pi)}\\sin(\\omega_1)\\cos(\\omega_2) \\ket{101} + \\\\\n",
    "&e^{i(\\theta_1+\\phi_1+\\theta_2+\\phi_2)}\\cos(\\omega_2) \\ket{110}\n",
    "\n",
    "\\end{align*}$$\n",
    "\n",
    "Matching the amplitudes and solving the system for $\\{\\omega, \\theta, \\phi \\}_{1,2}$ we get the parameters for the gates $M^{(0,1)}$ and $M^{(1,2)}$."
   ]
  },
  {
   "cell_type": "markdown",
   "metadata": {},
   "source": [
    "\n",
    "## Circuits:"
   ]
  },
  {
   "cell_type": "code",
   "execution_count": 54,
   "metadata": {},
   "outputs": [
    {
     "data": {
      "image/png": "[encoded data removed]",
      "text/plain": [
       "<Figure size 554.142x201.171 with 1 Axes>"
      ]
     },
     "execution_count": 54,
     "metadata": {},
     "output_type": "execute_result"
    }
   ],
   "source": [
    "from qiskit import QuantumCircuit, QuantumRegister, ClassicalRegister\n",
    "from qiskit.circuit import Parameter\n",
    "\n",
    "def get_M(theta, phi, omega, name=\"M\"): # defining the M matrix\n",
    "\n",
    "    qr=QuantumRegister(2, name=\"q_\")\n",
    "    M_qc=QuantumCircuit(qr, name=name)\n",
    "\n",
    "    M_qc.rz(2*theta,qr[1])\n",
    "    M_qc.h(qr[0])\n",
    "    M_qc.cx(qr[0],qr[1])\n",
    "    M_qc.ry(omega,qr)\n",
    "    M_qc.cx(qr[0],qr[1])\n",
    "    M_qc.h(qr[0])\n",
    "    M_qc.rz(2*phi,qr[1])\n",
    "\n",
    "    return M_qc\n",
    "\n",
    "theta_1, phi_1, omega_1  = Parameter(r'$\\theta_1$'), Parameter(r'$\\phi_1$'), Parameter(r'$\\omega_1$')\n",
    "\n",
    "M1_qc = get_M(theta_1, phi_1, omega_1, name=r\"$M_1$\")\n",
    "\n",
    "M1_qc.draw(output=\"mpl\", style={\"figwidth\":6, \"fontsize\":11})"
   ]
  },
  {
   "cell_type": "code",
   "execution_count": 55,
   "metadata": {},
   "outputs": [
    {
     "data": {
      "image/png": "[encoded data removed]",
      "text/plain": [
       "<Figure size 461.785x279.7 with 1 Axes>"
      ]
     },
     "execution_count": 55,
     "metadata": {},
     "output_type": "execute_result"
    }
   ],
   "source": [
    "theta_2, phi_2, omega_2  = Parameter(r'$\\theta_2$'), Parameter(r'$\\phi_2$'), Parameter(r'$\\omega_2$')\n",
    "M2_qc = get_M(theta_2, phi_2, omega_2, name=r\"$M_2$\")\n",
    "\n",
    "#building the circuit of U_best\n",
    "U_best_qr = QuantumRegister(3, name = \"q_\")\n",
    "U_best_qc = QuantumCircuit(U_best_qr, name = r\"$U_{best}$\")\n",
    "\n",
    "U_best_qc.append(M1_qc, [U_best_qr[0],U_best_qr[1]])\n",
    "U_best_qc.append(M2_qc, [U_best_qr[1],U_best_qr[2]])\n",
    "\n",
    "U_best_qc.draw(output = \"mpl\", style={\"figwidth\":5, \"fontsize\":11})"
   ]
  },
  {
   "cell_type": "markdown",
   "metadata": {},
   "source": [
    "## 1.2) Hilbert Space Decomposition\n",
    "This decomposition is based on the observation that the trotter step matrix can be reduced to  2-block matrix by a permutation of the basis elements:\n",
    "\n",
    "$$B T_{step}^N B^{\\dagger} = \\mathbb{I}^{(0)} \\otimes D^{(1,2)} $$\n",
    "\n",
    "where $B$ is the matrix associated with the permutation $(0 \\rightarrow 3  \\rightarrow 4  \\rightarrow 0)\\cdot(1  \\rightarrow 2  \\rightarrow 1)$, that in matrix form is\n",
    "\n",
    "$$B = \\left[\n",
    "\\begin{matrix}\n",
    "0 & 0 & 0 & 0 & 1 & 0 & 0 & 0\\\\\n",
    "0 & 0 & 1 & 0 & 0 & 0 & 0 & 0\\\\\n",
    "0 & 1 & 0 & 0 & 0 & 0 & 0 & 0\\\\\n",
    "1 & 0 & 0 & 0 & 0 & 0 & 0 & 0\\\\\n",
    "0 & 0 & 0 & 1 & 0 & 0 & 0 & 0\\\\\n",
    "0 & 0 & 0 & 0 & 0 & 1 & 0 & 0\\\\\n",
    "0 & 0 & 0 & 0 & 0 & 0 & 1 & 0\\\\\n",
    "0 & 0 & 0 & 0 & 0 & 0 & 0 & 1\\end{matrix}\n",
    "\\right]$$\n",
    "\n",
    "Therefore\n",
    "\n",
    "$$ T_{B}(t) = B T(t) B^{\\dagger}$$\n",
    "\n",
    "is a two qubit gate. Aplying the associated change of basis before and after this gate is possible to reproduce the time evolution. \n",
    "\n",
    "Since the initial state is just a permutation of the prepared state, we can prepare it already in the permutated one.\n",
    "$$ \\ket{\\psi}_{prepared} = B^{\\dagger} \\ket{\\psi}_{init} $$\n",
    "\n",
    "Then we use `qiskit.transpile()` function to decompose $D$ (up to 3 c-nots), and we find the circuit for B using the permutation gates: x, c-not and toffoli.\n",
    "\n",
    "We also note that $B\\ket{110} = \\ket{110}$\n",
    "\n",
    "\n",
    "## Circuits:"
   ]
  },
  {
   "cell_type": "code",
   "execution_count": 56,
   "metadata": {},
   "outputs": [
    {
     "data": {
      "image/png": "[encoded data removed]",
      "text/plain": [
       "<Figure size 461.785x206.224 with 1 Axes>"
      ]
     },
     "execution_count": 56,
     "metadata": {},
     "output_type": "execute_result"
    }
   ],
   "source": [
    "# Build the permutation operator\n",
    "B_qr=QuantumRegister(3, name=\"q_\")\n",
    "B_qc=QuantumCircuit(B_qr, name=\"B\")\n",
    "B_qc.x(B_qr[2])\n",
    "B_qc.cx(B_qr[1],B_qr[0])\n",
    "B_qc.cx(B_qr[2],B_qr[1])\n",
    "B_qc.cx(B_qr[1],B_qr[0])\n",
    "B_qc.x([B_qr[0],B_qr[1],B_qr[2]])\n",
    "B_qc.toffoli(B_qr[0],B_qr[1],B_qr[2])\n",
    "B_qc.x([B_qr[0],B_qr[1]])\n",
    "\n",
    "# Matrix associated to this circuit\n",
    "B = np.array(\n",
    "   [[0,0,0,0,1,0,0,0],\n",
    "    [0,0,1,0,0,0,0,0],\n",
    "    [0,1,0,0,0,0,0,0],\n",
    "    [1,0,0,0,0,0,0,0],\n",
    "    [0,0,0,1,0,0,0,0],\n",
    "    [0,0,0,0,0,1,0,0],\n",
    "    [0,0,0,0,0,0,1,0],\n",
    "    [0,0,0,0,0,0,0,1]]\n",
    ")\n",
    "\n",
    "B_qc.draw(output=\"mpl\", style={\"figwidth\":5, \"fontsize\":11})"
   ]
  },
  {
   "cell_type": "code",
   "execution_count": 57,
   "metadata": {},
   "outputs": [
    {
     "data": {
      "image/png": "[encoded data removed]",
      "text/plain": [
       "<Figure size 1200.64x156.299 with 1 Axes>"
      ]
     },
     "execution_count": 57,
     "metadata": {},
     "output_type": "execute_result"
    }
   ],
   "source": [
    "# The matrix D is a block of B' T B\n",
    "\n",
    "# To avoid code redundancy, we defined the trotter operation \n",
    "# in the external script utilities.py\n",
    "N_STEPS = 42\n",
    "TIME = np.pi\n",
    "\n",
    "from lib import utilities\n",
    "T = utilities.trotterized_matrix(TIME, N_STEPS)\n",
    "T_b = np.linalg.multi_dot([ B, T, B.transpose() ])\n",
    "\n",
    "D = T_b[0:4, 0:4]\n",
    "\n",
    "# Transpile the D operator and build the evolution circuit\n",
    "D_qc = QuantumCircuit(2, name=\"D\")\n",
    "D_qc.unitary(D,[0,1])    \n",
    "D_qc = transpile(D_qc, basis_gates=['cx','x','sx','rz']) # Jackarta basis gates\n",
    "\n",
    "D_qc.draw(output=\"mpl\", style={\"figwidth\":13, \"fontsize\":11})"
   ]
  },
  {
   "cell_type": "code",
   "execution_count": 58,
   "metadata": {},
   "outputs": [
    {
     "data": {
      "image/png": "[encoded data removed]",
      "text/plain": [
       "<Figure size 646.499x330.252 with 1 Axes>"
      ]
     },
     "execution_count": 58,
     "metadata": {},
     "output_type": "execute_result"
    }
   ],
   "source": [
    "cr_evo = ClassicalRegister(3, name=\"c\")\n",
    "qr_evo = QuantumRegister(3, name=\"q_\")\n",
    "qc_evo = QuantumCircuit(qr_evo, cr_evo, name=\"D\")\n",
    "\n",
    "# the permutation of 110 is 110 itself, so we prepare it.\n",
    "state = \"110\"\n",
    "\n",
    "for qubit in range(3):\n",
    "    if state[::-1][qubit] == \"1\":\n",
    "        qc_evo.x(qr_evo[qubit])\n",
    "\n",
    "qc_evo.append(D_qc, [qr_evo[1], qr_evo[2]])\n",
    "qc_evo.append(B_qc.inverse(), qr_evo)\n",
    "qc_evo.measure(qr_evo, cr_evo)\n",
    "\n",
    "qc_evo.draw(output=\"mpl\", style={\"figwidth\":7, \"fontsize\":11})"
   ]
  },
  {
   "cell_type": "markdown",
   "metadata": {},
   "source": [
    "# 2) Mitigation\n",
    "\n",
    "The following haphazard processes affect the performance of the circuit:\n",
    "* measurement noise\n",
    "* gate noise\n",
    "* state preparation noise \n",
    "\n",
    "we neglect the noise introduced by state mispreparation, so we assume the following model:\n",
    "$$ \\ket{\\psi_{noisy}} =  U_{noisy} \\ket{\\psi_0} = M N U \\ket{\\psi_0}  = M N \\ket{\\psi_{ideal}} $$\n",
    "\n",
    "Where $N$ (*Circuit Noise Matrix*) and $M$ (*Measurment Noise Matrix*) are the unitary matrices that rapresent the noise of circuit and measure.\n",
    "\n",
    "Since the measurment process gives us squared amplitudes (probabilities), one can write:\n",
    "\n",
    "$$ \\| \\ket{\\psi_{noisy}} \\| = \\| M N \\ket{\\psi_{ideal}} \\| =  \\| M \\| \\| N \\| \\| \\ket{\\psi_{ideal}} \\| $$\n",
    "\n",
    "So, characterizing the probability matrices $\\| M \\|$ and $\\| N \\|$ we could mitigate the results.\n",
    "\n",
    "### Notation:\n",
    "* we use $ \\|A\\| \\equiv |A|^2$ to intend the squared module element by element of A, where A is a complex matrix or vector.\n",
    "\n",
    "## 2.1) *Circuit Itself Calibration* (CIC)\n",
    "\n",
    "We can built the matrix $ \\tilde{U} = \\|MNU\\| $, just preparing all the $2^n$ computational basis states and evolve them with the circuit $U_{noisy}$ itself.\n",
    "$$ \\tilde{U}_{i,j} =  \\bra{j} MNU \\ket{i} $$\n",
    "\n",
    "So, the *calibration matrix* is:\n",
    "$$ C = \\tilde{U} \\| U \\|^{-1}  = \\| MN \\| \\|U\\| \\|U\\|^{-1} = \\| MN \\| $$\n",
    "\n",
    "## Circuits:"
   ]
  },
  {
   "cell_type": "code",
   "execution_count": 59,
   "metadata": {},
   "outputs": [
    {
     "data": {
      "image/png": "[encoded data removed]",
      "text/plain": [
       "<Figure size 646.499x330.252 with 1 Axes>"
      ]
     },
     "execution_count": 59,
     "metadata": {},
     "output_type": "execute_result"
    }
   ],
   "source": [
    "calib_circuits_CIC = []\n",
    "\n",
    "state_labels = ['000', '001', '010', '011', '100', '101', '110', '111']  \n",
    "\n",
    "for state in state_labels:\n",
    "    cr_cal_itself = ClassicalRegister(3, name = \"c\")\n",
    "    qr_cal_itself = QuantumRegister(3, name = \"q_\")\n",
    "    qc_cal_itself = QuantumCircuit(qr_cal_itself, cr_cal_itself, name=f\"mcalcal_{state}\")\n",
    "    # first we prepare the initial state.\n",
    "    for qubit in [0,1,2]:\n",
    "        if state[::-1][qubit] == \"1\":\n",
    "            qc_cal_itself.x(qr_cal_itself[qubit])\n",
    "    # then we append the circuit.\n",
    "    qc_cal_itself.append(U_best_qc, qr_cal_itself)\n",
    "    qc_cal_itself.measure(qr_cal_itself, cr_cal_itself)\n",
    "\n",
    "    calib_circuits_CIC.append(qc_cal_itself)\n",
    "# example: for i = 1 we should preper the state |001> (gate x on first qubit).\n",
    "calib_circuits_CIC[1].draw(output=\"mpl\", style={\"figwidth\":7, \"fontsize\":12})"
   ]
  },
  {
   "cell_type": "markdown",
   "metadata": {},
   "source": [
    "\n",
    "## 2.2) *Noisy Identity Calibration* (NIC)\n",
    "CAMBIARE!!!\n",
    "In order to evaluate $ C = \\|MN\\| $, for all computational base states we use the following scheme:\n",
    "* prepare the initial state in an eigenvector of $U$: $U\\ket{\\lambda} = \\lambda \\ket{\\lambda}$.\n",
    "* we define an operator $O_{i, \\lambda}$ such that: $O_{i, \\lambda} \\ket{\\lambda} = \\ket{i}$.\n",
    "\n",
    "So, running the circuits:\n",
    "$$ C_{i,j} = \\bra{j} MNO_{i, \\lambda}U \\ket{\\lambda} = \\bra{j} MN \\ket{i} $$ \n",
    "\n",
    "Where we assume $O_{i, \\lambda}$ an noiseless operator.\n",
    "\n",
    "## Circuits:"
   ]
  },
  {
   "cell_type": "code",
   "execution_count": 60,
   "metadata": {},
   "outputs": [
    {
     "data": {
      "image/png": "[encoded data removed]",
      "text/plain": [
       "<Figure size 646.499x330.252 with 1 Axes>"
      ]
     },
     "execution_count": 60,
     "metadata": {},
     "output_type": "execute_result"
    }
   ],
   "source": [
    "calib_circuits_NIC = []\n",
    "\n",
    "for state in state_labels:\n",
    "    cr_cal_id = ClassicalRegister(3, name = \"c\")\n",
    "    qr_cal_id = QuantumRegister(3, name = \"q_\")\n",
    "    qc_cal_id = QuantumCircuit(qr_cal_id, cr_cal_id, name=f\"mcalcal_{state}\")\n",
    "    # first we append the circuit.\n",
    "    qc_cal_id.append(U_best_qc, qr_cal_id)\n",
    "    # than we permute the state.\n",
    "    for qubit in range(3):\n",
    "        if state[::-1][qubit] == \"1\":\n",
    "            qc_cal_id.x(qr_cal_id[qubit])\n",
    "        \n",
    "    qc_cal_id.measure(qr_cal_id, cr_cal_id)\n",
    "\n",
    "    calib_circuits_NIC.append(qc_cal_id)\n",
    "# example: for i = 7 we should get the final state |111> (gate x on all qubits).\n",
    "calib_circuits_NIC[7].draw(output=\"mpl\", style={\"figwidth\":7, \"fontsize\":12})"
   ]
  },
  {
   "cell_type": "markdown",
   "metadata": {},
   "source": [
    "\n",
    "## 2.3) *Fast Tomography Circuits Calibration*\n",
    "\n",
    "Using NIC or CIC for each tomography base we should run $2^n$ circuit to calibrate it, so the total number of run would be $2^n \\cdot 3^n$ calibration circuits, that is computationally high-expensive.\n",
    "\n",
    "The *Fast Tomography Circuits Calibration* needs only $2^n$ calibration circuits.\n",
    "\n",
    "The idea is to compute just once the calibration matrix in the computational basis. Then to compute the calibration matrix in a basis $B$ at will one can just use the following: $$ \\tilde{C} = M B M^{-1} C B^{-1} $$\n",
    "We want to infer how the change of basis affects the noise.\n",
    "We assume that the measurement noise acts on the circuit after the change of basis which in turn happens before the circuit noise:\n",
    "$$ \\ket{\\psi_{ideal}} = BU\\ket{\\psi_0}$$\n",
    "$$ \\ket{\\psi_{noisy}} = \\tilde{U} \\ket{\\psi_0} = MHNU\\ket{\\psi_0} = MBNB^{-1}\\ket{\\psi_{ideal}}$$\n",
    "Since the previous strategies can estimate jointly $C \\equiv MN$ and not $N$ alone, we can do so\n",
    "$$\\tilde{C} = MBNB^{-1} = MBM^{-1}MNB^{-1} = MBM^{-1} \\cdot C B^{-1} $$\n",
    "And the new matrix $\\tilde{C}$ is the noise matrix in the new basis. The remarkable fact is that once $C$ is computed by one of the methods previously stated, it is possible to obtain the noise in every basis, given that we know the change of base matrix $B$."
   ]
  },
  {
   "cell_type": "markdown",
   "metadata": {},
   "source": [
    "\n",
    "\n",
    "# 3) results and conclusion"
   ]
  },
  {
   "cell_type": "code",
   "execution_count": 61,
   "metadata": {},
   "outputs": [],
   "source": [
    "import numpy as np\n",
    "import sympy\n",
    "from scipy.linalg import expm\n",
    "\n",
    "# defining the evolution paramiters\n",
    "N_Trotter_Steps = 99\n",
    "evolution_time = np.pi"
   ]
  },
  {
   "cell_type": "code",
   "execution_count": 62,
   "metadata": {},
   "outputs": [
    {
     "data": {
      "text/latex": [
       "$\\displaystyle \\left[\\begin{matrix}1.0 & 0 & 0 & 0 & 0 & 0 & 0 & 0\\\\0 & 1.0 + 0.00105 i & 0.000102 + 0.00105 i & 0 & -9.87 \\cdot 10^{-5} - 0.00211 i & 0 & 0 & 0\\\\0 & -9.87 \\cdot 10^{-5} + 0.00105 i & 1.0 - 0.00211 i & 0 & 0.000102 + 0.00105 i & 0 & 0 & 0\\\\0 & 0 & 0 & 1.0 + 0.00105 i & 0 & -9.87 \\cdot 10^{-5} + 0.00105 i & 0.000102 - 0.00211 i & 0\\\\0 & 0.000102 - 0.00211 i & -9.87 \\cdot 10^{-5} + 0.00105 i & 0 & 1.0 + 0.00105 i & 0 & 0 & 0\\\\0 & 0 & 0 & 0.000102 + 0.00105 i & 0 & 1.0 - 0.00211 i & -9.87 \\cdot 10^{-5} + 0.00105 i & 0\\\\0 & 0 & 0 & -9.87 \\cdot 10^{-5} - 0.00211 i & 0 & 0.000102 + 0.00105 i & 1.0 + 0.00105 i & 0\\\\0 & 0 & 0 & 0 & 0 & 0 & 0 & 1.0\\end{matrix}\\right]$"
      ],
      "text/plain": [
       "Matrix([\n",
       "[1.0,                    0,                    0,                    0,                    0,                    0,                    0,   0],\n",
       "[  0,      1.0 + 0.00105*I, 0.000102 + 0.00105*I,                    0, -9.87e-5 - 0.00211*I,                    0,                    0,   0],\n",
       "[  0, -9.87e-5 + 0.00105*I,      1.0 - 0.00211*I,                    0, 0.000102 + 0.00105*I,                    0,                    0,   0],\n",
       "[  0,                    0,                    0,      1.0 + 0.00105*I,                    0, -9.87e-5 + 0.00105*I, 0.000102 - 0.00211*I,   0],\n",
       "[  0, 0.000102 - 0.00211*I, -9.87e-5 + 0.00105*I,                    0,      1.0 + 0.00105*I,                    0,                    0,   0],\n",
       "[  0,                    0,                    0, 0.000102 + 0.00105*I,                    0,      1.0 - 0.00211*I, -9.87e-5 + 0.00105*I,   0],\n",
       "[  0,                    0,                    0, -9.87e-5 - 0.00211*I,                    0, 0.000102 + 0.00105*I,      1.0 + 0.00105*I,   0],\n",
       "[  0,                    0,                    0,                    0,                    0,                    0,                    0, 1.0]])"
      ]
     },
     "execution_count": 62,
     "metadata": {},
     "output_type": "execute_result"
    }
   ],
   "source": [
    "X = np.array([[0,1],[1,0]])  #defining the pauli matrices\n",
    "Y = np.array([[0,-1j],[1j,0]])\n",
    "Z = np.array([[1,0],[0,-1]])\n",
    "Id = np.eye(2)\n",
    "\n",
    "# defining the two hamiltonian pizes: \n",
    "H1 = np.kron(X, np.kron(X,Id)) + np.kron(Y, np.kron(Y,Id)) + np.kron(Z, np.kron(Z,Id)) \n",
    "H2 = np.kron(Id, np.kron(X,X)) + np.kron(Id, np.kron(Y,Y)) + np.kron(Id, np.kron(Z,Z)) \n",
    "\n",
    "# building numerically the trotter step matrix, and the whole operator (trotter step)^n_steps.\n",
    "trotter_step_matrix_= expm(-evolution_time/N_Trotter_Steps*H1*1j).dot(expm(-evolution_time/N_Trotter_Steps*H2*1j))\n",
    "trotterized = np.linalg.matrix_power(trotter_step_matrix_, N_Trotter_Steps)\n",
    "\n",
    "sympy.Matrix(trotterized).n(3, chop=True)"
   ]
  },
  {
   "cell_type": "markdown",
   "metadata": {},
   "source": [
    "## 3.1) *Single State Decomposition* results"
   ]
  },
  {
   "cell_type": "code",
   "execution_count": 63,
   "metadata": {},
   "outputs": [
    {
     "data": {
      "image/png": "[encoded data removed]",
      "text/plain": [
       "<Figure size 1385.35x208.293 with 1 Axes>"
      ]
     },
     "execution_count": 63,
     "metadata": {},
     "output_type": "execute_result"
    }
   ],
   "source": [
    "import lib.utility as utility\n",
    "\n",
    "r1, r2, f1, f2, a1, a2 = utility.get_gates_parameters(trotterized, initial_state={\"110\": 1.0})\n",
    "\n",
    "M1_qc = get_M(r1,f1,a1)\n",
    "M2_qc = get_M(r2,f2,a2)\n",
    "\n",
    "qr_U = QuantumRegister(3 ,name=\"q_\")\n",
    "qc_U = QuantumCircuit(qr_U, name=\"U\")\n",
    "\n",
    "qc_U.append(M1_qc, [qr_U[0],qr_U[1]])\n",
    "qc_U.append(M2_qc, [qr_U[1],qr_U[2]])\n",
    "\n",
    "from qiskit import transpile\n",
    "qc_U=transpile(qc_U, basis_gates=[\"cx\",\"rz\",\"x\",\"sx\"])\n",
    "qc_U.draw(output=\"mpl\", style={\"figwidth\":15, \"fontsize\":12})"
   ]
  },
  {
   "cell_type": "code",
   "execution_count": 64,
   "metadata": {},
   "outputs": [
    {
     "data": {
      "image/png": "[encoded data removed]",
      "text/plain": [
       "<Figure size 646.499x330.252 with 1 Axes>"
      ]
     },
     "execution_count": 64,
     "metadata": {},
     "output_type": "execute_result"
    }
   ],
   "source": [
    "qr_evo = QuantumRegister(3, name=\"q_\")\n",
    "qc_evo = QuantumCircuit(qr_evo, name=r\"$U_{best}$\")\n",
    "\n",
    "qc_evo.x([qr_evo[1],qr_evo[2]])\n",
    "qc_evo.append(qc_U, qr_evo)\n",
    "\n",
    "from qiskit.ignis.verification.tomography import state_tomography_circuits\n",
    "\n",
    "qcs_tomo = state_tomography_circuits(qc_evo, qr_evo)\n",
    "qcs_tomo[3].draw(output=\"mpl\", style={\"figwidth\":7, \"fontsize\":12})"
   ]
  },
  {
   "cell_type": "code",
   "execution_count": 65,
   "metadata": {},
   "outputs": [],
   "source": [
    "# building the calibration circuits\n",
    "calib_circuits_NIC = utility.get_calibration_circuits(qc_U, method=\"NIC\")\n",
    "calib_circuits_CIC = utility.get_calibration_circuits(qc_U, method=\"CIC\")"
   ]
  },
  {
   "cell_type": "code",
   "execution_count": 66,
   "metadata": {},
   "outputs": [
    {
     "name": "stderr",
     "output_type": "stream",
     "text": [
      "ibmqfactory.load_account:WARNING:2022-04-12 14:15:50,230: Credentials are already in use. The existing account in the session will be replaced.\n"
     ]
    }
   ],
   "source": [
    "from qiskit import IBMQ, execute\n",
    "from qiskit.providers.aer import QasmSimulator\n",
    "\n",
    "IBMQ.load_account()\n",
    "provider = IBMQ.get_provider(hub='ibm-q-community',\n",
    "                            group='ibmquantumawards', \n",
    "                            project='open-science-22')\n",
    "backend_sim_noisy_jakarta = QasmSimulator.from_backend(provider.get_backend('ibmq_jakarta'))\n",
    "backend_real_jakarta = provider.get_backend('ibmq_jakarta')\n",
    "\n",
    "shots = 20000\n",
    "\n",
    "job_tomography=execute(qcs_tomo, backend_sim_noisy_jakarta, shots=shots, initial_layout=[1,3,5])\n",
    "job_NIC=execute(calib_circuits_NIC, backend = backend_sim_noisy_jakarta, shots=shots, initial_layout=[1,3,5])\n",
    "job_CIC=execute(calib_circuits_CIC, backend = backend_sim_noisy_jakarta, shots=shots, initial_layout=[1,3,5])"
   ]
  },
  {
   "cell_type": "code",
   "execution_count": 67,
   "metadata": {},
   "outputs": [
    {
     "name": "stderr",
     "output_type": "stream",
     "text": [
      "/Library/Frameworks/Python.framework/Versions/3.10/lib/python3.10/site-packages/numpy/linalg/linalg.py:2146: RuntimeWarning: divide by zero encountered in det\n",
      "  r = _umath_linalg.det(a, signature=signature)\n",
      "/Library/Frameworks/Python.framework/Versions/3.10/lib/python3.10/site-packages/numpy/linalg/linalg.py:2146: RuntimeWarning: invalid value encountered in det\n",
      "  r = _umath_linalg.det(a, signature=signature)\n"
     ]
    }
   ],
   "source": [
    "# building the matrices\n",
    "from qiskit.utils.mitigation.fitters import CompleteMeasFitter\n",
    "\n",
    "meas_fitter_NIC = CompleteMeasFitter(job_NIC.result(), state_labels=state_labels)\n",
    "meas_fitter_CIC = CompleteMeasFitter(job_CIC.result(), state_labels=state_labels)\n",
    "\n",
    "U_tilde_identity=meas_fitter_NIC.cal_matrix\n",
    "U_tilde_itself=meas_fitter_CIC.cal_matrix\n",
    "\n",
    "U_ideal = utility.matrix_from_cirquit(qc_U, output_type = \"numpy\")\n",
    "\n",
    "#defining the tomography basis circuits.\n",
    "qr_basi = QuantumRegister(3)\n",
    "qc_basi = QuantumCircuit(qr_basi)\n",
    "tomography_basis = state_tomography_circuits(qc_basi, qr_basi)\n",
    "\n",
    "C_matrices_NIC = []\n",
    "C_matrices_CIC = []\n",
    "\n",
    "U_ideal_abs = np.abs(U_ideal)**2\n",
    "U_ideal_abs_inv = np.linalg.inv(U_ideal_abs)\n",
    "\n",
    "C_itself = np.dot(U_tilde_itself, U_ideal_abs_inv)\n",
    "C_identity = U_tilde_identity\n",
    "\n",
    "# building the fast tomography circuits calibration.\n",
    "for basis in tomography_basis:\n",
    "\n",
    "    basis.remove_final_measurements()\n",
    "    base_matrix_amplitudes = utility.matrix_from_cirquit(basis, output_type=\"numpy\")\n",
    "    base_matrix_amplitudes_inverse = np.linalg.inv(base_matrix_amplitudes)\n",
    "    \n",
    "    base_matrix = np.abs(base_matrix_amplitudes)**2\n",
    "    base_matrix_inverse = np.abs(base_matrix_amplitudes_inverse)**2\n",
    "\n",
    "    C_aus_itself = np.linalg.multi_dot([base_matrix, C_itself,  base_matrix_inverse])\n",
    "    C_aus_identity = np.linalg.multi_dot([base_matrix, C_identity,  base_matrix_inverse])\n",
    "\n",
    "    C_matrices_NIC.append(np.asarray(C_aus_identity))\n",
    "    C_matrices_CIC.append(np.asarray(C_aus_itself))\n",
    "\n",
    "import copy\n",
    "meas_fitters_identity = []\n",
    "meas_fitters_itself = []\n",
    "\n",
    "for tomography_basis in range(3**3):\n",
    "    meas_fitter_aus = copy.deepcopy(meas_fitter_NIC)\n",
    "    meas_fitter_aus._tens_fitt.cal_matrices[0]=C_matrices_NIC[tomography_basis]\n",
    "    meas_fitters_identity.append(meas_fitter_aus)\n",
    "\n",
    "    meas_fitter_aus = copy.deepcopy(meas_fitter_CIC)\n",
    "    meas_fitter_aus._tens_fitt.cal_matrices[0]=C_matrices_CIC[tomography_basis]\n",
    "    meas_fitters_itself.append(meas_fitter_aus)"
   ]
  },
  {
   "cell_type": "code",
   "execution_count": 68,
   "metadata": {},
   "outputs": [],
   "source": [
    "from qiskit.opflow import One, Zero\n",
    "target_state = (One^One^Zero).to_matrix()\n",
    "\n",
    "raw_res = job_tomography.result()\n",
    "NIC_res = copy.deepcopy(raw_res)\n",
    "CIC_res = copy.deepcopy(raw_res)\n",
    "\n",
    "for i in range(27):\n",
    "\n",
    "    old_counts=raw_res.get_counts(i)\n",
    "    new_counts_NIC = meas_fitters_identity[i].filter.apply(old_counts, method=\"least_squares\")\n",
    "    NIC_res.results[i].data.counts = new_counts_NIC\n",
    "\n",
    "    new_counts_CIC = meas_fitters_itself[i].filter.apply(old_counts, method=\"least_squares\")\n",
    "    CIC_res.results[i].data.counts = new_counts_CIC"
   ]
  },
  {
   "cell_type": "code",
   "execution_count": 69,
   "metadata": {},
   "outputs": [
    {
     "name": "stdout",
     "output_type": "stream",
     "text": [
      "fidelity of the raw results is: 0.856140662064847 \n",
      "fidelity of the NIC method results is: 0.9938633141159063\n",
      "fidelity of the CIC method results is: 0.9996877057126915\n"
     ]
    }
   ],
   "source": [
    "fid_raw = utility.fidelity_count(raw_res, qcs_tomo, target_state)\n",
    "fid_NIC = utility.fidelity_count(NIC_res, qcs_tomo, target_state)\n",
    "fid_CIC = utility.fidelity_count(CIC_res, qcs_tomo, target_state)\n",
    "\n",
    "print(f\"fidelity of the raw results is: {fid_raw} \\nfidelity of the NIC method results is: {fid_NIC}\\nfidelity of the CIC method results is: {fid_CIC}\")"
   ]
  },
  {
   "cell_type": "markdown",
   "metadata": {},
   "source": [
    "## 3.2) *Hilbert Space Decomposition* results"
   ]
  },
  {
   "cell_type": "code",
   "execution_count": null,
   "metadata": {},
   "outputs": [],
   "source": []
  }
 ],
 "metadata": {
  "interpreter": {
   "hash": "aee8b7b246df8f9039afb4144a1f6fd8d2ca17a180786b69acc140d282b71a49"
  },
  "kernelspec": {
   "display_name": "Python 3.10.2 64-bit",
   "language": "python",
   "name": "python3"
  },
  "language_info": {
   "codemirror_mode": {
    "name": "ipython",
    "version": 3
   },
   "file_extension": ".py",
   "mimetype": "text/x-python",
   "name": "python",
   "nbconvert_exporter": "python",
   "pygments_lexer": "ipython3",
   "version": "3.10.2"
  },
  "orig_nbformat": 4
 },
 "nbformat": 4,
 "nbformat_minor": 2
}
