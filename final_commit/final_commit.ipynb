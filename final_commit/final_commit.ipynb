{
 "cells": [
  {
   "cell_type": "markdown",
   "metadata": {},
   "source": [
    "# Open-Science-prize quantum challenge 2021/22 by Quantum Polo Gang"
   ]
  },
  {
   "cell_type": "markdown",
   "metadata": {},
   "source": [
    "# Abstract\n",
    "\n",
    "We decide to split the XXX Hamiltonian into two pieces $H=H_1+H_2$ (instead of 6):\n",
    "$$    H_1=I^{(0)} \\otimes \\sigma_x^{(1)} \\otimes \\sigma_x^{(2)}  + I^{(0)}  \\otimes  \\sigma_y^{(1)} \\otimes \\sigma_y^{(2)} + I^{(0)}  \\otimes \\sigma_z^{(0)} \\otimes \\sigma_z^{(1)}$$\n",
    "$$ H_2=\\sigma_x^{(0)}\\otimes \\sigma_x^{(1)} \\otimes I^{(2)}  +  \\sigma_y^{(0)} \\otimes \\sigma_y^{(1)} \\otimes I^{(2)} + \\sigma_z^{(0)} \\otimes \\sigma_z^{(1)} \\otimes I^{(2)}$$\n",
    "\n",
    "so using Trotter's formula (for a fixed number of steps $N$):\n",
    "$$ e^{-iHt}=e^{-i(H_1 + H_2)t} \\simeq \\left(e^{-iH_1\\frac{t}{N}}e^{-iH_2\\frac{t}{N}}\\right)^N \\equiv (T_{step})^N \\equiv T(t)$$\n",
    "\n",
    "Our main goal is to find the operator $U_{best}$ for which the number of gates is minimum and for which holds (at all times):\n",
    "\n",
    "$$U_{best}(t) \\ket{110} = T(t) \\ket{110}$$\n",
    "\n",
    "This can be intended in two ways:\n",
    "\n",
    "* $U_{best} = T$ (equality between operators)\n",
    "* $U_{best} \\neq T$, but the two different operators applied to the same vector yield the same result\n",
    "\n",
    "We followed both approaches, the former will be called *Hilbert Space Decomposition* (HSD) while for the latter we chose the name of *Single State Decomposition* (SSD).\n",
    "\n",
    "For HSD the best circuit we found is composed of 11 cnots (14 for the Jakarta geometry) while for the SSD approach we reached an even better 4 cnots solution.\n",
    "\n",
    "Furthermore, referring to qiskit's measurement error mitigation strategy (*https://qiskit.org/textbook/ch-quantum-hardware/measurement-error-mitigation.html*), we tried to model also the noise introduced by the circuit instead of narrowing down to measurement error only."
   ]
  },
  {
   "cell_type": "code",
   "execution_count": null,
   "metadata": {
    "vscode": {
     "languageId": "plaintext"
    }
   },
   "outputs": [],
   "source": [
    "# Tomography evaluation\n",
    "\n",
    "model chosen and results"
   ]
  },
  {
   "cell_type": "markdown",
   "metadata": {},
   "source": [
    "# 1) Decompositions\n",
    "\n",
    "## 1.1) Single State Decomposition\n",
    "We start from observing that the hamiltonian preserves the magnetization of the state:\n",
    "$$m = \\sum_i \\sigma_z^{(i)}$$\n",
    "We want to mimic the 3-qubit gate using two 2-qubit gates in succession, thus the subgates must preserve the magnetization too.\n",
    "$$U_{best} = \\left( \\mathbb{I}^{(0)} \\otimes M^{(1,2)} \\right) \\cdot \\left( M^{(0,1)} \\otimes \\mathbb{I}^{(2)}  \\right)  $$\n",
    "We search thus the most general form of a 2-qubit magnetization-preserving gate.\n",
    "Following *reference*, we know that such an operator has form:\n",
    "$$ M(\\omega,\\theta, \\phi) = \\left[\\begin{matrix}\n",
    "e^{ - i \\left(\\theta + \\phi\\right)} & 0 & 0 & 0\\\\ \n",
    "0 & e^{-  i \\left(\\theta + \\phi\\right)} \\cos{\\left(\\omega \\right)} & - e^{-  i \\left(\\theta - \\phi\\right)} \\sin{\\left(\\omega \\right)} & 0\\\\\n",
    "0 & e^{ i \\left(\\theta - \\phi\\right)} \\sin{\\left(\\omega \\right)} & e^{ i \\left(\\theta + \\phi\\right)} \\cos{\\left(\\omega \\right)} & 0\\\\\n",
    "0 & 0 & 0 & e^{ i \\left(\\theta + \\phi\\right)}\n",
    "\\end{matrix}\\right] $$\n",
    "\n",
    "Since the nontirivial spaces of fixed magnetization have dimension 3, we need six real parameters to span the state subspace\n",
    "$$U_{best} = \\left(  \\mathbb{I} \\otimes M(\\omega_2,\\theta_2, \\phi_2)\\right)     \\cdot     \\left( M(\\omega_1,\\theta_1, \\phi_1) \\otimes \\mathbb{I} \\right)   $$\n",
    "\n",
    "Nota iterare il circuito\n",
    "\n",
    "$$ \\left[\\\\begin{matrix}0\\\\\\\\0\\\\\\\\0\\\\\\\\e^{- 1.0 i \\\\left(f_{1} - r_{1}\\\\right)} e^{- 1.0 i \\\\left(f_{2} - r_{2}\\\\right)} \\\\sin{\\\\left(a_{1} \\\\right)} \\\\sin{\\\\left(a_{2} \\\\right)}\\\\\\\\0\\\\\\\\- e^{- 1.0 i \\\\left(f_{1} - r_{1}\\\\right)} e^{1.0 i \\\\left(f_{2} + r_{2}\\\\right)} \\\\sin{\\\\left(a_{1} \\\\right)} \\\\cos{\\\\left(a_{2} \\\\right)}\\\\\\\\e^{1.0 i \\\\left(f_{1} + r_{1}\\\\right)} e^{1.0 i \\\\left(f_{2} + r_{2}\\\\right)} \\\\cos{\\\\left(a_{1} \\\\right)}\\\\\\\\0\\\\end{matrix}\\\\right] $$"
   ]
  },
  {
   "cell_type": "markdown",
   "metadata": {},
   "source": []
  }
 ],
 "metadata": {
  "language_info": {
   "name": "python"
  },
  "orig_nbformat": 4
 },
 "nbformat": 4,
 "nbformat_minor": 2
}
