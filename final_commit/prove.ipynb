{
 "cells": [
  {
   "cell_type": "code",
   "execution_count": null,
   "metadata": {},
   "outputs": [],
   "source": [
    "from functions0 import *"
   ]
  },
  {
   "cell_type": "code",
   "execution_count": 2,
   "metadata": {},
   "outputs": [],
   "source": [
    "n_steps = 99"
   ]
  },
  {
   "cell_type": "code",
   "execution_count": 3,
   "metadata": {},
   "outputs": [
    {
     "ename": "NameError",
     "evalue": "name 'np' is not defined",
     "output_type": "error",
     "traceback": [
      "\u001b[0;31m---------------------------------------------------------------------------\u001b[0m",
      "\u001b[0;31mNameError\u001b[0m                                 Traceback (most recent call last)",
      "\u001b[1;32m/Users/valerio/Documents/project_IBM_01/IBM_git/final_commit/prove.ipynb Cell 3'\u001b[0m in \u001b[0;36m<cell line: 1>\u001b[0;34m()\u001b[0m\n\u001b[0;32m----> <a href='vscode-notebook-cell:/Users/valerio/Documents/project_IBM_01/IBM_git/final_commit/prove.ipynb#ch0000000?line=0'>1</a>\u001b[0m numeric_evolution_matrix \u001b[39m=\u001b[39m np\u001b[39m.\u001b[39meye(\u001b[39m8\u001b[39m)\n\u001b[1;32m      <a href='vscode-notebook-cell:/Users/valerio/Documents/project_IBM_01/IBM_git/final_commit/prove.ipynb#ch0000000?line=1'>2</a>\u001b[0m Trotter_Step_Matrix \u001b[39m=\u001b[39m trotter_step_matrix(\u001b[39m2\u001b[39m\u001b[39m*\u001b[39mtime\u001b[39m/\u001b[39mn_steps)\n\u001b[1;32m      <a href='vscode-notebook-cell:/Users/valerio/Documents/project_IBM_01/IBM_git/final_commit/prove.ipynb#ch0000000?line=3'>4</a>\u001b[0m \u001b[39mfor\u001b[39;00m _ \u001b[39min\u001b[39;00m \u001b[39mrange\u001b[39m(n_steps): \u001b[39m# here is computed the evolution operator numerically, with n_steps trotter steps.\u001b[39;00m\n",
      "\u001b[0;31mNameError\u001b[0m: name 'np' is not defined"
     ]
    }
   ],
   "source": [
    "numeric_evolution_matrix = np.eye(8)\n",
    "Trotter_Step_Matrix = trotter_step_matrix(2*time/n_steps)\n",
    "\n",
    "for _ in range(n_steps): # here is computed the evolution operator numerically, with n_steps trotter steps.\n",
    "    numeric_evolution_matrix=(numeric_evolution_matrix @ Trotter_Step_Matrix) #.evalf(precision)"
   ]
  },
  {
   "cell_type": "code",
   "execution_count": null,
   "metadata": {},
   "outputs": [],
   "source": []
  }
 ],
 "metadata": {
  "interpreter": {
   "hash": "aee8b7b246df8f9039afb4144a1f6fd8d2ca17a180786b69acc140d282b71a49"
  },
  "kernelspec": {
   "display_name": "Python 3.10.2 64-bit",
   "language": "python",
   "name": "python3"
  },
  "language_info": {
   "codemirror_mode": {
    "name": "ipython",
    "version": 3
   },
   "file_extension": ".py",
   "mimetype": "text/x-python",
   "name": "python",
   "nbconvert_exporter": "python",
   "pygments_lexer": "ipython3",
   "version": "3.10.2"
  },
  "orig_nbformat": 4
 },
 "nbformat": 4,
 "nbformat_minor": 2
}
