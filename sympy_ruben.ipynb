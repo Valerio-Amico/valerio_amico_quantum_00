{
 "cells": [
  {
   "cell_type": "code",
   "execution_count": 25,
   "metadata": {},
   "outputs": [],
   "source": [
    "import funzioni01 as f1\n",
    "from qiskit import Aer, assemble, QuantumCircuit, QuantumRegister, ClassicalRegister, IBMQ, transpile, execute\n",
    "from qiskit.visualization import plot_bloch_multivector, plot_histogram\n",
    "from qiskit.providers.ibmq.job import job_monitor\n",
    "#from qiskit.providers.ibmq import least_busy\n",
    "from copy import deepcopy\n",
    "from qiskit.opflow import Zero, One, I, X, Y, Z\n",
    "from qiskit.providers.aer import AerSimulator, QasmSimulator\n",
    "from qiskit.ignis.verification.tomography import state_tomography_circuits, StateTomographyFitter\n",
    "from qiskit.quantum_info import state_fidelity\n",
    "from qiskit.circuit import Parameter\n",
    "import time\n",
    "import qiskit.quantum_info as qi\n",
    "from qiskit.utils import QuantumInstance\n",
    "import qiskit.ignis.mitigation.measurement as mc\n",
    "#from qiskit.result import marginal_counts\n",
    "from sympy import *\n",
    "from sympy.solvers import solve\n",
    "from sympy import Symbol\n",
    "#import openql as ql\n",
    "from sympy.physics.quantum import TensorProduct as Tp\n",
    "from sympy import sqrt, cos, sin, acos, asin, atan\n",
    "import numpy as np\n",
    "from qiskit import Aer, assemble, QuantumCircuit, QuantumRegister, ClassicalRegister, IBMQ, transpile, execute\n"
   ]
  },
  {
   "cell_type": "code",
   "execution_count": 26,
   "metadata": {},
   "outputs": [],
   "source": [
    "e=Symbol(\"e\", positive=True)\n",
    "\n",
    "r_1 = Symbol(\"r1\")#, positive = True)\n",
    "phi_1 = Symbol(\"f1\")#, positive = True)\n",
    "a_1 = Symbol(\"a1\")#, positive = True)\n",
    "c_1 = Symbol(\"c1\")#, positive = True)\n",
    "\n",
    "r_2 = Symbol(\"r2\")#, positive = True)\n",
    "phi_2 = Symbol(\"f2\")#, positive = True)\n",
    "a_2 = Symbol(\"a2\")#, positive = True)\n",
    "c_2 = Symbol(\"c2\")#, positive = True)\n",
    "\n",
    "r_3 = Symbol(\"r3\")#, positive = True)\n",
    "phi_3 = Symbol(\"f3\")#, positive = True)\n",
    "a_3 = Symbol(\"a3\")#, positive = True)\n",
    "c_3 = Symbol(\"c3\")#, positive = True)\n",
    "\n",
    "r_4 = Symbol(\"r4\")#, positive = True)\n",
    "phi_4 = Symbol(\"f4\")#, positive = True)\n",
    "c_4 = Symbol(\"c5\")#, positive = True)\n",
    "a_4 = Symbol(\"c6\")#, positive = True)\n",
    "\n",
    "Id=eye(2)\n",
    "\n",
    "cx_01= Matrix([\n",
    "[1,0,0,0],\n",
    "[0,0,0,1],\n",
    "[0,0,1,0],\n",
    "[0,1,0,0]\n",
    "])\n",
    "cx_10= Matrix([\n",
    "[1,0,0,0],\n",
    "[0,1,0,0],\n",
    "[0,0,0,1],\n",
    "[0,0,1,0]\n",
    "])\n",
    "m_1 = Matrix([\n",
    "#[e**(1j*c_1),0,0,0],\n",
    "#[0,e**(1j*c_1),0,0],\n",
    "[1,0,0,0],\n",
    "[0,1,0,0],\n",
    "[0,0,e**(1j*a_1)*cos(r_1),e**(1j*phi_1)*sin(r_1)],\n",
    "[0,0,-e**(-1j*phi_1)*sin(r_1),e**(-1j*a_1)*cos(r_1)]\n",
    "])\n",
    "\n",
    "m_2 = Matrix([\n",
    "#[e**(1j*c_2),0,0,0],\n",
    "#[0,e**(1j*c_2),0,0],\n",
    "[1,0,0,0],\n",
    "[0,1,0,0],\n",
    "[0,0,e**(1j*a_2)*cos(r_2),e**(1j*phi_2)*sin(r_2)],\n",
    "[0,0,-e**(-1j*phi_2)*sin(r_2),e**(-1j*a_2)*cos(r_2)]\n",
    "])\n",
    "\n",
    "m_3 = Matrix([\n",
    "#[e**(1j*c_3),0,0,0],\n",
    "#[0,e**(1j*c_3),0,0],\n",
    "[1,0,0,0],\n",
    "[0,1,0,0],\n",
    "[0,0,e**(1j*a_3)*cos(r_3),e**(1j*phi_3)*sin(r_3)],\n",
    "[0,0,-e**(-1j*phi_3)*sin(r_3),e**(-1j*a_3)*cos(r_3)]\n",
    "])\n",
    "\n",
    "m_4 = Matrix([\n",
    "#[e**(1j*c_4),0,0,0],\n",
    "#[0,e**(1j*c_4),0,0],\n",
    "[1,0,0,0],\n",
    "[0,1,0,0],\n",
    "[0,0,e**(1j*a_4)*cos(r_4),e**(1j*phi_4)*sin(r_4)],\n",
    "[0,0,-e**(-1j*phi_4)*sin(r_4),e**(-1j*a_4)*cos(r_4)]\n",
    "])\n",
    "\n",
    "y = Matrix([\n",
    "[a_3+1j*c_1,a_2+1j*c_1,a_1-1j*2*c_1,0],\n",
    "[a_1+1j*c_1,a_3-1j*2*c_1,a_2+1j*c_1,0],\n",
    "[a_2-1j*2*c_1,a_1+1j*c_1,a_3+1j*c_1,0],\n",
    "[0,0,0,1],\n",
    "])\n",
    "\n",
    "B = Matrix([\n",
    "    [1,0,0,0,0,0,0,0],\n",
    "    [0,1,0,0,0,0,0,0],\n",
    "    [0,0,1,0,0,0,0,0],\n",
    "    [0,0,0,0,1,0,0,0],\n",
    "    [0,0,0,1,0,0,0,0],\n",
    "    [0,0,0,0,0,1,0,0],\n",
    "    [0,0,0,0,0,0,1,0],\n",
    "    [0,0,0,0,0,0,0,1]\n",
    "])\n",
    "C= Matrix([\n",
    "    [0,0,0,1,0,0,0,0],\n",
    "    [0,1,0,0,0,0,0,0],\n",
    "    [0,0,1,0,0,0,0,0],\n",
    "    [1,0,0,0,0,0,0,0],\n",
    "    [0,0,0,0,1,0,0,0],\n",
    "    [0,0,0,0,0,1,0,0],\n",
    "    [0,0,0,0,0,0,1,0],\n",
    "    [0,0,0,0,0,0,0,1]\n",
    "])\n",
    "D= Matrix([\n",
    "    [1,0,0,0,0,0,0,0],\n",
    "    [0,1,0,0,0,0,0,0],\n",
    "    [0,0,0,1,0,0,0,0],\n",
    "    [0,0,1,0,0,0,0,0],\n",
    "    [0,0,0,0,1,0,0,0],\n",
    "    [0,0,0,0,0,1,0,0],\n",
    "    [0,0,0,0,0,0,1,0],\n",
    "    [0,0,0,0,0,0,0,1]\n",
    "])"
   ]
  },
  {
   "cell_type": "code",
   "execution_count": 27,
   "metadata": {},
   "outputs": [
    {
     "data": {
      "text/latex": [
       "$\\displaystyle \\left[\\begin{matrix}1 & 0 & 0 & 0\\\\0 & e^{- 1.0 i c_{6}} \\cos{\\left(r_{4} \\right)} & - e^{- 1.0 i f_{4}} \\sin{\\left(r_{4} \\right)} & 0\\\\0 & e^{1.0 i f_{4}} \\sin{\\left(r_{4} \\right)} & e^{1.0 i c_{6}} \\cos{\\left(r_{4} \\right)} & 0\\\\0 & 0 & 0 & 1\\end{matrix}\\right]$"
      ],
      "text/plain": [
       "Matrix([\n",
       "[1,                     0,                      0, 0],\n",
       "[0, cos(r4)/e**(1.0*I*c6), -sin(r4)/e**(1.0*I*f4), 0],\n",
       "[0, e**(1.0*I*f4)*sin(r4),  e**(1.0*I*c6)*cos(r4), 0],\n",
       "[0,                     0,                      0, 1]])"
      ]
     },
     "execution_count": 27,
     "metadata": {},
     "output_type": "execute_result"
    }
   ],
   "source": [
    "cx_01*m_4*cx_01"
   ]
  },
  {
   "cell_type": "code",
   "execution_count": 28,
   "metadata": {},
   "outputs": [
    {
     "data": {
      "text/latex": [
       "$\\displaystyle \\left[\\begin{matrix}a_{3} + 1.0 i c_{1} & a_{2} + 1.0 i c_{1} & a_{1} - 2.0 i c_{1} & 0\\\\a_{1} + 1.0 i c_{1} & a_{3} - 2.0 i c_{1} & a_{2} + 1.0 i c_{1} & 0\\\\a_{2} - 2.0 i c_{1} & a_{1} + 1.0 i c_{1} & a_{3} + 1.0 i c_{1} & 0\\\\0 & 0 & 0 & 1\\end{matrix}\\right]$"
      ],
      "text/plain": [
       "Matrix([\n",
       "[a3 + 1.0*I*c1, a2 + 1.0*I*c1, a1 - 2.0*I*c1, 0],\n",
       "[a1 + 1.0*I*c1, a3 - 2.0*I*c1, a2 + 1.0*I*c1, 0],\n",
       "[a2 - 2.0*I*c1, a1 + 1.0*I*c1, a3 + 1.0*I*c1, 0],\n",
       "[            0,             0,             0, 1]])"
      ]
     },
     "execution_count": 28,
     "metadata": {},
     "output_type": "execute_result"
    }
   ],
   "source": [
    "y"
   ]
  },
  {
   "cell_type": "code",
   "execution_count": 29,
   "metadata": {},
   "outputs": [
    {
     "data": {
      "text/latex": [
       "$\\displaystyle \\left[\\begin{matrix}1 & 0 & 0 & 0 & 0 & 0 & 0 & 0\\\\0 & a_{3} - 2.0 i c_{1} & a_{1} + 1.0 i c_{1} & a_{2} + 1.0 i c_{1} & 0 & 0 & 0 & 0\\\\0 & a_{2} + 1.0 i c_{1} & a_{3} + 1.0 i c_{1} & a_{1} - 2.0 i c_{1} & 0 & 0 & 0 & 0\\\\0 & a_{1} + 1.0 i c_{1} & a_{2} - 2.0 i c_{1} & a_{3} + 1.0 i c_{1} & 0 & 0 & 0 & 0\\\\0 & 0 & 0 & 0 & a_{3} + 1.0 i c_{1} & a_{2} + 1.0 i c_{1} & a_{1} - 2.0 i c_{1} & 0\\\\0 & 0 & 0 & 0 & a_{1} + 1.0 i c_{1} & a_{3} - 2.0 i c_{1} & a_{2} + 1.0 i c_{1} & 0\\\\0 & 0 & 0 & 0 & a_{2} - 2.0 i c_{1} & a_{1} + 1.0 i c_{1} & a_{3} + 1.0 i c_{1} & 0\\\\0 & 0 & 0 & 0 & 0 & 0 & 0 & 1\\end{matrix}\\right]$"
      ],
      "text/plain": [
       "Matrix([\n",
       "[1,             0,             0,             0,             0,             0,             0, 0],\n",
       "[0, a3 - 2.0*I*c1, a1 + 1.0*I*c1, a2 + 1.0*I*c1,             0,             0,             0, 0],\n",
       "[0, a2 + 1.0*I*c1, a3 + 1.0*I*c1, a1 - 2.0*I*c1,             0,             0,             0, 0],\n",
       "[0, a1 + 1.0*I*c1, a2 - 2.0*I*c1, a3 + 1.0*I*c1,             0,             0,             0, 0],\n",
       "[0,             0,             0,             0, a3 + 1.0*I*c1, a2 + 1.0*I*c1, a1 - 2.0*I*c1, 0],\n",
       "[0,             0,             0,             0, a1 + 1.0*I*c1, a3 - 2.0*I*c1, a2 + 1.0*I*c1, 0],\n",
       "[0,             0,             0,             0, a2 - 2.0*I*c1, a1 + 1.0*I*c1, a3 + 1.0*I*c1, 0],\n",
       "[0,             0,             0,             0,             0,             0,             0, 1]])"
      ]
     },
     "execution_count": 29,
     "metadata": {},
     "output_type": "execute_result"
    }
   ],
   "source": [
    "M_1=Tp(Id,cx_01*m_1*cx_01)\n",
    "M_2=Tp(cx_01*m_2*cx_01,Id)\n",
    "M_3=Tp(Id,cx_01*m_3*cx_01)\n",
    "M_4=Tp(cx_01*m_4*cx_01,Id)\n",
    "#Swap=Tp(swap,Id)\n",
    "#E_3=Swap*Tp(Id,cx_01*m_3*cx_01)*Swap\n",
    "Y=Tp(Id,y)\n",
    "D*C*Y*C*D"
   ]
  },
  {
   "cell_type": "code",
   "execution_count": 30,
   "metadata": {},
   "outputs": [],
   "source": [
    "rrrruuuben=M_2*M_1"
   ]
  },
  {
   "cell_type": "code",
   "execution_count": 31,
   "metadata": {},
   "outputs": [
    {
     "data": {
      "text/latex": [
       "$\\displaystyle \\left[\\begin{matrix}1.0 - 9.3738 \\cdot 10^{-7} i & 0 & 0 & 0 & 0 & 0 & 0 & 0\\\\0 & 0.96673 + 0.088013 i & -0.079282 + 0.088013 i & 0 & 0.11255 - 0.17602 i & 0 & 0 & 0\\\\0 & 0.11255 + 0.088013 i & 0.96673 - 0.17602 i & 0 & -0.079282 + 0.088013 i & 0 & 0 & 0\\\\0 & 0 & 0 & 0.96673 + 0.088013 i & 0 & 0.11255 + 0.088013 i & -0.079282 - 0.17602 i & 0\\\\0 & -0.079282 - 0.17602 i & 0.11255 + 0.088013 i & 0 & 0.96673 + 0.088013 i & 0 & 0 & 0\\\\0 & 0 & 0 & -0.079282 + 0.088013 i & 0 & 0.96673 - 0.17602 i & 0.11255 + 0.088013 i & 0\\\\0 & 0 & 0 & 0.11255 - 0.17602 i & 0 & -0.079282 + 0.088013 i & 0.96673 + 0.088013 i & 0\\\\0 & 0 & 0 & 0 & 0 & 0 & 0 & 1.0 - 9.3738 \\cdot 10^{-7} i\\end{matrix}\\right]$"
      ],
      "text/plain": [
       "Matrix([\n",
       "[1.0 - 9.3738e-7*I,                     0,                      0,                      0,                      0,                      0,                     0,                 0],\n",
       "[                0,  0.96673 + 0.088013*I, -0.079282 + 0.088013*I,                      0,    0.11255 - 0.17602*I,                      0,                     0,                 0],\n",
       "[                0,  0.11255 + 0.088013*I,    0.96673 - 0.17602*I,                      0, -0.079282 + 0.088013*I,                      0,                     0,                 0],\n",
       "[                0,                     0,                      0,   0.96673 + 0.088013*I,                      0,   0.11255 + 0.088013*I, -0.079282 - 0.17602*I,                 0],\n",
       "[                0, -0.079282 - 0.17602*I,   0.11255 + 0.088013*I,                      0,   0.96673 + 0.088013*I,                      0,                     0,                 0],\n",
       "[                0,                     0,                      0, -0.079282 + 0.088013*I,                      0,    0.96673 - 0.17602*I,  0.11255 + 0.088013*I,                 0],\n",
       "[                0,                     0,                      0,    0.11255 - 0.17602*I,                      0, -0.079282 + 0.088013*I,  0.96673 + 0.088013*I,                 0],\n",
       "[                0,                     0,                      0,                      0,                      0,                      0,                     0, 1.0 - 9.3738e-7*I]])"
      ]
     },
     "execution_count": 31,
     "metadata": {},
     "output_type": "execute_result"
    }
   ],
   "source": [
    "precision=15\n",
    "tempo=np.pi\n",
    "steps=10\n",
    "\n",
    "U=f1.Trotter_N_approx(steps=steps, tempo=tempo, precision=5)\n",
    "U"
   ]
  },
  {
   "cell_type": "code",
   "execution_count": 32,
   "metadata": {},
   "outputs": [
    {
     "data": {
      "text/latex": [
       "$\\displaystyle \\left[\\begin{matrix}0.967 + 0.088 i & 0.113 + 0.088 i & -0.0793 - 0.176 i & 0 & 0 & 0 & 0 & 0\\\\-0.0793 + 0.088 i & 0.967 - 0.176 i & 0.113 + 0.088 i & 0 & 0 & 0 & 0 & 0\\\\0.113 - 0.176 i & -0.0793 + 0.088 i & 0.967 + 0.088 i & 0 & 0 & 0 & 0 & 0\\\\0 & 0 & 0 & 1.0 - 9.37 \\cdot 10^{-7} i & 0 & 0 & 0 & 0\\\\0 & 0 & 0 & 0 & 0.967 + 0.088 i & 0.113 + 0.088 i & -0.0793 - 0.176 i & 0\\\\0 & 0 & 0 & 0 & -0.0793 + 0.088 i & 0.967 - 0.176 i & 0.113 + 0.088 i & 0\\\\0 & 0 & 0 & 0 & 0.113 - 0.176 i & -0.0793 + 0.088 i & 0.967 + 0.088 i & 0\\\\0 & 0 & 0 & 0 & 0 & 0 & 0 & 1.0 - 9.37 \\cdot 10^{-7} i\\end{matrix}\\right]$"
      ],
      "text/plain": [
       "Matrix([\n",
       "[  0.967 + 0.088*I,   0.113 + 0.088*I, -0.0793 - 0.176*I,               0,                 0,                 0,                 0,               0],\n",
       "[-0.0793 + 0.088*I,   0.967 - 0.176*I,   0.113 + 0.088*I,               0,                 0,                 0,                 0,               0],\n",
       "[  0.113 - 0.176*I, -0.0793 + 0.088*I,   0.967 + 0.088*I,               0,                 0,                 0,                 0,               0],\n",
       "[                0,                 0,                 0, 1.0 - 9.37e-7*I,                 0,                 0,                 0,               0],\n",
       "[                0,                 0,                 0,               0,   0.967 + 0.088*I,   0.113 + 0.088*I, -0.0793 - 0.176*I,               0],\n",
       "[                0,                 0,                 0,               0, -0.0793 + 0.088*I,   0.967 - 0.176*I,   0.113 + 0.088*I,               0],\n",
       "[                0,                 0,                 0,               0,   0.113 - 0.176*I, -0.0793 + 0.088*I,   0.967 + 0.088*I,               0],\n",
       "[                0,                 0,                 0,               0,                 0,                 0,                 0, 1.0 - 9.37e-7*I]])"
      ]
     },
     "execution_count": 32,
     "metadata": {},
     "output_type": "execute_result"
    }
   ],
   "source": [
    "B=Matrix([\n",
    "    [0,0,0,0,1,0,0,0],\n",
    "    [0,1,0,0,0,0,0,0],\n",
    "    [0,0,1,0,0,0,0,0],\n",
    "    [0,0,0,1,0,0,0,0],\n",
    "    [1,0,0,0,0,0,0,0],\n",
    "    [0,0,0,0,0,1,0,0],\n",
    "    [0,0,0,0,0,0,1,0],\n",
    "    [0,0,0,0,0,0,0,1]\n",
    "])\n",
    "\n",
    "C=Matrix([\n",
    "    [0,0,0,1,0,0,0,0],\n",
    "    [0,1,0,0,0,0,0,0],\n",
    "    [0,0,1,0,0,0,0,0],\n",
    "    [1,0,0,0,0,0,0,0],\n",
    "    [0,0,0,0,1,0,0,0],\n",
    "    [0,0,0,0,0,1,0,0],\n",
    "    [0,0,0,0,0,0,1,0],\n",
    "    [0,0,0,0,0,0,0,1]\n",
    "])\n",
    "\n",
    "D=Matrix([\n",
    "    [1,0,0,0,0,0,0,0],\n",
    "    [0,0,1,0,0,0,0,0],\n",
    "    [0,1,0,0,0,0,0,0],\n",
    "    [0,0,0,1,0,0,0,0],\n",
    "    [0,0,0,0,1,0,0,0],\n",
    "    [0,0,0,0,0,1,0,0],\n",
    "    [0,0,0,0,0,0,1,0],\n",
    "    [0,0,0,0,0,0,0,1]\n",
    "])\n",
    "\n",
    "(B*C*D*U*D*C*B).evalf(3)\n"
   ]
  },
  {
   "cell_type": "code",
   "execution_count": 33,
   "metadata": {},
   "outputs": [
    {
     "data": {
      "text/latex": [
       "$\\displaystyle \\left[\\begin{matrix}e^{1.0 i a_{2}} \\cos{\\left(r_{2} \\right)} & e^{1.0 i a_{1}} e^{1.0 i f_{2}} \\sin{\\left(r_{2} \\right)} \\cos{\\left(r_{1} \\right)} & e^{1.0 i f_{1}} e^{1.0 i f_{2}} \\sin{\\left(r_{1} \\right)} \\sin{\\left(r_{2} \\right)} & 0 & 0 & 0 & 0 & 0\\\\- e^{- 1.0 i f_{2}} \\sin{\\left(r_{2} \\right)} & e^{1.0 i a_{1}} e^{- 1.0 i a_{2}} \\cos{\\left(r_{1} \\right)} \\cos{\\left(r_{2} \\right)} & e^{- 1.0 i a_{2}} e^{1.0 i f_{1}} \\sin{\\left(r_{1} \\right)} \\cos{\\left(r_{2} \\right)} & 0 & 0 & 0 & 0 & 0\\\\0 & - e^{- 1.0 i f_{1}} \\sin{\\left(r_{1} \\right)} & e^{- 1.0 i a_{1}} \\cos{\\left(r_{1} \\right)} & 0 & 0 & 0 & 0 & 0\\\\0 & 0 & 0 & 1 & 0 & 0 & 0 & 0\\\\0 & 0 & 0 & 0 & e^{- 1.0 i a_{2}} \\cos{\\left(r_{2} \\right)} & - e^{- 1.0 i a_{1}} e^{- 1.0 i f_{2}} \\sin{\\left(r_{2} \\right)} \\cos{\\left(r_{1} \\right)} & e^{- 1.0 i f_{1}} e^{- 1.0 i f_{2}} \\sin{\\left(r_{1} \\right)} \\sin{\\left(r_{2} \\right)} & 0\\\\0 & 0 & 0 & 0 & e^{1.0 i f_{2}} \\sin{\\left(r_{2} \\right)} & e^{- 1.0 i a_{1}} e^{1.0 i a_{2}} \\cos{\\left(r_{1} \\right)} \\cos{\\left(r_{2} \\right)} & - e^{1.0 i a_{2}} e^{- 1.0 i f_{1}} \\sin{\\left(r_{1} \\right)} \\cos{\\left(r_{2} \\right)} & 0\\\\0 & 0 & 0 & 0 & 0 & e^{1.0 i f_{1}} \\sin{\\left(r_{1} \\right)} & e^{1.0 i a_{1}} \\cos{\\left(r_{1} \\right)} & 0\\\\0 & 0 & 0 & 0 & 0 & 0 & 0 & 1\\end{matrix}\\right]$"
      ],
      "text/plain": [
       "Matrix([\n",
       "[ e**(1.0*I*a2)*cos(r2), e**(1.0*I*a1)*e**(1.0*I*f2)*sin(r2)*cos(r1), e**(1.0*I*f1)*e**(1.0*I*f2)*sin(r1)*sin(r2), 0,                     0,                                              0,                                             0, 0],\n",
       "[-sin(r2)/e**(1.0*I*f2), e**(1.0*I*a1)*cos(r1)*cos(r2)/e**(1.0*I*a2), e**(1.0*I*f1)*sin(r1)*cos(r2)/e**(1.0*I*a2), 0,                     0,                                              0,                                             0, 0],\n",
       "[                     0,                      -sin(r1)/e**(1.0*I*f1),                       cos(r1)/e**(1.0*I*a1), 0,                     0,                                              0,                                             0, 0],\n",
       "[                     0,                                           0,                                           0, 1,                     0,                                              0,                                             0, 0],\n",
       "[                     0,                                           0,                                           0, 0, cos(r2)/e**(1.0*I*a2), -sin(r2)*cos(r1)/(e**(1.0*I*a1)*e**(1.0*I*f2)), sin(r1)*sin(r2)/(e**(1.0*I*f1)*e**(1.0*I*f2)), 0],\n",
       "[                     0,                                           0,                                           0, 0, e**(1.0*I*f2)*sin(r2),    e**(1.0*I*a2)*cos(r1)*cos(r2)/e**(1.0*I*a1),  -e**(1.0*I*a2)*sin(r1)*cos(r2)/e**(1.0*I*f1), 0],\n",
       "[                     0,                                           0,                                           0, 0,                     0,                          e**(1.0*I*f1)*sin(r1),                         e**(1.0*I*a1)*cos(r1), 0],\n",
       "[                     0,                                           0,                                           0, 0,                     0,                                              0,                                             0, 1]])"
      ]
     },
     "execution_count": 33,
     "metadata": {},
     "output_type": "execute_result"
    }
   ],
   "source": [
    "B*C*D*rrrruuuben*D*C*B"
   ]
  },
  {
   "cell_type": "code",
   "execution_count": 20,
   "metadata": {},
   "outputs": [
    {
     "data": {
      "text/latex": [
       "$\\displaystyle \\left[\\begin{matrix}0 & 0 & 0 & 0 & 1 & 0 & 0 & 0\\\\0 & 0 & 1 & 0 & 0 & 0 & 0 & 0\\\\0 & 1 & 0 & 0 & 0 & 0 & 0 & 0\\\\1 & 0 & 0 & 0 & 0 & 0 & 0 & 0\\\\0 & 0 & 0 & 1 & 0 & 0 & 0 & 0\\\\0 & 0 & 0 & 0 & 0 & 1 & 0 & 0\\\\0 & 0 & 0 & 0 & 0 & 0 & 1 & 0\\\\0 & 0 & 0 & 0 & 0 & 0 & 0 & 1\\end{matrix}\\right]$"
      ],
      "text/plain": [
       "Matrix([\n",
       "[0, 0, 0, 0, 1, 0, 0, 0],\n",
       "[0, 0, 1, 0, 0, 0, 0, 0],\n",
       "[0, 1, 0, 0, 0, 0, 0, 0],\n",
       "[1, 0, 0, 0, 0, 0, 0, 0],\n",
       "[0, 0, 0, 1, 0, 0, 0, 0],\n",
       "[0, 0, 0, 0, 0, 1, 0, 0],\n",
       "[0, 0, 0, 0, 0, 0, 1, 0],\n",
       "[0, 0, 0, 0, 0, 0, 0, 1]])"
      ]
     },
     "execution_count": 20,
     "metadata": {},
     "output_type": "execute_result"
    }
   ],
   "source": [
    "M=B*C*D\n",
    "M\n"
   ]
  },
  {
   "cell_type": "code",
   "execution_count": 14,
   "metadata": {},
   "outputs": [
    {
     "data": {
      "text/latex": [
       "$\\displaystyle \\left[\\begin{matrix}0 & 0 & 0 & 1 & 0 & 0 & 0 & 0\\\\0 & 0 & 1 & 0 & 0 & 0 & 0 & 0\\\\0 & 1 & 0 & 0 & 0 & 0 & 0 & 0\\\\0 & 0 & 0 & 0 & 1 & 0 & 0 & 0\\\\1 & 0 & 0 & 0 & 0 & 0 & 0 & 0\\\\0 & 0 & 0 & 0 & 0 & 1 & 0 & 0\\\\0 & 0 & 0 & 0 & 0 & 0 & 1 & 0\\\\0 & 0 & 0 & 0 & 0 & 0 & 0 & 1\\end{matrix}\\right]$"
      ],
      "text/plain": [
       "Matrix([\n",
       "[0, 0, 0, 1, 0, 0, 0, 0],\n",
       "[0, 0, 1, 0, 0, 0, 0, 0],\n",
       "[0, 1, 0, 0, 0, 0, 0, 0],\n",
       "[0, 0, 0, 0, 1, 0, 0, 0],\n",
       "[1, 0, 0, 0, 0, 0, 0, 0],\n",
       "[0, 0, 0, 0, 0, 1, 0, 0],\n",
       "[0, 0, 0, 0, 0, 0, 1, 0],\n",
       "[0, 0, 0, 0, 0, 0, 0, 1]])"
      ]
     },
     "execution_count": 14,
     "metadata": {},
     "output_type": "execute_result"
    }
   ],
   "source": [
    "M**(-1)"
   ]
  },
  {
   "cell_type": "code",
   "execution_count": 15,
   "metadata": {},
   "outputs": [
    {
     "data": {
      "text/latex": [
       "$\\displaystyle \\left[\\begin{matrix}1 & 0 & 0 & 0 & 0 & 0 & 0 & 0\\\\0 & 0.96673 + 0.088013 i & -0.079282 + 0.088013 i & 0 & 0.11255 - 0.17602 i & 0 & 0 & 0\\\\0 & 0.11255 + 0.088013 i & 0.96673 - 0.17602 i & 0 & -0.079282 + 0.088013 i & 0 & 0 & 0\\\\0 & 0 & 0 & 0.96673 + 0.088013 i & 0 & 0.11255 + 0.088013 i & -0.079282 - 0.17602 i & 0\\\\0 & -0.079282 - 0.17602 i & 0.11255 + 0.088013 i & 0 & 0.96673 + 0.088013 i & 0 & 0 & 0\\\\0 & 0 & 0 & -0.079282 + 0.088013 i & 0 & 0.96673 - 0.17602 i & 0.11255 + 0.088013 i & 0\\\\0 & 0 & 0 & 0.11255 - 0.17602 i & 0 & -0.079282 + 0.088013 i & 0.96673 + 0.088013 i & 0\\\\0 & 0 & 0 & 0 & 0 & 0 & 0 & 1\\end{matrix}\\right]$"
      ],
      "text/plain": [
       "Matrix([\n",
       "[1,                     0,                      0,                      0,                      0,                      0,                     0, 0],\n",
       "[0,  0.96673 + 0.088013*I, -0.079282 + 0.088013*I,                      0,    0.11255 - 0.17602*I,                      0,                     0, 0],\n",
       "[0,  0.11255 + 0.088013*I,    0.96673 - 0.17602*I,                      0, -0.079282 + 0.088013*I,                      0,                     0, 0],\n",
       "[0,                     0,                      0,   0.96673 + 0.088013*I,                      0,   0.11255 + 0.088013*I, -0.079282 - 0.17602*I, 0],\n",
       "[0, -0.079282 - 0.17602*I,   0.11255 + 0.088013*I,                      0,   0.96673 + 0.088013*I,                      0,                     0, 0],\n",
       "[0,                     0,                      0, -0.079282 + 0.088013*I,                      0,    0.96673 - 0.17602*I,  0.11255 + 0.088013*I, 0],\n",
       "[0,                     0,                      0,    0.11255 - 0.17602*I,                      0, -0.079282 + 0.088013*I,  0.96673 + 0.088013*I, 0],\n",
       "[0,                     0,                      0,                      0,                      0,                      0,                     0, 1]])"
      ]
     },
     "execution_count": 15,
     "metadata": {},
     "output_type": "execute_result"
    }
   ],
   "source": [
    "U2=Matrix([\n",
    "    [U[3*8+3],U[3*8+5],U[3*8+6],0],\n",
    "    [U[5*8+3],U[5*8+5],U[5*8+6],0],\n",
    "    [U[6*8+3],U[6*8+5],U[6*8+6],0],\n",
    "    [0,0,0,1]\n",
    "])\n",
    "\n",
    "M**(-1)*Tp(eye(2),U2)*M"
   ]
  },
  {
   "cell_type": "code",
   "execution_count": 16,
   "metadata": {},
   "outputs": [
    {
     "data": {
      "text/latex": [
       "$\\displaystyle 0.11255$"
      ],
      "text/plain": [
       "0.11255"
      ]
     },
     "execution_count": 16,
     "metadata": {},
     "output_type": "execute_result"
    }
   ],
   "source": [
    "eta_0=im(U[8*3+3])\n",
    "alpha_1=re(U[8*5+3])\n",
    "alpha_2=re(U[8*6+3])\n",
    "alpha_2"
   ]
  },
  {
   "cell_type": "code",
   "execution_count": 17,
   "metadata": {},
   "outputs": [
    {
     "data": {
      "text/latex": [
       "$\\displaystyle 1.1476$"
      ],
      "text/plain": [
       "1.1476"
      ]
     },
     "execution_count": 17,
     "metadata": {},
     "output_type": "execute_result"
    }
   ],
   "source": [
    "R2=acos(sqrt((1-alpha_1-alpha_2)**2+eta_0**2))\n",
    "C1=atan(eta_0/(1-alpha_1-alpha_2))\n",
    "A2=A1=0\n",
    "R1=acos(sqrt(alpha_1**2+eta_0**2)/sin(R2))\n",
    "F2=atan(eta_0/alpha_1)\n",
    "F1=atan(-2*eta_0/alpha_2)-F2\n",
    "sin(R1)*sin(R2)\n",
    "sqrt(alpha_1**2+4*eta_0**2)\n",
    "F1+F2\n",
    "atan(-2*eta_0/alpha_1)\n"
   ]
  },
  {
   "cell_type": "code",
   "execution_count": 18,
   "metadata": {},
   "outputs": [],
   "source": [
    "M_1=M_1.subs(r_1,R1)\n",
    "M_1=M_1.subs(a_1,A1)\n",
    "M_1=M_1.subs(phi_1,F1)\n",
    "M_1=M_1.subs(c_1,C1)\n",
    "M_1=M_1.subs(e,np.e)\n",
    "\n",
    "M_2=M_2.subs(r_2,R2)\n",
    "M_2=M_2.subs(a_2,A2)\n",
    "M_2=M_2.subs(phi_2,F2)\n",
    "M_2=M_2.subs(c_2,C1)\n",
    "M_2=M_2.subs(e,np.e)\n",
    "\n",
    "M_1=M_1.evalf(precision)\n",
    "M_2=M_2.evalf(precision)"
   ]
  },
  {
   "cell_type": "code",
   "execution_count": null,
   "metadata": {},
   "outputs": [
    {
     "data": {
      "text/latex": [
       "$\\displaystyle \\left[\\begin{matrix}0.996229906141067 + 0.0867523723604232 i & 0 & 0 & 0 & 0 & 0 & 0 & 0\\\\0 & 0.478073459497706 + 0.0207761674376247 i & -0.859152524711035 - 0.156159449748112 i & 0 & 0.0320636624358665 + 0.0863551114799732 i & 0 & 0 & 0\\\\0 & 0.869922512207742 - 0.119368927886073 i & 0.475884241171202 & 0 & -0.0256079966949834 - 0.0431775557399873 i & 0 & 0 & 0\\\\0 & 0 & 0 & 0.993544334259116 + 0.0431775557399873 i & 0 & -0.0495464582948119 - 0.0924689299839155 i & 0 & 0\\\\0 & 0 & 0.0573815625423972 - 0.0878220406397092 i & 0 & 0.993544334259116 + 0.0431775557399873 i & 0 & 0 & 0\\\\0 & 0 & 0 & 0.0256079966949834 - 0.0431775557399873 i & 0 & 0.475884241171202 & -0.856287285006482 - 0.194386737527863 i & 0\\\\0 & 0 & 0 & 0.0320636624358665 - 0.0863551114799732 i & 0 & 0.859152524711035 - 0.156159449748112 i & 0.478073459497706 + 0.0207761674376247 i & 0\\\\0 & 0 & 0 & 0 & 0 & 0 & 0 & 0.996229906141067 + 0.0867523723604232 i\\end{matrix}\\right]$"
      ],
      "text/plain": [
       "Matrix([\n",
       "[0.996229906141067 + 0.0867523723604232*I,                                        0,                                         0,                                         0,                                          0,                                          0,                                        0,                                        0],\n",
       "[                                       0, 0.478073459497706 + 0.0207761674376247*I,  -0.859152524711035 - 0.156159449748112*I,                                         0,  0.0320636624358665 + 0.0863551114799732*I,                                          0,                                        0,                                        0],\n",
       "[                                       0,  0.869922512207742 - 0.119368927886073*I,                         0.475884241171202,                                         0, -0.0256079966949834 - 0.0431775557399873*I,                                          0,                                        0,                                        0],\n",
       "[                                       0,                                        0,                                         0,  0.993544334259116 + 0.0431775557399873*I,                                          0, -0.0495464582948119 - 0.0924689299839155*I,                                        0,                                        0],\n",
       "[                                       0,                                        0, 0.0573815625423972 - 0.0878220406397092*I,                                         0,   0.993544334259116 + 0.0431775557399873*I,                                          0,                                        0,                                        0],\n",
       "[                                       0,                                        0,                                         0, 0.0256079966949834 - 0.0431775557399873*I,                                          0,                          0.475884241171202, -0.856287285006482 - 0.194386737527863*I,                                        0],\n",
       "[                                       0,                                        0,                                         0, 0.0320636624358665 - 0.0863551114799732*I,                                          0,    0.859152524711035 - 0.156159449748112*I, 0.478073459497706 + 0.0207761674376247*I,                                        0],\n",
       "[                                       0,                                        0,                                         0,                                         0,                                          0,                                          0,                                        0, 0.996229906141067 + 0.0867523723604232*I]])"
      ]
     },
     "execution_count": 182,
     "metadata": {},
     "output_type": "execute_result"
    }
   ],
   "source": [
    "MM=(M_1*M_2).evalf(precision)\n",
    "MM"
   ]
  },
  {
   "cell_type": "code",
   "execution_count": null,
   "metadata": {},
   "outputs": [
    {
     "data": {
      "text/latex": [
       "$\\displaystyle \\left[\\begin{matrix}0 & -1.0 - 1.0 i\\\\-2.0 - 2.0 i & 0\\end{matrix}\\right]$"
      ],
      "text/plain": [
       "Matrix([\n",
       "[           0, -1.0 - 1.0*I],\n",
       "[-2.0 - 2.0*I,            0]])"
      ]
     },
     "execution_count": 183,
     "metadata": {},
     "output_type": "execute_result"
    }
   ],
   "source": [
    "r = Symbol(\"r\")  # , positive = True)\n",
    "\n",
    "MMM = Matrix([\n",
    "    [0, r],\n",
    "    [2*r, 0]\n",
    "])\n",
    "\n",
    "MMM = MMM.subs(r, -1-1j)\n",
    "MMM.evalf(10)\n"
   ]
  },
  {
   "cell_type": "code",
   "execution_count": null,
   "metadata": {},
   "outputs": [],
   "source": [
    "x=atan(eta_0/(1-alpha_1-alpha_2))\n",
    "y=atan(eta_0/alpha_2)\n",
    "z=atan(-2*eta_0/alpha_1)\n",
    "\n",
    "equazioni=[\n",
    "    -a_1-a_3+c_3-x,\n",
    "    -a_3+c_3+phi_1-y,\n",
    "    c_1+c_3+phi_3-z,\n",
    "    np.pi-a_3+c_2-phi_2-y,\n",
    "    np.pi+a_3+c_4-phi_1-y,\n",
    "    a_3+c_1+phi_2-y,\n",
    "    -a_2-a_3+c_2-x,\n",
    "    a_2+a_3+c_1-x,\n",
    "    np.pi+c_2+c_4-phi_3-z,\n",
    "    a_1+a_3+c_4-x,\n",
    "    #c_1+c_3+c_5,\n",
    "    #c_2+c_4+c_6\n",
    "]\n",
    "#a_1,a_2,a_3,phi_1,phi_2,phi_3"
   ]
  },
  {
   "cell_type": "code",
   "execution_count": null,
   "metadata": {},
   "outputs": [
    {
     "data": {
      "text/plain": [
       "[]"
      ]
     },
     "execution_count": 244,
     "metadata": {},
     "output_type": "execute_result"
    }
   ],
   "source": [
    "solve(equazioni,[a_1,a_2,a_3,phi_1,phi_2,phi_3,c_1])"
   ]
  },
  {
   "cell_type": "code",
   "execution_count": null,
   "metadata": {},
   "outputs": [],
   "source": [
    "x=atan(-2*eta_0/alpha_1)\n",
    "y=atan(eta_0/(1-alpha_1-alpha_2))\n",
    "z=atan(-2*eta_0/alpha_2)\n",
    "w=atan(eta_0/alpha_1)\n",
    "k=atan(eta_0/alpha_2)\n",
    "\n",
    "\n",
    "equazioni=[\n",
    "    c_1+phi_2+phi_3-x,\n",
    "    -a_2+c_2+c_6-y,\n",
    "    c_6+phi_1+phi_2-z,\n",
    "    np.pi+a_1+c_5-phi_2-w,\n",
    "    np.pi-a_3+c_2-phi_2-k,\n",
    "    a_3+c_1+phi_2-k,\n",
    "    -a_1+c_6+phi_2-w,\n",
    "    c_5-phi_1-phi_2-z,\n",
    "    a_2+c_1+c_5-y,\n",
    "    c_2-phi_2-phi_3-x,\n",
    "    #c_1+c_3+c_5,\n",
    "    #c_2+c_4+c_6\n",
    "]"
   ]
  },
  {
   "cell_type": "code",
   "execution_count": null,
   "metadata": {},
   "outputs": [
    {
     "data": {
      "text/plain": [
       "[]"
      ]
     },
     "execution_count": 266,
     "metadata": {},
     "output_type": "execute_result"
    }
   ],
   "source": [
    "solve(equazioni,[a_1,a_2,a_3])"
   ]
  },
  {
   "cell_type": "code",
   "execution_count": null,
   "metadata": {},
   "outputs": [],
   "source": [
    "from sympy import Matrix, solve_linear_system\n",
    "Eqs_matrix=Matrix((\n",
    "    #a_1,a_2,a_3,f_1,f_2,f_3\n",
    "    (0,0,0,0,1,1,1,0,0,0,0,0,x),\n",
    "    (0,-1,0,0,0,0,0,1,0,0,0,1,y),\n",
    "    (0,0,0,1,1,0,0,0,0,0,0,1,z),\n",
    "    (1,0,0,0,-1,0,0,0,0,0,1,0,w-np.pi),\n",
    "    (0,0,-1,0,-1,0,0,1,0,0,0,0,k-np.pi),\n",
    "    (0,0,1,0,1,0,1,0,0,0,0,0,k),\n",
    "    (-1,0,0,0,1,0,0,0,0,0,0,1,w),\n",
    "    #(0,0,0,-1,-1,0,0,0,0,0,1,0,z),\n",
    "    #(0,1,0,0,0,0,1,0,0,0,1,0,y),\n",
    "    #(0,0,0,0,-1,-1,0,1,0,0,0,0,x),\n",
    "    #(0,0,0,0,0,0,1,0,1,0,1,0,0),\n",
    "    #(0,0,0,0,0,0,0,1,0,1,0,1,0)\n",
    "))"
   ]
  },
  {
   "cell_type": "code",
   "execution_count": null,
   "metadata": {},
   "outputs": [
    {
     "name": "stdout",
     "output_type": "stream",
     "text": [
      "None\n"
     ]
    }
   ],
   "source": [
    "sol=solve_linear_system(Eqs_matrix,a_1,a_2,a_3,phi_1,phi_2,phi_3,c_1,c_2,c_3,c_4,c_5,c_6)\n",
    "print(sol)"
   ]
  },
  {
   "cell_type": "code",
   "execution_count": null,
   "metadata": {},
   "outputs": [
    {
     "data": {
      "text/latex": [
       "$\\displaystyle \\left[\\begin{matrix}a & b & 0 & 0\\\\c & d & 0 & 0\\\\0 & 0 & a & b\\\\0 & 0 & c & d\\end{matrix}\\right]$"
      ],
      "text/plain": [
       "Matrix([\n",
       "[a, b, 0, 0],\n",
       "[c, d, 0, 0],\n",
       "[0, 0, a, b],\n",
       "[0, 0, c, d]])"
      ]
     },
     "execution_count": 71,
     "metadata": {},
     "output_type": "execute_result"
    }
   ],
   "source": [
    "a,b,c,d=symbols(\"a b c d\")\n",
    "M=Matrix([\n",
    "    [a,b],\n",
    "    [c,d]\n",
    "])\n",
    "\n",
    "Tp(eye(2),M)"
   ]
  }
 ],
 "metadata": {
  "interpreter": {
   "hash": "e8bbf111b3c07fe72d02251ebcc32db4a683ef2a320a2bb47db1bc9f2379816c"
  },
  "kernelspec": {
   "display_name": "Python 3.8.12 ('pyEnv')",
   "language": "python",
   "name": "python3"
  },
  "language_info": {
   "codemirror_mode": {
    "name": "ipython",
    "version": 3
   },
   "file_extension": ".py",
   "mimetype": "text/x-python",
   "name": "python",
   "nbconvert_exporter": "python",
   "pygments_lexer": "ipython3",
   "version": "3.10.2"
  },
  "orig_nbformat": 4
 },
 "nbformat": 4,
 "nbformat_minor": 2
}
