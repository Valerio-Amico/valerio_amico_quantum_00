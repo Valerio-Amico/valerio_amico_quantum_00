{
 "cells": [
  {
   "cell_type": "code",
   "execution_count": 73,
   "metadata": {},
   "outputs": [],
   "source": [
    "import numpy as np\n",
    "from qiskit import QuantumCircuit, QuantumRegister, transpile\n",
    "from qiskit.circuit.random import random_circuit"
   ]
  },
  {
   "cell_type": "code",
   "execution_count": 78,
   "metadata": {},
   "outputs": [
    {
     "data": {
      "image/png": "[encoded data removed]",
      "text/plain": [
       "<Figure size 1049.8x204.68 with 1 Axes>"
      ]
     },
     "execution_count": 78,
     "metadata": {},
     "output_type": "execute_result"
    }
   ],
   "source": [
    "N_qubits = 3\n",
    "\n",
    "#qr_test = QuantumRegister(N_qubits, name = \"q\")\n",
    "#qc_test = QuantumCircuit(qr_test, name=\"test\")\n",
    "\n",
    "#qc_test.x(qr_test[1])\n",
    "#qc_test.cx(qr_test[0],qr_test[1])\n",
    "\n",
    "qc_test = transpile(random_circuit(num_qubits = N_qubits, depth = 2, measure=False), basis_gates=[\"cx\",\"u3\",\"id\"])\n",
    "qc_test.draw(output=\"mpl\")"
   ]
  },
  {
   "cell_type": "code",
   "execution_count": 49,
   "metadata": {},
   "outputs": [
    {
     "data": {
      "text/plain": [
       "1"
      ]
     },
     "execution_count": 49,
     "metadata": {},
     "output_type": "execute_result"
    }
   ],
   "source": [
    "qc_test.count_ops()[\"cx\"]"
   ]
  },
  {
   "cell_type": "code",
   "execution_count": 50,
   "metadata": {},
   "outputs": [],
   "source": [
    "qasm_qc = qc_test.qasm()\n",
    "lines = []\n",
    "i=0\n",
    "while i<len(qasm_qc):\n",
    "    line = \"\"\n",
    "    end = False\n",
    "    while end == False:\n",
    "        if qasm_qc[i] != \"\\n\":\n",
    "            line+=qasm_qc[i]\n",
    "        else:\n",
    "            end=True\n",
    "            lines.append(line)\n",
    "        i+=1\n",
    "    "
   ]
  },
  {
   "cell_type": "code",
   "execution_count": 60,
   "metadata": {},
   "outputs": [],
   "source": [
    "def add_random_coupling_cnot(qc, control, target):\n",
    "    choices = [\"IIII\", \"YIYX\", \"XIXX\", \"ZIZI\", \n",
    "               \"IXIX\", \"YXYI\", \"XXXI\", \"ZXZX\", \n",
    "               \"IYZY\", \"YYXZ\", \"XYYZ\", \"ZYIY\", \n",
    "               \"IZZZ\", \"YZXY\", \"XZYY\", \"ZZIZ\"]\n",
    "    \n",
    "    pqrs = np.random.choice(choices)\n",
    "\n",
    "    if pqrs[0]=='X':\n",
    "        qc.x(control)\n",
    "    elif pqrs[0]=='Y':\n",
    "        qc.y(control)\n",
    "    elif pqrs[0]=='Z':\n",
    "        qc.z(control)\n",
    "    \n",
    "    if pqrs[1]=='X':\n",
    "        qc.x(target)\n",
    "    elif pqrs[1]=='Y':\n",
    "        qc.y(target)\n",
    "    elif pqrs[1]=='Z':\n",
    "        qc.z(target)\n",
    "    \n",
    "    qc.cx(control, target)\n",
    "\n",
    "    if pqrs[2]=='X':\n",
    "        qc.x(control)\n",
    "    elif pqrs[2]=='Y':\n",
    "        qc.y(control)\n",
    "    elif pqrs[2]=='Z':\n",
    "        qc.z(control)\n",
    "    \n",
    "    if pqrs[3]=='X':\n",
    "        qc.x(target)\n",
    "    elif pqrs[3]=='Y':\n",
    "        qc.y(target)\n",
    "    elif pqrs[3]=='Z':\n",
    "        qc.z(target)\n",
    "\n",
    "    return"
   ]
  },
  {
   "cell_type": "code",
   "execution_count": 69,
   "metadata": {},
   "outputs": [
    {
     "data": {
      "text/html": [
       "<pre style=\"word-wrap: normal;white-space: pre;background: #fff0;line-height: 1.1;font-family: &quot;Courier New&quot;,Courier,monospace\">     ┌───┐          \n",
       "q_0: ┤ Z ├──■───────\n",
       "     ├───┤┌─┴─┐┌───┐\n",
       "q_1: ┤ Z ├┤ X ├┤ Z ├\n",
       "     └───┘└───┘└───┘</pre>"
      ],
      "text/plain": [
       "     ┌───┐          \n",
       "q_0: ┤ Z ├──■───────\n",
       "     ├───┤┌─┴─┐┌───┐\n",
       "q_1: ┤ Z ├┤ X ├┤ Z ├\n",
       "     └───┘└───┘└───┘"
      ]
     },
     "execution_count": 69,
     "metadata": {},
     "output_type": "execute_result"
    }
   ],
   "source": [
    "splitted = qasm_qc.split(\";\\n\")\n",
    "\n",
    "qr_LIC = QuantumRegister(N_qubits, name=\"q\")\n",
    "qc_LIC = QuantumCircuit(qr_LIC, name=\"LIC\")\n",
    "\n",
    "target_pos = []\n",
    "control_pos = []\n",
    "\n",
    "for element in splitted:\n",
    "    if \"cx\" in element:\n",
    "        el = element.replace(\"q[\", \"\")\n",
    "        el = el.replace(\"]\", \"\")\n",
    "        control_target = el.split(\" \")[1].split(\",\")\n",
    "\n",
    "        add_random_coupling_cnot(qc_LIC, qr_LIC[int(control_target[0])], qr_LIC[int(control_target[1])])\n",
    "\n",
    "qc_LIC.draw()"
   ]
  },
  {
   "cell_type": "code",
   "execution_count": null,
   "metadata": {},
   "outputs": [],
   "source": []
  },
  {
   "cell_type": "code",
   "execution_count": null,
   "metadata": {},
   "outputs": [],
   "source": []
  }
 ],
 "metadata": {
  "interpreter": {
   "hash": "aee8b7b246df8f9039afb4144a1f6fd8d2ca17a180786b69acc140d282b71a49"
  },
  "kernelspec": {
   "display_name": "Python 3.10.2 64-bit",
   "language": "python",
   "name": "python3"
  },
  "language_info": {
   "codemirror_mode": {
    "name": "ipython",
    "version": 3
   },
   "file_extension": ".py",
   "mimetype": "text/x-python",
   "name": "python",
   "nbconvert_exporter": "python",
   "pygments_lexer": "ipython3",
   "version": "3.10.2"
  },
  "orig_nbformat": 4
 },
 "nbformat": 4,
 "nbformat_minor": 2
}
