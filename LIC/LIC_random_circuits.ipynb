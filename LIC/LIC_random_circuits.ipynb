{
 "cells": [
  {
   "cell_type": "code",
   "execution_count": 143,
   "metadata": {},
   "outputs": [],
   "source": [
    "import numpy as np\n",
    "from qiskit import QuantumCircuit, QuantumRegister, transpile\n",
    "from qiskit.circuit.random import random_circuit\n",
    "from qiskit.quantum_info import Operator"
   ]
  },
  {
   "cell_type": "code",
   "execution_count": 144,
   "metadata": {},
   "outputs": [],
   "source": [
    "def add_random_coupling_cnot(qc, control, target):\n",
    "    choices = [\"IIII\", \"YIYX\", \"XIXX\", \"ZIZI\", \n",
    "               \"IXIX\", \"YXYI\", \"XXXI\", \"ZXZX\", \n",
    "               \"IYZY\", \"YYXZ\", \"XYYZ\", \"ZYIY\", \n",
    "               \"IZZZ\", \"YZXY\", \"XZYY\", \"ZZIZ\"]\n",
    "    \n",
    "    pqrs = np.random.choice(choices)\n",
    "    print(pqrs)\n",
    "\n",
    "    if pqrs[0]=='X':\n",
    "        qc.x(control)\n",
    "    elif pqrs[0]=='Y':\n",
    "        qc.y(control)\n",
    "    elif pqrs[0]=='Z':\n",
    "        qc.z(control)\n",
    "    \n",
    "    if pqrs[1]=='X':\n",
    "        qc.x(target)\n",
    "    elif pqrs[1]=='Y':\n",
    "        qc.y(target)\n",
    "    elif pqrs[1]=='Z':\n",
    "        qc.z(target)\n",
    "    \n",
    "    qc.cx(control, target)\n",
    "\n",
    "    if pqrs[2]=='X':\n",
    "        qc.x(control)\n",
    "    elif pqrs[2]=='Y':\n",
    "        qc.y(control)\n",
    "    elif pqrs[2]=='Z':\n",
    "        qc.z(control)\n",
    "    \n",
    "    if pqrs[3]=='X':\n",
    "        qc.x(target)\n",
    "    elif pqrs[3]=='Y':\n",
    "        qc.y(target)\n",
    "    elif pqrs[3]=='Z':\n",
    "        qc.z(target)\n",
    "\n",
    "    return\n",
    "\n",
    "def LIC_calibration_circuit(quantum_circuit):\n",
    "    qasm_qc = quantum_circuit.qasm()\n",
    "    lines = []\n",
    "    i=0\n",
    "    while i<len(qasm_qc):\n",
    "        line = \"\"\n",
    "        end = False\n",
    "        while end == False:\n",
    "            if qasm_qc[i] != \"\\n\":\n",
    "                line+=qasm_qc[i]\n",
    "            else:\n",
    "                end=True\n",
    "                lines.append(line)\n",
    "            i+=1\n",
    "    splitted = qasm_qc.split(\";\\n\")\n",
    "\n",
    "    qr_LIC = QuantumRegister(len(quantum_circuit.qubits), name=\"q\")\n",
    "    qc_LIC = QuantumCircuit(qr_LIC, name=\"LIC\")\n",
    "\n",
    "    for element in splitted:\n",
    "        if \"cx\" in element:\n",
    "            el = element.replace(\"q[\", \"\")\n",
    "            el = el.replace(\"]\", \"\")\n",
    "            control_target = el.split(\" \")[1].split(\",\")\n",
    "\n",
    "            add_random_coupling_cnot(qc_LIC, qr_LIC[int(control_target[0])], qr_LIC[int(control_target[1])])\n",
    "\n",
    "    return qc_LIC"
   ]
  },
  {
   "cell_type": "code",
   "execution_count": 145,
   "metadata": {},
   "outputs": [
    {
     "data": {
      "image/png": "[encoded data removed]",
      "text/plain": [
       "<Figure size 1471.2x204.68 with 1 Axes>"
      ]
     },
     "execution_count": 145,
     "metadata": {},
     "output_type": "execute_result"
    }
   ],
   "source": [
    "N_qubits = 3\n",
    "\n",
    "qc_test = transpile(random_circuit(num_qubits = N_qubits, depth = 2, measure=False), basis_gates=[\"cx\",\"u3\",\"id\"])\n",
    "qc_test.draw(output=\"mpl\")"
   ]
  },
  {
   "cell_type": "code",
   "execution_count": 146,
   "metadata": {},
   "outputs": [
    {
     "name": "stdout",
     "output_type": "stream",
     "text": [
      "ZZIZ\n",
      "IIII\n",
      "XIXX\n",
      "XZYY\n"
     ]
    },
    {
     "data": {
      "image/png": "[encoded data removed]",
      "text/plain": [
       "<Figure size 688.597x204.68 with 1 Axes>"
      ]
     },
     "execution_count": 146,
     "metadata": {},
     "output_type": "execute_result"
    }
   ],
   "source": [
    "qc_cal_LIC = LIC_calibration_circuit(qc_test)\n",
    "qc_cal_LIC.draw(output=\"mpl\")"
   ]
  },
  {
   "cell_type": "code",
   "execution_count": 147,
   "metadata": {},
   "outputs": [
    {
     "data": {
      "text/latex": [
       "$\\displaystyle \\left[\\begin{matrix}-1.0 & 0 & 0 & 0 & 0 & 0 & 0 & 0\\\\0 & -1.0 & 0 & 0 & 0 & 0 & 0 & 0\\\\0 & 0 & -1.0 & 0 & 0 & 0 & 0 & 0\\\\0 & 0 & 0 & -1.0 & 0 & 0 & 0 & 0\\\\0 & 0 & 0 & 0 & -1.0 & 0 & 0 & 0\\\\0 & 0 & 0 & 0 & 0 & -1.0 & 0 & 0\\\\0 & 0 & 0 & 0 & 0 & 0 & -1.0 & 0\\\\0 & 0 & 0 & 0 & 0 & 0 & 0 & -1.0\\end{matrix}\\right]$"
      ],
      "text/plain": [
       "Matrix([\n",
       "[-1.0,    0,    0,    0,    0,    0,    0,    0],\n",
       "[   0, -1.0,    0,    0,    0,    0,    0,    0],\n",
       "[   0,    0, -1.0,    0,    0,    0,    0,    0],\n",
       "[   0,    0,    0, -1.0,    0,    0,    0,    0],\n",
       "[   0,    0,    0,    0, -1.0,    0,    0,    0],\n",
       "[   0,    0,    0,    0,    0, -1.0,    0,    0],\n",
       "[   0,    0,    0,    0,    0,    0, -1.0,    0],\n",
       "[   0,    0,    0,    0,    0,    0,    0, -1.0]])"
      ]
     },
     "execution_count": 147,
     "metadata": {},
     "output_type": "execute_result"
    }
   ],
   "source": [
    "from sympy import Matrix\n",
    "Matrix(Operator(qc_cal_LIC))"
   ]
  },
  {
   "cell_type": "code",
   "execution_count": null,
   "metadata": {},
   "outputs": [],
   "source": []
  }
 ],
 "metadata": {
  "interpreter": {
   "hash": "aee8b7b246df8f9039afb4144a1f6fd8d2ca17a180786b69acc140d282b71a49"
  },
  "kernelspec": {
   "display_name": "Python 3.10.2 64-bit",
   "language": "python",
   "name": "python3"
  },
  "language_info": {
   "codemirror_mode": {
    "name": "ipython",
    "version": 3
   },
   "file_extension": ".py",
   "mimetype": "text/x-python",
   "name": "python",
   "nbconvert_exporter": "python",
   "pygments_lexer": "ipython3",
   "version": "3.10.2"
  },
  "orig_nbformat": 4
 },
 "nbformat": 4,
 "nbformat_minor": 2
}
