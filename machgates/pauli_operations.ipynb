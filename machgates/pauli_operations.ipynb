{
 "cells": [
  {
   "cell_type": "code",
   "execution_count": 7,
   "metadata": {},
   "outputs": [],
   "source": [
    "from qiskit.quantum_info.operators.symplectic.base_pauli import BasePauli\n",
    "from qiskit.quantum_info.operators.symplectic.pauli import Pauli"
   ]
  },
  {
   "cell_type": "code",
   "execution_count": 42,
   "metadata": {},
   "outputs": [],
   "source": [
    "def remove_i_and_minus(string):\n",
    "    string = string.replace(\"-\",\"\")\n",
    "    string = string.replace(\"i\",\"\")\n",
    "    return string"
   ]
  },
  {
   "cell_type": "code",
   "execution_count": 43,
   "metadata": {},
   "outputs": [
    {
     "data": {
      "text/plain": [
       "[Pauli('IIXXXY'),\n",
       " Pauli('IIXXYX'),\n",
       " Pauli('IIXYXX'),\n",
       " Pauli('XXXYII'),\n",
       " Pauli('IIYXXX'),\n",
       " Pauli('XXYXII'),\n",
       " Pauli('XYXXII'),\n",
       " Pauli('YXXXII')]"
      ]
     },
     "execution_count": 43,
     "metadata": {},
     "output_type": "execute_result"
    }
   ],
   "source": [
    "basis = [\n",
    "    Pauli(\"IIIIIZ\"),\n",
    "    Pauli(\"IIIIZI\"),\n",
    "    Pauli(\"IIIZII\"),\n",
    "    Pauli(\"IIZIII\"),\n",
    "    Pauli(\"IZIIII\"),\n",
    "    Pauli(\"ZIIIII\"),\n",
    "    Pauli(\"IIXXXX\"),\n",
    "    Pauli(\"XXXXII\")\n",
    "]\n",
    "\n",
    "comms = []\n",
    "\n",
    "for i in range(len(basis)):\n",
    "    for j in range(i, len(basis)):\n",
    "        \n",
    "        if basis[i].commutes(basis[j]) == False:\n",
    "            new = basis[i].compose(basis[j])\n",
    "            new = Pauli(remove_i_and_minus(new.to_label()))\n",
    "            if new not in comms:\n",
    "                comms.append(new)\n",
    "comms"
   ]
  },
  {
   "cell_type": "code",
   "execution_count": 44,
   "metadata": {},
   "outputs": [
    {
     "data": {
      "text/plain": [
       "[Pauli('IIXXYY'),\n",
       " Pauli('IIXYXY'),\n",
       " Pauli('IIYXXY'),\n",
       " Pauli('IIXYYX'),\n",
       " Pauli('IIYXYX'),\n",
       " Pauli('IIYYXX'),\n",
       " Pauli('XXIZXX'),\n",
       " Pauli('XXYYII'),\n",
       " Pauli('XYXYII'),\n",
       " Pauli('YXXYII'),\n",
       " Pauli('XXZIXX'),\n",
       " Pauli('XYYXII'),\n",
       " Pauli('YXYXII'),\n",
       " Pauli('YYXXII')]"
      ]
     },
     "execution_count": 44,
     "metadata": {},
     "output_type": "execute_result"
    }
   ],
   "source": [
    "comms_order_2 = []\n",
    "\n",
    "for i in range(len(comms)):\n",
    "    for j in range(len(basis)):\n",
    "        if comms[i].commutes(basis[j]) == False:\n",
    "            new = comms[i].compose(basis[j])\n",
    "            new = Pauli(remove_i_and_minus(new.to_label()))\n",
    "            if new not in comms_order_2+comms+basis:\n",
    "                comms_order_2.append(new)\n",
    "\n",
    "comms_order_2"
   ]
  },
  {
   "cell_type": "code",
   "execution_count": 45,
   "metadata": {},
   "outputs": [
    {
     "data": {
      "text/plain": [
       "[Pauli('IIXYYY'),\n",
       " Pauli('IIYXYY'),\n",
       " Pauli('IIYYXY'),\n",
       " Pauli('XXIZXY'),\n",
       " Pauli('XXZIXY'),\n",
       " Pauli('IIYYYX'),\n",
       " Pauli('XXIZYX'),\n",
       " Pauli('XXZIYX'),\n",
       " Pauli('XYIZXX'),\n",
       " Pauli('YXIZXX'),\n",
       " Pauli('XYYYII'),\n",
       " Pauli('YXYYII'),\n",
       " Pauli('YYXYII'),\n",
       " Pauli('XYZIXX'),\n",
       " Pauli('YXZIXX'),\n",
       " Pauli('YYYXII')]"
      ]
     },
     "execution_count": 45,
     "metadata": {},
     "output_type": "execute_result"
    }
   ],
   "source": [
    "comms_order_3 = []\n",
    "\n",
    "for i in range(len(comms_order_2)):\n",
    "    for j in range(len(basis)):\n",
    "        if comms_order_2[i].commutes(basis[j]) == False:\n",
    "            new = comms_order_2[i].compose(basis[j])\n",
    "            new = Pauli(remove_i_and_minus(new.to_label()))\n",
    "            if new not in comms_order_2+comms+basis+comms_order_3:\n",
    "                comms_order_3.append(new)\n",
    "\n",
    "comms_order_3"
   ]
  },
  {
   "cell_type": "code",
   "execution_count": 46,
   "metadata": {},
   "outputs": [
    {
     "data": {
      "text/plain": [
       "[Pauli('IIYYYY'),\n",
       " Pauli('IIIZZZ'),\n",
       " Pauli('XXIZYY'),\n",
       " Pauli('IIZIZZ'),\n",
       " Pauli('XXZIYY'),\n",
       " Pauli('IIZZIZ'),\n",
       " Pauli('XYIZXY'),\n",
       " Pauli('YXIZXY'),\n",
       " Pauli('XYZIXY'),\n",
       " Pauli('YXZIXY'),\n",
       " Pauli('IIZZZI'),\n",
       " Pauli('XYIZYX'),\n",
       " Pauli('YXIZYX'),\n",
       " Pauli('XYZIYX'),\n",
       " Pauli('YXZIYX'),\n",
       " Pauli('YYIZXX'),\n",
       " Pauli('YYYYII'),\n",
       " Pauli('IZZZII'),\n",
       " Pauli('ZIZZII'),\n",
       " Pauli('ZZIZII'),\n",
       " Pauli('YYZIXX'),\n",
       " Pauli('ZZZIII')]"
      ]
     },
     "execution_count": 46,
     "metadata": {},
     "output_type": "execute_result"
    }
   ],
   "source": [
    "comms_order_4 = []\n",
    "\n",
    "for i in range(len(comms_order_3)):\n",
    "    for j in range(len(basis)):\n",
    "        if comms_order_3[i].commutes(basis[j]) == False:\n",
    "            new = comms_order_3[i].compose(basis[j])\n",
    "            new = Pauli(remove_i_and_minus(new.to_label()))\n",
    "            if new not in comms_order_2+comms+basis+comms_order_3+comms_order_4:\n",
    "                comms_order_4.append(new)\n",
    "\n",
    "comms_order_4"
   ]
  },
  {
   "cell_type": "code",
   "execution_count": 47,
   "metadata": {},
   "outputs": [
    {
     "data": {
      "text/plain": [
       "[Pauli('XXXYZZ'),\n",
       " Pauli('XYIZYY'),\n",
       " Pauli('YXIZYY'),\n",
       " Pauli('XXYXZZ'),\n",
       " Pauli('XYZIYY'),\n",
       " Pauli('YXZIYY'),\n",
       " Pauli('YYIZXY'),\n",
       " Pauli('YYZIXY'),\n",
       " Pauli('YYIZYX'),\n",
       " Pauli('YYZIYX'),\n",
       " Pauli('ZZXYXX'),\n",
       " Pauli('ZZYXXX')]"
      ]
     },
     "execution_count": 47,
     "metadata": {},
     "output_type": "execute_result"
    }
   ],
   "source": [
    "comms_order_5 = []\n",
    "\n",
    "for i in range(len(comms_order_4)):\n",
    "    for j in range(len(basis)):\n",
    "        if comms_order_4[i].commutes(basis[j]) == False:\n",
    "            new = comms_order_4[i].compose(basis[j])\n",
    "            new = Pauli(remove_i_and_minus(new.to_label()))\n",
    "            if new not in comms_order_2+comms+basis+comms_order_3+comms_order_4+comms_order_5:\n",
    "                comms_order_5.append(new)\n",
    "\n",
    "comms_order_5"
   ]
  },
  {
   "cell_type": "code",
   "execution_count": 48,
   "metadata": {},
   "outputs": [
    {
     "data": {
      "text/plain": [
       "[Pauli('XXXXZZ'),\n",
       " Pauli('XXYYZZ'),\n",
       " Pauli('XYXYZZ'),\n",
       " Pauli('YXXYZZ'),\n",
       " Pauli('YYIZYY'),\n",
       " Pauli('XYYXZZ'),\n",
       " Pauli('YXYXZZ'),\n",
       " Pauli('YYZIYY'),\n",
       " Pauli('ZZXYXY'),\n",
       " Pauli('ZZYXXY'),\n",
       " Pauli('ZZXYYX'),\n",
       " Pauli('ZZYXYX'),\n",
       " Pauli('ZZXXXX'),\n",
       " Pauli('ZZYYXX')]"
      ]
     },
     "execution_count": 48,
     "metadata": {},
     "output_type": "execute_result"
    }
   ],
   "source": [
    "comms_order_6 = []\n",
    "\n",
    "for i in range(len(comms_order_5)):\n",
    "    for j in range(len(basis)):\n",
    "        if comms_order_5[i].commutes(basis[j]) == False:\n",
    "            new = comms_order_5[i].compose(basis[j])\n",
    "            new = Pauli(remove_i_and_minus(new.to_label()))\n",
    "            if new not in comms_order_2+comms+basis+comms_order_3+comms_order_4+comms_order_5+comms_order_6:\n",
    "                comms_order_6.append(new)\n",
    "\n",
    "comms_order_6"
   ]
  },
  {
   "cell_type": "code",
   "execution_count": 49,
   "metadata": {},
   "outputs": [
    {
     "data": {
      "text/plain": [
       "[Pauli('XYXXZZ'),\n",
       " Pauli('YXXXZZ'),\n",
       " Pauli('XYYYZZ'),\n",
       " Pauli('YXYYZZ'),\n",
       " Pauli('YYXYZZ'),\n",
       " Pauli('ZZXYYY'),\n",
       " Pauli('YYYXZZ'),\n",
       " Pauli('ZZYXYY'),\n",
       " Pauli('ZZXXXY'),\n",
       " Pauli('ZZYYXY'),\n",
       " Pauli('ZZXXYX'),\n",
       " Pauli('ZZYYYX')]"
      ]
     },
     "execution_count": 49,
     "metadata": {},
     "output_type": "execute_result"
    }
   ],
   "source": [
    "comms_order_7 = []\n",
    "\n",
    "for i in range(len(comms_order_6)):\n",
    "    for j in range(len(basis)):\n",
    "        if comms_order_6[i].commutes(basis[j]) == False:\n",
    "            new = comms_order_6[i].compose(basis[j])\n",
    "            new = Pauli(remove_i_and_minus(new.to_label()))\n",
    "            if new not in comms_order_2+comms+basis+comms_order_3+comms_order_4+comms_order_5+comms_order_6+comms_order_7:\n",
    "                comms_order_7.append(new)\n",
    "\n",
    "comms_order_7"
   ]
  },
  {
   "cell_type": "code",
   "execution_count": 50,
   "metadata": {},
   "outputs": [
    {
     "data": {
      "text/plain": [
       "[Pauli('YYXXZZ'),\n",
       " Pauli('IZIIZZ'),\n",
       " Pauli('ZIIIZZ'),\n",
       " Pauli('YYYYZZ'),\n",
       " Pauli('IZZZZZ'),\n",
       " Pauli('ZIZZZZ'),\n",
       " Pauli('ZZIZZZ'),\n",
       " Pauli('ZZXXYY'),\n",
       " Pauli('ZZYYYY'),\n",
       " Pauli('ZZZIZZ'),\n",
       " Pauli('ZZIIIZ'),\n",
       " Pauli('ZZZZIZ'),\n",
       " Pauli('ZZIIZI'),\n",
       " Pauli('ZZZZZI')]"
      ]
     },
     "execution_count": 50,
     "metadata": {},
     "output_type": "execute_result"
    }
   ],
   "source": [
    "comms_order_8 = []\n",
    "\n",
    "for i in range(len(comms_order_7)):\n",
    "    for j in range(len(basis)):\n",
    "        if comms_order_7[i].commutes(basis[j]) == False:\n",
    "            new = comms_order_7[i].compose(basis[j])\n",
    "            new = Pauli(remove_i_and_minus(new.to_label()))\n",
    "            if new not in comms_order_2+comms+basis+comms_order_3+comms_order_4+comms_order_5+comms_order_6+comms_order_7+comms_order_8:\n",
    "                comms_order_8.append(new)\n",
    "\n",
    "comms_order_8"
   ]
  },
  {
   "cell_type": "code",
   "execution_count": 51,
   "metadata": {},
   "outputs": [
    {
     "data": {
      "text/plain": [
       "[]"
      ]
     },
     "execution_count": 51,
     "metadata": {},
     "output_type": "execute_result"
    }
   ],
   "source": [
    "comms_order_9 = []\n",
    "\n",
    "for i in range(len(comms_order_8)):\n",
    "    for j in range(len(basis)):\n",
    "        if comms_order_8[i].commutes(basis[j]) == False:\n",
    "            new = comms_order_8[i].compose(basis[j])\n",
    "            new = Pauli(remove_i_and_minus(new.to_label()))\n",
    "            if new not in comms_order_9+comms_order_2+comms+basis+comms_order_3+comms_order_4+comms_order_5+comms_order_6+comms_order_7+comms_order_8:\n",
    "                comms_order_9.append(new)\n",
    "\n",
    "comms_order_9"
   ]
  },
  {
   "cell_type": "code",
   "execution_count": 53,
   "metadata": {},
   "outputs": [
    {
     "data": {
      "text/plain": [
       "120"
      ]
     },
     "execution_count": 53,
     "metadata": {},
     "output_type": "execute_result"
    }
   ],
   "source": [
    "all_comms = comms_order_2+comms+basis+comms_order_3+comms_order_4+comms_order_5+comms_order_6+comms_order_7+comms_order_8\n",
    "len(all_comms)"
   ]
  },
  {
   "cell_type": "code",
   "execution_count": 67,
   "metadata": {},
   "outputs": [
    {
     "name": "stdout",
     "output_type": "stream",
     "text": [
      "64\n",
      "56\n",
      "[Pauli('-IIXXYY'), Pauli('-IIXYXY'), Pauli('-IIYXXY'), Pauli('-IIXYYX'), Pauli('-IIYXYX'), Pauli('-IIYYXX'), Pauli('-XXYYII'), Pauli('-XYXYII'), Pauli('-YXXYII'), Pauli('-XYYXII'), Pauli('-YXYXII'), Pauli('-YYXXII'), Pauli('-IIXXXY'), Pauli('-IIXXYX'), Pauli('-IIXYXX'), Pauli('-XXXYII'), Pauli('-IIYXXX'), Pauli('-XXYXII'), Pauli('-XYXXII'), Pauli('-YXXXII'), Pauli('-IIXXXX'), Pauli('-XXXXII'), Pauli('-IIXYYY'), Pauli('-IIYXYY'), Pauli('-IIYYXY'), Pauli('-IIYYYX'), Pauli('-XYYYII'), Pauli('-YXYYII'), Pauli('-YYXYII'), Pauli('-YYYXII'), Pauli('-IIYYYY'), Pauli('-YYYYII'), Pauli('-XXXYZZ'), Pauli('-XXYXZZ'), Pauli('-ZZXYXX'), Pauli('-ZZYXXX'), Pauli('-XXXXZZ'), Pauli('-XXYYZZ'), Pauli('-XYXYZZ'), Pauli('-YXXYZZ'), Pauli('-XYYXZZ'), Pauli('-YXYXZZ'), Pauli('-ZZXYXY'), Pauli('-ZZYXXY'), Pauli('-ZZXYYX'), Pauli('-ZZYXYX'), Pauli('-ZZXXXX'), Pauli('-ZZYYXX'), Pauli('-XYXXZZ'), Pauli('-YXXXZZ'), Pauli('-XYYYZZ'), Pauli('-YXYYZZ'), Pauli('-YYXYZZ'), Pauli('-ZZXYYY'), Pauli('-YYYXZZ'), Pauli('-ZZYXYY'), Pauli('-ZZXXXY'), Pauli('-ZZYYXY'), Pauli('-ZZXXYX'), Pauli('-ZZYYYX'), Pauli('-YYXXZZ'), Pauli('-YYYYZZ'), Pauli('-ZZXXYY'), Pauli('-ZZYYYY')]\n",
      "[Pauli('XXIZXX'), Pauli('XXZIXX'), Pauli('IIIIIZ'), Pauli('IIIIZI'), Pauli('IIIZII'), Pauli('IIZIII'), Pauli('IZIIII'), Pauli('ZIIIII'), Pauli('XXIZXY'), Pauli('XXZIXY'), Pauli('XXIZYX'), Pauli('XXZIYX'), Pauli('XYIZXX'), Pauli('YXIZXX'), Pauli('XYZIXX'), Pauli('YXZIXX'), Pauli('IIIZZZ'), Pauli('XXIZYY'), Pauli('IIZIZZ'), Pauli('XXZIYY'), Pauli('IIZZIZ'), Pauli('XYIZXY'), Pauli('YXIZXY'), Pauli('XYZIXY'), Pauli('YXZIXY'), Pauli('IIZZZI'), Pauli('XYIZYX'), Pauli('YXIZYX'), Pauli('XYZIYX'), Pauli('YXZIYX'), Pauli('YYIZXX'), Pauli('IZZZII'), Pauli('ZIZZII'), Pauli('ZZIZII'), Pauli('YYZIXX'), Pauli('ZZZIII'), Pauli('XYIZYY'), Pauli('YXIZYY'), Pauli('XYZIYY'), Pauli('YXZIYY'), Pauli('YYIZXY'), Pauli('YYZIXY'), Pauli('YYIZYX'), Pauli('YYZIYX'), Pauli('YYIZYY'), Pauli('YYZIYY'), Pauli('IZIIZZ'), Pauli('ZIIIZZ'), Pauli('IZZZZZ'), Pauli('ZIZZZZ'), Pauli('ZZIZZZ'), Pauli('ZZZIZZ'), Pauli('ZZIIIZ'), Pauli('ZZZZIZ'), Pauli('ZZIIZI'), Pauli('ZZZZZI')]\n"
     ]
    }
   ],
   "source": [
    "list_minus = []\n",
    "list_plus = []\n",
    "\n",
    "for element in all_comms:\n",
    "    new = -Pauli(\"XXXXXX\").compose(element.transpose().compose(Pauli(\"XXXXXX\")))\n",
    "    if \"-\" in new.to_label():\n",
    "        list_minus.append(new)\n",
    "    else:\n",
    "        list_plus.append(new)\n",
    "\n",
    "print(len(list_minus))\n",
    "print(len(list_plus))\n",
    "print(list_minus)\n",
    "print(list_plus)"
   ]
  },
  {
   "cell_type": "code",
   "execution_count": 61,
   "metadata": {},
   "outputs": [],
   "source": [
    "dato1 = Pauli(\"ZY\")\n",
    "dato2 = Pauli(\"YZ\")"
   ]
  },
  {
   "cell_type": "code",
   "execution_count": 62,
   "metadata": {},
   "outputs": [
    {
     "data": {
      "text/plain": [
       "True"
      ]
     },
     "execution_count": 62,
     "metadata": {},
     "output_type": "execute_result"
    }
   ],
   "source": [
    "dato1.commutes(dato2)"
   ]
  },
  {
   "cell_type": "code",
   "execution_count": null,
   "metadata": {},
   "outputs": [],
   "source": []
  }
 ],
 "metadata": {
  "interpreter": {
   "hash": "aee8b7b246df8f9039afb4144a1f6fd8d2ca17a180786b69acc140d282b71a49"
  },
  "kernelspec": {
   "display_name": "Python 3.10.2 64-bit",
   "language": "python",
   "name": "python3"
  },
  "language_info": {
   "codemirror_mode": {
    "name": "ipython",
    "version": 3
   },
   "file_extension": ".py",
   "mimetype": "text/x-python",
   "name": "python",
   "nbconvert_exporter": "python",
   "pygments_lexer": "ipython3",
   "version": "3.10.2"
  },
  "orig_nbformat": 4
 },
 "nbformat": 4,
 "nbformat_minor": 2
}
