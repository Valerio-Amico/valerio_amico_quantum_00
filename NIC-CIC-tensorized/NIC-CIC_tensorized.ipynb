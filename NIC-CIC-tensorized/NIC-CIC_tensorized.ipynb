{
 "cells": [
  {
   "cell_type": "code",
   "execution_count": 63,
   "metadata": {},
   "outputs": [],
   "source": [
    "from qiskit import QuantumCircuit, QuantumRegister, ClassicalRegister\n",
    "from qiskit.circuit import Parameter\n",
    "from lib import utilities\n",
    "from lib.utilities import B, get_M, fidelity_count\n",
    "from qiskit.ignis.verification.tomography import state_tomography_circuits\n",
    "import numpy as np\n",
    "from qiskit.ignis.verification.tomography import StateTomographyFitter\n",
    "from qiskit.quantum_info import state_fidelity, Operator\n",
    "from qiskit.opflow import One, Zero\n",
    "import copy\n",
    "from qiskit.ignis.mitigation.measurement import  complete_meas_cal\n",
    "from qiskit.utils.mitigation.fitters import CompleteMeasFitter"
   ]
  },
  {
   "cell_type": "code",
   "execution_count": 64,
   "metadata": {},
   "outputs": [],
   "source": [
    "# next we assume these values of TIME and N_STEPS for all the codes \n",
    "N_STEPS = 99\n",
    "# since the calibration dosn't depend on time\n",
    "# we can chose different time for evolution and calibration.\n",
    "# we explain it in mitigation chapter.\n",
    "TIME = np.pi\n",
    "CALIBRATION_TIME = np.pi\n",
    "# the initial state is fixed to 110"
   ]
  },
  {
   "cell_type": "code",
   "execution_count": 65,
   "metadata": {},
   "outputs": [
    {
     "data": {
      "image/png": "[encoded data removed]",
      "text/plain": [
       "<Figure size 461.785x279.7 with 1 Axes>"
      ]
     },
     "execution_count": 65,
     "metadata": {},
     "output_type": "execute_result"
    }
   ],
   "source": [
    "theta_1, phi_1, omega_1  = Parameter(r'$\\theta_1$'), Parameter(r'$\\phi_1$'), Parameter(r'$\\omega_1$')\n",
    "M1_qc = get_M(theta_1, phi_1, omega_1, name=r\"$M_1$\")\n",
    "\n",
    "theta_2, phi_2, omega_2  = Parameter(r'$\\theta_2$'), Parameter(r'$\\phi_2$'), Parameter(r'$\\omega_2$')\n",
    "M2_qc = get_M(theta_2, phi_2, omega_2, name=r\"$M_2$\")\n",
    "\n",
    "#building the circuit for the single state decomposition (SSD)\n",
    "qr_U_best_SSD = QuantumRegister(3, name = \"q_\")\n",
    "qc_U_best_SSD = QuantumCircuit(qr_U_best_SSD, name = r\"$U_{best}$\")\n",
    "\n",
    "qc_U_best_SSD.append(M1_qc, [qr_U_best_SSD[0], qr_U_best_SSD[1]])\n",
    "qc_U_best_SSD.append(M2_qc, [qr_U_best_SSD[1], qr_U_best_SSD[2]])\n",
    "\n",
    "qc_U_best_SSD.draw(output = \"mpl\", style={\"figwidth\":5, \"fontsize\":11})"
   ]
  },
  {
   "cell_type": "code",
   "execution_count": 66,
   "metadata": {},
   "outputs": [
    {
     "data": {
      "image/png": "[encoded data removed]",
      "text/plain": [
       "<Figure size 646.499x267.656 with 1 Axes>"
      ]
     },
     "execution_count": 66,
     "metadata": {},
     "output_type": "execute_result"
    }
   ],
   "source": [
    "state_labels = ['000', '001', '010', '011', '100', '101', '110', '111']  \n",
    "###################################################################\n",
    "######################## Evolution tomography circuits preparation\n",
    "# building numerically the trotter step matrix, and the whole operator (trotter step)^n_steps.\n",
    "trotterized = utilities.trotterized_matrix(TIME, N_STEPS)\n",
    "# getting the parameters for the gates M1 and M2 for the SSD, solving the equations described in 1.1).\n",
    "theta_1_, theta_2_, phi_1_, phi_2_, omega_1_, omega_2_ = utilities.get_gates_parameters(trotterized, \n",
    "                                                                                        initial_state={\"110\": 1.0})\n",
    "# substituting the parameters with the just computed\n",
    "qc_U_best_SSD = qc_U_best_SSD.bind_parameters({\n",
    "    theta_1: theta_1_,\n",
    "    theta_2: theta_2_,\n",
    "    phi_1: phi_1_,\n",
    "    phi_2: phi_2_,\n",
    "    omega_1: omega_1_,\n",
    "    omega_2: omega_2_\n",
    "})\n",
    "\n",
    "# building the tomography circuits\n",
    "qr_SSD = QuantumRegister(3, name=\"q_\")\n",
    "qc_SSD = QuantumCircuit(qr_SSD, name=r\"$U_{best}$\")\n",
    "# prepare the initial state |110>\n",
    "qc_SSD.x([qr_SSD[1],qr_SSD[2]])\n",
    "qc_SSD.append(qc_U_best_SSD, qr_SSD)\n",
    "# make the tomography circuits\n",
    "qcs_tomo_SSD = state_tomography_circuits(qc_SSD, qr_SSD)\n",
    "qcs_tomo_SSD[3].draw(output=\"mpl\", style={\"figwidth\":7, \"fontsize\":12})"
   ]
  },
  {
   "cell_type": "code",
   "execution_count": 67,
   "metadata": {},
   "outputs": [
    {
     "name": "stdout",
     "output_type": "stream",
     "text": [
      "['000', '001', '000', '010', '000', '100']\n"
     ]
    },
    {
     "data": {
      "image/png": "[encoded data removed]",
      "text/plain": [
       "<Figure size 277.727x264.88 with 1 Axes>"
      ]
     },
     "execution_count": 67,
     "metadata": {},
     "output_type": "execute_result"
    }
   ],
   "source": [
    "##################################################################\n",
    "########## building the tensorized calibration circuits for both NIC and CIC\n",
    "calibration_circuit_SSD, _ = utilities.get_evolution_circuit(CALIBRATION_TIME, N_STEPS, method=\"SSD\")\n",
    "calib_circuits_SSD_NIC, labels = utilities.get_tensorized_calibration_circuits(calibration_circuit_SSD, method=\"NIC\", eigenvector=\"000\")\n",
    "calib_circuits_SSD_CIC, labels = utilities.get_tensorized_calibration_circuits(calibration_circuit_SSD, method=\"CIC\")\n",
    "\n",
    "print(labels)\n",
    "calib_circuits_SSD_CIC[1].draw(output=\"mpl\")"
   ]
  },
  {
   "cell_type": "code",
   "execution_count": 68,
   "metadata": {},
   "outputs": [
    {
     "name": "stderr",
     "output_type": "stream",
     "text": [
      "ibmqfactory.load_account:WARNING:2022-05-08 13:57:39,613: Credentials are already in use. The existing account in the session will be replaced.\n"
     ]
    }
   ],
   "source": [
    "\n",
    "from qiskit import IBMQ, execute\n",
    "from qiskit.providers.aer import QasmSimulator\n",
    "\n",
    "IBMQ.load_account()\n",
    "provider = IBMQ.get_provider(hub='ibm-q-community',\n",
    "                            group='ibmquantumawards', \n",
    "                            project='open-science-22')\n",
    "backend_sim_noisy_jakarta = QasmSimulator.from_backend(provider.get_backend('ibmq_jakarta'))\n",
    "backend_real_jakarta = provider.get_backend('ibmq_jakarta')\n",
    "\n",
    "#################################################################\n",
    "########################################### execute all the jobs\n",
    "BACKEND = backend_real_jakarta\n",
    "shots = 20000\n",
    "\n",
    "job_SSD_NIC=execute(calib_circuits_SSD_NIC, backend = BACKEND, shots=shots, initial_layout=[1,3,5])\n",
    "job_SSD_CIC=execute(calib_circuits_SSD_CIC, backend = BACKEND, shots=shots, initial_layout=[1,3,5])\n",
    "job_tomography_SSD=execute(qcs_tomo_SSD, backend = BACKEND, shots=shots, initial_layout=[1,3,5])"
   ]
  },
  {
   "cell_type": "code",
   "execution_count": 88,
   "metadata": {},
   "outputs": [
    {
     "name": "stdout",
     "output_type": "stream",
     "text": [
      "0\n",
      "[[0.971   0.06975]\n",
      " [0.029   0.93025]]\n",
      "2\n",
      "[[0.9534 0.7925]\n",
      " [0.0466 0.2075]]\n",
      "4\n",
      "[[0.94105 0.73975]\n",
      " [0.05895 0.26025]]\n"
     ]
    }
   ],
   "source": [
    "#################################################################\n",
    "#################################### Mititgation of the raw results\n",
    "\n",
    "# building the measured caliration martices from the results\n",
    "\n",
    "def occurences_to_matrix_2x2(counts_dict_0, counts_dict_1):\n",
    "    matrix = np.zeros([2,2])\n",
    "    for key in counts_dict_0:\n",
    "        matrix[int(key, 2), 0] = counts_dict_0[key]\n",
    "    for key in counts_dict_1:\n",
    "        matrix[int(key, 2), 1] = counts_dict_1[key]\n",
    "    return matrix/sum(counts_dict_0.values())\n",
    "\n",
    "n_qubits = 3\n",
    "U_tilde_SSD_CIC = 1\n",
    "U_tilde_SSD_NIC = 1\n",
    "i=4\n",
    "for i in np.arange(2*n_qubits, step=2):\n",
    "    print(i)\n",
    "    counts_SSD_NIC = job_SSD_NIC.result().get_counts()\n",
    "    matrix2x2_NIC = occurences_to_matrix_2x2(counts_SSD_NIC[i], counts_SSD_NIC[i+1])\n",
    "    U_tilde_SSD_NIC = np.kron(U_tilde_SSD_NIC, matrix2x2_NIC)\n",
    "\n",
    "    counts_SSD_CIC = job_SSD_CIC.result().get_counts()\n",
    "    matrix2x2_CIC = occurences_to_matrix_2x2(counts_SSD_CIC[i], counts_SSD_CIC[i+1])\n",
    "    U_tilde_SSD_CIC = np.kron(U_tilde_SSD_CIC, matrix2x2_CIC)\n",
    "    print(matrix2x2_CIC)\n",
    "\n",
    "# make a fake meas_fitter\n",
    "\n",
    "qr_cal = QuantumRegister(3)\n",
    "calib_circuits_qiskit, state_labels = complete_meas_cal(qubit_list=[0,1,2], qr=qr_cal, circlabel='mcal')\n",
    "job_qiskit=execute(calib_circuits_qiskit, backend = backend_sim_noisy_jakarta, shots=shots, initial_layout=[1,3,5])\n",
    "meas_fitters_fake = CompleteMeasFitter(job_qiskit.result(), state_labels=state_labels)"
   ]
  },
  {
   "cell_type": "code",
   "execution_count": 92,
   "metadata": {},
   "outputs": [
    {
     "data": {
      "text/latex": [
       "$\\displaystyle \\left[\\begin{matrix}0.87117835497 & 0.68482459815 & 0.724154443375 & 0.569250570625 & 0.0625794956325 & 0.0491931160875 & 0.05201830321875 & 0.04089106828125\\\\0.05457304503 & 0.24092680185 & 0.045363056625 & 0.200266929375 & 0.0039201543675 & 0.0173065339125 & 0.00325857178125 & 0.01438580671875\\\\0.04258119503 & 0.03347265185 & 0.189605106625 & 0.149046679375 & 0.0030587418675 & 0.0024044464125 & 0.01361993428125 & 0.01070649421875\\\\0.00266740497 & 0.01177594815 & 0.011877393375 & 0.052435820625 & 0.0001916081325 & 0.0008459035875 & 0.00085319071875 & 0.00376663078125\\\\0.02601871503 & 0.02045305185 & 0.021627681625 & 0.017001304375 & 0.8346175743675 & 0.6560845339125 & 0.69376382178125 & 0.54536080671875\\\\0.00162988497 & 0.00719554815 & 0.001354818375 & 0.005981195625 & 0.0522827756325 & 0.2308158160875 & 0.04345930321875 & 0.19186231828125\\\\0.00127173497 & 0.00099969815 & 0.005662768375 & 0.004451445625 & 0.0407941881325 & 0.0320679035875 & 0.18164794071875 & 0.14279163078125\\\\7.966503 \\cdot 10^{-5} & 0.00035170185 & 0.000354731625 & 0.001566054375 & 0.0025554618675 & 0.0112817464125 & 0.01137893428125 & 0.05023524421875\\end{matrix}\\right]$"
      ],
      "text/plain": [
       "Matrix([\n",
       "[0.87117835497, 0.68482459815, 0.724154443375, 0.569250570625, 0.0625794956325, 0.0491931160875, 0.05201830321875, 0.04089106828125],\n",
       "[0.05457304503, 0.24092680185, 0.045363056625, 0.200266929375, 0.0039201543675, 0.0173065339125, 0.00325857178125, 0.01438580671875],\n",
       "[0.04258119503, 0.03347265185, 0.189605106625, 0.149046679375, 0.0030587418675, 0.0024044464125, 0.01361993428125, 0.01070649421875],\n",
       "[0.00266740497, 0.01177594815, 0.011877393375, 0.052435820625, 0.0001916081325, 0.0008459035875, 0.00085319071875, 0.00376663078125],\n",
       "[0.02601871503, 0.02045305185, 0.021627681625, 0.017001304375, 0.8346175743675, 0.6560845339125, 0.69376382178125, 0.54536080671875],\n",
       "[0.00162988497, 0.00719554815, 0.001354818375, 0.005981195625, 0.0522827756325, 0.2308158160875, 0.04345930321875, 0.19186231828125],\n",
       "[0.00127173497, 0.00099969815, 0.005662768375, 0.004451445625, 0.0407941881325, 0.0320679035875, 0.18164794071875, 0.14279163078125],\n",
       "[  7.966503e-5, 0.00035170185, 0.000354731625, 0.001566054375, 0.0025554618675, 0.0112817464125, 0.01137893428125, 0.05023524421875]])"
      ]
     },
     "execution_count": 92,
     "metadata": {},
     "output_type": "execute_result"
    }
   ],
   "source": [
    "from sympy import Matrix\n",
    "Matrix(U_tilde_SSD_CIC)"
   ]
  },
  {
   "cell_type": "code",
   "execution_count": 90,
   "metadata": {},
   "outputs": [],
   "source": [
    "\n",
    "\n",
    "\n",
    "# U_ideal is the unitary matrix of the circuit qc_U, we will use it for the CIC method.\n",
    "U_ideal_SSD = Operator(calibration_circuit_SSD)\n",
    "# defining the tomography basis circuits.\n",
    "qr_basi = QuantumRegister(3)\n",
    "qc_basi = QuantumCircuit(qr_basi)\n",
    "tomography_basis = state_tomography_circuits(qc_basi, qr_basi)\n",
    "\n",
    "# compute the probability matrix of U_ideal and the inverse of it.\n",
    "U_ideal_SSD_abs = np.abs(U_ideal_SSD)**2\n",
    "U_ideal_SSD_abs_inv = np.linalg.inv(U_ideal_SSD_abs)\n",
    "# built the calibration matrix in the computational basis for both CIC and NIC methods.\n",
    "C_SSD_CIC = np.dot(U_tilde_SSD_CIC, U_ideal_SSD_abs_inv)\n",
    "C_SSD_NIC = U_tilde_SSD_NIC\n",
    "# building the fast tomography circuits calibration.\n",
    "# next are computed the calibration matrices in all the tomography basis,\n",
    "# and after are applyed to the raw result for both CIC and NIC.\n",
    "raw_result_SSD = job_tomography_SSD.result()\n",
    "NIC_result_SSD = copy.deepcopy(raw_result_SSD)\n",
    "CIC_result_SSD = copy.deepcopy(raw_result_SSD)\n",
    "for i, basis in enumerate(tomography_basis):\n",
    "    basis.remove_final_measurements()\n",
    "    # building the unitary matrix of the basis and the inverse.\n",
    "    base_matrix_amplitudes = Operator(basis)\n",
    "    base_matrix_amplitudes_inverse = np.linalg.inv(base_matrix_amplitudes)\n",
    "    # building the probability matrices.\n",
    "    base_matrix = np.abs(base_matrix_amplitudes)**2\n",
    "    base_matrix_inverse = np.abs(base_matrix_amplitudes_inverse)**2\n",
    "    # change the basis of the calibration matrices for NIC and CIC.\n",
    "    C_basis_CIC = np.linalg.multi_dot([base_matrix, C_SSD_CIC,  base_matrix_inverse])\n",
    "    C_basis_NIC = np.linalg.multi_dot([base_matrix, C_SSD_NIC,  base_matrix_inverse])\n",
    "    # changing the meas_fitter_SSD_NIC calibration matrix with the new calibration matrix. \n",
    "    meas_fitter_NIC_aus = copy.deepcopy(meas_fitters_fake)\n",
    "    meas_fitter_NIC_aus._tens_fitt.cal_matrices[0]=C_basis_NIC\n",
    "    # changing the meas_fitter_SSD_CIC calibration matrix with the new calibration matrix. \n",
    "    meas_fitter_CIC_aus = copy.deepcopy(meas_fitters_fake)\n",
    "    meas_fitter_CIC_aus._tens_fitt.cal_matrices[0]=C_basis_CIC\n",
    "    # computing the new counts for both the mitigation techniques\n",
    "    old_counts=raw_result_SSD.get_counts(basis)\n",
    "    new_counts_NIC = meas_fitter_NIC_aus.filter.apply(old_counts, method=\"least_squares\")\n",
    "    new_counts_CIC = meas_fitter_CIC_aus.filter.apply(old_counts, method=\"least_squares\")\n",
    "    NIC_result_SSD.results[i].data.counts = new_counts_NIC\n",
    "    CIC_result_SSD.results[i].data.counts = new_counts_CIC"
   ]
  },
  {
   "cell_type": "code",
   "execution_count": 91,
   "metadata": {},
   "outputs": [
    {
     "name": "stdout",
     "output_type": "stream",
     "text": [
      "decomposition method: Single State Decomposition\n",
      "evolution time = 1.0 pi\n",
      "Number of trotter steps = 99\n",
      "\n",
      "fidelity of raw results: 0.8212480909103312 \n",
      "fidelity with NIC method: 0.9910392479257835\n",
      "fidelity with CIC method: 8.30209291475481e-06   this is the fidelity score for the challenge.\n"
     ]
    }
   ],
   "source": [
    "target_state = (One^One^Zero).to_matrix()  # (|q_5,q_3,q_1> = |110>)\n",
    "# compute the fidelity\n",
    "fid_raw = fidelity_count(raw_result_SSD, qcs_tomo_SSD, target_state)\n",
    "fid_NIC = fidelity_count(NIC_result_SSD, qcs_tomo_SSD, target_state)\n",
    "fid_CIC = fidelity_count(CIC_result_SSD, qcs_tomo_SSD, target_state)\n",
    "# print the result\n",
    "print(f\"decomposition method: Single State Decomposition\\nevolution time = {TIME/np.pi:.3} pi\\nNumber of trotter steps = {N_STEPS}\\n\")\n",
    "print(f\"fidelity of raw results: {fid_raw} \\nfidelity with NIC method: {fid_NIC}\\nfidelity with CIC method: {fid_CIC}   this is the fidelity score for the challenge.\")"
   ]
  },
  {
   "cell_type": "code",
   "execution_count": null,
   "metadata": {},
   "outputs": [],
   "source": []
  },
  {
   "cell_type": "code",
   "execution_count": null,
   "metadata": {},
   "outputs": [],
   "source": []
  }
 ],
 "metadata": {
  "language_info": {
   "name": "python"
  },
  "orig_nbformat": 4
 },
 "nbformat": 4,
 "nbformat_minor": 2
}
