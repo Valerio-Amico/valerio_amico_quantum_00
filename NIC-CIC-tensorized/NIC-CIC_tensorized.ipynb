{
 "cells": [
  {
   "cell_type": "code",
   "execution_count": 1,
   "metadata": {},
   "outputs": [],
   "source": [
    "from qiskit import QuantumCircuit, QuantumRegister, ClassicalRegister\n",
    "from qiskit.circuit import Parameter\n",
    "import sys  \n",
    "sys.path.insert(0, '/Users/valerio/Documents/project_IBM_01/IBM_git/lib')\n",
    "import utilities\n",
    "from utilities import B, get_M, fidelity_count\n",
    "from qiskit.ignis.verification.tomography import state_tomography_circuits\n",
    "import numpy as np\n",
    "from qiskit.ignis.verification.tomography import StateTomographyFitter\n",
    "from qiskit.quantum_info import state_fidelity, Operator\n",
    "from qiskit.opflow import One, Zero\n",
    "import copy\n",
    "from qiskit.ignis.mitigation.measurement import  complete_meas_cal\n",
    "from qiskit.utils.mitigation.fitters import CompleteMeasFitter"
   ]
  },
  {
   "cell_type": "code",
   "execution_count": 2,
   "metadata": {},
   "outputs": [],
   "source": [
    "# next we assume these values of TIME and N_STEPS for all the codes \n",
    "N_STEPS = 99\n",
    "# since the calibration dosn't depend on time\n",
    "# we can chose different time for evolution and calibration.\n",
    "# we explain it in mitigation chapter.\n",
    "TIME = np.pi/3\n",
    "CALIBRATION_TIME = np.pi/3\n",
    "# the initial state is fixed to 110"
   ]
  },
  {
   "cell_type": "code",
   "execution_count": 3,
   "metadata": {},
   "outputs": [
    {
     "data": {
      "image/png": "[encoded data removed]",
      "text/plain": [
       "<Figure size 461.785x279.7 with 1 Axes>"
      ]
     },
     "execution_count": 3,
     "metadata": {},
     "output_type": "execute_result"
    }
   ],
   "source": [
    "theta_1, phi_1, omega_1  = Parameter(r'$\\theta_1$'), Parameter(r'$\\phi_1$'), Parameter(r'$\\omega_1$')\n",
    "M1_qc = get_M(theta_1, phi_1, omega_1, name=r\"$M_1$\")\n",
    "\n",
    "theta_2, phi_2, omega_2  = Parameter(r'$\\theta_2$'), Parameter(r'$\\phi_2$'), Parameter(r'$\\omega_2$')\n",
    "M2_qc = get_M(theta_2, phi_2, omega_2, name=r\"$M_2$\")\n",
    "\n",
    "#building the circuit for the single state decomposition (SSD)\n",
    "qr_U_best_SSD = QuantumRegister(3, name = \"q_\")\n",
    "qc_U_best_SSD = QuantumCircuit(qr_U_best_SSD, name = r\"$U_{best}$\")\n",
    "\n",
    "qc_U_best_SSD.append(M1_qc, [qr_U_best_SSD[0], qr_U_best_SSD[1]])\n",
    "qc_U_best_SSD.append(M2_qc, [qr_U_best_SSD[1], qr_U_best_SSD[2]])\n",
    "\n",
    "qc_U_best_SSD.draw(output = \"mpl\", style={\"figwidth\":5, \"fontsize\":11})"
   ]
  },
  {
   "cell_type": "code",
   "execution_count": 4,
   "metadata": {},
   "outputs": [
    {
     "data": {
      "image/png": "[encoded data removed]",
      "text/plain": [
       "<Figure size 646.499x295.899 with 1 Axes>"
      ]
     },
     "execution_count": 4,
     "metadata": {},
     "output_type": "execute_result"
    }
   ],
   "source": [
    "state_labels = ['000', '001', '010', '011', '100', '101', '110', '111']  \n",
    "###################################################################\n",
    "######################## Evolution tomography circuits preparation\n",
    "# building numerically the trotter step matrix, and the whole operator (trotter step)^n_steps.\n",
    "trotterized = utilities.trotterized_matrix(TIME, N_STEPS)\n",
    "# getting the parameters for the gates M1 and M2 for the SSD, solving the equations described in 1.1).\n",
    "theta_1_, theta_2_, phi_1_, phi_2_, omega_1_, omega_2_ = utilities.get_gates_parameters(trotterized, \n",
    "                                                                                        initial_state={\"110\": 1.0})\n",
    "# substituting the parameters with the just computed\n",
    "qc_U_best_SSD = qc_U_best_SSD.bind_parameters({\n",
    "    theta_1: theta_1_,\n",
    "    theta_2: theta_2_,\n",
    "    phi_1: phi_1_,\n",
    "    phi_2: phi_2_,\n",
    "    omega_1: omega_1_,\n",
    "    omega_2: omega_2_\n",
    "})\n",
    "\n",
    "# building the tomography circuits\n",
    "qr_SSD = QuantumRegister(3, name=\"q_\")\n",
    "qc_SSD = QuantumCircuit(qr_SSD, name=r\"$U_{best}$\")\n",
    "# prepare the initial state |110>\n",
    "qc_SSD.x([qr_SSD[1],qr_SSD[2]])\n",
    "qc_SSD.append(qc_U_best_SSD, qr_SSD)\n",
    "# make the tomography circuits\n",
    "qcs_tomo_SSD = state_tomography_circuits(qc_SSD, qr_SSD)\n",
    "qcs_tomo_SSD[3].draw(output=\"mpl\", style={\"figwidth\":7, \"fontsize\":12})"
   ]
  },
  {
   "cell_type": "code",
   "execution_count": 5,
   "metadata": {},
   "outputs": [
    {
     "name": "stdout",
     "output_type": "stream",
     "text": [
      "['000', '001', '000', '010', '000', '100']\n"
     ]
    },
    {
     "data": {
      "image/png": "[encoded data removed]",
      "text/plain": [
       "<Figure size 277.727x264.88 with 1 Axes>"
      ]
     },
     "execution_count": 5,
     "metadata": {},
     "output_type": "execute_result"
    }
   ],
   "source": [
    "##################################################################\n",
    "########## building the tensorized calibration circuits for both NIC and CIC\n",
    "calibration_circuit_SSD, _ = utilities.get_evolution_circuit(CALIBRATION_TIME, N_STEPS, method=\"SSD\")\n",
    "calib_circuits_SSD_NIC, labels = utilities.get_tensorized_calibration_circuits(calibration_circuit_SSD, method=\"NIC\", eigenvector=\"000\")\n",
    "calib_circuits_SSD_CIC, labels = utilities.get_tensorized_calibration_circuits(calibration_circuit_SSD, method=\"CIC\")\n",
    "\n",
    "print(labels)\n",
    "calib_circuits_SSD_CIC[1].draw(output=\"mpl\")"
   ]
  },
  {
   "cell_type": "code",
   "execution_count": 6,
   "metadata": {},
   "outputs": [],
   "source": [
    "\n",
    "from qiskit import IBMQ, execute\n",
    "from qiskit.providers.aer import QasmSimulator\n",
    "\n",
    "IBMQ.load_account()\n",
    "provider = IBMQ.get_provider(hub='ibm-q-community',\n",
    "                            group='ibmquantumawards', \n",
    "                            project='open-science-22')\n",
    "backend_sim_noisy_jakarta = QasmSimulator.from_backend(provider.get_backend('ibmq_jakarta'))\n",
    "backend_real_jakarta = provider.get_backend('ibmq_jakarta')\n",
    "\n",
    "#################################################################\n",
    "########################################### execute all the jobs\n",
    "BACKEND = backend_sim_noisy_jakarta\n",
    "shots = 20000\n",
    "\n",
    "job_SSD_NIC=execute(calib_circuits_SSD_NIC, backend = BACKEND, shots=shots, initial_layout=[1,3,5])\n",
    "job_SSD_CIC=execute(calib_circuits_SSD_CIC, backend = BACKEND, shots=shots, initial_layout=[1,3,5])\n",
    "job_tomography_SSD=execute(qcs_tomo_SSD, backend = BACKEND, shots=shots, initial_layout=[1,3,5])"
   ]
  },
  {
   "cell_type": "code",
   "execution_count": 7,
   "metadata": {},
   "outputs": [
    {
     "name": "stdout",
     "output_type": "stream",
     "text": [
      "0\n",
      "[[0.96295 0.7369 ]\n",
      " [0.03705 0.2631 ]]\n",
      "2\n",
      "[[0.97765 0.9768 ]\n",
      " [0.02235 0.0232 ]]\n",
      "4\n",
      "[[0.92055 0.9218 ]\n",
      " [0.07945 0.0782 ]]\n"
     ]
    }
   ],
   "source": [
    "#################################################################\n",
    "#################################### Mititgation of the raw results\n",
    "\n",
    "# building the measured caliration martices from the results\n",
    "\n",
    "def occurences_to_matrix_2x2(counts_dict_0, counts_dict_1):\n",
    "    matrix = np.zeros([2,2])\n",
    "    for key in counts_dict_0:\n",
    "        matrix[int(key, 2), 0] = counts_dict_0[key]\n",
    "    for key in counts_dict_1:\n",
    "        matrix[int(key, 2), 1] = counts_dict_1[key]\n",
    "    return matrix/sum(counts_dict_0.values())\n",
    "\n",
    "n_qubits = 3\n",
    "U_tilde_SSD_CIC = 1\n",
    "U_tilde_SSD_NIC = 1\n",
    "i=4\n",
    "for i in np.arange(2*n_qubits, step=2):\n",
    "    print(i)\n",
    "    counts_SSD_NIC = job_SSD_NIC.result().get_counts()\n",
    "    matrix2x2_NIC = occurences_to_matrix_2x2(counts_SSD_NIC[i], counts_SSD_NIC[i+1])\n",
    "    U_tilde_SSD_NIC = np.kron(U_tilde_SSD_NIC, matrix2x2_NIC)\n",
    "\n",
    "    counts_SSD_CIC = job_SSD_CIC.result().get_counts()\n",
    "    matrix2x2_CIC = occurences_to_matrix_2x2(counts_SSD_CIC[i], counts_SSD_CIC[i+1])\n",
    "    U_tilde_SSD_CIC = np.kron(U_tilde_SSD_CIC, matrix2x2_CIC)\n",
    "    print(matrix2x2_CIC)\n",
    "\n",
    "# make a fake meas_fitter\n",
    "\n",
    "qr_cal = QuantumRegister(3)\n",
    "calib_circuits_qiskit, state_labels = complete_meas_cal(qubit_list=[0,1,2], qr=qr_cal, circlabel='mcal')\n",
    "job_qiskit=execute(calib_circuits_qiskit, backend = backend_sim_noisy_jakarta, shots=shots, initial_layout=[1,3,5])\n",
    "meas_fitters_fake = CompleteMeasFitter(job_qiskit.result(), state_labels=state_labels)"
   ]
  },
  {
   "cell_type": "code",
   "execution_count": 8,
   "metadata": {},
   "outputs": [
    {
     "data": {
      "text/latex": [
       "$\\displaystyle \\left[\\begin{matrix}0.866631607537125 & 0.8678083926215 & 0.865878130458 & 0.867053892408 & 0.66319209885675 & 0.664092636713 & 0.662615498556 & 0.663515253456\\\\0.074796459962875 & 0.0736196748785 & 0.074731429542 & 0.073555667592 & 0.05723818614325 & 0.056337648287 & 0.057188421444 & 0.056288666544\\\\0.019812014962875 & 0.0198389173785 & 0.020565492042 & 0.020593417592 & 0.01516119614325 & 0.015181783287 & 0.015737796444 & 0.015759166544\\\\0.001709917537125 & 0.0016830151215 & 0.001774947958 & 0.001747022408 & 0.00130851885675 & 0.001287931713 & 0.001358283556 & 0.001336913456\\\\0.033344099962875 & 0.0333893773785 & 0.033315109542 & 0.033360347592 & 0.23678360864325 & 0.237105133287 & 0.236577741444 & 0.236898986544\\\\0.002877832537125 & 0.0028325551215 & 0.002875330458 & 0.002830092408 & 0.02043610635675 & 0.020114581713 & 0.020418338556 & 0.020097093456\\\\0.000762277537125 & 0.0007633126215 & 0.000791267958 & 0.000792342408 & 0.00541309635675 & 0.005420446713 & 0.005618963556 & 0.005626593456\\\\6.5789962875 \\cdot 10^{-5} & 6.47548785 \\cdot 10^{-5} & 6.8292042 \\cdot 10^{-5} & 6.7217592 \\cdot 10^{-5} & 0.00046718864325 & 0.000459838287 & 0.000484956444 & 0.000477326544\\end{matrix}\\right]$"
      ],
      "text/plain": [
       "Matrix([\n",
       "[0.866631607537125, 0.8678083926215, 0.865878130458, 0.867053892408, 0.66319209885675, 0.664092636713, 0.662615498556, 0.663515253456],\n",
       "[0.074796459962875, 0.0736196748785, 0.074731429542, 0.073555667592, 0.05723818614325, 0.056337648287, 0.057188421444, 0.056288666544],\n",
       "[0.019812014962875, 0.0198389173785, 0.020565492042, 0.020593417592, 0.01516119614325, 0.015181783287, 0.015737796444, 0.015759166544],\n",
       "[0.001709917537125, 0.0016830151215, 0.001774947958, 0.001747022408, 0.00130851885675, 0.001287931713, 0.001358283556, 0.001336913456],\n",
       "[0.033344099962875, 0.0333893773785, 0.033315109542, 0.033360347592, 0.23678360864325, 0.237105133287, 0.236577741444, 0.236898986544],\n",
       "[0.002877832537125, 0.0028325551215, 0.002875330458, 0.002830092408, 0.02043610635675, 0.020114581713, 0.020418338556, 0.020097093456],\n",
       "[0.000762277537125, 0.0007633126215, 0.000791267958, 0.000792342408, 0.00541309635675, 0.005420446713, 0.005618963556, 0.005626593456],\n",
       "[  6.5789962875e-5,   6.47548785e-5,   6.8292042e-5,   6.7217592e-5, 0.00046718864325, 0.000459838287, 0.000484956444, 0.000477326544]])"
      ]
     },
     "execution_count": 8,
     "metadata": {},
     "output_type": "execute_result"
    }
   ],
   "source": [
    "from sympy import Matrix\n",
    "Matrix(U_tilde_SSD_CIC)"
   ]
  },
  {
   "cell_type": "code",
   "execution_count": 9,
   "metadata": {},
   "outputs": [],
   "source": [
    "\n",
    "\n",
    "\n",
    "# U_ideal is the unitary matrix of the circuit qc_U, we will use it for the CIC method.\n",
    "U_ideal_SSD = Operator(calibration_circuit_SSD)\n",
    "# defining the tomography basis circuits.\n",
    "qr_basi = QuantumRegister(3)\n",
    "qc_basi = QuantumCircuit(qr_basi)\n",
    "tomography_basis = state_tomography_circuits(qc_basi, qr_basi)\n",
    "\n",
    "# compute the probability matrix of U_ideal and the inverse of it.\n",
    "U_ideal_SSD_abs = np.abs(U_ideal_SSD)**2\n",
    "U_ideal_SSD_abs_inv = np.linalg.inv(U_ideal_SSD_abs)\n",
    "# built the calibration matrix in the computational basis for both CIC and NIC methods.\n",
    "C_SSD_CIC = np.dot(U_tilde_SSD_CIC, U_ideal_SSD_abs_inv)\n",
    "C_SSD_NIC = U_tilde_SSD_NIC\n",
    "# building the fast tomography circuits calibration.\n",
    "# next are computed the calibration matrices in all the tomography basis,\n",
    "# and after are applyed to the raw result for both CIC and NIC.\n",
    "raw_result_SSD = job_tomography_SSD.result()\n",
    "NIC_result_SSD = copy.deepcopy(raw_result_SSD)\n",
    "CIC_result_SSD = copy.deepcopy(raw_result_SSD)\n",
    "for i, basis in enumerate(tomography_basis):\n",
    "    basis.remove_final_measurements()\n",
    "    # building the unitary matrix of the basis and the inverse.\n",
    "    base_matrix_amplitudes = Operator(basis)\n",
    "    base_matrix_amplitudes_inverse = np.linalg.inv(base_matrix_amplitudes)\n",
    "    # building the probability matrices.\n",
    "    base_matrix = np.abs(base_matrix_amplitudes)**2\n",
    "    base_matrix_inverse = np.abs(base_matrix_amplitudes_inverse)**2\n",
    "    # change the basis of the calibration matrices for NIC and CIC.\n",
    "    C_basis_CIC = np.linalg.multi_dot([base_matrix, C_SSD_CIC,  base_matrix_inverse])\n",
    "    C_basis_NIC = np.linalg.multi_dot([base_matrix, C_SSD_NIC,  base_matrix_inverse])\n",
    "    # changing the meas_fitter_SSD_NIC calibration matrix with the new calibration matrix. \n",
    "    meas_fitter_NIC_aus = copy.deepcopy(meas_fitters_fake)\n",
    "    meas_fitter_NIC_aus._tens_fitt.cal_matrices[0]=C_basis_NIC\n",
    "    # changing the meas_fitter_SSD_CIC calibration matrix with the new calibration matrix. \n",
    "    meas_fitter_CIC_aus = copy.deepcopy(meas_fitters_fake)\n",
    "    meas_fitter_CIC_aus._tens_fitt.cal_matrices[0]=C_basis_CIC\n",
    "    # computing the new counts for both the mitigation techniques\n",
    "    old_counts=raw_result_SSD.get_counts(basis)\n",
    "    new_counts_NIC = meas_fitter_NIC_aus.filter.apply(old_counts, method=\"least_squares\")\n",
    "    new_counts_CIC = meas_fitter_CIC_aus.filter.apply(old_counts, method=\"least_squares\")\n",
    "    NIC_result_SSD.results[i].data.counts = new_counts_NIC\n",
    "    CIC_result_SSD.results[i].data.counts = new_counts_CIC"
   ]
  },
  {
   "cell_type": "code",
   "execution_count": 10,
   "metadata": {},
   "outputs": [
    {
     "name": "stdout",
     "output_type": "stream",
     "text": [
      "decomposition method: Single State Decomposition\n",
      "evolution time = 0.333 pi\n",
      "Number of trotter steps = 99\n",
      "\n",
      "fidelity of raw results: 0.21933818604890923 \n",
      "fidelity with NIC method: 0.257339321404469\n",
      "fidelity with CIC method: 9.435692465888576e-09   this is the fidelity score for the challenge.\n"
     ]
    }
   ],
   "source": [
    "target_state = (One^One^Zero).to_matrix()  # (|q_5,q_3,q_1> = |110>)\n",
    "# compute the fidelity\n",
    "fid_raw = fidelity_count(raw_result_SSD, qcs_tomo_SSD, target_state)\n",
    "fid_NIC = fidelity_count(NIC_result_SSD, qcs_tomo_SSD, target_state)\n",
    "fid_CIC = fidelity_count(CIC_result_SSD, qcs_tomo_SSD, target_state)\n",
    "# print the result\n",
    "print(f\"decomposition method: Single State Decomposition\\nevolution time = {TIME/np.pi:.3} pi\\nNumber of trotter steps = {N_STEPS}\\n\")\n",
    "print(f\"fidelity of raw results: {fid_raw} \\nfidelity with NIC method: {fid_NIC}\\nfidelity with CIC method: {fid_CIC}   this is the fidelity score for the challenge.\")"
   ]
  },
  {
   "cell_type": "code",
   "execution_count": null,
   "metadata": {},
   "outputs": [],
   "source": []
  },
  {
   "cell_type": "code",
   "execution_count": null,
   "metadata": {},
   "outputs": [],
   "source": []
  }
 ],
 "metadata": {
  "interpreter": {
   "hash": "aee8b7b246df8f9039afb4144a1f6fd8d2ca17a180786b69acc140d282b71a49"
  },
  "kernelspec": {
   "display_name": "Python 3.10.2 64-bit",
   "language": "python",
   "name": "python3"
  },
  "language_info": {
   "codemirror_mode": {
    "name": "ipython",
    "version": 3
   },
   "file_extension": ".py",
   "mimetype": "text/x-python",
   "name": "python",
   "nbconvert_exporter": "python",
   "pygments_lexer": "ipython3",
   "version": "3.10.2"
  },
  "orig_nbformat": 4
 },
 "nbformat": 4,
 "nbformat_minor": 2
}
