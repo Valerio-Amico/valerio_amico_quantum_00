{
 "cells": [
  {
   "cell_type": "code",
   "execution_count": 44,
   "metadata": {},
   "outputs": [],
   "source": [
    "import qiskit as qk\n",
    "import matplotlib.pyplot as plt\n",
    "import numpy as np"
   ]
  },
  {
   "cell_type": "code",
   "execution_count": 14,
   "metadata": {},
   "outputs": [
    {
     "data": {
      "text/plain": [
       "3"
      ]
     },
     "execution_count": 14,
     "metadata": {},
     "output_type": "execute_result"
    }
   ],
   "source": [
    "qc = qk.QuantumCircuit(3, name=\"gate\")\n",
    "len(qc.qubits)"
   ]
  },
  {
   "cell_type": "code",
   "execution_count": 32,
   "metadata": {},
   "outputs": [],
   "source": [
    "# {\"nome esame\": [voto, crediti]}\n",
    "\n",
    "def media_pesata(dict):\n",
    "    somma_pesata = 0\n",
    "    crediti_totali = 0\n",
    "    for i in dict:\n",
    "        somma_pesata += dict[i][0]*dict[i][1]\n",
    "        crediti_totali += dict[i][1]\n",
    "    return somma_pesata/crediti_totali\n",
    "\n",
    "esami = {\n",
    "    \"fisica_statistica\": [30, 9], \n",
    "    \"sistemi_complessi\": [30, 9],\n",
    "    \"quantum_computing\": [28, 9],\n",
    "    \"data_mining\": [29, 6],\n",
    "    \"dinamiche_non_lin\": [29, 9],\n",
    "    \"bayesiana\": [30, 6],\n",
    "    \"metodi_numerici\": [30, 9],\n",
    "    \"ottica_atomica\": [30, 9]\n",
    "}"
   ]
  },
  {
   "cell_type": "code",
   "execution_count": 33,
   "metadata": {},
   "outputs": [],
   "source": [
    "esami[\"analisi_statistica\"] = [0, 9]\n",
    "medie = []\n",
    "voti_range = [25, 26, 27, 28, 29, 30]\n",
    "\n",
    "for j, i in enumerate(voti_range):\n",
    "    esami[\"analisi_statistica\"][0] = i\n",
    "    medie.append(media_pesata(esami))\n"
   ]
  },
  {
   "cell_type": "code",
   "execution_count": 34,
   "metadata": {},
   "outputs": [
    {
     "data": {
      "image/png": "[encoded data removed]",
      "text/plain": [
       "<Figure size 432x288 with 1 Axes>"
      ]
     },
     "metadata": {
      "needs_background": "light"
     },
     "output_type": "display_data"
    }
   ],
   "source": [
    "plt.plot(voti_range, medie, marker = \"o\")\n",
    "plt.show()"
   ]
  },
  {
   "cell_type": "code",
   "execution_count": 40,
   "metadata": {},
   "outputs": [],
   "source": [
    "import string"
   ]
  },
  {
   "cell_type": "code",
   "execution_count": 43,
   "metadata": {},
   "outputs": [
    {
     "data": {
      "text/plain": [
       "'010'"
      ]
     },
     "execution_count": 43,
     "metadata": {},
     "output_type": "execute_result"
    }
   ],
   "source": [
    "state = ['0', '0', '0']\n",
    "state[1] = '1'\n",
    "state = \"\".join(state)\n",
    "state"
   ]
  },
  {
   "cell_type": "code",
   "execution_count": 45,
   "metadata": {},
   "outputs": [
    {
     "name": "stdout",
     "output_type": "stream",
     "text": [
      "[0 2 4]\n"
     ]
    }
   ],
   "source": [
    "print(np.arange(6,step = 2))"
   ]
  },
  {
   "cell_type": "code",
   "execution_count": null,
   "metadata": {},
   "outputs": [],
   "source": []
  }
 ],
 "metadata": {
  "interpreter": {
   "hash": "ac59ebe37160ed0dfa835113d9b8498d9f09ceb179beaac4002f036b9467c963"
  },
  "kernelspec": {
   "display_name": "Python 3.9.4 64-bit",
   "language": "python",
   "name": "python3"
  },
  "language_info": {
   "codemirror_mode": {
    "name": "ipython",
    "version": 3
   },
   "file_extension": ".py",
   "mimetype": "text/x-python",
   "name": "python",
   "nbconvert_exporter": "python",
   "pygments_lexer": "ipython3",
   "version": "3.9.4"
  },
  "orig_nbformat": 4
 },
 "nbformat": 4,
 "nbformat_minor": 2
}
