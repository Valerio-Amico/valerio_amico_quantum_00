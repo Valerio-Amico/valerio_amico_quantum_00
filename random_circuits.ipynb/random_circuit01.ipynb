{
 "cells": [
  {
   "cell_type": "code",
   "execution_count": 63,
   "metadata": {},
   "outputs": [],
   "source": [
    "import numpy as np\n",
    "import qiskit\n",
    "from sympy import Matrix"
   ]
  },
  {
   "cell_type": "markdown",
   "metadata": {},
   "source": [
    "Here I would like to create a random $N$-qubits circuit with $N_{cx}$ c-nots and $N_{sq}$ single qubits gates.\n",
    "\n",
    "I use this algorithm to create the circuit:\n",
    "\n",
    "- extract $N_{cx}$ random numbers (control_qubits) in the range [0, $N$-qubits] to choose the control qubits of each c-not.\n",
    "\n",
    "- extract 1 random in {control_qubits-1, control_qubits+1} unless the control is the last qubit or the first; in that case the targhet will be the upper qubit or the lower.\n",
    "\n",
    "- extract $N_{sq}$ random couples in the ranges [0, $N$-qubits] and [0, $N_{cx}$]. Each couple rapresent the position of a single qubit gate."
   ]
  },
  {
   "cell_type": "code",
   "execution_count": 101,
   "metadata": {},
   "outputs": [
    {
     "data": {
      "image/png": "[encoded data removed]",
      "text/plain": [
       "<Figure size 1531.4x264.88 with 1 Axes>"
      ]
     },
     "execution_count": 101,
     "metadata": {},
     "output_type": "execute_result"
    }
   ],
   "source": [
    "N_qubits = 4\n",
    "N_cx = 15\n",
    "N_sq = 30\n",
    "\n",
    "def rand_target(val, N):\n",
    "    if val==0:\n",
    "        return 1\n",
    "    if val==N-1:\n",
    "        return N-2\n",
    "    return np.random.choice([-1, +1])+val\n",
    "\n",
    "def random_single_qubit_gate():\n",
    "    basis_gates=[\"rz\", \"x\", \"sx\", \"Id\"]\n",
    "    angle = np.random.random()*2*np.pi\n",
    "    random_gates = np.random.choice(basis_gates, replace=False, size=3)\n",
    "    qr_aus = qiskit.QuantumRegister(1, name=\"q\")\n",
    "    qc_aus = qiskit.QuantumCircuit(qr_aus, name=\"gate\")\n",
    "    for gate in random_gates:\n",
    "        if gate==\"rz\":\n",
    "            qc_aus.rz(angle, qr_aus)\n",
    "        if gate==\"x\":\n",
    "            qc_aus.x(qr_aus)\n",
    "        if gate==\"sx\":\n",
    "            qc_aus.sx(qr_aus)\n",
    "    return qc_aus\n",
    "\n",
    "control_qubits = np.random.randint(N_qubits, size=N_cx)\n",
    "target_qubits = np.array([rand_target(j, N_qubits)  for j in control_qubits])\n",
    "\n",
    "single_positions = np.random.randint(N_cx+1, size=N_sq)\n",
    "single_qubits = np.random.randint(N_qubits, size=N_sq)\n",
    "\n",
    "qr = qiskit.QuantumRegister(N_qubits, name=\"q\")\n",
    "qc = qiskit.QuantumCircuit(qr, name=\"random_circuit\")\n",
    "\n",
    "j=0\n",
    "for i in range(N_cx):\n",
    "    for _ in range(list(single_positions).count(i)):\n",
    "        qc.append(random_single_qubit_gate(), [qr[single_qubits[j]]])\n",
    "        j+=1\n",
    "    qc.cx(control_qubits[i], target_qubits[i])\n",
    "\n",
    "for _ in range(list(single_positions).count(N_cx)):\n",
    "    qc.append(random_single_qubit_gate(), [qr[single_qubits[j]]])\n",
    "    j+=1\n",
    "\n",
    "qc.draw(output=\"mpl\")"
   ]
  },
  {
   "cell_type": "code",
   "execution_count": 102,
   "metadata": {},
   "outputs": [
    {
     "data": {
      "image/png": "[encoded data removed]",
      "text/plain": [
       "<Figure size 193.726x84.28 with 1 Axes>"
      ]
     },
     "execution_count": 102,
     "metadata": {},
     "output_type": "execute_result"
    }
   ],
   "source": [
    "random_single_qubit_gate().draw(output=\"mpl\")"
   ]
  },
  {
   "cell_type": "markdown",
   "metadata": {},
   "source": [
    "Ideal final state:"
   ]
  },
  {
   "cell_type": "code",
   "execution_count": 117,
   "metadata": {},
   "outputs": [
    {
     "data": {
      "text/plain": [
       "array([ 0.41848082-0.21616483j, -0.18778813-0.11953562j,\n",
       "        0.17291946-0.10612434j, -0.1528069 -0.12925919j,\n",
       "       -0.2067165 -0.2311869j , -0.05747967+0.16441442j,\n",
       "        0.0861602 +0.00895223j,  0.04166265-0.10778409j,\n",
       "        0.07152621-0.05554771j,  0.01833497-0.03568043j,\n",
       "        0.15807788-0.34286895j, -0.23928951+0.01373969j,\n",
       "        0.28713391+0.06605709j, -0.00956035-0.07325764j,\n",
       "       -0.35344907-0.06492165j,  0.07291572+0.25192844j])"
      ]
     },
     "execution_count": 117,
     "metadata": {},
     "output_type": "execute_result"
    }
   ],
   "source": [
    "matrix = np.array(qiskit.quantum_info.Operator(qc))\n",
    "matrix[:,0]"
   ]
  },
  {
   "cell_type": "markdown",
   "metadata": {},
   "source": [
    "Tomography and simulation on real device:"
   ]
  },
  {
   "cell_type": "code",
   "execution_count": null,
   "metadata": {},
   "outputs": [],
   "source": []
  }
 ],
 "metadata": {
  "interpreter": {
   "hash": "aee8b7b246df8f9039afb4144a1f6fd8d2ca17a180786b69acc140d282b71a49"
  },
  "kernelspec": {
   "display_name": "Python 3.10.2 64-bit",
   "language": "python",
   "name": "python3"
  },
  "language_info": {
   "codemirror_mode": {
    "name": "ipython",
    "version": 3
   },
   "file_extension": ".py",
   "mimetype": "text/x-python",
   "name": "python",
   "nbconvert_exporter": "python",
   "pygments_lexer": "ipython3",
   "version": "3.10.2"
  },
  "orig_nbformat": 4
 },
 "nbformat": 4,
 "nbformat_minor": 2
}
