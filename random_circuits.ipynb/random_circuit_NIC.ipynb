{
 "cells": [
  {
   "cell_type": "code",
   "execution_count": 1,
   "metadata": {},
   "outputs": [],
   "source": [
    "import numpy as np\n",
    "import matplotlib.pyplot as plt\n",
    "from scipy.linalg import expm\n",
    "import sys  \n",
    "sys.path.insert(0, '/Users/valerio/Documents/project_IBM_01/IBM_git/lib')\n",
    "import utilities\n",
    "from qiskit import IBMQ, execute\n",
    "from qiskit.providers.aer import QasmSimulator\n",
    "\n",
    "N_qubits = 2\n",
    "t = 1.0\n",
    "A = np.random.uniform(0,1, size=(2**(N_qubits)-1,2**(N_qubits)-1))\n",
    "B = np.random.uniform(0,1, size=(2**(N_qubits)-1,2**(N_qubits)-1))\n",
    "\n",
    "M = A + 1j*B\n",
    "M = M + np.conjugate(M).T\n",
    "H = np.zeros((2**N_qubits,2**N_qubits), dtype=complex)\n",
    "H[1:,1:] = M\n",
    "H[0,0] = 3.0\n",
    "\n",
    "U = expm(1j*H*t)\n"
   ]
  },
  {
   "cell_type": "code",
   "execution_count": 2,
   "metadata": {},
   "outputs": [
    {
     "data": {
      "text/plain": [
       "<matplotlib.colorbar.Colorbar at 0x16c0f8220>"
      ]
     },
     "execution_count": 2,
     "metadata": {},
     "output_type": "execute_result"
    },
    {
     "data": {
      "image/png": "[encoded data removed]",
      "text/plain": [
       "<Figure size 432x288 with 2 Axes>"
      ]
     },
     "metadata": {
      "needs_background": "light"
     },
     "output_type": "display_data"
    }
   ],
   "source": [
    "plt.imshow(np.abs(H))\n",
    "plt.colorbar()"
   ]
  },
  {
   "cell_type": "code",
   "execution_count": 3,
   "metadata": {},
   "outputs": [
    {
     "data": {
      "image/png": "[encoded data removed]",
      "text/plain": [
       "<Figure size 882.033x144.48 with 1 Axes>"
      ]
     },
     "execution_count": 3,
     "metadata": {},
     "output_type": "execute_result"
    }
   ],
   "source": [
    "from qiskit import transpile, QuantumCircuit, QuantumRegister\n",
    "from qiskit.quantum_info import Operator\n",
    "\n",
    "qr = QuantumRegister(N_qubits)\n",
    "circ = QuantumCircuit(qr)\n",
    "circ.unitary(U, qr)\n",
    "circuit = transpile(circ, basis_gates=[\"cx\", \"u3\"])\n",
    "circuit.draw(output=\"mpl\")"
   ]
  },
  {
   "cell_type": "code",
   "execution_count": 4,
   "metadata": {},
   "outputs": [
    {
     "data": {
      "image/png": "[encoded data removed]",
      "text/plain": [
       "<Figure size 397.982x204.68 with 1 Axes>"
      ]
     },
     "execution_count": 4,
     "metadata": {},
     "output_type": "execute_result"
    }
   ],
   "source": [
    "cal_circ, state_labels = utilities.get_calibration_circuits(circuit, method=\"NIC\", eigenvector=N_qubits*\"0\")\n",
    "cal_circ[-1].draw(output=\"mpl\")"
   ]
  },
  {
   "cell_type": "code",
   "execution_count": 5,
   "metadata": {},
   "outputs": [],
   "source": [
    "from qiskit.ignis.verification.tomography import state_tomography_circuits\n",
    "tomo_circuits = state_tomography_circuits(circuit, qr)"
   ]
  },
  {
   "cell_type": "code",
   "execution_count": 6,
   "metadata": {},
   "outputs": [],
   "source": [
    "IBMQ.load_account()\n",
    "provider = IBMQ.get_provider(hub='ibm-q-community',\n",
    "                            group='ibmquantumawards', \n",
    "                            project='open-science-22')\n",
    "backend_sim_noisy_jakarta = QasmSimulator.from_backend(provider.get_backend('ibmq_jakarta'))\n",
    "backend_real_jakarta = provider.get_backend('ibmq_jakarta')\n",
    "\n",
    "#################################################################\n",
    "########################################### execute all the jobs\n",
    "BACKEND = backend_sim_noisy_jakarta\n",
    "shots = 20000\n",
    "reps = 1 # ATTENZIONE NON PUOI METTEREE PIU DI 1\n",
    "\n",
    "job_NIC=execute(cal_circ, backend = BACKEND, shots=shots)\n",
    "job_tomography=execute(tomo_circuits, backend = BACKEND, shots=shots)"
   ]
  },
  {
   "cell_type": "code",
   "execution_count": 7,
   "metadata": {},
   "outputs": [
    {
     "ename": "QiskitError",
     "evalue": "'Result for experiment \"9\" could not be found.'",
     "output_type": "error",
     "traceback": [
      "\u001b[0;31m---------------------------------------------------------------------------\u001b[0m",
      "\u001b[0;31mIndexError\u001b[0m                                Traceback (most recent call last)",
      "File \u001b[0;32m/Library/Frameworks/Python.framework/Versions/3.10/lib/python3.10/site-packages/qiskit/result/result.py:379\u001b[0m, in \u001b[0;36mResult._get_experiment\u001b[0;34m(self, key)\u001b[0m\n\u001b[1;32m    <a href='file:///Library/Frameworks/Python.framework/Versions/3.10/lib/python3.10/site-packages/qiskit/result/result.py?line=377'>378</a>\u001b[0m \u001b[39mtry\u001b[39;00m:\n\u001b[0;32m--> <a href='file:///Library/Frameworks/Python.framework/Versions/3.10/lib/python3.10/site-packages/qiskit/result/result.py?line=378'>379</a>\u001b[0m     exp \u001b[39m=\u001b[39m \u001b[39mself\u001b[39;49m\u001b[39m.\u001b[39;49mresults[key]\n\u001b[1;32m    <a href='file:///Library/Frameworks/Python.framework/Versions/3.10/lib/python3.10/site-packages/qiskit/result/result.py?line=379'>380</a>\u001b[0m \u001b[39mexcept\u001b[39;00m \u001b[39mIndexError\u001b[39;00m \u001b[39mas\u001b[39;00m ex:\n",
      "\u001b[0;31mIndexError\u001b[0m: list index out of range",
      "\nThe above exception was the direct cause of the following exception:\n",
      "\u001b[0;31mQiskitError\u001b[0m                               Traceback (most recent call last)",
      "\u001b[1;32m/Users/valerio/Documents/project_IBM_01/IBM_git/random_circuits.ipynb/random_circuit_T-NIC.ipynb Cell 7'\u001b[0m in \u001b[0;36m<cell line: 40>\u001b[0;34m()\u001b[0m\n\u001b[1;32m     <a href='vscode-notebook-cell:/Users/valerio/Documents/project_IBM_01/IBM_git/random_circuits.ipynb/random_circuit_T-NIC.ipynb#ch0000006?line=42'>43</a>\u001b[0m NIC_result\u001b[39m.\u001b[39mappend(copy\u001b[39m.\u001b[39mdeepcopy(raw_result[rep]))\n\u001b[1;32m     <a href='vscode-notebook-cell:/Users/valerio/Documents/project_IBM_01/IBM_git/random_circuits.ipynb/random_circuit_T-NIC.ipynb#ch0000006?line=43'>44</a>\u001b[0m \u001b[39mfor\u001b[39;00m i \u001b[39min\u001b[39;00m \u001b[39mrange\u001b[39m(\u001b[39m27\u001b[39m):\n\u001b[1;32m     <a href='vscode-notebook-cell:/Users/valerio/Documents/project_IBM_01/IBM_git/random_circuits.ipynb/random_circuit_T-NIC.ipynb#ch0000006?line=44'>45</a>\u001b[0m     \u001b[39m# computing the new counts for both the mitigation techniques\u001b[39;00m\n\u001b[0;32m---> <a href='vscode-notebook-cell:/Users/valerio/Documents/project_IBM_01/IBM_git/random_circuits.ipynb/random_circuit_T-NIC.ipynb#ch0000006?line=45'>46</a>\u001b[0m     old_counts\u001b[39m=\u001b[39mraw_result[rep]\u001b[39m.\u001b[39;49mget_counts(i)\n\u001b[1;32m     <a href='vscode-notebook-cell:/Users/valerio/Documents/project_IBM_01/IBM_git/random_circuits.ipynb/random_circuit_T-NIC.ipynb#ch0000006?line=46'>47</a>\u001b[0m     new_counts_NIC \u001b[39m=\u001b[39m meas_fitters_NIC[i]\u001b[39m.\u001b[39mfilter\u001b[39m.\u001b[39mapply(old_counts, method\u001b[39m=\u001b[39m\u001b[39m\"\u001b[39m\u001b[39mleast_squares\u001b[39m\u001b[39m\"\u001b[39m)\n\u001b[1;32m     <a href='vscode-notebook-cell:/Users/valerio/Documents/project_IBM_01/IBM_git/random_circuits.ipynb/random_circuit_T-NIC.ipynb#ch0000006?line=47'>48</a>\u001b[0m     NIC_result[rep]\u001b[39m.\u001b[39mresults[i]\u001b[39m.\u001b[39mdata\u001b[39m.\u001b[39mcounts \u001b[39m=\u001b[39m new_counts_NIC\n",
      "File \u001b[0;32m/Library/Frameworks/Python.framework/Versions/3.10/lib/python3.10/site-packages/qiskit/result/result.py:280\u001b[0m, in \u001b[0;36mResult.get_counts\u001b[0;34m(self, experiment)\u001b[0m\n\u001b[1;32m    <a href='file:///Library/Frameworks/Python.framework/Versions/3.10/lib/python3.10/site-packages/qiskit/result/result.py?line=277'>278</a>\u001b[0m dict_list \u001b[39m=\u001b[39m []\n\u001b[1;32m    <a href='file:///Library/Frameworks/Python.framework/Versions/3.10/lib/python3.10/site-packages/qiskit/result/result.py?line=278'>279</a>\u001b[0m \u001b[39mfor\u001b[39;00m key \u001b[39min\u001b[39;00m exp_keys:\n\u001b[0;32m--> <a href='file:///Library/Frameworks/Python.framework/Versions/3.10/lib/python3.10/site-packages/qiskit/result/result.py?line=279'>280</a>\u001b[0m     exp \u001b[39m=\u001b[39m \u001b[39mself\u001b[39;49m\u001b[39m.\u001b[39;49m_get_experiment(key)\n\u001b[1;32m    <a href='file:///Library/Frameworks/Python.framework/Versions/3.10/lib/python3.10/site-packages/qiskit/result/result.py?line=280'>281</a>\u001b[0m     \u001b[39mtry\u001b[39;00m:\n\u001b[1;32m    <a href='file:///Library/Frameworks/Python.framework/Versions/3.10/lib/python3.10/site-packages/qiskit/result/result.py?line=281'>282</a>\u001b[0m         header \u001b[39m=\u001b[39m exp\u001b[39m.\u001b[39mheader\u001b[39m.\u001b[39mto_dict()\n",
      "File \u001b[0;32m/Library/Frameworks/Python.framework/Versions/3.10/lib/python3.10/site-packages/qiskit/result/result.py:381\u001b[0m, in \u001b[0;36mResult._get_experiment\u001b[0;34m(self, key)\u001b[0m\n\u001b[1;32m    <a href='file:///Library/Frameworks/Python.framework/Versions/3.10/lib/python3.10/site-packages/qiskit/result/result.py?line=378'>379</a>\u001b[0m         exp \u001b[39m=\u001b[39m \u001b[39mself\u001b[39m\u001b[39m.\u001b[39mresults[key]\n\u001b[1;32m    <a href='file:///Library/Frameworks/Python.framework/Versions/3.10/lib/python3.10/site-packages/qiskit/result/result.py?line=379'>380</a>\u001b[0m     \u001b[39mexcept\u001b[39;00m \u001b[39mIndexError\u001b[39;00m \u001b[39mas\u001b[39;00m ex:\n\u001b[0;32m--> <a href='file:///Library/Frameworks/Python.framework/Versions/3.10/lib/python3.10/site-packages/qiskit/result/result.py?line=380'>381</a>\u001b[0m         \u001b[39mraise\u001b[39;00m QiskitError(\u001b[39mf\u001b[39m\u001b[39m'\u001b[39m\u001b[39mResult for experiment \u001b[39m\u001b[39m\"\u001b[39m\u001b[39m{\u001b[39;00mkey\u001b[39m}\u001b[39;00m\u001b[39m\"\u001b[39m\u001b[39m could not be found.\u001b[39m\u001b[39m'\u001b[39m) \u001b[39mfrom\u001b[39;00m \u001b[39mex\u001b[39;00m\n\u001b[1;32m    <a href='file:///Library/Frameworks/Python.framework/Versions/3.10/lib/python3.10/site-packages/qiskit/result/result.py?line=381'>382</a>\u001b[0m \u001b[39melse\u001b[39;00m:\n\u001b[1;32m    <a href='file:///Library/Frameworks/Python.framework/Versions/3.10/lib/python3.10/site-packages/qiskit/result/result.py?line=382'>383</a>\u001b[0m     \u001b[39m# Look into `result[x].header.name` for the names.\u001b[39;00m\n\u001b[1;32m    <a href='file:///Library/Frameworks/Python.framework/Versions/3.10/lib/python3.10/site-packages/qiskit/result/result.py?line=383'>384</a>\u001b[0m     exp \u001b[39m=\u001b[39m [\n\u001b[1;32m    <a href='file:///Library/Frameworks/Python.framework/Versions/3.10/lib/python3.10/site-packages/qiskit/result/result.py?line=384'>385</a>\u001b[0m         result\n\u001b[1;32m    <a href='file:///Library/Frameworks/Python.framework/Versions/3.10/lib/python3.10/site-packages/qiskit/result/result.py?line=385'>386</a>\u001b[0m         \u001b[39mfor\u001b[39;00m result \u001b[39min\u001b[39;00m \u001b[39mself\u001b[39m\u001b[39m.\u001b[39mresults\n\u001b[1;32m    <a href='file:///Library/Frameworks/Python.framework/Versions/3.10/lib/python3.10/site-packages/qiskit/result/result.py?line=386'>387</a>\u001b[0m         \u001b[39mif\u001b[39;00m \u001b[39mgetattr\u001b[39m(\u001b[39mgetattr\u001b[39m(result, \u001b[39m\"\u001b[39m\u001b[39mheader\u001b[39m\u001b[39m\"\u001b[39m, \u001b[39mNone\u001b[39;00m), \u001b[39m\"\u001b[39m\u001b[39mname\u001b[39m\u001b[39m\"\u001b[39m, \u001b[39m\"\u001b[39m\u001b[39m\"\u001b[39m) \u001b[39m==\u001b[39m key\n\u001b[1;32m    <a href='file:///Library/Frameworks/Python.framework/Versions/3.10/lib/python3.10/site-packages/qiskit/result/result.py?line=387'>388</a>\u001b[0m     ]\n",
      "\u001b[0;31mQiskitError\u001b[0m: 'Result for experiment \"9\" could not be found.'"
     ]
    }
   ],
   "source": [
    "#################################################################\n",
    "#################################################### Mititgation \n",
    "from qiskit.utils.mitigation.fitters import CompleteMeasFitter\n",
    "import copy\n",
    "from qiskit.quantum_info import Operator\n",
    "# building the matrices\n",
    "meas_fitter_NIC = CompleteMeasFitter(job_NIC.result(), state_labels=state_labels)\n",
    "\n",
    "# copy the measured probability matrices.\n",
    "U_tilde_NIC = meas_fitter_NIC.cal_matrix\n",
    "# defining the tomography basis circuits\n",
    "qr_basi = QuantumRegister(N_qubits)\n",
    "qc_basi = QuantumCircuit(qr_basi)\n",
    "tomography_basis = state_tomography_circuits(qc_basi, qr_basi)\n",
    "# builds the calibration matrix in the computational basis for NIC methods\n",
    "C_NIC = U_tilde_NIC\n",
    "\n",
    "# fast tomography circuits calibration:\n",
    "# next are computed the calibration matrices in all the tomography basis,\n",
    "# and after are applyed to the raw result for both CIC and NIC.\n",
    "meas_fitters_NIC = []\n",
    "for i, basis in enumerate(tomography_basis):\n",
    "    basis.remove_final_measurements()\n",
    "    # building the unitary matrix of the basis and the inverse.\n",
    "    base_matrix_amplitudes = Operator(basis)\n",
    "    base_matrix_amplitudes_inverse = base_matrix_amplitudes.transpose().conjugate()\n",
    "    # building the probability matrices.\n",
    "    base_matrix = np.abs(base_matrix_amplitudes)**2\n",
    "    base_matrix_inverse = np.abs(base_matrix_amplitudes_inverse)**2\n",
    "\n",
    "    C_basis_NIC = np.linalg.multi_dot([base_matrix, C_NIC,  base_matrix_inverse])\n",
    "    # changing the meas_fitter_SSD_NIC calibration matrix with the new calibration matrix. \n",
    "    meas_fitter_NIC_aus = copy.deepcopy(meas_fitter_NIC)\n",
    "    meas_fitter_NIC_aus._tens_fitt.cal_matrices[0]=C_basis_NIC\n",
    "    meas_fitters_NIC.append(meas_fitter_NIC_aus)\n",
    "\n",
    "################################### mitigates the raw results\n",
    "raw_result = [] #jobs_tomo_SSD[rep].result()\n",
    "NIC_result = [] #copy.deepcopy(raw_result_SSD)\n",
    "for rep in range(reps):\n",
    "    #raw_result_SSD.append(jobs_tomography[rep].result())\n",
    "    raw_result.append(job_tomography.result())\n",
    "    NIC_result.append(copy.deepcopy(raw_result[rep]))\n",
    "    for i in range(27):\n",
    "        # computing the new counts for both the mitigation techniques\n",
    "        old_counts=raw_result[rep].get_counts(i)\n",
    "        new_counts_NIC = meas_fitters_NIC[i].filter.apply(old_counts, method=\"least_squares\")\n",
    "        NIC_result[rep].results[i].data.counts = new_counts_NIC"
   ]
  },
  {
   "cell_type": "code",
   "execution_count": null,
   "metadata": {},
   "outputs": [
    {
     "name": "stdout",
     "output_type": "stream",
     "text": [
      "fidelity of raw results: 0.08705 +- 0.00000 \n",
      "fidelity with NIC method: 0.31988 +- 0.00000 \n",
      "\n"
     ]
    }
   ],
   "source": [
    "from qiskit.opflow import One, Zero\n",
    "\n",
    "# defining the target_state = |110> ; qubits: |5,3,1>\n",
    "# target_state = (One^One^Zero).to_matrix()\n",
    "target_state = U[:,0]\n",
    "# compute the fidelity for each repetition\n",
    "fids_SSD = {\"raw\": np.zeros(reps), \"NIC\": np.zeros(reps), \"CIC\": np.zeros(reps)}\n",
    "for rep in range(reps):\n",
    "    fids_SSD[\"raw\"][rep] = utilities.fidelity_count(raw_result[rep], tomo_circuits, target_state)\n",
    "    fids_SSD[\"NIC\"][rep] = utilities.fidelity_count(NIC_result[rep], tomo_circuits, target_state)\n",
    "# computes the mean and the standard deviation\n",
    "fid_means = {\"raw\": np.mean(fids_SSD[\"raw\"]), \"NIC\": np.mean(fids_SSD[\"NIC\"])}\n",
    "fid_std = {\"raw\": np.std(fids_SSD[\"raw\"]), \"NIC\": np.std(fids_SSD[\"NIC\"])}\n",
    "\n",
    "# fidelity\n",
    "text2 = \"fidelity of raw results: %.5f +- %.5f \\n\"%(fid_means[\"raw\"],fid_std[\"raw\"])\n",
    "text2 = text2 + \"fidelity with NIC method: %.5f +- %.5f \\n\" %(fid_means[\"NIC\"],fid_std[\"NIC\"])\n",
    "\n",
    "print(text2)"
   ]
  },
  {
   "cell_type": "code",
   "execution_count": null,
   "metadata": {},
   "outputs": [],
   "source": []
  }
 ],
 "metadata": {
  "interpreter": {
   "hash": "aee8b7b246df8f9039afb4144a1f6fd8d2ca17a180786b69acc140d282b71a49"
  },
  "kernelspec": {
   "display_name": "Python 3.10.2 64-bit",
   "language": "python",
   "name": "python3"
  },
  "language_info": {
   "codemirror_mode": {
    "name": "ipython",
    "version": 3
   },
   "file_extension": ".py",
   "mimetype": "text/x-python",
   "name": "python",
   "nbconvert_exporter": "python",
   "pygments_lexer": "ipython3",
   "version": "3.10.2"
  },
  "orig_nbformat": 4
 },
 "nbformat": 4,
 "nbformat_minor": 2
}
