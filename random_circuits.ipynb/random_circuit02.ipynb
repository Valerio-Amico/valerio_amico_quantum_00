{
 "cells": [
  {
   "cell_type": "code",
   "execution_count": 130,
   "metadata": {},
   "outputs": [
    {
     "data": {
      "image/png": "[encoded data removed]",
      "text/plain": [
       "<Figure size 929.397x204.68 with 1 Axes>"
      ]
     },
     "execution_count": 130,
     "metadata": {},
     "output_type": "execute_result"
    }
   ],
   "source": [
    "from qiskit.circuit.random import random_circuit\n",
    "from qiskit.quantum_info import Operator\n",
    "from qiskit.ignis.verification.tomography import state_tomography_circuits\n",
    "from qiskit.opflow import One, Zero\n",
    "from qiskit.utils.mitigation.fitters import CompleteMeasFitter\n",
    "from qiskit import QuantumCircuit, QuantumRegister\n",
    "import copy\n",
    "from sympy import Matrix\n",
    "import numpy as np\n",
    "import sys  \n",
    "sys.path.insert(0, '/Users/valerio/Documents/project_IBM_01/IBM_git/lib')\n",
    "import utilities\n",
    "\n",
    "N_qubits = 3\n",
    "\n",
    "circ = random_circuit(num_qubits = N_qubits, depth = 10)\n",
    "circ.draw(output='mpl')"
   ]
  },
  {
   "cell_type": "code",
   "execution_count": 131,
   "metadata": {},
   "outputs": [
    {
     "data": {
      "image/png": "[encoded data removed]",
      "text/plain": [
       "<Figure size 518.527x264.88 with 1 Axes>"
      ]
     },
     "execution_count": 131,
     "metadata": {},
     "output_type": "execute_result"
    }
   ],
   "source": [
    "cal_circ_CIC, state_labels = utilities.get_calibration_circuits(circ, method=\"CIC\")\n",
    "cal_circ_CIC[1].draw(output=\"mpl\")"
   ]
  },
  {
   "cell_type": "code",
   "execution_count": 132,
   "metadata": {},
   "outputs": [],
   "source": [
    "tomo_circ = state_tomography_circuits(circ, circ.qregs)"
   ]
  },
  {
   "cell_type": "code",
   "execution_count": 133,
   "metadata": {},
   "outputs": [
    {
     "name": "stderr",
     "output_type": "stream",
     "text": [
      "ibmqfactory.load_account:WARNING:2022-05-22 14:38:38,938: Credentials are already in use. The existing account in the session will be replaced.\n"
     ]
    }
   ],
   "source": [
    "from qiskit import IBMQ, execute\n",
    "from qiskit.providers.aer import QasmSimulator\n",
    "\n",
    "IBMQ.load_account()\n",
    "provider = IBMQ.get_provider(hub='ibm-q-community',\n",
    "                            group='ibmquantumawards', \n",
    "                            project='open-science-22')\n",
    "backend_sim_noisy_jakarta = QasmSimulator.from_backend(provider.get_backend('ibmq_jakarta'))\n",
    "backend_real_jakarta = provider.get_backend('ibmq_jakarta')\n",
    "\n",
    "#################################################################\n",
    "########################################### execute all the jobs\n",
    "BACKEND = backend_sim_noisy_jakarta\n",
    "shots = 20000\n",
    "\n",
    "job_CIC=execute(cal_circ_CIC, backend = BACKEND, shots=shots)\n",
    "job_tomography=execute(tomo_circ, backend = BACKEND, shots=shots)"
   ]
  },
  {
   "cell_type": "code",
   "execution_count": 134,
   "metadata": {},
   "outputs": [],
   "source": [
    "#################################################################\n",
    "#################################### Mititgation of the raw results\n",
    "\n",
    "# building the matrices\n",
    "meas_fitter_CIC = CompleteMeasFitter(job_CIC.result(), state_labels=state_labels)\n",
    "# copy the measured probability matrices.\n",
    "U_tilde_CIC = meas_fitter_CIC.cal_matrix\n",
    "# U_ideal is the unitary matrix of the circuit qc_U, we will use it for the CIC method.\n",
    "U_ideal = Operator(circ)\n",
    "# defining the tomography basis circuits.\n",
    "qr_basi = QuantumRegister(N_qubits)\n",
    "qc_basi = QuantumCircuit(qr_basi)\n",
    "tomography_basis = state_tomography_circuits(qc_basi, qr_basi)\n",
    "\n",
    "# compute the probability matrix of U_ideal and the inverse of it.\n",
    "U_ideal_abs = np.abs(U_ideal)**2\n",
    "U_ideal_abs_inv = np.linalg.inv(U_ideal_abs)\n",
    "# built the calibration matrix in the computational basis for both CIC and NIC methods.\n",
    "C_CIC = np.dot(U_tilde_CIC, U_ideal_abs_inv)\n",
    "# building the fast tomography circuits calibration.\n",
    "# next are computed the calibration matrices in all the tomography basis,\n",
    "# and after are applyed to the raw result for both CIC and NIC.\n",
    "raw_result = job_tomography.result()\n",
    "CIC_result = copy.deepcopy(raw_result)\n",
    "for i, basis in enumerate(tomography_basis):\n",
    "    basis.remove_final_measurements()\n",
    "    # building the unitary matrix of the basis and the inverse.\n",
    "    base_matrix_amplitudes = Operator(basis)\n",
    "    base_matrix_amplitudes_inverse = base_matrix_amplitudes.conjugate().transpose()\n",
    "    # building the probability matrices.\n",
    "    base_matrix = np.abs(base_matrix_amplitudes)**2\n",
    "    base_matrix_inverse = np.abs(base_matrix_amplitudes_inverse)**2\n",
    "    # change the basis of the calibration matrices for NIC and CIC.\n",
    "    C_basis_CIC = np.linalg.multi_dot([base_matrix, C_CIC,  base_matrix_inverse])\n",
    "    # changing the meas_fitter_SSD_CIC calibration matrix with the new calibration matrix. \n",
    "    meas_fitter_CIC_aus = copy.deepcopy(meas_fitter_CIC)\n",
    "    meas_fitter_CIC_aus._tens_fitt.cal_matrices[0]=C_basis_CIC\n",
    "    # computing the new counts for both the mitigation techniques\n",
    "    old_counts=raw_result.get_counts(basis)\n",
    "    new_counts_CIC = meas_fitter_CIC_aus.filter.apply(old_counts, method=\"least_squares\")\n",
    "    CIC_result.results[i].data.counts = new_counts_CIC"
   ]
  },
  {
   "cell_type": "code",
   "execution_count": 135,
   "metadata": {},
   "outputs": [
    {
     "name": "stdout",
     "output_type": "stream",
     "text": [
      "fidelity of raw results: 0.656932303064815\n",
      "fidelity with CIC method: 0.43550733498335825\n"
     ]
    }
   ],
   "source": [
    "target_state = np.array(Operator(circ))[:,0]#(One^One^Zero).to_matrix()  # (|q_5,q_3,q_1> = |110>)\n",
    "# compute the fidelity\n",
    "fid_raw = utilities.fidelity_count(raw_result, tomo_circ, target_state)\n",
    "fid_CIC = utilities.fidelity_count(CIC_result, tomo_circ, target_state)\n",
    "# print the result\n",
    "print(f\"fidelity of raw results: {fid_raw}\\nfidelity with CIC method: {fid_CIC}\")\n"
   ]
  },
  {
   "cell_type": "code",
   "execution_count": null,
   "metadata": {},
   "outputs": [],
   "source": []
  }
 ],
 "metadata": {
  "interpreter": {
   "hash": "aee8b7b246df8f9039afb4144a1f6fd8d2ca17a180786b69acc140d282b71a49"
  },
  "kernelspec": {
   "display_name": "Python 3.10.2 64-bit",
   "language": "python",
   "name": "python3"
  },
  "language_info": {
   "codemirror_mode": {
    "name": "ipython",
    "version": 3
   },
   "file_extension": ".py",
   "mimetype": "text/x-python",
   "name": "python",
   "nbconvert_exporter": "python",
   "pygments_lexer": "ipython3",
   "version": "3.10.2"
  },
  "orig_nbformat": 4
 },
 "nbformat": 4,
 "nbformat_minor": 2
}
