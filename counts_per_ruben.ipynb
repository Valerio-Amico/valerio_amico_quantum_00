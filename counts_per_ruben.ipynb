{
 "cells": [
  {
   "cell_type": "code",
   "execution_count": 2,
   "metadata": {},
   "outputs": [
    {
     "name": "stderr",
     "output_type": "stream",
     "text": [
      "/var/folders/gq/pyfb45qx3wg52k7kygqcjy840000gn/T/ipykernel_5162/3644472474.py:3: DeprecationWarning: The qiskit.ignis package is deprecated and has been supersceded by the qiskit-experiments project. Refer to the migration guide: https://github.com/Qiskit/qiskit-ignis#migration-guide on how to migrate to the new project.\n",
      "  from qiskit.ignis.mitigation.measurement import CompleteMeasFitter\n"
     ]
    }
   ],
   "source": [
    "import numpy as np\n",
    "import datetime\n",
    "from qiskit.ignis.mitigation.measurement import CompleteMeasFitter\n",
    "from qiskit import Aer, assemble, QuantumCircuit, QuantumRegister, ClassicalRegister, IBMQ, transpile, execute\n",
    "from qiskit.providers.aer import AerSimulator, QasmSimulator\n",
    "from qiskit.opflow import Zero, One, I, X, Y, Z\n",
    "from qiskit.ignis.verification.tomography import state_tomography_circuits, StateTomographyFitter\n",
    "from qiskit.quantum_info import state_fidelity\n",
    "import matplotlib.pyplot as plt\n",
    "import warnings\n",
    "warnings.filterwarnings('ignore')\n",
    "\n",
    "IBMQ.load_account()\n",
    "provider = IBMQ.get_provider(hub='ibm-q-community', group='ibmquantumawards', project='open-science-22')\n",
    "\n",
    "backend_sim_jakarta = QasmSimulator.from_backend(provider.get_backend('ibmq_jakarta'))\n",
    "backend_real_jakarta = provider.get_backend('ibmq_jakarta')\n",
    "backend_sim = Aer.get_backend('qasm_simulator')"
   ]
  },
  {
   "cell_type": "code",
   "execution_count": 14,
   "metadata": {},
   "outputs": [
    {
     "data": {
      "text/html": [
       "<pre style=\"word-wrap: normal;white-space: pre;background: #fff0;line-height: 1.1;font-family: &quot;Courier New&quot;,Courier,monospace\">        ┌───┐      ░ ┌─┐      \n",
       " q19_0: ┤ H ├──■───░─┤M├──────\n",
       "        └───┘┌─┴─┐ ░ └╥┘┌─┐   \n",
       " q19_1: ─────┤ X ├─░──╫─┤M├───\n",
       "             └───┘ ░  ║ └╥┘┌─┐\n",
       " q19_2: ───────────░──╫──╫─┤M├\n",
       "                   ░  ║  ║ └╥┘\n",
       "meas: 3/══════════════╩══╩══╩═\n",
       "                      0  1  2 </pre>"
      ],
      "text/plain": [
       "        ┌───┐      ░ ┌─┐      \n",
       " q19_0: ┤ H ├──■───░─┤M├──────\n",
       "        └───┘┌─┴─┐ ░ └╥┘┌─┐   \n",
       " q19_1: ─────┤ X ├─░──╫─┤M├───\n",
       "             └───┘ ░  ║ └╥┘┌─┐\n",
       " q19_2: ───────────░──╫──╫─┤M├\n",
       "                   ░  ║  ║ └╥┘\n",
       "meas: 3/══════════════╩══╩══╩═\n",
       "                      0  1  2 "
      ]
     },
     "execution_count": 14,
     "metadata": {},
     "output_type": "execute_result"
    }
   ],
   "source": [
    "qr = QuantumRegister(3)\n",
    "qc = QuantumCircuit(qr)\n",
    "\n",
    "qc.h(qr[0])\n",
    "qc.cx(qr[0],qr[1])\n",
    "#qc.cx(qr[1],qr[2])\n",
    "qc.measure_all()\n",
    "\n",
    "qc.draw()"
   ]
  },
  {
   "cell_type": "code",
   "execution_count": 29,
   "metadata": {},
   "outputs": [],
   "source": [
    "job = execute(qc, backend=backend_sim_jakarta, shots=80)"
   ]
  },
  {
   "cell_type": "code",
   "execution_count": 30,
   "metadata": {},
   "outputs": [],
   "source": [
    "counts = job.result().get_counts()"
   ]
  },
  {
   "cell_type": "markdown",
   "metadata": {},
   "source": [
    "qui ad esempio puoi vedere i counts dello stato \"011\"."
   ]
  },
  {
   "cell_type": "code",
   "execution_count": 31,
   "metadata": {},
   "outputs": [
    {
     "data": {
      "text/plain": [
       "27"
      ]
     },
     "execution_count": 31,
     "metadata": {},
     "output_type": "execute_result"
    }
   ],
   "source": [
    "counts[\"011\"]"
   ]
  },
  {
   "cell_type": "markdown",
   "metadata": {},
   "source": [
    "però attenzione perchè se non ne conta nemmeno uno ti da errore, e io per un po non avevo capito questa cosa e ci ho smattato. come in questo caso:"
   ]
  },
  {
   "cell_type": "code",
   "execution_count": 34,
   "metadata": {},
   "outputs": [
    {
     "ename": "KeyError",
     "evalue": "'111'",
     "output_type": "error",
     "traceback": [
      "\u001b[0;31m---------------------------------------------------------------------------\u001b[0m",
      "\u001b[0;31mKeyError\u001b[0m                                  Traceback (most recent call last)",
      "\u001b[1;32m/Users/valerio/Documents/project_IBM_01/IBM_git/counts_per_ruben.ipynb Cell 8'\u001b[0m in \u001b[0;36m<cell line: 1>\u001b[0;34m()\u001b[0m\n\u001b[0;32m----> <a href='vscode-notebook-cell:/Users/valerio/Documents/project_IBM_01/IBM_git/counts_per_ruben.ipynb#ch0000005?line=0'>1</a>\u001b[0m counts[\u001b[39m\"\u001b[39;49m\u001b[39m111\u001b[39;49m\u001b[39m\"\u001b[39;49m]\n",
      "\u001b[0;31mKeyError\u001b[0m: '111'"
     ]
    }
   ],
   "source": [
    "counts[\"111\"]"
   ]
  },
  {
   "cell_type": "markdown",
   "metadata": {},
   "source": [
    "per risolvere questo errore basta mettere un if prima di usare il dict:"
   ]
  },
  {
   "cell_type": "code",
   "execution_count": 36,
   "metadata": {},
   "outputs": [
    {
     "name": "stdout",
     "output_type": "stream",
     "text": [
      "0\n"
     ]
    }
   ],
   "source": [
    "if \"111\" in counts.keys():\n",
    "    print(counts[\"111\"])\n",
    "else:\n",
    "    print(0)"
   ]
  },
  {
   "cell_type": "markdown",
   "metadata": {},
   "source": [
    "quindi se devi sommare tutti gli stati com M = 1 basta fare così:"
   ]
  },
  {
   "cell_type": "code",
   "execution_count": 37,
   "metadata": {},
   "outputs": [
    {
     "data": {
      "text/plain": [
       "17"
      ]
     },
     "execution_count": 37,
     "metadata": {},
     "output_type": "execute_result"
    }
   ],
   "source": [
    "stati = [\"100\",\"010\",\"001\"]\n",
    "numero_stati_m_1 = 0\n",
    "\n",
    "for stato in stati:\n",
    "    if stato in counts.keys():\n",
    "        numero_stati_m_1 += counts[stato]\n",
    "\n",
    "numero_stati_m_1"
   ]
  },
  {
   "cell_type": "markdown",
   "metadata": {},
   "source": [
    "e questo è tutto."
   ]
  },
  {
   "cell_type": "code",
   "execution_count": null,
   "metadata": {},
   "outputs": [],
   "source": []
  }
 ],
 "metadata": {
  "interpreter": {
   "hash": "aee8b7b246df8f9039afb4144a1f6fd8d2ca17a180786b69acc140d282b71a49"
  },
  "kernelspec": {
   "display_name": "Python 3.10.2 64-bit",
   "language": "python",
   "name": "python3"
  },
  "language_info": {
   "codemirror_mode": {
    "name": "ipython",
    "version": 3
   },
   "file_extension": ".py",
   "mimetype": "text/x-python",
   "name": "python",
   "nbconvert_exporter": "python",
   "pygments_lexer": "ipython3",
   "version": "3.10.2"
  },
  "orig_nbformat": 4
 },
 "nbformat": 4,
 "nbformat_minor": 2
}
