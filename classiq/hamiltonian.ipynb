{
 "cells": [
  {
   "cell_type": "code",
   "execution_count": 44,
   "metadata": {},
   "outputs": [],
   "source": [
    "qubits = 10"
   ]
  },
  {
   "cell_type": "markdown",
   "metadata": {},
   "source": [
    "# classiq hamiltonian decomposition challenge\n",
    "\n",
    "Here we analize the hamiltonian written on the file *hamiltonian.txt*."
   ]
  },
  {
   "cell_type": "code",
   "execution_count": 45,
   "metadata": {},
   "outputs": [],
   "source": [
    "hamiltonian = open(\"hamiltonian.txt\", \"r\")\n",
    "terms = {} # this dict contains the coefficient related to a specific compination of pauli operator.\n",
    "           # example: {\"ZZIIIXXIII\": -1.00234454865}\n",
    "for i, term in enumerate(hamiltonian):\n",
    "    if term != \"\\n\":\n",
    "        term = term.replace(\"\\n\", \"\")\n",
    "        term = term.replace(\"+\", \"+1\")\n",
    "        term = term.replace(\"-\", \"-1\")\n",
    "        terms_aus = term.split(\" \")\n",
    "        terms[terms_aus[3]] = float(terms_aus[0])*float(terms_aus[1])"
   ]
  },
  {
   "cell_type": "markdown",
   "metadata": {},
   "source": [
    "Here we group the operators that compose the Hamiltonian sorting them by the number of interacting qubit."
   ]
  },
  {
   "cell_type": "code",
   "execution_count": 49,
   "metadata": {},
   "outputs": [],
   "source": [
    "keys = list(terms.keys())\n",
    "how_many_I = []\n",
    "for n_I in range(qubits+1):\n",
    "    how_many_I.append([])\n",
    "    for i in range(len(keys)):\n",
    "        if [char for char in keys[i]].count(\"I\") == n_I:\n",
    "            how_many_I[n_I].append(keys[i])"
   ]
  },
  {
   "cell_type": "code",
   "execution_count": 52,
   "metadata": {},
   "outputs": [
    {
     "name": "stdout",
     "output_type": "stream",
     "text": [
      "276\n"
     ]
    },
    {
     "data": {
      "text/plain": [
       "[4, 8, 8, 16, 56, 52, 32, 40, 49, 10, 1]"
      ]
     },
     "execution_count": 52,
     "metadata": {},
     "output_type": "execute_result"
    }
   ],
   "source": [
    "lens = [len(how_many_I[i]) for i in range(qubits+1)]\n",
    "print(sum(lens))\n",
    "lens"
   ]
  },
  {
   "cell_type": "markdown",
   "metadata": {},
   "source": [
    "now I wont to group the terms not only for the \"I\" occurrences but also for the position of them."
   ]
  },
  {
   "cell_type": "code",
   "execution_count": 63,
   "metadata": {},
   "outputs": [
    {
     "ename": "AttributeError",
     "evalue": "'NoneType' object has no attribute 'remove'",
     "output_type": "error",
     "traceback": [
      "\u001b[0;31m---------------------------------------------------------------------------\u001b[0m",
      "\u001b[0;31mAttributeError\u001b[0m                            Traceback (most recent call last)",
      "\u001b[1;32m/Users/valerio/Documents/project_IBM_01/IBM_git/classiq/hamiltonian.ipynb Cell 8'\u001b[0m in \u001b[0;36m<cell line: 22>\u001b[0;34m()\u001b[0m\n\u001b[1;32m     <a href='vscode-notebook-cell:/Users/valerio/Documents/project_IBM_01/IBM_git/classiq/hamiltonian.ipynb#ch0000016?line=18'>19</a>\u001b[0m     interacting_qubits_check \u001b[39m=\u001b[39m [\u001b[39mstr\u001b[39m[i]\u001b[39m!=\u001b[39m\u001b[39m\"\u001b[39m\u001b[39mI\u001b[39m\u001b[39m\"\u001b[39m \u001b[39mfor\u001b[39;00m i \u001b[39min\u001b[39;00m qubit_list]\n\u001b[1;32m     <a href='vscode-notebook-cell:/Users/valerio/Documents/project_IBM_01/IBM_git/classiq/hamiltonian.ipynb#ch0000016?line=19'>20</a>\u001b[0m     not_interacting_qubits_check \u001b[39m=\u001b[39m [\u001b[39mstr\u001b[39m[i]\u001b[39m!=\u001b[39m\u001b[39m\"\u001b[39m\u001b[39mI\u001b[39m\u001b[39m\"\u001b[39m \u001b[39mfor\u001b[39;00m i \u001b[39min\u001b[39;00m qubit_list]\n\u001b[0;32m---> <a href='vscode-notebook-cell:/Users/valerio/Documents/project_IBM_01/IBM_git/classiq/hamiltonian.ipynb#ch0000016?line=21'>22</a>\u001b[0m interaction_check(\u001b[39mstr\u001b[39;49m\u001b[39m=\u001b[39;49m\u001b[39m\"\u001b[39;49m\u001b[39mZZZIIIZZZI\u001b[39;49m\u001b[39m\"\u001b[39;49m, qubit_list\u001b[39m=\u001b[39;49m[\u001b[39m1\u001b[39;49m,\u001b[39m2\u001b[39;49m,\u001b[39m3\u001b[39;49m])\n",
      "\u001b[1;32m/Users/valerio/Documents/project_IBM_01/IBM_git/classiq/hamiltonian.ipynb Cell 8'\u001b[0m in \u001b[0;36minteraction_check\u001b[0;34m(str, qubit_list)\u001b[0m\n\u001b[1;32m     <a href='vscode-notebook-cell:/Users/valerio/Documents/project_IBM_01/IBM_git/classiq/hamiltonian.ipynb#ch0000016?line=14'>15</a>\u001b[0m antiqubits \u001b[39m=\u001b[39m \u001b[39mlist\u001b[39m(\u001b[39mrange\u001b[39m(\u001b[39m10\u001b[39m))\n\u001b[1;32m     <a href='vscode-notebook-cell:/Users/valerio/Documents/project_IBM_01/IBM_git/classiq/hamiltonian.ipynb#ch0000016?line=15'>16</a>\u001b[0m \u001b[39mfor\u001b[39;00m qubit \u001b[39min\u001b[39;00m qubit_list:\n\u001b[0;32m---> <a href='vscode-notebook-cell:/Users/valerio/Documents/project_IBM_01/IBM_git/classiq/hamiltonian.ipynb#ch0000016?line=16'>17</a>\u001b[0m     antiqubits \u001b[39m=\u001b[39m antiqubits\u001b[39m.\u001b[39;49mremove(qubit)\n\u001b[1;32m     <a href='vscode-notebook-cell:/Users/valerio/Documents/project_IBM_01/IBM_git/classiq/hamiltonian.ipynb#ch0000016?line=17'>18</a>\u001b[0m \u001b[39mprint\u001b[39m(antiqubits)\n\u001b[1;32m     <a href='vscode-notebook-cell:/Users/valerio/Documents/project_IBM_01/IBM_git/classiq/hamiltonian.ipynb#ch0000016?line=18'>19</a>\u001b[0m interacting_qubits_check \u001b[39m=\u001b[39m [\u001b[39mstr\u001b[39m[i]\u001b[39m!=\u001b[39m\u001b[39m\"\u001b[39m\u001b[39mI\u001b[39m\u001b[39m\"\u001b[39m \u001b[39mfor\u001b[39;00m i \u001b[39min\u001b[39;00m qubit_list]\n",
      "\u001b[0;31mAttributeError\u001b[0m: 'NoneType' object has no attribute 'remove'"
     ]
    }
   ],
   "source": [
    "def interaction_check(str, qubit_list):\n",
    "    '''\n",
    "    this function checks if the string that raprenents the operator is applyed to the qubits \"qubits\".\n",
    "    for example if the imput are:\n",
    "        - str = \"ZZZIIZIIII\", qubits = [0, 1, 2, 5], it will return True.\n",
    "        - str = \"ZIIIIZIIII\", qubits = [0, 1, 2, 5], it will return False.\n",
    "    \n",
    "    Args: \n",
    "        str (string)\n",
    "        qubits (list of int)\n",
    "\n",
    "    Return:\n",
    "        boolean (True or False)\n",
    "    '''\n",
    "    antiqubits = list(range(10))\n",
    "    for qubit in qubit_list:\n",
    "        antiqubits = antiqubits.remove(qubit)\n",
    "    print(antiqubits)\n",
    "    interacting_qubits_check = [str[i]!=\"I\" for i in qubit_list]\n",
    "    not_interacting_qubits_check = [str[i]!=\"I\" for i in qubit_list]\n",
    "\n",
    "interaction_check(str=\"ZZZIIIZZZI\", qubit_list=[1,2,3])"
   ]
  },
  {
   "cell_type": "code",
   "execution_count": 53,
   "metadata": {},
   "outputs": [
    {
     "name": "stdout",
     "output_type": "stream",
     "text": [
      "['YZZZYYZZZY', 'XZZZXYZZZY', 'YZZZYXZZZX', 'XZZZXXZZZX']\n",
      "['YZZYIYZZZY', 'XZZXIYZZZY', 'YZZYIXZZZX', 'XZZXIXZZZX', 'YZZZYYZZYI', 'XZZZXYZZYI', 'YZZZYXZZXI', 'XZZZXXZZXI']\n",
      "['IYZZYIYZZY', 'IXZZXIYZZY', 'IYZZYIXZZX', 'IXZZXIXZZX', 'YZZYIYZZYI', 'XZZXIYZZYI', 'YZZYIXZZXI', 'XZZXIXZZXI']\n",
      "['YZZZYIIIYY', 'XZZZXIIIYY', 'YZZZYIIIXX', 'XZZZXIIIXX', 'IYZYIIYZZY', 'IXZXIIYZZY', 'IYZYIIXZZX', 'IXZXIIXZZX', 'IIIYYYZZZY', 'IIIXXYZZZY', 'IIIYYXZZZX', 'IIIXXXZZZX', 'IYZZYIYZYI', 'IXZZXIYZYI', 'IYZZYIXZXI', 'IXZZXIXZXI']\n",
      "['YZZYIIIIYY', 'XZZXIIIIYY', 'YZZYIIIIXX', 'XZZXIIIIXX', 'IIYZYIIYZY', 'IIXZXIIYZY', 'IIYZYIIXZX', 'IIXZXIIXZX', 'YZYIIIIYZY', 'XZXIIIIYZY', 'YZYIIIIXZX', 'XZXIIIIXZX', 'YYIIIIYZZY', 'XXIIIIYZZY', 'YYIIIIXZZX', 'XXIIIIXZZX', 'ZIIIIYZZZY', 'ZIIIIXZZZX', 'IZIIIYZZZY', 'IZIIIXZZZX', 'IIZIIYZZZY', 'IIZIIXZZZX', 'IIIZIYZZZY', 'IIIZIXZZZX', 'IIIIZYZZZY', 'IIIIZXZZZX', 'IYZYIIYZYI', 'IXZXIIYZYI', 'IYZYIIXZXI', 'IXZXIIXZXI', 'IIIYYYZZYI', 'IIIXXYZZYI', 'IIIYYXZZXI', 'IIIXXXZZXI', 'IIYZYYZYII', 'IIXZXYZYII', 'IIYZYXZXII', 'IIXZXXZXII', 'YZYIIYZYII', 'XZXIIYZYII', 'YZYIIXZXII', 'XZXIIXZXII', 'IYZZYYYIII', 'IXZZXYYIII', 'IYZZYXXIII', 'IXZZXXXIII', 'YZZZYZIIII', 'XZZZXZIIII', 'YZZZYIZIII', 'XZZZXIZIII', 'YZZZYIIZII', 'XZZZXIIZII', 'YZZZYIIIZI', 'XZZZXIIIZI', 'YZZZYIIIIZ', 'XZZZXIIIIZ']\n",
      "['IIYYIIIYZY', 'IIXXIIIYZY', 'IIYYIIIXZX', 'IIXXIIIXZX', 'IIIIIYZZZY', 'IIIIIXZZZX', 'IIYZYIIYYI', 'IIXZXIIYYI', 'IIYZYIIXXI', 'IIXZXIIXXI', 'YZYIIIIYYI', 'XZXIIIIYYI', 'YZYIIIIXXI', 'XZXIIIIXXI', 'YYIIIIYZYI', 'XXIIIIYZYI', 'YYIIIIXZXI', 'XXIIIIXZXI', 'ZIIIIYZZYI', 'ZIIIIXZZXI', 'IZIIIYZZYI', 'IZIIIXZZXI', 'IIZIIYZZYI', 'IIZIIXZZXI', 'IIIZIYZZYI', 'IIIZIXZZXI', 'IIIIZYZZYI', 'IIIIZXZZXI', 'IIYYIYZYII', 'IIXXIYZYII', 'IIYYIXZXII', 'IIXXIXZXII', 'IYZYIYYIII', 'IXZXIYYIII', 'IYZYIXXIII', 'IXZXIXXIII', 'YZZZYIIIII', 'XZZZXIIIII', 'YZZYZIIIII', 'XZZXZIIIII', 'YZZYIZIIII', 'XZZXIZIIII', 'YZZYIIZIII', 'XZZXIIZIII', 'YZZYIIIZII', 'XZZXIIIZII', 'YZZYIIIIZI', 'XZZXIIIIZI', 'IIIIIYZZYZ', 'IIIIIXZZXZ', 'YZZYIIIIIZ', 'XZZXIIIIIZ']\n",
      "['IIIYYIIIYY', 'IIIXXIIIYY', 'IIIYYIIIXX', 'IIIXXIIIXX', 'IIIIIYIZZY', 'IIIIIXIZZX', 'IIIIIYZIZY', 'IIIIIXZIZX', 'IIIIIYZZIY', 'IIIIIXZZIX', 'IIYYIIIYYI', 'IIXXIIIYYI', 'IIYYIIIXXI', 'IIXXIIIXXI', 'IIIIIYZZYI', 'IIIIIXZZXI', 'IYYIIIYYII', 'IXXIIIYYII', 'IYYIIIXXII', 'IXXIIIXXII', 'YYIIIYYIII', 'XXIIIYYIII', 'YYIIIXXIII', 'XXIIIXXIII', 'YIZZYIIIII', 'XIZZXIIIII', 'YZIZYIIIII', 'XZIZXIIIII', 'YZZIYIIIII', 'XZZIXIIIII', 'YZZYIIIIII', 'XZZXIIIIII']\n",
      "['ZIIIIIIIYY', 'ZIIIIIIIXX', 'IZIIIIIIYY', 'IZIIIIIIXX', 'IIZIIIIIYY', 'IIZIIIIIXX', 'IIIZIIIIYY', 'IIIZIIIIXX', 'IIIIZIIIYY', 'IIIIZIIIXX', 'IIIIIZIIYY', 'IIIIIZIIXX', 'IIIIIIZIYY', 'IIIIIIZIXX', 'IIIIIIIZYY', 'IIIIIIIZXX', 'IIIIIYIZYI', 'IIIIIXIZXI', 'IIIIIYZIYI', 'IIIIIXZIXI', 'ZIIYYIIIII', 'ZIIXXIIIII', 'IZIYYIIIII', 'IZIXXIIIII', 'IIZYYIIIII', 'IIZXXIIIII', 'YIZYIIIIII', 'XIZXIIIIII', 'YZIYIIIIII', 'XZIXIIIIII', 'IIIYYZIIII', 'IIIXXZIIII', 'IIIYYIZIII', 'IIIXXIZIII', 'IIIYYIIZII', 'IIIXXIIZII', 'IIIYYIIIZI', 'IIIXXIIIZI', 'IIIYYIIIIZ', 'IIIXXIIIIZ']\n",
      "['IIIIIIIIYY', 'IIIIIIIIXX', 'IIIYYIIIII', 'IIIXXIIIII', 'ZZIIIIIIII', 'ZIZIIIIIII', 'IZZIIIIIII', 'ZIIZIIIIII', 'IZIZIIIIII', 'IIZZIIIIII', 'ZIIIZIIIII', 'IZIIZIIIII', 'IIZIZIIIII', 'IIIZZIIIII', 'ZIIIIZIIII', 'IZIIIZIIII', 'IIZIIZIIII', 'IIIZIZIIII', 'IIIIZZIIII', 'ZIIIIIZIII', 'IZIIIIZIII', 'IIZIIIZIII', 'IIIZIIZIII', 'IIIIZIZIII', 'IIIIIZZIII', 'ZIIIIIIZII', 'IZIIIIIZII', 'IIZIIIIZII', 'IIIZIIIZII', 'IIIIZIIZII', 'IIIIIZIZII', 'IIIIIIZZII', 'ZIIIIIIIZI', 'IZIIIIIIZI', 'IIZIIIIIZI', 'IIIZIIIIZI', 'IIIIZIIIZI', 'IIIIIZIIZI', 'IIIIIIZIZI', 'IIIIIIIZZI', 'ZIIIIIIIIZ', 'IZIIIIIIIZ', 'IIZIIIIIIZ', 'IIIZIIIIIZ', 'IIIIZIIIIZ', 'IIIIIZIIIZ', 'IIIIIIZIIZ', 'IIIIIIIZIZ', 'IIIIIIIIZZ']\n",
      "['ZIIIIIIIII', 'IZIIIIIIII', 'IIZIIIIIII', 'IIIZIIIIII', 'IIIIZIIIII', 'IIIIIZIIII', 'IIIIIIZIII', 'IIIIIIIZII', 'IIIIIIIIZI', 'IIIIIIIIIZ']\n",
      "['IIIIIIIIII']\n"
     ]
    }
   ],
   "source": [
    "gate_with_qubits = {} # this dict is in the form: {\"qubits\": number_of_operators}\n",
    "                      # example: {\"35689\": 4}. qubits 3, 5, 6, 8 and 9 have 4 operators with only them.\n",
    "for n_I in how_many_I:\n",
    "    print(n_I)\n"
   ]
  },
  {
   "cell_type": "code",
   "execution_count": null,
   "metadata": {},
   "outputs": [],
   "source": []
  }
 ],
 "metadata": {
  "interpreter": {
   "hash": "aee8b7b246df8f9039afb4144a1f6fd8d2ca17a180786b69acc140d282b71a49"
  },
  "kernelspec": {
   "display_name": "Python 3.10.2 64-bit",
   "language": "python",
   "name": "python3"
  },
  "language_info": {
   "codemirror_mode": {
    "name": "ipython",
    "version": 3
   },
   "file_extension": ".py",
   "mimetype": "text/x-python",
   "name": "python",
   "nbconvert_exporter": "python",
   "pygments_lexer": "ipython3",
   "version": "3.10.2"
  },
  "orig_nbformat": 4
 },
 "nbformat": 4,
 "nbformat_minor": 2
}
