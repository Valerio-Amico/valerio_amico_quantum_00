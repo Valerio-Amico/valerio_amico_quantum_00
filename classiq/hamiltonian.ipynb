{
 "cells": [
  {
   "cell_type": "code",
   "execution_count": 44,
   "metadata": {},
   "outputs": [],
   "source": [
    "qubits = 10"
   ]
  },
  {
   "cell_type": "markdown",
   "metadata": {},
   "source": [
    "# classiq hamiltonian decomposition challenge\n",
    "\n",
    "Here we analize the hamiltonian written on the file *hamiltonian.txt*."
   ]
  },
  {
   "cell_type": "code",
   "execution_count": 45,
   "metadata": {},
   "outputs": [],
   "source": [
    "hamiltonian = open(\"hamiltonian.txt\", \"r\")\n",
    "terms = {} # this dict contains the coefficient related to a specific compination of pauli operator.\n",
    "           # example: {\"ZZIIIXXIII\": -1.00234454865}\n",
    "for i, term in enumerate(hamiltonian):\n",
    "    if term != \"\\n\":\n",
    "        term = term.replace(\"\\n\", \"\")\n",
    "        term = term.replace(\"+\", \"+1\")\n",
    "        term = term.replace(\"-\", \"-1\")\n",
    "        terms_aus = term.split(\" \")\n",
    "        terms[terms_aus[3]] = float(terms_aus[0])*float(terms_aus[1])"
   ]
  },
  {
   "cell_type": "markdown",
   "metadata": {},
   "source": [
    "Here we group the operators that compose the Hamiltonian sorting them by the number of interacting qubit."
   ]
  },
  {
   "cell_type": "code",
   "execution_count": 49,
   "metadata": {},
   "outputs": [],
   "source": [
    "keys = list(terms.keys())\n",
    "how_many_I = []\n",
    "for n_I in range(qubits+1):\n",
    "    how_many_I.append([])\n",
    "    for i in range(len(keys)):\n",
    "        if [char for char in keys[i]].count(\"I\") == n_I:\n",
    "            how_many_I[n_I].append(keys[i])"
   ]
  },
  {
   "cell_type": "code",
   "execution_count": 50,
   "metadata": {},
   "outputs": [
    {
     "data": {
      "text/plain": [
       "[4, 8, 8, 16, 56, 52, 32, 40, 49, 10, 1]"
      ]
     },
     "execution_count": 50,
     "metadata": {},
     "output_type": "execute_result"
    }
   ],
   "source": [
    "lens = [len(how_many_I[i]) for i in range(qubits+1)]\n",
    "lens"
   ]
  },
  {
   "cell_type": "code",
   "execution_count": 51,
   "metadata": {},
   "outputs": [
    {
     "data": {
      "text/plain": [
       "276"
      ]
     },
     "execution_count": 51,
     "metadata": {},
     "output_type": "execute_result"
    }
   ],
   "source": [
    "sum(lens)"
   ]
  },
  {
   "cell_type": "code",
   "execution_count": null,
   "metadata": {},
   "outputs": [],
   "source": []
  }
 ],
 "metadata": {
  "interpreter": {
   "hash": "aee8b7b246df8f9039afb4144a1f6fd8d2ca17a180786b69acc140d282b71a49"
  },
  "kernelspec": {
   "display_name": "Python 3.10.2 64-bit",
   "language": "python",
   "name": "python3"
  },
  "language_info": {
   "codemirror_mode": {
    "name": "ipython",
    "version": 3
   },
   "file_extension": ".py",
   "mimetype": "text/x-python",
   "name": "python",
   "nbconvert_exporter": "python",
   "pygments_lexer": "ipython3",
   "version": "3.10.2"
  },
  "orig_nbformat": 4
 },
 "nbformat": 4,
 "nbformat_minor": 2
}
