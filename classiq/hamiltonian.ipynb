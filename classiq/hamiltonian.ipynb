{
 "cells": [
  {
   "cell_type": "code",
   "execution_count": 1,
   "metadata": {},
   "outputs": [],
   "source": [
    "qubits = 10"
   ]
  },
  {
   "cell_type": "markdown",
   "metadata": {},
   "source": [
    "# classiq hamiltonian decomposition challenge\n",
    "\n",
    "Here we analize the hamiltonian written on the file *hamiltonian.txt*."
   ]
  },
  {
   "cell_type": "code",
   "execution_count": 2,
   "metadata": {},
   "outputs": [],
   "source": [
    "hamiltonian = open(\"hamiltonian.txt\", \"r\")\n",
    "terms = {} # this dict contains the coefficient related to a specific compination of pauli operator.\n",
    "           # example: {\"ZZIIIXXIII\": -1.00234454865}\n",
    "for i, term in enumerate(hamiltonian):\n",
    "    if term != \"\\n\":\n",
    "        term = term.replace(\"\\n\", \"\")\n",
    "        term = term.replace(\"+\", \"+1\")\n",
    "        term = term.replace(\"-\", \"-1\")\n",
    "        terms_aus = term.split(\" \")\n",
    "        terms[terms_aus[3]] = float(terms_aus[0])*float(terms_aus[1])"
   ]
  },
  {
   "cell_type": "markdown",
   "metadata": {},
   "source": [
    "Here we group the operators that compose the Hamiltonian sorting them by the number of interacting qubit."
   ]
  },
  {
   "cell_type": "code",
   "execution_count": 3,
   "metadata": {},
   "outputs": [],
   "source": [
    "keys = list(terms.keys())\n",
    "how_many_I = []\n",
    "for n_I in range(qubits+1):\n",
    "    how_many_I.append([])\n",
    "    for i in range(len(keys)):\n",
    "        if [char for char in keys[i]].count(\"I\") == n_I:\n",
    "            how_many_I[n_I].append(keys[i])"
   ]
  },
  {
   "cell_type": "code",
   "execution_count": 4,
   "metadata": {},
   "outputs": [
    {
     "name": "stdout",
     "output_type": "stream",
     "text": [
      "276\n"
     ]
    },
    {
     "data": {
      "text/plain": [
       "[4, 8, 8, 16, 56, 52, 32, 40, 49, 10, 1]"
      ]
     },
     "execution_count": 4,
     "metadata": {},
     "output_type": "execute_result"
    }
   ],
   "source": [
    "lens = [len(how_many_I[i]) for i in range(qubits+1)]\n",
    "print(sum(lens))\n",
    "lens"
   ]
  },
  {
   "cell_type": "markdown",
   "metadata": {},
   "source": [
    "now I wont to group the terms not only for the \"I\" occurrences but also for the position of them."
   ]
  },
  {
   "cell_type": "code",
   "execution_count": 24,
   "metadata": {},
   "outputs": [
    {
     "data": {
      "text/plain": [
       "True"
      ]
     },
     "execution_count": 24,
     "metadata": {},
     "output_type": "execute_result"
    }
   ],
   "source": [
    "def interaction_check(str, qubit_list):\n",
    "    '''\n",
    "    this function checks if the string that raprenents the operator is applyed to the qubits \"qubits\".\n",
    "    for example if the imput are:\n",
    "        - str = \"ZZZIIZIIII\", qubits = [0, 1, 2, 5], it will return True.\n",
    "        - str = \"ZIIIIZIIII\", qubits = [0, 1, 2, 5], it will return False.\n",
    "    \n",
    "    Args: \n",
    "        str (string)\n",
    "        qubits (list of int)\n",
    "\n",
    "    Return:\n",
    "        boolean (True or False)\n",
    "    '''\n",
    "    antiqubits = list(range(10))\n",
    "    for qubit in qubit_list:\n",
    "        antiqubits.remove(qubit)\n",
    "\n",
    "    interacting_qubits_check = all([str[i]!=\"I\" for i in qubit_list]) # is True if all the qubit_list is interacting\n",
    "    not_interacting_qubits_check = all([str[i]==\"I\" for i in antiqubits]) # is True if all the antiqubits are noninteracting\n",
    "    \n",
    "    return all([interacting_qubits_check, not_interacting_qubits_check])\n",
    "\n",
    "def string_to_IO(str):\n",
    "    str = str.replace(\"X\", \"O\")\n",
    "    str = str.replace(\"Y\", \"O\")\n",
    "    str = str.replace(\"Z\", \"O\")\n",
    "\n",
    "    return str\n",
    "\n",
    "\n",
    "interaction_check(str=\"ZZZIIIZZZI\", qubit_list=[0,1,2,6,7,8])"
   ]
  },
  {
   "cell_type": "code",
   "execution_count": 37,
   "metadata": {},
   "outputs": [
    {
     "name": "stdout",
     "output_type": "stream",
     "text": [
      "number of interaction patterns (dict keys) =  134\n",
      "number of total terms (check) =  276\n"
     ]
    },
    {
     "data": {
      "text/plain": [
       "{'OOOOOOOOOO': 4,\n",
       " 'OOOOIOOOOO': 4,\n",
       " 'OOOOOOOOOI': 4,\n",
       " 'IOOOOIOOOO': 4,\n",
       " 'OOOOIOOOOI': 4,\n",
       " 'OOOOOIIIOO': 4,\n",
       " 'IOOOIIOOOO': 4,\n",
       " 'IIIOOOOOOO': 4,\n",
       " 'IOOOOIOOOI': 4,\n",
       " 'OOOOIIIIOO': 4,\n",
       " 'IIOOOIIOOO': 4,\n",
       " 'OOOIIIIOOO': 4,\n",
       " 'OOIIIIOOOO': 4,\n",
       " 'OIIIIOOOOO': 2,\n",
       " 'IOIIIOOOOO': 2,\n",
       " 'IIOIIOOOOO': 2,\n",
       " 'IIIOIOOOOO': 2,\n",
       " 'IIIIOOOOOO': 2,\n",
       " 'IOOOIIOOOI': 4,\n",
       " 'IIIOOOOOOI': 4,\n",
       " 'IIOOOOOOII': 4,\n",
       " 'OOOIIOOOII': 4,\n",
       " 'IOOOOOOIII': 4,\n",
       " 'OOOOOOIIII': 2,\n",
       " 'OOOOOIOIII': 2,\n",
       " 'OOOOOIIOII': 2,\n",
       " 'OOOOOIIIOI': 2,\n",
       " 'OOOOOIIIIO': 2,\n",
       " 'IIOOIIIOOO': 4,\n",
       " 'IIIIIOOOOO': 4,\n",
       " 'IIOOOIIOOI': 4,\n",
       " 'OOOIIIIOOI': 4,\n",
       " 'OOIIIIOOOI': 4,\n",
       " 'OIIIIOOOOI': 2,\n",
       " 'IOIIIOOOOI': 2,\n",
       " 'IIOIIOOOOI': 2,\n",
       " 'IIIOIOOOOI': 2,\n",
       " 'IIIIOOOOOI': 2,\n",
       " 'IIOOIOOOII': 4,\n",
       " 'IOOOIOOIII': 4,\n",
       " 'OOOOOIIIII': 4,\n",
       " 'OOOOIOIIII': 2,\n",
       " 'OOOOIIOIII': 2,\n",
       " 'OOOOIIIOII': 2,\n",
       " 'OOOOIIIIOI': 2,\n",
       " 'OOOOIIIIIO': 2,\n",
       " 'IIIOOIIIOO': 4,\n",
       " 'IIIIIOIOOO': 2,\n",
       " 'IIIIIOOIOO': 2,\n",
       " 'IIIIIOOOIO': 2,\n",
       " 'IIOOIIIOOI': 4,\n",
       " 'IIIIIOOOOI': 2,\n",
       " 'IOOIIIOOII': 4,\n",
       " 'OOIIIOOIII': 4,\n",
       " 'OIOOOIIIII': 2,\n",
       " 'OOIOOIIIII': 2,\n",
       " 'OOOIOIIIII': 2,\n",
       " 'OOOOIIIIII': 2,\n",
       " 'OIIIIIIIOO': 2,\n",
       " 'IOIIIIIIOO': 2,\n",
       " 'IIOIIIIIOO': 2,\n",
       " 'IIIOIIIIOO': 2,\n",
       " 'IIIIOIIIOO': 2,\n",
       " 'IIIIIOIIOO': 2,\n",
       " 'IIIIIIOIOO': 2,\n",
       " 'IIIIIIIOOO': 2,\n",
       " 'IIIIIOIOOI': 2,\n",
       " 'IIIIIOOIOI': 2,\n",
       " 'OIIOOIIIII': 2,\n",
       " 'IOIOOIIIII': 2,\n",
       " 'IIOOOIIIII': 2,\n",
       " 'OIOOIIIIII': 2,\n",
       " 'OOIOIIIIII': 2,\n",
       " 'IIIOOOIIII': 2,\n",
       " 'IIIOOIOIII': 2,\n",
       " 'IIIOOIIOII': 2,\n",
       " 'IIIOOIIIOI': 2,\n",
       " 'IIIOOIIIIO': 2,\n",
       " 'IIIIIIIIOO': 3,\n",
       " 'IIIOOIIIII': 3,\n",
       " 'OOIIIIIIII': 1,\n",
       " 'OIOIIIIIII': 1,\n",
       " 'IOOIIIIIII': 1,\n",
       " 'OIIOIIIIII': 1,\n",
       " 'IOIOIIIIII': 1,\n",
       " 'IIOOIIIIII': 1,\n",
       " 'OIIIOIIIII': 1,\n",
       " 'IOIIOIIIII': 1,\n",
       " 'IIOIOIIIII': 1,\n",
       " 'OIIIIOIIII': 1,\n",
       " 'IOIIIOIIII': 1,\n",
       " 'IIOIIOIIII': 1,\n",
       " 'IIIOIOIIII': 1,\n",
       " 'IIIIOOIIII': 1,\n",
       " 'OIIIIIOIII': 1,\n",
       " 'IOIIIIOIII': 1,\n",
       " 'IIOIIIOIII': 1,\n",
       " 'IIIOIIOIII': 1,\n",
       " 'IIIIOIOIII': 1,\n",
       " 'IIIIIOOIII': 1,\n",
       " 'OIIIIIIOII': 1,\n",
       " 'IOIIIIIOII': 1,\n",
       " 'IIOIIIIOII': 1,\n",
       " 'IIIOIIIOII': 1,\n",
       " 'IIIIOIIOII': 1,\n",
       " 'IIIIIOIOII': 1,\n",
       " 'IIIIIIOOII': 1,\n",
       " 'OIIIIIIIOI': 1,\n",
       " 'IOIIIIIIOI': 1,\n",
       " 'IIOIIIIIOI': 1,\n",
       " 'IIIOIIIIOI': 1,\n",
       " 'IIIIOIIIOI': 1,\n",
       " 'IIIIIOIIOI': 1,\n",
       " 'IIIIIIOIOI': 1,\n",
       " 'IIIIIIIOOI': 1,\n",
       " 'OIIIIIIIIO': 1,\n",
       " 'IOIIIIIIIO': 1,\n",
       " 'IIOIIIIIIO': 1,\n",
       " 'IIIOIIIIIO': 1,\n",
       " 'IIIIOIIIIO': 1,\n",
       " 'IIIIIOIIIO': 1,\n",
       " 'IIIIIIOIIO': 1,\n",
       " 'IIIIIIIOIO': 1,\n",
       " 'OIIIIIIIII': 1,\n",
       " 'IOIIIIIIII': 1,\n",
       " 'IIOIIIIIII': 1,\n",
       " 'IIIOIIIIII': 1,\n",
       " 'IIIIOIIIII': 1,\n",
       " 'IIIIIOIIII': 1,\n",
       " 'IIIIIIOIII': 1,\n",
       " 'IIIIIIIOII': 1,\n",
       " 'IIIIIIIIOI': 1,\n",
       " 'IIIIIIIIIO': 1,\n",
       " 'IIIIIIIIII': 1}"
      ]
     },
     "execution_count": 37,
     "metadata": {},
     "output_type": "execute_result"
    }
   ],
   "source": [
    "gate_with_qubits = {} # this dict is in the form: {\"qubits\": number_of_operators}\n",
    "                      # example: {\"IIIOIOOIOO\": 4}. qubits 3, 5, 6, 8 and 9 have 4 operators with only them.\n",
    "for n_I in how_many_I:\n",
    "    for Opr in n_I:\n",
    "        IO_string = string_to_IO(Opr)\n",
    "        if IO_string not in gate_with_qubits.keys():\n",
    "            gate_with_qubits[IO_string] = 1\n",
    "        else:\n",
    "            gate_with_qubits[IO_string]+=1\n",
    "\n",
    "print(\"number of interaction patterns (dict keys) = \", len(gate_with_qubits))\n",
    "print(\"number of total terms (check) = \", sum(gate_with_qubits.values()))\n",
    "gate_with_qubits\n",
    "# where O represent any interaction [\"X\", \"Y\", \"Z\"] and I the identity"
   ]
  },
  {
   "cell_type": "code",
   "execution_count": null,
   "metadata": {},
   "outputs": [],
   "source": []
  }
 ],
 "metadata": {
  "interpreter": {
   "hash": "aee8b7b246df8f9039afb4144a1f6fd8d2ca17a180786b69acc140d282b71a49"
  },
  "kernelspec": {
   "display_name": "Python 3.10.2 64-bit",
   "language": "python",
   "name": "python3"
  },
  "language_info": {
   "codemirror_mode": {
    "name": "ipython",
    "version": 3
   },
   "file_extension": ".py",
   "mimetype": "text/x-python",
   "name": "python",
   "nbconvert_exporter": "python",
   "pygments_lexer": "ipython3",
   "version": "3.10.2"
  },
  "orig_nbformat": 4
 },
 "nbformat": 4,
 "nbformat_minor": 2
}
