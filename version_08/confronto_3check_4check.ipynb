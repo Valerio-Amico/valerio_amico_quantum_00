{
 "cells": [
  {
   "cell_type": "code",
   "execution_count": null,
   "metadata": {},
   "outputs": [],
   "source": [
    "import funzioni02 as f2\n",
    "from copy import deepcopy\n",
    "import numpy as np\n",
    "import datetime\n",
    "import qiskit.ignis.mitigation.measurement as mc\n",
    "from qiskit import Aer, assemble, QuantumCircuit, QuantumRegister, ClassicalRegister, IBMQ, transpile, execute\n",
    "from qiskit.providers.aer import AerSimulator, QasmSimulator\n",
    "from qiskit.opflow import Zero, One, I, X, Y, Z\n",
    "from qiskit.ignis.verification.tomography import state_tomography_circuits, StateTomographyFitter\n",
    "from qiskit.quantum_info import state_fidelity\n",
    "import matplotlib.pyplot as plt\n",
    "\n",
    "IBMQ.load_account()\n",
    "provider = IBMQ.get_provider(hub='ibm-q-community', group='ibmquantumawards', project='open-science-22')\n",
    "\n",
    "sim_noisy_jakarta = QasmSimulator.from_backend(provider.get_backend('ibmq_jakarta'))\n",
    "backend_sim_jakarta = sim_noisy_jakarta \n",
    "backend = provider.get_backend('ibmq_jakarta')\n",
    "backend_sim = Aer.get_backend('qasm_simulator')"
   ]
  },
  {
   "cell_type": "code",
   "execution_count": null,
   "metadata": {},
   "outputs": [],
   "source": [
    "shots=8192\n",
    "reps=4        # al massimo 10\n",
    "precision=40\n",
    "time=np.pi\n",
    "backend_aus=backend_sim_jakarta\n",
    "#check=[\"4copy_check\", [0,2,4,6]]\n",
    "evo_type=\"column_evolution\" # \"column_evolution\" or \"complete_evolution\" or \"trotter_steps\"\n",
    "measure_mitigation = \"yes\"  #\"yes\" or \"no\"\n",
    "steps=42"
   ]
  },
  {
   "cell_type": "code",
   "execution_count": null,
   "metadata": {},
   "outputs": [],
   "source": [
    "qcs_reps = []\n",
    "\n",
    "for _ in range(reps):\n",
    "    check=[\"copy_check\", [0,2,4]]\n",
    "    qcs, qcs_na = f2.evolution_tomo(type=evo_type, N_steps=steps, tempo=time, precision=precision, initial_state='110', check=check)\n",
    "    qcs_reps=qcs_reps + qcs\n",
    "    \n",
    "    check=[\"4copy_check\", [0,2,4,6]]\n",
    "    qcs, qcs_na = f2.evolution_tomo(type=evo_type, N_steps=steps, tempo=time, precision=precision, initial_state='110', check=check)\n",
    "    qcs_reps=qcs_reps + qcs\n",
    "\n",
    "reps=reps*2"
   ]
  },
  {
   "cell_type": "code",
   "execution_count": null,
   "metadata": {},
   "outputs": [],
   "source": [
    "check=[\"copy_check\", [0,2,4]]\n",
    "qcs_calibs, meas_calibs = f2.calibration_cirquits(evo_type+\"_remake\", q_anc=check[1], check=\"yes\", check_type=check[0])\n",
    "state_lables = f2.bin_list(3+len(check[1]))\n",
    "\n",
    "check=[\"4copy_check\", [0,2,4,6]]\n",
    "qcs_calibs4, meas_calibs4 = f2.calibration_cirquits(evo_type+\"_remake\", q_anc=check[1], check=\"yes\", check_type=check[0])\n",
    "state_lables4 = f2.bin_list(3+len(check[1])) "
   ]
  },
  {
   "cell_type": "code",
   "execution_count": null,
   "metadata": {},
   "outputs": [],
   "source": [
    "job_evo=execute(qcs_reps, backend=backend_aus, shots=shots)\n",
    "\n",
    "job_cal=execute(meas_calibs, backend=backend_aus, shots=shots)\n",
    "job_cal_our=execute(qcs_calibs, backend=backend_aus, shots=shots)\n",
    "\n",
    "job_cal4=execute(meas_calibs4, backend=backend_aus, shots=shots)\n",
    "job_cal_our4=execute(qcs_calibs4, backend=backend_aus, shots=shots)\n",
    "\n",
    "jobs_evo_res=[]"
   ]
  },
  {
   "cell_type": "code",
   "execution_count": null,
   "metadata": {},
   "outputs": [],
   "source": [
    "for i in range(reps):\n",
    "    \n",
    "    if i%2==0:\n",
    "        job=execute(qcs_reps[0:27],backend=backend_sim, shots=10)\n",
    "    else:\n",
    "        job=execute(qcs_reps[27:27*2],backend=backend_sim, shots=10)\n",
    "        \n",
    "    results = job.result()\n",
    "    \n",
    "    for j in range(27):\n",
    "        results.results[j].data.counts = job_evo.result().get_counts()[i*27+j]\n",
    "    \n",
    "    #print(results.get_counts()[0])\n",
    "    jobs_evo_res.append(results)"
   ]
  },
  {
   "cell_type": "code",
   "execution_count": null,
   "metadata": {},
   "outputs": [],
   "source": [
    "meas_fitter = mc.CompleteMeasFitter(job_cal.result(), state_labels=state_lables)\n",
    "meas_fitter_our = mc.CompleteMeasFitter(job_cal_our.result(), state_labels=state_lables)\n",
    "meas_fitter4 = mc.CompleteMeasFitter(job_cal4.result(), state_labels=state_lables4)\n",
    "meas_fitter_our4 = mc.CompleteMeasFitter(job_cal_our4.result(), state_labels=state_lables4)\n",
    "\n",
    "target_state = (One^One^Zero).to_matrix()\n",
    "\n",
    "fids=np.zeros([4])\n",
    "\n",
    "fids=np.zeros([reps,4])\n",
    "fids_mean=np.zeros(4)\n",
    "fids_dev=np.zeros(4)\n",
    "\n",
    "fids4=np.zeros([4])\n",
    "\n",
    "fids4=np.zeros([reps,4])\n",
    "fids_mean4=np.zeros(4)\n",
    "fids_dev4=np.zeros(4)\n",
    "\n",
    "ii=0\n",
    "iy=0\n",
    "for i in range(len(jobs_evo_res)):\n",
    "\n",
    "    print(i)\n",
    "    if i%2==0:\n",
    "        \n",
    "        res=deepcopy(jobs_evo_res[i])\n",
    "\n",
    "        new_res, new_res_nm = f2.mitigate(res, Measure_Mitig=\"yes\", ancillas_conditions=['011','110','101'], meas_fitter=meas_fitter)\n",
    "        new_res_our, new_res_nm = f2.mitigate(res, Measure_Mitig=\"yes\", ancillas_conditions=['011','110','101'], meas_fitter=meas_fitter_our)\n",
    "        new_res_not_mitigated = f2.mitigate(res, Measure_Mitig=\"no\", ancillas_conditions=f2.bin_list(3))\n",
    "        \n",
    "        fids[ii,0] = f2.fidelity_count(new_res_not_mitigated, qcs_na, target_state)\n",
    "        fids[ii,1] = f2.fidelity_count(new_res_nm, qcs_na, target_state)\n",
    "        fids[ii,2] = f2.fidelity_count(new_res, qcs_na, target_state)\n",
    "        fids[ii,3] = f2.fidelity_count(new_res_our, qcs_na, target_state)\n",
    "\n",
    "        ii+=1\n",
    "\n",
    "    else:\n",
    "\n",
    "        res=deepcopy(jobs_evo_res[i])\n",
    "\n",
    "        new_res4, new_res_nm4 = f2.mitigate(res, Measure_Mitig=\"yes\", ancillas_conditions=['0011','1110','1101'], meas_fitter=meas_fitter4)\n",
    "        new_res_our4, new_res_nm4 = f2.mitigate(res, Measure_Mitig=\"yes\", ancillas_conditions=['0011','1110','1101'], meas_fitter=meas_fitter_our4)\n",
    "        new_res_not_mitigated4 = f2.mitigate(res, Measure_Mitig=\"no\", ancillas_conditions=f2.bin_list(4))\n",
    "\n",
    "        \n",
    "        fids4[iy,0] = f2.fidelity_count(new_res_not_mitigated4, qcs_na, target_state)\n",
    "        fids4[iy,1] = f2.fidelity_count(new_res_nm4, qcs_na, target_state)\n",
    "        fids4[iy,2] = f2.fidelity_count(new_res4, qcs_na, target_state)\n",
    "        fids4[iy,3] = f2.fidelity_count(new_res_our4, qcs_na, target_state)\n",
    "\n",
    "        iy+=1\n",
    "\n",
    "for i in range(4):\n",
    "    fids_mean[i]=np.mean(fids[:,i])\n",
    "    fids_dev[i]=np.std(fids[:,i])\n",
    "\n",
    "    fids_mean4[i]=np.mean(fids4[:,i])\n",
    "    fids_dev4[i]=np.std(fids4[:,i])"
   ]
  },
  {
   "cell_type": "code",
   "execution_count": null,
   "metadata": {},
   "outputs": [],
   "source": [
    "for i in range(4):\n",
    "    print(\"no: \", fids_mean[i], \"+-\" ,fids_dev[i])\n",
    "    print(\"yes: \",fids_mean4[i], \"+-\" ,fids_dev4[i])"
   ]
  },
  {
   "cell_type": "code",
   "execution_count": null,
   "metadata": {},
   "outputs": [],
   "source": [
    "fids"
   ]
  },
  {
   "cell_type": "code",
   "execution_count": null,
   "metadata": {},
   "outputs": [],
   "source": [
    "fids4"
   ]
  }
 ],
 "metadata": {
  "language_info": {
   "name": "python"
  },
  "orig_nbformat": 4
 },
 "nbformat": 4,
 "nbformat_minor": 2
}
