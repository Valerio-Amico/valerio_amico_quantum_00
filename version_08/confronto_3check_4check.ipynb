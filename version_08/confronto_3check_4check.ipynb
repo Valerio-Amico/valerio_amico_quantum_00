{
 "cells": [
  {
   "cell_type": "code",
   "execution_count": 1,
   "metadata": {},
   "outputs": [],
   "source": [
    "import funzioni02 as f2\n",
    "from copy import deepcopy\n",
    "import numpy as np\n",
    "import datetime\n",
    "import qiskit.ignis.mitigation.measurement as mc\n",
    "from qiskit import Aer, assemble, QuantumCircuit, QuantumRegister, ClassicalRegister, IBMQ, transpile, execute\n",
    "from qiskit.providers.aer import AerSimulator, QasmSimulator\n",
    "from qiskit.opflow import Zero, One, I, X, Y, Z\n",
    "from qiskit.ignis.verification.tomography import state_tomography_circuits, StateTomographyFitter\n",
    "from qiskit.quantum_info import state_fidelity\n",
    "import matplotlib.pyplot as plt\n",
    "\n",
    "IBMQ.load_account()\n",
    "provider = IBMQ.get_provider(hub='ibm-q-community', group='ibmquantumawards', project='open-science-22')\n",
    "\n",
    "sim_noisy_jakarta = QasmSimulator.from_backend(provider.get_backend('ibmq_jakarta'))\n",
    "backend_sim_jakarta = sim_noisy_jakarta \n",
    "backend = provider.get_backend('ibmq_jakarta')\n",
    "backend_sim = Aer.get_backend('qasm_simulator')"
   ]
  },
  {
   "cell_type": "code",
   "execution_count": 2,
   "metadata": {},
   "outputs": [],
   "source": [
    "shots=8192\n",
    "reps=4        # al massimo 10\n",
    "precision=40\n",
    "time=np.pi\n",
    "backend_aus=backend_sim_jakarta\n",
    "#check=[\"4copy_check\", [0,2,4,6]]\n",
    "evo_type=\"column_evolution\" # \"column_evolution\" or \"complete_evolution\" or \"trotter_steps\"\n",
    "measure_mitigation = \"yes\"  #\"yes\" or \"no\"\n",
    "steps=42"
   ]
  },
  {
   "cell_type": "code",
   "execution_count": 3,
   "metadata": {},
   "outputs": [],
   "source": [
    "qcs_reps = []\n",
    "\n",
    "for _ in range(reps):\n",
    "    check=[\"copy_check\", [0,2,4]]\n",
    "    qcs, qcs_na = f2.evolution_tomo(type=evo_type, N_steps=steps, tempo=time, precision=precision, initial_state='110', check=check)\n",
    "    qcs_reps=qcs_reps + qcs\n",
    "    \n",
    "    check=[\"4copy_check\", [0,2,4,6]]\n",
    "    qcs, qcs_na = f2.evolution_tomo(type=evo_type, N_steps=steps, tempo=time, precision=precision, initial_state='110', check=check)\n",
    "    qcs_reps=qcs_reps + qcs\n",
    "\n",
    "reps=reps*2"
   ]
  },
  {
   "cell_type": "code",
   "execution_count": 4,
   "metadata": {},
   "outputs": [],
   "source": [
    "check=[\"copy_check\", [0,2,4]]\n",
    "qcs_calibs, meas_calibs = f2.calibration_cirquits(evo_type+\"_remake\", q_anc=check[1], check=\"yes\", check_type=check[0])\n",
    "state_lables = f2.bin_list(3+len(check[1]))\n",
    "\n",
    "check=[\"4copy_check\", [0,2,4,6]]\n",
    "qcs_calibs4, meas_calibs4 = f2.calibration_cirquits(evo_type+\"_remake\", q_anc=check[1], check=\"yes\", check_type=check[0])\n",
    "state_lables4 = f2.bin_list(3+len(check[1])) "
   ]
  },
  {
   "cell_type": "code",
   "execution_count": 5,
   "metadata": {},
   "outputs": [],
   "source": [
    "job_evo=execute(qcs_reps, backend=backend_aus, shots=shots)\n",
    "\n",
    "job_cal=execute(meas_calibs, backend=backend_aus, shots=shots)\n",
    "job_cal_our=execute(qcs_calibs, backend=backend_aus, shots=shots)\n",
    "\n",
    "job_cal4=execute(meas_calibs4, backend=backend_aus, shots=shots)\n",
    "job_cal_our4=execute(qcs_calibs4, backend=backend_aus, shots=shots)\n",
    "\n",
    "jobs_evo_res=[]"
   ]
  },
  {
   "cell_type": "code",
   "execution_count": 6,
   "metadata": {},
   "outputs": [
    {
     "name": "stderr",
     "output_type": "stream",
     "text": [
      "/Library/Frameworks/Python.framework/Versions/3.10/lib/python3.10/site-packages/numpy/linalg/linalg.py:2146: RuntimeWarning: divide by zero encountered in det\n",
      "  r = _umath_linalg.det(a, signature=signature)\n",
      "/Library/Frameworks/Python.framework/Versions/3.10/lib/python3.10/site-packages/numpy/linalg/linalg.py:2146: RuntimeWarning: invalid value encountered in det\n",
      "  r = _umath_linalg.det(a, signature=signature)\n"
     ]
    }
   ],
   "source": [
    "for i in range(reps):\n",
    "    \n",
    "    if i%2==0:\n",
    "        job=execute(qcs_reps[0:27],backend=backend_sim, shots=10)\n",
    "    else:\n",
    "        job=execute(qcs_reps[27:27*2],backend=backend_sim, shots=10)\n",
    "        \n",
    "    results = job.result()\n",
    "    \n",
    "    for j in range(27):\n",
    "        results.results[j].data.counts = job_evo.result().get_counts()[i*27+j]\n",
    "    \n",
    "    #print(results.get_counts()[0])\n",
    "    jobs_evo_res.append(results)"
   ]
  },
  {
   "cell_type": "code",
   "execution_count": 7,
   "metadata": {},
   "outputs": [
    {
     "name": "stdout",
     "output_type": "stream",
     "text": [
      "0\n",
      "1\n",
      "2\n",
      "3\n",
      "4\n",
      "5\n",
      "6\n",
      "7\n"
     ]
    }
   ],
   "source": [
    "meas_fitter = mc.CompleteMeasFitter(job_cal.result(), state_labels=state_lables)\n",
    "meas_fitter_our = mc.CompleteMeasFitter(job_cal_our.result(), state_labels=state_lables)\n",
    "meas_fitter4 = mc.CompleteMeasFitter(job_cal4.result(), state_labels=state_lables4)\n",
    "meas_fitter_our4 = mc.CompleteMeasFitter(job_cal_our4.result(), state_labels=state_lables4)\n",
    "\n",
    "target_state = (One^One^Zero).to_matrix()\n",
    "\n",
    "fids=np.zeros([4])\n",
    "\n",
    "fids=np.zeros([reps,4])\n",
    "fids_mean=np.zeros(4)\n",
    "fids_dev=np.zeros(4)\n",
    "\n",
    "fids4=np.zeros([4])\n",
    "\n",
    "fids4=np.zeros([reps,4])\n",
    "fids_mean4=np.zeros(4)\n",
    "fids_dev4=np.zeros(4)\n",
    "\n",
    "ii=0\n",
    "iy=0\n",
    "for i in range(len(jobs_evo_res)):\n",
    "\n",
    "    print(i)\n",
    "    if i%2==0:\n",
    "        \n",
    "        res=deepcopy(jobs_evo_res[i])\n",
    "\n",
    "        new_res, new_res_nm = f2.mitigate(res, Measure_Mitig=\"yes\", ancillas_conditions=['011','110','101'], meas_fitter=meas_fitter)\n",
    "        new_res_our, new_res_nm = f2.mitigate(res, Measure_Mitig=\"yes\", ancillas_conditions=['011','110','101'], meas_fitter=meas_fitter_our)\n",
    "        new_res_not_mitigated = f2.mitigate(res, Measure_Mitig=\"no\", ancillas_conditions=f2.bin_list(3))\n",
    "        \n",
    "        fids[ii,0] = f2.fidelity_count(new_res_not_mitigated, qcs_na, target_state)\n",
    "        fids[ii,1] = f2.fidelity_count(new_res_nm, qcs_na, target_state)\n",
    "        fids[ii,2] = f2.fidelity_count(new_res, qcs_na, target_state)\n",
    "        fids[ii,3] = f2.fidelity_count(new_res_our, qcs_na, target_state)\n",
    "\n",
    "        ii+=1\n",
    "\n",
    "    else:\n",
    "\n",
    "        res=deepcopy(jobs_evo_res[i])\n",
    "\n",
    "        new_res4, new_res_nm4 = f2.mitigate(res, Measure_Mitig=\"yes\", ancillas_conditions=['0011','1110','1101'], meas_fitter=meas_fitter4)\n",
    "        new_res_our4, new_res_nm4 = f2.mitigate(res, Measure_Mitig=\"yes\", ancillas_conditions=['0011','1110','1101'], meas_fitter=meas_fitter_our4)\n",
    "        new_res_not_mitigated4 = f2.mitigate(res, Measure_Mitig=\"no\", ancillas_conditions=f2.bin_list(4))\n",
    "\n",
    "        \n",
    "        fids4[iy,0] = f2.fidelity_count(new_res_not_mitigated4, qcs_na, target_state)\n",
    "        fids4[iy,1] = f2.fidelity_count(new_res_nm4, qcs_na, target_state)\n",
    "        fids4[iy,2] = f2.fidelity_count(new_res4, qcs_na, target_state)\n",
    "        fids4[iy,3] = f2.fidelity_count(new_res_our4, qcs_na, target_state)\n",
    "\n",
    "        iy+=1\n",
    "\n",
    "for i in range(4):\n",
    "    fids_mean[i]=np.mean(fids[:,i])\n",
    "    fids_dev[i]=np.std(fids[:,i])\n",
    "\n",
    "    fids_mean4[i]=np.mean(fids4[:,i])\n",
    "    fids_dev4[i]=np.std(fids4[:,i])"
   ]
  },
  {
   "cell_type": "code",
   "execution_count": 8,
   "metadata": {},
   "outputs": [
    {
     "name": "stdout",
     "output_type": "stream",
     "text": [
      "no:  0.4173704325183655 +- 0.41737246755391566\n",
      "yes:  0.4154974040572466 +- 0.41549836099839954\n",
      "no:  0.440488723027154 +- 0.4404893589764839\n",
      "yes:  0.44298820742634826 +- 0.4429886293061162\n",
      "no:  0.4871489147660496 +- 0.48715026624820623\n",
      "yes:  0.4910624104140585 +- 0.4910637916523793\n",
      "no:  0.4938557844961728 +- 0.49386725250811897\n",
      "yes:  0.49648116295727174 +- 0.4964816614108498\n"
     ]
    }
   ],
   "source": [
    "for i in range(4):\n",
    "    print(\"no: \", fids_mean[i], \"+-\" ,fids_dev[i])\n",
    "    print(\"yes: \",fids_mean4[i], \"+-\" ,fids_dev4[i])"
   ]
  },
  {
   "cell_type": "code",
   "execution_count": 9,
   "metadata": {},
   "outputs": [
    {
     "data": {
      "text/plain": [
       "array([[0.8329309 , 0.88077642, 0.97426397, 0.98681415],\n",
       "       [0.83631649, 0.88060943, 0.97225503, 0.98417963],\n",
       "       [0.83288271, 0.87982247, 0.97388641, 0.98411556],\n",
       "       [0.83683336, 0.88270146, 0.97678591, 0.99573694],\n",
       "       [0.        , 0.        , 0.        , 0.        ],\n",
       "       [0.        , 0.        , 0.        , 0.        ],\n",
       "       [0.        , 0.        , 0.        , 0.        ],\n",
       "       [0.        , 0.        , 0.        , 0.        ]])"
      ]
     },
     "execution_count": 9,
     "metadata": {},
     "output_type": "execute_result"
    }
   ],
   "source": [
    "fids"
   ]
  },
  {
   "cell_type": "code",
   "execution_count": 10,
   "metadata": {},
   "outputs": [
    {
     "data": {
      "text/plain": [
       "array([[0.83061812, 0.88687254, 0.98147022, 0.99160876],\n",
       "       [0.83033862, 0.88571457, 0.98130268, 0.99386295],\n",
       "       [0.82989017, 0.88468013, 0.98078262, 0.99240978],\n",
       "       [0.83313233, 0.88663842, 0.98494377, 0.99396781],\n",
       "       [0.        , 0.        , 0.        , 0.        ],\n",
       "       [0.        , 0.        , 0.        , 0.        ],\n",
       "       [0.        , 0.        , 0.        , 0.        ],\n",
       "       [0.        , 0.        , 0.        , 0.        ]])"
      ]
     },
     "execution_count": 10,
     "metadata": {},
     "output_type": "execute_result"
    }
   ],
   "source": [
    "fids4"
   ]
  }
 ],
 "metadata": {
  "interpreter": {
   "hash": "aee8b7b246df8f9039afb4144a1f6fd8d2ca17a180786b69acc140d282b71a49"
  },
  "kernelspec": {
   "display_name": "Python 3.10.2 64-bit",
   "language": "python",
   "name": "python3"
  },
  "language_info": {
   "codemirror_mode": {
    "name": "ipython",
    "version": 3
   },
   "file_extension": ".py",
   "mimetype": "text/x-python",
   "name": "python",
   "nbconvert_exporter": "python",
   "pygments_lexer": "ipython3",
   "version": "3.10.2"
  },
  "orig_nbformat": 4
 },
 "nbformat": 4,
 "nbformat_minor": 2
}
