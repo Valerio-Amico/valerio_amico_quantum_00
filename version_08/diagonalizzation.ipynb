{
 "cells": [
  {
   "cell_type": "code",
   "execution_count": 33,
   "metadata": {},
   "outputs": [],
   "source": [
    "from sympy import *\n",
    "import numpy as np"
   ]
  },
  {
   "cell_type": "code",
   "execution_count": 34,
   "metadata": {},
   "outputs": [],
   "source": [
    "x = Symbol(\"x\")\n",
    "y = Symbol(\"y\")\n",
    "n = Symbol(\"N\")\n",
    "\n",
    "c = -1/sqrt(2+cot(x)*(cot(x)*(1-2*cos(2*y))+2*sin(2*y)))\n",
    "a = c*exp(I*(x+y))\n",
    "b = I*c*(cos(x)-exp(I*(2*y+x)))/sin(x)\n",
    "\n",
    "y_ = np.pi - y\n",
    "\n",
    "c_ = -1/sqrt(2+cot(x)*(cot(x)*(1-2*cos(2*y_))+2*sin(2*y_)))\n",
    "a_ = c_*exp(I*(x+y_))\n",
    "b_ = I*c_*(cos(x)-exp(I*(2*y_+x)))/sin(x)"
   ]
  },
  {
   "cell_type": "code",
   "execution_count": 35,
   "metadata": {},
   "outputs": [],
   "source": [
    "M = Matrix([ \n",
    "    [1,0,0,0,0,0,0,0],\n",
    "    [0,1/sqrt(3),a,0,a_,0,0,0],\n",
    "    [0,1/sqrt(3),b,0,b_,0,0,0],\n",
    "    [0,0,0,1/sqrt(3),0,a.conjugate(),a_.conjugate(),0],\n",
    "    [0,1/sqrt(3),c,0,c_,0,0,0],\n",
    "    [0,0,0,1/sqrt(3),0,b.conjugate(),b_.conjugate(),0],\n",
    "    [0,0,0,1/sqrt(3),0,c.conjugate(),c_.conjugate(),0],\n",
    "    [0,0,0,0,0,0,0,1]\n",
    "])\n",
    "\n",
    "D = Matrix([ \n",
    "    [exp(-2*I*x),0,0,0,0,0,0,0],\n",
    "    [0,exp(-I*x),0,0,0,0,0,0],\n",
    "    [0,0,exp(I*y),0,0,0,0,0],\n",
    "    [0,0,0,exp(-I*x),0,0,0,0],\n",
    "    [0,0,0,0,-exp(-I*y),0,0,0],\n",
    "    [0,0,0,0,0,exp(I*y),0,0],\n",
    "    [0,0,0,0,0,0,-exp(-I*y),0],\n",
    "    [0,0,0,0,0,0,0,exp(-2*I*x)]\n",
    "])"
   ]
  },
  {
   "cell_type": "code",
   "execution_count": 36,
   "metadata": {},
   "outputs": [
    {
     "data": {
      "text/latex": [
       "$\\displaystyle \\left[\\begin{matrix}1 & 0 & 0 & 0 & 0 & 0 & 0 & 0\\\\0 & \\frac{\\sqrt{3}}{3} & \\frac{\\sqrt{3}}{3} & 0 & \\frac{\\sqrt{3}}{3} & 0 & 0 & 0\\\\0 & - e^{- i \\left(\\overline{x} + \\overline{y}\\right)} \\overline{\\frac{1}{\\sqrt{\\left(\\left(1 - 2 \\cos{\\left(2 y \\right)}\\right) \\cot{\\left(x \\right)} + 2 \\sin{\\left(2 y \\right)}\\right) \\cot{\\left(x \\right)} + 2}}} & \\frac{i \\left(\\cos{\\left(\\overline{x} \\right)} - e^{- i \\left(\\overline{x} + 2 \\overline{y}\\right)}\\right) \\overline{\\frac{1}{\\sqrt{\\left(\\left(1 - 2 \\cos{\\left(2 y \\right)}\\right) \\cot{\\left(x \\right)} + 2 \\sin{\\left(2 y \\right)}\\right) \\cot{\\left(x \\right)} + 2}}}}{\\sin{\\left(\\overline{x} \\right)}} & 0 & - \\overline{\\frac{1}{\\sqrt{\\left(\\left(1 - 2 \\cos{\\left(2 y \\right)}\\right) \\cot{\\left(x \\right)} + 2 \\sin{\\left(2 y \\right)}\\right) \\cot{\\left(x \\right)} + 2}}} & 0 & 0 & 0\\\\0 & 0 & 0 & \\frac{\\sqrt{3}}{3} & 0 & \\frac{\\sqrt{3}}{3} & \\frac{\\sqrt{3}}{3} & 0\\\\0 & - e^{- i \\left(\\overline{x} - \\overline{y} + 3.14159265358979\\right)} \\overline{\\frac{1}{\\sqrt{\\left(\\left(1 - 2 \\cos{\\left(2 y - 6.28318530717959 \\right)}\\right) \\cot{\\left(x \\right)} - 2 \\sin{\\left(2 y - 6.28318530717959 \\right)}\\right) \\cot{\\left(x \\right)} + 2}}} & \\frac{i \\left(\\cos{\\left(\\overline{x} \\right)} - e^{- i \\left(\\overline{x} - 2 \\overline{y} + 6.28318530717959\\right)}\\right) \\overline{\\frac{1}{\\sqrt{\\left(\\left(1 - 2 \\cos{\\left(2 y - 6.28318530717959 \\right)}\\right) \\cot{\\left(x \\right)} - 2 \\sin{\\left(2 y - 6.28318530717959 \\right)}\\right) \\cot{\\left(x \\right)} + 2}}}}{\\sin{\\left(\\overline{x} \\right)}} & 0 & - \\overline{\\frac{1}{\\sqrt{\\left(\\left(1 - 2 \\cos{\\left(2 y - 6.28318530717959 \\right)}\\right) \\cot{\\left(x \\right)} - 2 \\sin{\\left(2 y - 6.28318530717959 \\right)}\\right) \\cot{\\left(x \\right)} + 2}}} & 0 & 0 & 0\\\\0 & 0 & 0 & - \\frac{e^{i \\left(x + y\\right)}}{\\sqrt{\\left(\\left(1 - 2 \\cos{\\left(2 y \\right)}\\right) \\cot{\\left(x \\right)} + 2 \\sin{\\left(2 y \\right)}\\right) \\cot{\\left(x \\right)} + 2}} & 0 & - \\frac{i \\left(- e^{i \\left(x + 2 y\\right)} + \\cos{\\left(x \\right)}\\right)}{\\sqrt{\\left(\\left(1 - 2 \\cos{\\left(2 y \\right)}\\right) \\cot{\\left(x \\right)} + 2 \\sin{\\left(2 y \\right)}\\right) \\cot{\\left(x \\right)} + 2} \\sin{\\left(x \\right)}} & - \\frac{1}{\\sqrt{\\left(\\left(1 - 2 \\cos{\\left(2 y \\right)}\\right) \\cot{\\left(x \\right)} + 2 \\sin{\\left(2 y \\right)}\\right) \\cot{\\left(x \\right)} + 2}} & 0\\\\0 & 0 & 0 & - \\frac{e^{i \\left(x - y + 3.14159265358979\\right)}}{\\sqrt{\\left(\\left(1 - 2 \\cos{\\left(2 y - 6.28318530717959 \\right)}\\right) \\cot{\\left(x \\right)} - 2 \\sin{\\left(2 y - 6.28318530717959 \\right)}\\right) \\cot{\\left(x \\right)} + 2}} & 0 & - \\frac{i \\left(- e^{i \\left(x - 2 y + 6.28318530717959\\right)} + \\cos{\\left(x \\right)}\\right)}{\\sqrt{\\left(\\left(1 - 2 \\cos{\\left(2 y - 6.28318530717959 \\right)}\\right) \\cot{\\left(x \\right)} - 2 \\sin{\\left(2 y - 6.28318530717959 \\right)}\\right) \\cot{\\left(x \\right)} + 2} \\sin{\\left(x \\right)}} & - \\frac{1}{\\sqrt{\\left(\\left(1 - 2 \\cos{\\left(2 y - 6.28318530717959 \\right)}\\right) \\cot{\\left(x \\right)} - 2 \\sin{\\left(2 y - 6.28318530717959 \\right)}\\right) \\cot{\\left(x \\right)} + 2}} & 0\\\\0 & 0 & 0 & 0 & 0 & 0 & 0 & 1\\end{matrix}\\right]$"
      ],
      "text/plain": [
       "Matrix([\n",
       "[1,                                                                                                                                                                    0,                                                                                                                                                                                                               0,                                                                                                                                0,                                                                                                           0,                                                                                                                                                         0,                                                                                                0, 0],\n",
       "[0,                                                                                                                                                            sqrt(3)/3,                                                                                                                                                                                                       sqrt(3)/3,                                                                                                                                0,                                                                                                   sqrt(3)/3,                                                                                                                                                         0,                                                                                                0, 0],\n",
       "[0,                                                          -exp(-I*(conjugate(x) + conjugate(y)))*conjugate(1/sqrt(((1 - 2*cos(2*y))*cot(x) + 2*sin(2*y))*cot(x) + 2)),                                                          I*(cos(conjugate(x)) - exp(-I*(conjugate(x) + 2*conjugate(y))))*conjugate(1/sqrt(((1 - 2*cos(2*y))*cot(x) + 2*sin(2*y))*cot(x) + 2))/sin(conjugate(x)),                                                                                                                                0,                                       -conjugate(1/sqrt(((1 - 2*cos(2*y))*cot(x) + 2*sin(2*y))*cot(x) + 2)),                                                                                                                                                         0,                                                                                                0, 0],\n",
       "[0,                                                                                                                                                                    0,                                                                                                                                                                                                               0,                                                                                                                        sqrt(3)/3,                                                                                                           0,                                                                                                                                                 sqrt(3)/3,                                                                                        sqrt(3)/3, 0],\n",
       "[0, -exp(-I*(conjugate(x) - conjugate(y) + 3.14159265358979))*conjugate(1/sqrt(((1 - 2*cos(2*y - 6.28318530717959))*cot(x) - 2*sin(2*y - 6.28318530717959))*cot(x) + 2)), I*(cos(conjugate(x)) - exp(-I*(conjugate(x) - 2*conjugate(y) + 6.28318530717959)))*conjugate(1/sqrt(((1 - 2*cos(2*y - 6.28318530717959))*cot(x) - 2*sin(2*y - 6.28318530717959))*cot(x) + 2))/sin(conjugate(x)),                                                                                                                                0, -conjugate(1/sqrt(((1 - 2*cos(2*y - 6.28318530717959))*cot(x) - 2*sin(2*y - 6.28318530717959))*cot(x) + 2)),                                                                                                                                                         0,                                                                                                0, 0],\n",
       "[0,                                                                                                                                                                    0,                                                                                                                                                                                                               0,                                                          -exp(I*(x + y))/sqrt(((1 - 2*cos(2*y))*cot(x) + 2*sin(2*y))*cot(x) + 2),                                                                                                           0,                                                          -I*(-exp(I*(x + 2*y)) + cos(x))/(sqrt(((1 - 2*cos(2*y))*cot(x) + 2*sin(2*y))*cot(x) + 2)*sin(x)),                                       -1/sqrt(((1 - 2*cos(2*y))*cot(x) + 2*sin(2*y))*cot(x) + 2), 0],\n",
       "[0,                                                                                                                                                                    0,                                                                                                                                                                                                               0, -exp(I*(x - y + 3.14159265358979))/sqrt(((1 - 2*cos(2*y - 6.28318530717959))*cot(x) - 2*sin(2*y - 6.28318530717959))*cot(x) + 2),                                                                                                           0, -I*(-exp(I*(x - 2*y + 6.28318530717959)) + cos(x))/(sqrt(((1 - 2*cos(2*y - 6.28318530717959))*cot(x) - 2*sin(2*y - 6.28318530717959))*cot(x) + 2)*sin(x)), -1/sqrt(((1 - 2*cos(2*y - 6.28318530717959))*cot(x) - 2*sin(2*y - 6.28318530717959))*cot(x) + 2), 0],\n",
       "[0,                                                                                                                                                                    0,                                                                                                                                                                                                               0,                                                                                                                                0,                                                                                                           0,                                                                                                                                                         0,                                                                                                0, 1]])"
      ]
     },
     "execution_count": 36,
     "metadata": {},
     "output_type": "execute_result"
    }
   ],
   "source": [
    "M_dg = M.H\n",
    "M_dg"
   ]
  },
  {
   "cell_type": "code",
   "execution_count": 37,
   "metadata": {},
   "outputs": [],
   "source": [
    "U=M_dg*D**(2*n)*M\n",
    "#simplify(U)"
   ]
  },
  {
   "cell_type": "code",
   "execution_count": 38,
   "metadata": {},
   "outputs": [
    {
     "data": {
      "text/latex": [
       "$\\displaystyle \\left[\\begin{matrix}1.0 - 1.286498 \\cdot 10^{-15} i & 0 & 0 & 0 & 0 & 0 & 0 & 0\\\\0 & -0.33333328325480337256 - 2.1441635329 \\cdot 10^{-16} i & -7.042301949340646901 \\cdot 10^{-6} - 0.036378143241832166259 i & 0 & 7.0352721840424607035 \\cdot 10^{-6} - 0.036305751299311324333 i & 0 & 0 & 0\\\\0 & 7.042173230579027646 \\cdot 10^{-6} + 0.036377479062200105189 i & -0.0039678325172053694396 + 1.1532425096692705113 \\cdot 10^{-6} i & 0 & -0.0019801025348980191766 + 0.000061835798092768513321 i & 0 & 0 & 0\\\\0 & 0 & 0 & -0.33333328325480337256 - 2.1441635329 \\cdot 10^{-16} i & 0 & 7.042173230579027646 \\cdot 10^{-6} + 0.036377479062200105189 i & -7.0352293414602110544 \\cdot 10^{-6} + 0.036305972363687848887 i & 0\\\\0 & -7.0352293414602110544 \\cdot 10^{-6} + 0.036305972363687848887 i & -0.0019801266514884488618 - 0.000062604052811460114998 i & 0 & -2.4390490662596230489 \\cdot 10^{-7} - 3.8308399415365101174 \\cdot 10^{-7} i & 0 & 0 & 0\\\\0 & 0 & 0 & -7.042301949340646901 \\cdot 10^{-6} - 0.036378143241832166259 i & 0 & -0.0039678325172053694396 + 1.1532425096692705113 \\cdot 10^{-6} i & -0.0019801266514884488618 - 0.000062604052811460114998 i & 0\\\\0 & 0 & 0 & 7.0352721840424607035 \\cdot 10^{-6} - 0.036305751299311324333 i & 0 & -0.0019801025348980191766 + 0.000061835798092768513321 i & -2.4390490662596230489 \\cdot 10^{-7} - 3.8308399415365101174 \\cdot 10^{-7} i & 0\\\\0 & 0 & 0 & 0 & 0 & 0 & 0 & 1.0 - 1.286498 \\cdot 10^{-15} i\\end{matrix}\\right]$"
      ],
      "text/plain": [
       "Matrix([\n",
       "[1.0 - 1.286498e-15*I,                                                     0,                                                        0,                                                    0,                                                        0,                                                        0,                                                        0,                    0],\n",
       "[                   0,          -0.33333328325480337256 - 2.1441635329e-16*I,     -7.042301949340646901e-6 - 0.036378143241832166259*I,                                                    0,     7.0352721840424607035e-6 - 0.036305751299311324333*I,                                                        0,                                                        0,                    0],\n",
       "[                   0,   7.042173230579027646e-6 + 0.036377479062200105189*I,   -0.0039678325172053694396 + 1.1532425096692705113e-6*I,                                                    0, -0.0019801025348980191766 + 0.000061835798092768513321*I,                                                        0,                                                        0,                    0],\n",
       "[                   0,                                                     0,                                                        0,         -0.33333328325480337256 - 2.1441635329e-16*I,                                                        0,      7.042173230579027646e-6 + 0.036377479062200105189*I,    -7.0352293414602110544e-6 + 0.036305972363687848887*I,                    0],\n",
       "[                   0, -7.0352293414602110544e-6 + 0.036305972363687848887*I, -0.0019801266514884488618 - 0.000062604052811460114998*I,                                                    0,   -2.4390490662596230489e-7 - 3.8308399415365101174e-7*I,                                                        0,                                                        0,                    0],\n",
       "[                   0,                                                     0,                                                        0, -7.042301949340646901e-6 - 0.036378143241832166259*I,                                                        0,   -0.0039678325172053694396 + 1.1532425096692705113e-6*I, -0.0019801266514884488618 - 0.000062604052811460114998*I,                    0],\n",
       "[                   0,                                                     0,                                                        0, 7.0352721840424607035e-6 - 0.036305751299311324333*I,                                                        0, -0.0019801025348980191766 + 0.000061835798092768513321*I,   -2.4390490662596230489e-7 - 3.8308399415365101174e-7*I,                    0],\n",
       "[                   0,                                                     0,                                                        0,                                                    0,                                                        0,                                                        0,                                                        0, 1.0 - 1.286498e-15*I]])"
      ]
     },
     "execution_count": 38,
     "metadata": {},
     "output_type": "execute_result"
    }
   ],
   "source": [
    "t = np.pi\n",
    "N_ = 100\n",
    "\n",
    "precision = 20\n",
    "\n",
    "U=U.subs(x, t/N_)\n",
    "U=U.subs(n, N_)\n",
    "U=U.subs(y, asin(sin(t/N_)/2))\n",
    "\n",
    "U=U.evalf(precision)\n",
    "U"
   ]
  }
 ],
 "metadata": {
  "interpreter": {
   "hash": "e8bbf111b3c07fe72d02251ebcc32db4a683ef2a320a2bb47db1bc9f2379816c"
  },
  "kernelspec": {
   "display_name": "Python 3.8.12 ('pyEnv')",
   "language": "python",
   "name": "python3"
  },
  "language_info": {
   "codemirror_mode": {
    "name": "ipython",
    "version": 3
   },
   "file_extension": ".py",
   "mimetype": "text/x-python",
   "name": "python",
   "nbconvert_exporter": "python",
   "pygments_lexer": "ipython3",
   "version": "3.8.12"
  },
  "orig_nbformat": 4
 },
 "nbformat": 4,
 "nbformat_minor": 2
}
