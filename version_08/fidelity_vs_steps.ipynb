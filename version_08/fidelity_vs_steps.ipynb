{
 "cells": [
  {
   "cell_type": "code",
   "execution_count": 30,
   "metadata": {},
   "outputs": [
    {
     "name": "stderr",
     "output_type": "stream",
     "text": [
      "ibmqfactory.load_account:WARNING:2022-03-20 20:57:21,086: Credentials are already in use. The existing account in the session will be replaced.\n"
     ]
    }
   ],
   "source": [
    "import funzioni02 as f2\n",
    "import numpy as np\n",
    "import datetime\n",
    "import qiskit.ignis.mitigation.measurement as mc\n",
    "from qiskit import Aer, assemble, QuantumCircuit, QuantumRegister, ClassicalRegister, IBMQ, transpile, execute\n",
    "from qiskit.providers.aer import AerSimulator, QasmSimulator\n",
    "from qiskit.opflow import Zero, One, I, X, Y, Z\n",
    "from qiskit.ignis.verification.tomography import state_tomography_circuits, StateTomographyFitter\n",
    "from qiskit.quantum_info import state_fidelity\n",
    "import matplotlib.pyplot as plt\n",
    "import warnings\n",
    "warnings.filterwarnings('ignore')\n",
    "\n",
    "IBMQ.load_account()\n",
    "provider = IBMQ.get_provider(hub='ibm-q-community', group='ibmquantumawards', project='open-science-22')\n",
    "\n",
    "sim_noisy_jakarta = QasmSimulator.from_backend(provider.get_backend('ibmq_jakarta'))\n",
    "backend_sim_jakarta = sim_noisy_jakarta \n",
    "backend = provider.get_backend('ibmq_jakarta')\n",
    "backend_sim = Aer.get_backend('qasm_simulator')"
   ]
  },
  {
   "cell_type": "markdown",
   "metadata": {},
   "source": [
    "# Grafico fidelity vs. steps"
   ]
  },
  {
   "cell_type": "markdown",
   "metadata": {},
   "source": [
    "### Creo il primo ciclo per realizzare tutti i circuiti da eseguire (a parte la calibrazione)"
   ]
  },
  {
   "cell_type": "code",
   "execution_count": 31,
   "metadata": {},
   "outputs": [],
   "source": [
    "### definisco i parametri fissati per la realizzazione del grafico\n",
    "shots=32000\n",
    "reps=8  # al massimo 10\n",
    "precision=40\n",
    "tempo=np.pi\n",
    "backend_aus=backend_sim_jakarta\n",
    "check=[\"4copy_check\", [0,2,4,6]]\n",
    "evo_type=\"column_evolution\" # \"column_evolution\" or \"complete_evolution\" or \"trotter_steps\"\n",
    "measure_mitigation = \"yes\"  #\"yes\" or \"no\"\n",
    "\n",
    "### definisco i valori di steps corrispondenti ai punti che volgio acquisire\n",
    "steps_range=[69,99]\n",
    "n_s=len(steps_range)\n",
    "\n",
    "### creo tutti i circuiti\n",
    "qcs_steps=[]\n",
    "qcs_steps_na=[]\n",
    "\n",
    "### le liste qcs_steps e qcs_steps_na conterranno tutti i circuiti di evoluzione reps volte\n",
    "\n",
    "for _ in range(reps):\n",
    "    for steps in steps_range:\n",
    "        \n",
    "        if check!=[]:\n",
    "            qcs_aus, qcs_na_aus = f2.evolution_tomo(type=evo_type, N_steps=steps, tempo=tempo, precision=precision, initial_state='110', check=check)\n",
    "            qcs_steps=qcs_steps+qcs_aus\n",
    "            qcs_steps_na=qcs_steps_na+qcs_na_aus\n",
    "\n",
    "        else:\n",
    "            qcs_aus = f2.evolution_tomo(type=evo_type, N_steps=steps, tempo=tempo, precision=precision, initial_state='110', check=check)\n",
    "            qcs_steps=qcs_steps+qcs_aus\n",
    "            qcs_steps_na=qcs_steps_na+qcs_na_aus\n"
   ]
  },
  {
   "cell_type": "markdown",
   "metadata": {},
   "source": [
    "### Di seguito definisco i circuiti per la calibrazione"
   ]
  },
  {
   "cell_type": "code",
   "execution_count": 32,
   "metadata": {},
   "outputs": [],
   "source": [
    "if measure_mitigation==\"yes\":\n",
    "    qcs_calibs, meas_calibs = f2.calibration_cirquits(evo_type+\"_remake\", q_anc=check[1], check=\"yes\")\n",
    "    state_lables = f2.bin_list(3+len(check[1]))"
   ]
  },
  {
   "cell_type": "markdown",
   "metadata": {},
   "source": [
    "### Eseguo tutti i circuiti (sia calibrazione che evoluzione)"
   ]
  },
  {
   "cell_type": "code",
   "execution_count": 33,
   "metadata": {},
   "outputs": [
    {
     "name": "stdout",
     "output_type": "stream",
     "text": [
      "number of evolution cirquits:  432\n"
     ]
    }
   ],
   "source": [
    "jobs_evo=execute(qcs_steps, backend=backend_aus, shots=shots)\n",
    "\n",
    "if measure_mitigation==\"yes\":\n",
    "    job_cal=execute(meas_calibs, backend=backend_aus, shots=shots)# initial_layout=[0,1,2,3,4,5])#check[1]+[1,3,5])\n",
    "    job_cal_our=execute(qcs_calibs, backend=backend_aus, shots=shots)#, initial_layout=[0,1,2,3,4,5])\n",
    "\n",
    "print(\"number of evolution cirquits: \", len(qcs_steps))"
   ]
  },
  {
   "cell_type": "code",
   "execution_count": 34,
   "metadata": {},
   "outputs": [],
   "source": [
    "jobs_evo_result = f2.jobs_result(job_evolution = jobs_evo, reps = reps)"
   ]
  },
  {
   "cell_type": "markdown",
   "metadata": {},
   "source": [
    "### if you wont open already existed jobs"
   ]
  },
  {
   "cell_type": "code",
   "execution_count": 35,
   "metadata": {},
   "outputs": [],
   "source": [
    "#jobs_=backend.jobs(limit=30, start_datetime= \"2022-02-18\", end_datetime=\"2022-02-20\")\n",
    "\n",
    "#jobs_evo=[]\n",
    "\n",
    "#j=len(jobs_)-1\n",
    "#for i in range(len(jobs_)-2):\n",
    "#    jobs_evo.append(jobs_[j])\n",
    "#    j-=1\n",
    "\n",
    "#job_cal=backend.retrieve_job(jobs_[1].job_id())\n",
    "#job_cal_our =backend.retrieve_job(\"62233daa50a9af21709fb28d\")\n",
    "\n",
    "#print(\"number of jobs: \", len(jobs_evo)+2)\n"
   ]
  },
  {
   "cell_type": "markdown",
   "metadata": {},
   "source": [
    "### Faccio la mitigazione sia con le ancille che sulla misura:\n",
    "Le variabili che appaiono sotto contengono le seguenti cose:\n",
    "\n",
    "    - new_res: risultati mitigati sia con le ancille che sulla misura con la calibrazione di qiskit\n",
    "    - new_res_nm: risultati mitigati solo sulla misura sulle ancille\n",
    "    - new_res_our: risultati mitigati sia con le ancille che sulla misura con la calibrazione nostra\n",
    "    - new_res_not_mitigated: nessuna mitigazione\n",
    "\n",
    "viene creata una matrice fids che contiene le fidelity dei vari jobs sulle rispettive righe e su ogni riga le colonne corrispondono in ordine a: risultati non mitigati, mitigati sono con le ancille, mitigati con ancille e qiskit calibration, mitigati con ancille e nostra calibrazione"
   ]
  },
  {
   "cell_type": "code",
   "execution_count": 36,
   "metadata": {},
   "outputs": [
    {
     "name": "stdout",
     "output_type": "stream",
     "text": [
      "{'0001 100': 1, '0111 000': 1, '1101 010': 1, '1000 010': 5, '1111 001': 2, '0000 011': 1, '1001 110': 5, '0111 011': 4, '1111 000': 3, '0101 010': 2, '0110 011': 3, '0100 010': 4, '1101 001': 1, '0110 000': 4, '0011 110': 2, '1001 101': 2, '0000 100': 5, '1000 100': 11, '1101 100': 13, '0010 011': 15, '0000 010': 16, '1000 000': 4, '0110 101': 5, '0000 110': 4, '1101 111': 25, '1100 000': 10, '0100 100': 10, '0011 001': 2, '0110 111': 27, '1111 101': 14, '1010 110': 974, '1011 110': 43, '0011 111': 6, '1110 100': 788, '1100 011': 6, '0100 000': 3, '1010 010': 49, '1110 110': 22956, '0111 110': 27, '1011 101': 1, '1000 101': 1, '1010 100': 38, '1010 111': 23, '0111 111': 18, '1111 011': 15, '1111 010': 35, '1101 000': 1, '0100 101': 1, '0000 001': 2, '1100 111': 151, '1000 111': 10, '0010 000': 11, '0100 110': 52, '0001 001': 1, '1010 011': 3, '0001 011': 6, '0011 011': 48, '0110 110': 846, '1011 111': 23, '1101 110': 74, '0010 100': 2, '1000 110': 66, '1011 010': 1, '0010 010': 313, '0100 111': 7, '1100 010': 58, '1100 110': 1197, '0011 010': 18, '1100 100': 237, '1110 001': 5, '0110 010': 101, '1010 101': 4, '1110 111': 631, '0010 001': 2, '0010 111': 3, '0010 110': 45, '0111 100': 2, '0001 000': 2, '1010 000': 3, '1111 111': 424, '0111 010': 8, '0110 001': 1, '0000 101': 1, '1011 011': 3, '0000 000': 67, '1100 101': 13, '1101 011': 2, '1001 111': 1, '0110 100': 32, '1110 000': 34, '1110 010': 992, '0101 110': 3, '1101 101': 20, '1110 011': 32, '1111 100': 33, '1110 101': 111, '1111 110': 1112}\n"
     ]
    }
   ],
   "source": [
    "print(jobs_evo_result[0].get_counts(-1))"
   ]
  },
  {
   "cell_type": "code",
   "execution_count": 37,
   "metadata": {},
   "outputs": [],
   "source": [
    "if measure_mitigation==\"yes\":\n",
    "    meas_fitter = mc.CompleteMeasFitter(job_cal.result(), state_labels=state_lables)\n",
    "    meas_fitter_our = mc.CompleteMeasFitter(job_cal_our.result(), state_labels=state_lables)\n",
    "else:\n",
    "    meas_fitter = 0\n",
    "    meas_fitter_our = 0\n",
    "\n",
    "target_state = (One^One^Zero).to_matrix()\n",
    "\n",
    "\n",
    "fids=np.zeros([n_s,reps,4])\n",
    "fids_mean=np.zeros([n_s,4])\n",
    "fids_dev=np.zeros([n_s,4])\n",
    "\n",
    "for i in range(len(jobs_evo_result)):\n",
    "    \n",
    "    job_res=jobs_evo_result[i]\n",
    "\n",
    "    if measure_mitigation == \"yes\" or check != []:\n",
    "        new_res, new_res_nm = f2.mitigate(job_res, Measure_Mitig=\"yes\", ancillas_conditions=['0011','1110','1101'], meas_fitter=meas_fitter)\n",
    "        new_res_our, new_res_nm = f2.mitigate(job_res, Measure_Mitig=\"yes\", ancillas_conditions=['0011','1110','1101'], meas_fitter=meas_fitter_our)\n",
    "        new_res_not_mitigated = f2.mitigate(job_res, Measure_Mitig=\"no\", ancillas_conditions=f2.bin_list(4))\n",
    "    else:\n",
    "        new_res_not_mitigated = job_res\n",
    "\n",
    "    fid = f2.fidelity_count(new_res_not_mitigated, qcs_steps_na[27*i:27*(i+1)], target_state)\n",
    "    fids[i%n_s][i//n_s][0] += fid\n",
    "\n",
    "    if check != []:\n",
    "        fid = f2.fidelity_count(new_res_nm, qcs_steps_na[27*i:27*(i+1)], target_state)\n",
    "        fids[i%n_s][i//n_s][1] += fid\n",
    "\n",
    "        if measure_mitigation==\"yes\":\n",
    "            fid = f2.fidelity_count(new_res, qcs_steps_na[27*i:27*(i+1)], target_state)\n",
    "            fids[i%n_s][i//n_s][2] += fid\n",
    "\n",
    "            fid = f2.fidelity_count(new_res_our, qcs_steps_na[27*i:27*(i+1)], target_state)\n",
    "            fids[i%n_s][i//n_s][3] += fid\n",
    "    "
   ]
  },
  {
   "cell_type": "code",
   "execution_count": 38,
   "metadata": {},
   "outputs": [],
   "source": [
    "for i in range(4):\n",
    "    for j in range(n_s):\n",
    "        fids_mean[j,i]=np.mean(fids[j,:,i])\n",
    "        fids_dev[j,i]=np.std(fids[j,:,i])"
   ]
  },
  {
   "cell_type": "markdown",
   "metadata": {},
   "source": [
    "### Faccio il grafico della fidelity"
   ]
  },
  {
   "cell_type": "code",
   "execution_count": 39,
   "metadata": {},
   "outputs": [
    {
     "data": {
      "image/png": "[encoded data removed]",
      "text/plain": [
       "<Figure size 432x288 with 1 Axes>"
      ]
     },
     "metadata": {
      "needs_background": "light"
     },
     "output_type": "display_data"
    }
   ],
   "source": [
    "plt.errorbar(steps_range, fids_mean[:,0],fids_dev[:,0],linestyle=':',marker=\"*\",label=\"raw\")\n",
    "\n",
    "if check!=[]:\n",
    "    plt.errorbar(steps_range, fids_mean[:,1],fids_dev[:,1],linestyle=':',marker=\"*\",label=\"ancille\")\n",
    "\n",
    "    if measure_mitigation==\"yes\":\n",
    "        plt.errorbar(steps_range, fids_mean[:,2],fids_dev[:,2],linestyle=':',marker=\"*\",label=\"ancille and qiskit\")\n",
    "        plt.errorbar(steps_range, fids_mean[:,3],fids_dev[:,3],linestyle=':',marker=\"*\",label=\"ancille and our\")\n",
    "        \n",
    "plt.legend()\n",
    "plt.grid()\n",
    "\n",
    "plt.show()"
   ]
  },
  {
   "cell_type": "code",
   "execution_count": 40,
   "metadata": {},
   "outputs": [
    {
     "name": "stdout",
     "output_type": "stream",
     "text": [
      "[[[0.85591666 0.89343759 0.99252606 0.99670714]\n",
      "  [0.85502599 0.89226679 0.99071253 0.99610703]\n",
      "  [0.85527525 0.89310162 0.99072017 0.99672289]\n",
      "  [0.85489113 0.89226163 0.99080629 0.996596  ]\n",
      "  [0.         0.         0.         0.        ]\n",
      "  [0.         0.         0.         0.        ]\n",
      "  [0.         0.         0.         0.        ]\n",
      "  [0.         0.         0.         0.        ]]\n",
      "\n",
      " [[0.85643614 0.89364894 0.99178199 0.99700197]\n",
      "  [0.85681922 0.89410036 0.9919505  0.99532768]\n",
      "  [0.85482763 0.89289056 0.99137135 0.99438493]\n",
      "  [0.85512702 0.89346607 0.99428634 0.9971583 ]\n",
      "  [0.         0.         0.         0.        ]\n",
      "  [0.         0.         0.         0.        ]\n",
      "  [0.         0.         0.         0.        ]\n",
      "  [0.         0.         0.         0.        ]]]\n"
     ]
    }
   ],
   "source": [
    "print(fids)"
   ]
  },
  {
   "cell_type": "markdown",
   "metadata": {},
   "source": [
    "### creo il file con i dati"
   ]
  },
  {
   "cell_type": "code",
   "execution_count": 41,
   "metadata": {},
   "outputs": [
    {
     "ename": "NameError",
     "evalue": "name 'f' is not defined",
     "output_type": "error",
     "traceback": [
      "\u001b[0;31m---------------------------------------------------------------------------\u001b[0m",
      "\u001b[0;31mNameError\u001b[0m                                 Traceback (most recent call last)",
      "\u001b[1;32m/Users/valerio/Documents/project_IBM_01/IBM_git/version_08/fidelity_vs_steps.ipynb Cell 20'\u001b[0m in \u001b[0;36m<cell line: 10>\u001b[0;34m()\u001b[0m\n\u001b[1;32m      <a href='vscode-notebook-cell:/Users/valerio/Documents/project_IBM_01/IBM_git/version_08/fidelity_vs_steps.ipynb#ch0000016?line=6'>7</a>\u001b[0m nome\u001b[39m=\u001b[39m\u001b[39m\"\u001b[39m\u001b[39mfid_vs_steps_10-03_01.txt\u001b[39m\u001b[39m\"\u001b[39m\n\u001b[1;32m      <a href='vscode-notebook-cell:/Users/valerio/Documents/project_IBM_01/IBM_git/version_08/fidelity_vs_steps.ipynb#ch0000016?line=8'>9</a>\u001b[0m \u001b[39m#f = open(\"dati_esame_ruben/\" + nome, \"w\")\u001b[39;00m\n\u001b[0;32m---> <a href='vscode-notebook-cell:/Users/valerio/Documents/project_IBM_01/IBM_git/version_08/fidelity_vs_steps.ipynb#ch0000016?line=9'>10</a>\u001b[0m f\u001b[39m.\u001b[39mwrite(dati)\n\u001b[1;32m     <a href='vscode-notebook-cell:/Users/valerio/Documents/project_IBM_01/IBM_git/version_08/fidelity_vs_steps.ipynb#ch0000016?line=11'>12</a>\u001b[0m \u001b[39mfor\u001b[39;00m i \u001b[39min\u001b[39;00m \u001b[39mrange\u001b[39m(n_s):\n\u001b[1;32m     <a href='vscode-notebook-cell:/Users/valerio/Documents/project_IBM_01/IBM_git/version_08/fidelity_vs_steps.ipynb#ch0000016?line=12'>13</a>\u001b[0m     f\u001b[39m.\u001b[39mwrite(\u001b[39m\"\u001b[39m\u001b[39m%d\u001b[39;00m\u001b[39m \u001b[39m\u001b[39m\"\u001b[39m \u001b[39m%\u001b[39m(steps_range[i]))\n",
      "\u001b[0;31mNameError\u001b[0m: name 'f' is not defined"
     ]
    }
   ],
   "source": [
    "if check==[0] or check==0:\n",
    "    c_auss=\"noc\" \n",
    "else:\n",
    "    c_auss=\"yesc\"\n",
    "\n",
    "dati=(\"#%d_%d_%d_%.4f_%s_%s \\n\" %(shots, reps, precision, tempo, c_auss, evo_type))\n",
    "nome=\"fid_vs_steps_10-03_01.txt\"\n",
    "\n",
    "#f = open(\"dati_esame_ruben/\" + nome, \"w\")\n",
    "f.write(dati)\n",
    "\n",
    "for i in range(n_s):\n",
    "    f.write(\"%d \" %(steps_range[i]))\n",
    "    for j in range(4):\n",
    "        f.write(\"%.5f \" %(fids_mean[i,j]))\n",
    "        f.write(\"%.5f \" %(fids_dev[i,j]))\n",
    "    f.write(\"\\n\")\n",
    "\n",
    "f.close()"
   ]
  },
  {
   "cell_type": "code",
   "execution_count": null,
   "metadata": {},
   "outputs": [],
   "source": []
  },
  {
   "cell_type": "code",
   "execution_count": null,
   "metadata": {},
   "outputs": [],
   "source": []
  }
 ],
 "metadata": {
  "interpreter": {
   "hash": "e8bbf111b3c07fe72d02251ebcc32db4a683ef2a320a2bb47db1bc9f2379816c"
  },
  "kernelspec": {
   "display_name": "Python 3.8.12 ('pyEnv')",
   "language": "python",
   "name": "python3"
  },
  "language_info": {
   "codemirror_mode": {
    "name": "ipython",
    "version": 3
   },
   "file_extension": ".py",
   "mimetype": "text/x-python",
   "name": "python",
   "nbconvert_exporter": "python",
   "pygments_lexer": "ipython3",
   "version": "3.10.2"
  },
  "orig_nbformat": 4
 },
 "nbformat": 4,
 "nbformat_minor": 2
}
