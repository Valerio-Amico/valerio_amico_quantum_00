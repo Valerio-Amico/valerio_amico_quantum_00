{
 "cells": [
  {
   "cell_type": "code",
   "execution_count": 1,
   "metadata": {},
   "outputs": [],
   "source": [
    "import funzioni02 as f2\n",
    "import numpy as np\n",
    "import qiskit.ignis.mitigation.measurement as mc\n",
    "from qiskit import Aer, assemble, QuantumCircuit, QuantumRegister, ClassicalRegister, IBMQ, transpile, execute\n",
    "from qiskit.providers.aer import AerSimulator, QasmSimulator\n",
    "from qiskit.opflow import Zero, One, I, X, Y, Z\n",
    "from qiskit.ignis.verification.tomography import state_tomography_circuits, StateTomographyFitter\n",
    "from qiskit.quantum_info import state_fidelity\n",
    "import matplotlib.pyplot as plt\n",
    "\n",
    "IBMQ.load_account()\n",
    "provider = IBMQ.get_provider(hub='ibm-q-community', group='ibmquantumawards', project='open-science-22')\n",
    "\n",
    "sim_noisy_jakarta = QasmSimulator.from_backend(provider.get_backend('ibmq_jakarta'))\n",
    "backend_sim_jakarta = sim_noisy_jakarta \n",
    "backend = provider.get_backend('ibmq_jakarta')\n",
    "backend_sim = Aer.get_backend('qasm_simulator')"
   ]
  },
  {
   "cell_type": "markdown",
   "metadata": {},
   "source": [
    "# Grafico fidelity vs. steps"
   ]
  },
  {
   "cell_type": "markdown",
   "metadata": {},
   "source": [
    "### Creo il primo ciclo per realizzare tutti i circuiti da eseguire (a parte la calibrazione)"
   ]
  },
  {
   "cell_type": "code",
   "execution_count": 2,
   "metadata": {},
   "outputs": [],
   "source": [
    "### definisco i parametri fissati per la realizzazione del grafico\n",
    "shots=8192\n",
    "reps=2  # al massimo 10\n",
    "precision=20\n",
    "tempo=np.pi\n",
    "backend_aus=backend_sim_jakarta\n",
    "check=[\"copy_check\", [0,2,4]]\n",
    "evo_type=\"column_evolution\" # \"column_evolution\" or \"complete_evolution\" or \"trotter_steps\"\n",
    "\n",
    "### definisco i valori di steps corrispondenti ai punti che volgio acquisire\n",
    "steps_range=[6,8,10,12,16,21,25,32,69,99]\n",
    "n_s=len(steps_range)\n",
    "\n",
    "### creo tutti i circuiti\n",
    "qcs_steps=[]\n",
    "qcs_steps_na=[]\n",
    "\n",
    "### le liste qcs_steps e qcs_steps_na conterranno tutti i circuiti di evoluzione reps volte\n",
    "\n",
    "for _ in range(reps):\n",
    "    for steps in steps_range:\n",
    "        \n",
    "        qcs_aus, qcs_na_aus = f2.evolution_tomo(type=evo_type, N_steps=steps, tempo=tempo, precision=precision, initial_state='110', check=check)\n",
    "\n",
    "        qcs_steps.append(qcs_aus)\n",
    "        qcs_steps_na.append(qcs_na_aus)\n"
   ]
  },
  {
   "cell_type": "markdown",
   "metadata": {},
   "source": [
    "### Di seguito definisco i circuiti per la calibrazione"
   ]
  },
  {
   "cell_type": "code",
   "execution_count": 3,
   "metadata": {},
   "outputs": [],
   "source": [
    "qcs_calibs, meas_calibs = f2.calibration_cirquits(evo_type, check[1])\n",
    "state_lables = f2.bin_list(3+len(check[1]))\n",
    "# meas_calibs_0, state_lables = mc.complete_meas_cal(qubit_list=check[1]+[1,3,5])"
   ]
  },
  {
   "cell_type": "markdown",
   "metadata": {},
   "source": [
    "### Eseguo tutti i circuiti (sia calibrazione che evoluzione)"
   ]
  },
  {
   "cell_type": "code",
   "execution_count": 4,
   "metadata": {},
   "outputs": [],
   "source": [
    "jobs_evo=[]\n",
    "\n",
    "for qcs in qcs_steps:\n",
    "    job=execute(qcs, backend=backend_aus, shots=shots)\n",
    "    jobs_evo.append(job)\n",
    "\n",
    "job_cal=execute(meas_calibs, backend=backend_aus, shots=shots)# initial_layout=[0,1,2,3,4,5])#check[1]+[1,3,5])\n",
    "job_cal_our=execute(qcs_calibs, backend=backend_aus, shots=shots)#, initial_layout=[0,1,2,3,4,5])\n"
   ]
  },
  {
   "cell_type": "markdown",
   "metadata": {},
   "source": [
    "### Faccio la mitigazione sia con le ancille che sulla misura:\n",
    "Le variabili che appaiono sotto contengono le seguenti cose:\n",
    "\n",
    "    - new_res: risultati mitigati sia con le ancille che sulla misura con la calibrazione di qiskit\n",
    "    - new_res_nm: risultati mitigati solo sulla misura sulle ancille\n",
    "    - new_res_our: risultati mitigati sia con le ancille che sulla misura con la calibrazione nostra\n",
    "    - new_res_not_mitigated: nessuna mitigazione\n",
    "\n",
    "viene creata una matrice fids che contiene le fidelity dei vari jobs sulle rispettive righe e su ogni riga le colonne corrispondono in ordine a: risultati non mitigati, mitigati sono con le ancille, mitigati con ancille e qiskit calibration, mitigati con ancille e nostra calibrazione"
   ]
  },
  {
   "cell_type": "code",
   "execution_count": 5,
   "metadata": {},
   "outputs": [],
   "source": [
    "meas_fitter = mc.CompleteMeasFitter(job_cal.result(), state_labels=state_lables)\n",
    "meas_fitter_our = mc.CompleteMeasFitter(job_cal_our.result(), state_labels=state_lables)\n",
    "\n",
    "\n",
    "target_state = (One^One^Zero).to_matrix()\n",
    "\n",
    "\n",
    "fids=np.zeros([n_s,reps,4])\n",
    "fids_mean=np.zeros([n_s,4])\n",
    "fids_dev=np.zeros([n_s,4])\n",
    "\n",
    "i=0\n",
    "for job in jobs_evo:\n",
    "    \n",
    "    new_res, new_res_nm = f2.mitigate(job.result(), Measure_Mitig=\"yes\", ancillas_conditions=['011','110','101'], meas_fitter=meas_fitter)\n",
    "    new_res_our, new_res_nm = f2.mitigate(job.result(), Measure_Mitig=\"yes\", ancillas_conditions=['011','110','101'], meas_fitter=meas_fitter_our)\n",
    "    new_res_not_mitigated = f2.mitigate(job.result(), Measure_Mitig=\"no\", ancillas_conditions=f2.bin_list(3))\n",
    "\n",
    "    fid = f2.fidelity_count(new_res_not_mitigated, qcs_steps_na[i], target_state)\n",
    "    fids[i%n_s][i//n_s][0] += fid\n",
    "\n",
    "    fid = f2.fidelity_count(new_res_nm, qcs_steps_na[i], target_state)\n",
    "    fids[i%n_s][i//n_s][1] += fid\n",
    "\n",
    "    fid = f2.fidelity_count(new_res, qcs_steps_na[i], target_state)\n",
    "    fids[i%n_s][i//n_s][2] += fid\n",
    "\n",
    "    fid = f2.fidelity_count(new_res_our, qcs_steps_na[i], target_state)\n",
    "    fids[i%n_s][i//n_s][3] += fid\n",
    "    \n",
    "    i+=1"
   ]
  },
  {
   "cell_type": "code",
   "execution_count": 6,
   "metadata": {},
   "outputs": [],
   "source": [
    "for i in range(4):\n",
    "    for j in range(n_s):\n",
    "        fids_mean[j,i]=np.mean(fids[j,:,i])\n",
    "        fids_dev[j,i]=np.std(fids[j,:,i])"
   ]
  },
  {
   "cell_type": "markdown",
   "metadata": {},
   "source": [
    "### Faccio il grafico della fidelity"
   ]
  },
  {
   "cell_type": "code",
   "execution_count": 7,
   "metadata": {},
   "outputs": [
    {
     "data": {
      "image/png": "[encoded data removed]",
      "text/plain": [
       "<Figure size 432x288 with 1 Axes>"
      ]
     },
     "metadata": {
      "needs_background": "light"
     },
     "output_type": "display_data"
    }
   ],
   "source": [
    "plt.errorbar(steps_range, fids_mean[:,0],fids_dev[:,0],linestyle=':',marker=\"*\",label=\"raw\")\n",
    "plt.errorbar(steps_range, fids_mean[:,1],fids_dev[:,1],linestyle=':',marker=\"*\",label=\"ancille\")\n",
    "plt.errorbar(steps_range, fids_mean[:,2],fids_dev[:,2],linestyle=':',marker=\"*\",label=\"ancille and qiskit\")\n",
    "plt.errorbar(steps_range, fids_mean[:,3],fids_dev[:,3],linestyle=':',marker=\"*\",label=\"ancille and our\")\n",
    "plt.legend()\n",
    "plt.grid()\n",
    "\n",
    "plt.show()"
   ]
  },
  {
   "cell_type": "markdown",
   "metadata": {},
   "source": [
    "### creo il file con i dati"
   ]
  },
  {
   "cell_type": "code",
   "execution_count": 8,
   "metadata": {},
   "outputs": [],
   "source": [
    "if check==[0] or check==0:\n",
    "    c_auss=\"noc\" \n",
    "else:\n",
    "    c_auss=\"yesc\"\n",
    "\n",
    "dati=(\"#%d_%d_%d_%.4f_%s_%s \\n\" %(shots, reps, precision, tempo, c_auss, evo_type))\n",
    "nome=\"fid_vs_steps_06-03_simu_01.txt\"\n",
    "\n",
    "f = open(\"dati/\" + nome, \"w\")\n",
    "f.write(dati)\n",
    "\n",
    "for i in range(n_s):\n",
    "    f.write(\"%d \" %(steps_range[i]))\n",
    "    for j in range(4):\n",
    "        f.write(\"%.5f \" %(fids_mean[i,j]))\n",
    "        f.write(\"%.5f \" %(fids_dev[i,j]))\n",
    "    f.write(\"\\n\")\n",
    "\n",
    "f.close()"
   ]
  },
  {
   "cell_type": "code",
   "execution_count": null,
   "metadata": {},
   "outputs": [],
   "source": []
  }
 ],
 "metadata": {
  "interpreter": {
   "hash": "e8bbf111b3c07fe72d02251ebcc32db4a683ef2a320a2bb47db1bc9f2379816c"
  },
  "kernelspec": {
   "display_name": "Python 3.8.12 ('pyEnv')",
   "language": "python",
   "name": "python3"
  },
  "language_info": {
   "codemirror_mode": {
    "name": "ipython",
    "version": 3
   },
   "file_extension": ".py",
   "mimetype": "text/x-python",
   "name": "python",
   "nbconvert_exporter": "python",
   "pygments_lexer": "ipython3",
   "version": "3.10.2"
  },
  "orig_nbformat": 4
 },
 "nbformat": 4,
 "nbformat_minor": 2
}
