{
 "cells": [
  {
   "cell_type": "code",
   "execution_count": 1,
   "metadata": {},
   "outputs": [],
   "source": [
    "from qiskit import *\n",
    "import numpy as np\n",
    "import qiskit.quantum_info as qi\n",
    "from sympy import *\n",
    "import funzioni01 as f1\n",
    "import funzioni02 as f2\n",
    "\n",
    "from qiskit import Aer, assemble, QuantumCircuit, QuantumRegister, ClassicalRegister, IBMQ, transpile"
   ]
  },
  {
   "cell_type": "code",
   "execution_count": 2,
   "metadata": {},
   "outputs": [
    {
     "data": {
      "text/latex": [
       "$\\displaystyle \\left[\\begin{matrix}0 & 0 & 0 & 0 & 0 & 0 & 0.5 - 0.8660254 i & 0\\\\0 & 0 & -0.25 & 0 & 0.1875 - 0.7577722 i & 0 & 0 & 0.5625 - 0.1082532 i\\\\0 & 0 & 0.1875 - 0.7577722 i & 0 & -0.09375 + 0.2706329 i & 0 & 0 & 0.40625 - 0.3788861 i\\\\-0.46875 - 0.3788861 i & 0 & 0 & 0.40625 - 0.3788861 i & 0 & 0.5625 - 0.1082532 i & 0 & 0\\\\0 & 0 & 0.5625 - 0.1082532 i & 0 & 0.40625 - 0.3788861 i & 0 & 0 & -0.46875 - 0.3788861 i\\\\0.40625 - 0.3788861 i & 0 & 0 & -0.09375 + 0.2706329 i & 0 & 0.1875 - 0.7577722 i & 0 & 0\\\\0.5625 - 0.1082532 i & 0 & 0 & 0.1875 - 0.7577722 i & 0 & -0.25 & 0 & 0\\\\0 & 0.5 - 0.8660254 i & 0 & 0 & 0 & 0 & 0 & 0\\end{matrix}\\right]$"
      ],
      "text/plain": [
       "Matrix([\n",
       "[                     0,                 0,                    0,                      0,                      0,                    0, 0.5 - 0.8660254*I,                      0],\n",
       "[                     0,                 0,                -0.25,                      0,   0.1875 - 0.7577722*I,                    0,                 0,   0.5625 - 0.1082532*I],\n",
       "[                     0,                 0, 0.1875 - 0.7577722*I,                      0, -0.09375 + 0.2706329*I,                    0,                 0,  0.40625 - 0.3788861*I],\n",
       "[-0.46875 - 0.3788861*I,                 0,                    0,  0.40625 - 0.3788861*I,                      0, 0.5625 - 0.1082532*I,                 0,                      0],\n",
       "[                     0,                 0, 0.5625 - 0.1082532*I,                      0,  0.40625 - 0.3788861*I,                    0,                 0, -0.46875 - 0.3788861*I],\n",
       "[ 0.40625 - 0.3788861*I,                 0,                    0, -0.09375 + 0.2706329*I,                      0, 0.1875 - 0.7577722*I,                 0,                      0],\n",
       "[  0.5625 - 0.1082532*I,                 0,                    0,   0.1875 - 0.7577722*I,                      0,                -0.25,                 0,                      0],\n",
       "[                     0, 0.5 - 0.8660254*I,                    0,                      0,                      0,                    0,                 0,                      0]])"
      ]
     },
     "execution_count": 2,
     "metadata": {},
     "output_type": "execute_result"
    }
   ],
   "source": [
    "qc=f1.final_state_vector(N_steps=2, time=np.pi/6, initial_state= \"110\")\n",
    "\n",
    "backend = Aer.get_backend('unitary_simulator')\n",
    "job = execute(qc, backend, shots=32000)\n",
    "result = job.result()\n",
    "A=result.get_unitary(qc, decimals=7)\n",
    "Matrix(A)"
   ]
  },
  {
   "cell_type": "code",
   "execution_count": 3,
   "metadata": {},
   "outputs": [
    {
     "data": {
      "text/latex": [
       "$\\displaystyle \\left[\\begin{matrix}-2.87991800354102 \\cdot 10^{-17} - 3.16503603332562 \\cdot 10^{-17} i\\\\-5.25881257933142 \\cdot 10^{-18} + 8.76131535090731 \\cdot 10^{-17} i\\\\9.04831671734609 \\cdot 10^{-17} + 2.42448915727391 \\cdot 10^{-17} i\\\\-0.46875 - 0.378886114155692 i\\\\-4.24901465303141 \\cdot 10^{-17} + 4.95702741828028 \\cdot 10^{-17} i\\\\0.40625 - 0.378886114155692 i\\\\0.5625 - 0.108253175473055 i\\\\-2.82465616260767 \\cdot 10^{-16} + 1.82170611497687 \\cdot 10^{-17} i\\end{matrix}\\right]$"
      ],
      "text/plain": [
       "Matrix([\n",
       "[-2.87991800354102e-17 - 3.16503603332562e-17*I],\n",
       "[-5.25881257933142e-18 + 8.76131535090731e-17*I],\n",
       "[ 9.04831671734609e-17 + 2.42448915727391e-17*I],\n",
       "[                -0.46875 - 0.378886114155692*I],\n",
       "[-4.24901465303141e-17 + 4.95702741828028e-17*I],\n",
       "[                 0.40625 - 0.378886114155692*I],\n",
       "[                  0.5625 - 0.108253175473055*I],\n",
       "[-2.82465616260767e-16 + 1.82170611497687e-17*I]])"
      ]
     },
     "execution_count": 3,
     "metadata": {},
     "output_type": "execute_result"
    }
   ],
   "source": [
    "Matrix(qi.Statevector.from_instruction(qc))"
   ]
  },
  {
   "cell_type": "code",
   "execution_count": 4,
   "metadata": {},
   "outputs": [
    {
     "name": "stdout",
     "output_type": "stream",
     "text": [
      "global phase: 7π/12\n",
      "     ┌──────────────┐┌────┐┌─────────────┐┌────┐┌─────────────┐┌───┐»\n",
      "q_0: ┤ Rz(-0.90522) ├┤ √X ├┤ Rz(-2.3207) ├┤ √X ├┤ Rz(-1.9604) ├┤ X ├»\n",
      "     ├─────────────┬┘├────┤├─────────────┤├────┤└┬────────────┤└─┬─┘»\n",
      "q_1: ┤ Rz(-2.2488) ├─┤ √X ├┤ Rz(-1.6388) ├┤ √X ├─┤ Rz(2.5248) ├──■──»\n",
      "     └─────────────┘ └────┘└─────────────┘└────┘ └────────────┘     »\n",
      "«     ┌─────────────┐               ┌───┐┌───────────────┐┌───┐┌─────────────┐»\n",
      "«q_0: ┤ Rz(0.93649) ├───────────────┤ X ├┤ Rz(0.0086059) ├┤ X ├┤ Rz(-2.2893) ├»\n",
      "«     └────┬────┬───┘┌─────────────┐└─┬─┘└─────┬────┬────┘└─┬─┘└┬────────────┤»\n",
      "«q_1: ─────┤ √X ├────┤ Rz(-2.9223) ├──■────────┤ √X ├───────■───┤ Rz(1.8181) ├»\n",
      "«          └────┘    └─────────────┘           └────┘           └────────────┘»\n",
      "«     ┌────┐┌──────────────┐┌────┐┌─────────────┐\n",
      "«q_0: ┤ √X ├┤ Rz(-0.31334) ├┤ √X ├┤ Rz(-1.3456) ├\n",
      "«     ├────┤├──────────────┤├────┤├─────────────┤\n",
      "«q_1: ┤ √X ├┤ Rz(-0.95314) ├┤ √X ├┤ Rz(-2.5778) ├\n",
      "«     └────┘└──────────────┘└────┘└─────────────┘\n"
     ]
    },
    {
     "data": {
      "image/png": "[encoded data removed]",
      "text/plain": [
       "<Figure size 353.795x204.68 with 1 Axes>"
      ]
     },
     "execution_count": 4,
     "metadata": {},
     "output_type": "execute_result"
    }
   ],
   "source": [
    "U = f2.Trotter_N_approx(steps=2, tempo=np.pi/6, precision=20)\n",
    "\n",
    "U2=[\n",
    "    [U[3*8+3],U[3*8+5],U[3*8+6],0],\n",
    "    [U[5*8+3],U[5*8+5],U[5*8+6],0],\n",
    "    [U[6*8+3],U[6*8+5],U[6*8+6],0],\n",
    "    [0,0,0,1]\n",
    "]\n",
    "\n",
    "qc=QuantumCircuit(2, name=\"U\")\n",
    "qc.unitary(U2,[0,1])    \n",
    "trans_qc=transpile(qc,basis_gates=['cx','x','sx','rz']) \n",
    "print(trans_qc)\n",
    "\n",
    "qr__ = QuantumRegister(3)\n",
    "qc__ = QuantumCircuit(qr__)\n",
    "\n",
    "qc__.x([qr__[1],qr__[2]])\n",
    "\n",
    "qc__.append(trans_qc, [qr__[0],qr__[1]])\n",
    "qc__.append(f2.Mdg_circquit().inverse(),[qr__[0],qr__[1],qr__[2]])\n",
    "\n",
    "qc__.draw(output=\"mpl\")"
   ]
  },
  {
   "cell_type": "code",
   "execution_count": 5,
   "metadata": {},
   "outputs": [
    {
     "data": {
      "text/latex": [
       "$\\displaystyle \\left[\\begin{matrix}0 & 0 & 0 & 0 & 0 & 0.5 + 0.866025403784439 i & 0 & 0\\\\0 & 0 & 0 & 0 & 0.562500019602248 - 0.108253186790418 i & 0 & -0.468750042481915 - 0.378886089628747 i & 0.406250019602248 - 0.378886125473055 i\\\\0 & 0 & 0 & 0 & 0.187500019602247 - 0.757772239628747 i & 0 & 0.406250019602248 - 0.378886125473055 i & -0.0937500424819151 + 0.270632963209582 i\\\\-0.250000042481915 + 2.45269451970564 \\cdot 10^{-8} i & 0 & 0.562500019602248 - 0.108253186790418 i & 0.187500019602247 - 0.757772239628747 i & 0 & 0 & 0 & 0\\\\0 & 0 & 0 & 0 & -0.250000042481915 + 2.45269451970564 \\cdot 10^{-8} i & 0 & 0.562500019602248 - 0.108253186790418 i & 0.187500019602247 - 0.757772239628747 i\\\\0.187500019602247 - 0.757772239628747 i & 0 & 0.406250019602248 - 0.378886125473055 i & -0.0937500424819151 + 0.270632963209582 i & 0 & 0 & 0 & 0\\\\0.562500019602248 - 0.108253186790418 i & 0 & -0.468750042481915 - 0.378886089628747 i & 0.406250019602248 - 0.378886125473055 i & 0 & 0 & 0 & 0\\\\0 & 0.5 + 0.866025403784439 i & 0 & 0 & 0 & 0 & 0 & 0\\end{matrix}\\right]$"
      ],
      "text/plain": [
       "Matrix([\n",
       "[                                         0,                         0,                                        0,                                         0,                                          0, 0.5 + 0.866025403784439*I,                                        0,                                         0],\n",
       "[                                         0,                         0,                                        0,                                         0,    0.562500019602248 - 0.108253186790418*I,                         0, -0.468750042481915 - 0.378886089628747*I,   0.406250019602248 - 0.378886125473055*I],\n",
       "[                                         0,                         0,                                        0,                                         0,    0.187500019602247 - 0.757772239628747*I,                         0,  0.406250019602248 - 0.378886125473055*I, -0.0937500424819151 + 0.270632963209582*I],\n",
       "[-0.250000042481915 + 2.45269451970564e-8*I,                         0,  0.562500019602248 - 0.108253186790418*I,   0.187500019602247 - 0.757772239628747*I,                                          0,                         0,                                        0,                                         0],\n",
       "[                                         0,                         0,                                        0,                                         0, -0.250000042481915 + 2.45269451970564e-8*I,                         0,  0.562500019602248 - 0.108253186790418*I,   0.187500019602247 - 0.757772239628747*I],\n",
       "[   0.187500019602247 - 0.757772239628747*I,                         0,  0.406250019602248 - 0.378886125473055*I, -0.0937500424819151 + 0.270632963209582*I,                                          0,                         0,                                        0,                                         0],\n",
       "[   0.562500019602248 - 0.108253186790418*I,                         0, -0.468750042481915 - 0.378886089628747*I,   0.406250019602248 - 0.378886125473055*I,                                          0,                         0,                                        0,                                         0],\n",
       "[                                         0, 0.5 + 0.866025403784439*I,                                        0,                                         0,                                          0,                         0,                                        0,                                         0]])"
      ]
     },
     "execution_count": 5,
     "metadata": {},
     "output_type": "execute_result"
    }
   ],
   "source": [
    "qc=qc__\n",
    "\n",
    "backend = Aer.get_backend('unitary_simulator')\n",
    "job = execute(qc, backend , shots=32000)\n",
    "result = job.result()\n",
    "A=result.get_unitary(qc, decimals=7)*np.exp(1j*4*np.pi/12)\n",
    "Matrix(A)"
   ]
  },
  {
   "cell_type": "code",
   "execution_count": 6,
   "metadata": {},
   "outputs": [
    {
     "data": {
      "text/latex": [
       "$\\displaystyle \\left[\\begin{matrix}-3.40613461871358 \\cdot 10^{-31} - 8.4371705509238 \\cdot 10^{-31} i\\\\-7.31237202152275 \\cdot 10^{-18} - 4.39113262446252 \\cdot 10^{-19} i\\\\-1.00286674552986 \\cdot 10^{-17} - 1.05152170963023 \\cdot 10^{-17} i\\\\-0.124999999999999 + 0.216506350946117 i\\\\-2.91692921672397 \\cdot 10^{-18} - 5.89433379383376 \\cdot 10^{-19} i\\\\-0.562499999999999 - 0.541265877365272 i\\\\0.187499999999999 - 0.541265877365274 i\\\\-1.22029168623901 \\cdot 10^{-15} - 4.16768451492382 \\cdot 10^{-15} i\\end{matrix}\\right]$"
      ],
      "text/plain": [
       "Matrix([\n",
       "[ -3.40613461871358e-31 - 8.4371705509238e-31*I],\n",
       "[-7.31237202152275e-18 - 4.39113262446252e-19*I],\n",
       "[-1.00286674552986e-17 - 1.05152170963023e-17*I],\n",
       "[      -0.124999999999999 + 0.216506350946117*I],\n",
       "[-2.91692921672397e-18 - 5.89433379383376e-19*I],\n",
       "[      -0.562499999999999 - 0.541265877365272*I],\n",
       "[       0.187499999999999 - 0.541265877365274*I],\n",
       "[-1.22029168623901e-15 - 4.16768451492382e-15*I]])"
      ]
     },
     "execution_count": 6,
     "metadata": {},
     "output_type": "execute_result"
    }
   ],
   "source": [
    "Matrix(qi.Statevector.from_instruction(qc))"
   ]
  },
  {
   "cell_type": "code",
   "execution_count": 7,
   "metadata": {},
   "outputs": [
    {
     "name": "stdout",
     "output_type": "stream",
     "text": [
      "global phase: π\n",
      "     ┌─────────────┐┌────┐┌─────────┐          ┌────┐    ┌──────────────┐┌────┐»\n",
      "q_0: ┤ Rz(-2.3955) ├┤ √X ├┤ Rz(π/2) ├──■───────┤ √X ├────┤ Rz(-0.96085) ├┤ √X ├»\n",
      "     └┬────────────┤├────┤└┬────────┤┌─┴─┐┌────┴────┴───┐└──────────────┘└────┘»\n",
      "q_1: ─┤ Rz(1.8457) ├┤ √X ├─┤ Rz(-π) ├┤ X ├┤ Rz(0.96085) ├──────────────────────»\n",
      "      └────────────┘└────┘ └────────┘└───┘└─────────────┘                      »\n",
      "«          ┌─────────┐┌────┐┌─────────────┐\n",
      "«q_0: ──■──┤ Rz(π/2) ├┤ √X ├┤ Rz(-2.6503) ├\n",
      "«     ┌─┴─┐└┬────────┤├────┤└┬────────────┤\n",
      "«q_1: ┤ X ├─┤ Rz(-π) ├┤ √X ├─┤ Rz(-3.083) ├\n",
      "«     └───┘ └────────┘└────┘ └────────────┘\n"
     ]
    }
   ],
   "source": [
    "initial_state=\"110\"\n",
    "U = f2.Trotter_N_approx(steps=2, tempo=np.pi/6, precision=20)\n",
    "\n",
    "gate_1, gate_2 = f2.simplyfied_gates_matricies(U, precision=20)\n",
    "\n",
    "### building gate_1 cirquit\n",
    "\n",
    "qc_aus=QuantumCircuit(2, name=\"gate_1\")\n",
    "qc_aus.unitary(gate_1, [0,1])\n",
    "\n",
    "gate_1=transpile(qc_aus,basis_gates=[\"cx\",\"rz\",\"x\",\"sx\"])\n",
    "print(gate_1)\n"
   ]
  },
  {
   "cell_type": "code",
   "execution_count": 8,
   "metadata": {},
   "outputs": [
    {
     "name": "stdout",
     "output_type": "stream",
     "text": [
      "     ┌─────────────┐┌────┐┌──────────┐          ┌────┐    ┌──────────────┐»\n",
      "q_0: ┤ Rz(-1.3889) ├┤ √X ├┤ Rz(-π/2) ├──■───────┤ √X ├────┤ Rz(-0.30994) ├»\n",
      "     ├─────────────┤├────┤└──────────┘┌─┴─┐┌────┴────┴───┐└──────────────┘»\n",
      "q_1: ┤ Rz(-1.6314) ├┤ √X ├────────────┤ X ├┤ Rz(0.30994) ├────────────────»\n",
      "     └─────────────┘└────┘            └───┘└─────────────┘                »\n",
      "«     ┌────┐     ┌──────────┐    ┌────┐    ┌────────────┐\n",
      "«q_0: ┤ √X ├──■──┤ Rz(-π/2) ├────┤ √X ├────┤ Rz(1.3889) ├\n",
      "«     └────┘┌─┴─┐└──┬────┬──┘┌───┴────┴───┐└────────────┘\n",
      "«q_1: ──────┤ X ├───┤ √X ├───┤ Rz(1.6314) ├──────────────\n",
      "«           └───┘   └────┘   └────────────┘              \n"
     ]
    },
    {
     "data": {
      "text/latex": [
       "$\\displaystyle \\left[\\begin{matrix}0 & 0 & 0 & 0 & 0 & 0 & -1.0 + 1.22464679914735 \\cdot 10^{-16} i & 0\\\\0 & 0 & 0 & 0 & 0.5906422 + 0.5683457 i & 0 & 0 & -0.1875 - 0.5412659 i\\\\0 & 0 & 0.0732579 + 0.2960685 i & 0 & -0.1785662 + 0.5154763 i & 0 & 0 & -0.5625 + 0.5412659 i\\\\0.125 - 0.2165064 i & 0 & 0 & -0.1465159 + 0.0951649 i & 0 & -0.9523533 + 1.16629642050242 \\cdot 10^{-16} i & 0 & 0\\\\0 & 0 & -0.9523533 + 1.16629642050242 \\cdot 10^{-16} i & 0 & 0.1465159 + 0.0951649 i & 0 & 0 & 0.125 + 0.2165064 i\\\\0.5625 + 0.5412659 i & 0 & 0 & -0.1785662 - 0.5154763 i & 0 & -0.0732579 + 0.2960685 i & 0 & 0\\\\-0.1875 + 0.5412659 i & 0 & 0 & -0.5906422 + 0.5683457 i & 0 & 0 & 0 & 0\\\\0 & -1.0 + 1.22464679914735 \\cdot 10^{-16} i & 0 & 0 & 0 & 0 & 0 & 0\\end{matrix}\\right]$"
      ],
      "text/plain": [
       "Matrix([\n",
       "[                    0,                             0,                                   0,                        0,                        0,                                   0, -1.0 + 1.22464679914735e-16*I,                     0],\n",
       "[                    0,                             0,                                   0,                        0,  0.5906422 + 0.5683457*I,                                   0,                             0, -0.1875 - 0.5412659*I],\n",
       "[                    0,                             0,             0.0732579 + 0.2960685*I,                        0, -0.1785662 + 0.5154763*I,                                   0,                             0, -0.5625 + 0.5412659*I],\n",
       "[  0.125 - 0.2165064*I,                             0,                                   0, -0.1465159 + 0.0951649*I,                        0, -0.9523533 + 1.16629642050242e-16*I,                             0,                     0],\n",
       "[                    0,                             0, -0.9523533 + 1.16629642050242e-16*I,                        0,  0.1465159 + 0.0951649*I,                                   0,                             0,   0.125 + 0.2165064*I],\n",
       "[ 0.5625 + 0.5412659*I,                             0,                                   0, -0.1785662 - 0.5154763*I,                        0,            -0.0732579 + 0.2960685*I,                             0,                     0],\n",
       "[-0.1875 + 0.5412659*I,                             0,                                   0, -0.5906422 + 0.5683457*I,                        0,                                   0,                             0,                     0],\n",
       "[                    0, -1.0 + 1.22464679914735e-16*I,                                   0,                        0,                        0,                                   0,                             0,                     0]])"
      ]
     },
     "execution_count": 8,
     "metadata": {},
     "output_type": "execute_result"
    }
   ],
   "source": [
    "\n",
    "### building gate_2 cirquit\n",
    "\n",
    "qc_aus=QuantumCircuit(2, name=\"gate_2\")\n",
    "qc_aus.unitary(gate_2, [0,1])\n",
    "\n",
    "gate_2=transpile(qc_aus,basis_gates=[\"cx\",\"rz\",\"x\",\"sx\"])\n",
    "print(gate_2)\n",
    "\n",
    "### building the evolution cirquit\n",
    "\n",
    "qr=QuantumRegister(3, name=\"q\")\n",
    "qc=QuantumCircuit(qr, name=\"U\")\n",
    "\n",
    "### preparing the initial state\n",
    "\n",
    "l=0\n",
    "for k in [2,1,0]:\n",
    "    if initial_state[l]=='1':\n",
    "        qc.x(qr[k])\n",
    "    l+=1\n",
    "\n",
    "### appending the evolution\n",
    "\n",
    "qc.append(gate_1, [qr[0],qr[1]])\n",
    "qc.append(gate_2, [qr[1],qr[2]])\n",
    "\n",
    "backend = Aer.get_backend('unitary_simulator')\n",
    "job = execute(qc, backend, shots=32000)\n",
    "result = job.result()\n",
    "A=result.get_unitary(qc, decimals=7)*np.exp(1j*np.pi)\n",
    "Matrix(A)"
   ]
  },
  {
   "cell_type": "code",
   "execution_count": null,
   "metadata": {},
   "outputs": [],
   "source": []
  }
 ],
 "metadata": {
  "interpreter": {
   "hash": "e8bbf111b3c07fe72d02251ebcc32db4a683ef2a320a2bb47db1bc9f2379816c"
  },
  "kernelspec": {
   "display_name": "Python 3.8.12 ('pyEnv')",
   "language": "python",
   "name": "python3"
  },
  "language_info": {
   "codemirror_mode": {
    "name": "ipython",
    "version": 3
   },
   "file_extension": ".py",
   "mimetype": "text/x-python",
   "name": "python",
   "nbconvert_exporter": "python",
   "pygments_lexer": "ipython3",
   "version": "3.8.12"
  },
  "orig_nbformat": 4
 },
 "nbformat": 4,
 "nbformat_minor": 2
}
