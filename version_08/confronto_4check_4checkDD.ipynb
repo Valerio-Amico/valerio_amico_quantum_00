{
 "cells": [
  {
   "cell_type": "code",
   "execution_count": 1,
   "metadata": {},
   "outputs": [],
   "source": [
    "import funzioni02 as f2\n",
    "from copy import deepcopy\n",
    "import numpy as np\n",
    "import datetime\n",
    "import qiskit.ignis.mitigation.measurement as mc\n",
    "from qiskit import Aer, assemble, QuantumCircuit, QuantumRegister, ClassicalRegister, IBMQ, transpile, execute\n",
    "from qiskit.providers.aer import AerSimulator, QasmSimulator\n",
    "from qiskit.opflow import Zero, One, I, X, Y, Z\n",
    "from qiskit.ignis.verification.tomography import state_tomography_circuits, StateTomographyFitter\n",
    "from qiskit.quantum_info import state_fidelity\n",
    "import matplotlib.pyplot as plt\n",
    "\n",
    "IBMQ.load_account()\n",
    "provider = IBMQ.get_provider(hub='ibm-q-community', group='ibmquantumawards', project='open-science-22')\n",
    "\n",
    "sim_noisy_jakarta = QasmSimulator.from_backend(provider.get_backend('ibmq_jakarta'))\n",
    "backend_sim_jakarta = sim_noisy_jakarta \n",
    "backend = provider.get_backend('ibmq_jakarta')\n",
    "backend_sim = Aer.get_backend('qasm_simulator')"
   ]
  },
  {
   "cell_type": "markdown",
   "metadata": {},
   "source": [
    "# Defining all the quantities"
   ]
  },
  {
   "cell_type": "code",
   "execution_count": 2,
   "metadata": {},
   "outputs": [],
   "source": [
    "shots=8192\n",
    "reps=2        # al massimo 10\n",
    "precision=40\n",
    "time=np.pi\n",
    "backend_aus=backend_sim_jakarta\n",
    "check=[\"4copy_check\", [0,2,4,6]]\n",
    "evo_type=\"column_evolution\" # \"column_evolution\" or \"complete_evolution\" or \"trotter_steps\"\n",
    "measure_mitigation = \"yes\"  #\"yes\" or \"no\"\n",
    "steps=42"
   ]
  },
  {
   "cell_type": "markdown",
   "metadata": {},
   "source": [
    "# Defining the evolution circuits"
   ]
  },
  {
   "cell_type": "code",
   "execution_count": 3,
   "metadata": {},
   "outputs": [],
   "source": [
    "qcs_reps = []\n",
    "\n",
    "for _ in range(reps):\n",
    "    check=[\"4copy_check\", [0,2,4,6]]\n",
    "    qcs, qcs_na = f2.evolution_tomo(type=evo_type, N_steps=steps, tempo=time, precision=precision, initial_state='110', check=check)\n",
    "    qcs_reps=qcs_reps + qcs\n",
    "    \n",
    "    check=[\"4copy_checkDD\", [0,2,4,6]]\n",
    "    qcs, qcs_na = f2.evolution_tomo(type=evo_type, N_steps=steps, tempo=time, precision=precision, initial_state='110', check=check)\n",
    "    qcs_reps=qcs_reps + qcs\n",
    "\n",
    "reps=reps*2"
   ]
  },
  {
   "cell_type": "markdown",
   "metadata": {},
   "source": [
    "# Defining the calibration cirquits"
   ]
  },
  {
   "cell_type": "code",
   "execution_count": 4,
   "metadata": {},
   "outputs": [],
   "source": [
    "check=[\"4copy_check\", [0,2,4,6]]\n",
    "qcs_calibs, meas_calibs = f2.calibration_cirquits(evo_type+\"_remake\", q_anc=check[1], check=\"yes\", check_type=check[0])\n",
    "state_lables = f2.bin_list(3+len(check[1]))\n",
    "\n",
    "check=[\"4copy_checkDD\", [0,2,4,6]]\n",
    "qcs_calibsY, meas_calibsY = f2.calibration_cirquits(evo_type+\"_remake\", q_anc=check[1], check=\"yes\", check_type=check[0])\n",
    "state_lablesY = f2.bin_list(3+len(check[1])) "
   ]
  },
  {
   "cell_type": "markdown",
   "metadata": {},
   "source": [
    "# Running all the cirquits"
   ]
  },
  {
   "cell_type": "code",
   "execution_count": 5,
   "metadata": {},
   "outputs": [],
   "source": [
    "#qcs_calibs[-1].draw(output=\"mpl\")"
   ]
  },
  {
   "cell_type": "code",
   "execution_count": 6,
   "metadata": {},
   "outputs": [],
   "source": [
    "job_evo=execute(qcs_reps, backend=backend_aus, shots=shots)\n",
    "\n",
    "job_cal=execute(meas_calibs, backend=backend_aus, shots=shots)\n",
    "job_cal_our=execute(qcs_calibs, backend=backend_aus, shots=shots)\n",
    "\n",
    "job_calY=execute(meas_calibsY, backend=backend_aus, shots=shots)\n",
    "job_cal_ourY=execute(qcs_calibsY, backend=backend_aus, shots=shots)\n",
    "\n",
    "jobs_evo_res=[]\n"
   ]
  },
  {
   "cell_type": "code",
   "execution_count": 7,
   "metadata": {},
   "outputs": [
    {
     "name": "stderr",
     "output_type": "stream",
     "text": [
      "/Library/Frameworks/Python.framework/Versions/3.10/lib/python3.10/site-packages/numpy/linalg/linalg.py:2146: RuntimeWarning: divide by zero encountered in det\n",
      "  r = _umath_linalg.det(a, signature=signature)\n",
      "/Library/Frameworks/Python.framework/Versions/3.10/lib/python3.10/site-packages/numpy/linalg/linalg.py:2146: RuntimeWarning: invalid value encountered in det\n",
      "  r = _umath_linalg.det(a, signature=signature)\n"
     ]
    }
   ],
   "source": [
    "\n",
    "for i in range(reps):\n",
    "    \n",
    "    job=execute(qcs,backend=backend_sim, shots=10)\n",
    "    results = job.result()\n",
    "    \n",
    "    for j in range(27):\n",
    "        results.results[j].data.counts = job_evo.result().get_counts()[i*27+j]\n",
    "    \n",
    "    #print(results.get_counts()[0])\n",
    "    jobs_evo_res.append(results)"
   ]
  },
  {
   "cell_type": "markdown",
   "metadata": {},
   "source": [
    "# Making the mitigation and computing the fidelity"
   ]
  },
  {
   "cell_type": "code",
   "execution_count": 8,
   "metadata": {},
   "outputs": [
    {
     "name": "stdout",
     "output_type": "stream",
     "text": [
      "0\n",
      "1\n",
      "2\n",
      "3\n"
     ]
    }
   ],
   "source": [
    "meas_fitter = mc.CompleteMeasFitter(job_cal.result(), state_labels=state_lables)\n",
    "meas_fitter_our = mc.CompleteMeasFitter(job_cal_our.result(), state_labels=state_lables)\n",
    "meas_fitterY = mc.CompleteMeasFitter(job_calY.result(), state_labels=state_lablesY)\n",
    "meas_fitter_ourY = mc.CompleteMeasFitter(job_cal_ourY.result(), state_labels=state_lablesY)\n",
    "\n",
    "target_state = (One^One^Zero).to_matrix()\n",
    "\n",
    "fids=np.zeros([reps,4])\n",
    "fids_mean=np.zeros(4)\n",
    "fids_dev=np.zeros(4)\n",
    "\n",
    "fidsY=np.zeros([reps,4])\n",
    "fids_meanY=np.zeros(4)\n",
    "fids_devY=np.zeros(4)\n",
    "\n",
    "i=0\n",
    "iy=0\n",
    "for j in range(len(jobs_evo_res)):\n",
    "    print(j)\n",
    "    if j%2==0:\n",
    "        \n",
    "        res=deepcopy(jobs_evo_res[i])\n",
    "\n",
    "        new_res, new_res_nm = f2.mitigate(res, Measure_Mitig=\"yes\", ancillas_conditions=['0011','1110','1101'], meas_fitter=meas_fitter)\n",
    "        new_res_our, new_res_nm = f2.mitigate(res, Measure_Mitig=\"yes\", ancillas_conditions=['0011','1110','1101'], meas_fitter=meas_fitter_our)\n",
    "        new_res_not_mitigated = f2.mitigate(res, Measure_Mitig=\"no\", ancillas_conditions=f2.bin_list(4))\n",
    "\n",
    "        fids[i,0] = f2.fidelity_count(new_res_not_mitigated, qcs_na, target_state)\n",
    "        fids[i,1] = f2.fidelity_count(new_res_nm, qcs_na, target_state)\n",
    "        fids[i,2] = f2.fidelity_count(new_res, qcs_na, target_state)\n",
    "        fids[i,3] = f2.fidelity_count(new_res_our, qcs_na, target_state)\n",
    "\n",
    "        i+=1\n",
    "    else:\n",
    "        res=deepcopy(jobs_evo_res[i])\n",
    "\n",
    "        new_resY, new_res_nmY = f2.mitigate(res, Measure_Mitig=\"yes\", ancillas_conditions=['0011','1110','1101'], meas_fitter=meas_fitterY)\n",
    "        new_res_ourY, new_res_nmY = f2.mitigate(res, Measure_Mitig=\"yes\", ancillas_conditions=['0011','1110','1101'], meas_fitter=meas_fitter_ourY)\n",
    "        new_res_not_mitigatedY = f2.mitigate(res, Measure_Mitig=\"no\", ancillas_conditions=f2.bin_list(4))\n",
    "\n",
    "        fidsY[iy,0] = f2.fidelity_count(new_res_not_mitigatedY, qcs_na, target_state)\n",
    "        fidsY[iy,1] = f2.fidelity_count(new_res_nmY, qcs_na, target_state)\n",
    "        fidsY[iy,2] = f2.fidelity_count(new_resY, qcs_na, target_state)\n",
    "        fidsY[iy,3] = f2.fidelity_count(new_res_ourY, qcs_na, target_state)\n",
    "\n",
    "        iy+=1\n",
    "\n",
    "for i in range(4):\n",
    "    fids_mean[i]=np.mean(fids[:,i])\n",
    "    fids_dev[i]=np.std(fids[:,i])\n",
    "\n",
    "    fids_meanY[i]=np.mean(fidsY[:,i])\n",
    "    fids_devY[i]=np.std(fidsY[:,i])"
   ]
  },
  {
   "cell_type": "code",
   "execution_count": 9,
   "metadata": {},
   "outputs": [
    {
     "name": "stdout",
     "output_type": "stream",
     "text": [
      "dict_values([780, 899, 851, 820, 843, 907, 895, 789])\n"
     ]
    }
   ],
   "source": [
    "print(new_res_nm.get_counts(3).values())"
   ]
  },
  {
   "cell_type": "code",
   "execution_count": 10,
   "metadata": {},
   "outputs": [
    {
     "data": {
      "text/plain": [
       "{'000': 5.69384669185736e-11,\n",
       " '001': 5.458670989076464e-11,\n",
       " '010': 337.50674918661946,\n",
       " '011': 2.1221266197131067e-10,\n",
       " '100': 23.255030694936305,\n",
       " '101': 3.084630386262454e-10,\n",
       " '110': 7629.767967690524,\n",
       " '111': 13.270894032921298}"
      ]
     },
     "execution_count": 10,
     "metadata": {},
     "output_type": "execute_result"
    }
   ],
   "source": [
    "new_res_ourY.get_counts(-1)"
   ]
  },
  {
   "cell_type": "code",
   "execution_count": 11,
   "metadata": {},
   "outputs": [
    {
     "name": "stdout",
     "output_type": "stream",
     "text": [
      "no:  0.40438313407910276 +- 0.40438364645362573\n",
      "yes:  0.4043176166393265 +- 0.4043179921924885\n",
      "no:  0.4249902949120232 +- 0.4249904763071882\n",
      "yes:  0.42532839322460925 +- 0.42532928465183534\n",
      "no:  0.4671808820171604 +- 0.46718092807203987\n",
      "yes:  0.46801276039279305 +- 0.46801430018385354\n",
      "no:  0.4778896657808589 +- 0.47789075759331456\n",
      "yes:  0.47783160311615325 +- 0.477831714882883\n"
     ]
    },
    {
     "data": {
      "text/plain": [
       "'\\nmean_DD=0\\nmean_=0\\nfor i in range(reps):\\n    if i%2==0:\\n        mean_+=fids[i,3]\\n    if i%2==1:\\n        mean_DD+=fids[i,3]\\nmean_DD=mean_DD/reps*2\\nmean_=mean_/reps*2\\n\\nprint(mean_)\\nprint(mean_DD)'"
      ]
     },
     "execution_count": 11,
     "metadata": {},
     "output_type": "execute_result"
    }
   ],
   "source": [
    "for i in range(4):\n",
    "    print(\"no: \", fids_mean[i], \"+-\" ,fids_dev[i])\n",
    "    print(\"yes: \",fids_meanY[i], \"+-\" ,fids_devY[i])\n",
    "'''\n",
    "mean_DD=0\n",
    "mean_=0\n",
    "for i in range(reps):\n",
    "    if i%2==0:\n",
    "        mean_+=fids[i,3]\n",
    "    if i%2==1:\n",
    "        mean_DD+=fids[i,3]\n",
    "mean_DD=mean_DD/reps*2\n",
    "mean_=mean_/reps*2\n",
    "\n",
    "print(mean_)\n",
    "print(mean_DD)'''"
   ]
  },
  {
   "cell_type": "code",
   "execution_count": 12,
   "metadata": {},
   "outputs": [
    {
     "data": {
      "text/plain": [
       "array([[0.80967664, 0.8505359 , 0.9340684 , 0.95433466],\n",
       "       [0.80785589, 0.84942528, 0.93465513, 0.957224  ],\n",
       "       [0.        , 0.        , 0.        , 0.        ],\n",
       "       [0.        , 0.        , 0.        , 0.        ]])"
      ]
     },
     "execution_count": 12,
     "metadata": {},
     "output_type": "execute_result"
    }
   ],
   "source": [
    "fids"
   ]
  },
  {
   "cell_type": "code",
   "execution_count": 13,
   "metadata": {},
   "outputs": [
    {
     "data": {
      "text/plain": [
       "array([[0.80785589, 0.84942528, 0.93432771, 0.95520101],\n",
       "       [0.80941457, 0.85188829, 0.93772333, 0.9561254 ],\n",
       "       [0.        , 0.        , 0.        , 0.        ],\n",
       "       [0.        , 0.        , 0.        , 0.        ]])"
      ]
     },
     "execution_count": 13,
     "metadata": {},
     "output_type": "execute_result"
    }
   ],
   "source": [
    "fidsY"
   ]
  },
  {
   "cell_type": "code",
   "execution_count": null,
   "metadata": {},
   "outputs": [],
   "source": []
  }
 ],
 "metadata": {
  "interpreter": {
   "hash": "aee8b7b246df8f9039afb4144a1f6fd8d2ca17a180786b69acc140d282b71a49"
  },
  "kernelspec": {
   "display_name": "Python 3.10.2 64-bit",
   "language": "python",
   "name": "python3"
  },
  "language_info": {
   "codemirror_mode": {
    "name": "ipython",
    "version": 3
   },
   "file_extension": ".py",
   "mimetype": "text/x-python",
   "name": "python",
   "nbconvert_exporter": "python",
   "pygments_lexer": "ipython3",
   "version": "3.10.2"
  },
  "orig_nbformat": 4
 },
 "nbformat": 4,
 "nbformat_minor": 2
}
