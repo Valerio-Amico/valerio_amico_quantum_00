{
 "cells": [
  {
   "cell_type": "code",
   "execution_count": 3,
   "metadata": {},
   "outputs": [
    {
     "data": {
      "text/plain": [
       "\"\\nIBMQ.load_account()\\nprovider = IBMQ.get_provider(hub='ibm-q-community', group='ibmquantumawards', project='open-science-22')\\n\\nsim_noisy_jakarta = QasmSimulator.from_backend(provider.get_backend('ibmq_jakarta'))\\nbackend_sim_jakarta = sim_noisy_jakarta \\nbackend = provider.get_backend('ibmq_jakarta')\\nbackend_sim = Aer.get_backend('qasm_simulator')\\n\""
      ]
     },
     "execution_count": 3,
     "metadata": {},
     "output_type": "execute_result"
    }
   ],
   "source": [
    "import funzioni01 as f1\n",
    "from qiskit import Aer, assemble, QuantumCircuit, QuantumRegister, ClassicalRegister, IBMQ, transpile, execute\n",
    "from qiskit.visualization import plot_bloch_multivector, plot_histogram\n",
    "from qiskit.providers.ibmq.job import job_monitor\n",
    "#from qiskit.providers.ibmq import least_busy\n",
    "from copy import deepcopy\n",
    "from qiskit.opflow import Zero, One, I, X, Y, Z\n",
    "from qiskit.providers.aer import AerSimulator, QasmSimulator\n",
    "from qiskit.ignis.verification.tomography import state_tomography_circuits, StateTomographyFitter\n",
    "from qiskit.quantum_info import state_fidelity\n",
    "from qiskit.circuit import Parameter\n",
    "import qiskit.ignis.mitigation.measurement as mc\n",
    "#from qiskit.result import marginal_counts\n",
    "from sympy import *\n",
    "from sympy.physics.quantum import TensorProduct as Tp\n",
    "import numpy as np\n",
    "from qiskit import Aer, assemble, QuantumCircuit, QuantumRegister, ClassicalRegister, IBMQ, transpile, execute\n",
    "'''\n",
    "IBMQ.load_account()\n",
    "provider = IBMQ.get_provider(hub='ibm-q-community', group='ibmquantumawards', project='open-science-22')\n",
    "\n",
    "sim_noisy_jakarta = QasmSimulator.from_backend(provider.get_backend('ibmq_jakarta'))\n",
    "backend_sim_jakarta = sim_noisy_jakarta \n",
    "backend = provider.get_backend('ibmq_jakarta')\n",
    "backend_sim = Aer.get_backend('qasm_simulator')\n",
    "'''"
   ]
  },
  {
   "cell_type": "code",
   "execution_count": 4,
   "metadata": {},
   "outputs": [],
   "source": [
    "e=Symbol(\"e\", positive=True)\n",
    "\n",
    "r_1 = Symbol(\"r1\")#, positive = True)\n",
    "phi_1 = Symbol(\"f1\")#, positive = True)\n",
    "a_1 = Symbol(\"a1\")#, positive = True)\n",
    "c_1 = Symbol(\"c1\")#, positive = True)\n",
    "\n",
    "r_2 = Symbol(\"r2\")#, positive = True)\n",
    "phi_2 = Symbol(\"f2\")#, positive = True)\n",
    "a_2 = Symbol(\"a2\")#, positive = True)\n",
    "c_2 = Symbol(\"c2\")#, positive = True)\n",
    "\n",
    "Id=eye(2)\n",
    "\n",
    "cx_01= Matrix([\n",
    "[1,0,0,0],\n",
    "[0,0,0,1],\n",
    "[0,0,1,0],\n",
    "[0,1,0,0]\n",
    "])\n",
    "cx_10= Matrix([\n",
    "[1,0,0,0],\n",
    "[0,1,0,0],\n",
    "[0,0,0,1],\n",
    "[0,0,1,0]\n",
    "])\n",
    "m_1 = Matrix([\n",
    "[1,0,0,0],\n",
    "[0,1,0,0],\n",
    "[0,0,e**(1j*a_1)*cos(r_1),e**(1j*phi_1)*sin(r_1)],\n",
    "[0,0,-e**(-1j*phi_1)*sin(r_1),e**(-1j*a_1)*cos(r_1)]\n",
    "])\n",
    "\n",
    "m_2 = Matrix([\n",
    "[1,0,0,0],\n",
    "[0,1,0,0],\n",
    "[0,0,e**(1j*a_2)*cos(r_2),e**(1j*phi_2)*sin(r_2)],\n",
    "[0,0,-e**(-1j*phi_2)*sin(r_2),e**(-1j*a_2)*cos(r_2)]\n",
    "])"
   ]
  },
  {
   "cell_type": "code",
   "execution_count": 13,
   "metadata": {},
   "outputs": [
    {
     "data": {
      "image/png": "[encoded data removed]",
      "text/plain": [
       "<Figure size 748.652x144.48 with 1 Axes>"
      ]
     },
     "execution_count": 13,
     "metadata": {},
     "output_type": "execute_result"
    }
   ],
   "source": [
    "precision=20\n",
    "tempo=np.pi\n",
    "steps=47\n",
    "\n",
    "### calcolo la matrice di evoluzione\n",
    "\n",
    "U=f1.Trotter_N_approx(steps=steps, tempo=tempo, precision=precision)\n",
    "\n",
    "### considero la colonna relativa allo stato iniziale desiderato\n",
    "### in questo caso |110>\n",
    "\n",
    "b=im(U[5*8+6])\n",
    "alp1=re(U[3*8+6])\n",
    "alp2=re(U[5*8+6])\n",
    "alp3=re(U[6*8+6])\n",
    "\n",
    "### calcolo i coefficienti per i gate a 2 qubit\n",
    "\n",
    "r1=acos(sqrt(alp3**2+b**2))\n",
    "a1=atan(b/alp3)\n",
    "a2=1\n",
    "phi1=np.pi+a2-atan(b/alp2)\n",
    "r2=-acos(sqrt(alp2**2+b**2)/sin(r1))\n",
    "phi2=-phi1-atan(-2*b/alp1)\n",
    "\n",
    "gate_1=cx_01*m_1*cx_01\n",
    "gate_1=gate_1.subs(r_1,r1)\n",
    "gate_1=gate_1.subs(a_1,a1)\n",
    "gate_1=gate_1.subs(phi_1,phi1)\n",
    "gate_1=gate_1.subs(e,np.e)\n",
    "\n",
    "gate_1=gate_1.evalf(precision)\n",
    "\n",
    "qc_aus=QuantumCircuit(2)\n",
    "qc_aus.unitary(gate_1, [0,1])\n",
    "\n",
    "gate_1=transpile(qc_aus,basis_gates=[\"cx\",\"rz\",\"ry\"])\n",
    "#gate_1.draw(output=\"mpl\")\n",
    "\n",
    "gate_2=cx_01*m_2*cx_01\n",
    "gate_2=gate_2.subs(r_2,r2)\n",
    "gate_2=gate_2.subs(a_2,a2)\n",
    "gate_2=gate_2.subs(phi_2,phi2)\n",
    "gate_2=gate_2.subs(e,np.e)\n",
    "\n",
    "gate_2=gate_2.evalf(precision)\n",
    "\n",
    "qc_aus=QuantumCircuit(2)\n",
    "qc_aus.unitary(gate_2, [0,1])\n",
    "\n",
    "gate_2=transpile(qc_aus,basis_gates=[\"cx\",\"rz\",\"x\",\"sx\"])\n",
    "gate_2.draw(output=\"mpl\")"
   ]
  },
  {
   "cell_type": "code",
   "execution_count": 9,
   "metadata": {},
   "outputs": [
    {
     "data": {
      "text/plain": [
       "<qiskit.circuit.instructionset.InstructionSet at 0x7fc8f0891e00>"
      ]
     },
     "execution_count": 9,
     "metadata": {},
     "output_type": "execute_result"
    }
   ],
   "source": [
    "qr=QuantumRegister(7)\n",
    "qc=QuantumCircuit(qr,name=\"U\")\n",
    "\n",
    "qc.x([qr[3],qr[5]])\n",
    "\n",
    "qc.append(gate_1,[qr[1],qr[3]])\n",
    "qc.append(gate_2,[qr[3],qr[5]])"
   ]
  },
  {
   "cell_type": "code",
   "execution_count": 7,
   "metadata": {},
   "outputs": [],
   "source": [
    "check=[0]\n"
   ]
  },
  {
   "cell_type": "code",
   "execution_count": 8,
   "metadata": {},
   "outputs": [
    {
     "name": "stdout",
     "output_type": "stream",
     "text": [
      "0\n"
     ]
    }
   ],
   "source": [
    "print(check[0])"
   ]
  },
  {
   "cell_type": "code",
   "execution_count": null,
   "metadata": {},
   "outputs": [],
   "source": []
  }
 ],
 "metadata": {
  "interpreter": {
   "hash": "e8bbf111b3c07fe72d02251ebcc32db4a683ef2a320a2bb47db1bc9f2379816c"
  },
  "kernelspec": {
   "display_name": "Python 3.8.12 ('pyEnv')",
   "language": "python",
   "name": "python3"
  },
  "language_info": {
   "codemirror_mode": {
    "name": "ipython",
    "version": 3
   },
   "file_extension": ".py",
   "mimetype": "text/x-python",
   "name": "python",
   "nbconvert_exporter": "python",
   "pygments_lexer": "ipython3",
   "version": "3.8.12"
  },
  "orig_nbformat": 4
 },
 "nbformat": 4,
 "nbformat_minor": 2
}
