{
 "cells": [
  {
   "cell_type": "code",
   "execution_count": 1,
   "metadata": {},
   "outputs": [],
   "source": [
    "import funzioni02 as f2\n",
    "import funzioni01 as f1\n",
    "from copy import deepcopy\n",
    "import qiskit.quantum_info as qi\n",
    "import numpy as np\n",
    "import qiskit.ignis.mitigation.measurement as mc\n",
    "from qiskit import Aer, assemble, QuantumCircuit, QuantumRegister, ClassicalRegister, IBMQ, transpile, execute\n",
    "from qiskit.providers.aer import AerSimulator, QasmSimulator\n",
    "from qiskit.opflow import Zero, One, I, X, Y, Z\n",
    "from qiskit.ignis.verification.tomography import state_tomography_circuits, StateTomographyFitter\n",
    "from qiskit.quantum_info import state_fidelity\n",
    "import matplotlib.pyplot as plt\n",
    "plt.rcParams.update({'font.size': 16})  # enlarge matplotlib fonts\n",
    "plt.rcParams['figure.figsize'] = [15, 10]\n",
    "\n",
    "IBMQ.load_account()\n",
    "provider = IBMQ.get_provider(hub='ibm-q-community', group='ibmquantumawards', project='open-science-22')\n",
    "\n",
    "sim_noisy_jakarta = QasmSimulator.from_backend(provider.get_backend('ibmq_jakarta'))\n",
    "backend_sim_jakarta = sim_noisy_jakarta \n",
    "backend = provider.get_backend('ibmq_jakarta')\n",
    "backend_sim = Aer.get_backend('qasm_simulator')"
   ]
  },
  {
   "cell_type": "code",
   "execution_count": 2,
   "metadata": {},
   "outputs": [],
   "source": [
    "shots=10000\n",
    "reps=1  # al massimo 10\n",
    "precision=40\n",
    "steps=89\n",
    "points_fit=20\n",
    "time=np.pi\n",
    "backend_aus=backend_sim_jakarta\n",
    "check=[\"4copy_check\", [0,2,4,6]]\n",
    "evo_type=\"column_evolution\" # \"column_evolution\" or \"complete_evolution\" or \"trotter_steps\"\n",
    "measure_mitigation=\"yes\" #\"yes\" or \"no\"\n",
    "\n",
    "\n",
    "if check!=[]:\n",
    "    qcs, qcs_na=f2.ZNE_cirquits(type=evo_type, N_steps=steps, tempo=time, points_fit=points_fit, precision=precision, initial_state='110', check=check)\n",
    "    \n",
    "else:\n",
    "    qcs=f2.ZNE_cirquits(type=evo_type, N_steps=steps, tempo=time, points_fit=points_fit, precision=precision, initial_state='110', check=check)"
   ]
  },
  {
   "cell_type": "code",
   "execution_count": 3,
   "metadata": {},
   "outputs": [
    {
     "data": {
      "text/html": [
       "<pre style=\"word-wrap: normal;white-space: pre;background: #fff0;line-height: 1.1;font-family: &quot;Courier New&quot;,Courier,monospace\">                       ░                 ┌──────────────┐ ░                ░ »\n",
       " q_0: ─────────────────░─────────────────┤0             ├─░────────────────░─»\n",
       "           ┌─────────┐ ░                 │              │ ░ ┌───┐┌─┐       ░ »\n",
       " q_1: ─────┤0        ├─░─────────────────┤4             ├─░─┤ H ├┤M├───────░─»\n",
       "           │         │ ░                 │              │ ░ └───┘└╥┘       ░ »\n",
       " q_2: ─────┤  gate_1 ├─░─────────────────┤1             ├─░───────╫────────░─»\n",
       "      ┌───┐│         │ ░      ┌─────────┐│              │ ░ ┌───┐ ║ ┌─┐    ░ »\n",
       " q_3: ┤ X ├┤1        ├─░──────┤0        ├┤5 4copy_check ├─░─┤ H ├─╫─┤M├────░─»\n",
       "      └───┘└─────────┘ ░      │         ││              │ ░ └───┘ ║ └╥┘    ░ »\n",
       " q_4: ─────────────────░──────┤  gate_2 ├┤2             ├─░───────╫──╫─────░─»\n",
       "                       ░ ┌───┐│         ││              │ ░ ┌───┐ ║  ║ ┌─┐ ░ »\n",
       " q_5: ─────────────────░─┤ X ├┤1        ├┤6             ├─░─┤ H ├─╫──╫─┤M├─░─»\n",
       "                       ░ └───┘└─────────┘│              │ ░ └───┘ ║  ║ └╥┘ ░ »\n",
       " q_6: ─────────────────░─────────────────┤3             ├─░───────╫──╫──╫──░─»\n",
       "                       ░                 └──────────────┘ ░       ║  ║  ║  ░ »\n",
       "c0: 3/════════════════════════════════════════════════════════════╩══╩══╩════»\n",
       "                                                                  0  1  2    »\n",
       "c1: 4/═══════════════════════════════════════════════════════════════════════»\n",
       "                                                                             »\n",
       "«      ┌─┐         \n",
       "« q_0: ┤M├─────────\n",
       "«      └╥┘         \n",
       "« q_1: ─╫──────────\n",
       "«       ║ ┌─┐      \n",
       "« q_2: ─╫─┤M├──────\n",
       "«       ║ └╥┘      \n",
       "« q_3: ─╫──╫───────\n",
       "«       ║  ║ ┌─┐   \n",
       "« q_4: ─╫──╫─┤M├───\n",
       "«       ║  ║ └╥┘   \n",
       "« q_5: ─╫──╫──╫────\n",
       "«       ║  ║  ║ ┌─┐\n",
       "« q_6: ─╫──╫──╫─┤M├\n",
       "«       ║  ║  ║ └╥┘\n",
       "«c0: 3/═╬══╬══╬══╬═\n",
       "«       ║  ║  ║  ║ \n",
       "«c1: 4/═╩══╩══╩══╩═\n",
       "«       0  1  2  3 </pre>"
      ],
      "text/plain": [
       "                       ░                 ┌──────────────┐ ░                ░ »\n",
       " q_0: ─────────────────░─────────────────┤0             ├─░────────────────░─»\n",
       "           ┌─────────┐ ░                 │              │ ░ ┌───┐┌─┐       ░ »\n",
       " q_1: ─────┤0        ├─░─────────────────┤4             ├─░─┤ H ├┤M├───────░─»\n",
       "           │         │ ░                 │              │ ░ └───┘└╥┘       ░ »\n",
       " q_2: ─────┤  gate_1 ├─░─────────────────┤1             ├─░───────╫────────░─»\n",
       "      ┌───┐│         │ ░      ┌─────────┐│              │ ░ ┌───┐ ║ ┌─┐    ░ »\n",
       " q_3: ┤ X ├┤1        ├─░──────┤0        ├┤5 4copy_check ├─░─┤ H ├─╫─┤M├────░─»\n",
       "      └───┘└─────────┘ ░      │         ││              │ ░ └───┘ ║ └╥┘    ░ »\n",
       " q_4: ─────────────────░──────┤  gate_2 ├┤2             ├─░───────╫──╫─────░─»\n",
       "                       ░ ┌───┐│         ││              │ ░ ┌───┐ ║  ║ ┌─┐ ░ »\n",
       " q_5: ─────────────────░─┤ X ├┤1        ├┤6             ├─░─┤ H ├─╫──╫─┤M├─░─»\n",
       "                       ░ └───┘└─────────┘│              │ ░ └───┘ ║  ║ └╥┘ ░ »\n",
       " q_6: ─────────────────░─────────────────┤3             ├─░───────╫──╫──╫──░─»\n",
       "                       ░                 └──────────────┘ ░       ║  ║  ║  ░ »\n",
       "c0: 3/════════════════════════════════════════════════════════════╩══╩══╩════»\n",
       "                                                                  0  1  2    »\n",
       "c1: 4/═══════════════════════════════════════════════════════════════════════»\n",
       "                                                                             »\n",
       "«      ┌─┐         \n",
       "« q_0: ┤M├─────────\n",
       "«      └╥┘         \n",
       "« q_1: ─╫──────────\n",
       "«       ║ ┌─┐      \n",
       "« q_2: ─╫─┤M├──────\n",
       "«       ║ └╥┘      \n",
       "« q_3: ─╫──╫───────\n",
       "«       ║  ║ ┌─┐   \n",
       "« q_4: ─╫──╫─┤M├───\n",
       "«       ║  ║ └╥┘   \n",
       "« q_5: ─╫──╫──╫────\n",
       "«       ║  ║  ║ ┌─┐\n",
       "« q_6: ─╫──╫──╫─┤M├\n",
       "«       ║  ║  ║ └╥┘\n",
       "«c0: 3/═╬══╬══╬══╬═\n",
       "«       ║  ║  ║  ║ \n",
       "«c1: 4/═╩══╩══╩══╩═\n",
       "«       0  1  2  3 "
      ]
     },
     "execution_count": 3,
     "metadata": {},
     "output_type": "execute_result"
    }
   ],
   "source": [
    "k=0 #selezione base\n",
    "i=0 #selezioni complessità\n",
    "qcs[i*27+k].draw()"
   ]
  },
  {
   "cell_type": "code",
   "execution_count": 4,
   "metadata": {},
   "outputs": [],
   "source": [
    "qcs_1=qcs[0:27]\n",
    "qcs_1_na=qcs_na[0:27]"
   ]
  },
  {
   "cell_type": "code",
   "execution_count": 5,
   "metadata": {},
   "outputs": [],
   "source": [
    "if measure_mitigation==\"yes\":\n",
    "    qcs_calibs, meas_calibs = f2.calibration_cirquits(evo_type+\"_remake\", check[1])\n",
    "    state_lables = f2.bin_list(3+len(check[1]))"
   ]
  },
  {
   "cell_type": "code",
   "execution_count": 6,
   "metadata": {},
   "outputs": [],
   "source": [
    "job = execute(qcs, backend=backend_aus, shots=shots)\n",
    "\n",
    "if measure_mitigation==\"yes\":\n",
    "    job_cal=execute(meas_calibs, backend=backend_aus, shots=shots)# initial_layout=[0,1,2,3,4,5])#check[1]+[1,3,5])\n",
    "    job_cal_our=execute(qcs_calibs, backend=backend_aus, shots=shots)"
   ]
  },
  {
   "cell_type": "code",
   "execution_count": null,
   "metadata": {},
   "outputs": [],
   "source": []
  },
  {
   "cell_type": "code",
   "execution_count": 7,
   "metadata": {},
   "outputs": [
    {
     "ename": "KeyboardInterrupt",
     "evalue": "",
     "output_type": "error",
     "traceback": [
      "\u001b[0;31m---------------------------------------------------------------------------\u001b[0m",
      "\u001b[0;31mKeyboardInterrupt\u001b[0m                         Traceback (most recent call last)",
      "\u001b[1;32m/Users/valerio/Documents/project_IBM_01/IBM_git/version_08/zero_noise.ipynb Cell 8'\u001b[0m in \u001b[0;36m<cell line: 8>\u001b[0;34m()\u001b[0m\n\u001b[1;32m      <a href='vscode-notebook-cell:/Users/valerio/Documents/project_IBM_01/IBM_git/version_08/zero_noise.ipynb#ch0000007?line=5'>6</a>\u001b[0m     meas_fitter_our \u001b[39m=\u001b[39m \u001b[39m0\u001b[39m\n\u001b[1;32m      <a href='vscode-notebook-cell:/Users/valerio/Documents/project_IBM_01/IBM_git/version_08/zero_noise.ipynb#ch0000007?line=7'>8</a>\u001b[0m \u001b[39mif\u001b[39;00m measure_mitigation \u001b[39m==\u001b[39m \u001b[39m\"\u001b[39m\u001b[39myes\u001b[39m\u001b[39m\"\u001b[39m \u001b[39mor\u001b[39;00m check \u001b[39m!=\u001b[39m []:\n\u001b[0;32m----> <a href='vscode-notebook-cell:/Users/valerio/Documents/project_IBM_01/IBM_git/version_08/zero_noise.ipynb#ch0000007?line=8'>9</a>\u001b[0m     new_res, new_res_nm \u001b[39m=\u001b[39m f2\u001b[39m.\u001b[39;49mmitigate(job\u001b[39m.\u001b[39;49mresult(), Measure_Mitig\u001b[39m=\u001b[39;49m\u001b[39m\"\u001b[39;49m\u001b[39myes\u001b[39;49m\u001b[39m\"\u001b[39;49m, ancillas_conditions\u001b[39m=\u001b[39;49m[\u001b[39m'\u001b[39;49m\u001b[39m0011\u001b[39;49m\u001b[39m'\u001b[39;49m,\u001b[39m'\u001b[39;49m\u001b[39m1110\u001b[39;49m\u001b[39m'\u001b[39;49m,\u001b[39m'\u001b[39;49m\u001b[39m1101\u001b[39;49m\u001b[39m'\u001b[39;49m], meas_fitter\u001b[39m=\u001b[39;49mmeas_fitter)\n\u001b[1;32m     <a href='vscode-notebook-cell:/Users/valerio/Documents/project_IBM_01/IBM_git/version_08/zero_noise.ipynb#ch0000007?line=9'>10</a>\u001b[0m     new_res_our, new_res_nm \u001b[39m=\u001b[39m f2\u001b[39m.\u001b[39mmitigate(job\u001b[39m.\u001b[39mresult(), Measure_Mitig\u001b[39m=\u001b[39m\u001b[39m\"\u001b[39m\u001b[39myes\u001b[39m\u001b[39m\"\u001b[39m, ancillas_conditions\u001b[39m=\u001b[39m[\u001b[39m'\u001b[39m\u001b[39m0011\u001b[39m\u001b[39m'\u001b[39m,\u001b[39m'\u001b[39m\u001b[39m1110\u001b[39m\u001b[39m'\u001b[39m,\u001b[39m'\u001b[39m\u001b[39m1101\u001b[39m\u001b[39m'\u001b[39m], meas_fitter\u001b[39m=\u001b[39mmeas_fitter_our)\n\u001b[1;32m     <a href='vscode-notebook-cell:/Users/valerio/Documents/project_IBM_01/IBM_git/version_08/zero_noise.ipynb#ch0000007?line=10'>11</a>\u001b[0m     new_res_not_mitigated \u001b[39m=\u001b[39m f2\u001b[39m.\u001b[39mmitigate(job\u001b[39m.\u001b[39mresult(), Measure_Mitig\u001b[39m=\u001b[39m\u001b[39m\"\u001b[39m\u001b[39mno\u001b[39m\u001b[39m\"\u001b[39m, ancillas_conditions\u001b[39m=\u001b[39mf2\u001b[39m.\u001b[39mbin_list(\u001b[39m4\u001b[39m))\n",
      "File \u001b[0;32m~/Documents/project_IBM_01/IBM_git/version_08/funzioni02.py:569\u001b[0m, in \u001b[0;36mmitigate\u001b[0;34m(raw_results, Measure_Mitig, ancillas_conditions, meas_fitter)\u001b[0m\n\u001b[1;32m    <a href='file:///Users/valerio/Documents/project_IBM_01/IBM_git/version_08/funzioni02.py?line=565'>566</a>\u001b[0m         \u001b[39mif\u001b[39;00m r_split[j] \u001b[39min\u001b[39;00m old_counts\u001b[39m.\u001b[39mkeys():\n\u001b[1;32m    <a href='file:///Users/valerio/Documents/project_IBM_01/IBM_git/version_08/funzioni02.py?line=566'>567</a>\u001b[0m             old_counts[r[j]] \u001b[39m=\u001b[39m old_counts\u001b[39m.\u001b[39mpop(r_split[j])\n\u001b[0;32m--> <a href='file:///Users/valerio/Documents/project_IBM_01/IBM_git/version_08/funzioni02.py?line=568'>569</a>\u001b[0m old_counts \u001b[39m=\u001b[39m meas_fitter\u001b[39m.\u001b[39;49mfilter\u001b[39m.\u001b[39;49mapply(old_counts, method\u001b[39m=\u001b[39;49m\u001b[39m'\u001b[39;49m\u001b[39mleast_squares\u001b[39;49m\u001b[39m'\u001b[39;49m)\n\u001b[1;32m    <a href='file:///Users/valerio/Documents/project_IBM_01/IBM_git/version_08/funzioni02.py?line=570'>571</a>\u001b[0m \u001b[39mif\u001b[39;00m N_ancillas\u001b[39m>\u001b[39m\u001b[39m0\u001b[39m:\n\u001b[1;32m    <a href='file:///Users/valerio/Documents/project_IBM_01/IBM_git/version_08/funzioni02.py?line=571'>572</a>\u001b[0m     \u001b[39mfor\u001b[39;00m j \u001b[39min\u001b[39;00m \u001b[39mrange\u001b[39m(\u001b[39m2\u001b[39m\u001b[39m*\u001b[39m\u001b[39m*\u001b[39mN_qubit):\n",
      "File \u001b[0;32m/Library/Frameworks/Python.framework/Versions/3.10/lib/python3.10/site-packages/qiskit/ignis/mitigation/measurement/filters.py:182\u001b[0m, in \u001b[0;36mMeasurementFilter.apply\u001b[0;34m(self, raw_data, method)\u001b[0m\n\u001b[1;32m    <a href='file:///Library/Frameworks/Python.framework/Versions/3.10/lib/python3.10/site-packages/qiskit/ignis/mitigation/measurement/filters.py?line=179'>180</a>\u001b[0m     cons \u001b[39m=\u001b[39m ({\u001b[39m'\u001b[39m\u001b[39mtype\u001b[39m\u001b[39m'\u001b[39m: \u001b[39m'\u001b[39m\u001b[39meq\u001b[39m\u001b[39m'\u001b[39m, \u001b[39m'\u001b[39m\u001b[39mfun\u001b[39m\u001b[39m'\u001b[39m: \u001b[39mlambda\u001b[39;00m x: nshots \u001b[39m-\u001b[39m \u001b[39msum\u001b[39m(x)})\n\u001b[1;32m    <a href='file:///Library/Frameworks/Python.framework/Versions/3.10/lib/python3.10/site-packages/qiskit/ignis/mitigation/measurement/filters.py?line=180'>181</a>\u001b[0m     bnds \u001b[39m=\u001b[39m \u001b[39mtuple\u001b[39m((\u001b[39m0\u001b[39m, nshots) \u001b[39mfor\u001b[39;00m x \u001b[39min\u001b[39;00m x0)\n\u001b[0;32m--> <a href='file:///Library/Frameworks/Python.framework/Versions/3.10/lib/python3.10/site-packages/qiskit/ignis/mitigation/measurement/filters.py?line=181'>182</a>\u001b[0m     res \u001b[39m=\u001b[39m minimize(fun, x0, method\u001b[39m=\u001b[39;49m\u001b[39m'\u001b[39;49m\u001b[39mSLSQP\u001b[39;49m\u001b[39m'\u001b[39;49m,\n\u001b[1;32m    <a href='file:///Library/Frameworks/Python.framework/Versions/3.10/lib/python3.10/site-packages/qiskit/ignis/mitigation/measurement/filters.py?line=182'>183</a>\u001b[0m                    constraints\u001b[39m=\u001b[39;49mcons, bounds\u001b[39m=\u001b[39;49mbnds, tol\u001b[39m=\u001b[39;49m\u001b[39m1e-6\u001b[39;49m)\n\u001b[1;32m    <a href='file:///Library/Frameworks/Python.framework/Versions/3.10/lib/python3.10/site-packages/qiskit/ignis/mitigation/measurement/filters.py?line=183'>184</a>\u001b[0m     raw_data2[data_idx] \u001b[39m=\u001b[39m res\u001b[39m.\u001b[39mx\n\u001b[1;32m    <a href='file:///Library/Frameworks/Python.framework/Versions/3.10/lib/python3.10/site-packages/qiskit/ignis/mitigation/measurement/filters.py?line=185'>186</a>\u001b[0m \u001b[39melse\u001b[39;00m:\n",
      "File \u001b[0;32m/Library/Frameworks/Python.framework/Versions/3.10/lib/python3.10/site-packages/scipy/optimize/_minimize.py:690\u001b[0m, in \u001b[0;36mminimize\u001b[0;34m(fun, x0, args, method, jac, hess, hessp, bounds, constraints, tol, callback, options)\u001b[0m\n\u001b[1;32m    <a href='file:///Library/Frameworks/Python.framework/Versions/3.10/lib/python3.10/site-packages/scipy/optimize/_minimize.py?line=686'>687</a>\u001b[0m     res \u001b[39m=\u001b[39m _minimize_cobyla(fun, x0, args, constraints, callback\u001b[39m=\u001b[39mcallback,\n\u001b[1;32m    <a href='file:///Library/Frameworks/Python.framework/Versions/3.10/lib/python3.10/site-packages/scipy/optimize/_minimize.py?line=687'>688</a>\u001b[0m                             \u001b[39m*\u001b[39m\u001b[39m*\u001b[39moptions)\n\u001b[1;32m    <a href='file:///Library/Frameworks/Python.framework/Versions/3.10/lib/python3.10/site-packages/scipy/optimize/_minimize.py?line=688'>689</a>\u001b[0m \u001b[39melif\u001b[39;00m meth \u001b[39m==\u001b[39m \u001b[39m'\u001b[39m\u001b[39mslsqp\u001b[39m\u001b[39m'\u001b[39m:\n\u001b[0;32m--> <a href='file:///Library/Frameworks/Python.framework/Versions/3.10/lib/python3.10/site-packages/scipy/optimize/_minimize.py?line=689'>690</a>\u001b[0m     res \u001b[39m=\u001b[39m _minimize_slsqp(fun, x0, args, jac, bounds,\n\u001b[1;32m    <a href='file:///Library/Frameworks/Python.framework/Versions/3.10/lib/python3.10/site-packages/scipy/optimize/_minimize.py?line=690'>691</a>\u001b[0m                           constraints, callback\u001b[39m=\u001b[39;49mcallback, \u001b[39m*\u001b[39;49m\u001b[39m*\u001b[39;49moptions)\n\u001b[1;32m    <a href='file:///Library/Frameworks/Python.framework/Versions/3.10/lib/python3.10/site-packages/scipy/optimize/_minimize.py?line=691'>692</a>\u001b[0m \u001b[39melif\u001b[39;00m meth \u001b[39m==\u001b[39m \u001b[39m'\u001b[39m\u001b[39mtrust-constr\u001b[39m\u001b[39m'\u001b[39m:\n\u001b[1;32m    <a href='file:///Library/Frameworks/Python.framework/Versions/3.10/lib/python3.10/site-packages/scipy/optimize/_minimize.py?line=692'>693</a>\u001b[0m     res \u001b[39m=\u001b[39m _minimize_trustregion_constr(fun, x0, args, jac, hess, hessp,\n\u001b[1;32m    <a href='file:///Library/Frameworks/Python.framework/Versions/3.10/lib/python3.10/site-packages/scipy/optimize/_minimize.py?line=693'>694</a>\u001b[0m                                        bounds, constraints,\n\u001b[1;32m    <a href='file:///Library/Frameworks/Python.framework/Versions/3.10/lib/python3.10/site-packages/scipy/optimize/_minimize.py?line=694'>695</a>\u001b[0m                                        callback\u001b[39m=\u001b[39mcallback, \u001b[39m*\u001b[39m\u001b[39m*\u001b[39moptions)\n",
      "File \u001b[0;32m/Library/Frameworks/Python.framework/Versions/3.10/lib/python3.10/site-packages/scipy/optimize/_slsqp_py.py:374\u001b[0m, in \u001b[0;36m_minimize_slsqp\u001b[0;34m(func, x0, args, jac, bounds, constraints, maxiter, ftol, iprint, disp, eps, callback, finite_diff_rel_step, **unknown_options)\u001b[0m\n\u001b[1;32m    <a href='file:///Library/Frameworks/Python.framework/Versions/3.10/lib/python3.10/site-packages/scipy/optimize/_slsqp_py.py?line=370'>371</a>\u001b[0m     xu[infbnd[:, \u001b[39m1\u001b[39m]] \u001b[39m=\u001b[39m np\u001b[39m.\u001b[39mnan\n\u001b[1;32m    <a href='file:///Library/Frameworks/Python.framework/Versions/3.10/lib/python3.10/site-packages/scipy/optimize/_slsqp_py.py?line=372'>373</a>\u001b[0m \u001b[39m# ScalarFunction provides function and gradient evaluation\u001b[39;00m\n\u001b[0;32m--> <a href='file:///Library/Frameworks/Python.framework/Versions/3.10/lib/python3.10/site-packages/scipy/optimize/_slsqp_py.py?line=373'>374</a>\u001b[0m sf \u001b[39m=\u001b[39m _prepare_scalar_function(func, x, jac\u001b[39m=\u001b[39;49mjac, args\u001b[39m=\u001b[39;49margs, epsilon\u001b[39m=\u001b[39;49meps,\n\u001b[1;32m    <a href='file:///Library/Frameworks/Python.framework/Versions/3.10/lib/python3.10/site-packages/scipy/optimize/_slsqp_py.py?line=374'>375</a>\u001b[0m                               finite_diff_rel_step\u001b[39m=\u001b[39;49mfinite_diff_rel_step,\n\u001b[1;32m    <a href='file:///Library/Frameworks/Python.framework/Versions/3.10/lib/python3.10/site-packages/scipy/optimize/_slsqp_py.py?line=375'>376</a>\u001b[0m                               bounds\u001b[39m=\u001b[39;49mnew_bounds)\n\u001b[1;32m    <a href='file:///Library/Frameworks/Python.framework/Versions/3.10/lib/python3.10/site-packages/scipy/optimize/_slsqp_py.py?line=376'>377</a>\u001b[0m \u001b[39m# gh11403 SLSQP sometimes exceeds bounds by 1 or 2 ULP, make sure this\u001b[39;00m\n\u001b[1;32m    <a href='file:///Library/Frameworks/Python.framework/Versions/3.10/lib/python3.10/site-packages/scipy/optimize/_slsqp_py.py?line=377'>378</a>\u001b[0m \u001b[39m# doesn't get sent to the func/grad evaluator.\u001b[39;00m\n\u001b[1;32m    <a href='file:///Library/Frameworks/Python.framework/Versions/3.10/lib/python3.10/site-packages/scipy/optimize/_slsqp_py.py?line=378'>379</a>\u001b[0m wrapped_fun \u001b[39m=\u001b[39m _clip_x_for_func(sf\u001b[39m.\u001b[39mfun, new_bounds)\n",
      "File \u001b[0;32m/Library/Frameworks/Python.framework/Versions/3.10/lib/python3.10/site-packages/scipy/optimize/_optimize.py:263\u001b[0m, in \u001b[0;36m_prepare_scalar_function\u001b[0;34m(fun, x0, jac, args, bounds, epsilon, finite_diff_rel_step, hess)\u001b[0m\n\u001b[1;32m    <a href='file:///Library/Frameworks/Python.framework/Versions/3.10/lib/python3.10/site-packages/scipy/optimize/_optimize.py?line=258'>259</a>\u001b[0m     bounds \u001b[39m=\u001b[39m (\u001b[39m-\u001b[39mnp\u001b[39m.\u001b[39minf, np\u001b[39m.\u001b[39minf)\n\u001b[1;32m    <a href='file:///Library/Frameworks/Python.framework/Versions/3.10/lib/python3.10/site-packages/scipy/optimize/_optimize.py?line=260'>261</a>\u001b[0m \u001b[39m# ScalarFunction caches. Reuse of fun(x) during grad\u001b[39;00m\n\u001b[1;32m    <a href='file:///Library/Frameworks/Python.framework/Versions/3.10/lib/python3.10/site-packages/scipy/optimize/_optimize.py?line=261'>262</a>\u001b[0m \u001b[39m# calculation reduces overall function evaluations.\u001b[39;00m\n\u001b[0;32m--> <a href='file:///Library/Frameworks/Python.framework/Versions/3.10/lib/python3.10/site-packages/scipy/optimize/_optimize.py?line=262'>263</a>\u001b[0m sf \u001b[39m=\u001b[39m ScalarFunction(fun, x0, args, grad, hess,\n\u001b[1;32m    <a href='file:///Library/Frameworks/Python.framework/Versions/3.10/lib/python3.10/site-packages/scipy/optimize/_optimize.py?line=263'>264</a>\u001b[0m                     finite_diff_rel_step, bounds, epsilon\u001b[39m=\u001b[39;49mepsilon)\n\u001b[1;32m    <a href='file:///Library/Frameworks/Python.framework/Versions/3.10/lib/python3.10/site-packages/scipy/optimize/_optimize.py?line=265'>266</a>\u001b[0m \u001b[39mreturn\u001b[39;00m sf\n",
      "File \u001b[0;32m/Library/Frameworks/Python.framework/Versions/3.10/lib/python3.10/site-packages/scipy/optimize/_differentiable_functions.py:177\u001b[0m, in \u001b[0;36mScalarFunction.__init__\u001b[0;34m(self, fun, x0, args, grad, hess, finite_diff_rel_step, finite_diff_bounds, epsilon)\u001b[0m\n\u001b[1;32m    <a href='file:///Library/Frameworks/Python.framework/Versions/3.10/lib/python3.10/site-packages/scipy/optimize/_differentiable_functions.py?line=172'>173</a>\u001b[0m         \u001b[39mself\u001b[39m\u001b[39m.\u001b[39mg \u001b[39m=\u001b[39m approx_derivative(fun_wrapped, \u001b[39mself\u001b[39m\u001b[39m.\u001b[39mx, f0\u001b[39m=\u001b[39m\u001b[39mself\u001b[39m\u001b[39m.\u001b[39mf,\n\u001b[1;32m    <a href='file:///Library/Frameworks/Python.framework/Versions/3.10/lib/python3.10/site-packages/scipy/optimize/_differentiable_functions.py?line=173'>174</a>\u001b[0m                                    \u001b[39m*\u001b[39m\u001b[39m*\u001b[39mfinite_diff_options)\n\u001b[1;32m    <a href='file:///Library/Frameworks/Python.framework/Versions/3.10/lib/python3.10/site-packages/scipy/optimize/_differentiable_functions.py?line=175'>176</a>\u001b[0m \u001b[39mself\u001b[39m\u001b[39m.\u001b[39m_update_grad_impl \u001b[39m=\u001b[39m update_grad\n\u001b[0;32m--> <a href='file:///Library/Frameworks/Python.framework/Versions/3.10/lib/python3.10/site-packages/scipy/optimize/_differentiable_functions.py?line=176'>177</a>\u001b[0m \u001b[39mself\u001b[39;49m\u001b[39m.\u001b[39;49m_update_grad()\n\u001b[1;32m    <a href='file:///Library/Frameworks/Python.framework/Versions/3.10/lib/python3.10/site-packages/scipy/optimize/_differentiable_functions.py?line=178'>179</a>\u001b[0m \u001b[39m# Hessian Evaluation\u001b[39;00m\n\u001b[1;32m    <a href='file:///Library/Frameworks/Python.framework/Versions/3.10/lib/python3.10/site-packages/scipy/optimize/_differentiable_functions.py?line=179'>180</a>\u001b[0m \u001b[39mif\u001b[39;00m callable(hess):\n",
      "File \u001b[0;32m/Library/Frameworks/Python.framework/Versions/3.10/lib/python3.10/site-packages/scipy/optimize/_differentiable_functions.py:256\u001b[0m, in \u001b[0;36mScalarFunction._update_grad\u001b[0;34m(self)\u001b[0m\n\u001b[1;32m    <a href='file:///Library/Frameworks/Python.framework/Versions/3.10/lib/python3.10/site-packages/scipy/optimize/_differentiable_functions.py?line=253'>254</a>\u001b[0m \u001b[39mdef\u001b[39;00m \u001b[39m_update_grad\u001b[39m(\u001b[39mself\u001b[39m):\n\u001b[1;32m    <a href='file:///Library/Frameworks/Python.framework/Versions/3.10/lib/python3.10/site-packages/scipy/optimize/_differentiable_functions.py?line=254'>255</a>\u001b[0m     \u001b[39mif\u001b[39;00m \u001b[39mnot\u001b[39;00m \u001b[39mself\u001b[39m\u001b[39m.\u001b[39mg_updated:\n\u001b[0;32m--> <a href='file:///Library/Frameworks/Python.framework/Versions/3.10/lib/python3.10/site-packages/scipy/optimize/_differentiable_functions.py?line=255'>256</a>\u001b[0m         \u001b[39mself\u001b[39;49m\u001b[39m.\u001b[39;49m_update_grad_impl()\n\u001b[1;32m    <a href='file:///Library/Frameworks/Python.framework/Versions/3.10/lib/python3.10/site-packages/scipy/optimize/_differentiable_functions.py?line=256'>257</a>\u001b[0m         \u001b[39mself\u001b[39m\u001b[39m.\u001b[39mg_updated \u001b[39m=\u001b[39m \u001b[39mTrue\u001b[39;00m\n",
      "File \u001b[0;32m/Library/Frameworks/Python.framework/Versions/3.10/lib/python3.10/site-packages/scipy/optimize/_differentiable_functions.py:173\u001b[0m, in \u001b[0;36mScalarFunction.__init__.<locals>.update_grad\u001b[0;34m()\u001b[0m\n\u001b[1;32m    <a href='file:///Library/Frameworks/Python.framework/Versions/3.10/lib/python3.10/site-packages/scipy/optimize/_differentiable_functions.py?line=170'>171</a>\u001b[0m \u001b[39mself\u001b[39m\u001b[39m.\u001b[39m_update_fun()\n\u001b[1;32m    <a href='file:///Library/Frameworks/Python.framework/Versions/3.10/lib/python3.10/site-packages/scipy/optimize/_differentiable_functions.py?line=171'>172</a>\u001b[0m \u001b[39mself\u001b[39m\u001b[39m.\u001b[39mngev \u001b[39m+\u001b[39m\u001b[39m=\u001b[39m \u001b[39m1\u001b[39m\n\u001b[0;32m--> <a href='file:///Library/Frameworks/Python.framework/Versions/3.10/lib/python3.10/site-packages/scipy/optimize/_differentiable_functions.py?line=172'>173</a>\u001b[0m \u001b[39mself\u001b[39m\u001b[39m.\u001b[39mg \u001b[39m=\u001b[39m approx_derivative(fun_wrapped, \u001b[39mself\u001b[39;49m\u001b[39m.\u001b[39;49mx, f0\u001b[39m=\u001b[39;49m\u001b[39mself\u001b[39;49m\u001b[39m.\u001b[39;49mf,\n\u001b[1;32m    <a href='file:///Library/Frameworks/Python.framework/Versions/3.10/lib/python3.10/site-packages/scipy/optimize/_differentiable_functions.py?line=173'>174</a>\u001b[0m                            \u001b[39m*\u001b[39;49m\u001b[39m*\u001b[39;49mfinite_diff_options)\n",
      "File \u001b[0;32m/Library/Frameworks/Python.framework/Versions/3.10/lib/python3.10/site-packages/scipy/optimize/_numdiff.py:505\u001b[0m, in \u001b[0;36mapprox_derivative\u001b[0;34m(fun, x0, method, rel_step, abs_step, f0, bounds, sparsity, as_linear_operator, args, kwargs)\u001b[0m\n\u001b[1;32m    <a href='file:///Library/Frameworks/Python.framework/Versions/3.10/lib/python3.10/site-packages/scipy/optimize/_numdiff.py?line=501'>502</a>\u001b[0m     use_one_sided \u001b[39m=\u001b[39m \u001b[39mFalse\u001b[39;00m\n\u001b[1;32m    <a href='file:///Library/Frameworks/Python.framework/Versions/3.10/lib/python3.10/site-packages/scipy/optimize/_numdiff.py?line=503'>504</a>\u001b[0m \u001b[39mif\u001b[39;00m sparsity \u001b[39mis\u001b[39;00m \u001b[39mNone\u001b[39;00m:\n\u001b[0;32m--> <a href='file:///Library/Frameworks/Python.framework/Versions/3.10/lib/python3.10/site-packages/scipy/optimize/_numdiff.py?line=504'>505</a>\u001b[0m     \u001b[39mreturn\u001b[39;00m _dense_difference(fun_wrapped, x0, f0, h,\n\u001b[1;32m    <a href='file:///Library/Frameworks/Python.framework/Versions/3.10/lib/python3.10/site-packages/scipy/optimize/_numdiff.py?line=505'>506</a>\u001b[0m                              use_one_sided, method)\n\u001b[1;32m    <a href='file:///Library/Frameworks/Python.framework/Versions/3.10/lib/python3.10/site-packages/scipy/optimize/_numdiff.py?line=506'>507</a>\u001b[0m \u001b[39melse\u001b[39;00m:\n\u001b[1;32m    <a href='file:///Library/Frameworks/Python.framework/Versions/3.10/lib/python3.10/site-packages/scipy/optimize/_numdiff.py?line=507'>508</a>\u001b[0m     \u001b[39mif\u001b[39;00m \u001b[39mnot\u001b[39;00m issparse(sparsity) \u001b[39mand\u001b[39;00m \u001b[39mlen\u001b[39m(sparsity) \u001b[39m==\u001b[39m \u001b[39m2\u001b[39m:\n",
      "File \u001b[0;32m/Library/Frameworks/Python.framework/Versions/3.10/lib/python3.10/site-packages/scipy/optimize/_numdiff.py:576\u001b[0m, in \u001b[0;36m_dense_difference\u001b[0;34m(fun, x0, f0, h, use_one_sided, method)\u001b[0m\n\u001b[1;32m    <a href='file:///Library/Frameworks/Python.framework/Versions/3.10/lib/python3.10/site-packages/scipy/optimize/_numdiff.py?line=573'>574</a>\u001b[0m     x \u001b[39m=\u001b[39m x0 \u001b[39m+\u001b[39m h_vecs[i]\n\u001b[1;32m    <a href='file:///Library/Frameworks/Python.framework/Versions/3.10/lib/python3.10/site-packages/scipy/optimize/_numdiff.py?line=574'>575</a>\u001b[0m     dx \u001b[39m=\u001b[39m x[i] \u001b[39m-\u001b[39m x0[i]  \u001b[39m# Recompute dx as exactly representable number.\u001b[39;00m\n\u001b[0;32m--> <a href='file:///Library/Frameworks/Python.framework/Versions/3.10/lib/python3.10/site-packages/scipy/optimize/_numdiff.py?line=575'>576</a>\u001b[0m     df \u001b[39m=\u001b[39m fun(x) \u001b[39m-\u001b[39m f0\n\u001b[1;32m    <a href='file:///Library/Frameworks/Python.framework/Versions/3.10/lib/python3.10/site-packages/scipy/optimize/_numdiff.py?line=576'>577</a>\u001b[0m \u001b[39melif\u001b[39;00m method \u001b[39m==\u001b[39m \u001b[39m'\u001b[39m\u001b[39m3-point\u001b[39m\u001b[39m'\u001b[39m \u001b[39mand\u001b[39;00m use_one_sided[i]:\n\u001b[1;32m    <a href='file:///Library/Frameworks/Python.framework/Versions/3.10/lib/python3.10/site-packages/scipy/optimize/_numdiff.py?line=577'>578</a>\u001b[0m     x1 \u001b[39m=\u001b[39m x0 \u001b[39m+\u001b[39m h_vecs[i]\n",
      "File \u001b[0;32m/Library/Frameworks/Python.framework/Versions/3.10/lib/python3.10/site-packages/scipy/optimize/_numdiff.py:456\u001b[0m, in \u001b[0;36mapprox_derivative.<locals>.fun_wrapped\u001b[0;34m(x)\u001b[0m\n\u001b[1;32m    <a href='file:///Library/Frameworks/Python.framework/Versions/3.10/lib/python3.10/site-packages/scipy/optimize/_numdiff.py?line=454'>455</a>\u001b[0m \u001b[39mdef\u001b[39;00m \u001b[39mfun_wrapped\u001b[39m(x):\n\u001b[0;32m--> <a href='file:///Library/Frameworks/Python.framework/Versions/3.10/lib/python3.10/site-packages/scipy/optimize/_numdiff.py?line=455'>456</a>\u001b[0m     f \u001b[39m=\u001b[39m np\u001b[39m.\u001b[39matleast_1d(fun(x, \u001b[39m*\u001b[39;49margs, \u001b[39m*\u001b[39;49m\u001b[39m*\u001b[39;49mkwargs))\n\u001b[1;32m    <a href='file:///Library/Frameworks/Python.framework/Versions/3.10/lib/python3.10/site-packages/scipy/optimize/_numdiff.py?line=456'>457</a>\u001b[0m     \u001b[39mif\u001b[39;00m f\u001b[39m.\u001b[39mndim \u001b[39m>\u001b[39m \u001b[39m1\u001b[39m:\n\u001b[1;32m    <a href='file:///Library/Frameworks/Python.framework/Versions/3.10/lib/python3.10/site-packages/scipy/optimize/_numdiff.py?line=457'>458</a>\u001b[0m         \u001b[39mraise\u001b[39;00m \u001b[39mRuntimeError\u001b[39;00m(\u001b[39m\"\u001b[39m\u001b[39m`fun` return value has \u001b[39m\u001b[39m\"\u001b[39m\n\u001b[1;32m    <a href='file:///Library/Frameworks/Python.framework/Versions/3.10/lib/python3.10/site-packages/scipy/optimize/_numdiff.py?line=458'>459</a>\u001b[0m                            \u001b[39m\"\u001b[39m\u001b[39mmore than 1 dimension.\u001b[39m\u001b[39m\"\u001b[39m)\n",
      "File \u001b[0;32m/Library/Frameworks/Python.framework/Versions/3.10/lib/python3.10/site-packages/scipy/optimize/_differentiable_functions.py:137\u001b[0m, in \u001b[0;36mScalarFunction.__init__.<locals>.fun_wrapped\u001b[0;34m(x)\u001b[0m\n\u001b[1;32m    <a href='file:///Library/Frameworks/Python.framework/Versions/3.10/lib/python3.10/site-packages/scipy/optimize/_differentiable_functions.py?line=132'>133</a>\u001b[0m \u001b[39mself\u001b[39m\u001b[39m.\u001b[39mnfev \u001b[39m+\u001b[39m\u001b[39m=\u001b[39m \u001b[39m1\u001b[39m\n\u001b[1;32m    <a href='file:///Library/Frameworks/Python.framework/Versions/3.10/lib/python3.10/site-packages/scipy/optimize/_differentiable_functions.py?line=133'>134</a>\u001b[0m \u001b[39m# Send a copy because the user may overwrite it.\u001b[39;00m\n\u001b[1;32m    <a href='file:///Library/Frameworks/Python.framework/Versions/3.10/lib/python3.10/site-packages/scipy/optimize/_differentiable_functions.py?line=134'>135</a>\u001b[0m \u001b[39m# Overwriting results in undefined behaviour because\u001b[39;00m\n\u001b[1;32m    <a href='file:///Library/Frameworks/Python.framework/Versions/3.10/lib/python3.10/site-packages/scipy/optimize/_differentiable_functions.py?line=135'>136</a>\u001b[0m \u001b[39m# fun(self.x) will change self.x, with the two no longer linked.\u001b[39;00m\n\u001b[0;32m--> <a href='file:///Library/Frameworks/Python.framework/Versions/3.10/lib/python3.10/site-packages/scipy/optimize/_differentiable_functions.py?line=136'>137</a>\u001b[0m fx \u001b[39m=\u001b[39m fun(np\u001b[39m.\u001b[39;49mcopy(x), \u001b[39m*\u001b[39;49margs)\n\u001b[1;32m    <a href='file:///Library/Frameworks/Python.framework/Versions/3.10/lib/python3.10/site-packages/scipy/optimize/_differentiable_functions.py?line=137'>138</a>\u001b[0m \u001b[39m# Make sure the function returns a true scalar\u001b[39;00m\n\u001b[1;32m    <a href='file:///Library/Frameworks/Python.framework/Versions/3.10/lib/python3.10/site-packages/scipy/optimize/_differentiable_functions.py?line=138'>139</a>\u001b[0m \u001b[39mif\u001b[39;00m \u001b[39mnot\u001b[39;00m np\u001b[39m.\u001b[39misscalar(fx):\n",
      "File \u001b[0;32m/Library/Frameworks/Python.framework/Versions/3.10/lib/python3.10/site-packages/qiskit/ignis/mitigation/measurement/filters.py:177\u001b[0m, in \u001b[0;36mMeasurementFilter.apply.<locals>.fun\u001b[0;34m(x)\u001b[0m\n\u001b[1;32m    <a href='file:///Library/Frameworks/Python.framework/Versions/3.10/lib/python3.10/site-packages/qiskit/ignis/mitigation/measurement/filters.py?line=174'>175</a>\u001b[0m \u001b[39mdef\u001b[39;00m \u001b[39mfun\u001b[39m(x):\n\u001b[1;32m    <a href='file:///Library/Frameworks/Python.framework/Versions/3.10/lib/python3.10/site-packages/qiskit/ignis/mitigation/measurement/filters.py?line=175'>176</a>\u001b[0m     \u001b[39mreturn\u001b[39;00m \u001b[39msum\u001b[39m(\n\u001b[0;32m--> <a href='file:///Library/Frameworks/Python.framework/Versions/3.10/lib/python3.10/site-packages/qiskit/ignis/mitigation/measurement/filters.py?line=176'>177</a>\u001b[0m         (raw_data2[data_idx] \u001b[39m-\u001b[39m np\u001b[39m.\u001b[39;49mdot(\u001b[39mself\u001b[39;49m\u001b[39m.\u001b[39;49m_cal_matrix, x))\u001b[39m*\u001b[39m\u001b[39m*\u001b[39m\u001b[39m2\u001b[39m)\n",
      "File \u001b[0;32m<__array_function__ internals>:180\u001b[0m, in \u001b[0;36mdot\u001b[0;34m(*args, **kwargs)\u001b[0m\n",
      "\u001b[0;31mKeyboardInterrupt\u001b[0m: "
     ]
    }
   ],
   "source": [
    "if measure_mitigation==\"yes\":\n",
    "    meas_fitter = mc.CompleteMeasFitter(job_cal.result(), state_labels=state_lables)\n",
    "    meas_fitter_our = mc.CompleteMeasFitter(job_cal_our.result(), state_labels=state_lables)\n",
    "else:\n",
    "    meas_fitter = 0\n",
    "    meas_fitter_our = 0\n",
    "\n",
    "if measure_mitigation == \"yes\" or check != []:\n",
    "    new_res, new_res_nm = f2.mitigate(job.result(), Measure_Mitig=\"yes\", ancillas_conditions=['0011','1110','1101'], meas_fitter=meas_fitter)\n",
    "    new_res_our, new_res_nm = f2.mitigate(job.result(), Measure_Mitig=\"yes\", ancillas_conditions=['0011','1110','1101'], meas_fitter=meas_fitter_our)\n",
    "    new_res_not_mitigated = f2.mitigate(job.result(), Measure_Mitig=\"no\", ancillas_conditions=f2.bin_list(4))\n",
    "else:\n",
    "    new_res_not_mitigated = job.result()\n",
    "\n",
    "target_state = (One^One^Zero).to_matrix()\n",
    "\n",
    "#f2.fidelity_count(new_res_not_mitigated, qcs_na, target_state)"
   ]
  },
  {
   "cell_type": "code",
   "execution_count": null,
   "metadata": {},
   "outputs": [
    {
     "name": "stdout",
     "output_type": "stream",
     "text": [
      "0.509\n"
     ]
    }
   ],
   "source": [
    "j=new_res_not_mitigated.get_counts(-1)\n",
    "\n",
    "print(j[\"110\"]/sum(j.values()))\n"
   ]
  },
  {
   "cell_type": "code",
   "execution_count": null,
   "metadata": {},
   "outputs": [
    {
     "name": "stdout",
     "output_type": "stream",
     "text": [
      "0.8623217922606925\n"
     ]
    }
   ],
   "source": [
    "j=new_res_nm.get_counts(-1)\n",
    "print(j[\"110\"]/sum(j.values()))\n"
   ]
  },
  {
   "cell_type": "code",
   "execution_count": null,
   "metadata": {},
   "outputs": [
    {
     "name": "stderr",
     "output_type": "stream",
     "text": [
      "/Library/Frameworks/Python.framework/Versions/3.10/lib/python3.10/site-packages/qiskit/result/result.py:395: UserWarning: Result object contained multiple results matching name \"('X', 'X', 'X')\", only first match will be returned. Use an integer index to retrieve results for all entries.\n",
      "  warnings.warn(\n",
      "/Library/Frameworks/Python.framework/Versions/3.10/lib/python3.10/site-packages/qiskit/result/result.py:395: UserWarning: Result object contained multiple results matching name \"('X', 'X', 'Y')\", only first match will be returned. Use an integer index to retrieve results for all entries.\n",
      "  warnings.warn(\n",
      "/Library/Frameworks/Python.framework/Versions/3.10/lib/python3.10/site-packages/qiskit/result/result.py:395: UserWarning: Result object contained multiple results matching name \"('X', 'X', 'Z')\", only first match will be returned. Use an integer index to retrieve results for all entries.\n",
      "  warnings.warn(\n",
      "/Library/Frameworks/Python.framework/Versions/3.10/lib/python3.10/site-packages/qiskit/result/result.py:395: UserWarning: Result object contained multiple results matching name \"('X', 'Y', 'X')\", only first match will be returned. Use an integer index to retrieve results for all entries.\n",
      "  warnings.warn(\n",
      "/Library/Frameworks/Python.framework/Versions/3.10/lib/python3.10/site-packages/qiskit/result/result.py:395: UserWarning: Result object contained multiple results matching name \"('X', 'Y', 'Y')\", only first match will be returned. Use an integer index to retrieve results for all entries.\n",
      "  warnings.warn(\n",
      "/Library/Frameworks/Python.framework/Versions/3.10/lib/python3.10/site-packages/qiskit/result/result.py:395: UserWarning: Result object contained multiple results matching name \"('X', 'Y', 'Z')\", only first match will be returned. Use an integer index to retrieve results for all entries.\n",
      "  warnings.warn(\n",
      "/Library/Frameworks/Python.framework/Versions/3.10/lib/python3.10/site-packages/qiskit/result/result.py:395: UserWarning: Result object contained multiple results matching name \"('X', 'Z', 'X')\", only first match will be returned. Use an integer index to retrieve results for all entries.\n",
      "  warnings.warn(\n",
      "/Library/Frameworks/Python.framework/Versions/3.10/lib/python3.10/site-packages/qiskit/result/result.py:395: UserWarning: Result object contained multiple results matching name \"('X', 'Z', 'Y')\", only first match will be returned. Use an integer index to retrieve results for all entries.\n",
      "  warnings.warn(\n",
      "/Library/Frameworks/Python.framework/Versions/3.10/lib/python3.10/site-packages/qiskit/result/result.py:395: UserWarning: Result object contained multiple results matching name \"('X', 'Z', 'Z')\", only first match will be returned. Use an integer index to retrieve results for all entries.\n",
      "  warnings.warn(\n",
      "/Library/Frameworks/Python.framework/Versions/3.10/lib/python3.10/site-packages/qiskit/result/result.py:395: UserWarning: Result object contained multiple results matching name \"('Y', 'X', 'X')\", only first match will be returned. Use an integer index to retrieve results for all entries.\n",
      "  warnings.warn(\n",
      "/Library/Frameworks/Python.framework/Versions/3.10/lib/python3.10/site-packages/qiskit/result/result.py:395: UserWarning: Result object contained multiple results matching name \"('Y', 'X', 'Y')\", only first match will be returned. Use an integer index to retrieve results for all entries.\n",
      "  warnings.warn(\n",
      "/Library/Frameworks/Python.framework/Versions/3.10/lib/python3.10/site-packages/qiskit/result/result.py:395: UserWarning: Result object contained multiple results matching name \"('Y', 'X', 'Z')\", only first match will be returned. Use an integer index to retrieve results for all entries.\n",
      "  warnings.warn(\n",
      "/Library/Frameworks/Python.framework/Versions/3.10/lib/python3.10/site-packages/qiskit/result/result.py:395: UserWarning: Result object contained multiple results matching name \"('Y', 'Y', 'X')\", only first match will be returned. Use an integer index to retrieve results for all entries.\n",
      "  warnings.warn(\n",
      "/Library/Frameworks/Python.framework/Versions/3.10/lib/python3.10/site-packages/qiskit/result/result.py:395: UserWarning: Result object contained multiple results matching name \"('Y', 'Y', 'Y')\", only first match will be returned. Use an integer index to retrieve results for all entries.\n",
      "  warnings.warn(\n",
      "/Library/Frameworks/Python.framework/Versions/3.10/lib/python3.10/site-packages/qiskit/result/result.py:395: UserWarning: Result object contained multiple results matching name \"('Y', 'Y', 'Z')\", only first match will be returned. Use an integer index to retrieve results for all entries.\n",
      "  warnings.warn(\n",
      "/Library/Frameworks/Python.framework/Versions/3.10/lib/python3.10/site-packages/qiskit/result/result.py:395: UserWarning: Result object contained multiple results matching name \"('Y', 'Z', 'X')\", only first match will be returned. Use an integer index to retrieve results for all entries.\n",
      "  warnings.warn(\n",
      "/Library/Frameworks/Python.framework/Versions/3.10/lib/python3.10/site-packages/qiskit/result/result.py:395: UserWarning: Result object contained multiple results matching name \"('Y', 'Z', 'Y')\", only first match will be returned. Use an integer index to retrieve results for all entries.\n",
      "  warnings.warn(\n",
      "/Library/Frameworks/Python.framework/Versions/3.10/lib/python3.10/site-packages/qiskit/result/result.py:395: UserWarning: Result object contained multiple results matching name \"('Y', 'Z', 'Z')\", only first match will be returned. Use an integer index to retrieve results for all entries.\n",
      "  warnings.warn(\n",
      "/Library/Frameworks/Python.framework/Versions/3.10/lib/python3.10/site-packages/qiskit/result/result.py:395: UserWarning: Result object contained multiple results matching name \"('Z', 'X', 'X')\", only first match will be returned. Use an integer index to retrieve results for all entries.\n",
      "  warnings.warn(\n",
      "/Library/Frameworks/Python.framework/Versions/3.10/lib/python3.10/site-packages/qiskit/result/result.py:395: UserWarning: Result object contained multiple results matching name \"('Z', 'X', 'Y')\", only first match will be returned. Use an integer index to retrieve results for all entries.\n",
      "  warnings.warn(\n",
      "/Library/Frameworks/Python.framework/Versions/3.10/lib/python3.10/site-packages/qiskit/result/result.py:395: UserWarning: Result object contained multiple results matching name \"('Z', 'X', 'Z')\", only first match will be returned. Use an integer index to retrieve results for all entries.\n",
      "  warnings.warn(\n",
      "/Library/Frameworks/Python.framework/Versions/3.10/lib/python3.10/site-packages/qiskit/result/result.py:395: UserWarning: Result object contained multiple results matching name \"('Z', 'Y', 'X')\", only first match will be returned. Use an integer index to retrieve results for all entries.\n",
      "  warnings.warn(\n",
      "/Library/Frameworks/Python.framework/Versions/3.10/lib/python3.10/site-packages/qiskit/result/result.py:395: UserWarning: Result object contained multiple results matching name \"('Z', 'Y', 'Y')\", only first match will be returned. Use an integer index to retrieve results for all entries.\n",
      "  warnings.warn(\n",
      "/Library/Frameworks/Python.framework/Versions/3.10/lib/python3.10/site-packages/qiskit/result/result.py:395: UserWarning: Result object contained multiple results matching name \"('Z', 'Y', 'Z')\", only first match will be returned. Use an integer index to retrieve results for all entries.\n",
      "  warnings.warn(\n",
      "/Library/Frameworks/Python.framework/Versions/3.10/lib/python3.10/site-packages/qiskit/result/result.py:395: UserWarning: Result object contained multiple results matching name \"('Z', 'Z', 'X')\", only first match will be returned. Use an integer index to retrieve results for all entries.\n",
      "  warnings.warn(\n",
      "/Library/Frameworks/Python.framework/Versions/3.10/lib/python3.10/site-packages/qiskit/result/result.py:395: UserWarning: Result object contained multiple results matching name \"('Z', 'Z', 'Y')\", only first match will be returned. Use an integer index to retrieve results for all entries.\n",
      "  warnings.warn(\n",
      "/Library/Frameworks/Python.framework/Versions/3.10/lib/python3.10/site-packages/qiskit/result/result.py:395: UserWarning: Result object contained multiple results matching name \"('Z', 'Z', 'Z')\", only first match will be returned. Use an integer index to retrieve results for all entries.\n",
      "  warnings.warn(\n"
     ]
    },
    {
     "data": {
      "text/plain": [
       "0.973125378731604"
      ]
     },
     "execution_count": 10,
     "metadata": {},
     "output_type": "execute_result"
    }
   ],
   "source": [
    "target_state = (One^One^Zero).to_matrix()\n",
    "fid=f2.fidelity_count(new_res_our, qcs_1_na, target_state)\n",
    "fid"
   ]
  },
  {
   "cell_type": "code",
   "execution_count": null,
   "metadata": {},
   "outputs": [
    {
     "name": "stderr",
     "output_type": "stream",
     "text": [
      "/Library/Frameworks/Python.framework/Versions/3.10/lib/python3.10/site-packages/numpy/linalg/linalg.py:2146: RuntimeWarning: divide by zero encountered in det\n",
      "  r = _umath_linalg.det(a, signature=signature)\n",
      "/Library/Frameworks/Python.framework/Versions/3.10/lib/python3.10/site-packages/numpy/linalg/linalg.py:2146: RuntimeWarning: invalid value encountered in det\n",
      "  r = _umath_linalg.det(a, signature=signature)\n"
     ]
    },
    {
     "data": {
      "text/latex": [
       "$\\displaystyle \\left[\\begin{matrix}1.0 & 0 & 0 & 0 & 0 & 0 & 0 & 0\\\\0 & 1.0 & 0 & 0 & 0 & 0 & 0 & 0\\\\0 & 0 & 1.0 & 0 & 0 & 0 & 0 & 0\\\\0 & 0 & 0 & 1.0 & 0 & 0 & 0 & 0\\\\0 & 0 & 0 & 0 & 1.0 & 0 & 0 & 0\\\\0 & 0 & 0 & 0 & 0 & 1.0 & 0 & 0\\\\0 & 0 & 0 & 0 & 0 & 0 & 1.0 & 0\\\\0 & 0 & 0 & 0 & 0 & 0 & 0 & 1.0\\end{matrix}\\right]$"
      ],
      "text/plain": [
       "Matrix([\n",
       "[1.0,   0,   0,   0,   0,   0,   0,   0],\n",
       "[  0, 1.0,   0,   0,   0,   0,   0,   0],\n",
       "[  0,   0, 1.0,   0,   0,   0,   0,   0],\n",
       "[  0,   0,   0, 1.0,   0,   0,   0,   0],\n",
       "[  0,   0,   0,   0, 1.0,   0,   0,   0],\n",
       "[  0,   0,   0,   0,   0, 1.0,   0,   0],\n",
       "[  0,   0,   0,   0,   0,   0, 1.0,   0],\n",
       "[  0,   0,   0,   0,   0,   0,   0, 1.0]])"
      ]
     },
     "execution_count": 11,
     "metadata": {},
     "output_type": "execute_result"
    }
   ],
   "source": [
    "qqc=f2.calibration_cirquit(type=evo_type+\"_remake\")\n",
    "f2.matrix_from_cirquit(qqc)"
   ]
  },
  {
   "cell_type": "code",
   "execution_count": null,
   "metadata": {},
   "outputs": [
    {
     "name": "stdout",
     "output_type": "stream",
     "text": [
      "[-0.22501934  5.76784038]\n"
     ]
    },
    {
     "data": {
      "image/png": "[encoded data removed]",
      "text/plain": [
       "<Figure size 1080x720 with 1 Axes>"
      ]
     },
     "metadata": {
      "needs_background": "light"
     },
     "output_type": "display_data"
    }
   ],
   "source": [
    "stato=\"011\"\n",
    "k=26\n",
    "\n",
    "x=np.zeros([points_fit])\n",
    "y=np.zeros([points_fit])\n",
    "\n",
    "for i in range(points_fit):\n",
    "    if stato in new_res.get_counts(i*27+k):\n",
    "        x[i]=(new_res.get_counts(i*27+k)[stato])\n",
    "    y[i]=i+1\n",
    "\n",
    "z=np.polyfit(y, x, 1)\n",
    "print(z)\n",
    "\n",
    "x_ = np.arange(-1, points_fit+1)\n",
    "y_ = z[1]+z[0]*x_\n",
    "\n",
    "plt.plot(y,x,marker=\"*\",linestyle=\"\")\n",
    "plt.plot(x_,y_)\n",
    "#plt.plot([0,0],[23000,31000],color=\"gray\")\n",
    "\n",
    "plt.show()"
   ]
  },
  {
   "cell_type": "code",
   "execution_count": null,
   "metadata": {},
   "outputs": [
    {
     "name": "stderr",
     "output_type": "stream",
     "text": [
      "/Library/Frameworks/Python.framework/Versions/3.10/lib/python3.10/site-packages/numpy/linalg/linalg.py:2146: RuntimeWarning: divide by zero encountered in det\n",
      "  r = _umath_linalg.det(a, signature=signature)\n",
      "/Library/Frameworks/Python.framework/Versions/3.10/lib/python3.10/site-packages/numpy/linalg/linalg.py:2146: RuntimeWarning: invalid value encountered in det\n",
      "  r = _umath_linalg.det(a, signature=signature)\n"
     ]
    }
   ],
   "source": [
    "qcs_aus = f2.evolution_tomo(type=evo_type, N_steps=steps, tempo=time, precision=precision, initial_state='110', check=[])\n",
    "\n",
    "new_job = execute(qcs_aus, backend=backend_sim, shots=32000)\n",
    "raw_results=new_job.result()\n",
    "new_result = deepcopy(raw_results)\n",
    "\n",
    "x=np.zeros(points_fit)\n",
    "y=np.zeros(points_fit)\n",
    "\n",
    "\n",
    "\n",
    "\n",
    "for j in range(27):\n",
    "\n",
    "    new_counts={}\n",
    "\n",
    "    for stato in f2.bin_list(3):\n",
    "        for i in range(points_fit):\n",
    "            if stato in new_res_our.get_counts(i*27+j):\n",
    "                y[i]=new_res_our.get_counts(i*27+j)[stato]\n",
    "            else:\n",
    "                y[i]=0\n",
    "            x[i]=i+1\n",
    "\n",
    "        z=np.polyfit(x, y, 1)\n",
    "        if z[1]>0:\n",
    "            new_counts[stato]=z[1]\n",
    "        else:\n",
    "            new_counts[stato]=0\n",
    "    \n",
    "    new_result.results[j].data.counts = new_counts\n"
   ]
  },
  {
   "cell_type": "code",
   "execution_count": null,
   "metadata": {},
   "outputs": [
    {
     "data": {
      "text/plain": [
       "{'000': 1.5417956585905615e-10,\n",
       " '001': 1.837964380054327e-09,\n",
       " '010': 273.64444406699585,\n",
       " '011': 0.3301204532440959,\n",
       " '100': 2.8869082613568296e-13,\n",
       " '101': 4.073340246734405,\n",
       " '110': 8867.726900859863,\n",
       " '111': 25.118018397343082}"
      ]
     },
     "execution_count": 28,
     "metadata": {},
     "output_type": "execute_result"
    }
   ],
   "source": [
    "new_res.get_counts(26)"
   ]
  },
  {
   "cell_type": "code",
   "execution_count": null,
   "metadata": {},
   "outputs": [
    {
     "data": {
      "text/plain": [
       "{'000': 4.2928209876621957e-10,\n",
       " '001': 1.7325357608456084e-09,\n",
       " '010': 256.6187872350803,\n",
       " '011': 1.004027097917818e-08,\n",
       " '100': 1.2704497919324817e-09,\n",
       " '101': 1.1474235414367045e-08,\n",
       " '110': 9108.725731549659,\n",
       " '111': 1.0395812146920037e-08}"
      ]
     },
     "execution_count": 27,
     "metadata": {},
     "output_type": "execute_result"
    }
   ],
   "source": [
    "new_res_our.get_counts(26)"
   ]
  },
  {
   "cell_type": "code",
   "execution_count": null,
   "metadata": {},
   "outputs": [
    {
     "data": {
      "text/plain": [
       "0.9749950476828012"
      ]
     },
     "execution_count": 16,
     "metadata": {},
     "output_type": "execute_result"
    }
   ],
   "source": [
    "target_state = (One^One^Zero).to_matrix()\n",
    "fid=f2.fidelity_count(new_result, qcs_1_na, target_state)\n",
    "fid"
   ]
  },
  {
   "cell_type": "code",
   "execution_count": null,
   "metadata": {},
   "outputs": [
    {
     "name": "stderr",
     "output_type": "stream",
     "text": [
      "/Library/Frameworks/Python.framework/Versions/3.10/lib/python3.10/site-packages/qiskit/result/result.py:395: UserWarning: Result object contained multiple results matching name \"('X', 'X', 'X')\", only first match will be returned. Use an integer index to retrieve results for all entries.\n",
      "  warnings.warn(\n",
      "/Library/Frameworks/Python.framework/Versions/3.10/lib/python3.10/site-packages/qiskit/result/result.py:395: UserWarning: Result object contained multiple results matching name \"('X', 'X', 'Y')\", only first match will be returned. Use an integer index to retrieve results for all entries.\n",
      "  warnings.warn(\n",
      "/Library/Frameworks/Python.framework/Versions/3.10/lib/python3.10/site-packages/qiskit/result/result.py:395: UserWarning: Result object contained multiple results matching name \"('X', 'X', 'Z')\", only first match will be returned. Use an integer index to retrieve results for all entries.\n",
      "  warnings.warn(\n",
      "/Library/Frameworks/Python.framework/Versions/3.10/lib/python3.10/site-packages/qiskit/result/result.py:395: UserWarning: Result object contained multiple results matching name \"('X', 'Y', 'X')\", only first match will be returned. Use an integer index to retrieve results for all entries.\n",
      "  warnings.warn(\n",
      "/Library/Frameworks/Python.framework/Versions/3.10/lib/python3.10/site-packages/qiskit/result/result.py:395: UserWarning: Result object contained multiple results matching name \"('X', 'Y', 'Y')\", only first match will be returned. Use an integer index to retrieve results for all entries.\n",
      "  warnings.warn(\n",
      "/Library/Frameworks/Python.framework/Versions/3.10/lib/python3.10/site-packages/qiskit/result/result.py:395: UserWarning: Result object contained multiple results matching name \"('X', 'Y', 'Z')\", only first match will be returned. Use an integer index to retrieve results for all entries.\n",
      "  warnings.warn(\n",
      "/Library/Frameworks/Python.framework/Versions/3.10/lib/python3.10/site-packages/qiskit/result/result.py:395: UserWarning: Result object contained multiple results matching name \"('X', 'Z', 'X')\", only first match will be returned. Use an integer index to retrieve results for all entries.\n",
      "  warnings.warn(\n",
      "/Library/Frameworks/Python.framework/Versions/3.10/lib/python3.10/site-packages/qiskit/result/result.py:395: UserWarning: Result object contained multiple results matching name \"('X', 'Z', 'Y')\", only first match will be returned. Use an integer index to retrieve results for all entries.\n",
      "  warnings.warn(\n",
      "/Library/Frameworks/Python.framework/Versions/3.10/lib/python3.10/site-packages/qiskit/result/result.py:395: UserWarning: Result object contained multiple results matching name \"('X', 'Z', 'Z')\", only first match will be returned. Use an integer index to retrieve results for all entries.\n",
      "  warnings.warn(\n",
      "/Library/Frameworks/Python.framework/Versions/3.10/lib/python3.10/site-packages/qiskit/result/result.py:395: UserWarning: Result object contained multiple results matching name \"('Y', 'X', 'X')\", only first match will be returned. Use an integer index to retrieve results for all entries.\n",
      "  warnings.warn(\n",
      "/Library/Frameworks/Python.framework/Versions/3.10/lib/python3.10/site-packages/qiskit/result/result.py:395: UserWarning: Result object contained multiple results matching name \"('Y', 'X', 'Y')\", only first match will be returned. Use an integer index to retrieve results for all entries.\n",
      "  warnings.warn(\n",
      "/Library/Frameworks/Python.framework/Versions/3.10/lib/python3.10/site-packages/qiskit/result/result.py:395: UserWarning: Result object contained multiple results matching name \"('Y', 'X', 'Z')\", only first match will be returned. Use an integer index to retrieve results for all entries.\n",
      "  warnings.warn(\n",
      "/Library/Frameworks/Python.framework/Versions/3.10/lib/python3.10/site-packages/qiskit/result/result.py:395: UserWarning: Result object contained multiple results matching name \"('Y', 'Y', 'X')\", only first match will be returned. Use an integer index to retrieve results for all entries.\n",
      "  warnings.warn(\n",
      "/Library/Frameworks/Python.framework/Versions/3.10/lib/python3.10/site-packages/qiskit/result/result.py:395: UserWarning: Result object contained multiple results matching name \"('Y', 'Y', 'Y')\", only first match will be returned. Use an integer index to retrieve results for all entries.\n",
      "  warnings.warn(\n",
      "/Library/Frameworks/Python.framework/Versions/3.10/lib/python3.10/site-packages/qiskit/result/result.py:395: UserWarning: Result object contained multiple results matching name \"('Y', 'Y', 'Z')\", only first match will be returned. Use an integer index to retrieve results for all entries.\n",
      "  warnings.warn(\n",
      "/Library/Frameworks/Python.framework/Versions/3.10/lib/python3.10/site-packages/qiskit/result/result.py:395: UserWarning: Result object contained multiple results matching name \"('Y', 'Z', 'X')\", only first match will be returned. Use an integer index to retrieve results for all entries.\n",
      "  warnings.warn(\n",
      "/Library/Frameworks/Python.framework/Versions/3.10/lib/python3.10/site-packages/qiskit/result/result.py:395: UserWarning: Result object contained multiple results matching name \"('Y', 'Z', 'Y')\", only first match will be returned. Use an integer index to retrieve results for all entries.\n",
      "  warnings.warn(\n",
      "/Library/Frameworks/Python.framework/Versions/3.10/lib/python3.10/site-packages/qiskit/result/result.py:395: UserWarning: Result object contained multiple results matching name \"('Y', 'Z', 'Z')\", only first match will be returned. Use an integer index to retrieve results for all entries.\n",
      "  warnings.warn(\n",
      "/Library/Frameworks/Python.framework/Versions/3.10/lib/python3.10/site-packages/qiskit/result/result.py:395: UserWarning: Result object contained multiple results matching name \"('Z', 'X', 'X')\", only first match will be returned. Use an integer index to retrieve results for all entries.\n",
      "  warnings.warn(\n",
      "/Library/Frameworks/Python.framework/Versions/3.10/lib/python3.10/site-packages/qiskit/result/result.py:395: UserWarning: Result object contained multiple results matching name \"('Z', 'X', 'Y')\", only first match will be returned. Use an integer index to retrieve results for all entries.\n",
      "  warnings.warn(\n",
      "/Library/Frameworks/Python.framework/Versions/3.10/lib/python3.10/site-packages/qiskit/result/result.py:395: UserWarning: Result object contained multiple results matching name \"('Z', 'X', 'Z')\", only first match will be returned. Use an integer index to retrieve results for all entries.\n",
      "  warnings.warn(\n",
      "/Library/Frameworks/Python.framework/Versions/3.10/lib/python3.10/site-packages/qiskit/result/result.py:395: UserWarning: Result object contained multiple results matching name \"('Z', 'Y', 'X')\", only first match will be returned. Use an integer index to retrieve results for all entries.\n",
      "  warnings.warn(\n",
      "/Library/Frameworks/Python.framework/Versions/3.10/lib/python3.10/site-packages/qiskit/result/result.py:395: UserWarning: Result object contained multiple results matching name \"('Z', 'Y', 'Y')\", only first match will be returned. Use an integer index to retrieve results for all entries.\n",
      "  warnings.warn(\n",
      "/Library/Frameworks/Python.framework/Versions/3.10/lib/python3.10/site-packages/qiskit/result/result.py:395: UserWarning: Result object contained multiple results matching name \"('Z', 'Y', 'Z')\", only first match will be returned. Use an integer index to retrieve results for all entries.\n",
      "  warnings.warn(\n",
      "/Library/Frameworks/Python.framework/Versions/3.10/lib/python3.10/site-packages/qiskit/result/result.py:395: UserWarning: Result object contained multiple results matching name \"('Z', 'Z', 'X')\", only first match will be returned. Use an integer index to retrieve results for all entries.\n",
      "  warnings.warn(\n",
      "/Library/Frameworks/Python.framework/Versions/3.10/lib/python3.10/site-packages/qiskit/result/result.py:395: UserWarning: Result object contained multiple results matching name \"('Z', 'Z', 'Y')\", only first match will be returned. Use an integer index to retrieve results for all entries.\n",
      "  warnings.warn(\n",
      "/Library/Frameworks/Python.framework/Versions/3.10/lib/python3.10/site-packages/qiskit/result/result.py:395: UserWarning: Result object contained multiple results matching name \"('Z', 'Z', 'Z')\", only first match will be returned. Use an integer index to retrieve results for all entries.\n",
      "  warnings.warn(\n"
     ]
    },
    {
     "data": {
      "text/plain": [
       "0.973125378731604"
      ]
     },
     "execution_count": 17,
     "metadata": {},
     "output_type": "execute_result"
    }
   ],
   "source": [
    "target_state = (One^One^Zero).to_matrix()\n",
    "fid=f2.fidelity_count(new_res_our, qcs_1_na, target_state)\n",
    "fid"
   ]
  },
  {
   "cell_type": "code",
   "execution_count": null,
   "metadata": {},
   "outputs": [],
   "source": []
  }
 ],
 "metadata": {
  "interpreter": {
   "hash": "aee8b7b246df8f9039afb4144a1f6fd8d2ca17a180786b69acc140d282b71a49"
  },
  "kernelspec": {
   "display_name": "Python 3.10.2 64-bit",
   "language": "python",
   "name": "python3"
  },
  "language_info": {
   "codemirror_mode": {
    "name": "ipython",
    "version": 3
   },
   "file_extension": ".py",
   "mimetype": "text/x-python",
   "name": "python",
   "nbconvert_exporter": "python",
   "pygments_lexer": "ipython3",
   "version": "3.10.2"
  },
  "orig_nbformat": 4
 },
 "nbformat": 4,
 "nbformat_minor": 2
}
