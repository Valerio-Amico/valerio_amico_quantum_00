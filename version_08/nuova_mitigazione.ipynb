{
 "cells": [
  {
   "cell_type": "code",
   "execution_count": 1,
   "metadata": {},
   "outputs": [],
   "source": [
    "import funzioni02 as f2\n",
    "import funzioni01 as f1\n",
    "import qiskit.quantum_info as qi\n",
    "from copy import deepcopy\n",
    "from sympy import *\n",
    "import numpy as np\n",
    "import qiskit.ignis.mitigation.measurement as mc\n",
    "from qiskit import Aer, assemble, QuantumCircuit, QuantumRegister, ClassicalRegister, IBMQ, transpile, execute\n",
    "from qiskit.providers.aer import AerSimulator, QasmSimulator\n",
    "from qiskit.opflow import Zero, One, I, X, Y, Z\n",
    "from qiskit.ignis.verification.tomography import state_tomography_circuits, StateTomographyFitter\n",
    "from qiskit.quantum_info import state_fidelity, Statevector\n",
    "import matplotlib.pyplot as plt\n",
    "import warnings\n",
    "warnings.filterwarnings('ignore')\n",
    "plt.rcParams.update({'font.size': 16})  # enlarge matplotlib fonts\n",
    "plt.rcParams['figure.figsize'] = [15, 10]\n",
    "%load_ext autoreload\n",
    "%autoreload 2\n",
    "\n",
    "IBMQ.load_account()\n",
    "provider = IBMQ.get_provider(hub='ibm-q-community', group='ibmquantumawards', project='open-science-22')\n",
    "\n",
    "sim_noisy_jakarta = QasmSimulator.from_backend(provider.get_backend('ibmq_jakarta'))\n",
    "backend_sim_jakarta = sim_noisy_jakarta \n",
    "backend = provider.get_backend('ibmq_jakarta')\n",
    "backend_sim = Aer.get_backend('qasm_simulator')"
   ]
  },
  {
   "cell_type": "code",
   "execution_count": 2,
   "metadata": {},
   "outputs": [],
   "source": [
    "shots=32000\n",
    "precision=50\n",
    "steps=42\n",
    "backend_aus=backend_sim_jakarta\n",
    "check=[\"4copy_check\", [0,2,4,6]]\n",
    "evo_type=\"complete_evolution\" # \"column_evolution\" or \"complete_evolution\" or \"trotter_steps\"\n",
    "time=np.pi/2"
   ]
  },
  {
   "cell_type": "code",
   "execution_count": 3,
   "metadata": {},
   "outputs": [],
   "source": [
    "qr_cal = QuantumRegister(7)\n",
    "qcs, qcs_na = f2.evolution_tomo(type=evo_type, N_steps=steps, tempo=time, precision=precision, initial_state='110', check=check)\n",
    "cal_circ, state_labels = mc.complete_meas_cal(qubit_list=[1,3,5,0,2,4,6], qr=qr_cal, circlabel='mcal') #[1,3,5,0,2,4]\n"
   ]
  },
  {
   "cell_type": "code",
   "execution_count": 4,
   "metadata": {},
   "outputs": [
    {
     "data": {
      "text/html": [
       "<pre style=\"word-wrap: normal;white-space: pre;background: #fff0;line-height: 1.1;font-family: &quot;Courier New&quot;,Courier,monospace\">                            ┌──────────────┐ ░          \n",
       " q_0: ──────────────────────┤0             ├─░──────────\n",
       "           ┌────┐┌─────────┐│              │ ░ ┌─┐      \n",
       " q_1: ─────┤0   ├┤0        ├┤4             ├─░─┤M├──────\n",
       "           │    ││         ││              │ ░ └╥┘      \n",
       " q_2: ─────┤  U ├┤         ├┤1             ├─░──╫───────\n",
       "      ┌───┐│    ││         ││              │ ░  ║ ┌─┐   \n",
       " q_3: ┤ X ├┤1   ├┤1 Mdg_dg ├┤5 4copy_check ├─░──╫─┤M├───\n",
       "      └───┘└────┘│         ││              │ ░  ║ └╥┘   \n",
       " q_4: ───────────┤         ├┤2             ├─░──╫──╫────\n",
       "      ┌───┐      │         ││              │ ░  ║  ║ ┌─┐\n",
       " q_5: ┤ X ├──────┤2        ├┤6             ├─░──╫──╫─┤M├\n",
       "      └───┘      └─────────┘│              │ ░  ║  ║ └╥┘\n",
       " q_6: ──────────────────────┤3             ├─░──╫──╫──╫─\n",
       "                            └──────────────┘ ░  ║  ║  ║ \n",
       "c0: 3/══════════════════════════════════════════╩══╩══╩═\n",
       "                                                0  1  2 </pre>"
      ],
      "text/plain": [
       "                            ┌──────────────┐ ░          \n",
       " q_0: ──────────────────────┤0             ├─░──────────\n",
       "           ┌────┐┌─────────┐│              │ ░ ┌─┐      \n",
       " q_1: ─────┤0   ├┤0        ├┤4             ├─░─┤M├──────\n",
       "           │    ││         ││              │ ░ └╥┘      \n",
       " q_2: ─────┤  U ├┤         ├┤1             ├─░──╫───────\n",
       "      ┌───┐│    ││         ││              │ ░  ║ ┌─┐   \n",
       " q_3: ┤ X ├┤1   ├┤1 Mdg_dg ├┤5 4copy_check ├─░──╫─┤M├───\n",
       "      └───┘└────┘│         ││              │ ░  ║ └╥┘   \n",
       " q_4: ───────────┤         ├┤2             ├─░──╫──╫────\n",
       "      ┌───┐      │         ││              │ ░  ║  ║ ┌─┐\n",
       " q_5: ┤ X ├──────┤2        ├┤6             ├─░──╫──╫─┤M├\n",
       "      └───┘      └─────────┘│              │ ░  ║  ║ └╥┘\n",
       " q_6: ──────────────────────┤3             ├─░──╫──╫──╫─\n",
       "                            └──────────────┘ ░  ║  ║  ║ \n",
       "c0: 3/══════════════════════════════════════════╩══╩══╩═\n",
       "                                                0  1  2 "
      ]
     },
     "execution_count": 4,
     "metadata": {},
     "output_type": "execute_result"
    }
   ],
   "source": [
    "qcs_na[-1].draw()"
   ]
  },
  {
   "cell_type": "code",
   "execution_count": 5,
   "metadata": {},
   "outputs": [],
   "source": [
    "qcs_calib, _ = f2.calibration_cirquits(type=\"itself_whole\", n_steps=steps, time=time, q_anc=check[1], check=\"yes\", check_type=check[0])\n"
   ]
  },
  {
   "cell_type": "code",
   "execution_count": 6,
   "metadata": {},
   "outputs": [],
   "source": [
    "#qc = qcs_calib[0].copy()\n",
    "#qc.remove_final_measurements()\n",
    "#U = f2.matrix_from_cirquit(qc, type=\"numpy\")\n",
    "#Matrix(U)"
   ]
  },
  {
   "cell_type": "code",
   "execution_count": 7,
   "metadata": {},
   "outputs": [],
   "source": [
    "job=execute(qcs, backend_aus, shots=shots)\n",
    "\n",
    "job_cal_our=execute(qcs_calib, backend = backend_aus, shots=shots)\n",
    "\n",
    "job_cal=execute(cal_circ, backend_aus, shots=shots)"
   ]
  },
  {
   "cell_type": "code",
   "execution_count": 8,
   "metadata": {},
   "outputs": [],
   "source": [
    "qc_ausiliare = QuantumCircuit(7)\n",
    "\n",
    "qc_ausiliare.swap(5,4)\n",
    "qc_ausiliare.swap(5,2)\n",
    "qc_ausiliare.swap(1,3)\n",
    "qc_ausiliare.swap(0,1)\n",
    "\n",
    "qc_ausiliare2=qcs_calib[0].copy()\n",
    "qc_ausiliare2.remove_final_measurements()\n",
    "\n",
    "qc_ausiliare.append(qc_ausiliare2,[0,1,2,3,4,5,6])\n",
    "\n",
    "qc_ausiliare.swap(0,1)\n",
    "qc_ausiliare.swap(1,3)\n",
    "qc_ausiliare.swap(5,2)\n",
    "qc_ausiliare.swap(5,4)\n",
    "\n",
    "U = f2.matrix_from_cirquit(qc_ausiliare, type=\"numpy\")\n",
    "# Matrix(U)"
   ]
  },
  {
   "cell_type": "code",
   "execution_count": 9,
   "metadata": {},
   "outputs": [],
   "source": [
    "meas_fitter_our = mc.CompleteMeasFitter(job_cal_our.result(), state_labels=state_labels)\n",
    "meas_fitter = mc.CompleteMeasFitter(job_cal.result(), state_labels=state_labels)\n",
    "\n",
    "U_tilde=meas_fitter_our.cal_matrix"
   ]
  },
  {
   "cell_type": "code",
   "execution_count": 10,
   "metadata": {},
   "outputs": [],
   "source": [
    "qr_basi = QuantumRegister(7)\n",
    "qc_basi = QuantumCircuit(qr_basi)\n",
    "\n",
    "#qc_basi.swap(5,4)\n",
    "#qc_basi.swap(5,2)\n",
    "#qc_basi.swap(1,3)\n",
    "#qc_basi.swap(0,1)\n",
    "\n",
    "qcs_basi = state_tomography_circuits(qc_basi,[0,1,2])\n",
    "\n",
    "\n",
    "C_matrices = []\n",
    "C=U_tilde @ np.asarray(np.matrix(U).getH())\n",
    "\n",
    "for qca in qcs_basi:\n",
    "    \n",
    "    qca.remove_final_measurements()\n",
    "\n",
    "    #qca.swap(0,1)\n",
    "    #qca.swap(1,3)\n",
    "    #qca.swap(5,2)\n",
    "    #qca.swap(5,4)\n",
    "\n",
    "    qca_matrix = np.matrix(f2.matrix_from_cirquit(qca, type=\"numpy\"))\n",
    "    qca_matrixH = np.asarray(qca_matrix.getH())\n",
    "\n",
    "    C_aus = qca_matrix @ (C @ qca_matrixH)\n",
    "\n",
    "    C_matrices.append(np.asarray(C_aus))"
   ]
  },
  {
   "cell_type": "code",
   "execution_count": 11,
   "metadata": {},
   "outputs": [],
   "source": [
    "from copy import deepcopy\n",
    "meas_fitter_ours = []\n",
    "\n",
    "for C_new in C_matrices:\n",
    "    meas_fitter_our_aus = deepcopy(meas_fitter_our)\n",
    "    meas_fitter_our_aus._tens_fitt.cal_matrices[0]=C_new\n",
    "\n",
    "    meas_fitter_ours.append(meas_fitter_our_aus)\n",
    "\n"
   ]
  },
  {
   "cell_type": "code",
   "execution_count": 12,
   "metadata": {},
   "outputs": [
    {
     "data": {
      "text/plain": [
       "(128, 128)"
      ]
     },
     "execution_count": 12,
     "metadata": {},
     "output_type": "execute_result"
    }
   ],
   "source": [
    "np.shape(meas_fitter.cal_matrix)"
   ]
  },
  {
   "cell_type": "code",
   "execution_count": 13,
   "metadata": {},
   "outputs": [
    {
     "data": {
      "text/plain": [
       "(128, 128)"
      ]
     },
     "execution_count": 13,
     "metadata": {},
     "output_type": "execute_result"
    }
   ],
   "source": [
    "np.shape(meas_fitter_ours[0].cal_matrix)"
   ]
  },
  {
   "cell_type": "code",
   "execution_count": 14,
   "metadata": {},
   "outputs": [],
   "source": [
    "U = f2.Trotter_N_approx(steps=steps, tempo=time, precision=precision)\n",
    "\n",
    "U2=[\n",
    "    [U[3*8+3],U[3*8+5],U[3*8+6],0],\n",
    "    [U[5*8+3],U[5*8+5],U[5*8+6],0],\n",
    "    [U[6*8+3],U[6*8+5],U[6*8+6],0],\n",
    "    [0,0,0,1]\n",
    "]\n",
    "\n",
    "qc=QuantumCircuit(2, name=\"U, t=%.2f pi\"%(time/np.pi))\n",
    "qc.unitary(U2,[0,1])    \n",
    "trans_qc=transpile(qc,basis_gates=['cx','x','sx','rz']) \n",
    "\n",
    "qr2=QuantumRegister(3, name=\"q\")\n",
    "qc2=QuantumCircuit(qr2)\n",
    "\n",
    "qc2.x([qr2[1],qr2[2]])\n",
    "qc2.append(trans_qc,[qr2[0],qr2[1]])\n",
    "qc2.append(f2.Mdg_circquit().inverse(),[qr2[0],qr2[1],qr2[2]])\n",
    "\n",
    "target_state = Statevector.from_instruction(qc2)"
   ]
  },
  {
   "cell_type": "code",
   "execution_count": 16,
   "metadata": {},
   "outputs": [
    {
     "data": {
      "text/html": [
       "<pre style=\"word-wrap: normal;white-space: pre;background: #fff0;line-height: 1.1;font-family: &quot;Courier New&quot;,Courier,monospace\">          ┌───────────────┐┌─────────┐\n",
       "q_0: ─────┤0              ├┤0        ├\n",
       "     ┌───┐│  U, t=0.50 pi ││         │\n",
       "q_1: ┤ X ├┤1              ├┤1 Mdg_dg ├\n",
       "     ├───┤└───────────────┘│         │\n",
       "q_2: ┤ X ├─────────────────┤2        ├\n",
       "     └───┘                 └─────────┘</pre>"
      ],
      "text/plain": [
       "          ┌───────────────┐┌─────────┐\n",
       "q_0: ─────┤0              ├┤0        ├\n",
       "     ┌───┐│  U, t=0.50 pi ││         │\n",
       "q_1: ┤ X ├┤1              ├┤1 Mdg_dg ├\n",
       "     ├───┤└───────────────┘│         │\n",
       "q_2: ┤ X ├─────────────────┤2        ├\n",
       "     └───┘                 └─────────┘"
      ]
     },
     "execution_count": 16,
     "metadata": {},
     "output_type": "execute_result"
    }
   ],
   "source": [
    "#qcs2=\n",
    "qc2.draw()"
   ]
  },
  {
   "cell_type": "code",
   "execution_count": 17,
   "metadata": {},
   "outputs": [
    {
     "data": {
      "text/plain": [
       "array([ 2.20970511e-30+2.13057032e-30j, -2.01216369e-18-2.55718904e-18j,\n",
       "        9.76774938e-18-1.36065015e-18j,  6.66748044e-01+1.46220568e-03j,\n",
       "        2.23705418e-17-7.60132515e-19j,  6.66583679e-01-7.31102841e-04j,\n",
       "       -3.33331723e-01-7.31102841e-04j,  1.46459212e-14+1.09755027e-14j])"
      ]
     },
     "execution_count": 17,
     "metadata": {},
     "output_type": "execute_result"
    }
   ],
   "source": [
    "target_state = (np.asarray(target_state))\n",
    "target_state"
   ]
  },
  {
   "cell_type": "code",
   "execution_count": 18,
   "metadata": {},
   "outputs": [],
   "source": [
    "target_state=((Zero^One^One).to_matrix())\n"
   ]
  },
  {
   "cell_type": "code",
   "execution_count": 19,
   "metadata": {},
   "outputs": [
    {
     "name": "stdout",
     "output_type": "stream",
     "text": [
      "0\n",
      "0\n",
      "tens_fitt\n",
      "1\n",
      "tens_fitt\n",
      "2\n",
      "tens_fitt\n",
      "3\n",
      "tens_fitt\n",
      "4\n",
      "tens_fitt\n",
      "5\n",
      "tens_fitt\n",
      "6\n",
      "tens_fitt\n",
      "7\n",
      "tens_fitt\n",
      "8\n",
      "tens_fitt\n",
      "9\n",
      "tens_fitt\n",
      "10\n",
      "tens_fitt\n",
      "11\n",
      "tens_fitt\n",
      "12\n",
      "tens_fitt\n",
      "13\n",
      "tens_fitt\n",
      "14\n",
      "tens_fitt\n",
      "15\n",
      "tens_fitt\n",
      "16\n",
      "tens_fitt\n",
      "17\n",
      "tens_fitt\n",
      "18\n",
      "tens_fitt\n",
      "19\n",
      "tens_fitt\n",
      "20\n",
      "tens_fitt\n",
      "21\n",
      "tens_fitt\n",
      "22\n",
      "tens_fitt\n",
      "23\n",
      "tens_fitt\n",
      "24\n",
      "tens_fitt\n",
      "25\n",
      "tens_fitt\n",
      "26\n",
      "tens_fitt\n",
      "0\n",
      "0 (128, 128)\n",
      "deepcopy\n",
      "1\n",
      "1 (128, 128)\n",
      "deepcopy\n",
      "2\n",
      "2 (128, 128)\n",
      "deepcopy\n",
      "3\n",
      "3 (128, 128)\n",
      "deepcopy\n",
      "4\n",
      "4 (128, 128)\n",
      "deepcopy\n",
      "5\n",
      "5 (128, 128)\n",
      "deepcopy\n",
      "6\n",
      "6 (128, 128)\n",
      "deepcopy\n",
      "7\n",
      "7 (128, 128)\n",
      "deepcopy\n",
      "8\n",
      "8 (128, 128)\n",
      "deepcopy\n",
      "9\n",
      "9 (128, 128)\n",
      "deepcopy\n",
      "10\n",
      "10 (128, 128)\n",
      "deepcopy\n",
      "11\n",
      "11 (128, 128)\n",
      "deepcopy\n",
      "12\n",
      "12 (128, 128)\n",
      "deepcopy\n",
      "13\n",
      "13 (128, 128)\n",
      "deepcopy\n",
      "14\n",
      "14 (128, 128)\n",
      "deepcopy\n",
      "15\n",
      "15 (128, 128)\n",
      "deepcopy\n",
      "16\n",
      "16 (128, 128)\n",
      "deepcopy\n",
      "17\n",
      "17 (128, 128)\n",
      "deepcopy\n",
      "18\n",
      "18 (128, 128)\n",
      "deepcopy\n",
      "19\n",
      "19 (128, 128)\n",
      "deepcopy\n",
      "20\n",
      "20 (128, 128)\n",
      "deepcopy\n",
      "21\n",
      "21 (128, 128)\n",
      "deepcopy\n",
      "22\n",
      "22 (128, 128)\n",
      "deepcopy\n",
      "23\n",
      "23 (128, 128)\n",
      "deepcopy\n",
      "24\n",
      "24 (128, 128)\n",
      "deepcopy\n",
      "25\n",
      "25 (128, 128)\n",
      "deepcopy\n",
      "26\n",
      "26 (128, 128)\n",
      "deepcopy\n",
      "attenzione ho invertito gli arg di state_fidelity\n",
      "attenzione ho invertito gli arg di state_fidelity\n",
      "attenzione ho invertito gli arg di state_fidelity\n",
      "attenzione ho invertito gli arg di state_fidelity\n"
     ]
    }
   ],
   "source": [
    "reps=1\n",
    "\n",
    "#target_state = (One^One^Zero).to_matrix()\n",
    "\n",
    "fids=np.zeros([reps,4])\n",
    "fids_mean=np.zeros(4)\n",
    "fids_dev=np.zeros(4)\n",
    "\n",
    "for j in range(reps):\n",
    "    \n",
    "    #res = jobs_evo_result[j]\n",
    "    res=job.result()\n",
    "\n",
    "    print(j)\n",
    "    \n",
    "    new_res, new_res_nm = f2.mitigate(res, ancillas_conditions=['0011','1110','1101'], meas_fitter=meas_fitter)\n",
    "    new_res_our, new_res_nm = f2.mitigate(res, ancillas_conditions=['0011','1110','1101'], meas_fitter=meas_fitter_ours)\n",
    "    new_res_not_mitigated = f2.mitigate(res, ancillas_conditions=f2.bin_list(4))\n",
    "\n",
    "    fids[j,0] = f2.fidelity_count(new_res_not_mitigated, qcs_na, target_state)\n",
    "    fids[j,1] = f2.fidelity_count(new_res_nm, qcs_na, target_state)\n",
    "    fids[j,2] = f2.fidelity_count(new_res, qcs_na, target_state)\n",
    "    fids[j,3] = f2.fidelity_count(new_res_our, qcs_na, target_state)\n",
    "\n",
    "for i in range(4):\n",
    "    fids_mean[i]=np.mean(fids[:,i])\n",
    "    fids_dev[i]=np.std(fids[:,i])\n"
   ]
  },
  {
   "cell_type": "code",
   "execution_count": 20,
   "metadata": {},
   "outputs": [
    {
     "data": {
      "text/plain": [
       "array([0.33061967, 0.37351316, 0.41233388, 0.47023094])"
      ]
     },
     "execution_count": 20,
     "metadata": {},
     "output_type": "execute_result"
    }
   ],
   "source": [
    "fids_mean"
   ]
  },
  {
   "cell_type": "code",
   "execution_count": 26,
   "metadata": {},
   "outputs": [
    {
     "name": "stdout",
     "output_type": "stream",
     "text": [
      "<class 'qiskit.opflow.state_fns.dict_state_fn.DictStateFn'> <class 'qiskit.quantum_info.states.statevector.Statevector'>\n"
     ]
    },
    {
     "ename": "TypeError",
     "evalue": "bad operand type for unary ~: 'Statevector'",
     "output_type": "error",
     "traceback": [
      "\u001b[0;31m---------------------------------------------------------------------------\u001b[0m",
      "\u001b[0;31mTypeError\u001b[0m                                 Traceback (most recent call last)",
      "\u001b[1;32m/Users/valerio/Documents/project_IBM_01/IBM_git/version_08/nuova_mitigazione.ipynb Cell 20'\u001b[0m in \u001b[0;36m<cell line: 7>\u001b[0;34m()\u001b[0m\n\u001b[1;32m      <a href='vscode-notebook-cell:/Users/valerio/Documents/project_IBM_01/IBM_git/version_08/nuova_mitigazione.ipynb#ch0000027?line=2'>3</a>\u001b[0m \u001b[39mfrom\u001b[39;00m \u001b[39mqiskit\u001b[39;00m\u001b[39m.\u001b[39;00m\u001b[39mopflow\u001b[39;00m \u001b[39mimport\u001b[39;00m \u001b[39m*\u001b[39m\n\u001b[1;32m      <a href='vscode-notebook-cell:/Users/valerio/Documents/project_IBM_01/IBM_git/version_08/nuova_mitigazione.ipynb#ch0000027?line=4'>5</a>\u001b[0m \u001b[39mprint\u001b[39m(\u001b[39mtype\u001b[39m(initial_state), \u001b[39mtype\u001b[39m(target_state2))\u001b[39m#, type(MatrixOp(np.asarray(target_state2))))\u001b[39;00m\n\u001b[0;32m----> <a href='vscode-notebook-cell:/Users/valerio/Documents/project_IBM_01/IBM_git/version_08/nuova_mitigazione.ipynb#ch0000027?line=6'>7</a>\u001b[0m np\u001b[39m.\u001b[39mabs((\u001b[39m~\u001b[39;49mtarget_state2 \u001b[39m@\u001b[39m U_heis3(\u001b[39mfloat\u001b[39m(time)) \u001b[39m@\u001b[39m initial_state)\u001b[39m.\u001b[39meval())\u001b[39m*\u001b[39m\u001b[39m*\u001b[39m\u001b[39m2\u001b[39m\n",
      "\u001b[0;31mTypeError\u001b[0m: bad operand type for unary ~: 'Statevector'"
     ]
    }
   ],
   "source": [
    "initial_state = One^One^Zero\n",
    "target_state2 = Statevector.from_instruction(qc2)#Zero^One^One\n",
    "from qiskit.opflow import *\n",
    "\n",
    "print(type(initial_state), type(target_state2))#, type(MatrixOp(np.asarray(target_state2))))\n",
    "\n",
    "np.abs((~target_state2 @ U_heis3(float(time)) @ initial_state).eval())**2"
   ]
  },
  {
   "cell_type": "code",
   "execution_count": null,
   "metadata": {},
   "outputs": [],
   "source": [
    "def H_heis3():\n",
    "    # Interactions (I is the identity matrix; X, Y, and Z are Pauli matricies; ^ is a tensor product)\n",
    "    XXs = (I^X^X) + (X^X^I)\n",
    "    YYs = (I^Y^Y) + (Y^Y^I)\n",
    "    ZZs = (I^Z^Z) + (Z^Z^I)\n",
    "    \n",
    "    # Sum interactions\n",
    "    H = XXs + YYs + ZZs\n",
    "    \n",
    "    # Return Hamiltonian\n",
    "    return H\n",
    "\n",
    "def U_heis3(t):\n",
    "    # Compute XXX Hamiltonian for 3 spins in a line\n",
    "    H = H_heis3()\n",
    "    \n",
    "    # Return the exponential of -i multipled by time t multipled by the 3 spin XXX Heisenberg Hamilonian \n",
    "    return (t * H).exp_i()"
   ]
  },
  {
   "cell_type": "markdown",
   "metadata": {},
   "source": [
    "$\\hbar$"
   ]
  },
  {
   "cell_type": "markdown",
   "metadata": {},
   "source": []
  }
 ],
 "metadata": {
  "interpreter": {
   "hash": "aee8b7b246df8f9039afb4144a1f6fd8d2ca17a180786b69acc140d282b71a49"
  },
  "kernelspec": {
   "display_name": "Python 3.10.2 64-bit",
   "language": "python",
   "name": "python3"
  },
  "language_info": {
   "codemirror_mode": {
    "name": "ipython",
    "version": 3
   },
   "file_extension": ".py",
   "mimetype": "text/x-python",
   "name": "python",
   "nbconvert_exporter": "python",
   "pygments_lexer": "ipython3",
   "version": "3.10.2"
  },
  "orig_nbformat": 4
 },
 "nbformat": 4,
 "nbformat_minor": 2
}
