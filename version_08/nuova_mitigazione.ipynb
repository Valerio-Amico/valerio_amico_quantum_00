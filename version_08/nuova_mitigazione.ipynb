{
 "cells": [
  {
   "cell_type": "code",
   "execution_count": 1,
   "metadata": {},
   "outputs": [],
   "source": [
    "import funzioni02 as f2\n",
    "import funzioni01 as f1\n",
    "import qiskit.quantum_info as qi\n",
    "from copy import deepcopy\n",
    "from sympy import *\n",
    "import numpy as np\n",
    "import qiskit.ignis.mitigation.measurement as mc\n",
    "from qiskit import Aer, assemble, QuantumCircuit, QuantumRegister, ClassicalRegister, IBMQ, transpile, execute\n",
    "from qiskit.providers.aer import AerSimulator, QasmSimulator\n",
    "from qiskit.opflow import Zero, One, I, X, Y, Z\n",
    "from qiskit.ignis.verification.tomography import state_tomography_circuits, StateTomographyFitter\n",
    "from qiskit.quantum_info import state_fidelity, Statevector\n",
    "import matplotlib.pyplot as plt\n",
    "import warnings\n",
    "warnings.filterwarnings('ignore')\n",
    "plt.rcParams.update({'font.size': 16})  # enlarge matplotlib fonts\n",
    "plt.rcParams['figure.figsize'] = [15, 10]\n",
    "%load_ext autoreload\n",
    "%autoreload 2\n",
    "\n",
    "IBMQ.load_account()\n",
    "provider = IBMQ.get_provider(hub='ibm-q-community', group='ibmquantumawards', project='open-science-22')\n",
    "\n",
    "sim_noisy_jakarta = QasmSimulator.from_backend(provider.get_backend('ibmq_jakarta'))\n",
    "backend_sim_jakarta = sim_noisy_jakarta \n",
    "backend = provider.get_backend('ibmq_jakarta')\n",
    "backend_sim = Aer.get_backend('qasm_simulator')"
   ]
  },
  {
   "cell_type": "code",
   "execution_count": 2,
   "metadata": {},
   "outputs": [],
   "source": [
    "shots=32000\n",
    "precision=50\n",
    "steps=99\n",
    "check=[\"4copy_check\", [0,2,4,6]]\n",
    "evo_type=\"complete_evolution\"\n",
    "time=np.pi\n",
    "\n",
    "backend_aus=backend_sim_jakarta\n",
    "\n",
    "id_tomo = \"624dac77f65d782bb338fafb\"\n",
    "id_cal_identity = \"624dac7ca5d4eed65177c55c\"\n",
    "id_cal_itself = \"624dac7d4b515260bf7c62e7\"\n",
    "id_cal_qiskit = \"624dbafbf65d78c03a38fbb6\""
   ]
  },
  {
   "cell_type": "code",
   "execution_count": 3,
   "metadata": {},
   "outputs": [],
   "source": [
    "job=backend.retrieve_job(id_tomo)\n",
    "\n",
    "job_cal_our_identity=backend.retrieve_job(id_cal_identity)\n",
    "\n",
    "job_cal_our_itself_new=backend.retrieve_job(id_cal_itself)\n",
    "\n",
    "job_cal=backend.retrieve_job(id_cal_qiskit)"
   ]
  },
  {
   "cell_type": "code",
   "execution_count": 4,
   "metadata": {},
   "outputs": [],
   "source": [
    "qr_cal = QuantumRegister(7)\n",
    "qcs, qcs_na = f2.evolution_tomo(type=evo_type, N_steps=steps, tempo=time, precision=precision, initial_state='110', check=check)\n",
    "cal_circ, state_labels = mc.complete_meas_cal(qubit_list=[1,3,5,0,2,4,6], qr=qr_cal, circlabel='mcal') #[1,3,5,0,2,4]\n"
   ]
  },
  {
   "cell_type": "code",
   "execution_count": 5,
   "metadata": {},
   "outputs": [
    {
     "data": {
      "text/html": [
       "<pre style=\"word-wrap: normal;white-space: pre;background: #fff0;line-height: 1.1;font-family: &quot;Courier New&quot;,Courier,monospace\">                            ┌──────────────┐ ░          \n",
       " q_0: ──────────────────────┤0             ├─░──────────\n",
       "           ┌────┐┌─────────┐│              │ ░ ┌─┐      \n",
       " q_1: ─────┤0   ├┤0        ├┤4             ├─░─┤M├──────\n",
       "           │    ││         ││              │ ░ └╥┘      \n",
       " q_2: ─────┤  U ├┤         ├┤1             ├─░──╫───────\n",
       "      ┌───┐│    ││         ││              │ ░  ║ ┌─┐   \n",
       " q_3: ┤ X ├┤1   ├┤1 Mdg_dg ├┤5 4copy_check ├─░──╫─┤M├───\n",
       "      └───┘└────┘│         ││              │ ░  ║ └╥┘   \n",
       " q_4: ───────────┤         ├┤2             ├─░──╫──╫────\n",
       "      ┌───┐      │         ││              │ ░  ║  ║ ┌─┐\n",
       " q_5: ┤ X ├──────┤2        ├┤6             ├─░──╫──╫─┤M├\n",
       "      └───┘      └─────────┘│              │ ░  ║  ║ └╥┘\n",
       " q_6: ──────────────────────┤3             ├─░──╫──╫──╫─\n",
       "                            └──────────────┘ ░  ║  ║  ║ \n",
       "c0: 3/══════════════════════════════════════════╩══╩══╩═\n",
       "                                                0  1  2 </pre>"
      ],
      "text/plain": [
       "                            ┌──────────────┐ ░          \n",
       " q_0: ──────────────────────┤0             ├─░──────────\n",
       "           ┌────┐┌─────────┐│              │ ░ ┌─┐      \n",
       " q_1: ─────┤0   ├┤0        ├┤4             ├─░─┤M├──────\n",
       "           │    ││         ││              │ ░ └╥┘      \n",
       " q_2: ─────┤  U ├┤         ├┤1             ├─░──╫───────\n",
       "      ┌───┐│    ││         ││              │ ░  ║ ┌─┐   \n",
       " q_3: ┤ X ├┤1   ├┤1 Mdg_dg ├┤5 4copy_check ├─░──╫─┤M├───\n",
       "      └───┘└────┘│         ││              │ ░  ║ └╥┘   \n",
       " q_4: ───────────┤         ├┤2             ├─░──╫──╫────\n",
       "      ┌───┐      │         ││              │ ░  ║  ║ ┌─┐\n",
       " q_5: ┤ X ├──────┤2        ├┤6             ├─░──╫──╫─┤M├\n",
       "      └───┘      └─────────┘│              │ ░  ║  ║ └╥┘\n",
       " q_6: ──────────────────────┤3             ├─░──╫──╫──╫─\n",
       "                            └──────────────┘ ░  ║  ║  ║ \n",
       "c0: 3/══════════════════════════════════════════╩══╩══╩═\n",
       "                                                0  1  2 "
      ]
     },
     "execution_count": 5,
     "metadata": {},
     "output_type": "execute_result"
    }
   ],
   "source": [
    "qcs_na[-1].draw()"
   ]
  },
  {
   "cell_type": "code",
   "execution_count": 6,
   "metadata": {},
   "outputs": [],
   "source": [
    "qcs_calib, _ = f2.calibration_cirquits(type=\"complete_evolution_remake\", n_steps=steps, time=time, q_anc=check[1], check=\"yes\", check_type=check[0])\n",
    "                                        # complete_evolution, itself, itself_whole"
   ]
  },
  {
   "cell_type": "code",
   "execution_count": 7,
   "metadata": {},
   "outputs": [
    {
     "data": {
      "text/html": [
       "<pre style=\"word-wrap: normal;white-space: pre;background: #fff0;line-height: 1.1;font-family: &quot;Courier New&quot;,Courier,monospace\">                       ┌──────────────┐      ░          ┌─┐         \n",
       "q29_0: ────────────────┤0             ├──────░──────────┤M├─────────\n",
       "       ┌───┐┌────┐┌───┐│              │┌───┐ ░ ┌─┐      └╥┘         \n",
       "q29_1: ┤ X ├┤0   ├┤ X ├┤4             ├┤ X ├─░─┤M├───────╫──────────\n",
       "       └───┘│    │└───┘│              │└───┘ ░ └╥┘       ║ ┌─┐      \n",
       "q29_2: ─────┤    ├─────┤1             ├──────░──╫────────╫─┤M├──────\n",
       "       ┌───┐│    │┌───┐│              │      ░  ║ ┌─┐    ║ └╥┘      \n",
       "q29_3: ┤ X ├┤1 U ├┤ X ├┤5 4copy_check ├──────░──╫─┤M├────╫──╫───────\n",
       "       └───┘│    │└───┘│              │      ░  ║ └╥┘    ║  ║ ┌─┐   \n",
       "q29_4: ─────┤    ├─────┤2             ├──────░──╫──╫─────╫──╫─┤M├───\n",
       "       ┌───┐│    │┌───┐│              │      ░  ║  ║ ┌─┐ ║  ║ └╥┘   \n",
       "q29_5: ┤ X ├┤2   ├┤ X ├┤6             ├──────░──╫──╫─┤M├─╫──╫──╫────\n",
       "       └───┘└────┘└───┘│              │      ░  ║  ║ └╥┘ ║  ║  ║ ┌─┐\n",
       "q29_6: ────────────────┤3             ├──────░──╫──╫──╫──╫──╫──╫─┤M├\n",
       "                       └──────────────┘      ░  ║  ║  ║  ║  ║  ║ └╥┘\n",
       "c31: 7/═════════════════════════════════════════╩══╩══╩══╩══╩══╩══╩═\n",
       "                                                0  1  2  3  4  5  6 </pre>"
      ],
      "text/plain": [
       "                       ┌──────────────┐      ░          ┌─┐         \n",
       "q29_0: ────────────────┤0             ├──────░──────────┤M├─────────\n",
       "       ┌───┐┌────┐┌───┐│              │┌───┐ ░ ┌─┐      └╥┘         \n",
       "q29_1: ┤ X ├┤0   ├┤ X ├┤4             ├┤ X ├─░─┤M├───────╫──────────\n",
       "       └───┘│    │└───┘│              │└───┘ ░ └╥┘       ║ ┌─┐      \n",
       "q29_2: ─────┤    ├─────┤1             ├──────░──╫────────╫─┤M├──────\n",
       "       ┌───┐│    │┌───┐│              │      ░  ║ ┌─┐    ║ └╥┘      \n",
       "q29_3: ┤ X ├┤1 U ├┤ X ├┤5 4copy_check ├──────░──╫─┤M├────╫──╫───────\n",
       "       └───┘│    │└───┘│              │      ░  ║ └╥┘    ║  ║ ┌─┐   \n",
       "q29_4: ─────┤    ├─────┤2             ├──────░──╫──╫─────╫──╫─┤M├───\n",
       "       ┌───┐│    │┌───┐│              │      ░  ║  ║ ┌─┐ ║  ║ └╥┘   \n",
       "q29_5: ┤ X ├┤2   ├┤ X ├┤6             ├──────░──╫──╫─┤M├─╫──╫──╫────\n",
       "       └───┘└────┘└───┘│              │      ░  ║  ║ └╥┘ ║  ║  ║ ┌─┐\n",
       "q29_6: ────────────────┤3             ├──────░──╫──╫──╫──╫──╫──╫─┤M├\n",
       "                       └──────────────┘      ░  ║  ║  ║  ║  ║  ║ └╥┘\n",
       "c31: 7/═════════════════════════════════════════╩══╩══╩══╩══╩══╩══╩═\n",
       "                                                0  1  2  3  4  5  6 "
      ]
     },
     "execution_count": 7,
     "metadata": {},
     "output_type": "execute_result"
    }
   ],
   "source": [
    "qcs_calib[1].draw()"
   ]
  },
  {
   "cell_type": "code",
   "execution_count": 8,
   "metadata": {},
   "outputs": [],
   "source": [
    "qcs_calib_itself, _ = f2.calibration_cirquits(type=\"itself_whole\", n_steps=steps, time=time, q_anc=check[1], check=\"yes\", check_type=check[0])\n",
    " "
   ]
  },
  {
   "cell_type": "code",
   "execution_count": 9,
   "metadata": {},
   "outputs": [
    {
     "data": {
      "text/html": [
       "<pre style=\"word-wrap: normal;white-space: pre;background: #fff0;line-height: 1.1;font-family: &quot;Courier New&quot;,Courier,monospace\">                   ┌──────────────┐ ░          ┌─┐         \n",
       "q425_0: ───────────┤0             ├─░──────────┤M├─────────\n",
       "        ┌───┐┌────┐│              │ ░ ┌─┐      └╥┘         \n",
       "q425_1: ┤ X ├┤0   ├┤4             ├─░─┤M├───────╫──────────\n",
       "        └───┘│    ││              │ ░ └╥┘       ║ ┌─┐      \n",
       "q425_2: ─────┤    ├┤1             ├─░──╫────────╫─┤M├──────\n",
       "             │    ││              │ ░  ║ ┌─┐    ║ └╥┘      \n",
       "q425_3: ─────┤1 U ├┤5 4copy_check ├─░──╫─┤M├────╫──╫───────\n",
       "             │    ││              │ ░  ║ └╥┘    ║  ║ ┌─┐   \n",
       "q425_4: ─────┤    ├┤2             ├─░──╫──╫─────╫──╫─┤M├───\n",
       "             │    ││              │ ░  ║  ║ ┌─┐ ║  ║ └╥┘   \n",
       "q425_5: ─────┤2   ├┤6             ├─░──╫──╫─┤M├─╫──╫──╫────\n",
       "             └────┘│              │ ░  ║  ║ └╥┘ ║  ║  ║ ┌─┐\n",
       "q425_6: ───────────┤3             ├─░──╫──╫──╫──╫──╫──╫─┤M├\n",
       "                   └──────────────┘ ░  ║  ║  ║  ║  ║  ║ └╥┘\n",
       "c287: 7/═══════════════════════════════╩══╩══╩══╩══╩══╩══╩═\n",
       "                                       0  1  2  3  4  5  6 </pre>"
      ],
      "text/plain": [
       "                   ┌──────────────┐ ░          ┌─┐         \n",
       "q425_0: ───────────┤0             ├─░──────────┤M├─────────\n",
       "        ┌───┐┌────┐│              │ ░ ┌─┐      └╥┘         \n",
       "q425_1: ┤ X ├┤0   ├┤4             ├─░─┤M├───────╫──────────\n",
       "        └───┘│    ││              │ ░ └╥┘       ║ ┌─┐      \n",
       "q425_2: ─────┤    ├┤1             ├─░──╫────────╫─┤M├──────\n",
       "             │    ││              │ ░  ║ ┌─┐    ║ └╥┘      \n",
       "q425_3: ─────┤1 U ├┤5 4copy_check ├─░──╫─┤M├────╫──╫───────\n",
       "             │    ││              │ ░  ║ └╥┘    ║  ║ ┌─┐   \n",
       "q425_4: ─────┤    ├┤2             ├─░──╫──╫─────╫──╫─┤M├───\n",
       "             │    ││              │ ░  ║  ║ ┌─┐ ║  ║ └╥┘   \n",
       "q425_5: ─────┤2   ├┤6             ├─░──╫──╫─┤M├─╫──╫──╫────\n",
       "             └────┘│              │ ░  ║  ║ └╥┘ ║  ║  ║ ┌─┐\n",
       "q425_6: ───────────┤3             ├─░──╫──╫──╫──╫──╫──╫─┤M├\n",
       "                   └──────────────┘ ░  ║  ║  ║  ║  ║  ║ └╥┘\n",
       "c287: 7/═══════════════════════════════╩══╩══╩══╩══╩══╩══╩═\n",
       "                                       0  1  2  3  4  5  6 "
      ]
     },
     "execution_count": 9,
     "metadata": {},
     "output_type": "execute_result"
    }
   ],
   "source": [
    "qcs_calib_itself[1].draw()"
   ]
  },
  {
   "cell_type": "code",
   "execution_count": 9,
   "metadata": {},
   "outputs": [],
   "source": [
    "job=execute(qcs, backend_aus, shots=shots)\n",
    "\n",
    "job_cal_our_identity=execute(qcs_calib, backend = backend_aus, shots=shots)\n",
    "\n",
    "job_cal_our_itself_new=execute(qcs_calib_itself, backend = backend_aus, shots=shots)\n",
    "\n",
    "job_cal=execute(cal_circ, backend_aus, shots=shots)"
   ]
  },
  {
   "cell_type": "code",
   "execution_count": 10,
   "metadata": {},
   "outputs": [],
   "source": [
    "qc_ausiliare = QuantumCircuit(7)\n",
    "\n",
    "qc_ausiliare.swap(5,4)\n",
    "qc_ausiliare.swap(5,2)\n",
    "qc_ausiliare.swap(1,3)\n",
    "qc_ausiliare.swap(0,1)\n",
    "\n",
    "qc_ausiliare2=qcs_calib[0].copy()\n",
    "qc_ausiliare2.remove_final_measurements()\n",
    "\n",
    "qc_ausiliare.append(qc_ausiliare2,[0,1,2,3,4,5,6])\n",
    "\n",
    "qc_ausiliare.swap(0,1)\n",
    "qc_ausiliare.swap(1,3)\n",
    "qc_ausiliare.swap(5,2)\n",
    "qc_ausiliare.swap(5,4)\n",
    "\n",
    "U = np.asarray(f2.matrix_from_cirquit(qc_ausiliare, type=\"numpy\"))\n",
    "#Matrix(U)"
   ]
  },
  {
   "cell_type": "code",
   "execution_count": 11,
   "metadata": {},
   "outputs": [],
   "source": [
    "meas_fitter_itself = mc.CompleteMeasFitter(job_cal_our_itself_new.result(), state_labels=state_labels)\n",
    "meas_fitter_identity = mc.CompleteMeasFitter(job_cal_our_identity.result(), state_labels=state_labels)\n",
    "meas_fitter = mc.CompleteMeasFitter(job_cal.result(), state_labels=state_labels)\n",
    "\n",
    "U_tilde_itself = meas_fitter_itself.cal_matrix\n",
    "U_tilde_identity = meas_fitter_itself.cal_matrix\n",
    "U_tilde_qiskit = meas_fitter.cal_matrix"
   ]
  },
  {
   "cell_type": "code",
   "execution_count": 14,
   "metadata": {},
   "outputs": [
    {
     "data": {
      "text/plain": [
       "array([[0., 0., 0., ..., 0., 0., 0.],\n",
       "       [0., 0., 0., ..., 0., 0., 0.],\n",
       "       [0., 0., 0., ..., 0., 0., 0.],\n",
       "       ...,\n",
       "       [0., 0., 0., ..., 0., 0., 0.],\n",
       "       [0., 0., 0., ..., 0., 0., 0.],\n",
       "       [0., 0., 0., ..., 0., 0., 0.]])"
      ]
     },
     "execution_count": 14,
     "metadata": {},
     "output_type": "execute_result"
    }
   ],
   "source": [
    "U_tilde_qiskit"
   ]
  },
  {
   "cell_type": "code",
   "execution_count": 70,
   "metadata": {},
   "outputs": [
    {
     "ename": "LinAlgError",
     "evalue": "Singular matrix",
     "output_type": "error",
     "traceback": [
      "\u001b[0;31m---------------------------------------------------------------------------\u001b[0m",
      "\u001b[0;31mLinAlgError\u001b[0m                               Traceback (most recent call last)",
      "\u001b[1;32m/Users/valerio/Documents/project_IBM_01/IBM_git/version_08/nuova_mitigazione.ipynb Cell 13'\u001b[0m in \u001b[0;36m<cell line: 18>\u001b[0;34m()\u001b[0m\n\u001b[1;32m     <a href='vscode-notebook-cell:/Users/valerio/Documents/project_IBM_01/IBM_git/version_08/nuova_mitigazione.ipynb#ch0000011?line=21'>22</a>\u001b[0m qca_matrix \u001b[39m=\u001b[39m np\u001b[39m.\u001b[39mmatrix(f2\u001b[39m.\u001b[39mmatrix_from_cirquit(base_cirquit, \u001b[39mtype\u001b[39m\u001b[39m=\u001b[39m\u001b[39m\"\u001b[39m\u001b[39mnumpy\u001b[39m\u001b[39m\"\u001b[39m))\n\u001b[1;32m     <a href='vscode-notebook-cell:/Users/valerio/Documents/project_IBM_01/IBM_git/version_08/nuova_mitigazione.ipynb#ch0000011?line=22'>23</a>\u001b[0m qca_matrixH \u001b[39m=\u001b[39m np\u001b[39m.\u001b[39masarray(qca_matrix\u001b[39m.\u001b[39mgetH())\n\u001b[0;32m---> <a href='vscode-notebook-cell:/Users/valerio/Documents/project_IBM_01/IBM_git/version_08/nuova_mitigazione.ipynb#ch0000011?line=24'>25</a>\u001b[0m C_aus_itself \u001b[39m=\u001b[39m np\u001b[39m.\u001b[39mlinalg\u001b[39m.\u001b[39mmulti_dot([U_tilde_qiskit, np\u001b[39m.\u001b[39masarray(qca_matrix), np\u001b[39m.\u001b[39;49mlinalg\u001b[39m.\u001b[39;49minv(np\u001b[39m.\u001b[39;49masarray(U_tilde_qiskit)), U_tilde_itself, np\u001b[39m.\u001b[39mlinalg\u001b[39m.\u001b[39minv(U),  qca_matrixH])\n\u001b[1;32m     <a href='vscode-notebook-cell:/Users/valerio/Documents/project_IBM_01/IBM_git/version_08/nuova_mitigazione.ipynb#ch0000011?line=25'>26</a>\u001b[0m C_aus_identity \u001b[39m=\u001b[39m np\u001b[39m.\u001b[39mdot(np\u001b[39m.\u001b[39masarray(qca_matrix),C_identity)\u001b[39m.\u001b[39mdot(qca_matrixH)\n\u001b[1;32m     <a href='vscode-notebook-cell:/Users/valerio/Documents/project_IBM_01/IBM_git/version_08/nuova_mitigazione.ipynb#ch0000011?line=27'>28</a>\u001b[0m C_matrices_itself\u001b[39m.\u001b[39mappend(np\u001b[39m.\u001b[39masarray(C_aus_itself))\n",
      "File \u001b[0;32m<__array_function__ internals>:180\u001b[0m, in \u001b[0;36minv\u001b[0;34m(*args, **kwargs)\u001b[0m\n",
      "File \u001b[0;32m/Library/Frameworks/Python.framework/Versions/3.10/lib/python3.10/site-packages/numpy/linalg/linalg.py:545\u001b[0m, in \u001b[0;36minv\u001b[0;34m(a)\u001b[0m\n\u001b[1;32m    <a href='file:///Library/Frameworks/Python.framework/Versions/3.10/lib/python3.10/site-packages/numpy/linalg/linalg.py?line=542'>543</a>\u001b[0m signature \u001b[39m=\u001b[39m \u001b[39m'\u001b[39m\u001b[39mD->D\u001b[39m\u001b[39m'\u001b[39m \u001b[39mif\u001b[39;00m isComplexType(t) \u001b[39melse\u001b[39;00m \u001b[39m'\u001b[39m\u001b[39md->d\u001b[39m\u001b[39m'\u001b[39m\n\u001b[1;32m    <a href='file:///Library/Frameworks/Python.framework/Versions/3.10/lib/python3.10/site-packages/numpy/linalg/linalg.py?line=543'>544</a>\u001b[0m extobj \u001b[39m=\u001b[39m get_linalg_error_extobj(_raise_linalgerror_singular)\n\u001b[0;32m--> <a href='file:///Library/Frameworks/Python.framework/Versions/3.10/lib/python3.10/site-packages/numpy/linalg/linalg.py?line=544'>545</a>\u001b[0m ainv \u001b[39m=\u001b[39m _umath_linalg\u001b[39m.\u001b[39;49minv(a, signature\u001b[39m=\u001b[39;49msignature, extobj\u001b[39m=\u001b[39;49mextobj)\n\u001b[1;32m    <a href='file:///Library/Frameworks/Python.framework/Versions/3.10/lib/python3.10/site-packages/numpy/linalg/linalg.py?line=545'>546</a>\u001b[0m \u001b[39mreturn\u001b[39;00m wrap(ainv\u001b[39m.\u001b[39mastype(result_t, copy\u001b[39m=\u001b[39m\u001b[39mFalse\u001b[39;00m))\n",
      "File \u001b[0;32m/Library/Frameworks/Python.framework/Versions/3.10/lib/python3.10/site-packages/numpy/linalg/linalg.py:88\u001b[0m, in \u001b[0;36m_raise_linalgerror_singular\u001b[0;34m(err, flag)\u001b[0m\n\u001b[1;32m     <a href='file:///Library/Frameworks/Python.framework/Versions/3.10/lib/python3.10/site-packages/numpy/linalg/linalg.py?line=86'>87</a>\u001b[0m \u001b[39mdef\u001b[39;00m \u001b[39m_raise_linalgerror_singular\u001b[39m(err, flag):\n\u001b[0;32m---> <a href='file:///Library/Frameworks/Python.framework/Versions/3.10/lib/python3.10/site-packages/numpy/linalg/linalg.py?line=87'>88</a>\u001b[0m     \u001b[39mraise\u001b[39;00m LinAlgError(\u001b[39m\"\u001b[39m\u001b[39mSingular matrix\u001b[39m\u001b[39m\"\u001b[39m)\n",
      "\u001b[0;31mLinAlgError\u001b[0m: Singular matrix"
     ]
    }
   ],
   "source": [
    "qr_basi = QuantumRegister(7)\n",
    "qc_basi = QuantumCircuit(qr_basi)\n",
    "\n",
    "#qc_basi.swap(5,4)\n",
    "#qc_basi.swap(5,2)\n",
    "#qc_basi.swap(1,3)\n",
    "#qc_basi.swap(0,1)\n",
    "\n",
    "qcs_basis = state_tomography_circuits(qc_basi,[0,1,2])\n",
    "\n",
    "\n",
    "C_matrices_identity = []\n",
    "C_matrices_itself = []\n",
    "\n",
    "C_itself = np.dot(U_tilde_itself, np.linalg.inv(U))\n",
    "C_identity = U_tilde_identity\n",
    "\n",
    "for base_cirquit in qcs_basis:\n",
    "    \n",
    "    base_cirquit.remove_final_measurements()\n",
    "\n",
    "    qca_matrix = np.matrix(f2.matrix_from_cirquit(base_cirquit, type=\"numpy\"))\n",
    "    qca_matrixH = np.asarray(qca_matrix.getH())\n",
    "\n",
    "    C_aus_itself = np.linalg.multi_dot([U_tilde_qiskit, np.asarray(qca_matrix), np.linalg.inv(U_tilde_qiskit), U_tilde_itself, np.linalg.inv(U),  qca_matrixH])\n",
    "    C_aus_identity = np.dot(np.asarray(qca_matrix),C_identity).dot(qca_matrixH)\n",
    "\n",
    "    C_matrices_itself.append(np.asarray(C_aus_itself))\n",
    "    C_matrices_identity.append(np.asarray(C_aus_identity))"
   ]
  },
  {
   "cell_type": "code",
   "execution_count": 48,
   "metadata": {},
   "outputs": [
    {
     "ename": "NameError",
     "evalue": "name 'C_matrices_itself' is not defined",
     "output_type": "error",
     "traceback": [
      "\u001b[0;31m---------------------------------------------------------------------------\u001b[0m",
      "\u001b[0;31mNameError\u001b[0m                                 Traceback (most recent call last)",
      "\u001b[1;32m/Users/valerio/Documents/project_IBM_01/IBM_git/version_08/nuova_mitigazione.ipynb Cell 14'\u001b[0m in \u001b[0;36m<cell line: 5>\u001b[0;34m()\u001b[0m\n\u001b[1;32m      <a href='vscode-notebook-cell:/Users/valerio/Documents/project_IBM_01/IBM_git/version_08/nuova_mitigazione.ipynb#ch0000012?line=1'>2</a>\u001b[0m meas_fitter_ours_id \u001b[39m=\u001b[39m []\n\u001b[1;32m      <a href='vscode-notebook-cell:/Users/valerio/Documents/project_IBM_01/IBM_git/version_08/nuova_mitigazione.ipynb#ch0000012?line=2'>3</a>\u001b[0m meas_fitter_ours_itself \u001b[39m=\u001b[39m []\n\u001b[0;32m----> <a href='vscode-notebook-cell:/Users/valerio/Documents/project_IBM_01/IBM_git/version_08/nuova_mitigazione.ipynb#ch0000012?line=4'>5</a>\u001b[0m \u001b[39mfor\u001b[39;00m C_new \u001b[39min\u001b[39;00m C_matrices_itself:\n\u001b[1;32m      <a href='vscode-notebook-cell:/Users/valerio/Documents/project_IBM_01/IBM_git/version_08/nuova_mitigazione.ipynb#ch0000012?line=5'>6</a>\u001b[0m     meas_fitter_our_aus \u001b[39m=\u001b[39m deepcopy(U_tilde_itself)\n\u001b[1;32m      <a href='vscode-notebook-cell:/Users/valerio/Documents/project_IBM_01/IBM_git/version_08/nuova_mitigazione.ipynb#ch0000012?line=6'>7</a>\u001b[0m     meas_fitter_our_aus\u001b[39m.\u001b[39m_tens_fitt\u001b[39m.\u001b[39mcal_matrices[\u001b[39m0\u001b[39m]\u001b[39m=\u001b[39mC_new\n",
      "\u001b[0;31mNameError\u001b[0m: name 'C_matrices_itself' is not defined"
     ]
    }
   ],
   "source": [
    "from copy import deepcopy\n",
    "meas_fitter_ours_id = []\n",
    "meas_fitter_ours_itself = []\n",
    "\n",
    "for C_new in C_matrices_itself:\n",
    "    meas_fitter_our_aus = deepcopy(U_tilde_itself)\n",
    "    meas_fitter_our_aus._tens_fitt.cal_matrices[0]=C_new\n",
    "\n",
    "    meas_fitter_ours_itself.append(meas_fitter_our_aus)\n",
    "\n",
    "for C_new in C_matrices_identity:\n",
    "    meas_fitter_our_aus = deepcopy(U_tilde_identity)\n",
    "    meas_fitter_our_aus._tens_fitt.cal_matrices[0]=C_new\n",
    "\n",
    "    meas_fitter_ours_id.append(meas_fitter_our_aus)\n",
    "\n"
   ]
  },
  {
   "cell_type": "code",
   "execution_count": 36,
   "metadata": {},
   "outputs": [
    {
     "data": {
      "text/plain": [
       "(128, 128)"
      ]
     },
     "execution_count": 36,
     "metadata": {},
     "output_type": "execute_result"
    }
   ],
   "source": [
    "np.shape(meas_fitter.cal_matrix)"
   ]
  },
  {
   "cell_type": "code",
   "execution_count": 37,
   "metadata": {},
   "outputs": [
    {
     "data": {
      "text/plain": [
       "(128, 128)"
      ]
     },
     "execution_count": 37,
     "metadata": {},
     "output_type": "execute_result"
    }
   ],
   "source": [
    "np.shape(meas_fitter_ours[0].cal_matrix)"
   ]
  },
  {
   "cell_type": "code",
   "execution_count": 38,
   "metadata": {},
   "outputs": [],
   "source": [
    "U = f2.Trotter_N_approx(steps=steps, tempo=time, precision=precision)\n",
    "\n",
    "U2=[\n",
    "    [U[3*8+3],U[3*8+5],U[3*8+6],0],\n",
    "    [U[5*8+3],U[5*8+5],U[5*8+6],0],\n",
    "    [U[6*8+3],U[6*8+5],U[6*8+6],0],\n",
    "    [0,0,0,1]\n",
    "]\n",
    "\n",
    "qc=QuantumCircuit(2, name=\"U, t=%.2f pi\"%(time/np.pi))\n",
    "qc.unitary(U2,[0,1])    \n",
    "trans_qc=transpile(qc,basis_gates=['cx','x','sx','rz']) \n",
    "\n",
    "qr2=QuantumRegister(3, name=\"q\")\n",
    "qc2=QuantumCircuit(qr2)\n",
    "\n",
    "#qc2.x([qr2[1],qr2[2]])\n",
    "qc2.append(trans_qc,[qr2[0],qr2[1]])\n",
    "qc2.append(f2.Mdg_circquit().inverse(),[qr2[0],qr2[1],qr2[2]])\n",
    "\n",
    "target_state = Statevector.from_instruction(qc2)"
   ]
  },
  {
   "cell_type": "code",
   "execution_count": 39,
   "metadata": {},
   "outputs": [
    {
     "data": {
      "text/html": [
       "<pre style=\"word-wrap: normal;white-space: pre;background: #fff0;line-height: 1.1;font-family: &quot;Courier New&quot;,Courier,monospace\">     ┌───────────────┐┌─────────┐\n",
       "q_0: ┤0              ├┤0        ├\n",
       "     │  U, t=1.00 pi ││         │\n",
       "q_1: ┤1              ├┤1 Mdg_dg ├\n",
       "     └───────────────┘│         │\n",
       "q_2: ─────────────────┤2        ├\n",
       "                      └─────────┘</pre>"
      ],
      "text/plain": [
       "     ┌───────────────┐┌─────────┐\n",
       "q_0: ┤0              ├┤0        ├\n",
       "     │  U, t=1.00 pi ││         │\n",
       "q_1: ┤1              ├┤1 Mdg_dg ├\n",
       "     └───────────────┘│         │\n",
       "q_2: ─────────────────┤2        ├\n",
       "                      └─────────┘"
      ]
     },
     "execution_count": 39,
     "metadata": {},
     "output_type": "execute_result"
    }
   ],
   "source": [
    "#qcs2=\n",
    "qc2.draw()"
   ]
  },
  {
   "cell_type": "code",
   "execution_count": 40,
   "metadata": {},
   "outputs": [
    {
     "data": {
      "text/latex": [
       "$\\displaystyle \\left[\\begin{matrix}0 & 0 & 0 & 1.0 & 0 & 0 & 0 & 0\\\\0.0001020679 - 0.0021063946 i & -9.87301 \\cdot 10^{-5} + 0.0010531973 i & 0.9999966622 + 0.0010531973 i & 0 & 0 & 0 & 0 & 0\\\\-9.87301 \\cdot 10^{-5} + 0.0010531973 i & 0.9999966622 - 0.0021063946 i & 0.0001020679 + 0.0010531973 i & 0 & 0 & 0 & 0 & 0\\\\0 & 0 & 0 & 0 & 0.9999966622 + 0.0010531973 i & 0.0001020679 + 0.0010531973 i & -9.87301 \\cdot 10^{-5} - 0.0021063946 i & 0\\\\0.9999966622 + 0.0010531973 i & 0.0001020679 + 0.0010531973 i & -9.87301 \\cdot 10^{-5} - 0.0021063946 i & 0 & 0 & 0 & 0 & 0\\\\0 & 0 & 0 & 0 & -9.87301 \\cdot 10^{-5} + 0.0010531973 i & 0.9999966622 - 0.0021063946 i & 0.0001020679 + 0.0010531973 i & 0\\\\0 & 0 & 0 & 0 & 0.0001020679 - 0.0021063946 i & -9.87301 \\cdot 10^{-5} + 0.0010531973 i & 0.9999966622 + 0.0010531973 i & 0\\\\0 & 0 & 0 & 0 & 0 & 0 & 0 & 1.0\\end{matrix}\\right]$"
      ],
      "text/plain": [
       "Matrix([\n",
       "[                            0,                             0,                             0, 1.0,                             0,                             0,                             0,   0],\n",
       "[0.0001020679 - 0.0021063946*I,  -9.87301e-5 + 0.0010531973*I, 0.9999966622 + 0.0010531973*I,   0,                             0,                             0,                             0,   0],\n",
       "[ -9.87301e-5 + 0.0010531973*I, 0.9999966622 - 0.0021063946*I, 0.0001020679 + 0.0010531973*I,   0,                             0,                             0,                             0,   0],\n",
       "[                            0,                             0,                             0,   0, 0.9999966622 + 0.0010531973*I, 0.0001020679 + 0.0010531973*I,  -9.87301e-5 - 0.0021063946*I,   0],\n",
       "[0.9999966622 + 0.0010531973*I, 0.0001020679 + 0.0010531973*I,  -9.87301e-5 - 0.0021063946*I,   0,                             0,                             0,                             0,   0],\n",
       "[                            0,                             0,                             0,   0,  -9.87301e-5 + 0.0010531973*I, 0.9999966622 - 0.0021063946*I, 0.0001020679 + 0.0010531973*I,   0],\n",
       "[                            0,                             0,                             0,   0, 0.0001020679 - 0.0021063946*I,  -9.87301e-5 + 0.0010531973*I, 0.9999966622 + 0.0010531973*I,   0],\n",
       "[                            0,                             0,                             0,   0,                             0,                             0,                             0, 1.0]])"
      ]
     },
     "execution_count": 40,
     "metadata": {},
     "output_type": "execute_result"
    }
   ],
   "source": [
    "f2.matrix_from_cirquit(qc2)"
   ]
  },
  {
   "cell_type": "code",
   "execution_count": 41,
   "metadata": {},
   "outputs": [],
   "source": [
    "#target_state = (np.asarray(target_state))\n",
    "#target_state"
   ]
  },
  {
   "cell_type": "code",
   "execution_count": 42,
   "metadata": {},
   "outputs": [],
   "source": [
    "target_state=((One^One^Zero).to_matrix())\n"
   ]
  },
  {
   "cell_type": "code",
   "execution_count": 43,
   "metadata": {},
   "outputs": [
    {
     "name": "stdout",
     "output_type": "stream",
     "text": [
      "0\n",
      "0\n",
      "tens_fitt\n",
      "1\n",
      "tens_fitt\n",
      "2\n",
      "tens_fitt\n",
      "3\n",
      "tens_fitt\n",
      "4\n",
      "tens_fitt\n",
      "5\n",
      "tens_fitt\n",
      "6\n",
      "tens_fitt\n",
      "7\n",
      "tens_fitt\n",
      "8\n",
      "tens_fitt\n",
      "9\n",
      "tens_fitt\n",
      "10\n",
      "tens_fitt\n",
      "11\n",
      "tens_fitt\n",
      "12\n",
      "tens_fitt\n",
      "13\n",
      "tens_fitt\n",
      "14\n",
      "tens_fitt\n",
      "15\n",
      "tens_fitt\n",
      "16\n",
      "tens_fitt\n",
      "17\n",
      "tens_fitt\n",
      "18\n",
      "tens_fitt\n",
      "19\n",
      "tens_fitt\n",
      "20\n",
      "tens_fitt\n",
      "21\n",
      "tens_fitt\n",
      "22\n",
      "tens_fitt\n",
      "23\n",
      "tens_fitt\n",
      "24\n",
      "tens_fitt\n",
      "25\n",
      "tens_fitt\n",
      "26\n",
      "tens_fitt\n",
      "0\n",
      "0 (128, 128)\n",
      "deepcopy\n",
      "1\n",
      "1 (128, 128)\n",
      "deepcopy\n",
      "2\n",
      "2 (128, 128)\n",
      "deepcopy\n",
      "3\n",
      "3 (128, 128)\n",
      "deepcopy\n",
      "4\n",
      "4 (128, 128)\n",
      "deepcopy\n",
      "5\n",
      "5 (128, 128)\n",
      "deepcopy\n",
      "6\n",
      "6 (128, 128)\n",
      "deepcopy\n",
      "7\n",
      "7 (128, 128)\n",
      "deepcopy\n",
      "8\n",
      "8 (128, 128)\n",
      "deepcopy\n",
      "9\n",
      "9 (128, 128)\n",
      "deepcopy\n",
      "10\n",
      "10 (128, 128)\n",
      "deepcopy\n",
      "11\n",
      "11 (128, 128)\n",
      "deepcopy\n",
      "12\n",
      "12 (128, 128)\n",
      "deepcopy\n",
      "13\n",
      "13 (128, 128)\n",
      "deepcopy\n",
      "14\n",
      "14 (128, 128)\n",
      "deepcopy\n",
      "15\n",
      "15 (128, 128)\n",
      "deepcopy\n",
      "16\n",
      "16 (128, 128)\n",
      "deepcopy\n",
      "17\n",
      "17 (128, 128)\n",
      "deepcopy\n",
      "18\n",
      "18 (128, 128)\n",
      "deepcopy\n",
      "19\n",
      "19 (128, 128)\n",
      "deepcopy\n",
      "20\n",
      "20 (128, 128)\n",
      "deepcopy\n",
      "21\n",
      "21 (128, 128)\n",
      "deepcopy\n",
      "22\n",
      "22 (128, 128)\n",
      "deepcopy\n",
      "23\n",
      "23 (128, 128)\n",
      "deepcopy\n",
      "24\n",
      "24 (128, 128)\n",
      "deepcopy\n",
      "25\n",
      "25 (128, 128)\n",
      "deepcopy\n",
      "26\n",
      "26 (128, 128)\n",
      "deepcopy\n",
      "[[ 2.81970070e-02+0.00000000e+00j  4.19437553e-03-3.90446111e-03j\n",
      "   1.96339468e-03-1.38401661e-03j -3.93437578e-04-1.88256005e-03j\n",
      "   3.23826585e-04-5.28960697e-04j -2.29297231e-04-1.06461726e-04j\n",
      "   6.98195982e-04-1.42297831e-03j  5.74332912e-05+2.06026903e-04j]\n",
      " [ 4.19437553e-03+3.90446111e-03j  2.44115005e-02+0.00000000e+00j\n",
      "   1.16505156e-03+6.36217593e-05j  1.59449304e-04-1.04357826e-04j\n",
      "  -5.17927479e-04-1.80759744e-03j  1.69801430e-04+1.27248806e-03j\n",
      "  -6.29138658e-04-1.35414312e-03j -7.12396460e-04-9.07740150e-04j]\n",
      " [ 1.96339468e-03+1.38401661e-03j  1.16505156e-03-6.36217593e-05j\n",
      "   4.56139022e-02+0.00000000e+00j  8.01656790e-03-8.64322354e-03j\n",
      "   6.82865874e-04+9.08704367e-04j  1.55899336e-03-3.14361476e-05j\n",
      "   2.05150528e-02-2.69936471e-03j  3.70047667e-03-2.66120064e-03j]\n",
      " [-3.93437578e-04+1.88256005e-03j  1.59449304e-04+1.04357826e-04j\n",
      "   8.01656790e-03+8.64322354e-03j  2.32614650e-02+0.00000000e+00j\n",
      "   1.37706381e-04+1.28315057e-03j  2.52854489e-05+6.86399993e-04j\n",
      "   5.53617558e-03+4.19532657e-03j  4.44758371e-03-1.04089013e-03j]\n",
      " [ 3.23826585e-04+5.28960697e-04j -5.17927479e-04+1.80759744e-03j\n",
      "   6.82865874e-04-9.08704367e-04j  1.37706381e-04-1.28315057e-03j\n",
      "   6.72916463e-02+0.00000000e+00j  1.03106209e-02-7.87479180e-03j\n",
      "   1.21393279e-02-1.33895094e-02j -6.79275683e-04-7.84173587e-03j]\n",
      " [-2.29297231e-04+1.06461726e-04j  1.69801430e-04-1.27248806e-03j\n",
      "   1.55899336e-03+3.14361476e-05j  2.52854489e-05-6.86399993e-04j\n",
      "   1.03106209e-02+7.87479180e-03j  5.32818868e-02+0.00000000e+00j\n",
      "  -1.09270562e-03-1.46269165e-02j  3.90337769e-03-3.39730475e-03j]\n",
      " [ 6.98195982e-04+1.42297831e-03j -6.29138658e-04+1.35414312e-03j\n",
      "   2.05150528e-02+2.69936471e-03j  5.53617558e-03-4.19532657e-03j\n",
      "   1.21393279e-02+1.33895094e-02j -1.09270562e-03+1.46269165e-02j\n",
      "   6.19168805e-01+0.00000000e+00j  1.09689203e-01-1.10300249e-01j]\n",
      " [ 5.74332912e-05-2.06026903e-04j -7.12396460e-04+9.07740150e-04j\n",
      "   3.70047667e-03+2.66120064e-03j  4.44758371e-03+1.04089013e-03j\n",
      "  -6.79275683e-04+7.84173587e-03j  3.90337769e-03+3.39730475e-03j\n",
      "   1.09689203e-01+1.10300249e-01j  1.38773787e-01+0.00000000e+00j]]\n",
      "attenzione ho invertito gli arg di state_fidelity\n",
      "[[ 4.64526505e-03+0.00000000e+00j  4.72494778e-04+1.84136692e-04j\n",
      "   1.40859886e-03-6.94843434e-04j -6.36055670e-04-1.31228322e-03j\n",
      "   1.58025638e-03-7.16550856e-04j  7.65754458e-04-1.06939915e-03j\n",
      "   1.31912339e-03-3.56716307e-03j  5.48584826e-05-1.31448261e-03j]\n",
      " [ 4.72494778e-04-1.84136692e-04j  5.05703968e-03+0.00000000e+00j\n",
      "   7.95470696e-04+1.08889408e-04j  1.14150137e-04-5.60068713e-04j\n",
      "  -4.86232851e-04-1.85600251e-03j  1.23744856e-03+8.82602425e-05j\n",
      "  -1.67121556e-03-1.88932784e-03j -1.48193908e-03-1.64776609e-04j]\n",
      " [ 1.40859886e-03+6.94843434e-04j  7.95470696e-04-1.08889408e-04j\n",
      "   4.39319493e-02+0.00000000e+00j  9.13584728e-03-9.47961172e-03j\n",
      "   1.83036963e-04+2.07586273e-03j  7.24802626e-04+1.37622843e-03j\n",
      "   2.65724453e-02-5.17262703e-03j  2.48961347e-03-3.46616004e-03j]\n",
      " [-6.36055670e-04+1.31228322e-03j  1.14150137e-04+5.60068713e-04j\n",
      "   9.13584728e-03+9.47961172e-03j  2.03901606e-02+0.00000000e+00j\n",
      "   4.82573166e-04+1.30626261e-03j  9.13482174e-04-1.23522753e-03j\n",
      "   6.57363210e-03+3.91016675e-03j  1.88191679e-03-1.32908039e-03j]\n",
      " [ 1.58025638e-03+7.16550856e-04j -4.86232851e-04+1.85600251e-03j\n",
      "   1.83036963e-04-2.07586273e-03j  4.82573166e-04-1.30626261e-03j\n",
      "   5.06988536e-02+0.00000000e+00j  9.33014530e-03-5.00456769e-03j\n",
      "   1.64613830e-02-1.80495351e-02j  7.12004893e-04-7.48480027e-03j]\n",
      " [ 7.65754458e-04+1.06939915e-03j  1.23744856e-03-8.82602425e-05j\n",
      "   7.24802626e-04-1.37622843e-03j  9.13482174e-04+1.23522753e-03j\n",
      "   9.33014530e-03+5.00456769e-03j  4.96378761e-02+0.00000000e+00j\n",
      "  -4.21426063e-04-1.81526044e-02j -2.07694644e-04-1.94753519e-03j]\n",
      " [ 1.31912339e-03+3.56716307e-03j -1.67121556e-03+1.88932784e-03j\n",
      "   2.65724453e-02+5.17262703e-03j  6.57363210e-03-3.91016675e-03j\n",
      "   1.64613830e-02+1.80495351e-02j -4.21426063e-04+1.81526044e-02j\n",
      "   7.46221474e-01+0.00000000e+00j  1.41108463e-01-1.39129594e-01j]\n",
      " [ 5.48584826e-05+1.31448261e-03j -1.48193908e-03+1.64776609e-04j\n",
      "   2.48961347e-03+3.46616004e-03j  1.88191679e-03+1.32908039e-03j\n",
      "   7.12004893e-04+7.48480027e-03j -2.07694644e-04+1.94753519e-03j\n",
      "   1.41108463e-01+1.39129594e-01j  7.94173820e-02+0.00000000e+00j]]\n",
      "attenzione ho invertito gli arg di state_fidelity\n",
      "[[ 1.24999753e-01+0.00000000e+00j  1.42353479e-07-5.92867776e-07j\n",
      "   4.18001044e-07-1.31739866e-07j  2.60732638e-07-8.03842243e-07j\n",
      "   1.93330515e-06+6.08768204e-07j  5.38921915e-09-8.67725132e-07j\n",
      "   4.79353811e-07-4.76989901e-07j  1.18186357e-06+1.56356270e-08j]\n",
      " [ 1.42353479e-07+5.92867776e-07j  1.25000294e-01+0.00000000e+00j\n",
      "   1.40585327e-06+5.24985235e-07j -2.26269310e-07-7.31476888e-07j\n",
      "   5.13906484e-08-2.88168124e-07j -6.95825673e-07-2.63049048e-07j\n",
      "   3.85262288e-08+8.95273374e-07j -6.47665427e-07+5.13268854e-07j]\n",
      " [ 4.18001044e-07+1.31739866e-07j  1.40585327e-06-5.24985235e-07j\n",
      "   1.24999439e-01+0.00000000e+00j -3.47549599e-07+8.90831309e-07j\n",
      "   3.86343361e-07+3.74569338e-08j -1.06959810e-06+4.30062853e-07j\n",
      "  -1.25665836e-06-7.89436664e-08j  1.19523525e-06-3.64184172e-07j]\n",
      " [ 2.60732638e-07+8.03842243e-07j -2.26269310e-07+7.31476888e-07j\n",
      "  -3.47549599e-07-8.90831309e-07j  1.25000134e-01+0.00000000e+00j\n",
      "   5.04109493e-07+2.14937295e-07j  2.88156178e-08+3.81427513e-07j\n",
      "   1.52249490e-07+3.29519230e-07j  1.41139681e-07-3.57624526e-07j]\n",
      " [ 1.93330515e-06-6.08768204e-07j  5.13906484e-08+2.88168124e-07j\n",
      "   3.86343361e-07-3.74569338e-08j  5.04109493e-07-2.14937295e-07j\n",
      "   1.25000370e-01+0.00000000e+00j -1.21169331e-07+3.46256621e-07j\n",
      "  -9.28994440e-08-3.94629352e-07j  6.71536182e-08+1.15394410e-06j]\n",
      " [ 5.38921915e-09+8.67725132e-07j -6.95825673e-07+2.63049048e-07j\n",
      "  -1.06959810e-06-4.30062853e-07j  2.88156178e-08-3.81427513e-07j\n",
      "  -1.21169331e-07-3.46256621e-07j  1.24999649e-01+0.00000000e+00j\n",
      "  -1.11758014e-06-1.23153084e-06j  8.58016986e-07+4.95947414e-07j]\n",
      " [ 4.79353811e-07+4.76989901e-07j  3.85262288e-08-8.95273374e-07j\n",
      "  -1.25665836e-06+7.89436664e-08j  1.52249490e-07-3.29519230e-07j\n",
      "  -9.28994440e-08+3.94629352e-07j -1.11758014e-06+1.23153084e-06j\n",
      "   1.25000534e-01+0.00000000e+00j  2.65673667e-07+4.44882373e-07j]\n",
      " [ 1.18186357e-06-1.56356270e-08j -6.47665427e-07-5.13268854e-07j\n",
      "   1.19523525e-06+3.64184172e-07j  1.41139681e-07+3.57624526e-07j\n",
      "   6.71536182e-08-1.15394410e-06j  8.58016986e-07-4.95947414e-07j\n",
      "   2.65673667e-07-4.44882373e-07j  1.24999825e-01+0.00000000e+00j]]\n",
      "attenzione ho invertito gli arg di state_fidelity\n",
      "[[ 5.94027164e-05+0.00000000e+00j  2.75197396e-06+4.50166254e-05j\n",
      "   1.04046534e-04-1.91671536e-04j -2.21267043e-05-4.19326664e-04j\n",
      "   2.49900617e-04-6.95916789e-05j  7.09325929e-04-9.94747602e-04j\n",
      "   2.32974889e-03-3.40307257e-03j -1.70465628e-04-1.26049666e-03j]\n",
      " [ 2.75197396e-06-4.50166254e-05j  6.63557480e-04+0.00000000e+00j\n",
      "   4.83712447e-05+6.67135135e-04j  5.89853958e-06-1.07856170e-03j\n",
      "  -6.46539212e-04-1.20348453e-03j -2.37892316e-04-4.78220886e-04j\n",
      "  -2.61034673e-03-2.36243144e-03j -1.28404308e-03+5.72338555e-05j]\n",
      " [ 1.04046534e-04+1.91671536e-04j  4.83712447e-05-6.67135135e-04j\n",
      "   3.82926984e-03+0.00000000e+00j  3.42420735e-03-5.63936770e-03j\n",
      "  -6.63640374e-04+1.74607252e-03j  8.00936115e-04+1.77055416e-03j\n",
      "   7.01572562e-03-5.24996782e-03j  1.62422920e-04-2.09285308e-03j]\n",
      " [-2.21267043e-05+4.19326664e-04j  5.89853958e-06+1.07856170e-03j\n",
      "   3.42420735e-03+5.63936770e-03j  1.98835545e-02+0.00000000e+00j\n",
      "   1.69590378e-04+9.71782850e-04j  1.11319901e-03-2.40496259e-03j\n",
      "   3.72139229e-04-1.77640705e-04j -6.37315159e-04-3.82382018e-04j]\n",
      " [ 2.49900617e-04+6.95916789e-05j -6.46539212e-04+1.20348453e-03j\n",
      "  -6.63640374e-04-1.74607252e-03j  1.69590378e-04-9.71782850e-04j\n",
      "   3.82638084e-03+0.00000000e+00j  3.63265379e-03+1.05703018e-03j\n",
      "   1.83248737e-02-1.96439931e-02j -1.74169696e-05-8.42326842e-03j]\n",
      " [ 7.09325929e-04+9.94747602e-04j -2.37892316e-04+4.78220886e-04j\n",
      "   8.00936115e-04-1.77055416e-03j  1.11319901e-03+2.40496259e-03j\n",
      "   3.63265379e-03-1.05703018e-03j  5.59196749e-02+0.00000000e+00j\n",
      "  -1.99064266e-03-2.36434720e-02j -3.22685548e-03-2.48514457e-03j]\n",
      " [ 2.32974889e-03+3.40307257e-03j -2.61034673e-03+2.36243144e-03j\n",
      "   7.01572562e-03+5.24996782e-03j  3.72139229e-04+1.77640705e-04j\n",
      "   1.83248737e-02+1.96439931e-02j -1.99064266e-03+2.36434720e-02j\n",
      "   8.35655222e-01+0.00000000e+00j  1.80634452e-01-1.84705143e-01j]\n",
      " [-1.70465628e-04+1.26049666e-03j -1.28404308e-03-5.72338555e-05j\n",
      "   1.62422920e-04+2.09285308e-03j -6.37315159e-04+3.82382018e-04j\n",
      "  -1.74169696e-05+8.42326842e-03j -3.22685548e-03+2.48514457e-03j\n",
      "   1.80634452e-01+1.84705143e-01j  8.01629382e-02+0.00000000e+00j]]\n",
      "attenzione ho invertito gli arg di state_fidelity\n"
     ]
    }
   ],
   "source": [
    "reps=1\n",
    "\n",
    "#target_state = (One^One^Zero).to_matrix()\n",
    "\n",
    "fids=np.zeros([reps,4])\n",
    "fids_mean=np.zeros(4)\n",
    "fids_dev=np.zeros(4)\n",
    "\n",
    "for j in range(reps):\n",
    "    \n",
    "    #res = jobs_evo_result[j]\n",
    "    res=job.result()\n",
    "\n",
    "    print(j)\n",
    "    \n",
    "    new_res, new_res_nm = f2.mitigate(res, ancillas_conditions=['0011','1110','1101'], meas_fitter=meas_fitter)\n",
    "    new_res_our, new_res_nm = f2.mitigate(res, ancillas_conditions=['0011','1110','1101'], meas_fitter=meas_fitter_ours)\n",
    "    new_res_not_mitigated = f2.mitigate(res, ancillas_conditions=f2.bin_list(4))\n",
    "\n",
    "    fids[j,0] = f2.fidelity_count(new_res_not_mitigated, qcs_na, target_state)\n",
    "    fids[j,1] = f2.fidelity_count(new_res_nm, qcs_na, target_state)\n",
    "    fids[j,2] = f2.fidelity_count(new_res, qcs_na, target_state)\n",
    "    fids[j,3] = f2.fidelity_count(new_res_our, qcs_na, target_state)\n",
    "\n",
    "for i in range(4):\n",
    "    fids_mean[i]=np.mean(fids[:,i])\n",
    "    fids_dev[i]=np.std(fids[:,i])\n"
   ]
  },
  {
   "cell_type": "code",
   "execution_count": 44,
   "metadata": {},
   "outputs": [
    {
     "data": {
      "text/plain": [
       "array([0.6191688 , 0.74622147, 0.12500053, 0.83565522])"
      ]
     },
     "execution_count": 44,
     "metadata": {},
     "output_type": "execute_result"
    }
   ],
   "source": [
    "fids_mean"
   ]
  },
  {
   "cell_type": "code",
   "execution_count": null,
   "metadata": {},
   "outputs": [],
   "source": [
    "def H_heis3():\n",
    "    # Interactions (I is the identity matrix; X, Y, and Z are Pauli matricies; ^ is a tensor product)\n",
    "    XXs = (I^X^X) + (X^X^I)\n",
    "    YYs = (I^Y^Y) + (Y^Y^I)\n",
    "    ZZs = (I^Z^Z) + (Z^Z^I)\n",
    "    \n",
    "    # Sum interactions\n",
    "    H = XXs + YYs + ZZs\n",
    "    \n",
    "    # Return Hamiltonian\n",
    "    return H\n",
    "\n",
    "def U_heis3(t):\n",
    "    # Compute XXX Hamiltonian for 3 spins in a line\n",
    "    H = H_heis3()\n",
    "    \n",
    "    # Return the exponential of -i multipled by time t multipled by the 3 spin XXX Heisenberg Hamilonian \n",
    "    return (t * H).exp_i()"
   ]
  },
  {
   "cell_type": "code",
   "execution_count": null,
   "metadata": {},
   "outputs": [
    {
     "data": {
      "text/plain": [
       "1.0000000000000009"
      ]
     },
     "execution_count": 44,
     "metadata": {},
     "output_type": "execute_result"
    }
   ],
   "source": [
    "initial_state = One^One^Zero\n",
    "target_state2 = U_heis3(float(time)) @ initial_state #Zero^One^One\n",
    "\n",
    "np.abs((~target_state2 @ U_heis3(float(time)) @ initial_state).eval())**2"
   ]
  },
  {
   "cell_type": "markdown",
   "metadata": {},
   "source": [
    "$\\hbar$"
   ]
  },
  {
   "cell_type": "markdown",
   "metadata": {},
   "source": []
  }
 ],
 "metadata": {
  "interpreter": {
   "hash": "aee8b7b246df8f9039afb4144a1f6fd8d2ca17a180786b69acc140d282b71a49"
  },
  "kernelspec": {
   "display_name": "Python 3.10.2 64-bit",
   "language": "python",
   "name": "python3"
  },
  "language_info": {
   "codemirror_mode": {
    "name": "ipython",
    "version": 3
   },
   "file_extension": ".py",
   "mimetype": "text/x-python",
   "name": "python",
   "nbconvert_exporter": "python",
   "pygments_lexer": "ipython3",
   "version": "3.10.2"
  },
  "orig_nbformat": 4
 },
 "nbformat": 4,
 "nbformat_minor": 2
}
