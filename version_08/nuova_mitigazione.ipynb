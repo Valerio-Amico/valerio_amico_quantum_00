{
 "cells": [
  {
   "cell_type": "code",
   "execution_count": 10,
   "metadata": {},
   "outputs": [
    {
     "name": "stdout",
     "output_type": "stream",
     "text": [
      "The autoreload extension is already loaded. To reload it, use:\n",
      "  %reload_ext autoreload\n"
     ]
    },
    {
     "name": "stderr",
     "output_type": "stream",
     "text": [
      "ibmqfactory.load_account:WARNING:2022-04-06 18:19:26,356: Credentials are already in use. The existing account in the session will be replaced.\n"
     ]
    }
   ],
   "source": [
    "import funzioni02 as f2\n",
    "import funzioni01 as f1\n",
    "import qiskit.quantum_info as qi\n",
    "from copy import deepcopy\n",
    "from sympy import *\n",
    "import numpy as np\n",
    "import qiskit.ignis.mitigation.measurement as mc\n",
    "from qiskit import Aer, assemble, QuantumCircuit, QuantumRegister, ClassicalRegister, IBMQ, transpile, execute\n",
    "from qiskit.providers.aer import AerSimulator, QasmSimulator\n",
    "from qiskit.opflow import Zero, One, I, X, Y, Z\n",
    "from qiskit.ignis.verification.tomography import state_tomography_circuits, StateTomographyFitter\n",
    "from qiskit.quantum_info import state_fidelity, Statevector\n",
    "import matplotlib.pyplot as plt\n",
    "import warnings\n",
    "warnings.filterwarnings('ignore')\n",
    "plt.rcParams.update({'font.size': 16})  # enlarge matplotlib fonts\n",
    "plt.rcParams['figure.figsize'] = [15, 10]\n",
    "%load_ext autoreload\n",
    "%autoreload 2\n",
    "\n",
    "IBMQ.load_account()\n",
    "provider = IBMQ.get_provider(hub='ibm-q-community', group='ibmquantumawards', project='open-science-22')\n",
    "\n",
    "sim_noisy_jakarta = QasmSimulator.from_backend(provider.get_backend('ibmq_jakarta'))\n",
    "backend_sim_jakarta = sim_noisy_jakarta \n",
    "backend = provider.get_backend('ibmq_jakarta')\n",
    "backend_sim = Aer.get_backend('qasm_simulator')"
   ]
  },
  {
   "cell_type": "code",
   "execution_count": 11,
   "metadata": {},
   "outputs": [],
   "source": [
    "shots=32000\n",
    "precision=50\n",
    "steps=99\n",
    "backend_aus=backend\n",
    "check=[\"4copy_check\", [0,2,4,6]]\n",
    "evo_type=\"complete_evolution\" # \"column_evolution\" or \"complete_evolution\" or \"trotter_steps\"\n",
    "time=np.pi"
   ]
  },
  {
   "cell_type": "code",
   "execution_count": 3,
   "metadata": {},
   "outputs": [],
   "source": [
    "qr_cal = QuantumRegister(7)\n",
    "qcs, qcs_na = f2.evolution_tomo(type=evo_type, N_steps=steps, tempo=time, precision=precision, initial_state='110', check=check)\n",
    "cal_circ, state_labels = mc.complete_meas_cal(qubit_list=[1,3,5,0,2,4,6], qr=qr_cal, circlabel='mcal') #[1,3,5,0,2,4]\n"
   ]
  },
  {
   "cell_type": "code",
   "execution_count": 4,
   "metadata": {},
   "outputs": [
    {
     "data": {
      "text/html": [
       "<pre style=\"word-wrap: normal;white-space: pre;background: #fff0;line-height: 1.1;font-family: &quot;Courier New&quot;,Courier,monospace\">                            ┌──────────────┐ ░          \n",
       " q_0: ──────────────────────┤0             ├─░──────────\n",
       "           ┌────┐┌─────────┐│              │ ░ ┌─┐      \n",
       " q_1: ─────┤0   ├┤0        ├┤4             ├─░─┤M├──────\n",
       "           │    ││         ││              │ ░ └╥┘      \n",
       " q_2: ─────┤  U ├┤         ├┤1             ├─░──╫───────\n",
       "      ┌───┐│    ││         ││              │ ░  ║ ┌─┐   \n",
       " q_3: ┤ X ├┤1   ├┤1 Mdg_dg ├┤5 4copy_check ├─░──╫─┤M├───\n",
       "      └───┘└────┘│         ││              │ ░  ║ └╥┘   \n",
       " q_4: ───────────┤         ├┤2             ├─░──╫──╫────\n",
       "      ┌───┐      │         ││              │ ░  ║  ║ ┌─┐\n",
       " q_5: ┤ X ├──────┤2        ├┤6             ├─░──╫──╫─┤M├\n",
       "      └───┘      └─────────┘│              │ ░  ║  ║ └╥┘\n",
       " q_6: ──────────────────────┤3             ├─░──╫──╫──╫─\n",
       "                            └──────────────┘ ░  ║  ║  ║ \n",
       "c0: 3/══════════════════════════════════════════╩══╩══╩═\n",
       "                                                0  1  2 </pre>"
      ],
      "text/plain": [
       "                            ┌──────────────┐ ░          \n",
       " q_0: ──────────────────────┤0             ├─░──────────\n",
       "           ┌────┐┌─────────┐│              │ ░ ┌─┐      \n",
       " q_1: ─────┤0   ├┤0        ├┤4             ├─░─┤M├──────\n",
       "           │    ││         ││              │ ░ └╥┘      \n",
       " q_2: ─────┤  U ├┤         ├┤1             ├─░──╫───────\n",
       "      ┌───┐│    ││         ││              │ ░  ║ ┌─┐   \n",
       " q_3: ┤ X ├┤1   ├┤1 Mdg_dg ├┤5 4copy_check ├─░──╫─┤M├───\n",
       "      └───┘└────┘│         ││              │ ░  ║ └╥┘   \n",
       " q_4: ───────────┤         ├┤2             ├─░──╫──╫────\n",
       "      ┌───┐      │         ││              │ ░  ║  ║ ┌─┐\n",
       " q_5: ┤ X ├──────┤2        ├┤6             ├─░──╫──╫─┤M├\n",
       "      └───┘      └─────────┘│              │ ░  ║  ║ └╥┘\n",
       " q_6: ──────────────────────┤3             ├─░──╫──╫──╫─\n",
       "                            └──────────────┘ ░  ║  ║  ║ \n",
       "c0: 3/══════════════════════════════════════════╩══╩══╩═\n",
       "                                                0  1  2 "
      ]
     },
     "execution_count": 4,
     "metadata": {},
     "output_type": "execute_result"
    }
   ],
   "source": [
    "qcs_na[-1].draw()"
   ]
  },
  {
   "cell_type": "code",
   "execution_count": 5,
   "metadata": {},
   "outputs": [],
   "source": [
    "qcs_calib, _ = f2.calibration_cirquits(type=\"complete_evolution_remake\", n_steps=steps, time=time, q_anc=check[1], check=\"yes\", check_type=check[0])\n",
    "                                        # complete_evolution, itself, itself_whole"
   ]
  },
  {
   "cell_type": "code",
   "execution_count": 6,
   "metadata": {},
   "outputs": [
    {
     "data": {
      "text/html": [
       "<pre style=\"word-wrap: normal;white-space: pre;background: #fff0;line-height: 1.1;font-family: &quot;Courier New&quot;,Courier,monospace\">                       ┌──────────────┐      ░          ┌─┐         \n",
       "q29_0: ────────────────┤0             ├──────░──────────┤M├─────────\n",
       "       ┌───┐┌────┐┌───┐│              │┌───┐ ░ ┌─┐      └╥┘         \n",
       "q29_1: ┤ X ├┤0   ├┤ X ├┤4             ├┤ X ├─░─┤M├───────╫──────────\n",
       "       └───┘│    │└───┘│              │└───┘ ░ └╥┘       ║ ┌─┐      \n",
       "q29_2: ─────┤    ├─────┤1             ├──────░──╫────────╫─┤M├──────\n",
       "       ┌───┐│    │┌───┐│              │      ░  ║ ┌─┐    ║ └╥┘      \n",
       "q29_3: ┤ X ├┤1 U ├┤ X ├┤5 4copy_check ├──────░──╫─┤M├────╫──╫───────\n",
       "       └───┘│    │└───┘│              │      ░  ║ └╥┘    ║  ║ ┌─┐   \n",
       "q29_4: ─────┤    ├─────┤2             ├──────░──╫──╫─────╫──╫─┤M├───\n",
       "       ┌───┐│    │┌───┐│              │      ░  ║  ║ ┌─┐ ║  ║ └╥┘   \n",
       "q29_5: ┤ X ├┤2   ├┤ X ├┤6             ├──────░──╫──╫─┤M├─╫──╫──╫────\n",
       "       └───┘└────┘└───┘│              │      ░  ║  ║ └╥┘ ║  ║  ║ ┌─┐\n",
       "q29_6: ────────────────┤3             ├──────░──╫──╫──╫──╫──╫──╫─┤M├\n",
       "                       └──────────────┘      ░  ║  ║  ║  ║  ║  ║ └╥┘\n",
       "c31: 7/═════════════════════════════════════════╩══╩══╩══╩══╩══╩══╩═\n",
       "                                                0  1  2  3  4  5  6 </pre>"
      ],
      "text/plain": [
       "                       ┌──────────────┐      ░          ┌─┐         \n",
       "q29_0: ────────────────┤0             ├──────░──────────┤M├─────────\n",
       "       ┌───┐┌────┐┌───┐│              │┌───┐ ░ ┌─┐      └╥┘         \n",
       "q29_1: ┤ X ├┤0   ├┤ X ├┤4             ├┤ X ├─░─┤M├───────╫──────────\n",
       "       └───┘│    │└───┘│              │└───┘ ░ └╥┘       ║ ┌─┐      \n",
       "q29_2: ─────┤    ├─────┤1             ├──────░──╫────────╫─┤M├──────\n",
       "       ┌───┐│    │┌───┐│              │      ░  ║ ┌─┐    ║ └╥┘      \n",
       "q29_3: ┤ X ├┤1 U ├┤ X ├┤5 4copy_check ├──────░──╫─┤M├────╫──╫───────\n",
       "       └───┘│    │└───┘│              │      ░  ║ └╥┘    ║  ║ ┌─┐   \n",
       "q29_4: ─────┤    ├─────┤2             ├──────░──╫──╫─────╫──╫─┤M├───\n",
       "       ┌───┐│    │┌───┐│              │      ░  ║  ║ ┌─┐ ║  ║ └╥┘   \n",
       "q29_5: ┤ X ├┤2   ├┤ X ├┤6             ├──────░──╫──╫─┤M├─╫──╫──╫────\n",
       "       └───┘└────┘└───┘│              │      ░  ║  ║ └╥┘ ║  ║  ║ ┌─┐\n",
       "q29_6: ────────────────┤3             ├──────░──╫──╫──╫──╫──╫──╫─┤M├\n",
       "                       └──────────────┘      ░  ║  ║  ║  ║  ║  ║ └╥┘\n",
       "c31: 7/═════════════════════════════════════════╩══╩══╩══╩══╩══╩══╩═\n",
       "                                                0  1  2  3  4  5  6 "
      ]
     },
     "execution_count": 6,
     "metadata": {},
     "output_type": "execute_result"
    }
   ],
   "source": [
    "qcs_calib[1].draw()"
   ]
  },
  {
   "cell_type": "code",
   "execution_count": 7,
   "metadata": {},
   "outputs": [],
   "source": [
    "qcs_calib_itself, _ = f2.calibration_cirquits(type=\"itself_whole\", n_steps=steps, time=time, q_anc=check[1], check=\"yes\", check_type=check[0])\n",
    " "
   ]
  },
  {
   "cell_type": "code",
   "execution_count": 8,
   "metadata": {},
   "outputs": [
    {
     "data": {
      "text/html": [
       "<pre style=\"word-wrap: normal;white-space: pre;background: #fff0;line-height: 1.1;font-family: &quot;Courier New&quot;,Courier,monospace\">                   ┌──────────────┐ ░          ┌─┐         \n",
       "q425_0: ───────────┤0             ├─░──────────┤M├─────────\n",
       "        ┌───┐┌────┐│              │ ░ ┌─┐      └╥┘         \n",
       "q425_1: ┤ X ├┤0   ├┤4             ├─░─┤M├───────╫──────────\n",
       "        └───┘│    ││              │ ░ └╥┘       ║ ┌─┐      \n",
       "q425_2: ─────┤    ├┤1             ├─░──╫────────╫─┤M├──────\n",
       "             │    ││              │ ░  ║ ┌─┐    ║ └╥┘      \n",
       "q425_3: ─────┤1 U ├┤5 4copy_check ├─░──╫─┤M├────╫──╫───────\n",
       "             │    ││              │ ░  ║ └╥┘    ║  ║ ┌─┐   \n",
       "q425_4: ─────┤    ├┤2             ├─░──╫──╫─────╫──╫─┤M├───\n",
       "             │    ││              │ ░  ║  ║ ┌─┐ ║  ║ └╥┘   \n",
       "q425_5: ─────┤2   ├┤6             ├─░──╫──╫─┤M├─╫──╫──╫────\n",
       "             └────┘│              │ ░  ║  ║ └╥┘ ║  ║  ║ ┌─┐\n",
       "q425_6: ───────────┤3             ├─░──╫──╫──╫──╫──╫──╫─┤M├\n",
       "                   └──────────────┘ ░  ║  ║  ║  ║  ║  ║ └╥┘\n",
       "c287: 7/═══════════════════════════════╩══╩══╩══╩══╩══╩══╩═\n",
       "                                       0  1  2  3  4  5  6 </pre>"
      ],
      "text/plain": [
       "                   ┌──────────────┐ ░          ┌─┐         \n",
       "q425_0: ───────────┤0             ├─░──────────┤M├─────────\n",
       "        ┌───┐┌────┐│              │ ░ ┌─┐      └╥┘         \n",
       "q425_1: ┤ X ├┤0   ├┤4             ├─░─┤M├───────╫──────────\n",
       "        └───┘│    ││              │ ░ └╥┘       ║ ┌─┐      \n",
       "q425_2: ─────┤    ├┤1             ├─░──╫────────╫─┤M├──────\n",
       "             │    ││              │ ░  ║ ┌─┐    ║ └╥┘      \n",
       "q425_3: ─────┤1 U ├┤5 4copy_check ├─░──╫─┤M├────╫──╫───────\n",
       "             │    ││              │ ░  ║ └╥┘    ║  ║ ┌─┐   \n",
       "q425_4: ─────┤    ├┤2             ├─░──╫──╫─────╫──╫─┤M├───\n",
       "             │    ││              │ ░  ║  ║ ┌─┐ ║  ║ └╥┘   \n",
       "q425_5: ─────┤2   ├┤6             ├─░──╫──╫─┤M├─╫──╫──╫────\n",
       "             └────┘│              │ ░  ║  ║ └╥┘ ║  ║  ║ ┌─┐\n",
       "q425_6: ───────────┤3             ├─░──╫──╫──╫──╫──╫──╫─┤M├\n",
       "                   └──────────────┘ ░  ║  ║  ║  ║  ║  ║ └╥┘\n",
       "c287: 7/═══════════════════════════════╩══╩══╩══╩══╩══╩══╩═\n",
       "                                       0  1  2  3  4  5  6 "
      ]
     },
     "execution_count": 8,
     "metadata": {},
     "output_type": "execute_result"
    }
   ],
   "source": [
    "qcs_calib_itself[1].draw()"
   ]
  },
  {
   "cell_type": "code",
   "execution_count": 9,
   "metadata": {},
   "outputs": [],
   "source": [
    "job=execute(qcs, backend_aus, shots=shots)\n",
    "\n",
    "job_cal_our_identity=execute(qcs_calib, backend = backend_aus, shots=shots)\n",
    "\n",
    "job_cal_our_itself_new=execute(qcs_calib_itself, backend = backend_aus, shots=shots)\n",
    "\n",
    "job_cal=execute(cal_circ, backend_aus, shots=shots)"
   ]
  },
  {
   "cell_type": "code",
   "execution_count": 37,
   "metadata": {},
   "outputs": [],
   "source": [
    "qc_ausiliare = QuantumCircuit(7)\n",
    "\n",
    "qc_ausiliare.swap(5,4)\n",
    "qc_ausiliare.swap(5,2)\n",
    "qc_ausiliare.swap(1,3)\n",
    "qc_ausiliare.swap(0,1)\n",
    "\n",
    "qc_ausiliare2=qcs_calib[0].copy()\n",
    "qc_ausiliare2.remove_final_measurements()\n",
    "\n",
    "qc_ausiliare.append(qc_ausiliare2,[0,1,2,3,4,5,6])\n",
    "\n",
    "qc_ausiliare.swap(0,1)\n",
    "qc_ausiliare.swap(1,3)\n",
    "qc_ausiliare.swap(5,2)\n",
    "qc_ausiliare.swap(5,4)\n",
    "\n",
    "U = f2.matrix_from_cirquit(qc_ausiliare, type=\"numpy\")\n",
    "# Matrix(U)"
   ]
  },
  {
   "cell_type": "code",
   "execution_count": 38,
   "metadata": {},
   "outputs": [],
   "source": [
    "meas_fitter_our = mc.CompleteMeasFitter(job_cal_our.result(), state_labels=state_labels)\n",
    "meas_fitter = mc.CompleteMeasFitter(job_cal.result(), state_labels=state_labels)\n",
    "\n",
    "U_tilde=meas_fitter_our.cal_matrix"
   ]
  },
  {
   "cell_type": "code",
   "execution_count": 39,
   "metadata": {},
   "outputs": [],
   "source": [
    "qr_basi = QuantumRegister(7)\n",
    "qc_basi = QuantumCircuit(qr_basi)\n",
    "\n",
    "#qc_basi.swap(5,4)\n",
    "#qc_basi.swap(5,2)\n",
    "#qc_basi.swap(1,3)\n",
    "#qc_basi.swap(0,1)\n",
    "\n",
    "qcs_basi = state_tomography_circuits(qc_basi,[0,1,2])\n",
    "\n",
    "\n",
    "C_matrices = []\n",
    "C=U_tilde # @ np.asarray(np.matrix(U).getH())\n",
    "\n",
    "for qca in qcs_basi:\n",
    "    \n",
    "    qca.remove_final_measurements()\n",
    "\n",
    "    #qca.swap(0,1)\n",
    "    #qca.swap(1,3)\n",
    "    #qca.swap(5,2)\n",
    "    #qca.swap(5,4)\n",
    "\n",
    "    qca_matrix = np.matrix(f2.matrix_from_cirquit(qca, type=\"numpy\"))\n",
    "    qca_matrixH = np.asarray(qca_matrix.getH())\n",
    "\n",
    "    C_aus = qca_matrix @ (C @ qca_matrixH)\n",
    "\n",
    "    C_matrices.append(np.asarray(C_aus))"
   ]
  },
  {
   "cell_type": "code",
   "execution_count": 40,
   "metadata": {},
   "outputs": [],
   "source": [
    "from copy import deepcopy\n",
    "meas_fitter_ours = []\n",
    "\n",
    "for C_new in C_matrices:\n",
    "    meas_fitter_our_aus = deepcopy(meas_fitter_our)\n",
    "    meas_fitter_our_aus._tens_fitt.cal_matrices[0]=C_new\n",
    "\n",
    "    meas_fitter_ours.append(meas_fitter_our_aus)\n",
    "\n"
   ]
  },
  {
   "cell_type": "code",
   "execution_count": 41,
   "metadata": {},
   "outputs": [
    {
     "data": {
      "text/plain": [
       "(128, 128)"
      ]
     },
     "execution_count": 41,
     "metadata": {},
     "output_type": "execute_result"
    }
   ],
   "source": [
    "np.shape(meas_fitter.cal_matrix)"
   ]
  },
  {
   "cell_type": "code",
   "execution_count": 42,
   "metadata": {},
   "outputs": [
    {
     "data": {
      "text/plain": [
       "(128, 128)"
      ]
     },
     "execution_count": 42,
     "metadata": {},
     "output_type": "execute_result"
    }
   ],
   "source": [
    "np.shape(meas_fitter_ours[0].cal_matrix)"
   ]
  },
  {
   "cell_type": "code",
   "execution_count": 43,
   "metadata": {},
   "outputs": [],
   "source": [
    "U = f2.Trotter_N_approx(steps=steps, tempo=time, precision=precision)\n",
    "\n",
    "U2=[\n",
    "    [U[3*8+3],U[3*8+5],U[3*8+6],0],\n",
    "    [U[5*8+3],U[5*8+5],U[5*8+6],0],\n",
    "    [U[6*8+3],U[6*8+5],U[6*8+6],0],\n",
    "    [0,0,0,1]\n",
    "]\n",
    "\n",
    "qc=QuantumCircuit(2, name=\"U, t=%.2f pi\"%(time/np.pi))\n",
    "qc.unitary(U2,[0,1])    \n",
    "trans_qc=transpile(qc,basis_gates=['cx','x','sx','rz']) \n",
    "\n",
    "qr2=QuantumRegister(3, name=\"q\")\n",
    "qc2=QuantumCircuit(qr2)\n",
    "\n",
    "#qc2.x([qr2[1],qr2[2]])\n",
    "qc2.append(trans_qc,[qr2[0],qr2[1]])\n",
    "qc2.append(f2.Mdg_circquit().inverse(),[qr2[0],qr2[1],qr2[2]])\n",
    "\n",
    "target_state = Statevector.from_instruction(qc2)"
   ]
  },
  {
   "cell_type": "code",
   "execution_count": 44,
   "metadata": {},
   "outputs": [
    {
     "data": {
      "text/html": [
       "<pre style=\"word-wrap: normal;white-space: pre;background: #fff0;line-height: 1.1;font-family: &quot;Courier New&quot;,Courier,monospace\">     ┌───────────────┐┌─────────┐\n",
       "q_0: ┤0              ├┤0        ├\n",
       "     │  U, t=1.00 pi ││         │\n",
       "q_1: ┤1              ├┤1 Mdg_dg ├\n",
       "     └───────────────┘│         │\n",
       "q_2: ─────────────────┤2        ├\n",
       "                      └─────────┘</pre>"
      ],
      "text/plain": [
       "     ┌───────────────┐┌─────────┐\n",
       "q_0: ┤0              ├┤0        ├\n",
       "     │  U, t=1.00 pi ││         │\n",
       "q_1: ┤1              ├┤1 Mdg_dg ├\n",
       "     └───────────────┘│         │\n",
       "q_2: ─────────────────┤2        ├\n",
       "                      └─────────┘"
      ]
     },
     "execution_count": 44,
     "metadata": {},
     "output_type": "execute_result"
    }
   ],
   "source": [
    "#qcs2=\n",
    "qc2.draw()"
   ]
  },
  {
   "cell_type": "code",
   "execution_count": 45,
   "metadata": {},
   "outputs": [
    {
     "data": {
      "text/latex": [
       "$\\displaystyle \\left[\\begin{matrix}0 & 0 & 0 & 1.0 & 0 & 0 & 0 & 0\\\\0.0001020679 - 0.0021063946 i & -9.87301 \\cdot 10^{-5} + 0.0010531973 i & 0.9999966622 + 0.0010531973 i & 0 & 0 & 0 & 0 & 0\\\\-9.87301 \\cdot 10^{-5} + 0.0010531973 i & 0.9999966622 - 0.0021063946 i & 0.0001020679 + 0.0010531973 i & 0 & 0 & 0 & 0 & 0\\\\0 & 0 & 0 & 0 & 0.9999966622 + 0.0010531973 i & 0.0001020679 + 0.0010531973 i & -9.87301 \\cdot 10^{-5} - 0.0021063946 i & 0\\\\0.9999966622 + 0.0010531973 i & 0.0001020679 + 0.0010531973 i & -9.87301 \\cdot 10^{-5} - 0.0021063946 i & 0 & 0 & 0 & 0 & 0\\\\0 & 0 & 0 & 0 & -9.87301 \\cdot 10^{-5} + 0.0010531973 i & 0.9999966622 - 0.0021063946 i & 0.0001020679 + 0.0010531973 i & 0\\\\0 & 0 & 0 & 0 & 0.0001020679 - 0.0021063946 i & -9.87301 \\cdot 10^{-5} + 0.0010531973 i & 0.9999966622 + 0.0010531973 i & 0\\\\0 & 0 & 0 & 0 & 0 & 0 & 0 & 1.0\\end{matrix}\\right]$"
      ],
      "text/plain": [
       "Matrix([\n",
       "[                            0,                             0,                             0, 1.0,                             0,                             0,                             0,   0],\n",
       "[0.0001020679 - 0.0021063946*I,  -9.87301e-5 + 0.0010531973*I, 0.9999966622 + 0.0010531973*I,   0,                             0,                             0,                             0,   0],\n",
       "[ -9.87301e-5 + 0.0010531973*I, 0.9999966622 - 0.0021063946*I, 0.0001020679 + 0.0010531973*I,   0,                             0,                             0,                             0,   0],\n",
       "[                            0,                             0,                             0,   0, 0.9999966622 + 0.0010531973*I, 0.0001020679 + 0.0010531973*I,  -9.87301e-5 - 0.0021063946*I,   0],\n",
       "[0.9999966622 + 0.0010531973*I, 0.0001020679 + 0.0010531973*I,  -9.87301e-5 - 0.0021063946*I,   0,                             0,                             0,                             0,   0],\n",
       "[                            0,                             0,                             0,   0,  -9.87301e-5 + 0.0010531973*I, 0.9999966622 - 0.0021063946*I, 0.0001020679 + 0.0010531973*I,   0],\n",
       "[                            0,                             0,                             0,   0, 0.0001020679 - 0.0021063946*I,  -9.87301e-5 + 0.0010531973*I, 0.9999966622 + 0.0010531973*I,   0],\n",
       "[                            0,                             0,                             0,   0,                             0,                             0,                             0, 1.0]])"
      ]
     },
     "execution_count": 45,
     "metadata": {},
     "output_type": "execute_result"
    }
   ],
   "source": [
    "f2.matrix_from_cirquit(qc2)"
   ]
  },
  {
   "cell_type": "code",
   "execution_count": 46,
   "metadata": {},
   "outputs": [],
   "source": [
    "#target_state = (np.asarray(target_state))\n",
    "#target_state"
   ]
  },
  {
   "cell_type": "code",
   "execution_count": 47,
   "metadata": {},
   "outputs": [],
   "source": [
    "target_state=((One^One^Zero).to_matrix())\n"
   ]
  },
  {
   "cell_type": "code",
   "execution_count": 48,
   "metadata": {},
   "outputs": [
    {
     "name": "stdout",
     "output_type": "stream",
     "text": [
      "0\n",
      "0\n",
      "tens_fitt\n",
      "1\n",
      "tens_fitt\n",
      "2\n",
      "tens_fitt\n",
      "3\n",
      "tens_fitt\n",
      "4\n",
      "tens_fitt\n",
      "5\n",
      "tens_fitt\n",
      "6\n",
      "tens_fitt\n",
      "7\n",
      "tens_fitt\n",
      "8\n",
      "tens_fitt\n",
      "9\n",
      "tens_fitt\n",
      "10\n",
      "tens_fitt\n",
      "11\n",
      "tens_fitt\n",
      "12\n",
      "tens_fitt\n",
      "13\n",
      "tens_fitt\n",
      "14\n",
      "tens_fitt\n",
      "15\n",
      "tens_fitt\n",
      "16\n",
      "tens_fitt\n",
      "17\n",
      "tens_fitt\n",
      "18\n",
      "tens_fitt\n",
      "19\n",
      "tens_fitt\n",
      "20\n",
      "tens_fitt\n",
      "21\n",
      "tens_fitt\n",
      "22\n",
      "tens_fitt\n",
      "23\n",
      "tens_fitt\n",
      "24\n",
      "tens_fitt\n",
      "25\n",
      "tens_fitt\n",
      "26\n",
      "tens_fitt\n",
      "0\n",
      "0 (128, 128)\n",
      "deepcopy\n",
      "1\n",
      "1 (128, 128)\n",
      "deepcopy\n",
      "2\n",
      "2 (128, 128)\n",
      "deepcopy\n",
      "3\n",
      "3 (128, 128)\n",
      "deepcopy\n",
      "4\n",
      "4 (128, 128)\n",
      "deepcopy\n",
      "5\n",
      "5 (128, 128)\n",
      "deepcopy\n",
      "6\n",
      "6 (128, 128)\n",
      "deepcopy\n",
      "7\n",
      "7 (128, 128)\n",
      "deepcopy\n",
      "8\n",
      "8 (128, 128)\n",
      "deepcopy\n",
      "9\n",
      "9 (128, 128)\n",
      "deepcopy\n",
      "10\n",
      "10 (128, 128)\n",
      "deepcopy\n",
      "11\n",
      "11 (128, 128)\n",
      "deepcopy\n",
      "12\n",
      "12 (128, 128)\n",
      "deepcopy\n",
      "13\n",
      "13 (128, 128)\n",
      "deepcopy\n",
      "14\n",
      "14 (128, 128)\n",
      "deepcopy\n",
      "15\n",
      "15 (128, 128)\n",
      "deepcopy\n",
      "16\n",
      "16 (128, 128)\n",
      "deepcopy\n",
      "17\n",
      "17 (128, 128)\n",
      "deepcopy\n",
      "18\n",
      "18 (128, 128)\n",
      "deepcopy\n",
      "19\n",
      "19 (128, 128)\n",
      "deepcopy\n",
      "20\n",
      "20 (128, 128)\n",
      "deepcopy\n",
      "21\n",
      "21 (128, 128)\n",
      "deepcopy\n",
      "22\n",
      "22 (128, 128)\n",
      "deepcopy\n",
      "23\n",
      "23 (128, 128)\n",
      "deepcopy\n",
      "24\n",
      "24 (128, 128)\n",
      "deepcopy\n",
      "25\n",
      "25 (128, 128)\n",
      "deepcopy\n",
      "26\n",
      "26 (128, 128)\n",
      "deepcopy\n",
      "[[ 9.25625679e-03+0.j          4.61232689e-04-0.00038946j\n",
      "  -1.33759523e-04-0.00105846j -5.40349907e-04+0.00031075j\n",
      "   3.77780336e-04-0.00178134j -1.61611318e-03-0.00014488j\n",
      "   4.34931857e-04-0.00054928j -5.02192798e-04-0.00054928j]\n",
      " [ 4.61232689e-04+0.00038946j  1.36028255e-02+0.j\n",
      "  -2.68538915e-04-0.0005546j   2.37878382e-04+0.00012759j\n",
      "   2.27775399e-04-0.0002393j   1.93641933e-04-0.00067659j\n",
      "  -4.16227242e-04-0.00255562j -1.27331024e-04-0.00019084j]\n",
      " [-1.33759523e-04+0.00105846j -2.68538915e-04+0.0005546j\n",
      "   4.43189926e-02+0.j          6.36914288e-04-0.00078725j\n",
      "   1.62639134e-03-0.00101384j  1.63691616e-03+0.0039592j\n",
      "   6.25490490e-03-0.0058484j   7.92183107e-04-0.00095107j]\n",
      " [-5.40349907e-04-0.00031075j  2.37878382e-04-0.00012759j\n",
      "   6.36914288e-04+0.00078725j  3.17462034e-02+0.j\n",
      "  -2.98290463e-03+0.00209534j -8.46942986e-04+0.00062872j\n",
      "  -4.59001943e-04-0.0005538j   1.82194538e-03-0.0004585j ]\n",
      " [ 3.77780336e-04+0.00178134j  2.27775399e-04+0.0002393j\n",
      "   1.62639134e-03+0.00101384j -2.98290463e-03-0.00209534j\n",
      "   5.51770541e-02+0.j          1.34258823e-03-0.00171096j\n",
      "   7.88983557e-03-0.00533463j  8.02680848e-04-0.00048836j]\n",
      " [-1.61611318e-03+0.00014488j  1.93641933e-04+0.00067659j\n",
      "   1.63691616e-03-0.0039592j  -8.46942986e-04-0.00062872j\n",
      "   1.34258823e-03+0.00171096j  5.08053075e-02+0.j\n",
      "   2.49835559e-03+0.00017477j -6.38531083e-05-0.0008402j ]\n",
      " [ 4.34931857e-04+0.00054928j -4.16227242e-04+0.00255562j\n",
      "   6.25490490e-03+0.0058484j  -4.59001943e-04+0.0005538j\n",
      "   7.88983557e-03+0.00533463j  2.49835559e-03-0.00017477j\n",
      "   7.26144674e-01+0.j          1.16595687e-02-0.01034591j]\n",
      " [-5.02192798e-04+0.00054928j -1.27331024e-04+0.00019084j\n",
      "   7.92183107e-04+0.00095107j  1.82194538e-03+0.0004585j\n",
      "   8.02680848e-04+0.00048836j -6.38531083e-05+0.0008402j\n",
      "   1.16595687e-02+0.01034591j  6.89486863e-02+0.j        ]]\n",
      "attenzione ho invertito gli arg di state_fidelity\n",
      "[[ 1.64477744e-03+0.00000000e+00j  5.61563671e-05-2.07537948e-04j\n",
      "  -3.70166155e-04-7.40853231e-04j -3.79939185e-04+9.53284133e-05j\n",
      "   3.16564055e-04-8.28234460e-04j -1.73581611e-03-6.11121504e-04j\n",
      "   7.27956691e-04+3.19467394e-05j  1.15399795e-03+1.47733905e-04j]\n",
      " [ 5.61563671e-05+2.07537948e-04j  4.19941197e-03+0.00000000e+00j\n",
      "   1.23429295e-04-7.80099101e-04j  1.42451901e-04-1.11856352e-04j\n",
      "  -1.81493623e-04-7.27752087e-04j  2.53362259e-05-4.30519366e-04j\n",
      "  -5.33111189e-04-1.28234994e-03j  4.46910834e-04-5.83332660e-04j]\n",
      " [-3.70166155e-04+7.40853231e-04j  1.23429295e-04+7.80099101e-04j\n",
      "   4.07734809e-02+0.00000000e+00j  6.71693581e-04-9.06103087e-04j\n",
      "   1.93506555e-03-7.82967946e-04j  1.77414476e-03+4.05013054e-03j\n",
      "   7.21215359e-03-7.14565142e-03j  1.12145769e-03-1.10513161e-03j]\n",
      " [-3.79939185e-04-9.53284133e-05j  1.42451901e-04+1.11856352e-04j\n",
      "   6.71693581e-04+9.06103087e-04j  3.35638918e-02+0.00000000e+00j\n",
      "  -4.19649836e-03+2.27105058e-03j -7.70485048e-04+3.28196479e-04j\n",
      "  -3.47512917e-04+4.79546422e-04j  1.58500532e-03-7.18145559e-04j]\n",
      " [ 3.16564055e-04+8.28234460e-04j -1.81493623e-04+7.27752087e-04j\n",
      "   1.93506555e-03+7.82967946e-04j -4.19649836e-03-2.27105058e-03j\n",
      "   3.46105420e-02+0.00000000e+00j  1.30602807e-03-1.64001840e-03j\n",
      "   7.92350727e-03-5.84343719e-03j  4.05236004e-04-6.81439533e-04j]\n",
      " [-1.73581611e-03+6.11121504e-04j  2.53362259e-05+4.30519366e-04j\n",
      "   1.77414476e-03-4.05013054e-03j -7.70485048e-04-3.28196479e-04j\n",
      "   1.30602807e-03+1.64001840e-03j  5.38531083e-02+0.00000000e+00j\n",
      "   2.73081770e-03-3.60319793e-04j -2.17254968e-04-9.15961229e-04j]\n",
      " [ 7.27956691e-04-3.19467394e-05j -5.33111189e-04+1.28234994e-03j\n",
      "   7.21215359e-03+7.14565142e-03j -3.47512917e-04-4.79546422e-04j\n",
      "   7.92350727e-03+5.84343719e-03j  2.73081770e-03+3.60319793e-04j\n",
      "   8.03098486e-01+0.00000000e+00j  1.10208659e-02-1.04514600e-02j]\n",
      " [ 1.15399795e-03-1.47733905e-04j  4.46910834e-04+5.83332660e-04j\n",
      "   1.12145769e-03+1.10513161e-03j  1.58500532e-03+7.18145559e-04j\n",
      "   4.05236004e-04+6.81439533e-04j -2.17254968e-04+9.15961229e-04j\n",
      "   1.10208659e-02+1.04514600e-02j  2.82563013e-02+0.00000000e+00j]]\n",
      "attenzione ho invertito gli arg di state_fidelity\n",
      "[[ 5.77175834e-04+0.00000000e+00j  2.77409396e-04-4.29313687e-05j\n",
      "  -7.41757245e-04-2.09469466e-04j -3.86032017e-04+1.96958052e-05j\n",
      "  -1.99859095e-04-3.19038583e-04j -2.04896938e-03-1.26031082e-03j\n",
      "   7.90908212e-04+8.12126846e-04j  1.19942099e-03+5.67674325e-05j]\n",
      " [ 2.77409396e-04+4.29313687e-05j  3.95637485e-04+0.00000000e+00j\n",
      "   9.97787545e-07-7.46686199e-04j -3.28634478e-04+1.60477704e-04j\n",
      "   3.06508383e-04-9.22010370e-04j -6.31340069e-04+2.12287453e-04j\n",
      "  -5.42703960e-04-1.67407138e-03j  5.67790619e-04-6.17512032e-04j]\n",
      " [-7.41757245e-04+2.09469466e-04j  9.97787545e-07+7.46686199e-04j\n",
      "   3.85793212e-03+0.00000000e+00j -1.48129746e-04-2.53826915e-04j\n",
      "   1.62975104e-03-8.98089349e-04j  2.27848481e-03+4.73853587e-03j\n",
      "   7.03057341e-04-7.31037449e-04j  1.28125486e-03-8.14684380e-04j]\n",
      " [-3.86032017e-04-1.96958052e-05j -3.28634478e-04-1.60477704e-04j\n",
      "  -1.48129746e-04+2.53826915e-04j  3.51117260e-02+0.00000000e+00j\n",
      "  -4.88941719e-03+2.93320632e-03j -1.09782966e-03+3.80338980e-04j\n",
      "  -8.51875927e-04+6.62364035e-04j  1.16131660e-03-2.42729375e-04j]\n",
      " [-1.99859095e-04+3.19038583e-04j  3.06508383e-04+9.22010370e-04j\n",
      "   1.62975104e-03+8.98089349e-04j -4.88941719e-03-2.93320632e-03j\n",
      "   8.64803448e-03+0.00000000e+00j -2.51813912e-04-2.58629310e-04j\n",
      "   1.03409739e-03+1.21161502e-03j  4.08088570e-04+1.61295782e-04j]\n",
      " [-2.04896938e-03+1.26031082e-03j -6.31340069e-04-2.12287453e-04j\n",
      "   2.27848481e-03-4.73853587e-03j -1.09782966e-03-3.80338980e-04j\n",
      "  -2.51813912e-04+2.58629310e-04j  5.95934062e-02+0.00000000e+00j\n",
      "   2.38843557e-03-5.68923342e-04j -4.88032786e-04-5.93930021e-04j]\n",
      " [ 7.90908212e-04-8.12126846e-04j -5.42703960e-04+1.67407138e-03j\n",
      "   7.03057341e-04+7.31037449e-04j -8.51875927e-04-6.62364035e-04j\n",
      "   1.03409739e-03-1.21161502e-03j  2.38843557e-03+5.68923342e-04j\n",
      "   8.84468977e-01+0.00000000e+00j -2.06718891e-03+2.74316098e-03j]\n",
      " [ 1.19942099e-03-5.67674325e-05j  5.67790619e-04+6.17512032e-04j\n",
      "   1.28125486e-03+8.14684380e-04j  1.16131660e-03+2.42729375e-04j\n",
      "   4.08088570e-04-1.61295782e-04j -4.88032786e-04+5.93930021e-04j\n",
      "  -2.06718891e-03-2.74316098e-03j  7.34711078e-03+0.00000000e+00j]]\n",
      "attenzione ho invertito gli arg di state_fidelity\n",
      "[[ 5.83448791e-05+0.00000000e+00j -1.07439428e-05-1.12482214e-05j\n",
      "  -1.57127724e-04+1.67045705e-04j  8.00120502e-05+4.62741164e-05j\n",
      "   3.02377971e-05+1.80008369e-05j -7.00360216e-04-2.09333448e-04j\n",
      "   1.17281917e-03-8.92247639e-05j  3.20367075e-04+8.60433603e-05j]\n",
      " [-1.07439428e-05+1.12482214e-05j  3.82923366e-05+0.00000000e+00j\n",
      "  -3.13704730e-05-1.09415386e-04j  1.02899863e-04-7.67449139e-05j\n",
      "  -1.38952002e-04+2.40619138e-04j  3.83922065e-04-3.57075315e-04j\n",
      "  -8.44331244e-04-2.02670094e-03j -1.11965552e-04-2.45897974e-05j]\n",
      " [-1.57127724e-04-1.67045705e-04j -3.13704730e-05+1.09415386e-04j\n",
      "   1.06834412e-03+0.00000000e+00j -1.50373901e-04-1.36358511e-05j\n",
      "  -1.29160457e-04-7.50105134e-04j  1.35352041e-03+3.10333940e-03j\n",
      "  -2.05786931e-03-9.51243627e-03j -6.07180678e-04-1.05582754e-03j]\n",
      " [ 8.00120502e-05-4.62741164e-05j  1.02899863e-04+7.67449139e-05j\n",
      "  -1.50373901e-04+1.36358511e-05j  1.02142350e-03+0.00000000e+00j\n",
      "  -1.43846785e-03+6.59961985e-04j  4.63335354e-04-3.54890675e-05j\n",
      "  -1.67892206e-03-1.52487688e-04j  7.82116253e-04-4.33296498e-04j]\n",
      " [ 3.02377971e-05-1.80008369e-05j -1.38952002e-04-2.40619138e-04j\n",
      "  -1.29160457e-04+7.50105134e-04j -1.43846785e-03-6.59961985e-04j\n",
      "   3.13804237e-03+0.00000000e+00j -3.33012773e-03-7.62199185e-04j\n",
      "   5.99615021e-03-7.52245897e-03j -6.41013276e-04+2.42101208e-04j]\n",
      " [-7.00360216e-04+2.09333448e-04j  3.83922065e-04+3.57075315e-04j\n",
      "   1.35352041e-03-3.10333940e-03j  4.63335354e-04+3.54890675e-05j\n",
      "  -3.33012773e-03+7.62199185e-04j  1.27091713e-02+0.00000000e+00j\n",
      "   1.93412783e-03-1.12856205e-03j -3.62508737e-03-7.23335723e-04j]\n",
      " [ 1.17281917e-03+8.92247639e-05j -8.44331244e-04+2.02670094e-03j\n",
      "  -2.05786931e-03+9.51243627e-03j -1.67892206e-03+1.52487688e-04j\n",
      "   5.99615021e-03+7.52245897e-03j  1.93412783e-03+1.12856205e-03j\n",
      "   9.79603302e-01+0.00000000e+00j  7.05307882e-03-1.33794897e-02j]\n",
      " [ 3.20367075e-04-8.60433603e-05j -1.11965552e-04+2.45897974e-05j\n",
      "  -6.07180678e-04+1.05582754e-03j  7.82116253e-04+4.33296498e-04j\n",
      "  -6.41013276e-04-2.42101208e-04j -3.62508737e-03+7.23335723e-04j\n",
      "   7.05307882e-03+1.33794897e-02j  2.36307947e-03+0.00000000e+00j]]\n",
      "attenzione ho invertito gli arg di state_fidelity\n"
     ]
    }
   ],
   "source": [
    "reps=1\n",
    "\n",
    "#target_state = (One^One^Zero).to_matrix()\n",
    "\n",
    "fids=np.zeros([reps,4])\n",
    "fids_mean=np.zeros(4)\n",
    "fids_dev=np.zeros(4)\n",
    "\n",
    "for j in range(reps):\n",
    "    \n",
    "    #res = jobs_evo_result[j]\n",
    "    res=job.result()\n",
    "\n",
    "    print(j)\n",
    "    \n",
    "    new_res, new_res_nm = f2.mitigate(res, ancillas_conditions=['0011','1110','1101'], meas_fitter=meas_fitter)\n",
    "    new_res_our, new_res_nm = f2.mitigate(res, ancillas_conditions=['0011','1110','1101'], meas_fitter=meas_fitter_ours)\n",
    "    new_res_not_mitigated = f2.mitigate(res, ancillas_conditions=f2.bin_list(4))\n",
    "\n",
    "    fids[j,0] = f2.fidelity_count(new_res_not_mitigated, qcs_na, target_state)\n",
    "    fids[j,1] = f2.fidelity_count(new_res_nm, qcs_na, target_state)\n",
    "    fids[j,2] = f2.fidelity_count(new_res, qcs_na, target_state)\n",
    "    fids[j,3] = f2.fidelity_count(new_res_our, qcs_na, target_state)\n",
    "\n",
    "for i in range(4):\n",
    "    fids_mean[i]=np.mean(fids[:,i])\n",
    "    fids_dev[i]=np.std(fids[:,i])\n"
   ]
  },
  {
   "cell_type": "code",
   "execution_count": 49,
   "metadata": {},
   "outputs": [
    {
     "data": {
      "text/plain": [
       "array([0.72614467, 0.80309849, 0.88446898, 0.9796033 ])"
      ]
     },
     "execution_count": 49,
     "metadata": {},
     "output_type": "execute_result"
    }
   ],
   "source": [
    "fids_mean"
   ]
  },
  {
   "cell_type": "code",
   "execution_count": 43,
   "metadata": {},
   "outputs": [],
   "source": [
    "def H_heis3():\n",
    "    # Interactions (I is the identity matrix; X, Y, and Z are Pauli matricies; ^ is a tensor product)\n",
    "    XXs = (I^X^X) + (X^X^I)\n",
    "    YYs = (I^Y^Y) + (Y^Y^I)\n",
    "    ZZs = (I^Z^Z) + (Z^Z^I)\n",
    "    \n",
    "    # Sum interactions\n",
    "    H = XXs + YYs + ZZs\n",
    "    \n",
    "    # Return Hamiltonian\n",
    "    return H\n",
    "\n",
    "def U_heis3(t):\n",
    "    # Compute XXX Hamiltonian for 3 spins in a line\n",
    "    H = H_heis3()\n",
    "    \n",
    "    # Return the exponential of -i multipled by time t multipled by the 3 spin XXX Heisenberg Hamilonian \n",
    "    return (t * H).exp_i()"
   ]
  },
  {
   "cell_type": "code",
   "execution_count": 44,
   "metadata": {},
   "outputs": [
    {
     "data": {
      "text/plain": [
       "1.0000000000000009"
      ]
     },
     "execution_count": 44,
     "metadata": {},
     "output_type": "execute_result"
    }
   ],
   "source": [
    "initial_state = One^One^Zero\n",
    "target_state2 = U_heis3(float(time)) @ initial_state #Zero^One^One\n",
    "\n",
    "np.abs((~target_state2 @ U_heis3(float(time)) @ initial_state).eval())**2"
   ]
  },
  {
   "cell_type": "markdown",
   "metadata": {},
   "source": [
    "$\\hbar$"
   ]
  },
  {
   "cell_type": "markdown",
   "metadata": {},
   "source": []
  }
 ],
 "metadata": {
  "interpreter": {
   "hash": "aee8b7b246df8f9039afb4144a1f6fd8d2ca17a180786b69acc140d282b71a49"
  },
  "kernelspec": {
   "display_name": "Python 3.10.2 64-bit",
   "language": "python",
   "name": "python3"
  },
  "language_info": {
   "codemirror_mode": {
    "name": "ipython",
    "version": 3
   },
   "file_extension": ".py",
   "mimetype": "text/x-python",
   "name": "python",
   "nbconvert_exporter": "python",
   "pygments_lexer": "ipython3",
   "version": "3.10.2"
  },
  "orig_nbformat": 4
 },
 "nbformat": 4,
 "nbformat_minor": 2
}
