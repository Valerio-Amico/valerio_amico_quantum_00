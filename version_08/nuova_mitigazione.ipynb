{
 "cells": [
  {
   "cell_type": "code",
   "execution_count": 58,
   "metadata": {},
   "outputs": [
    {
     "name": "stdout",
     "output_type": "stream",
     "text": [
      "The autoreload extension is already loaded. To reload it, use:\n",
      "  %reload_ext autoreload\n"
     ]
    },
    {
     "name": "stderr",
     "output_type": "stream",
     "text": [
      "ibmqfactory.load_account:WARNING:2022-04-09 14:23:38,455: Credentials are already in use. The existing account in the session will be replaced.\n"
     ]
    }
   ],
   "source": [
    "import funzioni02 as f2\n",
    "import funzioni01 as f1\n",
    "import qiskit.quantum_info as qi\n",
    "from copy import deepcopy\n",
    "from sympy import *\n",
    "import numpy as np\n",
    "import qiskit.ignis.mitigation.measurement as mc\n",
    "from qiskit import Aer, assemble, QuantumCircuit, QuantumRegister, ClassicalRegister, IBMQ, transpile, execute\n",
    "from qiskit.providers.aer import AerSimulator, QasmSimulator\n",
    "from qiskit.opflow import Zero, One, I, X, Y, Z\n",
    "from qiskit.ignis.verification.tomography import state_tomography_circuits, StateTomographyFitter\n",
    "from qiskit.quantum_info import state_fidelity, Statevector\n",
    "import matplotlib.pyplot as plt\n",
    "import warnings\n",
    "warnings.filterwarnings('ignore')\n",
    "plt.rcParams.update({'font.size': 16})  # enlarge matplotlib fonts\n",
    "plt.rcParams['figure.figsize'] = [15, 10]\n",
    "%load_ext autoreload\n",
    "%autoreload 2\n",
    "\n",
    "IBMQ.load_account()\n",
    "provider = IBMQ.get_provider(hub='ibm-q-community', group='ibmquantumawards', project='open-science-22')\n",
    "\n",
    "sim_noisy_jakarta = QasmSimulator.from_backend(provider.get_backend('ibmq_jakarta'))\n",
    "backend_sim_jakarta = sim_noisy_jakarta \n",
    "backend = provider.get_backend('ibmq_jakarta')\n",
    "backend_sim = Aer.get_backend('qasm_simulator')"
   ]
  },
  {
   "cell_type": "code",
   "execution_count": 59,
   "metadata": {},
   "outputs": [],
   "source": [
    "shots=32000\n",
    "precision=50\n",
    "steps=99\n",
    "check=[\"4copy_check\", [0,2,4,6]]\n",
    "evo_type=\"complete_evolution\"\n",
    "time=np.pi\n",
    "\n",
    "backend_aus=backend_sim_jakarta\n",
    "\n",
    "id_tomo = \"624dbafbf65d78c03a38fbb6\"\n",
    "id_cal_identity = \"624dbafe182d0267144c22e8\"\n",
    "id_cal_itself = \"624dbb01cfe45c43e6e59cbd\"\n",
    "id_cal_qiskit = \"624dbb03aacb9beb455f46e3\""
   ]
  },
  {
   "cell_type": "code",
   "execution_count": 60,
   "metadata": {},
   "outputs": [],
   "source": [
    "job=backend.retrieve_job(id_tomo)\n",
    "\n",
    "job_cal_our_identity=backend.retrieve_job(id_cal_identity)\n",
    "\n",
    "job_cal_our_itself_new=backend.retrieve_job(id_cal_itself)\n",
    "\n",
    "job_cal=backend.retrieve_job(id_cal_qiskit)"
   ]
  },
  {
   "cell_type": "code",
   "execution_count": 61,
   "metadata": {},
   "outputs": [],
   "source": [
    "qr_cal = QuantumRegister(7)\n",
    "qcs, qcs_na = f2.evolution_tomo(type=evo_type, N_steps=steps, tempo=time, precision=precision, initial_state='110', check=check)\n",
    "cal_circ, state_labels = mc.complete_meas_cal(qubit_list=[1,3,5,0,2,4,6], qr=qr_cal, circlabel='mcal') #[1,3,5,0,2,4]\n"
   ]
  },
  {
   "cell_type": "code",
   "execution_count": 5,
   "metadata": {},
   "outputs": [
    {
     "data": {
      "text/html": [
       "<pre style=\"word-wrap: normal;white-space: pre;background: #fff0;line-height: 1.1;font-family: &quot;Courier New&quot;,Courier,monospace\">                            ┌──────────────┐ ░               \n",
       " q_0: ──────────────────────┤0             ├─░───────────────\n",
       "           ┌────┐┌─────────┐│              │ ░ ┌───┐┌─┐      \n",
       " q_1: ─────┤0   ├┤0        ├┤4             ├─░─┤ H ├┤M├──────\n",
       "           │    ││         ││              │ ░ └───┘└╥┘      \n",
       " q_2: ─────┤  U ├┤         ├┤1             ├─░───────╫───────\n",
       "      ┌───┐│    ││         ││              │ ░ ┌───┐ ║ ┌─┐   \n",
       " q_3: ┤ X ├┤1   ├┤1 Mdg_dg ├┤5 4copy_check ├─░─┤ H ├─╫─┤M├───\n",
       "      └───┘└────┘│         ││              │ ░ └───┘ ║ └╥┘   \n",
       " q_4: ───────────┤         ├┤2             ├─░───────╫──╫────\n",
       "      ┌───┐      │         ││              │ ░ ┌───┐ ║  ║ ┌─┐\n",
       " q_5: ┤ X ├──────┤2        ├┤6             ├─░─┤ H ├─╫──╫─┤M├\n",
       "      └───┘      └─────────┘│              │ ░ └───┘ ║  ║ └╥┘\n",
       " q_6: ──────────────────────┤3             ├─░───────╫──╫──╫─\n",
       "                            └──────────────┘ ░       ║  ║  ║ \n",
       "c0: 3/═══════════════════════════════════════════════╩══╩══╩═\n",
       "                                                     0  1  2 </pre>"
      ],
      "text/plain": [
       "                            ┌──────────────┐ ░               \n",
       " q_0: ──────────────────────┤0             ├─░───────────────\n",
       "           ┌────┐┌─────────┐│              │ ░ ┌───┐┌─┐      \n",
       " q_1: ─────┤0   ├┤0        ├┤4             ├─░─┤ H ├┤M├──────\n",
       "           │    ││         ││              │ ░ └───┘└╥┘      \n",
       " q_2: ─────┤  U ├┤         ├┤1             ├─░───────╫───────\n",
       "      ┌───┐│    ││         ││              │ ░ ┌───┐ ║ ┌─┐   \n",
       " q_3: ┤ X ├┤1   ├┤1 Mdg_dg ├┤5 4copy_check ├─░─┤ H ├─╫─┤M├───\n",
       "      └───┘└────┘│         ││              │ ░ └───┘ ║ └╥┘   \n",
       " q_4: ───────────┤         ├┤2             ├─░───────╫──╫────\n",
       "      ┌───┐      │         ││              │ ░ ┌───┐ ║  ║ ┌─┐\n",
       " q_5: ┤ X ├──────┤2        ├┤6             ├─░─┤ H ├─╫──╫─┤M├\n",
       "      └───┘      └─────────┘│              │ ░ └───┘ ║  ║ └╥┘\n",
       " q_6: ──────────────────────┤3             ├─░───────╫──╫──╫─\n",
       "                            └──────────────┘ ░       ║  ║  ║ \n",
       "c0: 3/═══════════════════════════════════════════════╩══╩══╩═\n",
       "                                                     0  1  2 "
      ]
     },
     "execution_count": 5,
     "metadata": {},
     "output_type": "execute_result"
    }
   ],
   "source": [
    "qcs_na[0].draw()"
   ]
  },
  {
   "cell_type": "code",
   "execution_count": 63,
   "metadata": {},
   "outputs": [],
   "source": [
    "qcs_calib_id, _ = f2.calibration_cirquits(type=\"complete_evolution_remake\", n_steps=steps, time=time, q_anc=check[1], check=\"yes\", check_type=check[0])\n",
    "                                        # complete_evolution, itself, itself_whole"
   ]
  },
  {
   "cell_type": "code",
   "execution_count": 64,
   "metadata": {},
   "outputs": [
    {
     "data": {
      "text/html": [
       "<pre style=\"word-wrap: normal;white-space: pre;background: #fff0;line-height: 1.1;font-family: &quot;Courier New&quot;,Courier,monospace\">                         ┌──────────────┐      ░          ┌─┐         \n",
       "q2625_0: ────────────────┤0             ├──────░──────────┤M├─────────\n",
       "         ┌───┐┌────┐┌───┐│              │┌───┐ ░ ┌─┐      └╥┘         \n",
       "q2625_1: ┤ X ├┤0   ├┤ X ├┤4             ├┤ X ├─░─┤M├───────╫──────────\n",
       "         └───┘│    │└───┘│              │└───┘ ░ └╥┘       ║ ┌─┐      \n",
       "q2625_2: ─────┤    ├─────┤1             ├──────░──╫────────╫─┤M├──────\n",
       "         ┌───┐│    │┌───┐│              │      ░  ║ ┌─┐    ║ └╥┘      \n",
       "q2625_3: ┤ X ├┤1 U ├┤ X ├┤5 4copy_check ├──────░──╫─┤M├────╫──╫───────\n",
       "         └───┘│    │└───┘│              │      ░  ║ └╥┘    ║  ║ ┌─┐   \n",
       "q2625_4: ─────┤    ├─────┤2             ├──────░──╫──╫─────╫──╫─┤M├───\n",
       "         ┌───┐│    │┌───┐│              │      ░  ║  ║ ┌─┐ ║  ║ └╥┘   \n",
       "q2625_5: ┤ X ├┤2   ├┤ X ├┤6             ├──────░──╫──╫─┤M├─╫──╫──╫────\n",
       "         └───┘└────┘└───┘│              │      ░  ║  ║ └╥┘ ║  ║  ║ ┌─┐\n",
       "q2625_6: ────────────────┤3             ├──────░──╫──╫──╫──╫──╫──╫─┤M├\n",
       "                         └──────────────┘      ░  ║  ║  ║  ║  ║  ║ └╥┘\n",
       " c580: 7/═════════════════════════════════════════╩══╩══╩══╩══╩══╩══╩═\n",
       "                                                  0  1  2  3  4  5  6 </pre>"
      ],
      "text/plain": [
       "                         ┌──────────────┐      ░          ┌─┐         \n",
       "q2625_0: ────────────────┤0             ├──────░──────────┤M├─────────\n",
       "         ┌───┐┌────┐┌───┐│              │┌───┐ ░ ┌─┐      └╥┘         \n",
       "q2625_1: ┤ X ├┤0   ├┤ X ├┤4             ├┤ X ├─░─┤M├───────╫──────────\n",
       "         └───┘│    │└───┘│              │└───┘ ░ └╥┘       ║ ┌─┐      \n",
       "q2625_2: ─────┤    ├─────┤1             ├──────░──╫────────╫─┤M├──────\n",
       "         ┌───┐│    │┌───┐│              │      ░  ║ ┌─┐    ║ └╥┘      \n",
       "q2625_3: ┤ X ├┤1 U ├┤ X ├┤5 4copy_check ├──────░──╫─┤M├────╫──╫───────\n",
       "         └───┘│    │└───┘│              │      ░  ║ └╥┘    ║  ║ ┌─┐   \n",
       "q2625_4: ─────┤    ├─────┤2             ├──────░──╫──╫─────╫──╫─┤M├───\n",
       "         ┌───┐│    │┌───┐│              │      ░  ║  ║ ┌─┐ ║  ║ └╥┘   \n",
       "q2625_5: ┤ X ├┤2   ├┤ X ├┤6             ├──────░──╫──╫─┤M├─╫──╫──╫────\n",
       "         └───┘└────┘└───┘│              │      ░  ║  ║ └╥┘ ║  ║  ║ ┌─┐\n",
       "q2625_6: ────────────────┤3             ├──────░──╫──╫──╫──╫──╫──╫─┤M├\n",
       "                         └──────────────┘      ░  ║  ║  ║  ║  ║  ║ └╥┘\n",
       " c580: 7/═════════════════════════════════════════╩══╩══╩══╩══╩══╩══╩═\n",
       "                                                  0  1  2  3  4  5  6 "
      ]
     },
     "execution_count": 64,
     "metadata": {},
     "output_type": "execute_result"
    }
   ],
   "source": [
    "qcs_calib_id[1].draw()"
   ]
  },
  {
   "cell_type": "code",
   "execution_count": 8,
   "metadata": {},
   "outputs": [],
   "source": [
    "qcs_calib_itself, _ = f2.calibration_cirquits(type=\"itself_whole\", n_steps=steps, time=time, q_anc=check[1], check=\"yes\", check_type=check[0])\n",
    " "
   ]
  },
  {
   "cell_type": "code",
   "execution_count": 9,
   "metadata": {},
   "outputs": [
    {
     "data": {
      "text/html": [
       "<pre style=\"word-wrap: normal;white-space: pre;background: #fff0;line-height: 1.1;font-family: &quot;Courier New&quot;,Courier,monospace\">                   ┌──────────────┐ ░          ┌─┐         \n",
       "q425_0: ───────────┤0             ├─░──────────┤M├─────────\n",
       "        ┌───┐┌────┐│              │ ░ ┌─┐      └╥┘         \n",
       "q425_1: ┤ X ├┤0   ├┤4             ├─░─┤M├───────╫──────────\n",
       "        └───┘│    ││              │ ░ └╥┘       ║ ┌─┐      \n",
       "q425_2: ─────┤    ├┤1             ├─░──╫────────╫─┤M├──────\n",
       "             │    ││              │ ░  ║ ┌─┐    ║ └╥┘      \n",
       "q425_3: ─────┤1 U ├┤5 4copy_check ├─░──╫─┤M├────╫──╫───────\n",
       "             │    ││              │ ░  ║ └╥┘    ║  ║ ┌─┐   \n",
       "q425_4: ─────┤    ├┤2             ├─░──╫──╫─────╫──╫─┤M├───\n",
       "             │    ││              │ ░  ║  ║ ┌─┐ ║  ║ └╥┘   \n",
       "q425_5: ─────┤2   ├┤6             ├─░──╫──╫─┤M├─╫──╫──╫────\n",
       "             └────┘│              │ ░  ║  ║ └╥┘ ║  ║  ║ ┌─┐\n",
       "q425_6: ───────────┤3             ├─░──╫──╫──╫──╫──╫──╫─┤M├\n",
       "                   └──────────────┘ ░  ║  ║  ║  ║  ║  ║ └╥┘\n",
       "c287: 7/═══════════════════════════════╩══╩══╩══╩══╩══╩══╩═\n",
       "                                       0  1  2  3  4  5  6 </pre>"
      ],
      "text/plain": [
       "                   ┌──────────────┐ ░          ┌─┐         \n",
       "q425_0: ───────────┤0             ├─░──────────┤M├─────────\n",
       "        ┌───┐┌────┐│              │ ░ ┌─┐      └╥┘         \n",
       "q425_1: ┤ X ├┤0   ├┤4             ├─░─┤M├───────╫──────────\n",
       "        └───┘│    ││              │ ░ └╥┘       ║ ┌─┐      \n",
       "q425_2: ─────┤    ├┤1             ├─░──╫────────╫─┤M├──────\n",
       "             │    ││              │ ░  ║ ┌─┐    ║ └╥┘      \n",
       "q425_3: ─────┤1 U ├┤5 4copy_check ├─░──╫─┤M├────╫──╫───────\n",
       "             │    ││              │ ░  ║ └╥┘    ║  ║ ┌─┐   \n",
       "q425_4: ─────┤    ├┤2             ├─░──╫──╫─────╫──╫─┤M├───\n",
       "             │    ││              │ ░  ║  ║ ┌─┐ ║  ║ └╥┘   \n",
       "q425_5: ─────┤2   ├┤6             ├─░──╫──╫─┤M├─╫──╫──╫────\n",
       "             └────┘│              │ ░  ║  ║ └╥┘ ║  ║  ║ ┌─┐\n",
       "q425_6: ───────────┤3             ├─░──╫──╫──╫──╫──╫──╫─┤M├\n",
       "                   └──────────────┘ ░  ║  ║  ║  ║  ║  ║ └╥┘\n",
       "c287: 7/═══════════════════════════════╩══╩══╩══╩══╩══╩══╩═\n",
       "                                       0  1  2  3  4  5  6 "
      ]
     },
     "execution_count": 9,
     "metadata": {},
     "output_type": "execute_result"
    }
   ],
   "source": [
    "qcs_calib_itself[1].draw()"
   ]
  },
  {
   "cell_type": "code",
   "execution_count": 10,
   "metadata": {},
   "outputs": [],
   "source": [
    "#job=execute(qcs, backend_aus, shots=shots)\n",
    "\n",
    "#job_cal_our_identity=execute(qcs_calib, backend = backend_aus, shots=shots)\n",
    "\n",
    "#job_cal_our_itself_new=execute(qcs_calib_itself, backend = backend_aus, shots=shots)\n",
    "\n",
    "#job_cal=execute(cal_circ, backend_aus, shots=shots)"
   ]
  },
  {
   "cell_type": "code",
   "execution_count": 212,
   "metadata": {},
   "outputs": [
    {
     "data": {
      "text/html": [
       "<pre style=\"word-wrap: normal;white-space: pre;background: #fff0;line-height: 1.1;font-family: &quot;Courier New&quot;,Courier,monospace\">              ┌──────────────┐\n",
       "q422_0: ──────┤0             ├\n",
       "        ┌────┐│              │\n",
       "q422_1: ┤0   ├┤4             ├\n",
       "        │    ││              │\n",
       "q422_2: ┤    ├┤1             ├\n",
       "        │    ││              │\n",
       "q422_3: ┤1 U ├┤5 4copy_check ├\n",
       "        │    ││              │\n",
       "q422_4: ┤    ├┤2             ├\n",
       "        │    ││              │\n",
       "q422_5: ┤2   ├┤6             ├\n",
       "        └────┘│              │\n",
       "q422_6: ──────┤3             ├\n",
       "              └──────────────┘</pre>"
      ],
      "text/plain": [
       "              ┌──────────────┐\n",
       "q422_0: ──────┤0             ├\n",
       "        ┌────┐│              │\n",
       "q422_1: ┤0   ├┤4             ├\n",
       "        │    ││              │\n",
       "q422_2: ┤    ├┤1             ├\n",
       "        │    ││              │\n",
       "q422_3: ┤1 U ├┤5 4copy_check ├\n",
       "        │    ││              │\n",
       "q422_4: ┤    ├┤2             ├\n",
       "        │    ││              │\n",
       "q422_5: ┤2   ├┤6             ├\n",
       "        └────┘│              │\n",
       "q422_6: ──────┤3             ├\n",
       "              └──────────────┘"
      ]
     },
     "execution_count": 212,
     "metadata": {},
     "output_type": "execute_result"
    }
   ],
   "source": [
    "#building the circuit matrix for the calibration itself\n",
    "\n",
    "qr_a = QuantumRegister(7)\n",
    "qc_ausiliare = QuantumCircuit(qr_a)\n",
    "\n",
    "qc_ausiliare2=qcs_calib_itself[0].copy()\n",
    "qc_ausiliare2.remove_final_measurements()\n",
    "\n",
    "qc_ausiliare.append(qc_ausiliare2,[qr_a[3], qr_a[0], qr_a[4], qr_a[1],  qr_a[5],  qr_a[2], qr_a[6]])#[1,3,5,0,2,4,6])#[0,1,2,3,4,5,6])\n",
    "\n",
    "qc_ausiliare2.draw()"
   ]
  },
  {
   "cell_type": "code",
   "execution_count": 213,
   "metadata": {},
   "outputs": [
    {
     "data": {
      "text/html": [
       "<pre style=\"word-wrap: normal;white-space: pre;background: #fff0;line-height: 1.1;font-family: &quot;Courier New&quot;,Courier,monospace\">         ┌──────────────┐\n",
       "q4912_0: ┤1             ├\n",
       "         │              │\n",
       "q4912_1: ┤3             ├\n",
       "         │              │\n",
       "q4912_2: ┤5             ├\n",
       "         │              │\n",
       "q4912_3: ┤0 cal_0000000 ├\n",
       "         │              │\n",
       "q4912_4: ┤2             ├\n",
       "         │              │\n",
       "q4912_5: ┤4             ├\n",
       "         │              │\n",
       "q4912_6: ┤6             ├\n",
       "         └──────────────┘</pre>"
      ],
      "text/plain": [
       "         ┌──────────────┐\n",
       "q4912_0: ┤1             ├\n",
       "         │              │\n",
       "q4912_1: ┤3             ├\n",
       "         │              │\n",
       "q4912_2: ┤5             ├\n",
       "         │              │\n",
       "q4912_3: ┤0 cal_0000000 ├\n",
       "         │              │\n",
       "q4912_4: ┤2             ├\n",
       "         │              │\n",
       "q4912_5: ┤4             ├\n",
       "         │              │\n",
       "q4912_6: ┤6             ├\n",
       "         └──────────────┘"
      ]
     },
     "execution_count": 213,
     "metadata": {},
     "output_type": "execute_result"
    }
   ],
   "source": [
    "qc_ausiliare.draw()"
   ]
  },
  {
   "cell_type": "code",
   "execution_count": 188,
   "metadata": {},
   "outputs": [],
   "source": [
    "cirquit_itself_matrix = f2.matrix_from_cirquit(qc_ausiliare, type=\"numpy\")\n",
    "#Matrix(cirquit_itself_matrix)"
   ]
  },
  {
   "cell_type": "code",
   "execution_count": 189,
   "metadata": {},
   "outputs": [],
   "source": [
    "meas_fitter_itself = mc.CompleteMeasFitter(job_cal_our_itself_new.result(), state_labels=state_labels)\n",
    "meas_fitter_identity = mc.CompleteMeasFitter(job_cal_our_identity.result(), state_labels=state_labels)\n",
    "meas_fitter = mc.CompleteMeasFitter(job_cal.result(), state_labels=state_labels)\n",
    "\n",
    "U_tilde_itself = meas_fitter_itself.cal_matrix\n",
    "U_tilde_identity = meas_fitter_identity.cal_matrix\n",
    "U_tilde_qiskit = meas_fitter.cal_matrix"
   ]
  },
  {
   "cell_type": "code",
   "execution_count": 190,
   "metadata": {},
   "outputs": [
    {
     "data": {
      "text/plain": [
       "array([[1.096875e-02, 3.784375e-02, 2.759375e-02, ..., 5.000000e-04,\n",
       "        1.250000e-04, 2.500000e-04],\n",
       "       [4.875000e-03, 8.625000e-03, 1.096250e-01, ..., 2.000000e-03,\n",
       "        3.750000e-04, 1.281250e-03],\n",
       "       [9.687500e-04, 3.043750e-02, 1.312500e-03, ..., 3.125000e-05,\n",
       "        3.375000e-03, 1.031250e-03],\n",
       "       ...,\n",
       "       [2.500000e-03, 1.750000e-03, 1.531250e-03, ..., 1.562500e-04,\n",
       "        9.375000e-05, 5.312500e-04],\n",
       "       [8.125000e-04, 2.812500e-04, 9.375000e-04, ..., 9.375000e-05,\n",
       "        3.125000e-05, 0.000000e+00],\n",
       "       [1.153125e-02, 6.812500e-03, 4.750000e-03, ..., 1.250000e-04,\n",
       "        3.125000e-05, 0.000000e+00]])"
      ]
     },
     "execution_count": 190,
     "metadata": {},
     "output_type": "execute_result"
    }
   ],
   "source": [
    "U_tilde_itself"
   ]
  },
  {
   "cell_type": "code",
   "execution_count": 191,
   "metadata": {},
   "outputs": [
    {
     "data": {
      "text/plain": [
       "array([[7.2765625e-01, 1.9312500e-02, 3.1406250e-02, ..., 0.0000000e+00,\n",
       "        0.0000000e+00, 0.0000000e+00],\n",
       "       [1.0146875e-01, 8.1984375e-01, 4.3125000e-03, ..., 0.0000000e+00,\n",
       "        0.0000000e+00, 0.0000000e+00],\n",
       "       [4.1250000e-03, 1.2500000e-04, 7.1812500e-01, ..., 0.0000000e+00,\n",
       "        0.0000000e+00, 0.0000000e+00],\n",
       "       ...,\n",
       "       [0.0000000e+00, 0.0000000e+00, 0.0000000e+00, ..., 7.2906250e-01,\n",
       "        4.7812500e-03, 3.2812500e-02],\n",
       "       [0.0000000e+00, 0.0000000e+00, 0.0000000e+00, ..., 9.3750000e-05,\n",
       "        6.1331250e-01, 1.5687500e-02],\n",
       "       [0.0000000e+00, 0.0000000e+00, 0.0000000e+00, ..., 3.7187500e-03,\n",
       "        9.8281250e-02, 6.9878125e-01]])"
      ]
     },
     "execution_count": 191,
     "metadata": {},
     "output_type": "execute_result"
    }
   ],
   "source": [
    "U_tilde_qiskit"
   ]
  },
  {
   "cell_type": "code",
   "execution_count": 214,
   "metadata": {},
   "outputs": [],
   "source": [
    "qr_basi = QuantumRegister(7)\n",
    "qc_basi = QuantumCircuit(qr_basi)\n",
    "\n",
    "#qc_basi.swap(5,4)\n",
    "#qc_basi.swap(5,2)\n",
    "#qc_basi.swap(1,3)\n",
    "#qc_basi.swap(0,1)\n",
    "\n",
    "qcs_basis = state_tomography_circuits(qc_basi,[0,1,2])\n",
    "\n",
    "\n",
    "C_matrices_identity = []\n",
    "C_matrices_itself = []\n",
    "\n",
    "C_itself = np.dot(U_tilde_itself, np.linalg.inv(cirquit_itself_matrix))\n",
    "C_identity = U_tilde_identity\n",
    "\n",
    "for base_cirquit in qcs_basis:\n",
    "    \n",
    "    base_cirquit.remove_final_measurements()\n",
    "\n",
    "    qca_matrix = f2.matrix_from_cirquit(base_cirquit, type=\"numpy\")\n",
    "    qca_matrixH = qca_matrix.conj().T\n",
    "\n",
    "    C_aus_itself = np.linalg.multi_dot([U_tilde_qiskit, np.asarray(qca_matrix), np.linalg.inv(U_tilde_qiskit), U_tilde_itself, np.linalg.inv(cirquit_itself_matrix),  qca_matrixH])\n",
    "    C_aus_identity = np.dot(np.asarray(qca_matrix),C_identity).dot(qca_matrixH)\n",
    "\n",
    "    C_matrices_itself.append(np.asarray(C_aus_itself))\n",
    "    C_matrices_identity.append(np.asarray(C_aus_identity))"
   ]
  },
  {
   "cell_type": "code",
   "execution_count": 215,
   "metadata": {},
   "outputs": [],
   "source": [
    "from copy import deepcopy\n",
    "meas_fitter_ours_id = []\n",
    "meas_fitter_ours_itself = []\n",
    "\n",
    "for C_new in C_matrices_itself:\n",
    "    meas_fitter_our_aus = deepcopy(meas_fitter_itself)\n",
    "    meas_fitter_our_aus._tens_fitt.cal_matrices[0]=C_new\n",
    "\n",
    "    meas_fitter_ours_itself.append(meas_fitter_our_aus)\n",
    "\n",
    "for C_new in C_matrices_identity:\n",
    "    meas_fitter_our_aus = deepcopy(meas_fitter_identity)\n",
    "    meas_fitter_our_aus._tens_fitt.cal_matrices[0]=C_new\n",
    "\n",
    "    meas_fitter_ours_id.append(meas_fitter_our_aus)\n",
    "\n"
   ]
  },
  {
   "cell_type": "code",
   "execution_count": 216,
   "metadata": {},
   "outputs": [
    {
     "data": {
      "text/plain": [
       "(128, 128)"
      ]
     },
     "execution_count": 216,
     "metadata": {},
     "output_type": "execute_result"
    }
   ],
   "source": [
    "np.shape(meas_fitter.cal_matrix)"
   ]
  },
  {
   "cell_type": "code",
   "execution_count": 217,
   "metadata": {},
   "outputs": [],
   "source": [
    "U = f2.Trotter_N_approx(steps=steps, tempo=time, precision=precision)\n",
    "\n",
    "U2=[\n",
    "    [U[3*8+3],U[3*8+5],U[3*8+6],0],\n",
    "    [U[5*8+3],U[5*8+5],U[5*8+6],0],\n",
    "    [U[6*8+3],U[6*8+5],U[6*8+6],0],\n",
    "    [0,0,0,1]\n",
    "]\n",
    "\n",
    "qc=QuantumCircuit(2, name=\"U, t=%.2f pi\"%(time/np.pi))\n",
    "qc.unitary(U2,[0,1])    \n",
    "trans_qc=transpile(qc,basis_gates=['cx','x','sx','rz']) \n",
    "\n",
    "qr2=QuantumRegister(3, name=\"q\")\n",
    "qc2=QuantumCircuit(qr2)\n",
    "\n",
    "#qc2.x([qr2[1],qr2[2]])\n",
    "qc2.append(trans_qc,[qr2[0],qr2[1]])\n",
    "qc2.append(f2.Mdg_circquit().inverse(),[qr2[0],qr2[1],qr2[2]])\n",
    "\n",
    "target_state = Statevector.from_instruction(qc2)"
   ]
  },
  {
   "cell_type": "code",
   "execution_count": 218,
   "metadata": {},
   "outputs": [
    {
     "data": {
      "text/html": [
       "<pre style=\"word-wrap: normal;white-space: pre;background: #fff0;line-height: 1.1;font-family: &quot;Courier New&quot;,Courier,monospace\">     ┌───────────────┐┌─────────┐\n",
       "q_0: ┤0              ├┤0        ├\n",
       "     │  U, t=1.00 pi ││         │\n",
       "q_1: ┤1              ├┤1 Mdg_dg ├\n",
       "     └───────────────┘│         │\n",
       "q_2: ─────────────────┤2        ├\n",
       "                      └─────────┘</pre>"
      ],
      "text/plain": [
       "     ┌───────────────┐┌─────────┐\n",
       "q_0: ┤0              ├┤0        ├\n",
       "     │  U, t=1.00 pi ││         │\n",
       "q_1: ┤1              ├┤1 Mdg_dg ├\n",
       "     └───────────────┘│         │\n",
       "q_2: ─────────────────┤2        ├\n",
       "                      └─────────┘"
      ]
     },
     "execution_count": 218,
     "metadata": {},
     "output_type": "execute_result"
    }
   ],
   "source": [
    "#qcs2=\n",
    "qc2.draw()"
   ]
  },
  {
   "cell_type": "code",
   "execution_count": 219,
   "metadata": {},
   "outputs": [
    {
     "data": {
      "text/latex": [
       "$\\displaystyle \\left[\\begin{matrix}0 & 0 & 0 & 1.0 & 0 & 0 & 0 & 0\\\\0.0001020679 - 0.0021063946 i & -9.87301 \\cdot 10^{-5} + 0.0010531973 i & 0.9999966622 + 0.0010531973 i & 0 & 0 & 0 & 0 & 0\\\\-9.87301 \\cdot 10^{-5} + 0.0010531973 i & 0.9999966622 - 0.0021063946 i & 0.0001020679 + 0.0010531973 i & 0 & 0 & 0 & 0 & 0\\\\0 & 0 & 0 & 0 & 0.9999966622 + 0.0010531973 i & 0.0001020679 + 0.0010531973 i & -9.87301 \\cdot 10^{-5} - 0.0021063946 i & 0\\\\0.9999966622 + 0.0010531973 i & 0.0001020679 + 0.0010531973 i & -9.87301 \\cdot 10^{-5} - 0.0021063946 i & 0 & 0 & 0 & 0 & 0\\\\0 & 0 & 0 & 0 & -9.87301 \\cdot 10^{-5} + 0.0010531973 i & 0.9999966622 - 0.0021063946 i & 0.0001020679 + 0.0010531973 i & 0\\\\0 & 0 & 0 & 0 & 0.0001020679 - 0.0021063946 i & -9.87301 \\cdot 10^{-5} + 0.0010531973 i & 0.9999966622 + 0.0010531973 i & 0\\\\0 & 0 & 0 & 0 & 0 & 0 & 0 & 1.0\\end{matrix}\\right]$"
      ],
      "text/plain": [
       "Matrix([\n",
       "[                            0,                             0,                             0, 1.0,                             0,                             0,                             0,   0],\n",
       "[0.0001020679 - 0.0021063946*I,  -9.87301e-5 + 0.0010531973*I, 0.9999966622 + 0.0010531973*I,   0,                             0,                             0,                             0,   0],\n",
       "[ -9.87301e-5 + 0.0010531973*I, 0.9999966622 - 0.0021063946*I, 0.0001020679 + 0.0010531973*I,   0,                             0,                             0,                             0,   0],\n",
       "[                            0,                             0,                             0,   0, 0.9999966622 + 0.0010531973*I, 0.0001020679 + 0.0010531973*I,  -9.87301e-5 - 0.0021063946*I,   0],\n",
       "[0.9999966622 + 0.0010531973*I, 0.0001020679 + 0.0010531973*I,  -9.87301e-5 - 0.0021063946*I,   0,                             0,                             0,                             0,   0],\n",
       "[                            0,                             0,                             0,   0,  -9.87301e-5 + 0.0010531973*I, 0.9999966622 - 0.0021063946*I, 0.0001020679 + 0.0010531973*I,   0],\n",
       "[                            0,                             0,                             0,   0, 0.0001020679 - 0.0021063946*I,  -9.87301e-5 + 0.0010531973*I, 0.9999966622 + 0.0010531973*I,   0],\n",
       "[                            0,                             0,                             0,   0,                             0,                             0,                             0, 1.0]])"
      ]
     },
     "execution_count": 219,
     "metadata": {},
     "output_type": "execute_result"
    }
   ],
   "source": [
    "f2.matrix_from_cirquit(qc2)"
   ]
  },
  {
   "cell_type": "code",
   "execution_count": 220,
   "metadata": {},
   "outputs": [],
   "source": [
    "#target_state = (np.asarray(target_state))\n",
    "#target_state"
   ]
  },
  {
   "cell_type": "code",
   "execution_count": 221,
   "metadata": {},
   "outputs": [],
   "source": [
    "target_state=((One^One^Zero).to_matrix())\n"
   ]
  },
  {
   "cell_type": "code",
   "execution_count": 222,
   "metadata": {},
   "outputs": [
    {
     "name": "stdout",
     "output_type": "stream",
     "text": [
      "0\n",
      "0\n",
      "tens_fitt\n",
      "1\n",
      "tens_fitt\n",
      "2\n",
      "tens_fitt\n",
      "3\n",
      "tens_fitt\n",
      "4\n",
      "tens_fitt\n",
      "5\n",
      "tens_fitt\n",
      "6\n",
      "tens_fitt\n",
      "7\n",
      "tens_fitt\n",
      "8\n",
      "tens_fitt\n",
      "9\n",
      "tens_fitt\n",
      "10\n",
      "tens_fitt\n",
      "11\n",
      "tens_fitt\n",
      "12\n",
      "tens_fitt\n",
      "13\n",
      "tens_fitt\n",
      "14\n",
      "tens_fitt\n",
      "15\n",
      "tens_fitt\n",
      "16\n",
      "tens_fitt\n",
      "17\n",
      "tens_fitt\n",
      "18\n",
      "tens_fitt\n",
      "19\n",
      "tens_fitt\n",
      "20\n",
      "tens_fitt\n",
      "21\n",
      "tens_fitt\n",
      "22\n",
      "tens_fitt\n",
      "23\n",
      "tens_fitt\n",
      "24\n",
      "tens_fitt\n",
      "25\n",
      "tens_fitt\n",
      "26\n",
      "tens_fitt\n",
      "0\n",
      "0 (128, 128)\n",
      "deepcopy\n",
      "1\n",
      "1 (128, 128)\n",
      "deepcopy\n",
      "2\n",
      "2 (128, 128)\n",
      "deepcopy\n",
      "3\n",
      "3 (128, 128)\n",
      "deepcopy\n",
      "4\n",
      "4 (128, 128)\n",
      "deepcopy\n",
      "5\n",
      "5 (128, 128)\n",
      "deepcopy\n",
      "6\n",
      "6 (128, 128)\n",
      "deepcopy\n",
      "7\n",
      "7 (128, 128)\n",
      "deepcopy\n",
      "8\n",
      "8 (128, 128)\n",
      "deepcopy\n",
      "9\n",
      "9 (128, 128)\n",
      "deepcopy\n",
      "10\n",
      "10 (128, 128)\n",
      "deepcopy\n",
      "11\n",
      "11 (128, 128)\n",
      "deepcopy\n",
      "12\n",
      "12 (128, 128)\n",
      "deepcopy\n",
      "13\n",
      "13 (128, 128)\n",
      "deepcopy\n",
      "14\n",
      "14 (128, 128)\n",
      "deepcopy\n",
      "15\n",
      "15 (128, 128)\n",
      "deepcopy\n",
      "16\n",
      "16 (128, 128)\n",
      "deepcopy\n",
      "17\n",
      "17 (128, 128)\n",
      "deepcopy\n",
      "18\n",
      "18 (128, 128)\n",
      "deepcopy\n",
      "19\n",
      "19 (128, 128)\n",
      "deepcopy\n",
      "20\n",
      "20 (128, 128)\n",
      "deepcopy\n",
      "21\n",
      "21 (128, 128)\n",
      "deepcopy\n",
      "22\n",
      "22 (128, 128)\n",
      "deepcopy\n",
      "23\n",
      "23 (128, 128)\n",
      "deepcopy\n",
      "24\n",
      "24 (128, 128)\n",
      "deepcopy\n",
      "25\n",
      "25 (128, 128)\n",
      "deepcopy\n",
      "26\n",
      "26 (128, 128)\n",
      "deepcopy\n",
      "0\n",
      "0 (128, 128)\n",
      "deepcopy\n",
      "1\n",
      "1 (128, 128)\n",
      "deepcopy\n",
      "2\n",
      "2 (128, 128)\n",
      "deepcopy\n",
      "3\n",
      "3 (128, 128)\n",
      "deepcopy\n",
      "4\n",
      "4 (128, 128)\n",
      "deepcopy\n",
      "5\n",
      "5 (128, 128)\n",
      "deepcopy\n",
      "6\n",
      "6 (128, 128)\n",
      "deepcopy\n",
      "7\n",
      "7 (128, 128)\n",
      "deepcopy\n",
      "8\n",
      "8 (128, 128)\n",
      "deepcopy\n",
      "9\n",
      "9 (128, 128)\n",
      "deepcopy\n",
      "10\n",
      "10 (128, 128)\n",
      "deepcopy\n",
      "11\n",
      "11 (128, 128)\n",
      "deepcopy\n",
      "12\n",
      "12 (128, 128)\n",
      "deepcopy\n",
      "13\n",
      "13 (128, 128)\n",
      "deepcopy\n",
      "14\n",
      "14 (128, 128)\n",
      "deepcopy\n",
      "15\n",
      "15 (128, 128)\n",
      "deepcopy\n",
      "16\n",
      "16 (128, 128)\n",
      "deepcopy\n",
      "17\n",
      "17 (128, 128)\n",
      "deepcopy\n",
      "18\n",
      "18 (128, 128)\n",
      "deepcopy\n",
      "19\n",
      "19 (128, 128)\n",
      "deepcopy\n",
      "20\n",
      "20 (128, 128)\n",
      "deepcopy\n",
      "21\n",
      "21 (128, 128)\n",
      "deepcopy\n",
      "22\n",
      "22 (128, 128)\n",
      "deepcopy\n",
      "23\n",
      "23 (128, 128)\n",
      "deepcopy\n",
      "24\n",
      "24 (128, 128)\n",
      "deepcopy\n",
      "25\n",
      "25 (128, 128)\n",
      "deepcopy\n",
      "26\n",
      "26 (128, 128)\n",
      "deepcopy\n",
      "[[ 8.74370229e-03+0.00000000e+00j -2.87179715e-03+3.92224714e-03j\n",
      "   9.55032635e-04+3.15104459e-05j -1.13389950e-03+2.57764967e-04j\n",
      "   4.51510310e-04+1.88284519e-04j  2.82966324e-04+5.99051546e-04j\n",
      "   2.38637014e-03-2.51917728e-03j -1.44143425e-04+3.22614453e-03j]\n",
      " [-2.87179715e-03-3.92224714e-03j  2.82336612e-02+0.00000000e+00j\n",
      "  -4.55156513e-04-2.35171497e-03j  1.58403154e-03-3.11056782e-04j\n",
      "  -6.40464349e-04-1.45732822e-04j  1.35982169e-04-6.78804628e-04j\n",
      "   5.80175892e-04-1.89466257e-03j -7.36138237e-04+6.09437127e-06j]\n",
      " [ 9.55032635e-04-3.15104459e-05j -4.55156513e-04+2.35171497e-03j\n",
      "   3.51833124e-02+0.00000000e+00j -3.75398107e-03+2.11946577e-03j\n",
      "  -4.77059265e-04+9.84648786e-04j -2.35279494e-03-7.62195172e-04j\n",
      "   2.43183749e-02-3.41397067e-03j -1.19096796e-03-2.01979365e-03j]\n",
      " [-1.13389950e-03-2.57764967e-04j  1.58403154e-03+3.11056782e-04j\n",
      "  -3.75398107e-03-2.11946577e-03j  2.84078314e-02+0.00000000e+00j\n",
      "  -2.73314045e-04-7.97188451e-04j  3.09298192e-04-1.82131939e-04j\n",
      "  -2.20795854e-03+1.32458547e-03j  4.02402258e-03+5.41934345e-04j]\n",
      " [ 4.51510310e-04-1.88284519e-04j -6.40464349e-04+1.45732822e-04j\n",
      "  -4.77059265e-04-9.84648786e-04j -2.73314045e-04+7.97188451e-04j\n",
      "   4.60452411e-02+0.00000000e+00j -4.48938612e-03+5.80039782e-03j\n",
      "   1.58925036e-02-1.23383576e-02j  1.67223174e-03+9.47814141e-04j]\n",
      " [ 2.82966324e-04-5.99051546e-04j  1.35982169e-04+6.78804628e-04j\n",
      "  -2.35279494e-03+7.62195172e-04j  3.09298192e-04+1.82131939e-04j\n",
      "  -4.48938612e-03-5.80039782e-03j  4.16145957e-02+0.00000000e+00j\n",
      "  -1.27856741e-02-2.96267912e-02j  1.47718500e-03-4.08274984e-03j]\n",
      " [ 2.38637014e-03+2.51917728e-03j  5.80175892e-04+1.89466257e-03j\n",
      "   2.43183749e-02+3.41397067e-03j -2.20795854e-03-1.32458547e-03j\n",
      "   1.58925036e-02+1.23383576e-02j -1.27856741e-02+2.96267912e-02j\n",
      "   6.72665217e-01+0.00000000e+00j -3.12017761e-02-8.58754878e-03j]\n",
      " [-1.44143425e-04-3.22614453e-03j -7.36138237e-04-6.09437127e-06j\n",
      "  -1.19096796e-03+2.01979365e-03j  4.02402258e-03-5.41934345e-04j\n",
      "   1.67223174e-03-9.47814141e-04j  1.47718500e-03+4.08274984e-03j\n",
      "  -3.12017761e-02+8.58754878e-03j  1.39106439e-01+0.00000000e+00j]]\n",
      "attenzione ho invertito gli arg di state_fidelity\n",
      "[[ 2.26432543e-03+0.00000000e+00j -8.22516051e-04+5.64552613e-04j\n",
      "   8.39820712e-04+8.20748232e-04j -5.76006473e-04+9.27327369e-04j\n",
      "   6.05417919e-04+2.20358093e-04j  5.41341148e-04+2.01351015e-04j\n",
      "   2.16698435e-03-2.30820893e-03j  7.80684068e-04+3.85159594e-03j]\n",
      " [-8.22516051e-04-5.64552613e-04j  3.29398919e-03+0.00000000e+00j\n",
      "   4.09737796e-04-2.01474526e-03j  4.09569880e-04-6.63803726e-04j\n",
      "  -8.15969423e-04-1.07242557e-03j  1.32464374e-03-6.42360127e-04j\n",
      "   6.38080637e-04-2.50801277e-03j -7.60206349e-05-3.15647232e-04j]\n",
      " [ 8.39820712e-04-8.20748232e-04j  4.09737796e-04+2.01474526e-03j\n",
      "   3.19619359e-02+0.00000000e+00j -3.06179637e-03+1.20763609e-03j\n",
      "   5.06293516e-04+7.50123973e-04j -2.86643623e-03-2.02706361e-03j\n",
      "   2.68791662e-02-4.08978230e-03j -1.12742249e-03-1.72095368e-03j]\n",
      " [-5.76006473e-04-9.27327369e-04j  4.09569880e-04+6.63803726e-04j\n",
      "  -3.06179637e-03-1.20763609e-03j  2.57019383e-02+0.00000000e+00j\n",
      "  -1.19253072e-03-9.33737456e-04j -2.30311915e-04-3.69899416e-04j\n",
      "  -2.64527465e-03+2.38009307e-03j  3.57452020e-03-3.94904695e-04j]\n",
      " [ 6.05417919e-04-2.20358093e-04j -8.15969423e-04+1.07242557e-03j\n",
      "   5.06293516e-04-7.50123973e-04j -1.19253072e-03+9.33737456e-04j\n",
      "   3.61294824e-02+0.00000000e+00j -3.31977761e-03+4.42252544e-03j\n",
      "   1.68692933e-02-1.56981144e-02j  4.38043038e-04+8.85033710e-05j]\n",
      " [ 5.41341148e-04-2.01351015e-04j  1.32464374e-03+6.42360127e-04j\n",
      "  -2.86643623e-03+2.02706361e-03j -2.30311915e-04+3.69899416e-04j\n",
      "  -3.31977761e-03-4.42252544e-03j  3.44824779e-02+0.00000000e+00j\n",
      "  -1.49725997e-02-3.23041967e-02j  2.08245171e-03-2.78414533e-03j]\n",
      " [ 2.16698435e-03+2.30820893e-03j  6.38080637e-04+2.50801277e-03j\n",
      "   2.68791662e-02+4.08978230e-03j -2.64527465e-03-2.38009307e-03j\n",
      "   1.68692933e-02+1.56981144e-02j -1.49725997e-02+3.23041967e-02j\n",
      "   7.40294639e-01+0.00000000e+00j -3.01456688e-02-1.06147948e-02j]\n",
      " [ 7.80684068e-04-3.85159594e-03j -7.60206349e-05+3.15647232e-04j\n",
      "  -1.12742249e-03+1.72095368e-03j  3.57452020e-03+3.94904695e-04j\n",
      "   4.38043038e-04-8.85033710e-05j  2.08245171e-03+2.78414533e-03j\n",
      "  -3.01456688e-02+1.06147948e-02j  1.25871212e-01+0.00000000e+00j]]\n",
      "attenzione ho invertito gli arg di state_fidelity\n",
      "[[ 9.92509571e-04+0.00000000e+00j  1.87615396e-04-8.59744154e-05j\n",
      "  -6.10142071e-05+1.08915396e-04j -4.12010707e-04+1.24396667e-04j\n",
      "  -6.10774432e-04+4.20098067e-04j  8.41165239e-04-2.18821443e-04j\n",
      "   2.44507472e-03-4.32246621e-03j -8.26179088e-05+2.28011646e-03j]\n",
      " [ 1.87615396e-04+8.59744154e-05j  5.97151617e-04+0.00000000e+00j\n",
      "   3.14168388e-04-3.03075144e-04j -6.73782670e-04+8.35886070e-04j\n",
      "  -1.46253381e-04-4.79840031e-04j  5.84589826e-04-3.90085647e-04j\n",
      "   3.20032065e-03-4.48216527e-03j -8.01140343e-04+1.01027362e-04j]\n",
      " [-6.10142071e-05-1.08915396e-04j  3.14168388e-04+3.03075144e-04j\n",
      "   2.04485994e-03+0.00000000e+00j -8.64413843e-04+1.13494756e-03j\n",
      "   1.08986634e-04+2.01930491e-04j -2.45921801e-03-3.81117581e-03j\n",
      "   2.60136767e-02+2.55204102e-03j  1.19771529e-03-2.82215730e-03j]\n",
      " [-4.12010707e-04-1.24396667e-04j -6.73782670e-04-8.35886070e-04j\n",
      "  -8.64413843e-04-1.13494756e-03j  2.36139973e-02+0.00000000e+00j\n",
      "  -3.52351618e-04+2.70248924e-04j -1.39704436e-03-8.56570549e-04j\n",
      "  -2.90048927e-03+4.45650643e-03j -3.71251096e-04+4.16889177e-04j]\n",
      " [-6.10774432e-04-4.20098067e-04j -1.46253381e-04+4.79840031e-04j\n",
      "   1.08986634e-04-2.01930491e-04j -3.52351618e-04-2.70248924e-04j\n",
      "   1.34298764e-03+0.00000000e+00j -3.76070266e-04+3.06606216e-03j\n",
      "   5.97197951e-03-3.13557743e-03j  8.50829771e-04-2.53197254e-03j]\n",
      " [ 8.41165239e-04+2.18821443e-04j  5.84589826e-04+3.90085647e-04j\n",
      "  -2.45921801e-03+3.81117581e-03j -1.39704436e-03+8.56570549e-04j\n",
      "  -3.76070266e-04-3.06606216e-03j  3.08344918e-02+0.00000000e+00j\n",
      "  -1.55375428e-02-4.27067167e-02j -3.50034156e-03+2.33804734e-03j]\n",
      " [ 2.44507472e-03+4.32246621e-03j  3.20032065e-03+4.48216527e-03j\n",
      "   2.60136767e-02-2.55204102e-03j -2.90048927e-03-4.45650643e-03j\n",
      "   5.97197951e-03+3.13557743e-03j -1.55375428e-02+4.27067167e-02j\n",
      "   9.27068877e-01+0.00000000e+00j  2.10018881e-02-7.30508954e-02j]\n",
      " [-8.26179088e-05-2.28011646e-03j -8.01140343e-04-1.01027362e-04j\n",
      "   1.19771529e-03+2.82215730e-03j -3.71251096e-04-4.16889177e-04j\n",
      "   8.50829771e-04+2.53197254e-03j -3.50034156e-03-2.33804734e-03j\n",
      "   2.10018881e-02+7.30508954e-02j  1.35051250e-02+0.00000000e+00j]]\n",
      "attenzione ho invertito gli arg di state_fidelity\n",
      "[[ 1.55933737e-05+0.00000000e+00j  9.65708187e-06+2.65485831e-06j\n",
      "   8.42498699e-05-9.39382038e-05j -1.94401386e-05+1.50592941e-05j\n",
      "   1.30795987e-04-4.15621984e-05j  8.22751061e-05+1.50767140e-04j\n",
      "   2.09108939e-03-3.31397914e-03j -2.61664691e-04+3.23399416e-04j]\n",
      " [ 9.65708187e-06-2.65485831e-06j  6.43270051e-06+0.00000000e+00j\n",
      "   3.61830147e-05-7.25205727e-05j -9.47548110e-06+1.26361141e-05j\n",
      "   7.39266454e-05-4.80084926e-05j  7.66224713e-05+7.93633171e-05j\n",
      "   7.30802495e-04-2.40838927e-03j -1.06990171e-04+2.44833311e-04j]\n",
      " [ 8.42498699e-05+9.39382038e-05j  3.61830147e-05+7.25205727e-05j\n",
      "   1.02110210e-03+0.00000000e+00j -1.95754443e-04-3.57477568e-05j\n",
      "   9.57061854e-04+5.63388684e-04j -4.63730777e-04+1.31022882e-03j\n",
      "   3.12622057e-02-5.30796807e-03j -3.36199064e-03+1.70973111e-04j]\n",
      " [-1.94401386e-05-1.50592941e-05j -9.47548110e-06-1.26361141e-05j\n",
      "  -1.95754443e-04+3.57477568e-05j  3.87793777e-05+0.00000000e+00j\n",
      "  -2.03201023e-04-7.45008981e-05j  4.30315625e-05-2.67417378e-04j\n",
      "  -5.80741897e-03+2.11204350e-03j  6.38538200e-04-1.50476989e-04j]\n",
      " [ 1.30795987e-04+4.15621984e-05j  7.39266454e-05+4.80084926e-05j\n",
      "   9.57061854e-04-5.63388684e-04j -2.03201023e-04+7.45008981e-05j\n",
      "   1.20788528e-03+0.00000000e+00j  2.88266032e-04+1.48391692e-03j\n",
      "   2.63728919e-02-2.22238566e-02j -3.05680369e-03+2.01521407e-03j]\n",
      " [ 8.22751061e-05-1.50767140e-04j  7.66224713e-05-7.93633171e-05j\n",
      "  -4.63730777e-04-1.31022882e-03j  4.30315625e-05+2.67417378e-04j\n",
      "   2.88266032e-04-1.48391692e-03j  1.89182431e-03+0.00000000e+00j\n",
      "  -2.10085746e-02-3.77035504e-02j  1.74622344e-03+4.23629674e-03j]\n",
      " [ 2.09108939e-03+3.31397914e-03j  7.30802495e-04+2.40838927e-03j\n",
      "   3.12622057e-02+5.30796807e-03j -5.80741897e-03-2.11204350e-03j\n",
      "   2.63728919e-02+2.22238566e-02j -2.10085746e-02+3.77035504e-02j\n",
      "   9.84720362e-01+0.00000000e+00j -1.03819944e-01-1.22420102e-02j]\n",
      " [-2.61664691e-04-3.23399416e-04j -1.06990171e-04-2.44833311e-04j\n",
      "  -3.36199064e-03-1.70973111e-04j  6.38538200e-04+1.50476989e-04j\n",
      "  -3.05680369e-03-2.01521407e-03j  1.74622344e-03-4.23629674e-03j\n",
      "  -1.03819944e-01+1.22420102e-02j  1.10980212e-02+0.00000000e+00j]]\n",
      "attenzione ho invertito gli arg di state_fidelity\n",
      "[[ 1.82529866e-05+0.00000000e+00j  2.89264366e-05-3.03420255e-06j\n",
      "   4.77702593e-05-1.15121787e-04j -2.04059566e-05+2.45992405e-06j\n",
      "   1.96091835e-05-1.94461512e-05j  1.42284458e-04+1.58933936e-04j\n",
      "   2.03780941e-03-3.73283795e-03j -2.56848740e-04-1.92002332e-04j]\n",
      " [ 2.89264366e-05+3.03420255e-06j  4.63455729e-05+0.00000000e+00j\n",
      "   9.48407092e-05-1.74498480e-04j -3.27472720e-05+5.06275045e-07j\n",
      "   3.43082136e-05-2.75576614e-05j  1.99065757e-04+2.75522707e-04j\n",
      "   3.84993166e-03-5.57687221e-03j -3.75124629e-04-3.46971951e-04j]\n",
      " [ 4.77702593e-05+1.15121787e-04j  9.48407092e-05+1.74498480e-04j\n",
      "   8.51094880e-04+0.00000000e+00j -6.89196082e-05-1.22262675e-04j\n",
      "   1.73966678e-04+7.27824208e-05j -6.30022550e-04+1.31333884e-03j\n",
      "   2.88762419e-02+3.08320084e-03j  5.38756796e-04-2.12244099e-03j]\n",
      " [-2.04059566e-05-2.45992405e-06j -3.27472720e-05-5.06275045e-07j\n",
      "  -6.89196082e-05+1.22262675e-04j  2.31443927e-05+0.00000000e+00j\n",
      "  -2.45428439e-05+1.90971605e-05j -1.37647888e-04-1.96855891e-04j\n",
      "  -2.78124064e-03+3.89850024e-03j  2.61268645e-04+2.49264393e-04j]\n",
      " [ 1.96091835e-05+1.94461512e-05j  3.43082136e-05+2.75576614e-05j\n",
      "   1.73966678e-04-7.27824208e-05j -2.45428439e-05-1.90971605e-05j\n",
      "   4.17834564e-05+0.00000000e+00j -1.64669653e-05+3.22328060e-04j\n",
      "   6.16606541e-03-1.83917049e-03j -7.13794254e-05-4.79906579e-04j]\n",
      " [ 1.42284458e-04-1.58933936e-04j  1.99065757e-04-2.75522707e-04j\n",
      "  -6.30022550e-04-1.31333884e-03j -1.37647888e-04+1.96855891e-04j\n",
      "  -1.64669653e-05-3.22328060e-04j  2.49300916e-03+0.00000000e+00j\n",
      "  -1.66178842e-02-4.68417531e-02j -3.67398889e-03+7.39771177e-04j]\n",
      " [ 2.03780941e-03+3.73283795e-03j  3.84993166e-03+5.57687221e-03j\n",
      "   2.88762419e-02-3.08320084e-03j -2.78124064e-03-3.89850024e-03j\n",
      "   6.16606541e-03+1.83917049e-03j -1.66178842e-02+4.68417531e-02j\n",
      "   9.90892433e-01+0.00000000e+00j  1.05903113e-02-7.39626292e-02j]\n",
      " [-2.56848740e-04+1.92002332e-04j -3.75124629e-04+3.46971951e-04j\n",
      "   5.38756796e-04+2.12244099e-03j  2.61268645e-04-2.49264393e-04j\n",
      "  -7.13794254e-05+4.79906579e-04j -3.67398889e-03-7.39771177e-04j\n",
      "   1.05903113e-02+7.39626292e-02j  5.63393667e-03+0.00000000e+00j]]\n",
      "attenzione ho invertito gli arg di state_fidelity\n"
     ]
    }
   ],
   "source": [
    "reps=1\n",
    "\n",
    "#target_state = (One^One^Zero).to_matrix()\n",
    "\n",
    "fids=np.zeros([reps,5])\n",
    "#fids_mean=np.zeros(4)\n",
    "#fids_dev=np.zeros(4)\n",
    "\n",
    "for j in range(reps):\n",
    "    \n",
    "    #res = jobs_evo_result[j]\n",
    "    res=job.result()\n",
    "\n",
    "    print(j)\n",
    "    \n",
    "    new_res, new_res_nm = f2.mitigate(res, ancillas_conditions=['0011','1110','1101'], meas_fitter=meas_fitter)\n",
    "    new_res_our, new_res_nm = f2.mitigate(res, ancillas_conditions=['0011','1110','1101'], meas_fitter=meas_fitter_ours_id)\n",
    "    new_res_our_itself, new_res_nm = f2.mitigate(res, ancillas_conditions=['0011','1110','1101'], meas_fitter=meas_fitter_ours_itself)\n",
    "    new_res_not_mitigated = f2.mitigate(res, ancillas_conditions=f2.bin_list(4))\n",
    "\n",
    "    new_res_our_itself.get_counts(-1)\n",
    "\n",
    "    fids[j,0] = f2.fidelity_count(new_res_not_mitigated, qcs_na, target_state)\n",
    "    fids[j,1] = f2.fidelity_count(new_res_nm, qcs_na, target_state)\n",
    "    fids[j,2] = f2.fidelity_count(new_res, qcs_na, target_state)\n",
    "    fids[j,3] = f2.fidelity_count(new_res_our, qcs_na, target_state)\n",
    "    fids[j,4] = f2.fidelity_count(new_res_our_itself, qcs_na, target_state)\n",
    "\n",
    "#for i in range(4):\n",
    "#    fids_mean[i]=np.mean(fids[:,i])\n",
    "#    fids_dev[i]=np.std(fids[:,i])\n"
   ]
  },
  {
   "cell_type": "code",
   "execution_count": 223,
   "metadata": {},
   "outputs": [
    {
     "data": {
      "text/plain": [
       "array([[0.67266522, 0.74029464, 0.92706888, 0.98472036, 0.99089243]])"
      ]
     },
     "execution_count": 223,
     "metadata": {},
     "output_type": "execute_result"
    }
   ],
   "source": [
    "fids"
   ]
  },
  {
   "cell_type": "code",
   "execution_count": null,
   "metadata": {},
   "outputs": [],
   "source": [
    "def H_heis3():\n",
    "    # Interactions (I is the identity matrix; X, Y, and Z are Pauli matricies; ^ is a tensor product)\n",
    "    XXs = (I^X^X) + (X^X^I)\n",
    "    YYs = (I^Y^Y) + (Y^Y^I)\n",
    "    ZZs = (I^Z^Z) + (Z^Z^I)\n",
    "    \n",
    "    # Sum interactions\n",
    "    H = XXs + YYs + ZZs\n",
    "    \n",
    "    # Return Hamiltonian\n",
    "    return H\n",
    "\n",
    "def U_heis3(t):\n",
    "    # Compute XXX Hamiltonian for 3 spins in a line\n",
    "    H = H_heis3()\n",
    "    \n",
    "    # Return the exponential of -i multipled by time t multipled by the 3 spin XXX Heisenberg Hamilonian \n",
    "    return (t * H).exp_i()"
   ]
  },
  {
   "cell_type": "code",
   "execution_count": null,
   "metadata": {},
   "outputs": [
    {
     "data": {
      "text/plain": [
       "1.0000000000000009"
      ]
     },
     "execution_count": 40,
     "metadata": {},
     "output_type": "execute_result"
    }
   ],
   "source": [
    "initial_state = One^One^Zero\n",
    "target_state2 = U_heis3(float(time)) @ initial_state #Zero^One^One\n",
    "\n",
    "np.abs((~target_state2 @ U_heis3(float(time)) @ initial_state).eval())**2"
   ]
  },
  {
   "cell_type": "markdown",
   "metadata": {},
   "source": [
    "$\\hbar$"
   ]
  },
  {
   "cell_type": "markdown",
   "metadata": {},
   "source": []
  }
 ],
 "metadata": {
  "interpreter": {
   "hash": "aee8b7b246df8f9039afb4144a1f6fd8d2ca17a180786b69acc140d282b71a49"
  },
  "kernelspec": {
   "display_name": "Python 3.10.2 64-bit",
   "language": "python",
   "name": "python3"
  },
  "language_info": {
   "codemirror_mode": {
    "name": "ipython",
    "version": 3
   },
   "file_extension": ".py",
   "mimetype": "text/x-python",
   "name": "python",
   "nbconvert_exporter": "python",
   "pygments_lexer": "ipython3",
   "version": "3.10.2"
  },
  "orig_nbformat": 4
 },
 "nbformat": 4,
 "nbformat_minor": 2
}
