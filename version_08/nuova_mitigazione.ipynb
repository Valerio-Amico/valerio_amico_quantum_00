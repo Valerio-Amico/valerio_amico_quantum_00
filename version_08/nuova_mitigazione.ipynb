{
 "cells": [
  {
   "cell_type": "code",
   "execution_count": 1,
   "metadata": {},
   "outputs": [],
   "source": [
    "import funzioni02 as f2\n",
    "import funzioni01 as f1\n",
    "import qiskit.quantum_info as qi\n",
    "from copy import deepcopy\n",
    "from sympy import *\n",
    "import numpy as np\n",
    "import qiskit.ignis.mitigation.measurement as mc\n",
    "from qiskit import Aer, assemble, QuantumCircuit, QuantumRegister, ClassicalRegister, IBMQ, transpile, execute\n",
    "from qiskit.providers.aer import AerSimulator, QasmSimulator\n",
    "from qiskit.opflow import Zero, One, I, X, Y, Z\n",
    "from qiskit.ignis.verification.tomography import state_tomography_circuits, StateTomographyFitter\n",
    "from qiskit.quantum_info import state_fidelity, Statevector\n",
    "import matplotlib.pyplot as plt\n",
    "import warnings\n",
    "warnings.filterwarnings('ignore')\n",
    "plt.rcParams.update({'font.size': 16})  # enlarge matplotlib fonts\n",
    "plt.rcParams['figure.figsize'] = [15, 10]\n",
    "%load_ext autoreload\n",
    "%autoreload 2\n",
    "\n",
    "IBMQ.load_account()\n",
    "provider = IBMQ.get_provider(hub='ibm-q-community', group='ibmquantumawards', project='open-science-22')\n",
    "\n",
    "sim_noisy_jakarta = QasmSimulator.from_backend(provider.get_backend('ibmq_jakarta'))\n",
    "backend_sim_jakarta = sim_noisy_jakarta \n",
    "backend = provider.get_backend('ibmq_jakarta')\n",
    "backend_sim = Aer.get_backend('qasm_simulator')"
   ]
  },
  {
   "cell_type": "code",
   "execution_count": 2,
   "metadata": {},
   "outputs": [],
   "source": [
    "shots=32000\n",
    "precision=50\n",
    "steps=99\n",
    "backend_aus=backend_sim_jakarta\n",
    "check=[\"4copy_check\", [0,2,4,6]]\n",
    "evo_type=\"complete_evolution\" # \"column_evolution\" or \"complete_evolution\" or \"trotter_steps\"\n",
    "time=np.pi"
   ]
  },
  {
   "cell_type": "code",
   "execution_count": 3,
   "metadata": {},
   "outputs": [],
   "source": [
    "qr_cal = QuantumRegister(7)\n",
    "qcs, qcs_na = f2.evolution_tomo(type=evo_type, N_steps=steps, tempo=time, precision=precision, initial_state='110', check=check)\n",
    "cal_circ, state_labels = mc.complete_meas_cal(qubit_list=[1,3,5,0,2,4,6], qr=qr_cal, circlabel='mcal') #[1,3,5,0,2,4]\n"
   ]
  },
  {
   "cell_type": "code",
   "execution_count": 4,
   "metadata": {},
   "outputs": [
    {
     "data": {
      "text/html": [
       "<pre style=\"word-wrap: normal;white-space: pre;background: #fff0;line-height: 1.1;font-family: &quot;Courier New&quot;,Courier,monospace\">                            ┌──────────────┐ ░          \n",
       " q_0: ──────────────────────┤0             ├─░──────────\n",
       "           ┌────┐┌─────────┐│              │ ░ ┌─┐      \n",
       " q_1: ─────┤0   ├┤0        ├┤4             ├─░─┤M├──────\n",
       "           │    ││         ││              │ ░ └╥┘      \n",
       " q_2: ─────┤  U ├┤         ├┤1             ├─░──╫───────\n",
       "      ┌───┐│    ││         ││              │ ░  ║ ┌─┐   \n",
       " q_3: ┤ X ├┤1   ├┤1 Mdg_dg ├┤5 4copy_check ├─░──╫─┤M├───\n",
       "      └───┘└────┘│         ││              │ ░  ║ └╥┘   \n",
       " q_4: ───────────┤         ├┤2             ├─░──╫──╫────\n",
       "      ┌───┐      │         ││              │ ░  ║  ║ ┌─┐\n",
       " q_5: ┤ X ├──────┤2        ├┤6             ├─░──╫──╫─┤M├\n",
       "      └───┘      └─────────┘│              │ ░  ║  ║ └╥┘\n",
       " q_6: ──────────────────────┤3             ├─░──╫──╫──╫─\n",
       "                            └──────────────┘ ░  ║  ║  ║ \n",
       "c0: 3/══════════════════════════════════════════╩══╩══╩═\n",
       "                                                0  1  2 </pre>"
      ],
      "text/plain": [
       "                            ┌──────────────┐ ░          \n",
       " q_0: ──────────────────────┤0             ├─░──────────\n",
       "           ┌────┐┌─────────┐│              │ ░ ┌─┐      \n",
       " q_1: ─────┤0   ├┤0        ├┤4             ├─░─┤M├──────\n",
       "           │    ││         ││              │ ░ └╥┘      \n",
       " q_2: ─────┤  U ├┤         ├┤1             ├─░──╫───────\n",
       "      ┌───┐│    ││         ││              │ ░  ║ ┌─┐   \n",
       " q_3: ┤ X ├┤1   ├┤1 Mdg_dg ├┤5 4copy_check ├─░──╫─┤M├───\n",
       "      └───┘└────┘│         ││              │ ░  ║ └╥┘   \n",
       " q_4: ───────────┤         ├┤2             ├─░──╫──╫────\n",
       "      ┌───┐      │         ││              │ ░  ║  ║ ┌─┐\n",
       " q_5: ┤ X ├──────┤2        ├┤6             ├─░──╫──╫─┤M├\n",
       "      └───┘      └─────────┘│              │ ░  ║  ║ └╥┘\n",
       " q_6: ──────────────────────┤3             ├─░──╫──╫──╫─\n",
       "                            └──────────────┘ ░  ║  ║  ║ \n",
       "c0: 3/══════════════════════════════════════════╩══╩══╩═\n",
       "                                                0  1  2 "
      ]
     },
     "execution_count": 4,
     "metadata": {},
     "output_type": "execute_result"
    }
   ],
   "source": [
    "qcs_na[-1].draw()"
   ]
  },
  {
   "cell_type": "code",
   "execution_count": 5,
   "metadata": {},
   "outputs": [],
   "source": [
    "qcs_calib, _ = f2.calibration_cirquits(type=\"complete_evolution_remake\", n_steps=steps, time=time, q_anc=check[1], check=\"yes\", check_type=check[0])\n",
    "                                        # complete_evolution, itself, itself_whole"
   ]
  },
  {
   "cell_type": "code",
   "execution_count": 6,
   "metadata": {},
   "outputs": [
    {
     "data": {
      "text/html": [
       "<pre style=\"word-wrap: normal;white-space: pre;background: #fff0;line-height: 1.1;font-family: &quot;Courier New&quot;,Courier,monospace\">                       ┌──────────────┐      ░          ┌─┐         \n",
       "q29_0: ────────────────┤0             ├──────░──────────┤M├─────────\n",
       "       ┌───┐┌────┐┌───┐│              │┌───┐ ░ ┌─┐      └╥┘         \n",
       "q29_1: ┤ X ├┤0   ├┤ X ├┤4             ├┤ X ├─░─┤M├───────╫──────────\n",
       "       └───┘│    │└───┘│              │└───┘ ░ └╥┘       ║ ┌─┐      \n",
       "q29_2: ─────┤    ├─────┤1             ├──────░──╫────────╫─┤M├──────\n",
       "       ┌───┐│    │┌───┐│              │      ░  ║ ┌─┐    ║ └╥┘      \n",
       "q29_3: ┤ X ├┤1 U ├┤ X ├┤5 4copy_check ├──────░──╫─┤M├────╫──╫───────\n",
       "       └───┘│    │└───┘│              │      ░  ║ └╥┘    ║  ║ ┌─┐   \n",
       "q29_4: ─────┤    ├─────┤2             ├──────░──╫──╫─────╫──╫─┤M├───\n",
       "       ┌───┐│    │┌───┐│              │      ░  ║  ║ ┌─┐ ║  ║ └╥┘   \n",
       "q29_5: ┤ X ├┤2   ├┤ X ├┤6             ├──────░──╫──╫─┤M├─╫──╫──╫────\n",
       "       └───┘└────┘└───┘│              │      ░  ║  ║ └╥┘ ║  ║  ║ ┌─┐\n",
       "q29_6: ────────────────┤3             ├──────░──╫──╫──╫──╫──╫──╫─┤M├\n",
       "                       └──────────────┘      ░  ║  ║  ║  ║  ║  ║ └╥┘\n",
       "c31: 7/═════════════════════════════════════════╩══╩══╩══╩══╩══╩══╩═\n",
       "                                                0  1  2  3  4  5  6 </pre>"
      ],
      "text/plain": [
       "                       ┌──────────────┐      ░          ┌─┐         \n",
       "q29_0: ────────────────┤0             ├──────░──────────┤M├─────────\n",
       "       ┌───┐┌────┐┌───┐│              │┌───┐ ░ ┌─┐      └╥┘         \n",
       "q29_1: ┤ X ├┤0   ├┤ X ├┤4             ├┤ X ├─░─┤M├───────╫──────────\n",
       "       └───┘│    │└───┘│              │└───┘ ░ └╥┘       ║ ┌─┐      \n",
       "q29_2: ─────┤    ├─────┤1             ├──────░──╫────────╫─┤M├──────\n",
       "       ┌───┐│    │┌───┐│              │      ░  ║ ┌─┐    ║ └╥┘      \n",
       "q29_3: ┤ X ├┤1 U ├┤ X ├┤5 4copy_check ├──────░──╫─┤M├────╫──╫───────\n",
       "       └───┘│    │└───┘│              │      ░  ║ └╥┘    ║  ║ ┌─┐   \n",
       "q29_4: ─────┤    ├─────┤2             ├──────░──╫──╫─────╫──╫─┤M├───\n",
       "       ┌───┐│    │┌───┐│              │      ░  ║  ║ ┌─┐ ║  ║ └╥┘   \n",
       "q29_5: ┤ X ├┤2   ├┤ X ├┤6             ├──────░──╫──╫─┤M├─╫──╫──╫────\n",
       "       └───┘└────┘└───┘│              │      ░  ║  ║ └╥┘ ║  ║  ║ ┌─┐\n",
       "q29_6: ────────────────┤3             ├──────░──╫──╫──╫──╫──╫──╫─┤M├\n",
       "                       └──────────────┘      ░  ║  ║  ║  ║  ║  ║ └╥┘\n",
       "c31: 7/═════════════════════════════════════════╩══╩══╩══╩══╩══╩══╩═\n",
       "                                                0  1  2  3  4  5  6 "
      ]
     },
     "execution_count": 6,
     "metadata": {},
     "output_type": "execute_result"
    }
   ],
   "source": [
    "qcs_calib[1].draw()"
   ]
  },
  {
   "cell_type": "code",
   "execution_count": 7,
   "metadata": {},
   "outputs": [],
   "source": [
    "qcs_calib_itself, _ = f2.calibration_cirquits(type=\"itself_whole\", n_steps=steps, time=time, q_anc=check[1], check=\"yes\", check_type=check[0])\n",
    " "
   ]
  },
  {
   "cell_type": "code",
   "execution_count": 8,
   "metadata": {},
   "outputs": [
    {
     "data": {
      "text/html": [
       "<pre style=\"word-wrap: normal;white-space: pre;background: #fff0;line-height: 1.1;font-family: &quot;Courier New&quot;,Courier,monospace\">                   ┌──────────────┐ ░          ┌─┐         \n",
       "q425_0: ───────────┤0             ├─░──────────┤M├─────────\n",
       "        ┌───┐┌────┐│              │ ░ ┌─┐      └╥┘         \n",
       "q425_1: ┤ X ├┤0   ├┤4             ├─░─┤M├───────╫──────────\n",
       "        └───┘│    ││              │ ░ └╥┘       ║ ┌─┐      \n",
       "q425_2: ─────┤    ├┤1             ├─░──╫────────╫─┤M├──────\n",
       "             │    ││              │ ░  ║ ┌─┐    ║ └╥┘      \n",
       "q425_3: ─────┤1 U ├┤5 4copy_check ├─░──╫─┤M├────╫──╫───────\n",
       "             │    ││              │ ░  ║ └╥┘    ║  ║ ┌─┐   \n",
       "q425_4: ─────┤    ├┤2             ├─░──╫──╫─────╫──╫─┤M├───\n",
       "             │    ││              │ ░  ║  ║ ┌─┐ ║  ║ └╥┘   \n",
       "q425_5: ─────┤2   ├┤6             ├─░──╫──╫─┤M├─╫──╫──╫────\n",
       "             └────┘│              │ ░  ║  ║ └╥┘ ║  ║  ║ ┌─┐\n",
       "q425_6: ───────────┤3             ├─░──╫──╫──╫──╫──╫──╫─┤M├\n",
       "                   └──────────────┘ ░  ║  ║  ║  ║  ║  ║ └╥┘\n",
       "c287: 7/═══════════════════════════════╩══╩══╩══╩══╩══╩══╩═\n",
       "                                       0  1  2  3  4  5  6 </pre>"
      ],
      "text/plain": [
       "                   ┌──────────────┐ ░          ┌─┐         \n",
       "q425_0: ───────────┤0             ├─░──────────┤M├─────────\n",
       "        ┌───┐┌────┐│              │ ░ ┌─┐      └╥┘         \n",
       "q425_1: ┤ X ├┤0   ├┤4             ├─░─┤M├───────╫──────────\n",
       "        └───┘│    ││              │ ░ └╥┘       ║ ┌─┐      \n",
       "q425_2: ─────┤    ├┤1             ├─░──╫────────╫─┤M├──────\n",
       "             │    ││              │ ░  ║ ┌─┐    ║ └╥┘      \n",
       "q425_3: ─────┤1 U ├┤5 4copy_check ├─░──╫─┤M├────╫──╫───────\n",
       "             │    ││              │ ░  ║ └╥┘    ║  ║ ┌─┐   \n",
       "q425_4: ─────┤    ├┤2             ├─░──╫──╫─────╫──╫─┤M├───\n",
       "             │    ││              │ ░  ║  ║ ┌─┐ ║  ║ └╥┘   \n",
       "q425_5: ─────┤2   ├┤6             ├─░──╫──╫─┤M├─╫──╫──╫────\n",
       "             └────┘│              │ ░  ║  ║ └╥┘ ║  ║  ║ ┌─┐\n",
       "q425_6: ───────────┤3             ├─░──╫──╫──╫──╫──╫──╫─┤M├\n",
       "                   └──────────────┘ ░  ║  ║  ║  ║  ║  ║ └╥┘\n",
       "c287: 7/═══════════════════════════════╩══╩══╩══╩══╩══╩══╩═\n",
       "                                       0  1  2  3  4  5  6 "
      ]
     },
     "execution_count": 8,
     "metadata": {},
     "output_type": "execute_result"
    }
   ],
   "source": [
    "qcs_calib_itself[1].draw()"
   ]
  },
  {
   "cell_type": "code",
   "execution_count": 9,
   "metadata": {},
   "outputs": [],
   "source": [
    "job=execute(qcs, backend_aus, shots=shots)\n",
    "\n",
    "job_cal_our_identity=execute(qcs_calib, backend = backend_aus, shots=shots)\n",
    "\n",
    "job_cal_our_itself_new=execute(qcs_calib_itself, backend = backend_aus, shots=shots)\n",
    "\n",
    "job_cal=execute(cal_circ, backend_aus, shots=shots)"
   ]
  },
  {
   "cell_type": "code",
   "execution_count": 10,
   "metadata": {},
   "outputs": [],
   "source": [
    "qc_ausiliare = QuantumCircuit(7)\n",
    "\n",
    "qc_ausiliare.swap(5,4)\n",
    "qc_ausiliare.swap(5,2)\n",
    "qc_ausiliare.swap(1,3)\n",
    "qc_ausiliare.swap(0,1)\n",
    "\n",
    "qc_ausiliare2=qcs_calib[0].copy()\n",
    "qc_ausiliare2.remove_final_measurements()\n",
    "\n",
    "qc_ausiliare.append(qc_ausiliare2,[0,1,2,3,4,5,6])\n",
    "\n",
    "qc_ausiliare.swap(0,1)\n",
    "qc_ausiliare.swap(1,3)\n",
    "qc_ausiliare.swap(5,2)\n",
    "qc_ausiliare.swap(5,4)\n",
    "\n",
    "U = f2.matrix_from_cirquit(qc_ausiliare, type=\"numpy\")\n",
    "# Matrix(U)"
   ]
  },
  {
   "cell_type": "code",
   "execution_count": 12,
   "metadata": {},
   "outputs": [],
   "source": [
    "meas_fitter_our = mc.CompleteMeasFitter(job_cal_our_itself_new.result(), state_labels=state_labels)\n",
    "meas_fitter = mc.CompleteMeasFitter(job_cal.result(), state_labels=state_labels)\n",
    "\n",
    "U_tilde=meas_fitter_our.cal_matrix"
   ]
  },
  {
   "cell_type": "code",
   "execution_count": 13,
   "metadata": {},
   "outputs": [],
   "source": [
    "qr_basi = QuantumRegister(7)\n",
    "qc_basi = QuantumCircuit(qr_basi)\n",
    "\n",
    "#qc_basi.swap(5,4)\n",
    "#qc_basi.swap(5,2)\n",
    "#qc_basi.swap(1,3)\n",
    "#qc_basi.swap(0,1)\n",
    "\n",
    "qcs_basi = state_tomography_circuits(qc_basi,[0,1,2])\n",
    "\n",
    "\n",
    "C_matrices = []\n",
    "C=U_tilde # @ np.asarray(np.matrix(U).getH())\n",
    "\n",
    "for qca in qcs_basi:\n",
    "    \n",
    "    qca.remove_final_measurements()\n",
    "\n",
    "    #qca.swap(0,1)\n",
    "    #qca.swap(1,3)\n",
    "    #qca.swap(5,2)\n",
    "    #qca.swap(5,4)\n",
    "\n",
    "    qca_matrix = np.matrix(f2.matrix_from_cirquit(qca, type=\"numpy\"))\n",
    "    qca_matrixH = np.asarray(qca_matrix.getH())\n",
    "\n",
    "    C_aus = qca_matrix @ (C @ qca_matrixH)\n",
    "\n",
    "    C_matrices.append(np.asarray(C_aus))"
   ]
  },
  {
   "cell_type": "code",
   "execution_count": 14,
   "metadata": {},
   "outputs": [],
   "source": [
    "from copy import deepcopy\n",
    "meas_fitter_ours = []\n",
    "\n",
    "for C_new in C_matrices:\n",
    "    meas_fitter_our_aus = deepcopy(meas_fitter_our)\n",
    "    meas_fitter_our_aus._tens_fitt.cal_matrices[0]=C_new\n",
    "\n",
    "    meas_fitter_ours.append(meas_fitter_our_aus)\n",
    "\n"
   ]
  },
  {
   "cell_type": "code",
   "execution_count": 15,
   "metadata": {},
   "outputs": [
    {
     "data": {
      "text/plain": [
       "(128, 128)"
      ]
     },
     "execution_count": 15,
     "metadata": {},
     "output_type": "execute_result"
    }
   ],
   "source": [
    "np.shape(meas_fitter.cal_matrix)"
   ]
  },
  {
   "cell_type": "code",
   "execution_count": 16,
   "metadata": {},
   "outputs": [
    {
     "data": {
      "text/plain": [
       "(128, 128)"
      ]
     },
     "execution_count": 16,
     "metadata": {},
     "output_type": "execute_result"
    }
   ],
   "source": [
    "np.shape(meas_fitter_ours[0].cal_matrix)"
   ]
  },
  {
   "cell_type": "code",
   "execution_count": 17,
   "metadata": {},
   "outputs": [],
   "source": [
    "U = f2.Trotter_N_approx(steps=steps, tempo=time, precision=precision)\n",
    "\n",
    "U2=[\n",
    "    [U[3*8+3],U[3*8+5],U[3*8+6],0],\n",
    "    [U[5*8+3],U[5*8+5],U[5*8+6],0],\n",
    "    [U[6*8+3],U[6*8+5],U[6*8+6],0],\n",
    "    [0,0,0,1]\n",
    "]\n",
    "\n",
    "qc=QuantumCircuit(2, name=\"U, t=%.2f pi\"%(time/np.pi))\n",
    "qc.unitary(U2,[0,1])    \n",
    "trans_qc=transpile(qc,basis_gates=['cx','x','sx','rz']) \n",
    "\n",
    "qr2=QuantumRegister(3, name=\"q\")\n",
    "qc2=QuantumCircuit(qr2)\n",
    "\n",
    "#qc2.x([qr2[1],qr2[2]])\n",
    "qc2.append(trans_qc,[qr2[0],qr2[1]])\n",
    "qc2.append(f2.Mdg_circquit().inverse(),[qr2[0],qr2[1],qr2[2]])\n",
    "\n",
    "target_state = Statevector.from_instruction(qc2)"
   ]
  },
  {
   "cell_type": "code",
   "execution_count": 18,
   "metadata": {},
   "outputs": [
    {
     "data": {
      "text/html": [
       "<pre style=\"word-wrap: normal;white-space: pre;background: #fff0;line-height: 1.1;font-family: &quot;Courier New&quot;,Courier,monospace\">     ┌───────────────┐┌─────────┐\n",
       "q_0: ┤0              ├┤0        ├\n",
       "     │  U, t=1.00 pi ││         │\n",
       "q_1: ┤1              ├┤1 Mdg_dg ├\n",
       "     └───────────────┘│         │\n",
       "q_2: ─────────────────┤2        ├\n",
       "                      └─────────┘</pre>"
      ],
      "text/plain": [
       "     ┌───────────────┐┌─────────┐\n",
       "q_0: ┤0              ├┤0        ├\n",
       "     │  U, t=1.00 pi ││         │\n",
       "q_1: ┤1              ├┤1 Mdg_dg ├\n",
       "     └───────────────┘│         │\n",
       "q_2: ─────────────────┤2        ├\n",
       "                      └─────────┘"
      ]
     },
     "execution_count": 18,
     "metadata": {},
     "output_type": "execute_result"
    }
   ],
   "source": [
    "#qcs2=\n",
    "qc2.draw()"
   ]
  },
  {
   "cell_type": "code",
   "execution_count": 19,
   "metadata": {},
   "outputs": [
    {
     "data": {
      "text/latex": [
       "$\\displaystyle \\left[\\begin{matrix}0 & 0 & 0 & 1.0 & 0 & 0 & 0 & 0\\\\0.0001020679 - 0.0021063946 i & -9.87301 \\cdot 10^{-5} + 0.0010531973 i & 0.9999966622 + 0.0010531973 i & 0 & 0 & 0 & 0 & 0\\\\-9.87301 \\cdot 10^{-5} + 0.0010531973 i & 0.9999966622 - 0.0021063946 i & 0.0001020679 + 0.0010531973 i & 0 & 0 & 0 & 0 & 0\\\\0 & 0 & 0 & 0 & 0.9999966622 + 0.0010531973 i & 0.0001020679 + 0.0010531973 i & -9.87301 \\cdot 10^{-5} - 0.0021063946 i & 0\\\\0.9999966622 + 0.0010531973 i & 0.0001020679 + 0.0010531973 i & -9.87301 \\cdot 10^{-5} - 0.0021063946 i & 0 & 0 & 0 & 0 & 0\\\\0 & 0 & 0 & 0 & -9.87301 \\cdot 10^{-5} + 0.0010531973 i & 0.9999966622 - 0.0021063946 i & 0.0001020679 + 0.0010531973 i & 0\\\\0 & 0 & 0 & 0 & 0.0001020679 - 0.0021063946 i & -9.87301 \\cdot 10^{-5} + 0.0010531973 i & 0.9999966622 + 0.0010531973 i & 0\\\\0 & 0 & 0 & 0 & 0 & 0 & 0 & 1.0\\end{matrix}\\right]$"
      ],
      "text/plain": [
       "Matrix([\n",
       "[                            0,                             0,                             0, 1.0,                             0,                             0,                             0,   0],\n",
       "[0.0001020679 - 0.0021063946*I,  -9.87301e-5 + 0.0010531973*I, 0.9999966622 + 0.0010531973*I,   0,                             0,                             0,                             0,   0],\n",
       "[ -9.87301e-5 + 0.0010531973*I, 0.9999966622 - 0.0021063946*I, 0.0001020679 + 0.0010531973*I,   0,                             0,                             0,                             0,   0],\n",
       "[                            0,                             0,                             0,   0, 0.9999966622 + 0.0010531973*I, 0.0001020679 + 0.0010531973*I,  -9.87301e-5 - 0.0021063946*I,   0],\n",
       "[0.9999966622 + 0.0010531973*I, 0.0001020679 + 0.0010531973*I,  -9.87301e-5 - 0.0021063946*I,   0,                             0,                             0,                             0,   0],\n",
       "[                            0,                             0,                             0,   0,  -9.87301e-5 + 0.0010531973*I, 0.9999966622 - 0.0021063946*I, 0.0001020679 + 0.0010531973*I,   0],\n",
       "[                            0,                             0,                             0,   0, 0.0001020679 - 0.0021063946*I,  -9.87301e-5 + 0.0010531973*I, 0.9999966622 + 0.0010531973*I,   0],\n",
       "[                            0,                             0,                             0,   0,                             0,                             0,                             0, 1.0]])"
      ]
     },
     "execution_count": 19,
     "metadata": {},
     "output_type": "execute_result"
    }
   ],
   "source": [
    "f2.matrix_from_cirquit(qc2)"
   ]
  },
  {
   "cell_type": "code",
   "execution_count": 20,
   "metadata": {},
   "outputs": [],
   "source": [
    "#target_state = (np.asarray(target_state))\n",
    "#target_state"
   ]
  },
  {
   "cell_type": "code",
   "execution_count": 21,
   "metadata": {},
   "outputs": [],
   "source": [
    "target_state=((One^One^Zero).to_matrix())\n"
   ]
  },
  {
   "cell_type": "code",
   "execution_count": 22,
   "metadata": {},
   "outputs": [
    {
     "name": "stdout",
     "output_type": "stream",
     "text": [
      "0\n",
      "0\n",
      "tens_fitt\n",
      "1\n",
      "tens_fitt\n",
      "2\n",
      "tens_fitt\n",
      "3\n",
      "tens_fitt\n",
      "4\n",
      "tens_fitt\n",
      "5\n",
      "tens_fitt\n",
      "6\n",
      "tens_fitt\n",
      "7\n",
      "tens_fitt\n",
      "8\n",
      "tens_fitt\n",
      "9\n",
      "tens_fitt\n",
      "10\n",
      "tens_fitt\n",
      "11\n",
      "tens_fitt\n",
      "12\n",
      "tens_fitt\n",
      "13\n",
      "tens_fitt\n",
      "14\n",
      "tens_fitt\n",
      "15\n",
      "tens_fitt\n",
      "16\n",
      "tens_fitt\n",
      "17\n",
      "tens_fitt\n",
      "18\n",
      "tens_fitt\n",
      "19\n",
      "tens_fitt\n",
      "20\n",
      "tens_fitt\n",
      "21\n",
      "tens_fitt\n",
      "22\n",
      "tens_fitt\n",
      "23\n",
      "tens_fitt\n",
      "24\n",
      "tens_fitt\n",
      "25\n",
      "tens_fitt\n",
      "26\n",
      "tens_fitt\n",
      "0\n",
      "0 (128, 128)\n",
      "deepcopy\n",
      "1\n",
      "1 (128, 128)\n",
      "deepcopy\n",
      "2\n",
      "2 (128, 128)\n",
      "deepcopy\n",
      "3\n",
      "3 (128, 128)\n",
      "deepcopy\n",
      "4\n",
      "4 (128, 128)\n",
      "deepcopy\n",
      "5\n",
      "5 (128, 128)\n",
      "deepcopy\n",
      "6\n",
      "6 (128, 128)\n",
      "deepcopy\n",
      "7\n",
      "7 (128, 128)\n",
      "deepcopy\n",
      "8\n",
      "8 (128, 128)\n",
      "deepcopy\n",
      "9\n",
      "9 (128, 128)\n",
      "deepcopy\n",
      "10\n",
      "10 (128, 128)\n",
      "deepcopy\n",
      "11\n",
      "11 (128, 128)\n",
      "deepcopy\n",
      "12\n",
      "12 (128, 128)\n",
      "deepcopy\n",
      "13\n",
      "13 (128, 128)\n",
      "deepcopy\n",
      "14\n",
      "14 (128, 128)\n",
      "deepcopy\n",
      "15\n",
      "15 (128, 128)\n",
      "deepcopy\n",
      "16\n",
      "16 (128, 128)\n",
      "deepcopy\n",
      "17\n",
      "17 (128, 128)\n",
      "deepcopy\n",
      "18\n",
      "18 (128, 128)\n",
      "deepcopy\n",
      "19\n",
      "19 (128, 128)\n",
      "deepcopy\n",
      "20\n",
      "20 (128, 128)\n",
      "deepcopy\n",
      "21\n",
      "21 (128, 128)\n",
      "deepcopy\n",
      "22\n",
      "22 (128, 128)\n",
      "deepcopy\n",
      "23\n",
      "23 (128, 128)\n",
      "deepcopy\n",
      "24\n",
      "24 (128, 128)\n",
      "deepcopy\n",
      "25\n",
      "25 (128, 128)\n",
      "deepcopy\n",
      "26\n",
      "26 (128, 128)\n",
      "deepcopy\n",
      "[[ 3.78660650e-03+0.00000000e+00j  1.79217245e-05+1.32777737e-04j\n",
      "   3.36533121e-04-7.05976038e-04j -6.62701565e-04-7.77549226e-05j\n",
      "  -1.58637714e-04+5.52035821e-05j -1.51844158e-04-2.97843195e-04j\n",
      "  -5.78166828e-04+6.42687258e-04j -1.38471904e-03+5.47866100e-04j]\n",
      " [ 1.79217245e-05-1.32777737e-04j  9.81638584e-03+0.00000000e+00j\n",
      "   2.58542888e-04+3.37534886e-04j  3.66424727e-04-5.20197603e-04j\n",
      "  -5.28825543e-05-9.40909483e-04j  4.86680324e-04-4.47212468e-04j\n",
      "  -1.27937115e-03-5.89274559e-04j -4.02294080e-04-3.29879236e-04j]\n",
      " [ 3.36533121e-04+7.05976038e-04j  2.58542888e-04-3.37534886e-04j\n",
      "   4.50037216e-02+0.00000000e+00j  8.84532347e-04-1.36270196e-04j\n",
      "   2.63579862e-04+1.21960823e-03j -5.07168206e-05+1.46284990e-03j\n",
      "   7.57053503e-03-9.57206357e-03j  7.80546048e-04-1.26279682e-03j]\n",
      " [-6.62701565e-04+7.77549226e-05j  3.66424727e-04+5.20197603e-04j\n",
      "   8.84532347e-04+1.36270196e-04j  1.74845791e-02+0.00000000e+00j\n",
      "  -5.71754347e-05-7.57851703e-04j -8.35435641e-04+1.62466693e-04j\n",
      "   3.56598574e-04+1.58193812e-04j  3.48989115e-04-5.43549321e-04j]\n",
      " [-1.58637714e-04-5.52035821e-05j -5.28825543e-05+9.40909483e-04j\n",
      "   2.63579862e-04-1.21960823e-03j -5.71754347e-05+7.57851703e-04j\n",
      "   3.96763706e-02+0.00000000e+00j -4.19125414e-04-8.87164344e-04j\n",
      "   7.90222725e-03-9.25771309e-03j -1.09339250e-03-2.16368163e-03j]\n",
      " [-1.51844158e-04+2.97843195e-04j  4.86680324e-04+4.47212468e-04j\n",
      "  -5.07168206e-05-1.46284990e-03j -8.35435641e-04-1.62466693e-04j\n",
      "  -4.19125414e-04+8.87164344e-04j  2.11096516e-02+0.00000000e+00j\n",
      "   1.15470566e-03+4.12219665e-04j  9.06426098e-04-3.68454579e-04j]\n",
      " [-5.78166828e-04-6.42687258e-04j -1.27937115e-03+5.89274559e-04j\n",
      "   7.57053503e-03+9.57206357e-03j  3.56598574e-04-1.58193812e-04j\n",
      "   7.90222725e-03+9.25771309e-03j  1.15470566e-03-4.12219665e-04j\n",
      "   8.18410553e-01+0.00000000e+00j  3.75421773e-03-4.79400510e-03j]\n",
      " [-1.38471904e-03-5.47866100e-04j -4.02294080e-04+3.29879236e-04j\n",
      "   7.80546048e-04+1.26279682e-03j  3.48989115e-04+5.43549321e-04j\n",
      "  -1.09339250e-03+2.16368163e-03j  9.06426098e-04+3.68454579e-04j\n",
      "   3.75421773e-03+4.79400510e-03j  4.47121314e-02+0.00000000e+00j]]\n",
      "attenzione ho invertito gli arg di state_fidelity\n",
      "[[ 1.81181787e-03+0.00000000e+00j  3.32775396e-04-3.59834104e-05j\n",
      "   1.21958028e-04-6.09671658e-04j -4.21779754e-04+6.85113542e-05j\n",
      "  -1.40572008e-04+1.26479983e-04j  1.41968550e-04-3.39731074e-04j\n",
      "  -4.12064540e-04+6.32172040e-04j -1.67582154e-03-4.43305164e-05j]\n",
      " [ 3.32775396e-04+3.59834104e-05j  1.81222070e-03+0.00000000e+00j\n",
      "  -2.53989185e-05+2.67701734e-04j  3.69840239e-04-2.21044655e-04j\n",
      "   2.31003523e-04-6.77203952e-04j  4.53924554e-04-9.20759639e-05j\n",
      "  -1.26040200e-03-7.79703657e-04j -2.16683565e-04-4.96407357e-04j]\n",
      " [ 1.21958028e-04+6.09671658e-04j -2.53989185e-05-2.67701734e-04j\n",
      "   4.26838524e-02+0.00000000e+00j  5.90816150e-04-4.95751474e-04j\n",
      "   7.46252616e-04+1.44237741e-03j  6.53579128e-04+1.58760778e-03j\n",
      "   7.41773575e-03-1.01790459e-02j  7.50535632e-04-1.83558562e-03j]\n",
      " [-4.21779754e-04-6.85113542e-05j  3.69840239e-04+2.21044655e-04j\n",
      "   5.90816150e-04+4.95751474e-04j  1.72598817e-02+0.00000000e+00j\n",
      "   4.99453552e-05-4.31582719e-04j -1.22367288e-03+3.25576304e-04j\n",
      "   2.23016256e-04-1.22580783e-04j  3.11442790e-04-3.80344312e-04j]\n",
      " [-1.40572008e-04-1.26479983e-04j  2.31003523e-04+6.77203952e-04j\n",
      "   7.46252616e-04-1.44237741e-03j  4.99453552e-05+4.31582719e-04j\n",
      "   3.22131063e-02+0.00000000e+00j -6.17516757e-04-6.98383443e-04j\n",
      "   8.83937175e-03-1.01910272e-02j -8.38684390e-04-2.17745623e-03j]\n",
      " [ 1.41968550e-04+3.39731074e-04j  4.53924554e-04+9.20759639e-05j\n",
      "   6.53579128e-04-1.58760778e-03j -1.22367288e-03-3.25576304e-04j\n",
      "  -6.17516757e-04+6.98383443e-04j  2.10951016e-02+0.00000000e+00j\n",
      "   7.64282442e-04+5.83851201e-04j  6.69635034e-04-3.14807741e-04j]\n",
      " [-4.12064540e-04-6.32172040e-04j -1.26040200e-03+7.79703657e-04j\n",
      "   7.41773575e-03+1.01790459e-02j  2.23016256e-04+1.22580783e-04j\n",
      "   8.83937175e-03+1.01910272e-02j  7.64282442e-04-5.83851201e-04j\n",
      "   8.54842712e-01+0.00000000e+00j  4.16454509e-03-4.13306801e-03j]\n",
      " [-1.67582154e-03+4.43305164e-05j -2.16683565e-04+4.96407357e-04j\n",
      "   7.50535632e-04+1.83558562e-03j  3.11442790e-04+3.80344312e-04j\n",
      "  -8.38684390e-04+2.17745623e-03j  6.69635034e-04+3.14807741e-04j\n",
      "   4.16454509e-03+4.13306801e-03j  2.82813078e-02+0.00000000e+00j]]\n",
      "attenzione ho invertito gli arg di state_fidelity\n",
      "[[ 6.55004924e-04+0.00000000e+00j -4.42391474e-05-2.72503386e-04j\n",
      "  -3.30516654e-04-1.24811562e-04j -6.32863242e-04+4.39771850e-04j\n",
      "  -1.41898875e-04-2.32426373e-04j -1.86462132e-05-6.64598068e-04j\n",
      "  -3.71097254e-04+1.41735541e-03j -1.12854585e-03+2.22515565e-04j]\n",
      " [-4.42391474e-05+2.72503386e-04j  4.02333014e-04+0.00000000e+00j\n",
      "  -3.11746190e-05-2.49606781e-04j  5.75936556e-04-4.21085553e-04j\n",
      "   4.23240101e-04-4.40703468e-04j  7.16259213e-05+1.65498492e-04j\n",
      "  -1.76895681e-03-6.31829318e-04j -3.02519420e-04-6.68079029e-04j]\n",
      " [-3.30516654e-04+1.24811562e-04j -3.11746190e-05+2.49606781e-04j\n",
      "   1.41290544e-03+0.00000000e+00j  1.00229067e-04+1.65745248e-05j\n",
      "   4.22117205e-04+1.29932025e-03j  4.49878949e-04+2.08796933e-03j\n",
      "  -2.69771661e-03-5.68451792e-04j  1.00131399e-03-1.47166606e-03j]\n",
      " [-6.32863242e-04-4.39771850e-04j  5.75936556e-04+4.21085553e-04j\n",
      "   1.00229067e-04-1.65745248e-05j  1.68353945e-02+0.00000000e+00j\n",
      "  -1.61863654e-04-7.60672451e-04j -1.13546332e-03+3.55353972e-04j\n",
      "  -2.93823684e-05-1.49397645e-04j -3.11228411e-04+5.39625332e-04j]\n",
      " [-1.41898875e-04+2.32426373e-04j  4.23240101e-04+4.40703468e-04j\n",
      "   4.22117205e-04-1.29932025e-03j -1.61863654e-04+7.60672451e-04j\n",
      "   2.26397518e-03+0.00000000e+00j -8.06185464e-04-4.24433534e-04j\n",
      "   2.32584491e-04-1.99636616e-03j -8.30022254e-04-1.97334626e-03j]\n",
      " [-1.86462132e-05+6.64598068e-04j  7.16259213e-05-1.65498492e-04j\n",
      "   4.49878949e-04-2.08796933e-03j -1.13546332e-03-3.55353972e-04j\n",
      "  -8.06185464e-04+4.24433534e-04j  2.19601746e-02+0.00000000e+00j\n",
      "   3.73868947e-04+7.69759053e-04j -7.69409083e-05+4.88424957e-04j]\n",
      " [-3.71097254e-04-1.41735541e-03j -1.76895681e-03+6.31829318e-04j\n",
      "  -2.69771661e-03+5.68451792e-04j -2.93823684e-05+1.49397645e-04j\n",
      "   2.32584491e-04+1.99636616e-03j  3.73868947e-04-7.69759053e-04j\n",
      "   9.52318905e-01+0.00000000e+00j  1.20848749e-03-1.16440199e-03j]\n",
      " [-1.12854585e-03-2.22515565e-04j -3.02519420e-04+6.68079029e-04j\n",
      "   1.00131399e-03+1.47166606e-03j -3.11228411e-04-5.39625332e-04j\n",
      "  -8.30022254e-04+1.97334626e-03j -7.69409083e-05-4.88424957e-04j\n",
      "   1.20848749e-03+1.16440199e-03j  4.15130728e-03+0.00000000e+00j]]\n",
      "attenzione ho invertito gli arg di state_fidelity\n",
      "[[ 1.00015824e-01+0.00000000e+00j  1.46400585e-01+1.25462876e-01j\n",
      "   1.02848261e-01-1.25430341e-01j  1.62268005e-01-3.02088300e-03j\n",
      "   1.84750075e-03-2.37191830e-03j -1.07120712e-02-4.84976998e-03j\n",
      "  -3.94536718e-03+3.91367153e-03j  3.76858082e-04+3.11369489e-03j]\n",
      " [ 1.46400585e-01-1.25462876e-01j  3.71681831e-01+0.00000000e+00j\n",
      "  -6.79698185e-03-3.12617671e-01j  2.33734236e-01-2.07975786e-01j\n",
      "  -2.71082097e-04-5.78951371e-03j -2.17637519e-02+6.33857797e-03j\n",
      "  -8.65698804e-04+1.06779195e-02j  4.45754822e-03+4.08500414e-03j]\n",
      " [ 1.02848261e-01+1.25430341e-01j -6.79698185e-03+3.12617671e-01j\n",
      "   2.63063725e-01+0.00000000e+00j  1.70651921e-01+2.00394676e-01j\n",
      "   4.87445626e-03-1.22130894e-04j -4.93331527e-03-1.84211766e-02j\n",
      "  -8.96525441e-03-9.23398293e-04j -3.51736954e-03+3.67449396e-03j]\n",
      " [ 1.62268005e-01+3.02088300e-03j  2.33734236e-01+2.07975786e-01j\n",
      "   1.70651921e-01-2.00394676e-01j  2.63358638e-01+0.00000000e+00j\n",
      "   3.06906984e-03-3.79245354e-03j -1.72330314e-02-8.19192783e-03j\n",
      "  -6.51926444e-03+6.23046587e-03j  5.17377142e-04+5.06311383e-03j]\n",
      " [ 1.84750075e-03+2.37191830e-03j -2.71082097e-04+5.78951371e-03j\n",
      "   4.87445626e-03+1.22130894e-04j  3.06906984e-03+3.79245354e-03j\n",
      "   9.03782527e-05+0.00000000e+00j -8.28599031e-05-3.43626738e-04j\n",
      "  -1.65693560e-04-2.12724089e-05j -6.68812594e-05+6.64537865e-05j]\n",
      " [-1.07120712e-02+4.84976998e-03j -2.17637519e-02-6.33857797e-03j\n",
      "  -4.93331527e-03+1.84211766e-02j -1.72330314e-02+8.19192783e-03j\n",
      "  -8.28599031e-05+3.43626738e-04j  1.38246862e-03+0.00000000e+00j\n",
      "   2.32789639e-04-6.10479911e-04j -1.91346067e-04-3.15214584e-04j]\n",
      " [-3.94536718e-03-3.91367153e-03j -8.65698804e-04-1.06779195e-02j\n",
      "  -8.96525441e-03+9.23398293e-04j -6.51926444e-03-6.23046587e-03j\n",
      "  -1.65693560e-04+2.12724089e-05j  2.32789639e-04+6.10479911e-04j\n",
      "   3.08778609e-04+0.00000000e+00j  1.06974427e-04-1.37573914e-04j]\n",
      " [ 3.76858082e-04-3.11369489e-03j  4.45754822e-03-4.08500414e-03j\n",
      "  -3.51736954e-03-3.67449396e-03j  5.17377142e-04-5.06311383e-03j\n",
      "  -6.68812594e-05-6.64537865e-05j -1.91346067e-04+3.15214584e-04j\n",
      "   1.06974427e-04+1.37573914e-04j  9.83556146e-05+0.00000000e+00j]]\n",
      "attenzione ho invertito gli arg di state_fidelity\n"
     ]
    }
   ],
   "source": [
    "reps=1\n",
    "\n",
    "#target_state = (One^One^Zero).to_matrix()\n",
    "\n",
    "fids=np.zeros([reps,4])\n",
    "fids_mean=np.zeros(4)\n",
    "fids_dev=np.zeros(4)\n",
    "\n",
    "for j in range(reps):\n",
    "    \n",
    "    #res = jobs_evo_result[j]\n",
    "    res=job.result()\n",
    "\n",
    "    print(j)\n",
    "    \n",
    "    new_res, new_res_nm = f2.mitigate(res, ancillas_conditions=['0011','1110','1101'], meas_fitter=meas_fitter)\n",
    "    new_res_our, new_res_nm = f2.mitigate(res, ancillas_conditions=['0011','1110','1101'], meas_fitter=meas_fitter_ours)\n",
    "    new_res_not_mitigated = f2.mitigate(res, ancillas_conditions=f2.bin_list(4))\n",
    "\n",
    "    fids[j,0] = f2.fidelity_count(new_res_not_mitigated, qcs_na, target_state)\n",
    "    fids[j,1] = f2.fidelity_count(new_res_nm, qcs_na, target_state)\n",
    "    fids[j,2] = f2.fidelity_count(new_res, qcs_na, target_state)\n",
    "    fids[j,3] = f2.fidelity_count(new_res_our, qcs_na, target_state)\n",
    "\n",
    "for i in range(4):\n",
    "    fids_mean[i]=np.mean(fids[:,i])\n",
    "    fids_dev[i]=np.std(fids[:,i])\n"
   ]
  },
  {
   "cell_type": "code",
   "execution_count": 23,
   "metadata": {},
   "outputs": [
    {
     "data": {
      "text/plain": [
       "array([8.18410553e-01, 8.54842712e-01, 9.52318905e-01, 3.08778609e-04])"
      ]
     },
     "execution_count": 23,
     "metadata": {},
     "output_type": "execute_result"
    }
   ],
   "source": [
    "fids_mean"
   ]
  },
  {
   "cell_type": "code",
   "execution_count": 24,
   "metadata": {},
   "outputs": [],
   "source": [
    "def H_heis3():\n",
    "    # Interactions (I is the identity matrix; X, Y, and Z are Pauli matricies; ^ is a tensor product)\n",
    "    XXs = (I^X^X) + (X^X^I)\n",
    "    YYs = (I^Y^Y) + (Y^Y^I)\n",
    "    ZZs = (I^Z^Z) + (Z^Z^I)\n",
    "    \n",
    "    # Sum interactions\n",
    "    H = XXs + YYs + ZZs\n",
    "    \n",
    "    # Return Hamiltonian\n",
    "    return H\n",
    "\n",
    "def U_heis3(t):\n",
    "    # Compute XXX Hamiltonian for 3 spins in a line\n",
    "    H = H_heis3()\n",
    "    \n",
    "    # Return the exponential of -i multipled by time t multipled by the 3 spin XXX Heisenberg Hamilonian \n",
    "    return (t * H).exp_i()"
   ]
  },
  {
   "cell_type": "code",
   "execution_count": null,
   "metadata": {},
   "outputs": [
    {
     "data": {
      "text/plain": [
       "1.0000000000000009"
      ]
     },
     "execution_count": 44,
     "metadata": {},
     "output_type": "execute_result"
    }
   ],
   "source": [
    "initial_state = One^One^Zero\n",
    "target_state2 = U_heis3(float(time)) @ initial_state #Zero^One^One\n",
    "\n",
    "np.abs((~target_state2 @ U_heis3(float(time)) @ initial_state).eval())**2"
   ]
  },
  {
   "cell_type": "markdown",
   "metadata": {},
   "source": [
    "$\\hbar$"
   ]
  },
  {
   "cell_type": "markdown",
   "metadata": {},
   "source": []
  }
 ],
 "metadata": {
  "interpreter": {
   "hash": "aee8b7b246df8f9039afb4144a1f6fd8d2ca17a180786b69acc140d282b71a49"
  },
  "kernelspec": {
   "display_name": "Python 3.10.2 64-bit",
   "language": "python",
   "name": "python3"
  },
  "language_info": {
   "codemirror_mode": {
    "name": "ipython",
    "version": 3
   },
   "file_extension": ".py",
   "mimetype": "text/x-python",
   "name": "python",
   "nbconvert_exporter": "python",
   "pygments_lexer": "ipython3",
   "version": "3.10.2"
  },
  "orig_nbformat": 4
 },
 "nbformat": 4,
 "nbformat_minor": 2
}
