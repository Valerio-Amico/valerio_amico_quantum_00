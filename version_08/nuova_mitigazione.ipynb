{
 "cells": [
  {
   "cell_type": "code",
   "execution_count": 1,
   "metadata": {},
   "outputs": [],
   "source": [
    "import funzioni02 as f2\n",
    "import funzioni01 as f1\n",
    "import qiskit.quantum_info as qi\n",
    "from copy import deepcopy\n",
    "from sympy import *\n",
    "import numpy as np\n",
    "import qiskit.ignis.mitigation.measurement as mc\n",
    "from qiskit import Aer, assemble, QuantumCircuit, QuantumRegister, ClassicalRegister, IBMQ, transpile, execute\n",
    "from qiskit.providers.aer import AerSimulator, QasmSimulator\n",
    "from qiskit.opflow import Zero, One, I, X, Y, Z\n",
    "from qiskit.ignis.verification.tomography import state_tomography_circuits, StateTomographyFitter\n",
    "from qiskit.quantum_info import state_fidelity, Statevector\n",
    "import matplotlib.pyplot as plt\n",
    "import warnings\n",
    "warnings.filterwarnings('ignore')\n",
    "plt.rcParams.update({'font.size': 16})  # enlarge matplotlib fonts\n",
    "plt.rcParams['figure.figsize'] = [15, 10]\n",
    "%load_ext autoreload\n",
    "%autoreload 2\n",
    "\n",
    "IBMQ.load_account()\n",
    "provider = IBMQ.get_provider(hub='ibm-q-community', group='ibmquantumawards', project='open-science-22')\n",
    "\n",
    "sim_noisy_jakarta = QasmSimulator.from_backend(provider.get_backend('ibmq_jakarta'))\n",
    "backend_sim_jakarta = sim_noisy_jakarta \n",
    "backend = provider.get_backend('ibmq_jakarta')\n",
    "backend_sim = Aer.get_backend('qasm_simulator')"
   ]
  },
  {
   "cell_type": "code",
   "execution_count": 2,
   "metadata": {},
   "outputs": [],
   "source": [
    "shots=32000\n",
    "precision=50\n",
    "steps=42\n",
    "backend_aus=backend_sim_jakarta\n",
    "check=[\"4copy_check\", [0,2,4,6]]\n",
    "evo_type=\"complete_evolution\" # \"column_evolution\" or \"complete_evolution\" or \"trotter_steps\"\n",
    "time=np.pi"
   ]
  },
  {
   "cell_type": "code",
   "execution_count": 3,
   "metadata": {},
   "outputs": [],
   "source": [
    "qr_cal = QuantumRegister(7)\n",
    "qcs, qcs_na = f2.evolution_tomo(type=evo_type, N_steps=steps, tempo=time, precision=precision, initial_state='110', check=check)\n",
    "cal_circ, state_labels = mc.complete_meas_cal(qubit_list=[1,3,5,0,2,4,6], qr=qr_cal, circlabel='mcal') #[1,3,5,0,2,4]\n"
   ]
  },
  {
   "cell_type": "code",
   "execution_count": 4,
   "metadata": {},
   "outputs": [
    {
     "data": {
      "text/html": [
       "<pre style=\"word-wrap: normal;white-space: pre;background: #fff0;line-height: 1.1;font-family: &quot;Courier New&quot;,Courier,monospace\">                            ┌──────────────┐ ░          \n",
       " q_0: ──────────────────────┤0             ├─░──────────\n",
       "           ┌────┐┌─────────┐│              │ ░ ┌─┐      \n",
       " q_1: ─────┤0   ├┤0        ├┤4             ├─░─┤M├──────\n",
       "           │    ││         ││              │ ░ └╥┘      \n",
       " q_2: ─────┤  U ├┤         ├┤1             ├─░──╫───────\n",
       "      ┌───┐│    ││         ││              │ ░  ║ ┌─┐   \n",
       " q_3: ┤ X ├┤1   ├┤1 Mdg_dg ├┤5 4copy_check ├─░──╫─┤M├───\n",
       "      └───┘└────┘│         ││              │ ░  ║ └╥┘   \n",
       " q_4: ───────────┤         ├┤2             ├─░──╫──╫────\n",
       "      ┌───┐      │         ││              │ ░  ║  ║ ┌─┐\n",
       " q_5: ┤ X ├──────┤2        ├┤6             ├─░──╫──╫─┤M├\n",
       "      └───┘      └─────────┘│              │ ░  ║  ║ └╥┘\n",
       " q_6: ──────────────────────┤3             ├─░──╫──╫──╫─\n",
       "                            └──────────────┘ ░  ║  ║  ║ \n",
       "c0: 3/══════════════════════════════════════════╩══╩══╩═\n",
       "                                                0  1  2 </pre>"
      ],
      "text/plain": [
       "                            ┌──────────────┐ ░          \n",
       " q_0: ──────────────────────┤0             ├─░──────────\n",
       "           ┌────┐┌─────────┐│              │ ░ ┌─┐      \n",
       " q_1: ─────┤0   ├┤0        ├┤4             ├─░─┤M├──────\n",
       "           │    ││         ││              │ ░ └╥┘      \n",
       " q_2: ─────┤  U ├┤         ├┤1             ├─░──╫───────\n",
       "      ┌───┐│    ││         ││              │ ░  ║ ┌─┐   \n",
       " q_3: ┤ X ├┤1   ├┤1 Mdg_dg ├┤5 4copy_check ├─░──╫─┤M├───\n",
       "      └───┘└────┘│         ││              │ ░  ║ └╥┘   \n",
       " q_4: ───────────┤         ├┤2             ├─░──╫──╫────\n",
       "      ┌───┐      │         ││              │ ░  ║  ║ ┌─┐\n",
       " q_5: ┤ X ├──────┤2        ├┤6             ├─░──╫──╫─┤M├\n",
       "      └───┘      └─────────┘│              │ ░  ║  ║ └╥┘\n",
       " q_6: ──────────────────────┤3             ├─░──╫──╫──╫─\n",
       "                            └──────────────┘ ░  ║  ║  ║ \n",
       "c0: 3/══════════════════════════════════════════╩══╩══╩═\n",
       "                                                0  1  2 "
      ]
     },
     "execution_count": 4,
     "metadata": {},
     "output_type": "execute_result"
    }
   ],
   "source": [
    "qcs_na[-1].draw()"
   ]
  },
  {
   "cell_type": "code",
   "execution_count": 25,
   "metadata": {},
   "outputs": [],
   "source": [
    "qcs_calib, _ = f2.calibration_cirquits(type=\"complete_evolution\", n_steps=steps, time=time, q_anc=check[1], check=\"yes\", check_type=check[0])\n",
    "                                        # complete_evolution, itself, itself_whole"
   ]
  },
  {
   "cell_type": "code",
   "execution_count": 26,
   "metadata": {},
   "outputs": [
    {
     "data": {
      "text/html": [
       "<pre style=\"word-wrap: normal;white-space: pre;background: #fff0;line-height: 1.1;font-family: &quot;Courier New&quot;,Courier,monospace\">         ┌───┐┌───┐ ░ ┌───┐┌───┐      ░ ┌───┐┌───┐ ░ ┌───┐┌───┐      ░ ┌───┐»\n",
       "q6596_0: ┤ X ├┤ Y ├─░─┤ X ├┤ Y ├──■───░─┤ X ├┤ Y ├─░─┤ X ├┤ Y ├──■───░─┤ X ├»\n",
       "         ├───┤├───┤ ░ ├───┤├───┤┌─┴─┐ ░ ├───┤├───┤ ░ ├───┤├───┤┌─┴─┐ ░ ├───┤»\n",
       "q6596_1: ┤ X ├┤ Y ├─░─┤ X ├┤ Y ├┤ X ├─░─┤ X ├┤ Y ├─░─┤ X ├┤ Y ├┤ X ├─░─┤ X ├»\n",
       "         └───┘└───┘ ░ └───┘└───┘└───┘ ░ └───┘└───┘ ░ └───┘└───┘└───┘ ░ └───┘»\n",
       "q6596_2: ─────────────────────────────░──────────────────────────────░──────»\n",
       "                                      ░                              ░      »\n",
       "«         ┌───┐ ░ ┌───┐┌───┐ ░           ┌───┐┌───┐ ░ ┌───┐┌───┐      ░      »\n",
       "«q6596_0: ┤ Y ├─░─┤ X ├┤ Y ├─░────────■──┤ X ├┤ Y ├─░─┤ X ├┤ Y ├──■───░──────»\n",
       "«         └───┘ ░ └───┘└───┘ ░ ┌───┐┌─┴─┐├───┤├───┤ ░ ├───┤├───┤┌─┴─┐ ░      »\n",
       "«q6596_1: ───────────────────░─┤ X ├┤ X ├┤ X ├┤ Y ├─░─┤ X ├┤ Y ├┤ X ├─░──────»\n",
       "«                            ░ └───┘└───┘└───┘└───┘ ░ └───┘└───┘└───┘ ░ ┌───┐»\n",
       "«q6596_2: ───────────────────░────────────────────────────────────────░─┤ X ├»\n",
       "«                            ░                                        ░ └───┘»\n",
       "«                                      ░            ░            ░           \n",
       "«q6596_0: ─────────────────────────■───░────────■───░───■────────░───■───────\n",
       "«                                ┌─┴─┐ ░      ┌─┴─┐ ░ ┌─┴─┐      ░ ┌─┴─┐     \n",
       "«q6596_1: ────────────────────■──┤ X ├─░───■──┤ X ├─░─┤ X ├──■───░─┤ X ├──■──\n",
       "«         ┌───┐ ░ ┌───┐┌───┐┌─┴─┐└───┘ ░ ┌─┴─┐└───┘ ░ └───┘┌─┴─┐ ░ └───┘┌─┴─┐\n",
       "«q6596_2: ┤ Y ├─░─┤ X ├┤ Y ├┤ X ├──────░─┤ X ├──────░──────┤ X ├─░──────┤ X ├\n",
       "«         └───┘ ░ └───┘└───┘└───┘      ░ └───┘      ░      └───┘ ░      └───┘</pre>"
      ],
      "text/plain": [
       "         ┌───┐┌───┐ ░ ┌───┐┌───┐      ░ ┌───┐┌───┐ ░ ┌───┐┌───┐      ░ ┌───┐»\n",
       "q6596_0: ┤ X ├┤ Y ├─░─┤ X ├┤ Y ├──■───░─┤ X ├┤ Y ├─░─┤ X ├┤ Y ├──■───░─┤ X ├»\n",
       "         ├───┤├───┤ ░ ├───┤├───┤┌─┴─┐ ░ ├───┤├───┤ ░ ├───┤├───┤┌─┴─┐ ░ ├───┤»\n",
       "q6596_1: ┤ X ├┤ Y ├─░─┤ X ├┤ Y ├┤ X ├─░─┤ X ├┤ Y ├─░─┤ X ├┤ Y ├┤ X ├─░─┤ X ├»\n",
       "         └───┘└───┘ ░ └───┘└───┘└───┘ ░ └───┘└───┘ ░ └───┘└───┘└───┘ ░ └───┘»\n",
       "q6596_2: ─────────────────────────────░──────────────────────────────░──────»\n",
       "                                      ░                              ░      »\n",
       "«         ┌───┐ ░ ┌───┐┌───┐ ░           ┌───┐┌───┐ ░ ┌───┐┌───┐      ░      »\n",
       "«q6596_0: ┤ Y ├─░─┤ X ├┤ Y ├─░────────■──┤ X ├┤ Y ├─░─┤ X ├┤ Y ├──■───░──────»\n",
       "«         └───┘ ░ └───┘└───┘ ░ ┌───┐┌─┴─┐├───┤├───┤ ░ ├───┤├───┤┌─┴─┐ ░      »\n",
       "«q6596_1: ───────────────────░─┤ X ├┤ X ├┤ X ├┤ Y ├─░─┤ X ├┤ Y ├┤ X ├─░──────»\n",
       "«                            ░ └───┘└───┘└───┘└───┘ ░ └───┘└───┘└───┘ ░ ┌───┐»\n",
       "«q6596_2: ───────────────────░────────────────────────────────────────░─┤ X ├»\n",
       "«                            ░                                        ░ └───┘»\n",
       "«                                      ░            ░            ░           \n",
       "«q6596_0: ─────────────────────────■───░────────■───░───■────────░───■───────\n",
       "«                                ┌─┴─┐ ░      ┌─┴─┐ ░ ┌─┴─┐      ░ ┌─┴─┐     \n",
       "«q6596_1: ────────────────────■──┤ X ├─░───■──┤ X ├─░─┤ X ├──■───░─┤ X ├──■──\n",
       "«         ┌───┐ ░ ┌───┐┌───┐┌─┴─┐└───┘ ░ ┌─┴─┐└───┘ ░ └───┘┌─┴─┐ ░ └───┘┌─┴─┐\n",
       "«q6596_2: ┤ Y ├─░─┤ X ├┤ Y ├┤ X ├──────░─┤ X ├──────░──────┤ X ├─░──────┤ X ├\n",
       "«         └───┘ ░ └───┘└───┘└───┘      ░ └───┘      ░      └───┘ ░      └───┘"
      ]
     },
     "execution_count": 26,
     "metadata": {},
     "output_type": "execute_result"
    }
   ],
   "source": [
    "c_cal = f2.calibration_cirquit(type=\"complete_evolution\")\n",
    "c_cal.draw()"
   ]
  },
  {
   "cell_type": "code",
   "execution_count": 27,
   "metadata": {},
   "outputs": [
    {
     "data": {
      "text/html": [
       "<pre style=\"word-wrap: normal;white-space: pre;background: #fff0;line-height: 1.1;font-family: &quot;Courier New&quot;,Courier,monospace\">                                 ░      ┌──────────────┐      ░          ┌─┐   »\n",
       "q6215_0: ────────────────────────░──────┤0             ├──────░──────────┤M├───»\n",
       "         ┌───┐┌────────────────┐ ░ ┌───┐│              │┌───┐ ░ ┌─┐      └╥┘   »\n",
       "q6215_1: ┤ X ├┤0               ├─░─┤ X ├┤4             ├┤ X ├─░─┤M├───────╫────»\n",
       "         └───┘│                │ ░ └───┘│              │└───┘ ░ └╥┘       ║ ┌─┐»\n",
       "q6215_2: ─────┤                ├─░──────┤1             ├──────░──╫────────╫─┤M├»\n",
       "              │                │ ░      │              │      ░  ║ ┌─┐    ║ └╥┘»\n",
       "q6215_3: ─────┤1 circuit-13480 ├─░──────┤5 4copy_check ├──────░──╫─┤M├────╫──╫─»\n",
       "              │                │ ░      │              │      ░  ║ └╥┘    ║  ║ »\n",
       "q6215_4: ─────┤                ├─░──────┤2             ├──────░──╫──╫─────╫──╫─»\n",
       "              │                │ ░      │              │      ░  ║  ║ ┌─┐ ║  ║ »\n",
       "q6215_5: ─────┤2               ├─░──────┤6             ├──────░──╫──╫─┤M├─╫──╫─»\n",
       "              └────────────────┘ ░      │              │      ░  ║  ║ └╥┘ ║  ║ »\n",
       "q6215_6: ────────────────────────░──────┤3             ├──────░──╫──╫──╫──╫──╫─»\n",
       "                                 ░      └──────────────┘      ░  ║  ║  ║  ║  ║ »\n",
       " c288: 7/════════════════════════════════════════════════════════╩══╩══╩══╩══╩═»\n",
       "                                                                 0  1  2  3  4 »\n",
       "«               \n",
       "«q6215_0: ──────\n",
       "«               \n",
       "«q6215_1: ──────\n",
       "«               \n",
       "«q6215_2: ──────\n",
       "«               \n",
       "«q6215_3: ──────\n",
       "«         ┌─┐   \n",
       "«q6215_4: ┤M├───\n",
       "«         └╥┘   \n",
       "«q6215_5: ─╫────\n",
       "«          ║ ┌─┐\n",
       "«q6215_6: ─╫─┤M├\n",
       "«          ║ └╥┘\n",
       "« c288: 7/═╩══╩═\n",
       "«          5  6 </pre>"
      ],
      "text/plain": [
       "                                 ░      ┌──────────────┐      ░          ┌─┐   »\n",
       "q6215_0: ────────────────────────░──────┤0             ├──────░──────────┤M├───»\n",
       "         ┌───┐┌────────────────┐ ░ ┌───┐│              │┌───┐ ░ ┌─┐      └╥┘   »\n",
       "q6215_1: ┤ X ├┤0               ├─░─┤ X ├┤4             ├┤ X ├─░─┤M├───────╫────»\n",
       "         └───┘│                │ ░ └───┘│              │└───┘ ░ └╥┘       ║ ┌─┐»\n",
       "q6215_2: ─────┤                ├─░──────┤1             ├──────░──╫────────╫─┤M├»\n",
       "              │                │ ░      │              │      ░  ║ ┌─┐    ║ └╥┘»\n",
       "q6215_3: ─────┤1 circuit-13480 ├─░──────┤5 4copy_check ├──────░──╫─┤M├────╫──╫─»\n",
       "              │                │ ░      │              │      ░  ║ └╥┘    ║  ║ »\n",
       "q6215_4: ─────┤                ├─░──────┤2             ├──────░──╫──╫─────╫──╫─»\n",
       "              │                │ ░      │              │      ░  ║  ║ ┌─┐ ║  ║ »\n",
       "q6215_5: ─────┤2               ├─░──────┤6             ├──────░──╫──╫─┤M├─╫──╫─»\n",
       "              └────────────────┘ ░      │              │      ░  ║  ║ └╥┘ ║  ║ »\n",
       "q6215_6: ────────────────────────░──────┤3             ├──────░──╫──╫──╫──╫──╫─»\n",
       "                                 ░      └──────────────┘      ░  ║  ║  ║  ║  ║ »\n",
       " c288: 7/════════════════════════════════════════════════════════╩══╩══╩══╩══╩═»\n",
       "                                                                 0  1  2  3  4 »\n",
       "«               \n",
       "«q6215_0: ──────\n",
       "«               \n",
       "«q6215_1: ──────\n",
       "«               \n",
       "«q6215_2: ──────\n",
       "«               \n",
       "«q6215_3: ──────\n",
       "«         ┌─┐   \n",
       "«q6215_4: ┤M├───\n",
       "«         └╥┘   \n",
       "«q6215_5: ─╫────\n",
       "«          ║ ┌─┐\n",
       "«q6215_6: ─╫─┤M├\n",
       "«          ║ └╥┘\n",
       "« c288: 7/═╩══╩═\n",
       "«          5  6 "
      ]
     },
     "execution_count": 27,
     "metadata": {},
     "output_type": "execute_result"
    }
   ],
   "source": [
    "qcs_calib[1].draw()"
   ]
  },
  {
   "cell_type": "code",
   "execution_count": 28,
   "metadata": {},
   "outputs": [],
   "source": [
    "#qc = qcs_calib[0].copy()\n",
    "#qc.remove_final_measurements()\n",
    "#U = f2.matrix_from_cirquit(qc, type=\"numpy\")\n",
    "#Matrix(U)"
   ]
  },
  {
   "cell_type": "code",
   "execution_count": 29,
   "metadata": {},
   "outputs": [],
   "source": [
    "job=execute(qcs, backend_aus, shots=shots)\n",
    "\n",
    "job_cal_our=execute(qcs_calib, backend = backend_aus, shots=shots)\n",
    "\n",
    "job_cal=execute(cal_circ, backend_aus, shots=shots)"
   ]
  },
  {
   "cell_type": "code",
   "execution_count": 30,
   "metadata": {},
   "outputs": [],
   "source": [
    "qc_ausiliare = QuantumCircuit(7)\n",
    "\n",
    "qc_ausiliare.swap(5,4)\n",
    "qc_ausiliare.swap(5,2)\n",
    "qc_ausiliare.swap(1,3)\n",
    "qc_ausiliare.swap(0,1)\n",
    "\n",
    "qc_ausiliare2=qcs_calib[0].copy()\n",
    "qc_ausiliare2.remove_final_measurements()\n",
    "\n",
    "qc_ausiliare.append(qc_ausiliare2,[0,1,2,3,4,5,6])\n",
    "\n",
    "qc_ausiliare.swap(0,1)\n",
    "qc_ausiliare.swap(1,3)\n",
    "qc_ausiliare.swap(5,2)\n",
    "qc_ausiliare.swap(5,4)\n",
    "\n",
    "U = f2.matrix_from_cirquit(qc_ausiliare, type=\"numpy\")\n",
    "# Matrix(U)"
   ]
  },
  {
   "cell_type": "code",
   "execution_count": 31,
   "metadata": {},
   "outputs": [],
   "source": [
    "meas_fitter_our = mc.CompleteMeasFitter(job_cal_our.result(), state_labels=state_labels)\n",
    "meas_fitter = mc.CompleteMeasFitter(job_cal.result(), state_labels=state_labels)\n",
    "\n",
    "U_tilde=meas_fitter_our.cal_matrix"
   ]
  },
  {
   "cell_type": "code",
   "execution_count": 32,
   "metadata": {},
   "outputs": [],
   "source": [
    "qr_basi = QuantumRegister(7)\n",
    "qc_basi = QuantumCircuit(qr_basi)\n",
    "\n",
    "#qc_basi.swap(5,4)\n",
    "#qc_basi.swap(5,2)\n",
    "#qc_basi.swap(1,3)\n",
    "#qc_basi.swap(0,1)\n",
    "\n",
    "qcs_basi = state_tomography_circuits(qc_basi,[0,1,2])\n",
    "\n",
    "\n",
    "C_matrices = []\n",
    "C=U_tilde # @ np.asarray(np.matrix(U).getH())\n",
    "\n",
    "for qca in qcs_basi:\n",
    "    \n",
    "    qca.remove_final_measurements()\n",
    "\n",
    "    #qca.swap(0,1)\n",
    "    #qca.swap(1,3)\n",
    "    #qca.swap(5,2)\n",
    "    #qca.swap(5,4)\n",
    "\n",
    "    qca_matrix = np.matrix(f2.matrix_from_cirquit(qca, type=\"numpy\"))\n",
    "    qca_matrixH = np.asarray(qca_matrix.getH())\n",
    "\n",
    "    C_aus = qca_matrix @ (C @ qca_matrixH)\n",
    "\n",
    "    C_matrices.append(np.asarray(C_aus))"
   ]
  },
  {
   "cell_type": "code",
   "execution_count": 33,
   "metadata": {},
   "outputs": [],
   "source": [
    "from copy import deepcopy\n",
    "meas_fitter_ours = []\n",
    "\n",
    "for C_new in C_matrices:\n",
    "    meas_fitter_our_aus = deepcopy(meas_fitter_our)\n",
    "    meas_fitter_our_aus._tens_fitt.cal_matrices[0]=C_new\n",
    "\n",
    "    meas_fitter_ours.append(meas_fitter_our_aus)\n",
    "\n"
   ]
  },
  {
   "cell_type": "code",
   "execution_count": 34,
   "metadata": {},
   "outputs": [
    {
     "data": {
      "text/plain": [
       "(128, 128)"
      ]
     },
     "execution_count": 34,
     "metadata": {},
     "output_type": "execute_result"
    }
   ],
   "source": [
    "np.shape(meas_fitter.cal_matrix)"
   ]
  },
  {
   "cell_type": "code",
   "execution_count": 35,
   "metadata": {},
   "outputs": [
    {
     "data": {
      "text/plain": [
       "(128, 128)"
      ]
     },
     "execution_count": 35,
     "metadata": {},
     "output_type": "execute_result"
    }
   ],
   "source": [
    "np.shape(meas_fitter_ours[0].cal_matrix)"
   ]
  },
  {
   "cell_type": "code",
   "execution_count": 36,
   "metadata": {},
   "outputs": [],
   "source": [
    "U = f2.Trotter_N_approx(steps=steps, tempo=time, precision=precision)\n",
    "\n",
    "U2=[\n",
    "    [U[3*8+3],U[3*8+5],U[3*8+6],0],\n",
    "    [U[5*8+3],U[5*8+5],U[5*8+6],0],\n",
    "    [U[6*8+3],U[6*8+5],U[6*8+6],0],\n",
    "    [0,0,0,1]\n",
    "]\n",
    "\n",
    "qc=QuantumCircuit(2, name=\"U, t=%.2f pi\"%(time/np.pi))\n",
    "qc.unitary(U2,[0,1])    \n",
    "trans_qc=transpile(qc,basis_gates=['cx','x','sx','rz']) \n",
    "\n",
    "qr2=QuantumRegister(3, name=\"q\")\n",
    "qc2=QuantumCircuit(qr2)\n",
    "\n",
    "qc2.x([qr2[1],qr2[2]])\n",
    "qc2.append(trans_qc,[qr2[0],qr2[1]])\n",
    "qc2.append(f2.Mdg_circquit().inverse(),[qr2[0],qr2[1],qr2[2]])\n",
    "\n",
    "target_state = Statevector.from_instruction(qc2)"
   ]
  },
  {
   "cell_type": "code",
   "execution_count": 37,
   "metadata": {},
   "outputs": [
    {
     "data": {
      "text/html": [
       "<pre style=\"word-wrap: normal;white-space: pre;background: #fff0;line-height: 1.1;font-family: &quot;Courier New&quot;,Courier,monospace\">          ┌───────────────┐┌─────────┐\n",
       "q_0: ─────┤0              ├┤0        ├\n",
       "     ┌───┐│  U, t=1.00 pi ││         │\n",
       "q_1: ┤ X ├┤1              ├┤1 Mdg_dg ├\n",
       "     ├───┤└───────────────┘│         │\n",
       "q_2: ┤ X ├─────────────────┤2        ├\n",
       "     └───┘                 └─────────┘</pre>"
      ],
      "text/plain": [
       "          ┌───────────────┐┌─────────┐\n",
       "q_0: ─────┤0              ├┤0        ├\n",
       "     ┌───┐│  U, t=1.00 pi ││         │\n",
       "q_1: ┤ X ├┤1              ├┤1 Mdg_dg ├\n",
       "     ├───┤└───────────────┘│         │\n",
       "q_2: ┤ X ├─────────────────┤2        ├\n",
       "     └───┘                 └─────────┘"
      ]
     },
     "execution_count": 37,
     "metadata": {},
     "output_type": "execute_result"
    }
   ],
   "source": [
    "#qcs2=\n",
    "qc2.draw()"
   ]
  },
  {
   "cell_type": "code",
   "execution_count": 38,
   "metadata": {},
   "outputs": [],
   "source": [
    "#target_state = (np.asarray(target_state))\n",
    "#target_state"
   ]
  },
  {
   "cell_type": "code",
   "execution_count": 39,
   "metadata": {},
   "outputs": [],
   "source": [
    "target_state=((One^One^Zero).to_matrix())\n"
   ]
  },
  {
   "cell_type": "code",
   "execution_count": 40,
   "metadata": {},
   "outputs": [
    {
     "name": "stdout",
     "output_type": "stream",
     "text": [
      "0\n",
      "0\n",
      "tens_fitt\n",
      "1\n",
      "tens_fitt\n",
      "2\n",
      "tens_fitt\n",
      "3\n",
      "tens_fitt\n",
      "4\n",
      "tens_fitt\n",
      "5\n",
      "tens_fitt\n",
      "6\n",
      "tens_fitt\n",
      "7\n",
      "tens_fitt\n",
      "8\n",
      "tens_fitt\n",
      "9\n",
      "tens_fitt\n",
      "10\n",
      "tens_fitt\n",
      "11\n",
      "tens_fitt\n",
      "12\n",
      "tens_fitt\n",
      "13\n",
      "tens_fitt\n",
      "14\n",
      "tens_fitt\n",
      "15\n",
      "tens_fitt\n",
      "16\n",
      "tens_fitt\n",
      "17\n",
      "tens_fitt\n",
      "18\n",
      "tens_fitt\n",
      "19\n",
      "tens_fitt\n",
      "20\n",
      "tens_fitt\n",
      "21\n",
      "tens_fitt\n",
      "22\n",
      "tens_fitt\n",
      "23\n",
      "tens_fitt\n",
      "24\n",
      "tens_fitt\n",
      "25\n",
      "tens_fitt\n",
      "26\n",
      "tens_fitt\n",
      "0\n",
      "0 (128, 128)\n",
      "deepcopy\n",
      "1\n",
      "1 (128, 128)\n",
      "deepcopy\n",
      "2\n",
      "2 (128, 128)\n",
      "deepcopy\n",
      "3\n",
      "3 (128, 128)\n",
      "deepcopy\n",
      "4\n",
      "4 (128, 128)\n",
      "deepcopy\n",
      "5\n",
      "5 (128, 128)\n",
      "deepcopy\n",
      "6\n",
      "6 (128, 128)\n",
      "deepcopy\n",
      "7\n",
      "7 (128, 128)\n",
      "deepcopy\n",
      "8\n",
      "8 (128, 128)\n",
      "deepcopy\n",
      "9\n",
      "9 (128, 128)\n",
      "deepcopy\n",
      "10\n",
      "10 (128, 128)\n",
      "deepcopy\n",
      "11\n",
      "11 (128, 128)\n",
      "deepcopy\n",
      "12\n",
      "12 (128, 128)\n",
      "deepcopy\n",
      "13\n",
      "13 (128, 128)\n",
      "deepcopy\n",
      "14\n",
      "14 (128, 128)\n",
      "deepcopy\n",
      "15\n",
      "15 (128, 128)\n",
      "deepcopy\n",
      "16\n",
      "16 (128, 128)\n",
      "deepcopy\n",
      "17\n",
      "17 (128, 128)\n",
      "deepcopy\n",
      "18\n",
      "18 (128, 128)\n",
      "deepcopy\n",
      "19\n",
      "19 (128, 128)\n",
      "deepcopy\n",
      "20\n",
      "20 (128, 128)\n",
      "deepcopy\n",
      "21\n",
      "21 (128, 128)\n",
      "deepcopy\n",
      "22\n",
      "22 (128, 128)\n",
      "deepcopy\n",
      "23\n",
      "23 (128, 128)\n",
      "deepcopy\n",
      "24\n",
      "24 (128, 128)\n",
      "deepcopy\n",
      "25\n",
      "25 (128, 128)\n",
      "deepcopy\n",
      "26\n",
      "26 (128, 128)\n",
      "deepcopy\n",
      "[[ 8.77759543e-03+0.00000000e+00j -1.89444608e-04-3.83412989e-04j\n",
      "   4.61599838e-04-2.93393265e-04j  3.42961999e-04-2.07771927e-04j\n",
      "  -1.61209291e-04-7.85585149e-04j -8.52795300e-04+6.62363028e-04j\n",
      "  -6.36938617e-05+1.63701728e-03j -6.21925995e-04-1.18314318e-03j]\n",
      " [-1.89444608e-04+3.83412989e-04j  1.35793403e-02+0.00000000e+00j\n",
      "   1.06041191e-03+3.11353514e-04j -4.36957124e-04-2.61923269e-04j\n",
      "  -1.55493821e-04+1.44708266e-04j  3.55845314e-04-6.79007223e-04j\n",
      "  -4.69719534e-04-7.94668066e-04j  1.02707157e-04+2.01346812e-04j]\n",
      " [ 4.61599838e-04+2.93393265e-04j  1.06041191e-03-3.11353514e-04j\n",
      "   4.43872153e-02+0.00000000e+00j  1.33273951e-03-1.08116803e-03j\n",
      "   4.79417219e-06-1.43641487e-03j -5.04159306e-04-7.66780433e-04j\n",
      "   8.40463626e-03-6.85636200e-03j -1.14862099e-03-3.03941771e-05j]\n",
      " [ 3.42961999e-04+2.07771927e-04j -4.36957124e-04+2.61923269e-04j\n",
      "   1.33273951e-03+1.08116803e-03j  3.30208067e-02+0.00000000e+00j\n",
      "  -5.64729294e-04-1.56488237e-03j -1.88437723e-04+6.07821057e-04j\n",
      "   1.24267982e-03+3.58960524e-04j  1.12640968e-03-1.08745028e-03j]\n",
      " [-1.61209291e-04+7.85585149e-04j -1.55493821e-04-1.44708266e-04j\n",
      "   4.79417219e-06+1.43641487e-03j -5.64729294e-04+1.56488237e-03j\n",
      "   5.43868178e-02+0.00000000e+00j  1.21525989e-03-1.14008808e-03j\n",
      "   5.87388708e-03-5.85640231e-03j -1.46289249e-04-1.56328155e-03j]\n",
      " [-8.52795300e-04-6.62363028e-04j  3.55845314e-04+6.79007223e-04j\n",
      "  -5.04159306e-04+7.66780433e-04j -1.88437723e-04-6.07821057e-04j\n",
      "   1.21525989e-03+1.14008808e-03j  5.12439743e-02+0.00000000e+00j\n",
      "   1.98771259e-04+5.84928506e-04j  1.56990980e-03-1.00323912e-03j]\n",
      " [-6.36938617e-05-1.63701728e-03j -4.69719534e-04+7.94668066e-04j\n",
      "   8.40463626e-03+6.85636200e-03j  1.24267982e-03-3.58960524e-04j\n",
      "   5.87388708e-03+5.85640231e-03j  1.98771259e-04-5.84928506e-04j\n",
      "   7.24773438e-01+0.00000000e+00j  1.27170301e-02-1.20398549e-02j]\n",
      " [-6.21925995e-04+1.18314318e-03j  1.02707157e-04-2.01346812e-04j\n",
      "  -1.14862099e-03+3.03941771e-05j  1.12640968e-03+1.08745028e-03j\n",
      "  -1.46289249e-04+1.56328155e-03j  1.56990980e-03+1.00323912e-03j\n",
      "   1.27170301e-02+1.20398549e-02j  6.98308125e-02+0.00000000e+00j]]\n",
      "attenzione ho invertito gli arg di state_fidelity\n",
      "[[ 2.12912739e-03+0.j          5.93562177e-05-0.00043463j\n",
      "   5.19522396e-04-0.00040479j -1.82873305e-04-0.00014565j\n",
      "  -8.04158938e-04-0.00059007j -9.79153745e-05+0.00021156j\n",
      "  -4.76486956e-04+0.00178427j -7.07927715e-04-0.00107028j]\n",
      " [ 5.93562177e-05+0.00043463j  4.20321462e-03+0.j\n",
      "   3.44214088e-05-0.00018574j -6.40825993e-04-0.00013157j\n",
      "  -2.25647356e-04-0.00045848j  3.86656907e-04-0.00075371j\n",
      "  -8.41912202e-04-0.00041865j  7.57783667e-04+0.00029237j]\n",
      " [ 5.19522396e-04+0.00040479j  3.44214088e-05+0.00018574j\n",
      "   4.06263367e-02+0.j          8.28084892e-04-0.00104153j\n",
      "  -4.56428297e-04-0.00044256j -5.82836060e-04-0.00044159j\n",
      "   8.77134992e-03-0.00673466j -1.39384548e-03-0.00073648j]\n",
      " [-1.82873305e-04+0.00014565j -6.40825993e-04+0.00013157j\n",
      "   8.28084892e-04+0.00104153j  3.40129817e-02+0.j\n",
      "  -6.20597508e-04-0.0010776j  -3.64611248e-04+0.00076105j\n",
      "   1.66896650e-03+0.00104873j  4.04596404e-04-0.00114298j]\n",
      " [-8.04158938e-04+0.00059007j -2.25647356e-04+0.00045848j\n",
      "  -4.56428297e-04+0.00044256j -6.20597508e-04+0.0010776j\n",
      "   3.35470385e-02+0.j          1.02239607e-03-0.00117122j\n",
      "   5.53027032e-03-0.00647824j  5.37146062e-04-0.00163233j]\n",
      " [-9.79153745e-05-0.00021156j  3.86656907e-04+0.00075371j\n",
      "  -5.82836060e-04+0.00044159j -3.64611248e-04-0.00076105j\n",
      "   1.02239607e-03+0.00117122j  5.46220181e-02+0.j\n",
      "   1.43197710e-03+0.00072253j  1.55673833e-03-0.00054693j]\n",
      " [-4.76486956e-04-0.00178427j -8.41912202e-04+0.00041865j\n",
      "   8.77134992e-03+0.00673466j  1.66896650e-03-0.00104873j\n",
      "   5.53027032e-03+0.00647824j  1.43197710e-03-0.00072253j\n",
      "   8.01668805e-01+0.j          1.35702391e-02-0.01261533j]\n",
      " [-7.07927715e-04+0.00107028j  7.57783667e-04-0.00029237j\n",
      "  -1.39384548e-03+0.00073648j  4.04596404e-04+0.00114298j\n",
      "   5.37146062e-04+0.00163233j  1.55673833e-03+0.00054693j\n",
      "   1.35702391e-02+0.01261533j  2.91904783e-02+0.j        ]]\n",
      "attenzione ho invertito gli arg di state_fidelity\n",
      "[[ 5.88394347e-04+0.00000000e+00j  1.69306530e-05-2.75981417e-04j\n",
      "   2.77739717e-04+8.29291400e-05j  6.37734528e-05-3.35719293e-04j\n",
      "  -8.65812199e-04-6.12981170e-04j -2.12618885e-05-6.84453462e-05j\n",
      "  -5.58234954e-04+1.93944712e-03j -1.11320699e-03-1.51745989e-03j]\n",
      " [ 1.69306530e-05+2.75981417e-04j  7.48534010e-04+0.00000000e+00j\n",
      "   1.07446900e-04-3.68850270e-04j -7.92118947e-04+8.74066858e-06j\n",
      "  -1.43662353e-05-5.16317579e-04j -2.14137397e-04-1.64703157e-04j\n",
      "  -7.23935812e-04-8.07920642e-04j  9.13989388e-04+7.75535058e-05j]\n",
      " [ 2.77739717e-04-8.29291400e-05j  1.07446900e-04+3.68850270e-04j\n",
      "   7.68705266e-04+0.00000000e+00j -2.75968059e-04+1.03496450e-04j\n",
      "  -3.94957601e-04-5.36571547e-04j -3.94390290e-04-7.96515865e-04j\n",
      "   5.23084016e-04+1.77005067e-03j -1.60205115e-03-1.08058889e-04j]\n",
      " [ 6.37734528e-05+3.35719293e-04j -7.92118947e-04-8.74066858e-06j\n",
      "  -2.75968059e-04-1.03496450e-04j  3.61294161e-02+0.00000000e+00j\n",
      "  -4.27309784e-04-1.00823976e-03j -2.24548018e-04+9.19936073e-04j\n",
      "   1.20294422e-03+1.25921228e-03j -4.79775209e-04-4.31268855e-04j]\n",
      " [-8.65812199e-04+6.12981170e-04j -1.43662353e-05+5.16317579e-04j\n",
      "  -3.94957601e-04+5.36571547e-04j -4.27309784e-04+1.00823976e-03j\n",
      "   6.95111619e-03+0.00000000e+00j -5.49667540e-04+3.26259044e-04j\n",
      "  -2.33149890e-03+1.23393054e-03j  4.91827926e-04-4.47422408e-04j]\n",
      " [-2.12618885e-05+6.84453462e-05j -2.14137397e-04+1.64703157e-04j\n",
      "  -3.94390290e-04+7.96515865e-04j -2.24548018e-04-9.19936073e-04j\n",
      "  -5.49667540e-04-3.26259044e-04j  5.99249189e-02+0.00000000e+00j\n",
      "   3.08868144e-04+9.95528870e-04j  9.97150442e-04+1.33176998e-04j]\n",
      " [-5.58234954e-04-1.93944712e-03j -7.23935812e-04+8.07920642e-04j\n",
      "   5.23084016e-04-1.77005067e-03j  1.20294422e-03-1.25921228e-03j\n",
      "  -2.33149890e-03-1.23393054e-03j  3.08868144e-04-9.95528870e-04j\n",
      "   8.85563312e-01+0.00000000e+00j  1.84329064e-03-8.38232259e-04j]\n",
      " [-1.11320699e-03+1.51745989e-03j  9.13989388e-04-7.75535058e-05j\n",
      "  -1.60205115e-03+1.08058889e-04j -4.79775209e-04+4.31268855e-04j\n",
      "   4.91827926e-04+4.47422408e-04j  9.97150442e-04-1.33176998e-04j\n",
      "   1.84329064e-03+8.38232259e-04j  9.32560324e-03+0.00000000e+00j]]\n",
      "attenzione ho invertito gli arg di state_fidelity\n",
      "[[ 2.58077053e-04+0.00000000e+00j  5.05111713e-05+4.99714223e-05j\n",
      "   1.07820072e-05+1.94039519e-04j  4.86328996e-04-9.32220340e-05j\n",
      "   1.46125990e-05-7.38485513e-05j  8.95205971e-04+1.30395311e-03j\n",
      "   1.63202427e-03+2.77327079e-03j -4.24826156e-04-5.31846376e-04j]\n",
      " [ 5.05111713e-05-4.99714223e-05j  7.35216523e-05+0.00000000e+00j\n",
      "  -9.53231426e-05+1.94163709e-05j  6.77324946e-04+5.74811661e-05j\n",
      "   6.72605911e-05+5.93469151e-05j  3.15487848e-04-3.16852106e-04j\n",
      "  -1.60480338e-03-4.80762876e-04j -3.44195510e-04-3.87336111e-06j]\n",
      " [ 1.07820072e-05-1.94039519e-04j -9.53231426e-05-1.94163709e-05j\n",
      "   1.46538399e-03+0.00000000e+00j -2.85701615e-03-6.49195171e-04j\n",
      "   1.30844895e-03+2.88000264e-04j -2.31693815e-04-3.42964704e-04j\n",
      "  -2.63883150e-04-8.86980627e-03j -1.13410998e-03-3.04374017e-04j]\n",
      " [ 4.86328996e-04+9.32220340e-05j  6.77324946e-04-5.74811661e-05j\n",
      "  -2.85701615e-03+6.49195171e-04j  1.06266492e-02+0.00000000e+00j\n",
      "  -1.10666523e-04-7.44565691e-04j -6.78316175e-04+5.82981217e-04j\n",
      "   1.02802752e-03+5.14944504e-04j -1.03980446e-03-1.27660624e-04j]\n",
      " [ 1.46125990e-05+7.38485513e-05j  6.72605911e-05-5.93469151e-05j\n",
      "   1.30844895e-03-2.88000264e-04j -1.10666523e-04+7.44565691e-04j\n",
      "   4.26634473e-03+0.00000000e+00j -6.29064058e-03-6.65332847e-04j\n",
      "   4.18888320e-03-8.11085203e-03j -2.04991883e-03-5.79646508e-04j]\n",
      " [ 8.95205971e-04-1.30395311e-03j  3.15487848e-04+3.16852106e-04j\n",
      "  -2.31693815e-04+3.42964704e-04j -6.78316175e-04-5.82981217e-04j\n",
      "  -6.29064058e-03+6.65332847e-04j  2.02533876e-02+0.00000000e+00j\n",
      "   4.92541862e-04+1.24171726e-03j -1.77573329e-03-1.06987119e-04j]\n",
      " [ 1.63202427e-03-2.77327079e-03j -1.60480338e-03+4.80762876e-04j\n",
      "  -2.63883150e-04+8.86980627e-03j  1.02802752e-03-5.14944504e-04j\n",
      "   4.18888320e-03+8.11085203e-03j  4.92541862e-04-1.24171726e-03j\n",
      "   9.59148014e-01+0.00000000e+00j  1.50012885e-02-1.58134847e-02j]\n",
      " [-4.24826156e-04+5.31846376e-04j -3.44195510e-04+3.87336111e-06j\n",
      "  -1.13410998e-03+3.04374017e-04j -1.03980446e-03+1.27660624e-04j\n",
      "  -2.04991883e-03+5.79646508e-04j -1.77573329e-03+1.06987119e-04j\n",
      "   1.50012885e-02+1.58134847e-02j  3.90862166e-03+0.00000000e+00j]]\n",
      "attenzione ho invertito gli arg di state_fidelity\n"
     ]
    }
   ],
   "source": [
    "reps=1\n",
    "\n",
    "#target_state = (One^One^Zero).to_matrix()\n",
    "\n",
    "fids=np.zeros([reps,4])\n",
    "fids_mean=np.zeros(4)\n",
    "fids_dev=np.zeros(4)\n",
    "\n",
    "for j in range(reps):\n",
    "    \n",
    "    #res = jobs_evo_result[j]\n",
    "    res=job.result()\n",
    "\n",
    "    print(j)\n",
    "    \n",
    "    new_res, new_res_nm = f2.mitigate(res, ancillas_conditions=['0011','1110','1101'], meas_fitter=meas_fitter)\n",
    "    new_res_our, new_res_nm = f2.mitigate(res, ancillas_conditions=['0011','1110','1101'], meas_fitter=meas_fitter_ours)\n",
    "    new_res_not_mitigated = f2.mitigate(res, ancillas_conditions=f2.bin_list(4))\n",
    "\n",
    "    fids[j,0] = f2.fidelity_count(new_res_not_mitigated, qcs_na, target_state)\n",
    "    fids[j,1] = f2.fidelity_count(new_res_nm, qcs_na, target_state)\n",
    "    fids[j,2] = f2.fidelity_count(new_res, qcs_na, target_state)\n",
    "    fids[j,3] = f2.fidelity_count(new_res_our, qcs_na, target_state)\n",
    "\n",
    "for i in range(4):\n",
    "    fids_mean[i]=np.mean(fids[:,i])\n",
    "    fids_dev[i]=np.std(fids[:,i])\n"
   ]
  },
  {
   "cell_type": "code",
   "execution_count": 41,
   "metadata": {},
   "outputs": [
    {
     "data": {
      "text/plain": [
       "array([0.72477344, 0.8016688 , 0.88556331, 0.95914801])"
      ]
     },
     "execution_count": 41,
     "metadata": {},
     "output_type": "execute_result"
    }
   ],
   "source": [
    "fids_mean"
   ]
  },
  {
   "cell_type": "code",
   "execution_count": 42,
   "metadata": {},
   "outputs": [],
   "source": [
    "def H_heis3():\n",
    "    # Interactions (I is the identity matrix; X, Y, and Z are Pauli matricies; ^ is a tensor product)\n",
    "    XXs = (I^X^X) + (X^X^I)\n",
    "    YYs = (I^Y^Y) + (Y^Y^I)\n",
    "    ZZs = (I^Z^Z) + (Z^Z^I)\n",
    "    \n",
    "    # Sum interactions\n",
    "    H = XXs + YYs + ZZs\n",
    "    \n",
    "    # Return Hamiltonian\n",
    "    return H\n",
    "\n",
    "def U_heis3(t):\n",
    "    # Compute XXX Hamiltonian for 3 spins in a line\n",
    "    H = H_heis3()\n",
    "    \n",
    "    # Return the exponential of -i multipled by time t multipled by the 3 spin XXX Heisenberg Hamilonian \n",
    "    return (t * H).exp_i()"
   ]
  },
  {
   "cell_type": "code",
   "execution_count": 43,
   "metadata": {},
   "outputs": [
    {
     "data": {
      "text/plain": [
       "1.0000000000000009"
      ]
     },
     "execution_count": 43,
     "metadata": {},
     "output_type": "execute_result"
    }
   ],
   "source": [
    "initial_state = One^One^Zero\n",
    "target_state2 = U_heis3(float(time)) @ initial_state #Zero^One^One\n",
    "\n",
    "np.abs((~target_state2 @ U_heis3(float(time)) @ initial_state).eval())**2"
   ]
  },
  {
   "cell_type": "markdown",
   "metadata": {},
   "source": [
    "$\\hbar$"
   ]
  },
  {
   "cell_type": "markdown",
   "metadata": {},
   "source": []
  }
 ],
 "metadata": {
  "interpreter": {
   "hash": "aee8b7b246df8f9039afb4144a1f6fd8d2ca17a180786b69acc140d282b71a49"
  },
  "kernelspec": {
   "display_name": "Python 3.10.2 64-bit",
   "language": "python",
   "name": "python3"
  },
  "language_info": {
   "codemirror_mode": {
    "name": "ipython",
    "version": 3
   },
   "file_extension": ".py",
   "mimetype": "text/x-python",
   "name": "python",
   "nbconvert_exporter": "python",
   "pygments_lexer": "ipython3",
   "version": "3.10.2"
  },
  "orig_nbformat": 4
 },
 "nbformat": 4,
 "nbformat_minor": 2
}
