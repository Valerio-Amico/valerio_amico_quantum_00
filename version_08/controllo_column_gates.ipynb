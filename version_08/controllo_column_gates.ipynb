{
 "cells": [
  {
   "cell_type": "code",
   "execution_count": 138,
   "metadata": {},
   "outputs": [],
   "source": [
    "import funzioni02 as f2\n",
    "import numpy as np\n",
    "from sympy.physics.quantum import TensorProduct as Tp\n",
    "from sympy import *\n",
    "from qiskit import Aer, assemble, QuantumCircuit, QuantumRegister, ClassicalRegister, IBMQ, transpile, execute\n"
   ]
  },
  {
   "cell_type": "code",
   "execution_count": 108,
   "metadata": {},
   "outputs": [
    {
     "data": {
      "text/latex": [
       "$\\displaystyle \\left[\\begin{matrix}0.9999999999999999999999999999993293232334 + 1.158168180023633186279953076553945918866 \\cdot 10^{-15} i & 0 & 0 & 0 & 0 & 0 & 0 & 0\\\\0 & 0.9667312987322532344534245173901515065398 + 0.0880123368057350284591852185706006613749 i & -0.07928270788387310503819045035869728517396 + 0.08801233680573467836248979458827974608427 i & 0 & 0.1125514091516202988005659857399101387566 - 0.1760246736114692434478803312373599730884 i & 0 & 0 & 0\\\\0 & 0.1125514091516201111778783235603222749446 + 0.08801233680573479755580847803951020118375 i & 0.9667312987322534230310294353080538493922 - 0.17602467361146900860255775676247735844 i & 0 & -0.07928270788387310909829860633431499410622 + 0.08801233680573467358628411090866979175573 i & 0 & 0 & 0\\\\0 & 0 & 0 & 0.9667312987322532380456069915542836207045 + 0.08801233680573503067043905777811757899044 i & 0 & 0.112551409151620108134348517702624727293 + 0.08801233680573480250002349051242982007364 i & -0.07928270788387292599586577967443364474625 - 0.1760246736114693714466383206471051232926 i & 0\\\\0 & -0.07928270788387292599586577967443364474625 - 0.1760246736114693714466383206471051232926 i & 0.112551409151620108134348517702624727293 + 0.08801233680573480250002349051242982007364 i & 0 & 0.9667312987322532380456069915542836207045 + 0.08801233680573503067043905777811757899044 i & 0 & 0 & 0\\\\0 & 0 & 0 & -0.07928270788387310909829860633431499410622 + 0.08801233680573467358628411090866979175573 i & 0 & 0.9667312987322534230310294353080538493922 - 0.17602467361146900860255775676247735844 i & 0.1125514091516201111778783235603222749446 + 0.08801233680573479755580847803951020118375 i & 0\\\\0 & 0 & 0 & 0.1125514091516202988005659857399101387566 - 0.1760246736114692434478803312373599730884 i & 0 & -0.07928270788387310503819045035869728517396 + 0.08801233680573467836248979458827974608427 i & 0.9667312987322532344534245173901515065398 + 0.0880123368057350284591852185706006613749 i & 0\\\\0 & 0 & 0 & 0 & 0 & 0 & 0 & 0.9999999999999999999999999999993293232334 + 1.158168180023633186279953076553945918866 \\cdot 10^{-15} i\\end{matrix}\\right]$"
      ],
      "text/plain": [
       "Matrix([\n",
       "[0.9999999999999999999999999999993293232334 + 1.158168180023633186279953076553945918866e-15*I,                                                                                           0,                                                                                            0,                                                                                            0,                                                                                            0,                                                                                            0,                                                                                           0,                                                                                            0],\n",
       "[                                                                                           0,   0.9667312987322532344534245173901515065398 + 0.0880123368057350284591852185706006613749*I, -0.07928270788387310503819045035869728517396 + 0.08801233680573467836248979458827974608427*I,                                                                                            0,    0.1125514091516202988005659857399101387566 - 0.1760246736114692434478803312373599730884*I,                                                                                            0,                                                                                           0,                                                                                            0],\n",
       "[                                                                                           0,  0.1125514091516201111778783235603222749446 + 0.08801233680573479755580847803951020118375*I,      0.9667312987322534230310294353080538493922 - 0.17602467361146900860255775676247735844*I,                                                                                            0, -0.07928270788387310909829860633431499410622 + 0.08801233680573467358628411090866979175573*I,                                                                                            0,                                                                                           0,                                                                                            0],\n",
       "[                                                                                           0,                                                                                           0,                                                                                            0,   0.9667312987322532380456069915542836207045 + 0.08801233680573503067043905777811757899044*I,                                                                                            0,    0.112551409151620108134348517702624727293 + 0.08801233680573480250002349051242982007364*I, -0.07928270788387292599586577967443364474625 - 0.1760246736114693714466383206471051232926*I,                                                                                            0],\n",
       "[                                                                                           0, -0.07928270788387292599586577967443364474625 - 0.1760246736114693714466383206471051232926*I,    0.112551409151620108134348517702624727293 + 0.08801233680573480250002349051242982007364*I,                                                                                            0,   0.9667312987322532380456069915542836207045 + 0.08801233680573503067043905777811757899044*I,                                                                                            0,                                                                                           0,                                                                                            0],\n",
       "[                                                                                           0,                                                                                           0,                                                                                            0, -0.07928270788387310909829860633431499410622 + 0.08801233680573467358628411090866979175573*I,                                                                                            0,      0.9667312987322534230310294353080538493922 - 0.17602467361146900860255775676247735844*I,  0.1125514091516201111778783235603222749446 + 0.08801233680573479755580847803951020118375*I,                                                                                            0],\n",
       "[                                                                                           0,                                                                                           0,                                                                                            0,    0.1125514091516202988005659857399101387566 - 0.1760246736114692434478803312373599730884*I,                                                                                            0, -0.07928270788387310503819045035869728517396 + 0.08801233680573467836248979458827974608427*I,   0.9667312987322532344534245173901515065398 + 0.0880123368057350284591852185706006613749*I,                                                                                            0],\n",
       "[                                                                                           0,                                                                                           0,                                                                                            0,                                                                                            0,                                                                                            0,                                                                                            0,                                                                                           0, 0.9999999999999999999999999999993293232334 + 1.158168180023633186279953076553945918866e-15*I]])"
      ]
     },
     "execution_count": 108,
     "metadata": {},
     "output_type": "execute_result"
    }
   ],
   "source": [
    "steps=10\n",
    "tempo=np.pi\n",
    "precision=40\n",
    "\n",
    "U = f2.Trotter_N_approx(steps=steps, tempo=tempo, precision=precision)\n",
    "\n",
    "gate_1, gate_2 = f2.simplyfied_gates_matricies(U, precision=precision)\n",
    "U"
   ]
  },
  {
   "cell_type": "code",
   "execution_count": 109,
   "metadata": {},
   "outputs": [
    {
     "data": {
      "image/png": "[encoded data removed]",
      "text/plain": [
       "<Figure size 748.652x144.48 with 1 Axes>"
      ]
     },
     "execution_count": 109,
     "metadata": {},
     "output_type": "execute_result"
    }
   ],
   "source": [
    "\n",
    "### building gate_1 cirquit\n",
    "\n",
    "qc_aus=QuantumCircuit(2, name=\"gate_1\")\n",
    "qc_aus.unitary(gate_1, [0,1])\n",
    "\n",
    "gate_1_c=transpile(qc_aus,basis_gates=[\"cx\",\"rz\",\"x\",\"sx\"])\n",
    "\n",
    "### building gate_2 cirquit\n",
    "\n",
    "qc_aus=QuantumCircuit(2, name=\"gate_2\")\n",
    "qc_aus.unitary(gate_2, [0,1])\n",
    "\n",
    "gate_2_c=transpile(qc_aus,basis_gates=[\"cx\",\"rz\",\"x\",\"sx\"])\n",
    "\n",
    "\n",
    "gate_1_c.draw(output=\"mpl\")"
   ]
  },
  {
   "cell_type": "code",
   "execution_count": 110,
   "metadata": {},
   "outputs": [
    {
     "data": {
      "image/png": "[encoded data removed]",
      "text/plain": [
       "<Figure size 748.652x144.48 with 1 Axes>"
      ]
     },
     "execution_count": 110,
     "metadata": {},
     "output_type": "execute_result"
    }
   ],
   "source": [
    "gate_2_c.draw(output=\"mpl\")"
   ]
  },
  {
   "cell_type": "code",
   "execution_count": 111,
   "metadata": {},
   "outputs": [
    {
     "data": {
      "text/latex": [
       "$\\displaystyle \\left[\\begin{matrix}1.0 & 0 & 0 & 0\\\\0 & 0.9667313 - 0.0880123 i & 0.1891979 + 0.1479479 i & 0\\\\0 & -0.1891979 + 0.1479479 i & 0.9667313 + 0.0880123 i & 0\\\\0 & 0 & 0 & 1.0\\end{matrix}\\right]$"
      ],
      "text/plain": [
       "Matrix([\n",
       "[1.0,                        0,                       0,   0],\n",
       "[  0,  0.9667313 - 0.0880123*I, 0.1891979 + 0.1479479*I,   0],\n",
       "[  0, -0.1891979 + 0.1479479*I, 0.9667313 + 0.0880123*I,   0],\n",
       "[  0,                        0,                       0, 1.0]])"
      ]
     },
     "execution_count": 111,
     "metadata": {},
     "output_type": "execute_result"
    }
   ],
   "source": [
    "f2.matrix_from_cirquit(gate_1_c, phase=0)"
   ]
  },
  {
   "cell_type": "code",
   "execution_count": 112,
   "metadata": {},
   "outputs": [
    {
     "data": {
      "text/latex": [
       "$\\displaystyle \\left[\\begin{matrix}1.0 & 0 & 0 & 0\\\\0 & 0.9667312987322532348783898226933982142132 - 0.08801233680573479288797125859657521744009 i & 0.1891978768125134074812757831259128537568 + 0.1479479233753615659244507296322665943717 i & 0\\\\0 & -0.1891978768125134074812757831259128537568 + 0.1479479233753615659244507296322665943717 i & 0.9667312987322532348783898226933982142132 + 0.08801233680573479288797125859657521744009 i & 0\\\\0 & 0 & 0 & 1.0\\end{matrix}\\right]$"
      ],
      "text/plain": [
       "Matrix([\n",
       "[1.0,                                                                                          0,                                                                                          0,   0],\n",
       "[  0, 0.9667312987322532348783898226933982142132 - 0.08801233680573479288797125859657521744009*I,  0.1891978768125134074812757831259128537568 + 0.1479479233753615659244507296322665943717*I,   0],\n",
       "[  0, -0.1891978768125134074812757831259128537568 + 0.1479479233753615659244507296322665943717*I, 0.9667312987322532348783898226933982142132 + 0.08801233680573479288797125859657521744009*I,   0],\n",
       "[  0,                                                                                          0,                                                                                          0, 1.0]])"
      ]
     },
     "execution_count": 112,
     "metadata": {},
     "output_type": "execute_result"
    }
   ],
   "source": [
    "gate_1"
   ]
  },
  {
   "cell_type": "code",
   "execution_count": 113,
   "metadata": {},
   "outputs": [
    {
     "data": {
      "text/latex": [
       "$\\displaystyle \\left[\\begin{matrix}1.0 & 0 & 0 & 0\\\\0 & 0.5948873 & -0.7115024 - 0.3739967 i & 0\\\\0 & 0.7115024 - 0.3739967 i & 0.5948873 & 0\\\\0 & 0 & 0 & 1.0\\end{matrix}\\right]$"
      ],
      "text/plain": [
       "Matrix([\n",
       "[1.0,                       0,                        0,   0],\n",
       "[  0,               0.5948873, -0.7115024 - 0.3739967*I,   0],\n",
       "[  0, 0.7115024 - 0.3739967*I,                0.5948873,   0],\n",
       "[  0,                       0,                        0, 1.0]])"
      ]
     },
     "execution_count": 113,
     "metadata": {},
     "output_type": "execute_result"
    }
   ],
   "source": [
    "f2.matrix_from_cirquit(gate_2_c, phase=0)"
   ]
  },
  {
   "cell_type": "code",
   "execution_count": 114,
   "metadata": {},
   "outputs": [
    {
     "data": {
      "text/latex": [
       "$\\displaystyle \\left[\\begin{matrix}1.0 & 0 & 0 & 0\\\\0 & 0.5948872738310561312710039956601613894949 & -0.7115023716117614855193645263097176738916 - 0.3739966665956969499157828050089876682942 i & 0\\\\0 & 0.7115023716117614855193645263097176738916 - 0.3739966665956969499157828050089876682942 i & 0.5948872738310561312710039956601613894949 & 0\\\\0 & 0 & 0 & 1.0\\end{matrix}\\right]$"
      ],
      "text/plain": [
       "Matrix([\n",
       "[1.0,                                                                                         0,                                                                                          0,   0],\n",
       "[  0,                                                0.5948872738310561312710039956601613894949, -0.7115023716117614855193645263097176738916 - 0.3739966665956969499157828050089876682942*I,   0],\n",
       "[  0, 0.7115023716117614855193645263097176738916 - 0.3739966665956969499157828050089876682942*I,                                                 0.5948872738310561312710039956601613894949,   0],\n",
       "[  0,                                                                                         0,                                                                                          0, 1.0]])"
      ]
     },
     "execution_count": 114,
     "metadata": {},
     "output_type": "execute_result"
    }
   ],
   "source": [
    "gate_2"
   ]
  },
  {
   "cell_type": "code",
   "execution_count": 115,
   "metadata": {},
   "outputs": [
    {
     "data": {
      "image/png": "[encoded data removed]",
      "text/plain": [
       "<Figure size 293.595x84.28 with 1 Axes>"
      ]
     },
     "execution_count": 115,
     "metadata": {},
     "output_type": "execute_result"
    }
   ],
   "source": [
    "qr=QuantumRegister(1)\n",
    "qc=QuantumCircuit(qr)\n",
    "\n",
    "qc.h(qr)\n",
    "qc.rz(np.pi/2,qr)\n",
    "\n",
    "qc=transpile(qc,basis_gates=[\"cx\",\"rz\",\"x\",\"sx\"])\n",
    "qc.draw(output=\"mpl\")"
   ]
  },
  {
   "cell_type": "code",
   "execution_count": 116,
   "metadata": {},
   "outputs": [
    {
     "data": {
      "image/png": "[encoded data removed]",
      "text/plain": [
       "<Figure size 353.795x84.28 with 1 Axes>"
      ]
     },
     "execution_count": 116,
     "metadata": {},
     "output_type": "execute_result"
    }
   ],
   "source": [
    "qr=QuantumRegister(1)\n",
    "qc=QuantumCircuit(qr)\n",
    "\n",
    "qc.ry(np.pi/5,qr)\n",
    "\n",
    "qc=transpile(qc,basis_gates=[\"cx\",\"rz\",\"x\",\"sx\"])\n",
    "qc.draw(output=\"mpl\")"
   ]
  },
  {
   "cell_type": "code",
   "execution_count": 247,
   "metadata": {},
   "outputs": [
    {
     "name": "stdout",
     "output_type": "stream",
     "text": [
      "0.362657636598644 -0.4283405974346203 0.16618014598678296\n"
     ]
    }
   ],
   "source": [
    "steps=12\n",
    "tempo=np.pi\n",
    "precision=40\n",
    "\n",
    "U = f2.Trotter_N_approx(steps=steps, tempo=tempo, precision=precision)\n",
    "\n",
    "gate_1, gate_2 = f2.simplyfied_gates_matricies(U, precision=precision)\n",
    "\n",
    "a_1 = float(f2.angolo(re(gate_1[1*4+1]),im(gate_1[1*4+1]))+f2.angolo(re(gate_1[4*1+2]),im(gate_1[4*1+2])))/2\n",
    "a_2 = float(f2.angolo(re(gate_1[1*4+1]),im(gate_1[1*4+1]))-a_1)\n",
    "a_3 = float(acos(Abs(gate_1[1*4+1])))\n",
    "\n",
    "print(a_1,a_2,a_3)"
   ]
  },
  {
   "cell_type": "code",
   "execution_count": 257,
   "metadata": {},
   "outputs": [
    {
     "data": {
      "image/png": "[encoded data removed]",
      "text/plain": [
       "<Figure size 500.592x144.48 with 1 Axes>"
      ]
     },
     "execution_count": 257,
     "metadata": {},
     "output_type": "execute_result"
    }
   ],
   "source": [
    "qr=QuantumRegister(2)\n",
    "qc=QuantumCircuit(qr)\n",
    "\n",
    "qc.rz(a_1*2,qr[1])\n",
    "qc.h(qr[0])\n",
    "qc.cx(qr[0],qr[1])\n",
    "qc.ry(a_3,qr[0])\n",
    "qc.ry(a_3,qr[1])\n",
    "qc.cx(qr[0],qr[1])\n",
    "qc.h(qr[0])\n",
    "qc.rz(a_2*2,qr[1])\n",
    "\n",
    "qc.draw(output=\"mpl\")"
   ]
  },
  {
   "cell_type": "code",
   "execution_count": 252,
   "metadata": {},
   "outputs": [
    {
     "data": {
      "text/latex": [
       "$\\displaystyle \\left[\\begin{matrix}1.0 & 0 & 0 & 0\\\\0 & 0.9840971827507021375629491983097934880968 - 0.06473153286603603187067957989294107122124 i & 0.1163101573054763009830111669810050615753 + 0.1176201975109709383638641500062290917734 i & 0\\\\0 & -0.1163101573054763009830111669810050615753 + 0.1176201975109709383638641500062290917734 i & 0.9840971827507021375629491983097934880968 + 0.06473153286603603187067957989294107122124 i & 0\\\\0 & 0 & 0 & 1.0\\end{matrix}\\right]$"
      ],
      "text/plain": [
       "Matrix([\n",
       "[1.0,                                                                                          0,                                                                                          0,   0],\n",
       "[  0, 0.9840971827507021375629491983097934880968 - 0.06473153286603603187067957989294107122124*I,  0.1163101573054763009830111669810050615753 + 0.1176201975109709383638641500062290917734*I,   0],\n",
       "[  0, -0.1163101573054763009830111669810050615753 + 0.1176201975109709383638641500062290917734*I, 0.9840971827507021375629491983097934880968 + 0.06473153286603603187067957989294107122124*I,   0],\n",
       "[  0,                                                                                          0,                                                                                          0, 1.0]])"
      ]
     },
     "execution_count": 252,
     "metadata": {},
     "output_type": "execute_result"
    }
   ],
   "source": [
    "gate_1"
   ]
  },
  {
   "cell_type": "code",
   "execution_count": 258,
   "metadata": {},
   "outputs": [
    {
     "data": {
      "text/latex": [
       "$\\displaystyle \\left[\\begin{matrix}0.9978436 + 0.0656357 i & 0 & 0 & 0\\\\0 & 0.6934493 - 0.7012599 i & -0.1650596 + 0.0108572 i & 0\\\\0 & 0.1650596 + 0.0108572 i & 0.6934493 + 0.7012599 i & 0\\\\0 & 0 & 0 & 0.9978436 - 0.0656357 i\\end{matrix}\\right]$"
      ],
      "text/plain": [
       "Matrix([\n",
       "[0.9978436 + 0.0656357*I,                       0,                        0,                       0],\n",
       "[                      0, 0.6934493 - 0.7012599*I, -0.1650596 + 0.0108572*I,                       0],\n",
       "[                      0, 0.1650596 + 0.0108572*I,  0.6934493 + 0.7012599*I,                       0],\n",
       "[                      0,                       0,                        0, 0.9978436 - 0.0656357*I]])"
      ]
     },
     "execution_count": 258,
     "metadata": {},
     "output_type": "execute_result"
    }
   ],
   "source": [
    "f2.matrix_from_cirquit(qc, phase=0)"
   ]
  },
  {
   "cell_type": "code",
   "execution_count": 241,
   "metadata": {},
   "outputs": [],
   "source": [
    "a, r1, r2 = symbols(\"a r1 r2\")\n",
    "\n",
    "H = Matrix([ \n",
    "    [1/sqrt(2),1/sqrt(2)],\n",
    "    [1/sqrt(2),-1/sqrt(2)]\n",
    "])\n",
    "\n",
    "cx_01= Matrix([\n",
    "    [1,0,0,0],\n",
    "    [0,0,0,1],\n",
    "    [0,0,1,0],\n",
    "    [0,1,0,0]\n",
    "])\n",
    "\n",
    "cx_10= Matrix([\n",
    "    [1,0,0,0],\n",
    "    [0,1,0,0],\n",
    "    [0,0,0,1],\n",
    "    [0,0,1,0]\n",
    "])\n",
    "\n",
    "def ry(alpha):\n",
    "    return Matrix([ \n",
    "        [cos(alpha/2),-sin(alpha/2)],\n",
    "        [sin(alpha/2),cos(alpha/2)]\n",
    "    ])\n",
    "\n",
    "def rz(alpha):\n",
    "    return Matrix([ \n",
    "        [exp(-1j*(alpha/2)),0],\n",
    "        [0,exp(1j*(alpha/2))]\n",
    "    ])\n"
   ]
  },
  {
   "cell_type": "code",
   "execution_count": 246,
   "metadata": {},
   "outputs": [
    {
     "data": {
      "text/latex": [
       "$\\displaystyle \\left[\\begin{matrix}e^{1.0 i \\left(- r_{1} - r_{2}\\right)} & 0 & 0 & 0\\\\0 & e^{1.0 i \\left(r_{1} + r_{2}\\right)} \\cos{\\left(a \\right)} & e^{1.0 i \\left(r_{1} - r_{2}\\right)} \\sin{\\left(a \\right)} & 0\\\\0 & - e^{- 1.0 i \\left(r_{1} - r_{2}\\right)} \\sin{\\left(a \\right)} & e^{- 1.0 i \\left(r_{1} + r_{2}\\right)} \\cos{\\left(a \\right)} & 0\\\\0 & 0 & 0 & e^{1.0 i \\left(r_{1} + r_{2}\\right)}\\end{matrix}\\right]$"
      ],
      "text/plain": [
       "Matrix([\n",
       "[exp(1.0*I*(-r1 - r2)),                             0,                            0,                    0],\n",
       "[                    0,   exp(1.0*I*(r1 + r2))*cos(a),  exp(1.0*I*(r1 - r2))*sin(a),                    0],\n",
       "[                    0, -exp(-1.0*I*(r1 - r2))*sin(a), exp(-1.0*I*(r1 + r2))*cos(a),                    0],\n",
       "[                    0,                             0,                            0, exp(1.0*I*(r1 + r2))]])"
      ]
     },
     "execution_count": 246,
     "metadata": {},
     "output_type": "execute_result"
    }
   ],
   "source": [
    "M=simplify(Tp(eye(2),rz(2*r1))*Tp(H,eye(2))*cx_10*Tp(ry(a),ry(a))*cx_10*Tp(H,eye(2))*Tp(eye(2),rz(2*r2)))\n",
    "M"
   ]
  },
  {
   "cell_type": "code",
   "execution_count": null,
   "metadata": {},
   "outputs": [],
   "source": []
  }
 ],
 "metadata": {
  "interpreter": {
   "hash": "e8bbf111b3c07fe72d02251ebcc32db4a683ef2a320a2bb47db1bc9f2379816c"
  },
  "kernelspec": {
   "display_name": "Python 3.8.12 ('pyEnv')",
   "language": "python",
   "name": "python3"
  },
  "language_info": {
   "codemirror_mode": {
    "name": "ipython",
    "version": 3
   },
   "file_extension": ".py",
   "mimetype": "text/x-python",
   "name": "python",
   "nbconvert_exporter": "python",
   "pygments_lexer": "ipython3",
   "version": "3.8.12"
  },
  "orig_nbformat": 4
 },
 "nbformat": 4,
 "nbformat_minor": 2
}
