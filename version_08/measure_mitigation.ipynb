{
 "cells": [
  {
   "cell_type": "code",
   "execution_count": 10,
   "metadata": {},
   "outputs": [
    {
     "name": "stderr",
     "output_type": "stream",
     "text": [
      "ibmqfactory.load_account:WARNING:2022-02-16 16:54:15,049: Credentials are already in use. The existing account in the session will be replaced.\n"
     ]
    }
   ],
   "source": [
    "import funzioni01 as f1\n",
    "from qiskit import Aer, assemble, QuantumCircuit, QuantumRegister, ClassicalRegister, IBMQ, transpile, execute\n",
    "from qiskit.visualization import plot_bloch_multivector, plot_histogram\n",
    "from qiskit.providers.ibmq.job import job_monitor\n",
    "#from qiskit.providers.ibmq import least_busy\n",
    "from copy import deepcopy\n",
    "from qiskit.opflow import Zero, One, I, X, Y, Z\n",
    "from qiskit.providers.aer import AerSimulator, QasmSimulator\n",
    "from qiskit.ignis.verification.tomography import state_tomography_circuits, StateTomographyFitter\n",
    "from qiskit.quantum_info import state_fidelity\n",
    "from qiskit.circuit import Parameter\n",
    "import time\n",
    "import qiskit.quantum_info as qi\n",
    "from qiskit.utils import QuantumInstance\n",
    "import qiskit.ignis.mitigation.measurement as mc\n",
    "#from qiskit.result import marginal_counts\n",
    "from sympy import *\n",
    "import numpy as np\n",
    "from sympy.solvers import solve\n",
    "from sympy import Symbol\n",
    "import openql as ql\n",
    "from sympy.physics.quantum import TensorProduct as Tp\n",
    "from sympy import sqrt, cos, sin, acos, asin, atan\n",
    "import numpy as np\n",
    "from qiskit import Aer, assemble, QuantumCircuit, QuantumRegister, ClassicalRegister, IBMQ, transpile, execute\n",
    "IBMQ.load_account()\n",
    "provider = IBMQ.get_provider(hub='ibm-q-community', group='ibmquantumawards', project='open-science-22')\n",
    "\n",
    "sim_noisy_jakarta = QasmSimulator.from_backend(provider.get_backend('ibmq_jakarta'))\n",
    "backend_sim_jakarta = sim_noisy_jakarta \n",
    "backend = provider.get_backend('ibmq_jakarta')\n",
    "backend_sim = Aer.get_backend('qasm_simulator')\n"
   ]
  },
  {
   "cell_type": "code",
   "execution_count": 11,
   "metadata": {},
   "outputs": [
    {
     "data": {
      "text/plain": [
       "<qiskit.circuit.instructionset.InstructionSet at 0x7f25bfc57cc0>"
      ]
     },
     "execution_count": 11,
     "metadata": {},
     "output_type": "execute_result"
    }
   ],
   "source": [
    "qr=QuantumRegister(6)\n",
    "CheckC_qc=QuantumCircuit(qr,name ='CheckC')\n",
    "\n",
    "CheckC_qc.cx(qr[3],qr[0])\n",
    "CheckC_qc.cx(qr[5],qr[2])\n",
    "CheckC_qc.cx(qr[3],qr[1])\n",
    "CheckC_qc.cx(qr[4],qr[3])\n",
    "CheckC_qc.cx(qr[3],qr[1])\n",
    "CheckC_qc.cx(qr[4],qr[3])\n",
    "\n",
    "#CheckC_qc.draw(output=\"mpl\")"
   ]
  },
  {
   "cell_type": "code",
   "execution_count": 12,
   "metadata": {},
   "outputs": [],
   "source": [
    "res=[]\n",
    "qubits=[0,2,4,1,3,5]\n",
    "shots=32000\n",
    "\n",
    "for i in range(6):\n",
    "\n",
    "    mat=np.zeros([2,2])\n",
    "\n",
    "    for j in range(2):\n",
    "\n",
    "        cr=ClassicalRegister(1)\n",
    "        qr=QuantumRegister(7)\n",
    "        qc=QuantumCircuit(qr,cr)\n",
    "\n",
    "        #qc.reset(qr[qubits[i]])\n",
    "\n",
    "        if j==1:\n",
    "            qc.x(qr[qubits[i]])\n",
    "        \n",
    "        qc.measure(qr[qubits[i]],cr)\n",
    "\n",
    "        job=execute(qc, backend=backend_sim_jakarta, shots=shots)\n",
    "\n",
    "        aus = job.result().get_counts()\n",
    "        \n",
    "        if '0' in aus:\n",
    "            mat[0][j]=aus['0']/shots\n",
    "        \n",
    "        if '1' in aus:\n",
    "            mat[1][j]=aus['1']/shots\n",
    "    \n",
    "    res.append(Matrix(mat))\n",
    "\n",
    "single_qubits = res[0]\n",
    "for i in range(1,6):\n",
    "    single_qubits=Tp(single_qubits,res[i])\n"
   ]
  },
  {
   "cell_type": "code",
   "execution_count": 13,
   "metadata": {},
   "outputs": [
    {
     "name": "stdout",
     "output_type": "stream",
     "text": [
      "Procedura di calibrazione in corso!\n",
      "Calibrazione completata!\n"
     ]
    }
   ],
   "source": [
    "meas_fitter=f1.calibration_measure_mitigation(qubit=[0,2,4,1,3,5],backend_calibration=backend_sim_jakarta, shots=shots)"
   ]
  },
  {
   "cell_type": "code",
   "execution_count": 14,
   "metadata": {},
   "outputs": [
    {
     "data": {
      "image/png": "[encoded data removed]",
      "text/plain": [
       "<Figure size 728.266x565.88 with 1 Axes>"
      ]
     },
     "execution_count": 14,
     "metadata": {},
     "output_type": "execute_result"
    }
   ],
   "source": [
    "\n",
    "\n",
    "qubits=[1,3,5]\n",
    "pos_init=f1.bin_list(3)\n",
    "mat=np.zeros([2**3,2**3])\n",
    "qcs=[]\n",
    "\n",
    "for i in range(2**3):\n",
    "\n",
    "    crq=ClassicalRegister(3)\n",
    "    cra=ClassicalRegister(3)\n",
    "    qr=QuantumRegister(7)\n",
    "    qc=QuantumCircuit(qr,crq,cra)\n",
    "\n",
    "    l=0\n",
    "    for k in [5,3,1]:\n",
    "        if pos_init[i][l]=='1':\n",
    "            qc.x(qr[k])\n",
    "        l+=1\n",
    "\n",
    "    qc.append(CheckC_qc,[qr[0],qr[2],qr[4],qr[1],qr[3],qr[5]])\n",
    "\n",
    "    qc.measure([qr[1],qr[3],qr[5]],crq)\n",
    "    qc.barrier()\n",
    "    qc.measure([qr[0],qr[2],qr[4]],cra)\n",
    "\n",
    "    qcs.append(qc)\n",
    "\n",
    "qcs[-1].draw(output=\"mpl\")\n"
   ]
  },
  {
   "cell_type": "code",
   "execution_count": 15,
   "metadata": {},
   "outputs": [],
   "source": [
    "\n",
    "job=execute(qcs, backend=backend_sim_jakarta, shots=shots)\n"
   ]
  },
  {
   "cell_type": "code",
   "execution_count": 19,
   "metadata": {},
   "outputs": [
    {
     "name": "stdout",
     "output_type": "stream",
     "text": [
      "27134\n",
      "30415.98332854493\n",
      "24670\n",
      "29639.30197211112\n",
      "24639\n",
      "29588.68151576119\n",
      "22688\n",
      "29202.997579247054\n",
      "27891\n",
      "31324.13257734677\n",
      "25321\n",
      "30202.404690024094\n",
      "25440\n",
      "30443.650939326486\n",
      "23548\n",
      "29965.112872343627\n"
     ]
    }
   ],
   "source": [
    "raw_results=job.result()\n",
    "\n",
    "N_ancillas=3\n",
    "N_qubit=6\n",
    "new_result = deepcopy(raw_results)\n",
    "new_result_nm = deepcopy(raw_results)\n",
    "\n",
    "matrix_check=np.zeros([2**3,2**3])\n",
    "matrix_check_nm=np.zeros([2**3,2**3])\n",
    "\n",
    "################create the list of the total possible outcomes\n",
    "r=f1.bin_list(N_qubit=N_qubit)\n",
    "r_split=[]\n",
    "\n",
    "for j in range(2**(N_qubit)):\n",
    "    X_aus=''\n",
    "    X_aus+=r[j][:N_ancillas]\n",
    "    X_aus+=' '\n",
    "    X_aus+=r[j][N_ancillas:]\n",
    "    r_split.append(X_aus)\n",
    "\n",
    "for i in range(len(raw_results.results)): \n",
    "    \n",
    "    old_counts = raw_results.get_counts(i)\n",
    "    new_counts = {}\n",
    "    new_counts_nm = {}\n",
    "\n",
    "    new_result.results[i].header.creg_sizes = [new_result.results[i].header.creg_sizes[0]]\n",
    "    new_result.results[i].header.clbit_labels = new_result.results[i].header.clbit_labels[0:-1]\n",
    "    new_result.results[i].header.memory_slots = 3\n",
    "\n",
    "    new_result_nm.results[i].header.creg_sizes = [new_result_nm.results[i].header.creg_sizes[0]]\n",
    "    new_result_nm.results[i].header.clbit_labels = new_result_nm.results[i].header.clbit_labels[0:-1]\n",
    "    new_result_nm.results[i].header.memory_slots = 3\n",
    "\n",
    "    for reg_key in old_counts:\n",
    "        reg_bits = reg_key.split(' ')\n",
    "        if reg_bits[0] == reg_bits[1]:\n",
    "            new_counts_nm[reg_bits[1]]=old_counts[reg_key]\n",
    "\n",
    "\n",
    "    new_result_nm.results[i].data.counts = new_counts_nm\n",
    "\n",
    "    for j in range(2**N_qubit):\n",
    "        if r_split[j] in old_counts.keys():\n",
    "            old_counts[r[j]] = old_counts.pop(r_split[j])\n",
    "    \n",
    "    old_counts = meas_fitter.filter.apply(old_counts, method='least_squares')\n",
    "\n",
    "    for j in range(2**N_qubit):\n",
    "        if r[j] in old_counts.keys():\n",
    "            old_counts[r_split[j]] = old_counts.pop(r[j])\n",
    "\n",
    "    for reg_key in old_counts:\n",
    "        reg_bits = reg_key.split(' ')\n",
    "        if reg_bits[0] in reg_bits[1]:\n",
    "            new_counts[reg_bits[1]]=old_counts[reg_key]\n",
    "\n",
    "    new_result.results[i].data.counts = new_counts\n",
    "\n",
    "for i in range(len(raw_results.results)):\n",
    "\n",
    "    norm=sum(new_result_nm.get_counts(i).values())\n",
    "    print(norm)\n",
    "\n",
    "    l=0\n",
    "    for k in pos_init:\n",
    "        if k in new_result_nm.get_counts(i):\n",
    "            matrix_check_nm[l][i]=new_result_nm.get_counts(i)[k]/norm\n",
    "        l+=1\n",
    "\n",
    "    norm=sum(new_result.get_counts(i).values())\n",
    "    print(norm)\n",
    "\n",
    "    l=0\n",
    "    for k in pos_init:\n",
    "        if k in new_result.get_counts(i):\n",
    "            matrix_check[l][i]=new_result.get_counts(i)[k]/norm\n",
    "        l+=1"
   ]
  },
  {
   "cell_type": "code",
   "execution_count": 17,
   "metadata": {},
   "outputs": [
    {
     "data": {
      "text/latex": [
       "$\\displaystyle \\left[\\begin{matrix}0.9950984005307 & 0.0054722334819619 & 0.00389626202362109 & 0.0 & 0.00225879315908358 & 3.94929110224715 \\cdot 10^{-5} & 0.0 & 0.0\\\\0.00224810201223557 & 0.992501013376571 & 0.0 & 0.00286495063469676 & 0.0 & 0.00252754630543817 & 0.0 & 0.0\\\\0.000479103707525614 & 0.0 & 0.992613336580218 & 0.00520098730606488 & 0.0 & 0.0 & 0.00200471698113208 & 0.0\\\\0.0 & 0.000283745439805432 & 0.00174520069808028 & 0.989377644569817 & 0.0 & 0.0 & 0.0 & 0.00259045354170206\\\\0.00217439374953932 & 0.0 & 0.0 & 0.0 & 0.995840952278513 & 0.00513407843292129 & 0.00385220125786164 & 4.24664515033124 \\cdot 10^{-5}\\\\0.0 & 0.00174300770166194 & 0.0 & 0.0 & 0.00175683912373167 & 0.991943446151416 & 0.0 & 0.00288771870222524\\\\0.0 & 0.0 & 0.00174520069808028 & 0.0 & 0.000143415438671973 & 0.0 & 0.992767295597484 & 0.00569050450144386\\\\0.0 & 0.0 & 0.0 & 0.00255641748942172 & 0.0 & 0.000355436199202243 & 0.00137578616352201 & 0.988788856803126\\end{matrix}\\right]$"
      ],
      "text/plain": [
       "Matrix([\n",
       "[     0.9950984005307,   0.0054722334819619, 0.00389626202362109,                 0.0,  0.00225879315908358,  3.94929110224715e-5,                 0.0,                 0.0],\n",
       "[ 0.00224810201223557,    0.992501013376571,                 0.0, 0.00286495063469676,                  0.0,  0.00252754630543817,                 0.0,                 0.0],\n",
       "[0.000479103707525614,                  0.0,   0.992613336580218, 0.00520098730606488,                  0.0,                  0.0, 0.00200471698113208,                 0.0],\n",
       "[                 0.0, 0.000283745439805432, 0.00174520069808028,   0.989377644569817,                  0.0,                  0.0,                 0.0, 0.00259045354170206],\n",
       "[ 0.00217439374953932,                  0.0,                 0.0,                 0.0,    0.995840952278513,  0.00513407843292129, 0.00385220125786164, 4.24664515033124e-5],\n",
       "[                 0.0,  0.00174300770166194,                 0.0,                 0.0,  0.00175683912373167,    0.991943446151416,                 0.0, 0.00288771870222524],\n",
       "[                 0.0,                  0.0, 0.00174520069808028,                 0.0, 0.000143415438671973,                  0.0,   0.992767295597484, 0.00569050450144386],\n",
       "[                 0.0,                  0.0,                 0.0, 0.00255641748942172,                  0.0, 0.000355436199202243, 0.00137578616352201,   0.988788856803126]])"
      ]
     },
     "execution_count": 17,
     "metadata": {},
     "output_type": "execute_result"
    }
   ],
   "source": [
    "Matrix(matrix_check_nm)"
   ]
  },
  {
   "cell_type": "code",
   "execution_count": 18,
   "metadata": {},
   "outputs": [
    {
     "data": {
      "text/latex": [
       "$\\displaystyle \\left[\\begin{matrix}0.999999999965947 & 7.53238287018148 \\cdot 10^{-13} & 0.0 & 1.64554180673574 \\cdot 10^{-14} & 9.23055041868692 \\cdot 10^{-14} & 1.21930998363206 \\cdot 10^{-14} & 0.0 & 1.14405199678048 \\cdot 10^{-14}\\\\1.65784995085527 \\cdot 10^{-11} & 0.999999999998144 & 1.91328686429595 \\cdot 10^{-12} & 1.08757433129922 \\cdot 10^{-12} & 1.39109826913632 \\cdot 10^{-15} & 3.14883471442101 \\cdot 10^{-13} & 0.0 & 1.60280733575382 \\cdot 10^{-14}\\\\6.84454776509203 \\cdot 10^{-12} & 1.59767381117551 \\cdot 10^{-13} & 0.999999999980014 & 1.28761752416727 \\cdot 10^{-13} & 0.0 & 3.82615139865325 \\cdot 10^{-15} & 0.0 & 1.59836883674631 \\cdot 10^{-14}\\\\2.81895150705437 \\cdot 10^{-12} & 5.46730264293532 \\cdot 10^{-13} & 1.30815470698102 \\cdot 10^{-11} & 0.99999999999718 & 0.0 & 6.11118834356685 \\cdot 10^{-15} & 0.0 & 4.46077468201488 \\cdot 10^{-13}\\\\0.0 & 1.23062982327118 \\cdot 10^{-13} & 1.55559332121052 \\cdot 10^{-12} & 1.57190646588868 \\cdot 10^{-14} & 0.999999999999759 & 0.0 & 3.65436538903142 \\cdot 10^{-12} & 2.2849080951127 \\cdot 10^{-14}\\\\2.63856564214035 \\cdot 10^{-12} & 1.63213128177266 \\cdot 10^{-14} & 1.75474733038209 \\cdot 10^{-12} & 1.48221439458439 \\cdot 10^{-14} & 1.46845667968537 \\cdot 10^{-13} & 0.999999999999609 & 0.0 & 2.25050678159699 \\cdot 10^{-18}\\\\2.49459015281713 \\cdot 10^{-12} & 1.32853083715445 \\cdot 10^{-13} & 0.0 & 1.53738696537666 \\cdot 10^{-14} & 0.0 & 6.2160780901166 \\cdot 10^{-15} & 0.999999999996346 & 2.27924558231761 \\cdot 10^{-13}\\\\2.67769684819287 \\cdot 10^{-12} & 1.23978049025476 \\cdot 10^{-13} & 1.68121759648975 \\cdot 10^{-12} & 1.54082873022546 \\cdot 10^{-12} & 9.35355346809284 \\cdot 10^{-16} & 4.78743870072657 \\cdot 10^{-14} & 0.0 & 0.99999999999926\\end{matrix}\\right]$"
      ],
      "text/plain": [
       "Matrix([\n",
       "[   0.999999999965947, 7.53238287018148e-13,                  0.0, 1.64554180673574e-14, 9.23055041868692e-14, 1.21930998363206e-14,                  0.0, 1.14405199678048e-14],\n",
       "[1.65784995085527e-11,    0.999999999998144, 1.91328686429595e-12, 1.08757433129922e-12, 1.39109826913632e-15, 3.14883471442101e-13,                  0.0, 1.60280733575382e-14],\n",
       "[6.84454776509203e-12, 1.59767381117551e-13,    0.999999999980014, 1.28761752416727e-13,                  0.0, 3.82615139865325e-15,                  0.0, 1.59836883674631e-14],\n",
       "[2.81895150705437e-12, 5.46730264293532e-13, 1.30815470698102e-11,     0.99999999999718,                  0.0, 6.11118834356685e-15,                  0.0, 4.46077468201488e-13],\n",
       "[                 0.0, 1.23062982327118e-13, 1.55559332121052e-12, 1.57190646588868e-14,    0.999999999999759,                  0.0, 3.65436538903142e-12,  2.2849080951127e-14],\n",
       "[2.63856564214035e-12, 1.63213128177266e-14, 1.75474733038209e-12, 1.48221439458439e-14, 1.46845667968537e-13,    0.999999999999609,                  0.0, 2.25050678159699e-18],\n",
       "[2.49459015281713e-12, 1.32853083715445e-13,                  0.0, 1.53738696537666e-14,                  0.0,  6.2160780901166e-15,    0.999999999996346, 2.27924558231761e-13],\n",
       "[2.67769684819287e-12, 1.23978049025476e-13, 1.68121759648975e-12, 1.54082873022546e-12, 9.35355346809284e-16, 4.78743870072657e-14,                  0.0,     0.99999999999926]])"
      ]
     },
     "execution_count": 18,
     "metadata": {},
     "output_type": "execute_result"
    }
   ],
   "source": [
    "Matrix(matrix_check)"
   ]
  },
  {
   "cell_type": "code",
   "execution_count": 27,
   "metadata": {},
   "outputs": [
    {
     "data": {
      "text/plain": [
       "array([[8.5518750e-01, 2.7156250e-02, 7.2750000e-02, ..., 0.0000000e+00,\n",
       "        0.0000000e+00, 0.0000000e+00],\n",
       "       [9.5937500e-03, 8.3543750e-01, 8.7500000e-04, ..., 0.0000000e+00,\n",
       "        0.0000000e+00, 0.0000000e+00],\n",
       "       [2.1062500e-02, 5.0000000e-04, 8.0156250e-01, ..., 0.0000000e+00,\n",
       "        0.0000000e+00, 0.0000000e+00],\n",
       "       ...,\n",
       "       [0.0000000e+00, 0.0000000e+00, 0.0000000e+00, ..., 8.0371875e-01,\n",
       "        9.3750000e-04, 6.8156250e-02],\n",
       "       [0.0000000e+00, 0.0000000e+00, 0.0000000e+00, ..., 5.3125000e-04,\n",
       "        7.7081250e-01, 2.4468750e-02],\n",
       "       [0.0000000e+00, 0.0000000e+00, 0.0000000e+00, ..., 2.0187500e-02,\n",
       "        8.3125000e-03, 7.5384375e-01]])"
      ]
     },
     "execution_count": 27,
     "metadata": {},
     "output_type": "execute_result"
    }
   ],
   "source": [
    "meas_fitter.cal_matrix=matrix_check_nm0"
   ]
  },
  {
   "cell_type": "code",
   "execution_count": 30,
   "metadata": {},
   "outputs": [
    {
     "data": {
      "text/plain": [
       "[1, 3, 5, 0, 2, 4]"
      ]
     },
     "execution_count": 30,
     "metadata": {},
     "output_type": "execute_result"
    }
   ],
   "source": [
    "qr_q=[1,3,5]\n",
    "qr_anc=[0,2,4]\n",
    "\n",
    "qr=qr_q+qr_anc\n",
    "qr"
   ]
  },
  {
   "cell_type": "code",
   "execution_count": null,
   "metadata": {},
   "outputs": [],
   "source": []
  }
 ],
 "metadata": {
  "interpreter": {
   "hash": "e8bbf111b3c07fe72d02251ebcc32db4a683ef2a320a2bb47db1bc9f2379816c"
  },
  "kernelspec": {
   "display_name": "Python 3.8.12 ('pyEnv')",
   "language": "python",
   "name": "python3"
  },
  "language_info": {
   "codemirror_mode": {
    "name": "ipython",
    "version": 3
   },
   "file_extension": ".py",
   "mimetype": "text/x-python",
   "name": "python",
   "nbconvert_exporter": "python",
   "pygments_lexer": "ipython3",
   "version": "3.8.12"
  },
  "orig_nbformat": 4
 },
 "nbformat": 4,
 "nbformat_minor": 2
}
