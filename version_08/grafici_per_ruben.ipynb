{
 "cells": [
  {
   "cell_type": "code",
   "execution_count": 1,
   "metadata": {},
   "outputs": [],
   "source": [
    "import funzioni02 as f2\n",
    "import numpy as np\n",
    "import qiskit.ignis.mitigation.measurement as mc\n",
    "from qiskit import Aer, assemble, QuantumCircuit, QuantumRegister, ClassicalRegister, IBMQ, transpile, execute\n",
    "from qiskit.providers.aer import AerSimulator, QasmSimulator\n",
    "from qiskit.opflow import Zero, One, I, X, Y, Z\n",
    "from qiskit.ignis.verification.tomography import state_tomography_circuits, StateTomographyFitter\n",
    "from qiskit.quantum_info import state_fidelity\n",
    "import matplotlib.pyplot as plt\n",
    "\n",
    "IBMQ.load_account()\n",
    "provider = IBMQ.get_provider(hub='ibm-q-community', group='ibmquantumawards', project='open-science-22')\n",
    "\n",
    "sim_noisy_jakarta = QasmSimulator.from_backend(provider.get_backend('ibmq_jakarta'))\n",
    "backend_sim_jakarta = sim_noisy_jakarta \n",
    "backend = provider.get_backend('ibmq_jakarta')\n",
    "backend_sim = Aer.get_backend('qasm_simulator')"
   ]
  },
  {
   "cell_type": "markdown",
   "metadata": {},
   "source": [
    "### Plot of fidelity vs. number of steps with the three different trotterization techniques.\n",
    "    \n",
    "    - trotterization step-by-step\n",
    "    - complete decomposition of U^n\n",
    "    - column decomposition of U^n"
   ]
  },
  {
   "cell_type": "code",
   "execution_count": null,
   "metadata": {},
   "outputs": [],
   "source": [
    "### here I define the paramiters\n",
    "shots=8192          # sthots for each simulation\n",
    "reps=2              # maximum 10 repetitions\n",
    "precision=40        # number of digit after point for each numeric approximation\n",
    "tempo=np.pi         # time of evolution \n",
    "backend_aus=backend_sim_jakarta\n",
    "check=[]#[\"copy_check\", [0,2,4]]\n",
    "evo_type=\"trotter_steps\" # \"column_evolution\" or \"complete_evolution\" or \"trotter_steps\"\n",
    "\n",
    "### definisco i valori di steps corrispondenti ai punti che volgio acquisire\n",
    "steps_range=[6,8,10,12,16,21,25,32,69,99]\n",
    "n_s=len(steps_range)\n",
    "\n",
    "### creo tutti i circuiti\n",
    "qcs_steps=[]\n",
    "qcs_steps_na=[]\n",
    "\n",
    "### le liste qcs_steps e qcs_steps_na conterranno tutti i circuiti di evoluzione reps volte\n",
    "\n",
    "for _ in range(reps):\n",
    "    for steps in steps_range:\n",
    "        \n",
    "        qcs_aus, qcs_na_aus = f2.evolution_tomo(type=evo_type, N_steps=steps, tempo=tempo, precision=precision, initial_state='110', check=check)\n",
    "\n",
    "        qcs_steps.append(qcs_aus)\n",
    "        qcs_steps_na.append(qcs_na_aus)"
   ]
  },
  {
   "cell_type": "code",
   "execution_count": 2,
   "metadata": {},
   "outputs": [],
   "source": [
    "cal, mes = f2.calibration_cirquits(type=\"column_evolution_remake\", q_anc=[0,2,4], N=0, check=\"yes\")"
   ]
  },
  {
   "cell_type": "code",
   "execution_count": 3,
   "metadata": {},
   "outputs": [
    {
     "data": {
      "text/html": [
       "<pre style=\"word-wrap: normal;white-space: pre;background: #fff0;line-height: 1.1;font-family: &quot;Courier New&quot;,Courier,monospace\">        ┌───┐                 ░ ┌───┐┌─────────────┐┌───┐ ░ ┌─┐               \n",
       "q184_0: ┤ X ├─────────────────░─┤ X ├┤0            ├┤ X ├─░─┤M├───────────────\n",
       "        ├───┤┌──────────────┐ ░ ├───┤│             │├───┤ ░ └╥┘      ┌─┐      \n",
       "q184_1: ┤ X ├┤0             ├─░─┤ X ├┤3            ├┤ X ├─░──╫───────┤M├──────\n",
       "        └───┘│              │ ░ └───┘│             │└───┘ ░  ║ ┌─┐   └╥┘      \n",
       "q184_2: ─────┤              ├─░──────┤1            ├──────░──╫─┤M├────╫───────\n",
       "        ┌───┐│              │ ░ ┌───┐│  copy_check │┌───┐ ░  ║ └╥┘    ║ ┌─┐   \n",
       "q184_3: ┤ X ├┤1 circuit-998 ├─░─┤ X ├┤4            ├┤ X ├─░──╫──╫─────╫─┤M├───\n",
       "        ├───┤│              │ ░ ├───┤│             │├───┤ ░  ║  ║ ┌─┐ ║ └╥┘   \n",
       "q184_4: ┤ X ├┤              ├─░─┤ X ├┤2            ├┤ X ├─░──╫──╫─┤M├─╫──╫────\n",
       "        ├───┤│              │ ░ ├───┤│             │├───┤ ░  ║  ║ └╥┘ ║  ║ ┌─┐\n",
       "q184_5: ┤ X ├┤2             ├─░─┤ X ├┤5            ├┤ X ├─░──╫──╫──╫──╫──╫─┤M├\n",
       "        └───┘└──────────────┘ ░ └───┘└─────────────┘└───┘ ░  ║  ║  ║  ║  ║ └╥┘\n",
       "c122: 6/═════════════════════════════════════════════════════╩══╩══╩══╩══╩══╩═\n",
       "                                                             0  1  2  3  4  5 </pre>"
      ],
      "text/plain": [
       "        ┌───┐                 ░ ┌───┐┌─────────────┐┌───┐ ░ ┌─┐               \n",
       "q184_0: ┤ X ├─────────────────░─┤ X ├┤0            ├┤ X ├─░─┤M├───────────────\n",
       "        ├───┤┌──────────────┐ ░ ├───┤│             │├───┤ ░ └╥┘      ┌─┐      \n",
       "q184_1: ┤ X ├┤0             ├─░─┤ X ├┤3            ├┤ X ├─░──╫───────┤M├──────\n",
       "        └───┘│              │ ░ └───┘│             │└───┘ ░  ║ ┌─┐   └╥┘      \n",
       "q184_2: ─────┤              ├─░──────┤1            ├──────░──╫─┤M├────╫───────\n",
       "        ┌───┐│              │ ░ ┌───┐│  copy_check │┌───┐ ░  ║ └╥┘    ║ ┌─┐   \n",
       "q184_3: ┤ X ├┤1 circuit-998 ├─░─┤ X ├┤4            ├┤ X ├─░──╫──╫─────╫─┤M├───\n",
       "        ├───┤│              │ ░ ├───┤│             │├───┤ ░  ║  ║ ┌─┐ ║ └╥┘   \n",
       "q184_4: ┤ X ├┤              ├─░─┤ X ├┤2            ├┤ X ├─░──╫──╫─┤M├─╫──╫────\n",
       "        ├───┤│              │ ░ ├───┤│             │├───┤ ░  ║  ║ └╥┘ ║  ║ ┌─┐\n",
       "q184_5: ┤ X ├┤2             ├─░─┤ X ├┤5            ├┤ X ├─░──╫──╫──╫──╫──╫─┤M├\n",
       "        └───┘└──────────────┘ ░ └───┘└─────────────┘└───┘ ░  ║  ║  ║  ║  ║ └╥┘\n",
       "c122: 6/═════════════════════════════════════════════════════╩══╩══╩══╩══╩══╩═\n",
       "                                                             0  1  2  3  4  5 "
      ]
     },
     "execution_count": 3,
     "metadata": {},
     "output_type": "execute_result"
    }
   ],
   "source": [
    "cal[-3].draw()"
   ]
  },
  {
   "cell_type": "code",
   "execution_count": null,
   "metadata": {},
   "outputs": [],
   "source": []
  }
 ],
 "metadata": {
  "interpreter": {
   "hash": "aee8b7b246df8f9039afb4144a1f6fd8d2ca17a180786b69acc140d282b71a49"
  },
  "kernelspec": {
   "display_name": "Python 3.10.2 64-bit",
   "language": "python",
   "name": "python3"
  },
  "language_info": {
   "codemirror_mode": {
    "name": "ipython",
    "version": 3
   },
   "file_extension": ".py",
   "mimetype": "text/x-python",
   "name": "python",
   "nbconvert_exporter": "python",
   "pygments_lexer": "ipython3",
   "version": "3.10.2"
  },
  "orig_nbformat": 4
 },
 "nbformat": 4,
 "nbformat_minor": 2
}
