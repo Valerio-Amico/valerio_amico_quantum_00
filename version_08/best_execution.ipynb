{
 "cells": [
  {
   "cell_type": "code",
   "execution_count": 1,
   "metadata": {},
   "outputs": [],
   "source": [
    "import funzioni02 as f2\n",
    "import numpy as np\n",
    "import datetime\n",
    "import qiskit.ignis.mitigation.measurement as mc\n",
    "from qiskit import Aer, assemble, QuantumCircuit, QuantumRegister, ClassicalRegister, IBMQ, transpile, execute\n",
    "from qiskit.providers.aer import AerSimulator, QasmSimulator\n",
    "from qiskit.opflow import Zero, One, I, X, Y, Z\n",
    "from qiskit.ignis.verification.tomography import state_tomography_circuits, StateTomographyFitter\n",
    "from qiskit.quantum_info import state_fidelity\n",
    "import matplotlib.pyplot as plt\n",
    "\n",
    "IBMQ.load_account()\n",
    "provider = IBMQ.get_provider(hub='ibm-q-community', group='ibmquantumawards', project='open-science-22')\n",
    "\n",
    "sim_noisy_jakarta = QasmSimulator.from_backend(provider.get_backend('ibmq_jakarta'))\n",
    "backend_sim_jakarta = sim_noisy_jakarta \n",
    "backend = provider.get_backend('ibmq_jakarta')\n",
    "backend_sim = Aer.get_backend('qasm_simulator')"
   ]
  },
  {
   "cell_type": "markdown",
   "metadata": {},
   "source": [
    "# Defining all the quantities"
   ]
  },
  {
   "cell_type": "code",
   "execution_count": 10,
   "metadata": {},
   "outputs": [],
   "source": [
    "shots=8192\n",
    "reps=4        # al massimo 10\n",
    "precision=40\n",
    "time=np.pi\n",
    "backend_aus=backend_sim_jakarta\n",
    "check=[\"4copy_check\", [0,2,4,6]]\n",
    "evo_type=\"column_evolution\" # \"column_evolution\" or \"complete_evolution\" or \"trotter_steps\"\n",
    "measure_mitigation = \"yes\"  #\"yes\" or \"no\"\n",
    "steps=86"
   ]
  },
  {
   "cell_type": "markdown",
   "metadata": {},
   "source": [
    "# Defining the evolution cirquits"
   ]
  },
  {
   "cell_type": "code",
   "execution_count": 11,
   "metadata": {},
   "outputs": [],
   "source": [
    "qcs_reps = []\n",
    "\n",
    "for _ in range(reps):\n",
    "    qcs, qcs_na = f2.evolution_tomo(type=evo_type, N_steps=steps, tempo=time, precision=precision, initial_state='110', check=check)\n",
    "    qcs_reps=qcs_reps + qcs\n",
    "    \n",
    "    qcs, qcs_na = f2.DD_cirquits(N_steps=steps, tempo=time, precision=precision, initial_state='110', check=check)\n",
    "    qcs_reps=qcs_reps + qcs\n",
    "reps=reps*2"
   ]
  },
  {
   "cell_type": "code",
   "execution_count": 12,
   "metadata": {},
   "outputs": [
    {
     "data": {
      "text/html": [
       "<pre style=\"word-wrap: normal;white-space: pre;background: #fff0;line-height: 1.1;font-family: &quot;Courier New&quot;,Courier,monospace\">              ┌───┐          ┌───────────────┐         ┌───┐                »\n",
       "q20373_0: ────┤ H ├───────■──┤ Ry(-0.003127) ├──■──────┤ H ├────────────────»\n",
       "          ┌───┴───┴────┐┌─┴─┐├───────────────┤┌─┴─┐┌───┴───┴────┐           »\n",
       "q20373_1: ┤ Rz(1.4608) ├┤ X ├┤ Ry(-0.003127) ├┤ X ├┤ Rz(-1.458) ├───────────»\n",
       "          └───┬───┬────┘└─░─┘└─────┬───┬─────┘└─░─┘└───┬───┬────┘ ░ ┌───┐ ░ »\n",
       "q20373_2: ────┤ X ├───────░────────┤ X ├────────░──────┤ X ├──────░─┤ X ├─░─»\n",
       "              └───┘       ░        └───┘        ░      └───┘      ░ └───┘ ░ »\n",
       "«                                                          \n",
       "«q20373_0: ────────────────────────────────────────────────\n",
       "«                                                          \n",
       "«q20373_1: ────────────────────────────────────────────────\n",
       "«          ┌───┐ ░ ┌───┐ ░ ┌───┐ ░ ┌───┐ ░ ┌───┐ ░ ┌───┐ ░ \n",
       "«q20373_2: ┤ X ├─░─┤ X ├─░─┤ X ├─░─┤ X ├─░─┤ X ├─░─┤ X ├─░─\n",
       "«          └───┘ ░ └───┘ ░ └───┘ ░ └───┘ ░ └───┘ ░ └───┘ ░ </pre>"
      ],
      "text/plain": [
       "              ┌───┐          ┌───────────────┐         ┌───┐                »\n",
       "q20373_0: ────┤ H ├───────■──┤ Ry(-0.003127) ├──■──────┤ H ├────────────────»\n",
       "          ┌───┴───┴────┐┌─┴─┐├───────────────┤┌─┴─┐┌───┴───┴────┐           »\n",
       "q20373_1: ┤ Rz(1.4608) ├┤ X ├┤ Ry(-0.003127) ├┤ X ├┤ Rz(-1.458) ├───────────»\n",
       "          └───┬───┬────┘└─░─┘└─────┬───┬─────┘└─░─┘└───┬───┬────┘ ░ ┌───┐ ░ »\n",
       "q20373_2: ────┤ X ├───────░────────┤ X ├────────░──────┤ X ├──────░─┤ X ├─░─»\n",
       "              └───┘       ░        └───┘        ░      └───┘      ░ └───┘ ░ »\n",
       "«                                                          \n",
       "«q20373_0: ────────────────────────────────────────────────\n",
       "«                                                          \n",
       "«q20373_1: ────────────────────────────────────────────────\n",
       "«          ┌───┐ ░ ┌───┐ ░ ┌───┐ ░ ┌───┐ ░ ┌───┐ ░ ┌───┐ ░ \n",
       "«q20373_2: ┤ X ├─░─┤ X ├─░─┤ X ├─░─┤ X ├─░─┤ X ├─░─┤ X ├─░─\n",
       "«          └───┘ ░ └───┘ ░ └───┘ ░ └───┘ ░ └───┘ ░ └───┘ ░ "
      ]
     },
     "execution_count": 12,
     "metadata": {},
     "output_type": "execute_result"
    }
   ],
   "source": [
    "U = f2.Trotter_N_approx(steps=steps, tempo=time, precision=precision)\n",
    "   \n",
    "q1,q2=f2.semplyfied_gates(U,type=\"DD\",precision=precision)\n",
    "q1.draw()"
   ]
  },
  {
   "cell_type": "markdown",
   "metadata": {},
   "source": [
    "# Defining the calibration cirquits"
   ]
  },
  {
   "cell_type": "code",
   "execution_count": 13,
   "metadata": {},
   "outputs": [],
   "source": [
    "qcs_calibs, meas_calibs = f2.calibration_cirquits(evo_type+\"_remake\", q_anc=check[1], check=\"yes\")\n",
    "state_lables = f2.bin_list(3+len(check[1]))"
   ]
  },
  {
   "cell_type": "markdown",
   "metadata": {},
   "source": [
    "# Running all the cirquits"
   ]
  },
  {
   "cell_type": "code",
   "execution_count": null,
   "metadata": {},
   "outputs": [],
   "source": [
    "qcs_calibs[-1].draw(output=\"mpl\")"
   ]
  },
  {
   "cell_type": "code",
   "execution_count": 14,
   "metadata": {},
   "outputs": [],
   "source": [
    "job_evo=execute(qcs_reps, backend=backend_aus, shots=shots)\n",
    "\n",
    "job_cal=execute(meas_calibs, backend=backend_aus, shots=shots)\n",
    "job_cal_our=execute(qcs_calibs, backend=backend_aus, shots=shots)\n",
    "\n",
    "jobs_evo_res=[]\n",
    "\n",
    "for i in range(reps):\n",
    "    job=execute(qcs,backend=backend_sim, shots=10)\n",
    "    results = job.result()\n",
    "    for j in range(27):\n",
    "        results.results[j].data.counts = job_evo.result().get_counts()[i*27+j]\n",
    "\n",
    "    jobs_evo_res.append(results)"
   ]
  },
  {
   "cell_type": "markdown",
   "metadata": {},
   "source": [
    "# Making the mitigation and computing the fidelity"
   ]
  },
  {
   "cell_type": "code",
   "execution_count": 15,
   "metadata": {},
   "outputs": [],
   "source": [
    "meas_fitter = mc.CompleteMeasFitter(job_cal.result(), state_labels=state_lables)\n",
    "meas_fitter_our = mc.CompleteMeasFitter(job_cal_our.result(), state_labels=state_lables)\n",
    "\n",
    "target_state = (One^One^Zero).to_matrix()\n",
    "\n",
    "fids=np.zeros([4])\n",
    "\n",
    "fids=np.zeros([reps,4])\n",
    "fids_mean=np.zeros(4)\n",
    "fids_dev=np.zeros(4)\n",
    "\n",
    "i=0\n",
    "for res in jobs_evo_res:\n",
    "\n",
    "    new_res, new_res_nm = f2.mitigate(res, Measure_Mitig=\"yes\", ancillas_conditions=['0011','1110','1101'], meas_fitter=meas_fitter)\n",
    "    new_res_our, new_res_nm = f2.mitigate(res, Measure_Mitig=\"yes\", ancillas_conditions=['0011','1110','1101'], meas_fitter=meas_fitter_our)\n",
    "    new_res_not_mitigated = f2.mitigate(res, Measure_Mitig=\"no\", ancillas_conditions=f2.bin_list(4))\n",
    "\n",
    "    fids[i,0] = f2.fidelity_count(new_res_not_mitigated, qcs_na, target_state)\n",
    "    fids[i,1] = f2.fidelity_count(new_res_nm, qcs_na, target_state)\n",
    "    fids[i,2] = f2.fidelity_count(new_res, qcs_na, target_state)\n",
    "    fids[i,3] = f2.fidelity_count(new_res_our, qcs_na, target_state)\n",
    "\n",
    "    i+=1\n",
    "\n",
    "for i in range(4):\n",
    "    fids_mean[i]=np.mean(fids[:,i])\n",
    "    fids_dev[i]=np.std(fids[:,i])"
   ]
  },
  {
   "cell_type": "code",
   "execution_count": 16,
   "metadata": {},
   "outputs": [
    {
     "name": "stdout",
     "output_type": "stream",
     "text": [
      "0.845518371328757 +- 0.001457423511592205\n",
      "0.8964298212411559 +- 0.0011166288510565557\n",
      "0.9710122876960703 +- 0.0011552368307052006\n",
      "0.9778480464144583 +- 0.00137073979935461\n",
      "0.978636846184956\n",
      "0.9770592466439606\n"
     ]
    }
   ],
   "source": [
    "for i in range(4):\n",
    "    print(fids_mean[i], \"+-\" ,fids_dev[i])\n",
    "\n",
    "mean_DD=0\n",
    "mean_=0\n",
    "for i in range(reps):\n",
    "    if i%2==0:\n",
    "        mean_+=fids[i,3]\n",
    "    if i%2==1:\n",
    "        mean_DD+=fids[i,3]\n",
    "mean_DD=mean_DD/reps*2\n",
    "mean_=mean_/reps*2\n",
    "\n",
    "print(mean_)\n",
    "print(mean_DD)"
   ]
  },
  {
   "cell_type": "code",
   "execution_count": 17,
   "metadata": {},
   "outputs": [
    {
     "data": {
      "text/plain": [
       "array([[0.84591833, 0.89627272, 0.9719419 , 0.97915345],\n",
       "       [0.84675452, 0.89679313, 0.96958935, 0.97601512],\n",
       "       [0.84504566, 0.89574137, 0.97287384, 0.97986087],\n",
       "       [0.84550898, 0.89799749, 0.97019403, 0.97722524],\n",
       "       [0.84809447, 0.8973032 , 0.96954881, 0.97614335],\n",
       "       [0.84497856, 0.89667873, 0.97084592, 0.97747599],\n",
       "       [0.84516105, 0.89667223, 0.97222313, 0.97938971],\n",
       "       [0.8426854 , 0.89397969, 0.97088132, 0.97752064]])"
      ]
     },
     "execution_count": 17,
     "metadata": {},
     "output_type": "execute_result"
    }
   ],
   "source": [
    "fids"
   ]
  },
  {
   "cell_type": "code",
   "execution_count": null,
   "metadata": {},
   "outputs": [],
   "source": []
  }
 ],
 "metadata": {
  "interpreter": {
   "hash": "aee8b7b246df8f9039afb4144a1f6fd8d2ca17a180786b69acc140d282b71a49"
  },
  "kernelspec": {
   "display_name": "Python 3.10.2 64-bit",
   "language": "python",
   "name": "python3"
  },
  "language_info": {
   "codemirror_mode": {
    "name": "ipython",
    "version": 3
   },
   "file_extension": ".py",
   "mimetype": "text/x-python",
   "name": "python",
   "nbconvert_exporter": "python",
   "pygments_lexer": "ipython3",
   "version": "3.10.2"
  },
  "orig_nbformat": 4
 },
 "nbformat": 4,
 "nbformat_minor": 2
}
