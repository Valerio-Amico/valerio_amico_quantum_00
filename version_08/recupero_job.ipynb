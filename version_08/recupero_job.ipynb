{
 "cells": [
  {
   "cell_type": "code",
   "execution_count": 3,
   "metadata": {},
   "outputs": [],
   "source": [
    "import funzioni02 as f2\n",
    "import numpy as np\n",
    "import datetime\n",
    "import qiskit.ignis.mitigation.measurement as mc\n",
    "from qiskit import Aer, assemble, QuantumCircuit, QuantumRegister, ClassicalRegister, IBMQ, transpile, execute\n",
    "from qiskit.providers.aer import AerSimulator, QasmSimulator\n",
    "from qiskit.opflow import Zero, One, I, X, Y, Z\n",
    "from qiskit.ignis.verification.tomography import state_tomography_circuits, StateTomographyFitter\n",
    "from qiskit.quantum_info import state_fidelity\n",
    "import matplotlib.pyplot as plt\n",
    "\n",
    "IBMQ.load_account()\n",
    "provider = IBMQ.get_provider(hub='ibm-q-community', group='ibmquantumawards', project='open-science-22')\n",
    "\n",
    "sim_noisy_jakarta = QasmSimulator.from_backend(provider.get_backend('ibmq_jakarta'))\n",
    "backend_sim_jakarta = sim_noisy_jakarta \n",
    "backend = provider.get_backend('ibmq_jakarta')\n",
    "backend_sim = Aer.get_backend('qasm_simulator')"
   ]
  },
  {
   "cell_type": "code",
   "execution_count": 4,
   "metadata": {},
   "outputs": [],
   "source": [
    "jobs_=backend.jobs(limit=30, start_datetime= \"2022-03-9\", end_datetime=\"2022-03-11\")\n",
    "\n",
    "job=\"6229eb5ba9086d802b258111\"\n",
    "\n",
    "job_=backend.retrieve_job(job)\n",
    "job_cal_our =backend.retrieve_job(\"6229eb73eee8da3733568681\")\n"
   ]
  },
  {
   "cell_type": "code",
   "execution_count": 5,
   "metadata": {},
   "outputs": [],
   "source": [
    "job_cal=jobs_[1]\n",
    "job_cal_our=jobs_[0]\n",
    "jobs = jobs_[2:]"
   ]
  },
  {
   "cell_type": "code",
   "execution_count": 6,
   "metadata": {},
   "outputs": [],
   "source": [
    "j=jobs[4]\n",
    "len(j.result().get_counts())\n",
    "c=j.circuits()"
   ]
  },
  {
   "cell_type": "code",
   "execution_count": 7,
   "metadata": {},
   "outputs": [
    {
     "data": {
      "text/html": [
       "<pre style=\"word-wrap: normal;white-space: pre;background: #fff0;line-height: 1.1;font-family: &quot;Courier New&quot;,Courier,monospace\">                                                                        »\n",
       "q_0: ───────────────────────────────────────────────────────────────────»\n",
       "     ┌─────────┐    ┌────┐    ┌─────────┐     ┌────┐┌────────────┐┌────┐»\n",
       "q_1: ┤ Rz(π/2) ├────┤ √X ├────┤ Rz(π/2) ├──■──┤ √X ├┤ Rz(3.1158) ├┤ √X ├»\n",
       "     └─────────┘    └────┘    └─────────┘  │  └────┘└────────────┘└────┘»\n",
       "q_2: ──────────────────────────────────────┼────────────────────────────»\n",
       "        ┌───┐   ┌────────────┐           ┌─┴─┐┌────┐┌────────────┐┌────┐»\n",
       "q_3: ───┤ X ├───┤ Rz(1.2576) ├───────────┤ X ├┤ √X ├┤ Rz(3.1158) ├┤ √X ├»\n",
       "        └───┘   └────────────┘           └───┘└────┘└────────────┘└────┘»\n",
       "q_4: ───────────────────────────────────────────────────────────────────»\n",
       "        ┌───┐   ┌────────────┐                                          »\n",
       "q_5: ───┤ X ├───┤ Rz(3.3166) ├──────────────────────────────────────────»\n",
       "        └───┘   └────────────┘                                          »\n",
       "q_6: ───────────────────────────────────────────────────────────────────»\n",
       "                                                                        »\n",
       "«                                                    ┌───┐                    »\n",
       "«q_0: ───────────────────────────────────────────────┤ X ├────────────────────»\n",
       "«     ┌────────┐       ┌─────────┐  ┌────┐┌─────────┐└─┬─┘                    »\n",
       "«q_1: ┤ Rz(-π) ├──■────┤ Rz(π/2) ├──┤ √X ├┤ Rz(π/2) ├──■────■─────────────────»\n",
       "«     └────────┘  │    └─────────┘  └────┘└─────────┘     ┌─┴─┐               »\n",
       "«q_2: ────────────┼───────────────────────────────────────┤ X ├───────────────»\n",
       "«     ┌────────┐┌─┴─┐┌─────────────┐┌────┐┌─────────┐     ├───┴┐┌────────────┐»\n",
       "«q_3: ┤ Rz(-π) ├┤ X ├┤ Rz(0.33583) ├┤ √X ├┤ Rz(π/2) ├──■──┤ √X ├┤ Rz(2.0516) ├»\n",
       "«     └────────┘└───┘└─────────────┘└────┘└─────────┘  │  └────┘└────────────┘»\n",
       "«q_4: ─────────────────────────────────────────────────┼──────────────────────»\n",
       "«                                                    ┌─┴─┐┌────┐┌────────────┐»\n",
       "«q_5: ───────────────────────────────────────────────┤ X ├┤ √X ├┤ Rz(2.0516) ├»\n",
       "«                                                    └───┘└────┘└────────────┘»\n",
       "«q_6: ────────────────────────────────────────────────────────────────────────»\n",
       "«                                                                             »\n",
       "«                                                                         \n",
       "«q_0: ────────────────────────────────────────────────────────────────────\n",
       "«                                                          ┌───┐     ┌───┐\n",
       "«q_1: ─────────────────────────────────────────────────────┤ X ├──■──┤ X ├\n",
       "«                                                          └─┬─┘┌─┴─┐└─┬─┘\n",
       "«q_2: ───────────────────────────────────────────────────────┼──┤ X ├──┼──\n",
       "«     ┌────┐┌────────┐       ┌─────────┐  ┌────┐┌─────────┐  │  └───┘  │  \n",
       "«q_3: ┤ √X ├┤ Rz(-π) ├──■────┤ Rz(π/2) ├──┤ √X ├┤ Rz(π/2) ├──■─────────■──\n",
       "«     └────┘└────────┘  │    └─────────┘  ├───┬┘└─────────┘               \n",
       "«q_4: ──────────────────┼─────────────────┤ X ├───────────────────────────\n",
       "«     ┌────┐┌────────┐┌─┴─┐┌─────────────┐└─┬─┘                           \n",
       "«q_5: ┤ √X ├┤ Rz(-π) ├┤ X ├┤ Rz(-3.3166) ├──■─────────────────────────────\n",
       "«     └────┘└────────┘└───┘└─────────────┘                                \n",
       "«q_6: ────────────────────────────────────────────────────────────────────\n",
       "«                                                                         </pre>"
      ],
      "text/plain": [
       "                                                                        »\n",
       "q_0: ───────────────────────────────────────────────────────────────────»\n",
       "     ┌─────────┐    ┌────┐    ┌─────────┐     ┌────┐┌────────────┐┌────┐»\n",
       "q_1: ┤ Rz(π/2) ├────┤ √X ├────┤ Rz(π/2) ├──■──┤ √X ├┤ Rz(3.1158) ├┤ √X ├»\n",
       "     └─────────┘    └────┘    └─────────┘  │  └────┘└────────────┘└────┘»\n",
       "q_2: ──────────────────────────────────────┼────────────────────────────»\n",
       "        ┌───┐   ┌────────────┐           ┌─┴─┐┌────┐┌────────────┐┌────┐»\n",
       "q_3: ───┤ X ├───┤ Rz(1.2576) ├───────────┤ X ├┤ √X ├┤ Rz(3.1158) ├┤ √X ├»\n",
       "        └───┘   └────────────┘           └───┘└────┘└────────────┘└────┘»\n",
       "q_4: ───────────────────────────────────────────────────────────────────»\n",
       "        ┌───┐   ┌────────────┐                                          »\n",
       "q_5: ───┤ X ├───┤ Rz(3.3166) ├──────────────────────────────────────────»\n",
       "        └───┘   └────────────┘                                          »\n",
       "q_6: ───────────────────────────────────────────────────────────────────»\n",
       "                                                                        »\n",
       "«                                                    ┌───┐                    »\n",
       "«q_0: ───────────────────────────────────────────────┤ X ├────────────────────»\n",
       "«     ┌────────┐       ┌─────────┐  ┌────┐┌─────────┐└─┬─┘                    »\n",
       "«q_1: ┤ Rz(-π) ├──■────┤ Rz(π/2) ├──┤ √X ├┤ Rz(π/2) ├──■────■─────────────────»\n",
       "«     └────────┘  │    └─────────┘  └────┘└─────────┘     ┌─┴─┐               »\n",
       "«q_2: ────────────┼───────────────────────────────────────┤ X ├───────────────»\n",
       "«     ┌────────┐┌─┴─┐┌─────────────┐┌────┐┌─────────┐     ├───┴┐┌────────────┐»\n",
       "«q_3: ┤ Rz(-π) ├┤ X ├┤ Rz(0.33583) ├┤ √X ├┤ Rz(π/2) ├──■──┤ √X ├┤ Rz(2.0516) ├»\n",
       "«     └────────┘└───┘└─────────────┘└────┘└─────────┘  │  └────┘└────────────┘»\n",
       "«q_4: ─────────────────────────────────────────────────┼──────────────────────»\n",
       "«                                                    ┌─┴─┐┌────┐┌────────────┐»\n",
       "«q_5: ───────────────────────────────────────────────┤ X ├┤ √X ├┤ Rz(2.0516) ├»\n",
       "«                                                    └───┘└────┘└────────────┘»\n",
       "«q_6: ────────────────────────────────────────────────────────────────────────»\n",
       "«                                                                             »\n",
       "«                                                                         \n",
       "«q_0: ────────────────────────────────────────────────────────────────────\n",
       "«                                                          ┌───┐     ┌───┐\n",
       "«q_1: ─────────────────────────────────────────────────────┤ X ├──■──┤ X ├\n",
       "«                                                          └─┬─┘┌─┴─┐└─┬─┘\n",
       "«q_2: ───────────────────────────────────────────────────────┼──┤ X ├──┼──\n",
       "«     ┌────┐┌────────┐       ┌─────────┐  ┌────┐┌─────────┐  │  └───┘  │  \n",
       "«q_3: ┤ √X ├┤ Rz(-π) ├──■────┤ Rz(π/2) ├──┤ √X ├┤ Rz(π/2) ├──■─────────■──\n",
       "«     └────┘└────────┘  │    └─────────┘  ├───┬┘└─────────┘               \n",
       "«q_4: ──────────────────┼─────────────────┤ X ├───────────────────────────\n",
       "«     ┌────┐┌────────┐┌─┴─┐┌─────────────┐└─┬─┘                           \n",
       "«q_5: ┤ √X ├┤ Rz(-π) ├┤ X ├┤ Rz(-3.3166) ├──■─────────────────────────────\n",
       "«     └────┘└────────┘└───┘└─────────────┘                                \n",
       "«q_6: ────────────────────────────────────────────────────────────────────\n",
       "«                                                                         "
      ]
     },
     "execution_count": 7,
     "metadata": {},
     "output_type": "execute_result"
    }
   ],
   "source": [
    "qc=c[26]\n",
    "qc.remove_final_measurements()\n",
    "qc.draw()"
   ]
  },
  {
   "cell_type": "code",
   "execution_count": 56,
   "metadata": {},
   "outputs": [
    {
     "name": "stdout",
     "output_type": "stream",
     "text": [
      "6229eb60a9086db17c258112\n",
      "15\n",
      "9.87301e-5 + 0.0021063946*I\n",
      "51\n",
      "-0.0001020679 - 0.0010531973*I\n",
      "60\n",
      "-0.9999966622 - 0.0010531973*I\n"
     ]
    }
   ],
   "source": [
    "qs = []\n",
    "#for j in jobs:\n",
    "c=jobs[12].circuits()\n",
    "print(jobs[9].job_id())\n",
    "qc=c[26]\n",
    "qc.remove_final_measurements()\n",
    "M=f2.matrix_from_cirquit(c[26])\n",
    "\n",
    "for i in range(2**7):\n",
    "    if M[i*2**7]!=0:\n",
    "        print(i)\n",
    "        print(M[i*2**7])"
   ]
  },
  {
   "cell_type": "code",
   "execution_count": 57,
   "metadata": {},
   "outputs": [
    {
     "data": {
      "text/latex": [
       "$\\displaystyle 0.999975239210805506957680934051547568861 + 0.002861052917293489512720540155327507444995 i$"
      ],
      "text/plain": [
       "0.999975239210805506957680934051547568861 + 0.002861052917293489512720540155327507444995*I"
      ]
     },
     "execution_count": 57,
     "metadata": {},
     "output_type": "execute_result"
    }
   ],
   "source": [
    "U=f2.Trotter_N_approx(steps=60, tempo=np.pi, precision=40)\n",
    "\n",
    "U[6*8+6]"
   ]
  },
  {
   "cell_type": "code",
   "execution_count": 59,
   "metadata": {},
   "outputs": [
    {
     "name": "stdout",
     "output_type": "stream",
     "text": [
      "0\n",
      "0.00105320258907588\n",
      "0.001053202589075631566952879839300978402752\n",
      "0.001053202589075631566952879839300930872503\n",
      "10\n",
      "20\n",
      "30\n",
      "40\n",
      "50\n",
      "60\n",
      "70\n",
      "0.001050786576685585936553661915027497805391\n",
      "0.0009920794533597891357471701387639395159985\n",
      "0.0009357937442775421861949043320122582845841\n",
      "0.0008817981924610985722469502309504849131745\n",
      "0.0008299703092387992095057549050330862428281\n",
      "0.0007801956811183479698604684004519524463133\n",
      "0.0007323673397097877961312342009379030019452\n",
      "0.0006863851882326997235129111565871432050911\n",
      "0.0006421554788677738918781635834278935896098\n",
      "0.0005995903358797496962049327238661895043544\n",
      "80\n",
      "0.0005586073199892269646287848227577816005098\n",
      "0.0005191290299539796651956214923934417518631\n",
      "0.0004810827377939300808430000662894326684291\n",
      "0.0004444000544438966136387364616478100643803\n",
      "0.0004090166229584664896975370012687965580689\n",
      "0.0003748718367289206895025823307382367135379\n",
      "0.0003419085803877101771045805714385531453709\n",
      "0.0003100729913559318939886932992743155435816\n",
      "0.0002793142401575848369794868112070638456360\n",
      "0.0002495843278526379385385177936530310291722\n",
      "90\n",
      "0.0002208378990628615643895011122888325097316\n",
      "0.0001930320692503101045943559482770913091265\n",
      "0.0001661262650057902780966489549951098322358\n",
      "0.0001400820762564926660344983688740312080718\n",
      "0.0001148631193698638523977841050592169361207\n",
      "0.00009043491025907647663365293508342909807823\n",
      "0.00006676474666058472411673726875834552941710\n",
      "0.00004382159882226702894519289566576815188907\n",
      "0.00002157600795133337412545803391817664500445\n",
      "0.00000000003891766108212141501450355368658682011020\n",
      "99\n"
     ]
    }
   ],
   "source": [
    "from sympy import Symbol, Matrix, cos, sin, eye,exp\n",
    "from sympy.physics.quantum import TensorProduct as Tp\n",
    "\n",
    "q = Symbol(\"q\", positive = True) #q=2*t/N, t=tempo, N=steps\n",
    "\n",
    "cx_01= Matrix([\n",
    "[1,0,0,0],\n",
    "[0,0,0,1],\n",
    "[0,0,1,0],\n",
    "[0,1,0,0]\n",
    "])\n",
    "\n",
    "m = Matrix([\n",
    "[exp(-1j*q),0,0,0],\n",
    "[0,exp(-1j*q),0,0],\n",
    "[0,0,cos(q),-1j*sin(q)],\n",
    "[0,0,-1j*sin(q),cos(q)]\n",
    "])\n",
    "\n",
    "\n",
    "Trotter_step=Tp(eye(2),cx_01*m*cx_01)*Tp(cx_01*m*cx_01,eye(2))\n",
    "U= eye(8)\n",
    "\n",
    "min = 1\n",
    "i_min = 0\n",
    "\n",
    "for i in range(100):\n",
    "    if i%10==0:\n",
    "        print(i)\n",
    "    U= eye(8)\n",
    "    for _ in range(i):\n",
    "        # print(steps,i)\n",
    "        U=U*Trotter_step\n",
    "        U=U.subs(q,2*np.pi/i)\n",
    "        U=U.evalf(40)\n",
    "\n",
    "    if min>abs(U[6*8+6]+M[60*2**7]):\n",
    "        min=abs(U[6*8+6]+M[60*2**7])\n",
    "        print(min)\n",
    "        i_min=i\n",
    "\n",
    "print(i_min)"
   ]
  },
  {
   "cell_type": "code",
   "execution_count": null,
   "metadata": {},
   "outputs": [],
   "source": [
    "0.0002495843278526379385385177936530310291722"
   ]
  },
  {
   "cell_type": "code",
   "execution_count": 65,
   "metadata": {},
   "outputs": [],
   "source": [
    "state_lables = f2.bin_list(6)\n",
    "qcs_na_=[]\n",
    "\n",
    "qcs_na=f2.column_evolution_tomo(69, np.pi, 40, initial_state='110', check=[0])\n",
    "\n",
    "meas_fitter = mc.CompleteMeasFitter(job_cal.result(), state_labels=state_lables)\n",
    "meas_fitter_our = mc.CompleteMeasFitter(job_cal_our.result(), state_labels=state_lables)\n",
    "\n",
    "target_state = (One^One^Zero).to_matrix()\n",
    "\n",
    "reps=2\n",
    "n_s=12\n",
    "\n",
    "fids=np.zeros([n_s,reps,4])\n",
    "fids_mean=np.zeros([n_s,4])\n",
    "fids_dev=np.zeros([n_s,4])\n",
    "\n",
    "i=0\n",
    "for job in jobs:\n",
    "    \n",
    "    new_res, new_res_nm = f2.mitigate(job.result(), Measure_Mitig=\"yes\", ancillas_conditions=['011','110','101'], meas_fitter=meas_fitter)\n",
    "    new_res_our, new_res_nm = f2.mitigate(job.result(), Measure_Mitig=\"yes\", ancillas_conditions=['011','110','101'], meas_fitter=meas_fitter_our)\n",
    "    new_res_not_mitigated = f2.mitigate(job.result(), Measure_Mitig=\"no\", ancillas_conditions=f2.bin_list(3))\n",
    "\n",
    "\n",
    "    fid = f2.fidelity_count(new_res_not_mitigated, qcs_na, target_state)\n",
    "    fids[i%n_s][i//n_s][0] = fid\n",
    "\n",
    "    fid = f2.fidelity_count(new_res_nm, qcs_na, target_state)\n",
    "    fids[i%n_s][i//n_s][1] = fid\n",
    "\n",
    "    fid = f2.fidelity_count(new_res, qcs_na, target_state)\n",
    "    fids[i%n_s][i//n_s][2] = fid\n",
    "\n",
    "    fid = f2.fidelity_count(new_res_our, qcs_na, target_state)\n",
    "    fids[i%n_s][i//n_s][3] = fid\n",
    "    \n",
    "    i+=1"
   ]
  },
  {
   "cell_type": "code",
   "execution_count": 66,
   "metadata": {},
   "outputs": [],
   "source": [
    "for i in range(4):\n",
    "    for j in range(n_s):\n",
    "        fids_mean[j,i]=np.mean(fids[j,:,i])\n",
    "        fids_dev[j,i]=np.std(fids[j,:,i])"
   ]
  },
  {
   "cell_type": "code",
   "execution_count": 67,
   "metadata": {},
   "outputs": [],
   "source": [
    "target_state = (One^One^Zero).to_matrix()\n",
    "\n",
    "fid = f2.fidelity_count(new_res , qcs_na, target_state)"
   ]
  },
  {
   "cell_type": "code",
   "execution_count": 68,
   "metadata": {},
   "outputs": [
    {
     "data": {
      "text/plain": [
       "array([[0.82127156, 0.88269397, 0.974296  , 0.99110497],\n",
       "       [0.82251129, 0.88322831, 0.97580879, 0.99032558],\n",
       "       [0.82385578, 0.8823685 , 0.97660392, 0.99127927],\n",
       "       [0.80819774, 0.87507113, 0.9659827 , 0.98705541],\n",
       "       [0.79970866, 0.86538385, 0.95426036, 0.9823526 ],\n",
       "       [0.82016748, 0.879819  , 0.97334493, 0.99100099],\n",
       "       [0.81279922, 0.87623135, 0.96993873, 0.99287396],\n",
       "       [0.80986588, 0.8672094 , 0.9583615 , 0.99131904],\n",
       "       [0.79077297, 0.84460914, 0.93247343, 0.9730019 ],\n",
       "       [0.72910365, 0.77376102, 0.85333071, 0.89000994],\n",
       "       [0.51371145, 0.54232741, 0.59134106, 0.6105425 ],\n",
       "       [0.24797193, 0.25618479, 0.27618227, 0.28033418]])"
      ]
     },
     "execution_count": 68,
     "metadata": {},
     "output_type": "execute_result"
    }
   ],
   "source": [
    "fids_mean\n"
   ]
  },
  {
   "cell_type": "code",
   "execution_count": 80,
   "metadata": {},
   "outputs": [
    {
     "data": {
      "image/png": "[encoded data removed]",
      "text/plain": [
       "<Figure size 1008x576 with 1 Axes>"
      ]
     },
     "metadata": {
      "needs_background": "light"
     },
     "output_type": "display_data"
    }
   ],
   "source": [
    "\n",
    "steps = [5,6,8,10,12,16,20,30,40,50,69,99]\n",
    "steps.reverse()\n",
    "\n",
    "labels=[\"raw\",\"ancillas\",\"ancillas and qiskit calibration\",\"ancillas and our calibration\"]\n",
    "plt.figure(figsize=(14,8))\n",
    "\n",
    "for i in range(4):\n",
    "    plt.errorbar(steps,list(fids_mean[:,i]),list(fids_dev[:,i]),linestyle=':',label=labels[i])\n",
    "\n",
    "plt.legend(fontsize=14)\n",
    "plt.xlabel(\"number of steps\",fontsize=14)\n",
    "plt.ylabel(\"fidelity\",fontsize=14)\n",
    "plt.grid()\n",
    "plt.show()"
   ]
  },
  {
   "cell_type": "code",
   "execution_count": null,
   "metadata": {},
   "outputs": [],
   "source": []
  }
 ],
 "metadata": {
  "interpreter": {
   "hash": "aee8b7b246df8f9039afb4144a1f6fd8d2ca17a180786b69acc140d282b71a49"
  },
  "kernelspec": {
   "display_name": "Python 3.10.2 64-bit",
   "language": "python",
   "name": "python3"
  },
  "language_info": {
   "codemirror_mode": {
    "name": "ipython",
    "version": 3
   },
   "file_extension": ".py",
   "mimetype": "text/x-python",
   "name": "python",
   "nbconvert_exporter": "python",
   "pygments_lexer": "ipython3",
   "version": "3.10.2"
  },
  "orig_nbformat": 4
 },
 "nbformat": 4,
 "nbformat_minor": 2
}
