{
 "cells": [
  {
   "cell_type": "code",
   "execution_count": 154,
   "metadata": {},
   "outputs": [
    {
     "name": "stderr",
     "output_type": "stream",
     "text": [
      "ibmqfactory.load_account:WARNING:2022-03-20 22:16:29,623: Credentials are already in use. The existing account in the session will be replaced.\n"
     ]
    }
   ],
   "source": [
    "import funzioni02 as f2\n",
    "import numpy as np\n",
    "import datetime\n",
    "import qiskit.ignis.mitigation.measurement as mc\n",
    "from qiskit import Aer, assemble, QuantumCircuit, QuantumRegister, ClassicalRegister, IBMQ, transpile, execute\n",
    "from qiskit.providers.aer import AerSimulator, QasmSimulator\n",
    "from qiskit.opflow import Zero, One, I, X, Y, Z\n",
    "from qiskit.ignis.verification.tomography import state_tomography_circuits, StateTomographyFitter\n",
    "from qiskit.quantum_info import state_fidelity\n",
    "import matplotlib.pyplot as plt\n",
    "\n",
    "IBMQ.load_account()\n",
    "provider = IBMQ.get_provider(hub='ibm-q-community', group='ibmquantumawards', project='open-science-22')\n",
    "\n",
    "sim_noisy_jakarta = QasmSimulator.from_backend(provider.get_backend('ibmq_jakarta'))\n",
    "backend_sim_jakarta = sim_noisy_jakarta \n",
    "backend = provider.get_backend('ibmq_jakarta')\n",
    "backend_sim = Aer.get_backend('qasm_simulator')"
   ]
  },
  {
   "cell_type": "code",
   "execution_count": 155,
   "metadata": {},
   "outputs": [],
   "source": [
    "jobs_=backend.jobs(limit=30, start_datetime= \"2022-03-9\", end_datetime=\"2022-03-11\")\n",
    "\n",
    "job=\"6229eb5ba9086d802b258111\"\n",
    "\n",
    "job_=backend.retrieve_job(job)\n",
    "job_cal_our =backend.retrieve_job(\"6229eb73eee8da3733568681\")\n"
   ]
  },
  {
   "cell_type": "code",
   "execution_count": 156,
   "metadata": {},
   "outputs": [],
   "source": [
    "job_cal=jobs_[1]\n",
    "job_cal_our=jobs_[0]\n",
    "jobs = jobs_[2:]"
   ]
  },
  {
   "cell_type": "code",
   "execution_count": 157,
   "metadata": {},
   "outputs": [],
   "source": [
    "j=jobs[4]\n",
    "len(j.result().get_counts())\n",
    "c=j.circuits()"
   ]
  },
  {
   "cell_type": "code",
   "execution_count": 158,
   "metadata": {},
   "outputs": [
    {
     "data": {
      "text/html": [
       "<pre style=\"word-wrap: normal;white-space: pre;background: #fff0;line-height: 1.1;font-family: &quot;Courier New&quot;,Courier,monospace\">                                                                        »\n",
       "q_0: ───────────────────────────────────────────────────────────────────»\n",
       "     ┌─────────┐    ┌────┐    ┌─────────┐     ┌────┐┌────────────┐┌────┐»\n",
       "q_1: ┤ Rz(π/2) ├────┤ √X ├────┤ Rz(π/2) ├──■──┤ √X ├┤ Rz(3.1158) ├┤ √X ├»\n",
       "     └─────────┘    └────┘    └─────────┘  │  └────┘└────────────┘└────┘»\n",
       "q_2: ──────────────────────────────────────┼────────────────────────────»\n",
       "        ┌───┐   ┌────────────┐           ┌─┴─┐┌────┐┌────────────┐┌────┐»\n",
       "q_3: ───┤ X ├───┤ Rz(1.2576) ├───────────┤ X ├┤ √X ├┤ Rz(3.1158) ├┤ √X ├»\n",
       "        └───┘   └────────────┘           └───┘└────┘└────────────┘└────┘»\n",
       "q_4: ───────────────────────────────────────────────────────────────────»\n",
       "        ┌───┐   ┌────────────┐                                          »\n",
       "q_5: ───┤ X ├───┤ Rz(3.3166) ├──────────────────────────────────────────»\n",
       "        └───┘   └────────────┘                                          »\n",
       "q_6: ───────────────────────────────────────────────────────────────────»\n",
       "                                                                        »\n",
       "«                                                    ┌───┐                    »\n",
       "«q_0: ───────────────────────────────────────────────┤ X ├────────────────────»\n",
       "«     ┌────────┐       ┌─────────┐  ┌────┐┌─────────┐└─┬─┘                    »\n",
       "«q_1: ┤ Rz(-π) ├──■────┤ Rz(π/2) ├──┤ √X ├┤ Rz(π/2) ├──■────■─────────────────»\n",
       "«     └────────┘  │    └─────────┘  └────┘└─────────┘     ┌─┴─┐               »\n",
       "«q_2: ────────────┼───────────────────────────────────────┤ X ├───────────────»\n",
       "«     ┌────────┐┌─┴─┐┌─────────────┐┌────┐┌─────────┐     ├───┴┐┌────────────┐»\n",
       "«q_3: ┤ Rz(-π) ├┤ X ├┤ Rz(0.33583) ├┤ √X ├┤ Rz(π/2) ├──■──┤ √X ├┤ Rz(2.0516) ├»\n",
       "«     └────────┘└───┘└─────────────┘└────┘└─────────┘  │  └────┘└────────────┘»\n",
       "«q_4: ─────────────────────────────────────────────────┼──────────────────────»\n",
       "«                                                    ┌─┴─┐┌────┐┌────────────┐»\n",
       "«q_5: ───────────────────────────────────────────────┤ X ├┤ √X ├┤ Rz(2.0516) ├»\n",
       "«                                                    └───┘└────┘└────────────┘»\n",
       "«q_6: ────────────────────────────────────────────────────────────────────────»\n",
       "«                                                                             »\n",
       "«                                                                         \n",
       "«q_0: ────────────────────────────────────────────────────────────────────\n",
       "«                                                          ┌───┐     ┌───┐\n",
       "«q_1: ─────────────────────────────────────────────────────┤ X ├──■──┤ X ├\n",
       "«                                                          └─┬─┘┌─┴─┐└─┬─┘\n",
       "«q_2: ───────────────────────────────────────────────────────┼──┤ X ├──┼──\n",
       "«     ┌────┐┌────────┐       ┌─────────┐  ┌────┐┌─────────┐  │  └───┘  │  \n",
       "«q_3: ┤ √X ├┤ Rz(-π) ├──■────┤ Rz(π/2) ├──┤ √X ├┤ Rz(π/2) ├──■─────────■──\n",
       "«     └────┘└────────┘  │    └─────────┘  ├───┬┘└─────────┘               \n",
       "«q_4: ──────────────────┼─────────────────┤ X ├───────────────────────────\n",
       "«     ┌────┐┌────────┐┌─┴─┐┌─────────────┐└─┬─┘                           \n",
       "«q_5: ┤ √X ├┤ Rz(-π) ├┤ X ├┤ Rz(-3.3166) ├──■─────────────────────────────\n",
       "«     └────┘└────────┘└───┘└─────────────┘                                \n",
       "«q_6: ────────────────────────────────────────────────────────────────────\n",
       "«                                                                         </pre>"
      ],
      "text/plain": [
       "                                                                        »\n",
       "q_0: ───────────────────────────────────────────────────────────────────»\n",
       "     ┌─────────┐    ┌────┐    ┌─────────┐     ┌────┐┌────────────┐┌────┐»\n",
       "q_1: ┤ Rz(π/2) ├────┤ √X ├────┤ Rz(π/2) ├──■──┤ √X ├┤ Rz(3.1158) ├┤ √X ├»\n",
       "     └─────────┘    └────┘    └─────────┘  │  └────┘└────────────┘└────┘»\n",
       "q_2: ──────────────────────────────────────┼────────────────────────────»\n",
       "        ┌───┐   ┌────────────┐           ┌─┴─┐┌────┐┌────────────┐┌────┐»\n",
       "q_3: ───┤ X ├───┤ Rz(1.2576) ├───────────┤ X ├┤ √X ├┤ Rz(3.1158) ├┤ √X ├»\n",
       "        └───┘   └────────────┘           └───┘└────┘└────────────┘└────┘»\n",
       "q_4: ───────────────────────────────────────────────────────────────────»\n",
       "        ┌───┐   ┌────────────┐                                          »\n",
       "q_5: ───┤ X ├───┤ Rz(3.3166) ├──────────────────────────────────────────»\n",
       "        └───┘   └────────────┘                                          »\n",
       "q_6: ───────────────────────────────────────────────────────────────────»\n",
       "                                                                        »\n",
       "«                                                    ┌───┐                    »\n",
       "«q_0: ───────────────────────────────────────────────┤ X ├────────────────────»\n",
       "«     ┌────────┐       ┌─────────┐  ┌────┐┌─────────┐└─┬─┘                    »\n",
       "«q_1: ┤ Rz(-π) ├──■────┤ Rz(π/2) ├──┤ √X ├┤ Rz(π/2) ├──■────■─────────────────»\n",
       "«     └────────┘  │    └─────────┘  └────┘└─────────┘     ┌─┴─┐               »\n",
       "«q_2: ────────────┼───────────────────────────────────────┤ X ├───────────────»\n",
       "«     ┌────────┐┌─┴─┐┌─────────────┐┌────┐┌─────────┐     ├───┴┐┌────────────┐»\n",
       "«q_3: ┤ Rz(-π) ├┤ X ├┤ Rz(0.33583) ├┤ √X ├┤ Rz(π/2) ├──■──┤ √X ├┤ Rz(2.0516) ├»\n",
       "«     └────────┘└───┘└─────────────┘└────┘└─────────┘  │  └────┘└────────────┘»\n",
       "«q_4: ─────────────────────────────────────────────────┼──────────────────────»\n",
       "«                                                    ┌─┴─┐┌────┐┌────────────┐»\n",
       "«q_5: ───────────────────────────────────────────────┤ X ├┤ √X ├┤ Rz(2.0516) ├»\n",
       "«                                                    └───┘└────┘└────────────┘»\n",
       "«q_6: ────────────────────────────────────────────────────────────────────────»\n",
       "«                                                                             »\n",
       "«                                                                         \n",
       "«q_0: ────────────────────────────────────────────────────────────────────\n",
       "«                                                          ┌───┐     ┌───┐\n",
       "«q_1: ─────────────────────────────────────────────────────┤ X ├──■──┤ X ├\n",
       "«                                                          └─┬─┘┌─┴─┐└─┬─┘\n",
       "«q_2: ───────────────────────────────────────────────────────┼──┤ X ├──┼──\n",
       "«     ┌────┐┌────────┐       ┌─────────┐  ┌────┐┌─────────┐  │  └───┘  │  \n",
       "«q_3: ┤ √X ├┤ Rz(-π) ├──■────┤ Rz(π/2) ├──┤ √X ├┤ Rz(π/2) ├──■─────────■──\n",
       "«     └────┘└────────┘  │    └─────────┘  ├───┬┘└─────────┘               \n",
       "«q_4: ──────────────────┼─────────────────┤ X ├───────────────────────────\n",
       "«     ┌────┐┌────────┐┌─┴─┐┌─────────────┐└─┬─┘                           \n",
       "«q_5: ┤ √X ├┤ Rz(-π) ├┤ X ├┤ Rz(-3.3166) ├──■─────────────────────────────\n",
       "«     └────┘└────────┘└───┘└─────────────┘                                \n",
       "«q_6: ────────────────────────────────────────────────────────────────────\n",
       "«                                                                         "
      ]
     },
     "execution_count": 158,
     "metadata": {},
     "output_type": "execute_result"
    }
   ],
   "source": [
    "qc=c[26]\n",
    "qc.remove_final_measurements()\n",
    "qc.draw()"
   ]
  },
  {
   "cell_type": "code",
   "execution_count": 159,
   "metadata": {},
   "outputs": [
    {
     "name": "stderr",
     "output_type": "stream",
     "text": [
      "/Library/Frameworks/Python.framework/Versions/3.10/lib/python3.10/site-packages/numpy/linalg/linalg.py:2146: RuntimeWarning: divide by zero encountered in det\n",
      "  r = _umath_linalg.det(a, signature=signature)\n",
      "/Library/Frameworks/Python.framework/Versions/3.10/lib/python3.10/site-packages/numpy/linalg/linalg.py:2146: RuntimeWarning: invalid value encountered in det\n",
      "  r = _umath_linalg.det(a, signature=signature)\n"
     ]
    },
    {
     "name": "stdout",
     "output_type": "stream",
     "text": [
      "30\n",
      "9.87301e-5 + 0.0021063946*I\n"
     ]
    }
   ],
   "source": [
    "qs = []\n",
    "#for j in jobs:\n",
    "c=jobs[0].circuits()\n",
    "qc=c[26]\n",
    "qc.remove_final_measurements()\n",
    "M=f2.matrix_from_cirquit(c[26])\n",
    "\n",
    "for i in range(2**6):\n",
    "    if M[i*2**6]!=0:\n",
    "        print(i)\n",
    "        print(M[i*2**6])"
   ]
  },
  {
   "cell_type": "code",
   "execution_count": 166,
   "metadata": {},
   "outputs": [
    {
     "name": "stdout",
     "output_type": "stream",
     "text": [
      "0.999903488565693\n",
      "0.9999034885656933010954706677381638818659\n",
      "0.9999034885656933005795029900312036672026\n",
      "0.2772423103624243553322951552787542646018\n",
      "0.1330040975659895313543802778288192274510\n",
      "7\n"
     ]
    }
   ],
   "source": [
    "from sympy import Symbol, Matrix, cos, sin, eye,exp\n",
    "from sympy.physics.quantum import TensorProduct as Tp\n",
    "\n",
    "q = Symbol(\"q\", positive = True) #q=2*t/N, t=tempo, N=steps\n",
    "\n",
    "cx_01= Matrix([\n",
    "[1,0,0,0],\n",
    "[0,0,0,1],\n",
    "[0,0,1,0],\n",
    "[0,1,0,0]\n",
    "])\n",
    "\n",
    "m = Matrix([\n",
    "[exp(-1j*q),0,0,0],\n",
    "[0,exp(-1j*q),0,0],\n",
    "[0,0,cos(q),-1j*sin(q)],\n",
    "[0,0,-1j*sin(q),cos(q)]\n",
    "])\n",
    "\n",
    "\n",
    "Trotter_step=Tp(eye(2),cx_01*m*cx_01)*Tp(cx_01*m*cx_01,eye(2))\n",
    "U= eye(8)\n",
    "\n",
    "min = 1\n",
    "i_min = 0\n",
    "\n",
    "for i in range(90):\n",
    "    for _ in range(i):\n",
    "        # print(steps,i)\n",
    "        U=U*Trotter_step\n",
    "        U=U.subs(q,2*np.pi/i)\n",
    "        U=U.evalf(40)\n",
    "\n",
    "    if min>abs(U[6*8+6]-M[30*2**6]):\n",
    "        min=abs(U[6*8+6]-M[30*2**6])\n",
    "        print(min)\n",
    "        i_min=i\n",
    "\n",
    "print(i_min)"
   ]
  },
  {
   "cell_type": "code",
   "execution_count": null,
   "metadata": {},
   "outputs": [],
   "source": []
  },
  {
   "cell_type": "code",
   "execution_count": 161,
   "metadata": {},
   "outputs": [],
   "source": [
    "state_lables = f2.bin_list(6)\n",
    "qcs_na_=[]\n",
    "\n",
    "qcs_na=f2.column_evolution_tomo(69, np.pi, 40, initial_state='110', check=[0])\n",
    "\n",
    "meas_fitter = mc.CompleteMeasFitter(job_cal.result(), state_labels=state_lables)\n",
    "meas_fitter_our = mc.CompleteMeasFitter(job_cal_our.result(), state_labels=state_lables)\n",
    "\n",
    "target_state = (One^One^Zero).to_matrix()\n",
    "\n",
    "reps=2\n",
    "n_s=12\n",
    "\n",
    "fids=np.zeros([n_s,reps,4])\n",
    "fids_mean=np.zeros([n_s,4])\n",
    "fids_dev=np.zeros([n_s,4])\n",
    "\n",
    "i=0\n",
    "for job in jobs:\n",
    "    \n",
    "    new_res, new_res_nm = f2.mitigate(job.result(), Measure_Mitig=\"yes\", ancillas_conditions=['011','110','101'], meas_fitter=meas_fitter)\n",
    "    new_res_our, new_res_nm = f2.mitigate(job.result(), Measure_Mitig=\"yes\", ancillas_conditions=['011','110','101'], meas_fitter=meas_fitter_our)\n",
    "    new_res_not_mitigated = f2.mitigate(job.result(), Measure_Mitig=\"no\", ancillas_conditions=f2.bin_list(3))\n",
    "\n",
    "\n",
    "    fid = f2.fidelity_count(new_res_not_mitigated, qcs_na, target_state)\n",
    "    fids[i%n_s][i//n_s][0] += fid\n",
    "\n",
    "    fid = f2.fidelity_count(new_res_nm, qcs_na, target_state)\n",
    "    fids[i%n_s][i//n_s][1] += fid\n",
    "\n",
    "    fid = f2.fidelity_count(new_res, qcs_na, target_state)\n",
    "    fids[i%n_s][i//n_s][2] += fid\n",
    "\n",
    "    fid = f2.fidelity_count(new_res_our, qcs_na, target_state)\n",
    "    fids[i%n_s][i//n_s][3] += fid\n",
    "    \n",
    "    i+=1"
   ]
  },
  {
   "cell_type": "code",
   "execution_count": 162,
   "metadata": {},
   "outputs": [],
   "source": [
    "for i in range(4):\n",
    "    for j in range(n_s):\n",
    "        fids_mean[j,i]=np.mean(fids[j,:,i])\n",
    "        fids_dev[j,i]=np.std(fids[j,:,i])"
   ]
  },
  {
   "cell_type": "code",
   "execution_count": 163,
   "metadata": {},
   "outputs": [],
   "source": [
    "target_state = (One^One^Zero).to_matrix()\n",
    "\n",
    "fid = f2.fidelity_count(new_res , qcs_na, target_state)"
   ]
  },
  {
   "cell_type": "code",
   "execution_count": 164,
   "metadata": {},
   "outputs": [
    {
     "data": {
      "text/plain": [
       "array([[0.82127156, 0.88269397, 0.974296  , 0.99110497],\n",
       "       [0.82251129, 0.88322831, 0.97580879, 0.99032558],\n",
       "       [0.82385578, 0.8823685 , 0.97660392, 0.99127927],\n",
       "       [0.80819774, 0.87507113, 0.9659827 , 0.98705539],\n",
       "       [0.79970866, 0.86538385, 0.95426036, 0.98235265],\n",
       "       [0.82016748, 0.879819  , 0.97334493, 0.99100099],\n",
       "       [0.81279922, 0.87623135, 0.96993873, 0.99287397],\n",
       "       [0.80986588, 0.8672094 , 0.9583615 , 0.99131904],\n",
       "       [0.79077297, 0.84460914, 0.93247343, 0.97300191],\n",
       "       [0.72910365, 0.77376102, 0.85333071, 0.89000995],\n",
       "       [0.51371145, 0.54232741, 0.59134106, 0.6105425 ],\n",
       "       [0.24797193, 0.25618479, 0.27618227, 0.28033417]])"
      ]
     },
     "execution_count": 164,
     "metadata": {},
     "output_type": "execute_result"
    }
   ],
   "source": [
    "fids_mean\n"
   ]
  },
  {
   "cell_type": "code",
   "execution_count": 165,
   "metadata": {},
   "outputs": [
    {
     "data": {
      "image/png": "[encoded data removed]",
      "text/plain": [
       "<Figure size 432x288 with 1 Axes>"
      ]
     },
     "metadata": {
      "needs_background": "light"
     },
     "output_type": "display_data"
    }
   ],
   "source": [
    "\n",
    "steps = [6,8,10,12,16,21,25,32,50,69,99,110]\n",
    "steps.reverse()\n",
    "\n",
    "labels=[\"raw\",\"ancille\",\"ancille and qiskit\",\"ancille and our\"]\n",
    "\n",
    "for i in range(4):\n",
    "    plt.errorbar(steps,list(fids_mean[:,i]),list(fids_dev[:,i]),linestyle=':',label=labels[i])\n",
    "\n",
    "plt.legend()\n",
    "plt.grid()\n",
    "plt.show()"
   ]
  },
  {
   "cell_type": "code",
   "execution_count": null,
   "metadata": {},
   "outputs": [],
   "source": []
  }
 ],
 "metadata": {
  "interpreter": {
   "hash": "aee8b7b246df8f9039afb4144a1f6fd8d2ca17a180786b69acc140d282b71a49"
  },
  "kernelspec": {
   "display_name": "Python 3.10.2 64-bit",
   "language": "python",
   "name": "python3"
  },
  "language_info": {
   "codemirror_mode": {
    "name": "ipython",
    "version": 3
   },
   "file_extension": ".py",
   "mimetype": "text/x-python",
   "name": "python",
   "nbconvert_exporter": "python",
   "pygments_lexer": "ipython3",
   "version": "3.10.2"
  },
  "orig_nbformat": 4
 },
 "nbformat": 4,
 "nbformat_minor": 2
}
