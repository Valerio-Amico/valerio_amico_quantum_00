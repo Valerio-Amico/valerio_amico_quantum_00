{
 "cells": [
  {
   "cell_type": "code",
   "execution_count": 16,
   "metadata": {},
   "outputs": [],
   "source": [
    "import funzioni01 as f1\n",
    "from qiskit import Aer, assemble, QuantumCircuit, QuantumRegister, ClassicalRegister, IBMQ, transpile, execute\n",
    "from qiskit.visualization import plot_bloch_multivector, plot_histogram\n",
    "from qiskit.providers.ibmq.job import job_monitor\n",
    "#from qiskit.providers.ibmq import least_busy\n",
    "from copy import deepcopy\n",
    "from qiskit.opflow import Zero, One, I, X, Y, Z\n",
    "from qiskit.providers.aer import AerSimulator, QasmSimulator\n",
    "from qiskit.ignis.verification.tomography import state_tomography_circuits, StateTomographyFitter\n",
    "from qiskit.quantum_info import state_fidelity\n",
    "from qiskit.circuit import Parameter\n",
    "import time\n",
    "import qiskit.quantum_info as qi\n",
    "from qiskit.utils import QuantumInstance\n",
    "import qiskit.ignis.mitigation.measurement as mc\n",
    "#from qiskit.result import marginal_counts\n",
    "from sympy import *\n",
    "from sympy.solvers import solve\n",
    "from sympy import Symbol\n",
    "import openql as ql\n",
    "from sympy.physics.quantum import TensorProduct as Tp\n",
    "from sympy import sqrt, cos, sin, acos, asin, atan\n",
    "import numpy as np\n",
    "from qiskit import Aer, assemble, QuantumCircuit, QuantumRegister, ClassicalRegister, IBMQ, transpile, execute\n"
   ]
  },
  {
   "cell_type": "code",
   "execution_count": 17,
   "metadata": {},
   "outputs": [],
   "source": [
    "e, alpha, theta, ar1, ai1, br1, bi1, ar2, ai2, br2, bi2 = symbols(\"e a t ar1 aI1 ar2 aI2 br1 bI1 br2 bI2\")\n",
    "\n",
    "a1=ar1+I*ai1\n",
    "a2=ar2+I*ai2\n",
    "\n",
    "b1=br1+I*bi1\n",
    "b2=br2+I*bi2\n",
    "\n",
    "def rz(alpha):\n",
    "    return Matrix([\n",
    "        [e**(1j*alpha/2),0],\n",
    "        [0,e**(-1j*alpha/2)]\n",
    "    ])\n",
    "\n",
    "def ry(theta):\n",
    "    return Matrix([\n",
    "        [cos(theta/2),sin(theta/2)],\n",
    "        [-sin(theta/2),cos(theta/2)]\n",
    "    ])\n",
    "\n",
    "cx_10= Matrix([\n",
    "    [1,0,0,0],\n",
    "    [0,1,0,0],\n",
    "    [0,0,0,1],\n",
    "    [0,0,1,0]\n",
    "])\n",
    "\n",
    "A = Matrix([\n",
    "    [a1,-b1.conjugate()],\n",
    "    [b1,a1.conjugate()]\n",
    "])\n",
    "\n",
    "B = Matrix([\n",
    "    [a2,-b2.conjugate()],\n",
    "    [b2,a2.conjugate()]\n",
    "])"
   ]
  },
  {
   "cell_type": "code",
   "execution_count": 18,
   "metadata": {},
   "outputs": [
    {
     "name": "stdout",
     "output_type": "stream",
     "text": [
      "-3.0396427099561910246\n",
      "0.85993638146269324404 0.85993638146269550072\n"
     ]
    }
   ],
   "source": [
    "precision=20\n",
    "tempo=1 # np.pi/3\n",
    "steps=40\n",
    "\n",
    "Un=f1.Trotter_N_approx(steps=steps, tempo=tempo, precision=precision)\n",
    "gate_1, gate_2 = f1.simplyfied_gates_matricies(Un, precision=precision)\n",
    "\n",
    "U=(Tp(gate_2,eye(2))*Tp(eye(2),gate_1)).evalf(precision)"
   ]
  },
  {
   "cell_type": "code",
   "execution_count": 19,
   "metadata": {},
   "outputs": [
    {
     "data": {
      "text/latex": [
       "$\\displaystyle \\left[\\begin{matrix}1.0 & 0 & 0 & 0 & 0 & 0 & 0 & 0\\\\0 & -0.49493344403534748649 + 0.050633984750343286056 i & -0.77712469893046513474 - 0.38542740934687751208 i & 0 & 0 & 0 & 0 & 0\\\\0 & 0.10209164994632472077 - 0.050633984750343202056 i & -0.065019902191664535617 - 0.0066518372838155353486 i & 0 & -0.38104046771933442838 - 0.91517748111473218439 i & 0 & 0 & 0\\\\0 & 0 & 0 & 0.13137100144523856609 & 0 & 0.23492875362779076691 + 0.43365834539994413021 i & -0.05661852688194075876 + 0.85807046480861326781 i & 0\\\\0 & -0.05661852688194075876 - 0.85807046480861326781 i & -0.23492875362779076691 + 0.43365834539994413021 i & 0 & 0.13137100144523856609 & 0 & 0 & 0\\\\0 & 0 & 0 & 0.38104046771933442838 - 0.91517748111473218439 i & 0 & -0.065019902191664535617 + 0.0066518372838155353486 i & -0.10209164994632472077 - 0.050633984750343202056 i & 0\\\\0 & 0 & 0 & 0 & 0 & 0.77712469893046513474 - 0.38542740934687751208 i & -0.49493344403534748649 - 0.050633984750343286056 i & 0\\\\0 & 0 & 0 & 0 & 0 & 0 & 0 & 1.0\\end{matrix}\\right]$"
      ],
      "text/plain": [
       "Matrix([\n",
       "[1.0,                                                   0,                                                     0,                                                 0,                                                  0,                                                     0,                                                   0,   0],\n",
       "[  0, -0.49493344403534748649 + 0.050633984750343286056*I,    -0.77712469893046513474 - 0.38542740934687751208*I,                                                 0,                                                  0,                                                     0,                                                   0,   0],\n",
       "[  0,  0.10209164994632472077 - 0.050633984750343202056*I, -0.065019902191664535617 - 0.0066518372838155353486*I,                                                 0, -0.38104046771933442838 - 0.91517748111473218439*I,                                                     0,                                                   0,   0],\n",
       "[  0,                                                   0,                                                     0,                            0.13137100144523856609,                                                  0,     0.23492875362779076691 + 0.43365834539994413021*I,  -0.05661852688194075876 + 0.85807046480861326781*I,   0],\n",
       "[  0,  -0.05661852688194075876 - 0.85807046480861326781*I,    -0.23492875362779076691 + 0.43365834539994413021*I,                                                 0,                             0.13137100144523856609,                                                     0,                                                   0,   0],\n",
       "[  0,                                                   0,                                                     0, 0.38104046771933442838 - 0.91517748111473218439*I,                                                  0, -0.065019902191664535617 + 0.0066518372838155353486*I, -0.10209164994632472077 - 0.050633984750343202056*I,   0],\n",
       "[  0,                                                   0,                                                     0,                                                 0,                                                  0,     0.77712469893046513474 - 0.38542740934687751208*I, -0.49493344403534748649 - 0.050633984750343286056*I,   0],\n",
       "[  0,                                                   0,                                                     0,                                                 0,                                                  0,                                                     0,                                                   0, 1.0]])"
      ]
     },
     "execution_count": 19,
     "metadata": {},
     "output_type": "execute_result"
    }
   ],
   "source": [
    "U"
   ]
  },
  {
   "cell_type": "code",
   "execution_count": 20,
   "metadata": {},
   "outputs": [
    {
     "data": {
      "text/latex": [
       "$\\displaystyle \\left[\\begin{matrix}-0.65364362086361190759 + 0.75680249530792825746 i & 0 & 0 & 0 & 0 & 0 & 0 & 0\\\\0 & -0.49493344403534750088 - 0.05063398475034253539 i & -0.056618526881940844039 - 0.050633984750343132813 i & 0 & -0.10209164994632498196 + 0.85807046480861542896 i & 0 & 0 & 0\\\\0 & -0.10209164994632474886 - 0.050633984750343145436 i & -0.49493344403534768961 + 0.85807046480861600007 i & 0 & -0.05661852688194084435 - 0.050633984750343131585 i & 0 & 0 & 0\\\\0 & 0 & 0 & -0.4949334440353475009 - 0.050633984750342535282 i & 0 & -0.10209164994632475102 - 0.050633984750343145779 i & -0.056618526881941087112 + 0.85807046480861550773 i & 0\\\\0 & -0.056618526881941087112 + 0.85807046480861550773 i & -0.10209164994632475102 - 0.050633984750343145779 i & 0 & -0.4949334440353475009 - 0.050633984750342535282 i & 0 & 0 & 0\\\\0 & 0 & 0 & -0.05661852688194084435 - 0.050633984750343131585 i & 0 & -0.49493344403534768961 + 0.85807046480861600007 i & -0.10209164994632474886 - 0.050633984750343145436 i & 0\\\\0 & 0 & 0 & -0.10209164994632498196 + 0.85807046480861542896 i & 0 & -0.056618526881940844039 - 0.050633984750343132813 i & -0.49493344403534750088 - 0.05063398475034253539 i & 0\\\\0 & 0 & 0 & 0 & 0 & 0 & 0 & -0.65364362086361190759 + 0.75680249530792825746 i\\end{matrix}\\right]$"
      ],
      "text/plain": [
       "Matrix([\n",
       "[-0.65364362086361190759 + 0.75680249530792825746*I,                                                   0,                                                    0,                                                   0,                                                   0,                                                    0,                                                   0,                                                  0],\n",
       "[                                                 0,  -0.49493344403534750088 - 0.05063398475034253539*I, -0.056618526881940844039 - 0.050633984750343132813*I,                                                   0,  -0.10209164994632498196 + 0.85807046480861542896*I,                                                    0,                                                   0,                                                  0],\n",
       "[                                                 0, -0.10209164994632474886 - 0.050633984750343145436*I,   -0.49493344403534768961 + 0.85807046480861600007*I,                                                   0, -0.05661852688194084435 - 0.050633984750343131585*I,                                                    0,                                                   0,                                                  0],\n",
       "[                                                 0,                                                   0,                                                    0,  -0.4949334440353475009 - 0.050633984750342535282*I,                                                   0,  -0.10209164994632475102 - 0.050633984750343145779*I, -0.056618526881941087112 + 0.85807046480861550773*I,                                                  0],\n",
       "[                                                 0, -0.056618526881941087112 + 0.85807046480861550773*I,  -0.10209164994632475102 - 0.050633984750343145779*I,                                                   0,  -0.4949334440353475009 - 0.050633984750342535282*I,                                                    0,                                                   0,                                                  0],\n",
       "[                                                 0,                                                   0,                                                    0, -0.05661852688194084435 - 0.050633984750343131585*I,                                                   0,   -0.49493344403534768961 + 0.85807046480861600007*I, -0.10209164994632474886 - 0.050633984750343145436*I,                                                  0],\n",
       "[                                                 0,                                                   0,                                                    0,  -0.10209164994632498196 + 0.85807046480861542896*I,                                                   0, -0.056618526881940844039 - 0.050633984750343132813*I,  -0.49493344403534750088 - 0.05063398475034253539*I,                                                  0],\n",
       "[                                                 0,                                                   0,                                                    0,                                                   0,                                                   0,                                                    0,                                                   0, -0.65364362086361190759 + 0.75680249530792825746*I]])"
      ]
     },
     "execution_count": 20,
     "metadata": {},
     "output_type": "execute_result"
    }
   ],
   "source": [
    "Un"
   ]
  },
  {
   "cell_type": "code",
   "execution_count": 21,
   "metadata": {},
   "outputs": [
    {
     "name": "stdout",
     "output_type": "stream",
     "text": [
      "0.8414709848 \n",
      " -0.65364362086361333685 + 0.7568024953079298269*I\n"
     ]
    }
   ],
   "source": [
    "print(sin(tempo).evalf(10),\"\\n\",Un[3*8+6]+Un[5*8+6]+Un[6*8+6])"
   ]
  },
  {
   "cell_type": "code",
   "execution_count": 22,
   "metadata": {},
   "outputs": [
    {
     "name": "stdout",
     "output_type": "stream",
     "text": [
      "-3.2835211024489271286e-16 + 2.2399210307735839542e-15*I \n",
      " -2.8081577421203412354e-17 + 5.6620287936128129921e-17*I \n",
      " -1.4385584059693409809e-17 + 7.5066622060341540307e-16*I\n"
     ]
    }
   ],
   "source": [
    "print(Un[3*8+6]-U[3*8+6],\"\\n\",Un[5*8+6]-U[5*8+6],\"\\n\",Un[6*8+6]-U[6*8+6])"
   ]
  },
  {
   "cell_type": "code",
   "execution_count": 23,
   "metadata": {},
   "outputs": [],
   "source": [
    "M=Tp(rz(-np.pi),rz(-np.pi))*Tp(eye(2),ry(-np.pi/2))*cx_10*Tp(A,B)*cx_10*Tp(eye(2),ry(np.pi/2))*Tp(rz(np.pi),rz(np.pi))\n"
   ]
  },
  {
   "cell_type": "code",
   "execution_count": 24,
   "metadata": {},
   "outputs": [],
   "source": [
    "AB_1=cx_10*Tp(eye(2),ry(-np.pi/2))*Tp(rz(-np.pi/2),rz(-np.pi/2))*gate_1*Tp(rz(np.pi/2),rz(np.pi/2))*Tp(eye(2),ry(np.pi/2))*cx_10\n",
    "AB_2=cx_10*Tp(eye(2),ry(-np.pi/2))*Tp(rz(-np.pi/2),rz(-np.pi/2))*gate_2*Tp(rz(np.pi/2),rz(np.pi/2))*Tp(eye(2),ry(np.pi/2))*cx_10\n"
   ]
  },
  {
   "cell_type": "code",
   "execution_count": 25,
   "metadata": {},
   "outputs": [
    {
     "data": {
      "text/latex": [
       "$\\displaystyle \\left[\\begin{matrix}0.25253327798232636899 + 0.025316992375171638539 i & 0.74746672201767372808 - 0.025316992375171642514 i & 0.38856234946523249848 + 0.19271370467343872187 i & 0.38856234946523255949 + 0.19271370467343875213 i\\\\0.74746672201767372808 - 0.025316992375171642514 i & 0.25253327798232613427 + 0.025316992375171646489 i & -0.38856234946523255949 - 0.19271370467343875213 i & -0.3885623494652326205 - 0.19271370467343878239 i\\\\-0.38856234946523249848 + 0.19271370467343872187 i & 0.38856234946523255949 - 0.19271370467343875213 i & 0.25253327798232636899 - 0.025316992375171638539 i & -0.74746672201767372808 - 0.025316992375171642514 i\\\\-0.38856234946523255949 + 0.19271370467343875213 i & 0.3885623494652326205 - 0.19271370467343878239 i & -0.74746672201767372808 - 0.025316992375171642514 i & 0.25253327798232613427 - 0.025316992375171646489 i\\end{matrix}\\right]$"
      ],
      "text/plain": [
       "Matrix([\n",
       "[0.25253327798232636899 + 0.025316992375171638539*I, 0.74746672201767372808 - 0.025316992375171642514*I,   0.38856234946523249848 + 0.19271370467343872187*I,   0.38856234946523255949 + 0.19271370467343875213*I],\n",
       "[0.74746672201767372808 - 0.025316992375171642514*I, 0.25253327798232613427 + 0.025316992375171646489*I,  -0.38856234946523255949 - 0.19271370467343875213*I,   -0.3885623494652326205 - 0.19271370467343878239*I],\n",
       "[-0.38856234946523249848 + 0.19271370467343872187*I,  0.38856234946523255949 - 0.19271370467343875213*I,  0.25253327798232636899 - 0.025316992375171638539*I, -0.74746672201767372808 - 0.025316992375171642514*I],\n",
       "[-0.38856234946523255949 + 0.19271370467343875213*I,   0.3885623494652326205 - 0.19271370467343878239*I, -0.74746672201767372808 - 0.025316992375171642514*I,  0.25253327798232613427 - 0.025316992375171646489*I]])"
      ]
     },
     "execution_count": 25,
     "metadata": {},
     "output_type": "execute_result"
    }
   ],
   "source": [
    "AB_1"
   ]
  },
  {
   "cell_type": "code",
   "execution_count": 26,
   "metadata": {},
   "outputs": [
    {
     "data": {
      "text/latex": [
       "$\\displaystyle \\left[\\begin{matrix}0.56568550072261933976 & 0.43431449927738070814 & 0.19052023385966718041 + 0.45758874055736601107 i & 0.19052023385966721033 + 0.45758874055736608291 i\\\\0.43431449927738070814 & 0.56568550072261920337 & -0.19052023385966721033 - 0.45758874055736608291 i & -0.19052023385966724024 - 0.45758874055736615476 i\\\\-0.19052023385966718041 + 0.45758874055736601107 i & 0.19052023385966721033 - 0.45758874055736608291 i & 0.56568550072261933976 & -0.43431449927738070814\\\\-0.19052023385966721033 + 0.45758874055736608291 i & 0.19052023385966724024 - 0.45758874055736615476 i & -0.43431449927738070814 & 0.56568550072261920337\\end{matrix}\\right]$"
      ],
      "text/plain": [
       "Matrix([\n",
       "[                            0.56568550072261933976,                            0.43431449927738070814,  0.19052023385966718041 + 0.45758874055736601107*I,  0.19052023385966721033 + 0.45758874055736608291*I],\n",
       "[                            0.43431449927738070814,                            0.56568550072261920337, -0.19052023385966721033 - 0.45758874055736608291*I, -0.19052023385966724024 - 0.45758874055736615476*I],\n",
       "[-0.19052023385966718041 + 0.45758874055736601107*I, 0.19052023385966721033 - 0.45758874055736608291*I,                             0.56568550072261933976,                            -0.43431449927738070814],\n",
       "[-0.19052023385966721033 + 0.45758874055736608291*I, 0.19052023385966724024 - 0.45758874055736615476*I,                            -0.43431449927738070814,                             0.56568550072261920337]])"
      ]
     },
     "execution_count": 26,
     "metadata": {},
     "output_type": "execute_result"
    }
   ],
   "source": [
    "AB_2"
   ]
  },
  {
   "cell_type": "code",
   "execution_count": 27,
   "metadata": {},
   "outputs": [
    {
     "data": {
      "text/latex": [
       "$\\displaystyle 0.13137100144523863162$"
      ],
      "text/plain": [
       "0.13137100144523863162"
      ]
     },
     "execution_count": 27,
     "metadata": {},
     "output_type": "execute_result"
    }
   ],
   "source": [
    "AB_2[0]-AB_2[1]"
   ]
  },
  {
   "cell_type": "code",
   "execution_count": 28,
   "metadata": {},
   "outputs": [
    {
     "data": {
      "image/png": "[encoded data removed]",
      "text/plain": [
       "<Figure size 989.452x144.48 with 1 Axes>"
      ]
     },
     "execution_count": 28,
     "metadata": {},
     "output_type": "execute_result"
    }
   ],
   "source": [
    "qc_aus=QuantumCircuit(2)\n",
    "qc_aus.unitary(AB_1, [0,1])\n",
    "\n",
    "gate=transpile(qc_aus,basis_gates=[\"cx\",\"rz\",\"x\",\"sx\"])\n",
    "gate.draw(output=\"mpl\")"
   ]
  },
  {
   "cell_type": "code",
   "execution_count": null,
   "metadata": {},
   "outputs": [],
   "source": []
  }
 ],
 "metadata": {
  "interpreter": {
   "hash": "e8bbf111b3c07fe72d02251ebcc32db4a683ef2a320a2bb47db1bc9f2379816c"
  },
  "kernelspec": {
   "display_name": "Python 3.8.12 ('pyEnv')",
   "language": "python",
   "name": "python3"
  },
  "language_info": {
   "codemirror_mode": {
    "name": "ipython",
    "version": 3
   },
   "file_extension": ".py",
   "mimetype": "text/x-python",
   "name": "python",
   "nbconvert_exporter": "python",
   "pygments_lexer": "ipython3",
   "version": "3.8.12"
  },
  "orig_nbformat": 4
 },
 "nbformat": 4,
 "nbformat_minor": 2
}
