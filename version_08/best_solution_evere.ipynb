{
 "cells": [
  {
   "cell_type": "code",
   "execution_count": 1,
   "metadata": {},
   "outputs": [],
   "source": [
    "import funzioni02 as f2\n",
    "import numpy as np\n",
    "import qiskit.ignis.mitigation.measurement as mc\n",
    "from qiskit import Aer, assemble, QuantumCircuit, QuantumRegister, ClassicalRegister, IBMQ, transpile, execute\n",
    "from qiskit.providers.aer import AerSimulator, QasmSimulator\n",
    "from qiskit.opflow import Zero, One, I, X, Y, Z\n",
    "from qiskit.ignis.verification.tomography import state_tomography_circuits, StateTomographyFitter\n",
    "from qiskit.quantum_info import state_fidelity\n",
    "import matplotlib.pyplot as plt\n",
    "from sympy import *\n",
    "\n",
    "IBMQ.load_account()\n",
    "provider = IBMQ.get_provider(hub='ibm-q-community', group='ibmquantumawards', project='open-science-22')\n",
    "\n",
    "sim_noisy_jakarta = QasmSimulator.from_backend(provider.get_backend('ibmq_jakarta'))\n",
    "backend_sim_jakarta = sim_noisy_jakarta \n",
    "backend = provider.get_backend('ibmq_jakarta')\n",
    "backend_sim = Aer.get_backend('qasm_simulator')"
   ]
  },
  {
   "cell_type": "code",
   "execution_count": 2,
   "metadata": {},
   "outputs": [],
   "source": [
    "\n",
    "def gates(steps, tempo, precision):\n",
    "    U = f2.Trotter_N_approx(steps=steps, tempo=tempo, precision=precision)\n",
    "\n",
    "    ### considero la colonna relativa allo stato iniziale desiderato\n",
    "    ### in questo caso |110>  !!!!!DEVO IMPLEMENTARE QUESTA PARTE PER TUTTI GLI STATI!!!!!!!\n",
    "\n",
    "    b0=im(U[3*8+6])\n",
    "    b1=im(U[5*8+6])\n",
    "    alp0=re(U[3*8+6])\n",
    "    alp1=re(U[5*8+6])\n",
    "    alp2=re(U[6*8+6])\n",
    "\n",
    "    ### calcolo i coefficienti per i gate a 2 qubit\n",
    "\n",
    "    r1=acos(sqrt(alp2**2+b1**2))\n",
    "    a1=f2.angolo(alp2,b1)\n",
    "    a2=0\n",
    "    phi1=np.pi+a2-f2.angolo(alp1,b1)\n",
    "    r2=acos(sqrt(alp1**2+b1**2)/sin(r1))\n",
    "    phi2=-phi1-f2.angolo(alp0,b0)\n",
    "\n",
    "    a_1_1 = -float(- a1 + phi1 - np.pi)/2\n",
    "    a_2_1 = float(a1 + phi1 - np.pi)/2\n",
    "    a_3_1 = float(r1)\n",
    "\n",
    "    a_1_2 = -float(- a2 + phi2 - np.pi)/2\n",
    "    a_2_2 = float(a2 + phi2 - np.pi)/2\n",
    "    a_3_2 = float(r2)\n",
    "\n",
    "    qr1=QuantumRegister(2)\n",
    "    qc1=QuantumCircuit(qr1)\n",
    "\n",
    "    qc1.rz(a_1_1*2,qr1[1])\n",
    "    qc1.h(qr1[0])\n",
    "    qc1.cx(qr1[0],qr1[1])\n",
    "    qc1.ry(-a_3_1,qr1[0])\n",
    "    qc1.ry(-a_3_1,qr1[1])\n",
    "    qc1.cx(qr1[0],qr1[1])\n",
    "    qc1.h(qr1[0])\n",
    "    qc1.rz(a_2_1*2,qr1[1])\n",
    "\n",
    "    qr=QuantumRegister(2)\n",
    "    qc=QuantumCircuit(qr)\n",
    "\n",
    "    qc.rz(a_1_2*2,qr[1])\n",
    "    qc.h(qr[0])\n",
    "    qc.cx(qr[0],qr[1])\n",
    "    qc.ry(-a_3_2,qr[0])\n",
    "    qc.ry(-a_3_2,qr[1])\n",
    "    qc.cx(qr[0],qr[1])\n",
    "    qc.h(qr[0])\n",
    "    qc.rz(a_2_2*2,qr[1])\n",
    "\n",
    "    return qc1, qc\n"
   ]
  },
  {
   "cell_type": "code",
   "execution_count": 3,
   "metadata": {},
   "outputs": [
    {
     "data": {
      "text/plain": [
       "<qiskit.circuit.instructionset.InstructionSet at 0x17d54a800>"
      ]
     },
     "execution_count": 3,
     "metadata": {},
     "output_type": "execute_result"
    }
   ],
   "source": [
    "steps = 48\n",
    "tempo = np.pi/17\n",
    "precision = 40\n",
    "\n",
    "gate_1, gate_2 = gates(steps, tempo, precision)\n",
    "\n",
    "qr = QuantumRegister(3)\n",
    "qc = QuantumCircuit(qr)\n",
    "\n",
    "qc.x(qr[1])\n",
    "qc.append(gate_1, [qr[0],qr[1]])\n",
    "qc.barrier()\n",
    "qc.x(qr[2])\n",
    "qc.append(gate_2, [qr[1],qr[2]])\n"
   ]
  },
  {
   "cell_type": "code",
   "execution_count": 4,
   "metadata": {},
   "outputs": [
    {
     "data": {
      "text/html": [
       "<pre style=\"word-wrap: normal;white-space: pre;background: #fff0;line-height: 1.1;font-family: &quot;Courier New&quot;,Courier,monospace\">global phase: 3π/2\n",
       "        ┌─────────┐  ┌────┐┌─────────┐     ┌────┐┌────────────┐┌────┐┌────────┐»\n",
       "q0_0: ──┤ Rz(π/2) ├──┤ √X ├┤ Rz(π/2) ├──■──┤ √X ├┤ Rz(2.7763) ├┤ √X ├┤ Rz(-π) ├»\n",
       "      ┌─┴─────────┴─┐└────┘└─────────┘┌─┴─┐├────┤├────────────┤├────┤├────────┤»\n",
       "q0_1: ┤ Rz(-2.1378) ├─────────────────┤ X ├┤ √X ├┤ Rz(2.7763) ├┤ √X ├┤ Rz(-π) ├»\n",
       "      └─────────────┘                 └───┘└────┘└────────────┘└────┘└────────┘»\n",
       "«            ┌─────────┐  ┌────┐┌─────────┐\n",
       "«q0_0: ──■───┤ Rz(π/2) ├──┤ √X ├┤ Rz(π/2) ├\n",
       "«      ┌─┴─┐┌┴─────────┴─┐└────┘└─────────┘\n",
       "«q0_1: ┤ X ├┤ Rz(1.3812) ├─────────────────\n",
       "«      └───┘└────────────┘                 </pre>"
      ],
      "text/plain": [
       "global phase: 3π/2\n",
       "        ┌─────────┐  ┌────┐┌─────────┐     ┌────┐┌────────────┐┌────┐┌────────┐»\n",
       "q0_0: ──┤ Rz(π/2) ├──┤ √X ├┤ Rz(π/2) ├──■──┤ √X ├┤ Rz(2.7763) ├┤ √X ├┤ Rz(-π) ├»\n",
       "      ┌─┴─────────┴─┐└────┘└─────────┘┌─┴─┐├────┤├────────────┤├────┤├────────┤»\n",
       "q0_1: ┤ Rz(-2.1378) ├─────────────────┤ X ├┤ √X ├┤ Rz(2.7763) ├┤ √X ├┤ Rz(-π) ├»\n",
       "      └─────────────┘                 └───┘└────┘└────────────┘└────┘└────────┘»\n",
       "«            ┌─────────┐  ┌────┐┌─────────┐\n",
       "«q0_0: ──■───┤ Rz(π/2) ├──┤ √X ├┤ Rz(π/2) ├\n",
       "«      ┌─┴─┐┌┴─────────┴─┐└────┘└─────────┘\n",
       "«q0_1: ┤ X ├┤ Rz(1.3812) ├─────────────────\n",
       "«      └───┘└────────────┘                 "
      ]
     },
     "execution_count": 4,
     "metadata": {},
     "output_type": "execute_result"
    }
   ],
   "source": [
    "transpile(gate_1, basis_gates=[\"cx\", \"x\", \"rz\", \"sx\"]).draw()"
   ]
  },
  {
   "cell_type": "code",
   "execution_count": 5,
   "metadata": {},
   "outputs": [
    {
     "data": {
      "text/html": [
       "<pre style=\"word-wrap: normal;white-space: pre;background: #fff0;line-height: 1.1;font-family: &quot;Courier New&quot;,Courier,monospace\">           ┌───────────────┐ ░                       \n",
       "q2_0: ─────┤0              ├─░───────────────────────\n",
       "      ┌───┐│  circuit-1034 │ ░      ┌───────────────┐\n",
       "q2_1: ┤ X ├┤1              ├─░──────┤0              ├\n",
       "      └───┘└───────────────┘ ░ ┌───┐│  circuit-1035 │\n",
       "q2_2: ───────────────────────░─┤ X ├┤1              ├\n",
       "                             ░ └───┘└───────────────┘</pre>"
      ],
      "text/plain": [
       "           ┌───────────────┐ ░                       \n",
       "q2_0: ─────┤0              ├─░───────────────────────\n",
       "      ┌───┐│  circuit-1034 │ ░      ┌───────────────┐\n",
       "q2_1: ┤ X ├┤1              ├─░──────┤0              ├\n",
       "      └───┘└───────────────┘ ░ ┌───┐│  circuit-1035 │\n",
       "q2_2: ───────────────────────░─┤ X ├┤1              ├\n",
       "                             ░ └───┘└───────────────┘"
      ]
     },
     "execution_count": 5,
     "metadata": {},
     "output_type": "execute_result"
    }
   ],
   "source": [
    "qc.draw()"
   ]
  },
  {
   "cell_type": "code",
   "execution_count": 6,
   "metadata": {},
   "outputs": [
    {
     "data": {
      "text/html": [
       "<pre style=\"word-wrap: normal;white-space: pre;background: #fff0;line-height: 1.1;font-family: &quot;Courier New&quot;,Courier,monospace\">       ┌───┐┌───┐┌────┐ ░ ┌────┐┌───┐ ░                ┌───┐┌───┐ ░ ┌───┐┌───┐»\n",
       "q18_0: ┤ X ├┤ Y ├┤ √X ├─░─┤ √X ├┤ Y ├─░─────────────■──┤ X ├┤ Y ├─░─┤ X ├┤ Y ├»\n",
       "       └───┘└───┘└────┘ ░ ├───┬┘├───┤ ░ ┌───┐┌───┐┌─┴─┐└───┘└───┘ ░ └───┘└───┘»\n",
       "q18_1: ─────────────────░─┤ X ├─┤ Y ├─░─┤ X ├┤ Y ├┤ X ├───────────░───────────»\n",
       "                        ░ └───┘ └───┘ ░ └───┘└───┘└───┘           ░           »\n",
       "q18_2: ─────────────────░─────────────░───────────────────────────░───────────»\n",
       "                        ░             ░                           ░           »\n",
       "«            ┌───┐┌───┐┌───┐ ░ ┌───┐      ░                 ░                »\n",
       "«q18_0: ──■──┤ X ├┤ Y ├┤ X ├─░─┤ Y ├──────░─────────────────░────────────────»\n",
       "«       ┌─┴─┐└───┘└───┘└───┘ ░ ├───┤┌───┐ ░ ┌───┐┌───┐┌───┐ ░ ┌───┐┌───┐┌───┐»\n",
       "«q18_1: ┤ X ├────────────────░─┤ X ├┤ Y ├─░─┤ X ├┤ Y ├┤ X ├─░─┤ Y ├┤ X ├┤ Y ├»\n",
       "«       └───┘                ░ └───┘└───┘ ░ └───┘└───┘└───┘ ░ ├───┤├───┤└───┘»\n",
       "«q18_2: ─────────────────────░────────────░─────────────────░─┤ X ├┤ Y ├─────»\n",
       "«                            ░            ░                 ░ └───┘└───┘     »\n",
       "«        ░                           ░                           ░           »\n",
       "«q18_0: ─░───────────────────────────░───────────────────────────░───────────»\n",
       "«        ░                ┌───┐┌───┐ ░ ┌───┐┌───┐     ┌───┐┌───┐ ░ ┌───┐┌───┐»\n",
       "«q18_1: ─░─────────────■──┤ X ├┤ Y ├─░─┤ X ├┤ Y ├──■──┤ X ├┤ Y ├─░─┤ X ├┤ Y ├»\n",
       "«        ░ ┌───┐┌───┐┌─┴─┐└───┘└───┘ ░ └───┘└───┘┌─┴─┐└───┘└───┘ ░ ├───┤├───┤»\n",
       "«q18_2: ─░─┤ X ├┤ Y ├┤ X ├───────────░───────────┤ X ├───────────░─┤ X ├┤ Y ├»\n",
       "«        ░ └───┘└───┘└───┘           ░           └───┘           ░ └───┘└───┘»\n",
       "«        ░           \n",
       "«q18_0: ─░───────────\n",
       "«        ░           \n",
       "«q18_1: ─░───────────\n",
       "«        ░ ┌───┐┌───┐\n",
       "«q18_2: ─░─┤ X ├┤ Y ├\n",
       "«        ░ └───┘└───┘</pre>"
      ],
      "text/plain": [
       "       ┌───┐┌───┐┌────┐ ░ ┌────┐┌───┐ ░                ┌───┐┌───┐ ░ ┌───┐┌───┐»\n",
       "q18_0: ┤ X ├┤ Y ├┤ √X ├─░─┤ √X ├┤ Y ├─░─────────────■──┤ X ├┤ Y ├─░─┤ X ├┤ Y ├»\n",
       "       └───┘└───┘└────┘ ░ ├───┬┘├───┤ ░ ┌───┐┌───┐┌─┴─┐└───┘└───┘ ░ └───┘└───┘»\n",
       "q18_1: ─────────────────░─┤ X ├─┤ Y ├─░─┤ X ├┤ Y ├┤ X ├───────────░───────────»\n",
       "                        ░ └───┘ └───┘ ░ └───┘└───┘└───┘           ░           »\n",
       "q18_2: ─────────────────░─────────────░───────────────────────────░───────────»\n",
       "                        ░             ░                           ░           »\n",
       "«            ┌───┐┌───┐┌───┐ ░ ┌───┐      ░                 ░                »\n",
       "«q18_0: ──■──┤ X ├┤ Y ├┤ X ├─░─┤ Y ├──────░─────────────────░────────────────»\n",
       "«       ┌─┴─┐└───┘└───┘└───┘ ░ ├───┤┌───┐ ░ ┌───┐┌───┐┌───┐ ░ ┌───┐┌───┐┌───┐»\n",
       "«q18_1: ┤ X ├────────────────░─┤ X ├┤ Y ├─░─┤ X ├┤ Y ├┤ X ├─░─┤ Y ├┤ X ├┤ Y ├»\n",
       "«       └───┘                ░ └───┘└───┘ ░ └───┘└───┘└───┘ ░ ├───┤├───┤└───┘»\n",
       "«q18_2: ─────────────────────░────────────░─────────────────░─┤ X ├┤ Y ├─────»\n",
       "«                            ░            ░                 ░ └───┘└───┘     »\n",
       "«        ░                           ░                           ░           »\n",
       "«q18_0: ─░───────────────────────────░───────────────────────────░───────────»\n",
       "«        ░                ┌───┐┌───┐ ░ ┌───┐┌───┐     ┌───┐┌───┐ ░ ┌───┐┌───┐»\n",
       "«q18_1: ─░─────────────■──┤ X ├┤ Y ├─░─┤ X ├┤ Y ├──■──┤ X ├┤ Y ├─░─┤ X ├┤ Y ├»\n",
       "«        ░ ┌───┐┌───┐┌─┴─┐└───┘└───┘ ░ └───┘└───┘┌─┴─┐└───┘└───┘ ░ ├───┤├───┤»\n",
       "«q18_2: ─░─┤ X ├┤ Y ├┤ X ├───────────░───────────┤ X ├───────────░─┤ X ├┤ Y ├»\n",
       "«        ░ └───┘└───┘└───┘           ░           └───┘           ░ └───┘└───┘»\n",
       "«        ░           \n",
       "«q18_0: ─░───────────\n",
       "«        ░           \n",
       "«q18_1: ─░───────────\n",
       "«        ░ ┌───┐┌───┐\n",
       "«q18_2: ─░─┤ X ├┤ Y ├\n",
       "«        ░ └───┘└───┘"
      ]
     },
     "execution_count": 6,
     "metadata": {},
     "output_type": "execute_result"
    }
   ],
   "source": [
    "cal = f2.calibration_cirquit(type=\"column_evolution\")\n",
    "cal.draw()"
   ]
  },
  {
   "cell_type": "code",
   "execution_count": 7,
   "metadata": {},
   "outputs": [
    {
     "data": {
      "text/html": [
       "<pre style=\"word-wrap: normal;white-space: pre;background: #fff0;line-height: 1.1;font-family: &quot;Courier New&quot;,Courier,monospace\">       ┌───┐┌────┐ ░ ┌────┐     ┌───┐┌────┐ ░ ┌────┐     ┌───┐┌────┐ ░ ┌────┐»\n",
       "q19_0: ┤ X ├┤ √X ├─░─┤ √X ├──■──┤ X ├┤ √X ├─░─┤ √X ├──■──┤ X ├┤ √X ├─░─┤ √X ├»\n",
       "       ├───┤└────┘ ░ ├───┬┘┌─┴─┐├───┤├────┤ ░ ├────┤┌─┴─┐├───┤└────┘ ░ ├───┬┘»\n",
       "q19_1: ┤ X ├───────░─┤ X ├─┤ X ├┤ X ├┤ √X ├─░─┤ √X ├┤ X ├┤ X ├───────░─┤ X ├─»\n",
       "       └───┘       ░ └───┘ └───┘└───┘└────┘ ░ └────┘└───┘└───┘       ░ └───┘ »\n",
       "q19_2: ────────────░────────────────────────░────────────────────────░───────»\n",
       "                   ░                        ░                        ░       »\n",
       "«        ░             ░                        ░                        ░ »\n",
       "«q19_0: ─░─────────────░────────────────────────░────────────────────────░─»\n",
       "«        ░ ┌───┐┌────┐ ░ ┌────┐     ┌───┐┌────┐ ░ ┌────┐     ┌───┐┌────┐ ░ »\n",
       "«q19_1: ─░─┤ X ├┤ √X ├─░─┤ √X ├──■──┤ X ├┤ √X ├─░─┤ √X ├──■──┤ X ├┤ √X ├─░─»\n",
       "«        ░ ├───┤└────┘ ░ ├───┬┘┌─┴─┐├───┤├────┤ ░ ├────┤┌─┴─┐├───┤└────┘ ░ »\n",
       "«q19_2: ─░─┤ X ├───────░─┤ X ├─┤ X ├┤ X ├┤ √X ├─░─┤ √X ├┤ X ├┤ X ├───────░─»\n",
       "«        ░ └───┘       ░ └───┘ └───┘└───┘└────┘ ░ └────┘└───┘└───┘       ░ »\n",
       "«             \n",
       "«q19_0: ──────\n",
       "«       ┌────┐\n",
       "«q19_1: ┤ √X ├\n",
       "«       ├───┬┘\n",
       "«q19_2: ┤ X ├─\n",
       "«       └───┘ </pre>"
      ],
      "text/plain": [
       "       ┌───┐┌────┐ ░ ┌────┐     ┌───┐┌────┐ ░ ┌────┐     ┌───┐┌────┐ ░ ┌────┐»\n",
       "q19_0: ┤ X ├┤ √X ├─░─┤ √X ├──■──┤ X ├┤ √X ├─░─┤ √X ├──■──┤ X ├┤ √X ├─░─┤ √X ├»\n",
       "       ├───┤└────┘ ░ ├───┬┘┌─┴─┐├───┤├────┤ ░ ├────┤┌─┴─┐├───┤└────┘ ░ ├───┬┘»\n",
       "q19_1: ┤ X ├───────░─┤ X ├─┤ X ├┤ X ├┤ √X ├─░─┤ √X ├┤ X ├┤ X ├───────░─┤ X ├─»\n",
       "       └───┘       ░ └───┘ └───┘└───┘└────┘ ░ └────┘└───┘└───┘       ░ └───┘ »\n",
       "q19_2: ────────────░────────────────────────░────────────────────────░───────»\n",
       "                   ░                        ░                        ░       »\n",
       "«        ░             ░                        ░                        ░ »\n",
       "«q19_0: ─░─────────────░────────────────────────░────────────────────────░─»\n",
       "«        ░ ┌───┐┌────┐ ░ ┌────┐     ┌───┐┌────┐ ░ ┌────┐     ┌───┐┌────┐ ░ »\n",
       "«q19_1: ─░─┤ X ├┤ √X ├─░─┤ √X ├──■──┤ X ├┤ √X ├─░─┤ √X ├──■──┤ X ├┤ √X ├─░─»\n",
       "«        ░ ├───┤└────┘ ░ ├───┬┘┌─┴─┐├───┤├────┤ ░ ├────┤┌─┴─┐├───┤└────┘ ░ »\n",
       "«q19_2: ─░─┤ X ├───────░─┤ X ├─┤ X ├┤ X ├┤ √X ├─░─┤ √X ├┤ X ├┤ X ├───────░─»\n",
       "«        ░ └───┘       ░ └───┘ └───┘└───┘└────┘ ░ └────┘└───┘└───┘       ░ »\n",
       "«             \n",
       "«q19_0: ──────\n",
       "«       ┌────┐\n",
       "«q19_1: ┤ √X ├\n",
       "«       ├───┬┘\n",
       "«q19_2: ┤ X ├─\n",
       "«       └───┘ "
      ]
     },
     "execution_count": 7,
     "metadata": {},
     "output_type": "execute_result"
    }
   ],
   "source": [
    "cal = f2.calibration_cirquit(type=\"column_evolution_remake\")\n",
    "cal.draw()\n",
    "\n"
   ]
  },
  {
   "cell_type": "code",
   "execution_count": 8,
   "metadata": {},
   "outputs": [
    {
     "name": "stderr",
     "output_type": "stream",
     "text": [
      "/Library/Frameworks/Python.framework/Versions/3.10/lib/python3.10/site-packages/numpy/linalg/linalg.py:2146: RuntimeWarning: divide by zero encountered in det\n",
      "  r = _umath_linalg.det(a, signature=signature)\n",
      "/Library/Frameworks/Python.framework/Versions/3.10/lib/python3.10/site-packages/numpy/linalg/linalg.py:2146: RuntimeWarning: invalid value encountered in det\n",
      "  r = _umath_linalg.det(a, signature=signature)\n"
     ]
    },
    {
     "data": {
      "text/latex": [
       "$\\displaystyle \\left[\\begin{matrix}1.0 & 0 & 0 & 0 & 0 & 0 & 0 & 0\\\\0 & 1.0 & 0 & 0 & 0 & 0 & 0 & 0\\\\0 & 0 & 1.0 & 0 & 0 & 0 & 0 & 0\\\\0 & 0 & 0 & 1.0 & 0 & 0 & 0 & 0\\\\0 & 0 & 0 & 0 & 1.0 & 0 & 0 & 0\\\\0 & 0 & 0 & 0 & 0 & 1.0 & 0 & 0\\\\0 & 0 & 0 & 0 & 0 & 0 & 1.0 & 0\\\\0 & 0 & 0 & 0 & 0 & 0 & 0 & 1.0\\end{matrix}\\right]$"
      ],
      "text/plain": [
       "Matrix([\n",
       "[1.0,   0,   0,   0,   0,   0,   0,   0],\n",
       "[  0, 1.0,   0,   0,   0,   0,   0,   0],\n",
       "[  0,   0, 1.0,   0,   0,   0,   0,   0],\n",
       "[  0,   0,   0, 1.0,   0,   0,   0,   0],\n",
       "[  0,   0,   0,   0, 1.0,   0,   0,   0],\n",
       "[  0,   0,   0,   0,   0, 1.0,   0,   0],\n",
       "[  0,   0,   0,   0,   0,   0, 1.0,   0],\n",
       "[  0,   0,   0,   0,   0,   0,   0, 1.0]])"
      ]
     },
     "execution_count": 8,
     "metadata": {},
     "output_type": "execute_result"
    }
   ],
   "source": [
    "f2.matrix_from_cirquit(cal, phase=0)"
   ]
  }
 ],
 "metadata": {
  "interpreter": {
   "hash": "aee8b7b246df8f9039afb4144a1f6fd8d2ca17a180786b69acc140d282b71a49"
  },
  "kernelspec": {
   "display_name": "Python 3.10.2 64-bit",
   "language": "python",
   "name": "python3"
  },
  "language_info": {
   "codemirror_mode": {
    "name": "ipython",
    "version": 3
   },
   "file_extension": ".py",
   "mimetype": "text/x-python",
   "name": "python",
   "nbconvert_exporter": "python",
   "pygments_lexer": "ipython3",
   "version": "3.10.2"
  },
  "orig_nbformat": 4
 },
 "nbformat": 4,
 "nbformat_minor": 2
}
