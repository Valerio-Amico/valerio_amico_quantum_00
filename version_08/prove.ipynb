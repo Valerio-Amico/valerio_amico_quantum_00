{
 "cells": [
  {
   "cell_type": "code",
   "execution_count": 1,
   "metadata": {},
   "outputs": [],
   "source": [
    "from qiskit import *\n",
    "import funzioni02 as f2\n",
    "import numpy as np\n",
    "from sympy import *\n",
    "from sympy.physics.quantum import TensorProduct as Tp\n",
    "import cmath"
   ]
  },
  {
   "cell_type": "code",
   "execution_count": 2,
   "metadata": {},
   "outputs": [
    {
     "data": {
      "text/html": [
       "<pre style=\"word-wrap: normal;white-space: pre;background: #fff0;line-height: 1.1;font-family: &quot;Courier New&quot;,Courier,monospace\">      ┌───┐\n",
       "q0_0: ┤ H ├\n",
       "      └───┘\n",
       "q0_1: ─────\n",
       "           </pre>"
      ],
      "text/plain": [
       "      ┌───┐\n",
       "q0_0: ┤ H ├\n",
       "      └───┘\n",
       "q0_1: ─────\n",
       "           "
      ]
     },
     "execution_count": 2,
     "metadata": {},
     "output_type": "execute_result"
    }
   ],
   "source": [
    "qr=QuantumRegister(2)\n",
    "qc=QuantumCircuit(qr)\n",
    "\n",
    "qc.h(qr[0])\n",
    "\n",
    "qc.draw()"
   ]
  },
  {
   "cell_type": "code",
   "execution_count": 3,
   "metadata": {},
   "outputs": [
    {
     "name": "stderr",
     "output_type": "stream",
     "text": [
      "/Library/Frameworks/Python.framework/Versions/3.10/lib/python3.10/site-packages/numpy/linalg/linalg.py:2146: RuntimeWarning: divide by zero encountered in det\n",
      "  r = _umath_linalg.det(a, signature=signature)\n",
      "/Library/Frameworks/Python.framework/Versions/3.10/lib/python3.10/site-packages/numpy/linalg/linalg.py:2146: RuntimeWarning: invalid value encountered in det\n",
      "  r = _umath_linalg.det(a, signature=signature)\n"
     ]
    },
    {
     "data": {
      "text/latex": [
       "$\\displaystyle \\left[\\begin{matrix}0.7071067812 & 0.7071067812 & 0 & 0\\\\0.7071067812 & -0.7071067812 & 0 & 0\\\\0 & 0 & 0.7071067812 & 0.7071067812\\\\0 & 0 & 0.7071067812 & -0.7071067812\\end{matrix}\\right]$"
      ],
      "text/plain": [
       "Matrix([\n",
       "[0.7071067812,  0.7071067812,            0,             0],\n",
       "[0.7071067812, -0.7071067812,            0,             0],\n",
       "[           0,             0, 0.7071067812,  0.7071067812],\n",
       "[           0,             0, 0.7071067812, -0.7071067812]])"
      ]
     },
     "execution_count": 3,
     "metadata": {},
     "output_type": "execute_result"
    }
   ],
   "source": [
    "f2.matrix_from_cirquit(qc)"
   ]
  },
  {
   "cell_type": "code",
   "execution_count": 4,
   "metadata": {},
   "outputs": [
    {
     "data": {
      "text/latex": [
       "$\\displaystyle \\left[\\begin{matrix}\\frac{\\sqrt{2}}{2} & \\frac{\\sqrt{2}}{2} & 0 & 0\\\\\\frac{\\sqrt{2}}{2} & - \\frac{\\sqrt{2}}{2} & 0 & 0\\\\0 & 0 & \\frac{\\sqrt{2}}{2} & \\frac{\\sqrt{2}}{2}\\\\0 & 0 & \\frac{\\sqrt{2}}{2} & - \\frac{\\sqrt{2}}{2}\\end{matrix}\\right]$"
      ],
      "text/plain": [
       "Matrix([\n",
       "[sqrt(2)/2,  sqrt(2)/2,         0,          0],\n",
       "[sqrt(2)/2, -sqrt(2)/2,         0,          0],\n",
       "[        0,          0, sqrt(2)/2,  sqrt(2)/2],\n",
       "[        0,          0, sqrt(2)/2, -sqrt(2)/2]])"
      ]
     },
     "execution_count": 4,
     "metadata": {},
     "output_type": "execute_result"
    }
   ],
   "source": [
    "H = Matrix([ \n",
    "    [1/sqrt(2),1/sqrt(2)],\n",
    "    [1/sqrt(2),-1/sqrt(2)]\n",
    "])\n",
    "\n",
    "Tp(eye(2),H)"
   ]
  },
  {
   "cell_type": "code",
   "execution_count": 5,
   "metadata": {},
   "outputs": [
    {
     "data": {
      "text/html": [
       "<pre style=\"word-wrap: normal;white-space: pre;background: #fff0;line-height: 1.1;font-family: &quot;Courier New&quot;,Courier,monospace\">      ┌───┐      ░                           ░            ░           \n",
       "q6_0: ┤ X ├──────░───────────────────────────░────────────░───────────\n",
       "      └─┬─┘┌───┐ ░           ┌───┐┌───┐      ░            ░ ┌───┐     \n",
       "q6_1: ──┼──┤ X ├─░───────────┤ X ├┤ X ├──────░────────────░─┤ X ├─────\n",
       "        │  └─┬─┘ ░           └─┬─┘└───┘      ░            ░ ├───┤     \n",
       "q6_2: ──┼────┼───░─────────────┼─────────────░────────────░─┤ X ├─────\n",
       "        │    │   ░             │             ░      ┌───┐ ░ └─┬─┘     \n",
       "q6_3: ──┼────┼───░─────────────┼─────────────░──────┤ X ├─░───┼───────\n",
       "        │    │   ░      ┌───┐  │  ┌───┐      ░      └─┬─┘ ░   │       \n",
       "q6_4: ──■────■───░──────┤ X ├──■──┤ X ├──────░────────┼───░───┼───────\n",
       "      ┌───┐      ░ ┌───┐└─┬─┘     └─┬─┘┌───┐ ░        │   ░   │  ┌───┐\n",
       "q6_5: ┤ X ├──────░─┤ X ├──■─────────■──┤ X ├─░────────┼───░───┼──┤ X ├\n",
       "      ├───┤      ░ └───┘               └───┘ ░ ┌───┐  │   ░   │  └───┘\n",
       "q6_6: ┤ X ├──────░───────────────────────────░─┤ X ├──■───░───■───────\n",
       "      └───┘      ░                           ░ └───┘      ░           </pre>"
      ],
      "text/plain": [
       "      ┌───┐      ░                           ░            ░           \n",
       "q6_0: ┤ X ├──────░───────────────────────────░────────────░───────────\n",
       "      └─┬─┘┌───┐ ░           ┌───┐┌───┐      ░            ░ ┌───┐     \n",
       "q6_1: ──┼──┤ X ├─░───────────┤ X ├┤ X ├──────░────────────░─┤ X ├─────\n",
       "        │  └─┬─┘ ░           └─┬─┘└───┘      ░            ░ ├───┤     \n",
       "q6_2: ──┼────┼───░─────────────┼─────────────░────────────░─┤ X ├─────\n",
       "        │    │   ░             │             ░      ┌───┐ ░ └─┬─┘     \n",
       "q6_3: ──┼────┼───░─────────────┼─────────────░──────┤ X ├─░───┼───────\n",
       "        │    │   ░      ┌───┐  │  ┌───┐      ░      └─┬─┘ ░   │       \n",
       "q6_4: ──■────■───░──────┤ X ├──■──┤ X ├──────░────────┼───░───┼───────\n",
       "      ┌───┐      ░ ┌───┐└─┬─┘     └─┬─┘┌───┐ ░        │   ░   │  ┌───┐\n",
       "q6_5: ┤ X ├──────░─┤ X ├──■─────────■──┤ X ├─░────────┼───░───┼──┤ X ├\n",
       "      ├───┤      ░ └───┘               └───┘ ░ ┌───┐  │   ░   │  └───┘\n",
       "q6_6: ┤ X ├──────░───────────────────────────░─┤ X ├──■───░───■───────\n",
       "      └───┘      ░                           ░ └───┘      ░           "
      ]
     },
     "execution_count": 5,
     "metadata": {},
     "output_type": "execute_result"
    }
   ],
   "source": [
    "qr_ch=QuantumRegister(7)\n",
    "qc_ch=QuantumCircuit(qr_ch,name ='4copy_check')\n",
    "\n",
    "qc_ch.x([qr_ch[6],qr_ch[5]])\n",
    "qc_ch.cx(qr_ch[4],qr_ch[0])\n",
    "qc_ch.cx(qr_ch[4],qr_ch[1])\n",
    "qc_ch.barrier()\n",
    "qc_ch.x([qr_ch[5]])\n",
    "qc_ch.cx(qr_ch[5],qr_ch[4])\n",
    "qc_ch.cx(qr_ch[4],qr_ch[1])\n",
    "qc_ch.x([qr_ch[1]])\n",
    "qc_ch.cx(qr_ch[5],qr_ch[4])\n",
    "qc_ch.x([qr_ch[5]])\n",
    "\n",
    "qc_ch.barrier()\n",
    "qc_ch.x(qr_ch[6])\n",
    "qc_ch.cx(qr_ch[6],qr_ch[3])\n",
    "qc_ch.barrier()\n",
    "qc_ch.cx(qr_ch[6],qr_ch[2])\n",
    "qc_ch.x([qr_ch[1]])\n",
    "qc_ch.x([qr_ch[5]])\n",
    "\n",
    "qc_ch.draw()"
   ]
  },
  {
   "cell_type": "code",
   "execution_count": 6,
   "metadata": {},
   "outputs": [],
   "source": [
    "from sympy import *\n",
    "from sympy.physics.quantum import TensorProduct as Tp"
   ]
  },
  {
   "cell_type": "code",
   "execution_count": 7,
   "metadata": {},
   "outputs": [],
   "source": [
    "M=Matrix([\n",
    "    [0,1],\n",
    "    [1,0]\n",
    "])\n",
    "\n",
    "Id=eye(4)"
   ]
  },
  {
   "cell_type": "code",
   "execution_count": 8,
   "metadata": {},
   "outputs": [
    {
     "data": {
      "text/latex": [
       "$\\displaystyle \\left[\\begin{matrix}0 & 0 & 0 & 0 & 1 & 0 & 0 & 0\\\\0 & 0 & 0 & 0 & 0 & 1 & 0 & 0\\\\0 & 0 & 0 & 0 & 0 & 0 & 1 & 0\\\\0 & 0 & 0 & 0 & 0 & 0 & 0 & 1\\\\1 & 0 & 0 & 0 & 0 & 0 & 0 & 0\\\\0 & 1 & 0 & 0 & 0 & 0 & 0 & 0\\\\0 & 0 & 1 & 0 & 0 & 0 & 0 & 0\\\\0 & 0 & 0 & 1 & 0 & 0 & 0 & 0\\end{matrix}\\right]$"
      ],
      "text/plain": [
       "Matrix([\n",
       "[0, 0, 0, 0, 1, 0, 0, 0],\n",
       "[0, 0, 0, 0, 0, 1, 0, 0],\n",
       "[0, 0, 0, 0, 0, 0, 1, 0],\n",
       "[0, 0, 0, 0, 0, 0, 0, 1],\n",
       "[1, 0, 0, 0, 0, 0, 0, 0],\n",
       "[0, 1, 0, 0, 0, 0, 0, 0],\n",
       "[0, 0, 1, 0, 0, 0, 0, 0],\n",
       "[0, 0, 0, 1, 0, 0, 0, 0]])"
      ]
     },
     "execution_count": 8,
     "metadata": {},
     "output_type": "execute_result"
    }
   ],
   "source": [
    "Tp(M,Id)"
   ]
  },
  {
   "cell_type": "code",
   "execution_count": 9,
   "metadata": {},
   "outputs": [
    {
     "data": {
      "text/plain": [
       "0"
      ]
     },
     "execution_count": 9,
     "metadata": {},
     "output_type": "execute_result"
    }
   ],
   "source": [
    "b='110'\n",
    "d=0\n",
    "\n",
    "\n",
    "d"
   ]
  },
  {
   "cell_type": "code",
   "execution_count": 10,
   "metadata": {},
   "outputs": [],
   "source": [
    "a1, r1, f1, a2, r2, f2_ = symbols(\"a1 r1 f1 a2 r2 f2\", real=True)\n",
    "\n",
    "H = Matrix([ \n",
    "    [1/sqrt(2),1/sqrt(2)],\n",
    "    [1/sqrt(2),-1/sqrt(2)]\n",
    "])\n",
    "\n",
    "cx_01= Matrix([\n",
    "    [1,0,0,0],\n",
    "    [0,0,0,1],\n",
    "    [0,0,1,0],\n",
    "    [0,1,0,0]\n",
    "])\n",
    "\n",
    "def ry(alpha):   # generic ry gate\n",
    "    return Matrix([ \n",
    "        [cos(alpha/2),-sin(alpha/2)],\n",
    "        [sin(alpha/2),cos(alpha/2)]\n",
    "    ])\n",
    "\n",
    "def rz(alpha):   # generic rz gate\n",
    "    return Matrix([ \n",
    "        [exp(-1*I*(alpha/2)),0],\n",
    "        [0,exp(I*(alpha/2))]\n",
    "    ])\n",
    "\n",
    "Id=eye(2)\n",
    "\n",
    "M1 = Matrix(simplify(Tp(rz(2*f1),Id)*Tp(Id,H)*cx_01*Tp(ry(a1),ry(a1))*cx_01*Tp(Id,H)*Tp(rz(2*r1),Id)))\n",
    "M2 = Matrix(simplify(Tp(rz(2*f2_),Id)*Tp(Id,H)*cx_01*Tp(ry(a2),ry(a2))*cx_01*Tp(Id,H)*Tp(rz(2*r2),Id)))\n"
   ]
  },
  {
   "cell_type": "code",
   "execution_count": 11,
   "metadata": {},
   "outputs": [
    {
     "data": {
      "text/latex": [
       "$\\displaystyle \\left[\\begin{matrix}e^{i \\left(- f_{1} - r_{1}\\right)} e^{i \\left(- f_{2} - r_{2}\\right)} & 0 & 0 & 0 & 0 & 0 & 0 & 0\\\\0 & e^{- i \\left(f_{1} + r_{1}\\right)} e^{i \\left(- f_{2} - r_{2}\\right)} \\cos{\\left(a_{1} \\right)} & - e^{- i \\left(f_{1} - r_{1}\\right)} e^{i \\left(- f_{2} - r_{2}\\right)} \\sin{\\left(a_{1} \\right)} & 0 & 0 & 0 & 0 & 0\\\\0 & e^{i \\left(f_{1} - r_{1}\\right)} e^{- i \\left(f_{2} + r_{2}\\right)} \\sin{\\left(a_{1} \\right)} \\cos{\\left(a_{2} \\right)} & e^{i \\left(f_{1} + r_{1}\\right)} e^{- i \\left(f_{2} + r_{2}\\right)} \\cos{\\left(a_{1} \\right)} \\cos{\\left(a_{2} \\right)} & 0 & - e^{i \\left(- f_{1} - r_{1}\\right)} e^{- i \\left(f_{2} - r_{2}\\right)} \\sin{\\left(a_{2} \\right)} & 0 & 0 & 0\\\\0 & 0 & 0 & e^{i \\left(f_{1} + r_{1}\\right)} e^{- i \\left(f_{2} + r_{2}\\right)} \\cos{\\left(a_{2} \\right)} & 0 & - e^{- i \\left(f_{1} + r_{1}\\right)} e^{- i \\left(f_{2} - r_{2}\\right)} \\sin{\\left(a_{2} \\right)} \\cos{\\left(a_{1} \\right)} & e^{- i \\left(f_{1} - r_{1}\\right)} e^{- i \\left(f_{2} - r_{2}\\right)} \\sin{\\left(a_{1} \\right)} \\sin{\\left(a_{2} \\right)} & 0\\\\0 & e^{i \\left(f_{1} - r_{1}\\right)} e^{i \\left(f_{2} - r_{2}\\right)} \\sin{\\left(a_{1} \\right)} \\sin{\\left(a_{2} \\right)} & e^{i \\left(f_{1} + r_{1}\\right)} e^{i \\left(f_{2} - r_{2}\\right)} \\sin{\\left(a_{2} \\right)} \\cos{\\left(a_{1} \\right)} & 0 & e^{i \\left(- f_{1} - r_{1}\\right)} e^{i \\left(f_{2} + r_{2}\\right)} \\cos{\\left(a_{2} \\right)} & 0 & 0 & 0\\\\0 & 0 & 0 & e^{i \\left(f_{1} + r_{1}\\right)} e^{i \\left(f_{2} - r_{2}\\right)} \\sin{\\left(a_{2} \\right)} & 0 & e^{- i \\left(f_{1} + r_{1}\\right)} e^{i \\left(f_{2} + r_{2}\\right)} \\cos{\\left(a_{1} \\right)} \\cos{\\left(a_{2} \\right)} & - e^{- i \\left(f_{1} - r_{1}\\right)} e^{i \\left(f_{2} + r_{2}\\right)} \\sin{\\left(a_{1} \\right)} \\cos{\\left(a_{2} \\right)} & 0\\\\0 & 0 & 0 & 0 & 0 & e^{i \\left(f_{1} - r_{1}\\right)} e^{i \\left(f_{2} + r_{2}\\right)} \\sin{\\left(a_{1} \\right)} & e^{i \\left(f_{1} + r_{1}\\right)} e^{i \\left(f_{2} + r_{2}\\right)} \\cos{\\left(a_{1} \\right)} & 0\\\\0 & 0 & 0 & 0 & 0 & 0 & 0 & e^{i \\left(f_{1} + r_{1}\\right)} e^{i \\left(f_{2} + r_{2}\\right)}\\end{matrix}\\right]$"
      ],
      "text/plain": [
       "Matrix([\n",
       "[exp(I*(-f1 - r1))*exp(I*(-f2 - r2)),                                                  0,                                                  0,                                          0,                                            0,                                                    0,                                                   0,                                 0],\n",
       "[                                  0,        exp(-I*(f1 + r1))*exp(I*(-f2 - r2))*cos(a1),       -exp(-I*(f1 - r1))*exp(I*(-f2 - r2))*sin(a1),                                          0,                                            0,                                                    0,                                                   0,                                 0],\n",
       "[                                  0, exp(I*(f1 - r1))*exp(-I*(f2 + r2))*sin(a1)*cos(a2), exp(I*(f1 + r1))*exp(-I*(f2 + r2))*cos(a1)*cos(a2),                                          0, -exp(I*(-f1 - r1))*exp(-I*(f2 - r2))*sin(a2),                                                    0,                                                   0,                                 0],\n",
       "[                                  0,                                                  0,                                                  0, exp(I*(f1 + r1))*exp(-I*(f2 + r2))*cos(a2),                                            0, -exp(-I*(f1 + r1))*exp(-I*(f2 - r2))*sin(a2)*cos(a1), exp(-I*(f1 - r1))*exp(-I*(f2 - r2))*sin(a1)*sin(a2),                                 0],\n",
       "[                                  0,  exp(I*(f1 - r1))*exp(I*(f2 - r2))*sin(a1)*sin(a2),  exp(I*(f1 + r1))*exp(I*(f2 - r2))*sin(a2)*cos(a1),                                          0,   exp(I*(-f1 - r1))*exp(I*(f2 + r2))*cos(a2),                                                    0,                                                   0,                                 0],\n",
       "[                                  0,                                                  0,                                                  0,  exp(I*(f1 + r1))*exp(I*(f2 - r2))*sin(a2),                                            0,   exp(-I*(f1 + r1))*exp(I*(f2 + r2))*cos(a1)*cos(a2), -exp(-I*(f1 - r1))*exp(I*(f2 + r2))*sin(a1)*cos(a2),                                 0],\n",
       "[                                  0,                                                  0,                                                  0,                                          0,                                            0,            exp(I*(f1 - r1))*exp(I*(f2 + r2))*sin(a1),           exp(I*(f1 + r1))*exp(I*(f2 + r2))*cos(a1),                                 0],\n",
       "[                                  0,                                                  0,                                                  0,                                          0,                                            0,                                                    0,                                                   0, exp(I*(f1 + r1))*exp(I*(f2 + r2))]])"
      ]
     },
     "execution_count": 11,
     "metadata": {},
     "output_type": "execute_result"
    }
   ],
   "source": [
    "Ubest = Tp(M2, Id) * Tp(Id, M1)\n",
    "Ubest"
   ]
  },
  {
   "cell_type": "code",
   "execution_count": 12,
   "metadata": {},
   "outputs": [
    {
     "data": {
      "text/latex": [
       "$\\displaystyle \\left[\\begin{matrix}0.999999999999999999999999999999927414904 + 3.810120627860236493144205957485413172829 \\cdot 10^{-16} i & 0 & 0 & 0 & 0 & 0 & 0 & 0\\\\0 & 0.9998967286546769200628246631125422876304 + 0.005817598343443526449879241507669996966022 i & -0.001263657122345533526677657455742172799235 + 0.005817598343443346759012662518070205827431 i & 0 & 0.001366928467666840035899224393798852986705 - 0.01163519668688694908712068005088332804587 i & 0 & 0 & 0\\\\0 & 0.001366928467667680427125298712602779611633 + 0.005817598343443219695448775634219024809474 i & 0.9998967286546760807955094945439152389926 - 0.01163519668688664206331260096682448237968 i & 0 & -0.0012636571223455344109463125632284830081 + 0.005817598343443349418230625722963479248955 i & 0 & 0 & 0\\\\0 & 0 & 0 & 0.9998967286546769200927666219848331123996 + 0.005817598343443526458049609723693509885656 i & 0 & 0.001366928467667680372918447455629825816623 + 0.005817598343443219894100692906389062119204 i & -0.001263657122346374320982572042971060912025 - 0.01163519668688682179219986893579437284052 i & 0\\\\0 & -0.001263657122346374320982572042971060912025 - 0.01163519668688682179219986893579437284052 i & 0.001366928467667680372918447455629825816623 + 0.005817598343443219894100692906389062119204 i & 0 & 0.9998967286546769200927666219848331123996 + 0.005817598343443526458049609723693509885656 i & 0 & 0 & 0\\\\0 & 0 & 0 & -0.0012636571223455344109463125632284830081 + 0.005817598343443349418230625722963479248955 i & 0 & 0.9998967286546760807955094945439152389926 - 0.01163519668688664206331260096682448237968 i & 0.001366928467667680427125298712602779611633 + 0.005817598343443219695448775634219024809474 i & 0\\\\0 & 0 & 0 & 0.001366928467666840035899224393798852986705 - 0.01163519668688694908712068005088332804587 i & 0 & -0.001263657122345533526677657455742172799235 + 0.005817598343443346759012662518070205827431 i & 0.9998967286546769200628246631125422876304 + 0.005817598343443526449879241507669996966022 i & 0\\\\0 & 0 & 0 & 0 & 0 & 0 & 0 & 0.999999999999999999999999999999927414904 + 3.810120627860236493144205957485413172829 \\cdot 10^{-16} i\\end{matrix}\\right]$"
      ],
      "text/plain": [
       "Matrix([\n",
       "[0.999999999999999999999999999999927414904 + 3.810120627860236493144205957485413172829e-16*I,                                                                                             0,                                                                                              0,                                                                                            0,                                                                                            0,                                                                                              0,                                                                                             0,                                                                                           0],\n",
       "[                                                                                          0,   0.9998967286546769200628246631125422876304 + 0.005817598343443526449879241507669996966022*I, -0.001263657122345533526677657455742172799235 + 0.005817598343443346759012662518070205827431*I,                                                                                            0, 0.001366928467666840035899224393798852986705 - 0.01163519668688694908712068005088332804587*I,                                                                                              0,                                                                                             0,                                                                                           0],\n",
       "[                                                                                          0, 0.001366928467667680427125298712602779611633 + 0.005817598343443219695448775634219024809474*I,     0.9998967286546760807955094945439152389926 - 0.01163519668688664206331260096682448237968*I,                                                                                            0, -0.0012636571223455344109463125632284830081 + 0.005817598343443349418230625722963479248955*I,                                                                                              0,                                                                                             0,                                                                                           0],\n",
       "[                                                                                          0,                                                                                             0,                                                                                              0,  0.9998967286546769200927666219848331123996 + 0.005817598343443526458049609723693509885656*I,                                                                                            0,  0.001366928467667680372918447455629825816623 + 0.005817598343443219894100692906389062119204*I, -0.001263657122346374320982572042971060912025 - 0.01163519668688682179219986893579437284052*I,                                                                                           0],\n",
       "[                                                                                          0, -0.001263657122346374320982572042971060912025 - 0.01163519668688682179219986893579437284052*I,  0.001366928467667680372918447455629825816623 + 0.005817598343443219894100692906389062119204*I,                                                                                            0,  0.9998967286546769200927666219848331123996 + 0.005817598343443526458049609723693509885656*I,                                                                                              0,                                                                                             0,                                                                                           0],\n",
       "[                                                                                          0,                                                                                             0,                                                                                              0, -0.0012636571223455344109463125632284830081 + 0.005817598343443349418230625722963479248955*I,                                                                                            0,     0.9998967286546760807955094945439152389926 - 0.01163519668688664206331260096682448237968*I, 0.001366928467667680427125298712602779611633 + 0.005817598343443219695448775634219024809474*I,                                                                                           0],\n",
       "[                                                                                          0,                                                                                             0,                                                                                              0, 0.001366928467666840035899224393798852986705 - 0.01163519668688694908712068005088332804587*I,                                                                                            0, -0.001263657122345533526677657455742172799235 + 0.005817598343443346759012662518070205827431*I,   0.9998967286546769200628246631125422876304 + 0.005817598343443526449879241507669996966022*I,                                                                                           0],\n",
       "[                                                                                          0,                                                                                             0,                                                                                              0,                                                                                            0,                                                                                            0,                                                                                              0,                                                                                             0, 0.999999999999999999999999999999927414904 + 3.810120627860236493144205957485413172829e-16*I]])"
      ]
     },
     "execution_count": 12,
     "metadata": {},
     "output_type": "execute_result"
    }
   ],
   "source": [
    "def arg_and_abs(expression):\n",
    "    absu = 1\n",
    "    argu = 0\n",
    "    for b in expression.args:\n",
    "        if b == -1:\n",
    "            argu += -pi\n",
    "        else:\n",
    "            if im(b)!=0:\n",
    "                argu += -I*b.args[0]\n",
    "            else:\n",
    "                absu *= b\n",
    "    return argu, absu\n",
    "\n",
    "U=f2.Trotter_N_approx(steps=42, tempo=np.pi, precision=40)\n",
    "U"
   ]
  },
  {
   "cell_type": "code",
   "execution_count": 13,
   "metadata": {},
   "outputs": [
    {
     "name": "stdout",
     "output_type": "stream",
     "text": [
      "1.340018109492848\n",
      "1.340018109492848110652542045863844844739\n"
     ]
    }
   ],
   "source": [
    "print(cmath.phase(U[5*8+6]))\n",
    "print(atan2(im(U[5*8+6]),re(U[5*8+6])))"
   ]
  },
  {
   "cell_type": "code",
   "execution_count": 14,
   "metadata": {},
   "outputs": [
    {
     "data": {
      "text/plain": [
       "[-f1 - f2 + r1 + r2 - 1.462613921556093198247558081892884404988 + pi,\n",
       " -f1 + f2 + r1 + r2 - pi - 1.340018109492848110652542045863844844739,\n",
       " f1 + f2 + r1 + r2 - 0.005818133546557991527789873782271767777596]"
      ]
     },
     "execution_count": 14,
     "metadata": {},
     "output_type": "execute_result"
    }
   ],
   "source": [
    "\n",
    "lin_equations = []\n",
    "non_lin_eq = []\n",
    "for i in [3,5,6]:\n",
    "    ar, ab = arg_and_abs(Ubest[i*8+6])\n",
    "    non_lin_eq.append(ab-Abs(U[i*8+6]))\n",
    "    lin_equations.append(ar-atan2(im(U[i*8+6]),re(U[i*8+6])))\n",
    "\n",
    "lin_equations"
   ]
  },
  {
   "cell_type": "code",
   "execution_count": 15,
   "metadata": {},
   "outputs": [
    {
     "data": {
      "text/latex": [
       "$\\displaystyle 1.340018109492848110652542045863844844739$"
      ],
      "text/plain": [
       "1.340018109492848110652542045863844844739"
      ]
     },
     "execution_count": 15,
     "metadata": {},
     "output_type": "execute_result"
    }
   ],
   "source": [
    "atan2(im(U[5*8+6]),re(U[5*8+6]))"
   ]
  },
  {
   "cell_type": "code",
   "execution_count": 16,
   "metadata": {},
   "outputs": [
    {
     "data": {
      "text/latex": [
       "$\\displaystyle - f_{1} - f_{2} + r_{1} + r_{2}$"
      ],
      "text/plain": [
       "-f1 - f2 + r1 + r2"
      ]
     },
     "execution_count": 16,
     "metadata": {},
     "output_type": "execute_result"
    }
   ],
   "source": [
    "a,b = arg_and_abs(Ubest[3*8+6])\n",
    "a"
   ]
  },
  {
   "cell_type": "code",
   "execution_count": 17,
   "metadata": {},
   "outputs": [
    {
     "data": {
      "text/latex": [
       "$\\displaystyle \\sin{\\left(a_{1} \\right)} \\sin{\\left(a_{2} \\right)}$"
      ],
      "text/plain": [
       "sin(a1)*sin(a2)"
      ]
     },
     "execution_count": 17,
     "metadata": {},
     "output_type": "execute_result"
    }
   ],
   "source": [
    "b"
   ]
  },
  {
   "cell_type": "code",
   "execution_count": 18,
   "metadata": {},
   "outputs": [
    {
     "name": "stdout",
     "output_type": "stream",
     "text": [
      "-2.2378963147680415\n",
      "3.080294747558171\n",
      "-0.836580299243571\n",
      "0.0\n"
     ]
    }
   ],
   "source": [
    "sol = linsolve(lin_equations,[f1,f2_,r1,r2])\n",
    "#non_lin_sol = nonlinsolve(non_lin_eq,[a1,a2])\n",
    "#sol = sol.subs(r2,0)\n",
    "#print(sol)\n",
    "#print(non_lin_sol)\n",
    "for i in sol.args[0]:\n",
    "    i=i.subs(r2, 0)\n",
    "    print(float(i))"
   ]
  },
  {
   "cell_type": "code",
   "execution_count": 19,
   "metadata": {},
   "outputs": [
    {
     "data": {
      "text/plain": [
       "-2.2378963147680415"
      ]
     },
     "execution_count": 19,
     "metadata": {},
     "output_type": "execute_result"
    }
   ],
   "source": [
    "float(sol.args[0][0])"
   ]
  },
  {
   "cell_type": "code",
   "execution_count": 20,
   "metadata": {},
   "outputs": [
    {
     "name": "stdout",
     "output_type": "stream",
     "text": [
      "-2.2378963147680415 3.0802947475581703 -0.836580299243571 0 0.013141442707642104 1.0986935818563883\n"
     ]
    }
   ],
   "source": [
    "column = 6\n",
    "\n",
    "A0 = U[3*8+column]\n",
    "A1 = U[5*8+column]\n",
    "A2 = U[6*8+column]\n",
    "\n",
    "r10=float(atan2(im(A0),re(A0))+atan2(im(A2),re(A2)))/2\n",
    "r20=0\n",
    "f10=float(atan2(im(A2),re(A2))-atan2(im(A1),re(A1))-np.pi)/2\n",
    "f2_0=float((atan2(im(A2),re(A2))-atan2(im(A0),re(A0)))/2-f10)\n",
    "a10=float(acos(abs(A2)))\n",
    "a20=float(acos(abs(A1)/sin(a10)))\n",
    "\n",
    "print(f10,f2_0,r10,r20,a10,a20)"
   ]
  },
  {
   "cell_type": "code",
   "execution_count": 21,
   "metadata": {},
   "outputs": [
    {
     "name": "stdout",
     "output_type": "stream",
     "text": [
      "-2.2378963147680415 3.0802947475581703 -0.836580299243571 0 0.013141442707642104 1.0986935818563883\n"
     ]
    }
   ],
   "source": [
    "r10=float(atan2(im(U[3*8+6]),re(U[3*8+6]))+atan2(im(U[6*8+6]),re(U[6*8+6])))/2\n",
    "r20=0\n",
    "f10=float(atan2(im(U[6*8+6]),re(U[6*8+6]))-atan2(im(U[5*8+6]),re(U[5*8+6]))-np.pi)/2\n",
    "f2_0=float((atan2(im(U[6*8+6]),re(U[6*8+6]))-atan2(im(U[3*8+6]),re(U[3*8+6])))/2-f10)\n",
    "a10=float(acos(abs(U[6*8+6])))\n",
    "a20=float(acos(abs(U[5*8+6])/sin(a10)))\n",
    "\n",
    "print(f10,f2_0,r10,r20,a10,a20)"
   ]
  },
  {
   "cell_type": "code",
   "execution_count": 22,
   "metadata": {},
   "outputs": [
    {
     "data": {
      "text/plain": [
       "[-f1 - f2 + r1 + r2 - 1.462613921556093198247558081892884404988 + pi,\n",
       " -f1 + f2 + r1 + r2 - pi - 1.340018109492848110652542045863844844739,\n",
       " f1 + f2 + r1 + r2 - 0.005818133546557991527789873782271767777596]"
      ]
     },
     "execution_count": 22,
     "metadata": {},
     "output_type": "execute_result"
    }
   ],
   "source": [
    "lin_equations"
   ]
  },
  {
   "cell_type": "code",
   "execution_count": 23,
   "metadata": {},
   "outputs": [
    {
     "name": "stdout",
     "output_type": "stream",
     "text": [
      "-2.2378963147680415\n",
      "3.080294747558171\n",
      "-0.836580299243571\n",
      "0.0\n"
     ]
    }
   ],
   "source": [
    "a1, r1, f1, a2, r2, f2_ = symbols(\"a1 r1 f1 a2 r2 f2\", real=True)\n",
    "\n",
    "eqs = [-f1+r1-f2_+r2-atan2(im(U[3*8+6]),re(U[3*8+6])), \n",
    "        -pi-f1+r1+f2_+r2-atan2(im(U[5*8+6]),re(U[5*8+6])),\n",
    "        f1+f2_+r1+r2-atan2(im(U[6*8+6]),re(U[6*8+6]))\n",
    "]\n",
    "\n",
    "sol = linsolve(eqs,[f1,f2_,r1,r2])\n",
    "\n",
    "for i in sol.args[0]:\n",
    "        \n",
    "        i=i.subs(r2, 0)\n",
    "        #print(i)\n",
    "        print( float(i))"
   ]
  },
  {
   "cell_type": "code",
   "execution_count": 24,
   "metadata": {},
   "outputs": [
    {
     "data": {
      "text/plain": [
       "[-f1 - f2 + r1 + r2 - 1.462613921556093198247558081892884404988 + pi,\n",
       " -f1 + f2 + r1 + r2 - pi - 1.340018109492848110652542045863844844739,\n",
       " f1 + f2 + r1 + r2 - 0.005818133546557991527789873782271767777596]"
      ]
     },
     "execution_count": 24,
     "metadata": {},
     "output_type": "execute_result"
    }
   ],
   "source": [
    "eqs"
   ]
  },
  {
   "cell_type": "code",
   "execution_count": 25,
   "metadata": {},
   "outputs": [
    {
     "data": {
      "text/plain": [
       "[-f1 - f2 + r1 + r2 - 1.462613921556093198247558081892884404988 + pi,\n",
       " -f1 + f2 + r1 + r2 - pi - 1.340018109492848110652542045863844844739,\n",
       " f1 + f2 + r1 + r2 - 0.005818133546557991527789873782271767777596]"
      ]
     },
     "execution_count": 25,
     "metadata": {},
     "output_type": "execute_result"
    }
   ],
   "source": [
    "lin_equations"
   ]
  },
  {
   "cell_type": "markdown",
   "metadata": {},
   "source": [
    "# Ricapitolando: Parte lineare"
   ]
  },
  {
   "cell_type": "code",
   "execution_count": 26,
   "metadata": {},
   "outputs": [],
   "source": [
    "a1, r1, f1, a2, r2, f2_ = symbols(\"a1 r1 f1 a2 r2 f2\", real=True)\n",
    "\n",
    "H = Matrix([ \n",
    "    [1/sqrt(2),1/sqrt(2)],\n",
    "    [1/sqrt(2),-1/sqrt(2)]\n",
    "])\n",
    "\n",
    "cx_01= Matrix([\n",
    "    [1,0,0,0],\n",
    "    [0,0,0,1],\n",
    "    [0,0,1,0],\n",
    "    [0,1,0,0]\n",
    "])\n",
    "\n",
    "def ry(alpha):   # generic ry gate\n",
    "    return Matrix([ \n",
    "        [cos(alpha/2),-sin(alpha/2)],\n",
    "        [sin(alpha/2),cos(alpha/2)]\n",
    "    ])\n",
    "\n",
    "def rz(alpha):   # generic rz gate\n",
    "    return Matrix([ \n",
    "        [exp(-1*I*(alpha/2)),0],\n",
    "        [0,exp(I*(alpha/2))]\n",
    "    ])\n",
    "\n",
    "Id=eye(2)\n",
    "\n",
    "M1 = Matrix(simplify(Tp(rz(2*f1),Id)*Tp(Id,H)*cx_01*Tp(ry(a1),ry(a1))*cx_01*Tp(Id,H)*Tp(rz(2*r1),Id)))\n",
    "M2 = Matrix(simplify(Tp(rz(2*f2_),Id)*Tp(Id,H)*cx_01*Tp(ry(a2),ry(a2))*cx_01*Tp(Id,H)*Tp(rz(2*r2),Id)))\n",
    "\n",
    "Ubest = Tp(M2, Id) * Tp(Id, M1)"
   ]
  },
  {
   "cell_type": "code",
   "execution_count": 27,
   "metadata": {},
   "outputs": [
    {
     "name": "stdout",
     "output_type": "stream",
     "text": [
      "-2.2378963147680415\n",
      "3.080294747558171\n",
      "-0.836580299243571\n",
      "0.0\n"
     ]
    }
   ],
   "source": [
    "lin_equations = []\n",
    "non_lin_eqs = []\n",
    "for i in [3,5,6]:\n",
    "    ar, ab = arg_and_abs(Ubest[i*8+6])\n",
    "    non_lin_eqs.append(ab-Abs(U[i*8+6]))\n",
    "    lin_equations.append(ar-atan2(im(U[i*8+6]),re(U[i*8+6])))\n",
    "\n",
    "sol = linsolve(eqs,[f1,f2_,r1,r2])\n",
    "sol = sol.subs(r2, 0)\n",
    "\n",
    "for i in sol.args[0]:\n",
    "    print( float(i))"
   ]
  },
  {
   "cell_type": "markdown",
   "metadata": {},
   "source": [
    "# Parte non lineare"
   ]
  },
  {
   "cell_type": "code",
   "execution_count": 28,
   "metadata": {},
   "outputs": [
    {
     "data": {
      "text/plain": [
       "[sin(a1)*sin(a2) - 0.01170361616191332524817584620524604471992,\n",
       " sin(a1)*cos(a2) - 0.005976030783166499623154854642670801151354,\n",
       " cos(a1) - 0.9999136524844584008104445716311719027916]"
      ]
     },
     "execution_count": 28,
     "metadata": {},
     "output_type": "execute_result"
    }
   ],
   "source": [
    "non_lin_eqs"
   ]
  },
  {
   "cell_type": "code",
   "execution_count": 29,
   "metadata": {},
   "outputs": [],
   "source": [
    "eqs=[non_lin_eqs[0],non_lin_eqs[2]]"
   ]
  },
  {
   "cell_type": "code",
   "execution_count": 30,
   "metadata": {},
   "outputs": [],
   "source": [
    "non_lin_sol = solve(eqs,[a1,a2])"
   ]
  },
  {
   "cell_type": "code",
   "execution_count": 31,
   "metadata": {},
   "outputs": [
    {
     "data": {
      "text/plain": [
       "[(0.0131414427076421, 1.09869358183490),\n",
       " (0.0131414427076421, 2.04289907175489),\n",
       " (6.27004386447194, -1.09869358183490),\n",
       " (6.27004386447194, 4.24028623542469)]"
      ]
     },
     "execution_count": 31,
     "metadata": {},
     "output_type": "execute_result"
    }
   ],
   "source": [
    "non_lin_sol"
   ]
  },
  {
   "cell_type": "code",
   "execution_count": 32,
   "metadata": {},
   "outputs": [
    {
     "data": {
      "text/latex": [
       "$\\displaystyle 1.0986935818349$"
      ],
      "text/plain": [
       "1.09869358183490"
      ]
     },
     "execution_count": 32,
     "metadata": {},
     "output_type": "execute_result"
    }
   ],
   "source": [
    "non_lin_sol[0][1]"
   ]
  },
  {
   "cell_type": "code",
   "execution_count": 33,
   "metadata": {},
   "outputs": [
    {
     "data": {
      "text/plain": [
       "[(0.0131414427076421, 1.09869358183490),\n",
       " (0.0131414427076421, 2.04289907175489),\n",
       " (6.27004386447194, -1.09869358183490),\n",
       " (6.27004386447194, 4.24028623542469)]"
      ]
     },
     "execution_count": 33,
     "metadata": {},
     "output_type": "execute_result"
    }
   ],
   "source": [
    "non_lin_sol"
   ]
  },
  {
   "cell_type": "code",
   "execution_count": 34,
   "metadata": {},
   "outputs": [],
   "source": [
    "def BinaryToDecimal(bin):\n",
    "    d=0\n",
    "    for i in range(len(bin)):\n",
    "        if bin[-1-i]=='1':\n",
    "            d+=2**i\n",
    "    return d\n",
    "\n",
    "def Magnetization(bin):\n",
    "    p=0\n",
    "    for i in range(len(bin)):\n",
    "        if bin[i]=='1':\n",
    "            p+=1\n",
    "    return p\n"
   ]
  },
  {
   "cell_type": "code",
   "execution_count": 35,
   "metadata": {},
   "outputs": [],
   "source": [
    "def solve_equation(initial_state, U):\n",
    "\n",
    "    a1, r1, f1, a2, r2, f2_ = symbols(\"a1 r1 f1 a2 r2 f2\", real=True)\n",
    "\n",
    "    H = Matrix([ \n",
    "        [1/sqrt(2),1/sqrt(2)],\n",
    "        [1/sqrt(2),-1/sqrt(2)]\n",
    "    ])\n",
    "\n",
    "    cx_01= Matrix([\n",
    "        [1,0,0,0],\n",
    "        [0,0,0,1],\n",
    "        [0,0,1,0],\n",
    "        [0,1,0,0]\n",
    "    ])\n",
    "\n",
    "    def ry(alpha):   # generic ry gate\n",
    "        return Matrix([ \n",
    "            [cos(alpha/2),-sin(alpha/2)],\n",
    "            [sin(alpha/2),cos(alpha/2)]\n",
    "        ])\n",
    "\n",
    "    def rz(alpha):   # generic rz gate\n",
    "        return Matrix([ \n",
    "            [exp(-1*I*(alpha/2)),0],\n",
    "            [0,exp(I*(alpha/2))]\n",
    "        ])\n",
    "\n",
    "    Id=eye(2)\n",
    "\n",
    "    M1 = Matrix(simplify(Tp(rz(2*f1),Id)*Tp(Id,H)*cx_01*Tp(ry(a1),ry(a1))*cx_01*Tp(Id,H)*Tp(rz(2*r1),Id)))\n",
    "    M2 = Matrix(simplify(Tp(rz(2*f2_),Id)*Tp(Id,H)*cx_01*Tp(ry(a2),ry(a2))*cx_01*Tp(Id,H)*Tp(rz(2*r2),Id)))\n",
    "\n",
    "    Ubest = Tp(M2, Id) * Tp(Id, M1)\n",
    "\n",
    "    lin_equations = []\n",
    "    non_lin_eqs = []\n",
    "\n",
    "    column = BinaryToDecimal(initial_state)\n",
    "    magnetization = Magnetization(initial_state)\n",
    "\n",
    "    if magnetization == 2: rows = [3,5,6]\n",
    "    if magnetization == 1: rows = [1,2,4]\n",
    "\n",
    "    for i in rows:\n",
    "        ar, ab = arg_and_abs(Ubest[i*8+column])\n",
    "        non_lin_eqs.append(ab-Abs(U[i*8+column]))\n",
    "        lin_equations.append(ar-atan2(im(U[i*8+column]),re(U[i*8+column])))\n",
    "\n",
    "    linear_solution = linsolve(lin_equations,[f1,f2_,r1,r2])\n",
    "    linear_solution = linear_solution.subs(r2, 0)\n",
    "\n",
    "    eqs=[non_lin_eqs[0],non_lin_eqs[2]]\n",
    "    non_lin_solution = solve(eqs,[a1,a2])\n",
    "\n",
    "    parameters={}\n",
    "    j=0\n",
    "    for i in linear_solution.args[0]:\n",
    "        parameters[\"phase_%d_%d\"%(j//2,j%2)]=float(i)\n",
    "        j+=1\n",
    "\n",
    "    j=0\n",
    "    for i in non_lin_solution[0]:\n",
    "        parameters[\"abs_%d\"%j]=i\n",
    "        j+=1\n",
    "        \n",
    "    return parameters"
   ]
  },
  {
   "cell_type": "code",
   "execution_count": 36,
   "metadata": {},
   "outputs": [
    {
     "data": {
      "text/plain": [
       "{'phase_0_0': 0.8981612384524816,\n",
       " 'phase_0_1': -2.246623318153446,\n",
       " 'phase_1_0': -3.133148683381677,\n",
       " 'phase_1_1': 0.0,\n",
       " 'abs_0': 0.00595329308124295,\n",
       " 'abs_1': 0.00597617225780919}"
      ]
     },
     "execution_count": 36,
     "metadata": {},
     "output_type": "execute_result"
    }
   ],
   "source": [
    "U=f2.Trotter_N_approx(steps=42, tempo=np.pi, precision=40)\n",
    "\n",
    "sol = solve_equation(initial_state=\"101\", U=U)\n",
    "sol"
   ]
  },
  {
   "cell_type": "code",
   "execution_count": 37,
   "metadata": {},
   "outputs": [
    {
     "ename": "NameError",
     "evalue": "name 'get_gates_parameters' is not defined",
     "output_type": "error",
     "traceback": [
      "\u001b[0;31m---------------------------------------------------------------------------\u001b[0m",
      "\u001b[0;31mNameError\u001b[0m                                 Traceback (most recent call last)",
      "\u001b[1;32m/Users/valerio/Documents/project_IBM_01/IBM_git/version_08/prove.ipynb Cell 39'\u001b[0m in \u001b[0;36m<cell line: 1>\u001b[0;34m()\u001b[0m\n\u001b[0;32m----> <a href='vscode-notebook-cell:/Users/valerio/Documents/project_IBM_01/IBM_git/version_08/prove.ipynb#ch0000038?line=0'>1</a>\u001b[0m get_gates_parameters(initial_state\u001b[39m=\u001b[39m\u001b[39m\"\u001b[39m\u001b[39m101\u001b[39m\u001b[39m\"\u001b[39m, U\u001b[39m=\u001b[39mU)\n",
      "\u001b[0;31mNameError\u001b[0m: name 'get_gates_parameters' is not defined"
     ]
    }
   ],
   "source": [
    "get_gates_parameters(initial_state=\"101\", U=U)"
   ]
  },
  {
   "cell_type": "code",
   "execution_count": null,
   "metadata": {},
   "outputs": [],
   "source": [
    "def get_gates_parameters(initial_state, U):\n",
    "\n",
    "    magnetization = Magnetization(initial_state)\n",
    "    column = BinaryToDecimal(initial_state)\n",
    "\n",
    "    if magnetization == 2:\n",
    "        A0 = U[3*8+column]\n",
    "        A1 = U[5*8+column]\n",
    "        A2 = U[6*8+column]\n",
    "\n",
    "        r1=float(atan2(im(A0),re(A0))+atan2(im(A2),re(A2)))/2\n",
    "        r2=0\n",
    "        f1=float(atan2(im(A2),re(A2))-atan2(im(A1),re(A1))-np.pi)/2\n",
    "        f2=float((atan2(im(A2),re(A2))-atan2(im(A0),re(A0)))/2-f1)\n",
    "        a1=float(acos(abs(A2)))\n",
    "        a2=float(acos(abs(A1)/sin(a1)))\n",
    "\n",
    "    else: \n",
    "        if magnetization == 1:\n",
    "            A0 = U[4*8+column]\n",
    "            A1 = U[2*8+column]\n",
    "            A2 = U[1*8+column]\n",
    "\n",
    "            r1=float(-atan2(im(A0),re(A0))-atan2(im(A2),re(A2)))/2\n",
    "            r2=0\n",
    "            f1=float(atan2(im(A1),re(A1))-atan2(im(A2),re(A2)))/2\n",
    "            f2=float((atan2(im(A0),re(A0))-atan2(im(A1),re(A1)))/2-f1)\n",
    "            a1=float(acos(abs(A2)))\n",
    "            a2=float(acos(abs(A1)/sin(a1)))\n",
    "\n",
    "    return f1, f2, r1, r2, a1, a2"
   ]
  },
  {
   "cell_type": "code",
   "execution_count": 38,
   "metadata": {},
   "outputs": [
    {
     "ename": "NameError",
     "evalue": "name 'backend_sim_jakarta' is not defined",
     "output_type": "error",
     "traceback": [
      "\u001b[0;31m---------------------------------------------------------------------------\u001b[0m",
      "\u001b[0;31mNameError\u001b[0m                                 Traceback (most recent call last)",
      "\u001b[1;32m/Users/valerio/Documents/project_IBM_01/IBM_git/version_08/prove.ipynb Cell 41'\u001b[0m in \u001b[0;36m<cell line: 5>\u001b[0;34m()\u001b[0m\n\u001b[1;32m      <a href='vscode-notebook-cell:/Users/valerio/Documents/project_IBM_01/IBM_git/version_08/prove.ipynb#ch0000040?line=2'>3</a>\u001b[0m precision\u001b[39m=\u001b[39m\u001b[39m40\u001b[39m\n\u001b[1;32m      <a href='vscode-notebook-cell:/Users/valerio/Documents/project_IBM_01/IBM_git/version_08/prove.ipynb#ch0000040?line=3'>4</a>\u001b[0m steps\u001b[39m=\u001b[39m\u001b[39m99\u001b[39m\n\u001b[0;32m----> <a href='vscode-notebook-cell:/Users/valerio/Documents/project_IBM_01/IBM_git/version_08/prove.ipynb#ch0000040?line=4'>5</a>\u001b[0m backend_aus\u001b[39m=\u001b[39mbackend_sim_jakarta\n\u001b[1;32m      <a href='vscode-notebook-cell:/Users/valerio/Documents/project_IBM_01/IBM_git/version_08/prove.ipynb#ch0000040?line=5'>6</a>\u001b[0m check\u001b[39m=\u001b[39m[\u001b[39m\"\u001b[39m\u001b[39m4copy_check\u001b[39m\u001b[39m\"\u001b[39m, [\u001b[39m0\u001b[39m,\u001b[39m2\u001b[39m,\u001b[39m4\u001b[39m,\u001b[39m6\u001b[39m]]\n\u001b[1;32m      <a href='vscode-notebook-cell:/Users/valerio/Documents/project_IBM_01/IBM_git/version_08/prove.ipynb#ch0000040?line=6'>7</a>\u001b[0m evo_type\u001b[39m=\u001b[39m\u001b[39m\"\u001b[39m\u001b[39mcolumn_evolution\u001b[39m\u001b[39m\"\u001b[39m \u001b[39m# \"column_evolution\" or \"complete_evolution\" or \"trotter_steps\"\u001b[39;00m\n",
      "\u001b[0;31mNameError\u001b[0m: name 'backend_sim_jakarta' is not defined"
     ]
    }
   ],
   "source": [
    "shots=8000\n",
    "reps=1  # al massimo 10\n",
    "precision=40\n",
    "steps=99\n",
    "backend_aus=backend_sim_jakarta\n",
    "check=[\"4copy_check\", [0,2,4,6]]\n",
    "evo_type=\"column_evolution\" # \"column_evolution\" or \"complete_evolution\" or \"trotter_steps\"\n",
    "measure_mitigation=\"yes\" #\"yes\" or \"no\""
   ]
  },
  {
   "cell_type": "code",
   "execution_count": null,
   "metadata": {},
   "outputs": [],
   "source": [
    "qcs_aus, qcs_na = f2.evolution_tomo(type=evo_type, N_steps=steps, tempo=time, precision=precision, initial_state='110', check=check)\n",
    "            "
   ]
  },
  {
   "cell_type": "code",
   "execution_count": null,
   "metadata": {},
   "outputs": [],
   "source": []
  }
 ],
 "metadata": {
  "interpreter": {
   "hash": "aee8b7b246df8f9039afb4144a1f6fd8d2ca17a180786b69acc140d282b71a49"
  },
  "kernelspec": {
   "display_name": "Python 3.10.2 64-bit",
   "language": "python",
   "name": "python3"
  },
  "language_info": {
   "codemirror_mode": {
    "name": "ipython",
    "version": 3
   },
   "file_extension": ".py",
   "mimetype": "text/x-python",
   "name": "python",
   "nbconvert_exporter": "python",
   "pygments_lexer": "ipython3",
   "version": "3.10.2"
  },
  "orig_nbformat": 4
 },
 "nbformat": 4,
 "nbformat_minor": 2
}
