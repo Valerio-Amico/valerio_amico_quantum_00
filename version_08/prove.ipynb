{
 "cells": [
  {
   "cell_type": "code",
   "execution_count": 12,
   "metadata": {},
   "outputs": [],
   "source": [
    "from qiskit import *\n",
    "import funzioni02 as f2\n",
    "import numpy as np\n",
    "from sympy import *\n",
    "from sympy.physics.quantum import TensorProduct as Tp"
   ]
  },
  {
   "cell_type": "code",
   "execution_count": 14,
   "metadata": {},
   "outputs": [
    {
     "data": {
      "text/html": [
       "<pre style=\"word-wrap: normal;white-space: pre;background: #fff0;line-height: 1.1;font-family: &quot;Courier New&quot;,Courier,monospace\">       ┌───┐\n",
       "q19_0: ┤ H ├\n",
       "       └───┘\n",
       "q19_1: ─────\n",
       "            </pre>"
      ],
      "text/plain": [
       "       ┌───┐\n",
       "q19_0: ┤ H ├\n",
       "       └───┘\n",
       "q19_1: ─────\n",
       "            "
      ]
     },
     "execution_count": 14,
     "metadata": {},
     "output_type": "execute_result"
    }
   ],
   "source": [
    "qr=QuantumRegister(2)\n",
    "qc=QuantumCircuit(qr)\n",
    "\n",
    "qc.h(qr[0])\n",
    "\n",
    "qc.draw()"
   ]
  },
  {
   "cell_type": "code",
   "execution_count": 15,
   "metadata": {},
   "outputs": [
    {
     "name": "stderr",
     "output_type": "stream",
     "text": [
      "/Library/Frameworks/Python.framework/Versions/3.10/lib/python3.10/site-packages/numpy/linalg/linalg.py:2146: RuntimeWarning: divide by zero encountered in det\n",
      "  r = _umath_linalg.det(a, signature=signature)\n",
      "/Library/Frameworks/Python.framework/Versions/3.10/lib/python3.10/site-packages/numpy/linalg/linalg.py:2146: RuntimeWarning: invalid value encountered in det\n",
      "  r = _umath_linalg.det(a, signature=signature)\n"
     ]
    },
    {
     "data": {
      "text/latex": [
       "$\\displaystyle \\left[\\begin{matrix}0.7071067812 & 0.7071067812 & 0 & 0\\\\0.7071067812 & -0.7071067812 & 0 & 0\\\\0 & 0 & 0.7071067812 & 0.7071067812\\\\0 & 0 & 0.7071067812 & -0.7071067812\\end{matrix}\\right]$"
      ],
      "text/plain": [
       "Matrix([\n",
       "[0.7071067812,  0.7071067812,            0,             0],\n",
       "[0.7071067812, -0.7071067812,            0,             0],\n",
       "[           0,             0, 0.7071067812,  0.7071067812],\n",
       "[           0,             0, 0.7071067812, -0.7071067812]])"
      ]
     },
     "execution_count": 15,
     "metadata": {},
     "output_type": "execute_result"
    }
   ],
   "source": [
    "f2.matrix_from_cirquit(qc)"
   ]
  },
  {
   "cell_type": "code",
   "execution_count": 16,
   "metadata": {},
   "outputs": [
    {
     "data": {
      "text/latex": [
       "$\\displaystyle \\left[\\begin{matrix}\\frac{\\sqrt{2}}{2} & \\frac{\\sqrt{2}}{2} & 0 & 0\\\\\\frac{\\sqrt{2}}{2} & - \\frac{\\sqrt{2}}{2} & 0 & 0\\\\0 & 0 & \\frac{\\sqrt{2}}{2} & \\frac{\\sqrt{2}}{2}\\\\0 & 0 & \\frac{\\sqrt{2}}{2} & - \\frac{\\sqrt{2}}{2}\\end{matrix}\\right]$"
      ],
      "text/plain": [
       "Matrix([\n",
       "[sqrt(2)/2,  sqrt(2)/2,         0,          0],\n",
       "[sqrt(2)/2, -sqrt(2)/2,         0,          0],\n",
       "[        0,          0, sqrt(2)/2,  sqrt(2)/2],\n",
       "[        0,          0, sqrt(2)/2, -sqrt(2)/2]])"
      ]
     },
     "execution_count": 16,
     "metadata": {},
     "output_type": "execute_result"
    }
   ],
   "source": [
    "H = Matrix([ \n",
    "    [1/sqrt(2),1/sqrt(2)],\n",
    "    [1/sqrt(2),-1/sqrt(2)]\n",
    "])\n",
    "\n",
    "Tp(eye(2),H)"
   ]
  },
  {
   "cell_type": "code",
   "execution_count": 42,
   "metadata": {},
   "outputs": [
    {
     "data": {
      "text/html": [
       "<pre style=\"word-wrap: normal;white-space: pre;background: #fff0;line-height: 1.1;font-family: &quot;Courier New&quot;,Courier,monospace\">       ┌───┐      ░                           ░            ░           \n",
       "q48_0: ┤ X ├──────░───────────────────────────░────────────░───────────\n",
       "       └─┬─┘┌───┐ ░           ┌───┐┌───┐      ░            ░ ┌───┐     \n",
       "q48_1: ──┼──┤ X ├─░───────────┤ X ├┤ X ├──────░────────────░─┤ X ├─────\n",
       "         │  └─┬─┘ ░           └─┬─┘└───┘      ░            ░ ├───┤     \n",
       "q48_2: ──┼────┼───░─────────────┼─────────────░────────────░─┤ X ├─────\n",
       "         │    │   ░             │             ░      ┌───┐ ░ └─┬─┘     \n",
       "q48_3: ──┼────┼───░─────────────┼─────────────░──────┤ X ├─░───┼───────\n",
       "         │    │   ░      ┌───┐  │  ┌───┐      ░      └─┬─┘ ░   │       \n",
       "q48_4: ──■────■───░──────┤ X ├──■──┤ X ├──────░────────┼───░───┼───────\n",
       "       ┌───┐      ░ ┌───┐└─┬─┘     └─┬─┘┌───┐ ░        │   ░   │  ┌───┐\n",
       "q48_5: ┤ X ├──────░─┤ X ├──■─────────■──┤ X ├─░────────┼───░───┼──┤ X ├\n",
       "       ├───┤      ░ └───┘               └───┘ ░ ┌───┐  │   ░   │  └───┘\n",
       "q48_6: ┤ X ├──────░───────────────────────────░─┤ X ├──■───░───■───────\n",
       "       └───┘      ░                           ░ └───┘      ░           </pre>"
      ],
      "text/plain": [
       "       ┌───┐      ░                           ░            ░           \n",
       "q48_0: ┤ X ├──────░───────────────────────────░────────────░───────────\n",
       "       └─┬─┘┌───┐ ░           ┌───┐┌───┐      ░            ░ ┌───┐     \n",
       "q48_1: ──┼──┤ X ├─░───────────┤ X ├┤ X ├──────░────────────░─┤ X ├─────\n",
       "         │  └─┬─┘ ░           └─┬─┘└───┘      ░            ░ ├───┤     \n",
       "q48_2: ──┼────┼───░─────────────┼─────────────░────────────░─┤ X ├─────\n",
       "         │    │   ░             │             ░      ┌───┐ ░ └─┬─┘     \n",
       "q48_3: ──┼────┼───░─────────────┼─────────────░──────┤ X ├─░───┼───────\n",
       "         │    │   ░      ┌───┐  │  ┌───┐      ░      └─┬─┘ ░   │       \n",
       "q48_4: ──■────■───░──────┤ X ├──■──┤ X ├──────░────────┼───░───┼───────\n",
       "       ┌───┐      ░ ┌───┐└─┬─┘     └─┬─┘┌───┐ ░        │   ░   │  ┌───┐\n",
       "q48_5: ┤ X ├──────░─┤ X ├──■─────────■──┤ X ├─░────────┼───░───┼──┤ X ├\n",
       "       ├───┤      ░ └───┘               └───┘ ░ ┌───┐  │   ░   │  └───┘\n",
       "q48_6: ┤ X ├──────░───────────────────────────░─┤ X ├──■───░───■───────\n",
       "       └───┘      ░                           ░ └───┘      ░           "
      ]
     },
     "execution_count": 42,
     "metadata": {},
     "output_type": "execute_result"
    }
   ],
   "source": [
    "qr_ch=QuantumRegister(7)\n",
    "qc_ch=QuantumCircuit(qr_ch,name ='4copy_check')\n",
    "\n",
    "qc_ch.x([qr_ch[6],qr_ch[5]])\n",
    "qc_ch.cx(qr_ch[4],qr_ch[0])\n",
    "qc_ch.cx(qr_ch[4],qr_ch[1])\n",
    "qc_ch.barrier()\n",
    "qc_ch.x([qr_ch[5]])\n",
    "qc_ch.cx(qr_ch[5],qr_ch[4])\n",
    "qc_ch.cx(qr_ch[4],qr_ch[1])\n",
    "qc_ch.x([qr_ch[1]])\n",
    "qc_ch.cx(qr_ch[5],qr_ch[4])\n",
    "qc_ch.x([qr_ch[5]])\n",
    "\n",
    "qc_ch.barrier()\n",
    "qc_ch.x(qr_ch[6])\n",
    "qc_ch.cx(qr_ch[6],qr_ch[3])\n",
    "qc_ch.barrier()\n",
    "qc_ch.cx(qr_ch[6],qr_ch[2])\n",
    "qc_ch.x([qr_ch[1]])\n",
    "qc_ch.x([qr_ch[5]])\n",
    "\n",
    "qc_ch.draw()"
   ]
  },
  {
   "cell_type": "code",
   "execution_count": null,
   "metadata": {},
   "outputs": [],
   "source": []
  }
 ],
 "metadata": {
  "interpreter": {
   "hash": "aee8b7b246df8f9039afb4144a1f6fd8d2ca17a180786b69acc140d282b71a49"
  },
  "kernelspec": {
   "display_name": "Python 3.10.2 64-bit",
   "language": "python",
   "name": "python3"
  },
  "language_info": {
   "codemirror_mode": {
    "name": "ipython",
    "version": 3
   },
   "file_extension": ".py",
   "mimetype": "text/x-python",
   "name": "python",
   "nbconvert_exporter": "python",
   "pygments_lexer": "ipython3",
   "version": "3.10.2"
  },
  "orig_nbformat": 4
 },
 "nbformat": 4,
 "nbformat_minor": 2
}
