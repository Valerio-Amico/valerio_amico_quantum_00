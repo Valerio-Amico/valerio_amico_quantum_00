{
 "cells": [
  {
   "cell_type": "code",
   "execution_count": 2,
   "metadata": {},
   "outputs": [],
   "source": [
    "from qiskit import *\n",
    "import funzioni02 as f2\n",
    "import numpy as np\n",
    "from sympy import *\n",
    "from sympy.physics.quantum import TensorProduct as Tp\n",
    "import cmath"
   ]
  },
  {
   "cell_type": "code",
   "execution_count": 3,
   "metadata": {},
   "outputs": [
    {
     "data": {
      "text/html": [
       "<pre style=\"word-wrap: normal;white-space: pre;background: #fff0;line-height: 1.1;font-family: &quot;Courier New&quot;,Courier,monospace\">      ┌───┐\n",
       "q0_0: ┤ H ├\n",
       "      └───┘\n",
       "q0_1: ─────\n",
       "           </pre>"
      ],
      "text/plain": [
       "      ┌───┐\n",
       "q0_0: ┤ H ├\n",
       "      └───┘\n",
       "q0_1: ─────\n",
       "           "
      ]
     },
     "execution_count": 3,
     "metadata": {},
     "output_type": "execute_result"
    }
   ],
   "source": [
    "qr=QuantumRegister(2)\n",
    "qc=QuantumCircuit(qr)\n",
    "\n",
    "qc.h(qr[0])\n",
    "\n",
    "qc.draw()"
   ]
  },
  {
   "cell_type": "code",
   "execution_count": 4,
   "metadata": {},
   "outputs": [
    {
     "name": "stderr",
     "output_type": "stream",
     "text": [
      "/Library/Frameworks/Python.framework/Versions/3.10/lib/python3.10/site-packages/numpy/linalg/linalg.py:2146: RuntimeWarning: divide by zero encountered in det\n",
      "  r = _umath_linalg.det(a, signature=signature)\n",
      "/Library/Frameworks/Python.framework/Versions/3.10/lib/python3.10/site-packages/numpy/linalg/linalg.py:2146: RuntimeWarning: invalid value encountered in det\n",
      "  r = _umath_linalg.det(a, signature=signature)\n"
     ]
    },
    {
     "data": {
      "text/latex": [
       "$\\displaystyle \\left[\\begin{matrix}0.7071067812 & 0.7071067812 & 0 & 0\\\\0.7071067812 & -0.7071067812 & 0 & 0\\\\0 & 0 & 0.7071067812 & 0.7071067812\\\\0 & 0 & 0.7071067812 & -0.7071067812\\end{matrix}\\right]$"
      ],
      "text/plain": [
       "Matrix([\n",
       "[0.7071067812,  0.7071067812,            0,             0],\n",
       "[0.7071067812, -0.7071067812,            0,             0],\n",
       "[           0,             0, 0.7071067812,  0.7071067812],\n",
       "[           0,             0, 0.7071067812, -0.7071067812]])"
      ]
     },
     "execution_count": 4,
     "metadata": {},
     "output_type": "execute_result"
    }
   ],
   "source": [
    "f2.matrix_from_cirquit(qc)"
   ]
  },
  {
   "cell_type": "code",
   "execution_count": 5,
   "metadata": {},
   "outputs": [
    {
     "data": {
      "text/latex": [
       "$\\displaystyle \\left[\\begin{matrix}\\frac{\\sqrt{2}}{2} & \\frac{\\sqrt{2}}{2} & 0 & 0\\\\\\frac{\\sqrt{2}}{2} & - \\frac{\\sqrt{2}}{2} & 0 & 0\\\\0 & 0 & \\frac{\\sqrt{2}}{2} & \\frac{\\sqrt{2}}{2}\\\\0 & 0 & \\frac{\\sqrt{2}}{2} & - \\frac{\\sqrt{2}}{2}\\end{matrix}\\right]$"
      ],
      "text/plain": [
       "Matrix([\n",
       "[sqrt(2)/2,  sqrt(2)/2,         0,          0],\n",
       "[sqrt(2)/2, -sqrt(2)/2,         0,          0],\n",
       "[        0,          0, sqrt(2)/2,  sqrt(2)/2],\n",
       "[        0,          0, sqrt(2)/2, -sqrt(2)/2]])"
      ]
     },
     "execution_count": 5,
     "metadata": {},
     "output_type": "execute_result"
    }
   ],
   "source": [
    "H = Matrix([ \n",
    "    [1/sqrt(2),1/sqrt(2)],\n",
    "    [1/sqrt(2),-1/sqrt(2)]\n",
    "])\n",
    "\n",
    "Tp(eye(2),H)"
   ]
  },
  {
   "cell_type": "code",
   "execution_count": 6,
   "metadata": {},
   "outputs": [
    {
     "data": {
      "text/html": [
       "<pre style=\"word-wrap: normal;white-space: pre;background: #fff0;line-height: 1.1;font-family: &quot;Courier New&quot;,Courier,monospace\">      ┌───┐      ░                           ░            ░           \n",
       "q6_0: ┤ X ├──────░───────────────────────────░────────────░───────────\n",
       "      └─┬─┘┌───┐ ░           ┌───┐┌───┐      ░            ░ ┌───┐     \n",
       "q6_1: ──┼──┤ X ├─░───────────┤ X ├┤ X ├──────░────────────░─┤ X ├─────\n",
       "        │  └─┬─┘ ░           └─┬─┘└───┘      ░            ░ ├───┤     \n",
       "q6_2: ──┼────┼───░─────────────┼─────────────░────────────░─┤ X ├─────\n",
       "        │    │   ░             │             ░      ┌───┐ ░ └─┬─┘     \n",
       "q6_3: ──┼────┼───░─────────────┼─────────────░──────┤ X ├─░───┼───────\n",
       "        │    │   ░      ┌───┐  │  ┌───┐      ░      └─┬─┘ ░   │       \n",
       "q6_4: ──■────■───░──────┤ X ├──■──┤ X ├──────░────────┼───░───┼───────\n",
       "      ┌───┐      ░ ┌───┐└─┬─┘     └─┬─┘┌───┐ ░        │   ░   │  ┌───┐\n",
       "q6_5: ┤ X ├──────░─┤ X ├──■─────────■──┤ X ├─░────────┼───░───┼──┤ X ├\n",
       "      ├───┤      ░ └───┘               └───┘ ░ ┌───┐  │   ░   │  └───┘\n",
       "q6_6: ┤ X ├──────░───────────────────────────░─┤ X ├──■───░───■───────\n",
       "      └───┘      ░                           ░ └───┘      ░           </pre>"
      ],
      "text/plain": [
       "      ┌───┐      ░                           ░            ░           \n",
       "q6_0: ┤ X ├──────░───────────────────────────░────────────░───────────\n",
       "      └─┬─┘┌───┐ ░           ┌───┐┌───┐      ░            ░ ┌───┐     \n",
       "q6_1: ──┼──┤ X ├─░───────────┤ X ├┤ X ├──────░────────────░─┤ X ├─────\n",
       "        │  └─┬─┘ ░           └─┬─┘└───┘      ░            ░ ├───┤     \n",
       "q6_2: ──┼────┼───░─────────────┼─────────────░────────────░─┤ X ├─────\n",
       "        │    │   ░             │             ░      ┌───┐ ░ └─┬─┘     \n",
       "q6_3: ──┼────┼───░─────────────┼─────────────░──────┤ X ├─░───┼───────\n",
       "        │    │   ░      ┌───┐  │  ┌───┐      ░      └─┬─┘ ░   │       \n",
       "q6_4: ──■────■───░──────┤ X ├──■──┤ X ├──────░────────┼───░───┼───────\n",
       "      ┌───┐      ░ ┌───┐└─┬─┘     └─┬─┘┌───┐ ░        │   ░   │  ┌───┐\n",
       "q6_5: ┤ X ├──────░─┤ X ├──■─────────■──┤ X ├─░────────┼───░───┼──┤ X ├\n",
       "      ├───┤      ░ └───┘               └───┘ ░ ┌───┐  │   ░   │  └───┘\n",
       "q6_6: ┤ X ├──────░───────────────────────────░─┤ X ├──■───░───■───────\n",
       "      └───┘      ░                           ░ └───┘      ░           "
      ]
     },
     "execution_count": 6,
     "metadata": {},
     "output_type": "execute_result"
    }
   ],
   "source": [
    "qr_ch=QuantumRegister(7)\n",
    "qc_ch=QuantumCircuit(qr_ch,name ='4copy_check')\n",
    "\n",
    "qc_ch.x([qr_ch[6],qr_ch[5]])\n",
    "qc_ch.cx(qr_ch[4],qr_ch[0])\n",
    "qc_ch.cx(qr_ch[4],qr_ch[1])\n",
    "qc_ch.barrier()\n",
    "qc_ch.x([qr_ch[5]])\n",
    "qc_ch.cx(qr_ch[5],qr_ch[4])\n",
    "qc_ch.cx(qr_ch[4],qr_ch[1])\n",
    "qc_ch.x([qr_ch[1]])\n",
    "qc_ch.cx(qr_ch[5],qr_ch[4])\n",
    "qc_ch.x([qr_ch[5]])\n",
    "\n",
    "qc_ch.barrier()\n",
    "qc_ch.x(qr_ch[6])\n",
    "qc_ch.cx(qr_ch[6],qr_ch[3])\n",
    "qc_ch.barrier()\n",
    "qc_ch.cx(qr_ch[6],qr_ch[2])\n",
    "qc_ch.x([qr_ch[1]])\n",
    "qc_ch.x([qr_ch[5]])\n",
    "\n",
    "qc_ch.draw()"
   ]
  },
  {
   "cell_type": "code",
   "execution_count": 7,
   "metadata": {},
   "outputs": [],
   "source": [
    "from sympy import *\n",
    "from sympy.physics.quantum import TensorProduct as Tp"
   ]
  },
  {
   "cell_type": "code",
   "execution_count": 8,
   "metadata": {},
   "outputs": [],
   "source": [
    "M=Matrix([\n",
    "    [0,1],\n",
    "    [1,0]\n",
    "])\n",
    "\n",
    "Id=eye(4)"
   ]
  },
  {
   "cell_type": "code",
   "execution_count": 9,
   "metadata": {},
   "outputs": [
    {
     "data": {
      "text/latex": [
       "$\\displaystyle \\left[\\begin{matrix}0 & 0 & 0 & 0 & 1 & 0 & 0 & 0\\\\0 & 0 & 0 & 0 & 0 & 1 & 0 & 0\\\\0 & 0 & 0 & 0 & 0 & 0 & 1 & 0\\\\0 & 0 & 0 & 0 & 0 & 0 & 0 & 1\\\\1 & 0 & 0 & 0 & 0 & 0 & 0 & 0\\\\0 & 1 & 0 & 0 & 0 & 0 & 0 & 0\\\\0 & 0 & 1 & 0 & 0 & 0 & 0 & 0\\\\0 & 0 & 0 & 1 & 0 & 0 & 0 & 0\\end{matrix}\\right]$"
      ],
      "text/plain": [
       "Matrix([\n",
       "[0, 0, 0, 0, 1, 0, 0, 0],\n",
       "[0, 0, 0, 0, 0, 1, 0, 0],\n",
       "[0, 0, 0, 0, 0, 0, 1, 0],\n",
       "[0, 0, 0, 0, 0, 0, 0, 1],\n",
       "[1, 0, 0, 0, 0, 0, 0, 0],\n",
       "[0, 1, 0, 0, 0, 0, 0, 0],\n",
       "[0, 0, 1, 0, 0, 0, 0, 0],\n",
       "[0, 0, 0, 1, 0, 0, 0, 0]])"
      ]
     },
     "execution_count": 9,
     "metadata": {},
     "output_type": "execute_result"
    }
   ],
   "source": [
    "Tp(M,Id)"
   ]
  },
  {
   "cell_type": "code",
   "execution_count": 10,
   "metadata": {},
   "outputs": [
    {
     "data": {
      "text/plain": [
       "0"
      ]
     },
     "execution_count": 10,
     "metadata": {},
     "output_type": "execute_result"
    }
   ],
   "source": [
    "b='110'\n",
    "d=0\n",
    "\n",
    "\n",
    "d"
   ]
  },
  {
   "cell_type": "code",
   "execution_count": 112,
   "metadata": {},
   "outputs": [],
   "source": [
    "a1, r1, f1, a2, r2, f2_ = symbols(\"a1 r1 f1 a2 r2 f2\", real=True)\n",
    "\n",
    "H = Matrix([ \n",
    "    [1/sqrt(2),1/sqrt(2)],\n",
    "    [1/sqrt(2),-1/sqrt(2)]\n",
    "])\n",
    "\n",
    "cx_01= Matrix([\n",
    "    [1,0,0,0],\n",
    "    [0,0,0,1],\n",
    "    [0,0,1,0],\n",
    "    [0,1,0,0]\n",
    "])\n",
    "\n",
    "def ry(alpha):   # generic ry gate\n",
    "    return Matrix([ \n",
    "        [cos(alpha/2),-sin(alpha/2)],\n",
    "        [sin(alpha/2),cos(alpha/2)]\n",
    "    ])\n",
    "\n",
    "def rz(alpha):   # generic rz gate\n",
    "    return Matrix([ \n",
    "        [exp(-1*I*(alpha/2)),0],\n",
    "        [0,exp(I*(alpha/2))]\n",
    "    ])\n",
    "\n",
    "Id=eye(2)\n",
    "\n",
    "M1 = Matrix(simplify(Tp(rz(2*f1),Id)*Tp(Id,H)*cx_01*Tp(ry(a1),ry(a1))*cx_01*Tp(Id,H)*Tp(rz(2*r1),Id)))\n",
    "M2 = Matrix(simplify(Tp(rz(2*f2_),Id)*Tp(Id,H)*cx_01*Tp(ry(a2),ry(a2))*cx_01*Tp(Id,H)*Tp(rz(2*r2),Id)))\n"
   ]
  },
  {
   "cell_type": "code",
   "execution_count": 113,
   "metadata": {},
   "outputs": [
    {
     "data": {
      "text/latex": [
       "$\\displaystyle \\left[\\begin{matrix}e^{i \\left(- f_{1} - r_{1}\\right)} e^{i \\left(- f_{2} - r_{2}\\right)} & 0 & 0 & 0 & 0 & 0 & 0 & 0\\\\0 & e^{- i \\left(f_{1} + r_{1}\\right)} e^{i \\left(- f_{2} - r_{2}\\right)} \\cos{\\left(a_{1} \\right)} & - e^{- i \\left(f_{1} - r_{1}\\right)} e^{i \\left(- f_{2} - r_{2}\\right)} \\sin{\\left(a_{1} \\right)} & 0 & 0 & 0 & 0 & 0\\\\0 & e^{i \\left(f_{1} - r_{1}\\right)} e^{- i \\left(f_{2} + r_{2}\\right)} \\sin{\\left(a_{1} \\right)} \\cos{\\left(a_{2} \\right)} & e^{i \\left(f_{1} + r_{1}\\right)} e^{- i \\left(f_{2} + r_{2}\\right)} \\cos{\\left(a_{1} \\right)} \\cos{\\left(a_{2} \\right)} & 0 & - e^{i \\left(- f_{1} - r_{1}\\right)} e^{- i \\left(f_{2} - r_{2}\\right)} \\sin{\\left(a_{2} \\right)} & 0 & 0 & 0\\\\0 & 0 & 0 & e^{i \\left(f_{1} + r_{1}\\right)} e^{- i \\left(f_{2} + r_{2}\\right)} \\cos{\\left(a_{2} \\right)} & 0 & - e^{- i \\left(f_{1} + r_{1}\\right)} e^{- i \\left(f_{2} - r_{2}\\right)} \\sin{\\left(a_{2} \\right)} \\cos{\\left(a_{1} \\right)} & e^{- i \\left(f_{1} - r_{1}\\right)} e^{- i \\left(f_{2} - r_{2}\\right)} \\sin{\\left(a_{1} \\right)} \\sin{\\left(a_{2} \\right)} & 0\\\\0 & e^{i \\left(f_{1} - r_{1}\\right)} e^{i \\left(f_{2} - r_{2}\\right)} \\sin{\\left(a_{1} \\right)} \\sin{\\left(a_{2} \\right)} & e^{i \\left(f_{1} + r_{1}\\right)} e^{i \\left(f_{2} - r_{2}\\right)} \\sin{\\left(a_{2} \\right)} \\cos{\\left(a_{1} \\right)} & 0 & e^{i \\left(- f_{1} - r_{1}\\right)} e^{i \\left(f_{2} + r_{2}\\right)} \\cos{\\left(a_{2} \\right)} & 0 & 0 & 0\\\\0 & 0 & 0 & e^{i \\left(f_{1} + r_{1}\\right)} e^{i \\left(f_{2} - r_{2}\\right)} \\sin{\\left(a_{2} \\right)} & 0 & e^{- i \\left(f_{1} + r_{1}\\right)} e^{i \\left(f_{2} + r_{2}\\right)} \\cos{\\left(a_{1} \\right)} \\cos{\\left(a_{2} \\right)} & - e^{- i \\left(f_{1} - r_{1}\\right)} e^{i \\left(f_{2} + r_{2}\\right)} \\sin{\\left(a_{1} \\right)} \\cos{\\left(a_{2} \\right)} & 0\\\\0 & 0 & 0 & 0 & 0 & e^{i \\left(f_{1} - r_{1}\\right)} e^{i \\left(f_{2} + r_{2}\\right)} \\sin{\\left(a_{1} \\right)} & e^{i \\left(f_{1} + r_{1}\\right)} e^{i \\left(f_{2} + r_{2}\\right)} \\cos{\\left(a_{1} \\right)} & 0\\\\0 & 0 & 0 & 0 & 0 & 0 & 0 & e^{i \\left(f_{1} + r_{1}\\right)} e^{i \\left(f_{2} + r_{2}\\right)}\\end{matrix}\\right]$"
      ],
      "text/plain": [
       "Matrix([\n",
       "[exp(I*(-f1 - r1))*exp(I*(-f2 - r2)),                                                  0,                                                  0,                                          0,                                            0,                                                    0,                                                   0,                                 0],\n",
       "[                                  0,        exp(-I*(f1 + r1))*exp(I*(-f2 - r2))*cos(a1),       -exp(-I*(f1 - r1))*exp(I*(-f2 - r2))*sin(a1),                                          0,                                            0,                                                    0,                                                   0,                                 0],\n",
       "[                                  0, exp(I*(f1 - r1))*exp(-I*(f2 + r2))*sin(a1)*cos(a2), exp(I*(f1 + r1))*exp(-I*(f2 + r2))*cos(a1)*cos(a2),                                          0, -exp(I*(-f1 - r1))*exp(-I*(f2 - r2))*sin(a2),                                                    0,                                                   0,                                 0],\n",
       "[                                  0,                                                  0,                                                  0, exp(I*(f1 + r1))*exp(-I*(f2 + r2))*cos(a2),                                            0, -exp(-I*(f1 + r1))*exp(-I*(f2 - r2))*sin(a2)*cos(a1), exp(-I*(f1 - r1))*exp(-I*(f2 - r2))*sin(a1)*sin(a2),                                 0],\n",
       "[                                  0,  exp(I*(f1 - r1))*exp(I*(f2 - r2))*sin(a1)*sin(a2),  exp(I*(f1 + r1))*exp(I*(f2 - r2))*sin(a2)*cos(a1),                                          0,   exp(I*(-f1 - r1))*exp(I*(f2 + r2))*cos(a2),                                                    0,                                                   0,                                 0],\n",
       "[                                  0,                                                  0,                                                  0,  exp(I*(f1 + r1))*exp(I*(f2 - r2))*sin(a2),                                            0,   exp(-I*(f1 + r1))*exp(I*(f2 + r2))*cos(a1)*cos(a2), -exp(-I*(f1 - r1))*exp(I*(f2 + r2))*sin(a1)*cos(a2),                                 0],\n",
       "[                                  0,                                                  0,                                                  0,                                          0,                                            0,            exp(I*(f1 - r1))*exp(I*(f2 + r2))*sin(a1),           exp(I*(f1 + r1))*exp(I*(f2 + r2))*cos(a1),                                 0],\n",
       "[                                  0,                                                  0,                                                  0,                                          0,                                            0,                                                    0,                                                   0, exp(I*(f1 + r1))*exp(I*(f2 + r2))]])"
      ]
     },
     "execution_count": 113,
     "metadata": {},
     "output_type": "execute_result"
    }
   ],
   "source": [
    "Ubest = Tp(M2, Id) * Tp(Id, M1)\n",
    "Ubest"
   ]
  },
  {
   "cell_type": "code",
   "execution_count": 114,
   "metadata": {},
   "outputs": [
    {
     "name": "stdout",
     "output_type": "stream",
     "text": [
      "[-f1 - f2 + r1 + r2 - 1.6789787320337, -f1 + f2 + r1 + r2 + 1.34001810949285 + pi, f1 + f2 + r1 + r2 + 0.00581813354655799]\n",
      "[sin(a1)*sin(a2) - 0.01170361616191332524817584620524604471992, sin(a1)*cos(a2) - 0.005976030783166499623154854642670801151354, cos(a1) - 0.9999136524844584008104445716311719027916]\n"
     ]
    }
   ],
   "source": [
    "def arg_and_abs(expression):\n",
    "    absu = 1\n",
    "    argu = 0\n",
    "    for b in expression.args:\n",
    "        if b == -1:\n",
    "            argu += pi\n",
    "        else:\n",
    "            if im(b)!=0:\n",
    "                argu += -I*b.args[0]\n",
    "            else:\n",
    "                absu *= b\n",
    "    return absu, argu\n",
    "\n",
    "U=f2.Trotter_N_approx(steps=42, tempo=np.pi, precision=40)\n",
    "\n",
    "lin_equations = []\n",
    "non_lin_eq = []\n",
    "for i in [3,5,6]:\n",
    "    a,b = arg_and_abs(Ubest[i*8+6])\n",
    "    non_lin_eq.append(a-Abs(U[i*8+6]))\n",
    "    lin_equations.append(b+cmath.phase(U[i*8+6]))\n",
    "\n",
    "\n",
    "print(lin_equations)\n",
    "print(non_lin_eq)"
   ]
  },
  {
   "cell_type": "code",
   "execution_count": 115,
   "metadata": {},
   "outputs": [
    {
     "name": "stdout",
     "output_type": "stream",
     "text": [
      "{(0.667099987973145 + 0.5*pi, -0.5*pi - 1.50949842076327, 0.836580299243571, 0)}\n",
      "{(2*_n*pi - 0.0131414427076419, a2), (2*_n*pi + 0.0131414427076419, a2)}\n",
      "2.2378963147680415\n",
      "-3.0802947475581703\n",
      "0.8365802992435709\n",
      "0.0\n"
     ]
    }
   ],
   "source": [
    "sol = linsolve(lin_equations,[f1,f2_,r1,r2])\n",
    "non_lin_sol = nonlinsolve(non_lin_eq,[a1,a2])\n",
    "sol = sol.subs(r2,0)\n",
    "print(sol)\n",
    "print(non_lin_sol)\n",
    "for i in sol.args[0]:\n",
    "    print(float(i))"
   ]
  },
  {
   "cell_type": "code",
   "execution_count": 107,
   "metadata": {},
   "outputs": [
    {
     "name": "stdout",
     "output_type": "stream",
     "text": [
      "-2.2378963147680415 3.0802947475581703 -0.836580299243571 0 0.013141442707642104 1.0986935818563883\n"
     ]
    }
   ],
   "source": [
    "r10=float(atan2(im(U[3*8+6]),re(U[3*8+6]))+atan2(im(U[6*8+6]),re(U[6*8+6])))/2\n",
    "r20=0\n",
    "f10=float(atan2(im(U[6*8+6]),re(U[6*8+6]))-atan2(im(U[5*8+6]),re(U[5*8+6]))-np.pi)/2\n",
    "f2_0=float((atan2(im(U[6*8+6]),re(U[6*8+6]))-atan2(im(U[3*8+6]),re(U[3*8+6])))/2-f10)\n",
    "a10=float(acos(abs(U[6*8+6])))\n",
    "a20=float(acos(abs(U[5*8+6])/sin(a10)))\n",
    "\n",
    "print(f10,f2_0,r10,r20,a10,a20)"
   ]
  },
  {
   "cell_type": "code",
   "execution_count": 45,
   "metadata": {},
   "outputs": [
    {
     "data": {
      "text/plain": [
       "[-f1 - f2 + r1 + r2 - 1.6789787320337,\n",
       " -f1 + f2 + r1 + r2 + 1.34001810949285 + pi]"
      ]
     },
     "execution_count": 45,
     "metadata": {},
     "output_type": "execute_result"
    }
   ],
   "source": [
    "equations[0:2]"
   ]
  },
  {
   "cell_type": "code",
   "execution_count": null,
   "metadata": {},
   "outputs": [],
   "source": []
  }
 ],
 "metadata": {
  "interpreter": {
   "hash": "aee8b7b246df8f9039afb4144a1f6fd8d2ca17a180786b69acc140d282b71a49"
  },
  "kernelspec": {
   "display_name": "Python 3.10.2 64-bit",
   "language": "python",
   "name": "python3"
  },
  "language_info": {
   "codemirror_mode": {
    "name": "ipython",
    "version": 3
   },
   "file_extension": ".py",
   "mimetype": "text/x-python",
   "name": "python",
   "nbconvert_exporter": "python",
   "pygments_lexer": "ipython3",
   "version": "3.10.2"
  },
  "orig_nbformat": 4
 },
 "nbformat": 4,
 "nbformat_minor": 2
}
