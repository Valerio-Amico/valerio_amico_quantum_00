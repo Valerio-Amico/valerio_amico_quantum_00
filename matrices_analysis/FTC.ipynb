{
 "cells": [
  {
   "cell_type": "code",
   "execution_count": 152,
   "metadata": {},
   "outputs": [],
   "source": [
    "import numpy as np\n",
    "import matplotlib.pyplot as plt\n",
    "from scipy.linalg import expm"
   ]
  },
  {
   "cell_type": "code",
   "execution_count": 153,
   "metadata": {},
   "outputs": [
    {
     "data": {
      "image/png": "[encoded data removed]",
      "text/plain": [
       "<Figure size 432x288 with 2 Axes>"
      ]
     },
     "metadata": {
      "needs_background": "light"
     },
     "output_type": "display_data"
    }
   ],
   "source": [
    "N_qubits = 3\n",
    "\n",
    "#### for a unistocastic matrix\n",
    "t = 1.0\n",
    "A = np.random.uniform(0,1, size=(2**(N_qubits),2**(N_qubits)))\n",
    "B = np.random.uniform(0,1, size=(2**(N_qubits),2**(N_qubits)))\n",
    "\n",
    "H = np.zeros((2**N_qubits,2**N_qubits), dtype=complex)\n",
    "\n",
    "H = A + 1j*B\n",
    "H = H + np.conjugate(H).T\n",
    "\n",
    "U = expm(1j*H*t)\n",
    "\n",
    "plt.imshow(np.abs(H))\n",
    "plt.colorbar()\n",
    "plt.show()"
   ]
  },
  {
   "cell_type": "code",
   "execution_count": 154,
   "metadata": {},
   "outputs": [
    {
     "data": {
      "image/png": "[encoded data removed]",
      "text/plain": [
       "<Figure size 432x288 with 2 Axes>"
      ]
     },
     "metadata": {
      "needs_background": "light"
     },
     "output_type": "display_data"
    }
   ],
   "source": [
    "#### for a random probability matrix\n",
    "\n",
    "M = np.zeros((2**N_qubits,2**N_qubits))\n",
    "for i in range(2**N_qubits):\n",
    "    col = np.random.uniform(0,1, size=(2**N_qubits))\n",
    "    M[:,i] = col/sum(col)\n",
    "\n",
    "plt.imshow(np.abs(M))\n",
    "plt.colorbar()\n",
    "plt.show()"
   ]
  },
  {
   "cell_type": "code",
   "execution_count": 155,
   "metadata": {},
   "outputs": [],
   "source": [
    "def prob_matrix_check(matrix, decimals):\n",
    "    col = [np.round(sum(matrix[:,i]), decimals=decimals)==1 for i in range(len(matrix))]\n",
    "    row = [np.round(sum(matrix[i,:]), decimals=decimals)==1 for i in range(len(matrix))]\n",
    "\n",
    "    if all(col):\n",
    "        if all(row):\n",
    "            return True, True\n",
    "        else:\n",
    "            return False, True\n",
    "    elif all(row):\n",
    "        return True, False\n",
    "    return False, False\n"
   ]
  },
  {
   "cell_type": "code",
   "execution_count": 156,
   "metadata": {},
   "outputs": [
    {
     "name": "stdout",
     "output_type": "stream",
     "text": [
      "row, col:\n",
      "(True, True)\n",
      "(False, True)\n"
     ]
    }
   ],
   "source": [
    "print(\"row, col:\")\n",
    "print(prob_matrix_check(np.abs(U)**2, decimals=4))\n",
    "print(prob_matrix_check(M, decimals=4))"
   ]
  },
  {
   "cell_type": "code",
   "execution_count": 157,
   "metadata": {},
   "outputs": [],
   "source": [
    "C = np.sqrt(M)"
   ]
  },
  {
   "cell_type": "code",
   "execution_count": 158,
   "metadata": {},
   "outputs": [
    {
     "name": "stdout",
     "output_type": "stream",
     "text": [
      "row, col:\n",
      "0 (False, False)\n",
      "1 (False, False)\n",
      "2 (False, False)\n"
     ]
    },
    {
     "data": {
      "image/png": "[encoded data removed]",
      "text/plain": [
       "<Figure size 432x288 with 2 Axes>"
      ]
     },
     "metadata": {
      "needs_background": "light"
     },
     "output_type": "display_data"
    },
    {
     "name": "stdout",
     "output_type": "stream",
     "text": [
      "3 (False, False)\n",
      "4 (False, False)\n",
      "5 (False, False)\n",
      "6 (False, False)\n",
      "7 (False, False)\n",
      "8 (False, False)\n",
      "9 (False, False)\n",
      "10 (False, False)\n",
      "11 (False, False)\n",
      "12 (False, False)\n",
      "13 (False, False)\n",
      "14 (False, False)\n",
      "15 (False, False)\n",
      "16 (False, False)\n",
      "17 (False, True)\n",
      "18 (False, False)\n",
      "19 (False, False)\n",
      "20 (False, False)\n",
      "21 (False, False)\n",
      "22 (False, False)\n",
      "23 (False, True)\n",
      "24 (False, False)\n",
      "25 (False, True)\n",
      "26 (False, True)\n"
     ]
    }
   ],
   "source": [
    "from qiskit.ignis.verification.tomography import state_tomography_circuits\n",
    "from qiskit import QuantumCircuit, QuantumRegister\n",
    "from qiskit.quantum_info import Operator\n",
    "\n",
    "qr_basi = QuantumRegister(N_qubits)\n",
    "qc_basi = QuantumCircuit(qr_basi)\n",
    "tomography_basis = state_tomography_circuits(qc_basi, qr_basi)\n",
    "\n",
    "print(\"row, col:\")\n",
    "\n",
    "for i, basis in enumerate(tomography_basis):\n",
    "    basis.remove_final_measurements()\n",
    "    # building the unitary matrix of the basis and the inverse.\n",
    "    base_matrix_amplitudes = Operator(basis)\n",
    "    base_matrix_amplitudes_inverse = base_matrix_amplitudes.transpose().conjugate()\n",
    "    # building the probability matrices.\n",
    "    base_matrix = np.abs(base_matrix_amplitudes)**2\n",
    "    base_matrix_inverse = np.abs(base_matrix_amplitudes_inverse)**2\n",
    "\n",
    "    C_basis_NIC = np.abs(np.linalg.multi_dot([base_matrix_amplitudes, C,  base_matrix_amplitudes_inverse]))**2\n",
    "    #C_basis_NIC = np.linalg.multi_dot([base_matrix, C,  base_matrix_inverse])\n",
    "    #C_basis_NIC = np.abs(np.dot(base_matrix_amplitudes, C_NIC))**2\n",
    "    \n",
    "    print(i, prob_matrix_check(C_basis_NIC, decimals=4))\n",
    "\n",
    "    if i == 2:\n",
    "        plt.imshow(np.abs(C_basis_NIC))\n",
    "        plt.colorbar()\n",
    "        plt.show()\n"
   ]
  },
  {
   "cell_type": "code",
   "execution_count": null,
   "metadata": {},
   "outputs": [],
   "source": []
  }
 ],
 "metadata": {
  "interpreter": {
   "hash": "aee8b7b246df8f9039afb4144a1f6fd8d2ca17a180786b69acc140d282b71a49"
  },
  "kernelspec": {
   "display_name": "Python 3.10.2 64-bit",
   "language": "python",
   "name": "python3"
  },
  "language_info": {
   "codemirror_mode": {
    "name": "ipython",
    "version": 3
   },
   "file_extension": ".py",
   "mimetype": "text/x-python",
   "name": "python",
   "nbconvert_exporter": "python",
   "pygments_lexer": "ipython3",
   "version": "3.10.2"
  },
  "orig_nbformat": 4
 },
 "nbformat": 4,
 "nbformat_minor": 2
}
