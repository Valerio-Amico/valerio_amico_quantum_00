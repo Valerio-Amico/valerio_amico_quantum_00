{
 "cells": [
  {
   "cell_type": "code",
   "execution_count": 2,
   "metadata": {},
   "outputs": [
    {
     "name": "stderr",
     "output_type": "stream",
     "text": [
      "/var/folders/gq/pyfb45qx3wg52k7kygqcjy840000gn/T/ipykernel_1555/2181746857.py:4: DeprecationWarning: The qiskit.ignis package is deprecated and has been supersceded by the qiskit-experiments project. Refer to the migration guide: https://github.com/Qiskit/qiskit-ignis#migration-guide on how to migrate to the new project.\n",
      "  from qiskit.ignis.verification.tomography import state_tomography_circuits\n"
     ]
    }
   ],
   "source": [
    "import numpy as np\n",
    "import matplotlib.pyplot as plt\n",
    "from scipy.linalg import expm\n",
    "from qiskit.ignis.verification.tomography import state_tomography_circuits\n",
    "from qiskit import QuantumCircuit, QuantumRegister\n",
    "from qiskit.quantum_info import Operator\n",
    "from sympy import Matrix\n"
   ]
  },
  {
   "cell_type": "code",
   "execution_count": 3,
   "metadata": {},
   "outputs": [],
   "source": [
    "def random_Operator_matrix(N_qubits):\n",
    "    #### generate a random unistocastic matrix\n",
    "    t = 1.0\n",
    "    A = np.random.uniform(0,1, size=(2**(N_qubits),2**(N_qubits)))\n",
    "    B = np.random.uniform(0,1, size=(2**(N_qubits),2**(N_qubits)))\n",
    "    H = np.zeros((2**N_qubits,2**N_qubits), dtype=complex)\n",
    "    H = A + 1j*B\n",
    "    H = H + np.conjugate(H).T\n",
    "    U = expm(1j*H*t)\n",
    "    return U\n",
    "\n",
    "def random_Quantum_state(N_qubits):\n",
    "    #### generate a random unistocastic matrix\n",
    "    return random_Operator_matrix(N_qubits=N_qubits)[:,0]\n",
    "\n",
    "def random_Probability_matrix(N_qubits):\n",
    "    #### for a random probability matrix\n",
    "    probability_matrix = np.zeros((2**N_qubits,2**N_qubits))\n",
    "    for i in range(2**N_qubits):\n",
    "        column = np.random.uniform(0,1, size=(2**N_qubits))\n",
    "        probability_matrix[:,i] = column/sum(column)\n",
    "    return probability_matrix\n",
    "\n",
    "def prob_matrix_check(matrix, decimals):\n",
    "    col = [np.round(sum(matrix[:,i]), decimals=decimals)==1 for i in range(len(matrix))]\n",
    "    row = [np.round(sum(matrix[i,:]), decimals=decimals)==1 for i in range(len(matrix))]\n",
    "\n",
    "    if all(col):\n",
    "        if all(row):\n",
    "            return True, True\n",
    "        else:\n",
    "            return False, True\n",
    "    elif all(row):\n",
    "        return True, False\n",
    "    return False, False"
   ]
  },
  {
   "cell_type": "code",
   "execution_count": 4,
   "metadata": {},
   "outputs": [
    {
     "data": {
      "text/latex": [
       "$\\displaystyle \\left[\\begin{matrix}0.554357792276899 & 0.496726991991143 & 0.0123724955451327 & 0.265675109738258\\\\0.138554110872133 & 0.429478864957671 & 0.697614219269808 & 0.261823188103243\\\\0.280660700226604 & 0.062701742060106 & 0.255920898500188 & 0.061036734213767\\\\0.0264273966243639 & 0.0110924009910796 & 0.0340923866848713 & 0.411464967944733\\end{matrix}\\right]$"
      ],
      "text/plain": [
       "Matrix([\n",
       "[ 0.554357792276899,  0.496726991991143, 0.0123724955451327, 0.265675109738258],\n",
       "[ 0.138554110872133,  0.429478864957671,  0.697614219269808, 0.261823188103243],\n",
       "[ 0.280660700226604,  0.062701742060106,  0.255920898500188, 0.061036734213767],\n",
       "[0.0264273966243639, 0.0110924009910796, 0.0340923866848713, 0.411464967944733]])"
      ]
     },
     "execution_count": 4,
     "metadata": {},
     "output_type": "execute_result"
    }
   ],
   "source": [
    "N_qubits = 2\n",
    "\n",
    "# generate a random probability matrix\n",
    "prob_matrix = random_Probability_matrix(N_qubits=N_qubits)\n",
    "oper_matrix = random_Operator_matrix(N_qubits=N_qubits)\n",
    "\n",
    "U_tilde = prob_matrix\n",
    "Matrix(U_tilde)"
   ]
  },
  {
   "cell_type": "code",
   "execution_count": 13,
   "metadata": {},
   "outputs": [
    {
     "data": {
      "text/latex": [
       "$\\displaystyle \\left[\\begin{matrix}0.183546020181778 & 0.598277525166759 & 0.109806794445204 & 0.00352032524205763\\\\0.268452457977562 & 0.641802984032171 & 7.3243549281171 & 0.374494743770023\\\\0.266006434205146 & 0.0522834123243918 & 0.566988047404827 & 0.00183212528938558\\\\1.01003433739495 \\cdot 10^{-6} & 1.61249752787322 \\cdot 10^{-5} & 0.00176164887711104 & 2.5395191628092\\end{matrix}\\right]$"
      ],
      "text/plain": [
       "Matrix([\n",
       "[  0.183546020181778,   0.598277525166759,   0.109806794445204, 0.00352032524205763],\n",
       "[  0.268452457977562,   0.641802984032171,     7.3243549281171,   0.374494743770023],\n",
       "[  0.266006434205146,  0.0522834123243918,   0.566988047404827, 0.00183212528938558],\n",
       "[1.01003433739495e-6, 1.61249752787322e-5, 0.00176164887711104,     2.5395191628092]])"
      ]
     },
     "execution_count": 13,
     "metadata": {},
     "output_type": "execute_result"
    }
   ],
   "source": [
    "C_CIC_ideal = oper_matrix\n",
    "C_CIC = U_tilde*np.abs(np.linalg.inv(U_tilde))**2\n",
    "Matrix(C_CIC)"
   ]
  },
  {
   "cell_type": "code",
   "execution_count": 14,
   "metadata": {},
   "outputs": [
    {
     "data": {
      "text/latex": [
       "$\\displaystyle \\left[\\begin{matrix}0.459328659136218 & -0.654133949714948 & 0.121048969134178 & -0.00730990424219926\\\\0.41856000995643 & 0.704762529894607 & -8.4906216339779 & -0.433591119091587\\\\-0.330617016203237 & 0.0931520417592708 & 1.08396178894926 & -0.012428866736844\\\\6.53711346897444 \\cdot 10^{-5} & -6.6102658696194 \\cdot 10^{-5} & -0.00206572161548995 & 2.43145767630375\\end{matrix}\\right]$"
      ],
      "text/plain": [
       "Matrix([\n",
       "[  0.459328659136218,  -0.654133949714948,    0.121048969134178, -0.00730990424219926],\n",
       "[   0.41856000995643,   0.704762529894607,     -8.4906216339779,   -0.433591119091587],\n",
       "[ -0.330617016203237,  0.0931520417592708,     1.08396178894926,   -0.012428866736844],\n",
       "[6.53711346897444e-5, -6.6102658696194e-5, -0.00206572161548995,     2.43145767630375]])"
      ]
     },
     "execution_count": 14,
     "metadata": {},
     "output_type": "execute_result"
    }
   ],
   "source": [
    "C_CIC = U_tilde*np.linalg.inv(np.abs(U_tilde)**2)\n",
    "Matrix(C_CIC)"
   ]
  },
  {
   "cell_type": "code",
   "execution_count": 15,
   "metadata": {},
   "outputs": [],
   "source": [
    "C_NIC = U_tilde"
   ]
  },
  {
   "cell_type": "markdown",
   "metadata": {},
   "source": [
    "verifico che il prodotto di una matrice di ampiezze per uno stato quantistico modulo quadro è uguale al prodotto dei moduli quadri"
   ]
  },
  {
   "cell_type": "code",
   "execution_count": 16,
   "metadata": {},
   "outputs": [
    {
     "data": {
      "text/latex": [
       "$\\displaystyle \\left[\\begin{matrix}0.100184817486524\\\\0.758740655942246\\\\0.387596800340362\\\\0.513852449377674\\end{matrix}\\right]$"
      ],
      "text/plain": [
       "Matrix([\n",
       "[0.100184817486524],\n",
       "[0.758740655942246],\n",
       "[0.387596800340362],\n",
       "[0.513852449377674]])"
      ]
     },
     "execution_count": 16,
     "metadata": {},
     "output_type": "execute_result"
    }
   ],
   "source": [
    "psi = random_Quantum_state(N_qubits=N_qubits)\n",
    "C = random_Operator_matrix(N_qubits=N_qubits)\n",
    "\n",
    "Matrix(np.abs(np.dot(C, psi)))"
   ]
  },
  {
   "cell_type": "code",
   "execution_count": 17,
   "metadata": {},
   "outputs": [
    {
     "data": {
      "text/latex": [
       "$\\displaystyle \\left[\\begin{matrix}0.938316327147962\\\\0.918562478921619\\\\0.931641515245632\\\\0.879901416554432\\end{matrix}\\right]$"
      ],
      "text/plain": [
       "Matrix([\n",
       "[0.938316327147962],\n",
       "[0.918562478921619],\n",
       "[0.931641515245632],\n",
       "[0.879901416554432]])"
      ]
     },
     "execution_count": 17,
     "metadata": {},
     "output_type": "execute_result"
    }
   ],
   "source": [
    "Matrix(np.dot(np.abs(C), np.abs(psi)))"
   ]
  },
  {
   "cell_type": "code",
   "execution_count": 18,
   "metadata": {},
   "outputs": [],
   "source": [
    "C_1 = random_Operator_matrix(N_qubits=N_qubits)\n",
    "U = random_Operator_matrix(N_qubits=N_qubits)"
   ]
  },
  {
   "cell_type": "code",
   "execution_count": 19,
   "metadata": {},
   "outputs": [
    {
     "data": {
      "text/latex": [
       "$\\displaystyle \\left[\\begin{matrix}0.0623365317745898 & 0.0362116555597657 & 0.479919364180364 & 0.42153244848528\\\\0.233814989803081 & 0.28375176541933 & 0.182204504872749 & 0.30022873990484\\\\0.530172718723082 & 0.287575056703805 & 0.0773646196347637 & 0.10488760493835\\\\0.173675759699248 & 0.3924615223171 & 0.260511511312123 & 0.17335120667153\\end{matrix}\\right]$"
      ],
      "text/plain": [
       "Matrix([\n",
       "[0.0623365317745898, 0.0362116555597657,  0.479919364180364, 0.42153244848528],\n",
       "[ 0.233814989803081,   0.28375176541933,  0.182204504872749, 0.30022873990484],\n",
       "[ 0.530172718723082,  0.287575056703805, 0.0773646196347637, 0.10488760493835],\n",
       "[ 0.173675759699248,    0.3924615223171,  0.260511511312123, 0.17335120667153]])"
      ]
     },
     "execution_count": 19,
     "metadata": {},
     "output_type": "execute_result"
    }
   ],
   "source": [
    "Matrix(np.abs(np.dot(C_1,U))**2)"
   ]
  },
  {
   "cell_type": "code",
   "execution_count": 20,
   "metadata": {},
   "outputs": [
    {
     "data": {
      "text/latex": [
       "$\\displaystyle \\left[\\begin{matrix}0.155866822131948 & 0.102593781385337 & 0.469807545537043 & 0.271731850945671\\\\0.346747248034752 & 0.265449732860526 & 0.16360246189093 & 0.224200557213791\\\\0.367067745795613 & 0.231695001854189 & 0.142000907149194 & 0.259236345201003\\\\0.130318184037686 & 0.400261483899947 & 0.224589085422832 & 0.244831246639535\\end{matrix}\\right]$"
      ],
      "text/plain": [
       "Matrix([\n",
       "[0.155866822131948, 0.102593781385337, 0.469807545537043, 0.271731850945671],\n",
       "[0.346747248034752, 0.265449732860526,  0.16360246189093, 0.224200557213791],\n",
       "[0.367067745795613, 0.231695001854189, 0.142000907149194, 0.259236345201003],\n",
       "[0.130318184037686, 0.400261483899947, 0.224589085422832, 0.244831246639535]])"
      ]
     },
     "execution_count": 20,
     "metadata": {},
     "output_type": "execute_result"
    }
   ],
   "source": [
    "Matrix(np.dot(np.abs(C_1)**2,np.abs(U)**2))"
   ]
  },
  {
   "cell_type": "code",
   "execution_count": null,
   "metadata": {},
   "outputs": [],
   "source": []
  }
 ],
 "metadata": {
  "interpreter": {
   "hash": "aee8b7b246df8f9039afb4144a1f6fd8d2ca17a180786b69acc140d282b71a49"
  },
  "kernelspec": {
   "display_name": "Python 3.10.2 64-bit",
   "language": "python",
   "name": "python3"
  },
  "language_info": {
   "codemirror_mode": {
    "name": "ipython",
    "version": 3
   },
   "file_extension": ".py",
   "mimetype": "text/x-python",
   "name": "python",
   "nbconvert_exporter": "python",
   "pygments_lexer": "ipython3",
   "version": "3.10.2"
  },
  "orig_nbformat": 4
 },
 "nbformat": 4,
 "nbformat_minor": 2
}
