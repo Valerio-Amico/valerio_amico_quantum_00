{
 "cells": [
  {
   "cell_type": "code",
   "execution_count": 41,
   "metadata": {},
   "outputs": [],
   "source": [
    "import numpy as np\n",
    "import matplotlib.pyplot as plt\n",
    "from scipy.linalg import expm\n",
    "from qiskit.ignis.verification.tomography import state_tomography_circuits\n",
    "from qiskit import QuantumCircuit, QuantumRegister\n",
    "from qiskit.quantum_info import Operator\n",
    "from sympy import Matrix\n"
   ]
  },
  {
   "cell_type": "code",
   "execution_count": 52,
   "metadata": {},
   "outputs": [],
   "source": [
    "def random_Operator_matrix(N_qubits):\n",
    "    #### generate a random unistocastic matrix\n",
    "    t = 1.0\n",
    "    A = np.random.uniform(0,1, size=(2**(N_qubits),2**(N_qubits)))\n",
    "    B = np.random.uniform(0,1, size=(2**(N_qubits),2**(N_qubits)))\n",
    "    H = np.zeros((2**N_qubits,2**N_qubits), dtype=complex)\n",
    "    H = A + 1j*B\n",
    "    H = H + np.conjugate(H).T\n",
    "    U = expm(1j*H*t)\n",
    "    return U\n",
    "\n",
    "def random_Quantum_state(N_qubits):\n",
    "    #### generate a random unistocastic matrix\n",
    "    return random_Operator_matrix(N_qubits=N_qubits)[:,0]\n",
    "\n",
    "def random_Probability_matrix(N_qubits):\n",
    "    #### for a random probability matrix\n",
    "    probability_matrix = np.zeros((2**N_qubits,2**N_qubits))\n",
    "    for i in range(2**N_qubits):\n",
    "        column = np.random.uniform(0,1, size=(2**N_qubits))\n",
    "        probability_matrix[:,i] = column/sum(column)\n",
    "    return probability_matrix\n",
    "\n",
    "def prob_matrix_check(matrix, decimals):\n",
    "    col = [np.round(sum(matrix[:,i]), decimals=decimals)==1 for i in range(len(matrix))]\n",
    "    row = [np.round(sum(matrix[i,:]), decimals=decimals)==1 for i in range(len(matrix))]\n",
    "\n",
    "    if all(col):\n",
    "        if all(row):\n",
    "            return True, True\n",
    "        else:\n",
    "            return False, True\n",
    "    elif all(row):\n",
    "        return True, False\n",
    "    return False, False"
   ]
  },
  {
   "cell_type": "code",
   "execution_count": 53,
   "metadata": {},
   "outputs": [
    {
     "ename": "ValueError",
     "evalue": "too many values to unpack (expected 2)",
     "output_type": "error",
     "traceback": [
      "\u001b[0;31m---------------------------------------------------------------------------\u001b[0m",
      "\u001b[0;31mValueError\u001b[0m                                Traceback (most recent call last)",
      "\u001b[1;32m/Users/valerio/Documents/project_IBM_01/IBM_git/matrices_analysis/CIC.ipynb Cell 3'\u001b[0m in \u001b[0;36m<cell line: 5>\u001b[0;34m()\u001b[0m\n\u001b[1;32m      <a href='vscode-notebook-cell:/Users/valerio/Documents/project_IBM_01/IBM_git/matrices_analysis/CIC.ipynb#ch0000002?line=2'>3</a>\u001b[0m \u001b[39m# generate a random probability matrix\u001b[39;00m\n\u001b[1;32m      <a href='vscode-notebook-cell:/Users/valerio/Documents/project_IBM_01/IBM_git/matrices_analysis/CIC.ipynb#ch0000002?line=3'>4</a>\u001b[0m prob_matrix \u001b[39m=\u001b[39m random_Probability_matrix(N_qubits\u001b[39m=\u001b[39mN_qubits)\n\u001b[0;32m----> <a href='vscode-notebook-cell:/Users/valerio/Documents/project_IBM_01/IBM_git/matrices_analysis/CIC.ipynb#ch0000002?line=4'>5</a>\u001b[0m oper_matrix, H \u001b[39m=\u001b[39m random_Operator_matrix(N_qubits\u001b[39m=\u001b[39mN_qubits)\n\u001b[1;32m      <a href='vscode-notebook-cell:/Users/valerio/Documents/project_IBM_01/IBM_git/matrices_analysis/CIC.ipynb#ch0000002?line=6'>7</a>\u001b[0m U_tilde \u001b[39m=\u001b[39m prob_matrix\n\u001b[1;32m      <a href='vscode-notebook-cell:/Users/valerio/Documents/project_IBM_01/IBM_git/matrices_analysis/CIC.ipynb#ch0000002?line=7'>8</a>\u001b[0m Matrix(U_tilde)\n",
      "\u001b[0;31mValueError\u001b[0m: too many values to unpack (expected 2)"
     ]
    }
   ],
   "source": [
    "N_qubits = 2\n",
    "\n",
    "# generate a random probability matrix\n",
    "prob_matrix = random_Probability_matrix(N_qubits=N_qubits)\n",
    "oper_matrix, H = random_Operator_matrix(N_qubits=N_qubits)\n",
    "\n",
    "U_tilde = prob_matrix\n",
    "Matrix(U_tilde)"
   ]
  },
  {
   "cell_type": "code",
   "execution_count": 54,
   "metadata": {},
   "outputs": [
    {
     "data": {
      "text/plain": [
       "1.1905161854983823"
      ]
     },
     "execution_count": 54,
     "metadata": {},
     "output_type": "execute_result"
    }
   ],
   "source": [
    "sum(U_tilde[2,:])"
   ]
  },
  {
   "cell_type": "code",
   "execution_count": 55,
   "metadata": {},
   "outputs": [
    {
     "data": {
      "text/latex": [
       "$\\displaystyle \\left[\\begin{matrix}0.37818703509011 - 0.328413783679985 i & -0.571121903332549 - 0.0637955485468328 i & -0.141389026100558 - 0.53978965608713 i & -0.274976880147969 - 0.178585661691882 i\\\\0.0216309032747281 - 0.230009080712133 i & 0.60122969708341 - 0.310119659735122 i & -0.0387309879040478 - 0.0847406988720207 i & -0.692952590541943 + 0.0105927614959651 i\\\\-0.672642726535163 - 0.387824818471019 i & 0.0700987323924767 - 0.0543903521525524 i & 0.328234286432095 - 0.441135468763353 i & 0.225592076639786 - 0.189845980451659 i\\\\0.0229572318776793 - 0.303913668850225 i & 0.0872583171507673 - 0.443409958061256 i & -0.555258358305139 + 0.263258621799863 i & 0.367922514534626 - 0.435774161062215 i\\end{matrix}\\right]$"
      ],
      "text/plain": [
       "Matrix([\n",
       "[  0.37818703509011 - 0.328413783679985*I, -0.571121903332549 - 0.0637955485468328*I,    -0.141389026100558 - 0.53978965608713*I,  -0.274976880147969 - 0.178585661691882*I],\n",
       "[0.0216309032747281 - 0.230009080712133*I,    0.60122969708341 - 0.310119659735122*I, -0.0387309879040478 - 0.0847406988720207*I, -0.692952590541943 + 0.0105927614959651*I],\n",
       "[-0.672642726535163 - 0.387824818471019*I, 0.0700987323924767 - 0.0543903521525524*I,    0.328234286432095 - 0.441135468763353*I,   0.225592076639786 - 0.189845980451659*I],\n",
       "[0.0229572318776793 - 0.303913668850225*I,  0.0872583171507673 - 0.443409958061256*I,   -0.555258358305139 + 0.263258621799863*I,   0.367922514534626 - 0.435774161062215*I]])"
      ]
     },
     "execution_count": 55,
     "metadata": {},
     "output_type": "execute_result"
    }
   ],
   "source": [
    "C_CIC_ideal = oper_matrix\n",
    "Matrix(C_CIC_ideal)"
   ]
  },
  {
   "cell_type": "code",
   "execution_count": 56,
   "metadata": {},
   "outputs": [
    {
     "data": {
      "text/plain": [
       "0.9999999999999998"
      ]
     },
     "execution_count": 56,
     "metadata": {},
     "output_type": "execute_result"
    }
   ],
   "source": [
    "sum(np.abs(C_CIC_ideal[2,:])**2)"
   ]
  },
  {
   "cell_type": "code",
   "execution_count": 57,
   "metadata": {},
   "outputs": [],
   "source": [
    "\n",
    "C_CIC = U_tilde*np.abs(np.linalg.inv(U_tilde))**2\n",
    "C_NIC = U_tilde"
   ]
  },
  {
   "cell_type": "markdown",
   "metadata": {},
   "source": [
    "verifico che il prodotto di una matrice di ampiezze per uno stato quantistico modulo quadro è uguale al prodotto dei moduli quadri"
   ]
  },
  {
   "cell_type": "code",
   "execution_count": 58,
   "metadata": {},
   "outputs": [
    {
     "ename": "ValueError",
     "evalue": "too many values to unpack (expected 2)",
     "output_type": "error",
     "traceback": [
      "\u001b[0;31m---------------------------------------------------------------------------\u001b[0m",
      "\u001b[0;31mValueError\u001b[0m                                Traceback (most recent call last)",
      "\u001b[1;32m/Users/valerio/Documents/project_IBM_01/IBM_git/matrices_analysis/CIC.ipynb Cell 9'\u001b[0m in \u001b[0;36m<cell line: 2>\u001b[0;34m()\u001b[0m\n\u001b[1;32m      <a href='vscode-notebook-cell:/Users/valerio/Documents/project_IBM_01/IBM_git/matrices_analysis/CIC.ipynb#ch0000007?line=0'>1</a>\u001b[0m psi \u001b[39m=\u001b[39m random_Quantum_state(N_qubits\u001b[39m=\u001b[39mN_qubits)\n\u001b[0;32m----> <a href='vscode-notebook-cell:/Users/valerio/Documents/project_IBM_01/IBM_git/matrices_analysis/CIC.ipynb#ch0000007?line=1'>2</a>\u001b[0m C, _ \u001b[39m=\u001b[39m random_Operator_matrix(N_qubits\u001b[39m=\u001b[39mN_qubits)\n\u001b[1;32m      <a href='vscode-notebook-cell:/Users/valerio/Documents/project_IBM_01/IBM_git/matrices_analysis/CIC.ipynb#ch0000007?line=3'>4</a>\u001b[0m Matrix(np\u001b[39m.\u001b[39mabs(np\u001b[39m.\u001b[39mdot(C, psi)))\n",
      "\u001b[0;31mValueError\u001b[0m: too many values to unpack (expected 2)"
     ]
    }
   ],
   "source": [
    "psi = random_Quantum_state(N_qubits=N_qubits)\n",
    "C, _ = random_Operator_matrix(N_qubits=N_qubits)\n",
    "\n",
    "Matrix(np.abs(np.dot(C, psi)))"
   ]
  },
  {
   "cell_type": "code",
   "execution_count": 59,
   "metadata": {},
   "outputs": [
    {
     "data": {
      "text/latex": [
       "$\\displaystyle \\left[\\begin{matrix}0.900038127824568\\\\0.744855340638529\\\\0.807696479219558\\\\0.929907499050395\\end{matrix}\\right]$"
      ],
      "text/plain": [
       "Matrix([\n",
       "[0.900038127824568],\n",
       "[0.744855340638529],\n",
       "[0.807696479219558],\n",
       "[0.929907499050395]])"
      ]
     },
     "execution_count": 59,
     "metadata": {},
     "output_type": "execute_result"
    }
   ],
   "source": [
    "Matrix(np.dot(np.abs(C), np.abs(psi)))"
   ]
  },
  {
   "cell_type": "code",
   "execution_count": 60,
   "metadata": {},
   "outputs": [],
   "source": [
    "C_1 = random_Operator_matrix(N_qubits=N_qubits)\n",
    "U = random_Operator_matrix(N_qubits=N_qubits)"
   ]
  },
  {
   "cell_type": "code",
   "execution_count": 61,
   "metadata": {},
   "outputs": [
    {
     "data": {
      "text/latex": [
       "$\\displaystyle \\left[\\begin{matrix}0.488226447402154 & 0.207987901579537 & 0.0644004347983916 & 0.239385216219917\\\\0.167549440308846 & 0.0146879046779399 & 0.318156129308043 & 0.499606525705171\\\\0.240375100560659 & 0.0740394200358972 & 0.566055072700571 & 0.119530406702873\\\\0.10384901172834 & 0.703284773706626 & 0.0513883631929946 & 0.14147785137204\\end{matrix}\\right]$"
      ],
      "text/plain": [
       "Matrix([\n",
       "[0.488226447402154,  0.207987901579537, 0.0644004347983916, 0.239385216219917],\n",
       "[0.167549440308846, 0.0146879046779399,  0.318156129308043, 0.499606525705171],\n",
       "[0.240375100560659, 0.0740394200358972,  0.566055072700571, 0.119530406702873],\n",
       "[ 0.10384901172834,  0.703284773706626, 0.0513883631929946,  0.14147785137204]])"
      ]
     },
     "execution_count": 61,
     "metadata": {},
     "output_type": "execute_result"
    }
   ],
   "source": [
    "Matrix(np.abs(np.dot(C_1,U))**2)"
   ]
  },
  {
   "cell_type": "code",
   "execution_count": 62,
   "metadata": {},
   "outputs": [
    {
     "data": {
      "text/latex": [
       "$\\displaystyle \\left[\\begin{matrix}0.308043651376916 & 0.255486044382712 & 0.164980716904135 & 0.271489587336236\\\\0.26138756523582 & 0.163055589637508 & 0.297536491693895 & 0.278020353432777\\\\0.237830565162642 & 0.248891760089367 & 0.250734871036574 & 0.262542803711417\\\\0.192738218224622 & 0.332566605890412 & 0.286747920365396 & 0.18794725551957\\end{matrix}\\right]$"
      ],
      "text/plain": [
       "Matrix([\n",
       "[0.308043651376916, 0.255486044382712, 0.164980716904135, 0.271489587336236],\n",
       "[ 0.26138756523582, 0.163055589637508, 0.297536491693895, 0.278020353432777],\n",
       "[0.237830565162642, 0.248891760089367, 0.250734871036574, 0.262542803711417],\n",
       "[0.192738218224622, 0.332566605890412, 0.286747920365396,  0.18794725551957]])"
      ]
     },
     "execution_count": 62,
     "metadata": {},
     "output_type": "execute_result"
    }
   ],
   "source": [
    "Matrix(np.dot(np.abs(C_1)**2,np.abs(U)**2))"
   ]
  },
  {
   "cell_type": "code",
   "execution_count": null,
   "metadata": {},
   "outputs": [],
   "source": []
  }
 ],
 "metadata": {
  "interpreter": {
   "hash": "aee8b7b246df8f9039afb4144a1f6fd8d2ca17a180786b69acc140d282b71a49"
  },
  "kernelspec": {
   "display_name": "Python 3.10.2 64-bit",
   "language": "python",
   "name": "python3"
  },
  "language_info": {
   "codemirror_mode": {
    "name": "ipython",
    "version": 3
   },
   "file_extension": ".py",
   "mimetype": "text/x-python",
   "name": "python",
   "nbconvert_exporter": "python",
   "pygments_lexer": "ipython3",
   "version": "3.10.2"
  },
  "orig_nbformat": 4
 },
 "nbformat": 4,
 "nbformat_minor": 2
}
