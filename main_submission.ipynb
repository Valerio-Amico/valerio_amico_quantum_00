{
 "cells": [
  {
   "cell_type": "markdown",
   "metadata": {},
   "source": [
    "# Open-Science-prize quantum challenge 2021/22 by Quantum Polo Gang (Amico Valerio, Bensch Fabio, Pariente Ruben)"
   ]
  },
  {
   "cell_type": "markdown",
   "metadata": {},
   "source": [
    "### Note\n",
    "\n",
    "\n",
    "Our solution is for the *Qiskit default challenge*.\n",
    "\n",
    "\n",
    "In chapter 3 we specify which solution we choose for the fidelity score.\n",
    "\n",
    "# Contents\n",
    "\n",
    "* Introduction\n",
    "\n",
    "* 1) Decomposition\n",
    "\n",
    "        * 1.1) Single State Decomposition (SSD)\n",
    "        * 1.2) Hilbert Space Decomposition (HSD)\n",
    "\n",
    "* 2) Mitigation\n",
    "\n",
    "        * 2.1) Circuit Itself Calibration (CIC)\n",
    "        * 2.2) Noisy Identity Calibration (NIC)\n",
    "\n",
    "* 3) Results\n",
    "\n",
    "        * 3.1) SSD results\n",
    "        * 3.2) HSD results"
   ]
  },
  {
   "cell_type": "markdown",
   "metadata": {},
   "source": [
    "# Introduction\n",
    "\n",
    "We decided to split the XXX Hamiltonian into two pieces $H=H_1+H_2$ (instead of 6):\n",
    "$$    H_1=I^{(0)} \\otimes \\sigma_x^{(1)} \\otimes \\sigma_x^{(2)}  + I^{(0)}  \\otimes  \\sigma_y^{(1)} \\otimes \\sigma_y^{(2)} + I^{(0)}  \\otimes \\sigma_z^{(0)} \\otimes \\sigma_z^{(1)}$$\n",
    "$$ H_2=\\sigma_x^{(0)}\\otimes \\sigma_x^{(1)} \\otimes I^{(2)}  +  \\sigma_y^{(0)} \\otimes \\sigma_y^{(1)} \\otimes I^{(2)} + \\sigma_z^{(0)} \\otimes \\sigma_z^{(1)} \\otimes I^{(2)}$$\n",
    "\n",
    "so using Trotter's formula (for a fixed number of steps $N$):\n",
    "$$ e^{-iHt}=e^{-i(H_1 + H_2)t} \\simeq \\left(e^{-iH_1\\frac{t}{N}}e^{-iH_2\\frac{t}{N}}\\right)^N \\equiv (T_{step})^N \\equiv T(t)$$\n",
    "\n",
    "The main idea is to use Unitary Decomposition in a similar way as the one proposed in \\[1, 2\\], instead of repeating a single $T_{step}$ N times that increase dramatically the depth of the circuit. In particular instead of using Quantum Shannon decomposition (QSD) we look for a Unitary Decomposition for which the gate $T_{step}^{N}$ has the same minimal depth for every time simulation and number of Trotter Steps.\n",
    "\n",
    "In conclusion we are looking for a gate $U_{best}$ such that:\n",
    "$$U_{best}(t) \\ket{110} = T(t) \\ket{110}$$\n",
    "\n",
    "This equality can be fulfilled in two ways:\n",
    "\n",
    "* $U_{best} = T$ (equality between operators)\n",
    "* $U_{best} \\neq T$, but the two different operators applied to the same vector yield the same result\n",
    "\n",
    "We followed both approaches, the former will be called *Hilbert Space Decomposition* (HSD) while for the latter we chose the name of *Single State Decomposition* (SSD).\n",
    "\n",
    "For HSD the best circuit we found is composed by 11 CNOTs (14 for the Jakarta geometry) while for the SSD approach we reached an even better 4 CNOTs solution.\n",
    "\n",
    "Furthermore, referring to qiskit's measurement error mitigation strategy (*https://qiskit.org/textbook/ch-quantum-hardware/measurement-error-mitigation.html*), we tried to model also the noise introduced by the circuit instead of limiting ourselves to measurement error only.\n",
    "\n",
    "### References\n",
    "\\[1\\] *Efficient decomposition of unitary matrices in quantum circuit compiler*, [arXiv:2101.02993](https://arxiv.org/abs/2101.02993)\n",
    "\n",
    "\\[2\\] *Constant-Depth Circuit for Dynamic Simulations of Materials on Quantum Computers*, [arXiv:2103.07429](https://arxiv.org/abs/2103.07429)"
   ]
  },
  {
   "cell_type": "markdown",
   "metadata": {},
   "source": [
    "# 1) Decompositions\n",
    "\n",
    "We suggest two possible decomposition methods. They are both attempts to reconduce the trotterized evolution to two-qubit gates, since those are decomposed more efficiently. \n",
    "\n",
    "## 1.1) Single State Decomposition\n",
    "\n",
    "We start from observing that the Hamiltonian preserves the magnetization:\n",
    "$$m = \\sum_i \\sigma_z^{(i)}\\; ; \\;\\;\\;  [H,m]=0$$\n",
    "The strategy is to decompose the 3-qubits gate into the composition of two 2-qubits gates, as described in \\[3\\] , \\[4\\], that has form:\n",
    "$$U_{best} = \\left( \\mathbb{I}^{(0)} \\otimes M^{(1,2)} \\right) \\cdot \\left( M^{(0,1)} \\otimes \\mathbb{I}^{(2)}  \\right)  $$\n",
    "We generalized the Givens Rotation Gate \\[3, fig. 2\\] to a SU(2) operator in the subspace $\\ket{01},\\ket{10}$, obtaining:\n",
    "\n",
    "$$ M(\\omega,\\theta, \\phi) = \\left[\\begin{matrix}e^{ -i \\left( \\phi + \\theta\\right)} & 0 & 0 & 0\\\\ 0 & e^{-  i \\left(\\phi + \\theta\\right)} \\cos{\\left(\\omega \\right)} & - e^{-  i \\left( \\phi - \\theta\\right)} \\sin{\\left(\\omega \\right)} & 0\\\\ 0 & e^{ i \\left( \\phi - \\theta\\right)} \\sin{\\left(\\omega \\right)} & e^{ i \\left( \\phi + \\theta\\right)} \\cos{\\left(\\omega \\right)} & 0\\\\ 0 & 0 & 0 & e^{ i \\left( \\phi + \\theta\\right)}\\end{matrix}\\right] $$\n",
    "\n",
    "$M$ preserves the magnetization too and can be decomposed using just 2 c-nots.\n",
    "\n",
    "Fixed the initial state to $\\ket{110}$, we have that $M^{(1,2)}M^{(0,1)}\\ket{110}$ spans the whole magnetization eigenspace. \n",
    "$$U_{best} = \\left(  \\mathbb{I} \\otimes M(\\omega_2,\\theta_2, \\phi_2)\\right)     \\cdot     \\left( M(\\omega_1,\\theta_1, \\phi_1) \\otimes \\mathbb{I} \\right)   $$\n",
    "\n",
    "So taking: $$T\\ket{110} = \\alpha \\ket{011} + \\beta \\ket{101} + \\gamma \\ket{110}$$\n",
    "\n",
    "where the matrix $T(t)$ is computed numerically and: \n",
    "\n",
    "$$\\begin{align*}\n",
    "\n",
    "U_{best}\\ket{110} =\\; &e^{i(\\theta_1 - \\phi_1 + \\theta_2 - \\phi_2)}\\sin(\\omega_1)\\sin(\\omega_2) \\ket{011} +\\\\\n",
    "& e^{i(\\theta_1-\\phi_1-\\theta_2-\\phi_2-\\pi)}\\sin(\\omega_1)\\cos(\\omega_2) \\ket{101} + \\\\\n",
    "&e^{i(\\theta_1+\\phi_1+\\theta_2+\\phi_2)}\\cos(\\omega_2) \\ket{110}\n",
    "\n",
    "\\end{align*}$$\n",
    "\n",
    "Matching the amplitudes and solving the system for $\\{\\omega, \\theta, \\phi \\}_{1,2}$ we get the parameters for the gates $M^{(0,1)}$ and $M^{(1,2)}$.\n",
    "\n",
    "### References\n",
    "\n",
    "\\[3\\] *Local, Expressive, Quantum-Number-Preserving VQE Ansatze for Fermionic Systems* [arXiv:2104.05695](https://arxiv.org/abs/2104.05695)\n",
    "\n",
    "\\[4\\] *Universal quantum circuits for quantum chemistry* [arXiv:2106.13839](https://arxiv.org/abs/2106.13839)"
   ]
  },
  {
   "cell_type": "markdown",
   "metadata": {},
   "source": [
    "\n",
    "## Circuits: \n"
   ]
  },
  {
   "cell_type": "code",
   "execution_count": 17,
   "metadata": {},
   "outputs": [],
   "source": [
    "import numpy as np\n",
    "# next we assume these values of TIME and N_STEPS for all the code\n",
    "N_STEPS = 99\n",
    "# since the calibration doesn't depend on time\n",
    "# we can choose different times for evolution and calibration circuits\n",
    "# this is explained in chapter 2\n",
    "TIME = np.pi\n",
    "CALIBRATION_TIME = np.pi\n",
    "# the initial state is fixed to 110"
   ]
  },
  {
   "cell_type": "code",
   "execution_count": 18,
   "metadata": {},
   "outputs": [
    {
     "data": {
      "image/png": "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",
      "text/plain": [
       "<Figure size 554.142x201.171 with 1 Axes>"
      ]
     },
     "execution_count": 18,
     "metadata": {},
     "output_type": "execute_result"
    }
   ],
   "source": [
    "from qiskit import QuantumCircuit, QuantumRegister, ClassicalRegister\n",
    "from qiskit.circuit import Parameter\n",
    "\n",
    "def get_M(theta, phi, omega, name=\"M\"): # defining the M circuit\n",
    "\n",
    "    qr=QuantumRegister(2, name=\"q_\")\n",
    "    M_qc=QuantumCircuit(qr, name=name)\n",
    "\n",
    "    M_qc.rz(2*theta,qr[1])\n",
    "    M_qc.h(qr[0])\n",
    "    M_qc.cx(qr[0],qr[1])\n",
    "    M_qc.ry(omega,qr)\n",
    "    M_qc.cx(qr[0],qr[1])\n",
    "    M_qc.h(qr[0])\n",
    "    M_qc.rz(2*phi,qr[1])\n",
    "\n",
    "    return M_qc\n",
    "\n",
    "theta_1, phi_1, omega_1  = Parameter(r'$\\theta_1$'), Parameter(r'$\\phi_1$'), Parameter(r'$\\omega_1$')\n",
    "M1_qc = get_M(theta_1, phi_1, omega_1, name=r\"$M_1$\")\n",
    "\n",
    "M1_qc.draw(output=\"mpl\", style={\"figwidth\":6, \"fontsize\":11})"
   ]
  },
  {
   "cell_type": "code",
   "execution_count": 19,
   "metadata": {},
   "outputs": [
    {
     "data": {
      "image/png": "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",
      "text/plain": [
       "<Figure size 461.785x279.7 with 1 Axes>"
      ]
     },
     "execution_count": 19,
     "metadata": {},
     "output_type": "execute_result"
    }
   ],
   "source": [
    "# here is defined the second M gate.\n",
    "theta_2, phi_2, omega_2  = Parameter(r'$\\theta_2$'), Parameter(r'$\\phi_2$'), Parameter(r'$\\omega_2$')\n",
    "M2_qc = get_M(theta_2, phi_2, omega_2, name=r\"$M_2$\")\n",
    "\n",
    "# builds the circuit for the single state decomposition (SSD)\n",
    "qr_U_best_SSD = QuantumRegister(3, name = \"q_\")\n",
    "qc_U_best_SSD = QuantumCircuit(qr_U_best_SSD, name = r\"$U_{best}$\")\n",
    "\n",
    "qc_U_best_SSD.append(M1_qc, [qr_U_best_SSD[0], qr_U_best_SSD[1]])\n",
    "qc_U_best_SSD.append(M2_qc, [qr_U_best_SSD[1], qr_U_best_SSD[2]])\n",
    "\n",
    "qc_U_best_SSD.draw(output = \"mpl\", style={\"figwidth\":5, \"fontsize\":11})"
   ]
  },
  {
   "cell_type": "markdown",
   "metadata": {},
   "source": [
    "## 1.2) Hilbert Space Decomposition\n",
    "This decomposition is based on the observation that the single trotter step can be reduced into a 2-qubits gate by a permutation of the basis elements $B T_{step} B^{\\dagger}=\\mathbb{I}^{(2)} \\otimes D^{(1,0)}_{step}$\n",
    "\n",
    "so for the iteration:\n",
    "\n",
    "$$B T_{step}^N B^{\\dagger} = \\mathbb{I} \\otimes D =T_{B}(t)$$\n",
    "\n",
    "where $D=D_{step}^{N}$ and $B$ is the matrix associated with the permutation $\\left(\\begin{matrix}0 & 1 & 2 & 3 & 4\\\\3 & 2 & 1 & 4 & 0 \\end{matrix}\\right)$, that in matrix form is\n",
    "\n",
    "$$B = \\left[\n",
    "\\begin{matrix}\n",
    "0 & 0 & 0 & 0 & 1 & 0 & 0 & 0\\\\\n",
    "0 & 0 & 1 & 0 & 0 & 0 & 0 & 0\\\\\n",
    "0 & 1 & 0 & 0 & 0 & 0 & 0 & 0\\\\\n",
    "1 & 0 & 0 & 0 & 0 & 0 & 0 & 0\\\\\n",
    "0 & 0 & 0 & 1 & 0 & 0 & 0 & 0\\\\\n",
    "0 & 0 & 0 & 0 & 0 & 1 & 0 & 0\\\\\n",
    "0 & 0 & 0 & 0 & 0 & 0 & 1 & 0\\\\\n",
    "0 & 0 & 0 & 0 & 0 & 0 & 0 & 1\\end{matrix}\n",
    "\\right]$$\n",
    "\n",
    "Therefore\n",
    "\n",
    "$$ T_{B}(t) = B T(t) B^{\\dagger}$$\n",
    "\n",
    "and the final circuit is\n",
    "$$T= B^{\\dagger}\\left(\\mathbb{I} \\otimes D\\right) B$$\n",
    "\n",
    "\n",
    "The initial state can be prepared already in the permutated basis to avoid the noise introduced by a change of basis gate.\n",
    "$$ \\ket{\\psi}_{prepared} = B\\ket{\\psi}_{init} $$\n",
    "\n",
    "Then we use `qiskit.unitary()` and `qiskit.transpile()` functions to decompose $D$ (up to 3 CNOTs), and we assemble the circuit for B using the permutation gates: x, CNOT and Toffoli.\n",
    "\n",
    "We also note that $B\\ket{110} = \\ket{110}$.\n",
    "\n",
    "This decomposition works for a generic initial state of the Hilbert space. \n",
    "\n",
    "\n",
    "## Circuits:"
   ]
  },
  {
   "cell_type": "code",
   "execution_count": 20,
   "metadata": {},
   "outputs": [
    {
     "data": {
<<<<<<< HEAD:main_submission.ipynb
      "image/png": "iVBORw0KGgoAAAANSUhEUgAAAbAAAACiCAYAAAAgJ5gOAAAAOXRFWHRTb2Z0d2FyZQBNYXRwbG90bGliIHZlcnNpb24zLjUuMSwgaHR0cHM6Ly9tYXRwbG90bGliLm9yZy/YYfK9AAAACXBIWXMAAAsTAAALEwEAmpwYAAAiIUlEQVR4nO3deXxM9/7H8dfMZJdIpCIRIlEauxBVpQ3R0lIqettbtOWiRSm6oPpzKW1dS6p10S2Xi64XXZS6pTRCqTZoLbHUWpGEkFxJJJbIZOb3xzASsszEzJxz4vN8POYhc9aPb07mPeec7zlHZzabzQghhBAao1e6ACGEEKIqJMCEEEJokgSYEEIITZIAE0IIoUkSYEIIITRJAkwIIYQmSYAJIYTQJAkwIYQQmiQBJoQQQpMkwIQQQmiSBJgQQghNkgATQgihSRJgQgghNEkCTAghhCZJgAkhhNAkCTAhhBCaJAEmhBBCkyTAhBBCaJIEmBBCCE2SABNCCKFJEmBCCCE0SQJMCCGEJkmACSGE0CQJMCGEEJokASaEEEKTJMCEEEJokpvSBQihZflGIwcK8l2+3ua+fvi52f7na7wCF7KdWJBQVI3a4OZh+/Ra2W4rIwEmxC04UJBPzI5fXb7eLe3vpUNALZunv5ANO75wYkFCUe2fAv9Q26fXynZbGTmEKIQQQpNkD8xFLl2B/xWAyQw+HnCHL+h0SldVPVwuguz8620b6At6aVshqj0JMCfKzodtR2BvuuXnkrzcoVEd6NQYmoWCXvaF7ZJzwdK2e9Lg7PnS47zcoWEQdGwMLeqBQdpWiGpJAswJrhjhv3vgpz/AXM40l4tgf4blVTcAnuoIYYGurFKbioph7V5IOlBx2x48ZXkF14QBHSGitkvLFEK4gHw3dbCcCzBnLWyuILxudDoX5q6z7FGI8uVdhHfXwcYKwutGZ87DvB8svw8hRPUie2AOdP4SLNgA5y7YP6/JDCu2W87d3NvY8bVpXcFleD/x5sOFtjADK3+znHPs3MThpQkhFKKaPbA9e/YQFxeHv78/NWvWpG/fvpw+fRo/Pz/69++vdHmVMpth2a8Vh9f0xy2viny1AzLzHFtbdfDVjorDy5a2/fY3SD/n2LqEEMpRRYAlJiZy7733cujQISZPnsyMGTNIT0+nZ8+eFBQU0KZNG6VLrNSuVDhwquJp3N0sr4oYTbA82RKIwmJfOuw+WfE0trSt6eqXDCXa1mw2Y3z1/zC+MgGzyVRqnHHqmxhfGIvZaHR5XckHv2fEu2145DVPnpkRwVeb33V5DUK91LrdXqN4gGVlZdGvXz+io6PZtWsXEyZMYPTo0SQmJnLypOVTSwsBtsmB51j+zIKT/3Pc8rQu6aDjlpWeA0fPOG55ttLpdBgmjMOcmopp+ZfW4cVrvsf8+y4MEyegc+AdCmxxKG0nU5fGcU/Tnnz48m4Gdp/G4nWT+O6Xj1xah1AvNW63JSkeYLNnzyYnJ4clS5bg7e1tHe7v7090dDSg/gA7leP4wPn1mGOXp1VZ+XDsrGOXqVTb6oJqYxjzAqZPP8d89BjmtHRMCQvRDxuKrkGYy+v5+qd3aRLWnmcfmUl4cDMebj+YvveNYXnSLJfXItRLbdttSYoH2LJly4iJiSEyMrLM8cHBwYSEhNi8PKPRyIsvvkhgYCABAQE8++yzXL582VHllulPJ9xj7kSW45epRc5ohxMK3hNQH9sFXecYjLPiKZ4Vj65VSwx9HlWklv0nfubuJj1KDbu7SQ/O5KSSlZuuSE1CndS03ZaqS8mVZ2ZmkpGRQbt27W4aZzKZSElJsXvva8aMGSQlJZGSksKRI0c4cOAAr776qoMqLtupHMcvM/M8GIsdv1ytOZXr+GX+r8ByrZhSDKNHwpmzmNMzMIx/WbE6zuWfJtCv9JfDa+/P5Z9WoiShYmrZbktStBv9hQuWLnu6Mu6ptGrVKs6ePWt3gC1atIj4+Hjq1asHwLRp0/jrX//K3LlzMRgMlc4fFBTExYsX7Vpn7NB/c9e9pXtKTn/85k4FHldXP7vfzcsoMsLkr6+/N5shKDiUK5du7y6J9z+zgGadh5YadqttCxAW0ZiLubf+IW2KvAviZ9o3T2KS5YfCQsxHjqLrcI/d643t2hX9YdsvHIys3563h22yez1CG2K7xnI4fYfN06t5u/Xx8SEry7ZDL4rugYWFhWEwGNi8eXOp4ampqYwZMwaw7/xXbm4uaWlppeaJjo4mPz+fEydOOKDispmMhU5ZbnHxFacsV0uc1rZGZdrWfPIkpkWLMYwcgT6uD8Vz52HOU+ZLSqBfXc7lZ5YallNwxjpOiGvUtN2WpOgemIeHB4MGDWLJkiXExcXRq1cv0tLSWLhwIcHBwWRkZNgVYPn5lhsOBgQEWIdd+/nauMrYmvwlJe6H73aXHnbjN364vncwcXnlywzwgfM58gCnLYfg652lh91q29bwhP9lnnTIzZSTc3NsfiyF2WjEOGsOurZt0D/SA/OVK5h+30XxvAW4vT7ZrvVuSkqy67EUeadufpxKi4j72HnoBwZ2f906bOcf6wiuFU5QQH276hHK2pS0ya7HqWhlu62M4p045s+fz/Dhw0lOTmbcuHEkJyezcuVKQkND8fHxKbdzR1n8/PwAyCvxzSA3N7fUOGcIu8Pxy2zghGVqkTPaNixQmScBmD7+FLKzMbz8IgA6Dw/cXhuP+dftmDYkuryexzu/zKG07Sxe+3dOnv2D9Ts/5tufF9Cv62sur0Wol9q225IUDzBfX18SEhLIzMwkPz+f9evX07FjR/bt20erVq3Q23Gb9oCAAMLCwti9e7d12K5du/Dz8yMiIsLxxV/VqA7U9K58Onu0DXfs8rSqQaDl0TOOpETbmvbtx/Tl1xhefhFdrQDrcF2jRugHPk3xBx9hPuvg6wUq0SSsPW8M/pbkg2t4/t0oPv7hdYb0+AePdnzepXUI9VLjdluSKu+FmJubS3p6Or169bJ73ueee46ZM2cSExODu7s706ZNY/DgwTZ14Kgqgx463QXr9jpmeTW9obWyl1eohl4P990Fq3c5Znk+HsoEmL5lC/Tr1pQ5zjCgH4YBZfQ+cYEOzXrRoZn9f2fi9qDW7fYaVQZYSkoKcL0DR3FxsU3npgIDA5k0aRLZ2dm0aNECk8nEE088wezZs51ZLgBdm8HO45BdUP40RTbeceXxu+UZViV1bgLbj1d8j0hb2/axduChyq1eCGEvVf4p3xhgaWlpNGzYsNL5kpKSiI2NZf78+cyfP9+ZJd7E083yTK/3E6HYVPY0ZXU+uFH7OyGqgWNr0zo3AzzdEeatt9wrsiy2tG1UA7i78s1ICKERqgywUaNGMWrUKOv7kJAQNmzYUOl8UVFRziyrUnfWgSExsGRL+SFWkdZh0L+D4+uqDsLugOdi4d+bLQ+1tFfzUHimkzKdN4QQzqHKALuRl5cX3bp1U7oMm7SsDy8+BF/8YvtjUQx66NnachhSDh2Wr2ldeOlhS9tm2Hj3E70OHmoJ3VtK2wpR3WgiwLSmwR0wvqflprFbD5cfZB5ulkNaXZpCcE3X1qhV9WrBKz0g+RhsPVL+bbzcDdAuwtK2dQNcWaEQwlUkwJzEzQD3R1p60GXnQ9o5+HybZVzfdpYP4vqB0qGgKq71+uzY2HJfw7Rz8NnPlicvx0Vb2rV+LfB0V7pSIYQzyUEVJ9PpIKgmREdYPngNeohpYjlfJuF1a3Q6qO1n6RZv0IOb3rLH1aiOhJcQtwMJMCGEEJokASaEEEKTJMCEEEJokpyFEeIWNPf1Y0v7exVZrxBVVV22WwkwIW6Bn5ubQx8PIYQrVJftVg4hCiGE0CQJMCGEEJokASaEEEKTJMCEEEJokgSYEEIITZIAE0IIoUkSYEIIITRJAkwIIYQmSYAJIYTQJAkwIYQQmiQBJoQQQpPkXohC3IJ8o5EDBfkuX29zXz/83G7vP989xzYx/qOufPH3NIIC6iu+nMrELxtMdl468SN+dNo6bFVdttvb+y9AiFt0oCCfmB2/uny9W9rfWy1uxmqrhye68coTi3i4/WDrsObhnVg+5TQBvnVuadmOWo6WVJftVgJMCKFJ7m4eBNYMUc1yhOtJgAkhnMpYXMTSH6bw42+fknchi9A7GvN0t8k80PYpALpP0DGyzz9JOf4TOw+to4Z3AE/GvspfYl4E4JkZEZhMxcxZMYQ5K4YAsOFt802H/q69nz70v3z+41scO7Wb8ODmvNr/EwD++fUIjmb8TkRISyb0W0p4cHPg5kOI4z6MZe/xzTf9P8Y/ucS6B/jt1gWs3vY+mTknCAoI46G7B9M/diIGg+Uj9fzFc8z/ZiTJB9bg5enLIx2GAWZnNvNtSQJMWJnNkJ4Dx89CRg5cugJ6PQT5QVggNKkLXu5KVym0ZvHaSazbsZgX//IRjUKj+GnvV8z6zzME+AYTfdeDAHy24Q0GPfQGzz4yk+1/rCVhzThCakXQqWUc743dQb+36jKi9zvERvWrdH1L1v2dEY++Q6BfCO+seJYZnw/A1zuAQQ+9wR01Q5n71TDmLB/CgrHJZc4/9W/fYDResb5fve19vt4ylyZh7QH4ZP00ftixhJF9/kmjem04eeYg8755nqKiywzu8RYA7654lj8zU3hz6HfU8g1m2caZ/HJgNU3C7rnV5hQlSIAJzGbYlQobD0L6ufKn83SD9nfCw63Az8t19QntunzlIt9unc/zfebSJeqvADz14CQOp+3gP4n/sAbYPc160ff+MQDUD4rkj5PJfPnTHDq1jCPANwiAGl7+Nh3qG9h9Km0bPwDA451fYfpnT/L6wK+s63qi8zje+OQvXCoswNvT96b5a/oEWn/e8cc6VmyKZ8qgr4gIacHlKxdZsSmeqYO+oX3THgDUDWzIkIen8/6qsQzu8RYZ2Uf5ef+3zBq23lrHuCcXM3Bmwyq1oSifBNhtruAyLEuGfemVT1tohK2HLWH35D0Q1cD59QltO5V9lKLiK7S6s3Op4a0bdeE/G2da3zcP71hqfIuI+/j4hylVWuedoVHWnwP9LIHXsG7rm4blFpwtM8CuOZG5n+mf9+O5XrPp2PxRAFLP7Kew6BJvfvI46HTWaU2mYq4YL5NbkEXqmQOW/1NEJ+t4dzcPmoS151JhQZX+T6JsEmC3sbxL8N4GyLKzN+2FQliyBZ5oD/dHOqc2IarKTX/9OLfuasi4GUoc+746zGQ2lbuMnIKzTFncmwfbPsNfYl6yDr82z+SBX1I/6OaN36/E3ptwPrmQ+TZlLIaFSfaHV0lf7YD9Nuy5idtXaO3GuLt5knL8p1LD9x7bTERIS+v7g6mlu3QfSN1Gg6udLADcDR6YzMXOLfaqK8ZCpi3tS1idprzQd36pcRHBLfBw8+L0uePUq934ppdBb7B2DjlwYpt1viLjFQ6l7XBJ/bcTVQXYnj17iIuLw9/fn5o1a9K3b19Onz6Nn58f/fv3V7q8amXDfkuHjYpMf9zyqsjy7XCx0HF1ierFy8OHx+4by9IfprB5z5ekZx3mi8QZbDuwigEPTLJOl3xwDd/+/B7pWUf4dusCNu1ZzhOdx1nHhwQ2ZM/RJLLzTpF3IdupNf/zqxGcO3+aUXHzyCvI4tz5TM6dz6Sw6BLenr4MeGASS9ZOYtXP75N29hAnMveTtHsZC/87EYB6tRvTsXkfFqx8gd1Hk0g9c4B3v3yOS4Wuv3C4ulPNIcTExER69+5NeHg4kydPxtvbm6VLl9KzZ08KCgpo06aN0iVW2cVC2P4nFF39Ark8GTo1hrA7lKkn/zL8uL/y6dxt2DrOX4Kkg9CrzS2XVSWXi2DH8ett+8Uv0OkuCL+j1CkKxZnNZoonTgKjEcOc2ej01787Gqe+CdnZGOa9i86Fd9fYe/wnvtr8DsdO7eZs7kkGP/wWT3eb7PD1DOn5D3R6PR+ufsnajf61AZ9ZO1UAPNP9dXYd+ZFF/32VGl7+DHsknvtbPWYdP6L3O3z43csMnBmBsbiIDW87r0v63uObOJOTypD4JqWGX+tG/0z3KQTWrMuqn98jYc04PN29qV87kofuHlxi2sXM+2YkUxb3xtPDh573PMd9LR8jOy/DaXU7gxq325J0ZrNZ8YsTsrKyaNasGU2aNOHHH3/E29sbgLy8PBo2bEhOTg5r166lR48eCldqv/Rz8EEiXLzeKxedztLz78Hm0LuN6z9of9wPa3ZXPt3sqz2WJy6veDpfL5jWF9wMt1qZfU7nWto2//L1YXodmMzQuQk81s75bZucm2PzHQ3MWdkYnx+F/onHMQywNG7xmu8xJSzE7f356BqE2bxee+9okHcKdnxxQ+0Hv2ffn1toFNqGD1e/RJ9OLzglwCrTfYKOif0/pVu7Z1y+7uqi/VPgH2r79FrZbiujikOIs2fPJicnhyVLlljDC8Df35/o6GgATe6BXS6CDxPhUlHp4de+MiQegO3HXV9XioPPWxVchlTnHtW5yRUjfLjR0qGkJNPVtv3pkKXHpJrogmpjGPMCpk8/x3z0GOa0dEwJC9EPG2rXh4CjdGj2CM8+MpPYNv1wd/N0+fqFNqhtuy1JFQG2bNkyYmJiiIwsu0tbcHAwISG23+plxYoV3H///fj6+hIREeGgKu2380+4cOV6YN1IByTuL3+8MxSbLBcpO1paBdePOcPuk5bDl6YK2i7xQMXjlaCP7YKucwzGWfEUz4pH16olhj6PKl2WEBVS63ar+DmwzMxMMjIy6Nfv5ivsTSYTKSkptG3b1q5l1qpVi9GjR3PmzBnmzp1r17xBQUFcvHjRrnnK8/Dorwhr+RA6fdnH1szA2XyoG96c/P+lOmSdlfEJqMvT8UdLDZv+eNnnuzyulj37hl9NkREmf1162PS3P6DX8gkOrLRiDw7/hIi2cegN5W/CuRehwV13k3P6oNPqMEXeBfEzK5+wBMPokRgHDMSs1+P21rQqrTe2a1f0h4/YPH1k/fa8PWxTldblbM48n3W7iO0ay+F023s5qnm79fHxISsry6blKb4HduHCBeD69RolrVq1irNnz9p9+LB79+7079+f8PBwR5RYZXo3T9BV3sR6Nw8XVGNRXpje+nJduynp3TzL3GZuns51bWsrU2KS5YfCQsxHjlY8sRAqocbtVvE9sLCwMAwGA5s3l755ZmpqKmPGWG4t48rzX7Ymvy1W/Q6bDlZ8C09PNzhxeDceLvpNFBbBxBWlh924N3WNrZ04AF4Z+zwbFj1/a8XZYe1eWJ9Scdu66eFwyjan3r/RnpPhAOaTJzEtWoxh5AjMqScpnjsPXcIH6Pz97VrvpqSkW+7EIaqPTUmbnNaJA5Tbbiuj+B6Yh4cHgwYNYufOncTFxfGvf/2LKVOm0KFDB+64w9LPXIsdOMDSVb6iD1gdcG9jXBZeAJ7uUKem45cb5uIbEHRsjKUBy6HTWe7bqKabD5uNRoyz5qBr2wb9Iz3QPzsY/GpSPG+B0qVVK3uObWLYnJb0mOjOuA9jAfjzdAqj59/DI//nxTMzImxeTvcJOrJyLb2eMs+doPsEHfv+3OqkytVJzdut4gEGMH/+fIYPH05ycjLjxo0jOTmZlStXEhoaio+PT7mdO9QuqCb0tXSivKk7tw4ICYAerVxdFTRy8HP79DqIqO3YZVYmwAeeuNvyc1ltG+RruURBTUwff2q5buZly2NCdB4euL02HvOv2zFtSHR5PZcKCziasZujGbspKr7CufxMjmbsJiNbHYeHXk3oRvyywXbPN++bkTSuF80n/3ecqX/7BoCF/30VH8+aLJ7wB++NrdodMYICwlg+5TRNG3So0vxapbbttiTFDyEC+Pr6kpCQQEJCQqnh+/bto1WrVuhdfH7FkWKbQaCvpbdh6v8sw7w9LHtn3Vsqs4fQ6S74xYGfUVENLNeCudp9kVCrhuW6tuNXj/x6uVv2zrq1gBoq6hlu2rcf05dfY5g6BV2tAOtwXaNG6Ac+TfEHH6GLaoWujuueCnw4fSfjP+pqfb962/us3vY+re/swjsjN7msDkfLyD7CgAcmUScgrNSw7u3+RkhgRJWXa9AbbrsHX6pxuy1JFQFWltzcXNLT0+nVq5fd8xYXF1NUVERRURFms5nLly+j0+nw9FTmE611mOVVcBmMJsujSAwKZnJYIDStC3+cvvVl6XXwQPPKp3OW5vUsrwuFlrtx+Hq6/oJqW+hbtkC/bk2Z4wwD+lkvEHWlqEaxqu0BGL9sMLuOWr7db/jtYwDmPJ9EoF9dPvruFesDJ9s06srzfeZSr3Zj64MpLfMPIn7ZIMY/ucT6EMyP17/Ox+tfZ2D3qQx6aBppZw+Vu6yyZJ47wcCZDZk7agstG97v1P+/Wqhxuy1JtQGWkpICXD//VVxcbFMHi8DAQL744guGDBliHebt7U14eDgnTpxwRqk2U2IvpTz9OsCsNZZHpJSnqIJx1zzY3PXnv8qipr0tceteiJtH5rnjBNasy6g+8wDwdPdm+LutCa3dmHdGWkLnX2vGM2lRDxaNP0Dz8E4sn3Kafm/VZXTf94hp9TjeXn60b9KD0fPb80D00/zl/pfw9vSlsOgSry18qNxluauw96q4mWYCLC0tjYYNK38gXFJSEoMHD2bw4MFOrE77atWAv90PizaXf7Fveb0Tr2kWanm4pRCOVsPbHzeDBx5u3tbDdmu3/5u8C1l88NJv+NewnHT9+9PLeGZGBJt2L6P73YOs05Z8+KW3Rw30egPeHr52LUuon2oDbNSoUYwaNcr6PiQkhA0bNlQ6X1RUVKXTCIvm9eC5LvDpNrh0pfLpS2obDk91VOfhOlE9pWbup0Fwc2vgANTyC6Z+UBNOnLHh7tROWpZQjmoD7EZeXl5069ZN6TKqneb14LXe8PUO2JtW+fQ1vS03yW2r7DXiQgihjm70Qln+3jC0M/y9j+Wc1p1Bpa9Nq+1nCawhMTC1r4SXcA03t9IPsQwPacHJMwdKPQ8sJ/8M6VmHSj0c0xaOXJZQjgSYsAryg0fbwtiHIL4fuOstr8l9LOfLohoo23tS3F5CajXkSPpvnMo+Rt6FbLq0fhL/GkFM/6wfR9J/53D6b/zj8/7U9q9HbJR9veEeaPuUw5YllCMfR6JcOp26Hgopbi9/7TIO/xq1GTE3iiemBXEk4zdmDVuPu5snr3zYmXEfdsHLowYznltnd69BT3dvhy1LKEcVD7QU6vTqMsu/8f2VrUPN7L2nnKM44oGWovpw5gMtHalaPtBSCCGEsJdmeiEKoUbNff3Y0v5eRdYrRFVVl+1WAkyIW+Dn5ubQQyJCuEJ12W7lEKIQQghNkgATQgihSRJgQgghNEkCTAghhCZJgAkhhNAkCTAhhBCaJAEmhBBCkyTAhBBCaJIEmBBCCE2SABNCCKFJEmBCCCE0SQJMCCGEJsnNfKsg32jkQEG+y9fb3NcPP7fq/SuTthVC2Er+YqvgQEF+tXgYnBpJ2wohbCWHEIUQQmiSBJgQQghNkgATQgihSRJgQgghNEkCTAghhCZJgAkhhNAkVQXYnj17iIuLw9/fn5o1a9K3b19Onz6Nn58f/fv3V7o8IYQQKqKa68ASExPp3bs34eHhTJ48GW9vb5YuXUrPnj0pKCigTZs2SpdYJWazmeKJk8BoxDBnNjr99e8MxqlvQnY2hnnvolPZRbQ5F8BktvxcbAKDqr7qWGi1bdVixaa32ZryDWlZf2A2m4kIacnTD06mfdMeSpcmhE1U8bGUlZVFv379iI6OZteuXUyYMIHRo0eTmJjIyZMnATQbYDqdDsOEcZhTUzEt/9I6vHjN95h/34Vh4gRVfcBmnYeEJHjjWzCaLK83voUth8BsVrq60rTWtmqz++hGetwzlLdHJPHe2O20CO/E5CW92ffnz0qXJoRNVBFgs2fPJicnhyVLluDt7W0d7u/vT3R0NKDdAAPQBdXGMOYFTJ9+jvnoMcxp6ZgSFqIfNhRdgzCly7PKyoe5P8Afp0sPP38Jvt4J3+9Rpq6KaKVt1WjGc2t5pMMwGtdrQ/2gSIb1jie8TnO27vtG6dKEsIkqAmzZsmXExMQQGRlZ5vjg4GBCQkJsWlZhYSHDhg3jzjvvxM/Pj8jISBYsWODIcqtEH9sFXecYjLPiKZ4Vj65VSwx9HlW6rFJW/w6Xi8rf09qw37KHpjZaaFstMJlMXCw8j5dHDaVLEcImigdYZmYmGRkZtGvX7qZxJpOJlJQUu/a+jEYjISEhrF+/nry8PFasWMH06dNZsWKFA6uuGsPokXDmLOb0DAzjX1a6nFLyL8G+9OvnvcqiA3455rKS7KLmttWK/2ycQcGlXHp1GK50KULYRPETBBcuXAAs5zNutGrVKs6ePWtXgNWoUYO33nrL+r5Nmzb06dOHrVu38uSTT1Y6f1BQEBcvXqxwGlPkXRA/0+aarPMlJll+KCzEfOQoug732DV/bNeu6A8fsXu9tghqeDd9/29zhdMUm4r592ffMeD+p51SA1TPtlWDyPrteXvYpnLHr972Af/ZOIM3B68mKKC+6woTDhHbNZbD6TuULsMhfHx8yMrKsmlaxffAwsLCMBgMbN5c+sMzNTWVMWPGALd2/quoqIgtW7bQunXrWynzlplPnsS0aDGGkSPQx/WheO48zHl5itZUUtHlgsonMpttm87F1N62avflpjksXDOBNwevJjqym9LlCGEzndmsfN+yoUOHsmTJEvr06UOvXr1IS0tj4cKFBAcHs3fvXg4ePEjTpk2rtOwRI0bw+++/8/PPP+Ph4eGQepNzc+x65IfZaMQ49hV0te/A7c2pmK9cwfjCi+jC6uH2+mSbl+PMR36YzTBzjeUcV0UbxLBYaFHPKSUA1bNt1SDvFOz44ubhS394nW+2zOWtIWuIatTF9YUJh2j/FPiHKl2F6ym+BwYwf/58hg8fTnJyMuPGjSM5OZmVK1cSGhqKj49PuZ07KvPKK6/wyy+/sHbtWoeFV1WYPv7Uck3Syy8CoPPwwO218Zh/3Y5pQ6JidZWk00GPVuWHl04HoQHQrK4rq6qcFtpWrT5Y9RJfbnqbif0/JSyoCefOZ3LufCYXLsneq9AGxc+BAfj6+pKQkEBCQkKp4fv27aNVq1bo9fbn7EsvvURiYiIbN26kdu3ajirVbqZ9+zF9+TWGqVPQ1QqwDtc1aoR+4NMUf/ARuqhW6OrUUazGa6IjIP8yrPrd0plDf/W0pMkM9QJgRFeowq/CabTUtmq0cus8AKZ9/Fip4d3b/Y1X+y9VoCIh7KOKACtLbm4u6enp9OrVy+55x44dy8aNG0lKSiIoKMgJ1dlO37IF+nVryhxnGNAPw4B+Lq6oYl2aQptw2H4MzpwHDzeICoO7Qq4HmlporW3VZsPbip89EOKWqDbAUlJSgOsdOIqLi23qmVJYWMiCBQvw9PSkYcOG1uExMTGsXbvWKbVWN/7e0L2l0lUIIUTFNBNgaWlppQKpPElJSaigX4oQQggnU22AjRo1ilGjRlnfh4SEsGHDhkrni4qKcmZZQgghVEK1AXYjLy8vunWTa1SEEEJYqKhPmRBCCGE7CTAhhBCaJAEmhBBCkyTAhBBCaJIEmBBCCE2SABNCCKFJqrgbvdbkG40cKMh3+Xqb+/rh56aZKx+qRNrWOYxX4EK20lUIZ6lRG9yUu1+5YiTAhBBCaJIcQhRCCKFJEmBCCCE0SQJMCCGEJkmACSGE0CQJMCGEEJokASaEEEKTJMCEEEJokgSYEEIITZIAE0IIoUkSYEIIITRJAkwIIYQmSYAJIYTQJAkwIYQQmiQBJoQQQpMkwIQQQmiSBJgQQghN+n/Jswtsp6uu4QAAAABJRU5ErkJggg==",
=======
      "image/png": "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",
>>>>>>> 7e68788a1c00eb3d758be6b4c0cf2100d316b353:final_commit.ipynb
      "text/plain": [
       "<Figure size 554.142x195.985 with 1 Axes>"
      ]
     },
     "execution_count": 20,
     "metadata": {},
     "output_type": "execute_result"
    }
   ],
   "source": [
    "from lib import utilities \n",
    "from lib.utilities import B, Toffoli_gate # Toffoli_gate is optimized for Jakarta topology\n",
    "# builds the permutation operator circuit\n",
    "B_qr=QuantumRegister(3, name=\"q_\")\n",
    "B_qc=QuantumCircuit(B_qr, name=\"B\")\n",
    "B_qc.x(B_qr[2])\n",
    "B_qc.cx(B_qr[1],B_qr[0])\n",
    "B_qc.cx(B_qr[2],B_qr[1])\n",
    "B_qc.cx(B_qr[1],B_qr[0])\n",
    "B_qc.x([B_qr[0],B_qr[1],B_qr[2]])\n",
    "B_qc.append(Toffoli_gate,[B_qr[0],B_qr[1],B_qr[2]])\n",
    "B_qc.x([B_qr[0],B_qr[1]])\n",
    "\n",
    "B_qc.draw(output=\"mpl\", style={\"figwidth\":6, \"fontsize\":15})"
   ]
  },
  {
   "cell_type": "code",
   "execution_count": 21,
   "metadata": {},
   "outputs": [
    {
     "data": {
      "image/png": "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",
      "text/plain": [
       "<Figure size 738.856x201.963 with 1 Axes>"
      ]
     },
     "execution_count": 21,
     "metadata": {},
     "output_type": "execute_result"
    }
   ],
   "source": [
    "Toffoli_gate.draw(output=\"mpl\", style={\"figwidth\":8, \"fontsize\":11})"
   ]
  },
  {
   "cell_type": "code",
   "execution_count": 22,
   "metadata": {},
   "outputs": [
    {
     "data": {
      "image/png": "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",
      "text/plain": [
       "<Figure size 1200.64x156.299 with 1 Axes>"
      ]
     },
     "execution_count": 22,
     "metadata": {},
     "output_type": "execute_result"
    }
   ],
   "source": [
    "# The matrix D is a block of B' T B\n",
    "# To avoid code redundancy, we defined the Trotter operation \n",
    "# in the external script utilities.py\n",
    "T = utilities.trotterized_matrix(TIME, N_STEPS)\n",
    "T_b = np.linalg.multi_dot([ B, T, B.transpose() ])\n",
    "# takes the 4x4 first block\n",
    "D = T_b[0:4, 0:4]\n",
    "\n",
    "from qiskit import transpile\n",
    "# transpiles the D operator into a circuit\n",
    "D_qc = QuantumCircuit(2, name=\"D\")\n",
    "D_qc.unitary(D,[0,1])    \n",
    "D_qc = transpile(D_qc, basis_gates=['cx','x','sx','rz']) # Jakarta basis gates\n",
    "\n",
    "D_qc.draw(output=\"mpl\", style={\"figwidth\":13, \"fontsize\":11})"
   ]
  },
  {
   "cell_type": "code",
   "execution_count": 23,
   "metadata": {},
   "outputs": [
    {
     "data": {
      "image/png": "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",
      "text/plain": [
       "<Figure size 461.785x340.327 with 1 Axes>"
      ]
     },
     "execution_count": 23,
     "metadata": {},
     "output_type": "execute_result"
    }
   ],
   "source": [
    "# defines the evolution circut for the HSD.\n",
    "qr_U_best_HSD = QuantumRegister(3, name=\"q_\")\n",
    "qc_U_best_HSD = QuantumCircuit(qr_U_best_HSD, name=\"D\")\n",
    "# appending the D gate and the B.dagger to the circuit\n",
    "qc_U_best_HSD.append(D_qc, [qr_U_best_HSD[0], qr_U_best_HSD[1]])\n",
    "qc_U_best_HSD.append(B_qc.inverse(), qr_U_best_HSD)\n",
    "# hilbert space decomposition evolution circuit\n",
    "qc_U_best_HSD.draw(output=\"mpl\", style={\"figwidth\":5, \"fontsize\":12})"
   ]
  },
  {
   "cell_type": "markdown",
   "metadata": {},
   "source": [
    "## Comparison between SSD and HSD\n",
    "* They both significantly reduce the complexity of the circuit, so we can simulate the XXX Heisenberg model with high fidelity scores.\n",
    "* The topology of the circuit is the same for every evolution time both for HSD and SSD.\n",
    "* Since the SSD decomposes the evolution with 4 CNOTs, while the HSD with 14 CNOTs (for Jakarta geometry), the fidelity score is higher for the SSD.\n",
    "* SSD has no solution if we inizialize the system in an superposition of states with different magnetization, while the HSD can be used for a generic initial state.\n",
    "\n",
    "Thus we choose the fidelity score of the *Single State Decomposition* as the challenge solution."
   ]
  },
  {
   "cell_type": "markdown",
   "metadata": {},
   "source": [
    "# 2) Mitigation\n",
    "\n",
    "The following noisy processes affect the performance of the circuit:\n",
    "* measurement noise (M)\n",
    "* gate noise (N)\n",
    "* state preparation noise \n",
    "\n",
    "we neglect the noise introduced by state mispreparation and single qubit gates, so we assume the following model (similar to \\[5\\]):\n",
    "\n",
    "$$ C = MN \\;\\;\\; ; \\;\\;\\;\\vec{p_{n}} = \\|U_{noisy}\\| \\vec{p_{0}} = C \\|U_{ideal}\\| \\vec{p_{0}}  = C \\vec{p_{i}} $$\n",
    "\n",
    "Where $\\vec{p}_n$ and $\\vec{p}_i$ are the noisy and ideal probability vectors, which we estimate from counts. C is a stochastic matrix that represents the circuit and measure noises.\n",
    "We use $ \\|U\\|$ to intend the probability matrix (or Unistochastic) of U $$\\|U\\|_{ij}=|U_{ij}|^{2}$$\n",
    "\n",
    "\n",
    "So, characterizing the Calibration Matrix C we can mitigate the raw results. In particular, because of the topology of the circuit is the same for every evolution time, we can use the Calibration matrix computed for a particular time $t_{0}$ to mitigate the results obtained at any time, and so build it once to mitigate multiple experiments. This is tested in the file '*time_evolution_plots.pdf*'\n",
    "$$C(t_{0})\\approx C(t)$$\n",
    "For this particular case we computed $C(\\pi)$, but for example you can compute the calibration matrix in $t=\\pi/3$ to mitigate the tomography result in $\\pi$ (or any different time).\n",
    "\n",
    "### References\n",
    "\n",
    "\\[5\\] *General error mitigation for quantum circuits* [arXiv:2011.10860](https://arxiv.org/abs/2011.10860)\n",
    "\n",
    "\n",
    "## 2.1) *Circuit Itself Calibration* (CIC)\n",
    "\n",
    "We can caracterize the matrix $ \\tilde{U} = C\\|U\\| $ just preparing all the $2^n$ computational basis states and evolve them with the circuit $U_{noisy}$ itself.\n",
    "$$ \\tilde{U}_{ij} =   (C\\|U\\|)_{ij} $$\n",
    "\n",
    "So, the *calibration matrix* is:\n",
    "$$ C = \\tilde{U} \\| U \\|^{-1}  = C  \\|U\\| \\|U\\|^{-1}  $$\n",
    "\n",
    "The value of the time for which the calibration matrix $C$ is computed must be chosen among the ones for which $\\|U\\|$ is not singular. For example at $t=\\pi$ it is not singular, while for $t=\\pi/2$ (with the SSD) it is. We analize the case $t=\\pi/3$ in *time_evolution_plots.pdf*.\n",
    "## Circuits:"
   ]
  },
  {
   "cell_type": "code",
   "execution_count": 24,
   "metadata": {},
   "outputs": [
    {
     "data": {
      "image/png": "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",
      "text/plain": [
       "<Figure size 646.499x330.252 with 1 Axes>"
      ]
     },
     "execution_count": 24,
     "metadata": {},
     "output_type": "execute_result"
    }
   ],
   "source": [
    "calib_circuits_CIC = []\n",
    "# build a list of all computational basis states.\n",
    "state_labels = ['000', '001', '010', '011', '100', '101', '110', '111']  \n",
    "for state in state_labels:\n",
    "    cr_cal_CIC = ClassicalRegister(3, name = \"c\")\n",
    "    qr_cal_CIC = QuantumRegister(3, name = \"q_\")\n",
    "    qc_cal_CIC = QuantumCircuit(qr_cal_CIC, cr_cal_CIC, name=f\"mcalcal_{state}\")\n",
    "    # first we prepare the initial state.\n",
    "    for qubit in [0,1,2]:\n",
    "        if state[::-1][qubit] == \"1\":\n",
    "            qc_cal_CIC.x(qr_cal_CIC[qubit])\n",
    "    # then we append the circuit. Here is used U_best_SSD but you can use any operator.\n",
    "    qc_cal_CIC.append(qc_U_best_SSD, qr_cal_CIC)\n",
    "    qc_cal_CIC.measure(qr_cal_CIC, cr_cal_CIC)\n",
    "    calib_circuits_CIC.append(qc_cal_CIC)\n",
    "# example: for i = 1 we should preper the state |001> (gate x on first qubit).\n",
    "calib_circuits_CIC[1].draw(output=\"mpl\", style={\"figwidth\":7, \"fontsize\":12})"
   ]
  },
  {
   "cell_type": "markdown",
   "metadata": {},
   "source": [
    "\n",
    "## 2.2) *Noisy Identity Calibration* (NIC)\n",
    "In order to evaluate $C$ without the use of the ideal matrix (that could be a problem for more qubits), for all computational base states we use the following scheme:\n",
    "* prepare the initial state in a fixed eigenvector of $U$: $U\\ket{\\lambda} = \\lambda \\ket{\\lambda}$.\n",
    "* apply U\n",
    "* apply a state preparation operator $O_{i, \\lambda}$ such that: $O_{i, \\lambda} \\ket{\\lambda} = \\ket{i}$, where $\\ket{i}$ is the i-th state of the computational basis.\n",
    "\n",
    "So, running the circuits:\n",
    "\n",
    "$$ C_{i,j} \\equiv |\\bra{j}O_{i, \\lambda}U_{noisy}\\ket{\\lambda}|^2 \\simeq |\\braket{j|i_{noisy}}|^2 $$\n",
    "\n",
    "we build the calibration matrix.\n",
    "\n",
    "For this specific case $\\ket{000},\\ket{111}$ are both eigenvector for SSD and only $\\ket{111}$ for HSD, thus the operator $O_{i, \\lambda}$ is made with single qubit gates (up to 3), so we neglect its noise.\n",
    "\n",
    "If we assume that the gate noise doesn't depend on time, we can use the same calibration matrix (obtained with 8 circuits), to mitigate all the results of a temporal evolution.\n",
    "\n",
    "Note that NIC doesn't need to calculate numerically $||U||^{-1}$, so it's less computationally expensive compare to CIC method.\n",
    "## Circuits:"
   ]
  },
  {
   "cell_type": "code",
   "execution_count": 25,
   "metadata": {},
   "outputs": [
    {
     "data": {
      "image/png": "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",
      "text/plain": [
       "<Figure size 646.499x330.252 with 1 Axes>"
      ]
     },
     "execution_count": 25,
     "metadata": {},
     "output_type": "execute_result"
    }
   ],
   "source": [
    "calib_circuits_NIC = []\n",
    "# build the calibration circuits with NIC technique\n",
    "for state in state_labels:\n",
    "    cr_cal_NIC = ClassicalRegister(3, name = \"c\")\n",
    "    qr_cal_NIC = QuantumRegister(3, name = \"q_\")\n",
    "    qc_cal_NIC = QuantumCircuit(qr_cal_NIC, cr_cal_NIC, name=f\"mcalcal_{state}\")\n",
    "    # The eigenvector of U_best is |000> so we prepare it.\n",
    "    # first we append the circuit (U_noisy). Here is used U_best_SSD but you can use any operator.\n",
    "    qc_cal_NIC.append(qc_U_best_SSD, qr_cal_NIC)\n",
    "    # than we apply O_i_lambda which gives |i> = 'state'. \n",
    "    for qubit in range(3):\n",
    "        if state[::-1][qubit] == \"1\":\n",
    "            qc_cal_NIC.x(qr_cal_NIC[qubit])\n",
    "    # measure all the qubits\n",
    "    qc_cal_NIC.measure(qr_cal_NIC, cr_cal_NIC)\n",
    "    calib_circuits_NIC.append(qc_cal_NIC)\n",
    "# example: for i = 7 we should get the final state |111> from |000> (gate x on all qubits).\n",
    "calib_circuits_NIC[7].draw(output=\"mpl\", style={\"figwidth\":7, \"fontsize\":12})"
   ]
  },
  {
   "cell_type": "markdown",
   "metadata": {},
   "source": [
    "## Comparison between CIC and NIC\n",
    "\n",
    "* both are stable for any evoluition time.\n",
    "* by testing them, we obteined on average slightly higher fidelity score with CIC.\n",
    "* NIC doesn't require the numerical computation of the probability matrix of the circuit.\n",
    "\n",
    "We choose for the fidelity score the CIC techniqe.\n",
    "\n",
    "## *Fast Tomography Circuits Calibration*\n",
    "\n",
    "Using NIC or CIC for each tomography base we should run $2^n$ circuit to calibrate it, so the total number of run would be $2^n \\cdot 3^n$ calibration circuits, that is computationally high-expensive.\n",
    "\n",
    "The *Fast Tomography Circuits Calibration* needs only $2^n$ calibration circuits.\n",
    "\n",
    "The idea is to compute just once the calibration matrix in the computational basis and for every tomography basis compute $$C_{H}=\\|H\\|C\\|H^{\\dagger}\\|$$ where H is the new basis matrix.\n",
    "\n",
    "Clearly, since the calibration matrix does not dipend on time in the computational basis, also $C_H$ has this properties.\n",
    "\n",
    "If for example we want to see the evolution at 50 differents values of time, with this procedure we don't need to measure the calibration matrix for all the times and then calculate the changes of bases, but we just need to do it for fixed time and then use the same calibration matrices for all the points.\n",
    "\n",
    "So, instead of $50*3^n$ operations we need only $3^n$ (number of tomgraphy basis)"
   ]
  },
  {
   "cell_type": "markdown",
   "metadata": {},
   "source": [
    "## Mitigation with Ancillas\n",
    "Since parity and total magnetization are conserved during time evolution, we tried to measure with ancillas those quantities and reject all measurements that does not respect those constrains.\n",
    "\n",
    "The circuits that we had to append to use ancillas were equally or even more deep than the time evolution circuit itself so we had no improvement, in terms of fidelity, in using them.  "
   ]
  },
  {
   "cell_type": "markdown",
   "metadata": {},
   "source": [
    "# 3) Results\n",
    "\n",
    "In the following both the NIC and CIC method are runned, using the single state decomposition. \n",
    "\n",
    "For the purposes of the challenge we choose the fidelity score obtained with the CIC technique and with the SSD decomposition.\n",
    "\n",
    "## 3.1) *Single State Decomposition* results"
   ]
  },
  {
   "cell_type": "code",
   "execution_count": 26,
   "metadata": {},
   "outputs": [
    {
     "data": {
      "image/png": "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",
      "text/plain": [
       "<Figure size 646.499x268.019 with 1 Axes>"
      ]
     },
     "execution_count": 26,
     "metadata": {},
     "output_type": "execute_result"
    }
   ],
   "source": [
    "###################################################################\n",
    "######################## Evolution tomography circuits preparation\n",
    "# building numerically the trotter step matrix, and the whole operator (trotter step)^n_steps.\n",
    "trotterized = utilities.trotterized_matrix(TIME, N_STEPS)\n",
    "# getting the parameters for the gates M1 and M2 for the SSD, solving the equations described in 1.1).\n",
    "theta_1_, theta_2_, phi_1_, phi_2_, omega_1_, omega_2_ = utilities.get_gates_parameters(trotterized, \n",
    "                                                                                        initial_state={\"110\": 1.0})\n",
    "# substitutes the computed parameters\n",
    "qc_U_best_SSD = qc_U_best_SSD.bind_parameters({\n",
    "    theta_1: theta_1_,\n",
    "    theta_2: theta_2_,\n",
    "    phi_1: phi_1_,\n",
    "    phi_2: phi_2_,\n",
    "    omega_1: omega_1_,\n",
    "    omega_2: omega_2_\n",
    "})\n",
    "# building the tomography circuits\n",
    "qr_SSD = QuantumRegister(3, name=\"q_\")\n",
    "qc_SSD = QuantumCircuit(qr_SSD, name=r\"$U_{best}$\")\n",
    "# prepare the initial state |110>\n",
    "qc_SSD.x([qr_SSD[1],qr_SSD[2]])\n",
    "# appends the SSD evolution circuit\n",
    "qc_SSD.append(qc_U_best_SSD, qr_SSD)\n",
    "from qiskit.ignis.verification.tomography import state_tomography_circuits\n",
    "# make the tomography circuits\n",
    "qcs_tomo_SSD = state_tomography_circuits(qc_SSD, qr_SSD)\n",
    "qcs_tomo_SSD[3].draw(output=\"mpl\", style={\"figwidth\":7, \"fontsize\":12})"
   ]
  },
  {
   "cell_type": "code",
   "execution_count": 27,
   "metadata": {},
   "outputs": [
    {
     "name": "stderr",
     "output_type": "stream",
     "text": [
      "ibmqfactory.load_account:WARNING:2022-04-14 12:46:12,671: Credentials are already in use. The existing account in the session will be replaced.\n"
     ]
    }
   ],
   "source": [
    "##################################################################\n",
    "########## building the calibration circuits for both NIC and CIC\n",
    "calibration_circuit_SSD, _ = utilities.get_evolution_circuit(CALIBRATION_TIME, N_STEPS, method=\"SSD\")\n",
    "calib_circuits_SSD_NIC = utilities.get_calibration_circuits(calibration_circuit_SSD, method=\"NIC\", eigenvector=\"000\")\n",
    "calib_circuits_SSD_CIC = utilities.get_calibration_circuits(calibration_circuit_SSD, method=\"CIC\")\n",
    "\n",
    "from qiskit import IBMQ, execute\n",
    "from qiskit.providers.aer import QasmSimulator\n",
    "\n",
    "IBMQ.load_account()\n",
    "provider = IBMQ.get_provider(hub='ibm-q-community',\n",
    "                            group='ibmquantumawards', \n",
    "                            project='open-science-22')\n",
    "backend_sim_noisy_jakarta = QasmSimulator.from_backend(provider.get_backend('ibmq_jakarta'))\n",
    "backend_real_jakarta = provider.get_backend('ibmq_jakarta')"
   ]
  },
  {
   "cell_type": "code",
   "execution_count": 28,
   "metadata": {},
   "outputs": [],
   "source": [
    "#################################################################\n",
    "########################################### execute all the jobs\n",
    "BACKEND = backend_sim_noisy_jakarta # for the real device: 'backend_real_jakarta'\n",
    "# define the execution parameters\n",
    "calibration_shots = 32000\n",
    "evolution_shots = 8192\n",
    "reps = 8\n",
    "jobs_tomo_SSD = []\n",
    "\n",
    "job_SSD_NIC=execute(calib_circuits_SSD_NIC, backend = BACKEND, shots=calibration_shots, initial_layout=[1,3,5])\n",
    "job_SSD_CIC=execute(calib_circuits_SSD_CIC, backend = BACKEND, shots=calibration_shots, initial_layout=[1,3,5])\n",
    "for rep in range(reps):\n",
    "    job = execute(qcs_tomo_SSD, BACKEND, shots=evolution_shots, initial_layout=[1,3,5]) # run the same job reps times\n",
    "    jobs_tomo_SSD.append(job)"
   ]
  },
  {
   "cell_type": "code",
   "execution_count": 13,
   "metadata": {},
   "outputs": [],
   "source": [
    "#################################################################\n",
    "#################################################### Mititgation \n",
    "from qiskit.utils.mitigation.fitters import CompleteMeasFitter\n",
    "import copy\n",
    "from qiskit.quantum_info import Operator\n",
    "# building the matrices\n",
    "meas_fitter_SSD_NIC = CompleteMeasFitter(job_SSD_NIC.result(), state_labels=state_labels)\n",
    "meas_fitter_SSD_CIC = CompleteMeasFitter(job_SSD_CIC.result(), state_labels=state_labels)\n",
    "\n",
    "# copy the measured probability matrices.\n",
    "U_tilde_SSD_NIC = meas_fitter_SSD_NIC.cal_matrix\n",
    "U_tilde_SSD_CIC = meas_fitter_SSD_CIC.cal_matrix\n",
    "# U_ideal is the unitary matrix of the circuit qc_U, we will use it for the CIC method\n",
    "U_ideal_SSD = Operator(calibration_circuit_SSD)\n",
    "# defining the tomography basis circuits\n",
    "qr_basi = QuantumRegister(3)\n",
    "qc_basi = QuantumCircuit(qr_basi)\n",
    "tomography_basis = state_tomography_circuits(qc_basi, qr_basi)\n",
    "# compute the probability matrix of U_ideal and its inverse\n",
    "U_ideal_SSD_abs = np.abs(U_ideal_SSD)**2\n",
    "U_ideal_SSD_abs_inv = np.linalg.inv(U_ideal_SSD_abs)\n",
    "# builds the calibration matrix in the computational basis for both CIC and NIC methods\n",
    "C_SSD_CIC = np.dot(U_tilde_SSD_CIC, U_ideal_SSD_abs_inv)\n",
    "C_SSD_NIC = U_tilde_SSD_NIC\n",
    "\n",
    "# fast tomography circuits calibration:\n",
    "# next are computed the calibration matrices in all the tomography basis,\n",
    "# and after are applyed to the raw result for both CIC and NIC.\n",
    "meas_fitters_SSD_NIC = []\n",
    "meas_fitters_SSD_CIC = []\n",
    "for i, basis in enumerate(tomography_basis):\n",
    "    basis.remove_final_measurements()\n",
    "    # building the unitary matrix of the basis and the inverse.\n",
<<<<<<< HEAD:main_submission.ipynb
    "    base_matrix_amplitudes = Operator(basis)\n",
    "    base_matrix_amplitudes_inverse = base_matrix_amplitudes.transpose().conjugate()\n",
=======
    "    base_matrix_amplitudes = utilities.matrix_from_circuit(basis)\n",
    "    base_matrix_amplitudes_inverse = base_matrix_amplitudes.conjugate().transpose()\n",
>>>>>>> 7e68788a1c00eb3d758be6b4c0cf2100d316b353:final_commit.ipynb
    "    # building the probability matrices.\n",
    "    base_matrix = np.abs(base_matrix_amplitudes)**2\n",
    "    base_matrix_inverse = np.abs(base_matrix_amplitudes_inverse)**2\n",
    "    # change the basis of the calibration matrices for NIC and CIC.\n",
    "    C_basis_CIC = np.linalg.multi_dot([base_matrix, C_SSD_CIC,  base_matrix_inverse])\n",
    "    C_basis_NIC = np.linalg.multi_dot([base_matrix, C_SSD_NIC,  base_matrix_inverse])\n",
    "    # changing the meas_fitter_SSD_NIC calibration matrix with the new calibration matrix. \n",
    "    meas_fitter_NIC_aus = copy.deepcopy(meas_fitter_SSD_NIC)\n",
    "    meas_fitter_NIC_aus._tens_fitt.cal_matrices[0]=C_basis_NIC\n",
    "    meas_fitters_SSD_NIC.append(meas_fitter_NIC_aus)\n",
    "    # changing the meas_fitter_SSD_CIC calibration matrix with the new calibration matrix. \n",
    "    meas_fitter_CIC_aus = copy.deepcopy(meas_fitter_SSD_CIC)\n",
    "    meas_fitter_CIC_aus._tens_fitt.cal_matrices[0]=C_basis_CIC\n",
    "    meas_fitters_SSD_CIC.append(meas_fitter_CIC_aus)\n",
    "\n",
    "################################### mitigates the raw results\n",
    "raw_result_SSD = [] #jobs_tomo_SSD[rep].result()\n",
    "NIC_result_SSD = [] #copy.deepcopy(raw_result_SSD)\n",
    "CIC_result_SSD = [] #copy.deepcopy(raw_result_SSD)\n",
    "for rep in range(reps):\n",
    "    raw_result_SSD.append(jobs_tomo_SSD[rep].result())\n",
    "    NIC_result_SSD.append(copy.deepcopy(raw_result_SSD[rep]))\n",
    "    CIC_result_SSD.append(copy.deepcopy(raw_result_SSD[rep]))\n",
    "    for i in range(27):\n",
    "        # computing the new counts for both the mitigation techniques\n",
    "        old_counts=raw_result_SSD[rep].get_counts(i)\n",
    "        new_counts_NIC = meas_fitters_SSD_NIC[i].filter.apply(old_counts, method=\"least_squares\")\n",
    "        new_counts_CIC = meas_fitters_SSD_CIC[i].filter.apply(old_counts, method=\"least_squares\")\n",
    "        NIC_result_SSD[rep].results[i].data.counts = new_counts_NIC\n",
    "        CIC_result_SSD[rep].results[i].data.counts = new_counts_CIC\n"
   ]
  },
  {
   "cell_type": "code",
<<<<<<< HEAD:main_submission.ipynb
   "execution_count": 14,
=======
   "execution_count": 29,
>>>>>>> 7e68788a1c00eb3d758be6b4c0cf2100d316b353:final_commit.ipynb
   "metadata": {},
   "outputs": [],
   "source": [
    "# defining a function for to compute the fidelity\n",
    "from qiskit.ignis.verification.tomography import StateTomographyFitter\n",
    "from qiskit.quantum_info import state_fidelity\n",
    "from qiskit.opflow import One, Zero\n",
    "\n",
    "def fidelity_count(result, qcs, target_state):\n",
    "    '''\n",
    "    returns the fidelity, given the job result, the tomography cicuits, and the targhet state.\n",
    "    '''\n",
    "    tomo_ising = StateTomographyFitter(result, qcs)\n",
    "    rho_fit_ising = tomo_ising.fit(method=\"lstsq\")\n",
    "    fid=state_fidelity(rho_fit_ising, target_state)\n",
    "    return fid\n"
   ]
  },
  {
   "cell_type": "code",
<<<<<<< HEAD:main_submission.ipynb
   "execution_count": 15,
=======
   "execution_count": 30,
>>>>>>> 7e68788a1c00eb3d758be6b4c0cf2100d316b353:final_commit.ipynb
   "metadata": {},
   "outputs": [
    {
     "name": "stdout",
     "output_type": "stream",
     "text": [
      "decomposition method: Single State Decomposition\n",
      "evolution time = 1.000 pi \n",
      "calibration time = 1.000 pi\n",
      "number of trotter steps = 99\n",
      "number of reps = 8\n",
      "\n",
<<<<<<< HEAD:main_submission.ipynb
      "fidelity of raw results: 0.78264 +- 0.00098 \n",
      "fidelity with NIC method: 0.99797 +- 0.00137 \n",
      "fidelity with CIC method: 0.99978 +- 0.00010   -->  this is the fidelity score for the challenge.\n"
=======
      "fidelity of raw results: 0.8533941374478299 \n",
      "fidelity with NIC method: 0.9995601814732094\n",
      "fidelity with CIC method: 0.9977556265957723   this is the fidelity score for the challenge.\n"
>>>>>>> 7e68788a1c00eb3d758be6b4c0cf2100d316b353:final_commit.ipynb
     ]
    }
   ],
   "source": [
    "# defining the target_state = |110> ; qubits: |5,3,1>\n",
    "target_state = (One^One^Zero).to_matrix()\n",
    "# compute the fidelity for each repetition\n",
    "fids_SSD = {\"raw\": np.zeros(reps), \"NIC\": np.zeros(reps), \"CIC\": np.zeros(reps)}\n",
    "for rep in range(reps):\n",
    "    fids_SSD[\"raw\"][rep] = fidelity_count(raw_result_SSD[rep], qcs_tomo_SSD, target_state)\n",
    "    fids_SSD[\"NIC\"][rep] = fidelity_count(NIC_result_SSD[rep], qcs_tomo_SSD, target_state)\n",
    "    fids_SSD[\"CIC\"][rep] = fidelity_count(CIC_result_SSD[rep], qcs_tomo_SSD, target_state)\n",
    "# computes the mean and the standard deviation\n",
    "fid_means = {\"raw\": np.mean(fids_SSD[\"raw\"]), \"NIC\": np.mean(fids_SSD[\"NIC\"]), \"CIC\": np.mean(fids_SSD[\"CIC\"])}\n",
    "fid_std = {\"raw\": np.std(fids_SSD[\"raw\"]), \"NIC\": np.std(fids_SSD[\"NIC\"]), \"CIC\": np.std(fids_SSD[\"CIC\"])}\n",
    "# print the results\n",
    "text1 = \"decomposition method: Single State Decomposition\\n\"\n",
    "text1 = text1 + \"evolution time = %.3f pi \\n\"%(TIME/np.pi)\n",
    "text1 = text1 + \"calibration time = %.3f pi\\n\"%(CALIBRATION_TIME/np.pi)\n",
    "text1 = text1 + \"number of trotter steps = %d\\n\"%(N_STEPS)\n",
    "text1 = text1 + \"number of reps = %d\\n\"%(reps)\n",
    "# fidelity\n",
    "text2 = \"fidelity of raw results: %.5f +- %.5f \\n\"%(fid_means[\"raw\"],fid_std[\"raw\"])\n",
    "text2 = text2 + \"fidelity with NIC method: %.5f +- %.5f \\n\" %(fid_means[\"NIC\"],fid_std[\"NIC\"])\n",
    "text2 = text2 + \"fidelity with CIC method: %.5f +- %.5f \"%(fid_means[\"CIC\"],fid_std[\"CIC\"])\n",
    "text2 = text2 + \"  -->  this is the fidelity score for the challenge.\"\n",
    "print(text1)\n",
    "print(text2)"
   ]
  },
  {
   "cell_type": "markdown",
   "metadata": {},
   "source": [
    "## 3.2) *Hilbert Space Decomposition* results"
   ]
  },
  {
   "cell_type": "code",
<<<<<<< HEAD:main_submission.ipynb
   "execution_count": 16,
=======
   "execution_count": 31,
>>>>>>> 7e68788a1c00eb3d758be6b4c0cf2100d316b353:final_commit.ipynb
   "metadata": {},
   "outputs": [],
   "source": [
    "######################################################################\n",
    "## build the calibration circuits for the Hilbert Space Decomposition\n",
    "calibration_circuit_HSD, _ = utilities.get_evolution_circuit(CALIBRATION_TIME, N_STEPS, method=\"HSD\")\n",
    "calib_circuits_HSD_NIC = utilities.get_calibration_circuits(calibration_circuit_HSD, method=\"NIC\", eigenvector=\"111\")\n",
    "calib_circuits_HSD_CIC = utilities.get_calibration_circuits(calibration_circuit_HSD, method=\"CIC\")\n",
    "# build the tomography circuits for the hilbert space decomposition.\n",
    "qr_HSD = QuantumRegister(3, name=\"q_\")\n",
    "qc_HSD = QuantumCircuit(qr_HSD, name=\"HSD\")\n",
    "qc_HSD.x([qr_HSD[1], qr_HSD[2]]) # preparing the initial state.\n",
    "qc_HSD.append(qc_U_best_HSD, qr_HSD)\n",
    "# built the tomograpfhy circuits.\n",
    "qcs_tomo_HSD = state_tomography_circuits(qc_HSD, qr_HSD)\n",
    "\n",
    "######################################################################\n",
    "###################################################### execute all\n",
    "# define the execution parameters\n",
    "calibration_shots = 32000\n",
    "evolution_shots = 8192\n",
    "reps = 8\n",
    "jobs_tomo_HSD = []\n",
    "# we execute once the calibration circuits to mitigate all the reps\n",
    "job_HSD_NIC=execute(calib_circuits_HSD_NIC, backend = BACKEND, shots=calibration_shots, initial_layout=[1,3,5])\n",
    "job_HSD_CIC=execute(calib_circuits_HSD_CIC, backend = BACKEND, shots=calibration_shots, initial_layout=[1,3,5])\n",
    "for rep in range(reps):\n",
    "    job = execute(qcs_tomo_HSD, BACKEND, shots=evolution_shots, initial_layout=[1,3,5]) # run the same job reps times\n",
    "    jobs_tomo_HSD.append(job)\n",
    "\n",
    "########################################################################\n",
    "####################################################### Mitigation\n",
    "# compute the U_ideal unitary matrix of the circuit.\n",
    "U_ideal_HSD = Operator(calibration_circuit_HSD)\n",
    "# fast_tomography_calibration_MeasFitters returns a list of 27 CompleteMeasFitter objects, one for each tomo basis.\n",
    "meas_fitters_HSD_NIC = utilities.fast_tomography_calibration_MeasFitters(job_HSD_NIC.result(), method=\"NIC\")\n",
    "meas_fitters_HSD_CIC = utilities.fast_tomography_calibration_MeasFitters(job_HSD_CIC.result(), method=\"CIC\", U_ideal=U_ideal_HSD)\n",
    "# compute the mitigated results for all the reps\n",
    "raw_result_HSD = []\n",
    "NIC_result_HSD = []\n",
    "CIC_result_HSD = []\n",
    "for rep in range(reps):\n",
    "    raw_result_HSD.append(jobs_tomo_HSD[rep].result())\n",
    "    NIC_result_HSD.append(copy.deepcopy(raw_result_HSD[rep]))\n",
    "    CIC_result_HSD.append(copy.deepcopy(raw_result_HSD[rep]))\n",
    "    for i in range(27):\n",
    "        # apply the new calibraiton matrices (NIC and CIC)\n",
    "        new_counts_NIC_HSD = meas_fitters_HSD_NIC[i].filter.apply(raw_result_HSD[rep].get_counts(i), method=\"least_squares\")\n",
    "        new_counts_CIC_HSD = meas_fitters_HSD_CIC[i].filter.apply(raw_result_HSD[rep].get_counts(i), method=\"least_squares\")\n",
    "        NIC_result_HSD[rep].results[i].data.counts = new_counts_NIC_HSD\n",
    "        CIC_result_HSD[rep].results[i].data.counts = new_counts_CIC_HSD"
   ]
  },
  {
   "cell_type": "code",
<<<<<<< HEAD:main_submission.ipynb
   "execution_count": 17,
=======
   "execution_count": 32,
>>>>>>> 7e68788a1c00eb3d758be6b4c0cf2100d316b353:final_commit.ipynb
   "metadata": {},
   "outputs": [
    {
     "name": "stdout",
     "output_type": "stream",
     "text": [
      "decomposition method: Hilbert Space Decomposition\n",
      "evolution time = 1.000 pi \n",
      "calibration time = 1.000 pi\n",
      "number of trotter steps = 99\n",
      "number of reps = 8\n",
      "\n",
<<<<<<< HEAD:main_submission.ipynb
      "fidelity of raw results: 0.74887 +- 0.00159 \n",
      "fidelity with NIC method: 0.97014 +- 0.00216 \n",
      "fidelity with CIC method: 0.99415 +- 0.00568 \n"
=======
      "fidelity of raw results: 0.8167155291799063 \n",
      "fidelity with NIC method: 0.9699492752062923\n",
      "fidelity with CIC method: 0.9998100917346953\n"
>>>>>>> 7e68788a1c00eb3d758be6b4c0cf2100d316b353:final_commit.ipynb
     ]
    }
   ],
   "source": [
    "# defining the target_state = |110> ; qubits: |5,3,1>\n",
    "target_state = (One^One^Zero).to_matrix()\n",
    "# compute the fidelity for each repetition\n",
    "fids_HSD = {\"raw\": np.zeros(reps), \"NIC\": np.zeros(reps), \"CIC\": np.zeros(reps)}\n",
    "for rep in range(reps):\n",
    "    fids_HSD[\"raw\"][rep] = fidelity_count(raw_result_HSD[rep], qcs_tomo_HSD, target_state)\n",
    "    fids_HSD[\"NIC\"][rep] = fidelity_count(NIC_result_HSD[rep], qcs_tomo_HSD, target_state)\n",
    "    fids_HSD[\"CIC\"][rep] = fidelity_count(CIC_result_HSD[rep], qcs_tomo_HSD, target_state)\n",
    "# computes the mean and the standard deviation\n",
    "fid_means = {\"raw\": np.mean(fids_HSD[\"raw\"]), \"NIC\": np.mean(fids_HSD[\"NIC\"]), \"CIC\": np.mean(fids_HSD[\"CIC\"])}\n",
    "fid_std = {\"raw\": np.std(fids_HSD[\"raw\"]), \"NIC\": np.std(fids_HSD[\"NIC\"]), \"CIC\": np.std(fids_HSD[\"CIC\"])}\n",
    "# print the results\n",
    "text1 = \"decomposition method: Hilbert Space Decomposition\\n\"\n",
    "text1 = text1 + \"evolution time = %.3f pi \\n\"%(TIME/np.pi)\n",
    "text1 = text1 + \"calibration time = %.3f pi\\n\"%(CALIBRATION_TIME/np.pi)\n",
    "text1 = text1 + \"number of trotter steps = %d\\n\"%(N_STEPS)\n",
    "text1 = text1 + \"number of reps = %d\\n\"%(reps)\n",
    "# fidelities\n",
    "text2 = \"fidelity of raw results: %.5f +- %.5f \\n\"%(fid_means[\"raw\"],fid_std[\"raw\"])\n",
    "text2 = text2 + \"fidelity with NIC method: %.5f +- %.5f \\n\" %(fid_means[\"NIC\"],fid_std[\"NIC\"])\n",
    "text2 = text2 + \"fidelity with CIC method: %.5f +- %.5f \"%(fid_means[\"CIC\"],fid_std[\"CIC\"])\n",
    "print(text1)\n",
    "print(text2)"
   ]
  },
  {
   "cell_type": "markdown",
   "metadata": {},
   "source": [
    "# Conclusions\n",
    "\n",
    "We would like to briefly highlight the advantages of our approach to the problem:\n",
    "- Decompositions and ancillas\n",
    "\n",
    "    - ancillas have not been used (savings in terms of number of qubits), reducing length of circuits.\n",
    "    - HSD works for every input state of the computational basis.\n",
    "    - both HSD and SSD work for every time (not only $\\pi$).\n",
    "    - our algorithm keeps the fidelity error within the third digit. \n",
    "    \n",
    "- Calibrations\n",
    "\n",
    "    - both NIC and CIC are time independent: the calibration matrix computed in $t_1$ can be used to mitigate the results obtained in $t_2$.\n",
    "    - NIC only needs a $U$ eigenstate, not $U$ entirely.\n",
    "    - the noise can be inferred in every basis once it is computed in one."
   ]
  }
 ],
 "metadata": {
  "interpreter": {
   "hash": "aee8b7b246df8f9039afb4144a1f6fd8d2ca17a180786b69acc140d282b71a49"
  },
  "kernelspec": {
   "display_name": "Python 3.10.2 64-bit",
   "language": "python",
   "name": "python3"
  },
  "language_info": {
   "codemirror_mode": {
    "name": "ipython",
    "version": 3
   },
   "file_extension": ".py",
   "mimetype": "text/x-python",
   "name": "python",
   "nbconvert_exporter": "python",
   "pygments_lexer": "ipython3",
   "version": "3.9.7"
  },
  "orig_nbformat": 4
 },
 "nbformat": 4,
 "nbformat_minor": 2
}
